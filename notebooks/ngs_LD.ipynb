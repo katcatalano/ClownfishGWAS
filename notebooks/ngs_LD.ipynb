{
 "cells": [
  {
   "cell_type": "markdown",
   "id": "398933e4",
   "metadata": {},
   "source": [
    "__In ngsLD conda env__"
   ]
  },
  {
   "cell_type": "code",
   "execution_count": null,
   "id": "aa0485b0",
   "metadata": {},
   "outputs": [],
   "source": [
    "conda create --name ngsld"
   ]
  },
  {
   "cell_type": "markdown",
   "id": "a1716b52",
   "metadata": {},
   "source": [
    "__follow install instructions https://github.com/fgvieira/ngsLD__"
   ]
  },
  {
   "cell_type": "markdown",
   "id": "8d5422bd",
   "metadata": {},
   "source": [
    "__unzip the GL file so ngsld can read it__"
   ]
  },
  {
   "cell_type": "code",
   "execution_count": 20,
   "id": "d09ed416",
   "metadata": {},
   "outputs": [
    {
     "name": "stdout",
     "output_type": "stream",
     "text": [
      "/data/katrinac/APPC_sequencing/DNA/trimmed_reads/mapping/ensembl/genotypes/angsd\n"
     ]
    }
   ],
   "source": [
    "%cd /data/katrinac/APPC_sequencing/DNA/trimmed_reads/mapping/ensembl/genotypes/angsd/"
   ]
  },
  {
   "cell_type": "markdown",
   "id": "f671dfad",
   "metadata": {},
   "source": [
    "__check number of positions- should be the same__"
   ]
  },
  {
   "cell_type": "code",
   "execution_count": 21,
   "id": "d84507de",
   "metadata": {},
   "outputs": [
    {
     "name": "stdout",
     "output_type": "stream",
     "text": [
      "6295268\r\n"
     ]
    }
   ],
   "source": [
    "!zcat ensembl_appc_angsd_probs_doGeno8.beagle.gz | wc -l\n",
    "#!cat appc_angsd_pos.txt | wc -l"
   ]
  },
  {
   "cell_type": "code",
   "execution_count": 23,
   "id": "7b7c2cc7",
   "metadata": {},
   "outputs": [
    {
     "name": "stdout",
     "output_type": "stream",
     "text": [
      "Chromo\tPosition\tMajor\tMinor\thweFreq\tFreq\tF\tLRT\tp-value\r\n",
      "1\t164\tA\tG\t0.143948\t0.143978\t-0.012379\t4.032974e-03\t9.493638e-01\r\n",
      "1\t479\tT\tA\t0.098266\t0.099586\t-0.109246\t3.098237e-01\t5.777884e-01\r\n",
      "1\t480\tT\tG\t0.167168\t0.176823\t-0.214118\t1.518999e+00\t2.177710e-01\r\n",
      "1\t787\tC\tT\t0.411355\t0.409284\t-0.317570\t7.952533e-01\t3.725164e-01\r\n",
      "1\t1492\tT\tG\t0.121845\t0.124147\t-0.139659\t4.655339e-01\t4.950490e-01\r\n",
      "1\t2973\tC\tT\t0.096377\t0.099344\t-0.109185\t3.812372e-01\t5.369418e-01\r\n",
      "1\t3230\tC\tT\t0.342674\t0.343924\t0.172602\t1.753179e-01\t6.754282e-01\r\n",
      "1\t3234\tA\tC\t0.360040\t0.360002\t0.240257\t3.664459e-01\t5.449480e-01\r\n",
      "1\t3335\tG\tA\t0.081740\t0.081886\t-0.085864\t1.611159e-01\t6.881312e-01\r\n",
      "\r\n",
      "gzip: stdout: Broken pipe\r\n"
     ]
    }
   ],
   "source": [
    "!zcat ensembl_appc_angsd_probs_doGeno8.hwe.gz | head"
   ]
  },
  {
   "cell_type": "code",
   "execution_count": 28,
   "id": "9bf81658",
   "metadata": {},
   "outputs": [
    {
     "name": "stdout",
     "output_type": "stream",
     "text": [
      "/data/katrinac/APPC_sequencing/DNA/trimmed_reads/mapping/ensembl/genotypes/angsd\n"
     ]
    }
   ],
   "source": [
    "%cd /data/katrinac/APPC_sequencing/DNA/trimmed_reads/mapping/ensembl/genotypes/angsd"
   ]
  },
  {
   "cell_type": "code",
   "execution_count": 41,
   "id": "e5107820",
   "metadata": {},
   "outputs": [],
   "source": [
    "#make a positions file for ngsld\n",
    "!zcat ensembl_appc_angsd_probs_doGeno8.hwe.gz  | awk '{print $1\"\\t\"$2}' > ngsld/ensembl_appc_angsd_probs_doGeno8_forngsLD_pos.txt #space separated"
   ]
  },
  {
   "cell_type": "code",
   "execution_count": 42,
   "id": "5f022076",
   "metadata": {},
   "outputs": [
    {
     "name": "stdout",
     "output_type": "stream",
     "text": [
      "Chromo\tPosition\r\n",
      "1\t164\r\n",
      "1\t479\r\n",
      "1\t480\r\n",
      "1\t787\r\n",
      "1\t1492\r\n",
      "1\t2973\r\n",
      "1\t3230\r\n",
      "1\t3234\r\n",
      "1\t3335\r\n"
     ]
    }
   ],
   "source": [
    "!head ngsld/ensembl_appc_angsd_probs_doGeno8_forngsLD_pos.txt "
   ]
  },
  {
   "cell_type": "code",
   "execution_count": null,
   "id": "7d326e4b",
   "metadata": {},
   "outputs": [],
   "source": [
    "!head /data/katrinac/APPC_sequencing/DNA/trimmed_reads/mapping/ensembl/genotypes/angsd/"
   ]
  },
  {
   "cell_type": "code",
   "execution_count": null,
   "id": "cbcbf512",
   "metadata": {},
   "outputs": [],
   "source": [
    "#this worked! \n",
    "nohup /local/home/katrinac/ngsLD/ngsLD --geno /data/katrinac/APPC_sequencing/DNA/trimmed_reads/mapping/ensembl/genotypes/angsd/ensembl_appc_angsd_probs_doGeno8.beagle.gz --probs --n_ind 159 --n_threads 40 --n_sites 6295267 --posH /data/katrinac/APPC_sequencing/DNA/trimmed_reads/mapping/ensembl/genotypes/angsd/ngsld/ensembl_appc_angsd_probs_doGeno8_forngsLD_pos.txt --outH /data/katrinac/APPC_sequencing/DNA/trimmed_reads/mapping/ensembl/genotypes/angsd/ngsld/ensembl_appc_angsd_probs_doGeno8_ngsLD.tsv > nohup_ngsld.out &"
   ]
  },
  {
   "cell_type": "code",
   "execution_count": null,
   "id": "a1b0f5f9",
   "metadata": {},
   "outputs": [],
   "source": [
    "nohup perl /local/home/katrinac/ngsLD/scripts/prune_graph.pl --in_file /data/katrinac/APPC_sequencing/DNA/trimmed_reads/mapping/genotypes/angsd/ngsld/appc_ngsLD.tsv --max_kb_dist 5 --min_weight 0.5 --out /data/katrinac/APPC_sequencing/DNA/trimmed_reads/mapping/genotypes/angsd/ngsld/appc_unlinked.id &"
   ]
  },
  {
   "cell_type": "markdown",
   "id": "b26e6b90",
   "metadata": {},
   "source": [
    "__the pruning perl script takes a long time and is not possible to multi thread so split file by chromosome and start again__"
   ]
  },
  {
   "cell_type": "code",
   "execution_count": 10,
   "id": "64000139",
   "metadata": {},
   "outputs": [
    {
     "name": "stdout",
     "output_type": "stream",
     "text": [
      "PYAM01000117.1:3846\tPYAM01000117.1:10455\t6609\t0.009559\t0.067509\t0.481028\t0.190643\r\n",
      "PYAM01000117.1:4443\tPYAM01000117.1:22287\t17844\t0.000683\t-0.039773\t0.576455\t0.049491\r\n",
      "PYAM01000117.1:3854\tPYAM01000117.1:22287\t18433\t0.008007\t-0.047751\t0.957737\t0.079045\r\n",
      "PYAM01000117.1:3882\tPYAM01000117.1:22287\t18405\t0.022576\t-0.023291\t0.753534\t0.026008\r\n",
      "PYAM01000117.1:2580\tPYAM01000117.1:10445\t7865\t0.021801\t-0.008679\t0.976184\t0.011390\r\n",
      "PYAM01000117.1:3846\tPYAM01000117.1:20475\t16629\t0.000472\t0.020349\t0.185111\t0.009956\r\n",
      "PYAM01000117.1:2580\tPYAM01000117.1:10455\t7875\t0.016249\t-0.006922\t0.978035\t0.008570\r\n",
      "PYAM01000117.1:3846\tPYAM01000117.1:22287\t18441\t0.005994\t-0.021501\t0.669912\t0.021539\r\n",
      "PYAM01000117.1:2580\tPYAM01000117.1:20475\t17895\t0.027384\t-0.015047\t0.764707\t0.022975\r\n",
      "PYAM01000117.1:2580\tPYAM01000117.1:22287\t19707\t0.013888\t0.023868\t0.722273\t0.124846\r\n"
     ]
    }
   ],
   "source": [
    "!tail /data/katrinac/APPC_sequencing/DNA/trimmed_reads/mapping/genotypes/angsd/ngsld/appc_ngsLD.tsv"
   ]
  },
  {
   "cell_type": "code",
   "execution_count": null,
   "id": "f35f998b",
   "metadata": {},
   "outputs": [],
   "source": [
    "!for i in $(cat /data/katrinac/APPC_sequencing/DNA/trimmed_reads/mapping/genotypes/angsd/ngsld/chromosomes.txt ); do echo -e \"#site1\\tsite2\\tdist\\tr^2_ExpG\\tD\\tD'\\tr^2\" > /data/katrinac/APPC_sequencing/DNA/trimmed_reads/mapping/genotypes/angsd/ngsld/$i\\_appc_ngsLD.tsv; grep \"^$i\" /data/katrinac/APPC_sequencing/DNA/trimmed_reads/mapping/genotypes/angsd/ngsld/appc_ngsLD.tsv >> /data/katrinac/APPC_sequencing/DNA/trimmed_reads/mapping/genotypes/angsd/ngsld/$i\\_appc_ngsLD.tsv; done"
   ]
  },
  {
   "cell_type": "code",
   "execution_count": 4,
   "id": "26910918",
   "metadata": {
    "scrolled": false
   },
   "outputs": [
    {
     "name": "stdout",
     "output_type": "stream",
     "text": [
      "CM009708.1:46112089\tCM009708.1:46120193\t8104\t0.003318\t-0.002897\t0.035980\t0.000211\r\n",
      "CM009708.1:46113698\tCM009708.1:46120831\t7133\t0.048352\t0.118871\t0.816603\t0.659812\r\n",
      "CM009708.1:46113690\tCM009708.1:46120831\t7141\t0.046452\t0.023286\t0.161586\t0.020733\r\n",
      "CM009708.1:46113170\tCM009708.1:46120624\t7454\t0.052747\t0.168941\t0.944594\t0.711380\r\n",
      "CM009708.1:46112658\tCM009708.1:46120624\t7966\t0.000848\t-0.032276\t0.530950\t0.030219\r\n",
      "CM009708.1:46112687\tCM009708.1:46120831\t8144\t0.000022\t0.023595\t0.191169\t0.018340\r\n",
      "CM009708.1:46112089\tCM009708.1:46120624\t8535\t0.008041\t0.026694\t0.163443\t0.021530\r\n",
      "CM009708.1:46112658\tCM009708.1:46120831\t8173\t0.000467\t0.017478\t0.128476\t0.011677\r\n",
      "CM009708.1:46113170\tCM009708.1:46120831\t7661\t0.026460\t-0.061032\t0.983985\t0.107728\r\n",
      "CM009708.1:46112089\tCM009708.1:46120831\t8742\t0.046525\t-0.040850\t0.959943\t0.062370\r\n"
     ]
    }
   ],
   "source": [
    "!tail /data/katrinac/APPC_sequencing/DNA/trimmed_reads/mapping/genotypes/angsd/ngsld/CM009708.1_appc_ngsLD.tsv"
   ]
  },
  {
   "cell_type": "code",
   "execution_count": 19,
   "id": "cf467065",
   "metadata": {},
   "outputs": [
    {
     "name": "stdout",
     "output_type": "stream",
     "text": [
      "PYAM01000233.1:28733\r\n",
      "PYAM01000233.1:28746\r\n",
      "PYAM01000233.1:28880\r\n",
      "PYAM01000233.1:29173\r\n",
      "PYAM01000233.1:29516\r\n",
      "PYAM01000233.1:29874\r\n",
      "PYAM01000233.1:30007\r\n",
      "PYAM01000233.1:30041\r\n",
      "PYAM01000233.1:30106\r\n",
      "PYAM01000233.1:30275"
     ]
    }
   ],
   "source": [
    "!tail /data/katrinac/APPC_sequencing/DNA/trimmed_reads/mapping/genotypes/angsd/ngsld/appc_unlinked.id"
   ]
  },
  {
   "cell_type": "code",
   "execution_count": 18,
   "id": "2d2cab92",
   "metadata": {},
   "outputs": [
    {
     "name": "stdout",
     "output_type": "stream",
     "text": [
      "^C\r\n"
     ]
    }
   ],
   "source": [
    "!for i in $(cat /data/katrinac/APPC_sequencing/DNA/trimmed_reads/mapping/genotypes/angsd/ngsld/PYAM.txt); do grep \"^$i\" /data/katrinac/APPC_sequencing/DNA/trimmed_reads/mapping/genotypes/angsd/ngsld/appc_ngsLD.tsv >> /data/katrinac/APPC_sequencing/DNA/trimmed_reads/mapping/genotypes/angsd/ngsld/$i\\_appc_ngsLD.tsv; done"
   ]
  },
  {
   "cell_type": "code",
   "execution_count": null,
   "id": "fecc0e8c",
   "metadata": {},
   "outputs": [],
   "source": [
    "!grep \"^PYAM\" /data/katrinac/APPC_sequencing/DNA/trimmed_reads/mapping/genotypes/angsd/ngsld/appc_ngsLD.tsv >> /data/katrinac/APPC_sequencing/DNA/trimmed_reads/mapping/genotypes/angsd/ngsld/PYAM_test.tsv"
   ]
  },
  {
   "cell_type": "code",
   "execution_count": null,
   "id": "814dfe2a",
   "metadata": {},
   "outputs": [],
   "source": [
    "#echo -e \"#site1\\tsite2\\tdist\\tr^2_ExpG\\tD\\tD'\\tr^2\" > /data/katrinac/APPC_sequencing/DNA/trimmed_reads/mapping/genotypes/angsd/ngsld/test_appc_ngsLD.tsv; \n",
    "grep \"^PYAM\" /data/katrinac/APPC_sequencing/DNA/trimmed_reads/mapping/genotypes/angsd/ngsld/appc_ngsLD.tsv >> /data/katrinac/APPC_sequencing/DNA/trimmed_reads/mapping/genotypes/angsd/ngsld/test_appc_ngsLD.tsv"
   ]
  },
  {
   "cell_type": "markdown",
   "id": "ffea9fba",
   "metadata": {},
   "source": [
    "__fit LD decay model__"
   ]
  },
  {
   "cell_type": "code",
   "execution_count": 37,
   "id": "d1d8cc7a",
   "metadata": {},
   "outputs": [
    {
     "name": "stderr",
     "output_type": "stream",
     "text": [
      "UsageError: Line magic function `%` not found.\n"
     ]
    }
   ],
   "source": [
    "% Rscript --vanilla --slave scripts/fit_LDdecay.R --ld_files /data/katrinac/APPC_sequencing/DNA/trimmed_reads/mapping/genotypes/angsd/ngsld/appc_ngsLD.tsv --out /data/katrinac/APPC_sequencing/DNA/trimmed_reads/mapping/genotypes/angsd/ngsld/LD_plot.pdf"
   ]
  },
  {
   "cell_type": "code",
   "execution_count": null,
   "id": "8a926def",
   "metadata": {},
   "outputs": [],
   "source": []
  }
 ],
 "metadata": {
  "kernelspec": {
   "display_name": "Python 3 (ipykernel)",
   "language": "python",
   "name": "python3"
  },
  "language_info": {
   "codemirror_mode": {
    "name": "ipython",
    "version": 3
   },
   "file_extension": ".py",
   "mimetype": "text/x-python",
   "name": "python",
   "nbconvert_exporter": "python",
   "pygments_lexer": "ipython3",
   "version": "3.7.3"
  }
 },
 "nbformat": 4,
 "nbformat_minor": 5
}
