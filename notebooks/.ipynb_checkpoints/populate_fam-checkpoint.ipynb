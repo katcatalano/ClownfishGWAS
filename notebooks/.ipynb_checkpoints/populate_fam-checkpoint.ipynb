{
 "cells": [
  {
   "cell_type": "code",
   "execution_count": 36,
   "id": "97cf08ad",
   "metadata": {},
   "outputs": [
    {
     "name": "stderr",
     "output_type": "stream",
     "text": [
      "\n",
      "Attaching package: ‘dplyr’\n",
      "\n",
      "The following objects are masked from ‘package:data.table’:\n",
      "\n",
      "    between, first, last\n",
      "\n",
      "The following objects are masked from ‘package:stats’:\n",
      "\n",
      "    filter, lag\n",
      "\n",
      "The following objects are masked from ‘package:base’:\n",
      "\n",
      "    intersect, setdiff, setequal, union\n",
      "\n"
     ]
    }
   ],
   "source": [
    "library(data.table)\n",
    "library(stringr)\n",
    "library(dplyr)"
   ]
  },
  {
   "cell_type": "code",
   "execution_count": 33,
   "id": "63e41756",
   "metadata": {},
   "outputs": [],
   "source": [
    "#read in the metadata provided by E and use it to fill in the .fam file\n",
    "\n",
    "Meta <- fread(\"~/ClownfishGWAS/data/APPC_sequencing/metadata/Larvalh2-1.csv\", colClasses=c(larvalID=\"character\"))[Send.to.NJ==1][\n",
    "    , larvalID := paste0(\"APPC\", larvalID)][ #modify sample name to match genomics IDs\n",
    "    , larvalID := gsub(\".\", \"\", larvalID ,fixed = TRUE)][\n",
    "    , dam := paste0(\"D\", dam)][\n",
    "    , sire := paste0(\"S\", sire)]          \n",
    "\n",
    "Fam <- fread(\"~/ClownfishGWAS/data/APPC_sequencing/DNA/filtering/imputation/max_missing90_minQ20_maf01_hwe.fam\")\n",
    "\n",
    "LibPrep <- fread(\"~/ClownfishGWAS/data/APPC_sequencing/metadata/APercula_gDNALIbraryPrep.csv\")[, .(SampleID, Capture)][, SampleID := gsub(\".\", \"\", SampleID ,fixed = TRUE)]     "
   ]
  },
  {
   "cell_type": "code",
   "execution_count": 40,
   "id": "0da72814",
   "metadata": {},
   "outputs": [
    {
     "data": {
      "text/html": [
       "<table>\n",
       "<thead><tr><th scope=col>V1</th><th scope=col>V2</th><th scope=col>V3</th><th scope=col>V4</th><th scope=col>V5</th><th scope=col>V6</th></tr></thead>\n",
       "<tbody>\n",
       "\t<tr><td>Pop01_APPC1611</td><td>Pop01_APPC1611</td><td>0             </td><td>0             </td><td>0             </td><td>-9            </td></tr>\n",
       "\t<tr><td>Pop01_APPC1917</td><td>Pop01_APPC1917</td><td>0             </td><td>0             </td><td>0             </td><td>-9            </td></tr>\n",
       "\t<tr><td>Pop01_APPC1921</td><td>Pop01_APPC1921</td><td>0             </td><td>0             </td><td>0             </td><td>-9            </td></tr>\n",
       "\t<tr><td>Pop01_APPC2029</td><td>Pop01_APPC2029</td><td>0             </td><td>0             </td><td>0             </td><td>-9            </td></tr>\n",
       "\t<tr><td>Pop01_APPC2030</td><td>Pop01_APPC2030</td><td>0             </td><td>0             </td><td>0             </td><td>-9            </td></tr>\n",
       "\t<tr><td>Pop01_APPC2101</td><td>Pop01_APPC2101</td><td>0             </td><td>0             </td><td>0             </td><td>-9            </td></tr>\n",
       "</tbody>\n",
       "</table>\n"
      ],
      "text/latex": [
       "\\begin{tabular}{r|llllll}\n",
       " V1 & V2 & V3 & V4 & V5 & V6\\\\\n",
       "\\hline\n",
       "\t Pop01\\_APPC1611 & Pop01\\_APPC1611 & 0                & 0                & 0                & -9              \\\\\n",
       "\t Pop01\\_APPC1917 & Pop01\\_APPC1917 & 0                & 0                & 0                & -9              \\\\\n",
       "\t Pop01\\_APPC1921 & Pop01\\_APPC1921 & 0                & 0                & 0                & -9              \\\\\n",
       "\t Pop01\\_APPC2029 & Pop01\\_APPC2029 & 0                & 0                & 0                & -9              \\\\\n",
       "\t Pop01\\_APPC2030 & Pop01\\_APPC2030 & 0                & 0                & 0                & -9              \\\\\n",
       "\t Pop01\\_APPC2101 & Pop01\\_APPC2101 & 0                & 0                & 0                & -9              \\\\\n",
       "\\end{tabular}\n"
      ],
      "text/markdown": [
       "\n",
       "| V1 | V2 | V3 | V4 | V5 | V6 |\n",
       "|---|---|---|---|---|---|\n",
       "| Pop01_APPC1611 | Pop01_APPC1611 | 0              | 0              | 0              | -9             |\n",
       "| Pop01_APPC1917 | Pop01_APPC1917 | 0              | 0              | 0              | -9             |\n",
       "| Pop01_APPC1921 | Pop01_APPC1921 | 0              | 0              | 0              | -9             |\n",
       "| Pop01_APPC2029 | Pop01_APPC2029 | 0              | 0              | 0              | -9             |\n",
       "| Pop01_APPC2030 | Pop01_APPC2030 | 0              | 0              | 0              | -9             |\n",
       "| Pop01_APPC2101 | Pop01_APPC2101 | 0              | 0              | 0              | -9             |\n",
       "\n"
      ],
      "text/plain": [
       "  V1             V2             V3 V4 V5 V6\n",
       "1 Pop01_APPC1611 Pop01_APPC1611 0  0  0  -9\n",
       "2 Pop01_APPC1917 Pop01_APPC1917 0  0  0  -9\n",
       "3 Pop01_APPC1921 Pop01_APPC1921 0  0  0  -9\n",
       "4 Pop01_APPC2029 Pop01_APPC2029 0  0  0  -9\n",
       "5 Pop01_APPC2030 Pop01_APPC2030 0  0  0  -9\n",
       "6 Pop01_APPC2101 Pop01_APPC2101 0  0  0  -9"
      ]
     },
     "metadata": {},
     "output_type": "display_data"
    },
    {
     "data": {
      "text/html": [
       "<table>\n",
       "<thead><tr><th scope=col>og_larvalID</th><th scope=col>larvalID</th><th scope=col>Ucrit</th><th scope=col>SL</th><th scope=col>dam</th><th scope=col>sire</th><th scope=col>tank</th><th scope=col>date</th><th scope=col>Send.to.NJ</th><th scope=col>Group</th></tr></thead>\n",
       "<tbody>\n",
       "\t<tr><td>5.06    </td><td>APPC0506</td><td>8.17    </td><td>4.34    </td><td>D119    </td><td>S162    </td><td>C2:4    </td><td>5/28/19 </td><td>1       </td><td>High    </td></tr>\n",
       "\t<tr><td>5.08    </td><td>APPC0508</td><td>1.10    </td><td>  NA    </td><td>D119    </td><td>S162    </td><td>C2:4    </td><td>5/28/19 </td><td>1       </td><td>Low     </td></tr>\n",
       "\t<tr><td>5.15    </td><td>APPC0515</td><td>2.27    </td><td>4.32    </td><td>D119    </td><td>S162    </td><td>C2:4    </td><td>5/28/19 </td><td>1       </td><td>Low     </td></tr>\n",
       "\t<tr><td>5.23    </td><td>APPC0523</td><td>8.33    </td><td>4.32    </td><td>D119    </td><td>S162    </td><td>C2:4    </td><td>5/28/19 </td><td>1       </td><td>High    </td></tr>\n",
       "\t<tr><td>6.01    </td><td>APPC0601</td><td>2.57    </td><td>4.24    </td><td>D32     </td><td>S101    </td><td>D1:3    </td><td>5/29/19 </td><td>1       </td><td>Low     </td></tr>\n",
       "\t<tr><td>6.07    </td><td>APPC0607</td><td>2.38    </td><td>3.94    </td><td>D32     </td><td>S101    </td><td>D1:3    </td><td>5/29/19 </td><td>1       </td><td>Low     </td></tr>\n",
       "</tbody>\n",
       "</table>\n"
      ],
      "text/latex": [
       "\\begin{tabular}{r|llllllllll}\n",
       " og\\_larvalID & larvalID & Ucrit & SL & dam & sire & tank & date & Send.to.NJ & Group\\\\\n",
       "\\hline\n",
       "\t 5.06     & APPC0506 & 8.17     & 4.34     & D119     & S162     & C2:4     & 5/28/19  & 1        & High    \\\\\n",
       "\t 5.08     & APPC0508 & 1.10     &   NA     & D119     & S162     & C2:4     & 5/28/19  & 1        & Low     \\\\\n",
       "\t 5.15     & APPC0515 & 2.27     & 4.32     & D119     & S162     & C2:4     & 5/28/19  & 1        & Low     \\\\\n",
       "\t 5.23     & APPC0523 & 8.33     & 4.32     & D119     & S162     & C2:4     & 5/28/19  & 1        & High    \\\\\n",
       "\t 6.01     & APPC0601 & 2.57     & 4.24     & D32      & S101     & D1:3     & 5/29/19  & 1        & Low     \\\\\n",
       "\t 6.07     & APPC0607 & 2.38     & 3.94     & D32      & S101     & D1:3     & 5/29/19  & 1        & Low     \\\\\n",
       "\\end{tabular}\n"
      ],
      "text/markdown": [
       "\n",
       "| og_larvalID | larvalID | Ucrit | SL | dam | sire | tank | date | Send.to.NJ | Group |\n",
       "|---|---|---|---|---|---|---|---|---|---|\n",
       "| 5.06     | APPC0506 | 8.17     | 4.34     | D119     | S162     | C2:4     | 5/28/19  | 1        | High     |\n",
       "| 5.08     | APPC0508 | 1.10     |   NA     | D119     | S162     | C2:4     | 5/28/19  | 1        | Low      |\n",
       "| 5.15     | APPC0515 | 2.27     | 4.32     | D119     | S162     | C2:4     | 5/28/19  | 1        | Low      |\n",
       "| 5.23     | APPC0523 | 8.33     | 4.32     | D119     | S162     | C2:4     | 5/28/19  | 1        | High     |\n",
       "| 6.01     | APPC0601 | 2.57     | 4.24     | D32      | S101     | D1:3     | 5/29/19  | 1        | Low      |\n",
       "| 6.07     | APPC0607 | 2.38     | 3.94     | D32      | S101     | D1:3     | 5/29/19  | 1        | Low      |\n",
       "\n"
      ],
      "text/plain": [
       "  og_larvalID larvalID Ucrit SL   dam  sire tank date    Send.to.NJ Group\n",
       "1 5.06        APPC0506 8.17  4.34 D119 S162 C2:4 5/28/19 1          High \n",
       "2 5.08        APPC0508 1.10    NA D119 S162 C2:4 5/28/19 1          Low  \n",
       "3 5.15        APPC0515 2.27  4.32 D119 S162 C2:4 5/28/19 1          Low  \n",
       "4 5.23        APPC0523 8.33  4.32 D119 S162 C2:4 5/28/19 1          High \n",
       "5 6.01        APPC0601 2.57  4.24 D32  S101 D1:3 5/29/19 1          Low  \n",
       "6 6.07        APPC0607 2.38  3.94 D32  S101 D1:3 5/29/19 1          Low  "
      ]
     },
     "metadata": {},
     "output_type": "display_data"
    },
    {
     "data": {
      "text/html": [
       "<table>\n",
       "<thead><tr><th scope=col>SampleID</th><th scope=col>Capture</th></tr></thead>\n",
       "<tbody>\n",
       "\t<tr><td>APPC1611</td><td>Pop01   </td></tr>\n",
       "\t<tr><td>APPC1917</td><td>Pop01   </td></tr>\n",
       "\t<tr><td>APPC1921</td><td>Pop01   </td></tr>\n",
       "\t<tr><td>APPC2029</td><td>Pop01   </td></tr>\n",
       "\t<tr><td>APPC2030</td><td>Pop01   </td></tr>\n",
       "\t<tr><td>APPC2101</td><td>Pop01   </td></tr>\n",
       "</tbody>\n",
       "</table>\n"
      ],
      "text/latex": [
       "\\begin{tabular}{r|ll}\n",
       " SampleID & Capture\\\\\n",
       "\\hline\n",
       "\t APPC1611 & Pop01   \\\\\n",
       "\t APPC1917 & Pop01   \\\\\n",
       "\t APPC1921 & Pop01   \\\\\n",
       "\t APPC2029 & Pop01   \\\\\n",
       "\t APPC2030 & Pop01   \\\\\n",
       "\t APPC2101 & Pop01   \\\\\n",
       "\\end{tabular}\n"
      ],
      "text/markdown": [
       "\n",
       "| SampleID | Capture |\n",
       "|---|---|\n",
       "| APPC1611 | Pop01    |\n",
       "| APPC1917 | Pop01    |\n",
       "| APPC1921 | Pop01    |\n",
       "| APPC2029 | Pop01    |\n",
       "| APPC2030 | Pop01    |\n",
       "| APPC2101 | Pop01    |\n",
       "\n"
      ],
      "text/plain": [
       "  SampleID Capture\n",
       "1 APPC1611 Pop01  \n",
       "2 APPC1917 Pop01  \n",
       "3 APPC1921 Pop01  \n",
       "4 APPC2029 Pop01  \n",
       "5 APPC2030 Pop01  \n",
       "6 APPC2101 Pop01  "
      ]
     },
     "metadata": {},
     "output_type": "display_data"
    }
   ],
   "source": [
    "head(Fam)\n",
    "head(Meta)\n",
    "head(LibPrep)"
   ]
  },
  {
   "cell_type": "code",
   "execution_count": 43,
   "id": "e8b543d5",
   "metadata": {},
   "outputs": [],
   "source": [
    "#join laboratory and genetic metadata\n",
    "FullMeta <- left_join(Meta, LibPrep, by=c(larvalID=\"SampleID\"))\n"
   ]
  },
  {
   "cell_type": "code",
   "execution_count": 44,
   "id": "afda43a4",
   "metadata": {},
   "outputs": [
    {
     "data": {
      "text/html": [
       "2"
      ],
      "text/latex": [
       "2"
      ],
      "text/markdown": [
       "2"
      ],
      "text/plain": [
       "[1] 2"
      ]
     },
     "metadata": {},
     "output_type": "display_data"
    }
   ],
   "source": [
    "nrow(FullMeta[is.na(Capture)]) #2"
   ]
  },
  {
   "cell_type": "code",
   "execution_count": 46,
   "id": "9b92ae4a",
   "metadata": {},
   "outputs": [
    {
     "data": {
      "text/html": [
       "156"
      ],
      "text/latex": [
       "156"
      ],
      "text/markdown": [
       "156"
      ],
      "text/plain": [
       "[1] 156"
      ]
     },
     "metadata": {},
     "output_type": "display_data"
    }
   ],
   "source": [
    "nrow(FullMeta) #hmmm looks like sample IDs were written down wrong by me from the tube writing... look back at this later"
   ]
  },
  {
   "cell_type": "code",
   "execution_count": 50,
   "id": "b943ea96",
   "metadata": {},
   "outputs": [],
   "source": [
    "FullMeta[!is.na(Capture), gen_id := paste(Capture, larvalID, sep=\"_\")]"
   ]
  },
  {
   "cell_type": "code",
   "execution_count": 52,
   "id": "bc0ae586",
   "metadata": {},
   "outputs": [
    {
     "data": {
      "text/html": [
       "<table>\n",
       "<thead><tr><th scope=col>og_larvalID</th><th scope=col>larvalID</th><th scope=col>Ucrit</th><th scope=col>SL</th><th scope=col>dam</th><th scope=col>sire</th><th scope=col>tank</th><th scope=col>date</th><th scope=col>Send.to.NJ</th><th scope=col>Group</th><th scope=col>Capture</th><th scope=col>gen_id</th></tr></thead>\n",
       "<tbody>\n",
       "\t<tr><td>5.06          </td><td>APPC0506      </td><td>8.17          </td><td>4.34          </td><td>D119          </td><td>S162          </td><td>C2:4          </td><td>5/28/19       </td><td>1             </td><td>High          </td><td>Pop13         </td><td>Pop13_APPC0506</td></tr>\n",
       "\t<tr><td>5.08          </td><td>APPC0508      </td><td>1.10          </td><td>  NA          </td><td>D119          </td><td>S162          </td><td>C2:4          </td><td>5/28/19       </td><td>1             </td><td>Low           </td><td>Pop13         </td><td>Pop13_APPC0508</td></tr>\n",
       "\t<tr><td>5.15          </td><td>APPC0515      </td><td>2.27          </td><td>4.32          </td><td>D119          </td><td>S162          </td><td>C2:4          </td><td>5/28/19       </td><td>1             </td><td>Low           </td><td>Pop13         </td><td>Pop13_APPC0515</td></tr>\n",
       "\t<tr><td>5.23          </td><td>APPC0523      </td><td>8.33          </td><td>4.32          </td><td>D119          </td><td>S162          </td><td>C2:4          </td><td>5/28/19       </td><td>1             </td><td>High          </td><td>Pop13         </td><td>Pop13_APPC0523</td></tr>\n",
       "\t<tr><td>6.01          </td><td>APPC0601      </td><td>2.57          </td><td>4.24          </td><td>D32           </td><td>S101          </td><td>D1:3          </td><td>5/29/19       </td><td>1             </td><td>Low           </td><td>Pop13         </td><td>Pop13_APPC0601</td></tr>\n",
       "\t<tr><td>6.07          </td><td>APPC0607      </td><td>2.38          </td><td>3.94          </td><td>D32           </td><td>S101          </td><td>D1:3          </td><td>5/29/19       </td><td>1             </td><td>Low           </td><td>Pop13         </td><td>Pop13_APPC0607</td></tr>\n",
       "</tbody>\n",
       "</table>\n"
      ],
      "text/latex": [
       "\\begin{tabular}{r|llllllllllll}\n",
       " og\\_larvalID & larvalID & Ucrit & SL & dam & sire & tank & date & Send.to.NJ & Group & Capture & gen\\_id\\\\\n",
       "\\hline\n",
       "\t 5.06             & APPC0506         & 8.17             & 4.34             & D119             & S162             & C2:4             & 5/28/19          & 1                & High             & Pop13            & Pop13\\_APPC0506\\\\\n",
       "\t 5.08             & APPC0508         & 1.10             &   NA             & D119             & S162             & C2:4             & 5/28/19          & 1                & Low              & Pop13            & Pop13\\_APPC0508\\\\\n",
       "\t 5.15             & APPC0515         & 2.27             & 4.32             & D119             & S162             & C2:4             & 5/28/19          & 1                & Low              & Pop13            & Pop13\\_APPC0515\\\\\n",
       "\t 5.23             & APPC0523         & 8.33             & 4.32             & D119             & S162             & C2:4             & 5/28/19          & 1                & High             & Pop13            & Pop13\\_APPC0523\\\\\n",
       "\t 6.01             & APPC0601         & 2.57             & 4.24             & D32              & S101             & D1:3             & 5/29/19          & 1                & Low              & Pop13            & Pop13\\_APPC0601\\\\\n",
       "\t 6.07             & APPC0607         & 2.38             & 3.94             & D32              & S101             & D1:3             & 5/29/19          & 1                & Low              & Pop13            & Pop13\\_APPC0607\\\\\n",
       "\\end{tabular}\n"
      ],
      "text/markdown": [
       "\n",
       "| og_larvalID | larvalID | Ucrit | SL | dam | sire | tank | date | Send.to.NJ | Group | Capture | gen_id |\n",
       "|---|---|---|---|---|---|---|---|---|---|---|---|\n",
       "| 5.06           | APPC0506       | 8.17           | 4.34           | D119           | S162           | C2:4           | 5/28/19        | 1              | High           | Pop13          | Pop13_APPC0506 |\n",
       "| 5.08           | APPC0508       | 1.10           |   NA           | D119           | S162           | C2:4           | 5/28/19        | 1              | Low            | Pop13          | Pop13_APPC0508 |\n",
       "| 5.15           | APPC0515       | 2.27           | 4.32           | D119           | S162           | C2:4           | 5/28/19        | 1              | Low            | Pop13          | Pop13_APPC0515 |\n",
       "| 5.23           | APPC0523       | 8.33           | 4.32           | D119           | S162           | C2:4           | 5/28/19        | 1              | High           | Pop13          | Pop13_APPC0523 |\n",
       "| 6.01           | APPC0601       | 2.57           | 4.24           | D32            | S101           | D1:3           | 5/29/19        | 1              | Low            | Pop13          | Pop13_APPC0601 |\n",
       "| 6.07           | APPC0607       | 2.38           | 3.94           | D32            | S101           | D1:3           | 5/29/19        | 1              | Low            | Pop13          | Pop13_APPC0607 |\n",
       "\n"
      ],
      "text/plain": [
       "  og_larvalID larvalID Ucrit SL   dam  sire tank date    Send.to.NJ Group\n",
       "1 5.06        APPC0506 8.17  4.34 D119 S162 C2:4 5/28/19 1          High \n",
       "2 5.08        APPC0508 1.10    NA D119 S162 C2:4 5/28/19 1          Low  \n",
       "3 5.15        APPC0515 2.27  4.32 D119 S162 C2:4 5/28/19 1          Low  \n",
       "4 5.23        APPC0523 8.33  4.32 D119 S162 C2:4 5/28/19 1          High \n",
       "5 6.01        APPC0601 2.57  4.24 D32  S101 D1:3 5/29/19 1          Low  \n",
       "6 6.07        APPC0607 2.38  3.94 D32  S101 D1:3 5/29/19 1          Low  \n",
       "  Capture gen_id        \n",
       "1 Pop13   Pop13_APPC0506\n",
       "2 Pop13   Pop13_APPC0508\n",
       "3 Pop13   Pop13_APPC0515\n",
       "4 Pop13   Pop13_APPC0523\n",
       "5 Pop13   Pop13_APPC0601\n",
       "6 Pop13   Pop13_APPC0607"
      ]
     },
     "metadata": {},
     "output_type": "display_data"
    },
    {
     "data": {
      "text/html": [
       "<table>\n",
       "<thead><tr><th scope=col>V1</th><th scope=col>V2</th><th scope=col>V3</th><th scope=col>V4</th><th scope=col>V5</th><th scope=col>V6</th></tr></thead>\n",
       "<tbody>\n",
       "\t<tr><td>Pop01_APPC1611</td><td>Pop01_APPC1611</td><td>0             </td><td>0             </td><td>0             </td><td>-9            </td></tr>\n",
       "\t<tr><td>Pop01_APPC1917</td><td>Pop01_APPC1917</td><td>0             </td><td>0             </td><td>0             </td><td>-9            </td></tr>\n",
       "\t<tr><td>Pop01_APPC1921</td><td>Pop01_APPC1921</td><td>0             </td><td>0             </td><td>0             </td><td>-9            </td></tr>\n",
       "\t<tr><td>Pop01_APPC2029</td><td>Pop01_APPC2029</td><td>0             </td><td>0             </td><td>0             </td><td>-9            </td></tr>\n",
       "\t<tr><td>Pop01_APPC2030</td><td>Pop01_APPC2030</td><td>0             </td><td>0             </td><td>0             </td><td>-9            </td></tr>\n",
       "\t<tr><td>Pop01_APPC2101</td><td>Pop01_APPC2101</td><td>0             </td><td>0             </td><td>0             </td><td>-9            </td></tr>\n",
       "</tbody>\n",
       "</table>\n"
      ],
      "text/latex": [
       "\\begin{tabular}{r|llllll}\n",
       " V1 & V2 & V3 & V4 & V5 & V6\\\\\n",
       "\\hline\n",
       "\t Pop01\\_APPC1611 & Pop01\\_APPC1611 & 0                & 0                & 0                & -9              \\\\\n",
       "\t Pop01\\_APPC1917 & Pop01\\_APPC1917 & 0                & 0                & 0                & -9              \\\\\n",
       "\t Pop01\\_APPC1921 & Pop01\\_APPC1921 & 0                & 0                & 0                & -9              \\\\\n",
       "\t Pop01\\_APPC2029 & Pop01\\_APPC2029 & 0                & 0                & 0                & -9              \\\\\n",
       "\t Pop01\\_APPC2030 & Pop01\\_APPC2030 & 0                & 0                & 0                & -9              \\\\\n",
       "\t Pop01\\_APPC2101 & Pop01\\_APPC2101 & 0                & 0                & 0                & -9              \\\\\n",
       "\\end{tabular}\n"
      ],
      "text/markdown": [
       "\n",
       "| V1 | V2 | V3 | V4 | V5 | V6 |\n",
       "|---|---|---|---|---|---|\n",
       "| Pop01_APPC1611 | Pop01_APPC1611 | 0              | 0              | 0              | -9             |\n",
       "| Pop01_APPC1917 | Pop01_APPC1917 | 0              | 0              | 0              | -9             |\n",
       "| Pop01_APPC1921 | Pop01_APPC1921 | 0              | 0              | 0              | -9             |\n",
       "| Pop01_APPC2029 | Pop01_APPC2029 | 0              | 0              | 0              | -9             |\n",
       "| Pop01_APPC2030 | Pop01_APPC2030 | 0              | 0              | 0              | -9             |\n",
       "| Pop01_APPC2101 | Pop01_APPC2101 | 0              | 0              | 0              | -9             |\n",
       "\n"
      ],
      "text/plain": [
       "  V1             V2             V3 V4 V5 V6\n",
       "1 Pop01_APPC1611 Pop01_APPC1611 0  0  0  -9\n",
       "2 Pop01_APPC1917 Pop01_APPC1917 0  0  0  -9\n",
       "3 Pop01_APPC1921 Pop01_APPC1921 0  0  0  -9\n",
       "4 Pop01_APPC2029 Pop01_APPC2029 0  0  0  -9\n",
       "5 Pop01_APPC2030 Pop01_APPC2030 0  0  0  -9\n",
       "6 Pop01_APPC2101 Pop01_APPC2101 0  0  0  -9"
      ]
     },
     "metadata": {},
     "output_type": "display_data"
    }
   ],
   "source": [
    "head(FullMeta)\n",
    "head(fam)"
   ]
  },
  {
   "cell_type": "code",
   "execution_count": 58,
   "id": "c60b95f0",
   "metadata": {},
   "outputs": [
    {
     "data": {
      "text/html": [
       "32"
      ],
      "text/latex": [
       "32"
      ],
      "text/markdown": [
       "32"
      ],
      "text/plain": [
       "[1] 32"
      ]
     },
     "metadata": {},
     "output_type": "display_data"
    }
   ],
   "source": [
    "(FamID[, .N, by=dam])"
   ]
  },
  {
   "cell_type": "code",
   "execution_count": 56,
   "id": "842b850d",
   "metadata": {},
   "outputs": [],
   "source": [
    "#the two columns we need to fill are Family ID (column 1) and the phenotype, which will be Ucrit (quant), group (case/control), or SL (quant)\n",
    "#for this, we will make FamilyID the mother's ID\n",
    "FamID <- left_join(FullMeta[!is.na(Capture), .(dam, gen_id)], Fam[,-\"V1\"], by=c(gen_id=\"V2\"))"
   ]
  },
  {
   "cell_type": "code",
   "execution_count": null,
   "id": "092a2855",
   "metadata": {},
   "outputs": [],
   "source": [
    "#join the phenotype data"
   ]
  }
 ],
 "metadata": {
  "kernelspec": {
   "display_name": "R",
   "language": "R",
   "name": "ir"
  },
  "language_info": {
   "codemirror_mode": "r",
   "file_extension": ".r",
   "mimetype": "text/x-r-source",
   "name": "R",
   "pygments_lexer": "r",
   "version": "3.6.1"
  }
 },
 "nbformat": 4,
 "nbformat_minor": 5
}
