{
 "cells": [
  {
   "cell_type": "markdown",
   "id": "0eba58b3",
   "metadata": {},
   "source": [
    "__Run basic contamination screening and fastqc. perform mapping and alignment, following this tutorial https://www.biostars.org/p/41951/__"
   ]
  },
  {
   "cell_type": "code",
   "execution_count": null,
   "id": "2b4fd2d0",
   "metadata": {},
   "outputs": [],
   "source": [
    "%cd ~/ClownfishGWAS/data/APPC_sequencing/ultraplex_out/fastq_screen/2022-02-07-fastq_screen/\n"
   ]
  },
  {
   "cell_type": "code",
   "execution_count": null,
   "id": "beef1d1e",
   "metadata": {},
   "outputs": [],
   "source": [
    "#make a list of read filenames to use for next loops\n",
    "!ls *R2.fastq.gz > filenames\n",
    "!sed -i'' -e 's/R2.fastq.gz//g' filenames #remove the extension"
   ]
  },
  {
   "cell_type": "code",
   "execution_count": null,
   "id": "9fc24a3b",
   "metadata": {
    "scrolled": true
   },
   "outputs": [],
   "source": [
    "#run fastqc \n",
    "!for i in /local/home/katrinac/ClownfishGWAS/data/APPC_sequencing/ultraplex_out/fastq_screen/2022-02-07-fastq_screen/*.fastq.gz; do fastqc -t 34 *.fastq.gz $i; done\n",
    "#visualize sequencing quality for all samples in trimmed_reads directory. check that all barcode sequences are removed\n",
    "!multiqc ."
   ]
  },
  {
   "cell_type": "code",
   "execution_count": 38,
   "id": "d7e2fbe5",
   "metadata": {},
   "outputs": [
    {
     "name": "stdout",
     "output_type": "stream",
     "text": [
      "/local/home/katrinac/ClownfishGWAS/data/APPC_sequencing/DNA\n"
     ]
    }
   ],
   "source": [
    "#there are some samples fastqc failed for both reads per base seuqence content, use samtools/bamstats to look at how those aligned versus samples that didn't fail\n",
    "%cd ~/ClownfishGWAS/data/APPC_sequencing/DNA\n",
    "!samtools stats Pop01_APPC1921.F.bam > troubleshoot_reads/Pop01_APPC1921.F.stats\n",
    "!samtools stats Pop07_APPC2603.F.bam > troubleshoot_reads/Pop07_APPC2603.F.stats\n"
   ]
  },
  {
   "cell_type": "code",
   "execution_count": 39,
   "id": "77fad064",
   "metadata": {},
   "outputs": [
    {
     "name": "stdout",
     "output_type": "stream",
     "text": [
      "\r\n",
      "set terminal png size 600,400 truecolor\r\n",
      "             ^\r\n",
      "\"troubleshoot_reads/Pop01_APPC1921.F_plot-acgt-cycles.gp\", line 2: unknown or ambiguous terminal type; type just 'set terminal' for a list\r\n",
      "\r\n",
      "The command exited with non-zero status 256:\r\n",
      "\tgnuplot troubleshoot_reads/Pop01_APPC1921.F_plot-acgt-cycles.gp\r\n",
      "\r\n",
      " at /local/home/katrinac/miniconda3/envs/commandline/bin/plot-bamstats line 51.\r\n",
      "\tmain::error(\"The command exited with non-zero status 256:\\x{a}\\x{9}gnuplot trouble\"...) called at /local/home/katrinac/miniconda3/envs/commandline/bin/plot-bamstats line 317\r\n",
      "\tmain::plot(\"troubleshoot_reads/Pop01_APPC1921.F_plot-acgt-cycles.gp\") called at /local/home/katrinac/miniconda3/envs/commandline/bin/plot-bamstats line 855\r\n",
      "\tmain::plot_acgt_cycles(HASH(0x5621161af1a0)) called at /local/home/katrinac/miniconda3/envs/commandline/bin/plot-bamstats line 34\r\n"
     ]
    }
   ],
   "source": [
    "#plot stats\n",
    "!plot-bamstats -p troubleshoot_reads/Pop01_APPC1921.F_plot troubleshoot_reads/Pop01_APPC1921.F.stats\n",
    "#!java -Xmx4g -jar BAMStats-1.25.jar -i Pop01_APPC1921.F.bam # double read fail\n",
    "#!java -Xmx4g -jar BAMStats-1.25.jar -i Pop07_APPC2603.F.bam # only read 2 fail\n"
   ]
  },
  {
   "cell_type": "code",
   "execution_count": null,
   "id": "27b3ee33",
   "metadata": {},
   "outputs": [],
   "source": [
    " java -Xmx4g -jar ~/miniconda3/envs/bamstats/BamStats-assembly-1.0.1.jar -R ~/ClownfishGWAS/data/APPC_sequencing/Genome/APercula-Reference/APercula-Reference.fai  -o troubleshoot_reads/ -b Pop01_APPC1921.F.bam --bedfile mapped.bed\n"
   ]
  },
  {
   "cell_type": "code",
   "execution_count": null,
   "id": "f763d47a",
   "metadata": {},
   "outputs": [],
   "source": [
    " java -Xmx4g -jar ~/miniconda3/envs/bamstats/BamStats-assembly-1.0.1.jar -o troubleshoot_reads/ -i Pop01_APPC1921.F.bam \n"
   ]
  },
  {
   "cell_type": "code",
   "execution_count": null,
   "id": "19abb453",
   "metadata": {},
   "outputs": [],
   "source": [
    "#for some reason, barcodes still in at the start of read2, so use cutadapt to remove the first 6 + reads from the read2 files 5', and 1 bp 3'. read 1 files remove 1 bp 5' and 1 bp 3'. run in the python2.7 environment\n",
    "!rename '_R' '.R' *.fastq.gz \n",
    "for i in $(cat filenames); do cutadapt -u 1 -u -1 -U 7 -U -1 -o $i\\.R1.cut.fastq.gz -p $i\\.R2.cut.fastq.gz $i\\.R1.fastq.gz $i\\.R2.fastq.gz; done"
   ]
  },
  {
   "cell_type": "code",
   "execution_count": null,
   "id": "3d67bcfa",
   "metadata": {},
   "outputs": [],
   "source": [
    "cutadapt -a ADAPTER_FWD -A ADAPTER_REV -o out.1.fastq -p out.2.fastq reads.1.fastq reads.2.fastq"
   ]
  },
  {
   "cell_type": "code",
   "execution_count": null,
   "id": "f80f05cb",
   "metadata": {},
   "outputs": [],
   "source": [
    "#screen for contamination and filter out tagged reads simultaneously, filter 1 means keep only reads that mapped exclusively to the reference for A. percula. since this is already done for the read 1 files, just need to do it for the read 2 files that I cut the barcode from  \n",
    "!for i in /local/home/katrinac/ClownfishGWAS/data/APPC_sequencing/ultraplex_out/fastq_screen/*.cut.fastq.gz; do fastq_screen --tag --filter 1 --threads 32 --outdir /local/home/katrinac/ClownfishGWAS/data/APPC_sequencing/ultraplex_out/fastq_screen/ $i; done"
   ]
  },
  {
   "cell_type": "code",
   "execution_count": null,
   "id": "34d52dc3",
   "metadata": {},
   "outputs": [],
   "source": [
    "#run fastqc \n",
    "!for i in /local/home/katrinac/ClownfishGWAS/data/APPC_sequencing/ultraplex_out/fastq_screen/*tagged_filter.fastq.gz; do fastqc -t 6 *tagged_filter.fastq.gz  $i; done"
   ]
  },
  {
   "cell_type": "code",
   "execution_count": null,
   "id": "f2950abb",
   "metadata": {},
   "outputs": [],
   "source": [
    "#visualize sequencing quality for all samples in trimmed_reads directory. check that all barcode sequences are removed\n",
    "!multiqc ."
   ]
  },
  {
   "cell_type": "code",
   "execution_count": null,
   "id": "c8eb13d3",
   "metadata": {},
   "outputs": [],
   "source": [
    "#so the read 1 and read 2 files still fail qc because the A/T barcode overhang hookup, trim 1 bp on either side of fragments for all read files, check again and then map\n",
    "!ls *.tagged_filter.fastq.gz  > filenames\n",
    "!sed -i'' -e 's/.fastq.gz//g' filenames #remove the extension\n",
    "for i in $(cat filenames); do cutadapt -u 1 -u -1 -o $i.cut.fastq.gz $i.fastq.gz; done\n",
    "#delete the unfilered fastas from this directory, since they are still in ultraplex out\n",
    "#remove cut from filenames so names are consistent\n",
    "!rename '.cut' '' *.fastq.gz \n",
    "!rename '.cut' '' *.fastq.gz #second time because the read 2 files have two cut name spaces because they were cut twice\n",
    "#run fastqc and multiqc again to check we are ready to map\n",
    "!for i in /local/home/katrinac/ClownfishGWAS/data/APPC_sequencing/ultraplex_out/fastq_screen/*tagged_filter.fastq.gz; do fastqc -t 30 *tagged_filter.fastq.gz  $i; done\n",
    "#make sure to push the multiqc report to github"
   ]
  },
  {
   "cell_type": "code",
   "execution_count": null,
   "id": "3f1d6c9d",
   "metadata": {},
   "outputs": [],
   "source": [
    "!zcat CAP1_APPC_16.11.R1.fastq.gz | head\n",
    "!zcat CAP1_APPC_16.11.R2.fastq.gz | head\n",
    "\n"
   ]
  },
  {
   "cell_type": "code",
   "execution_count": 40,
   "id": "cd180523",
   "metadata": {},
   "outputs": [
    {
     "name": "stdout",
     "output_type": "stream",
     "text": [
      "@2_2101_24885_8891/1\n",
      "GGTAGTTCATGCGTAGCCATACCATTAGCCTATTGTTGTGTTGTTAGTGCCTTT\n",
      "+\n",
      "FFFFFFFFFFFFFFFFFFFFFFFFFFFFF:FFFF:,FFFFFFFFFFFFFFFFFF\n",
      "@2_2101_32353_8891/1\n",
      "CTTTGGTCATTTTCACCTCAACTGGAATCCTTTGGTTTCTGTCCACAATCTTCT\n",
      "+\n",
      "FFFFFFFFFFFFFFFFF:FFFFFFFFFFFFFF:FFFFFFFFFFFFFFFFFFFFF\n",
      "@2_2101_3721_8907/1\n",
      "GGTTAACAGATGCCTTAAAACTTGTGACCATTAGTCTTGATTTCACATTTAGAC\n",
      "\n",
      "gzip: stdout: Broken pipe\n",
      "@2_2101_24885_8891/2\n",
      "TCACGTACTAACAACACAGCTAACTATGAAGCTAATGACCACTAAAGACACAGTTATTGC\n",
      "+\n",
      "FFFFF,FFFFFFFFFFFFFFFFFFFFFFFFFFFFFFFFFFFFFFFFFFFFFFFFFFFFFF\n",
      "@2_2101_32353_8891/2\n",
      "TCACGAGGTCTCCCCAAAATCCTGACTTAAACCCATCAAGAACCTGTGGACTGATGAAGA\n",
      "+\n",
      "FFFFF,FFFFFFFFFFFFFFFFFFFFFFFFFFFFFFFFFFFFFFFFFFFFFFFFFFFFFF\n",
      "@2_2101_3721_8907/2\n",
      "TCACGATTAGACTTTAGAAGATCAAATTAAACAGAAGAGACAATAAAACGATCAAAAAGA\n",
      "\n",
      "gzip: stdout: Broken pipe\n"
     ]
    }
   ],
   "source": [
    "#with the previous pipeline\n",
    "!zcat /local/home/katrinac/ClownfishGWAS/data/APPC_sequencing/DNA/Pop01_APPC1611.R1.fq.gz | head\n",
    "!zcat /local/home/katrinac/ClownfishGWAS/data/APPC_sequencing/DNA/Pop01_APPC1611.R2.fq.gz | head\n"
   ]
  },
  {
   "cell_type": "code",
   "execution_count": 48,
   "id": "f8dea3fa",
   "metadata": {},
   "outputs": [
    {
     "name": "stdout",
     "output_type": "stream",
     "text": [
      "@2_2101_12816_1016/1#FQST:Amphiprionpercula:1\n",
      "TGATCTCTGCTCTGCTGGTGTCAGGTTTCACTTTGTTCTAACAGCTCCTTATAT\n",
      "+\n",
      "FF:FFFFFFFFFFFFFFFFFFFFFFFFFFFFFFFFFFFFF:FFFFFFFFFFFFF\n",
      "@2_2101_7365_1031/1#FQST:1\n",
      "CTCTGTTGTTTTGGCTCTAATAACATGAATATTAAACTGAGCGGAGTGACGAAG\n",
      "+\n",
      "FFFF,::FFF,FFFFFFFFFFFF,FF,FFFFFFFFF:FFFFFFFFF,FFFFFFF\n",
      "@2_2101_28989_1031/1#FQST:2\n",
      "CAACCAGTCAAAGGTTATTACTGAGGATTTTAAACAAAAACATTCAGGCAAACA\n",
      "\n",
      "gzip: stdout: Broken pipe\n",
      "@2_2101_12816_1016/2#FQST:Amphiprionpercula:1\n",
      "TCACGAATCTGAGGTTCTTCAAATAAATTCAGGTTCCTGTCAAAAGGAACCAGGAAATAT\n",
      "+\n",
      "FFFFFFFFFFFFFFFFFFFFFFFFFFFFFFFFFFFFFFFFFFFFF:FFFFF:FFFFFFFF\n",
      "@2_2101_7365_1031/2#FQST:1\n",
      "TCACGATAAACATATTTTATCTCTAATTAACCTACAACTAGCACCAAAATTACACTTTTT\n",
      "+\n",
      "FFF:F:FFFFFFFFFFFF,FFFFFFFFFFFFFFFFFF:FFF:F,:FFFF:FFFFFFF,FF\n",
      "@2_2101_28989_1031/2#FQST:2\n",
      "TCACGTGATTACAAAAAAAATCTGTATCGACCCGGAAAAAAAACAAACATGTCAGGCACC\n",
      "\n",
      "gzip: stdout: Broken pipe\n"
     ]
    }
   ],
   "source": [
    "#previous pipeline, earlier step\n",
    "!zcat /local/home/katrinac/ClownfishGWAS/data/APPC_sequencing/DNA/trimmed_reads/fastq_screen/Pop01_APPC1611.R1.tagged.fastq.gz | head\n",
    "!zcat /local/home/katrinac/ClownfishGWAS/data/APPC_sequencing/DNA/trimmed_reads/fastq_screen/Pop01_APPC1611.R2.tagged.fastq.gz  | head"
   ]
  },
  {
   "cell_type": "code",
   "execution_count": 42,
   "id": "c6814844",
   "metadata": {},
   "outputs": [
    {
     "name": "stdout",
     "output_type": "stream",
     "text": [
      "@2_2101_12816_1016/1\n",
      "TGATCTCTGCTCTGCTGGTGTCAGGTTTCACTTTGTTCTAACAGCTCCTTATAT\n",
      "+\n",
      "FF:FFFFFFFFFFFFFFFFFFFFFFFFFFFFFFFFFFFFF:FFFFFFFFFFFFF\n",
      "@2_2101_7365_1031/1\n",
      "CTCTGTTGTTTTGGCTCTAATAACATGAATATTAAACTGAGCGGAGTGACGAAG\n",
      "+\n",
      "FFFF,::FFF,FFFFFFFFFFFF,FF,FFFFFFFFF:FFFFFFFFF,FFFFFFF\n",
      "@2_2101_28989_1031/1\n",
      "CAACCAGTCAAAGGTTATTACTGAGGATTTTAAACAAAAACATTCAGGCAAACA\n",
      "\n",
      "gzip: stdout: Broken pipe\n",
      "@2_2101_12816_1016/2\n",
      "TCACGAATCTGAGGTTCTTCAAATAAATTCAGGTTCCTGTCAAAAGGAACCAGGAAATAT\n",
      "+\n",
      "FFFFFFFFFFFFFFFFFFFFFFFFFFFFFFFFFFFFFFFFFFFFF:FFFFF:FFFFFFFF\n",
      "@2_2101_7365_1031/2\n",
      "TCACGATAAACATATTTTATCTCTAATTAACCTACAACTAGCACCAAAATTACACTTTTT\n",
      "+\n",
      "FFF:F:FFFFFFFFFFFF,FFFFFFFFFFFFFFFFFF:FFF:F,:FFFF:FFFFFFF,FF\n",
      "@2_2101_28989_1031/2\n",
      "TCACGTGATTACAAAAAAAATCTGTATCGACCCGGAAAAAAAACAAACATGTCAGGCACC\n",
      "\n",
      "gzip: stdout: Broken pipe\n"
     ]
    }
   ],
   "source": [
    "#previous pipeline, later step\n",
    "!zcat /local/home/katrinac/ClownfishGWAS/data/APPC_sequencing/DNA/trimmed_reads/Pop01_APPC1611.R1.fq.gz | head\n",
    "!zcat /local/home/katrinac/ClownfishGWAS/data/APPC_sequencing/DNA/trimmed_reads/Pop01_APPC1611.R2.fq.gz | head"
   ]
  },
  {
   "cell_type": "code",
   "execution_count": 45,
   "id": "0675d967",
   "metadata": {},
   "outputs": [
    {
     "name": "stdout",
     "output_type": "stream",
     "text": [
      "/local/home/katrinac/ClownfishGWAS/data/APPC_sequencing/DNA\n",
      "[W::sam_read1] Parse error at line 368\n",
      "Failure while decoding file\n"
     ]
    }
   ],
   "source": [
    "#okay, from the fastqc html, looks like the read 2 file needed trimming to about 15bp\n",
    "#get mapping stats for sample\n",
    "%cd ~/ClownfishGWAS/data/APPC_sequencing/DNA/\n",
    "\n",
    "!samtools stats  ~/ClownfishGWAS/data/APPC_sequencing/DNA/Pop01_APPC1611.F.bam > troubleshoot_reads/Pop01_APPC1611.F.stats\n",
    "\n",
    "#trim with cutadapt, and then remap to the reference\n",
    "#get the mapping stats again"
   ]
  },
  {
   "cell_type": "code",
   "execution_count": null,
   "id": "b96afad6",
   "metadata": {},
   "outputs": [],
   "source": [
    "#trim with cutadapt to remove 17 bp 5', and then remap to the reference\n",
    "cutadapt -U 17 -o  /local/home/katrinac/ClownfishGWAS/data/APPC_sequencing/DNA/troubleshoot_reads/Pop01_APPC1611.R1.cut.fastq.gz -p /local/home/katrinac/ClownfishGWAS/data/APPC_sequencing/DNA/troubleshoot_reads/Pop01_APPC1611.R2.cut.fastq.gz  /local/home/katrinac/ClownfishGWAS/data/APPC_sequencing/DNA/trimmed_reads/Pop01_APPC1611.R1.fq.gz  /local/home/katrinac/ClownfishGWAS/data/APPC_sequencing/DNA/trimmed_reads/Pop01_APPC1611.R2.fq.gz"
   ]
  },
  {
   "cell_type": "code",
   "execution_count": 50,
   "id": "ba88ac94",
   "metadata": {},
   "outputs": [],
   "source": [
    "#map again\n",
    "!bwa mem -t 34 -M -R \"@RG\\tID:$i\\tSM:$i\\tPL:Illumina\" /local/home/katrinac/ClownfishGWAS/data/APPC_sequencing/DNA/reference.fasta /local/home/katrinac/ClownfishGWAS/data/APPC_sequencing/DNA/troubleshoot_reads/Pop01_APPC1611.R1.cut.fastq.gz /local/home/katrinac/ClownfishGWAS/data/APPC_sequencing/DNA/troubleshoot_reads/Pop01_APPC1611.R2.cut.fastq.gz  2> bwa.$i.log | samtools sort -@ 34 -o /local/home/katrinac/ClownfishGWAS/data/APPC_sequencing/DNA/troubleshoot_reads/Pop01_APPC1611.cut-RG.bam 2> /local/home/katrinac/ClownfishGWAS/data/APPC_sequencing/DNA/troubleshoot_reads/Pop01_APPC1611.cut.bam.log  "
   ]
  },
  {
   "cell_type": "code",
   "execution_count": 51,
   "id": "c2ea83d5",
   "metadata": {},
   "outputs": [],
   "source": [
    "#get mapping stats again\n",
    "!samtools stats  /local/home/katrinac/ClownfishGWAS/data/APPC_sequencing/DNA/troubleshoot_reads/Pop01_APPC1611.cut-RG.bam > troubleshoot_reads/Pop01_APPC1611.cut-RG.stats\n"
   ]
  },
  {
   "cell_type": "code",
   "execution_count": 53,
   "id": "2d4d80ba",
   "metadata": {},
   "outputs": [],
   "source": [
    "!bwa mem -t 34 -M -R \"@RG\\tID:$i\\tSM:$i\\tPL:Illumina\" /local/home/katrinac/ClownfishGWAS/data/APPC_sequencing/DNA/reference.fasta /local/home/katrinac/ClownfishGWAS/data/APPC_sequencing/DNA/trimmed_reads/Pop01_APPC1611.R1.fq.gz /local/home/katrinac/ClownfishGWAS/data/APPC_sequencing/DNA/trimmed_reads/Pop01_APPC1611.R2.fq.gz  2> bwa.$i.log | samtools sort -@ 34 -o /local/home/katrinac/ClownfishGWAS/data/APPC_sequencing/DNA/troubleshoot_reads/Pop01_APPC1611-RG.bam 2> /local/home/katrinac/ClownfishGWAS/data/APPC_sequencing/DNA/troubleshoot_reads/Pop01_APPC1611.bam.log  "
   ]
  },
  {
   "cell_type": "code",
   "execution_count": 54,
   "id": "d6ea034a",
   "metadata": {},
   "outputs": [],
   "source": [
    "!samtools stats  /local/home/katrinac/ClownfishGWAS/data/APPC_sequencing/DNA/troubleshoot_reads/Pop01_APPC1611-RG.bam > troubleshoot_reads/Pop01_APPC1611-RG.stats\n"
   ]
  },
  {
   "cell_type": "code",
   "execution_count": null,
   "id": "ee6d0f3b",
   "metadata": {},
   "outputs": [],
   "source": [
    "#awesome! looks like both cut and uncut map pretty well. Trim the read 2 files that failed super hard with cutadapt, and then remap\n",
    "for i in $(cat filenames); do cutadapt -U 7 -o /local/home/katrinac/ClownfishGWAS/data/APPC_sequencing/DNA/trimmed_reads/mapping/$i\\.R1.cut.fastq.gz -p /local/home/katrinac/ClownfishGWAS/data/APPC_sequencing/DNA/trimmed_reads/mapping/$i\\.R2.cut.fastq.gz /local/home/katrinac/ClownfishGWAS/data/APPC_sequencing/DNA/trimmed_reads/$i\\.R1.fq.gz /local/home/katrinac/ClownfishGWAS/data/APPC_sequencing/DNA/trimmed_reads/$i\\.R2.fq.gz; done"
   ]
  },
  {
   "cell_type": "code",
   "execution_count": null,
   "id": "571c5120",
   "metadata": {},
   "outputs": [],
   "source": [
    "#stopping here 02/08/2022- also the missing file in the DNA directory is the replicate 3601-\n",
    "Pop16_sample_TAGCTT.1.fq.gz"
   ]
  },
  {
   "cell_type": "code",
   "execution_count": 64,
   "id": "2e4f57bf",
   "metadata": {},
   "outputs": [
    {
     "name": "stdout",
     "output_type": "stream",
     "text": [
      "/local/home/katrinac/ClownfishGWAS/data/APPC_sequencing/DNA/trimmed_reads/mapping\r\n"
     ]
    }
   ],
   "source": [
    "!pwd\n"
   ]
  },
  {
   "cell_type": "code",
   "execution_count": 57,
   "id": "3f947b4b",
   "metadata": {},
   "outputs": [],
   "source": [
    "#redo mapping for all samples\n",
    "!for i in $(cat filenames); do bwa mem -t 34 -M -R \"@RG\\tID:$i\\tSM:$i\\tPL:Illumina\" /local/home/katrinac/ClownfishGWAS/data/APPC_sequencing/DNA/reference.fasta /local/home/katrinac/ClownfishGWAS/data/APPC_sequencing/DNA/trimmed_reads/mapping/$i.R1.cut.fastq.gz /local/home/katrinac/ClownfishGWAS/data/APPC_sequencing/DNA/trimmed_reads/mapping/$i.R2.cut.fastq.gz  2> bwa.$i.log | samtools sort -@ 34 -o /local/home/katrinac/ClownfishGWAS/data/APPC_sequencing/DNA/trimmed_reads/mapping/$i-RG.bam 2> /local/home/katrinac/ClownfishGWAS/data/APPC_sequencing/DNA/trimmed_reads/mapping/$i.bam.log; done  \n"
   ]
  },
  {
   "cell_type": "code",
   "execution_count": 58,
   "id": "5b0dcdab",
   "metadata": {},
   "outputs": [],
   "source": [
    "#how did it go?\n",
    "!samtools stats  /local/home/katrinac/ClownfishGWAS/data/APPC_sequencing/DNA/trimmed_reads/mapping/Pop16_APPC4215-RG.bam > trimmed_reads/mapping/Pop16_APPC4215-RG.stats\n",
    "!samtools stats  /local/home/katrinac/ClownfishGWAS/data/APPC_sequencing/DNA/Pop01_APPC2907.F.bam > troubleshoot_reads/Pop01_APPC2907.F.stats\n",
    "#woohoo! almost 3.5x more mapped reads and 95% of reads properly paired\n",
    "113175058/33542679"
   ]
  },
  {
   "cell_type": "code",
   "execution_count": 59,
   "id": "049a4141",
   "metadata": {},
   "outputs": [
    {
     "name": "stdout",
     "output_type": "stream",
     "text": [
      "/local/home/katrinac/ClownfishGWAS/data/APPC_sequencing/DNA/trimmed_reads/mapping\n"
     ]
    }
   ],
   "source": [
    "%cd ~/ClownfishGWAS/data/APPC_sequencing/DNA/trimmed_reads/mapping/\n"
   ]
  },
  {
   "cell_type": "code",
   "execution_count": 77,
   "id": "721e161d",
   "metadata": {},
   "outputs": [
    {
     "name": "stdout",
     "output_type": "stream",
     "text": [
      "Academic tradition requires you to cite works you base your article on.\r\n",
      "When using programs that use GNU Parallel to process data for publication\r\n",
      "please cite:\r\n",
      "\r\n",
      "  O. Tange (2011): GNU Parallel - The Command-Line Power Tool,\r\n",
      "  ;login: The USENIX Magazine, February 2011:42-47.\r\n",
      "\r\n",
      "This helps funding further development; AND IT WON'T COST YOU A CENT.\r\n",
      "If you pay 10000 EUR you should feel free to use GNU Parallel without citing.\r\n",
      "\r\n",
      "To silence the citation notice: run 'parallel --citation'.\r\n",
      "\r\n"
     ]
    }
   ],
   "source": [
    "#mark duplicates, from Jon's script, remember to cite Jon and GNU parallel\n",
    "!cat /local/home/katrinac/ClownfishGWAS/data/APPC_sequencing/DNA/filenames | parallel -j 8 \"java -Xms4g -jar /local/home/katrinac/miniconda3/envs/commandline/bin/picard.jar MarkDuplicates I={}-RG.bam O={}-RGrd.bam M={}_dup_metrics.txt REMOVE_DUPLICATES=true READ_NAME_REGEX=true  OPTICAL_DUPLICATE_PIXEL_DISTANCE=2500 TAGGING_POLICY=OpticalOnly &> md.{}.log\""
   ]
  },
  {
   "cell_type": "code",
   "execution_count": 66,
   "id": "e23f17df",
   "metadata": {},
   "outputs": [
    {
     "name": "stdout",
     "output_type": "stream",
     "text": [
      "^C\r\n"
     ]
    }
   ],
   "source": [
    "#filter the bam file to remove the duplicates, from Jon's script, remember to cite Jon\n",
    "#!filter_bam(){ samtools view -@32 -h -q 10 -F 0x100 -F 0x400 $1-RGmd.bam | mawk '$6 !~/[8-9].[SH]/ && $6 !~ /[1-9][0-9].[SH]/'| samtools view -@ 32 -b }\n",
    "#!export -f filter_bam\n",
    "!for i in $(cat /local/home/katrinac/ClownfishGWAS/data/APPC_sequencing/DNA/filenames); do samtools view -@32 -h -q 10 -F 0x100 -F 0x400 $i-RGmd.bam | mawk '$6 !~/[8-9].[SH]/ && $6 !~ /[1-9][0-9].[SH]/'| samtools view -@ 32 -b  > $i\\.F.bam; done        "
   ]
  },
  {
   "cell_type": "code",
   "execution_count": null,
   "id": "5b156e80",
   "metadata": {},
   "outputs": [],
   "source": [
    "#check alignments once more\n",
    "!samtools stats  /local/home/katrinac/ClownfishGWAS/data/APPC_sequencing/DNA/trimmed_reads/mapping/Pop16_APPC4215.F.bam > trimmed_reads/mapping/Pop16_APPC4215.F.stats\n",
    "\n",
    "#call genotypes and calculate GL\n",
    "#use dDocent to call genotypes/snps"
   ]
  },
  {
   "cell_type": "code",
   "execution_count": null,
   "id": "23d3c486",
   "metadata": {},
   "outputs": [],
   "source": [
    "slc25a5"
   ]
  },
  {
   "cell_type": "code",
   "execution_count": 69,
   "id": "f5141173",
   "metadata": {},
   "outputs": [
    {
     "name": "stdout",
     "output_type": "stream",
     "text": [
      "/local/home/katrinac/ClownfishGWAS/data/APPC_sequencing/DNA/trimmed_reads/mapping\r\n"
     ]
    }
   ],
   "source": [
    "!pwd"
   ]
  },
  {
   "cell_type": "code",
   "execution_count": 75,
   "id": "52900c65",
   "metadata": {},
   "outputs": [],
   "source": [
    "#hmm, filtered bam has nothing. try just removing with picard instead of using Jon's filtering script?\n",
    "!java -Xms4g -jar /local/home/katrinac/miniconda3/envs/commandline/bin/picard.jar MarkDuplicates I=Pop16_APPC4215-RG.bam O=Pop16_APPC4215-RGmd.bam M=Pop16_APPC4215_dup_metrics.txt REMOVE_DUPLICATES=true READ_NAME_REGEX=true OPTICAL_DUPLICATE_PIXEL_DISTANCE=2500 TAGGING_POLICY=OpticalOnly &> md.Pop16_APPC4215.log   "
   ]
  },
  {
   "cell_type": "code",
   "execution_count": 76,
   "id": "248c2943",
   "metadata": {},
   "outputs": [],
   "source": [
    "!samtools stats  /local/home/katrinac/ClownfishGWAS/data/APPC_sequencing/DNA/trimmed_reads/mapping/Pop16_APPC4215-RGmd.bam > Pop16_APPC4215.RGmd.stats\n",
    "#yeah, just removing with picard the files look good. \n",
    "81998837/113175058 #about 72% of reads retained"
   ]
  },
  {
   "cell_type": "code",
   "execution_count": null,
   "id": "9ac4ef25",
   "metadata": {},
   "outputs": [],
   "source": []
  },
  {
   "cell_type": "code",
   "execution_count": null,
   "id": "5f2ad455",
   "metadata": {},
   "outputs": [],
   "source": []
  },
  {
   "cell_type": "code",
   "execution_count": null,
   "id": "f0cd7a62",
   "metadata": {},
   "outputs": [],
   "source": [
    "#(commandline) [katrinac@annotate DNA]$ samtools stats filter.merged.bam > samtools_stats\n",
    "#looks like only 22% reads properly paired- go back to trim the barcodes with cutadapt but definitely in paired end mode!!"
   ]
  },
  {
   "cell_type": "code",
   "execution_count": null,
   "id": "ec516f94",
   "metadata": {},
   "outputs": [],
   "source": [
    "#go back to previous piepline files with correct read names, use cutadapt on these\n",
    "#something like \n",
    "for i in $(cat cutadapt_totrim7); do cutadapt -u 1 -u -1 -U 7 -U -1 -o $i\\.R1.cut.fastq.gz -p $i\\.R2.cut.fastq.gz $i\\.R1.fastq.gz $i\\.R2.fastq.gz; done"
   ]
  },
  {
   "cell_type": "code",
   "execution_count": null,
   "id": "036df682",
   "metadata": {},
   "outputs": [],
   "source": [
    "#okay, looks like still weird artifacts of library prep, not barcodes, that are present in 68 read files up to position 7 bp on 5' end. move all filtered files to barcodes_cut directory and use cutadapt once more\n",
    "for i in $(cat reads_to_cut7); do cutadapt -u 7 -o $i.cut.fastq.gz $i.fastq.gz; done\n",
    "#rename cut files, remove uncut files\n",
    "#fastqc one more time, multiqc to check, then map"
   ]
  },
  {
   "cell_type": "code",
   "execution_count": null,
   "id": "85e32407",
   "metadata": {},
   "outputs": [],
   "source": [
    "#for some reason CAP10_APPC_34.13_R1.tagged_filter.fastq.gz was not including in multiqc report, use fastqc to check if it's good to map with\n",
    "%cd ~/ClownfishGWAS/data/APPC_sequencing/ultraplex_out/fastq_screen/barcodes_cut/\n",
    "\n",
    "!fastqc -t 30 CAP10_APPC_34.13_R1.tagged_filter.fastq.gz\n",
    "#yes looks fine, can move on to mapping"
   ]
  },
  {
   "cell_type": "code",
   "execution_count": null,
   "id": "9cb98863",
   "metadata": {},
   "outputs": [],
   "source": [
    "#collate the names of samples that were in the final cutting round of first 7 bp, and the files that were fine and move into a mapping directory\n",
    "#!mkdir mapping\n",
    "!for i in $(cat clean_reads); do mv $i mapping/; done\n",
    "%cd ~/ClownfishGWAS/data/APPC_sequencing/ultraplex_out/fastq_screen/barcodes_cut/mapping\n"
   ]
  },
  {
   "cell_type": "code",
   "execution_count": null,
   "id": "56340856",
   "metadata": {},
   "outputs": [],
   "source": [
    "#make bwa index for reference fasta to use in mapping\n",
    "!bwa index /local/home/katrinac/ClownfishGWAS/data/APPC_sequencing/Genome/reference.fasta\n"
   ]
  },
  {
   "cell_type": "code",
   "execution_count": null,
   "id": "b8ba07bd",
   "metadata": {},
   "outputs": [],
   "source": [
    "#remove the underscore after the sample names of files to map because it was a problem in cutadapt loop\n",
    "!rename '.cut' '' *.fastq.gz \n",
    "!ls  *R1.tagged_filter.fastq.gz > filenames\n",
    "!sed -i'' -e 's/_R1.tagged_filter.fastq.gz//g' filenames #remove the extension"
   ]
  },
  {
   "cell_type": "code",
   "execution_count": null,
   "id": "c199aff8",
   "metadata": {},
   "outputs": [],
   "source": [
    "#map using default parameters but add -M for picard compatibility, make sure to use the tagged/filtered\n",
    "!for i in $(cat /local/home/katrinac/ClownfishGWAS/data/APPC_sequencing/ultraplex_out/fastq_screen/barcodes_cut/mapping/filenames); do bwa mem -t 34 -M -R \"@RG\\tID:$i\\tSM:$i\\tPL:Illumina\" /local/home/katrinac/ClownfishGWAS/data/APPC_sequencing/Genome/reference.fasta $i\\_R1.tagged_filter.fastq.gz $i\\_R2.tagged_filter.fastq.gz  2> bwa.$i.log | samtools sort -@ 34 -o $i-RG.bam 2>$i.bam.log; done  "
   ]
  },
  {
   "cell_type": "code",
   "execution_count": null,
   "id": "773a958e",
   "metadata": {
    "scrolled": true
   },
   "outputs": [],
   "source": [
    "#read1/2 files are no longer ordered the same and so bwa has issues. switch to bowtie which doesn't care about read ordering\n",
    "#!mkdir /local/home/katrinac/ClownfishGWAS/data/APPC_sequencing/Genome/bowtie\n",
    "%cd ~/ClownfishGWAS/data/APPC_sequencing/ultraplex_out/fastq_screen/barcodes_cut/mapping\n",
    "!bowtie2-build /local/home/katrinac/ClownfishGWAS/data/APPC_sequencing/Genome/APercula-Reference/GCA_003047355.2_Nemo_v1.1_genomic.fna APPC_ref"
   ]
  },
  {
   "cell_type": "code",
   "execution_count": null,
   "id": "d207b7ae",
   "metadata": {
    "scrolled": false
   },
   "outputs": [],
   "source": [
    "#sort the input read files with bbtools\n",
    "!for i in $(cat filenames); do repair.sh in1=$i\\.R1.fastq.gz in2=$i\\.R2.fastq.gz out1=repair/$i.fixed.R1.fq out2=repair/$i.fixed.R2.fq outs=repair/$i.singletons.fq repair; done"
   ]
  },
  {
   "cell_type": "code",
   "execution_count": null,
   "id": "27747660",
   "metadata": {
    "scrolled": false
   },
   "outputs": [],
   "source": [
    "!for i in $(cat filenames); do bowtie2 -x APPC_ref -1 $i\\_R1.tagged_filter.fastq.gz -2 $i\\_R2.tagged_filter.fastq.gz -S $i.sam; done"
   ]
  },
  {
   "cell_type": "code",
   "execution_count": null,
   "id": "418b8559",
   "metadata": {},
   "outputs": [],
   "source": [
    "#omg stupid I didn't run cutadapt in paired end mode so it messed up the read names. start in ultraplex out directory and figure out what trimming those files needs\n",
    "%cd ~/ClownfishGWAS/data/APPC_sequencing/ultraplex_out/\n",
    "\n",
    "!for i in /local/home/katrinac/ClownfishGWAS/data/APPC_sequencing/ultraplex_out/fastq_screen/*tagged_filter.fastq.gz; do fastqc -t 6 *tagged_filter.fastq.gz  $i; done"
   ]
  },
  {
   "cell_type": "code",
   "execution_count": null,
   "id": "3d6aa47a",
   "metadata": {},
   "outputs": [],
   "source": []
  },
  {
   "cell_type": "code",
   "execution_count": null,
   "id": "5c38cc72",
   "metadata": {},
   "outputs": [],
   "source": []
  },
  {
   "cell_type": "code",
   "execution_count": null,
   "id": "31b41084",
   "metadata": {},
   "outputs": [],
   "source": [
    "#make sure to check before running this, can't remember where .sai files are made...\n",
    "#join pairs, convert from sam to bam files in screen -S samsort\n",
    "#screen -S samsort\n",
    "for i in $(cat APPC_sequencing/ultraplex_out/fastq_screen/filenames);\n",
    "do bwa sampe /local/home/katrinac/ClownfishGWAS/data/APPC_sequencing/ultraplex_out/fastq_screen/mapping/reference.fasta $i\\.read1.sai $i\\.read2.sai $i\\.R1.tagged_filter.fastq.gz $i\\.R2.tagged_filter.fastq.gz | samtools view -bS - >  ~/ClownfishGWAS/data/APPC_sequencing/DNA/trimmed_reads/mapping/$i\\.bam; done\n",
    "\n"
   ]
  },
  {
   "cell_type": "code",
   "execution_count": null,
   "id": "dc87a22d",
   "metadata": {},
   "outputs": [],
   "source": [
    "#remove duplicate reads with picard\n",
    "java -Xms4g -jar /local/home/katrinac/miniconda3/envs/commandline/bin/picard.jar MarkDuplicates I={}-R2.tagged_filter.fastq.gz O={}-RGmd.bam M={}_dup_metrics.txt OPTICAL_DUPLICATE_PIXEL_DISTANCE=2500 TAGGING_POLICY=OpticalOnly &> md.{}.log   "
   ]
  },
  {
   "cell_type": "code",
   "execution_count": null,
   "id": "91cce2c6",
   "metadata": {},
   "outputs": [],
   "source": [
    "#January 24, 2022 using fastp to trim adapters because trimmomatic left the barcode in read 2 file\n",
    "for i in $(cat /local/home/katrinac/ClownfishGWAS/data/APPC_sequencing/DNA/filenames); \n",
    "    do fastp -i /local/home/katrinac/ClownfishGWAS/data/APPC_sequencing/DNA/$i.R1.fq.gz -I /local/home/katrinac/ClownfishGWAS/data/APPC_sequencing/DNA/$i.R2.fq.gz -o /local/home/katrinac/ClownfishGWAS/data/APPC_sequencing/DNA/fastp/$i.R1.fastp.fq.gz -O /local/home/katrinac/ClownfishGWAS/data/APPC_sequencing/DNA/fastp/$i.R2.fastp.fq.gz; \n",
    "    done\n",
    "\n"
   ]
  },
  {
   "cell_type": "code",
   "execution_count": null,
   "id": "23692e24",
   "metadata": {},
   "outputs": [],
   "source": [
    "#January 25, there's still barcodes in the beginning of the read 2 files after fastp adapter trimming. I'm going to try ultraplex instead.\n",
    "cp ~/ClownfishGWAS/data/APPC_sequencing/novaseq_2021_03_26_SEQ1/bcsplit/*.gz ~/ClownfishGWAS/data/APPC_sequencing/ultraplex_in/\n",
    "cp ~/ClownfishGWAS/data/APPC_sequencing/novaseq_2021_04_16_SEQ2/bcsplit/*.gz ~/ClownfishGWAS/data/APPC_sequencing/ultraplex_in/\n",
    "\n",
    "for i in $(cat /local/home/katrinac/ClownfishGWAS/data/APPC_sequencing/DNA/cap_filenames); \n",
    "    do ultraplex -i /local/home/katrinac/ClownfishGWAS/data/APPC_sequencing/ultraplex_in/$i-read-1.fastq.gz -i2 /local/home/katrinac/ClownfishGWAS/data/APPC_sequencing/ultraplex_in/$i-read-3.fastq.gz -b /local/home/katrinac/ClownfishGWAS/data/APPC_sequencing/multiplexing/APPCBarcodes.csv -t 8 -d /local/home/katrinac/ClownfishGWAS/data/APPC_sequencing/DNA/ultraplex_out; \n",
    "    done\n"
   ]
  },
  {
   "cell_type": "code",
   "execution_count": null,
   "id": "c96f65b2",
   "metadata": {},
   "outputs": [],
   "source": [
    "#this worked! do this for all capture pools, rename, move this line to the demultiplex notebook, and then redo the fastq, mapping, picard, then angsd and genotype calling\n",
    "ultraplex -i /local/home/katrinac/ClownfishGWAS/data/APPC_sequencing/ultraplex_in/CAP1-read-1.fastq.gz -i2 /local/home/katrinac/ClownfishGWAS/data/APPC_sequencing/ultraplex_in/CAP1-read-3.fastq.gz -b /local/home/katrinac/ClownfishGWAS/data/APPC_sequencing/multiplexing/Cap1_barcodes.csv -t 8 -d /local/home/katrinac/ClownfishGWAS/data/APPC_sequencing/DNA/ultraplex_out "
   ]
  }
 ],
 "metadata": {
  "kernelspec": {
   "display_name": "Python 3 (ipykernel)",
   "language": "python",
   "name": "python3"
  },
  "language_info": {
   "codemirror_mode": {
    "name": "ipython",
    "version": 3
   },
   "file_extension": ".py",
   "mimetype": "text/x-python",
   "name": "python",
   "nbconvert_exporter": "python",
   "pygments_lexer": "ipython3",
   "version": "3.7.3"
  }
 },
 "nbformat": 4,
 "nbformat_minor": 5
}
