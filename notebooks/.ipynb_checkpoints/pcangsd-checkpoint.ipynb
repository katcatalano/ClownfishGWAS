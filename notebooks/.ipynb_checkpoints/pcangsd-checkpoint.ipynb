{
 "cells": [
  {
   "cell_type": "code",
   "execution_count": 16,
   "id": "1033dabd",
   "metadata": {},
   "outputs": [
    {
     "name": "stdout",
     "output_type": "stream",
     "text": [
      "/local/home/katrinac/ClownfishGWAS/data/APPC_sequencing/DNA/trimmed_reads/mapping/genotypes/angsd\n"
     ]
    }
   ],
   "source": [
    "%cd ~/ClownfishGWAS/data/APPC_sequencing/DNA/trimmed_reads/mapping/ensembl/genotypes/angsd/"
   ]
  },
  {
   "cell_type": "markdown",
   "id": "a497b13c",
   "metadata": {},
   "source": [
    "__made a pcangsd environment and installed following instructions here https://github.com/Rosemeis/pcangsd__"
   ]
  },
  {
   "cell_type": "code",
   "execution_count": null,
   "id": "a5a7b272",
   "metadata": {},
   "outputs": [],
   "source": [
    "pcangsd -b angsd.beagle.gz -o output.pcangsd"
   ]
  },
  {
   "cell_type": "markdown",
   "id": "80e4d857",
   "metadata": {},
   "source": [
    "__try again with only unlinked sites, just to see if using these pcs as covariates helps the weird pvalue inflation/deflation__"
   ]
  },
  {
   "cell_type": "code",
   "execution_count": null,
   "id": "919c51a5",
   "metadata": {},
   "outputs": [],
   "source": [
    "nohup pcangsd -b /data/katrinac/APPC_sequencing/DNA/trimmed_reads/mapping/genotypes/angsd/appc_angsd_probs.beagle.gz --filterSites /data/katrinac/APPC_sequencing/DNA/trimmed_reads/mapping/genotypes/angsd/ngsld/filter_linked_sites_pcangsd.txt -o /data/katrinac/APPC_sequencing/DNA/trimmed_reads/mapping/genotypes/angsd/appc_angsd_probs.beagle.pcangsd >> nohup.pcangsd.out &"
   ]
  },
  {
   "cell_type": "markdown",
   "id": "26f43223",
   "metadata": {},
   "source": [
    "__with ensembl genome mapping- need to re-write once the angsd process to restrict to unlinked sites is done__\n"
   ]
  },
  {
   "cell_type": "code",
   "execution_count": null,
   "id": "c28ac41f",
   "metadata": {},
   "outputs": [],
   "source": [
    "nohup pcangsd -b /data/katrinac/APPC_sequencing/DNA/trimmed_reads/mapping/genotypes/angsd/ensembl_appc_angsd_probs_doGeno8.beagle.gz  -o /data/katrinac/APPC_sequencing/DNA/trimmed_reads/mapping/genotypes/angsd/ensembl_appc_angsd_probs_doGeno8.beagle.pcangsd >> nohup.pcangsd.out &"
   ]
  },
  {
   "cell_type": "code",
   "execution_count": null,
   "id": "d5d49eff",
   "metadata": {},
   "outputs": [],
   "source": []
  },
  {
   "cell_type": "code",
   "execution_count": null,
   "id": "2b2d96b2",
   "metadata": {},
   "outputs": [],
   "source": []
  }
 ],
 "metadata": {
  "kernelspec": {
   "display_name": "Python 3 (ipykernel)",
   "language": "python",
   "name": "python3"
  },
  "language_info": {
   "codemirror_mode": {
    "name": "ipython",
    "version": 3
   },
   "file_extension": ".py",
   "mimetype": "text/x-python",
   "name": "python",
   "nbconvert_exporter": "python",
   "pygments_lexer": "ipython3",
   "version": "3.7.3"
  }
 },
 "nbformat": 4,
 "nbformat_minor": 5
}
