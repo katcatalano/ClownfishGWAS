{
 "cells": [
  {
   "cell_type": "markdown",
   "id": "0eba58b3",
   "metadata": {},
   "source": [
    "__Reads have already been trimmed with Trimmomatic with dDocent and adapter sequencings removed with adapter.filter.sh. Next perform mapping and alignment, following this tutorial https://www.biostars.org/p/41951/__"
   ]
  },
  {
   "cell_type": "code",
   "execution_count": 3,
   "id": "2b4fd2d0",
   "metadata": {},
   "outputs": [
    {
     "name": "stdout",
     "output_type": "stream",
     "text": [
      "/local/home/katrinac/ClownfishGWAS/data/APPC_sequencing/DNA\n"
     ]
    }
   ],
   "source": [
    "%cd ~/ClownfishGWAS/data/APPC_sequencing/DNA/\n"
   ]
  },
  {
   "cell_type": "code",
   "execution_count": 7,
   "id": "f80f05cb",
   "metadata": {},
   "outputs": [],
   "source": [
    "#move trimmed reads to separate directory\n",
    "!mkdir trimmed_reads \n",
    "!mv *R1.fq.gz trimmed_reads\n",
    "!mv *R2.fq.gz trimmed_reads"
   ]
  },
  {
   "cell_type": "code",
   "execution_count": 2,
   "id": "34d52dc3",
   "metadata": {},
   "outputs": [
    {
     "name": "stdout",
     "output_type": "stream",
     "text": [
      "/local/home/katrinac/ClownfishGWAS/data/APPC_sequencing/DNA/trimmed_reads\n"
     ]
    }
   ],
   "source": [
    "%cd ~/ClownfishGWAS/data/APPC_sequencing/DNA/trimmed_reads/\n"
   ]
  },
  {
   "cell_type": "code",
   "execution_count": null,
   "id": "f2950abb",
   "metadata": {},
   "outputs": [],
   "source": [
    "#screen for contamination and filter out tagged reads simultaneously\n",
    "screen -S fastq_screen\n",
    "for i in /local/home/katrinac/ClownfishGWAS/data/APPC_sequencing/DNA/trimmed_reads/*.fq.gz; do fastq_screen --tag --filter 1 --outdir fastq_screen/ $i ; \n",
    "    done"
   ]
  },
  {
   "cell_type": "code",
   "execution_count": null,
   "id": "1c08d5fd",
   "metadata": {},
   "outputs": [],
   "source": [
    "#use fastqc and multiqc for basic quality control stats\n",
    "screen -S fastqc\n",
    "for i in /local/home/katrinac/ClownfishGWAS/data/APPC_sequencing/DNA/trimmed_reads/*.fq.gz; do fastqc -t 60 *.fq.gz  $i ; \n",
    "    done"
   ]
  },
  {
   "cell_type": "code",
   "execution_count": null,
   "id": "40d5268a",
   "metadata": {},
   "outputs": [],
   "source": [
    "#visualize sequencing quality for all samples in trimmed_reads directory\n",
    "multiqc ."
   ]
  },
  {
   "cell_type": "code",
   "execution_count": 14,
   "id": "56340856",
   "metadata": {},
   "outputs": [
    {
     "name": "stdout",
     "output_type": "stream",
     "text": [
      "[bwa_index] Pack FASTA... 13.40 sec\n",
      "[bwa_index] Construct BWT for the packed sequence...\n",
      "[BWTIncCreate] textLength=1817911864, availableWord=139914616\n",
      "[BWTIncConstructFromPacked] 10 iterations done. 99999992 characters processed.\n",
      "[BWTIncConstructFromPacked] 20 iterations done. 199999992 characters processed.\n",
      "[BWTIncConstructFromPacked] 30 iterations done. 299999992 characters processed.\n",
      "[BWTIncConstructFromPacked] 40 iterations done. 399999992 characters processed.\n",
      "[BWTIncConstructFromPacked] 50 iterations done. 499999992 characters processed.\n",
      "[BWTIncConstructFromPacked] 60 iterations done. 599999992 characters processed.\n",
      "[BWTIncConstructFromPacked] 70 iterations done. 699999992 characters processed.\n",
      "[BWTIncConstructFromPacked] 80 iterations done. 799999992 characters processed.\n",
      "[BWTIncConstructFromPacked] 90 iterations done. 899999992 characters processed.\n",
      "[BWTIncConstructFromPacked] 100 iterations done. 999999992 characters processed.\n",
      "[BWTIncConstructFromPacked] 110 iterations done. 1099999992 characters processed.\n",
      "[BWTIncConstructFromPacked] 120 iterations done. 1198005960 characters processed.\n",
      "[BWTIncConstructFromPacked] 130 iterations done. 1286011608 characters processed.\n",
      "[BWTIncConstructFromPacked] 140 iterations done. 1364227256 characters processed.\n",
      "[BWTIncConstructFromPacked] 150 iterations done. 1433741528 characters processed.\n",
      "[BWTIncConstructFromPacked] 160 iterations done. 1495521976 characters processed.\n",
      "[BWTIncConstructFromPacked] 170 iterations done. 1550428568 characters processed.\n",
      "[BWTIncConstructFromPacked] 180 iterations done. 1599225688 characters processed.\n",
      "[BWTIncConstructFromPacked] 190 iterations done. 1642592680 characters processed.\n",
      "[BWTIncConstructFromPacked] 200 iterations done. 1681133336 characters processed.\n",
      "[BWTIncConstructFromPacked] 210 iterations done. 1715384328 characters processed.\n",
      "[BWTIncConstructFromPacked] 220 iterations done. 1745822696 characters processed.\n",
      "[BWTIncConstructFromPacked] 230 iterations done. 1772872360 characters processed.\n",
      "[BWTIncConstructFromPacked] 240 iterations done. 1796910120 characters processed.\n",
      "[BWTIncConstructFromPacked] 250 iterations done. 1817911864 characters processed.\n",
      "[bwt_gen] Finished constructing BWT in 250 iterations.\n",
      "[bwa_index] 724.06 seconds elapse.\n",
      "[bwa_index] Update BWT... 6.28 sec\n",
      "[bwa_index] Pack forward-only FASTA... 8.57 sec\n",
      "[bwa_index] Construct SA from BWT and Occ... 260.83 sec\n",
      "[main] Version: 0.7.17-r1188\n",
      "[main] CMD: bwa index /local/home/katrinac/ClownfishGWAS/data/APPC_sequencing/Genome/reference.fasta\n",
      "[main] Real time: 1026.245 sec; CPU: 1013.162 sec\n"
     ]
    }
   ],
   "source": [
    "#make bwa index for reference fasta to use in mapping\n",
    "#!ln -s /local/home/katrinac/ClownfishGWAS/data/APPC_sequencing/Genome/reference.fasta reference.fasta\n",
    "#!mkdir mapping\n",
    "#!cd ~/ClownfishGWAS/data/APPC_sequencing/DNA/trimmed_reads/mapping\n",
    "!bwa index /local/home/katrinac/ClownfishGWAS/data/APPC_sequencing/Genome/reference.fasta"
   ]
  },
  {
   "cell_type": "code",
   "execution_count": 20,
   "id": "c199aff8",
   "metadata": {},
   "outputs": [],
   "source": [
    "#map using default parameters but add -M for picard compatibility\n",
    "!cd ~/ClownfishGWAS/data/APPC_sequencing/DNA/trimmed_reads/mapping"
   ]
  },
  {
   "cell_type": "code",
   "execution_count": 15,
   "id": "f57a3809",
   "metadata": {},
   "outputs": [],
   "source": [
    "#make a list of file names \n",
    "!awk '{ print $1 }' /local/home/katrinac/ClownfishGWAS/data/APPC_sequencing/DNA/popmap > filenames"
   ]
  },
  {
   "cell_type": "code",
   "execution_count": 27,
   "id": "f59695c5",
   "metadata": {},
   "outputs": [
    {
     "ename": "SyntaxError",
     "evalue": "invalid syntax (<ipython-input-27-288d03867ac9>, line 2)",
     "output_type": "error",
     "traceback": [
      "\u001b[0;36m  File \u001b[0;32m\"<ipython-input-27-288d03867ac9>\"\u001b[0;36m, line \u001b[0;32m2\u001b[0m\n\u001b[0;31m    do !bwa mem -M /local/home/katrinac/ClownfishGWAS/data/APPC_sequencing/DNA/trimmed_reads/reference.fasta $i > ${i%R1.fq.gz}read1.sai; done\u001b[0m\n\u001b[0m       ^\u001b[0m\n\u001b[0;31mSyntaxError\u001b[0m\u001b[0;31m:\u001b[0m invalid syntax\n"
     ]
    }
   ],
   "source": [
    "#map to reference genome\n",
    "#http://seqanswers.com/forums/showthread.php?t=66292\n",
    "screen -S mapping\n",
    "for i in /local/home/katrinac/ClownfishGWAS/data/APPC_sequencing/DNA/trimmed_reads/*R1.fq.gz;\n",
    "do bwa mem -M /local/home/katrinac/ClownfishGWAS/data/APPC_sequencing/DNA/trimmed_reads/reference.fasta $i > ${i%R1.fq.gz}read1.sai; done"
   ]
  },
  {
   "cell_type": "code",
   "execution_count": 34,
   "id": "dc87a22d",
   "metadata": {},
   "outputs": [],
   "source": [
    "#remove duplicate reads"
   ]
  },
  {
   "cell_type": "code",
   "execution_count": null,
   "id": "91cce2c6",
   "metadata": {},
   "outputs": [],
   "source": []
  }
 ],
 "metadata": {
  "kernelspec": {
   "display_name": "Python 3",
   "language": "python",
   "name": "python3"
  },
  "language_info": {
   "codemirror_mode": {
    "name": "ipython",
    "version": 3
   },
   "file_extension": ".py",
   "mimetype": "text/x-python",
   "name": "python",
   "nbconvert_exporter": "python",
   "pygments_lexer": "ipython3",
   "version": "3.7.3"
  }
 },
 "nbformat": 4,
 "nbformat_minor": 5
}
