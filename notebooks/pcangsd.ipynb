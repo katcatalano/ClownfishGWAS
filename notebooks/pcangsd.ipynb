{
 "cells": [
  {
   "cell_type": "code",
   "execution_count": 16,
   "id": "1033dabd",
   "metadata": {},
   "outputs": [
    {
     "name": "stdout",
     "output_type": "stream",
     "text": [
      "/local/home/katrinac/ClownfishGWAS/data/APPC_sequencing/DNA/trimmed_reads/mapping/genotypes/angsd\n"
     ]
    }
   ],
   "source": [
    "%cd ~/ClownfishGWAS/data/APPC_sequencing/DNA/trimmed_reads/mapping/genotypes/angsd/"
   ]
  },
  {
   "cell_type": "markdown",
   "id": "a497b13c",
   "metadata": {},
   "source": [
    "__made a pcangsd environment and installed following instructions here https://github.com/Rosemeis/pcangsd__"
   ]
  },
  {
   "cell_type": "code",
   "execution_count": null,
   "id": "a5a7b272",
   "metadata": {},
   "outputs": [],
   "source": [
    "pcangsd -b angsd.beagle.gz -o output.pcangsd"
   ]
  },
  {
   "cell_type": "markdown",
   "id": "247dc070",
   "metadata": {},
   "source": [
    "__drop weird samples from capture 14 based on the pca2 skew__"
   ]
  },
  {
   "cell_type": "code",
   "execution_count": null,
   "id": "8f4bb3dd",
   "metadata": {},
   "outputs": [],
   "source": [
    "pcangsd -b appc_an.beagle.gz --filter PCAngsd_Filter.txt -o output_appc_filter_pop14.pcangsd"
   ]
  },
  {
   "cell_type": "markdown",
   "id": "31404c3f",
   "metadata": {},
   "source": [
    "__but also see how it looks with correct maf__\n"
   ]
  },
  {
   "cell_type": "code",
   "execution_count": null,
   "id": "46bd3ead",
   "metadata": {},
   "outputs": [],
   "source": [
    "pcangsd -b appc_an.beagle.gz  -o output_appc.pcangsd"
   ]
  },
  {
   "cell_type": "markdown",
   "id": "f2c8da24",
   "metadata": {},
   "source": [
    "__huh still loooking really weird along PC2, but with different samples. try filtering them out__"
   ]
  },
  {
   "cell_type": "code",
   "execution_count": null,
   "id": "32dbaa7d",
   "metadata": {},
   "outputs": [],
   "source": [
    "pcangsd -b appc_an.beagle.gz --filter PCAngsd_Filter2.txt -t 20 --minMaf 0.01 -o output_appc_filter.pcangsd"
   ]
  },
  {
   "cell_type": "code",
   "execution_count": null,
   "id": "d1b1db26",
   "metadata": {},
   "outputs": [],
   "source": [
    "%cd ~/ClownfishGWAS/data/APPC_sequencing/DNA/trimmed_reads/mapping/genotypes/"
   ]
  },
  {
   "cell_type": "markdown",
   "id": "749ef20d",
   "metadata": {},
   "source": [
    "__check out stats for these weird pc2 samples__\n"
   ]
  },
  {
   "cell_type": "code",
   "execution_count": null,
   "id": "41073fc0",
   "metadata": {},
   "outputs": [],
   "source": [
    "!samtools stats Pop14_APPC0706.F.bam > Pop14_APPC0706.F.stats\n"
   ]
  },
  {
   "cell_type": "code",
   "execution_count": null,
   "id": "3c1716a9",
   "metadata": {
    "scrolled": false
   },
   "outputs": [],
   "source": [
    "!samtools stats Pop14_APPC0706.F.bam | grep ^COV | cut -f 2- > Pop14_APPC0706.F.cov"
   ]
  },
  {
   "cell_type": "code",
   "execution_count": 15,
   "id": "9589c154",
   "metadata": {},
   "outputs": [],
   "source": [
    "!samtools stats Pop01_APPC2907.F.bam | grep ^COV | cut -f 2- > Pop01_APPC2907.F.cov"
   ]
  },
  {
   "cell_type": "code",
   "execution_count": 13,
   "id": "6b628a9b",
   "metadata": {
    "scrolled": true
   },
   "outputs": [],
   "source": [
    "!samtools index Pop14_APPC0706.F.bam\n",
    "#what's the sequence showing up at those twp snps? CM009709.1:16016301\n",
    "#!samtools view Pop01_APPC2907.F.bam | awk '{print substr( $10, CM009709.1, 16016301)}'"
   ]
  }
 ],
 "metadata": {
  "kernelspec": {
   "display_name": "Python 3 (ipykernel)",
   "language": "python",
   "name": "python3"
  },
  "language_info": {
   "codemirror_mode": {
    "name": "ipython",
    "version": 3
   },
   "file_extension": ".py",
   "mimetype": "text/x-python",
   "name": "python",
   "nbconvert_exporter": "python",
   "pygments_lexer": "ipython3",
   "version": "3.7.3"
  }
 },
 "nbformat": 4,
 "nbformat_minor": 5
}
