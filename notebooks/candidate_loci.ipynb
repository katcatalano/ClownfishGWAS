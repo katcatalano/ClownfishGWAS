{
 "cells": [
  {
   "cell_type": "code",
   "execution_count": 35,
   "id": "9fcaa4ae",
   "metadata": {},
   "outputs": [
    {
     "name": "stdout",
     "output_type": "stream",
     "text": [
      "/data/katrinac/APPC_sequencing/DNA/trimmed_reads/mapping/genotypes\n"
     ]
    }
   ],
   "source": [
    "%cd /data/katrinac/APPC_sequencing/DNA/trimmed_reads/mapping/genotypes/"
   ]
  },
  {
   "cell_type": "markdown",
   "id": "9148d510",
   "metadata": {},
   "source": [
    "__search reference fasta for candidate gene sequences__"
   ]
  },
  {
   "cell_type": "code",
   "execution_count": 2,
   "id": "948b99be",
   "metadata": {},
   "outputs": [
    {
     "name": "stdout",
     "output_type": "stream",
     "text": [
      "Chromosome\tPosition\tMajor\tMinor\tFrequency\tLRT\tlocus\tpvalue\tSNP\r\n",
      "97091\t16016301\tA\tT\t0.420916\t27.495778\tCM009709.1:16016301\t8.14038094403617e-08\tr457958\r\n",
      "97101\t28234957\tC\tT\t0.437653\t23.309568\tCM009710.1:28234957\t7.17025456184206e-07\tr896790\r\n",
      "97131\t37957666\tC\tG\t0.391876\t23.591173\tCM009713.1:37957666\t6.19123331158176e-07\tr1952891\r\n",
      "97151\t38909563\tT\tC\t0.419653\t22.485972\tCM009715.1:38909563\t1.10201486605284e-06\tr2621157\r\n",
      "97181\t27595087\tC\tT\t0.399784\t29.150781\tCM009718.1:27595087\t3.45599656944019e-08\tr3551971\r\n",
      "97191\t25058095\tA\tT\t0.277069\t25.125608\tCM009719.1:25058095\t2.78544970749721e-07\tr3841142\r\n",
      "97231\t3558599\tC\tG\t0.423649\t22.733512\tCM009723.1:3558599\t9.6840582105426e-07\tr4859309\r\n",
      "97291\t13747328\tA\tG\t0.415023\t22.580045\tCM009729.1:13747328\t1.04918770337694e-06\tr6516672\r\n",
      "97301\t653787\tC\tT\t0.154713\t24.160692\tCM009730.1:653787\t4.60180036322047e-07\tr6650740\r\n"
     ]
    }
   ],
   "source": [
    "!head /local/home/katrinac/ClownfishGWAS/script_output/Prelim_Case_Control_Candidates.tsv"
   ]
  },
  {
   "cell_type": "code",
   "execution_count": 39,
   "id": "8441090c",
   "metadata": {},
   "outputs": [
    {
     "name": "stdout",
     "output_type": "stream",
     "text": [
      ">CM009708.1 Amphiprion percula isolate AP_NGBR_F1_2018 chromosome 1, whole genome shotgun sequence\r\n",
      "AGAGAGATAAACTACGACAAAAAGTGGCGACGAGGATGGGATCAGTTTGTGGTCTCCTTTGAGGTCACCGACAGCTCCAG\r\n",
      "CGCACTTTTCACCGCttcagagaggagaagagagaaaggaCTGGTCAGAGAGAGAAGAGTGAGTATGTTTCTCTCACAGT\r\n",
      "GTGAGGTGCTGGTTGGTGCGTGGAAGCTGGGGGTGTTTGGCTGCACTGTAAAGGATCATGTGTGCATATGCCAGGATGTG\r\n",
      "TTGAGGTTGAGGATAGCGTGTGGTCTAAATTGGGGGTTTATTCATAGATAAAAGTTGAGTTACAAGAAAAAAGAGTTTAT\r\n",
      "AGGGTTGAAGAGAGACAAagtatagagagagagagtttagaagagaagagaagagatgaTGCTGCAGCAATAAAGCAGAG\r\n",
      "AAGAGTAATAGAAGTTTAAGAGGTAAATGTAGAATAGCAGAACTAGTAACGATGGAGCAAGCTAAATAACCATGCAAGTT\r\n",
      "TAATGAGACAGGCCTGAATCTTGTTAAGGGTAAGACGTGTAAATTAGACGCTTTAAGTGAAAGTTGGCTTTTGAGTAGTC\r\n",
      "AATTGGTGTTtagaaacaaaagaggacagagtGGATTTTACCTGTGGGGCCCAGAGGTCATTGGCAAAGTGAAAATatag\r\n",
      "agaggaagagatgaaatgaagaGAGACTAAgtgaagaggagagaagaggccTAAACGAAATAGAGTTTGAGAAGAAGAGG\r\n"
     ]
    }
   ],
   "source": [
    "!head reference.fasta"
   ]
  },
  {
   "cell_type": "code",
   "execution_count": 40,
   "id": "301c6898",
   "metadata": {},
   "outputs": [
    {
     "name": "stdout",
     "output_type": "stream",
     "text": [
      ">CM009709.1 Amphiprion percula isolate AP_NGBR_F1_2018 chromosome 2, whole genome shotgun sequence\r\n",
      "TGTACGAAGGAACTGGTTCAGAATTGACACCGCCTTTGCCGCTACAATCTCGTTCTGGCCGCATTGTGCGAGTCCCTTCA\r\n",
      "CATTTGAGGGATTttgttgtttgaaatgtttccaactggttgttaattttttatgtacagttttgttcAGACCTTTGGGC\r\n",
      "ATTTTCtatgttggttgtttttttgtatgtatatgtataccttttttttcccatttctttCGGGCTGCACTGCTTTGTTT\r\n",
      "GAAACGAGGACGTTTCTTATGTGGGGGGGGACATGTGTAACATACAGTAAAAGTATTTGCCTATCAGTCCTCCGGTAGTT\r\n",
      "ACGACAGTCAGAGAGGTTTTACGGCGGTCAGGGGTTTTCCGCTGTTATGTTTTGGATTTcggaaataaaaggaaaaaggc\r\n",
      "GCCAGGCATACGGGTGCAGTCACAATTCTGTCTCTCGTCGGATTATTCCTATTTTACCATCAACTACAAGTCAAACCGCT\r\n",
      "CGGTtacagcaccttttaaagagacgctgcttgtagcgctggagttagcttgtcactagcttctgattagctgctagctc\r\n",
      "gctaacgctgccatcacggagatgcagctatagattgtcattagctacgttgtggattcatttcctgtttggacgtgact\r\n",
      "cggactacaagaaaagtaattggagcaagtggagaagctagctgtcgtcaaatacgacttggtttacaccagagatcctt\r\n",
      "ctgaatcgaccaaaatcgcttagtaatacttttgacataaaatgtacaataaagaaagatgcttttacgttgaagatgta\r\n",
      "caggaagtgctgctcatctgtaatgtcgccagctataccgtttataataatgtcgtgtcgttaccgcctgtgtccacaag\r\n",
      "aggccagtagcgccccctcctgtgacatgatcttacatgagagattagatgacagcagactcataaaatacagtaaagat\r\n",
      "acagtaaaaaatacagtaaaaatatactaaaaaaatacagtaaattactgtaaaatatatagtaaaaacacaccaaaaat\r\n",
      "atagtaaaaaatatagcaaaaaatctcataaaaataaagtaaaaatatagtaaagacacagtaaaaaatatagtacaaat\r\n",
      "acagtaaaaacatagtaaaaatacagtaaaaatataggaaaaacacagtaaaatatagtaaaaatatagcaaaaatacag\r\n",
      "taacaattaaaaataccttcaattattacaatatcactgtgattctccactgtgtattatgcagaattgtaataagatag\r\n",
      "caatttatttgtgttgtgttcattattgatgcctttaacccttccatgcatagaggtcatgacagtgtgcagctcttcta\r\n",
      "aagctgttttcttgtatgtgcataagttttgatggcatagttggacatcagccactacagcagatcctattgcatcattt\r\n",
      "cttccactgccagtgattggctagccattgcaaattctttaaaaaaaaaaaaaaaagaaagaaaaaaataaagaaaaaag\r\n",
      "aaaaagagtcaaaccaagatggccgacaggcagccagaaacaccaagtagctcattttcttttgttcaaaccttctataa\r\n"
     ]
    }
   ],
   "source": [
    "!grep -A 20 \"CM009709.1\" reference.fasta #> angsd/CM009709.1.txt"
   ]
  },
  {
   "cell_type": "code",
   "execution_count": 4,
   "id": "0490103e",
   "metadata": {},
   "outputs": [
    {
     "name": "stdout",
     "output_type": "stream",
     "text": [
      ">CM009709.1 Amphiprion percula isolate AP_NGBR_F1_2018 chromosome 2, whole genome shotgun sequence\r\n"
     ]
    }
   ],
   "source": [
    "!head angsd/CM009709.1.txt"
   ]
  },
  {
   "cell_type": "code",
   "execution_count": 7,
   "id": "d8c8c166",
   "metadata": {},
   "outputs": [
    {
     "name": "stdout",
     "output_type": "stream",
     "text": [
      "/bin/bash: /CM009709.1: No such file or directory\r\n"
     ]
    }
   ],
   "source": [
    "!/CM009709.1 reference.fasta #> angsd/CM009709.1.txt"
   ]
  },
  {
   "cell_type": "code",
   "execution_count": 38,
   "id": "4b868e3e",
   "metadata": {
    "scrolled": false
   },
   "outputs": [
    {
     "name": "stdout",
     "output_type": "stream",
     "text": [
      "VERSION     CM009709.1\r\n",
      "DBLINK      BioProject: PRJNA436093\r\n",
      "            BioSample: SAMN08615572\r\n",
      "KEYWORDS    WGS.\r\n",
      "SOURCE      Amphiprion percula (orange clownfish)\r\n",
      "  ORGANISM  Amphiprion percula\r\n",
      "            Eukaryota; Metazoa; Chordata; Craniata; Vertebrata; Euteleostomi;\r\n",
      "            Actinopterygii; Neopterygii; Teleostei; Neoteleostei;\r\n",
      "            Acanthomorphata; Ovalentaria; Pomacentridae; Amphiprion.\r\n",
      "REFERENCE   1  (bases 1 to 43441817)\r\n",
      "  AUTHORS   Lehmann,R.\r\n",
      "  TITLE     Finding Nemo's genes: A chromosome-scale reference assembly of the\r\n",
      "            genome of the orange clownfish Amphiprion percula\r\n",
      "  JOURNAL   Unpublished\r\n",
      "REFERENCE   2  (bases 1 to 43441817)\r\n",
      "  AUTHORS   Lehmann,R.\r\n",
      "  TITLE     Direct Submission\r\n",
      "  JOURNAL   Submitted (12-MAR-2018) Biological and Environmental Science and\r\n",
      "            Engineering, King Abdullah University of Science and Technology,\r\n",
      "            Thuwal, Thuwal 23955, Saudi Arabia\r\n",
      "COMMENT     ##Genome-Assembly-Data-START##\r\n",
      "            Assembly Date          :: 2017\r\n",
      "            Assembly Method        :: FALCON_unzip v. DEC-2016\r\n",
      "            Assembly Name          :: Nemo_v1\r\n",
      "            Genome Representation  :: Full\r\n",
      "            Expected Final Version :: Yes\r\n",
      "            Genome Coverage        :: 121.0x\r\n",
      "            Sequencing Technology  :: PacBio\r\n",
      "            ##Genome-Assembly-Data-END##\r\n",
      "FEATURES             Location/Qualifiers\r\n",
      "     source          1..43441817\r\n",
      "                     /organism=\"Amphiprion percula\"\r\n",
      "                     /mol_type=\"genomic DNA\"\r\n",
      "                     /isolate=\"AP_NGBR_F1_2018\"\r\n",
      "                     /db_xref=\"taxon:161767\"\r\n",
      "                     /chromosome=\"2\"\r\n",
      "                     /sex=\"hermaphrodite\"\r\n",
      "                     /tissue_type=\"brain\"\r\n",
      "CONTIG      join(PYAM01000002.1:1..43441817)\r\n",
      "ORIGIN      \r\n",
      "        1 tgtacgaagg aactggttca gaattgacac cgcctttgcc gctacaatct cgttctggcc\r\n",
      "       61 gcattgtgcg agtcccttca catttgaggg attttgttgt ttgaaatgtt tccaactggt\r\n",
      "      121 tgttaatttt ttatgtacag ttttgttcag acctttgggc attttctatg ttggttgttt\r\n",
      "      181 ttttgtatgt atatgtatac cttttttttc ccatttcttt cgggctgcac tgctttgttt\r\n",
      "      241 gaaacgagga cgtttcttat gtgggggggg acatgtgtaa catacagtaa aagtatttgc\r\n",
      "      301 ctatcagtcc tccggtagtt acgacagtca gagaggtttt acggcggtca ggggttttcc\r\n",
      "      361 gctgttatgt tttggatttc ggaaataaaa ggaaaaaggc gccaggcata cgggtgcagt\r\n",
      "      421 cacaattctg tctctcgtcg gattattcct attttaccat caactacaag tcaaaccgct\r\n",
      "      481 cggttacagc accttttaaa gagacgctgc ttgtagcgct ggagttagct tgtcactagc\r\n",
      "      541 ttctgattag ctgctagctc gctaacgctg ccatcacgga gatgcagcta tagattgtca\r\n",
      "      601 ttagctacgt tgtggattca tttcctgttt ggacgtgact cggactacaa gaaaagtaat\r\n",
      "      661 tggagcaagt ggagaagcta gctgtcgtca aatacgactt ggtttacacc agagatcctt\r\n",
      "      721 ctgaatcgac caaaatcgct tagtaatact tttgacataa aatgtacaat aaagaaagat\r\n",
      "      781 gcttttacgt tgaagatgta caggaagtgc tgctcatctg taatgtcgcc agctataccg\r\n",
      "      841 tttataataa tgtcgtgtcg ttaccgcctg tgtccacaag aggccagtag cgccccctcc\r\n",
      "      901 tgtgacatga tcttacatga gagattagat gacagcagac tcataaaata cagtaaagat\r\n",
      "      961 acagtaaaaa atacagtaaa aatatactaa aaaaatacag taaattactg taaaatatat\r\n",
      "     1021 agtaaaaaca caccaaaaat atagtaaaaa atatagcaaa aaatctcata aaaataaagt\r\n",
      "     1081 aaaaatatag taaagacaca gtaaaaaata tagtacaaat acagtaaaaa catagtaaaa\r\n",
      "     1141 atacagtaaa aatataggaa aaacacagta aaatatagta aaaatatagc aaaaatacag\r\n",
      "     1201 taacaattaa aaataccttc aattattaca atatcactgt gattctccac tgtgtattat\r\n",
      "     1261 gcagaattgt aataagatag caatttattt gtgttgtgtt cattattgat gcctttaacc\r\n",
      "     1321 cttccatgca tagaggtcat gacagtgtgc agctcttcta aagctgtttt cttgtatgtg\r\n",
      "     1381 cataagtttt gatggcatag ttggacatca gccactacag cagatcctat tgcatcattt\r\n",
      "     1441 cttccactgc cagtgattgg ctagccattg caaattcttt aaaaaaaaaa aaaaaagaaa\r\n",
      "     1501 gaaaaaaata aagaaaaaag aaaaagagtc aaaccaagat ggccgacagg cagccagaaa\r\n",
      "     1561 caccaagtag ctcattttct tttgttcaaa ccttctataa aaaagagacc tttgcaggaa\r\n",
      "     1621 agaaaaatat ggtgacatcg aggaacatct aaggagtcat gcaattgcaa aattttccga\r\n",
      "     1681 gtatcgatgt tatattggga ggcaattatg attaatctca tgtccactaa agtgcacatc\r\n",
      "     1741 atgcatcacc agctatattt cagctacaat tcattgacca caattaggct attactgctg\r\n",
      "     1801 ctgttcttga aaatatgtca tctgagagac ttgggaatct atacaggaga gtgaatccct\r\n",
      "     1861 caatgctgtt tgaattattt atgcatcaat tattttattt tatagttcac atcacatttc\r\n",
      "     1921 acagttcaat acactgtata tcattttatc catttgtttg ttaaatccat atttctagag\r\n",
      "     1981 caaaatgcat ggtggccatc tcagtggaca tgtaaatata ttttttagaa aaatgggttg\r\n",
      "     2041 aaataaaata aagttcaaac cttgtttttc acgcctaaag atgaataaaa acaattgggg\r\n",
      "     2101 gaaaaaaaaa atcctaacag aggttatcat aattcatgca tgaatgggag ttaggtaaag\r\n",
      "     2161 ttggcaagat attcacagat tcggacttcc ggcatcaata actcatgaga tatacgttgt\r\n",
      "     2221 aaaaacataa acaatgcctc tttcaaatcg ctgtaagcta gacaatgtgc tacgaggcca\r\n",
      "     2281 gttttatcaa aagtcgctgt ctttcaagtt gtacaaatag cactgatgtc tatgagcagc\r\n",
      "     2341 cagctgtgca acgagtgaac agggaccgtc tgcaaatagc aaaaccgctg caacagcgaa\r\n",
      "     2401 gagagacaaa tattcaatta cttaactttt atacactgta gtgtcaccaa atttactgca\r\n",
      "     2461 gccataaatt gtctcctgct ggtcatacta caactcttgg tttgacacta aattaaaaaa\r\n",
      "     2521 aatctgaatt ttaaggaatt tttttatcat tttattagta ataaaataca ataacttccc\r\n",
      "     2581 ccttgtttac tgtagcgtca ccaaaatcat tggagccttc aattgtctcc tgctgctcat\r\n",
      "     2641 actacaactc ttggtttgac actaaataca aaatctgaat tttaagaaat tttcattatt\r\n",
      "     2701 ttagtattgt tttaataaat tcaataactt cactcttgtt tactttagtg tcaccaaaat\r\n",
      "     2761 cactggagcc ttcaattggc ttctgctggt catactacaa cacttggttt gatattaagt\r\n",
      "     2821 acaaaatttg aattttaaat aatttttatt ggtaataaaa ttcattaact tcactcttat\r\n",
      "     2881 gtactgtagt gtcaccaaac tcgctgctgc catcagttgt ctcctgactg tcacagtaca\r\n",
      "     2941 acccttggtt tgatattaaa tagaaaatct gaattttaag gaattgttat tggtaataaa\r\n",
      "     3001 attcaataac ttcactctta tacattgtag tgttaccaaa atcactggag ccatcagttg\r\n",
      "     3061 actcctgctg gtcatactac aactcttggt ttgatattaa attaaaaaat ctgaatttta\r\n",
      "     3121 aggaattttt ttcttatttt cttattattt tattagtaat aaaattcaat aacttccctc\r\n",
      "     3181 ttatgtactg caaaaagatt acactctgtc taactcagtt ggctcctgtt gatcatacta\r\n",
      "     3241 caactcttgg tttgatattt aactattttt catgatttta aggatttttt tttttttttt\r\n",
      "     3301 tatcggtaat gaaattgttg ttatatatct caaatatttt ttgttgtaac agttaaaagt\r\n",
      "     3361 ggtcatccat tttttttttt ggtagattgt gtaacattaa caaccaaaag taactgaatt\r\n",
      "     3421 ttaatgattt gggttgttta ttgccatgtg aagatgtgca cactatttag tgtgcatgct\r\n",
      "     3481 tgtgtgtgaa gtttaaggat tatgagtaaa ttagctttga cggctcttct cttgatgtat\r\n",
      "     3541 gtggggctat atttttagat ccacagtgca cctgtttgtc caaatacatg atactgaata\r\n",
      "     3601 gtaatggaac ttggactcct catcaaagag aggatcagat aacatcaata taccaaacta\r\n"
     ]
    }
   ],
   "source": [
    "!grep -A  100 \"CM009709.1\" /data/katrinac/APPC_sequencing/Genome/ncbi-genomes-2021-10-13/GCA_003047355.2_Nemo_v1.1_genomic.gbff"
   ]
  },
  {
   "cell_type": "code",
   "execution_count": 20,
   "id": "5c5a0070",
   "metadata": {},
   "outputs": [
    {
     "name": "stdout",
     "output_type": "stream",
     "text": [
      "Chromosome\tPosition\tMajor\tMinor\tFrequency\tLRT\tlocus\tpvalue\tSNP\r\n",
      "97091\t16016301\tA\tT\t0.420916\t27.495778\tCM009709.1:16016301\t8.14038094403617e-08\tr457958\r\n",
      "97101\t28234957\tC\tT\t0.437653\t23.309568\tCM009710.1:28234957\t7.17025456184206e-07\tr896790\r\n",
      "97131\t37957666\tC\tG\t0.391876\t23.591173\tCM009713.1:37957666\t6.19123331158176e-07\tr1952891\r\n",
      "97151\t38909563\tT\tC\t0.419653\t22.485972\tCM009715.1:38909563\t1.10201486605284e-06\tr2621157\r\n",
      "97181\t27595087\tC\tT\t0.399784\t29.150781\tCM009718.1:27595087\t3.45599656944019e-08\tr3551971\r\n",
      "97191\t25058095\tA\tT\t0.277069\t25.125608\tCM009719.1:25058095\t2.78544970749721e-07\tr3841142\r\n",
      "97231\t3558599\tC\tG\t0.423649\t22.733512\tCM009723.1:3558599\t9.6840582105426e-07\tr4859309\r\n",
      "97291\t13747328\tA\tG\t0.415023\t22.580045\tCM009729.1:13747328\t1.04918770337694e-06\tr6516672\r\n",
      "97301\t653787\tC\tT\t0.154713\t24.160692\tCM009730.1:653787\t4.60180036322047e-07\tr6650740\r\n"
     ]
    }
   ],
   "source": [
    "!head /local/home/katrinac/ClownfishGWAS/script_output/Prelim_Case_Control_Candidates.tsv"
   ]
  },
  {
   "cell_type": "code",
   "execution_count": 19,
   "id": "538368f7",
   "metadata": {
    "scrolled": true
   },
   "outputs": [
    {
     "name": "stdout",
     "output_type": "stream",
     "text": [
      "/data/katrinac/APPC_sequencing/DNA/trimmed_reads/mapping/genotypes\r\n"
     ]
    }
   ],
   "source": [
    "!pwd"
   ]
  },
  {
   "cell_type": "markdown",
   "id": "c952ca50",
   "metadata": {},
   "source": [
    "__get the positions that would be 1000 bp plus/minus the locus__"
   ]
  },
  {
   "cell_type": "code",
   "execution_count": 23,
   "id": "6260a8c9",
   "metadata": {},
   "outputs": [
    {
     "data": {
      "text/plain": [
       "16015301"
      ]
     },
     "execution_count": 23,
     "metadata": {},
     "output_type": "execute_result"
    }
   ],
   "source": [
    "16016301-1000\n"
   ]
  },
  {
   "cell_type": "code",
   "execution_count": 24,
   "id": "9382465c",
   "metadata": {},
   "outputs": [
    {
     "data": {
      "text/plain": [
       "16017301"
      ]
     },
     "execution_count": 24,
     "metadata": {},
     "output_type": "execute_result"
    }
   ],
   "source": [
    "16016301+1000\n"
   ]
  },
  {
   "cell_type": "code",
   "execution_count": 27,
   "id": "e34dcf4b",
   "metadata": {},
   "outputs": [],
   "source": [
    "!samtools view -b filter.merged.bam CM009709.1:16015301-16017301  > CM009709.1_16016301.bam"
   ]
  },
  {
   "cell_type": "code",
   "execution_count": 28,
   "id": "b319232e",
   "metadata": {},
   "outputs": [
    {
     "name": "stdout",
     "output_type": "stream",
     "text": [
      "/local/home/katrinac/miniconda3/envs/commandline/bin/bamtools\r\n"
     ]
    }
   ],
   "source": [
    "!which bamtools"
   ]
  },
  {
   "cell_type": "code",
   "execution_count": 41,
   "id": "07d607d8",
   "metadata": {},
   "outputs": [],
   "source": [
    "!bamtools convert -in CM009709.1_16016301.bam -format fasta > CM009709.1_16016301.fasta #blast got this- https://www.uniprot.org/uniprot/P0C7T5"
   ]
  },
  {
   "cell_type": "code",
   "execution_count": 42,
   "id": "a62eadcc",
   "metadata": {
    "scrolled": false
   },
   "outputs": [
    {
     "name": "stdout",
     "output_type": "stream",
     "text": [
      ">1_2178_23430_26850\r\n",
      "CACACTGTGCATGTTTCCATCACTGCACAGTGATTTGAATCCATTACATG\r\n",
      "AATG\r\n",
      ">1_2231_25699_8202\r\n",
      "CACACTGTGCATGTTTCCATCACTGCACAGTGATTTGAATCCATTACATG\r\n",
      "AATG\r\n",
      ">1_2249_26992_6183\r\n",
      "ACACTGTGCATGTTTCCATCACTGCACAGTGATTTGAATCCATTACATGA\r\n",
      "ATGT\r\n",
      ">1_2253_13946_11616\r\n"
     ]
    }
   ],
   "source": [
    "!head CM009709.1_16016301.fasta"
   ]
  },
  {
   "cell_type": "code",
   "execution_count": null,
   "id": "0cfa8d04",
   "metadata": {},
   "outputs": [],
   "source": [
    "#CM009710.1:28234957"
   ]
  },
  {
   "cell_type": "code",
   "execution_count": 44,
   "id": "878ef7fd",
   "metadata": {},
   "outputs": [
    {
     "data": {
      "text/plain": [
       "28233957"
      ]
     },
     "execution_count": 44,
     "metadata": {},
     "output_type": "execute_result"
    }
   ],
   "source": [
    "28234957-1000"
   ]
  },
  {
   "cell_type": "code",
   "execution_count": 43,
   "id": "16800f81",
   "metadata": {},
   "outputs": [
    {
     "data": {
      "text/plain": [
       "28235957"
      ]
     },
     "execution_count": 43,
     "metadata": {},
     "output_type": "execute_result"
    }
   ],
   "source": [
    "28234957+1000"
   ]
  },
  {
   "cell_type": "code",
   "execution_count": 46,
   "id": "a56dde42",
   "metadata": {},
   "outputs": [],
   "source": [
    "!samtools view -b filter.merged.bam CM009710.1:28233957-28235957  > CM009710.1_28234957.bam\n",
    "!bamtools convert -in CM009710.1_28234957.bam -format fasta > CM009710.1_28234957.fasta"
   ]
  },
  {
   "cell_type": "markdown",
   "id": "70b86b73",
   "metadata": {},
   "source": [
    "__CM009713.1:37957666__"
   ]
  },
  {
   "cell_type": "code",
   "execution_count": 47,
   "id": "a5b1244a",
   "metadata": {},
   "outputs": [
    {
     "data": {
      "text/plain": [
       "37956666"
      ]
     },
     "execution_count": 47,
     "metadata": {},
     "output_type": "execute_result"
    }
   ],
   "source": [
    "37957666-1000"
   ]
  },
  {
   "cell_type": "code",
   "execution_count": 48,
   "id": "b9c16ee2",
   "metadata": {},
   "outputs": [
    {
     "data": {
      "text/plain": [
       "37958666"
      ]
     },
     "execution_count": 48,
     "metadata": {},
     "output_type": "execute_result"
    }
   ],
   "source": [
    "37957666+1000"
   ]
  },
  {
   "cell_type": "code",
   "execution_count": 50,
   "id": "4f5f52c7",
   "metadata": {},
   "outputs": [],
   "source": [
    "!samtools view -b filter.merged.bam CM009713.1:37956666-37958666  > CM009713.1_37957666.bam\n",
    "!bamtools convert -in CM009713.1_37957666.bam -format fasta > CM009713.1_37957666.fasta"
   ]
  },
  {
   "cell_type": "code",
   "execution_count": null,
   "id": "c5843194",
   "metadata": {},
   "outputs": [],
   "source": []
  },
  {
   "cell_type": "markdown",
   "id": "29ef6868",
   "metadata": {},
   "source": [
    "__CM009715.1:38909563__"
   ]
  },
  {
   "cell_type": "code",
   "execution_count": 52,
   "id": "30ad4d7d",
   "metadata": {},
   "outputs": [
    {
     "data": {
      "text/plain": [
       "38908563"
      ]
     },
     "execution_count": 52,
     "metadata": {},
     "output_type": "execute_result"
    }
   ],
   "source": [
    "38909563-1000"
   ]
  },
  {
   "cell_type": "code",
   "execution_count": 54,
   "id": "b9877d0e",
   "metadata": {},
   "outputs": [
    {
     "data": {
      "text/plain": [
       "38910563"
      ]
     },
     "execution_count": 54,
     "metadata": {},
     "output_type": "execute_result"
    }
   ],
   "source": [
    "38909563+1000"
   ]
  },
  {
   "cell_type": "code",
   "execution_count": 55,
   "id": "3dbfdc60",
   "metadata": {},
   "outputs": [],
   "source": [
    "!samtools view -b filter.merged.bam CM009715.1:38908563-38910563  > CM009715.1_38909563.bam\n",
    "!bamtools convert -in CM009715.1_38909563.bam -format fasta > CM009715.1_38909563.fasta"
   ]
  },
  {
   "cell_type": "code",
   "execution_count": null,
   "id": "c0a3c080",
   "metadata": {},
   "outputs": [],
   "source": [
    "__CM009718.1:27595087"
   ]
  },
  {
   "cell_type": "code",
   "execution_count": 56,
   "id": "d7ae838f",
   "metadata": {},
   "outputs": [
    {
     "data": {
      "text/plain": [
       "27594087"
      ]
     },
     "execution_count": 56,
     "metadata": {},
     "output_type": "execute_result"
    }
   ],
   "source": [
    "27595087-1000"
   ]
  },
  {
   "cell_type": "code",
   "execution_count": 57,
   "id": "0b078a6f",
   "metadata": {},
   "outputs": [
    {
     "data": {
      "text/plain": [
       "27596087"
      ]
     },
     "execution_count": 57,
     "metadata": {},
     "output_type": "execute_result"
    }
   ],
   "source": [
    "27595087+1000"
   ]
  },
  {
   "cell_type": "code",
   "execution_count": 58,
   "id": "6356f9df",
   "metadata": {},
   "outputs": [],
   "source": [
    "!samtools view -b filter.merged.bam CM009715.1:27594087-27596087  > CM009718.1_27595087.bam\n",
    "!bamtools convert -in CM009718.1_27595087.bam -format fasta > CM009718.1_27595087.fasta"
   ]
  },
  {
   "cell_type": "code",
   "execution_count": 31,
   "id": "84a4925f",
   "metadata": {},
   "outputs": [],
   "source": [
    "#or use the ocellaris annotation!\n",
    "!mkdir APOC\n"
   ]
  },
  {
   "cell_type": "code",
   "execution_count": 32,
   "id": "a14ca28b",
   "metadata": {},
   "outputs": [
    {
     "name": "stdout",
     "output_type": "stream",
     "text": [
      "/data/katrinac/APPC_sequencing/DNA/trimmed_reads/mapping/genotypes/APOC\n"
     ]
    }
   ],
   "source": [
    "%cd APOC/"
   ]
  },
  {
   "cell_type": "code",
   "execution_count": 33,
   "id": "f93dd37c",
   "metadata": {},
   "outputs": [
    {
     "name": "stdout",
     "output_type": "stream",
     "text": [
      "--2022-03-10 16:45:29--  https://ftp.ncbi.nlm.nih.gov/genomes/all/annotation_releases/80972/100/GCF_002776465.1_AmpOce1.0/GCF_002776465.1_AmpOce1.0_genomic.gff.gz\n",
      "Resolving ftp.ncbi.nlm.nih.gov (ftp.ncbi.nlm.nih.gov)... 130.14.250.7, 165.112.9.230, 2607:f220:41f:250::230, ...\n",
      "Connecting to ftp.ncbi.nlm.nih.gov (ftp.ncbi.nlm.nih.gov)|130.14.250.7|:443... connected.\n",
      "HTTP request sent, awaiting response... 200 OK\n",
      "Length: 13465972 (13M) [application/x-gzip]\n",
      "Saving to: ‘GCF_002776465.1_AmpOce1.0_genomic.gff.gz’\n",
      "\n",
      "100%[======================================>] 13,465,972  23.0MB/s   in 0.6s   \n",
      "\n",
      "2022-03-10 16:45:31 (23.0 MB/s) - ‘GCF_002776465.1_AmpOce1.0_genomic.gff.gz’ saved [13465972/13465972]\n",
      "\n"
     ]
    }
   ],
   "source": [
    "!wget https://ftp.ncbi.nlm.nih.gov/genomes/all/annotation_releases/80972/100/GCF_002776465.1_AmpOce1.0/GCF_002776465.1_AmpOce1.0_genomic.gff.gz"
   ]
  },
  {
   "cell_type": "code",
   "execution_count": null,
   "id": "58b87138",
   "metadata": {},
   "outputs": [],
   "source": []
  }
 ],
 "metadata": {
  "kernelspec": {
   "display_name": "Python 3 (ipykernel)",
   "language": "python",
   "name": "python3"
  },
  "language_info": {
   "codemirror_mode": {
    "name": "ipython",
    "version": 3
   },
   "file_extension": ".py",
   "mimetype": "text/x-python",
   "name": "python",
   "nbconvert_exporter": "python",
   "pygments_lexer": "ipython3",
   "version": "3.7.3"
  }
 },
 "nbformat": 4,
 "nbformat_minor": 5
}
