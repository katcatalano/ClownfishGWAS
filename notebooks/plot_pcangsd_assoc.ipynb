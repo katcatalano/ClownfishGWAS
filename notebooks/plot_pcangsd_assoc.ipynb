{
 "cells": [
  {
   "cell_type": "code",
   "execution_count": 2,
   "id": "1e11f42d",
   "metadata": {},
   "outputs": [
    {
     "name": "stderr",
     "output_type": "stream",
     "text": [
      "\n",
      "Attaching package: ‘dplyr’\n",
      "\n",
      "The following objects are masked from ‘package:data.table’:\n",
      "\n",
      "    between, first, last\n",
      "\n",
      "The following objects are masked from ‘package:stats’:\n",
      "\n",
      "    filter, lag\n",
      "\n",
      "The following objects are masked from ‘package:base’:\n",
      "\n",
      "    intersect, setdiff, setequal, union\n",
      "\n",
      "Loading required package: viridisLite\n",
      "\n",
      "For example usage please run: vignette('qqman')\n",
      "\n",
      "Citation appreciated but not required:\n",
      "Turner, (2018). qqman: an R package for visualizing GWAS results using Q-Q and manhattan plots. Journal of Open Source Software, 3(25), 731, https://doi.org/10.21105/joss.00731.\n",
      "\n"
     ]
    }
   ],
   "source": [
    "library(data.table)\n",
    "library(ggplot2)\n",
    "library(dplyr)\n",
    "library(viridis)\n",
    "library(qqman)\n",
    "\n",
    "\"%!in%\" <- function(x,table) match(x,table, nomatch = 0) == 0\n"
   ]
  },
  {
   "cell_type": "code",
   "execution_count": 3,
   "id": "700e592a",
   "metadata": {},
   "outputs": [],
   "source": [
    "#check out angsd results\n",
    "#hwe <- fread(\"~/ClownfishGWAS/data/APPC_sequencing/DNA/trimmed_reads/mapping/genotypes/angsd/appc_angsd.hwe.gz\")\n",
    "#setnames(hwe, 9, \"p\")"
   ]
  },
  {
   "cell_type": "code",
   "execution_count": 3,
   "id": "d1a785b6",
   "metadata": {},
   "outputs": [
    {
     "data": {
      "text/html": [
       "6295180"
      ],
      "text/latex": [
       "6295180"
      ],
      "text/markdown": [
       "6295180"
      ],
      "text/plain": [
       "[1] 6295180"
      ]
     },
     "metadata": {},
     "output_type": "display_data"
    }
   ],
   "source": [
    "nrow(hwe)"
   ]
  },
  {
   "cell_type": "code",
   "execution_count": 73,
   "id": "65d4362c",
   "metadata": {},
   "outputs": [
    {
     "data": {
      "text/html": [
       "6295180"
      ],
      "text/latex": [
       "6295180"
      ],
      "text/markdown": [
       "6295180"
      ],
      "text/plain": [
       "[1] 6295180"
      ]
     },
     "metadata": {},
     "output_type": "display_data"
    }
   ],
   "source": [
    "nrow(hwe)"
   ]
  },
  {
   "cell_type": "code",
   "execution_count": 261,
   "id": "29b34647",
   "metadata": {
    "scrolled": false
   },
   "outputs": [],
   "source": [
    "#plot(hwe$hweFreq, hwe$Freq) #no super obvious het problems"
   ]
  },
  {
   "cell_type": "code",
   "execution_count": 391,
   "id": "7b9275c8",
   "metadata": {},
   "outputs": [
    {
     "data": {
      "text/html": [
       "<table>\n",
       "<thead><tr><th scope=col>Chromo</th><th scope=col>Position</th><th scope=col>Major</th><th scope=col>Minor</th><th scope=col>hweFreq</th><th scope=col>Freq</th><th scope=col>F</th><th scope=col>LRT</th><th scope=col>p-value</th></tr></thead>\n",
       "<tbody>\n",
       "\t<tr><td>CM009708.1 </td><td> 164       </td><td>A          </td><td>G          </td><td>0.143948   </td><td>0.143978   </td><td>-0.012379  </td><td>0.004032974</td><td>0.9493638  </td></tr>\n",
       "\t<tr><td>CM009708.1 </td><td> 479       </td><td>T          </td><td>A          </td><td>0.098266   </td><td>0.099586   </td><td>-0.109246  </td><td>0.309823700</td><td>0.5777884  </td></tr>\n",
       "\t<tr><td>CM009708.1 </td><td> 480       </td><td>T          </td><td>G          </td><td>0.167168   </td><td>0.176823   </td><td>-0.214118  </td><td>1.518999000</td><td>0.2177710  </td></tr>\n",
       "\t<tr><td>CM009708.1 </td><td> 787       </td><td>C          </td><td>T          </td><td>0.411355   </td><td>0.409284   </td><td>-0.317570  </td><td>0.795253300</td><td>0.3725164  </td></tr>\n",
       "\t<tr><td>CM009708.1 </td><td>1492       </td><td>T          </td><td>G          </td><td>0.122028   </td><td>0.124322   </td><td>-0.139868  </td><td>0.466126500</td><td>0.4947746  </td></tr>\n",
       "\t<tr><td>CM009708.1 </td><td>2973       </td><td>C          </td><td>T          </td><td>0.096377   </td><td>0.099344   </td><td>-0.109185  </td><td>0.381258200</td><td>0.5369306  </td></tr>\n",
       "</tbody>\n",
       "</table>\n"
      ],
      "text/latex": [
       "\\begin{tabular}{r|lllllllll}\n",
       " Chromo & Position & Major & Minor & hweFreq & Freq & F & LRT & p-value\\\\\n",
       "\\hline\n",
       "\t CM009708.1  &  164        & A           & G           & 0.143948    & 0.143978    & -0.012379   & 0.004032974 & 0.9493638  \\\\\n",
       "\t CM009708.1  &  479        & T           & A           & 0.098266    & 0.099586    & -0.109246   & 0.309823700 & 0.5777884  \\\\\n",
       "\t CM009708.1  &  480        & T           & G           & 0.167168    & 0.176823    & -0.214118   & 1.518999000 & 0.2177710  \\\\\n",
       "\t CM009708.1  &  787        & C           & T           & 0.411355    & 0.409284    & -0.317570   & 0.795253300 & 0.3725164  \\\\\n",
       "\t CM009708.1  & 1492        & T           & G           & 0.122028    & 0.124322    & -0.139868   & 0.466126500 & 0.4947746  \\\\\n",
       "\t CM009708.1  & 2973        & C           & T           & 0.096377    & 0.099344    & -0.109185   & 0.381258200 & 0.5369306  \\\\\n",
       "\\end{tabular}\n"
      ],
      "text/markdown": [
       "\n",
       "| Chromo | Position | Major | Minor | hweFreq | Freq | F | LRT | p-value |\n",
       "|---|---|---|---|---|---|---|---|---|\n",
       "| CM009708.1  |  164        | A           | G           | 0.143948    | 0.143978    | -0.012379   | 0.004032974 | 0.9493638   |\n",
       "| CM009708.1  |  479        | T           | A           | 0.098266    | 0.099586    | -0.109246   | 0.309823700 | 0.5777884   |\n",
       "| CM009708.1  |  480        | T           | G           | 0.167168    | 0.176823    | -0.214118   | 1.518999000 | 0.2177710   |\n",
       "| CM009708.1  |  787        | C           | T           | 0.411355    | 0.409284    | -0.317570   | 0.795253300 | 0.3725164   |\n",
       "| CM009708.1  | 1492        | T           | G           | 0.122028    | 0.124322    | -0.139868   | 0.466126500 | 0.4947746   |\n",
       "| CM009708.1  | 2973        | C           | T           | 0.096377    | 0.099344    | -0.109185   | 0.381258200 | 0.5369306   |\n",
       "\n"
      ],
      "text/plain": [
       "  Chromo     Position Major Minor hweFreq  Freq     F         LRT        \n",
       "1 CM009708.1  164     A     G     0.143948 0.143978 -0.012379 0.004032974\n",
       "2 CM009708.1  479     T     A     0.098266 0.099586 -0.109246 0.309823700\n",
       "3 CM009708.1  480     T     G     0.167168 0.176823 -0.214118 1.518999000\n",
       "4 CM009708.1  787     C     T     0.411355 0.409284 -0.317570 0.795253300\n",
       "5 CM009708.1 1492     T     G     0.122028 0.124322 -0.139868 0.466126500\n",
       "6 CM009708.1 2973     C     T     0.096377 0.099344 -0.109185 0.381258200\n",
       "  p-value  \n",
       "1 0.9493638\n",
       "2 0.5777884\n",
       "3 0.2177710\n",
       "4 0.3725164\n",
       "5 0.4947746\n",
       "6 0.5369306"
      ]
     },
     "metadata": {},
     "output_type": "display_data"
    }
   ],
   "source": [
    "#how do maf and calls across ind look\n",
    "sites <- fread(\"/data/katrinac/APPC_sequencing/DNA/trimmed_reads/mapping/genotypes/angsd/appc_angsd_probs.hwe.gz\")\n",
    "head(sites)"
   ]
  },
  {
   "cell_type": "code",
   "execution_count": 396,
   "id": "7ccfcae2",
   "metadata": {},
   "outputs": [],
   "source": [
    "unlinked <- fread(\"/data/katrinac/APPC_sequencing/DNA/trimmed_reads/mapping/genotypes/angsd/ngsld/appc_unlinked_for_angsd.txt\")\n",
    "setnames(unlinked, 1:2, c(\"Chromo\", \"Position\"))\n",
    "unlinked[, filter := 1]"
   ]
  },
  {
   "cell_type": "code",
   "execution_count": 397,
   "id": "30f794d6",
   "metadata": {},
   "outputs": [
    {
     "data": {
      "text/html": [
       "<table>\n",
       "<thead><tr><th scope=col>Chromo</th><th scope=col>Position</th><th scope=col>filter</th></tr></thead>\n",
       "<tbody>\n",
       "\t<tr><td>CM009708.1</td><td>10000697  </td><td>1         </td></tr>\n",
       "\t<tr><td>CM009708.1</td><td>10003708  </td><td>1         </td></tr>\n",
       "\t<tr><td>CM009708.1</td><td>10003879  </td><td>1         </td></tr>\n",
       "\t<tr><td>CM009708.1</td><td>10004338  </td><td>1         </td></tr>\n",
       "\t<tr><td>CM009708.1</td><td>10004540  </td><td>1         </td></tr>\n",
       "\t<tr><td>CM009708.1</td><td>10007683  </td><td>1         </td></tr>\n",
       "</tbody>\n",
       "</table>\n"
      ],
      "text/latex": [
       "\\begin{tabular}{r|lll}\n",
       " Chromo & Position & filter\\\\\n",
       "\\hline\n",
       "\t CM009708.1 & 10000697   & 1         \\\\\n",
       "\t CM009708.1 & 10003708   & 1         \\\\\n",
       "\t CM009708.1 & 10003879   & 1         \\\\\n",
       "\t CM009708.1 & 10004338   & 1         \\\\\n",
       "\t CM009708.1 & 10004540   & 1         \\\\\n",
       "\t CM009708.1 & 10007683   & 1         \\\\\n",
       "\\end{tabular}\n"
      ],
      "text/markdown": [
       "\n",
       "| Chromo | Position | filter |\n",
       "|---|---|---|\n",
       "| CM009708.1 | 10000697   | 1          |\n",
       "| CM009708.1 | 10003708   | 1          |\n",
       "| CM009708.1 | 10003879   | 1          |\n",
       "| CM009708.1 | 10004338   | 1          |\n",
       "| CM009708.1 | 10004540   | 1          |\n",
       "| CM009708.1 | 10007683   | 1          |\n",
       "\n"
      ],
      "text/plain": [
       "  Chromo     Position filter\n",
       "1 CM009708.1 10000697 1     \n",
       "2 CM009708.1 10003708 1     \n",
       "3 CM009708.1 10003879 1     \n",
       "4 CM009708.1 10004338 1     \n",
       "5 CM009708.1 10004540 1     \n",
       "6 CM009708.1 10007683 1     "
      ]
     },
     "metadata": {},
     "output_type": "display_data"
    }
   ],
   "source": [
    "head(unlinked)"
   ]
  },
  {
   "cell_type": "code",
   "execution_count": 398,
   "id": "431505c3",
   "metadata": {},
   "outputs": [
    {
     "name": "stderr",
     "output_type": "stream",
     "text": [
      "Joining, by = c(\"Chromo\", \"Position\")\n"
     ]
    },
    {
     "data": {
      "text/html": [
       "<table>\n",
       "<thead><tr><th scope=col>Chromo</th><th scope=col>Position</th><th scope=col>Major</th><th scope=col>Minor</th><th scope=col>hweFreq</th><th scope=col>Freq</th><th scope=col>F</th><th scope=col>LRT</th><th scope=col>p-value</th><th scope=col>filter</th></tr></thead>\n",
       "<tbody>\n",
       "\t<tr><td>CM009708.1 </td><td> 164       </td><td>A          </td><td>G          </td><td>0.143948   </td><td>0.143978   </td><td>-0.012379  </td><td>0.004032974</td><td>0.9493638  </td><td> 1         </td></tr>\n",
       "\t<tr><td>CM009708.1 </td><td> 479       </td><td>T          </td><td>A          </td><td>0.098266   </td><td>0.099586   </td><td>-0.109246  </td><td>0.309823700</td><td>0.5777884  </td><td>NA         </td></tr>\n",
       "\t<tr><td>CM009708.1 </td><td> 480       </td><td>T          </td><td>G          </td><td>0.167168   </td><td>0.176823   </td><td>-0.214118  </td><td>1.518999000</td><td>0.2177710  </td><td> 1         </td></tr>\n",
       "\t<tr><td>CM009708.1 </td><td> 787       </td><td>C          </td><td>T          </td><td>0.411355   </td><td>0.409284   </td><td>-0.317570  </td><td>0.795253300</td><td>0.3725164  </td><td> 1         </td></tr>\n",
       "\t<tr><td>CM009708.1 </td><td>1492       </td><td>T          </td><td>G          </td><td>0.122028   </td><td>0.124322   </td><td>-0.139868  </td><td>0.466126500</td><td>0.4947746  </td><td> 1         </td></tr>\n",
       "\t<tr><td>CM009708.1 </td><td>2973       </td><td>C          </td><td>T          </td><td>0.096377   </td><td>0.099344   </td><td>-0.109185  </td><td>0.381258200</td><td>0.5369306  </td><td> 1         </td></tr>\n",
       "</tbody>\n",
       "</table>\n"
      ],
      "text/latex": [
       "\\begin{tabular}{r|llllllllll}\n",
       " Chromo & Position & Major & Minor & hweFreq & Freq & F & LRT & p-value & filter\\\\\n",
       "\\hline\n",
       "\t CM009708.1  &  164        & A           & G           & 0.143948    & 0.143978    & -0.012379   & 0.004032974 & 0.9493638   &  1         \\\\\n",
       "\t CM009708.1  &  479        & T           & A           & 0.098266    & 0.099586    & -0.109246   & 0.309823700 & 0.5777884   & NA         \\\\\n",
       "\t CM009708.1  &  480        & T           & G           & 0.167168    & 0.176823    & -0.214118   & 1.518999000 & 0.2177710   &  1         \\\\\n",
       "\t CM009708.1  &  787        & C           & T           & 0.411355    & 0.409284    & -0.317570   & 0.795253300 & 0.3725164   &  1         \\\\\n",
       "\t CM009708.1  & 1492        & T           & G           & 0.122028    & 0.124322    & -0.139868   & 0.466126500 & 0.4947746   &  1         \\\\\n",
       "\t CM009708.1  & 2973        & C           & T           & 0.096377    & 0.099344    & -0.109185   & 0.381258200 & 0.5369306   &  1         \\\\\n",
       "\\end{tabular}\n"
      ],
      "text/markdown": [
       "\n",
       "| Chromo | Position | Major | Minor | hweFreq | Freq | F | LRT | p-value | filter |\n",
       "|---|---|---|---|---|---|---|---|---|---|\n",
       "| CM009708.1  |  164        | A           | G           | 0.143948    | 0.143978    | -0.012379   | 0.004032974 | 0.9493638   |  1          |\n",
       "| CM009708.1  |  479        | T           | A           | 0.098266    | 0.099586    | -0.109246   | 0.309823700 | 0.5777884   | NA          |\n",
       "| CM009708.1  |  480        | T           | G           | 0.167168    | 0.176823    | -0.214118   | 1.518999000 | 0.2177710   |  1          |\n",
       "| CM009708.1  |  787        | C           | T           | 0.411355    | 0.409284    | -0.317570   | 0.795253300 | 0.3725164   |  1          |\n",
       "| CM009708.1  | 1492        | T           | G           | 0.122028    | 0.124322    | -0.139868   | 0.466126500 | 0.4947746   |  1          |\n",
       "| CM009708.1  | 2973        | C           | T           | 0.096377    | 0.099344    | -0.109185   | 0.381258200 | 0.5369306   |  1          |\n",
       "\n"
      ],
      "text/plain": [
       "  Chromo     Position Major Minor hweFreq  Freq     F         LRT        \n",
       "1 CM009708.1  164     A     G     0.143948 0.143978 -0.012379 0.004032974\n",
       "2 CM009708.1  479     T     A     0.098266 0.099586 -0.109246 0.309823700\n",
       "3 CM009708.1  480     T     G     0.167168 0.176823 -0.214118 1.518999000\n",
       "4 CM009708.1  787     C     T     0.411355 0.409284 -0.317570 0.795253300\n",
       "5 CM009708.1 1492     T     G     0.122028 0.124322 -0.139868 0.466126500\n",
       "6 CM009708.1 2973     C     T     0.096377 0.099344 -0.109185 0.381258200\n",
       "  p-value   filter\n",
       "1 0.9493638  1    \n",
       "2 0.5777884 NA    \n",
       "3 0.2177710  1    \n",
       "4 0.3725164  1    \n",
       "5 0.4947746  1    \n",
       "6 0.5369306  1    "
      ]
     },
     "metadata": {},
     "output_type": "display_data"
    }
   ],
   "source": [
    "test_filter_sites <- left_join(sites, unlinked)\n",
    "head(test_filter_sites)"
   ]
  },
  {
   "cell_type": "code",
   "execution_count": 399,
   "id": "bc6022d9",
   "metadata": {},
   "outputs": [
    {
     "data": {
      "text/html": [
       "TRUE"
      ],
      "text/latex": [
       "TRUE"
      ],
      "text/markdown": [
       "TRUE"
      ],
      "text/plain": [
       "[1] TRUE"
      ]
     },
     "metadata": {},
     "output_type": "display_data"
    }
   ],
   "source": [
    "nrow(test_filter_sites)==nrow(sites)"
   ]
  },
  {
   "cell_type": "code",
   "execution_count": 400,
   "id": "f4cdbb02",
   "metadata": {},
   "outputs": [],
   "source": [
    "test_filter_sites[is.na(filter), filter := 0]"
   ]
  },
  {
   "cell_type": "code",
   "execution_count": 401,
   "id": "c95968a8",
   "metadata": {},
   "outputs": [
    {
     "data": {
      "text/html": [
       "<table>\n",
       "<thead><tr><th scope=col>Chromo</th><th scope=col>Position</th><th scope=col>Major</th><th scope=col>Minor</th><th scope=col>hweFreq</th><th scope=col>Freq</th><th scope=col>F</th><th scope=col>LRT</th><th scope=col>p-value</th><th scope=col>filter</th></tr></thead>\n",
       "<tbody>\n",
       "\t<tr><td>CM009708.1 </td><td> 164       </td><td>A          </td><td>G          </td><td>0.143948   </td><td>0.143978   </td><td>-0.012379  </td><td>0.004032974</td><td>0.9493638  </td><td>1          </td></tr>\n",
       "\t<tr><td>CM009708.1 </td><td> 479       </td><td>T          </td><td>A          </td><td>0.098266   </td><td>0.099586   </td><td>-0.109246  </td><td>0.309823700</td><td>0.5777884  </td><td>0          </td></tr>\n",
       "\t<tr><td>CM009708.1 </td><td> 480       </td><td>T          </td><td>G          </td><td>0.167168   </td><td>0.176823   </td><td>-0.214118  </td><td>1.518999000</td><td>0.2177710  </td><td>1          </td></tr>\n",
       "\t<tr><td>CM009708.1 </td><td> 787       </td><td>C          </td><td>T          </td><td>0.411355   </td><td>0.409284   </td><td>-0.317570  </td><td>0.795253300</td><td>0.3725164  </td><td>1          </td></tr>\n",
       "\t<tr><td>CM009708.1 </td><td>1492       </td><td>T          </td><td>G          </td><td>0.122028   </td><td>0.124322   </td><td>-0.139868  </td><td>0.466126500</td><td>0.4947746  </td><td>1          </td></tr>\n",
       "\t<tr><td>CM009708.1 </td><td>2973       </td><td>C          </td><td>T          </td><td>0.096377   </td><td>0.099344   </td><td>-0.109185  </td><td>0.381258200</td><td>0.5369306  </td><td>1          </td></tr>\n",
       "</tbody>\n",
       "</table>\n"
      ],
      "text/latex": [
       "\\begin{tabular}{r|llllllllll}\n",
       " Chromo & Position & Major & Minor & hweFreq & Freq & F & LRT & p-value & filter\\\\\n",
       "\\hline\n",
       "\t CM009708.1  &  164        & A           & G           & 0.143948    & 0.143978    & -0.012379   & 0.004032974 & 0.9493638   & 1          \\\\\n",
       "\t CM009708.1  &  479        & T           & A           & 0.098266    & 0.099586    & -0.109246   & 0.309823700 & 0.5777884   & 0          \\\\\n",
       "\t CM009708.1  &  480        & T           & G           & 0.167168    & 0.176823    & -0.214118   & 1.518999000 & 0.2177710   & 1          \\\\\n",
       "\t CM009708.1  &  787        & C           & T           & 0.411355    & 0.409284    & -0.317570   & 0.795253300 & 0.3725164   & 1          \\\\\n",
       "\t CM009708.1  & 1492        & T           & G           & 0.122028    & 0.124322    & -0.139868   & 0.466126500 & 0.4947746   & 1          \\\\\n",
       "\t CM009708.1  & 2973        & C           & T           & 0.096377    & 0.099344    & -0.109185   & 0.381258200 & 0.5369306   & 1          \\\\\n",
       "\\end{tabular}\n"
      ],
      "text/markdown": [
       "\n",
       "| Chromo | Position | Major | Minor | hweFreq | Freq | F | LRT | p-value | filter |\n",
       "|---|---|---|---|---|---|---|---|---|---|\n",
       "| CM009708.1  |  164        | A           | G           | 0.143948    | 0.143978    | -0.012379   | 0.004032974 | 0.9493638   | 1           |\n",
       "| CM009708.1  |  479        | T           | A           | 0.098266    | 0.099586    | -0.109246   | 0.309823700 | 0.5777884   | 0           |\n",
       "| CM009708.1  |  480        | T           | G           | 0.167168    | 0.176823    | -0.214118   | 1.518999000 | 0.2177710   | 1           |\n",
       "| CM009708.1  |  787        | C           | T           | 0.411355    | 0.409284    | -0.317570   | 0.795253300 | 0.3725164   | 1           |\n",
       "| CM009708.1  | 1492        | T           | G           | 0.122028    | 0.124322    | -0.139868   | 0.466126500 | 0.4947746   | 1           |\n",
       "| CM009708.1  | 2973        | C           | T           | 0.096377    | 0.099344    | -0.109185   | 0.381258200 | 0.5369306   | 1           |\n",
       "\n"
      ],
      "text/plain": [
       "  Chromo     Position Major Minor hweFreq  Freq     F         LRT        \n",
       "1 CM009708.1  164     A     G     0.143948 0.143978 -0.012379 0.004032974\n",
       "2 CM009708.1  479     T     A     0.098266 0.099586 -0.109246 0.309823700\n",
       "3 CM009708.1  480     T     G     0.167168 0.176823 -0.214118 1.518999000\n",
       "4 CM009708.1  787     C     T     0.411355 0.409284 -0.317570 0.795253300\n",
       "5 CM009708.1 1492     T     G     0.122028 0.124322 -0.139868 0.466126500\n",
       "6 CM009708.1 2973     C     T     0.096377 0.099344 -0.109185 0.381258200\n",
       "  p-value   filter\n",
       "1 0.9493638 1     \n",
       "2 0.5777884 0     \n",
       "3 0.2177710 1     \n",
       "4 0.3725164 1     \n",
       "5 0.4947746 1     \n",
       "6 0.5369306 1     "
      ]
     },
     "metadata": {},
     "output_type": "display_data"
    }
   ],
   "source": [
    "head(test_filter_sites)"
   ]
  },
  {
   "cell_type": "code",
   "execution_count": 402,
   "id": "86b89ede",
   "metadata": {},
   "outputs": [],
   "source": [
    "fwrite(test_filter_sites[,.(filter)], \"/data/katrinac/APPC_sequencing/DNA/trimmed_reads/mapping/genotypes/angsd/ngsld/filter_linked_sites_pcangsd.txt\", col.names = F)"
   ]
  },
  {
   "cell_type": "code",
   "execution_count": 266,
   "id": "03c29101",
   "metadata": {},
   "outputs": [
    {
     "data": {
      "text/html": [
       "227"
      ],
      "text/latex": [
       "227"
      ],
      "text/markdown": [
       "227"
      ],
      "text/plain": [
       "[1] 227"
      ]
     },
     "metadata": {},
     "output_type": "display_data"
    },
    {
     "data": {
      "text/html": [
       "<table>\n",
       "<thead><tr><th scope=col>chromo</th></tr></thead>\n",
       "<tbody>\n",
       "\t<tr><td>1</td></tr>\n",
       "\t<tr><td>2</td></tr>\n",
       "\t<tr><td>3</td></tr>\n",
       "\t<tr><td>4</td></tr>\n",
       "\t<tr><td>5</td></tr>\n",
       "\t<tr><td>6</td></tr>\n",
       "</tbody>\n",
       "</table>\n"
      ],
      "text/latex": [
       "\\begin{tabular}{r|l}\n",
       " chromo\\\\\n",
       "\\hline\n",
       "\t 1\\\\\n",
       "\t 2\\\\\n",
       "\t 3\\\\\n",
       "\t 4\\\\\n",
       "\t 5\\\\\n",
       "\t 6\\\\\n",
       "\\end{tabular}\n"
      ],
      "text/markdown": [
       "\n",
       "| chromo |\n",
       "|---|\n",
       "| 1 |\n",
       "| 2 |\n",
       "| 3 |\n",
       "| 4 |\n",
       "| 5 |\n",
       "| 6 |\n",
       "\n"
      ],
      "text/plain": [
       "  chromo\n",
       "1 1     \n",
       "2 2     \n",
       "3 3     \n",
       "4 4     \n",
       "5 5     \n",
       "6 6     "
      ]
     },
     "metadata": {},
     "output_type": "display_data"
    }
   ],
   "source": [
    "#how many snps on each chrom\n",
    "nrow(maf[, .N, by=\"chromo\"])\n",
    "names <- maf[, .N, by=\"chromo\"][, \"chromo\"]\n",
    "head(names)\n",
    "#fwrite(names, \"/data/katrinac/APPC_sequencing/DNA/trimmed_reads/mapping/ensembl/genotypes/angsd/ngsld/chromosomes.txt\", col.names =F)"
   ]
  },
  {
   "cell_type": "code",
   "execution_count": 265,
   "id": "116095a3",
   "metadata": {},
   "outputs": [],
   "source": [
    "#hist(maf$nInd)\n",
    "#hist(maf$knownEM)"
   ]
  },
  {
   "cell_type": "code",
   "execution_count": 259,
   "id": "9dd2d773",
   "metadata": {},
   "outputs": [],
   "source": [
    "#hist(maf[knownEM < 0.1, nInd]) #for the really low maf, what's the distribution of individuals the snp was found in? make sure the nInd GL filter worked as expected"
   ]
  },
  {
   "cell_type": "code",
   "execution_count": 16,
   "id": "03a6df6d",
   "metadata": {},
   "outputs": [
    {
     "data": {
      "text/html": [
       "1.06939030876547"
      ],
      "text/latex": [
       "1.06939030876547"
      ],
      "text/markdown": [
       "1.06939030876547"
      ],
      "text/plain": [
       "[1] 1.06939"
      ]
     },
     "metadata": {},
     "output_type": "display_data"
    }
   ],
   "source": [
    "6295181/5886701\n"
   ]
  },
  {
   "cell_type": "code",
   "execution_count": null,
   "id": "51b38ba1",
   "metadata": {},
   "outputs": [],
   "source": [
    "#plot the pcangsd results, color by phenotypes in the association"
   ]
  },
  {
   "cell_type": "code",
   "execution_count": 403,
   "id": "3d38b2f3",
   "metadata": {},
   "outputs": [],
   "source": [
    "pca <- fread(\"/data/katrinac/APPC_sequencing/DNA/trimmed_reads/mapping/genotypes/angsd/appc_angsd_probs.beagle.pcangsd.cov\")"
   ]
  },
  {
   "cell_type": "code",
   "execution_count": 404,
   "id": "db040d81",
   "metadata": {},
   "outputs": [
    {
     "data": {
      "text/html": [
       "<ol class=list-inline>\n",
       "\t<li>159</li>\n",
       "\t<li>159</li>\n",
       "</ol>\n"
      ],
      "text/latex": [
       "\\begin{enumerate*}\n",
       "\\item 159\n",
       "\\item 159\n",
       "\\end{enumerate*}\n"
      ],
      "text/markdown": [
       "1. 159\n",
       "2. 159\n",
       "\n",
       "\n"
      ],
      "text/plain": [
       "[1] 159 159"
      ]
     },
     "metadata": {},
     "output_type": "display_data"
    }
   ],
   "source": [
    "dim(pca)"
   ]
  },
  {
   "cell_type": "code",
   "execution_count": 405,
   "id": "e3bc8d1f",
   "metadata": {},
   "outputs": [],
   "source": [
    "#get eigenvalues\n",
    "ev <-eigen(pca)\n",
    "ev_dt <- data.table(ev$vectors[,1:10])\n",
    "setnames(ev_dt, c(\"pc1\", \"pc2\", \"pc3\", \"pc4\", \"pc5\", \"pc6\", \"pc7\", \"pc8\", \"pc9\", \"pc10\"))"
   ]
  },
  {
   "cell_type": "code",
   "execution_count": 406,
   "id": "8f363c8f",
   "metadata": {},
   "outputs": [
    {
     "data": {
      "text/html": [
       "<ol class=list-inline>\n",
       "\t<li>0.12456736641053</li>\n",
       "\t<li>0.0059506196330943</li>\n",
       "\t<li>0.00594655710432143</li>\n",
       "\t<li>0.0059341971951576</li>\n",
       "\t<li>0.00592380966607005</li>\n",
       "\t<li>0.00592315255238701</li>\n",
       "\t<li>0.00592126564568464</li>\n",
       "\t<li>0.00592049373161058</li>\n",
       "\t<li>0.00591975498297175</li>\n",
       "\t<li>0.00591282077607761</li>\n",
       "\t<li>0.00590909441375794</li>\n",
       "\t<li>0.00590240694296702</li>\n",
       "\t<li>0.00590132492653431</li>\n",
       "\t<li>0.00589464415709459</li>\n",
       "\t<li>0.00589183927054507</li>\n",
       "\t<li>0.00588525364199673</li>\n",
       "\t<li>0.0058837453768071</li>\n",
       "\t<li>0.00583064931919342</li>\n",
       "\t<li>0.00582963135180029</li>\n",
       "\t<li>0.00582850870171885</li>\n",
       "\t<li>0.00582763472184951</li>\n",
       "\t<li>0.00582480905388258</li>\n",
       "\t<li>0.00580245945512272</li>\n",
       "\t<li>0.0057978092148017</li>\n",
       "\t<li>0.00579625532954455</li>\n",
       "\t<li>0.00578979384999718</li>\n",
       "\t<li>0.00578248410032139</li>\n",
       "\t<li>0.00578093794793952</li>\n",
       "\t<li>0.00577670748203814</li>\n",
       "\t<li>0.00577403071308628</li>\n",
       "\t<li>0.00577180221694866</li>\n",
       "\t<li>0.0057654315484755</li>\n",
       "\t<li>0.00575892682123122</li>\n",
       "\t<li>0.00575783377954805</li>\n",
       "\t<li>0.00575698009120692</li>\n",
       "\t<li>0.00575430228010977</li>\n",
       "\t<li>0.00574145201418253</li>\n",
       "\t<li>0.00573654261860086</li>\n",
       "\t<li>0.0057345953350587</li>\n",
       "\t<li>0.00573266191974078</li>\n",
       "\t<li>0.00573013283649887</li>\n",
       "\t<li>0.00572707769115489</li>\n",
       "\t<li>0.00571711318415198</li>\n",
       "\t<li>0.0057070096666482</li>\n",
       "\t<li>0.00570414395627929</li>\n",
       "\t<li>0.00569794098546899</li>\n",
       "\t<li>0.00569698274536848</li>\n",
       "\t<li>0.0056901281099404</li>\n",
       "\t<li>0.00567355484773255</li>\n",
       "\t<li>0.00566496095218894</li>\n",
       "\t<li>0.00566211832511818</li>\n",
       "\t<li>0.00565639948233017</li>\n",
       "\t<li>0.00564661376938736</li>\n",
       "\t<li>0.00563654991285931</li>\n",
       "\t<li>0.00563300089026011</li>\n",
       "\t<li>0.00562628964943162</li>\n",
       "\t<li>0.00562041927492758</li>\n",
       "\t<li>0.00560799640976808</li>\n",
       "\t<li>0.00560019975655276</li>\n",
       "\t<li>0.00559971591683966</li>\n",
       "\t<li>0.00559077096446821</li>\n",
       "\t<li>0.00558797173509739</li>\n",
       "\t<li>0.00558488639160456</li>\n",
       "\t<li>0.00557874107804558</li>\n",
       "\t<li>0.00557561483721766</li>\n",
       "\t<li>0.00556870586326121</li>\n",
       "\t<li>0.00556842033894188</li>\n",
       "\t<li>0.00556726361563336</li>\n",
       "\t<li>0.00556562411201341</li>\n",
       "\t<li>0.0055626841069085</li>\n",
       "\t<li>0.00555882538846598</li>\n",
       "\t<li>0.00555798731592774</li>\n",
       "\t<li>0.00555504110338461</li>\n",
       "\t<li>0.00555093204455503</li>\n",
       "\t<li>0.00554499309819972</li>\n",
       "\t<li>0.00553290979610447</li>\n",
       "\t<li>0.00552915338589748</li>\n",
       "\t<li>0.00552459571017131</li>\n",
       "\t<li>0.00552316308033269</li>\n",
       "\t<li>0.00552157356967032</li>\n",
       "\t<li>0.00551905144062451</li>\n",
       "\t<li>0.0055173054394108</li>\n",
       "\t<li>0.00550934227163087</li>\n",
       "\t<li>0.00550395972126098</li>\n",
       "\t<li>0.00550210642495465</li>\n",
       "\t<li>0.00550049258406231</li>\n",
       "\t<li>0.00549821482983183</li>\n",
       "\t<li>0.00549742789910933</li>\n",
       "\t<li>0.00549582267768623</li>\n",
       "\t<li>0.00549434554633456</li>\n",
       "\t<li>0.00549187010662875</li>\n",
       "\t<li>0.00549066460495128</li>\n",
       "\t<li>0.00548637450177667</li>\n",
       "\t<li>0.00548478873646975</li>\n",
       "\t<li>0.00548027250582263</li>\n",
       "\t<li>0.00547759544858217</li>\n",
       "\t<li>0.00547599564431611</li>\n",
       "\t<li>0.00547494475127903</li>\n",
       "\t<li>0.00547396578080345</li>\n",
       "\t<li>0.00547327768565299</li>\n",
       "\t<li>0.00547008346536497</li>\n",
       "\t<li>0.00546867209292355</li>\n",
       "\t<li>0.00546755260954642</li>\n",
       "\t<li>0.00546487842019341</li>\n",
       "\t<li>0.00545983976392447</li>\n",
       "\t<li>0.00545707803278968</li>\n",
       "\t<li>0.00545584804233407</li>\n",
       "\t<li>0.00545315896264745</li>\n",
       "\t<li>0.00544628207794393</li>\n",
       "\t<li>0.00543989281264271</li>\n",
       "\t<li>0.00543554958120847</li>\n",
       "\t<li>0.00543382692036653</li>\n",
       "\t<li>0.0054297903480433</li>\n",
       "\t<li>0.00542871760602366</li>\n",
       "\t<li>0.00542383647725962</li>\n",
       "\t<li>0.0054187678974601</li>\n",
       "\t<li>0.00541090621298588</li>\n",
       "\t<li>0.00540593205170553</li>\n",
       "\t<li>0.00540336535683801</li>\n",
       "\t<li>0.00539555469713312</li>\n",
       "\t<li>0.00538908196657765</li>\n",
       "\t<li>0.00538250967056029</li>\n",
       "\t<li>0.00537301300820346</li>\n",
       "\t<li>0.00537022353326276</li>\n",
       "\t<li>0.00536107583314058</li>\n",
       "\t<li>0.00535971348967254</li>\n",
       "\t<li>0.00535928695856441</li>\n",
       "\t<li>0.00535683235065269</li>\n",
       "\t<li>0.00534716576282798</li>\n",
       "\t<li>0.00532875564384386</li>\n",
       "\t<li>0.00532688189759859</li>\n",
       "\t<li>0.00532337914471798</li>\n",
       "\t<li>0.00530887604774084</li>\n",
       "\t<li>0.00528784330477337</li>\n",
       "\t<li>0.0052757748619408</li>\n",
       "\t<li>0.00527487758417656</li>\n",
       "\t<li>0.00527075731872745</li>\n",
       "\t<li>0.0052628079912485</li>\n",
       "\t<li>0.00526052099781695</li>\n",
       "\t<li>0.00525088847963237</li>\n",
       "\t<li>0.00524985686736567</li>\n",
       "\t<li>0.00524336840837837</li>\n",
       "\t<li>0.00523784699077339</li>\n",
       "\t<li>0.00523629947989492</li>\n",
       "\t<li>0.00523178440260715</li>\n",
       "\t<li>0.00523121148293418</li>\n",
       "\t<li>0.00522987236620866</li>\n",
       "\t<li>0.00522892128515595</li>\n",
       "\t<li>0.00522673632766286</li>\n",
       "\t<li>0.00522329636777695</li>\n",
       "\t<li>0.00522085400121429</li>\n",
       "\t<li>0.00520538765176348</li>\n",
       "\t<li>0.00519594458298359</li>\n",
       "\t<li>0.00519298273382918</li>\n",
       "\t<li>0.00518473063010629</li>\n",
       "\t<li>0.00518306556412112</li>\n",
       "\t<li>0.00516214182719648</li>\n",
       "\t<li>0.00505623471518694</li>\n",
       "\t<li>0.0045830542458217</li>\n",
       "</ol>\n"
      ],
      "text/latex": [
       "\\begin{enumerate*}\n",
       "\\item 0.12456736641053\n",
       "\\item 0.0059506196330943\n",
       "\\item 0.00594655710432143\n",
       "\\item 0.0059341971951576\n",
       "\\item 0.00592380966607005\n",
       "\\item 0.00592315255238701\n",
       "\\item 0.00592126564568464\n",
       "\\item 0.00592049373161058\n",
       "\\item 0.00591975498297175\n",
       "\\item 0.00591282077607761\n",
       "\\item 0.00590909441375794\n",
       "\\item 0.00590240694296702\n",
       "\\item 0.00590132492653431\n",
       "\\item 0.00589464415709459\n",
       "\\item 0.00589183927054507\n",
       "\\item 0.00588525364199673\n",
       "\\item 0.0058837453768071\n",
       "\\item 0.00583064931919342\n",
       "\\item 0.00582963135180029\n",
       "\\item 0.00582850870171885\n",
       "\\item 0.00582763472184951\n",
       "\\item 0.00582480905388258\n",
       "\\item 0.00580245945512272\n",
       "\\item 0.0057978092148017\n",
       "\\item 0.00579625532954455\n",
       "\\item 0.00578979384999718\n",
       "\\item 0.00578248410032139\n",
       "\\item 0.00578093794793952\n",
       "\\item 0.00577670748203814\n",
       "\\item 0.00577403071308628\n",
       "\\item 0.00577180221694866\n",
       "\\item 0.0057654315484755\n",
       "\\item 0.00575892682123122\n",
       "\\item 0.00575783377954805\n",
       "\\item 0.00575698009120692\n",
       "\\item 0.00575430228010977\n",
       "\\item 0.00574145201418253\n",
       "\\item 0.00573654261860086\n",
       "\\item 0.0057345953350587\n",
       "\\item 0.00573266191974078\n",
       "\\item 0.00573013283649887\n",
       "\\item 0.00572707769115489\n",
       "\\item 0.00571711318415198\n",
       "\\item 0.0057070096666482\n",
       "\\item 0.00570414395627929\n",
       "\\item 0.00569794098546899\n",
       "\\item 0.00569698274536848\n",
       "\\item 0.0056901281099404\n",
       "\\item 0.00567355484773255\n",
       "\\item 0.00566496095218894\n",
       "\\item 0.00566211832511818\n",
       "\\item 0.00565639948233017\n",
       "\\item 0.00564661376938736\n",
       "\\item 0.00563654991285931\n",
       "\\item 0.00563300089026011\n",
       "\\item 0.00562628964943162\n",
       "\\item 0.00562041927492758\n",
       "\\item 0.00560799640976808\n",
       "\\item 0.00560019975655276\n",
       "\\item 0.00559971591683966\n",
       "\\item 0.00559077096446821\n",
       "\\item 0.00558797173509739\n",
       "\\item 0.00558488639160456\n",
       "\\item 0.00557874107804558\n",
       "\\item 0.00557561483721766\n",
       "\\item 0.00556870586326121\n",
       "\\item 0.00556842033894188\n",
       "\\item 0.00556726361563336\n",
       "\\item 0.00556562411201341\n",
       "\\item 0.0055626841069085\n",
       "\\item 0.00555882538846598\n",
       "\\item 0.00555798731592774\n",
       "\\item 0.00555504110338461\n",
       "\\item 0.00555093204455503\n",
       "\\item 0.00554499309819972\n",
       "\\item 0.00553290979610447\n",
       "\\item 0.00552915338589748\n",
       "\\item 0.00552459571017131\n",
       "\\item 0.00552316308033269\n",
       "\\item 0.00552157356967032\n",
       "\\item 0.00551905144062451\n",
       "\\item 0.0055173054394108\n",
       "\\item 0.00550934227163087\n",
       "\\item 0.00550395972126098\n",
       "\\item 0.00550210642495465\n",
       "\\item 0.00550049258406231\n",
       "\\item 0.00549821482983183\n",
       "\\item 0.00549742789910933\n",
       "\\item 0.00549582267768623\n",
       "\\item 0.00549434554633456\n",
       "\\item 0.00549187010662875\n",
       "\\item 0.00549066460495128\n",
       "\\item 0.00548637450177667\n",
       "\\item 0.00548478873646975\n",
       "\\item 0.00548027250582263\n",
       "\\item 0.00547759544858217\n",
       "\\item 0.00547599564431611\n",
       "\\item 0.00547494475127903\n",
       "\\item 0.00547396578080345\n",
       "\\item 0.00547327768565299\n",
       "\\item 0.00547008346536497\n",
       "\\item 0.00546867209292355\n",
       "\\item 0.00546755260954642\n",
       "\\item 0.00546487842019341\n",
       "\\item 0.00545983976392447\n",
       "\\item 0.00545707803278968\n",
       "\\item 0.00545584804233407\n",
       "\\item 0.00545315896264745\n",
       "\\item 0.00544628207794393\n",
       "\\item 0.00543989281264271\n",
       "\\item 0.00543554958120847\n",
       "\\item 0.00543382692036653\n",
       "\\item 0.0054297903480433\n",
       "\\item 0.00542871760602366\n",
       "\\item 0.00542383647725962\n",
       "\\item 0.0054187678974601\n",
       "\\item 0.00541090621298588\n",
       "\\item 0.00540593205170553\n",
       "\\item 0.00540336535683801\n",
       "\\item 0.00539555469713312\n",
       "\\item 0.00538908196657765\n",
       "\\item 0.00538250967056029\n",
       "\\item 0.00537301300820346\n",
       "\\item 0.00537022353326276\n",
       "\\item 0.00536107583314058\n",
       "\\item 0.00535971348967254\n",
       "\\item 0.00535928695856441\n",
       "\\item 0.00535683235065269\n",
       "\\item 0.00534716576282798\n",
       "\\item 0.00532875564384386\n",
       "\\item 0.00532688189759859\n",
       "\\item 0.00532337914471798\n",
       "\\item 0.00530887604774084\n",
       "\\item 0.00528784330477337\n",
       "\\item 0.0052757748619408\n",
       "\\item 0.00527487758417656\n",
       "\\item 0.00527075731872745\n",
       "\\item 0.0052628079912485\n",
       "\\item 0.00526052099781695\n",
       "\\item 0.00525088847963237\n",
       "\\item 0.00524985686736567\n",
       "\\item 0.00524336840837837\n",
       "\\item 0.00523784699077339\n",
       "\\item 0.00523629947989492\n",
       "\\item 0.00523178440260715\n",
       "\\item 0.00523121148293418\n",
       "\\item 0.00522987236620866\n",
       "\\item 0.00522892128515595\n",
       "\\item 0.00522673632766286\n",
       "\\item 0.00522329636777695\n",
       "\\item 0.00522085400121429\n",
       "\\item 0.00520538765176348\n",
       "\\item 0.00519594458298359\n",
       "\\item 0.00519298273382918\n",
       "\\item 0.00518473063010629\n",
       "\\item 0.00518306556412112\n",
       "\\item 0.00516214182719648\n",
       "\\item 0.00505623471518694\n",
       "\\item 0.0045830542458217\n",
       "\\end{enumerate*}\n"
      ],
      "text/markdown": [
       "1. 0.12456736641053\n",
       "2. 0.0059506196330943\n",
       "3. 0.00594655710432143\n",
       "4. 0.0059341971951576\n",
       "5. 0.00592380966607005\n",
       "6. 0.00592315255238701\n",
       "7. 0.00592126564568464\n",
       "8. 0.00592049373161058\n",
       "9. 0.00591975498297175\n",
       "10. 0.00591282077607761\n",
       "11. 0.00590909441375794\n",
       "12. 0.00590240694296702\n",
       "13. 0.00590132492653431\n",
       "14. 0.00589464415709459\n",
       "15. 0.00589183927054507\n",
       "16. 0.00588525364199673\n",
       "17. 0.0058837453768071\n",
       "18. 0.00583064931919342\n",
       "19. 0.00582963135180029\n",
       "20. 0.00582850870171885\n",
       "21. 0.00582763472184951\n",
       "22. 0.00582480905388258\n",
       "23. 0.00580245945512272\n",
       "24. 0.0057978092148017\n",
       "25. 0.00579625532954455\n",
       "26. 0.00578979384999718\n",
       "27. 0.00578248410032139\n",
       "28. 0.00578093794793952\n",
       "29. 0.00577670748203814\n",
       "30. 0.00577403071308628\n",
       "31. 0.00577180221694866\n",
       "32. 0.0057654315484755\n",
       "33. 0.00575892682123122\n",
       "34. 0.00575783377954805\n",
       "35. 0.00575698009120692\n",
       "36. 0.00575430228010977\n",
       "37. 0.00574145201418253\n",
       "38. 0.00573654261860086\n",
       "39. 0.0057345953350587\n",
       "40. 0.00573266191974078\n",
       "41. 0.00573013283649887\n",
       "42. 0.00572707769115489\n",
       "43. 0.00571711318415198\n",
       "44. 0.0057070096666482\n",
       "45. 0.00570414395627929\n",
       "46. 0.00569794098546899\n",
       "47. 0.00569698274536848\n",
       "48. 0.0056901281099404\n",
       "49. 0.00567355484773255\n",
       "50. 0.00566496095218894\n",
       "51. 0.00566211832511818\n",
       "52. 0.00565639948233017\n",
       "53. 0.00564661376938736\n",
       "54. 0.00563654991285931\n",
       "55. 0.00563300089026011\n",
       "56. 0.00562628964943162\n",
       "57. 0.00562041927492758\n",
       "58. 0.00560799640976808\n",
       "59. 0.00560019975655276\n",
       "60. 0.00559971591683966\n",
       "61. 0.00559077096446821\n",
       "62. 0.00558797173509739\n",
       "63. 0.00558488639160456\n",
       "64. 0.00557874107804558\n",
       "65. 0.00557561483721766\n",
       "66. 0.00556870586326121\n",
       "67. 0.00556842033894188\n",
       "68. 0.00556726361563336\n",
       "69. 0.00556562411201341\n",
       "70. 0.0055626841069085\n",
       "71. 0.00555882538846598\n",
       "72. 0.00555798731592774\n",
       "73. 0.00555504110338461\n",
       "74. 0.00555093204455503\n",
       "75. 0.00554499309819972\n",
       "76. 0.00553290979610447\n",
       "77. 0.00552915338589748\n",
       "78. 0.00552459571017131\n",
       "79. 0.00552316308033269\n",
       "80. 0.00552157356967032\n",
       "81. 0.00551905144062451\n",
       "82. 0.0055173054394108\n",
       "83. 0.00550934227163087\n",
       "84. 0.00550395972126098\n",
       "85. 0.00550210642495465\n",
       "86. 0.00550049258406231\n",
       "87. 0.00549821482983183\n",
       "88. 0.00549742789910933\n",
       "89. 0.00549582267768623\n",
       "90. 0.00549434554633456\n",
       "91. 0.00549187010662875\n",
       "92. 0.00549066460495128\n",
       "93. 0.00548637450177667\n",
       "94. 0.00548478873646975\n",
       "95. 0.00548027250582263\n",
       "96. 0.00547759544858217\n",
       "97. 0.00547599564431611\n",
       "98. 0.00547494475127903\n",
       "99. 0.00547396578080345\n",
       "100. 0.00547327768565299\n",
       "101. 0.00547008346536497\n",
       "102. 0.00546867209292355\n",
       "103. 0.00546755260954642\n",
       "104. 0.00546487842019341\n",
       "105. 0.00545983976392447\n",
       "106. 0.00545707803278968\n",
       "107. 0.00545584804233407\n",
       "108. 0.00545315896264745\n",
       "109. 0.00544628207794393\n",
       "110. 0.00543989281264271\n",
       "111. 0.00543554958120847\n",
       "112. 0.00543382692036653\n",
       "113. 0.0054297903480433\n",
       "114. 0.00542871760602366\n",
       "115. 0.00542383647725962\n",
       "116. 0.0054187678974601\n",
       "117. 0.00541090621298588\n",
       "118. 0.00540593205170553\n",
       "119. 0.00540336535683801\n",
       "120. 0.00539555469713312\n",
       "121. 0.00538908196657765\n",
       "122. 0.00538250967056029\n",
       "123. 0.00537301300820346\n",
       "124. 0.00537022353326276\n",
       "125. 0.00536107583314058\n",
       "126. 0.00535971348967254\n",
       "127. 0.00535928695856441\n",
       "128. 0.00535683235065269\n",
       "129. 0.00534716576282798\n",
       "130. 0.00532875564384386\n",
       "131. 0.00532688189759859\n",
       "132. 0.00532337914471798\n",
       "133. 0.00530887604774084\n",
       "134. 0.00528784330477337\n",
       "135. 0.0052757748619408\n",
       "136. 0.00527487758417656\n",
       "137. 0.00527075731872745\n",
       "138. 0.0052628079912485\n",
       "139. 0.00526052099781695\n",
       "140. 0.00525088847963237\n",
       "141. 0.00524985686736567\n",
       "142. 0.00524336840837837\n",
       "143. 0.00523784699077339\n",
       "144. 0.00523629947989492\n",
       "145. 0.00523178440260715\n",
       "146. 0.00523121148293418\n",
       "147. 0.00522987236620866\n",
       "148. 0.00522892128515595\n",
       "149. 0.00522673632766286\n",
       "150. 0.00522329636777695\n",
       "151. 0.00522085400121429\n",
       "152. 0.00520538765176348\n",
       "153. 0.00519594458298359\n",
       "154. 0.00519298273382918\n",
       "155. 0.00518473063010629\n",
       "156. 0.00518306556412112\n",
       "157. 0.00516214182719648\n",
       "158. 0.00505623471518694\n",
       "159. 0.0045830542458217\n",
       "\n",
       "\n"
      ],
      "text/plain": [
       "  [1] 0.124567366 0.005950620 0.005946557 0.005934197 0.005923810 0.005923153\n",
       "  [7] 0.005921266 0.005920494 0.005919755 0.005912821 0.005909094 0.005902407\n",
       " [13] 0.005901325 0.005894644 0.005891839 0.005885254 0.005883745 0.005830649\n",
       " [19] 0.005829631 0.005828509 0.005827635 0.005824809 0.005802459 0.005797809\n",
       " [25] 0.005796255 0.005789794 0.005782484 0.005780938 0.005776707 0.005774031\n",
       " [31] 0.005771802 0.005765432 0.005758927 0.005757834 0.005756980 0.005754302\n",
       " [37] 0.005741452 0.005736543 0.005734595 0.005732662 0.005730133 0.005727078\n",
       " [43] 0.005717113 0.005707010 0.005704144 0.005697941 0.005696983 0.005690128\n",
       " [49] 0.005673555 0.005664961 0.005662118 0.005656399 0.005646614 0.005636550\n",
       " [55] 0.005633001 0.005626290 0.005620419 0.005607996 0.005600200 0.005599716\n",
       " [61] 0.005590771 0.005587972 0.005584886 0.005578741 0.005575615 0.005568706\n",
       " [67] 0.005568420 0.005567264 0.005565624 0.005562684 0.005558825 0.005557987\n",
       " [73] 0.005555041 0.005550932 0.005544993 0.005532910 0.005529153 0.005524596\n",
       " [79] 0.005523163 0.005521574 0.005519051 0.005517305 0.005509342 0.005503960\n",
       " [85] 0.005502106 0.005500493 0.005498215 0.005497428 0.005495823 0.005494346\n",
       " [91] 0.005491870 0.005490665 0.005486375 0.005484789 0.005480273 0.005477595\n",
       " [97] 0.005475996 0.005474945 0.005473966 0.005473278 0.005470083 0.005468672\n",
       "[103] 0.005467553 0.005464878 0.005459840 0.005457078 0.005455848 0.005453159\n",
       "[109] 0.005446282 0.005439893 0.005435550 0.005433827 0.005429790 0.005428718\n",
       "[115] 0.005423836 0.005418768 0.005410906 0.005405932 0.005403365 0.005395555\n",
       "[121] 0.005389082 0.005382510 0.005373013 0.005370224 0.005361076 0.005359713\n",
       "[127] 0.005359287 0.005356832 0.005347166 0.005328756 0.005326882 0.005323379\n",
       "[133] 0.005308876 0.005287843 0.005275775 0.005274878 0.005270757 0.005262808\n",
       "[139] 0.005260521 0.005250888 0.005249857 0.005243368 0.005237847 0.005236299\n",
       "[145] 0.005231784 0.005231211 0.005229872 0.005228921 0.005226736 0.005223296\n",
       "[151] 0.005220854 0.005205388 0.005195945 0.005192983 0.005184731 0.005183066\n",
       "[157] 0.005162142 0.005056235 0.004583054"
      ]
     },
     "metadata": {},
     "output_type": "display_data"
    }
   ],
   "source": [
    "#variance explained?\n",
    "ev$values/sum(ev$values)"
   ]
  },
  {
   "cell_type": "code",
   "execution_count": 204,
   "id": "d79b92c3",
   "metadata": {},
   "outputs": [],
   "source": [
    "#bamlist <- fread(\"~/ClownfishGWAS/data/APPC_sequencing/DNA/trimmed_reads/mapping/genotypes/bamlist.list.txt\")\n",
    "meta <- fread(\"/data/katrinac/APPC_sequencing/DNA/trimmed_reads/mapping/genotypes/angsd/Sample_Meta.txt\")[is.na(Group), Group :=-999][Group==\"High\", Group:=1][Group==\"Low\", Group:=0][, .(sample=gen_id, ucrit=Ucrit, sl=SL, dam, sire, case=Group, capture=Capture)]\n",
    "\n",
    "#case_control_pheno <- fread(\"~/ClownfishGWAS/data/APPC_sequencing/DNA/trimmed_reads/mapping/genotypes/angsd/case_control_pheno.ybin\")\n",
    "#setnames(case_control_pheno, \"case\")\n",
    "#sl_pheno <- fread(\"~/ClownfishGWAS/data/APPC_sequencing/DNA/trimmed_reads/mapping/genotypes/angsd/SL_pheno.ybin\")\n",
    "#setnames(sl_pheno, \"sl\")\n",
    "#ucrit_pheno <- fread(\"~/ClownfishGWAS/data/APPC_sequencing/DNA/trimmed_reads/mapping/genotypes/angsd/Ucrit_pheno.ybin\")\n",
    "#setnames(ucrit_pheno, \"ucrit\")"
   ]
  },
  {
   "cell_type": "code",
   "execution_count": 10,
   "id": "1d494c6e",
   "metadata": {},
   "outputs": [
    {
     "data": {
      "text/html": [
       "<table>\n",
       "<thead><tr><th scope=col>sample</th><th scope=col>ucrit</th><th scope=col>sl</th><th scope=col>dam</th><th scope=col>sire</th><th scope=col>case</th><th scope=col>capture</th></tr></thead>\n",
       "<tbody>\n",
       "\t<tr><td>Pop01_APPC1611</td><td>8.13          </td><td>4.40          </td><td>D125          </td><td>S144          </td><td>1             </td><td>Pop01         </td></tr>\n",
       "\t<tr><td>Pop01_APPC1917</td><td>1.20          </td><td>4.35          </td><td>D85           </td><td>S173          </td><td>0             </td><td>Pop01         </td></tr>\n",
       "\t<tr><td>Pop01_APPC1921</td><td>7.33          </td><td>4.28          </td><td>D85           </td><td>S173          </td><td>1             </td><td>Pop01         </td></tr>\n",
       "\t<tr><td>Pop01_APPC2029</td><td>8.82          </td><td>4.25          </td><td>D70           </td><td>S98           </td><td>1             </td><td>Pop01         </td></tr>\n",
       "\t<tr><td>Pop01_APPC2030</td><td>7.32          </td><td>4.54          </td><td>D70           </td><td>S98           </td><td>1             </td><td>Pop01         </td></tr>\n",
       "\t<tr><td>Pop01_APPC2101</td><td>5.07          </td><td>3.94          </td><td>D269          </td><td>S94           </td><td>1             </td><td>Pop01         </td></tr>\n",
       "</tbody>\n",
       "</table>\n"
      ],
      "text/latex": [
       "\\begin{tabular}{r|lllllll}\n",
       " sample & ucrit & sl & dam & sire & case & capture\\\\\n",
       "\\hline\n",
       "\t Pop01\\_APPC1611 & 8.13             & 4.40             & D125             & S144             & 1                & Pop01           \\\\\n",
       "\t Pop01\\_APPC1917 & 1.20             & 4.35             & D85              & S173             & 0                & Pop01           \\\\\n",
       "\t Pop01\\_APPC1921 & 7.33             & 4.28             & D85              & S173             & 1                & Pop01           \\\\\n",
       "\t Pop01\\_APPC2029 & 8.82             & 4.25             & D70              & S98              & 1                & Pop01           \\\\\n",
       "\t Pop01\\_APPC2030 & 7.32             & 4.54             & D70              & S98              & 1                & Pop01           \\\\\n",
       "\t Pop01\\_APPC2101 & 5.07             & 3.94             & D269             & S94              & 1                & Pop01           \\\\\n",
       "\\end{tabular}\n"
      ],
      "text/markdown": [
       "\n",
       "| sample | ucrit | sl | dam | sire | case | capture |\n",
       "|---|---|---|---|---|---|---|\n",
       "| Pop01_APPC1611 | 8.13           | 4.40           | D125           | S144           | 1              | Pop01          |\n",
       "| Pop01_APPC1917 | 1.20           | 4.35           | D85            | S173           | 0              | Pop01          |\n",
       "| Pop01_APPC1921 | 7.33           | 4.28           | D85            | S173           | 1              | Pop01          |\n",
       "| Pop01_APPC2029 | 8.82           | 4.25           | D70            | S98            | 1              | Pop01          |\n",
       "| Pop01_APPC2030 | 7.32           | 4.54           | D70            | S98            | 1              | Pop01          |\n",
       "| Pop01_APPC2101 | 5.07           | 3.94           | D269           | S94            | 1              | Pop01          |\n",
       "\n"
      ],
      "text/plain": [
       "  sample         ucrit sl   dam  sire case capture\n",
       "1 Pop01_APPC1611 8.13  4.40 D125 S144 1    Pop01  \n",
       "2 Pop01_APPC1917 1.20  4.35 D85  S173 0    Pop01  \n",
       "3 Pop01_APPC1921 7.33  4.28 D85  S173 1    Pop01  \n",
       "4 Pop01_APPC2029 8.82  4.25 D70  S98  1    Pop01  \n",
       "5 Pop01_APPC2030 7.32  4.54 D70  S98  1    Pop01  \n",
       "6 Pop01_APPC2101 5.07  3.94 D269 S94  1    Pop01  "
      ]
     },
     "metadata": {},
     "output_type": "display_data"
    }
   ],
   "source": [
    "head(meta)"
   ]
  },
  {
   "cell_type": "code",
   "execution_count": null,
   "id": "f6663b2c",
   "metadata": {},
   "outputs": [],
   "source": [
    "#meta[, bam_id := paste(Capture, larvalID, sep=\"_\")] #make a name column consistent with bamlist\n",
    "#join with bamlist\n",
    "#bam_meta <- left_join(bamlist, meta, by=c(sample=\"gen_id\"))[, .(sample, ucrit=Ucrit, sl=SL, dam, sire, case=Group, capture=Capture)]"
   ]
  },
  {
   "cell_type": "code",
   "execution_count": null,
   "id": "59755411",
   "metadata": {},
   "outputs": [],
   "source": [
    "#check that the angsd assoc phenotypes were in the right order\n",
    "#(bam_meta$case==case_control_pheno$case)\n",
    "#(bam_meta$ucrit== ucrit_pheno$ucrit)\n",
    "#(bam_meta$sl== sl_pheno$sl)"
   ]
  },
  {
   "cell_type": "code",
   "execution_count": 407,
   "id": "f6617b93",
   "metadata": {},
   "outputs": [],
   "source": [
    "pca_phenos <- cbind(meta , ev_dt)[, sequencing_lib := ifelse(capture %in% c(\"Pop01\",\"Pop02\",\"Pop03\", \"Pop04\", \"Pop05\", \"Pop06\", \"Pop07\",\"Pop08\"), 1, 2)]"
   ]
  },
  {
   "cell_type": "code",
   "execution_count": 408,
   "id": "558f097f",
   "metadata": {},
   "outputs": [
    {
     "data": {
      "text/html": [
       "<table>\n",
       "<thead><tr><th scope=col>sample</th><th scope=col>ucrit</th><th scope=col>sl</th><th scope=col>dam</th><th scope=col>sire</th><th scope=col>case</th><th scope=col>capture</th><th scope=col>pc1</th><th scope=col>pc2</th><th scope=col>pc3</th><th scope=col>pc4</th><th scope=col>pc5</th><th scope=col>pc6</th><th scope=col>pc7</th><th scope=col>pc8</th><th scope=col>pc9</th><th scope=col>pc10</th><th scope=col>sequencing_lib</th></tr></thead>\n",
       "<tbody>\n",
       "\t<tr><td>Pop01_APPC1611</td><td>8.13          </td><td>4.40          </td><td>D125          </td><td>S144          </td><td>1             </td><td>Pop01         </td><td>-0.091565420  </td><td>-0.004939105  </td><td>-0.002686270  </td><td>-5.062898e-04 </td><td> 5.998697e-05 </td><td>-4.184335e-05 </td><td> 9.057768e-05 </td><td>-1.479103e-04 </td><td>-2.135865e-04 </td><td>-5.174197e-04 </td><td>1             </td></tr>\n",
       "\t<tr><td>Pop01_APPC1917</td><td>1.20          </td><td>4.35          </td><td>D85           </td><td>S173          </td><td>0             </td><td>Pop01         </td><td>-0.116673430  </td><td>-0.006175060  </td><td>-0.002988189  </td><td>-4.050871e-04 </td><td> 2.943136e-04 </td><td>-1.332973e-04 </td><td>-1.166735e-04 </td><td>-8.922913e-05 </td><td>-4.047281e-05 </td><td>-4.050558e-04 </td><td>1             </td></tr>\n",
       "\t<tr><td>Pop01_APPC1921</td><td>7.33          </td><td>4.28          </td><td>D85           </td><td>S173          </td><td>1             </td><td>Pop01         </td><td> 0.001539587  </td><td> 0.001758076  </td><td>-0.001468365  </td><td> 8.874239e-04 </td><td> 3.736911e-05 </td><td>-9.185312e-03 </td><td>-2.439356e-02 </td><td>-9.983102e-01 </td><td> 5.096173e-02 </td><td>-8.013393e-05 </td><td>1             </td></tr>\n",
       "\t<tr><td>Pop01_APPC2029</td><td>8.82          </td><td>4.25          </td><td>D70           </td><td>S98           </td><td>1             </td><td>Pop01         </td><td>-0.055120023  </td><td>-0.002264812  </td><td>-0.002080216  </td><td>-2.511301e-05 </td><td>-1.452518e-04 </td><td>-2.515533e-04 </td><td>-5.207540e-03 </td><td> 4.584080e-05 </td><td> 1.327576e-04 </td><td>-1.887562e-03 </td><td>1             </td></tr>\n",
       "\t<tr><td>Pop01_APPC2030</td><td>7.32          </td><td>4.54          </td><td>D70           </td><td>S98           </td><td>1             </td><td>Pop01         </td><td> 0.016379895  </td><td> 0.007483771  </td><td> 0.001512953  </td><td> 1.697870e-03 </td><td> 1.428538e-03 </td><td> 6.359939e-04 </td><td>-3.826000e-04 </td><td> 6.341601e-04 </td><td> 4.695597e-04 </td><td> 1.685231e-03 </td><td>1             </td></tr>\n",
       "\t<tr><td>Pop01_APPC2101</td><td>5.07          </td><td>3.94          </td><td>D269          </td><td>S94           </td><td>1             </td><td>Pop01         </td><td> 0.083303403  </td><td> 0.003833755  </td><td> 0.034647041  </td><td> 3.936080e-04 </td><td>-1.082421e-04 </td><td> 2.363064e-04 </td><td>-4.425574e-04 </td><td> 2.268637e-04 </td><td> 1.499853e-04 </td><td>-1.375006e-04 </td><td>1             </td></tr>\n",
       "</tbody>\n",
       "</table>\n"
      ],
      "text/latex": [
       "\\begin{tabular}{r|llllllllllllllllll}\n",
       " sample & ucrit & sl & dam & sire & case & capture & pc1 & pc2 & pc3 & pc4 & pc5 & pc6 & pc7 & pc8 & pc9 & pc10 & sequencing\\_lib\\\\\n",
       "\\hline\n",
       "\t Pop01\\_APPC1611 & 8.13             & 4.40             & D125             & S144             & 1                & Pop01            & -0.091565420     & -0.004939105     & -0.002686270     & -5.062898e-04    &  5.998697e-05    & -4.184335e-05    &  9.057768e-05    & -1.479103e-04    & -2.135865e-04    & -5.174197e-04    & 1               \\\\\n",
       "\t Pop01\\_APPC1917 & 1.20             & 4.35             & D85              & S173             & 0                & Pop01            & -0.116673430     & -0.006175060     & -0.002988189     & -4.050871e-04    &  2.943136e-04    & -1.332973e-04    & -1.166735e-04    & -8.922913e-05    & -4.047281e-05    & -4.050558e-04    & 1               \\\\\n",
       "\t Pop01\\_APPC1921 & 7.33             & 4.28             & D85              & S173             & 1                & Pop01            &  0.001539587     &  0.001758076     & -0.001468365     &  8.874239e-04    &  3.736911e-05    & -9.185312e-03    & -2.439356e-02    & -9.983102e-01    &  5.096173e-02    & -8.013393e-05    & 1               \\\\\n",
       "\t Pop01\\_APPC2029 & 8.82             & 4.25             & D70              & S98              & 1                & Pop01            & -0.055120023     & -0.002264812     & -0.002080216     & -2.511301e-05    & -1.452518e-04    & -2.515533e-04    & -5.207540e-03    &  4.584080e-05    &  1.327576e-04    & -1.887562e-03    & 1               \\\\\n",
       "\t Pop01\\_APPC2030 & 7.32             & 4.54             & D70              & S98              & 1                & Pop01            &  0.016379895     &  0.007483771     &  0.001512953     &  1.697870e-03    &  1.428538e-03    &  6.359939e-04    & -3.826000e-04    &  6.341601e-04    &  4.695597e-04    &  1.685231e-03    & 1               \\\\\n",
       "\t Pop01\\_APPC2101 & 5.07             & 3.94             & D269             & S94              & 1                & Pop01            &  0.083303403     &  0.003833755     &  0.034647041     &  3.936080e-04    & -1.082421e-04    &  2.363064e-04    & -4.425574e-04    &  2.268637e-04    &  1.499853e-04    & -1.375006e-04    & 1               \\\\\n",
       "\\end{tabular}\n"
      ],
      "text/markdown": [
       "\n",
       "| sample | ucrit | sl | dam | sire | case | capture | pc1 | pc2 | pc3 | pc4 | pc5 | pc6 | pc7 | pc8 | pc9 | pc10 | sequencing_lib |\n",
       "|---|---|---|---|---|---|---|---|---|---|---|---|---|---|---|---|---|---|\n",
       "| Pop01_APPC1611 | 8.13           | 4.40           | D125           | S144           | 1              | Pop01          | -0.091565420   | -0.004939105   | -0.002686270   | -5.062898e-04  |  5.998697e-05  | -4.184335e-05  |  9.057768e-05  | -1.479103e-04  | -2.135865e-04  | -5.174197e-04  | 1              |\n",
       "| Pop01_APPC1917 | 1.20           | 4.35           | D85            | S173           | 0              | Pop01          | -0.116673430   | -0.006175060   | -0.002988189   | -4.050871e-04  |  2.943136e-04  | -1.332973e-04  | -1.166735e-04  | -8.922913e-05  | -4.047281e-05  | -4.050558e-04  | 1              |\n",
       "| Pop01_APPC1921 | 7.33           | 4.28           | D85            | S173           | 1              | Pop01          |  0.001539587   |  0.001758076   | -0.001468365   |  8.874239e-04  |  3.736911e-05  | -9.185312e-03  | -2.439356e-02  | -9.983102e-01  |  5.096173e-02  | -8.013393e-05  | 1              |\n",
       "| Pop01_APPC2029 | 8.82           | 4.25           | D70            | S98            | 1              | Pop01          | -0.055120023   | -0.002264812   | -0.002080216   | -2.511301e-05  | -1.452518e-04  | -2.515533e-04  | -5.207540e-03  |  4.584080e-05  |  1.327576e-04  | -1.887562e-03  | 1              |\n",
       "| Pop01_APPC2030 | 7.32           | 4.54           | D70            | S98            | 1              | Pop01          |  0.016379895   |  0.007483771   |  0.001512953   |  1.697870e-03  |  1.428538e-03  |  6.359939e-04  | -3.826000e-04  |  6.341601e-04  |  4.695597e-04  |  1.685231e-03  | 1              |\n",
       "| Pop01_APPC2101 | 5.07           | 3.94           | D269           | S94            | 1              | Pop01          |  0.083303403   |  0.003833755   |  0.034647041   |  3.936080e-04  | -1.082421e-04  |  2.363064e-04  | -4.425574e-04  |  2.268637e-04  |  1.499853e-04  | -1.375006e-04  | 1              |\n",
       "\n"
      ],
      "text/plain": [
       "  sample         ucrit sl   dam  sire case capture pc1          pc2         \n",
       "1 Pop01_APPC1611 8.13  4.40 D125 S144 1    Pop01   -0.091565420 -0.004939105\n",
       "2 Pop01_APPC1917 1.20  4.35 D85  S173 0    Pop01   -0.116673430 -0.006175060\n",
       "3 Pop01_APPC1921 7.33  4.28 D85  S173 1    Pop01    0.001539587  0.001758076\n",
       "4 Pop01_APPC2029 8.82  4.25 D70  S98  1    Pop01   -0.055120023 -0.002264812\n",
       "5 Pop01_APPC2030 7.32  4.54 D70  S98  1    Pop01    0.016379895  0.007483771\n",
       "6 Pop01_APPC2101 5.07  3.94 D269 S94  1    Pop01    0.083303403  0.003833755\n",
       "  pc3          pc4           pc5           pc6           pc7          \n",
       "1 -0.002686270 -5.062898e-04  5.998697e-05 -4.184335e-05  9.057768e-05\n",
       "2 -0.002988189 -4.050871e-04  2.943136e-04 -1.332973e-04 -1.166735e-04\n",
       "3 -0.001468365  8.874239e-04  3.736911e-05 -9.185312e-03 -2.439356e-02\n",
       "4 -0.002080216 -2.511301e-05 -1.452518e-04 -2.515533e-04 -5.207540e-03\n",
       "5  0.001512953  1.697870e-03  1.428538e-03  6.359939e-04 -3.826000e-04\n",
       "6  0.034647041  3.936080e-04 -1.082421e-04  2.363064e-04 -4.425574e-04\n",
       "  pc8           pc9           pc10          sequencing_lib\n",
       "1 -1.479103e-04 -2.135865e-04 -5.174197e-04 1             \n",
       "2 -8.922913e-05 -4.047281e-05 -4.050558e-04 1             \n",
       "3 -9.983102e-01  5.096173e-02 -8.013393e-05 1             \n",
       "4  4.584080e-05  1.327576e-04 -1.887562e-03 1             \n",
       "5  6.341601e-04  4.695597e-04  1.685231e-03 1             \n",
       "6  2.268637e-04  1.499853e-04 -1.375006e-04 1             "
      ]
     },
     "metadata": {},
     "output_type": "display_data"
    }
   ],
   "source": [
    "head(pca_phenos)\n"
   ]
  },
  {
   "cell_type": "code",
   "execution_count": 50,
   "id": "72902b05",
   "metadata": {},
   "outputs": [],
   "source": [
    "ForAngsdGWAS <- pca_phenos[, .(sample, phe1=ucrit, phe2=sl, phe3=case, cov1=pc1)]"
   ]
  },
  {
   "cell_type": "code",
   "execution_count": 40,
   "id": "d6038bbd",
   "metadata": {},
   "outputs": [],
   "source": [
    "#fwrite(ForAngsdGWAS, \"~/ClownfishGWAS/data/APPC_sequencing/DNA/trimmed_reads/mapping/genotypes/angsd/ForAngsdGWAS.sample\", sep=\",\")"
   ]
  },
  {
   "cell_type": "code",
   "execution_count": 215,
   "id": "b7eaad9a",
   "metadata": {},
   "outputs": [],
   "source": [
    "#fwrite(pca[, 1:10], \"/data/katrinac/APPC_sequencing/DNA/trimmed_reads/mapping/ensembl/genotypes/angsd/pc1-10.cov\")"
   ]
  },
  {
   "cell_type": "code",
   "execution_count": 214,
   "id": "b744090f",
   "metadata": {
    "scrolled": false
   },
   "outputs": [
    {
     "data": {
      "text/html": [
       "<ol class=list-inline>\n",
       "\t<li>159</li>\n",
       "\t<li>10</li>\n",
       "</ol>\n"
      ],
      "text/latex": [
       "\\begin{enumerate*}\n",
       "\\item 159\n",
       "\\item 10\n",
       "\\end{enumerate*}\n"
      ],
      "text/markdown": [
       "1. 159\n",
       "2. 10\n",
       "\n",
       "\n"
      ],
      "text/plain": [
       "[1] 159  10"
      ]
     },
     "metadata": {},
     "output_type": "display_data"
    }
   ],
   "source": [
    "dim(pca[, 1:10])"
   ]
  },
  {
   "cell_type": "code",
   "execution_count": 207,
   "id": "e030bb66",
   "metadata": {},
   "outputs": [
    {
     "ename": "ERROR",
     "evalue": "Error in plot.new(): figure margins too large\n",
     "output_type": "error",
     "traceback": [
      "Error in plot.new(): figure margins too large\nTraceback:\n",
      "1. plot(pca)",
      "2. plot.data.frame(pca)",
      "3. pairs(data.matrix(x), ...)",
      "4. pairs.default(data.matrix(x), ...)",
      "5. localPlot(x[, j], x[, i], xlab = \"\", ylab = \"\", axes = FALSE, \n .     type = \"n\", ..., log = l)",
      "6. plot(...)",
      "7. plot.default(...)",
      "8. plot.new()"
     ]
    }
   ],
   "source": [
    "plot(pca)"
   ]
  },
  {
   "cell_type": "code",
   "execution_count": 409,
   "id": "b5923c5e",
   "metadata": {},
   "outputs": [
    {
     "data": {
      "image/png": "[encoded data removed]",
      "text/plain": [
       "plot without title"
      ]
     },
     "metadata": {},
     "output_type": "display_data"
    }
   ],
   "source": [
    "ggplot()+\n",
    "    geom_point(data=pca_phenos, aes(x=pc1, y=pc2, col=as.factor(case)))"
   ]
  },
  {
   "cell_type": "code",
   "execution_count": 112,
   "id": "4d1a8fb5",
   "metadata": {},
   "outputs": [],
   "source": [
    "#ggplot()+\n",
    "#    geom_point(data=pca_phenos[], aes(x=pc1, y=pc2, col=sl)) +\n",
    "#    scale_color_viridis(color.palette=magma)"
   ]
  },
  {
   "cell_type": "code",
   "execution_count": 111,
   "id": "ec932d46",
   "metadata": {},
   "outputs": [],
   "source": [
    "#ggplot()+\n",
    "#    geom_point(data=pca_phenos, aes(x=pc1, y=pc2, col=ucrit)) +\n",
    "#    scale_color_viridis(option=\"magma\")"
   ]
  },
  {
   "cell_type": "code",
   "execution_count": 110,
   "id": "b95e379a",
   "metadata": {},
   "outputs": [],
   "source": [
    "#ggplot()+\n",
    "#    geom_point(data=pca_phenos, aes(x=pc1, y=pc2, col=sequencing_lib)) +\n",
    "#    scale_color_viridis(option=\"magma\")"
   ]
  },
  {
   "cell_type": "code",
   "execution_count": 109,
   "id": "a8e84cbb",
   "metadata": {},
   "outputs": [],
   "source": [
    "#ggplot()+\n",
    "#    geom_point(data=pca_phenos, aes(x=pc1, y=pc2, col=capture)) "
   ]
  },
  {
   "cell_type": "markdown",
   "id": "0b2f3e30",
   "metadata": {},
   "source": [
    "# plot GWAS results"
   ]
  },
  {
   "cell_type": "code",
   "execution_count": 410,
   "id": "8127d027",
   "metadata": {
    "scrolled": false
   },
   "outputs": [
    {
     "data": {
      "text/html": [
       "<table>\n",
       "<thead><tr><th scope=col>Chromosome</th><th scope=col>Position</th><th scope=col>Major</th><th scope=col>Minor</th><th scope=col>Frequency</th><th scope=col>N</th><th scope=col>LRT</th><th scope=col>high_WT/HE/HO</th><th scope=col>locus</th><th scope=col>pvalue</th><th scope=col>SNP</th><th scope=col>pvalue_corr</th></tr></thead>\n",
       "<tbody>\n",
       "</tbody>\n",
       "</table>\n"
      ],
      "text/latex": [
       "\\begin{tabular}{r|llllllllllll}\n",
       " Chromosome & Position & Major & Minor & Frequency & N & LRT & high\\_WT/HE/HO & locus & pvalue & SNP & pvalue\\_corr\\\\\n",
       "\\hline\n",
       "\\end{tabular}\n"
      ],
      "text/markdown": [
       "\n",
       "| Chromosome | Position | Major | Minor | Frequency | N | LRT | high_WT/HE/HO | locus | pvalue | SNP | pvalue_corr |\n",
       "|---|---|---|---|---|---|---|---|---|---|---|---|\n",
       "\n"
      ],
      "text/plain": [
       "     Chromosome Position Major Minor Frequency N LRT high_WT/HE/HO locus pvalue\n",
       "     SNP pvalue_corr"
      ]
     },
     "metadata": {},
     "output_type": "display_data"
    },
    {
     "name": "stdout",
     "output_type": "stream",
     "text": [
      "\n",
      "Call:\n",
      "qvalue(p = lrt_filt[pvalue < 1, pvalue])\n",
      "\n",
      "pi0:\t0.4158607\t\n",
      "\n",
      "Cumulative number of significant calls:\n",
      "\n",
      "          <1e-04 <0.001 <0.01 <0.025 <0.05  <0.1     <1\n",
      "p-value        6     90  1341   4073  9157 20064 134124\n",
      "q-value        0      0     0      0     0     0 134124\n",
      "local FDR      0      0     0      0     0     0 134030\n",
      "\n"
     ]
    },
    {
     "data": {
      "image/png": "[encoded data removed]",
      "text/plain": [
       "plot without title"
      ]
     },
     "metadata": {},
     "output_type": "display_data"
    },
    {
     "data": {
      "image/png": "[encoded data removed]",
      "text/plain": [
       "plot without title"
      ]
     },
     "metadata": {},
     "output_type": "display_data"
    }
   ],
   "source": [
    "#read in hwe results \n",
    "hwe <- fread(\"/data/katrinac/APPC_sequencing/DNA/trimmed_reads/mapping/genotypes/angsd/ensembl_appc_angsd_probs_doGeno8.hwe.gz\")\n",
    "setnames(hwe, 9, \"p\")\n",
    "#make a locus column \n",
    "hwe[, locus := paste(Chromo, Position, sep=\":\")]\n",
    "\n",
    "#read in the gwas results\n",
    "lrt <- fread(\"/data/katrinac/APPC_sequencing/DNA/trimmed_reads/mapping/ensembl/genotypes/angsd/bin_doAssoc2.lrt0.gz\")\n",
    "#make a locus column \n",
    "lrt[, locus := paste(Chromosome, Position, sep=\":\")]\n",
    "#filter out loci in hwe and NAN\n",
    "lrt_filt <- lrt[locus %!in% hwe[p < 0.05, locus]][LRT>0]\n",
    "\n",
    "#format for manhattan plot\n",
    "#get pvalues\n",
    "lrt_filt$pvalue<-dchisq(lrt_filt$LRT, df=1)\n",
    "#lrt_filt[, Chromosome := gsub(\".\",\"\", Chromosome, fixed = T)][, Chromosome := gsub(\"CM\",\"\", Chromosome, fixed = T)][, Chromosome := gsub(\"PYAM\",\"\", Chromosome, fixed = T)]\n",
    "#lrt_filt[, Chromosome := as.numeric(Chromosome)]\n",
    "lrt_filt$SNP<-paste(\"r\",1:length(lrt_filt$Chromosome), sep=\"\")\n",
    "\n",
    "# For p-values, calculate chi-squared statistic\n",
    "#lrt_filt[,chisq := qchisq(1-pvalue,1)]\n",
    "#chsq <- (lrt_filt[!is.nan(chisq), chisq])\n",
    "\n",
    "#Calculate GIF, lambda gc (λgc)\n",
    "#median(chsq, na.rm = T)/qchisq(0.5,1)\n",
    "#plot model fit\n",
    "qqman::qq(lrt_filt$pvalue) \n",
    "#lrt_filt[order(pvalue)][1:10]\n",
    "#lrt_filt[order(pvalue)][pvalue <1e-6, SNP]\n",
    "\n",
    "#use q value\n",
    "lrt_filt[, pvalue_corr := ifelse(pvalue >1, 1, pvalue)]\n",
    "\n",
    "qobj <- qvalue(lrt_filt[pvalue <1 ,pvalue]) #can adjust fdr here\n",
    "qobj_fdrlevel <- qvalue(p = lrt_filt[pvalue <1 ,pvalue], fdr.level = 0.1)\n",
    "signif <- which(qobj_fdrlevel$significant==TRUE)\n",
    "#signif <- which(qobj$significant==TRUE)\n",
    "lrt_filt[pvalue < 1][signif,][order(pvalue)]\n",
    "\n",
    "#qvalues <- qobj$qvalues\n",
    "pi0 <- qobj$pi0\n",
    "#lfdr <- qobj$lfdr\n",
    "\n",
    "summary(qobj)\n",
    "hist(qobj)\n",
    "#plot(qobj)"
   ]
  },
  {
   "cell_type": "code",
   "execution_count": 363,
   "id": "4b228adb",
   "metadata": {},
   "outputs": [],
   "source": [
    "qobj_fdrlevel <- qvalue(p = lrt_filt[pvalue <1 ,pvalue], fdr.level = 0.1)"
   ]
  },
  {
   "cell_type": "code",
   "execution_count": 364,
   "id": "8b361d66",
   "metadata": {},
   "outputs": [],
   "source": [
    "signif <- which(qobj_fdrlevel$significant==TRUE)"
   ]
  },
  {
   "cell_type": "code",
   "execution_count": 366,
   "id": "7510152e",
   "metadata": {},
   "outputs": [
    {
     "data": {
      "text/html": [
       "<table>\n",
       "<thead><tr><th scope=col>Chromosome</th><th scope=col>Position</th><th scope=col>Major</th><th scope=col>Minor</th><th scope=col>Frequency</th><th scope=col>LRT</th><th scope=col>locus</th></tr></thead>\n",
       "<tbody>\n",
       "\t<tr><td>11         </td><td>27595087   </td><td>C          </td><td>T          </td><td>0.399784   </td><td>29.15078   </td><td>11:27595087</td></tr>\n",
       "</tbody>\n",
       "</table>\n"
      ],
      "text/latex": [
       "\\begin{tabular}{r|lllllll}\n",
       " Chromosome & Position & Major & Minor & Frequency & LRT & locus\\\\\n",
       "\\hline\n",
       "\t 11          & 27595087    & C           & T           & 0.399784    & 29.15078    & 11:27595087\\\\\n",
       "\\end{tabular}\n"
      ],
      "text/markdown": [
       "\n",
       "| Chromosome | Position | Major | Minor | Frequency | LRT | locus |\n",
       "|---|---|---|---|---|---|---|\n",
       "| 11          | 27595087    | C           | T           | 0.399784    | 29.15078    | 11:27595087 |\n",
       "\n"
      ],
      "text/plain": [
       "  Chromosome Position Major Minor Frequency LRT      locus      \n",
       "1 11         27595087 C     T     0.399784  29.15078 11:27595087"
      ]
     },
     "metadata": {},
     "output_type": "display_data"
    }
   ],
   "source": [
    "lrt[locus==\"11:27595087\"]\n",
    "#11:27595087 \n",
    "#2:16016301"
   ]
  },
  {
   "cell_type": "code",
   "execution_count": 365,
   "id": "e9475a70",
   "metadata": {},
   "outputs": [
    {
     "data": {
      "text/html": [
       "<table>\n",
       "<thead><tr><th scope=col>Chromosome</th><th scope=col>Position</th><th scope=col>Major</th><th scope=col>Minor</th><th scope=col>Frequency</th><th scope=col>LRT</th><th scope=col>locus</th><th scope=col>pvalue</th><th scope=col>SNP</th><th scope=col>pvalue_corr</th></tr></thead>\n",
       "<tbody>\n",
       "\t<tr><td>11          </td><td>27595087    </td><td>C           </td><td>T           </td><td>0.399784    </td><td>29.15078    </td><td>11:27595087 </td><td>3.455997e-08</td><td>r3552019    </td><td>3.455997e-08</td></tr>\n",
       "\t<tr><td>2           </td><td>16016301    </td><td>A           </td><td>T           </td><td>0.420916    </td><td>27.49578    </td><td>2:16016301  </td><td>8.140381e-08</td><td>r457967     </td><td>8.140381e-08</td></tr>\n",
       "</tbody>\n",
       "</table>\n"
      ],
      "text/latex": [
       "\\begin{tabular}{r|llllllllll}\n",
       " Chromosome & Position & Major & Minor & Frequency & LRT & locus & pvalue & SNP & pvalue\\_corr\\\\\n",
       "\\hline\n",
       "\t 11           & 27595087     & C            & T            & 0.399784     & 29.15078     & 11:27595087  & 3.455997e-08 & r3552019     & 3.455997e-08\\\\\n",
       "\t 2            & 16016301     & A            & T            & 0.420916     & 27.49578     & 2:16016301   & 8.140381e-08 & r457967      & 8.140381e-08\\\\\n",
       "\\end{tabular}\n"
      ],
      "text/markdown": [
       "\n",
       "| Chromosome | Position | Major | Minor | Frequency | LRT | locus | pvalue | SNP | pvalue_corr |\n",
       "|---|---|---|---|---|---|---|---|---|---|\n",
       "| 11           | 27595087     | C            | T            | 0.399784     | 29.15078     | 11:27595087  | 3.455997e-08 | r3552019     | 3.455997e-08 |\n",
       "| 2            | 16016301     | A            | T            | 0.420916     | 27.49578     | 2:16016301   | 8.140381e-08 | r457967      | 8.140381e-08 |\n",
       "\n"
      ],
      "text/plain": [
       "  Chromosome Position Major Minor Frequency LRT      locus       pvalue      \n",
       "1 11         27595087 C     T     0.399784  29.15078 11:27595087 3.455997e-08\n",
       "2 2          16016301 A     T     0.420916  27.49578 2:16016301  8.140381e-08\n",
       "  SNP      pvalue_corr \n",
       "1 r3552019 3.455997e-08\n",
       "2 r457967  8.140381e-08"
      ]
     },
     "metadata": {},
     "output_type": "display_data"
    }
   ],
   "source": [
    "lrt_filt[pvalue < 1][signif,][order(pvalue)]\n"
   ]
  },
  {
   "cell_type": "code",
   "execution_count": 316,
   "id": "595afbb6",
   "metadata": {},
   "outputs": [],
   "source": [
    "bin_doAssoc2_pca1_qobj <- qobj"
   ]
  },
  {
   "cell_type": "code",
   "execution_count": 305,
   "id": "a17efd43",
   "metadata": {},
   "outputs": [
    {
     "data": {
      "text/html": [
       "2.49151261774618"
      ],
      "text/latex": [
       "2.49151261774618"
      ],
      "text/markdown": [
       "2.49151261774618"
      ],
      "text/plain": [
       "[1] 2.491513"
      ]
     },
     "metadata": {},
     "output_type": "display_data"
    }
   ],
   "source": [
    "max(qvalues[qobj$pvalues <= 0.01])\n"
   ]
  },
  {
   "cell_type": "code",
   "execution_count": 270,
   "id": "205c050b",
   "metadata": {
    "scrolled": false
   },
   "outputs": [
    {
     "data": {
      "text/html": [
       "<table>\n",
       "<thead><tr><th scope=col>Chromosome</th><th scope=col>Position</th><th scope=col>Major</th><th scope=col>Minor</th><th scope=col>Frequency</th><th scope=col>LRT</th><th scope=col>locus</th><th scope=col>pvalue</th><th scope=col>SNP</th><th scope=col>chisq</th></tr></thead>\n",
       "<tbody>\n",
       "\t<tr><td>11          </td><td>27595087    </td><td>C           </td><td>T           </td><td>0.399784    </td><td>29.15078    </td><td>11:27595087 </td><td>3.455997e-08</td><td>r3552019    </td><td>30.43299    </td></tr>\n",
       "\t<tr><td>2           </td><td>16016301    </td><td>A           </td><td>T           </td><td>0.420916    </td><td>27.49578    </td><td>2:16016301  </td><td>8.140381e-08</td><td>r457967     </td><td>28.77238    </td></tr>\n",
       "\t<tr><td>12          </td><td>25058095    </td><td>A           </td><td>T           </td><td>0.277069    </td><td>25.12561    </td><td>12:25058095 </td><td>2.785450e-07</td><td>r3841192    </td><td>26.39302    </td></tr>\n",
       "\t<tr><td>23          </td><td>  653787    </td><td>C           </td><td>T           </td><td>0.154713    </td><td>24.16069    </td><td>23:653787   </td><td>4.601800e-07</td><td>r6650841    </td><td>25.42391    </td></tr>\n",
       "\t<tr><td>6           </td><td>37957666    </td><td>C           </td><td>G           </td><td>0.391876    </td><td>23.59117    </td><td>6:37957666  </td><td>6.191233e-07</td><td>r1952932    </td><td>24.85176    </td></tr>\n",
       "\t<tr><td>3           </td><td>28234957    </td><td>C           </td><td>T           </td><td>0.437653    </td><td>23.30957    </td><td>3:28234957  </td><td>7.170255e-07</td><td>r896806     </td><td>24.56882    </td></tr>\n",
       "\t<tr><td>16          </td><td> 3558599    </td><td>C           </td><td>G           </td><td>0.423649    </td><td>22.73351    </td><td>16:3558599  </td><td>9.684058e-07</td><td>r4859363    </td><td>23.98994    </td></tr>\n",
       "\t<tr><td>22          </td><td>13747328    </td><td>A           </td><td>G           </td><td>0.415023    </td><td>22.58004    </td><td>22:13747328 </td><td>1.049188e-06</td><td>r6516766    </td><td>23.83569    </td></tr>\n",
       "\t<tr><td>8           </td><td>38909563    </td><td>T           </td><td>C           </td><td>0.419653    </td><td>22.48597    </td><td>8:38909563  </td><td>1.102015e-06</td><td>r2621184    </td><td>23.74114    </td></tr>\n",
       "\t<tr><td>22          </td><td>13747327    </td><td>G           </td><td>C           </td><td>0.429689    </td><td>21.60591    </td><td>22:13747327 </td><td>1.745662e-06</td><td>r6516765    </td><td>22.85641    </td></tr>\n",
       "</tbody>\n",
       "</table>\n"
      ],
      "text/latex": [
       "\\begin{tabular}{r|llllllllll}\n",
       " Chromosome & Position & Major & Minor & Frequency & LRT & locus & pvalue & SNP & chisq\\\\\n",
       "\\hline\n",
       "\t 11           & 27595087     & C            & T            & 0.399784     & 29.15078     & 11:27595087  & 3.455997e-08 & r3552019     & 30.43299    \\\\\n",
       "\t 2            & 16016301     & A            & T            & 0.420916     & 27.49578     & 2:16016301   & 8.140381e-08 & r457967      & 28.77238    \\\\\n",
       "\t 12           & 25058095     & A            & T            & 0.277069     & 25.12561     & 12:25058095  & 2.785450e-07 & r3841192     & 26.39302    \\\\\n",
       "\t 23           &   653787     & C            & T            & 0.154713     & 24.16069     & 23:653787    & 4.601800e-07 & r6650841     & 25.42391    \\\\\n",
       "\t 6            & 37957666     & C            & G            & 0.391876     & 23.59117     & 6:37957666   & 6.191233e-07 & r1952932     & 24.85176    \\\\\n",
       "\t 3            & 28234957     & C            & T            & 0.437653     & 23.30957     & 3:28234957   & 7.170255e-07 & r896806      & 24.56882    \\\\\n",
       "\t 16           &  3558599     & C            & G            & 0.423649     & 22.73351     & 16:3558599   & 9.684058e-07 & r4859363     & 23.98994    \\\\\n",
       "\t 22           & 13747328     & A            & G            & 0.415023     & 22.58004     & 22:13747328  & 1.049188e-06 & r6516766     & 23.83569    \\\\\n",
       "\t 8            & 38909563     & T            & C            & 0.419653     & 22.48597     & 8:38909563   & 1.102015e-06 & r2621184     & 23.74114    \\\\\n",
       "\t 22           & 13747327     & G            & C            & 0.429689     & 21.60591     & 22:13747327  & 1.745662e-06 & r6516765     & 22.85641    \\\\\n",
       "\\end{tabular}\n"
      ],
      "text/markdown": [
       "\n",
       "| Chromosome | Position | Major | Minor | Frequency | LRT | locus | pvalue | SNP | chisq |\n",
       "|---|---|---|---|---|---|---|---|---|---|\n",
       "| 11           | 27595087     | C            | T            | 0.399784     | 29.15078     | 11:27595087  | 3.455997e-08 | r3552019     | 30.43299     |\n",
       "| 2            | 16016301     | A            | T            | 0.420916     | 27.49578     | 2:16016301   | 8.140381e-08 | r457967      | 28.77238     |\n",
       "| 12           | 25058095     | A            | T            | 0.277069     | 25.12561     | 12:25058095  | 2.785450e-07 | r3841192     | 26.39302     |\n",
       "| 23           |   653787     | C            | T            | 0.154713     | 24.16069     | 23:653787    | 4.601800e-07 | r6650841     | 25.42391     |\n",
       "| 6            | 37957666     | C            | G            | 0.391876     | 23.59117     | 6:37957666   | 6.191233e-07 | r1952932     | 24.85176     |\n",
       "| 3            | 28234957     | C            | T            | 0.437653     | 23.30957     | 3:28234957   | 7.170255e-07 | r896806      | 24.56882     |\n",
       "| 16           |  3558599     | C            | G            | 0.423649     | 22.73351     | 16:3558599   | 9.684058e-07 | r4859363     | 23.98994     |\n",
       "| 22           | 13747328     | A            | G            | 0.415023     | 22.58004     | 22:13747328  | 1.049188e-06 | r6516766     | 23.83569     |\n",
       "| 8            | 38909563     | T            | C            | 0.419653     | 22.48597     | 8:38909563   | 1.102015e-06 | r2621184     | 23.74114     |\n",
       "| 22           | 13747327     | G            | C            | 0.429689     | 21.60591     | 22:13747327  | 1.745662e-06 | r6516765     | 22.85641     |\n",
       "\n"
      ],
      "text/plain": [
       "   Chromosome Position Major Minor Frequency LRT      locus       pvalue      \n",
       "1  11         27595087 C     T     0.399784  29.15078 11:27595087 3.455997e-08\n",
       "2  2          16016301 A     T     0.420916  27.49578 2:16016301  8.140381e-08\n",
       "3  12         25058095 A     T     0.277069  25.12561 12:25058095 2.785450e-07\n",
       "4  23           653787 C     T     0.154713  24.16069 23:653787   4.601800e-07\n",
       "5  6          37957666 C     G     0.391876  23.59117 6:37957666  6.191233e-07\n",
       "6  3          28234957 C     T     0.437653  23.30957 3:28234957  7.170255e-07\n",
       "7  16          3558599 C     G     0.423649  22.73351 16:3558599  9.684058e-07\n",
       "8  22         13747328 A     G     0.415023  22.58004 22:13747328 1.049188e-06\n",
       "9  8          38909563 T     C     0.419653  22.48597 8:38909563  1.102015e-06\n",
       "10 22         13747327 G     C     0.429689  21.60591 22:13747327 1.745662e-06\n",
       "   SNP      chisq   \n",
       "1  r3552019 30.43299\n",
       "2  r457967  28.77238\n",
       "3  r3841192 26.39302\n",
       "4  r6650841 25.42391\n",
       "5  r1952932 24.85176\n",
       "6  r896806  24.56882\n",
       "7  r4859363 23.98994\n",
       "8  r6516766 23.83569\n",
       "9  r2621184 23.74114\n",
       "10 r6516765 22.85641"
      ]
     },
     "metadata": {},
     "output_type": "display_data"
    },
    {
     "data": {
      "text/html": [
       "<ol class=list-inline>\n",
       "\t<li>'r3552019'</li>\n",
       "\t<li>'r457967'</li>\n",
       "\t<li>'r3841192'</li>\n",
       "\t<li>'r6650841'</li>\n",
       "\t<li>'r1952932'</li>\n",
       "\t<li>'r896806'</li>\n",
       "\t<li>'r4859363'</li>\n",
       "</ol>\n"
      ],
      "text/latex": [
       "\\begin{enumerate*}\n",
       "\\item 'r3552019'\n",
       "\\item 'r457967'\n",
       "\\item 'r3841192'\n",
       "\\item 'r6650841'\n",
       "\\item 'r1952932'\n",
       "\\item 'r896806'\n",
       "\\item 'r4859363'\n",
       "\\end{enumerate*}\n"
      ],
      "text/markdown": [
       "1. 'r3552019'\n",
       "2. 'r457967'\n",
       "3. 'r3841192'\n",
       "4. 'r6650841'\n",
       "5. 'r1952932'\n",
       "6. 'r896806'\n",
       "7. 'r4859363'\n",
       "\n",
       "\n"
      ],
      "text/plain": [
       "[1] \"r3552019\" \"r457967\"  \"r3841192\" \"r6650841\" \"r1952932\" \"r896806\"  \"r4859363\""
      ]
     },
     "metadata": {},
     "output_type": "display_data"
    }
   ],
   "source": [
    "lrt_filt[order(pvalue)][1:10]\n",
    "lrt_filt[order(pvalue)][pvalue <1e-6, SNP]"
   ]
  },
  {
   "cell_type": "code",
   "execution_count": 388,
   "id": "f615166d",
   "metadata": {},
   "outputs": [
    {
     "name": "stderr",
     "output_type": "stream",
     "text": [
      "Warning message in fread(\"/data/katrinac/APPC_sequencing/DNA/trimmed_reads/mapping/ensembl/genotypes/angsd/bin_doAssoc1.lrt0.gz\"):\n",
      "“Discarded single-line footer: <<14\t30840224\tG\tA\t0.248>>”"
     ]
    }
   ],
   "source": [
    "lrt <-  fread(\"/data/katrinac/APPC_sequencing/DNA/trimmed_reads/mapping/ensembl/genotypes/angsd/bin_doAssoc1.lrt0.gz\")"
   ]
  },
  {
   "cell_type": "code",
   "execution_count": 390,
   "id": "727d6ac7",
   "metadata": {},
   "outputs": [
    {
     "data": {
      "text/html": [
       "4489370"
      ],
      "text/latex": [
       "4489370"
      ],
      "text/markdown": [
       "4489370"
      ],
      "text/plain": [
       "[1] 4489370"
      ]
     },
     "metadata": {},
     "output_type": "display_data"
    }
   ],
   "source": [
    "nrow(lrt)"
   ]
  },
  {
   "cell_type": "code",
   "execution_count": null,
   "id": "ad911333",
   "metadata": {},
   "outputs": [],
   "source": []
  },
  {
   "cell_type": "code",
   "execution_count": null,
   "id": "11fe4c90",
   "metadata": {},
   "outputs": [],
   "source": []
  },
  {
   "cell_type": "code",
   "execution_count": 369,
   "id": "fd19ac6e",
   "metadata": {},
   "outputs": [
    {
     "data": {
      "text/html": [
       "<table>\n",
       "<thead><tr><th scope=col>chromo</th><th scope=col>position</th><th scope=col>major</th><th scope=col>minor</th><th scope=col>knownEM</th><th scope=col>pK-EM</th><th scope=col>nInd</th></tr></thead>\n",
       "<tbody>\n",
       "\t<tr><td>11      </td><td>27595087</td><td>C       </td><td>T       </td><td>0.399784</td><td>0       </td><td>26      </td></tr>\n",
       "</tbody>\n",
       "</table>\n"
      ],
      "text/latex": [
       "\\begin{tabular}{r|lllllll}\n",
       " chromo & position & major & minor & knownEM & pK-EM & nInd\\\\\n",
       "\\hline\n",
       "\t 11       & 27595087 & C        & T        & 0.399784 & 0        & 26      \\\\\n",
       "\\end{tabular}\n"
      ],
      "text/markdown": [
       "\n",
       "| chromo | position | major | minor | knownEM | pK-EM | nInd |\n",
       "|---|---|---|---|---|---|---|\n",
       "| 11       | 27595087 | C        | T        | 0.399784 | 0        | 26       |\n",
       "\n"
      ],
      "text/plain": [
       "  chromo position major minor knownEM  pK-EM nInd\n",
       "1 11     27595087 C     T     0.399784 0     26  "
      ]
     },
     "metadata": {},
     "output_type": "display_data"
    }
   ],
   "source": [
    "maf[chromo==\"11\" & position==\"27595087\"]\n",
    "#11:27595087 \n",
    "#2:16016301"
   ]
  },
  {
   "cell_type": "code",
   "execution_count": 368,
   "id": "2f939385",
   "metadata": {},
   "outputs": [
    {
     "data": {
      "text/html": [
       "<table>\n",
       "<thead><tr><th scope=col>chromo</th><th scope=col>position</th><th scope=col>major</th><th scope=col>minor</th><th scope=col>knownEM</th><th scope=col>pK-EM</th><th scope=col>nInd</th></tr></thead>\n",
       "<tbody>\n",
       "\t<tr><td>1           </td><td> 164        </td><td>A           </td><td>G           </td><td>0.144025    </td><td>4.856635e-08</td><td>28          </td></tr>\n",
       "\t<tr><td>1           </td><td> 479        </td><td>T           </td><td>A           </td><td>0.098202    </td><td>4.630796e-10</td><td>34          </td></tr>\n",
       "\t<tr><td>1           </td><td> 480        </td><td>T           </td><td>G           </td><td>0.167226    </td><td>5.107026e-14</td><td>33          </td></tr>\n",
       "\t<tr><td>1           </td><td> 529        </td><td>C           </td><td>A           </td><td>0.168935    </td><td>0.000000e+00</td><td>65          </td></tr>\n",
       "\t<tr><td>1           </td><td> 787        </td><td>C           </td><td>T           </td><td>0.411443    </td><td>0.000000e+00</td><td>23          </td></tr>\n",
       "\t<tr><td>1           </td><td>1492        </td><td>T           </td><td>G           </td><td>0.121895    </td><td>5.118461e-11</td><td>38          </td></tr>\n",
       "</tbody>\n",
       "</table>\n"
      ],
      "text/latex": [
       "\\begin{tabular}{r|lllllll}\n",
       " chromo & position & major & minor & knownEM & pK-EM & nInd\\\\\n",
       "\\hline\n",
       "\t 1            &  164         & A            & G            & 0.144025     & 4.856635e-08 & 28          \\\\\n",
       "\t 1            &  479         & T            & A            & 0.098202     & 4.630796e-10 & 34          \\\\\n",
       "\t 1            &  480         & T            & G            & 0.167226     & 5.107026e-14 & 33          \\\\\n",
       "\t 1            &  529         & C            & A            & 0.168935     & 0.000000e+00 & 65          \\\\\n",
       "\t 1            &  787         & C            & T            & 0.411443     & 0.000000e+00 & 23          \\\\\n",
       "\t 1            & 1492         & T            & G            & 0.121895     & 5.118461e-11 & 38          \\\\\n",
       "\\end{tabular}\n"
      ],
      "text/markdown": [
       "\n",
       "| chromo | position | major | minor | knownEM | pK-EM | nInd |\n",
       "|---|---|---|---|---|---|---|\n",
       "| 1            |  164         | A            | G            | 0.144025     | 4.856635e-08 | 28           |\n",
       "| 1            |  479         | T            | A            | 0.098202     | 4.630796e-10 | 34           |\n",
       "| 1            |  480         | T            | G            | 0.167226     | 5.107026e-14 | 33           |\n",
       "| 1            |  529         | C            | A            | 0.168935     | 0.000000e+00 | 65           |\n",
       "| 1            |  787         | C            | T            | 0.411443     | 0.000000e+00 | 23           |\n",
       "| 1            | 1492         | T            | G            | 0.121895     | 5.118461e-11 | 38           |\n",
       "\n"
      ],
      "text/plain": [
       "  chromo position major minor knownEM  pK-EM        nInd\n",
       "1 1       164     A     G     0.144025 4.856635e-08 28  \n",
       "2 1       479     T     A     0.098202 4.630796e-10 34  \n",
       "3 1       480     T     G     0.167226 5.107026e-14 33  \n",
       "4 1       529     C     A     0.168935 0.000000e+00 65  \n",
       "5 1       787     C     T     0.411443 0.000000e+00 23  \n",
       "6 1      1492     T     G     0.121895 5.118461e-11 38  "
      ]
     },
     "metadata": {},
     "output_type": "display_data"
    }
   ],
   "source": [
    "head(maf)"
   ]
  },
  {
   "cell_type": "code",
   "execution_count": null,
   "id": "feffb7c7",
   "metadata": {},
   "outputs": [],
   "source": []
  },
  {
   "cell_type": "code",
   "execution_count": 272,
   "id": "a349def3",
   "metadata": {},
   "outputs": [],
   "source": [
    "library(\"qvalue\")\n",
    "#install_github(\"jdstorey/qvalue\")"
   ]
  },
  {
   "cell_type": "code",
   "execution_count": 294,
   "id": "5dd905eb",
   "metadata": {},
   "outputs": [
    {
     "data": {
      "text/html": [
       "0.710007268736523"
      ],
      "text/latex": [
       "0.710007268736523"
      ],
      "text/markdown": [
       "0.710007268736523"
      ],
      "text/plain": [
       "[1] 0.7100073"
      ]
     },
     "metadata": {},
     "output_type": "display_data"
    }
   ],
   "source": [
    "nrow(lrt_filt[pvalue <1])/nrow(lrt_filt)"
   ]
  },
  {
   "cell_type": "code",
   "execution_count": 296,
   "id": "5907a2f2",
   "metadata": {},
   "outputs": [
    {
     "data": {
      "text/html": [
       "2.67899215320854"
      ],
      "text/latex": [
       "2.67899215320854"
      ],
      "text/markdown": [
       "2.67899215320854"
      ],
      "text/plain": [
       "[1] 2.678992"
      ]
     },
     "metadata": {},
     "output_type": "display_data"
    }
   ],
   "source": [
    "chsq <- (lrt_filt[pvalue <1 & !is.nan(chisq), chisq])\n",
    "\n",
    "#Calculate GIF, lambda gc (λgc)\n",
    "median(chisq, na.rm = T)/qchisq(0.5,1)"
   ]
  },
  {
   "cell_type": "code",
   "execution_count": 373,
   "id": "69024517",
   "metadata": {},
   "outputs": [
    {
     "ename": "ERROR",
     "evalue": "Error in fread(\"/data/katrinac/APPC_sequencing/DNA/trimmed_reads/mapping/ensembl/genotypes/angsd/bin_doAssoc2_minHigh30_pc1.lrt0.gz\"): Internal error: sampleLines(101) > allocnrow(0)\n",
     "output_type": "error",
     "traceback": [
      "Error in fread(\"/data/katrinac/APPC_sequencing/DNA/trimmed_reads/mapping/ensembl/genotypes/angsd/bin_doAssoc2_minHigh30_pc1.lrt0.gz\"): Internal error: sampleLines(101) > allocnrow(0)\nTraceback:\n",
      "1. fread(\"/data/katrinac/APPC_sequencing/DNA/trimmed_reads/mapping/ensembl/genotypes/angsd/bin_doAssoc2_minHigh30_pc1.lrt0.gz\")"
     ]
    }
   ],
   "source": [
    "lrt <- fread(\"/data/katrinac/APPC_sequencing/DNA/trimmed_reads/mapping/ensembl/genotypes/angsd/bin_doAssoc2_minHigh30_pc1.lrt0.gz\")\n",
    "summary(lrt$LRT)\n"
   ]
  },
  {
   "cell_type": "code",
   "execution_count": 293,
   "id": "bcca5528",
   "metadata": {},
   "outputs": [
    {
     "data": {
      "image/png": "[encoded data removed]",
      "text/plain": [
       "Plot with title “Histogram of lrt_filt[pvalue < 1, pvalue]”"
      ]
     },
     "metadata": {},
     "output_type": "display_data"
    }
   ],
   "source": [
    "hist(lrt_filt[pvalue <1, pvalue])"
   ]
  },
  {
   "cell_type": "code",
   "execution_count": 302,
   "id": "ce95163d",
   "metadata": {},
   "outputs": [],
   "source": [
    "bin_doAssoc1_pca1_10_minHigh30_qobj <- qobj"
   ]
  },
  {
   "cell_type": "code",
   "execution_count": null,
   "id": "99cb6b33",
   "metadata": {},
   "outputs": [],
   "source": []
  },
  {
   "cell_type": "code",
   "execution_count": null,
   "id": "d47c4623",
   "metadata": {},
   "outputs": [],
   "source": []
  },
  {
   "cell_type": "code",
   "execution_count": null,
   "id": "06d5b4b7",
   "metadata": {},
   "outputs": [],
   "source": []
  },
  {
   "cell_type": "code",
   "execution_count": null,
   "id": "73085049",
   "metadata": {},
   "outputs": [],
   "source": []
  },
  {
   "cell_type": "code",
   "execution_count": null,
   "id": "ac0cc267",
   "metadata": {},
   "outputs": [],
   "source": []
  },
  {
   "cell_type": "code",
   "execution_count": 285,
   "id": "0b2ec2d8",
   "metadata": {},
   "outputs": [],
   "source": [
    "#qobj <- qvalue(p = pvalues)\n",
    "qvalues <- qobj$qvalues\n",
    "pi0 <- qobj$pi0\n",
    "lfdr <- qobj$lfdr"
   ]
  },
  {
   "cell_type": "code",
   "execution_count": 298,
   "id": "b7279e2f",
   "metadata": {},
   "outputs": [
    {
     "name": "stdout",
     "output_type": "stream",
     "text": [
      "\n",
      "Call:\n",
      "qvalue(p = lrt_filt[pvalue < 1, pvalue])\n",
      "\n",
      "pi0:\t0.3404586\t\n",
      "\n",
      "Cumulative number of significant calls:\n",
      "\n",
      "          <1e-04 <0.001  <0.01 <0.025  <0.05    <0.1      <1\n",
      "p-value      832  10841 130337 337815 636550 1126799 5017801\n",
      "q-value        0      0      0      0      0       2 5017801\n",
      "local FDR      0      0      0      0      1       1 5013374\n",
      "\n"
     ]
    }
   ],
   "source": [
    "summary(qobj)"
   ]
  },
  {
   "cell_type": "code",
   "execution_count": 288,
   "id": "67c9c073",
   "metadata": {},
   "outputs": [],
   "source": [
    "hist(qobj)"
   ]
  },
  {
   "cell_type": "code",
   "execution_count": 299,
   "id": "22fda2c8",
   "metadata": {
    "scrolled": false
   },
   "outputs": [
    {
     "name": "stdout",
     "output_type": "stream",
     "text": [
      "\n",
      "Call:\n",
      "qvalue(p = lrt_filt[pvalue < 1, pvalue])\n",
      "\n",
      "pi0:\t0.3404586\t\n",
      "\n",
      "Cumulative number of significant calls:\n",
      "\n",
      "          <1e-04 <0.001  <0.01 <0.025  <0.05    <0.1      <1\n",
      "p-value      832  10841 130337 337815 636550 1126799 5017801\n",
      "q-value        0      0      0      0      0       2 5017801\n",
      "local FDR      0      0      0      0      1       1 5013374\n",
      "\n"
     ]
    },
    {
     "data": {
      "image/png": "[encoded data removed]",
      "text/plain": [
       "plot without title"
      ]
     },
     "metadata": {},
     "output_type": "display_data"
    },
    {
     "data": {
      "image/png": "[encoded data removed]",
      "text/plain": [
       "plot without title"
      ]
     },
     "metadata": {},
     "output_type": "display_data"
    }
   ],
   "source": [
    "summary(qobj)\n",
    "hist(qobj)\n",
    "plot(qobj)"
   ]
  },
  {
   "cell_type": "code",
   "execution_count": null,
   "id": "15b12f6c",
   "metadata": {},
   "outputs": [],
   "source": [
    "qobj$lfdr"
   ]
  },
  {
   "cell_type": "code",
   "execution_count": 278,
   "id": "f810478b",
   "metadata": {},
   "outputs": [
    {
     "data": {
      "text/html": [
       "<table>\n",
       "<thead><tr><th scope=col>Chromosome</th><th scope=col>Position</th><th scope=col>Major</th><th scope=col>Minor</th><th scope=col>Frequency</th><th scope=col>LRT</th><th scope=col>locus</th><th scope=col>pvalue</th><th scope=col>SNP</th><th scope=col>chisq</th><th scope=col>pvalue_corr</th></tr></thead>\n",
       "<tbody>\n",
       "\t<tr><td>1        </td><td> 164     </td><td>A        </td><td>G        </td><td>0.144025 </td><td>1.171608 </td><td>1:164    </td><td>0.2051670</td><td>r1       </td><td>1.6052062</td><td>0.2051670</td></tr>\n",
       "\t<tr><td>1        </td><td> 479     </td><td>T        </td><td>A        </td><td>0.098202 </td><td>0.255226 </td><td>1:479    </td><td>0.6950659</td><td>r2       </td><td>0.1536558</td><td>0.6950659</td></tr>\n",
       "\t<tr><td>1        </td><td> 480     </td><td>T        </td><td>G        </td><td>0.167226 </td><td>0.117581 </td><td>1:480    </td><td>1.0970062</td><td>r3       </td><td>      NaN</td><td>1.0000000</td></tr>\n",
       "\t<tr><td>1        </td><td> 529     </td><td>C        </td><td>A        </td><td>0.168935 </td><td>0.125478 </td><td>1:529    </td><td>1.0577403</td><td>r4       </td><td>      NaN</td><td>1.0000000</td></tr>\n",
       "\t<tr><td>1        </td><td> 787     </td><td>C        </td><td>T        </td><td>0.411443 </td><td>0.743850 </td><td>1:787    </td><td>0.3188911</td><td>r5       </td><td>0.9934891</td><td>0.3188911</td></tr>\n",
       "\t<tr><td>1        </td><td>1492     </td><td>T        </td><td>G        </td><td>0.121895 </td><td>0.054658 </td><td>1:1492   </td><td>1.6604063</td><td>r6       </td><td>      NaN</td><td>1.0000000</td></tr>\n",
       "</tbody>\n",
       "</table>\n"
      ],
      "text/latex": [
       "\\begin{tabular}{r|lllllllllll}\n",
       " Chromosome & Position & Major & Minor & Frequency & LRT & locus & pvalue & SNP & chisq & pvalue\\_corr\\\\\n",
       "\\hline\n",
       "\t 1         &  164      & A         & G         & 0.144025  & 1.171608  & 1:164     & 0.2051670 & r1        & 1.6052062 & 0.2051670\\\\\n",
       "\t 1         &  479      & T         & A         & 0.098202  & 0.255226  & 1:479     & 0.6950659 & r2        & 0.1536558 & 0.6950659\\\\\n",
       "\t 1         &  480      & T         & G         & 0.167226  & 0.117581  & 1:480     & 1.0970062 & r3        &       NaN & 1.0000000\\\\\n",
       "\t 1         &  529      & C         & A         & 0.168935  & 0.125478  & 1:529     & 1.0577403 & r4        &       NaN & 1.0000000\\\\\n",
       "\t 1         &  787      & C         & T         & 0.411443  & 0.743850  & 1:787     & 0.3188911 & r5        & 0.9934891 & 0.3188911\\\\\n",
       "\t 1         & 1492      & T         & G         & 0.121895  & 0.054658  & 1:1492    & 1.6604063 & r6        &       NaN & 1.0000000\\\\\n",
       "\\end{tabular}\n"
      ],
      "text/markdown": [
       "\n",
       "| Chromosome | Position | Major | Minor | Frequency | LRT | locus | pvalue | SNP | chisq | pvalue_corr |\n",
       "|---|---|---|---|---|---|---|---|---|---|---|\n",
       "| 1         |  164      | A         | G         | 0.144025  | 1.171608  | 1:164     | 0.2051670 | r1        | 1.6052062 | 0.2051670 |\n",
       "| 1         |  479      | T         | A         | 0.098202  | 0.255226  | 1:479     | 0.6950659 | r2        | 0.1536558 | 0.6950659 |\n",
       "| 1         |  480      | T         | G         | 0.167226  | 0.117581  | 1:480     | 1.0970062 | r3        |       NaN | 1.0000000 |\n",
       "| 1         |  529      | C         | A         | 0.168935  | 0.125478  | 1:529     | 1.0577403 | r4        |       NaN | 1.0000000 |\n",
       "| 1         |  787      | C         | T         | 0.411443  | 0.743850  | 1:787     | 0.3188911 | r5        | 0.9934891 | 0.3188911 |\n",
       "| 1         | 1492      | T         | G         | 0.121895  | 0.054658  | 1:1492    | 1.6604063 | r6        |       NaN | 1.0000000 |\n",
       "\n"
      ],
      "text/plain": [
       "  Chromosome Position Major Minor Frequency LRT      locus  pvalue    SNP\n",
       "1 1           164     A     G     0.144025  1.171608 1:164  0.2051670 r1 \n",
       "2 1           479     T     A     0.098202  0.255226 1:479  0.6950659 r2 \n",
       "3 1           480     T     G     0.167226  0.117581 1:480  1.0970062 r3 \n",
       "4 1           529     C     A     0.168935  0.125478 1:529  1.0577403 r4 \n",
       "5 1           787     C     T     0.411443  0.743850 1:787  0.3188911 r5 \n",
       "6 1          1492     T     G     0.121895  0.054658 1:1492 1.6604063 r6 \n",
       "  chisq     pvalue_corr\n",
       "1 1.6052062 0.2051670  \n",
       "2 0.1536558 0.6950659  \n",
       "3       NaN 1.0000000  \n",
       "4       NaN 1.0000000  \n",
       "5 0.9934891 0.3188911  \n",
       "6       NaN 1.0000000  "
      ]
     },
     "metadata": {},
     "output_type": "display_data"
    }
   ],
   "source": [
    "head(lrt_filt)"
   ]
  },
  {
   "cell_type": "code",
   "execution_count": 131,
   "id": "b531ac53",
   "metadata": {},
   "outputs": [
    {
     "data": {
      "text/html": [
       "<table>\n",
       "<thead><tr><th scope=col>#site1</th></tr></thead>\n",
       "<tbody>\n",
       "\t<tr><td>CM009708.1:10000697</td></tr>\n",
       "\t<tr><td>CM009708.1:10003708</td></tr>\n",
       "\t<tr><td>CM009708.1:10003879</td></tr>\n",
       "\t<tr><td>CM009708.1:10004338</td></tr>\n",
       "\t<tr><td>CM009708.1:10004540</td></tr>\n",
       "\t<tr><td>CM009708.1:10007683</td></tr>\n",
       "</tbody>\n",
       "</table>\n"
      ],
      "text/latex": [
       "\\begin{tabular}{r|l}\n",
       " \\#site1\\\\\n",
       "\\hline\n",
       "\t CM009708.1:10000697\\\\\n",
       "\t CM009708.1:10003708\\\\\n",
       "\t CM009708.1:10003879\\\\\n",
       "\t CM009708.1:10004338\\\\\n",
       "\t CM009708.1:10004540\\\\\n",
       "\t CM009708.1:10007683\\\\\n",
       "\\end{tabular}\n"
      ],
      "text/markdown": [
       "\n",
       "| #site1 |\n",
       "|---|\n",
       "| CM009708.1:10000697 |\n",
       "| CM009708.1:10003708 |\n",
       "| CM009708.1:10003879 |\n",
       "| CM009708.1:10004338 |\n",
       "| CM009708.1:10004540 |\n",
       "| CM009708.1:10007683 |\n",
       "\n"
      ],
      "text/plain": [
       "  #site1             \n",
       "1 CM009708.1:10000697\n",
       "2 CM009708.1:10003708\n",
       "3 CM009708.1:10003879\n",
       "4 CM009708.1:10004338\n",
       "5 CM009708.1:10004540\n",
       "6 CM009708.1:10007683"
      ]
     },
     "metadata": {},
     "output_type": "display_data"
    }
   ],
   "source": [
    "#check out ld results\n",
    "ld <- fread(\"/data/katrinac/APPC_sequencing/DNA/trimmed_reads/mapping/genotypes/angsd/ngsld/appc_unlinked.id\")\n",
    "head(ld)\n",
    "setnames(ld, 1, \"site\")"
   ]
  },
  {
   "cell_type": "code",
   "execution_count": 133,
   "id": "4b113d35",
   "metadata": {},
   "outputs": [],
   "source": [
    "test_with_unlinked <- no_hwe_lrt_filt[locus %in% ld[,site]]"
   ]
  },
  {
   "cell_type": "code",
   "execution_count": 134,
   "id": "9d5a8743",
   "metadata": {},
   "outputs": [
    {
     "data": {
      "image/png": "[encoded data removed]",
      "text/plain": [
       "plot without title"
      ]
     },
     "metadata": {},
     "output_type": "display_data"
    }
   ],
   "source": [
    "qqman::qq(test_with_unlinked$pvalue) "
   ]
  },
  {
   "cell_type": "code",
   "execution_count": null,
   "id": "3e5ed042",
   "metadata": {},
   "outputs": [],
   "source": []
  },
  {
   "cell_type": "code",
   "execution_count": null,
   "id": "92c9220f",
   "metadata": {},
   "outputs": [],
   "source": []
  },
  {
   "cell_type": "code",
   "execution_count": null,
   "id": "840e2734",
   "metadata": {},
   "outputs": [],
   "source": []
  },
  {
   "cell_type": "code",
   "execution_count": 10,
   "id": "7beea12c",
   "metadata": {},
   "outputs": [
    {
     "name": "stderr",
     "output_type": "stream",
     "text": [
      "Warning message in fread(\"~/ClownfishGWAS/data/APPC_sequencing/DNA/trimmed_reads/mapping/genotypes/angsd/case_control_assoc_out_NULL.lrt0.gz\"):\n",
      "“Discarded single-line footer: <<CM00972>>”"
     ]
    },
    {
     "data": {
      "text/html": [
       "FALSE"
      ],
      "text/latex": [
       "FALSE"
      ],
      "text/markdown": [
       "FALSE"
      ],
      "text/plain": [
       "[1] FALSE"
      ]
     },
     "metadata": {},
     "output_type": "display_data"
    },
    {
     "data": {
      "text/html": [
       "4415623"
      ],
      "text/latex": [
       "4415623"
      ],
      "text/markdown": [
       "4415623"
      ],
      "text/plain": [
       "[1] 4415623"
      ]
     },
     "metadata": {},
     "output_type": "display_data"
    },
    {
     "data": {
      "text/plain": [
       "    Min.  1st Qu.   Median     Mean  3rd Qu.     Max. \n",
       "  0.0000   0.1636   0.4526   2.0543   1.1442 398.9421 "
      ]
     },
     "metadata": {},
     "output_type": "display_data"
    }
   ],
   "source": [
    "#What's the highest pvalue we get with the permuted phenotypes?\n",
    "case_control_lrt_NULL <- fread(\"~/ClownfishGWAS/data/APPC_sequencing/DNA/trimmed_reads/mapping/genotypes/angsd/case_control_assoc_out_NULL.lrt0.gz\")\n",
    "case_control_lrt_NULL[, locus := paste(Chromosome, Position, sep=\":\")]\n",
    "no_hwe_lrt_NULL <- case_control_lrt_NULL[locus %!in% case_control_hwe[p < 0.05, locus]]\n",
    "nrow(no_hwe_lrt_NULL) == nrow(no_hwe_lrt) #should be true\n",
    "\n",
    "#filter other sites that have negative LRT\n",
    "no_hwe_lrt_filt_NULL<-no_hwe_lrt_NULL[LRT >0]\n",
    "nrow(no_hwe_lrt_filt_NULL) #number of sites included\n",
    "no_hwe_lrt_filt_NULL$pvalue<-dchisq(no_hwe_lrt_filt_NULL$LRT, df=1)\n",
    "summary(no_hwe_lrt_filt_NULL$pvalue)"
   ]
  },
  {
   "cell_type": "code",
   "execution_count": 11,
   "id": "f1dbc6e0",
   "metadata": {},
   "outputs": [
    {
     "data": {
      "text/html": [
       "1.35833896449409e-06"
      ],
      "text/latex": [
       "1.35833896449409e-06"
      ],
      "text/markdown": [
       "1.35833896449409e-06"
      ],
      "text/plain": [
       "[1] 1.358339e-06"
      ]
     },
     "metadata": {},
     "output_type": "display_data"
    },
    {
     "data": {
      "text/html": [
       "3.45599656944019e-08"
      ],
      "text/latex": [
       "3.45599656944019e-08"
      ],
      "text/markdown": [
       "3.45599656944019e-08"
      ],
      "text/plain": [
       "[1] 3.455997e-08"
      ]
     },
     "metadata": {},
     "output_type": "display_data"
    }
   ],
   "source": [
    "min(no_hwe_lrt_filt_NULL$pvalue)\n",
    "min(no_hwe_lrt_filt$pvalue)"
   ]
  },
  {
   "cell_type": "code",
   "execution_count": 76,
   "id": "70601a77",
   "metadata": {},
   "outputs": [],
   "source": [
    "candidates <- no_hwe_lrt_filt[LRT > max(case_control_lrt_NULL$LRT)]"
   ]
  },
  {
   "cell_type": "code",
   "execution_count": 77,
   "id": "6a32da69",
   "metadata": {},
   "outputs": [
    {
     "data": {
      "text/html": [
       "<table>\n",
       "<thead><tr><th scope=col>Chromosome</th><th scope=col>Position</th><th scope=col>Major</th><th scope=col>Minor</th><th scope=col>Frequency</th><th scope=col>LRT</th><th scope=col>locus</th><th scope=col>pvalue</th><th scope=col>SNP</th></tr></thead>\n",
       "<tbody>\n",
       "\t<tr><td>97091              </td><td>16016301           </td><td>A                  </td><td>T                  </td><td>0.420916           </td><td>27.49578           </td><td>CM009709.1:16016301</td><td>8.140381e-08       </td><td>r457958            </td></tr>\n",
       "\t<tr><td>97101              </td><td>28234957           </td><td>C                  </td><td>T                  </td><td>0.437653           </td><td>23.30957           </td><td>CM009710.1:28234957</td><td>7.170255e-07       </td><td>r896790            </td></tr>\n",
       "\t<tr><td>97131              </td><td>37957666           </td><td>C                  </td><td>G                  </td><td>0.391876           </td><td>23.59117           </td><td>CM009713.1:37957666</td><td>6.191233e-07       </td><td>r1952891           </td></tr>\n",
       "\t<tr><td>97151              </td><td>38909563           </td><td>T                  </td><td>C                  </td><td>0.419653           </td><td>22.48597           </td><td>CM009715.1:38909563</td><td>1.102015e-06       </td><td>r2621157           </td></tr>\n",
       "\t<tr><td>97181              </td><td>27595087           </td><td>C                  </td><td>T                  </td><td>0.399784           </td><td>29.15078           </td><td>CM009718.1:27595087</td><td>3.455997e-08       </td><td>r3551971           </td></tr>\n",
       "\t<tr><td>97191              </td><td>25058095           </td><td>A                  </td><td>T                  </td><td>0.277069           </td><td>25.12561           </td><td>CM009719.1:25058095</td><td>2.785450e-07       </td><td>r3841142           </td></tr>\n",
       "\t<tr><td>97231              </td><td> 3558599           </td><td>C                  </td><td>G                  </td><td>0.423649           </td><td>22.73351           </td><td>CM009723.1:3558599 </td><td>9.684058e-07       </td><td>r4859309           </td></tr>\n",
       "\t<tr><td>97291              </td><td>13747328           </td><td>A                  </td><td>G                  </td><td>0.415023           </td><td>22.58004           </td><td>CM009729.1:13747328</td><td>1.049188e-06       </td><td>r6516672           </td></tr>\n",
       "\t<tr><td>97301              </td><td>  653787           </td><td>C                  </td><td>T                  </td><td>0.154713           </td><td>24.16069           </td><td>CM009730.1:653787  </td><td>4.601800e-07       </td><td>r6650740           </td></tr>\n",
       "</tbody>\n",
       "</table>\n"
      ],
      "text/latex": [
       "\\begin{tabular}{r|lllllllll}\n",
       " Chromosome & Position & Major & Minor & Frequency & LRT & locus & pvalue & SNP\\\\\n",
       "\\hline\n",
       "\t 97091               & 16016301            & A                   & T                   & 0.420916            & 27.49578            & CM009709.1:16016301 & 8.140381e-08        & r457958            \\\\\n",
       "\t 97101               & 28234957            & C                   & T                   & 0.437653            & 23.30957            & CM009710.1:28234957 & 7.170255e-07        & r896790            \\\\\n",
       "\t 97131               & 37957666            & C                   & G                   & 0.391876            & 23.59117            & CM009713.1:37957666 & 6.191233e-07        & r1952891           \\\\\n",
       "\t 97151               & 38909563            & T                   & C                   & 0.419653            & 22.48597            & CM009715.1:38909563 & 1.102015e-06        & r2621157           \\\\\n",
       "\t 97181               & 27595087            & C                   & T                   & 0.399784            & 29.15078            & CM009718.1:27595087 & 3.455997e-08        & r3551971           \\\\\n",
       "\t 97191               & 25058095            & A                   & T                   & 0.277069            & 25.12561            & CM009719.1:25058095 & 2.785450e-07        & r3841142           \\\\\n",
       "\t 97231               &  3558599            & C                   & G                   & 0.423649            & 22.73351            & CM009723.1:3558599  & 9.684058e-07        & r4859309           \\\\\n",
       "\t 97291               & 13747328            & A                   & G                   & 0.415023            & 22.58004            & CM009729.1:13747328 & 1.049188e-06        & r6516672           \\\\\n",
       "\t 97301               &   653787            & C                   & T                   & 0.154713            & 24.16069            & CM009730.1:653787   & 4.601800e-07        & r6650740           \\\\\n",
       "\\end{tabular}\n"
      ],
      "text/markdown": [
       "\n",
       "| Chromosome | Position | Major | Minor | Frequency | LRT | locus | pvalue | SNP |\n",
       "|---|---|---|---|---|---|---|---|---|\n",
       "| 97091               | 16016301            | A                   | T                   | 0.420916            | 27.49578            | CM009709.1:16016301 | 8.140381e-08        | r457958             |\n",
       "| 97101               | 28234957            | C                   | T                   | 0.437653            | 23.30957            | CM009710.1:28234957 | 7.170255e-07        | r896790             |\n",
       "| 97131               | 37957666            | C                   | G                   | 0.391876            | 23.59117            | CM009713.1:37957666 | 6.191233e-07        | r1952891            |\n",
       "| 97151               | 38909563            | T                   | C                   | 0.419653            | 22.48597            | CM009715.1:38909563 | 1.102015e-06        | r2621157            |\n",
       "| 97181               | 27595087            | C                   | T                   | 0.399784            | 29.15078            | CM009718.1:27595087 | 3.455997e-08        | r3551971            |\n",
       "| 97191               | 25058095            | A                   | T                   | 0.277069            | 25.12561            | CM009719.1:25058095 | 2.785450e-07        | r3841142            |\n",
       "| 97231               |  3558599            | C                   | G                   | 0.423649            | 22.73351            | CM009723.1:3558599  | 9.684058e-07        | r4859309            |\n",
       "| 97291               | 13747328            | A                   | G                   | 0.415023            | 22.58004            | CM009729.1:13747328 | 1.049188e-06        | r6516672            |\n",
       "| 97301               |   653787            | C                   | T                   | 0.154713            | 24.16069            | CM009730.1:653787   | 4.601800e-07        | r6650740            |\n",
       "\n"
      ],
      "text/plain": [
       "  Chromosome Position Major Minor Frequency LRT      locus              \n",
       "1 97091      16016301 A     T     0.420916  27.49578 CM009709.1:16016301\n",
       "2 97101      28234957 C     T     0.437653  23.30957 CM009710.1:28234957\n",
       "3 97131      37957666 C     G     0.391876  23.59117 CM009713.1:37957666\n",
       "4 97151      38909563 T     C     0.419653  22.48597 CM009715.1:38909563\n",
       "5 97181      27595087 C     T     0.399784  29.15078 CM009718.1:27595087\n",
       "6 97191      25058095 A     T     0.277069  25.12561 CM009719.1:25058095\n",
       "7 97231       3558599 C     G     0.423649  22.73351 CM009723.1:3558599 \n",
       "8 97291      13747328 A     G     0.415023  22.58004 CM009729.1:13747328\n",
       "9 97301        653787 C     T     0.154713  24.16069 CM009730.1:653787  \n",
       "  pvalue       SNP     \n",
       "1 8.140381e-08 r457958 \n",
       "2 7.170255e-07 r896790 \n",
       "3 6.191233e-07 r1952891\n",
       "4 1.102015e-06 r2621157\n",
       "5 3.455997e-08 r3551971\n",
       "6 2.785450e-07 r3841142\n",
       "7 9.684058e-07 r4859309\n",
       "8 1.049188e-06 r6516672\n",
       "9 4.601800e-07 r6650740"
      ]
     },
     "metadata": {},
     "output_type": "display_data"
    }
   ],
   "source": [
    "no_hwe_lrt_filt[pvalue < min(no_hwe_lrt_filt_NULL$pvalue)]"
   ]
  },
  {
   "cell_type": "code",
   "execution_count": 79,
   "id": "9a9be550",
   "metadata": {
    "scrolled": false
   },
   "outputs": [],
   "source": [
    "#fwrite(candidates, \"~/ClownfishGWAS/script_output/Prelim_Case_Control_Candidates.tsv\", sep=\"\\t\")"
   ]
  },
  {
   "cell_type": "code",
   "execution_count": 81,
   "id": "08921af9",
   "metadata": {},
   "outputs": [
    {
     "name": "stdout",
     "output_type": "stream",
     "text": [
      "Avoidable 343.346 seconds. This file is very unusual: it ends abruptly without a final newline, and also its size is a multiple of 4096 bytes. Please properly end the last row with a newline using for example 'echo >> file' to avoid this  time to copy.\n"
     ]
    },
    {
     "name": "stderr",
     "output_type": "stream",
     "text": [
      "Warning message in fread(\"/data/katrinac/APPC_sequencing/DNA/trimmed_reads/mapping/genotypes/angsd/ngsld/appc_ngsLD.tsv\"):\n",
      "“Discarded single-line footer: <<CM009709.1:38260486\tCM009709.1:38311636\t51150\t0.015748\t->>”"
     ]
    }
   ],
   "source": [
    "#check out ld results\n",
    "ld <- fread(\"/data/katrinac/APPC_sequencing/DNA/trimmed_reads/mapping/genotypes/angsd/ngsld/appc_ngsLD.tsv\")\n",
    "head(ld)\n",
    "setnames(ld, 7, \"r\")"
   ]
  },
  {
   "cell_type": "code",
   "execution_count": 83,
   "id": "30253e12",
   "metadata": {},
   "outputs": [
    {
     "data": {
      "text/html": [
       "<table>\n",
       "<thead><tr><th scope=col>#site1</th><th scope=col>site2</th><th scope=col>dist</th><th scope=col>r^2_ExpG</th><th scope=col>D</th><th scope=col>D'</th><th scope=col>r^2</th></tr></thead>\n",
       "<tbody>\n",
       "\t<tr><td>CM009708.1:787  </td><td>CM009708.1:1492 </td><td> 705            </td><td>0.022680        </td><td>-0.041183       </td><td>0.855414        </td><td>0.067845        </td></tr>\n",
       "\t<tr><td>CM009708.1:4552 </td><td>CM009708.1:4553 </td><td>   1            </td><td>0.739407        </td><td> 0.164141       </td><td>0.995743        </td><td>0.984979        </td></tr>\n",
       "\t<tr><td>CM009708.1:9418 </td><td>CM009708.1:10288</td><td> 870            </td><td>0.069655        </td><td> 0.041926       </td><td>0.436036        </td><td>0.078178        </td></tr>\n",
       "\t<tr><td>CM009708.1:480  </td><td>CM009708.1:787  </td><td> 307            </td><td>0.008322        </td><td>-0.059842       </td><td>0.876247        </td><td>0.108963        </td></tr>\n",
       "\t<tr><td>CM009708.1:7589 </td><td>CM009708.1:9342 </td><td>1753            </td><td>0.023924        </td><td> 0.048033       </td><td>0.998856        </td><td>0.253766        </td></tr>\n",
       "\t<tr><td>CM009708.1:9389 </td><td>CM009708.1:9418 </td><td>  29            </td><td>0.233455        </td><td> 0.174339       </td><td>0.999851        </td><td>0.797097        </td></tr>\n",
       "</tbody>\n",
       "</table>\n"
      ],
      "text/latex": [
       "\\begin{tabular}{r|lllllll}\n",
       " \\#site1 & site2 & dist & r\\textasciicircum{}2\\_ExpG & D & D' & r\\textasciicircum{}2\\\\\n",
       "\\hline\n",
       "\t CM009708.1:787   & CM009708.1:1492  &  705             & 0.022680         & -0.041183        & 0.855414         & 0.067845        \\\\\n",
       "\t CM009708.1:4552  & CM009708.1:4553  &    1             & 0.739407         &  0.164141        & 0.995743         & 0.984979        \\\\\n",
       "\t CM009708.1:9418  & CM009708.1:10288 &  870             & 0.069655         &  0.041926        & 0.436036         & 0.078178        \\\\\n",
       "\t CM009708.1:480   & CM009708.1:787   &  307             & 0.008322         & -0.059842        & 0.876247         & 0.108963        \\\\\n",
       "\t CM009708.1:7589  & CM009708.1:9342  & 1753             & 0.023924         &  0.048033        & 0.998856         & 0.253766        \\\\\n",
       "\t CM009708.1:9389  & CM009708.1:9418  &   29             & 0.233455         &  0.174339        & 0.999851         & 0.797097        \\\\\n",
       "\\end{tabular}\n"
      ],
      "text/markdown": [
       "\n",
       "| #site1 | site2 | dist | r^2_ExpG | D | D' | r^2 |\n",
       "|---|---|---|---|---|---|---|\n",
       "| CM009708.1:787   | CM009708.1:1492  |  705             | 0.022680         | -0.041183        | 0.855414         | 0.067845         |\n",
       "| CM009708.1:4552  | CM009708.1:4553  |    1             | 0.739407         |  0.164141        | 0.995743         | 0.984979         |\n",
       "| CM009708.1:9418  | CM009708.1:10288 |  870             | 0.069655         |  0.041926        | 0.436036         | 0.078178         |\n",
       "| CM009708.1:480   | CM009708.1:787   |  307             | 0.008322         | -0.059842        | 0.876247         | 0.108963         |\n",
       "| CM009708.1:7589  | CM009708.1:9342  | 1753             | 0.023924         |  0.048033        | 0.998856         | 0.253766         |\n",
       "| CM009708.1:9389  | CM009708.1:9418  |   29             | 0.233455         |  0.174339        | 0.999851         | 0.797097         |\n",
       "\n"
      ],
      "text/plain": [
       "  #site1          site2            dist r^2_ExpG D         D'       r^2     \n",
       "1 CM009708.1:787  CM009708.1:1492   705 0.022680 -0.041183 0.855414 0.067845\n",
       "2 CM009708.1:4552 CM009708.1:4553     1 0.739407  0.164141 0.995743 0.984979\n",
       "3 CM009708.1:9418 CM009708.1:10288  870 0.069655  0.041926 0.436036 0.078178\n",
       "4 CM009708.1:480  CM009708.1:787    307 0.008322 -0.059842 0.876247 0.108963\n",
       "5 CM009708.1:7589 CM009708.1:9342  1753 0.023924  0.048033 0.998856 0.253766\n",
       "6 CM009708.1:9389 CM009708.1:9418    29 0.233455  0.174339 0.999851 0.797097"
      ]
     },
     "metadata": {},
     "output_type": "display_data"
    }
   ],
   "source": [
    "head(ld)\n",
    "setnames(ld, 7, \"r\")"
   ]
  },
  {
   "cell_type": "code",
   "execution_count": 84,
   "id": "1e95f3f1",
   "metadata": {},
   "outputs": [
    {
     "data": {
      "text/html": [
       "<table>\n",
       "<thead><tr><th scope=col>#site1</th><th scope=col>site2</th><th scope=col>dist</th><th scope=col>r^2_ExpG</th><th scope=col>D</th><th scope=col>D'</th><th scope=col>r</th></tr></thead>\n",
       "<tbody>\n",
       "\t<tr><td>CM009708.1:787  </td><td>CM009708.1:1492 </td><td> 705            </td><td>0.022680        </td><td>-0.041183       </td><td>0.855414        </td><td>0.067845        </td></tr>\n",
       "\t<tr><td>CM009708.1:4552 </td><td>CM009708.1:4553 </td><td>   1            </td><td>0.739407        </td><td> 0.164141       </td><td>0.995743        </td><td>0.984979        </td></tr>\n",
       "\t<tr><td>CM009708.1:9418 </td><td>CM009708.1:10288</td><td> 870            </td><td>0.069655        </td><td> 0.041926       </td><td>0.436036        </td><td>0.078178        </td></tr>\n",
       "\t<tr><td>CM009708.1:480  </td><td>CM009708.1:787  </td><td> 307            </td><td>0.008322        </td><td>-0.059842       </td><td>0.876247        </td><td>0.108963        </td></tr>\n",
       "\t<tr><td>CM009708.1:7589 </td><td>CM009708.1:9342 </td><td>1753            </td><td>0.023924        </td><td> 0.048033       </td><td>0.998856        </td><td>0.253766        </td></tr>\n",
       "\t<tr><td>CM009708.1:9389 </td><td>CM009708.1:9418 </td><td>  29            </td><td>0.233455        </td><td> 0.174339       </td><td>0.999851        </td><td>0.797097        </td></tr>\n",
       "</tbody>\n",
       "</table>\n"
      ],
      "text/latex": [
       "\\begin{tabular}{r|lllllll}\n",
       " \\#site1 & site2 & dist & r\\textasciicircum{}2\\_ExpG & D & D' & r\\\\\n",
       "\\hline\n",
       "\t CM009708.1:787   & CM009708.1:1492  &  705             & 0.022680         & -0.041183        & 0.855414         & 0.067845        \\\\\n",
       "\t CM009708.1:4552  & CM009708.1:4553  &    1             & 0.739407         &  0.164141        & 0.995743         & 0.984979        \\\\\n",
       "\t CM009708.1:9418  & CM009708.1:10288 &  870             & 0.069655         &  0.041926        & 0.436036         & 0.078178        \\\\\n",
       "\t CM009708.1:480   & CM009708.1:787   &  307             & 0.008322         & -0.059842        & 0.876247         & 0.108963        \\\\\n",
       "\t CM009708.1:7589  & CM009708.1:9342  & 1753             & 0.023924         &  0.048033        & 0.998856         & 0.253766        \\\\\n",
       "\t CM009708.1:9389  & CM009708.1:9418  &   29             & 0.233455         &  0.174339        & 0.999851         & 0.797097        \\\\\n",
       "\\end{tabular}\n"
      ],
      "text/markdown": [
       "\n",
       "| #site1 | site2 | dist | r^2_ExpG | D | D' | r |\n",
       "|---|---|---|---|---|---|---|\n",
       "| CM009708.1:787   | CM009708.1:1492  |  705             | 0.022680         | -0.041183        | 0.855414         | 0.067845         |\n",
       "| CM009708.1:4552  | CM009708.1:4553  |    1             | 0.739407         |  0.164141        | 0.995743         | 0.984979         |\n",
       "| CM009708.1:9418  | CM009708.1:10288 |  870             | 0.069655         |  0.041926        | 0.436036         | 0.078178         |\n",
       "| CM009708.1:480   | CM009708.1:787   |  307             | 0.008322         | -0.059842        | 0.876247         | 0.108963         |\n",
       "| CM009708.1:7589  | CM009708.1:9342  | 1753             | 0.023924         |  0.048033        | 0.998856         | 0.253766         |\n",
       "| CM009708.1:9389  | CM009708.1:9418  |   29             | 0.233455         |  0.174339        | 0.999851         | 0.797097         |\n",
       "\n"
      ],
      "text/plain": [
       "  #site1          site2            dist r^2_ExpG D         D'       r       \n",
       "1 CM009708.1:787  CM009708.1:1492   705 0.022680 -0.041183 0.855414 0.067845\n",
       "2 CM009708.1:4552 CM009708.1:4553     1 0.739407  0.164141 0.995743 0.984979\n",
       "3 CM009708.1:9418 CM009708.1:10288  870 0.069655  0.041926 0.436036 0.078178\n",
       "4 CM009708.1:480  CM009708.1:787    307 0.008322 -0.059842 0.876247 0.108963\n",
       "5 CM009708.1:7589 CM009708.1:9342  1753 0.023924  0.048033 0.998856 0.253766\n",
       "6 CM009708.1:9389 CM009708.1:9418    29 0.233455  0.174339 0.999851 0.797097"
      ]
     },
     "metadata": {},
     "output_type": "display_data"
    }
   ],
   "source": [
    "head(ld)\n"
   ]
  },
  {
   "cell_type": "code",
   "execution_count": 86,
   "id": "eb223761",
   "metadata": {},
   "outputs": [
    {
     "data": {
      "text/html": [
       "0.0321735233948386"
      ],
      "text/latex": [
       "0.0321735233948386"
      ],
      "text/markdown": [
       "0.0321735233948386"
      ],
      "text/plain": [
       "[1] 0.03217352"
      ]
     },
     "metadata": {},
     "output_type": "display_data"
    }
   ],
   "source": [
    "nrow(ld[r >.5])/nrow(ld)"
   ]
  },
  {
   "cell_type": "code",
   "execution_count": null,
   "id": "a9d38f43",
   "metadata": {},
   "outputs": [],
   "source": []
  },
  {
   "cell_type": "code",
   "execution_count": null,
   "id": "27f1ba87",
   "metadata": {},
   "outputs": [],
   "source": []
  },
  {
   "cell_type": "code",
   "execution_count": 29,
   "id": "012c26c6",
   "metadata": {},
   "outputs": [
    {
     "name": "stderr",
     "output_type": "stream",
     "text": [
      "also installing the dependencies ‘RcppGSL’, ‘rprojroot’, ‘RcppZiggurat’, ‘pbmcapply’, ‘optimx’, ‘pegas’, ‘rrBLUP’, ‘here’, ‘Rfast’, ‘gaston’, ‘MM4LMM’\n",
      "\n",
      "Updating HTML index of packages in '.Library'\n",
      "Making 'packages.html' ... done\n"
     ]
    }
   ],
   "source": [
    "install.packages(\"RAINBOWR\")"
   ]
  },
  {
   "cell_type": "code",
   "execution_count": 55,
   "id": "2ba6877f",
   "metadata": {},
   "outputs": [],
   "source": [
    "for_FDR <- (no_hwe_lrt_filt[, .(SNP, Chromosome, Position, adj_pvalue=-log10(pvalue))])[adj_pvalue >0]"
   ]
  },
  {
   "cell_type": "code",
   "execution_count": 67,
   "id": "b6b91e0d",
   "metadata": {},
   "outputs": [
    {
     "data": {
      "text/html": [
       "<table>\n",
       "<thead><tr><th scope=col>SNP</th><th scope=col>Chromosome</th><th scope=col>Position</th><th scope=col>adj_pvalue</th></tr></thead>\n",
       "<tbody>\n",
       "\t<tr><td>r1       </td><td>97081    </td><td> 164     </td><td>0.6878925</td></tr>\n",
       "\t<tr><td>r2       </td><td>97081    </td><td> 479     </td><td>0.1579740</td></tr>\n",
       "\t<tr><td>r5       </td><td>97081    </td><td> 787     </td><td>0.4963576</td></tr>\n",
       "\t<tr><td>r7       </td><td>97081    </td><td>1623     </td><td>0.2067779</td></tr>\n",
       "\t<tr><td>r8       </td><td>97081    </td><td>1742     </td><td>0.3782474</td></tr>\n",
       "\t<tr><td>r10      </td><td>97081    </td><td>1830     </td><td>0.2581367</td></tr>\n",
       "</tbody>\n",
       "</table>\n"
      ],
      "text/latex": [
       "\\begin{tabular}{r|llll}\n",
       " SNP & Chromosome & Position & adj\\_pvalue\\\\\n",
       "\\hline\n",
       "\t r1        & 97081     &  164      & 0.6878925\\\\\n",
       "\t r2        & 97081     &  479      & 0.1579740\\\\\n",
       "\t r5        & 97081     &  787      & 0.4963576\\\\\n",
       "\t r7        & 97081     & 1623      & 0.2067779\\\\\n",
       "\t r8        & 97081     & 1742      & 0.3782474\\\\\n",
       "\t r10       & 97081     & 1830      & 0.2581367\\\\\n",
       "\\end{tabular}\n"
      ],
      "text/markdown": [
       "\n",
       "| SNP | Chromosome | Position | adj_pvalue |\n",
       "|---|---|---|---|\n",
       "| r1        | 97081     |  164      | 0.6878925 |\n",
       "| r2        | 97081     |  479      | 0.1579740 |\n",
       "| r5        | 97081     |  787      | 0.4963576 |\n",
       "| r7        | 97081     | 1623      | 0.2067779 |\n",
       "| r8        | 97081     | 1742      | 0.3782474 |\n",
       "| r10       | 97081     | 1830      | 0.2581367 |\n",
       "\n"
      ],
      "text/plain": [
       "  SNP Chromosome Position adj_pvalue\n",
       "1 r1  97081       164     0.6878925 \n",
       "2 r2  97081       479     0.1579740 \n",
       "3 r5  97081       787     0.4963576 \n",
       "4 r7  97081      1623     0.2067779 \n",
       "5 r8  97081      1742     0.3782474 \n",
       "6 r10 97081      1830     0.2581367 "
      ]
     },
     "metadata": {},
     "output_type": "display_data"
    },
    {
     "data": {
      "text/html": [
       "<table>\n",
       "<thead><tr><th scope=col>Chromosome</th><th scope=col>Position</th><th scope=col>Major</th><th scope=col>Minor</th><th scope=col>Frequency</th><th scope=col>LRT</th><th scope=col>locus</th><th scope=col>pvalue</th><th scope=col>SNP</th></tr></thead>\n",
       "<tbody>\n",
       "\t<tr><td>97081          </td><td> 164           </td><td>A              </td><td>G              </td><td>0.144025       </td><td>1.171608       </td><td>CM009708.1:164 </td><td>0.2051670      </td><td>r1             </td></tr>\n",
       "\t<tr><td>97081          </td><td> 479           </td><td>T              </td><td>A              </td><td>0.098202       </td><td>0.255226       </td><td>CM009708.1:479 </td><td>0.6950659      </td><td>r2             </td></tr>\n",
       "\t<tr><td>97081          </td><td> 480           </td><td>T              </td><td>G              </td><td>0.167226       </td><td>0.117581       </td><td>CM009708.1:480 </td><td>1.0970062      </td><td>r3             </td></tr>\n",
       "\t<tr><td>97081          </td><td> 529           </td><td>C              </td><td>A              </td><td>0.168935       </td><td>0.125478       </td><td>CM009708.1:529 </td><td>1.0577403      </td><td>r4             </td></tr>\n",
       "\t<tr><td>97081          </td><td> 787           </td><td>C              </td><td>T              </td><td>0.411443       </td><td>0.743850       </td><td>CM009708.1:787 </td><td>0.3188911      </td><td>r5             </td></tr>\n",
       "\t<tr><td>97081          </td><td>1492           </td><td>T              </td><td>G              </td><td>0.122078       </td><td>0.052974       </td><td>CM009708.1:1492</td><td>1.6880120      </td><td>r6             </td></tr>\n",
       "</tbody>\n",
       "</table>\n"
      ],
      "text/latex": [
       "\\begin{tabular}{r|lllllllll}\n",
       " Chromosome & Position & Major & Minor & Frequency & LRT & locus & pvalue & SNP\\\\\n",
       "\\hline\n",
       "\t 97081           &  164            & A               & G               & 0.144025        & 1.171608        & CM009708.1:164  & 0.2051670       & r1             \\\\\n",
       "\t 97081           &  479            & T               & A               & 0.098202        & 0.255226        & CM009708.1:479  & 0.6950659       & r2             \\\\\n",
       "\t 97081           &  480            & T               & G               & 0.167226        & 0.117581        & CM009708.1:480  & 1.0970062       & r3             \\\\\n",
       "\t 97081           &  529            & C               & A               & 0.168935        & 0.125478        & CM009708.1:529  & 1.0577403       & r4             \\\\\n",
       "\t 97081           &  787            & C               & T               & 0.411443        & 0.743850        & CM009708.1:787  & 0.3188911       & r5             \\\\\n",
       "\t 97081           & 1492            & T               & G               & 0.122078        & 0.052974        & CM009708.1:1492 & 1.6880120       & r6             \\\\\n",
       "\\end{tabular}\n"
      ],
      "text/markdown": [
       "\n",
       "| Chromosome | Position | Major | Minor | Frequency | LRT | locus | pvalue | SNP |\n",
       "|---|---|---|---|---|---|---|---|---|\n",
       "| 97081           |  164            | A               | G               | 0.144025        | 1.171608        | CM009708.1:164  | 0.2051670       | r1              |\n",
       "| 97081           |  479            | T               | A               | 0.098202        | 0.255226        | CM009708.1:479  | 0.6950659       | r2              |\n",
       "| 97081           |  480            | T               | G               | 0.167226        | 0.117581        | CM009708.1:480  | 1.0970062       | r3              |\n",
       "| 97081           |  529            | C               | A               | 0.168935        | 0.125478        | CM009708.1:529  | 1.0577403       | r4              |\n",
       "| 97081           |  787            | C               | T               | 0.411443        | 0.743850        | CM009708.1:787  | 0.3188911       | r5              |\n",
       "| 97081           | 1492            | T               | G               | 0.122078        | 0.052974        | CM009708.1:1492 | 1.6880120       | r6              |\n",
       "\n"
      ],
      "text/plain": [
       "  Chromosome Position Major Minor Frequency LRT      locus           pvalue   \n",
       "1 97081       164     A     G     0.144025  1.171608 CM009708.1:164  0.2051670\n",
       "2 97081       479     T     A     0.098202  0.255226 CM009708.1:479  0.6950659\n",
       "3 97081       480     T     G     0.167226  0.117581 CM009708.1:480  1.0970062\n",
       "4 97081       529     C     A     0.168935  0.125478 CM009708.1:529  1.0577403\n",
       "5 97081       787     C     T     0.411443  0.743850 CM009708.1:787  0.3188911\n",
       "6 97081      1492     T     G     0.122078  0.052974 CM009708.1:1492 1.6880120\n",
       "  SNP\n",
       "1 r1 \n",
       "2 r2 \n",
       "3 r3 \n",
       "4 r4 \n",
       "5 r5 \n",
       "6 r6 "
      ]
     },
     "metadata": {},
     "output_type": "display_data"
    }
   ],
   "source": [
    "head(for_FDR)\n",
    "head(no_hwe_lrt_filt)"
   ]
  },
  {
   "cell_type": "code",
   "execution_count": 57,
   "id": "595b52a2",
   "metadata": {},
   "outputs": [
    {
     "data": {
      "text/plain": [
       "   Min. 1st Qu.  Median    Mean 3rd Qu.    Max. \n",
       " 0.0000  0.2746  0.5473  0.6758  0.9394  7.4614 "
      ]
     },
     "metadata": {},
     "output_type": "display_data"
    }
   ],
   "source": [
    "summary(for_FDR$adj_pvalue)"
   ]
  },
  {
   "cell_type": "code",
   "execution_count": 58,
   "id": "de693350",
   "metadata": {},
   "outputs": [
    {
     "data": {
      "text/html": [
       "<strong>BH_0.01:</strong> &lt;NA&gt;"
      ],
      "text/latex": [
       "\\textbf{BH\\textbackslash{}\\_0.01:} <NA>"
      ],
      "text/markdown": [
       "**BH_0.01:** &lt;NA&gt;"
      ],
      "text/plain": [
       "BH_0.01 \n",
       "     NA "
      ]
     },
     "metadata": {},
     "output_type": "display_data"
    }
   ],
   "source": [
    "CalcThreshold(for_FDR, sig.level = 0.01, method = \"BH\")"
   ]
  },
  {
   "cell_type": "code",
   "execution_count": 45,
   "id": "69087e5c",
   "metadata": {},
   "outputs": [
    {
     "data": {
      "text/html": [
       "708151"
      ],
      "text/latex": [
       "708151"
      ],
      "text/markdown": [
       "708151"
      ],
      "text/plain": [
       "[1] 708151"
      ]
     },
     "metadata": {},
     "output_type": "display_data"
    }
   ],
   "source": [
    "nrow(no_hwe_lrt_filt[LRT > 2.85827730981295])"
   ]
  },
  {
   "cell_type": "code",
   "execution_count": null,
   "id": "22791a6a",
   "metadata": {},
   "outputs": [],
   "source": [
    "#calculate the Genomic inflation factor to check \n",
    "chisq <- qchisq(1 - pvalue, 1)\n",
    "lambda <- median(chisq) / qchisq(0.5, 1)\n",
    "\n",
    "SE.median <- qchisq(0.975, 1) * (1.253 * ( sd(chisq) / sqrt( length(chisq) ) ) )"
   ]
  },
  {
   "cell_type": "code",
   "execution_count": 65,
   "id": "4a3af596",
   "metadata": {},
   "outputs": [],
   "source": [
    "gw <- -log10(min(no_hwe_lrt_filt_NULL$pvalue))"
   ]
  },
  {
   "cell_type": "code",
   "execution_count": 72,
   "id": "9d63b2f0",
   "metadata": {},
   "outputs": [
    {
     "data": {
      "image/png": "[encoded data removed]",
      "text/plain": [
       "plot without title"
      ]
     },
     "metadata": {},
     "output_type": "display_data"
    }
   ],
   "source": [
    "library(qqman)\n",
    "man <- qqman::manhattan(no_hwe_lrt_filt, chr=\"Chromosome\", bp=\"Position\", p=\"pvalue\", genomewideline = gw, suggestiveline = F)"
   ]
  },
  {
   "cell_type": "code",
   "execution_count": 80,
   "id": "e3f985e4",
   "metadata": {},
   "outputs": [
    {
     "data": {
      "text/html": [
       "<strong>png:</strong> 2"
      ],
      "text/latex": [
       "\\textbf{png:} 2"
      ],
      "text/markdown": [
       "**png:** 2"
      ],
      "text/plain": [
       "png \n",
       "  2 "
      ]
     },
     "metadata": {},
     "output_type": "display_data"
    }
   ],
   "source": [
    "jpeg(\"~/ClownfishGWAS/script_output/figures/Case_control_manhattan.jpeg\")\n",
    "qqman::manhattan(no_hwe_lrt_filt, chr=\"Chromosome\", bp=\"Position\", p=\"pvalue\", genomewideline = gw, suggestiveline = F)\n",
    "dev.off()"
   ]
  },
  {
   "cell_type": "code",
   "execution_count": 63,
   "id": "ff75b5cf",
   "metadata": {},
   "outputs": [
    {
     "data": {
      "text/html": [
       "<table>\n",
       "<thead><tr><th scope=col>Chromosome</th><th scope=col>Position</th><th scope=col>Major</th><th scope=col>Minor</th><th scope=col>Frequency</th><th scope=col>LRT</th><th scope=col>locus</th><th scope=col>pvalue</th><th scope=col>SNP</th></tr></thead>\n",
       "<tbody>\n",
       "\t<tr><td>97081            </td><td>  3568           </td><td>A                </td><td>G                </td><td>0.201610         </td><td>3.678422         </td><td>CM009708.1:3568  </td><td>0.033061313      </td><td>r28              </td></tr>\n",
       "\t<tr><td>97081            </td><td>  3920           </td><td>C                </td><td>G                </td><td>0.072581         </td><td>3.572991         </td><td>CM009708.1:3920  </td><td>0.035361361      </td><td>r35              </td></tr>\n",
       "\t<tr><td>97081            </td><td> 10004           </td><td>A                </td><td>G                </td><td>0.110801         </td><td>6.085021         </td><td>CM009708.1:10004 </td><td>0.007716734      </td><td>r62              </td></tr>\n",
       "\t<tr><td>97081            </td><td> 15239           </td><td>A                </td><td>C                </td><td>0.230639         </td><td>7.384629         </td><td>CM009708.1:15239 </td><td>0.003657581      </td><td>r88              </td></tr>\n",
       "\t<tr><td>97081            </td><td> 26182           </td><td>A                </td><td>C                </td><td>0.035331         </td><td>6.285202         </td><td>CM009708.1:26182 </td><td>0.006869675      </td><td>r111             </td></tr>\n",
       "\t<tr><td>97081            </td><td> 30691           </td><td>G                </td><td>C                </td><td>0.358063         </td><td>3.920331         </td><td>CM009708.1:30691 </td><td>0.028376553      </td><td>r135             </td></tr>\n",
       "\t<tr><td>97081            </td><td> 31854           </td><td>A                </td><td>G                </td><td>0.184224         </td><td>3.530068         </td><td>CM009708.1:31854 </td><td>0.036347455      </td><td>r139             </td></tr>\n",
       "\t<tr><td>97081            </td><td> 32326           </td><td>T                </td><td>C                </td><td>0.258247         </td><td>3.763847         </td><td>CM009708.1:32326 </td><td>0.031317356      </td><td>r148             </td></tr>\n",
       "\t<tr><td>97081            </td><td> 33490           </td><td>A                </td><td>G                </td><td>0.117639         </td><td>4.309785         </td><td>CM009708.1:33490 </td><td>0.022275340      </td><td>r200             </td></tr>\n",
       "\t<tr><td>97081            </td><td> 34051           </td><td>G                </td><td>T                </td><td>0.175116         </td><td>4.770738         </td><td>CM009708.1:34051 </td><td>0.016813754      </td><td>r217             </td></tr>\n",
       "\t<tr><td>97081            </td><td> 36247           </td><td>G                </td><td>A                </td><td>0.034842         </td><td>5.229556         </td><td>CM009708.1:36247 </td><td>0.012767151      </td><td>r284             </td></tr>\n",
       "\t<tr><td>97081            </td><td> 36318           </td><td>C                </td><td>T                </td><td>0.036132         </td><td>6.401292         </td><td>CM009708.1:36318 </td><td>0.006423228      </td><td>r291             </td></tr>\n",
       "\t<tr><td>97081            </td><td> 36368           </td><td>T                </td><td>G                </td><td>0.192244         </td><td>3.100018         </td><td>CM009708.1:36368 </td><td>0.048091420      </td><td>r294             </td></tr>\n",
       "\t<tr><td>97081            </td><td> 36931           </td><td>T                </td><td>C                </td><td>0.091551         </td><td>3.257551         </td><td>CM009708.1:36931 </td><td>0.043360696      </td><td>r324             </td></tr>\n",
       "\t<tr><td>97081            </td><td> 47307           </td><td>C                </td><td>T                </td><td>0.041686         </td><td>4.883497         </td><td>CM009708.1:47307 </td><td>0.015707487      </td><td>r403             </td></tr>\n",
       "\t<tr><td>97081            </td><td> 53355           </td><td>A                </td><td>C                </td><td>0.294092         </td><td>4.324862         </td><td>CM009708.1:53355 </td><td>0.022069479      </td><td>r446             </td></tr>\n",
       "\t<tr><td>97081            </td><td> 61181           </td><td>G                </td><td>A                </td><td>0.037705         </td><td>5.628374         </td><td>CM009708.1:61181 </td><td>0.010081675      </td><td>r493             </td></tr>\n",
       "\t<tr><td>97081            </td><td> 71895           </td><td>C                </td><td>T                </td><td>0.153201         </td><td>5.253237         </td><td>CM009708.1:71895 </td><td>0.012588403      </td><td>r523             </td></tr>\n",
       "\t<tr><td>97081            </td><td> 78192           </td><td>C                </td><td>T                </td><td>0.464439         </td><td>6.499424         </td><td>CM009708.1:78192 </td><td>0.006069328      </td><td>r569             </td></tr>\n",
       "\t<tr><td>97081            </td><td> 82087           </td><td>A                </td><td>C                </td><td>0.051714         </td><td>6.442950         </td><td>CM009708.1:82087 </td><td>0.006270452      </td><td>r612             </td></tr>\n",
       "\t<tr><td>97081            </td><td> 85228           </td><td>G                </td><td>T                </td><td>0.165076         </td><td>3.650873         </td><td>CM009708.1:85228 </td><td>0.033646098      </td><td>r624             </td></tr>\n",
       "\t<tr><td>97081            </td><td> 86935           </td><td>G                </td><td>A                </td><td>0.052360         </td><td>5.071460         </td><td>CM009708.1:86935 </td><td>0.014031045      </td><td>r633             </td></tr>\n",
       "\t<tr><td>97081            </td><td> 87155           </td><td>G                </td><td>C                </td><td>0.047560         </td><td>3.678211         </td><td>CM009708.1:87155 </td><td>0.033065750      </td><td>r636             </td></tr>\n",
       "\t<tr><td>97081            </td><td> 87427           </td><td>G                </td><td>T                </td><td>0.089990         </td><td>3.150321         </td><td>CM009708.1:87427 </td><td>0.046521011      </td><td>r649             </td></tr>\n",
       "\t<tr><td>97081            </td><td> 87434           </td><td>T                </td><td>G                </td><td>0.113842         </td><td>5.140889         </td><td>CM009708.1:87434 </td><td>0.013460497      </td><td>r650             </td></tr>\n",
       "\t<tr><td>97081            </td><td> 98272           </td><td>T                </td><td>G                </td><td>0.115318         </td><td>7.351447         </td><td>CM009708.1:98272 </td><td>0.003727153      </td><td>r679             </td></tr>\n",
       "\t<tr><td>97081            </td><td>102213           </td><td>T                </td><td>G                </td><td>0.133481         </td><td>6.192768         </td><td>CM009708.1:102213</td><td>0.007248117      </td><td>r696             </td></tr>\n",
       "\t<tr><td>97081            </td><td>107009           </td><td>T                </td><td>G                </td><td>0.072996         </td><td>4.058306         </td><td>CM009708.1:107009</td><td>0.026030812      </td><td>r713             </td></tr>\n",
       "\t<tr><td>97081            </td><td>109704           </td><td>A                </td><td>G                </td><td>0.437712         </td><td>3.520514         </td><td>CM009708.1:109704</td><td>0.036571024      </td><td>r753             </td></tr>\n",
       "\t<tr><td>97081            </td><td>110322           </td><td>A                </td><td>C                </td><td>0.035999         </td><td>4.409043         </td><td>CM009708.1:110322</td><td>0.020956868      </td><td>r756             </td></tr>\n",
       "\t<tr><td>...</td><td>...</td><td>...</td><td>...</td><td>...</td><td>...</td><td>...</td><td>...</td><td>...</td></tr>\n",
       "\t<tr><td>10001101            </td><td>23347               </td><td>T                   </td><td>A                   </td><td>0.379003            </td><td> 3.460087           </td><td>PYAM01000110.1:23347</td><td>0.0380205339        </td><td>r7066790            </td></tr>\n",
       "\t<tr><td>10001101            </td><td>23353               </td><td>T                   </td><td>C                   </td><td>0.401396            </td><td> 4.457210           </td><td>PYAM01000110.1:23353</td><td>0.0203473410        </td><td>r7066791            </td></tr>\n",
       "\t<tr><td>10001101            </td><td>23355               </td><td>T                   </td><td>C                   </td><td>0.401396            </td><td> 4.457209           </td><td>PYAM01000110.1:23355</td><td>0.0203473535        </td><td>r7066792            </td></tr>\n",
       "\t<tr><td>10001101            </td><td>23646               </td><td>G                   </td><td>A                   </td><td>0.106202            </td><td> 5.065350           </td><td>PYAM01000110.1:23646</td><td>0.0140824611        </td><td>r7066804            </td></tr>\n",
       "\t<tr><td>10001101            </td><td>23987               </td><td>C                   </td><td>T                   </td><td>0.309894            </td><td> 5.451644           </td><td>PYAM01000110.1:23987</td><td>0.0111901747        </td><td>r7066813            </td></tr>\n",
       "\t<tr><td>10001101            </td><td>31448               </td><td>C                   </td><td>T                   </td><td>0.118451            </td><td> 4.213755           </td><td>PYAM01000110.1:31448</td><td>0.0236357917        </td><td>r7066842            </td></tr>\n",
       "\t<tr><td>10001101            </td><td>38933               </td><td>C                   </td><td>A                   </td><td>0.194890            </td><td> 5.784259           </td><td>PYAM01000110.1:38933</td><td>0.0091992054        </td><td>r7066845            </td></tr>\n",
       "\t<tr><td>10001121            </td><td>24374               </td><td>C                   </td><td>G                   </td><td>0.132317            </td><td> 3.748043           </td><td>PYAM01000112.1:24374</td><td>0.0316322866        </td><td>r7066857            </td></tr>\n",
       "\t<tr><td>10001121            </td><td>24835               </td><td>T                   </td><td>G                   </td><td>0.110664            </td><td> 6.238309           </td><td>PYAM01000112.1:24835</td><td>0.0070590302        </td><td>r7066877            </td></tr>\n",
       "\t<tr><td>10001121            </td><td>24868               </td><td>C                   </td><td>G                   </td><td>0.172893            </td><td> 3.571678           </td><td>PYAM01000112.1:24868</td><td>0.0353910863        </td><td>r7066882            </td></tr>\n",
       "\t<tr><td>10001121            </td><td>24889               </td><td>G                   </td><td>A                   </td><td>0.195380            </td><td> 4.940003           </td><td>PYAM01000112.1:24889</td><td>0.0151823304        </td><td>r7066883            </td></tr>\n",
       "\t<tr><td>10001121            </td><td>25089               </td><td>C                   </td><td>T                   </td><td>0.077191            </td><td> 8.018236           </td><td>PYAM01000112.1:25089</td><td>0.0025570123        </td><td>r7066891            </td></tr>\n",
       "\t<tr><td>10001121            </td><td>25104               </td><td>T                   </td><td>C                   </td><td>0.027999            </td><td> 9.490684           </td><td>PYAM01000112.1:25104</td><td>0.0011256036        </td><td>r7066894            </td></tr>\n",
       "\t<tr><td>10001121            </td><td>25112               </td><td>T                   </td><td>A                   </td><td>0.033151            </td><td>11.594112           </td><td>PYAM01000112.1:25112</td><td>0.0003557639        </td><td>r7066895            </td></tr>\n",
       "\t<tr><td>10001121            </td><td>25203               </td><td>C                   </td><td>T                   </td><td>0.070123            </td><td> 4.596383           </td><td>PYAM01000112.1:25203</td><td>0.0186900333        </td><td>r7066916            </td></tr>\n",
       "\t<tr><td>10001121            </td><td>25213               </td><td>G                   </td><td>A                   </td><td>0.117601            </td><td> 3.463930           </td><td>PYAM01000112.1:25213</td><td>0.0379264916        </td><td>r7066920            </td></tr>\n",
       "\t<tr><td>10001121            </td><td>25822               </td><td>G                   </td><td>T                   </td><td>0.484744            </td><td> 3.243282           </td><td>PYAM01000112.1:25822</td><td>0.0437671202        </td><td>r7066934            </td></tr>\n",
       "\t<tr><td>10001121            </td><td>25916               </td><td>G                   </td><td>C                   </td><td>0.100806            </td><td> 5.078638           </td><td>PYAM01000112.1:25916</td><td>0.0139708943        </td><td>r7066937            </td></tr>\n",
       "\t<tr><td>10001121            </td><td>26425               </td><td>A                   </td><td>G                   </td><td>0.178808            </td><td> 7.697656           </td><td>PYAM01000112.1:26425</td><td>0.0030634165        </td><td>r7066940            </td></tr>\n",
       "\t<tr><td>10001121            </td><td>26507               </td><td>C                   </td><td>A                   </td><td>0.118289            </td><td> 4.704970           </td><td>PYAM01000112.1:26507</td><td>0.0174968707        </td><td>r7066943            </td></tr>\n",
       "\t<tr><td>10001121            </td><td>26544               </td><td>G                   </td><td>A                   </td><td>0.451096            </td><td> 5.325262           </td><td>PYAM01000112.1:26544</td><td>0.0120607308        </td><td>r7066948            </td></tr>\n",
       "\t<tr><td>10001121            </td><td>26557               </td><td>A                   </td><td>T                   </td><td>0.290001            </td><td> 3.368906           </td><td>PYAM01000112.1:26557</td><td>0.0403289557        </td><td>r7066951            </td></tr>\n",
       "\t<tr><td>10001121            </td><td>26781               </td><td>T                   </td><td>A                   </td><td>0.288876            </td><td> 3.274404           </td><td>PYAM01000112.1:26781</td><td>0.0428860592        </td><td>r7066983            </td></tr>\n",
       "\t<tr><td>10001121            </td><td>26823               </td><td>C                   </td><td>A                   </td><td>0.127559            </td><td> 4.217663           </td><td>PYAM01000112.1:26823</td><td>0.0235787210        </td><td>r7066993            </td></tr>\n",
       "\t<tr><td>10001121            </td><td>26932               </td><td>A                   </td><td>G                   </td><td>0.046106            </td><td> 4.307544           </td><td>PYAM01000112.1:26932</td><td>0.0223061136        </td><td>r7067017            </td></tr>\n",
       "\t<tr><td>10001151            </td><td>17970               </td><td>C                   </td><td>T                   </td><td>0.250267            </td><td> 3.131311           </td><td>PYAM01000115.1:17970</td><td>0.0471076478        </td><td>r7067058            </td></tr>\n",
       "\t<tr><td>10001171            </td><td> 3925               </td><td>C                   </td><td>T                   </td><td>0.148749            </td><td> 5.564016           </td><td>PYAM01000117.1:3925 </td><td>0.0104714098        </td><td>r7067083            </td></tr>\n",
       "\t<tr><td>10001231            </td><td>33899               </td><td>G                   </td><td>A                   </td><td>0.110093            </td><td> 3.318698           </td><td>PYAM01000123.1:33899</td><td>0.0416658345        </td><td>r7067126            </td></tr>\n",
       "\t<tr><td>  117631            </td><td>16418               </td><td>T                   </td><td>A                   </td><td>0.051359            </td><td> 3.241499           </td><td>CM011763.1:16418    </td><td>0.0438182022        </td><td>r7067795            </td></tr>\n",
       "\t<tr><td>  117631            </td><td>16556               </td><td>T                   </td><td>C                   </td><td>0.032732            </td><td> 6.041723           </td><td>CM011763.1:16556    </td><td>0.0079138202        </td><td>r7067806            </td></tr>\n",
       "</tbody>\n",
       "</table>\n"
      ],
      "text/latex": [
       "\\begin{tabular}{r|lllllllll}\n",
       " Chromosome & Position & Major & Minor & Frequency & LRT & locus & pvalue & SNP\\\\\n",
       "\\hline\n",
       "\t 97081             &   3568            & A                 & G                 & 0.201610          & 3.678422          & CM009708.1:3568   & 0.033061313       & r28              \\\\\n",
       "\t 97081             &   3920            & C                 & G                 & 0.072581          & 3.572991          & CM009708.1:3920   & 0.035361361       & r35              \\\\\n",
       "\t 97081             &  10004            & A                 & G                 & 0.110801          & 6.085021          & CM009708.1:10004  & 0.007716734       & r62              \\\\\n",
       "\t 97081             &  15239            & A                 & C                 & 0.230639          & 7.384629          & CM009708.1:15239  & 0.003657581       & r88              \\\\\n",
       "\t 97081             &  26182            & A                 & C                 & 0.035331          & 6.285202          & CM009708.1:26182  & 0.006869675       & r111             \\\\\n",
       "\t 97081             &  30691            & G                 & C                 & 0.358063          & 3.920331          & CM009708.1:30691  & 0.028376553       & r135             \\\\\n",
       "\t 97081             &  31854            & A                 & G                 & 0.184224          & 3.530068          & CM009708.1:31854  & 0.036347455       & r139             \\\\\n",
       "\t 97081             &  32326            & T                 & C                 & 0.258247          & 3.763847          & CM009708.1:32326  & 0.031317356       & r148             \\\\\n",
       "\t 97081             &  33490            & A                 & G                 & 0.117639          & 4.309785          & CM009708.1:33490  & 0.022275340       & r200             \\\\\n",
       "\t 97081             &  34051            & G                 & T                 & 0.175116          & 4.770738          & CM009708.1:34051  & 0.016813754       & r217             \\\\\n",
       "\t 97081             &  36247            & G                 & A                 & 0.034842          & 5.229556          & CM009708.1:36247  & 0.012767151       & r284             \\\\\n",
       "\t 97081             &  36318            & C                 & T                 & 0.036132          & 6.401292          & CM009708.1:36318  & 0.006423228       & r291             \\\\\n",
       "\t 97081             &  36368            & T                 & G                 & 0.192244          & 3.100018          & CM009708.1:36368  & 0.048091420       & r294             \\\\\n",
       "\t 97081             &  36931            & T                 & C                 & 0.091551          & 3.257551          & CM009708.1:36931  & 0.043360696       & r324             \\\\\n",
       "\t 97081             &  47307            & C                 & T                 & 0.041686          & 4.883497          & CM009708.1:47307  & 0.015707487       & r403             \\\\\n",
       "\t 97081             &  53355            & A                 & C                 & 0.294092          & 4.324862          & CM009708.1:53355  & 0.022069479       & r446             \\\\\n",
       "\t 97081             &  61181            & G                 & A                 & 0.037705          & 5.628374          & CM009708.1:61181  & 0.010081675       & r493             \\\\\n",
       "\t 97081             &  71895            & C                 & T                 & 0.153201          & 5.253237          & CM009708.1:71895  & 0.012588403       & r523             \\\\\n",
       "\t 97081             &  78192            & C                 & T                 & 0.464439          & 6.499424          & CM009708.1:78192  & 0.006069328       & r569             \\\\\n",
       "\t 97081             &  82087            & A                 & C                 & 0.051714          & 6.442950          & CM009708.1:82087  & 0.006270452       & r612             \\\\\n",
       "\t 97081             &  85228            & G                 & T                 & 0.165076          & 3.650873          & CM009708.1:85228  & 0.033646098       & r624             \\\\\n",
       "\t 97081             &  86935            & G                 & A                 & 0.052360          & 5.071460          & CM009708.1:86935  & 0.014031045       & r633             \\\\\n",
       "\t 97081             &  87155            & G                 & C                 & 0.047560          & 3.678211          & CM009708.1:87155  & 0.033065750       & r636             \\\\\n",
       "\t 97081             &  87427            & G                 & T                 & 0.089990          & 3.150321          & CM009708.1:87427  & 0.046521011       & r649             \\\\\n",
       "\t 97081             &  87434            & T                 & G                 & 0.113842          & 5.140889          & CM009708.1:87434  & 0.013460497       & r650             \\\\\n",
       "\t 97081             &  98272            & T                 & G                 & 0.115318          & 7.351447          & CM009708.1:98272  & 0.003727153       & r679             \\\\\n",
       "\t 97081             & 102213            & T                 & G                 & 0.133481          & 6.192768          & CM009708.1:102213 & 0.007248117       & r696             \\\\\n",
       "\t 97081             & 107009            & T                 & G                 & 0.072996          & 4.058306          & CM009708.1:107009 & 0.026030812       & r713             \\\\\n",
       "\t 97081             & 109704            & A                 & G                 & 0.437712          & 3.520514          & CM009708.1:109704 & 0.036571024       & r753             \\\\\n",
       "\t 97081             & 110322            & A                 & C                 & 0.035999          & 4.409043          & CM009708.1:110322 & 0.020956868       & r756             \\\\\n",
       "\t ... & ... & ... & ... & ... & ... & ... & ... & ...\\\\\n",
       "\t 10001101             & 23347                & T                    & A                    & 0.379003             &  3.460087            & PYAM01000110.1:23347 & 0.0380205339         & r7066790            \\\\\n",
       "\t 10001101             & 23353                & T                    & C                    & 0.401396             &  4.457210            & PYAM01000110.1:23353 & 0.0203473410         & r7066791            \\\\\n",
       "\t 10001101             & 23355                & T                    & C                    & 0.401396             &  4.457209            & PYAM01000110.1:23355 & 0.0203473535         & r7066792            \\\\\n",
       "\t 10001101             & 23646                & G                    & A                    & 0.106202             &  5.065350            & PYAM01000110.1:23646 & 0.0140824611         & r7066804            \\\\\n",
       "\t 10001101             & 23987                & C                    & T                    & 0.309894             &  5.451644            & PYAM01000110.1:23987 & 0.0111901747         & r7066813            \\\\\n",
       "\t 10001101             & 31448                & C                    & T                    & 0.118451             &  4.213755            & PYAM01000110.1:31448 & 0.0236357917         & r7066842            \\\\\n",
       "\t 10001101             & 38933                & C                    & A                    & 0.194890             &  5.784259            & PYAM01000110.1:38933 & 0.0091992054         & r7066845            \\\\\n",
       "\t 10001121             & 24374                & C                    & G                    & 0.132317             &  3.748043            & PYAM01000112.1:24374 & 0.0316322866         & r7066857            \\\\\n",
       "\t 10001121             & 24835                & T                    & G                    & 0.110664             &  6.238309            & PYAM01000112.1:24835 & 0.0070590302         & r7066877            \\\\\n",
       "\t 10001121             & 24868                & C                    & G                    & 0.172893             &  3.571678            & PYAM01000112.1:24868 & 0.0353910863         & r7066882            \\\\\n",
       "\t 10001121             & 24889                & G                    & A                    & 0.195380             &  4.940003            & PYAM01000112.1:24889 & 0.0151823304         & r7066883            \\\\\n",
       "\t 10001121             & 25089                & C                    & T                    & 0.077191             &  8.018236            & PYAM01000112.1:25089 & 0.0025570123         & r7066891            \\\\\n",
       "\t 10001121             & 25104                & T                    & C                    & 0.027999             &  9.490684            & PYAM01000112.1:25104 & 0.0011256036         & r7066894            \\\\\n",
       "\t 10001121             & 25112                & T                    & A                    & 0.033151             & 11.594112            & PYAM01000112.1:25112 & 0.0003557639         & r7066895            \\\\\n",
       "\t 10001121             & 25203                & C                    & T                    & 0.070123             &  4.596383            & PYAM01000112.1:25203 & 0.0186900333         & r7066916            \\\\\n",
       "\t 10001121             & 25213                & G                    & A                    & 0.117601             &  3.463930            & PYAM01000112.1:25213 & 0.0379264916         & r7066920            \\\\\n",
       "\t 10001121             & 25822                & G                    & T                    & 0.484744             &  3.243282            & PYAM01000112.1:25822 & 0.0437671202         & r7066934            \\\\\n",
       "\t 10001121             & 25916                & G                    & C                    & 0.100806             &  5.078638            & PYAM01000112.1:25916 & 0.0139708943         & r7066937            \\\\\n",
       "\t 10001121             & 26425                & A                    & G                    & 0.178808             &  7.697656            & PYAM01000112.1:26425 & 0.0030634165         & r7066940            \\\\\n",
       "\t 10001121             & 26507                & C                    & A                    & 0.118289             &  4.704970            & PYAM01000112.1:26507 & 0.0174968707         & r7066943            \\\\\n",
       "\t 10001121             & 26544                & G                    & A                    & 0.451096             &  5.325262            & PYAM01000112.1:26544 & 0.0120607308         & r7066948            \\\\\n",
       "\t 10001121             & 26557                & A                    & T                    & 0.290001             &  3.368906            & PYAM01000112.1:26557 & 0.0403289557         & r7066951            \\\\\n",
       "\t 10001121             & 26781                & T                    & A                    & 0.288876             &  3.274404            & PYAM01000112.1:26781 & 0.0428860592         & r7066983            \\\\\n",
       "\t 10001121             & 26823                & C                    & A                    & 0.127559             &  4.217663            & PYAM01000112.1:26823 & 0.0235787210         & r7066993            \\\\\n",
       "\t 10001121             & 26932                & A                    & G                    & 0.046106             &  4.307544            & PYAM01000112.1:26932 & 0.0223061136         & r7067017            \\\\\n",
       "\t 10001151             & 17970                & C                    & T                    & 0.250267             &  3.131311            & PYAM01000115.1:17970 & 0.0471076478         & r7067058            \\\\\n",
       "\t 10001171             &  3925                & C                    & T                    & 0.148749             &  5.564016            & PYAM01000117.1:3925  & 0.0104714098         & r7067083            \\\\\n",
       "\t 10001231             & 33899                & G                    & A                    & 0.110093             &  3.318698            & PYAM01000123.1:33899 & 0.0416658345         & r7067126            \\\\\n",
       "\t   117631             & 16418                & T                    & A                    & 0.051359             &  3.241499            & CM011763.1:16418     & 0.0438182022         & r7067795            \\\\\n",
       "\t   117631             & 16556                & T                    & C                    & 0.032732             &  6.041723            & CM011763.1:16556     & 0.0079138202         & r7067806            \\\\\n",
       "\\end{tabular}\n"
      ],
      "text/markdown": [
       "\n",
       "| Chromosome | Position | Major | Minor | Frequency | LRT | locus | pvalue | SNP |\n",
       "|---|---|---|---|---|---|---|---|---|\n",
       "| 97081             |   3568            | A                 | G                 | 0.201610          | 3.678422          | CM009708.1:3568   | 0.033061313       | r28               |\n",
       "| 97081             |   3920            | C                 | G                 | 0.072581          | 3.572991          | CM009708.1:3920   | 0.035361361       | r35               |\n",
       "| 97081             |  10004            | A                 | G                 | 0.110801          | 6.085021          | CM009708.1:10004  | 0.007716734       | r62               |\n",
       "| 97081             |  15239            | A                 | C                 | 0.230639          | 7.384629          | CM009708.1:15239  | 0.003657581       | r88               |\n",
       "| 97081             |  26182            | A                 | C                 | 0.035331          | 6.285202          | CM009708.1:26182  | 0.006869675       | r111              |\n",
       "| 97081             |  30691            | G                 | C                 | 0.358063          | 3.920331          | CM009708.1:30691  | 0.028376553       | r135              |\n",
       "| 97081             |  31854            | A                 | G                 | 0.184224          | 3.530068          | CM009708.1:31854  | 0.036347455       | r139              |\n",
       "| 97081             |  32326            | T                 | C                 | 0.258247          | 3.763847          | CM009708.1:32326  | 0.031317356       | r148              |\n",
       "| 97081             |  33490            | A                 | G                 | 0.117639          | 4.309785          | CM009708.1:33490  | 0.022275340       | r200              |\n",
       "| 97081             |  34051            | G                 | T                 | 0.175116          | 4.770738          | CM009708.1:34051  | 0.016813754       | r217              |\n",
       "| 97081             |  36247            | G                 | A                 | 0.034842          | 5.229556          | CM009708.1:36247  | 0.012767151       | r284              |\n",
       "| 97081             |  36318            | C                 | T                 | 0.036132          | 6.401292          | CM009708.1:36318  | 0.006423228       | r291              |\n",
       "| 97081             |  36368            | T                 | G                 | 0.192244          | 3.100018          | CM009708.1:36368  | 0.048091420       | r294              |\n",
       "| 97081             |  36931            | T                 | C                 | 0.091551          | 3.257551          | CM009708.1:36931  | 0.043360696       | r324              |\n",
       "| 97081             |  47307            | C                 | T                 | 0.041686          | 4.883497          | CM009708.1:47307  | 0.015707487       | r403              |\n",
       "| 97081             |  53355            | A                 | C                 | 0.294092          | 4.324862          | CM009708.1:53355  | 0.022069479       | r446              |\n",
       "| 97081             |  61181            | G                 | A                 | 0.037705          | 5.628374          | CM009708.1:61181  | 0.010081675       | r493              |\n",
       "| 97081             |  71895            | C                 | T                 | 0.153201          | 5.253237          | CM009708.1:71895  | 0.012588403       | r523              |\n",
       "| 97081             |  78192            | C                 | T                 | 0.464439          | 6.499424          | CM009708.1:78192  | 0.006069328       | r569              |\n",
       "| 97081             |  82087            | A                 | C                 | 0.051714          | 6.442950          | CM009708.1:82087  | 0.006270452       | r612              |\n",
       "| 97081             |  85228            | G                 | T                 | 0.165076          | 3.650873          | CM009708.1:85228  | 0.033646098       | r624              |\n",
       "| 97081             |  86935            | G                 | A                 | 0.052360          | 5.071460          | CM009708.1:86935  | 0.014031045       | r633              |\n",
       "| 97081             |  87155            | G                 | C                 | 0.047560          | 3.678211          | CM009708.1:87155  | 0.033065750       | r636              |\n",
       "| 97081             |  87427            | G                 | T                 | 0.089990          | 3.150321          | CM009708.1:87427  | 0.046521011       | r649              |\n",
       "| 97081             |  87434            | T                 | G                 | 0.113842          | 5.140889          | CM009708.1:87434  | 0.013460497       | r650              |\n",
       "| 97081             |  98272            | T                 | G                 | 0.115318          | 7.351447          | CM009708.1:98272  | 0.003727153       | r679              |\n",
       "| 97081             | 102213            | T                 | G                 | 0.133481          | 6.192768          | CM009708.1:102213 | 0.007248117       | r696              |\n",
       "| 97081             | 107009            | T                 | G                 | 0.072996          | 4.058306          | CM009708.1:107009 | 0.026030812       | r713              |\n",
       "| 97081             | 109704            | A                 | G                 | 0.437712          | 3.520514          | CM009708.1:109704 | 0.036571024       | r753              |\n",
       "| 97081             | 110322            | A                 | C                 | 0.035999          | 4.409043          | CM009708.1:110322 | 0.020956868       | r756              |\n",
       "| ... | ... | ... | ... | ... | ... | ... | ... | ... |\n",
       "| 10001101             | 23347                | T                    | A                    | 0.379003             |  3.460087            | PYAM01000110.1:23347 | 0.0380205339         | r7066790             |\n",
       "| 10001101             | 23353                | T                    | C                    | 0.401396             |  4.457210            | PYAM01000110.1:23353 | 0.0203473410         | r7066791             |\n",
       "| 10001101             | 23355                | T                    | C                    | 0.401396             |  4.457209            | PYAM01000110.1:23355 | 0.0203473535         | r7066792             |\n",
       "| 10001101             | 23646                | G                    | A                    | 0.106202             |  5.065350            | PYAM01000110.1:23646 | 0.0140824611         | r7066804             |\n",
       "| 10001101             | 23987                | C                    | T                    | 0.309894             |  5.451644            | PYAM01000110.1:23987 | 0.0111901747         | r7066813             |\n",
       "| 10001101             | 31448                | C                    | T                    | 0.118451             |  4.213755            | PYAM01000110.1:31448 | 0.0236357917         | r7066842             |\n",
       "| 10001101             | 38933                | C                    | A                    | 0.194890             |  5.784259            | PYAM01000110.1:38933 | 0.0091992054         | r7066845             |\n",
       "| 10001121             | 24374                | C                    | G                    | 0.132317             |  3.748043            | PYAM01000112.1:24374 | 0.0316322866         | r7066857             |\n",
       "| 10001121             | 24835                | T                    | G                    | 0.110664             |  6.238309            | PYAM01000112.1:24835 | 0.0070590302         | r7066877             |\n",
       "| 10001121             | 24868                | C                    | G                    | 0.172893             |  3.571678            | PYAM01000112.1:24868 | 0.0353910863         | r7066882             |\n",
       "| 10001121             | 24889                | G                    | A                    | 0.195380             |  4.940003            | PYAM01000112.1:24889 | 0.0151823304         | r7066883             |\n",
       "| 10001121             | 25089                | C                    | T                    | 0.077191             |  8.018236            | PYAM01000112.1:25089 | 0.0025570123         | r7066891             |\n",
       "| 10001121             | 25104                | T                    | C                    | 0.027999             |  9.490684            | PYAM01000112.1:25104 | 0.0011256036         | r7066894             |\n",
       "| 10001121             | 25112                | T                    | A                    | 0.033151             | 11.594112            | PYAM01000112.1:25112 | 0.0003557639         | r7066895             |\n",
       "| 10001121             | 25203                | C                    | T                    | 0.070123             |  4.596383            | PYAM01000112.1:25203 | 0.0186900333         | r7066916             |\n",
       "| 10001121             | 25213                | G                    | A                    | 0.117601             |  3.463930            | PYAM01000112.1:25213 | 0.0379264916         | r7066920             |\n",
       "| 10001121             | 25822                | G                    | T                    | 0.484744             |  3.243282            | PYAM01000112.1:25822 | 0.0437671202         | r7066934             |\n",
       "| 10001121             | 25916                | G                    | C                    | 0.100806             |  5.078638            | PYAM01000112.1:25916 | 0.0139708943         | r7066937             |\n",
       "| 10001121             | 26425                | A                    | G                    | 0.178808             |  7.697656            | PYAM01000112.1:26425 | 0.0030634165         | r7066940             |\n",
       "| 10001121             | 26507                | C                    | A                    | 0.118289             |  4.704970            | PYAM01000112.1:26507 | 0.0174968707         | r7066943             |\n",
       "| 10001121             | 26544                | G                    | A                    | 0.451096             |  5.325262            | PYAM01000112.1:26544 | 0.0120607308         | r7066948             |\n",
       "| 10001121             | 26557                | A                    | T                    | 0.290001             |  3.368906            | PYAM01000112.1:26557 | 0.0403289557         | r7066951             |\n",
       "| 10001121             | 26781                | T                    | A                    | 0.288876             |  3.274404            | PYAM01000112.1:26781 | 0.0428860592         | r7066983             |\n",
       "| 10001121             | 26823                | C                    | A                    | 0.127559             |  4.217663            | PYAM01000112.1:26823 | 0.0235787210         | r7066993             |\n",
       "| 10001121             | 26932                | A                    | G                    | 0.046106             |  4.307544            | PYAM01000112.1:26932 | 0.0223061136         | r7067017             |\n",
       "| 10001151             | 17970                | C                    | T                    | 0.250267             |  3.131311            | PYAM01000115.1:17970 | 0.0471076478         | r7067058             |\n",
       "| 10001171             |  3925                | C                    | T                    | 0.148749             |  5.564016            | PYAM01000117.1:3925  | 0.0104714098         | r7067083             |\n",
       "| 10001231             | 33899                | G                    | A                    | 0.110093             |  3.318698            | PYAM01000123.1:33899 | 0.0416658345         | r7067126             |\n",
       "|   117631             | 16418                | T                    | A                    | 0.051359             |  3.241499            | CM011763.1:16418     | 0.0438182022         | r7067795             |\n",
       "|   117631             | 16556                | T                    | C                    | 0.032732             |  6.041723            | CM011763.1:16556     | 0.0079138202         | r7067806             |\n",
       "\n"
      ],
      "text/plain": [
       "       Chromosome Position Major Minor Frequency LRT       locus               \n",
       "1      97081        3568   A     G     0.201610  3.678422  CM009708.1:3568     \n",
       "2      97081        3920   C     G     0.072581  3.572991  CM009708.1:3920     \n",
       "3      97081       10004   A     G     0.110801  6.085021  CM009708.1:10004    \n",
       "4      97081       15239   A     C     0.230639  7.384629  CM009708.1:15239    \n",
       "5      97081       26182   A     C     0.035331  6.285202  CM009708.1:26182    \n",
       "6      97081       30691   G     C     0.358063  3.920331  CM009708.1:30691    \n",
       "7      97081       31854   A     G     0.184224  3.530068  CM009708.1:31854    \n",
       "8      97081       32326   T     C     0.258247  3.763847  CM009708.1:32326    \n",
       "9      97081       33490   A     G     0.117639  4.309785  CM009708.1:33490    \n",
       "10     97081       34051   G     T     0.175116  4.770738  CM009708.1:34051    \n",
       "11     97081       36247   G     A     0.034842  5.229556  CM009708.1:36247    \n",
       "12     97081       36318   C     T     0.036132  6.401292  CM009708.1:36318    \n",
       "13     97081       36368   T     G     0.192244  3.100018  CM009708.1:36368    \n",
       "14     97081       36931   T     C     0.091551  3.257551  CM009708.1:36931    \n",
       "15     97081       47307   C     T     0.041686  4.883497  CM009708.1:47307    \n",
       "16     97081       53355   A     C     0.294092  4.324862  CM009708.1:53355    \n",
       "17     97081       61181   G     A     0.037705  5.628374  CM009708.1:61181    \n",
       "18     97081       71895   C     T     0.153201  5.253237  CM009708.1:71895    \n",
       "19     97081       78192   C     T     0.464439  6.499424  CM009708.1:78192    \n",
       "20     97081       82087   A     C     0.051714  6.442950  CM009708.1:82087    \n",
       "21     97081       85228   G     T     0.165076  3.650873  CM009708.1:85228    \n",
       "22     97081       86935   G     A     0.052360  5.071460  CM009708.1:86935    \n",
       "23     97081       87155   G     C     0.047560  3.678211  CM009708.1:87155    \n",
       "24     97081       87427   G     T     0.089990  3.150321  CM009708.1:87427    \n",
       "25     97081       87434   T     G     0.113842  5.140889  CM009708.1:87434    \n",
       "26     97081       98272   T     G     0.115318  7.351447  CM009708.1:98272    \n",
       "27     97081      102213   T     G     0.133481  6.192768  CM009708.1:102213   \n",
       "28     97081      107009   T     G     0.072996  4.058306  CM009708.1:107009   \n",
       "29     97081      109704   A     G     0.437712  3.520514  CM009708.1:109704   \n",
       "30     97081      110322   A     C     0.035999  4.409043  CM009708.1:110322   \n",
       "...    ...        ...      ...   ...   ...       ...       ...                 \n",
       "636520 10001101   23347    T     A     0.379003   3.460087 PYAM01000110.1:23347\n",
       "636521 10001101   23353    T     C     0.401396   4.457210 PYAM01000110.1:23353\n",
       "636522 10001101   23355    T     C     0.401396   4.457209 PYAM01000110.1:23355\n",
       "636523 10001101   23646    G     A     0.106202   5.065350 PYAM01000110.1:23646\n",
       "636524 10001101   23987    C     T     0.309894   5.451644 PYAM01000110.1:23987\n",
       "636525 10001101   31448    C     T     0.118451   4.213755 PYAM01000110.1:31448\n",
       "636526 10001101   38933    C     A     0.194890   5.784259 PYAM01000110.1:38933\n",
       "636527 10001121   24374    C     G     0.132317   3.748043 PYAM01000112.1:24374\n",
       "636528 10001121   24835    T     G     0.110664   6.238309 PYAM01000112.1:24835\n",
       "636529 10001121   24868    C     G     0.172893   3.571678 PYAM01000112.1:24868\n",
       "636530 10001121   24889    G     A     0.195380   4.940003 PYAM01000112.1:24889\n",
       "636531 10001121   25089    C     T     0.077191   8.018236 PYAM01000112.1:25089\n",
       "636532 10001121   25104    T     C     0.027999   9.490684 PYAM01000112.1:25104\n",
       "636533 10001121   25112    T     A     0.033151  11.594112 PYAM01000112.1:25112\n",
       "636534 10001121   25203    C     T     0.070123   4.596383 PYAM01000112.1:25203\n",
       "636535 10001121   25213    G     A     0.117601   3.463930 PYAM01000112.1:25213\n",
       "636536 10001121   25822    G     T     0.484744   3.243282 PYAM01000112.1:25822\n",
       "636537 10001121   25916    G     C     0.100806   5.078638 PYAM01000112.1:25916\n",
       "636538 10001121   26425    A     G     0.178808   7.697656 PYAM01000112.1:26425\n",
       "636539 10001121   26507    C     A     0.118289   4.704970 PYAM01000112.1:26507\n",
       "636540 10001121   26544    G     A     0.451096   5.325262 PYAM01000112.1:26544\n",
       "636541 10001121   26557    A     T     0.290001   3.368906 PYAM01000112.1:26557\n",
       "636542 10001121   26781    T     A     0.288876   3.274404 PYAM01000112.1:26781\n",
       "636543 10001121   26823    C     A     0.127559   4.217663 PYAM01000112.1:26823\n",
       "636544 10001121   26932    A     G     0.046106   4.307544 PYAM01000112.1:26932\n",
       "636545 10001151   17970    C     T     0.250267   3.131311 PYAM01000115.1:17970\n",
       "636546 10001171    3925    C     T     0.148749   5.564016 PYAM01000117.1:3925 \n",
       "636547 10001231   33899    G     A     0.110093   3.318698 PYAM01000123.1:33899\n",
       "636548   117631   16418    T     A     0.051359   3.241499 CM011763.1:16418    \n",
       "636549   117631   16556    T     C     0.032732   6.041723 CM011763.1:16556    \n",
       "       pvalue       SNP     \n",
       "1      0.033061313  r28     \n",
       "2      0.035361361  r35     \n",
       "3      0.007716734  r62     \n",
       "4      0.003657581  r88     \n",
       "5      0.006869675  r111    \n",
       "6      0.028376553  r135    \n",
       "7      0.036347455  r139    \n",
       "8      0.031317356  r148    \n",
       "9      0.022275340  r200    \n",
       "10     0.016813754  r217    \n",
       "11     0.012767151  r284    \n",
       "12     0.006423228  r291    \n",
       "13     0.048091420  r294    \n",
       "14     0.043360696  r324    \n",
       "15     0.015707487  r403    \n",
       "16     0.022069479  r446    \n",
       "17     0.010081675  r493    \n",
       "18     0.012588403  r523    \n",
       "19     0.006069328  r569    \n",
       "20     0.006270452  r612    \n",
       "21     0.033646098  r624    \n",
       "22     0.014031045  r633    \n",
       "23     0.033065750  r636    \n",
       "24     0.046521011  r649    \n",
       "25     0.013460497  r650    \n",
       "26     0.003727153  r679    \n",
       "27     0.007248117  r696    \n",
       "28     0.026030812  r713    \n",
       "29     0.036571024  r753    \n",
       "30     0.020956868  r756    \n",
       "...    ...          ...     \n",
       "636520 0.0380205339 r7066790\n",
       "636521 0.0203473410 r7066791\n",
       "636522 0.0203473535 r7066792\n",
       "636523 0.0140824611 r7066804\n",
       "636524 0.0111901747 r7066813\n",
       "636525 0.0236357917 r7066842\n",
       "636526 0.0091992054 r7066845\n",
       "636527 0.0316322866 r7066857\n",
       "636528 0.0070590302 r7066877\n",
       "636529 0.0353910863 r7066882\n",
       "636530 0.0151823304 r7066883\n",
       "636531 0.0025570123 r7066891\n",
       "636532 0.0011256036 r7066894\n",
       "636533 0.0003557639 r7066895\n",
       "636534 0.0186900333 r7066916\n",
       "636535 0.0379264916 r7066920\n",
       "636536 0.0437671202 r7066934\n",
       "636537 0.0139708943 r7066937\n",
       "636538 0.0030634165 r7066940\n",
       "636539 0.0174968707 r7066943\n",
       "636540 0.0120607308 r7066948\n",
       "636541 0.0403289557 r7066951\n",
       "636542 0.0428860592 r7066983\n",
       "636543 0.0235787210 r7066993\n",
       "636544 0.0223061136 r7067017\n",
       "636545 0.0471076478 r7067058\n",
       "636546 0.0104714098 r7067083\n",
       "636547 0.0416658345 r7067126\n",
       "636548 0.0438182022 r7067795\n",
       "636549 0.0079138202 r7067806"
      ]
     },
     "metadata": {},
     "output_type": "display_data"
    }
   ],
   "source": [
    "no_hwe_lrt_filt[pvalue <0.05]"
   ]
  },
  {
   "cell_type": "code",
   "execution_count": 73,
   "id": "87d58a9f",
   "metadata": {},
   "outputs": [
    {
     "data": {
      "image/png": "[encoded data removed]",
      "text/plain": [
       "plot without title"
      ]
     },
     "metadata": {},
     "output_type": "display_data"
    }
   ],
   "source": [
    "#library(qqman)\n",
    "qq_case_control <- qqman::qq(no_hwe_lrt_filt$pvalue) "
   ]
  },
  {
   "cell_type": "code",
   "execution_count": 12,
   "id": "477d8895",
   "metadata": {},
   "outputs": [
    {
     "data": {
      "text/plain": [
       "    Min.  1st Qu.   Median     Mean  3rd Qu.     Max. \n",
       "  0.0000   0.1636   0.4526   2.0543   1.1442 398.9421 "
      ]
     },
     "metadata": {},
     "output_type": "display_data"
    }
   ],
   "source": [
    "summary(no_hwe_lrt_filt_NULL$pvalue)"
   ]
  },
  {
   "cell_type": "code",
   "execution_count": 61,
   "id": "db0a9190",
   "metadata": {},
   "outputs": [
    {
     "data": {
      "text/html": [
       "5.8669918412189"
      ],
      "text/latex": [
       "5.8669918412189"
      ],
      "text/markdown": [
       "5.8669918412189"
      ],
      "text/plain": [
       "[1] 5.866992"
      ]
     },
     "metadata": {},
     "output_type": "display_data"
    }
   ],
   "source": [
    "-log10(min(no_hwe_lrt_filt_NULL$pvalue))"
   ]
  },
  {
   "cell_type": "code",
   "execution_count": 99,
   "id": "e4c02b93",
   "metadata": {},
   "outputs": [],
   "source": [
    "#how does it look if we exclude linked loci found so far with ngsLD\n",
    "unlinked <- fread(\"/data/katrinac/APPC_sequencing/DNA/trimmed_reads/mapping/genotypes/angsd/ngsld/appc_unlinked.id\")\n",
    "setnames(unlinked, 1, \"site\")"
   ]
  },
  {
   "cell_type": "code",
   "execution_count": 100,
   "id": "50ebd444",
   "metadata": {},
   "outputs": [
    {
     "data": {
      "text/html": [
       "<table>\n",
       "<thead><tr><th scope=col>site</th></tr></thead>\n",
       "<tbody>\n",
       "\t<tr><td>CM009708.1:10000697</td></tr>\n",
       "\t<tr><td>CM009708.1:10003708</td></tr>\n",
       "\t<tr><td>CM009708.1:10003879</td></tr>\n",
       "\t<tr><td>CM009708.1:10004338</td></tr>\n",
       "\t<tr><td>CM009708.1:10004540</td></tr>\n",
       "\t<tr><td>CM009708.1:10007683</td></tr>\n",
       "</tbody>\n",
       "</table>\n"
      ],
      "text/latex": [
       "\\begin{tabular}{r|l}\n",
       " site\\\\\n",
       "\\hline\n",
       "\t CM009708.1:10000697\\\\\n",
       "\t CM009708.1:10003708\\\\\n",
       "\t CM009708.1:10003879\\\\\n",
       "\t CM009708.1:10004338\\\\\n",
       "\t CM009708.1:10004540\\\\\n",
       "\t CM009708.1:10007683\\\\\n",
       "\\end{tabular}\n"
      ],
      "text/markdown": [
       "\n",
       "| site |\n",
       "|---|\n",
       "| CM009708.1:10000697 |\n",
       "| CM009708.1:10003708 |\n",
       "| CM009708.1:10003879 |\n",
       "| CM009708.1:10004338 |\n",
       "| CM009708.1:10004540 |\n",
       "| CM009708.1:10007683 |\n",
       "\n"
      ],
      "text/plain": [
       "  site               \n",
       "1 CM009708.1:10000697\n",
       "2 CM009708.1:10003708\n",
       "3 CM009708.1:10003879\n",
       "4 CM009708.1:10004338\n",
       "5 CM009708.1:10004540\n",
       "6 CM009708.1:10007683"
      ]
     },
     "metadata": {},
     "output_type": "display_data"
    }
   ],
   "source": [
    "head(unlinked)"
   ]
  },
  {
   "cell_type": "code",
   "execution_count": 98,
   "id": "6e270236",
   "metadata": {},
   "outputs": [
    {
     "data": {
      "text/html": [
       "<table>\n",
       "<thead><tr><th scope=col>Chromosome</th><th scope=col>Position</th><th scope=col>Major</th><th scope=col>Minor</th><th scope=col>Frequency</th><th scope=col>LRT</th><th scope=col>locus</th><th scope=col>pvalue</th><th scope=col>SNP</th></tr></thead>\n",
       "<tbody>\n",
       "\t<tr><td>97081          </td><td> 164           </td><td>A              </td><td>G              </td><td>0.144025       </td><td>1.171608       </td><td>CM009708.1:164 </td><td>0.2051670      </td><td>r1             </td></tr>\n",
       "\t<tr><td>97081          </td><td> 479           </td><td>T              </td><td>A              </td><td>0.098202       </td><td>0.255226       </td><td>CM009708.1:479 </td><td>0.6950659      </td><td>r2             </td></tr>\n",
       "\t<tr><td>97081          </td><td> 480           </td><td>T              </td><td>G              </td><td>0.167226       </td><td>0.117581       </td><td>CM009708.1:480 </td><td>1.0970062      </td><td>r3             </td></tr>\n",
       "\t<tr><td>97081          </td><td> 529           </td><td>C              </td><td>A              </td><td>0.168935       </td><td>0.125478       </td><td>CM009708.1:529 </td><td>1.0577403      </td><td>r4             </td></tr>\n",
       "\t<tr><td>97081          </td><td> 787           </td><td>C              </td><td>T              </td><td>0.411443       </td><td>0.743850       </td><td>CM009708.1:787 </td><td>0.3188911      </td><td>r5             </td></tr>\n",
       "\t<tr><td>97081          </td><td>1492           </td><td>T              </td><td>G              </td><td>0.122078       </td><td>0.052974       </td><td>CM009708.1:1492</td><td>1.6880120      </td><td>r6             </td></tr>\n",
       "</tbody>\n",
       "</table>\n"
      ],
      "text/latex": [
       "\\begin{tabular}{r|lllllllll}\n",
       " Chromosome & Position & Major & Minor & Frequency & LRT & locus & pvalue & SNP\\\\\n",
       "\\hline\n",
       "\t 97081           &  164            & A               & G               & 0.144025        & 1.171608        & CM009708.1:164  & 0.2051670       & r1             \\\\\n",
       "\t 97081           &  479            & T               & A               & 0.098202        & 0.255226        & CM009708.1:479  & 0.6950659       & r2             \\\\\n",
       "\t 97081           &  480            & T               & G               & 0.167226        & 0.117581        & CM009708.1:480  & 1.0970062       & r3             \\\\\n",
       "\t 97081           &  529            & C               & A               & 0.168935        & 0.125478        & CM009708.1:529  & 1.0577403       & r4             \\\\\n",
       "\t 97081           &  787            & C               & T               & 0.411443        & 0.743850        & CM009708.1:787  & 0.3188911       & r5             \\\\\n",
       "\t 97081           & 1492            & T               & G               & 0.122078        & 0.052974        & CM009708.1:1492 & 1.6880120       & r6             \\\\\n",
       "\\end{tabular}\n"
      ],
      "text/markdown": [
       "\n",
       "| Chromosome | Position | Major | Minor | Frequency | LRT | locus | pvalue | SNP |\n",
       "|---|---|---|---|---|---|---|---|---|\n",
       "| 97081           |  164            | A               | G               | 0.144025        | 1.171608        | CM009708.1:164  | 0.2051670       | r1              |\n",
       "| 97081           |  479            | T               | A               | 0.098202        | 0.255226        | CM009708.1:479  | 0.6950659       | r2              |\n",
       "| 97081           |  480            | T               | G               | 0.167226        | 0.117581        | CM009708.1:480  | 1.0970062       | r3              |\n",
       "| 97081           |  529            | C               | A               | 0.168935        | 0.125478        | CM009708.1:529  | 1.0577403       | r4              |\n",
       "| 97081           |  787            | C               | T               | 0.411443        | 0.743850        | CM009708.1:787  | 0.3188911       | r5              |\n",
       "| 97081           | 1492            | T               | G               | 0.122078        | 0.052974        | CM009708.1:1492 | 1.6880120       | r6              |\n",
       "\n"
      ],
      "text/plain": [
       "  Chromosome Position Major Minor Frequency LRT      locus           pvalue   \n",
       "1 97081       164     A     G     0.144025  1.171608 CM009708.1:164  0.2051670\n",
       "2 97081       479     T     A     0.098202  0.255226 CM009708.1:479  0.6950659\n",
       "3 97081       480     T     G     0.167226  0.117581 CM009708.1:480  1.0970062\n",
       "4 97081       529     C     A     0.168935  0.125478 CM009708.1:529  1.0577403\n",
       "5 97081       787     C     T     0.411443  0.743850 CM009708.1:787  0.3188911\n",
       "6 97081      1492     T     G     0.122078  0.052974 CM009708.1:1492 1.6880120\n",
       "  SNP\n",
       "1 r1 \n",
       "2 r2 \n",
       "3 r3 \n",
       "4 r4 \n",
       "5 r5 \n",
       "6 r6 "
      ]
     },
     "metadata": {},
     "output_type": "display_data"
    }
   ],
   "source": [
    "head(no_hwe_lrt_filt)"
   ]
  },
  {
   "cell_type": "code",
   "execution_count": 102,
   "id": "00942dea",
   "metadata": {},
   "outputs": [
    {
     "data": {
      "text/html": [
       "992212"
      ],
      "text/latex": [
       "992212"
      ],
      "text/markdown": [
       "992212"
      ],
      "text/plain": [
       "[1] 992212"
      ]
     },
     "metadata": {},
     "output_type": "display_data"
    }
   ],
   "source": [
    "unlinked_lrt_filt <- no_hwe_lrt_filt[locus %in% unlinked[,site]]\n",
    "nrow(unlinked_lrt_filt)"
   ]
  },
  {
   "cell_type": "code",
   "execution_count": 105,
   "id": "055eef01",
   "metadata": {},
   "outputs": [
    {
     "data": {
      "text/html": [
       "996780"
      ],
      "text/latex": [
       "996780"
      ],
      "text/markdown": [
       "996780"
      ],
      "text/plain": [
       "[1] 996780"
      ]
     },
     "metadata": {},
     "output_type": "display_data"
    },
    {
     "data": {
      "text/html": [
       "7067808"
      ],
      "text/latex": [
       "7067808"
      ],
      "text/markdown": [
       "7067808"
      ],
      "text/plain": [
       "[1] 7067808"
      ]
     },
     "metadata": {},
     "output_type": "display_data"
    }
   ],
   "source": [
    "nrow(unlinked)\n",
    "nrow(no_hwe_lrt_filt)"
   ]
  },
  {
   "cell_type": "code",
   "execution_count": null,
   "id": "19ed79d9",
   "metadata": {},
   "outputs": [],
   "source": [
    "summary"
   ]
  },
  {
   "cell_type": "code",
   "execution_count": 107,
   "id": "056365b1",
   "metadata": {
    "scrolled": true
   },
   "outputs": [
    {
     "data": {
      "image/png": "[encoded data removed]",
      "text/plain": [
       "plot without title"
      ]
     },
     "metadata": {},
     "output_type": "display_data"
    }
   ],
   "source": [
    "qqman::qq(unlinked_lrt_filt$pvalue) #if the analysis structure is correct, then most points will be a line (because the null of \"no association\" is true for these) and there's a tail with a higher than expected sample p value\n"
   ]
  },
  {
   "cell_type": "code",
   "execution_count": 108,
   "id": "c8b19f2f",
   "metadata": {},
   "outputs": [
    {
     "name": "stdout",
     "output_type": "stream",
     "text": [
      "System errno 22 unmapping file: Invalid argument\n"
     ]
    },
    {
     "ename": "ERROR",
     "evalue": "Error in fread(\"/data/katrinac/APPC_sequencing/DNA/trimmed_reads/mapping/genotypes/angsd/ngsld/appc_ngsLD.tsv\"): Opened 372.1GB (399516682429 bytes) file ok but could not memory map it. This is a 64bit process. There is probably not enough contiguous virtual memory available.\n",
     "output_type": "error",
     "traceback": [
      "Error in fread(\"/data/katrinac/APPC_sequencing/DNA/trimmed_reads/mapping/genotypes/angsd/ngsld/appc_ngsLD.tsv\"): Opened 372.1GB (399516682429 bytes) file ok but could not memory map it. This is a 64bit process. There is probably not enough contiguous virtual memory available.\nTraceback:\n",
      "1. fread(\"/data/katrinac/APPC_sequencing/DNA/trimmed_reads/mapping/genotypes/angsd/ngsld/appc_ngsLD.tsv\")"
     ]
    }
   ],
   "source": [
    "#get the input file to re-run ngsld for and then rewrite the output to be space sep for chrom pos instead of colon, so I can rerun angsd including only unlinked positions\n",
    "#ngsld <- fread(\"/data/katrinac/APPC_sequencing/DNA/trimmed_reads/mapping/genotypes/angsd/ngsld/appc_ngsLD.tsv\")"
   ]
  },
  {
   "cell_type": "code",
   "execution_count": null,
   "id": "01230161",
   "metadata": {},
   "outputs": [],
   "source": []
  },
  {
   "cell_type": "code",
   "execution_count": null,
   "id": "8d06b1bb",
   "metadata": {},
   "outputs": [],
   "source": []
  },
  {
   "cell_type": "code",
   "execution_count": null,
   "id": "0702fec7",
   "metadata": {},
   "outputs": [],
   "source": []
  },
  {
   "cell_type": "code",
   "execution_count": null,
   "id": "aef1588c",
   "metadata": {},
   "outputs": [],
   "source": []
  },
  {
   "cell_type": "code",
   "execution_count": null,
   "id": "7c740128",
   "metadata": {},
   "outputs": [],
   "source": []
  },
  {
   "cell_type": "code",
   "execution_count": 22,
   "id": "433cec0a",
   "metadata": {},
   "outputs": [
    {
     "name": "stderr",
     "output_type": "stream",
     "text": [
      "Warning message in fread(\"/data/katrinac/APPC_sequencing/DNA/trimmed_reads/mapping/genotypes/angsd/case_control_assoc_out_minCount30.lrt0.gz\"):\n",
      "“Discarded single-line footer: <<CM009718.1\t213>>”"
     ]
    }
   ],
   "source": [
    "#does increasing minCount to 30 help?\n",
    "mincount30 <- fread(\"/data/katrinac/APPC_sequencing/DNA/trimmed_reads/mapping/genotypes/angsd/case_control_assoc_out_minCount30.lrt0.gz\")"
   ]
  },
  {
   "cell_type": "code",
   "execution_count": 24,
   "id": "155a1598",
   "metadata": {},
   "outputs": [
    {
     "data": {
      "text/html": [
       "3356430"
      ],
      "text/latex": [
       "3356430"
      ],
      "text/markdown": [
       "3356430"
      ],
      "text/plain": [
       "[1] 3356430"
      ]
     },
     "metadata": {},
     "output_type": "display_data"
    }
   ],
   "source": [
    "nrow(mincount30)"
   ]
  },
  {
   "cell_type": "code",
   "execution_count": 26,
   "id": "feb133ca",
   "metadata": {},
   "outputs": [
    {
     "data": {
      "text/html": [
       "0.473489334382701"
      ],
      "text/latex": [
       "0.473489334382701"
      ],
      "text/markdown": [
       "0.473489334382701"
      ],
      "text/plain": [
       "[1] 0.4734893"
      ]
     },
     "metadata": {},
     "output_type": "display_data"
    }
   ],
   "source": [
    "nrow(mincount30)/nrow(case_control_lrt) #run didn't finish, but we got halfway through so hopefully that's enough to get an idea of whether it helped"
   ]
  },
  {
   "cell_type": "code",
   "execution_count": 27,
   "id": "a10d34bc",
   "metadata": {},
   "outputs": [
    {
     "data": {
      "text/html": [
       "3346597"
      ],
      "text/latex": [
       "3346597"
      ],
      "text/markdown": [
       "3346597"
      ],
      "text/plain": [
       "[1] 3346597"
      ]
     },
     "metadata": {},
     "output_type": "display_data"
    },
    {
     "data": {
      "text/plain": [
       "    Min.  1st Qu.   Median     Mean  3rd Qu.     Max. \n",
       "  0.0000   0.1791   0.4805   2.1787   1.1990 398.9421 "
      ]
     },
     "metadata": {},
     "output_type": "display_data"
    }
   ],
   "source": [
    "mincount30[, locus := paste(Chromosome, Position, sep=\":\")]\n",
    "no_hwe_lrt_mincount30 <- mincount30[locus %!in% case_control_hwe[p < 0.05, locus]]\n",
    "\n",
    "#filter other sites that have negative LRT\n",
    "no_hwe_lrt_filt_mincount30<-no_hwe_lrt_mincount30[LRT >0]\n",
    "nrow(no_hwe_lrt_filt_mincount30) #number of sites included\n",
    "no_hwe_lrt_filt_mincount30$pvalue<-dchisq(no_hwe_lrt_filt_mincount30$LRT, df=1)\n",
    "summary(no_hwe_lrt_filt_mincount30$pvalue)"
   ]
  },
  {
   "cell_type": "code",
   "execution_count": 28,
   "id": "3145a2c7",
   "metadata": {},
   "outputs": [
    {
     "data": {
      "image/png": "[encoded data removed]",
      "text/plain": [
       "plot without title"
      ]
     },
     "metadata": {},
     "output_type": "display_data"
    }
   ],
   "source": [
    "qq(no_hwe_lrt_filt_mincount30$pvalue) #okay no not really0 proceed with LD filtering to see if that helps"
   ]
  },
  {
   "cell_type": "code",
   "execution_count": null,
   "id": "01d597b6",
   "metadata": {},
   "outputs": [],
   "source": []
  },
  {
   "cell_type": "code",
   "execution_count": null,
   "id": "1360918e",
   "metadata": {},
   "outputs": [],
   "source": []
  },
  {
   "cell_type": "code",
   "execution_count": null,
   "id": "a2ff368d",
   "metadata": {},
   "outputs": [],
   "source": []
  },
  {
   "cell_type": "code",
   "execution_count": null,
   "id": "5bd85a57",
   "metadata": {},
   "outputs": [],
   "source": []
  },
  {
   "cell_type": "code",
   "execution_count": null,
   "id": "3b399bc9",
   "metadata": {},
   "outputs": [],
   "source": []
  },
  {
   "cell_type": "code",
   "execution_count": 19,
   "id": "fe5e798a",
   "metadata": {},
   "outputs": [
    {
     "data": {
      "text/html": [
       "<table>\n",
       "<thead><tr><th scope=col>Chromosome</th><th scope=col>Position</th><th scope=col>Major</th><th scope=col>Minor</th><th scope=col>Frequency</th><th scope=col>N</th><th scope=col>LRTscore</th><th scope=col>high_WT/HE/HO</th><th scope=col>LRTem</th><th scope=col>beta</th><th scope=col>SE</th><th scope=col>emIter</th></tr></thead>\n",
       "<tbody>\n",
       "\t<tr><td>CM009708.1</td><td> 164      </td><td>A         </td><td>G         </td><td>0.455804  </td><td>159       </td><td>-999      </td><td>3/1/0     </td><td>NaN       </td><td>NaN       </td><td>NaN       </td><td>0         </td></tr>\n",
       "\t<tr><td>CM009708.1</td><td> 479      </td><td>T         </td><td>A         </td><td>0.434662  </td><td>159       </td><td>-999      </td><td>3/3/0     </td><td>NaN       </td><td>NaN       </td><td>NaN       </td><td>0         </td></tr>\n",
       "\t<tr><td>CM009708.1</td><td> 480      </td><td>T         </td><td>G         </td><td>0.444954  </td><td>159       </td><td>-999      </td><td>2/6/0     </td><td>NaN       </td><td>NaN       </td><td>NaN       </td><td>0         </td></tr>\n",
       "\t<tr><td>CM009708.1</td><td> 787      </td><td>C         </td><td>T         </td><td>0.490851  </td><td>159       </td><td>-999      </td><td>1/3/0     </td><td>NaN       </td><td>NaN       </td><td>NaN       </td><td>0         </td></tr>\n",
       "\t<tr><td>CM009708.1</td><td>1492      </td><td>T         </td><td>G         </td><td>0.432884  </td><td>159       </td><td>-999      </td><td>3/3/0     </td><td>NaN       </td><td>NaN       </td><td>NaN       </td><td>0         </td></tr>\n",
       "\t<tr><td>CM009708.1</td><td>2973      </td><td>C         </td><td>T         </td><td>0.428961  </td><td>159       </td><td>-999      </td><td>5/3/0     </td><td>NaN       </td><td>NaN       </td><td>NaN       </td><td>0         </td></tr>\n",
       "</tbody>\n",
       "</table>\n"
      ],
      "text/latex": [
       "\\begin{tabular}{r|llllllllllll}\n",
       " Chromosome & Position & Major & Minor & Frequency & N & LRTscore & high\\_WT/HE/HO & LRTem & beta & SE & emIter\\\\\n",
       "\\hline\n",
       "\t CM009708.1 &  164       & A          & G          & 0.455804   & 159        & -999       & 3/1/0      & NaN        & NaN        & NaN        & 0         \\\\\n",
       "\t CM009708.1 &  479       & T          & A          & 0.434662   & 159        & -999       & 3/3/0      & NaN        & NaN        & NaN        & 0         \\\\\n",
       "\t CM009708.1 &  480       & T          & G          & 0.444954   & 159        & -999       & 2/6/0      & NaN        & NaN        & NaN        & 0         \\\\\n",
       "\t CM009708.1 &  787       & C          & T          & 0.490851   & 159        & -999       & 1/3/0      & NaN        & NaN        & NaN        & 0         \\\\\n",
       "\t CM009708.1 & 1492       & T          & G          & 0.432884   & 159        & -999       & 3/3/0      & NaN        & NaN        & NaN        & 0         \\\\\n",
       "\t CM009708.1 & 2973       & C          & T          & 0.428961   & 159        & -999       & 5/3/0      & NaN        & NaN        & NaN        & 0         \\\\\n",
       "\\end{tabular}\n"
      ],
      "text/markdown": [
       "\n",
       "| Chromosome | Position | Major | Minor | Frequency | N | LRTscore | high_WT/HE/HO | LRTem | beta | SE | emIter |\n",
       "|---|---|---|---|---|---|---|---|---|---|---|---|\n",
       "| CM009708.1 |  164       | A          | G          | 0.455804   | 159        | -999       | 3/1/0      | NaN        | NaN        | NaN        | 0          |\n",
       "| CM009708.1 |  479       | T          | A          | 0.434662   | 159        | -999       | 3/3/0      | NaN        | NaN        | NaN        | 0          |\n",
       "| CM009708.1 |  480       | T          | G          | 0.444954   | 159        | -999       | 2/6/0      | NaN        | NaN        | NaN        | 0          |\n",
       "| CM009708.1 |  787       | C          | T          | 0.490851   | 159        | -999       | 1/3/0      | NaN        | NaN        | NaN        | 0          |\n",
       "| CM009708.1 | 1492       | T          | G          | 0.432884   | 159        | -999       | 3/3/0      | NaN        | NaN        | NaN        | 0          |\n",
       "| CM009708.1 | 2973       | C          | T          | 0.428961   | 159        | -999       | 5/3/0      | NaN        | NaN        | NaN        | 0          |\n",
       "\n"
      ],
      "text/plain": [
       "  Chromosome Position Major Minor Frequency N   LRTscore high_WT/HE/HO LRTem\n",
       "1 CM009708.1  164     A     G     0.455804  159 -999     3/1/0         NaN  \n",
       "2 CM009708.1  479     T     A     0.434662  159 -999     3/3/0         NaN  \n",
       "3 CM009708.1  480     T     G     0.444954  159 -999     2/6/0         NaN  \n",
       "4 CM009708.1  787     C     T     0.490851  159 -999     1/3/0         NaN  \n",
       "5 CM009708.1 1492     T     G     0.432884  159 -999     3/3/0         NaN  \n",
       "6 CM009708.1 2973     C     T     0.428961  159 -999     5/3/0         NaN  \n",
       "  beta SE  emIter\n",
       "1 NaN  NaN 0     \n",
       "2 NaN  NaN 0     \n",
       "3 NaN  NaN 0     \n",
       "4 NaN  NaN 0     \n",
       "5 NaN  NaN 0     \n",
       "6 NaN  NaN 0     "
      ]
     },
     "metadata": {},
     "output_type": "display_data"
    }
   ],
   "source": [
    "#hmmmm... do we have the same issues when it's with the score+EM assoc?\n",
    "cc_do_assoc5 <- fread(\"~/ClownfishGWAS/data/APPC_sequencing/DNA/trimmed_reads/mapping/genotypes/angsd/case_control_doAssoc5_out.lrt0.gz\")\n",
    "head(cc_do_assoc5)"
   ]
  },
  {
   "cell_type": "code",
   "execution_count": 20,
   "id": "8cb5604f",
   "metadata": {},
   "outputs": [
    {
     "data": {
      "text/plain": [
       "   Min. 1st Qu.  Median    Mean 3rd Qu.    Max. \n",
       "   -999    -999    -999    -999    -999    -999 "
      ]
     },
     "metadata": {},
     "output_type": "display_data"
    }
   ],
   "source": [
    "summary(cc_do_assoc5$LRTscore)"
   ]
  },
  {
   "cell_type": "code",
   "execution_count": 16,
   "id": "1baa7d4a",
   "metadata": {},
   "outputs": [
    {
     "data": {
      "text/html": [
       "<table>\n",
       "<thead><tr><th scope=col>Chromosome</th><th scope=col>Position</th><th scope=col>Major</th><th scope=col>Minor</th><th scope=col>Frequency</th><th scope=col>N</th><th scope=col>LRTscore</th><th scope=col>high_WT/HE/HO</th><th scope=col>LRTem</th><th scope=col>beta</th><th scope=col>SE</th><th scope=col>emIter</th></tr></thead>\n",
       "<tbody>\n",
       "\t<tr><td>CM009708.1</td><td> 164      </td><td>A         </td><td>G         </td><td>0.455804  </td><td>147       </td><td>-999      </td><td>3/0/0     </td><td>NaN       </td><td>NaN       </td><td>NaN       </td><td>0         </td></tr>\n",
       "\t<tr><td>CM009708.1</td><td> 479      </td><td>T         </td><td>A         </td><td>0.434662  </td><td>147       </td><td>-999      </td><td>3/2/0     </td><td>NaN       </td><td>NaN       </td><td>NaN       </td><td>0         </td></tr>\n",
       "\t<tr><td>CM009708.1</td><td> 480      </td><td>T         </td><td>G         </td><td>0.444954  </td><td>147       </td><td>-999      </td><td>2/5/0     </td><td>NaN       </td><td>NaN       </td><td>NaN       </td><td>0         </td></tr>\n",
       "\t<tr><td>CM009708.1</td><td> 787      </td><td>C         </td><td>T         </td><td>0.490851  </td><td>147       </td><td>-999      </td><td>1/3/0     </td><td>NaN       </td><td>NaN       </td><td>NaN       </td><td>0         </td></tr>\n",
       "\t<tr><td>CM009708.1</td><td>1492      </td><td>T         </td><td>G         </td><td>0.432884  </td><td>147       </td><td>-999      </td><td>3/3/0     </td><td>NaN       </td><td>NaN       </td><td>NaN       </td><td>0         </td></tr>\n",
       "\t<tr><td>CM009708.1</td><td>2973      </td><td>C         </td><td>T         </td><td>0.428961  </td><td>147       </td><td>-999      </td><td>4/2/0     </td><td>NaN       </td><td>NaN       </td><td>NaN       </td><td>0         </td></tr>\n",
       "</tbody>\n",
       "</table>\n"
      ],
      "text/latex": [
       "\\begin{tabular}{r|llllllllllll}\n",
       " Chromosome & Position & Major & Minor & Frequency & N & LRTscore & high\\_WT/HE/HO & LRTem & beta & SE & emIter\\\\\n",
       "\\hline\n",
       "\t CM009708.1 &  164       & A          & G          & 0.455804   & 147        & -999       & 3/0/0      & NaN        & NaN        & NaN        & 0         \\\\\n",
       "\t CM009708.1 &  479       & T          & A          & 0.434662   & 147        & -999       & 3/2/0      & NaN        & NaN        & NaN        & 0         \\\\\n",
       "\t CM009708.1 &  480       & T          & G          & 0.444954   & 147        & -999       & 2/5/0      & NaN        & NaN        & NaN        & 0         \\\\\n",
       "\t CM009708.1 &  787       & C          & T          & 0.490851   & 147        & -999       & 1/3/0      & NaN        & NaN        & NaN        & 0         \\\\\n",
       "\t CM009708.1 & 1492       & T          & G          & 0.432884   & 147        & -999       & 3/3/0      & NaN        & NaN        & NaN        & 0         \\\\\n",
       "\t CM009708.1 & 2973       & C          & T          & 0.428961   & 147        & -999       & 4/2/0      & NaN        & NaN        & NaN        & 0         \\\\\n",
       "\\end{tabular}\n"
      ],
      "text/markdown": [
       "\n",
       "| Chromosome | Position | Major | Minor | Frequency | N | LRTscore | high_WT/HE/HO | LRTem | beta | SE | emIter |\n",
       "|---|---|---|---|---|---|---|---|---|---|---|---|\n",
       "| CM009708.1 |  164       | A          | G          | 0.455804   | 147        | -999       | 3/0/0      | NaN        | NaN        | NaN        | 0          |\n",
       "| CM009708.1 |  479       | T          | A          | 0.434662   | 147        | -999       | 3/2/0      | NaN        | NaN        | NaN        | 0          |\n",
       "| CM009708.1 |  480       | T          | G          | 0.444954   | 147        | -999       | 2/5/0      | NaN        | NaN        | NaN        | 0          |\n",
       "| CM009708.1 |  787       | C          | T          | 0.490851   | 147        | -999       | 1/3/0      | NaN        | NaN        | NaN        | 0          |\n",
       "| CM009708.1 | 1492       | T          | G          | 0.432884   | 147        | -999       | 3/3/0      | NaN        | NaN        | NaN        | 0          |\n",
       "| CM009708.1 | 2973       | C          | T          | 0.428961   | 147        | -999       | 4/2/0      | NaN        | NaN        | NaN        | 0          |\n",
       "\n"
      ],
      "text/plain": [
       "  Chromosome Position Major Minor Frequency N   LRTscore high_WT/HE/HO LRTem\n",
       "1 CM009708.1  164     A     G     0.455804  147 -999     3/0/0         NaN  \n",
       "2 CM009708.1  479     T     A     0.434662  147 -999     3/2/0         NaN  \n",
       "3 CM009708.1  480     T     G     0.444954  147 -999     2/5/0         NaN  \n",
       "4 CM009708.1  787     C     T     0.490851  147 -999     1/3/0         NaN  \n",
       "5 CM009708.1 1492     T     G     0.432884  147 -999     3/3/0         NaN  \n",
       "6 CM009708.1 2973     C     T     0.428961  147 -999     4/2/0         NaN  \n",
       "  beta SE  emIter\n",
       "1 NaN  NaN 0     \n",
       "2 NaN  NaN 0     \n",
       "3 NaN  NaN 0     \n",
       "4 NaN  NaN 0     \n",
       "5 NaN  NaN 0     \n",
       "6 NaN  NaN 0     "
      ]
     },
     "metadata": {},
     "output_type": "display_data"
    }
   ],
   "source": [
    "#what about SL ?\n",
    "sl_assoc <- fread(\"~/ClownfishGWAS/data/APPC_sequencing/DNA/trimmed_reads/mapping/genotypes/angsd/SL_quant_assoc_out.lrt0.gz\")\n",
    "head(sl_assoc)"
   ]
  },
  {
   "cell_type": "code",
   "execution_count": 18,
   "id": "25568d3d",
   "metadata": {},
   "outputs": [
    {
     "data": {
      "text/plain": [
       "Length  Class   Mode \n",
       "     0   NULL   NULL "
      ]
     },
     "metadata": {},
     "output_type": "display_data"
    }
   ],
   "source": [
    "summary(sl_assoc$LRT)"
   ]
  },
  {
   "cell_type": "code",
   "execution_count": null,
   "id": "151169a2",
   "metadata": {},
   "outputs": [],
   "source": [
    "sl_assoc$pvalue<-dchisq(no_hwe_lrt_filt$LRT, df=1)"
   ]
  },
  {
   "cell_type": "code",
   "execution_count": null,
   "id": "30f85d53",
   "metadata": {},
   "outputs": [],
   "source": [
    "#are these SNPs also in the SL Gwas?\n",
    "#What's the highest pvalue we get with the permuted phenotypes?\n",
    "#sl_lrt <- fread(\"~/ClownfishGWAS/data/APPC_sequencing/DNA/trimmed_reads/mapping/genotypes/angsd/SL_quant_assoc_out.lrt0.gz\")\n",
    "#sl_lrt[, locus := paste(Chromosome, Position, sep=\":\")]\n",
    "#no_hwe_lrt_sl <- sl_lrt[locus %!in% case_control_hwe[p < 0.05, locus]]\n",
    "#nrow(no_hwe_lrt) == nrow(no_hwe_lrt) #should be true\n",
    "\n",
    "#filter other sites that have negative LRT\n",
    "no_hwe_lrt_filt_sl<-no_hwe_lrt_sl[LRTscore >0]\n",
    "nrow(no_hwe_lrt_filt_sl) #number of sites included\n",
    "no_hwe_lrt_filt_sl$pvalue<-dchisq(no_hwe_lrt_filt_sl$LRTscore, df=1)\n",
    "summary(no_hwe_lrt_filt_sl$pvalue)"
   ]
  },
  {
   "cell_type": "code",
   "execution_count": null,
   "id": "99222f53",
   "metadata": {},
   "outputs": [],
   "source": [
    "head(no_hwe_lrt_filt_sl[!is.na(beta)])"
   ]
  },
  {
   "cell_type": "code",
   "execution_count": null,
   "id": "48f79fcc",
   "metadata": {},
   "outputs": [],
   "source": [
    "qqnorm(no_hwe_lrt_filt_sl$pvalue)"
   ]
  },
  {
   "cell_type": "code",
   "execution_count": null,
   "id": "48f9fbad",
   "metadata": {},
   "outputs": [],
   "source": [
    "#lrt<-read.table(gzfile(\"~/ClownfishGWAS/data/APPC_sequencing/DNA/trimmed_reads/mapping/genotypes/angsd/case_control_assoc_out.lrt0.gz\"), header=T, sep=\"\\t\")\n",
    "#setDT(lrt)\n",
    "#lrt <- lrt[LRT >0]"
   ]
  },
  {
   "cell_type": "code",
   "execution_count": null,
   "id": "1a3af2d8",
   "metadata": {},
   "outputs": [],
   "source": []
  },
  {
   "cell_type": "code",
   "execution_count": null,
   "id": "5b04f413",
   "metadata": {},
   "outputs": [],
   "source": []
  },
  {
   "cell_type": "code",
   "execution_count": null,
   "id": "1bb37987",
   "metadata": {},
   "outputs": [],
   "source": [
    "ordered <- case_control_lrt_filt[order(pvalue)]"
   ]
  },
  {
   "cell_type": "code",
   "execution_count": null,
   "id": "167a357b",
   "metadata": {},
   "outputs": [],
   "source": [
    "(ordered[1:100])"
   ]
  },
  {
   "cell_type": "code",
   "execution_count": null,
   "id": "8bb4b0b5",
   "metadata": {},
   "outputs": [],
   "source": [
    "summary(case_control_lrt_filt$pvalue)"
   ]
  },
  {
   "cell_type": "code",
   "execution_count": null,
   "id": "c53e467f",
   "metadata": {},
   "outputs": [],
   "source": []
  },
  {
   "cell_type": "code",
   "execution_count": null,
   "id": "d6508451",
   "metadata": {},
   "outputs": [],
   "source": [
    "#plot maf from angsd\n",
    "maf<-fread(\"~/ClownfishGWAS/data/APPC_sequencing/DNA/trimmed_reads/mapping/genotypes/angsd/case_control_assoc_out.mafs.gz\")\n",
    "setDT(maf)"
   ]
  },
  {
   "cell_type": "code",
   "execution_count": null,
   "id": "3fdf59db",
   "metadata": {},
   "outputs": [],
   "source": [
    "head(maf)"
   ]
  },
  {
   "cell_type": "code",
   "execution_count": null,
   "id": "effc0a3a",
   "metadata": {},
   "outputs": [],
   "source": [
    "hist(maf$nInd)\n",
    "summary(maf$nInd)"
   ]
  },
  {
   "cell_type": "code",
   "execution_count": null,
   "id": "322e97f2",
   "metadata": {},
   "outputs": [],
   "source": [
    "summary(maf$knownEM)\n",
    "hist(maf$knownEM)"
   ]
  },
  {
   "cell_type": "code",
   "execution_count": null,
   "id": "c275f9a3",
   "metadata": {},
   "outputs": [],
   "source": [
    "library(ape)\n",
    "features <- fread(\"~/ClownfishGWAS/data/APPC_sequencing/DNA/trimmed_reads/mapping/genotypes/ncbi-genomes-2022-02-28//GCA_003047355.2_Nemo_v1.1_genomic.gbff.gff\", skip = 6)"
   ]
  },
  {
   "cell_type": "code",
   "execution_count": null,
   "id": "bf8e6ba5",
   "metadata": {},
   "outputs": [],
   "source": [
    "head(features)"
   ]
  },
  {
   "cell_type": "code",
   "execution_count": null,
   "id": "a913b029",
   "metadata": {},
   "outputs": [],
   "source": []
  }
 ],
 "metadata": {
  "kernelspec": {
   "display_name": "R",
   "language": "R",
   "name": "ir"
  },
  "language_info": {
   "codemirror_mode": "r",
   "file_extension": ".r",
   "mimetype": "text/x-r-source",
   "name": "R",
   "pygments_lexer": "r",
   "version": "3.6.1"
  }
 },
 "nbformat": 4,
 "nbformat_minor": 5
}
