{
 "cells": [
  {
   "cell_type": "markdown",
   "id": "13843632",
   "metadata": {},
   "source": [
    "__Following dDocent filtering, customize filtering parameters for GWAS__"
   ]
  },
  {
   "cell_type": "code",
   "execution_count": 11,
   "id": "33363db8",
   "metadata": {},
   "outputs": [
    {
     "name": "stdout",
     "output_type": "stream",
     "text": [
      "/local/home/katrinac/ClownfishGWAS/data/APPC_sequencing/DNA/trimmed_reads/mapping/genotypes/filtering\n"
     ]
    }
   ],
   "source": [
    "%cd ~/ClownfishGWAS/data/APPC_sequencing/DNA/trimmed_reads/mapping/genotypes/filtering/\n"
   ]
  },
  {
   "cell_type": "code",
   "execution_count": 21,
   "id": "15522b65",
   "metadata": {},
   "outputs": [],
   "source": [
    "!bcftools view -i '%QUAL>=20' /local/home/katrinac/ClownfishGWAS/data/APPC_sequencing/DNA/trimmed_reads/mapping/genotypes/calls.bcf > calls_qual20.bcf\n",
    "\n",
    "\n",
    "\n"
   ]
  },
  {
   "cell_type": "code",
   "execution_count": 29,
   "id": "1734e323",
   "metadata": {},
   "outputs": [
    {
     "name": "stdout",
     "output_type": "stream",
     "text": [
      "##fileformat=VCFv4.2\r\n",
      "##FILTER=<ID=PASS,Description=\"All filters passed\">\r\n",
      "##bcftoolsVersion=1.9+htslib-1.9\r\n",
      "##bcftoolsCommand=mpileup -Ou -f /local/home/katrinac/ClownfishGWAS/data/APPC_sequencing/DNA/trimmed_reads/mapping/genotypes/reference.fasta /local/home/katrinac/ClownfishGWAS/data/APPC_sequencing/DNA/trimmed_reads/mapping/genotypes/filter.merged.bam\r\n",
      "##reference=file:///local/home/katrinac/ClownfishGWAS/data/APPC_sequencing/DNA/trimmed_reads/mapping/genotypes/reference.fasta\r\n",
      "##contig=<ID=CM009708.1,length=46122984>\r\n",
      "##contig=<ID=CM009709.1,length=43441817>\r\n",
      "##contig=<ID=CM009710.1,length=43424015>\r\n",
      "##contig=<ID=CM009711.1,length=42189036>\r\n",
      "##contig=<ID=CM009712.1,length=40628858>\r\n"
     ]
    }
   ],
   "source": [
    "!head calls_qual20.bcf"
   ]
  },
  {
   "cell_type": "code",
   "execution_count": 56,
   "id": "674055e0",
   "metadata": {},
   "outputs": [],
   "source": [
    "!bcftools query -f '%CHROM\\t%POS\\t%MQ\\t%QUAL\\t%DP\\n' /local/home/katrinac/ClownfishGWAS/data/APPC_sequencing/DNA/trimmed_reads/mapping/genotypes/calls.bcf> calls_bcf.MQ.QUAL.DP.tsv"
   ]
  },
  {
   "cell_type": "code",
   "execution_count": 57,
   "id": "f36eb20c",
   "metadata": {},
   "outputs": [
    {
     "name": "stdout",
     "output_type": "stream",
     "text": [
      "CM009708.1\t271\t15\t11.4868\t71\r\n",
      "CM009708.1\t529\t16\t99\t164\r\n",
      "CM009708.1\t1492\t19\t121\t242\r\n",
      "CM009708.1\t1493\t18\t19.6143\t245\r\n",
      "CM009708.1\t1623\t8\t23.899\t242\r\n",
      "CM009708.1\t1742\t9\t29.0074\t239\r\n",
      "CM009708.1\t1830\t9\t284\t237\r\n",
      "CM009708.1\t2202\t4\t220\t244\r\n",
      "CM009708.1\t2222\t3\t25.7547\t245\r\n",
      "CM009708.1\t2382\t7\t22.6054\t245\r\n"
     ]
    }
   ],
   "source": [
    "!head calls_bcf.MQ.QUAL.DP.tsv"
   ]
  },
  {
   "cell_type": "code",
   "execution_count": 25,
   "id": "57f0fd63",
   "metadata": {},
   "outputs": [],
   "source": [
    "#get the depth and quality distributions to plot\n",
    "!bcftools query -f '%CHROM\\t%POS\\t%INFO/DP\\t%QUAL\\n' /local/home/katrinac/ClownfishGWAS/data/APPC_sequencing/DNA/trimmed_reads/mapping/genotypes/calls.bcf > query_depth_qual.tsv"
   ]
  },
  {
   "cell_type": "code",
   "execution_count": 26,
   "id": "bc15ea90",
   "metadata": {},
   "outputs": [
    {
     "name": "stdout",
     "output_type": "stream",
     "text": [
      "CM009708.1\t271\t71\t11.4868\r\n",
      "CM009708.1\t529\t164\t99\r\n",
      "CM009708.1\t1492\t242\t121\r\n",
      "CM009708.1\t1493\t245\t19.6143\r\n",
      "CM009708.1\t1623\t242\t23.899\r\n",
      "CM009708.1\t1742\t239\t29.0074\r\n",
      "CM009708.1\t1830\t237\t284\r\n",
      "CM009708.1\t2202\t244\t220\r\n",
      "CM009708.1\t2222\t245\t25.7547\r\n",
      "CM009708.1\t2382\t245\t22.6054\r\n"
     ]
    }
   ],
   "source": [
    "!head query_depth_qual.tsv"
   ]
  },
  {
   "cell_type": "code",
   "execution_count": 27,
   "id": "7bb18eee",
   "metadata": {},
   "outputs": [
    {
     "ename": "ModuleNotFoundError",
     "evalue": "No module named 'matplotlib'",
     "output_type": "error",
     "traceback": [
      "\u001b[0;31m---------------------------------------------------------------------------\u001b[0m",
      "\u001b[0;31mModuleNotFoundError\u001b[0m                       Traceback (most recent call last)",
      "\u001b[0;32m<ipython-input-27-49d7df184c05>\u001b[0m in \u001b[0;36m<module>\u001b[0;34m\u001b[0m\n\u001b[0;32m----> 1\u001b[0;31m \u001b[0;32mimport\u001b[0m \u001b[0mmatplotlib\u001b[0m\u001b[0;34m.\u001b[0m\u001b[0mpyplot\u001b[0m \u001b[0;32mas\u001b[0m \u001b[0mplt\u001b[0m\u001b[0;34m\u001b[0m\u001b[0;34m\u001b[0m\u001b[0m\n\u001b[0m\u001b[1;32m      2\u001b[0m \u001b[0;32mimport\u001b[0m \u001b[0mnumpy\u001b[0m \u001b[0;32mas\u001b[0m \u001b[0mnp\u001b[0m\u001b[0;34m\u001b[0m\u001b[0;34m\u001b[0m\u001b[0m\n",
      "\u001b[0;31mModuleNotFoundError\u001b[0m: No module named 'matplotlib'"
     ]
    }
   ],
   "source": [
    "import matplotlib.pyplot as plt\n",
    "import numpy as np\n"
   ]
  },
  {
   "cell_type": "markdown",
   "id": "90658527",
   "metadata": {},
   "source": [
    "__For GWAS, need to account for following in filtering- The seven QC steps consist of filtering out of SNPs and individuals based on the following: (1) individual and SNP missingness, (3) minor allele frequency (MAF), (4) deviations from Hardy–Weinberg equilibrium (HWE), (5) heterozygosity rate, (6) relatedness, and (7) population stratification). https://www.ncbi.nlm.nih.gov/pmc/articles/PMC6001694/__"
   ]
  },
  {
   "cell_type": "markdown",
   "id": "3266f745",
   "metadata": {},
   "source": [
    "__SNP filtering before individual filtering__"
   ]
  },
  {
   "cell_type": "code",
   "execution_count": 13,
   "id": "64a4429d",
   "metadata": {},
   "outputs": [
    {
     "name": "stdout",
     "output_type": "stream",
     "text": [
      "Nothing to merge\r\n",
      " at /local/home/katrinac/miniconda3/envs/commandline/bin/plot-vcfstats line 99.\r\n",
      "\tmain::error(\"Nothing to merge\\x{a}\") called at /local/home/katrinac/miniconda3/envs/commandline/bin/plot-vcfstats line 269\r\n",
      "\tmain::parse_params() called at /local/home/katrinac/miniconda3/envs/commandline/bin/plot-vcfstats line 46\r\n"
     ]
    }
   ],
   "source": [
    "!bcftools stats -s\n",
    "!plot-vcfstats -m /local/home/katrinac/ClownfishGWAS/data/APPC_sequencing/DNA/trimmed_reads/mapping/genotypes/Final.recode.vcf > FinalRecode.vchk"
   ]
  },
  {
   "cell_type": "code",
   "execution_count": 18,
   "id": "a12d97ff",
   "metadata": {},
   "outputs": [],
   "source": [
    "!bgzip /local/home/katrinac/ClownfishGWAS/data/APPC_sequencing/DNA/filtering/max_missing05_minQ20.recode.vcf\n"
   ]
  },
  {
   "cell_type": "code",
   "execution_count": 19,
   "id": "94988f55",
   "metadata": {},
   "outputs": [],
   "source": [
    "!bcftools index /local/home/katrinac/ClownfishGWAS/data/APPC_sequencing/DNA/filtering/max_missing05_minQ20.recode.vcf.gz"
   ]
  },
  {
   "cell_type": "code",
   "execution_count": 22,
   "id": "331a1e3d",
   "metadata": {},
   "outputs": [
    {
     "name": "stdout",
     "output_type": "stream",
     "text": [
      "/local/home/katrinac/ClownfishGWAS/data/APPC_sequencing/DNA/filtering\n",
      "/bin/bash: /local/home/katrinac/ClownfishGWAS/data/APPC_sequencing/DNA/filtering/max_missing05_minQ20.recode.vcf.gz: Permission denied\n",
      "/bin/bash: /local/home/katrinac/ClownfishGWAS/data/APPC_sequencing/DNA/filtering/max_missing05_minQ20: No such file or directory\n"
     ]
    }
   ],
   "source": [
    "%cd ~/ClownfishGWAS/data/APPC_sequencing/DNA/filtering/\n"
   ]
  },
  {
   "cell_type": "code",
   "execution_count": 25,
   "id": "603c221b",
   "metadata": {},
   "outputs": [
    {
     "name": "stdout",
     "output_type": "stream",
     "text": [
      "\n",
      "VCFtools - 0.1.16\n",
      "(C) Adam Auton and Anthony Marcketta 2009\n",
      "\n",
      "Parameters as interpreted:\n",
      "\t--gzvcf /local/home/katrinac/ClownfishGWAS/data/APPC_sequencing/DNA/filtering/max_missing05_minQ20.recode.vcf.gz\n",
      "\t--max-alleles 2\n",
      "\t--freq2\n",
      "\t--out /local/home/katrinac/ClownfishGWAS/data/APPC_sequencing/DNA/filtering/max_missing05_minQ20\n",
      "\n",
      "Using zlib version: 1.2.11\n",
      "Warning: Expected at least 2 parts in INFO entry: ID=AF,Number=A,Type=Float,Description=\"Estimated allele frequency in the range (0,1]\">\n",
      "Warning: Expected at least 2 parts in INFO entry: ID=PRO,Number=1,Type=Float,Description=\"Reference allele observation count, with partial observations recorded fractionally\">\n",
      "Warning: Expected at least 2 parts in INFO entry: ID=PAO,Number=A,Type=Float,Description=\"Alternate allele observations, with partial observations recorded fractionally\">\n",
      "Warning: Expected at least 2 parts in INFO entry: ID=SRP,Number=1,Type=Float,Description=\"Strand balance probability for the reference allele: Phred-scaled upper-bounds estimate of the probability of observing the deviation between SRF and SRR given E(SRF/SRR) ~ 0.5, derived using Hoeffding's inequality\">\n",
      "Warning: Expected at least 2 parts in INFO entry: ID=SAP,Number=A,Type=Float,Description=\"Strand balance probability for the alternate allele: Phred-scaled upper-bounds estimate of the probability of observing the deviation between SAF and SAR given E(SAF/SAR) ~ 0.5, derived using Hoeffding's inequality\">\n",
      "Warning: Expected at least 2 parts in INFO entry: ID=AB,Number=A,Type=Float,Description=\"Allele balance at heterozygous sites: a number between 0 and 1 representing the ratio of reads showing the reference allele to all reads, considering only reads from individuals called as heterozygous\">\n",
      "Warning: Expected at least 2 parts in INFO entry: ID=ABP,Number=A,Type=Float,Description=\"Allele balance probability at heterozygous sites: Phred-scaled upper-bounds estimate of the probability of observing the deviation between ABR and ABA given E(ABR/ABA) ~ 0.5, derived using Hoeffding's inequality\">\n",
      "Warning: Expected at least 2 parts in INFO entry: ID=RPP,Number=A,Type=Float,Description=\"Read Placement Probability: Phred-scaled upper-bounds estimate of the probability of observing the deviation between RPL and RPR given E(RPL/RPR) ~ 0.5, derived using Hoeffding's inequality\">\n",
      "Warning: Expected at least 2 parts in INFO entry: ID=RPPR,Number=1,Type=Float,Description=\"Read Placement Probability for reference observations: Phred-scaled upper-bounds estimate of the probability of observing the deviation between RPL and RPR given E(RPL/RPR) ~ 0.5, derived using Hoeffding's inequality\">\n",
      "Warning: Expected at least 2 parts in INFO entry: ID=EPP,Number=A,Type=Float,Description=\"End Placement Probability: Phred-scaled upper-bounds estimate of the probability of observing the deviation between EL and ER given E(EL/ER) ~ 0.5, derived using Hoeffding's inequality\">\n",
      "Warning: Expected at least 2 parts in INFO entry: ID=EPPR,Number=1,Type=Float,Description=\"End Placement Probability for reference observations: Phred-scaled upper-bounds estimate of the probability of observing the deviation between EL and ER given E(EL/ER) ~ 0.5, derived using Hoeffding's inequality\">\n",
      "Warning: Expected at least 2 parts in INFO entry: ID=TYPE,Number=A,Type=String,Description=\"The type of allele, either snp, mnp, ins, del, or complex.\">\n",
      "Warning: Expected at least 2 parts in INFO entry: ID=TYPE,Number=A,Type=String,Description=\"The type of allele, either snp, mnp, ins, del, or complex.\">\n",
      "Warning: Expected at least 2 parts in INFO entry: ID=TYPE,Number=A,Type=String,Description=\"The type of allele, either snp, mnp, ins, del, or complex.\">\n",
      "Warning: Expected at least 2 parts in INFO entry: ID=TYPE,Number=A,Type=String,Description=\"The type of allele, either snp, mnp, ins, del, or complex.\">\n",
      "Warning: Expected at least 2 parts in INFO entry: ID=TYPE,Number=A,Type=String,Description=\"The type of allele, either snp, mnp, ins, del, or complex.\">\n",
      "Warning: Expected at least 2 parts in INFO entry: ID=CIGAR,Number=A,Type=String,Description=\"The extended CIGAR representation of each alternate allele, with the exception that '=' is replaced by 'M' to ease VCF parsing.  Note that INDEL alleles do not have the first matched base (which is provided by default, per the spec) referred to by the CIGAR.\">\n",
      "Warning: Expected at least 2 parts in FORMAT entry: ID=GQ,Number=1,Type=Float,Description=\"Genotype Quality, the Phred-scaled marginal (or unconditional) probability of the called genotype\">\n",
      "Warning: Expected at least 2 parts in FORMAT entry: ID=GL,Number=G,Type=Float,Description=\"Genotype Likelihood, log10-scaled likelihoods of the data given the called genotype for each possible genotype generated from the reference and alternate alleles given the sample ploidy\">\n",
      "After filtering, kept 159 out of 159 Individuals\n",
      "Outputting Frequency Statistics...\n",
      "After filtering, kept 314592 out of a possible 329152 Sites\n",
      "Run Time = 13.00 seconds\n",
      "\n",
      "VCFtools - 0.1.16\n",
      "(C) Adam Auton and Anthony Marcketta 2009\n",
      "\n",
      "Parameters as interpreted:\n",
      "\t--gzvcf /local/home/katrinac/ClownfishGWAS/data/APPC_sequencing/DNA/filtering/max_missing05_minQ20.recode.vcf.gz\n",
      "\t--depth\n",
      "\t--out /local/home/katrinac/ClownfishGWAS/data/APPC_sequencing/DNA/filtering/max_missing05_minQ20\n",
      "\n",
      "Using zlib version: 1.2.11\n",
      "Warning: Expected at least 2 parts in INFO entry: ID=AF,Number=A,Type=Float,Description=\"Estimated allele frequency in the range (0,1]\">\n",
      "Warning: Expected at least 2 parts in INFO entry: ID=PRO,Number=1,Type=Float,Description=\"Reference allele observation count, with partial observations recorded fractionally\">\n",
      "Warning: Expected at least 2 parts in INFO entry: ID=PAO,Number=A,Type=Float,Description=\"Alternate allele observations, with partial observations recorded fractionally\">\n",
      "Warning: Expected at least 2 parts in INFO entry: ID=SRP,Number=1,Type=Float,Description=\"Strand balance probability for the reference allele: Phred-scaled upper-bounds estimate of the probability of observing the deviation between SRF and SRR given E(SRF/SRR) ~ 0.5, derived using Hoeffding's inequality\">\n",
      "Warning: Expected at least 2 parts in INFO entry: ID=SAP,Number=A,Type=Float,Description=\"Strand balance probability for the alternate allele: Phred-scaled upper-bounds estimate of the probability of observing the deviation between SAF and SAR given E(SAF/SAR) ~ 0.5, derived using Hoeffding's inequality\">\n",
      "Warning: Expected at least 2 parts in INFO entry: ID=AB,Number=A,Type=Float,Description=\"Allele balance at heterozygous sites: a number between 0 and 1 representing the ratio of reads showing the reference allele to all reads, considering only reads from individuals called as heterozygous\">\n",
      "Warning: Expected at least 2 parts in INFO entry: ID=ABP,Number=A,Type=Float,Description=\"Allele balance probability at heterozygous sites: Phred-scaled upper-bounds estimate of the probability of observing the deviation between ABR and ABA given E(ABR/ABA) ~ 0.5, derived using Hoeffding's inequality\">\n",
      "Warning: Expected at least 2 parts in INFO entry: ID=RPP,Number=A,Type=Float,Description=\"Read Placement Probability: Phred-scaled upper-bounds estimate of the probability of observing the deviation between RPL and RPR given E(RPL/RPR) ~ 0.5, derived using Hoeffding's inequality\">\n",
      "Warning: Expected at least 2 parts in INFO entry: ID=RPPR,Number=1,Type=Float,Description=\"Read Placement Probability for reference observations: Phred-scaled upper-bounds estimate of the probability of observing the deviation between RPL and RPR given E(RPL/RPR) ~ 0.5, derived using Hoeffding's inequality\">\n",
      "Warning: Expected at least 2 parts in INFO entry: ID=EPP,Number=A,Type=Float,Description=\"End Placement Probability: Phred-scaled upper-bounds estimate of the probability of observing the deviation between EL and ER given E(EL/ER) ~ 0.5, derived using Hoeffding's inequality\">\n",
      "Warning: Expected at least 2 parts in INFO entry: ID=EPPR,Number=1,Type=Float,Description=\"End Placement Probability for reference observations: Phred-scaled upper-bounds estimate of the probability of observing the deviation between EL and ER given E(EL/ER) ~ 0.5, derived using Hoeffding's inequality\">\n",
      "Warning: Expected at least 2 parts in INFO entry: ID=TYPE,Number=A,Type=String,Description=\"The type of allele, either snp, mnp, ins, del, or complex.\">\n",
      "Warning: Expected at least 2 parts in INFO entry: ID=TYPE,Number=A,Type=String,Description=\"The type of allele, either snp, mnp, ins, del, or complex.\">\n",
      "Warning: Expected at least 2 parts in INFO entry: ID=TYPE,Number=A,Type=String,Description=\"The type of allele, either snp, mnp, ins, del, or complex.\">\n",
      "Warning: Expected at least 2 parts in INFO entry: ID=TYPE,Number=A,Type=String,Description=\"The type of allele, either snp, mnp, ins, del, or complex.\">\n",
      "Warning: Expected at least 2 parts in INFO entry: ID=TYPE,Number=A,Type=String,Description=\"The type of allele, either snp, mnp, ins, del, or complex.\">\n",
      "Warning: Expected at least 2 parts in INFO entry: ID=CIGAR,Number=A,Type=String,Description=\"The extended CIGAR representation of each alternate allele, with the exception that '=' is replaced by 'M' to ease VCF parsing.  Note that INDEL alleles do not have the first matched base (which is provided by default, per the spec) referred to by the CIGAR.\">\n",
      "Warning: Expected at least 2 parts in FORMAT entry: ID=GQ,Number=1,Type=Float,Description=\"Genotype Quality, the Phred-scaled marginal (or unconditional) probability of the called genotype\">\n",
      "Warning: Expected at least 2 parts in FORMAT entry: ID=GL,Number=G,Type=Float,Description=\"Genotype Likelihood, log10-scaled likelihoods of the data given the called genotype for each possible genotype generated from the reference and alternate alleles given the sample ploidy\">\n",
      "After filtering, kept 159 out of 159 Individuals\n",
      "Outputting Mean Depth by Individual\n"
     ]
    },
    {
     "name": "stdout",
     "output_type": "stream",
     "text": [
      "After filtering, kept 329152 out of a possible 329152 Sites\n",
      "Run Time = 11.00 seconds\n",
      "\n",
      "VCFtools - 0.1.16\n",
      "(C) Adam Auton and Anthony Marcketta 2009\n",
      "\n",
      "Parameters as interpreted:\n",
      "\t--gzvcf /local/home/katrinac/ClownfishGWAS/data/APPC_sequencing/DNA/filtering/max_missing05_minQ20.recode.vcf.gz\n",
      "\t--out /local/home/katrinac/ClownfishGWAS/data/APPC_sequencing/DNA/filtering/max_missing05_minQ20\n",
      "\t--site-mean-depth\n",
      "\n",
      "Using zlib version: 1.2.11\n",
      "Warning: Expected at least 2 parts in INFO entry: ID=AF,Number=A,Type=Float,Description=\"Estimated allele frequency in the range (0,1]\">\n",
      "Warning: Expected at least 2 parts in INFO entry: ID=PRO,Number=1,Type=Float,Description=\"Reference allele observation count, with partial observations recorded fractionally\">\n",
      "Warning: Expected at least 2 parts in INFO entry: ID=PAO,Number=A,Type=Float,Description=\"Alternate allele observations, with partial observations recorded fractionally\">\n",
      "Warning: Expected at least 2 parts in INFO entry: ID=SRP,Number=1,Type=Float,Description=\"Strand balance probability for the reference allele: Phred-scaled upper-bounds estimate of the probability of observing the deviation between SRF and SRR given E(SRF/SRR) ~ 0.5, derived using Hoeffding's inequality\">\n",
      "Warning: Expected at least 2 parts in INFO entry: ID=SAP,Number=A,Type=Float,Description=\"Strand balance probability for the alternate allele: Phred-scaled upper-bounds estimate of the probability of observing the deviation between SAF and SAR given E(SAF/SAR) ~ 0.5, derived using Hoeffding's inequality\">\n",
      "Warning: Expected at least 2 parts in INFO entry: ID=AB,Number=A,Type=Float,Description=\"Allele balance at heterozygous sites: a number between 0 and 1 representing the ratio of reads showing the reference allele to all reads, considering only reads from individuals called as heterozygous\">\n",
      "Warning: Expected at least 2 parts in INFO entry: ID=ABP,Number=A,Type=Float,Description=\"Allele balance probability at heterozygous sites: Phred-scaled upper-bounds estimate of the probability of observing the deviation between ABR and ABA given E(ABR/ABA) ~ 0.5, derived using Hoeffding's inequality\">\n",
      "Warning: Expected at least 2 parts in INFO entry: ID=RPP,Number=A,Type=Float,Description=\"Read Placement Probability: Phred-scaled upper-bounds estimate of the probability of observing the deviation between RPL and RPR given E(RPL/RPR) ~ 0.5, derived using Hoeffding's inequality\">\n",
      "Warning: Expected at least 2 parts in INFO entry: ID=RPPR,Number=1,Type=Float,Description=\"Read Placement Probability for reference observations: Phred-scaled upper-bounds estimate of the probability of observing the deviation between RPL and RPR given E(RPL/RPR) ~ 0.5, derived using Hoeffding's inequality\">\n",
      "Warning: Expected at least 2 parts in INFO entry: ID=EPP,Number=A,Type=Float,Description=\"End Placement Probability: Phred-scaled upper-bounds estimate of the probability of observing the deviation between EL and ER given E(EL/ER) ~ 0.5, derived using Hoeffding's inequality\">\n",
      "Warning: Expected at least 2 parts in INFO entry: ID=EPPR,Number=1,Type=Float,Description=\"End Placement Probability for reference observations: Phred-scaled upper-bounds estimate of the probability of observing the deviation between EL and ER given E(EL/ER) ~ 0.5, derived using Hoeffding's inequality\">\n",
      "Warning: Expected at least 2 parts in INFO entry: ID=TYPE,Number=A,Type=String,Description=\"The type of allele, either snp, mnp, ins, del, or complex.\">\n",
      "Warning: Expected at least 2 parts in INFO entry: ID=TYPE,Number=A,Type=String,Description=\"The type of allele, either snp, mnp, ins, del, or complex.\">\n",
      "Warning: Expected at least 2 parts in INFO entry: ID=TYPE,Number=A,Type=String,Description=\"The type of allele, either snp, mnp, ins, del, or complex.\">\n",
      "Warning: Expected at least 2 parts in INFO entry: ID=TYPE,Number=A,Type=String,Description=\"The type of allele, either snp, mnp, ins, del, or complex.\">\n",
      "Warning: Expected at least 2 parts in INFO entry: ID=TYPE,Number=A,Type=String,Description=\"The type of allele, either snp, mnp, ins, del, or complex.\">\n",
      "Warning: Expected at least 2 parts in INFO entry: ID=CIGAR,Number=A,Type=String,Description=\"The extended CIGAR representation of each alternate allele, with the exception that '=' is replaced by 'M' to ease VCF parsing.  Note that INDEL alleles do not have the first matched base (which is provided by default, per the spec) referred to by the CIGAR.\">\n",
      "Warning: Expected at least 2 parts in FORMAT entry: ID=GQ,Number=1,Type=Float,Description=\"Genotype Quality, the Phred-scaled marginal (or unconditional) probability of the called genotype\">\n",
      "Warning: Expected at least 2 parts in FORMAT entry: ID=GL,Number=G,Type=Float,Description=\"Genotype Likelihood, log10-scaled likelihoods of the data given the called genotype for each possible genotype generated from the reference and alternate alleles given the sample ploidy\">\n",
      "After filtering, kept 159 out of 159 Individuals\n",
      "Outputting Depth for Each Site\n",
      "After filtering, kept 329152 out of a possible 329152 Sites\n",
      "Run Time = 14.00 seconds\n",
      "\n",
      "VCFtools - 0.1.16\n",
      "(C) Adam Auton and Anthony Marcketta 2009\n",
      "\n",
      "Parameters as interpreted:\n",
      "\t--gzvcf /local/home/katrinac/ClownfishGWAS/data/APPC_sequencing/DNA/filtering/max_missing05_minQ20.recode.vcf.gz\n",
      "\t--out /local/home/katrinac/ClownfishGWAS/data/APPC_sequencing/DNA/filtering/max_missing05_minQ20\n",
      "\t--site-quality\n",
      "\n",
      "Using zlib version: 1.2.11\n",
      "Warning: Expected at least 2 parts in INFO entry: ID=AF,Number=A,Type=Float,Description=\"Estimated allele frequency in the range (0,1]\">\n",
      "Warning: Expected at least 2 parts in INFO entry: ID=PRO,Number=1,Type=Float,Description=\"Reference allele observation count, with partial observations recorded fractionally\">\n",
      "Warning: Expected at least 2 parts in INFO entry: ID=PAO,Number=A,Type=Float,Description=\"Alternate allele observations, with partial observations recorded fractionally\">\n",
      "Warning: Expected at least 2 parts in INFO entry: ID=SRP,Number=1,Type=Float,Description=\"Strand balance probability for the reference allele: Phred-scaled upper-bounds estimate of the probability of observing the deviation between SRF and SRR given E(SRF/SRR) ~ 0.5, derived using Hoeffding's inequality\">\n",
      "Warning: Expected at least 2 parts in INFO entry: ID=SAP,Number=A,Type=Float,Description=\"Strand balance probability for the alternate allele: Phred-scaled upper-bounds estimate of the probability of observing the deviation between SAF and SAR given E(SAF/SAR) ~ 0.5, derived using Hoeffding's inequality\">\n",
      "Warning: Expected at least 2 parts in INFO entry: ID=AB,Number=A,Type=Float,Description=\"Allele balance at heterozygous sites: a number between 0 and 1 representing the ratio of reads showing the reference allele to all reads, considering only reads from individuals called as heterozygous\">\n",
      "Warning: Expected at least 2 parts in INFO entry: ID=ABP,Number=A,Type=Float,Description=\"Allele balance probability at heterozygous sites: Phred-scaled upper-bounds estimate of the probability of observing the deviation between ABR and ABA given E(ABR/ABA) ~ 0.5, derived using Hoeffding's inequality\">\n",
      "Warning: Expected at least 2 parts in INFO entry: ID=RPP,Number=A,Type=Float,Description=\"Read Placement Probability: Phred-scaled upper-bounds estimate of the probability of observing the deviation between RPL and RPR given E(RPL/RPR) ~ 0.5, derived using Hoeffding's inequality\">\n",
      "Warning: Expected at least 2 parts in INFO entry: ID=RPPR,Number=1,Type=Float,Description=\"Read Placement Probability for reference observations: Phred-scaled upper-bounds estimate of the probability of observing the deviation between RPL and RPR given E(RPL/RPR) ~ 0.5, derived using Hoeffding's inequality\">\n",
      "Warning: Expected at least 2 parts in INFO entry: ID=EPP,Number=A,Type=Float,Description=\"End Placement Probability: Phred-scaled upper-bounds estimate of the probability of observing the deviation between EL and ER given E(EL/ER) ~ 0.5, derived using Hoeffding's inequality\">\n",
      "Warning: Expected at least 2 parts in INFO entry: ID=EPPR,Number=1,Type=Float,Description=\"End Placement Probability for reference observations: Phred-scaled upper-bounds estimate of the probability of observing the deviation between EL and ER given E(EL/ER) ~ 0.5, derived using Hoeffding's inequality\">\n",
      "Warning: Expected at least 2 parts in INFO entry: ID=TYPE,Number=A,Type=String,Description=\"The type of allele, either snp, mnp, ins, del, or complex.\">\n",
      "Warning: Expected at least 2 parts in INFO entry: ID=TYPE,Number=A,Type=String,Description=\"The type of allele, either snp, mnp, ins, del, or complex.\">\n",
      "Warning: Expected at least 2 parts in INFO entry: ID=TYPE,Number=A,Type=String,Description=\"The type of allele, either snp, mnp, ins, del, or complex.\">\n",
      "Warning: Expected at least 2 parts in INFO entry: ID=TYPE,Number=A,Type=String,Description=\"The type of allele, either snp, mnp, ins, del, or complex.\">\n",
      "Warning: Expected at least 2 parts in INFO entry: ID=TYPE,Number=A,Type=String,Description=\"The type of allele, either snp, mnp, ins, del, or complex.\">\n",
      "Warning: Expected at least 2 parts in INFO entry: ID=CIGAR,Number=A,Type=String,Description=\"The extended CIGAR representation of each alternate allele, with the exception that '=' is replaced by 'M' to ease VCF parsing.  Note that INDEL alleles do not have the first matched base (which is provided by default, per the spec) referred to by the CIGAR.\">\n",
      "Warning: Expected at least 2 parts in FORMAT entry: ID=GQ,Number=1,Type=Float,Description=\"Genotype Quality, the Phred-scaled marginal (or unconditional) probability of the called genotype\">\n",
      "Warning: Expected at least 2 parts in FORMAT entry: ID=GL,Number=G,Type=Float,Description=\"Genotype Likelihood, log10-scaled likelihoods of the data given the called genotype for each possible genotype generated from the reference and alternate alleles given the sample ploidy\">\n",
      "After filtering, kept 159 out of 159 Individuals\n",
      "Outputting Quality for Each Site\n"
     ]
    },
    {
     "name": "stdout",
     "output_type": "stream",
     "text": [
      "After filtering, kept 329152 out of a possible 329152 Sites\n",
      "Run Time = 6.00 seconds\n",
      "\n",
      "VCFtools - 0.1.16\n",
      "(C) Adam Auton and Anthony Marcketta 2009\n",
      "\n",
      "Parameters as interpreted:\n",
      "\t--gzvcf /local/home/katrinac/ClownfishGWAS/data/APPC_sequencing/DNA/filtering/max_missing05_minQ20.recode.vcf.gz\n",
      "\t--missing-indv\n",
      "\t--out /local/home/katrinac/ClownfishGWAS/data/APPC_sequencing/DNA/filtering/max_missing05_minQ20\n",
      "\n",
      "Using zlib version: 1.2.11\n",
      "Warning: Expected at least 2 parts in INFO entry: ID=AF,Number=A,Type=Float,Description=\"Estimated allele frequency in the range (0,1]\">\n",
      "Warning: Expected at least 2 parts in INFO entry: ID=PRO,Number=1,Type=Float,Description=\"Reference allele observation count, with partial observations recorded fractionally\">\n",
      "Warning: Expected at least 2 parts in INFO entry: ID=PAO,Number=A,Type=Float,Description=\"Alternate allele observations, with partial observations recorded fractionally\">\n",
      "Warning: Expected at least 2 parts in INFO entry: ID=SRP,Number=1,Type=Float,Description=\"Strand balance probability for the reference allele: Phred-scaled upper-bounds estimate of the probability of observing the deviation between SRF and SRR given E(SRF/SRR) ~ 0.5, derived using Hoeffding's inequality\">\n",
      "Warning: Expected at least 2 parts in INFO entry: ID=SAP,Number=A,Type=Float,Description=\"Strand balance probability for the alternate allele: Phred-scaled upper-bounds estimate of the probability of observing the deviation between SAF and SAR given E(SAF/SAR) ~ 0.5, derived using Hoeffding's inequality\">\n",
      "Warning: Expected at least 2 parts in INFO entry: ID=AB,Number=A,Type=Float,Description=\"Allele balance at heterozygous sites: a number between 0 and 1 representing the ratio of reads showing the reference allele to all reads, considering only reads from individuals called as heterozygous\">\n",
      "Warning: Expected at least 2 parts in INFO entry: ID=ABP,Number=A,Type=Float,Description=\"Allele balance probability at heterozygous sites: Phred-scaled upper-bounds estimate of the probability of observing the deviation between ABR and ABA given E(ABR/ABA) ~ 0.5, derived using Hoeffding's inequality\">\n",
      "Warning: Expected at least 2 parts in INFO entry: ID=RPP,Number=A,Type=Float,Description=\"Read Placement Probability: Phred-scaled upper-bounds estimate of the probability of observing the deviation between RPL and RPR given E(RPL/RPR) ~ 0.5, derived using Hoeffding's inequality\">\n",
      "Warning: Expected at least 2 parts in INFO entry: ID=RPPR,Number=1,Type=Float,Description=\"Read Placement Probability for reference observations: Phred-scaled upper-bounds estimate of the probability of observing the deviation between RPL and RPR given E(RPL/RPR) ~ 0.5, derived using Hoeffding's inequality\">\n",
      "Warning: Expected at least 2 parts in INFO entry: ID=EPP,Number=A,Type=Float,Description=\"End Placement Probability: Phred-scaled upper-bounds estimate of the probability of observing the deviation between EL and ER given E(EL/ER) ~ 0.5, derived using Hoeffding's inequality\">\n",
      "Warning: Expected at least 2 parts in INFO entry: ID=EPPR,Number=1,Type=Float,Description=\"End Placement Probability for reference observations: Phred-scaled upper-bounds estimate of the probability of observing the deviation between EL and ER given E(EL/ER) ~ 0.5, derived using Hoeffding's inequality\">\n",
      "Warning: Expected at least 2 parts in INFO entry: ID=TYPE,Number=A,Type=String,Description=\"The type of allele, either snp, mnp, ins, del, or complex.\">\n",
      "Warning: Expected at least 2 parts in INFO entry: ID=TYPE,Number=A,Type=String,Description=\"The type of allele, either snp, mnp, ins, del, or complex.\">\n",
      "Warning: Expected at least 2 parts in INFO entry: ID=TYPE,Number=A,Type=String,Description=\"The type of allele, either snp, mnp, ins, del, or complex.\">\n",
      "Warning: Expected at least 2 parts in INFO entry: ID=TYPE,Number=A,Type=String,Description=\"The type of allele, either snp, mnp, ins, del, or complex.\">\n",
      "Warning: Expected at least 2 parts in INFO entry: ID=TYPE,Number=A,Type=String,Description=\"The type of allele, either snp, mnp, ins, del, or complex.\">\n",
      "Warning: Expected at least 2 parts in INFO entry: ID=CIGAR,Number=A,Type=String,Description=\"The extended CIGAR representation of each alternate allele, with the exception that '=' is replaced by 'M' to ease VCF parsing.  Note that INDEL alleles do not have the first matched base (which is provided by default, per the spec) referred to by the CIGAR.\">\n",
      "Warning: Expected at least 2 parts in FORMAT entry: ID=GQ,Number=1,Type=Float,Description=\"Genotype Quality, the Phred-scaled marginal (or unconditional) probability of the called genotype\">\n",
      "Warning: Expected at least 2 parts in FORMAT entry: ID=GL,Number=G,Type=Float,Description=\"Genotype Likelihood, log10-scaled likelihoods of the data given the called genotype for each possible genotype generated from the reference and alternate alleles given the sample ploidy\">\n",
      "After filtering, kept 159 out of 159 Individuals\n",
      "Outputting Individual Missingness\n",
      "After filtering, kept 329152 out of a possible 329152 Sites\n",
      "Run Time = 11.00 seconds\n",
      "\n",
      "VCFtools - 0.1.16\n",
      "(C) Adam Auton and Anthony Marcketta 2009\n",
      "\n",
      "Parameters as interpreted:\n",
      "\t--gzvcf /local/home/katrinac/ClownfishGWAS/data/APPC_sequencing/DNA/filtering/max_missing05_minQ20.recode.vcf.gz\n",
      "\t--out /local/home/katrinac/ClownfishGWAS/data/APPC_sequencing/DNA/filtering/max_missing05_minQ20\n",
      "\t--missing-site\n",
      "\n",
      "Using zlib version: 1.2.11\n",
      "Warning: Expected at least 2 parts in INFO entry: ID=AF,Number=A,Type=Float,Description=\"Estimated allele frequency in the range (0,1]\">\n",
      "Warning: Expected at least 2 parts in INFO entry: ID=PRO,Number=1,Type=Float,Description=\"Reference allele observation count, with partial observations recorded fractionally\">\n",
      "Warning: Expected at least 2 parts in INFO entry: ID=PAO,Number=A,Type=Float,Description=\"Alternate allele observations, with partial observations recorded fractionally\">\n",
      "Warning: Expected at least 2 parts in INFO entry: ID=SRP,Number=1,Type=Float,Description=\"Strand balance probability for the reference allele: Phred-scaled upper-bounds estimate of the probability of observing the deviation between SRF and SRR given E(SRF/SRR) ~ 0.5, derived using Hoeffding's inequality\">\n",
      "Warning: Expected at least 2 parts in INFO entry: ID=SAP,Number=A,Type=Float,Description=\"Strand balance probability for the alternate allele: Phred-scaled upper-bounds estimate of the probability of observing the deviation between SAF and SAR given E(SAF/SAR) ~ 0.5, derived using Hoeffding's inequality\">\n",
      "Warning: Expected at least 2 parts in INFO entry: ID=AB,Number=A,Type=Float,Description=\"Allele balance at heterozygous sites: a number between 0 and 1 representing the ratio of reads showing the reference allele to all reads, considering only reads from individuals called as heterozygous\">\n",
      "Warning: Expected at least 2 parts in INFO entry: ID=ABP,Number=A,Type=Float,Description=\"Allele balance probability at heterozygous sites: Phred-scaled upper-bounds estimate of the probability of observing the deviation between ABR and ABA given E(ABR/ABA) ~ 0.5, derived using Hoeffding's inequality\">\n",
      "Warning: Expected at least 2 parts in INFO entry: ID=RPP,Number=A,Type=Float,Description=\"Read Placement Probability: Phred-scaled upper-bounds estimate of the probability of observing the deviation between RPL and RPR given E(RPL/RPR) ~ 0.5, derived using Hoeffding's inequality\">\n",
      "Warning: Expected at least 2 parts in INFO entry: ID=RPPR,Number=1,Type=Float,Description=\"Read Placement Probability for reference observations: Phred-scaled upper-bounds estimate of the probability of observing the deviation between RPL and RPR given E(RPL/RPR) ~ 0.5, derived using Hoeffding's inequality\">\n",
      "Warning: Expected at least 2 parts in INFO entry: ID=EPP,Number=A,Type=Float,Description=\"End Placement Probability: Phred-scaled upper-bounds estimate of the probability of observing the deviation between EL and ER given E(EL/ER) ~ 0.5, derived using Hoeffding's inequality\">\n",
      "Warning: Expected at least 2 parts in INFO entry: ID=EPPR,Number=1,Type=Float,Description=\"End Placement Probability for reference observations: Phred-scaled upper-bounds estimate of the probability of observing the deviation between EL and ER given E(EL/ER) ~ 0.5, derived using Hoeffding's inequality\">\n",
      "Warning: Expected at least 2 parts in INFO entry: ID=TYPE,Number=A,Type=String,Description=\"The type of allele, either snp, mnp, ins, del, or complex.\">\n",
      "Warning: Expected at least 2 parts in INFO entry: ID=TYPE,Number=A,Type=String,Description=\"The type of allele, either snp, mnp, ins, del, or complex.\">\n",
      "Warning: Expected at least 2 parts in INFO entry: ID=TYPE,Number=A,Type=String,Description=\"The type of allele, either snp, mnp, ins, del, or complex.\">\n",
      "Warning: Expected at least 2 parts in INFO entry: ID=TYPE,Number=A,Type=String,Description=\"The type of allele, either snp, mnp, ins, del, or complex.\">\n",
      "Warning: Expected at least 2 parts in INFO entry: ID=TYPE,Number=A,Type=String,Description=\"The type of allele, either snp, mnp, ins, del, or complex.\">\n",
      "Warning: Expected at least 2 parts in INFO entry: ID=CIGAR,Number=A,Type=String,Description=\"The extended CIGAR representation of each alternate allele, with the exception that '=' is replaced by 'M' to ease VCF parsing.  Note that INDEL alleles do not have the first matched base (which is provided by default, per the spec) referred to by the CIGAR.\">\n",
      "Warning: Expected at least 2 parts in FORMAT entry: ID=GQ,Number=1,Type=Float,Description=\"Genotype Quality, the Phred-scaled marginal (or unconditional) probability of the called genotype\">\n",
      "Warning: Expected at least 2 parts in FORMAT entry: ID=GL,Number=G,Type=Float,Description=\"Genotype Likelihood, log10-scaled likelihoods of the data given the called genotype for each possible genotype generated from the reference and alternate alleles given the sample ploidy\">\n",
      "After filtering, kept 159 out of 159 Individuals\n",
      "Outputting Site Missingness\n"
     ]
    },
    {
     "name": "stdout",
     "output_type": "stream",
     "text": [
      "After filtering, kept 329152 out of a possible 329152 Sites\n",
      "Run Time = 14.00 seconds\n",
      "\n",
      "VCFtools - 0.1.16\n",
      "(C) Adam Auton and Anthony Marcketta 2009\n",
      "\n",
      "Parameters as interpreted:\n",
      "\t--gzvcf /local/home/katrinac/ClownfishGWAS/data/APPC_sequencing/DNA/filtering/max_missing05_minQ20.recode.vcf.gz\n",
      "\t--het\n",
      "\t--out /local/home/katrinac/ClownfishGWAS/data/APPC_sequencing/DNA/filtering/max_missing05_minQ20\n",
      "\n",
      "Using zlib version: 1.2.11\n",
      "Warning: Expected at least 2 parts in INFO entry: ID=AF,Number=A,Type=Float,Description=\"Estimated allele frequency in the range (0,1]\">\n",
      "Warning: Expected at least 2 parts in INFO entry: ID=PRO,Number=1,Type=Float,Description=\"Reference allele observation count, with partial observations recorded fractionally\">\n",
      "Warning: Expected at least 2 parts in INFO entry: ID=PAO,Number=A,Type=Float,Description=\"Alternate allele observations, with partial observations recorded fractionally\">\n",
      "Warning: Expected at least 2 parts in INFO entry: ID=SRP,Number=1,Type=Float,Description=\"Strand balance probability for the reference allele: Phred-scaled upper-bounds estimate of the probability of observing the deviation between SRF and SRR given E(SRF/SRR) ~ 0.5, derived using Hoeffding's inequality\">\n",
      "Warning: Expected at least 2 parts in INFO entry: ID=SAP,Number=A,Type=Float,Description=\"Strand balance probability for the alternate allele: Phred-scaled upper-bounds estimate of the probability of observing the deviation between SAF and SAR given E(SAF/SAR) ~ 0.5, derived using Hoeffding's inequality\">\n",
      "Warning: Expected at least 2 parts in INFO entry: ID=AB,Number=A,Type=Float,Description=\"Allele balance at heterozygous sites: a number between 0 and 1 representing the ratio of reads showing the reference allele to all reads, considering only reads from individuals called as heterozygous\">\n",
      "Warning: Expected at least 2 parts in INFO entry: ID=ABP,Number=A,Type=Float,Description=\"Allele balance probability at heterozygous sites: Phred-scaled upper-bounds estimate of the probability of observing the deviation between ABR and ABA given E(ABR/ABA) ~ 0.5, derived using Hoeffding's inequality\">\n",
      "Warning: Expected at least 2 parts in INFO entry: ID=RPP,Number=A,Type=Float,Description=\"Read Placement Probability: Phred-scaled upper-bounds estimate of the probability of observing the deviation between RPL and RPR given E(RPL/RPR) ~ 0.5, derived using Hoeffding's inequality\">\n",
      "Warning: Expected at least 2 parts in INFO entry: ID=RPPR,Number=1,Type=Float,Description=\"Read Placement Probability for reference observations: Phred-scaled upper-bounds estimate of the probability of observing the deviation between RPL and RPR given E(RPL/RPR) ~ 0.5, derived using Hoeffding's inequality\">\n",
      "Warning: Expected at least 2 parts in INFO entry: ID=EPP,Number=A,Type=Float,Description=\"End Placement Probability: Phred-scaled upper-bounds estimate of the probability of observing the deviation between EL and ER given E(EL/ER) ~ 0.5, derived using Hoeffding's inequality\">\n",
      "Warning: Expected at least 2 parts in INFO entry: ID=EPPR,Number=1,Type=Float,Description=\"End Placement Probability for reference observations: Phred-scaled upper-bounds estimate of the probability of observing the deviation between EL and ER given E(EL/ER) ~ 0.5, derived using Hoeffding's inequality\">\n",
      "Warning: Expected at least 2 parts in INFO entry: ID=TYPE,Number=A,Type=String,Description=\"The type of allele, either snp, mnp, ins, del, or complex.\">\n",
      "Warning: Expected at least 2 parts in INFO entry: ID=TYPE,Number=A,Type=String,Description=\"The type of allele, either snp, mnp, ins, del, or complex.\">\n",
      "Warning: Expected at least 2 parts in INFO entry: ID=TYPE,Number=A,Type=String,Description=\"The type of allele, either snp, mnp, ins, del, or complex.\">\n",
      "Warning: Expected at least 2 parts in INFO entry: ID=TYPE,Number=A,Type=String,Description=\"The type of allele, either snp, mnp, ins, del, or complex.\">\n",
      "Warning: Expected at least 2 parts in INFO entry: ID=TYPE,Number=A,Type=String,Description=\"The type of allele, either snp, mnp, ins, del, or complex.\">\n",
      "Warning: Expected at least 2 parts in INFO entry: ID=CIGAR,Number=A,Type=String,Description=\"The extended CIGAR representation of each alternate allele, with the exception that '=' is replaced by 'M' to ease VCF parsing.  Note that INDEL alleles do not have the first matched base (which is provided by default, per the spec) referred to by the CIGAR.\">\n",
      "Warning: Expected at least 2 parts in FORMAT entry: ID=GQ,Number=1,Type=Float,Description=\"Genotype Quality, the Phred-scaled marginal (or unconditional) probability of the called genotype\">\n",
      "Warning: Expected at least 2 parts in FORMAT entry: ID=GL,Number=G,Type=Float,Description=\"Genotype Likelihood, log10-scaled likelihoods of the data given the called genotype for each possible genotype generated from the reference and alternate alleles given the sample ploidy\">\n",
      "After filtering, kept 159 out of 159 Individuals\n",
      "Outputting Individual Heterozygosity\n",
      "\tIndividual Heterozygosity: Only using fully diploid SNPs.\n",
      "\tIndividual Heterozygosity: Only using biallelic SNPs.\n",
      "After filtering, kept 329152 out of a possible 329152 Sites\n",
      "Run Time = 12.00 seconds\n"
     ]
    }
   ],
   "source": [
    "#allele frequencies for sites with max 2 alleles\n",
    "!vcftools --gzvcf /local/home/katrinac/ClownfishGWAS/data/APPC_sequencing/DNA/filtering/max_missing05_minQ20.recode.vcf.gz --freq2 --out /local/home/katrinac/ClownfishGWAS/data/APPC_sequencing/DNA/filtering/max_missing05_minQ20 --max-alleles 2\n",
    "\n",
    "#mean depth per individual\n",
    "!vcftools --gzvcf /local/home/katrinac/ClownfishGWAS/data/APPC_sequencing/DNA/filtering/max_missing05_minQ20.recode.vcf.gz --depth --out /local/home/katrinac/ClownfishGWAS/data/APPC_sequencing/DNA/filtering/max_missing05_minQ20\n",
    "\n",
    "#mean depth per site\n",
    "!vcftools --gzvcf /local/home/katrinac/ClownfishGWAS/data/APPC_sequencing/DNA/filtering/max_missing05_minQ20.recode.vcf.gz --site-mean-depth --out /local/home/katrinac/ClownfishGWAS/data/APPC_sequencing/DNA/filtering/max_missing05_minQ20\n",
    "\n",
    "#site quality\n",
    "!vcftools --gzvcf /local/home/katrinac/ClownfishGWAS/data/APPC_sequencing/DNA/filtering/max_missing05_minQ20.recode.vcf.gz --site-quality --out /local/home/katrinac/ClownfishGWAS/data/APPC_sequencing/DNA/filtering/max_missing05_minQ20\n",
    "\n",
    "#missing data per individual\n",
    "!vcftools --gzvcf /local/home/katrinac/ClownfishGWAS/data/APPC_sequencing/DNA/filtering/max_missing05_minQ20.recode.vcf.gz --missing-indv --out /local/home/katrinac/ClownfishGWAS/data/APPC_sequencing/DNA/filtering/max_missing05_minQ20\n",
    "\n",
    "#missing data per site\n",
    "!vcftools --gzvcf /local/home/katrinac/ClownfishGWAS/data/APPC_sequencing/DNA/filtering/max_missing05_minQ20.recode.vcf.gz --missing-site --out /local/home/katrinac/ClownfishGWAS/data/APPC_sequencing/DNA/filtering/max_missing05_minQ20\n",
    "\n",
    "#heterozygosity per individual\n",
    "!vcftools --gzvcf /local/home/katrinac/ClownfishGWAS/data/APPC_sequencing/DNA/filtering/max_missing05_minQ20.recode.vcf.gz --het --out /local/home/katrinac/ClownfishGWAS/data/APPC_sequencing/DNA/filtering/max_missing05_minQ20"
   ]
  },
  {
   "cell_type": "markdown",
   "id": "9b38152d",
   "metadata": {},
   "source": [
    "__Now read data into R and check out the plots to guide further filtering__"
   ]
  },
  {
   "cell_type": "markdown",
   "id": "ea8849dc",
   "metadata": {},
   "source": [
    "__Looks like these warnings pertain to the VCF header. Here's some of the help pages I found saying it isn't a problem\n",
    "https://www.biostars.org/p/381639/ and https://github.com/vcftools/vcftools/issues/134__"
   ]
  },
  {
   "cell_type": "code",
   "execution_count": null,
   "id": "f884a32b",
   "metadata": {},
   "outputs": [],
   "source": []
  }
 ],
 "metadata": {
  "kernelspec": {
   "display_name": "Python 3 (ipykernel)",
   "language": "python",
   "name": "python3"
  },
  "language_info": {
   "codemirror_mode": {
    "name": "ipython",
    "version": 3
   },
   "file_extension": ".py",
   "mimetype": "text/x-python",
   "name": "python",
   "nbconvert_exporter": "python",
   "pygments_lexer": "ipython3",
   "version": "3.7.3"
  }
 },
 "nbformat": 4,
 "nbformat_minor": 5
}
