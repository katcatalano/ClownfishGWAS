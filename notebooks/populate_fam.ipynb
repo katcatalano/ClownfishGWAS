{
 "cells": [
  {
   "cell_type": "code",
   "execution_count": 3,
   "id": "97cf08ad",
   "metadata": {},
   "outputs": [
    {
     "name": "stderr",
     "output_type": "stream",
     "text": [
      "\n",
      "Attaching package: ‘dplyr’\n",
      "\n",
      "The following objects are masked from ‘package:data.table’:\n",
      "\n",
      "    between, first, last\n",
      "\n",
      "The following objects are masked from ‘package:stats’:\n",
      "\n",
      "    filter, lag\n",
      "\n",
      "The following objects are masked from ‘package:base’:\n",
      "\n",
      "    intersect, setdiff, setequal, union\n",
      "\n"
     ]
    }
   ],
   "source": [
    "library(data.table)\n",
    "library(stringr)\n",
    "library(dplyr)\n",
    "\"%!in%\" <- function(x,table) match(x,table, nomatch = 0) == 0\n"
   ]
  },
  {
   "cell_type": "code",
   "execution_count": 157,
   "id": "63e41756",
   "metadata": {},
   "outputs": [],
   "source": [
    "#read in the metadata provided by E and use it to fill in the .fam file\n",
    "\n",
    "Meta <- fread(\"~/ClownfishGWAS/data/APPC_sequencing/metadata/Larvalh2-1.csv\", colClasses=c(larvalID=\"character\"))[Send.to.NJ==1][\n",
    "    , larvalID := paste0(\"APPC\", larvalID)][ #modify sample name to match genomics IDs\n",
    "    , larvalID := gsub(\".\", \"\", larvalID ,fixed = TRUE)][\n",
    "    , dam := paste0(\"D\", dam)][\n",
    "    , sire := paste0(\"S\", sire)][\n",
    "    larvalID==\"APPC1012\", larvalID :=\"APPC1010\"]#correct my sample id error          \n",
    "\n",
    "Fam <- fread(\"~/ClownfishGWAS/data/APPC_sequencing/DNA/filtering/imputation/max_missing90_minQ20_maf01_hwe.fam\")\n",
    "\n",
    "LibPrep <- fread(\"~/ClownfishGWAS/data/APPC_sequencing/metadata/APercula_gDNALIbraryPrep.csv\")[, .(SampleID, Capture)][, SampleID := gsub(\".\", \"\", SampleID ,fixed = TRUE)][, gen_id := paste(Capture, SampleID, sep=\"_\")]"
   ]
  },
  {
   "cell_type": "code",
   "execution_count": 158,
   "id": "0da72814",
   "metadata": {},
   "outputs": [
    {
     "data": {
      "text/html": [
       "<table>\n",
       "<thead><tr><th scope=col>SampleID</th><th scope=col>Capture</th><th scope=col>gen_id</th></tr></thead>\n",
       "<tbody>\n",
       "\t<tr><td>APPC1611      </td><td>Pop01         </td><td>Pop01_APPC1611</td></tr>\n",
       "\t<tr><td>APPC1917      </td><td>Pop01         </td><td>Pop01_APPC1917</td></tr>\n",
       "\t<tr><td>APPC1921      </td><td>Pop01         </td><td>Pop01_APPC1921</td></tr>\n",
       "\t<tr><td>APPC2029      </td><td>Pop01         </td><td>Pop01_APPC2029</td></tr>\n",
       "\t<tr><td>APPC2030      </td><td>Pop01         </td><td>Pop01_APPC2030</td></tr>\n",
       "\t<tr><td>APPC2101      </td><td>Pop01         </td><td>Pop01_APPC2101</td></tr>\n",
       "</tbody>\n",
       "</table>\n"
      ],
      "text/latex": [
       "\\begin{tabular}{r|lll}\n",
       " SampleID & Capture & gen\\_id\\\\\n",
       "\\hline\n",
       "\t APPC1611         & Pop01            & Pop01\\_APPC1611\\\\\n",
       "\t APPC1917         & Pop01            & Pop01\\_APPC1917\\\\\n",
       "\t APPC1921         & Pop01            & Pop01\\_APPC1921\\\\\n",
       "\t APPC2029         & Pop01            & Pop01\\_APPC2029\\\\\n",
       "\t APPC2030         & Pop01            & Pop01\\_APPC2030\\\\\n",
       "\t APPC2101         & Pop01            & Pop01\\_APPC2101\\\\\n",
       "\\end{tabular}\n"
      ],
      "text/markdown": [
       "\n",
       "| SampleID | Capture | gen_id |\n",
       "|---|---|---|\n",
       "| APPC1611       | Pop01          | Pop01_APPC1611 |\n",
       "| APPC1917       | Pop01          | Pop01_APPC1917 |\n",
       "| APPC1921       | Pop01          | Pop01_APPC1921 |\n",
       "| APPC2029       | Pop01          | Pop01_APPC2029 |\n",
       "| APPC2030       | Pop01          | Pop01_APPC2030 |\n",
       "| APPC2101       | Pop01          | Pop01_APPC2101 |\n",
       "\n"
      ],
      "text/plain": [
       "  SampleID Capture gen_id        \n",
       "1 APPC1611 Pop01   Pop01_APPC1611\n",
       "2 APPC1917 Pop01   Pop01_APPC1917\n",
       "3 APPC1921 Pop01   Pop01_APPC1921\n",
       "4 APPC2029 Pop01   Pop01_APPC2029\n",
       "5 APPC2030 Pop01   Pop01_APPC2030\n",
       "6 APPC2101 Pop01   Pop01_APPC2101"
      ]
     },
     "metadata": {},
     "output_type": "display_data"
    },
    {
     "data": {
      "text/html": [
       "<table>\n",
       "<thead><tr><th scope=col>og_larvalID</th><th scope=col>larvalID</th><th scope=col>Ucrit</th><th scope=col>SL</th><th scope=col>dam</th><th scope=col>sire</th><th scope=col>tank</th><th scope=col>date</th><th scope=col>Send.to.NJ</th><th scope=col>Group</th></tr></thead>\n",
       "<tbody>\n",
       "\t<tr><td>5.06    </td><td>APPC0506</td><td>8.17    </td><td>4.34    </td><td>D119    </td><td>S162    </td><td>C2:4    </td><td>5/28/19 </td><td>1       </td><td>High    </td></tr>\n",
       "\t<tr><td>5.08    </td><td>APPC0508</td><td>1.10    </td><td>  NA    </td><td>D119    </td><td>S162    </td><td>C2:4    </td><td>5/28/19 </td><td>1       </td><td>Low     </td></tr>\n",
       "\t<tr><td>5.15    </td><td>APPC0515</td><td>2.27    </td><td>4.32    </td><td>D119    </td><td>S162    </td><td>C2:4    </td><td>5/28/19 </td><td>1       </td><td>Low     </td></tr>\n",
       "\t<tr><td>5.23    </td><td>APPC0523</td><td>8.33    </td><td>4.32    </td><td>D119    </td><td>S162    </td><td>C2:4    </td><td>5/28/19 </td><td>1       </td><td>High    </td></tr>\n",
       "\t<tr><td>6.01    </td><td>APPC0601</td><td>2.57    </td><td>4.24    </td><td>D32     </td><td>S101    </td><td>D1:3    </td><td>5/29/19 </td><td>1       </td><td>Low     </td></tr>\n",
       "\t<tr><td>6.07    </td><td>APPC0607</td><td>2.38    </td><td>3.94    </td><td>D32     </td><td>S101    </td><td>D1:3    </td><td>5/29/19 </td><td>1       </td><td>Low     </td></tr>\n",
       "</tbody>\n",
       "</table>\n"
      ],
      "text/latex": [
       "\\begin{tabular}{r|llllllllll}\n",
       " og\\_larvalID & larvalID & Ucrit & SL & dam & sire & tank & date & Send.to.NJ & Group\\\\\n",
       "\\hline\n",
       "\t 5.06     & APPC0506 & 8.17     & 4.34     & D119     & S162     & C2:4     & 5/28/19  & 1        & High    \\\\\n",
       "\t 5.08     & APPC0508 & 1.10     &   NA     & D119     & S162     & C2:4     & 5/28/19  & 1        & Low     \\\\\n",
       "\t 5.15     & APPC0515 & 2.27     & 4.32     & D119     & S162     & C2:4     & 5/28/19  & 1        & Low     \\\\\n",
       "\t 5.23     & APPC0523 & 8.33     & 4.32     & D119     & S162     & C2:4     & 5/28/19  & 1        & High    \\\\\n",
       "\t 6.01     & APPC0601 & 2.57     & 4.24     & D32      & S101     & D1:3     & 5/29/19  & 1        & Low     \\\\\n",
       "\t 6.07     & APPC0607 & 2.38     & 3.94     & D32      & S101     & D1:3     & 5/29/19  & 1        & Low     \\\\\n",
       "\\end{tabular}\n"
      ],
      "text/markdown": [
       "\n",
       "| og_larvalID | larvalID | Ucrit | SL | dam | sire | tank | date | Send.to.NJ | Group |\n",
       "|---|---|---|---|---|---|---|---|---|---|\n",
       "| 5.06     | APPC0506 | 8.17     | 4.34     | D119     | S162     | C2:4     | 5/28/19  | 1        | High     |\n",
       "| 5.08     | APPC0508 | 1.10     |   NA     | D119     | S162     | C2:4     | 5/28/19  | 1        | Low      |\n",
       "| 5.15     | APPC0515 | 2.27     | 4.32     | D119     | S162     | C2:4     | 5/28/19  | 1        | Low      |\n",
       "| 5.23     | APPC0523 | 8.33     | 4.32     | D119     | S162     | C2:4     | 5/28/19  | 1        | High     |\n",
       "| 6.01     | APPC0601 | 2.57     | 4.24     | D32      | S101     | D1:3     | 5/29/19  | 1        | Low      |\n",
       "| 6.07     | APPC0607 | 2.38     | 3.94     | D32      | S101     | D1:3     | 5/29/19  | 1        | Low      |\n",
       "\n"
      ],
      "text/plain": [
       "  og_larvalID larvalID Ucrit SL   dam  sire tank date    Send.to.NJ Group\n",
       "1 5.06        APPC0506 8.17  4.34 D119 S162 C2:4 5/28/19 1          High \n",
       "2 5.08        APPC0508 1.10    NA D119 S162 C2:4 5/28/19 1          Low  \n",
       "3 5.15        APPC0515 2.27  4.32 D119 S162 C2:4 5/28/19 1          Low  \n",
       "4 5.23        APPC0523 8.33  4.32 D119 S162 C2:4 5/28/19 1          High \n",
       "5 6.01        APPC0601 2.57  4.24 D32  S101 D1:3 5/29/19 1          Low  \n",
       "6 6.07        APPC0607 2.38  3.94 D32  S101 D1:3 5/29/19 1          Low  "
      ]
     },
     "metadata": {},
     "output_type": "display_data"
    }
   ],
   "source": [
    "head(LibPrep)\n",
    "head(Meta)"
   ]
  },
  {
   "cell_type": "code",
   "execution_count": 159,
   "id": "e8b543d5",
   "metadata": {},
   "outputs": [
    {
     "data": {
      "text/html": [
       "<table>\n",
       "<thead><tr><th scope=col>og_larvalID</th><th scope=col>larvalID</th><th scope=col>Ucrit</th><th scope=col>SL</th><th scope=col>dam</th><th scope=col>sire</th><th scope=col>tank</th><th scope=col>date</th><th scope=col>Send.to.NJ</th><th scope=col>Group</th><th scope=col>Capture</th><th scope=col>gen_id</th></tr></thead>\n",
       "<tbody>\n",
       "\t<tr><td>5.06          </td><td>APPC0506      </td><td>8.17          </td><td>4.34          </td><td>D119          </td><td>S162          </td><td>C2:4          </td><td>5/28/19       </td><td>1             </td><td>High          </td><td>Pop13         </td><td>Pop13_APPC0506</td></tr>\n",
       "\t<tr><td>5.08          </td><td>APPC0508      </td><td>1.10          </td><td>  NA          </td><td>D119          </td><td>S162          </td><td>C2:4          </td><td>5/28/19       </td><td>1             </td><td>Low           </td><td>Pop13         </td><td>Pop13_APPC0508</td></tr>\n",
       "\t<tr><td>5.15          </td><td>APPC0515      </td><td>2.27          </td><td>4.32          </td><td>D119          </td><td>S162          </td><td>C2:4          </td><td>5/28/19       </td><td>1             </td><td>Low           </td><td>Pop13         </td><td>Pop13_APPC0515</td></tr>\n",
       "\t<tr><td>5.23          </td><td>APPC0523      </td><td>8.33          </td><td>4.32          </td><td>D119          </td><td>S162          </td><td>C2:4          </td><td>5/28/19       </td><td>1             </td><td>High          </td><td>Pop13         </td><td>Pop13_APPC0523</td></tr>\n",
       "\t<tr><td>6.01          </td><td>APPC0601      </td><td>2.57          </td><td>4.24          </td><td>D32           </td><td>S101          </td><td>D1:3          </td><td>5/29/19       </td><td>1             </td><td>Low           </td><td>Pop13         </td><td>Pop13_APPC0601</td></tr>\n",
       "\t<tr><td>6.07          </td><td>APPC0607      </td><td>2.38          </td><td>3.94          </td><td>D32           </td><td>S101          </td><td>D1:3          </td><td>5/29/19       </td><td>1             </td><td>Low           </td><td>Pop13         </td><td>Pop13_APPC0607</td></tr>\n",
       "</tbody>\n",
       "</table>\n"
      ],
      "text/latex": [
       "\\begin{tabular}{r|llllllllllll}\n",
       " og\\_larvalID & larvalID & Ucrit & SL & dam & sire & tank & date & Send.to.NJ & Group & Capture & gen\\_id\\\\\n",
       "\\hline\n",
       "\t 5.06             & APPC0506         & 8.17             & 4.34             & D119             & S162             & C2:4             & 5/28/19          & 1                & High             & Pop13            & Pop13\\_APPC0506\\\\\n",
       "\t 5.08             & APPC0508         & 1.10             &   NA             & D119             & S162             & C2:4             & 5/28/19          & 1                & Low              & Pop13            & Pop13\\_APPC0508\\\\\n",
       "\t 5.15             & APPC0515         & 2.27             & 4.32             & D119             & S162             & C2:4             & 5/28/19          & 1                & Low              & Pop13            & Pop13\\_APPC0515\\\\\n",
       "\t 5.23             & APPC0523         & 8.33             & 4.32             & D119             & S162             & C2:4             & 5/28/19          & 1                & High             & Pop13            & Pop13\\_APPC0523\\\\\n",
       "\t 6.01             & APPC0601         & 2.57             & 4.24             & D32              & S101             & D1:3             & 5/29/19          & 1                & Low              & Pop13            & Pop13\\_APPC0601\\\\\n",
       "\t 6.07             & APPC0607         & 2.38             & 3.94             & D32              & S101             & D1:3             & 5/29/19          & 1                & Low              & Pop13            & Pop13\\_APPC0607\\\\\n",
       "\\end{tabular}\n"
      ],
      "text/markdown": [
       "\n",
       "| og_larvalID | larvalID | Ucrit | SL | dam | sire | tank | date | Send.to.NJ | Group | Capture | gen_id |\n",
       "|---|---|---|---|---|---|---|---|---|---|---|---|\n",
       "| 5.06           | APPC0506       | 8.17           | 4.34           | D119           | S162           | C2:4           | 5/28/19        | 1              | High           | Pop13          | Pop13_APPC0506 |\n",
       "| 5.08           | APPC0508       | 1.10           |   NA           | D119           | S162           | C2:4           | 5/28/19        | 1              | Low            | Pop13          | Pop13_APPC0508 |\n",
       "| 5.15           | APPC0515       | 2.27           | 4.32           | D119           | S162           | C2:4           | 5/28/19        | 1              | Low            | Pop13          | Pop13_APPC0515 |\n",
       "| 5.23           | APPC0523       | 8.33           | 4.32           | D119           | S162           | C2:4           | 5/28/19        | 1              | High           | Pop13          | Pop13_APPC0523 |\n",
       "| 6.01           | APPC0601       | 2.57           | 4.24           | D32            | S101           | D1:3           | 5/29/19        | 1              | Low            | Pop13          | Pop13_APPC0601 |\n",
       "| 6.07           | APPC0607       | 2.38           | 3.94           | D32            | S101           | D1:3           | 5/29/19        | 1              | Low            | Pop13          | Pop13_APPC0607 |\n",
       "\n"
      ],
      "text/plain": [
       "  og_larvalID larvalID Ucrit SL   dam  sire tank date    Send.to.NJ Group\n",
       "1 5.06        APPC0506 8.17  4.34 D119 S162 C2:4 5/28/19 1          High \n",
       "2 5.08        APPC0508 1.10    NA D119 S162 C2:4 5/28/19 1          Low  \n",
       "3 5.15        APPC0515 2.27  4.32 D119 S162 C2:4 5/28/19 1          Low  \n",
       "4 5.23        APPC0523 8.33  4.32 D119 S162 C2:4 5/28/19 1          High \n",
       "5 6.01        APPC0601 2.57  4.24 D32  S101 D1:3 5/29/19 1          Low  \n",
       "6 6.07        APPC0607 2.38  3.94 D32  S101 D1:3 5/29/19 1          Low  \n",
       "  Capture gen_id        \n",
       "1 Pop13   Pop13_APPC0506\n",
       "2 Pop13   Pop13_APPC0508\n",
       "3 Pop13   Pop13_APPC0515\n",
       "4 Pop13   Pop13_APPC0523\n",
       "5 Pop13   Pop13_APPC0601\n",
       "6 Pop13   Pop13_APPC0607"
      ]
     },
     "metadata": {},
     "output_type": "display_data"
    }
   ],
   "source": [
    "#join laboratory and genetic metadata\n",
    "FullMeta <- left_join(Meta, LibPrep, by=c(larvalID=\"SampleID\"))\n",
    "head(FullMeta)"
   ]
  },
  {
   "cell_type": "code",
   "execution_count": 160,
   "id": "e8dea2c5",
   "metadata": {},
   "outputs": [
    {
     "data": {
      "text/html": [
       "160"
      ],
      "text/latex": [
       "160"
      ],
      "text/markdown": [
       "160"
      ],
      "text/plain": [
       "[1] 160"
      ]
     },
     "metadata": {},
     "output_type": "display_data"
    }
   ],
   "source": [
    "nrow(FullMeta[Send.to.NJ==1])"
   ]
  },
  {
   "cell_type": "code",
   "execution_count": 161,
   "id": "29f20f91",
   "metadata": {},
   "outputs": [
    {
     "data": {
      "text/html": [
       "<table>\n",
       "<thead><tr><th scope=col>og_larvalID</th><th scope=col>larvalID</th><th scope=col>Ucrit</th><th scope=col>SL</th><th scope=col>dam</th><th scope=col>sire</th><th scope=col>tank</th><th scope=col>date</th><th scope=col>Send.to.NJ</th><th scope=col>Group</th></tr></thead>\n",
       "<tbody>\n",
       "\t<tr><td>31.24   </td><td>APPC3124</td><td>0.2     </td><td>4.26    </td><td>D6      </td><td>S108    </td><td>A2:1    </td><td>7/26/19 </td><td>1       </td><td>Low     </td></tr>\n",
       "</tbody>\n",
       "</table>\n"
      ],
      "text/latex": [
       "\\begin{tabular}{r|llllllllll}\n",
       " og\\_larvalID & larvalID & Ucrit & SL & dam & sire & tank & date & Send.to.NJ & Group\\\\\n",
       "\\hline\n",
       "\t 31.24    & APPC3124 & 0.2      & 4.26     & D6       & S108     & A2:1     & 7/26/19  & 1        & Low     \\\\\n",
       "\\end{tabular}\n"
      ],
      "text/markdown": [
       "\n",
       "| og_larvalID | larvalID | Ucrit | SL | dam | sire | tank | date | Send.to.NJ | Group |\n",
       "|---|---|---|---|---|---|---|---|---|---|\n",
       "| 31.24    | APPC3124 | 0.2      | 4.26     | D6       | S108     | A2:1     | 7/26/19  | 1        | Low      |\n",
       "\n"
      ],
      "text/plain": [
       "  og_larvalID larvalID Ucrit SL   dam sire tank date    Send.to.NJ Group\n",
       "1 31.24       APPC3124 0.2   4.26 D6  S108 A2:1 7/26/19 1          Low  "
      ]
     },
     "metadata": {},
     "output_type": "display_data"
    },
    {
     "data": {
      "text/html": [
       "<table>\n",
       "<thead><tr><th scope=col>SampleID</th><th scope=col>Capture</th><th scope=col>gen_id</th></tr></thead>\n",
       "<tbody>\n",
       "</tbody>\n",
       "</table>\n"
      ],
      "text/latex": [
       "\\begin{tabular}{r|lll}\n",
       " SampleID & Capture & gen\\_id\\\\\n",
       "\\hline\n",
       "\\end{tabular}\n"
      ],
      "text/markdown": [
       "\n",
       "| SampleID | Capture | gen_id |\n",
       "|---|---|---|\n",
       "\n"
      ],
      "text/plain": [
       "     SampleID Capture gen_id"
      ]
     },
     "metadata": {},
     "output_type": "display_data"
    }
   ],
   "source": [
    "Meta[Send.to.NJ==1 & larvalID %!in% LibPrep$SampleID] #okay maybe 10.12 in gdna is 10.10 in h2 metadata, 31.24 dropped out in extraction\n",
    "LibPrep[SampleID %!in% Meta$larvalID]"
   ]
  },
  {
   "cell_type": "code",
   "execution_count": 102,
   "id": "bac680c3",
   "metadata": {},
   "outputs": [],
   "source": [
    "#fwrite(FullMeta, \"~/ClownfishGWAS/data/APPC_sequencing/DNA/trimmed_reads/mapping/genotypes/angsd/Sample_Meta.txt\")"
   ]
  },
  {
   "cell_type": "code",
   "execution_count": 73,
   "id": "9b92ae4a",
   "metadata": {},
   "outputs": [
    {
     "data": {
      "text/html": [
       "160"
      ],
      "text/latex": [
       "160"
      ],
      "text/markdown": [
       "160"
      ],
      "text/plain": [
       "[1] 160"
      ]
     },
     "metadata": {},
     "output_type": "display_data"
    }
   ],
   "source": [
    "nrow(FullMeta) #hmmm looks like sample IDs were written down wrong by me from the tube writing... look back at this later"
   ]
  },
  {
   "cell_type": "code",
   "execution_count": 103,
   "id": "b943ea96",
   "metadata": {},
   "outputs": [],
   "source": []
  },
  {
   "cell_type": "code",
   "execution_count": null,
   "id": "bc0ae586",
   "metadata": {},
   "outputs": [],
   "source": []
  },
  {
   "cell_type": "code",
   "execution_count": null,
   "id": "c60b95f0",
   "metadata": {},
   "outputs": [],
   "source": []
  },
  {
   "cell_type": "code",
   "execution_count": 135,
   "id": "842b850d",
   "metadata": {},
   "outputs": [],
   "source": [
    "#for plink\n",
    "#the two columns we need to fill are Family ID (column 1) and the phenotype, which will be Ucrit (quant), group (case/control), or SL (quant)\n",
    "#for this, we will make FamilyID the mother's ID\n",
    "#FamID <- left_join(FullMeta[!is.na(Capture), .(dam, gen_id)], Fam[,-\"V1\"], by=c(gen_id=\"V2\"))\n",
    "##join the phenotype data\n",
    "#WithPhenotypeSL <- left_join(FamID[, -\"V6\"], FullMeta[,.(gen_id, SL)], by=\"gen_id\")[\n",
    "#    is.na(SL), SL := -9]\n",
    "#fwrite(rbind(WithPhenotypeSL, Fam[V2 %!in% WithPhenotypeSL[, gen_id]], use.names=F), \"~/ClownfishGWAS/data/APPC_sequencing/DNA/filtering/imputation/plink_gwas/max_missing90_minQ20_maf01_hwe.fam\", col.names = FALSE, sep = \"\\t\")"
   ]
  },
  {
   "cell_type": "code",
   "execution_count": null,
   "id": "dcbec2cd",
   "metadata": {},
   "outputs": [],
   "source": []
  },
  {
   "cell_type": "code",
   "execution_count": null,
   "id": "092a2855",
   "metadata": {},
   "outputs": [],
   "source": []
  },
  {
   "cell_type": "code",
   "execution_count": 19,
   "id": "ae8835f1",
   "metadata": {},
   "outputs": [],
   "source": []
  },
  {
   "cell_type": "code",
   "execution_count": 162,
   "id": "b349bdbf",
   "metadata": {},
   "outputs": [],
   "source": [
    "#forangsd\n",
    "bamlist <- fread(\"~/ClownfishGWAS/data/APPC_sequencing/DNA/trimmed_reads/mapping/genotypes/bamlist.list.txt\", header=TRUE)"
   ]
  },
  {
   "cell_type": "code",
   "execution_count": 163,
   "id": "93a0abcb",
   "metadata": {},
   "outputs": [
    {
     "data": {
      "text/html": [
       "<table>\n",
       "<thead><tr><th scope=col>og_larvalID</th><th scope=col>larvalID</th><th scope=col>Ucrit</th><th scope=col>SL</th><th scope=col>dam</th><th scope=col>sire</th><th scope=col>tank</th><th scope=col>date</th><th scope=col>Send.to.NJ</th><th scope=col>Group</th><th scope=col>Capture</th><th scope=col>gen_id</th></tr></thead>\n",
       "<tbody>\n",
       "\t<tr><td>5.06          </td><td>APPC0506      </td><td>8.17          </td><td>4.34          </td><td>D119          </td><td>S162          </td><td>C2:4          </td><td>5/28/19       </td><td>1             </td><td>High          </td><td>Pop13         </td><td>Pop13_APPC0506</td></tr>\n",
       "\t<tr><td>5.08          </td><td>APPC0508      </td><td>1.10          </td><td>  NA          </td><td>D119          </td><td>S162          </td><td>C2:4          </td><td>5/28/19       </td><td>1             </td><td>Low           </td><td>Pop13         </td><td>Pop13_APPC0508</td></tr>\n",
       "\t<tr><td>5.15          </td><td>APPC0515      </td><td>2.27          </td><td>4.32          </td><td>D119          </td><td>S162          </td><td>C2:4          </td><td>5/28/19       </td><td>1             </td><td>Low           </td><td>Pop13         </td><td>Pop13_APPC0515</td></tr>\n",
       "\t<tr><td>5.23          </td><td>APPC0523      </td><td>8.33          </td><td>4.32          </td><td>D119          </td><td>S162          </td><td>C2:4          </td><td>5/28/19       </td><td>1             </td><td>High          </td><td>Pop13         </td><td>Pop13_APPC0523</td></tr>\n",
       "\t<tr><td>6.01          </td><td>APPC0601      </td><td>2.57          </td><td>4.24          </td><td>D32           </td><td>S101          </td><td>D1:3          </td><td>5/29/19       </td><td>1             </td><td>Low           </td><td>Pop13         </td><td>Pop13_APPC0601</td></tr>\n",
       "\t<tr><td>6.07          </td><td>APPC0607      </td><td>2.38          </td><td>3.94          </td><td>D32           </td><td>S101          </td><td>D1:3          </td><td>5/29/19       </td><td>1             </td><td>Low           </td><td>Pop13         </td><td>Pop13_APPC0607</td></tr>\n",
       "</tbody>\n",
       "</table>\n"
      ],
      "text/latex": [
       "\\begin{tabular}{r|llllllllllll}\n",
       " og\\_larvalID & larvalID & Ucrit & SL & dam & sire & tank & date & Send.to.NJ & Group & Capture & gen\\_id\\\\\n",
       "\\hline\n",
       "\t 5.06             & APPC0506         & 8.17             & 4.34             & D119             & S162             & C2:4             & 5/28/19          & 1                & High             & Pop13            & Pop13\\_APPC0506\\\\\n",
       "\t 5.08             & APPC0508         & 1.10             &   NA             & D119             & S162             & C2:4             & 5/28/19          & 1                & Low              & Pop13            & Pop13\\_APPC0508\\\\\n",
       "\t 5.15             & APPC0515         & 2.27             & 4.32             & D119             & S162             & C2:4             & 5/28/19          & 1                & Low              & Pop13            & Pop13\\_APPC0515\\\\\n",
       "\t 5.23             & APPC0523         & 8.33             & 4.32             & D119             & S162             & C2:4             & 5/28/19          & 1                & High             & Pop13            & Pop13\\_APPC0523\\\\\n",
       "\t 6.01             & APPC0601         & 2.57             & 4.24             & D32              & S101             & D1:3             & 5/29/19          & 1                & Low              & Pop13            & Pop13\\_APPC0601\\\\\n",
       "\t 6.07             & APPC0607         & 2.38             & 3.94             & D32              & S101             & D1:3             & 5/29/19          & 1                & Low              & Pop13            & Pop13\\_APPC0607\\\\\n",
       "\\end{tabular}\n"
      ],
      "text/markdown": [
       "\n",
       "| og_larvalID | larvalID | Ucrit | SL | dam | sire | tank | date | Send.to.NJ | Group | Capture | gen_id |\n",
       "|---|---|---|---|---|---|---|---|---|---|---|---|\n",
       "| 5.06           | APPC0506       | 8.17           | 4.34           | D119           | S162           | C2:4           | 5/28/19        | 1              | High           | Pop13          | Pop13_APPC0506 |\n",
       "| 5.08           | APPC0508       | 1.10           |   NA           | D119           | S162           | C2:4           | 5/28/19        | 1              | Low            | Pop13          | Pop13_APPC0508 |\n",
       "| 5.15           | APPC0515       | 2.27           | 4.32           | D119           | S162           | C2:4           | 5/28/19        | 1              | Low            | Pop13          | Pop13_APPC0515 |\n",
       "| 5.23           | APPC0523       | 8.33           | 4.32           | D119           | S162           | C2:4           | 5/28/19        | 1              | High           | Pop13          | Pop13_APPC0523 |\n",
       "| 6.01           | APPC0601       | 2.57           | 4.24           | D32            | S101           | D1:3           | 5/29/19        | 1              | Low            | Pop13          | Pop13_APPC0601 |\n",
       "| 6.07           | APPC0607       | 2.38           | 3.94           | D32            | S101           | D1:3           | 5/29/19        | 1              | Low            | Pop13          | Pop13_APPC0607 |\n",
       "\n"
      ],
      "text/plain": [
       "  og_larvalID larvalID Ucrit SL   dam  sire tank date    Send.to.NJ Group\n",
       "1 5.06        APPC0506 8.17  4.34 D119 S162 C2:4 5/28/19 1          High \n",
       "2 5.08        APPC0508 1.10    NA D119 S162 C2:4 5/28/19 1          Low  \n",
       "3 5.15        APPC0515 2.27  4.32 D119 S162 C2:4 5/28/19 1          Low  \n",
       "4 5.23        APPC0523 8.33  4.32 D119 S162 C2:4 5/28/19 1          High \n",
       "5 6.01        APPC0601 2.57  4.24 D32  S101 D1:3 5/29/19 1          Low  \n",
       "6 6.07        APPC0607 2.38  3.94 D32  S101 D1:3 5/29/19 1          Low  \n",
       "  Capture gen_id        \n",
       "1 Pop13   Pop13_APPC0506\n",
       "2 Pop13   Pop13_APPC0508\n",
       "3 Pop13   Pop13_APPC0515\n",
       "4 Pop13   Pop13_APPC0523\n",
       "5 Pop13   Pop13_APPC0601\n",
       "6 Pop13   Pop13_APPC0607"
      ]
     },
     "metadata": {},
     "output_type": "display_data"
    },
    {
     "data": {
      "text/html": [
       "<table>\n",
       "<thead><tr><th scope=col>sample</th></tr></thead>\n",
       "<tbody>\n",
       "\t<tr><td>Pop01_APPC1611</td></tr>\n",
       "\t<tr><td>Pop01_APPC1917</td></tr>\n",
       "\t<tr><td>Pop01_APPC1921</td></tr>\n",
       "\t<tr><td>Pop01_APPC2029</td></tr>\n",
       "\t<tr><td>Pop01_APPC2030</td></tr>\n",
       "\t<tr><td>Pop01_APPC2101</td></tr>\n",
       "</tbody>\n",
       "</table>\n"
      ],
      "text/latex": [
       "\\begin{tabular}{r|l}\n",
       " sample\\\\\n",
       "\\hline\n",
       "\t Pop01\\_APPC1611\\\\\n",
       "\t Pop01\\_APPC1917\\\\\n",
       "\t Pop01\\_APPC1921\\\\\n",
       "\t Pop01\\_APPC2029\\\\\n",
       "\t Pop01\\_APPC2030\\\\\n",
       "\t Pop01\\_APPC2101\\\\\n",
       "\\end{tabular}\n"
      ],
      "text/markdown": [
       "\n",
       "| sample |\n",
       "|---|\n",
       "| Pop01_APPC1611 |\n",
       "| Pop01_APPC1917 |\n",
       "| Pop01_APPC1921 |\n",
       "| Pop01_APPC2029 |\n",
       "| Pop01_APPC2030 |\n",
       "| Pop01_APPC2101 |\n",
       "\n"
      ],
      "text/plain": [
       "  sample        \n",
       "1 Pop01_APPC1611\n",
       "2 Pop01_APPC1917\n",
       "3 Pop01_APPC1921\n",
       "4 Pop01_APPC2029\n",
       "5 Pop01_APPC2030\n",
       "6 Pop01_APPC2101"
      ]
     },
     "metadata": {},
     "output_type": "display_data"
    }
   ],
   "source": [
    "head(FullMeta)\n",
    "head(bamlist)"
   ]
  },
  {
   "cell_type": "code",
   "execution_count": 164,
   "id": "c1cc5873",
   "metadata": {},
   "outputs": [
    {
     "name": "stderr",
     "output_type": "stream",
     "text": [
      "Warning message in `[.data.table`(right_join(FullMeta, bamlist, by = c(gen_id = \"sample\"))[order(gen_id)][is.na(Group), :\n",
      "“Coerced double RHS to character to match the type of the target column (column 10 named 'Group'). If the target column's type character is correct, it's best for efficiency to avoid the coercion and create the RHS as type character. To achieve that consider R's type postfix: typeof(0L) vs typeof(0), and typeof(NA) vs typeof(NA_integer_) vs typeof(NA_real_). You can wrap the RHS with as.character() to avoid this warning, but that will still perform the coercion. If the target column's type is not correct, it's best to revisit where the DT was created and fix the column type there; e.g., by using colClasses= in fread(). Otherwise, you can change the column type now by plonking a new column (of the desired type) over the top of it; e.g. DT[, `Group`:=as.double(`Group`)]. If the RHS of := has nrow(DT) elements then the assignment is called a column plonk and is the way to change a column's type. Column types can be observed with sapply(DT,typeof).”Warning message in `[.data.table`(right_join(FullMeta, bamlist, by = c(gen_id = \"sample\"))[order(gen_id)][is.na(Group), :\n",
      "“Coerced double RHS to character to match the type of the target column (column 10 named 'Group'). If the target column's type character is correct, it's best for efficiency to avoid the coercion and create the RHS as type character. To achieve that consider R's type postfix: typeof(0L) vs typeof(0), and typeof(NA) vs typeof(NA_integer_) vs typeof(NA_real_). You can wrap the RHS with as.character() to avoid this warning, but that will still perform the coercion. If the target column's type is not correct, it's best to revisit where the DT was created and fix the column type there; e.g., by using colClasses= in fread(). Otherwise, you can change the column type now by plonking a new column (of the desired type) over the top of it; e.g. DT[, `Group`:=as.double(`Group`)]. If the RHS of := has nrow(DT) elements then the assignment is called a column plonk and is the way to change a column's type. Column types can be observed with sapply(DT,typeof).”"
     ]
    }
   ],
   "source": [
    "ForAngsd <- right_join(FullMeta, bamlist, by=c(gen_id=\"sample\"))[order(gen_id)][is.na(Group), Group :=-999][Group==\"High\", Group:=1][Group==\"Low\", Group:=0]#[, \"Group\"]"
   ]
  },
  {
   "cell_type": "code",
   "execution_count": 165,
   "id": "5bf0513b",
   "metadata": {},
   "outputs": [
    {
     "data": {
      "text/html": [
       "<table>\n",
       "<thead><tr><th scope=col>og_larvalID</th><th scope=col>larvalID</th><th scope=col>Ucrit</th><th scope=col>SL</th><th scope=col>dam</th><th scope=col>sire</th><th scope=col>tank</th><th scope=col>date</th><th scope=col>Send.to.NJ</th><th scope=col>Group</th><th scope=col>Capture</th><th scope=col>gen_id</th></tr></thead>\n",
       "<tbody>\n",
       "</tbody>\n",
       "</table>\n"
      ],
      "text/latex": [
       "\\begin{tabular}{r|llllllllllll}\n",
       " og\\_larvalID & larvalID & Ucrit & SL & dam & sire & tank & date & Send.to.NJ & Group & Capture & gen\\_id\\\\\n",
       "\\hline\n",
       "\\end{tabular}\n"
      ],
      "text/markdown": [
       "\n",
       "| og_larvalID | larvalID | Ucrit | SL | dam | sire | tank | date | Send.to.NJ | Group | Capture | gen_id |\n",
       "|---|---|---|---|---|---|---|---|---|---|---|---|\n",
       "\n"
      ],
      "text/plain": [
       "     og_larvalID larvalID Ucrit SL dam sire tank date Send.to.NJ Group Capture\n",
       "     gen_id"
      ]
     },
     "metadata": {},
     "output_type": "display_data"
    }
   ],
   "source": [
    "(ForAngsd[is.na(Ucrit)])\n",
    "#fwrite(ForAngsd, \"~/ClownfishGWAS/data/APPC_sequencing/DNA/trimmed_reads/mapping/genotypes/angsd/Sample_Meta.txt\")"
   ]
  },
  {
   "cell_type": "code",
   "execution_count": 166,
   "id": "8a150f73",
   "metadata": {},
   "outputs": [
    {
     "data": {
      "text/html": [
       "<table>\n",
       "<thead><tr><th scope=col>og_larvalID</th><th scope=col>larvalID</th><th scope=col>Ucrit</th><th scope=col>SL</th><th scope=col>dam</th><th scope=col>sire</th><th scope=col>tank</th><th scope=col>date</th><th scope=col>Send.to.NJ</th><th scope=col>Group</th><th scope=col>Capture</th><th scope=col>gen_id</th></tr></thead>\n",
       "<tbody>\n",
       "\t<tr><td>16.11         </td><td>APPC1611      </td><td>8.13          </td><td>4.40          </td><td>D125          </td><td>S144          </td><td>C1:4          </td><td>6/19/19       </td><td>1             </td><td>1             </td><td>Pop01         </td><td>Pop01_APPC1611</td></tr>\n",
       "\t<tr><td>19.17         </td><td>APPC1917      </td><td>1.20          </td><td>4.35          </td><td>D85           </td><td>S173          </td><td>C2:2          </td><td>6/27/19       </td><td>1             </td><td>0             </td><td>Pop01         </td><td>Pop01_APPC1917</td></tr>\n",
       "\t<tr><td>19.21         </td><td>APPC1921      </td><td>7.33          </td><td>4.28          </td><td>D85           </td><td>S173          </td><td>C2:2          </td><td>6/27/19       </td><td>1             </td><td>1             </td><td>Pop01         </td><td>Pop01_APPC1921</td></tr>\n",
       "\t<tr><td>20.29         </td><td>APPC2029      </td><td>8.82          </td><td>4.25          </td><td>D70           </td><td>S98           </td><td>A3:1          </td><td>6/28/19       </td><td>1             </td><td>1             </td><td>Pop01         </td><td>Pop01_APPC2029</td></tr>\n",
       "\t<tr><td>20.30         </td><td>APPC2030      </td><td>7.32          </td><td>4.54          </td><td>D70           </td><td>S98           </td><td>A3:1          </td><td>6/28/19       </td><td>1             </td><td>1             </td><td>Pop01         </td><td>Pop01_APPC2030</td></tr>\n",
       "\t<tr><td>21.01         </td><td>APPC2101      </td><td>5.07          </td><td>3.94          </td><td>D269          </td><td>S94           </td><td>D1:2          </td><td>7/1/19        </td><td>1             </td><td>1             </td><td>Pop01         </td><td>Pop01_APPC2101</td></tr>\n",
       "\t<tr><td>22.15         </td><td>APPC2215      </td><td>6.33          </td><td>4.29          </td><td>D19           </td><td>S175          </td><td>A1:4          </td><td>7/2/19        </td><td>1             </td><td>1             </td><td>Pop01         </td><td>Pop01_APPC2215</td></tr>\n",
       "\t<tr><td>25.17         </td><td>APPC2517      </td><td>1.80          </td><td>4.36          </td><td>D18           </td><td>S111          </td><td>B1:1          </td><td>7/13/19       </td><td>1             </td><td>0             </td><td>Pop01         </td><td>Pop01_APPC2517</td></tr>\n",
       "\t<tr><td>28.17         </td><td>APPC2817      </td><td>0.30          </td><td>4.43          </td><td>D130          </td><td>S152          </td><td>D3:2          </td><td>7/16/19       </td><td>1             </td><td>0             </td><td>Pop01         </td><td>Pop01_APPC2817</td></tr>\n",
       "\t<tr><td>29.07         </td><td>APPC2907      </td><td>1.17          </td><td>4.35          </td><td>D31           </td><td>S79           </td><td>C1:1          </td><td>7/17/19       </td><td>1             </td><td>0             </td><td>Pop01         </td><td>Pop01_APPC2907</td></tr>\n",
       "\t<tr><td>10.06         </td><td>APPC1006      </td><td>2.00          </td><td>4.13          </td><td>D55           </td><td>S129          </td><td>D2:4          </td><td>6/7/19        </td><td>1             </td><td>0             </td><td>Pop02         </td><td>Pop02_APPC1006</td></tr>\n",
       "\t<tr><td>10.08         </td><td>APPC1008      </td><td>6.07          </td><td>4.34          </td><td>D55           </td><td>S129          </td><td>D2:4          </td><td>6/7/19        </td><td>1             </td><td>1             </td><td>Pop02         </td><td>Pop02_APPC1008</td></tr>\n",
       "\t<tr><td>10.12         </td><td>APPC1010      </td><td>6.22          </td><td>  NA          </td><td>D55           </td><td>S129          </td><td>D2:4          </td><td>6/7/19        </td><td>1             </td><td>1             </td><td>Pop02         </td><td>Pop02_APPC1010</td></tr>\n",
       "\t<tr><td>10.15         </td><td>APPC1015      </td><td>1.92          </td><td>4.25          </td><td>D55           </td><td>S129          </td><td>D2:4          </td><td>6/7/19        </td><td>1             </td><td>0             </td><td>Pop02         </td><td>Pop02_APPC1015</td></tr>\n",
       "\t<tr><td>30.10         </td><td>APPC3010      </td><td>7.40          </td><td>4.26          </td><td>D57           </td><td>S62           </td><td>B3:2          </td><td>7/18/19       </td><td>1             </td><td>1             </td><td>Pop02         </td><td>Pop02_APPC3010</td></tr>\n",
       "\t<tr><td>30.12         </td><td>APPC3012      </td><td>1.75          </td><td>4.35          </td><td>D57           </td><td>S62           </td><td>B3:2          </td><td>7/18/19       </td><td>1             </td><td>0             </td><td>Pop02         </td><td>Pop02_APPC3012</td></tr>\n",
       "\t<tr><td>31.07         </td><td>APPC3107      </td><td>0.13          </td><td>4.24          </td><td>D6            </td><td>S108          </td><td>A2:1          </td><td>7/26/19       </td><td>1             </td><td>0             </td><td>Pop02         </td><td>Pop02_APPC3107</td></tr>\n",
       "\t<tr><td>32.26         </td><td>APPC3226      </td><td>0.47          </td><td>4.14          </td><td>D5            </td><td>S137          </td><td>A1:5          </td><td>7/29/19       </td><td>1             </td><td>0             </td><td>Pop02         </td><td>Pop02_APPC3226</td></tr>\n",
       "\t<tr><td>37.18         </td><td>APPC3718      </td><td>2.25          </td><td>4.36          </td><td>D30           </td><td>S171          </td><td>A3:5          </td><td>8/14/19       </td><td>1             </td><td>0             </td><td>Pop02         </td><td>Pop02_APPC3718</td></tr>\n",
       "\t<tr><td>40.06         </td><td>APPC4006      </td><td>0.37          </td><td>4.48          </td><td>D13           </td><td>S103          </td><td>B3:3          </td><td>8/16/19       </td><td>1             </td><td>0             </td><td>Pop02         </td><td>Pop02_APPC4006</td></tr>\n",
       "\t<tr><td>11.10         </td><td>APPC1110      </td><td>6.50          </td><td>4.27          </td><td>D9            </td><td>S2            </td><td>A3:5          </td><td>6/10/19       </td><td>1             </td><td>1             </td><td>Pop03         </td><td>Pop03_APPC1110</td></tr>\n",
       "\t<tr><td>11.16         </td><td>APPC1116      </td><td>0.90          </td><td>4.33          </td><td>D9            </td><td>S2            </td><td>A3:5          </td><td>6/10/19       </td><td>1             </td><td>0             </td><td>Pop03         </td><td>Pop03_APPC1116</td></tr>\n",
       "\t<tr><td>11.19         </td><td>APPC1119      </td><td>1.28          </td><td>4.33          </td><td>D9            </td><td>S2            </td><td>A3:5          </td><td>6/10/19       </td><td>1             </td><td>0             </td><td>Pop03         </td><td>Pop03_APPC1119</td></tr>\n",
       "\t<tr><td>11.27         </td><td>APPC1127      </td><td>6.57          </td><td>4.37          </td><td>D9            </td><td>S2            </td><td>A3:5          </td><td>6/10/19       </td><td>1             </td><td>1             </td><td>Pop03         </td><td>Pop03_APPC1127</td></tr>\n",
       "\t<tr><td>12.18         </td><td>APPC1218      </td><td>0.42          </td><td>4.25          </td><td>D114          </td><td>S38           </td><td>B2:3          </td><td>6/11/19       </td><td>1             </td><td>0             </td><td>Pop03         </td><td>Pop03_APPC1218</td></tr>\n",
       "\t<tr><td>12.19         </td><td>APPC1219      </td><td>1.00          </td><td>4.27          </td><td>D114          </td><td>S38           </td><td>B2:3          </td><td>6/11/19       </td><td>1             </td><td>0             </td><td>Pop03         </td><td>Pop03_APPC1219</td></tr>\n",
       "\t<tr><td>12.22         </td><td>APPC1222      </td><td>9.22          </td><td>4.01          </td><td>D114          </td><td>S38           </td><td>B2:3          </td><td>6/11/19       </td><td>1             </td><td>1             </td><td>Pop03         </td><td>Pop03_APPC1222</td></tr>\n",
       "\t<tr><td>12.24         </td><td>APPC1224      </td><td>8.68          </td><td>4.19          </td><td>D114          </td><td>S38           </td><td>B2:3          </td><td>6/11/19       </td><td>1             </td><td>1             </td><td>Pop03         </td><td>Pop03_APPC1224</td></tr>\n",
       "\t<tr><td>13.18         </td><td>APPC1318      </td><td>0.30          </td><td>4.23          </td><td>D22           </td><td>S103          </td><td>B3:1          </td><td>6/12/19       </td><td>1             </td><td>0             </td><td>Pop03         </td><td>Pop03_APPC1318</td></tr>\n",
       "\t<tr><td>13.25         </td><td>APPC1325      </td><td>5.65          </td><td>4.11          </td><td>D22           </td><td>S103          </td><td>B3:1          </td><td>6/12/19       </td><td>1             </td><td>1             </td><td>Pop03         </td><td>Pop03_APPC1325</td></tr>\n",
       "\t<tr><td>...</td><td>...</td><td>...</td><td>...</td><td>...</td><td>...</td><td>...</td><td>...</td><td>...</td><td>...</td><td>...</td><td>...</td></tr>\n",
       "\t<tr><td>44.07         </td><td>APPC4407      </td><td>7.17          </td><td>4.09          </td><td>D55           </td><td>S129          </td><td>D2:5          </td><td>9/11/19       </td><td>1             </td><td>1             </td><td>Pop13         </td><td>Pop13_APPC4407</td></tr>\n",
       "\t<tr><td> 7.04         </td><td>APPC0704      </td><td>1.97          </td><td>4.13          </td><td>D33           </td><td>S202          </td><td>B1:5          </td><td>3-Jun-19      </td><td>1             </td><td>0             </td><td>Pop14         </td><td>Pop14_APPC0704</td></tr>\n",
       "\t<tr><td> 7.06         </td><td>APPC0706      </td><td>3.78          </td><td>4.19          </td><td>D33           </td><td>S202          </td><td>B1:5          </td><td>3-Jun-19      </td><td>1             </td><td>1             </td><td>Pop14         </td><td>Pop14_APPC0706</td></tr>\n",
       "\t<tr><td> 7.07         </td><td>APPC0707      </td><td>2.40          </td><td>  NA          </td><td>D33           </td><td>S202          </td><td>B1:5          </td><td>3-Jun-19      </td><td>1             </td><td>0             </td><td>Pop14         </td><td>Pop14_APPC0707</td></tr>\n",
       "\t<tr><td> 8.12         </td><td>APPC0812      </td><td>0.60          </td><td>4.56          </td><td>D13           </td><td>S165          </td><td>B3:3          </td><td>6/4/19        </td><td>1             </td><td>0             </td><td>Pop14         </td><td>Pop14_APPC0812</td></tr>\n",
       "\t<tr><td> 8.15         </td><td>APPC0815      </td><td>8.00          </td><td>4.52          </td><td>D13           </td><td>S165          </td><td>B3:3          </td><td>6/4/19        </td><td>1             </td><td>1             </td><td>Pop14         </td><td>Pop14_APPC0815</td></tr>\n",
       "\t<tr><td> 8.17         </td><td>APPC0817      </td><td>0.57          </td><td>4.19          </td><td>D13           </td><td>S165          </td><td>B3:3          </td><td>6/4/19        </td><td>1             </td><td>0             </td><td>Pop14         </td><td>Pop14_APPC0817</td></tr>\n",
       "\t<tr><td> 8.21         </td><td>APPC0821      </td><td>7.48          </td><td>4.42          </td><td>D13           </td><td>S165          </td><td>B3:3          </td><td>6/4/19        </td><td>1             </td><td>1             </td><td>Pop14         </td><td>Pop14_APPC0821</td></tr>\n",
       "\t<tr><td> 9.01         </td><td>APPC0901      </td><td>2.93          </td><td>4.28          </td><td>D26           </td><td>S142          </td><td>D3:1          </td><td>6/7/19        </td><td>1             </td><td>0             </td><td>Pop14         </td><td>Pop14_APPC0901</td></tr>\n",
       "\t<tr><td> 9.04         </td><td>APPC0904      </td><td>8.52          </td><td>3.92          </td><td>D26           </td><td>S142          </td><td>D3:1          </td><td>6/7/19        </td><td>1             </td><td>1             </td><td>Pop14         </td><td>Pop14_APPC0904</td></tr>\n",
       "\t<tr><td> 9.14         </td><td>APPC0914      </td><td>2.13          </td><td>4.55          </td><td>D26           </td><td>S142          </td><td>D3:1          </td><td>6/7/19        </td><td>1             </td><td>0             </td><td>Pop14         </td><td>Pop14_APPC0914</td></tr>\n",
       "\t<tr><td> 9.09         </td><td>APPC0909      </td><td>8.33          </td><td>  NA          </td><td>D26           </td><td>S142          </td><td>D3:1          </td><td>6/7/19        </td><td>1             </td><td>1             </td><td>Pop15         </td><td>Pop15_APPC0909</td></tr>\n",
       "\t<tr><td>15.02         </td><td>APPC1502      </td><td>2.25          </td><td>4.35          </td><td>D10           </td><td>S156          </td><td>B2:5          </td><td>6/17/19       </td><td>1             </td><td>0             </td><td>Pop15         </td><td>Pop15_APPC1502</td></tr>\n",
       "\t<tr><td>15.21         </td><td>APPC1521      </td><td>7.67          </td><td>4.27          </td><td>D10           </td><td>S156          </td><td>B2:5          </td><td>6/17/19       </td><td>1             </td><td>1             </td><td>Pop15         </td><td>Pop15_APPC1521</td></tr>\n",
       "\t<tr><td>15.22         </td><td>APPC1522      </td><td>8.68          </td><td>4.46          </td><td>D10           </td><td>S156          </td><td>B2:5          </td><td>6/17/19       </td><td>1             </td><td>1             </td><td>Pop15         </td><td>Pop15_APPC1522</td></tr>\n",
       "\t<tr><td>22.01         </td><td>APPC2201      </td><td>2.08          </td><td>4.31          </td><td>D19           </td><td>S175          </td><td>A1:4          </td><td>7/2/19        </td><td>1             </td><td>0             </td><td>Pop15         </td><td>Pop15_APPC2201</td></tr>\n",
       "\t<tr><td>22.12         </td><td>APPC2212      </td><td>6.70          </td><td>4.30          </td><td>D19           </td><td>S175          </td><td>A1:4          </td><td>7/2/19        </td><td>1             </td><td>1             </td><td>Pop15         </td><td>Pop15_APPC2212</td></tr>\n",
       "\t<tr><td>29.01         </td><td>APPC2901      </td><td>7.12          </td><td>4.22          </td><td>D31           </td><td>S79           </td><td>C1:1          </td><td>7/17/19       </td><td>1             </td><td>1             </td><td>Pop15         </td><td>Pop15_APPC2901</td></tr>\n",
       "\t<tr><td>29.14         </td><td>APPC2914      </td><td>0.55          </td><td>4.28          </td><td>D31           </td><td>S79           </td><td>C1:1          </td><td>7/17/19       </td><td>1             </td><td>0             </td><td>Pop15         </td><td>Pop15_APPC2914</td></tr>\n",
       "\t<tr><td>44.01         </td><td>APPC4401      </td><td>2.33          </td><td>  NA          </td><td>D55           </td><td>S129          </td><td>D2:5          </td><td>9/11/19       </td><td>1             </td><td>0             </td><td>Pop15         </td><td>Pop15_APPC4401</td></tr>\n",
       "\t<tr><td>44.13         </td><td>APPC4413      </td><td>2.28          </td><td>4.04          </td><td>D55           </td><td>S129          </td><td>D2:5          </td><td>9/11/19       </td><td>1             </td><td>0             </td><td>Pop15         </td><td>Pop15_APPC4413</td></tr>\n",
       "\t<tr><td>36.01         </td><td>APPC3601      </td><td>2.53          </td><td>4.31          </td><td>D61           </td><td>S2            </td><td>A1:2          </td><td>8/7/19        </td><td>1             </td><td>0             </td><td>Pop16         </td><td>Pop16_APPC3601</td></tr>\n",
       "\t<tr><td>36.12         </td><td>APPC3612      </td><td>6.22          </td><td>4.24          </td><td>D61           </td><td>S2            </td><td>A1:2          </td><td>8/7/19        </td><td>1             </td><td>1             </td><td>Pop16         </td><td>Pop16_APPC3612</td></tr>\n",
       "\t<tr><td>38.02         </td><td>APPC3802      </td><td>0.38          </td><td>4.18          </td><td>D14           </td><td>S174          </td><td>A3:4          </td><td>8/15/19       </td><td>1             </td><td>0             </td><td>Pop16         </td><td>Pop16_APPC3802</td></tr>\n",
       "\t<tr><td>38.28         </td><td>APPC3828      </td><td>6.88          </td><td>4.33          </td><td>D14           </td><td>S174          </td><td>A3:4          </td><td>8/15/19       </td><td>1             </td><td>1             </td><td>Pop16         </td><td>Pop16_APPC3828</td></tr>\n",
       "\t<tr><td>41.02         </td><td>APPC4102      </td><td>0.23          </td><td>4.15          </td><td>D9            </td><td>S97           </td><td>A2:4          </td><td>8/18/19       </td><td>1             </td><td>0             </td><td>Pop16         </td><td>Pop16_APPC4102</td></tr>\n",
       "\t<tr><td>41.28         </td><td>APPC4128      </td><td>7.30          </td><td>4.15          </td><td>D9            </td><td>S97           </td><td>A2:4          </td><td>8/18/19       </td><td>1             </td><td>1             </td><td>Pop16         </td><td>Pop16_APPC4128</td></tr>\n",
       "\t<tr><td>42.01         </td><td>APPC4201      </td><td>0.23          </td><td>4.06          </td><td>D29           </td><td>S122          </td><td>C3:2          </td><td>8/19/19       </td><td>1             </td><td>0             </td><td>Pop16         </td><td>Pop16_APPC4201</td></tr>\n",
       "\t<tr><td>42.11         </td><td>APPC4211      </td><td>7.45          </td><td>4.33          </td><td>D29           </td><td>S122          </td><td>C3:2          </td><td>8/19/19       </td><td>1             </td><td>1             </td><td>Pop16         </td><td>Pop16_APPC4211</td></tr>\n",
       "\t<tr><td>42.15         </td><td>APPC4215      </td><td>6.60          </td><td>4.19          </td><td>D29           </td><td>S122          </td><td>C3:2          </td><td>8/19/19       </td><td>1             </td><td>1             </td><td>Pop16         </td><td>Pop16_APPC4215</td></tr>\n",
       "</tbody>\n",
       "</table>\n"
      ],
      "text/latex": [
       "\\begin{tabular}{r|llllllllllll}\n",
       " og\\_larvalID & larvalID & Ucrit & SL & dam & sire & tank & date & Send.to.NJ & Group & Capture & gen\\_id\\\\\n",
       "\\hline\n",
       "\t 16.11            & APPC1611         & 8.13             & 4.40             & D125             & S144             & C1:4             & 6/19/19          & 1                & 1                & Pop01            & Pop01\\_APPC1611\\\\\n",
       "\t 19.17            & APPC1917         & 1.20             & 4.35             & D85              & S173             & C2:2             & 6/27/19          & 1                & 0                & Pop01            & Pop01\\_APPC1917\\\\\n",
       "\t 19.21            & APPC1921         & 7.33             & 4.28             & D85              & S173             & C2:2             & 6/27/19          & 1                & 1                & Pop01            & Pop01\\_APPC1921\\\\\n",
       "\t 20.29            & APPC2029         & 8.82             & 4.25             & D70              & S98              & A3:1             & 6/28/19          & 1                & 1                & Pop01            & Pop01\\_APPC2029\\\\\n",
       "\t 20.30            & APPC2030         & 7.32             & 4.54             & D70              & S98              & A3:1             & 6/28/19          & 1                & 1                & Pop01            & Pop01\\_APPC2030\\\\\n",
       "\t 21.01            & APPC2101         & 5.07             & 3.94             & D269             & S94              & D1:2             & 7/1/19           & 1                & 1                & Pop01            & Pop01\\_APPC2101\\\\\n",
       "\t 22.15            & APPC2215         & 6.33             & 4.29             & D19              & S175             & A1:4             & 7/2/19           & 1                & 1                & Pop01            & Pop01\\_APPC2215\\\\\n",
       "\t 25.17            & APPC2517         & 1.80             & 4.36             & D18              & S111             & B1:1             & 7/13/19          & 1                & 0                & Pop01            & Pop01\\_APPC2517\\\\\n",
       "\t 28.17            & APPC2817         & 0.30             & 4.43             & D130             & S152             & D3:2             & 7/16/19          & 1                & 0                & Pop01            & Pop01\\_APPC2817\\\\\n",
       "\t 29.07            & APPC2907         & 1.17             & 4.35             & D31              & S79              & C1:1             & 7/17/19          & 1                & 0                & Pop01            & Pop01\\_APPC2907\\\\\n",
       "\t 10.06            & APPC1006         & 2.00             & 4.13             & D55              & S129             & D2:4             & 6/7/19           & 1                & 0                & Pop02            & Pop02\\_APPC1006\\\\\n",
       "\t 10.08            & APPC1008         & 6.07             & 4.34             & D55              & S129             & D2:4             & 6/7/19           & 1                & 1                & Pop02            & Pop02\\_APPC1008\\\\\n",
       "\t 10.12            & APPC1010         & 6.22             &   NA             & D55              & S129             & D2:4             & 6/7/19           & 1                & 1                & Pop02            & Pop02\\_APPC1010\\\\\n",
       "\t 10.15            & APPC1015         & 1.92             & 4.25             & D55              & S129             & D2:4             & 6/7/19           & 1                & 0                & Pop02            & Pop02\\_APPC1015\\\\\n",
       "\t 30.10            & APPC3010         & 7.40             & 4.26             & D57              & S62              & B3:2             & 7/18/19          & 1                & 1                & Pop02            & Pop02\\_APPC3010\\\\\n",
       "\t 30.12            & APPC3012         & 1.75             & 4.35             & D57              & S62              & B3:2             & 7/18/19          & 1                & 0                & Pop02            & Pop02\\_APPC3012\\\\\n",
       "\t 31.07            & APPC3107         & 0.13             & 4.24             & D6               & S108             & A2:1             & 7/26/19          & 1                & 0                & Pop02            & Pop02\\_APPC3107\\\\\n",
       "\t 32.26            & APPC3226         & 0.47             & 4.14             & D5               & S137             & A1:5             & 7/29/19          & 1                & 0                & Pop02            & Pop02\\_APPC3226\\\\\n",
       "\t 37.18            & APPC3718         & 2.25             & 4.36             & D30              & S171             & A3:5             & 8/14/19          & 1                & 0                & Pop02            & Pop02\\_APPC3718\\\\\n",
       "\t 40.06            & APPC4006         & 0.37             & 4.48             & D13              & S103             & B3:3             & 8/16/19          & 1                & 0                & Pop02            & Pop02\\_APPC4006\\\\\n",
       "\t 11.10            & APPC1110         & 6.50             & 4.27             & D9               & S2               & A3:5             & 6/10/19          & 1                & 1                & Pop03            & Pop03\\_APPC1110\\\\\n",
       "\t 11.16            & APPC1116         & 0.90             & 4.33             & D9               & S2               & A3:5             & 6/10/19          & 1                & 0                & Pop03            & Pop03\\_APPC1116\\\\\n",
       "\t 11.19            & APPC1119         & 1.28             & 4.33             & D9               & S2               & A3:5             & 6/10/19          & 1                & 0                & Pop03            & Pop03\\_APPC1119\\\\\n",
       "\t 11.27            & APPC1127         & 6.57             & 4.37             & D9               & S2               & A3:5             & 6/10/19          & 1                & 1                & Pop03            & Pop03\\_APPC1127\\\\\n",
       "\t 12.18            & APPC1218         & 0.42             & 4.25             & D114             & S38              & B2:3             & 6/11/19          & 1                & 0                & Pop03            & Pop03\\_APPC1218\\\\\n",
       "\t 12.19            & APPC1219         & 1.00             & 4.27             & D114             & S38              & B2:3             & 6/11/19          & 1                & 0                & Pop03            & Pop03\\_APPC1219\\\\\n",
       "\t 12.22            & APPC1222         & 9.22             & 4.01             & D114             & S38              & B2:3             & 6/11/19          & 1                & 1                & Pop03            & Pop03\\_APPC1222\\\\\n",
       "\t 12.24            & APPC1224         & 8.68             & 4.19             & D114             & S38              & B2:3             & 6/11/19          & 1                & 1                & Pop03            & Pop03\\_APPC1224\\\\\n",
       "\t 13.18            & APPC1318         & 0.30             & 4.23             & D22              & S103             & B3:1             & 6/12/19          & 1                & 0                & Pop03            & Pop03\\_APPC1318\\\\\n",
       "\t 13.25            & APPC1325         & 5.65             & 4.11             & D22              & S103             & B3:1             & 6/12/19          & 1                & 1                & Pop03            & Pop03\\_APPC1325\\\\\n",
       "\t ... & ... & ... & ... & ... & ... & ... & ... & ... & ... & ... & ...\\\\\n",
       "\t 44.07            & APPC4407         & 7.17             & 4.09             & D55              & S129             & D2:5             & 9/11/19          & 1                & 1                & Pop13            & Pop13\\_APPC4407\\\\\n",
       "\t  7.04            & APPC0704         & 1.97             & 4.13             & D33              & S202             & B1:5             & 3-Jun-19         & 1                & 0                & Pop14            & Pop14\\_APPC0704\\\\\n",
       "\t  7.06            & APPC0706         & 3.78             & 4.19             & D33              & S202             & B1:5             & 3-Jun-19         & 1                & 1                & Pop14            & Pop14\\_APPC0706\\\\\n",
       "\t  7.07            & APPC0707         & 2.40             &   NA             & D33              & S202             & B1:5             & 3-Jun-19         & 1                & 0                & Pop14            & Pop14\\_APPC0707\\\\\n",
       "\t  8.12            & APPC0812         & 0.60             & 4.56             & D13              & S165             & B3:3             & 6/4/19           & 1                & 0                & Pop14            & Pop14\\_APPC0812\\\\\n",
       "\t  8.15            & APPC0815         & 8.00             & 4.52             & D13              & S165             & B3:3             & 6/4/19           & 1                & 1                & Pop14            & Pop14\\_APPC0815\\\\\n",
       "\t  8.17            & APPC0817         & 0.57             & 4.19             & D13              & S165             & B3:3             & 6/4/19           & 1                & 0                & Pop14            & Pop14\\_APPC0817\\\\\n",
       "\t  8.21            & APPC0821         & 7.48             & 4.42             & D13              & S165             & B3:3             & 6/4/19           & 1                & 1                & Pop14            & Pop14\\_APPC0821\\\\\n",
       "\t  9.01            & APPC0901         & 2.93             & 4.28             & D26              & S142             & D3:1             & 6/7/19           & 1                & 0                & Pop14            & Pop14\\_APPC0901\\\\\n",
       "\t  9.04            & APPC0904         & 8.52             & 3.92             & D26              & S142             & D3:1             & 6/7/19           & 1                & 1                & Pop14            & Pop14\\_APPC0904\\\\\n",
       "\t  9.14            & APPC0914         & 2.13             & 4.55             & D26              & S142             & D3:1             & 6/7/19           & 1                & 0                & Pop14            & Pop14\\_APPC0914\\\\\n",
       "\t  9.09            & APPC0909         & 8.33             &   NA             & D26              & S142             & D3:1             & 6/7/19           & 1                & 1                & Pop15            & Pop15\\_APPC0909\\\\\n",
       "\t 15.02            & APPC1502         & 2.25             & 4.35             & D10              & S156             & B2:5             & 6/17/19          & 1                & 0                & Pop15            & Pop15\\_APPC1502\\\\\n",
       "\t 15.21            & APPC1521         & 7.67             & 4.27             & D10              & S156             & B2:5             & 6/17/19          & 1                & 1                & Pop15            & Pop15\\_APPC1521\\\\\n",
       "\t 15.22            & APPC1522         & 8.68             & 4.46             & D10              & S156             & B2:5             & 6/17/19          & 1                & 1                & Pop15            & Pop15\\_APPC1522\\\\\n",
       "\t 22.01            & APPC2201         & 2.08             & 4.31             & D19              & S175             & A1:4             & 7/2/19           & 1                & 0                & Pop15            & Pop15\\_APPC2201\\\\\n",
       "\t 22.12            & APPC2212         & 6.70             & 4.30             & D19              & S175             & A1:4             & 7/2/19           & 1                & 1                & Pop15            & Pop15\\_APPC2212\\\\\n",
       "\t 29.01            & APPC2901         & 7.12             & 4.22             & D31              & S79              & C1:1             & 7/17/19          & 1                & 1                & Pop15            & Pop15\\_APPC2901\\\\\n",
       "\t 29.14            & APPC2914         & 0.55             & 4.28             & D31              & S79              & C1:1             & 7/17/19          & 1                & 0                & Pop15            & Pop15\\_APPC2914\\\\\n",
       "\t 44.01            & APPC4401         & 2.33             &   NA             & D55              & S129             & D2:5             & 9/11/19          & 1                & 0                & Pop15            & Pop15\\_APPC4401\\\\\n",
       "\t 44.13            & APPC4413         & 2.28             & 4.04             & D55              & S129             & D2:5             & 9/11/19          & 1                & 0                & Pop15            & Pop15\\_APPC4413\\\\\n",
       "\t 36.01            & APPC3601         & 2.53             & 4.31             & D61              & S2               & A1:2             & 8/7/19           & 1                & 0                & Pop16            & Pop16\\_APPC3601\\\\\n",
       "\t 36.12            & APPC3612         & 6.22             & 4.24             & D61              & S2               & A1:2             & 8/7/19           & 1                & 1                & Pop16            & Pop16\\_APPC3612\\\\\n",
       "\t 38.02            & APPC3802         & 0.38             & 4.18             & D14              & S174             & A3:4             & 8/15/19          & 1                & 0                & Pop16            & Pop16\\_APPC3802\\\\\n",
       "\t 38.28            & APPC3828         & 6.88             & 4.33             & D14              & S174             & A3:4             & 8/15/19          & 1                & 1                & Pop16            & Pop16\\_APPC3828\\\\\n",
       "\t 41.02            & APPC4102         & 0.23             & 4.15             & D9               & S97              & A2:4             & 8/18/19          & 1                & 0                & Pop16            & Pop16\\_APPC4102\\\\\n",
       "\t 41.28            & APPC4128         & 7.30             & 4.15             & D9               & S97              & A2:4             & 8/18/19          & 1                & 1                & Pop16            & Pop16\\_APPC4128\\\\\n",
       "\t 42.01            & APPC4201         & 0.23             & 4.06             & D29              & S122             & C3:2             & 8/19/19          & 1                & 0                & Pop16            & Pop16\\_APPC4201\\\\\n",
       "\t 42.11            & APPC4211         & 7.45             & 4.33             & D29              & S122             & C3:2             & 8/19/19          & 1                & 1                & Pop16            & Pop16\\_APPC4211\\\\\n",
       "\t 42.15            & APPC4215         & 6.60             & 4.19             & D29              & S122             & C3:2             & 8/19/19          & 1                & 1                & Pop16            & Pop16\\_APPC4215\\\\\n",
       "\\end{tabular}\n"
      ],
      "text/markdown": [
       "\n",
       "| og_larvalID | larvalID | Ucrit | SL | dam | sire | tank | date | Send.to.NJ | Group | Capture | gen_id |\n",
       "|---|---|---|---|---|---|---|---|---|---|---|---|\n",
       "| 16.11          | APPC1611       | 8.13           | 4.40           | D125           | S144           | C1:4           | 6/19/19        | 1              | 1              | Pop01          | Pop01_APPC1611 |\n",
       "| 19.17          | APPC1917       | 1.20           | 4.35           | D85            | S173           | C2:2           | 6/27/19        | 1              | 0              | Pop01          | Pop01_APPC1917 |\n",
       "| 19.21          | APPC1921       | 7.33           | 4.28           | D85            | S173           | C2:2           | 6/27/19        | 1              | 1              | Pop01          | Pop01_APPC1921 |\n",
       "| 20.29          | APPC2029       | 8.82           | 4.25           | D70            | S98            | A3:1           | 6/28/19        | 1              | 1              | Pop01          | Pop01_APPC2029 |\n",
       "| 20.30          | APPC2030       | 7.32           | 4.54           | D70            | S98            | A3:1           | 6/28/19        | 1              | 1              | Pop01          | Pop01_APPC2030 |\n",
       "| 21.01          | APPC2101       | 5.07           | 3.94           | D269           | S94            | D1:2           | 7/1/19         | 1              | 1              | Pop01          | Pop01_APPC2101 |\n",
       "| 22.15          | APPC2215       | 6.33           | 4.29           | D19            | S175           | A1:4           | 7/2/19         | 1              | 1              | Pop01          | Pop01_APPC2215 |\n",
       "| 25.17          | APPC2517       | 1.80           | 4.36           | D18            | S111           | B1:1           | 7/13/19        | 1              | 0              | Pop01          | Pop01_APPC2517 |\n",
       "| 28.17          | APPC2817       | 0.30           | 4.43           | D130           | S152           | D3:2           | 7/16/19        | 1              | 0              | Pop01          | Pop01_APPC2817 |\n",
       "| 29.07          | APPC2907       | 1.17           | 4.35           | D31            | S79            | C1:1           | 7/17/19        | 1              | 0              | Pop01          | Pop01_APPC2907 |\n",
       "| 10.06          | APPC1006       | 2.00           | 4.13           | D55            | S129           | D2:4           | 6/7/19         | 1              | 0              | Pop02          | Pop02_APPC1006 |\n",
       "| 10.08          | APPC1008       | 6.07           | 4.34           | D55            | S129           | D2:4           | 6/7/19         | 1              | 1              | Pop02          | Pop02_APPC1008 |\n",
       "| 10.12          | APPC1010       | 6.22           |   NA           | D55            | S129           | D2:4           | 6/7/19         | 1              | 1              | Pop02          | Pop02_APPC1010 |\n",
       "| 10.15          | APPC1015       | 1.92           | 4.25           | D55            | S129           | D2:4           | 6/7/19         | 1              | 0              | Pop02          | Pop02_APPC1015 |\n",
       "| 30.10          | APPC3010       | 7.40           | 4.26           | D57            | S62            | B3:2           | 7/18/19        | 1              | 1              | Pop02          | Pop02_APPC3010 |\n",
       "| 30.12          | APPC3012       | 1.75           | 4.35           | D57            | S62            | B3:2           | 7/18/19        | 1              | 0              | Pop02          | Pop02_APPC3012 |\n",
       "| 31.07          | APPC3107       | 0.13           | 4.24           | D6             | S108           | A2:1           | 7/26/19        | 1              | 0              | Pop02          | Pop02_APPC3107 |\n",
       "| 32.26          | APPC3226       | 0.47           | 4.14           | D5             | S137           | A1:5           | 7/29/19        | 1              | 0              | Pop02          | Pop02_APPC3226 |\n",
       "| 37.18          | APPC3718       | 2.25           | 4.36           | D30            | S171           | A3:5           | 8/14/19        | 1              | 0              | Pop02          | Pop02_APPC3718 |\n",
       "| 40.06          | APPC4006       | 0.37           | 4.48           | D13            | S103           | B3:3           | 8/16/19        | 1              | 0              | Pop02          | Pop02_APPC4006 |\n",
       "| 11.10          | APPC1110       | 6.50           | 4.27           | D9             | S2             | A3:5           | 6/10/19        | 1              | 1              | Pop03          | Pop03_APPC1110 |\n",
       "| 11.16          | APPC1116       | 0.90           | 4.33           | D9             | S2             | A3:5           | 6/10/19        | 1              | 0              | Pop03          | Pop03_APPC1116 |\n",
       "| 11.19          | APPC1119       | 1.28           | 4.33           | D9             | S2             | A3:5           | 6/10/19        | 1              | 0              | Pop03          | Pop03_APPC1119 |\n",
       "| 11.27          | APPC1127       | 6.57           | 4.37           | D9             | S2             | A3:5           | 6/10/19        | 1              | 1              | Pop03          | Pop03_APPC1127 |\n",
       "| 12.18          | APPC1218       | 0.42           | 4.25           | D114           | S38            | B2:3           | 6/11/19        | 1              | 0              | Pop03          | Pop03_APPC1218 |\n",
       "| 12.19          | APPC1219       | 1.00           | 4.27           | D114           | S38            | B2:3           | 6/11/19        | 1              | 0              | Pop03          | Pop03_APPC1219 |\n",
       "| 12.22          | APPC1222       | 9.22           | 4.01           | D114           | S38            | B2:3           | 6/11/19        | 1              | 1              | Pop03          | Pop03_APPC1222 |\n",
       "| 12.24          | APPC1224       | 8.68           | 4.19           | D114           | S38            | B2:3           | 6/11/19        | 1              | 1              | Pop03          | Pop03_APPC1224 |\n",
       "| 13.18          | APPC1318       | 0.30           | 4.23           | D22            | S103           | B3:1           | 6/12/19        | 1              | 0              | Pop03          | Pop03_APPC1318 |\n",
       "| 13.25          | APPC1325       | 5.65           | 4.11           | D22            | S103           | B3:1           | 6/12/19        | 1              | 1              | Pop03          | Pop03_APPC1325 |\n",
       "| ... | ... | ... | ... | ... | ... | ... | ... | ... | ... | ... | ... |\n",
       "| 44.07          | APPC4407       | 7.17           | 4.09           | D55            | S129           | D2:5           | 9/11/19        | 1              | 1              | Pop13          | Pop13_APPC4407 |\n",
       "|  7.04          | APPC0704       | 1.97           | 4.13           | D33            | S202           | B1:5           | 3-Jun-19       | 1              | 0              | Pop14          | Pop14_APPC0704 |\n",
       "|  7.06          | APPC0706       | 3.78           | 4.19           | D33            | S202           | B1:5           | 3-Jun-19       | 1              | 1              | Pop14          | Pop14_APPC0706 |\n",
       "|  7.07          | APPC0707       | 2.40           |   NA           | D33            | S202           | B1:5           | 3-Jun-19       | 1              | 0              | Pop14          | Pop14_APPC0707 |\n",
       "|  8.12          | APPC0812       | 0.60           | 4.56           | D13            | S165           | B3:3           | 6/4/19         | 1              | 0              | Pop14          | Pop14_APPC0812 |\n",
       "|  8.15          | APPC0815       | 8.00           | 4.52           | D13            | S165           | B3:3           | 6/4/19         | 1              | 1              | Pop14          | Pop14_APPC0815 |\n",
       "|  8.17          | APPC0817       | 0.57           | 4.19           | D13            | S165           | B3:3           | 6/4/19         | 1              | 0              | Pop14          | Pop14_APPC0817 |\n",
       "|  8.21          | APPC0821       | 7.48           | 4.42           | D13            | S165           | B3:3           | 6/4/19         | 1              | 1              | Pop14          | Pop14_APPC0821 |\n",
       "|  9.01          | APPC0901       | 2.93           | 4.28           | D26            | S142           | D3:1           | 6/7/19         | 1              | 0              | Pop14          | Pop14_APPC0901 |\n",
       "|  9.04          | APPC0904       | 8.52           | 3.92           | D26            | S142           | D3:1           | 6/7/19         | 1              | 1              | Pop14          | Pop14_APPC0904 |\n",
       "|  9.14          | APPC0914       | 2.13           | 4.55           | D26            | S142           | D3:1           | 6/7/19         | 1              | 0              | Pop14          | Pop14_APPC0914 |\n",
       "|  9.09          | APPC0909       | 8.33           |   NA           | D26            | S142           | D3:1           | 6/7/19         | 1              | 1              | Pop15          | Pop15_APPC0909 |\n",
       "| 15.02          | APPC1502       | 2.25           | 4.35           | D10            | S156           | B2:5           | 6/17/19        | 1              | 0              | Pop15          | Pop15_APPC1502 |\n",
       "| 15.21          | APPC1521       | 7.67           | 4.27           | D10            | S156           | B2:5           | 6/17/19        | 1              | 1              | Pop15          | Pop15_APPC1521 |\n",
       "| 15.22          | APPC1522       | 8.68           | 4.46           | D10            | S156           | B2:5           | 6/17/19        | 1              | 1              | Pop15          | Pop15_APPC1522 |\n",
       "| 22.01          | APPC2201       | 2.08           | 4.31           | D19            | S175           | A1:4           | 7/2/19         | 1              | 0              | Pop15          | Pop15_APPC2201 |\n",
       "| 22.12          | APPC2212       | 6.70           | 4.30           | D19            | S175           | A1:4           | 7/2/19         | 1              | 1              | Pop15          | Pop15_APPC2212 |\n",
       "| 29.01          | APPC2901       | 7.12           | 4.22           | D31            | S79            | C1:1           | 7/17/19        | 1              | 1              | Pop15          | Pop15_APPC2901 |\n",
       "| 29.14          | APPC2914       | 0.55           | 4.28           | D31            | S79            | C1:1           | 7/17/19        | 1              | 0              | Pop15          | Pop15_APPC2914 |\n",
       "| 44.01          | APPC4401       | 2.33           |   NA           | D55            | S129           | D2:5           | 9/11/19        | 1              | 0              | Pop15          | Pop15_APPC4401 |\n",
       "| 44.13          | APPC4413       | 2.28           | 4.04           | D55            | S129           | D2:5           | 9/11/19        | 1              | 0              | Pop15          | Pop15_APPC4413 |\n",
       "| 36.01          | APPC3601       | 2.53           | 4.31           | D61            | S2             | A1:2           | 8/7/19         | 1              | 0              | Pop16          | Pop16_APPC3601 |\n",
       "| 36.12          | APPC3612       | 6.22           | 4.24           | D61            | S2             | A1:2           | 8/7/19         | 1              | 1              | Pop16          | Pop16_APPC3612 |\n",
       "| 38.02          | APPC3802       | 0.38           | 4.18           | D14            | S174           | A3:4           | 8/15/19        | 1              | 0              | Pop16          | Pop16_APPC3802 |\n",
       "| 38.28          | APPC3828       | 6.88           | 4.33           | D14            | S174           | A3:4           | 8/15/19        | 1              | 1              | Pop16          | Pop16_APPC3828 |\n",
       "| 41.02          | APPC4102       | 0.23           | 4.15           | D9             | S97            | A2:4           | 8/18/19        | 1              | 0              | Pop16          | Pop16_APPC4102 |\n",
       "| 41.28          | APPC4128       | 7.30           | 4.15           | D9             | S97            | A2:4           | 8/18/19        | 1              | 1              | Pop16          | Pop16_APPC4128 |\n",
       "| 42.01          | APPC4201       | 0.23           | 4.06           | D29            | S122           | C3:2           | 8/19/19        | 1              | 0              | Pop16          | Pop16_APPC4201 |\n",
       "| 42.11          | APPC4211       | 7.45           | 4.33           | D29            | S122           | C3:2           | 8/19/19        | 1              | 1              | Pop16          | Pop16_APPC4211 |\n",
       "| 42.15          | APPC4215       | 6.60           | 4.19           | D29            | S122           | C3:2           | 8/19/19        | 1              | 1              | Pop16          | Pop16_APPC4215 |\n",
       "\n"
      ],
      "text/plain": [
       "    og_larvalID larvalID Ucrit SL   dam  sire tank date     Send.to.NJ Group\n",
       "1   16.11       APPC1611 8.13  4.40 D125 S144 C1:4 6/19/19  1          1    \n",
       "2   19.17       APPC1917 1.20  4.35 D85  S173 C2:2 6/27/19  1          0    \n",
       "3   19.21       APPC1921 7.33  4.28 D85  S173 C2:2 6/27/19  1          1    \n",
       "4   20.29       APPC2029 8.82  4.25 D70  S98  A3:1 6/28/19  1          1    \n",
       "5   20.30       APPC2030 7.32  4.54 D70  S98  A3:1 6/28/19  1          1    \n",
       "6   21.01       APPC2101 5.07  3.94 D269 S94  D1:2 7/1/19   1          1    \n",
       "7   22.15       APPC2215 6.33  4.29 D19  S175 A1:4 7/2/19   1          1    \n",
       "8   25.17       APPC2517 1.80  4.36 D18  S111 B1:1 7/13/19  1          0    \n",
       "9   28.17       APPC2817 0.30  4.43 D130 S152 D3:2 7/16/19  1          0    \n",
       "10  29.07       APPC2907 1.17  4.35 D31  S79  C1:1 7/17/19  1          0    \n",
       "11  10.06       APPC1006 2.00  4.13 D55  S129 D2:4 6/7/19   1          0    \n",
       "12  10.08       APPC1008 6.07  4.34 D55  S129 D2:4 6/7/19   1          1    \n",
       "13  10.12       APPC1010 6.22    NA D55  S129 D2:4 6/7/19   1          1    \n",
       "14  10.15       APPC1015 1.92  4.25 D55  S129 D2:4 6/7/19   1          0    \n",
       "15  30.10       APPC3010 7.40  4.26 D57  S62  B3:2 7/18/19  1          1    \n",
       "16  30.12       APPC3012 1.75  4.35 D57  S62  B3:2 7/18/19  1          0    \n",
       "17  31.07       APPC3107 0.13  4.24 D6   S108 A2:1 7/26/19  1          0    \n",
       "18  32.26       APPC3226 0.47  4.14 D5   S137 A1:5 7/29/19  1          0    \n",
       "19  37.18       APPC3718 2.25  4.36 D30  S171 A3:5 8/14/19  1          0    \n",
       "20  40.06       APPC4006 0.37  4.48 D13  S103 B3:3 8/16/19  1          0    \n",
       "21  11.10       APPC1110 6.50  4.27 D9   S2   A3:5 6/10/19  1          1    \n",
       "22  11.16       APPC1116 0.90  4.33 D9   S2   A3:5 6/10/19  1          0    \n",
       "23  11.19       APPC1119 1.28  4.33 D9   S2   A3:5 6/10/19  1          0    \n",
       "24  11.27       APPC1127 6.57  4.37 D9   S2   A3:5 6/10/19  1          1    \n",
       "25  12.18       APPC1218 0.42  4.25 D114 S38  B2:3 6/11/19  1          0    \n",
       "26  12.19       APPC1219 1.00  4.27 D114 S38  B2:3 6/11/19  1          0    \n",
       "27  12.22       APPC1222 9.22  4.01 D114 S38  B2:3 6/11/19  1          1    \n",
       "28  12.24       APPC1224 8.68  4.19 D114 S38  B2:3 6/11/19  1          1    \n",
       "29  13.18       APPC1318 0.30  4.23 D22  S103 B3:1 6/12/19  1          0    \n",
       "30  13.25       APPC1325 5.65  4.11 D22  S103 B3:1 6/12/19  1          1    \n",
       "... ...         ...      ...   ...  ...  ...  ...  ...      ...        ...  \n",
       "130 44.07       APPC4407 7.17  4.09 D55  S129 D2:5 9/11/19  1          1    \n",
       "131  7.04       APPC0704 1.97  4.13 D33  S202 B1:5 3-Jun-19 1          0    \n",
       "132  7.06       APPC0706 3.78  4.19 D33  S202 B1:5 3-Jun-19 1          1    \n",
       "133  7.07       APPC0707 2.40    NA D33  S202 B1:5 3-Jun-19 1          0    \n",
       "134  8.12       APPC0812 0.60  4.56 D13  S165 B3:3 6/4/19   1          0    \n",
       "135  8.15       APPC0815 8.00  4.52 D13  S165 B3:3 6/4/19   1          1    \n",
       "136  8.17       APPC0817 0.57  4.19 D13  S165 B3:3 6/4/19   1          0    \n",
       "137  8.21       APPC0821 7.48  4.42 D13  S165 B3:3 6/4/19   1          1    \n",
       "138  9.01       APPC0901 2.93  4.28 D26  S142 D3:1 6/7/19   1          0    \n",
       "139  9.04       APPC0904 8.52  3.92 D26  S142 D3:1 6/7/19   1          1    \n",
       "140  9.14       APPC0914 2.13  4.55 D26  S142 D3:1 6/7/19   1          0    \n",
       "141  9.09       APPC0909 8.33    NA D26  S142 D3:1 6/7/19   1          1    \n",
       "142 15.02       APPC1502 2.25  4.35 D10  S156 B2:5 6/17/19  1          0    \n",
       "143 15.21       APPC1521 7.67  4.27 D10  S156 B2:5 6/17/19  1          1    \n",
       "144 15.22       APPC1522 8.68  4.46 D10  S156 B2:5 6/17/19  1          1    \n",
       "145 22.01       APPC2201 2.08  4.31 D19  S175 A1:4 7/2/19   1          0    \n",
       "146 22.12       APPC2212 6.70  4.30 D19  S175 A1:4 7/2/19   1          1    \n",
       "147 29.01       APPC2901 7.12  4.22 D31  S79  C1:1 7/17/19  1          1    \n",
       "148 29.14       APPC2914 0.55  4.28 D31  S79  C1:1 7/17/19  1          0    \n",
       "149 44.01       APPC4401 2.33    NA D55  S129 D2:5 9/11/19  1          0    \n",
       "150 44.13       APPC4413 2.28  4.04 D55  S129 D2:5 9/11/19  1          0    \n",
       "151 36.01       APPC3601 2.53  4.31 D61  S2   A1:2 8/7/19   1          0    \n",
       "152 36.12       APPC3612 6.22  4.24 D61  S2   A1:2 8/7/19   1          1    \n",
       "153 38.02       APPC3802 0.38  4.18 D14  S174 A3:4 8/15/19  1          0    \n",
       "154 38.28       APPC3828 6.88  4.33 D14  S174 A3:4 8/15/19  1          1    \n",
       "155 41.02       APPC4102 0.23  4.15 D9   S97  A2:4 8/18/19  1          0    \n",
       "156 41.28       APPC4128 7.30  4.15 D9   S97  A2:4 8/18/19  1          1    \n",
       "157 42.01       APPC4201 0.23  4.06 D29  S122 C3:2 8/19/19  1          0    \n",
       "158 42.11       APPC4211 7.45  4.33 D29  S122 C3:2 8/19/19  1          1    \n",
       "159 42.15       APPC4215 6.60  4.19 D29  S122 C3:2 8/19/19  1          1    \n",
       "    Capture gen_id        \n",
       "1   Pop01   Pop01_APPC1611\n",
       "2   Pop01   Pop01_APPC1917\n",
       "3   Pop01   Pop01_APPC1921\n",
       "4   Pop01   Pop01_APPC2029\n",
       "5   Pop01   Pop01_APPC2030\n",
       "6   Pop01   Pop01_APPC2101\n",
       "7   Pop01   Pop01_APPC2215\n",
       "8   Pop01   Pop01_APPC2517\n",
       "9   Pop01   Pop01_APPC2817\n",
       "10  Pop01   Pop01_APPC2907\n",
       "11  Pop02   Pop02_APPC1006\n",
       "12  Pop02   Pop02_APPC1008\n",
       "13  Pop02   Pop02_APPC1010\n",
       "14  Pop02   Pop02_APPC1015\n",
       "15  Pop02   Pop02_APPC3010\n",
       "16  Pop02   Pop02_APPC3012\n",
       "17  Pop02   Pop02_APPC3107\n",
       "18  Pop02   Pop02_APPC3226\n",
       "19  Pop02   Pop02_APPC3718\n",
       "20  Pop02   Pop02_APPC4006\n",
       "21  Pop03   Pop03_APPC1110\n",
       "22  Pop03   Pop03_APPC1116\n",
       "23  Pop03   Pop03_APPC1119\n",
       "24  Pop03   Pop03_APPC1127\n",
       "25  Pop03   Pop03_APPC1218\n",
       "26  Pop03   Pop03_APPC1219\n",
       "27  Pop03   Pop03_APPC1222\n",
       "28  Pop03   Pop03_APPC1224\n",
       "29  Pop03   Pop03_APPC1318\n",
       "30  Pop03   Pop03_APPC1325\n",
       "... ...     ...           \n",
       "130 Pop13   Pop13_APPC4407\n",
       "131 Pop14   Pop14_APPC0704\n",
       "132 Pop14   Pop14_APPC0706\n",
       "133 Pop14   Pop14_APPC0707\n",
       "134 Pop14   Pop14_APPC0812\n",
       "135 Pop14   Pop14_APPC0815\n",
       "136 Pop14   Pop14_APPC0817\n",
       "137 Pop14   Pop14_APPC0821\n",
       "138 Pop14   Pop14_APPC0901\n",
       "139 Pop14   Pop14_APPC0904\n",
       "140 Pop14   Pop14_APPC0914\n",
       "141 Pop15   Pop15_APPC0909\n",
       "142 Pop15   Pop15_APPC1502\n",
       "143 Pop15   Pop15_APPC1521\n",
       "144 Pop15   Pop15_APPC1522\n",
       "145 Pop15   Pop15_APPC2201\n",
       "146 Pop15   Pop15_APPC2212\n",
       "147 Pop15   Pop15_APPC2901\n",
       "148 Pop15   Pop15_APPC2914\n",
       "149 Pop15   Pop15_APPC4401\n",
       "150 Pop15   Pop15_APPC4413\n",
       "151 Pop16   Pop16_APPC3601\n",
       "152 Pop16   Pop16_APPC3612\n",
       "153 Pop16   Pop16_APPC3802\n",
       "154 Pop16   Pop16_APPC3828\n",
       "155 Pop16   Pop16_APPC4102\n",
       "156 Pop16   Pop16_APPC4128\n",
       "157 Pop16   Pop16_APPC4201\n",
       "158 Pop16   Pop16_APPC4211\n",
       "159 Pop16   Pop16_APPC4215"
      ]
     },
     "metadata": {},
     "output_type": "display_data"
    }
   ],
   "source": [
    "ForAngsd"
   ]
  },
  {
   "cell_type": "code",
   "execution_count": 108,
   "id": "f139e8d4",
   "metadata": {},
   "outputs": [],
   "source": [
    "#fwrite(ForAngsd[,.(Group)], \"~/ClownfishGWAS/data/APPC_sequencing/DNA/trimmed_reads/mapping/genotypes/angsd/case_control_pheno.ybin\")\n",
    "#once I get the phenos from E\n",
    "fwrite(ForAngsd[,.(SL)], \"~/ClownfishGWAS/data/APPC_sequencing/DNA/trimmed_reads/mapping/genotypes/angsd/SL_pheno.ybin\")\n",
    "#fwrite(ForAngsd[,.(Ucrit)], \"~/ClownfishGWAS/data/APPC_sequencing/DNA/trimmed_reads/mapping/genotypes/angsd/Ucrit_pheno.ybin\")"
   ]
  },
  {
   "cell_type": "code",
   "execution_count": 167,
   "id": "d8aa6278",
   "metadata": {},
   "outputs": [],
   "source": [
    "fwrite(ForAngsd[,.(Ucrit)], \"~/ClownfishGWAS/data/APPC_sequencing/DNA/trimmed_reads/mapping/genotypes/angsd/Ucrit_pheno.ybin\")\n"
   ]
  },
  {
   "cell_type": "code",
   "execution_count": 126,
   "id": "0dfd8ba1",
   "metadata": {},
   "outputs": [
    {
     "data": {
      "text/html": [
       "<table>\n",
       "<thead><tr><th scope=col>og_larvalID</th><th scope=col>larvalID</th><th scope=col>Ucrit</th><th scope=col>SL</th><th scope=col>dam</th><th scope=col>sire</th><th scope=col>tank</th><th scope=col>date</th><th scope=col>Send.to.NJ</th><th scope=col>Group</th><th scope=col>Capture</th><th scope=col>gen_id</th></tr></thead>\n",
       "<tbody>\n",
       "\t<tr><td>16.11         </td><td>APPC1611      </td><td>8.13          </td><td>4.40          </td><td>D125          </td><td>S144          </td><td>C1:4          </td><td>6/19/19       </td><td>1             </td><td>1             </td><td>Pop01         </td><td>Pop01_APPC1611</td></tr>\n",
       "\t<tr><td>19.17         </td><td>APPC1917      </td><td>1.20          </td><td>4.35          </td><td>D85           </td><td>S173          </td><td>C2:2          </td><td>6/27/19       </td><td>1             </td><td>0             </td><td>Pop01         </td><td>Pop01_APPC1917</td></tr>\n",
       "\t<tr><td>19.21         </td><td>APPC1921      </td><td>7.33          </td><td>4.28          </td><td>D85           </td><td>S173          </td><td>C2:2          </td><td>6/27/19       </td><td>1             </td><td>1             </td><td>Pop01         </td><td>Pop01_APPC1921</td></tr>\n",
       "\t<tr><td>20.29         </td><td>APPC2029      </td><td>8.82          </td><td>4.25          </td><td>D70           </td><td>S98           </td><td>A3:1          </td><td>6/28/19       </td><td>1             </td><td>1             </td><td>Pop01         </td><td>Pop01_APPC2029</td></tr>\n",
       "\t<tr><td>20.30         </td><td>APPC2030      </td><td>7.32          </td><td>4.54          </td><td>D70           </td><td>S98           </td><td>A3:1          </td><td>6/28/19       </td><td>1             </td><td>1             </td><td>Pop01         </td><td>Pop01_APPC2030</td></tr>\n",
       "\t<tr><td>21.01         </td><td>APPC2101      </td><td>5.07          </td><td>3.94          </td><td>D269          </td><td>S94           </td><td>D1:2          </td><td>7/1/19        </td><td>1             </td><td>1             </td><td>Pop01         </td><td>Pop01_APPC2101</td></tr>\n",
       "</tbody>\n",
       "</table>\n"
      ],
      "text/latex": [
       "\\begin{tabular}{r|llllllllllll}\n",
       " og\\_larvalID & larvalID & Ucrit & SL & dam & sire & tank & date & Send.to.NJ & Group & Capture & gen\\_id\\\\\n",
       "\\hline\n",
       "\t 16.11            & APPC1611         & 8.13             & 4.40             & D125             & S144             & C1:4             & 6/19/19          & 1                & 1                & Pop01            & Pop01\\_APPC1611\\\\\n",
       "\t 19.17            & APPC1917         & 1.20             & 4.35             & D85              & S173             & C2:2             & 6/27/19          & 1                & 0                & Pop01            & Pop01\\_APPC1917\\\\\n",
       "\t 19.21            & APPC1921         & 7.33             & 4.28             & D85              & S173             & C2:2             & 6/27/19          & 1                & 1                & Pop01            & Pop01\\_APPC1921\\\\\n",
       "\t 20.29            & APPC2029         & 8.82             & 4.25             & D70              & S98              & A3:1             & 6/28/19          & 1                & 1                & Pop01            & Pop01\\_APPC2029\\\\\n",
       "\t 20.30            & APPC2030         & 7.32             & 4.54             & D70              & S98              & A3:1             & 6/28/19          & 1                & 1                & Pop01            & Pop01\\_APPC2030\\\\\n",
       "\t 21.01            & APPC2101         & 5.07             & 3.94             & D269             & S94              & D1:2             & 7/1/19           & 1                & 1                & Pop01            & Pop01\\_APPC2101\\\\\n",
       "\\end{tabular}\n"
      ],
      "text/markdown": [
       "\n",
       "| og_larvalID | larvalID | Ucrit | SL | dam | sire | tank | date | Send.to.NJ | Group | Capture | gen_id |\n",
       "|---|---|---|---|---|---|---|---|---|---|---|---|\n",
       "| 16.11          | APPC1611       | 8.13           | 4.40           | D125           | S144           | C1:4           | 6/19/19        | 1              | 1              | Pop01          | Pop01_APPC1611 |\n",
       "| 19.17          | APPC1917       | 1.20           | 4.35           | D85            | S173           | C2:2           | 6/27/19        | 1              | 0              | Pop01          | Pop01_APPC1917 |\n",
       "| 19.21          | APPC1921       | 7.33           | 4.28           | D85            | S173           | C2:2           | 6/27/19        | 1              | 1              | Pop01          | Pop01_APPC1921 |\n",
       "| 20.29          | APPC2029       | 8.82           | 4.25           | D70            | S98            | A3:1           | 6/28/19        | 1              | 1              | Pop01          | Pop01_APPC2029 |\n",
       "| 20.30          | APPC2030       | 7.32           | 4.54           | D70            | S98            | A3:1           | 6/28/19        | 1              | 1              | Pop01          | Pop01_APPC2030 |\n",
       "| 21.01          | APPC2101       | 5.07           | 3.94           | D269           | S94            | D1:2           | 7/1/19         | 1              | 1              | Pop01          | Pop01_APPC2101 |\n",
       "\n"
      ],
      "text/plain": [
       "  og_larvalID larvalID Ucrit SL   dam  sire tank date    Send.to.NJ Group\n",
       "1 16.11       APPC1611 8.13  4.40 D125 S144 C1:4 6/19/19 1          1    \n",
       "2 19.17       APPC1917 1.20  4.35 D85  S173 C2:2 6/27/19 1          0    \n",
       "3 19.21       APPC1921 7.33  4.28 D85  S173 C2:2 6/27/19 1          1    \n",
       "4 20.29       APPC2029 8.82  4.25 D70  S98  A3:1 6/28/19 1          1    \n",
       "5 20.30       APPC2030 7.32  4.54 D70  S98  A3:1 6/28/19 1          1    \n",
       "6 21.01       APPC2101 5.07  3.94 D269 S94  D1:2 7/1/19  1          1    \n",
       "  Capture gen_id        \n",
       "1 Pop01   Pop01_APPC1611\n",
       "2 Pop01   Pop01_APPC1917\n",
       "3 Pop01   Pop01_APPC1921\n",
       "4 Pop01   Pop01_APPC2029\n",
       "5 Pop01   Pop01_APPC2030\n",
       "6 Pop01   Pop01_APPC2101"
      ]
     },
     "metadata": {},
     "output_type": "display_data"
    },
    {
     "data": {
      "text/html": [
       "<table>\n",
       "<thead><tr><th scope=col>V1</th><th scope=col>V2</th><th scope=col>V3</th><th scope=col>V4</th><th scope=col>V5</th><th scope=col>V6</th><th scope=col>V7</th><th scope=col>V8</th><th scope=col>V9</th><th scope=col>V10</th><th scope=col>...</th><th scope=col>V150</th><th scope=col>V151</th><th scope=col>V152</th><th scope=col>V153</th><th scope=col>V154</th><th scope=col>V155</th><th scope=col>V156</th><th scope=col>V157</th><th scope=col>V158</th><th scope=col>V159</th></tr></thead>\n",
       "<tbody>\n",
       "\t<tr><td> 1.3353486</td><td> 0.3883862</td><td>-0.0135418</td><td> 0.1148110</td><td>-0.0834899</td><td>-0.2781414</td><td> 0.4290567</td><td>-0.1877678</td><td> 0.3704657</td><td>-0.2801444</td><td>...       </td><td>-0.3076701</td><td>-0.1148423</td><td>-0.2858137</td><td> 0.2896614</td><td> 0.3269241</td><td>-0.2589612</td><td>-0.2517436</td><td>-0.2458638</td><td>-0.2341706</td><td>-0.1857256</td></tr>\n",
       "\t<tr><td> 0.3883862</td><td> 1.4457219</td><td>-0.0164109</td><td> 0.1396048</td><td>-0.1011803</td><td>-0.3369562</td><td> 0.5191065</td><td>-0.2275145</td><td> 0.4480954</td><td>-0.3393794</td><td>...       </td><td>-0.3725389</td><td>-0.1391699</td><td>-0.3459328</td><td> 0.3509004</td><td> 0.3958668</td><td>-0.3137049</td><td>-0.3050379</td><td>-0.2979042</td><td>-0.2837050</td><td>-0.2250776</td></tr>\n",
       "\t<tr><td>-0.0135418</td><td>-0.0164109</td><td> 0.9989417</td><td>-0.0048510</td><td> 0.0035284</td><td> 0.0117386</td><td>-0.0181368</td><td> 0.0079301</td><td>-0.0156596</td><td> 0.0118300</td><td>...       </td><td> 0.0129804</td><td> 0.0048506</td><td> 0.0120677</td><td>-0.0122319</td><td>-0.0138073</td><td> 0.0109271</td><td> 0.0106282</td><td> 0.0103792</td><td> 0.0098764</td><td> 0.0078427</td></tr>\n",
       "\t<tr><td> 0.1148110</td><td> 0.1396048</td><td>-0.0048510</td><td> 1.0802584</td><td>-0.0298901</td><td>-0.0999669</td><td> 0.1530357</td><td>-0.0673211</td><td> 0.1322171</td><td>-0.1005468</td><td>...       </td><td>-0.1109381</td><td>-0.0411579</td><td>-0.1031910</td><td> 0.1037075</td><td> 0.1169366</td><td>-0.0932053</td><td>-0.0903311</td><td>-0.0882320</td><td>-0.0839847</td><td>-0.0666183</td></tr>\n",
       "\t<tr><td>-0.0834899</td><td>-0.1011803</td><td> 0.0035284</td><td>-0.0298901</td><td> 0.9720282</td><td> 0.0723817</td><td>-0.1118132</td><td> 0.0488852</td><td>-0.0965492</td><td> 0.0729405</td><td>...       </td><td> 0.0800525</td><td> 0.0298987</td><td> 0.0743544</td><td>-0.0754242</td><td>-0.0851352</td><td> 0.0673722</td><td> 0.0655393</td><td> 0.0639933</td><td> 0.0609266</td><td> 0.0483445</td></tr>\n",
       "\t<tr><td>-0.2781414</td><td>-0.3369562</td><td> 0.0117386</td><td>-0.0999669</td><td> 0.0723817</td><td> 0.9689472</td><td>-0.3721078</td><td> 0.1627734</td><td>-0.3213479</td><td> 0.2429079</td><td>...       </td><td> 0.2651766</td><td> 0.0995643</td><td> 0.2453448</td><td>-0.2512747</td><td>-0.2835847</td><td> 0.2232014</td><td> 0.2179205</td><td> 0.2129748</td><td> 0.2023685</td><td> 0.1609690</td></tr>\n",
       "</tbody>\n",
       "</table>\n"
      ],
      "text/latex": [
       "\\begin{tabular}{r|lllllllllllllllllllllllllllllllllllllllllllllllllllllllllllllllllllllllllllllllllllllllllllllllllllllllllllllllllllllllllllllllllllllllllllllllllllllllllllllll}\n",
       " V1 & V2 & V3 & V4 & V5 & V6 & V7 & V8 & V9 & V10 & ... & V150 & V151 & V152 & V153 & V154 & V155 & V156 & V157 & V158 & V159\\\\\n",
       "\\hline\n",
       "\t  1.3353486 &  0.3883862 & -0.0135418 &  0.1148110 & -0.0834899 & -0.2781414 &  0.4290567 & -0.1877678 &  0.3704657 & -0.2801444 & ...        & -0.3076701 & -0.1148423 & -0.2858137 &  0.2896614 &  0.3269241 & -0.2589612 & -0.2517436 & -0.2458638 & -0.2341706 & -0.1857256\\\\\n",
       "\t  0.3883862 &  1.4457219 & -0.0164109 &  0.1396048 & -0.1011803 & -0.3369562 &  0.5191065 & -0.2275145 &  0.4480954 & -0.3393794 & ...        & -0.3725389 & -0.1391699 & -0.3459328 &  0.3509004 &  0.3958668 & -0.3137049 & -0.3050379 & -0.2979042 & -0.2837050 & -0.2250776\\\\\n",
       "\t -0.0135418 & -0.0164109 &  0.9989417 & -0.0048510 &  0.0035284 &  0.0117386 & -0.0181368 &  0.0079301 & -0.0156596 &  0.0118300 & ...        &  0.0129804 &  0.0048506 &  0.0120677 & -0.0122319 & -0.0138073 &  0.0109271 &  0.0106282 &  0.0103792 &  0.0098764 &  0.0078427\\\\\n",
       "\t  0.1148110 &  0.1396048 & -0.0048510 &  1.0802584 & -0.0298901 & -0.0999669 &  0.1530357 & -0.0673211 &  0.1322171 & -0.1005468 & ...        & -0.1109381 & -0.0411579 & -0.1031910 &  0.1037075 &  0.1169366 & -0.0932053 & -0.0903311 & -0.0882320 & -0.0839847 & -0.0666183\\\\\n",
       "\t -0.0834899 & -0.1011803 &  0.0035284 & -0.0298901 &  0.9720282 &  0.0723817 & -0.1118132 &  0.0488852 & -0.0965492 &  0.0729405 & ...        &  0.0800525 &  0.0298987 &  0.0743544 & -0.0754242 & -0.0851352 &  0.0673722 &  0.0655393 &  0.0639933 &  0.0609266 &  0.0483445\\\\\n",
       "\t -0.2781414 & -0.3369562 &  0.0117386 & -0.0999669 &  0.0723817 &  0.9689472 & -0.3721078 &  0.1627734 & -0.3213479 &  0.2429079 & ...        &  0.2651766 &  0.0995643 &  0.2453448 & -0.2512747 & -0.2835847 &  0.2232014 &  0.2179205 &  0.2129748 &  0.2023685 &  0.1609690\\\\\n",
       "\\end{tabular}\n"
      ],
      "text/markdown": [
       "\n",
       "| V1 | V2 | V3 | V4 | V5 | V6 | V7 | V8 | V9 | V10 | ... | V150 | V151 | V152 | V153 | V154 | V155 | V156 | V157 | V158 | V159 |\n",
       "|---|---|---|---|---|---|---|---|---|---|---|---|---|---|---|---|---|---|---|---|---|\n",
       "|  1.3353486 |  0.3883862 | -0.0135418 |  0.1148110 | -0.0834899 | -0.2781414 |  0.4290567 | -0.1877678 |  0.3704657 | -0.2801444 | ...        | -0.3076701 | -0.1148423 | -0.2858137 |  0.2896614 |  0.3269241 | -0.2589612 | -0.2517436 | -0.2458638 | -0.2341706 | -0.1857256 |\n",
       "|  0.3883862 |  1.4457219 | -0.0164109 |  0.1396048 | -0.1011803 | -0.3369562 |  0.5191065 | -0.2275145 |  0.4480954 | -0.3393794 | ...        | -0.3725389 | -0.1391699 | -0.3459328 |  0.3509004 |  0.3958668 | -0.3137049 | -0.3050379 | -0.2979042 | -0.2837050 | -0.2250776 |\n",
       "| -0.0135418 | -0.0164109 |  0.9989417 | -0.0048510 |  0.0035284 |  0.0117386 | -0.0181368 |  0.0079301 | -0.0156596 |  0.0118300 | ...        |  0.0129804 |  0.0048506 |  0.0120677 | -0.0122319 | -0.0138073 |  0.0109271 |  0.0106282 |  0.0103792 |  0.0098764 |  0.0078427 |\n",
       "|  0.1148110 |  0.1396048 | -0.0048510 |  1.0802584 | -0.0298901 | -0.0999669 |  0.1530357 | -0.0673211 |  0.1322171 | -0.1005468 | ...        | -0.1109381 | -0.0411579 | -0.1031910 |  0.1037075 |  0.1169366 | -0.0932053 | -0.0903311 | -0.0882320 | -0.0839847 | -0.0666183 |\n",
       "| -0.0834899 | -0.1011803 |  0.0035284 | -0.0298901 |  0.9720282 |  0.0723817 | -0.1118132 |  0.0488852 | -0.0965492 |  0.0729405 | ...        |  0.0800525 |  0.0298987 |  0.0743544 | -0.0754242 | -0.0851352 |  0.0673722 |  0.0655393 |  0.0639933 |  0.0609266 |  0.0483445 |\n",
       "| -0.2781414 | -0.3369562 |  0.0117386 | -0.0999669 |  0.0723817 |  0.9689472 | -0.3721078 |  0.1627734 | -0.3213479 |  0.2429079 | ...        |  0.2651766 |  0.0995643 |  0.2453448 | -0.2512747 | -0.2835847 |  0.2232014 |  0.2179205 |  0.2129748 |  0.2023685 |  0.1609690 |\n",
       "\n"
      ],
      "text/plain": [
       "  V1         V2         V3         V4         V5         V6         V7        \n",
       "1  1.3353486  0.3883862 -0.0135418  0.1148110 -0.0834899 -0.2781414  0.4290567\n",
       "2  0.3883862  1.4457219 -0.0164109  0.1396048 -0.1011803 -0.3369562  0.5191065\n",
       "3 -0.0135418 -0.0164109  0.9989417 -0.0048510  0.0035284  0.0117386 -0.0181368\n",
       "4  0.1148110  0.1396048 -0.0048510  1.0802584 -0.0298901 -0.0999669  0.1530357\n",
       "5 -0.0834899 -0.1011803  0.0035284 -0.0298901  0.9720282  0.0723817 -0.1118132\n",
       "6 -0.2781414 -0.3369562  0.0117386 -0.0999669  0.0723817  0.9689472 -0.3721078\n",
       "  V8         V9         V10        ... V150       V151       V152      \n",
       "1 -0.1877678  0.3704657 -0.2801444 ... -0.3076701 -0.1148423 -0.2858137\n",
       "2 -0.2275145  0.4480954 -0.3393794 ... -0.3725389 -0.1391699 -0.3459328\n",
       "3  0.0079301 -0.0156596  0.0118300 ...  0.0129804  0.0048506  0.0120677\n",
       "4 -0.0673211  0.1322171 -0.1005468 ... -0.1109381 -0.0411579 -0.1031910\n",
       "5  0.0488852 -0.0965492  0.0729405 ...  0.0800525  0.0298987  0.0743544\n",
       "6  0.1627734 -0.3213479  0.2429079 ...  0.2651766  0.0995643  0.2453448\n",
       "  V153       V154       V155       V156       V157       V158       V159      \n",
       "1  0.2896614  0.3269241 -0.2589612 -0.2517436 -0.2458638 -0.2341706 -0.1857256\n",
       "2  0.3509004  0.3958668 -0.3137049 -0.3050379 -0.2979042 -0.2837050 -0.2250776\n",
       "3 -0.0122319 -0.0138073  0.0109271  0.0106282  0.0103792  0.0098764  0.0078427\n",
       "4  0.1037075  0.1169366 -0.0932053 -0.0903311 -0.0882320 -0.0839847 -0.0666183\n",
       "5 -0.0754242 -0.0851352  0.0673722  0.0655393  0.0639933  0.0609266  0.0483445\n",
       "6 -0.2512747 -0.2835847  0.2232014  0.2179205  0.2129748  0.2023685  0.1609690"
      ]
     },
     "metadata": {},
     "output_type": "display_data"
    }
   ],
   "source": [
    "head(ForAngsd)\n",
    "pca <- fread(\"~/ClownfishGWAS/data/APPC_sequencing/DNA/trimmed_reads/mapping/genotypes/angsd/output.pcangsd.cov\") \n",
    "head(pca)\n",
    "qc_format <- cbind(ForAngsd[, .(gen_id, Group, Ucrit, SL, Capture, dam, sire, tank)], pca[, 1:10])"
   ]
  },
  {
   "cell_type": "code",
   "execution_count": 127,
   "id": "7ebf23d4",
   "metadata": {},
   "outputs": [
    {
     "data": {
      "text/html": [
       "<table>\n",
       "<thead><tr><th scope=col>gen_id</th><th scope=col>Group</th><th scope=col>Ucrit</th><th scope=col>SL</th><th scope=col>Capture</th><th scope=col>dam</th><th scope=col>sire</th><th scope=col>tank</th><th scope=col>V1</th><th scope=col>V2</th><th scope=col>V3</th><th scope=col>V4</th><th scope=col>V5</th><th scope=col>V6</th><th scope=col>V7</th><th scope=col>V8</th><th scope=col>V9</th><th scope=col>V10</th></tr></thead>\n",
       "<tbody>\n",
       "\t<tr><td>Pop01_APPC1611</td><td>1             </td><td>8.13          </td><td>4.40          </td><td>Pop01         </td><td>D125          </td><td>S144          </td><td>C1:4          </td><td> 1.3353486    </td><td> 0.3883862    </td><td>-0.0135418    </td><td> 0.1148110    </td><td>-0.0834899    </td><td>-0.2781414    </td><td> 0.4290567    </td><td>-0.1877678    </td><td> 0.3704657    </td><td>-0.2801444    </td></tr>\n",
       "\t<tr><td>Pop01_APPC1917</td><td>0             </td><td>1.20          </td><td>4.35          </td><td>Pop01         </td><td>D85           </td><td>S173          </td><td>C2:2          </td><td> 0.3883862    </td><td> 1.4457219    </td><td>-0.0164109    </td><td> 0.1396048    </td><td>-0.1011803    </td><td>-0.3369562    </td><td> 0.5191065    </td><td>-0.2275145    </td><td> 0.4480954    </td><td>-0.3393794    </td></tr>\n",
       "\t<tr><td>Pop01_APPC1921</td><td>1             </td><td>7.33          </td><td>4.28          </td><td>Pop01         </td><td>D85           </td><td>S173          </td><td>C2:2          </td><td>-0.0135418    </td><td>-0.0164109    </td><td> 0.9989417    </td><td>-0.0048510    </td><td> 0.0035284    </td><td> 0.0117386    </td><td>-0.0181368    </td><td> 0.0079301    </td><td>-0.0156596    </td><td> 0.0118300    </td></tr>\n",
       "\t<tr><td>Pop01_APPC2029</td><td>1             </td><td>8.82          </td><td>4.25          </td><td>Pop01         </td><td>D70           </td><td>S98           </td><td>A3:1          </td><td> 0.1148110    </td><td> 0.1396048    </td><td>-0.0048510    </td><td> 1.0802584    </td><td>-0.0298901    </td><td>-0.0999669    </td><td> 0.1530357    </td><td>-0.0673211    </td><td> 0.1322171    </td><td>-0.1005468    </td></tr>\n",
       "\t<tr><td>Pop01_APPC2030</td><td>1             </td><td>7.32          </td><td>4.54          </td><td>Pop01         </td><td>D70           </td><td>S98           </td><td>A3:1          </td><td>-0.0834899    </td><td>-0.1011803    </td><td> 0.0035284    </td><td>-0.0298901    </td><td> 0.9720282    </td><td> 0.0723817    </td><td>-0.1118132    </td><td> 0.0488852    </td><td>-0.0965492    </td><td> 0.0729405    </td></tr>\n",
       "\t<tr><td>Pop01_APPC2101</td><td>1             </td><td>5.07          </td><td>3.94          </td><td>Pop01         </td><td>D269          </td><td>S94           </td><td>D1:2          </td><td>-0.2781414    </td><td>-0.3369562    </td><td> 0.0117386    </td><td>-0.0999669    </td><td> 0.0723817    </td><td> 0.9689472    </td><td>-0.3721078    </td><td> 0.1627734    </td><td>-0.3213479    </td><td> 0.2429079    </td></tr>\n",
       "\t<tr><td>Pop01_APPC2215</td><td>1             </td><td>6.33          </td><td>4.29          </td><td>Pop01         </td><td>D19           </td><td>S175          </td><td>A1:4          </td><td> 0.4290567    </td><td> 0.5191065    </td><td>-0.0181368    </td><td> 0.1530357    </td><td>-0.1118132    </td><td>-0.3721078    </td><td> 1.5228390    </td><td>-0.2514610    </td><td> 0.4941109    </td><td>-0.3748729    </td></tr>\n",
       "\t<tr><td>Pop01_APPC2517</td><td>0             </td><td>1.80          </td><td>4.36          </td><td>Pop01         </td><td>D18           </td><td>S111          </td><td>B1:1          </td><td>-0.1877678    </td><td>-0.2275145    </td><td> 0.0079301    </td><td>-0.0673211    </td><td> 0.0488852    </td><td> 0.1627734    </td><td>-0.2514610    </td><td> 0.9523516    </td><td>-0.2171268    </td><td> 0.1639981    </td></tr>\n",
       "\t<tr><td>Pop01_APPC2817</td><td>0             </td><td>0.30          </td><td>4.43          </td><td>Pop01         </td><td>D130          </td><td>S152          </td><td>D3:2          </td><td> 0.3704657    </td><td> 0.4480954    </td><td>-0.0156596    </td><td> 0.1322171    </td><td>-0.0965492    </td><td>-0.3213479    </td><td> 0.4941109    </td><td>-0.2171268    </td><td> 1.4106041    </td><td>-0.3238520    </td></tr>\n",
       "\t<tr><td>Pop01_APPC2907</td><td>0             </td><td>1.17          </td><td>4.35          </td><td>Pop01         </td><td>D31           </td><td>S79           </td><td>C1:1          </td><td>-0.2801444    </td><td>-0.3393794    </td><td> 0.0118300    </td><td>-0.1005468    </td><td> 0.0729405    </td><td> 0.2429079    </td><td>-0.3748729    </td><td> 0.1639981    </td><td>-0.3238520    </td><td> 0.9712363    </td></tr>\n",
       "\t<tr><td>Pop02_APPC1006</td><td>0             </td><td>2.00          </td><td>4.13          </td><td>Pop02         </td><td>D55           </td><td>S129          </td><td>D2:4          </td><td>-0.3208874    </td><td>-0.3876555    </td><td> 0.0135163    </td><td>-0.1163622    </td><td> 0.0833974    </td><td> 0.2742976    </td><td>-0.4275970    </td><td> 0.1874610    </td><td>-0.3690688    </td><td> 0.2794158    </td></tr>\n",
       "\t<tr><td>Pop02_APPC1008</td><td>1             </td><td>6.07          </td><td>4.34          </td><td>Pop02         </td><td>D55           </td><td>S129          </td><td>D2:4          </td><td>-0.2724108    </td><td>-0.3300450    </td><td> 0.0114980    </td><td>-0.0977766    </td><td> 0.0709103    </td><td> 0.2360407    </td><td>-0.3645857    </td><td> 0.1594772    </td><td>-0.3149110    </td><td> 0.2380306    </td></tr>\n",
       "\t<tr><td>Pop02_APPC1010</td><td>1             </td><td>6.22          </td><td>  NA          </td><td>Pop02         </td><td>D55           </td><td>S129          </td><td>D2:4          </td><td>-0.3086520    </td><td>-0.3731033    </td><td> 0.0129966    </td><td>-0.1114919    </td><td> 0.0802416    </td><td> 0.2647219    </td><td>-0.4114956    </td><td> 0.1803319    </td><td>-0.3557913    </td><td> 0.2689113    </td></tr>\n",
       "\t<tr><td>Pop02_APPC1015</td><td>0             </td><td>1.92          </td><td>4.25          </td><td>Pop02         </td><td>D55           </td><td>S129          </td><td>D2:4          </td><td>-0.2930705    </td><td>-0.3548719    </td><td> 0.0123647    </td><td>-0.1053686    </td><td> 0.0762507    </td><td> 0.2531172    </td><td>-0.3917102    </td><td> 0.1715180    </td><td>-0.3384742    </td><td> 0.2559024    </td></tr>\n",
       "\t<tr><td>Pop02_APPC3010</td><td>1             </td><td>7.40          </td><td>4.26          </td><td>Pop02         </td><td>D57           </td><td>S62           </td><td>B3:2          </td><td>-0.0506829    </td><td>-0.0614302    </td><td> 0.0021462    </td><td>-0.0181710    </td><td> 0.0131980    </td><td> 0.0439401    </td><td>-0.0678986    </td><td> 0.0296801    </td><td>-0.0586117    </td><td> 0.0442804    </td></tr>\n",
       "\t<tr><td>Pop02_APPC3012</td><td>0             </td><td>1.75          </td><td>4.35          </td><td>Pop02         </td><td>D57           </td><td>S62           </td><td>B3:2          </td><td>-0.2731121    </td><td>-0.3308683    </td><td> 0.0115417    </td><td>-0.0980030    </td><td> 0.0711061    </td><td> 0.2367414    </td><td>-0.3654967    </td><td> 0.1599029    </td><td>-0.3156761    </td><td> 0.2386059    </td></tr>\n",
       "\t<tr><td>Pop02_APPC3107</td><td>0             </td><td>0.13          </td><td>4.24          </td><td>Pop02         </td><td>D6            </td><td>S108          </td><td>A2:1          </td><td>-0.2268841    </td><td>-0.2749280    </td><td> 0.0095829    </td><td>-0.0813298    </td><td> 0.0590566    </td><td> 0.1966282    </td><td>-0.3037322    </td><td> 0.1328192    </td><td>-0.2623184    </td><td> 0.1981486    </td></tr>\n",
       "\t<tr><td>Pop02_APPC3226</td><td>0             </td><td>0.47          </td><td>4.14          </td><td>Pop02         </td><td>D5            </td><td>S137          </td><td>A1:5          </td><td> 0.3049977    </td><td> 0.3693660    </td><td>-0.0128861    </td><td> 0.1091482    </td><td>-0.0794350    </td><td>-0.2646064    </td><td> 0.4078874    </td><td>-0.1786281    </td><td> 0.3521923    </td><td>-0.2665187    </td></tr>\n",
       "\t<tr><td>Pop02_APPC3718</td><td>0             </td><td>2.25          </td><td>4.36          </td><td>Pop02         </td><td>D30           </td><td>S171          </td><td>A3:5          </td><td> 0.1070050    </td><td> 0.1296154    </td><td>-0.0045170    </td><td> 0.0382926    </td><td>-0.0278652    </td><td>-0.0928562    </td><td> 0.1431643    </td><td>-0.0626646    </td><td> 0.1236129    </td><td>-0.0935206    </td></tr>\n",
       "\t<tr><td>Pop02_APPC4006</td><td>0             </td><td>0.37          </td><td>4.48          </td><td>Pop02         </td><td>D13           </td><td>S103          </td><td>B3:3          </td><td>-0.1637535    </td><td>-0.1984733    </td><td> 0.0069136    </td><td>-0.0587372    </td><td> 0.0426289    </td><td> 0.1418852    </td><td>-0.2193291    </td><td> 0.0958627    </td><td>-0.1893985    </td><td> 0.1430302    </td></tr>\n",
       "\t<tr><td>Pop03_APPC1110</td><td>1             </td><td>6.50          </td><td>4.27          </td><td>Pop03         </td><td>D9            </td><td>S2            </td><td>A3:5          </td><td>-0.1970800    </td><td>-0.2388223    </td><td> 0.0083248    </td><td>-0.0706768    </td><td> 0.0513009    </td><td> 0.1707964    </td><td>-0.2638589    </td><td> 0.1153596    </td><td>-0.2278763    </td><td> 0.1721064    </td></tr>\n",
       "\t<tr><td>Pop03_APPC1116</td><td>0             </td><td>0.90          </td><td>4.33          </td><td>Pop03         </td><td>D9            </td><td>S2            </td><td>A3:5          </td><td>-0.1772924    </td><td>-0.2148458    </td><td> 0.0074873    </td><td>-0.0635824    </td><td> 0.0461578    </td><td> 0.1536762    </td><td>-0.2373777    </td><td> 0.1037987    </td><td>-0.2050446    </td><td> 0.1548456    </td></tr>\n",
       "\t<tr><td>Pop03_APPC1119</td><td>0             </td><td>1.28          </td><td>4.33          </td><td>Pop03         </td><td>D9            </td><td>S2            </td><td>A3:5          </td><td>-0.2348959    </td><td>-0.2845633    </td><td> 0.0099191    </td><td>-0.0842567    </td><td> 0.0611481    </td><td> 0.2034785    </td><td>-0.3144266    </td><td> 0.1374920    </td><td>-0.2715907    </td><td> 0.2051194    </td></tr>\n",
       "\t<tr><td>Pop03_APPC1127</td><td>1             </td><td>6.57          </td><td>4.37          </td><td>Pop03         </td><td>D9            </td><td>S2            </td><td>A3:5          </td><td>-0.2495913    </td><td>-0.3024122    </td><td> 0.0105423    </td><td>-0.0895445    </td><td> 0.0649704    </td><td> 0.2161448    </td><td>-0.3341649    </td><td> 0.1460642    </td><td>-0.2885723    </td><td> 0.2179128    </td></tr>\n",
       "\t<tr><td>Pop03_APPC1218</td><td>0             </td><td>0.42          </td><td>4.25          </td><td>Pop03         </td><td>D114          </td><td>S38           </td><td>B2:3          </td><td>-0.2611958    </td><td>-0.3165083    </td><td> 0.0110280    </td><td>-0.0936791    </td><td> 0.0679950    </td><td> 0.2263202    </td><td>-0.3495878    </td><td> 0.1528853    </td><td>-0.3019596    </td><td> 0.2281578    </td></tr>\n",
       "\t<tr><td>Pop03_APPC1219</td><td>0             </td><td>1.00          </td><td>4.27          </td><td>Pop03         </td><td>D114          </td><td>S38           </td><td>B2:3          </td><td>-0.0245685    </td><td>-0.0297679    </td><td> 0.0010374    </td><td>-0.0088081    </td><td> 0.0063960    </td><td> 0.0213076    </td><td>-0.0329136    </td><td> 0.0143800    </td><td>-0.0284042    </td><td> 0.0214607    </td></tr>\n",
       "\t<tr><td>Pop03_APPC1222</td><td>1             </td><td>9.22          </td><td>4.01          </td><td>Pop03         </td><td>D114          </td><td>S38           </td><td>B2:3          </td><td>-0.2050083    </td><td>-0.2484234    </td><td> 0.0086546    </td><td>-0.0735013    </td><td> 0.0533689    </td><td> 0.1776735    </td><td>-0.2744813    </td><td> 0.1200088    </td><td>-0.2370538    </td><td> 0.1790295    </td></tr>\n",
       "\t<tr><td>Pop03_APPC1224</td><td>1             </td><td>8.68          </td><td>4.19          </td><td>Pop03         </td><td>D114          </td><td>S38           </td><td>B2:3          </td><td>-0.2336374    </td><td>-0.2831350    </td><td> 0.0098624    </td><td>-0.0837707    </td><td> 0.0608272    </td><td> 0.2024975    </td><td>-0.3128399    </td><td> 0.1367829    </td><td>-0.2701465    </td><td> 0.2040702    </td></tr>\n",
       "\t<tr><td>Pop03_APPC1318</td><td>0             </td><td>0.30          </td><td>4.23          </td><td>Pop03         </td><td>D22           </td><td>S103          </td><td>B3:1          </td><td>-0.1631466    </td><td>-0.1977221    </td><td> 0.0068849    </td><td>-0.0585547    </td><td> 0.0424580    </td><td> 0.1411789    </td><td>-0.2184425    </td><td> 0.0954673    </td><td>-0.1887175    </td><td> 0.1424110    </td></tr>\n",
       "\t<tr><td>Pop03_APPC1325</td><td>1             </td><td>5.65          </td><td>4.11          </td><td>Pop03         </td><td>D22           </td><td>S103          </td><td>B3:1          </td><td>-0.1970834    </td><td>-0.2388275    </td><td> 0.0083132    </td><td>-0.0707055    </td><td> 0.0512843    </td><td> 0.1705934    </td><td>-0.2638401    </td><td> 0.1153337    </td><td>-0.2278816    </td><td> 0.1720540    </td></tr>\n",
       "\t<tr><td>...</td><td>...</td><td>...</td><td>...</td><td>...</td><td>...</td><td>...</td><td>...</td><td>...</td><td>...</td><td>...</td><td>...</td><td>...</td><td>...</td><td>...</td><td>...</td><td>...</td><td>...</td></tr>\n",
       "\t<tr><td>Pop13_APPC4407</td><td>1             </td><td>7.17          </td><td>4.09          </td><td>Pop13         </td><td>D55           </td><td>S129          </td><td>D2:5          </td><td>-0.2777151    </td><td>-0.3364446    </td><td> 0.0117264    </td><td>-0.0996609    </td><td> 0.0723046    </td><td> 0.2407603    </td><td>-0.3716826    </td><td> 0.1625798    </td><td>-0.3210287    </td><td> 0.2426893    </td></tr>\n",
       "\t<tr><td>Pop14_APPC0704</td><td>0             </td><td>  NA          </td><td>4.13          </td><td>Pop14         </td><td>DNA           </td><td>SNA           </td><td>              </td><td>-0.0161374    </td><td>-0.0195789    </td><td> 0.0006847    </td><td>-0.0057977    </td><td> 0.0041957    </td><td> 0.0139550    </td><td>-0.0216176    </td><td> 0.0094361    </td><td>-0.0187186    </td><td> 0.0140810    </td></tr>\n",
       "\t<tr><td>Pop14_APPC0706</td><td>1             </td><td>  NA          </td><td>4.07          </td><td>Pop14         </td><td>DNA           </td><td>SNA           </td><td>              </td><td> 0.1345919    </td><td> 0.1619241    </td><td>-0.0057183    </td><td> 0.0474406    </td><td>-0.0352121    </td><td>-0.1174116    </td><td> 0.1781496    </td><td>-0.0791161    </td><td> 0.1536798    </td><td>-0.1183134    </td></tr>\n",
       "\t<tr><td>Pop14_APPC0707</td><td>0             </td><td>  NA          </td><td>  NA          </td><td>Pop14         </td><td>DNA           </td><td>SNA           </td><td>              </td><td> 0.0455247    </td><td> 0.0547641    </td><td>-0.0019382    </td><td> 0.0159138    </td><td>-0.0119113    </td><td>-0.0398507    </td><td> 0.0594896    </td><td>-0.0267655    </td><td> 0.0516077    </td><td>-0.0401401    </td></tr>\n",
       "\t<tr><td>Pop14_APPC0812</td><td>0             </td><td>0.60          </td><td>4.56          </td><td>Pop14         </td><td>D13           </td><td>S165          </td><td>B3:3          </td><td> 0.3780630    </td><td> 0.4559949    </td><td>-0.0159835    </td><td> 0.1340059    </td><td>-0.0987077    </td><td>-0.3284675    </td><td> 0.5015537    </td><td>-0.2219075    </td><td> 0.4325652    </td><td>-0.3308168    </td></tr>\n",
       "\t<tr><td>Pop14_APPC0815</td><td>1             </td><td>8.00          </td><td>4.52          </td><td>Pop14         </td><td>D13           </td><td>S165          </td><td>B3:3          </td><td> 0.3929139    </td><td> 0.4757343    </td><td>-0.0165944    </td><td> 0.1405248    </td><td>-0.1023329    </td><td>-0.3408579    </td><td> 0.5253780    </td><td>-0.2301294    </td><td> 0.4535723    </td><td>-0.3433405    </td></tr>\n",
       "\t<tr><td>Pop14_APPC0817</td><td>0             </td><td>0.57          </td><td>4.19          </td><td>Pop14         </td><td>D13           </td><td>S165          </td><td>B3:3          </td><td> 0.3873461    </td><td> 0.4680081    </td><td>-0.0163608    </td><td> 0.1376990    </td><td>-0.1010314    </td><td>-0.3364394    </td><td> 0.5154846    </td><td>-0.2272164    </td><td> 0.4447253    </td><td>-0.3388154    </td></tr>\n",
       "\t<tr><td>Pop14_APPC0821</td><td>1             </td><td>7.48          </td><td>4.42          </td><td>Pop14         </td><td>D13           </td><td>S165          </td><td>B3:3          </td><td> 0.3805959    </td><td> 0.4599310    </td><td>-0.0160920    </td><td> 0.1353818    </td><td>-0.0992966    </td><td>-0.3304600    </td><td> 0.5066097    </td><td>-0.2232843    </td><td> 0.4370655    </td><td>-0.3328610    </td></tr>\n",
       "\t<tr><td>Pop14_APPC0901</td><td>0             </td><td>2.93          </td><td>4.28          </td><td>Pop14         </td><td>D26           </td><td>S142          </td><td>D3:1          </td><td> 0.3261395    </td><td> 0.3940118    </td><td>-0.0137973    </td><td> 0.1160378    </td><td>-0.0850347    </td><td>-0.2831246    </td><td> 0.4343329    </td><td>-0.1912328    </td><td> 0.3749582    </td><td>-0.2851072    </td></tr>\n",
       "\t<tr><td>Pop14_APPC0904</td><td>1             </td><td>8.52          </td><td>3.92          </td><td>Pop14         </td><td>D26           </td><td>S142          </td><td>D3:1          </td><td> 0.2661737    </td><td> 0.3223569    </td><td>-0.0112416    </td><td> 0.0952506    </td><td>-0.0693138    </td><td>-0.2309530    </td><td> 0.3561321    </td><td>-0.1559002    </td><td> 0.3075191    </td><td>-0.2325585    </td></tr>\n",
       "\t<tr><td>Pop14_APPC0914</td><td>0             </td><td>2.13          </td><td>4.55          </td><td>Pop14         </td><td>D26           </td><td>S142          </td><td>D3:1          </td><td> 0.3219126    </td><td> 0.3891797    </td><td>-0.0136213    </td><td> 0.1145544    </td><td>-0.0839265    </td><td>-0.2794515    </td><td> 0.4288236    </td><td>-0.1887473    </td><td> 0.3699457    </td><td>-0.2814713    </td></tr>\n",
       "\t<tr><td>Pop15_APPC0909</td><td>1             </td><td>8.33          </td><td>  NA          </td><td>Pop15         </td><td>D26           </td><td>S142          </td><td>D3:1          </td><td> 0.3039776    </td><td> 0.3681712    </td><td>-0.0128435    </td><td> 0.1087719    </td><td>-0.0791630    </td><td>-0.2637056    </td><td> 0.4066463    </td><td>-0.1780338    </td><td> 0.3510784    </td><td>-0.2655975    </td></tr>\n",
       "\t<tr><td>Pop15_APPC1502</td><td>0             </td><td>2.25          </td><td>4.35          </td><td>Pop15         </td><td>D10           </td><td>S156          </td><td>B2:5          </td><td> 0.3987445    </td><td> 0.4829307    </td><td>-0.0168496    </td><td> 0.1426564    </td><td>-0.1038492    </td><td>-0.3458662    </td><td> 0.5332194    </td><td>-0.2335410    </td><td> 0.4604721    </td><td>-0.3484272    </td></tr>\n",
       "\t<tr><td>Pop15_APPC1521</td><td>1             </td><td>7.67          </td><td>4.27          </td><td>Pop15         </td><td>D10           </td><td>S156          </td><td>B2:5          </td><td> 0.3205373    </td><td> 0.3882391    </td><td>-0.0135386    </td><td> 0.1147207    </td><td>-0.0834658    </td><td>-0.2780414    </td><td> 0.4289002    </td><td>-0.1877103    </td><td> 0.3703461    </td><td>-0.2800416    </td></tr>\n",
       "\t<tr><td>Pop15_APPC1522</td><td>1             </td><td>8.68          </td><td>4.46          </td><td>Pop15         </td><td>D10           </td><td>S156          </td><td>B2:5          </td><td> 0.3760276    </td><td> 0.4555277    </td><td>-0.0158827    </td><td> 0.1346158    </td><td>-0.0979283    </td><td>-0.3262181    </td><td> 0.5030485    </td><td>-0.2202335    </td><td> 0.4343906    </td><td>-0.3285558    </td></tr>\n",
       "\t<tr><td>Pop15_APPC2201</td><td>0             </td><td>2.08          </td><td>4.31          </td><td>Pop15         </td><td>D19           </td><td>S175          </td><td>A1:4          </td><td>-0.0046422    </td><td>-0.0056271    </td><td> 0.0002029    </td><td>-0.0016636    </td><td> 0.0012107    </td><td> 0.0040164    </td><td>-0.0062306    </td><td> 0.0027217    </td><td>-0.0053727    </td><td> 0.0040545    </td></tr>\n",
       "\t<tr><td>Pop15_APPC2212</td><td>1             </td><td>6.70          </td><td>4.30          </td><td>Pop15         </td><td>D19           </td><td>S175          </td><td>A1:4          </td><td> 0.4357078    </td><td> 0.5266546    </td><td>-0.0184317    </td><td> 0.1553169    </td><td>-0.1135985    </td><td>-0.3779328    </td><td> 0.5879294    </td><td>-0.2554753    </td><td> 0.5010295    </td><td>-0.3808101    </td></tr>\n",
       "\t<tr><td>Pop15_APPC2901</td><td>1             </td><td>7.12          </td><td>4.22          </td><td>Pop15         </td><td>D31           </td><td>S79           </td><td>C1:1          </td><td>-0.3132116    </td><td>-0.3790662    </td><td> 0.0132072    </td><td>-0.1126910    </td><td> 0.0815156    </td><td> 0.2704757    </td><td>-0.4177431    </td><td> 0.1831577    </td><td>-0.3611962    </td><td> 0.2768857    </td></tr>\n",
       "\t<tr><td>Pop15_APPC2914</td><td>0             </td><td>0.55          </td><td>4.28          </td><td>Pop15         </td><td>D31           </td><td>S79           </td><td>C1:1          </td><td>-0.2918623    </td><td>-0.3534978    </td><td> 0.0123196    </td><td>-0.1047911    </td><td> 0.0759652    </td><td> 0.2528204    </td><td>-0.3903688    </td><td> 0.1708576    </td><td>-0.3372366    </td><td> 0.2559858    </td></tr>\n",
       "\t<tr><td>Pop15_APPC4401</td><td>0             </td><td>2.33          </td><td>  NA          </td><td>Pop15         </td><td>D55           </td><td>S129          </td><td>D2:5          </td><td>-0.2366593    </td><td>-0.2867662    </td><td> 0.0099947    </td><td>-0.0848512    </td><td> 0.0616119    </td><td> 0.2050957    </td><td>-0.3168642    </td><td> 0.1385532    </td><td>-0.2736683    </td><td> 0.2067156    </td></tr>\n",
       "\t<tr><td>Pop15_APPC4413</td><td>0             </td><td>2.28          </td><td>4.04          </td><td>Pop15         </td><td>D55           </td><td>S129          </td><td>D2:5          </td><td>-0.3076701    </td><td>-0.3725389    </td><td> 0.0129804    </td><td>-0.1109381    </td><td> 0.0800525    </td><td> 0.2651766    </td><td>-0.4108724    </td><td> 0.1800015    </td><td>-0.3551458    </td><td> 0.2685618    </td></tr>\n",
       "\t<tr><td>Pop16_APPC3601</td><td>0             </td><td>2.53          </td><td>4.31          </td><td>Pop16         </td><td>D61           </td><td>S2            </td><td>A1:2          </td><td>-0.1148423    </td><td>-0.1391699    </td><td> 0.0048506    </td><td>-0.0411579    </td><td> 0.0298987    </td><td> 0.0995643    </td><td>-0.1537915    </td><td> 0.0672378    </td><td>-0.1328097    </td><td> 0.1003028    </td></tr>\n",
       "\t<tr><td>Pop16_APPC3612</td><td>1             </td><td>6.22          </td><td>4.24          </td><td>Pop16         </td><td>D61           </td><td>S2            </td><td>A1:2          </td><td>-0.2858137    </td><td>-0.3459328    </td><td> 0.0120677    </td><td>-0.1031910    </td><td> 0.0743544    </td><td> 0.2453448    </td><td>-0.3807548    </td><td> 0.1670524    </td><td>-0.3300387    </td><td> 0.2490796    </td></tr>\n",
       "\t<tr><td>Pop16_APPC3802</td><td>0             </td><td>0.38          </td><td>4.18          </td><td>Pop16         </td><td>D14           </td><td>S174          </td><td>A3:4          </td><td> 0.2896614    </td><td> 0.3509004    </td><td>-0.0122319    </td><td> 0.1037075    </td><td>-0.0754242    </td><td>-0.2512747    </td><td> 0.3876338    </td><td>-0.1696397    </td><td> 0.3346410    </td><td>-0.2530999    </td></tr>\n",
       "\t<tr><td>Pop16_APPC3828</td><td>1             </td><td>6.88          </td><td>4.33          </td><td>Pop16         </td><td>D14           </td><td>S174          </td><td>A3:4          </td><td> 0.3269241    </td><td> 0.3958668    </td><td>-0.0138073    </td><td> 0.1169366    </td><td>-0.0851352    </td><td>-0.2835847    </td><td> 0.4372109    </td><td>-0.1914815    </td><td> 0.3774483    </td><td>-0.2856697    </td></tr>\n",
       "\t<tr><td>Pop16_APPC4102</td><td>0             </td><td>0.23          </td><td>4.15          </td><td>Pop16         </td><td>D9            </td><td>S97           </td><td>A2:4          </td><td>-0.2589612    </td><td>-0.3137049    </td><td> 0.0109271    </td><td>-0.0932053    </td><td> 0.0673722    </td><td> 0.2232014    </td><td>-0.3463583    </td><td> 0.1514641    </td><td>-0.2991476    </td><td> 0.2257567    </td></tr>\n",
       "\t<tr><td>Pop16_APPC4128</td><td>1             </td><td>7.30          </td><td>4.15          </td><td>Pop16         </td><td>D9            </td><td>S97           </td><td>A2:4          </td><td>-0.2517436    </td><td>-0.3050379    </td><td> 0.0106282    </td><td>-0.0903311    </td><td> 0.0655393    </td><td> 0.2179205    </td><td>-0.3370605    </td><td> 0.1473542    </td><td>-0.2909732    </td><td> 0.2198201    </td></tr>\n",
       "\t<tr><td>Pop16_APPC4201</td><td>0             </td><td>0.23          </td><td>4.06          </td><td>Pop16         </td><td>D29           </td><td>S122          </td><td>C3:2          </td><td>-0.2458638    </td><td>-0.2979042    </td><td> 0.0103792    </td><td>-0.0882320    </td><td> 0.0639933    </td><td> 0.2129748    </td><td>-0.3290115    </td><td> 0.1439134    </td><td>-0.2843023    </td><td> 0.2146959    </td></tr>\n",
       "\t<tr><td>Pop16_APPC4211</td><td>1             </td><td>7.45          </td><td>4.33          </td><td>Pop16         </td><td>D29           </td><td>S122          </td><td>C3:2          </td><td>-0.2341706    </td><td>-0.2837050    </td><td> 0.0098764    </td><td>-0.0839847    </td><td> 0.0609266    </td><td> 0.2023685    </td><td>-0.3133764    </td><td> 0.1370442    </td><td>-0.2706988    </td><td> 0.2043543    </td></tr>\n",
       "\t<tr><td>Pop16_APPC4215</td><td>1             </td><td>6.60          </td><td>4.19          </td><td>Pop16         </td><td>D29           </td><td>S122          </td><td>C3:2          </td><td>-0.1857256    </td><td>-0.2250776    </td><td> 0.0078427    </td><td>-0.0666183    </td><td> 0.0483445    </td><td> 0.1609690    </td><td>-0.2487630    </td><td> 0.1087400    </td><td>-0.2148178    </td><td> 0.1621837    </td></tr>\n",
       "</tbody>\n",
       "</table>\n"
      ],
      "text/latex": [
       "\\begin{tabular}{r|llllllllllllllllll}\n",
       " gen\\_id & Group & Ucrit & SL & Capture & dam & sire & tank & V1 & V2 & V3 & V4 & V5 & V6 & V7 & V8 & V9 & V10\\\\\n",
       "\\hline\n",
       "\t Pop01\\_APPC1611 & 1                & 8.13             & 4.40             & Pop01            & D125             & S144             & C1:4             &  1.3353486       &  0.3883862       & -0.0135418       &  0.1148110       & -0.0834899       & -0.2781414       &  0.4290567       & -0.1877678       &  0.3704657       & -0.2801444      \\\\\n",
       "\t Pop01\\_APPC1917 & 0                & 1.20             & 4.35             & Pop01            & D85              & S173             & C2:2             &  0.3883862       &  1.4457219       & -0.0164109       &  0.1396048       & -0.1011803       & -0.3369562       &  0.5191065       & -0.2275145       &  0.4480954       & -0.3393794      \\\\\n",
       "\t Pop01\\_APPC1921 & 1                & 7.33             & 4.28             & Pop01            & D85              & S173             & C2:2             & -0.0135418       & -0.0164109       &  0.9989417       & -0.0048510       &  0.0035284       &  0.0117386       & -0.0181368       &  0.0079301       & -0.0156596       &  0.0118300      \\\\\n",
       "\t Pop01\\_APPC2029 & 1                & 8.82             & 4.25             & Pop01            & D70              & S98              & A3:1             &  0.1148110       &  0.1396048       & -0.0048510       &  1.0802584       & -0.0298901       & -0.0999669       &  0.1530357       & -0.0673211       &  0.1322171       & -0.1005468      \\\\\n",
       "\t Pop01\\_APPC2030 & 1                & 7.32             & 4.54             & Pop01            & D70              & S98              & A3:1             & -0.0834899       & -0.1011803       &  0.0035284       & -0.0298901       &  0.9720282       &  0.0723817       & -0.1118132       &  0.0488852       & -0.0965492       &  0.0729405      \\\\\n",
       "\t Pop01\\_APPC2101 & 1                & 5.07             & 3.94             & Pop01            & D269             & S94              & D1:2             & -0.2781414       & -0.3369562       &  0.0117386       & -0.0999669       &  0.0723817       &  0.9689472       & -0.3721078       &  0.1627734       & -0.3213479       &  0.2429079      \\\\\n",
       "\t Pop01\\_APPC2215 & 1                & 6.33             & 4.29             & Pop01            & D19              & S175             & A1:4             &  0.4290567       &  0.5191065       & -0.0181368       &  0.1530357       & -0.1118132       & -0.3721078       &  1.5228390       & -0.2514610       &  0.4941109       & -0.3748729      \\\\\n",
       "\t Pop01\\_APPC2517 & 0                & 1.80             & 4.36             & Pop01            & D18              & S111             & B1:1             & -0.1877678       & -0.2275145       &  0.0079301       & -0.0673211       &  0.0488852       &  0.1627734       & -0.2514610       &  0.9523516       & -0.2171268       &  0.1639981      \\\\\n",
       "\t Pop01\\_APPC2817 & 0                & 0.30             & 4.43             & Pop01            & D130             & S152             & D3:2             &  0.3704657       &  0.4480954       & -0.0156596       &  0.1322171       & -0.0965492       & -0.3213479       &  0.4941109       & -0.2171268       &  1.4106041       & -0.3238520      \\\\\n",
       "\t Pop01\\_APPC2907 & 0                & 1.17             & 4.35             & Pop01            & D31              & S79              & C1:1             & -0.2801444       & -0.3393794       &  0.0118300       & -0.1005468       &  0.0729405       &  0.2429079       & -0.3748729       &  0.1639981       & -0.3238520       &  0.9712363      \\\\\n",
       "\t Pop02\\_APPC1006 & 0                & 2.00             & 4.13             & Pop02            & D55              & S129             & D2:4             & -0.3208874       & -0.3876555       &  0.0135163       & -0.1163622       &  0.0833974       &  0.2742976       & -0.4275970       &  0.1874610       & -0.3690688       &  0.2794158      \\\\\n",
       "\t Pop02\\_APPC1008 & 1                & 6.07             & 4.34             & Pop02            & D55              & S129             & D2:4             & -0.2724108       & -0.3300450       &  0.0114980       & -0.0977766       &  0.0709103       &  0.2360407       & -0.3645857       &  0.1594772       & -0.3149110       &  0.2380306      \\\\\n",
       "\t Pop02\\_APPC1010 & 1                & 6.22             &   NA             & Pop02            & D55              & S129             & D2:4             & -0.3086520       & -0.3731033       &  0.0129966       & -0.1114919       &  0.0802416       &  0.2647219       & -0.4114956       &  0.1803319       & -0.3557913       &  0.2689113      \\\\\n",
       "\t Pop02\\_APPC1015 & 0                & 1.92             & 4.25             & Pop02            & D55              & S129             & D2:4             & -0.2930705       & -0.3548719       &  0.0123647       & -0.1053686       &  0.0762507       &  0.2531172       & -0.3917102       &  0.1715180       & -0.3384742       &  0.2559024      \\\\\n",
       "\t Pop02\\_APPC3010 & 1                & 7.40             & 4.26             & Pop02            & D57              & S62              & B3:2             & -0.0506829       & -0.0614302       &  0.0021462       & -0.0181710       &  0.0131980       &  0.0439401       & -0.0678986       &  0.0296801       & -0.0586117       &  0.0442804      \\\\\n",
       "\t Pop02\\_APPC3012 & 0                & 1.75             & 4.35             & Pop02            & D57              & S62              & B3:2             & -0.2731121       & -0.3308683       &  0.0115417       & -0.0980030       &  0.0711061       &  0.2367414       & -0.3654967       &  0.1599029       & -0.3156761       &  0.2386059      \\\\\n",
       "\t Pop02\\_APPC3107 & 0                & 0.13             & 4.24             & Pop02            & D6               & S108             & A2:1             & -0.2268841       & -0.2749280       &  0.0095829       & -0.0813298       &  0.0590566       &  0.1966282       & -0.3037322       &  0.1328192       & -0.2623184       &  0.1981486      \\\\\n",
       "\t Pop02\\_APPC3226 & 0                & 0.47             & 4.14             & Pop02            & D5               & S137             & A1:5             &  0.3049977       &  0.3693660       & -0.0128861       &  0.1091482       & -0.0794350       & -0.2646064       &  0.4078874       & -0.1786281       &  0.3521923       & -0.2665187      \\\\\n",
       "\t Pop02\\_APPC3718 & 0                & 2.25             & 4.36             & Pop02            & D30              & S171             & A3:5             &  0.1070050       &  0.1296154       & -0.0045170       &  0.0382926       & -0.0278652       & -0.0928562       &  0.1431643       & -0.0626646       &  0.1236129       & -0.0935206      \\\\\n",
       "\t Pop02\\_APPC4006 & 0                & 0.37             & 4.48             & Pop02            & D13              & S103             & B3:3             & -0.1637535       & -0.1984733       &  0.0069136       & -0.0587372       &  0.0426289       &  0.1418852       & -0.2193291       &  0.0958627       & -0.1893985       &  0.1430302      \\\\\n",
       "\t Pop03\\_APPC1110 & 1                & 6.50             & 4.27             & Pop03            & D9               & S2               & A3:5             & -0.1970800       & -0.2388223       &  0.0083248       & -0.0706768       &  0.0513009       &  0.1707964       & -0.2638589       &  0.1153596       & -0.2278763       &  0.1721064      \\\\\n",
       "\t Pop03\\_APPC1116 & 0                & 0.90             & 4.33             & Pop03            & D9               & S2               & A3:5             & -0.1772924       & -0.2148458       &  0.0074873       & -0.0635824       &  0.0461578       &  0.1536762       & -0.2373777       &  0.1037987       & -0.2050446       &  0.1548456      \\\\\n",
       "\t Pop03\\_APPC1119 & 0                & 1.28             & 4.33             & Pop03            & D9               & S2               & A3:5             & -0.2348959       & -0.2845633       &  0.0099191       & -0.0842567       &  0.0611481       &  0.2034785       & -0.3144266       &  0.1374920       & -0.2715907       &  0.2051194      \\\\\n",
       "\t Pop03\\_APPC1127 & 1                & 6.57             & 4.37             & Pop03            & D9               & S2               & A3:5             & -0.2495913       & -0.3024122       &  0.0105423       & -0.0895445       &  0.0649704       &  0.2161448       & -0.3341649       &  0.1460642       & -0.2885723       &  0.2179128      \\\\\n",
       "\t Pop03\\_APPC1218 & 0                & 0.42             & 4.25             & Pop03            & D114             & S38              & B2:3             & -0.2611958       & -0.3165083       &  0.0110280       & -0.0936791       &  0.0679950       &  0.2263202       & -0.3495878       &  0.1528853       & -0.3019596       &  0.2281578      \\\\\n",
       "\t Pop03\\_APPC1219 & 0                & 1.00             & 4.27             & Pop03            & D114             & S38              & B2:3             & -0.0245685       & -0.0297679       &  0.0010374       & -0.0088081       &  0.0063960       &  0.0213076       & -0.0329136       &  0.0143800       & -0.0284042       &  0.0214607      \\\\\n",
       "\t Pop03\\_APPC1222 & 1                & 9.22             & 4.01             & Pop03            & D114             & S38              & B2:3             & -0.2050083       & -0.2484234       &  0.0086546       & -0.0735013       &  0.0533689       &  0.1776735       & -0.2744813       &  0.1200088       & -0.2370538       &  0.1790295      \\\\\n",
       "\t Pop03\\_APPC1224 & 1                & 8.68             & 4.19             & Pop03            & D114             & S38              & B2:3             & -0.2336374       & -0.2831350       &  0.0098624       & -0.0837707       &  0.0608272       &  0.2024975       & -0.3128399       &  0.1367829       & -0.2701465       &  0.2040702      \\\\\n",
       "\t Pop03\\_APPC1318 & 0                & 0.30             & 4.23             & Pop03            & D22              & S103             & B3:1             & -0.1631466       & -0.1977221       &  0.0068849       & -0.0585547       &  0.0424580       &  0.1411789       & -0.2184425       &  0.0954673       & -0.1887175       &  0.1424110      \\\\\n",
       "\t Pop03\\_APPC1325 & 1                & 5.65             & 4.11             & Pop03            & D22              & S103             & B3:1             & -0.1970834       & -0.2388275       &  0.0083132       & -0.0707055       &  0.0512843       &  0.1705934       & -0.2638401       &  0.1153337       & -0.2278816       &  0.1720540      \\\\\n",
       "\t ... & ... & ... & ... & ... & ... & ... & ... & ... & ... & ... & ... & ... & ... & ... & ... & ... & ...\\\\\n",
       "\t Pop13\\_APPC4407 & 1                & 7.17             & 4.09             & Pop13            & D55              & S129             & D2:5             & -0.2777151       & -0.3364446       &  0.0117264       & -0.0996609       &  0.0723046       &  0.2407603       & -0.3716826       &  0.1625798       & -0.3210287       &  0.2426893      \\\\\n",
       "\t Pop14\\_APPC0704 & 0                &   NA             & 4.13             & Pop14            & DNA              & SNA              &                  & -0.0161374       & -0.0195789       &  0.0006847       & -0.0057977       &  0.0041957       &  0.0139550       & -0.0216176       &  0.0094361       & -0.0187186       &  0.0140810      \\\\\n",
       "\t Pop14\\_APPC0706 & 1                &   NA             & 4.07             & Pop14            & DNA              & SNA              &                  &  0.1345919       &  0.1619241       & -0.0057183       &  0.0474406       & -0.0352121       & -0.1174116       &  0.1781496       & -0.0791161       &  0.1536798       & -0.1183134      \\\\\n",
       "\t Pop14\\_APPC0707 & 0                &   NA             &   NA             & Pop14            & DNA              & SNA              &                  &  0.0455247       &  0.0547641       & -0.0019382       &  0.0159138       & -0.0119113       & -0.0398507       &  0.0594896       & -0.0267655       &  0.0516077       & -0.0401401      \\\\\n",
       "\t Pop14\\_APPC0812 & 0                & 0.60             & 4.56             & Pop14            & D13              & S165             & B3:3             &  0.3780630       &  0.4559949       & -0.0159835       &  0.1340059       & -0.0987077       & -0.3284675       &  0.5015537       & -0.2219075       &  0.4325652       & -0.3308168      \\\\\n",
       "\t Pop14\\_APPC0815 & 1                & 8.00             & 4.52             & Pop14            & D13              & S165             & B3:3             &  0.3929139       &  0.4757343       & -0.0165944       &  0.1405248       & -0.1023329       & -0.3408579       &  0.5253780       & -0.2301294       &  0.4535723       & -0.3433405      \\\\\n",
       "\t Pop14\\_APPC0817 & 0                & 0.57             & 4.19             & Pop14            & D13              & S165             & B3:3             &  0.3873461       &  0.4680081       & -0.0163608       &  0.1376990       & -0.1010314       & -0.3364394       &  0.5154846       & -0.2272164       &  0.4447253       & -0.3388154      \\\\\n",
       "\t Pop14\\_APPC0821 & 1                & 7.48             & 4.42             & Pop14            & D13              & S165             & B3:3             &  0.3805959       &  0.4599310       & -0.0160920       &  0.1353818       & -0.0992966       & -0.3304600       &  0.5066097       & -0.2232843       &  0.4370655       & -0.3328610      \\\\\n",
       "\t Pop14\\_APPC0901 & 0                & 2.93             & 4.28             & Pop14            & D26              & S142             & D3:1             &  0.3261395       &  0.3940118       & -0.0137973       &  0.1160378       & -0.0850347       & -0.2831246       &  0.4343329       & -0.1912328       &  0.3749582       & -0.2851072      \\\\\n",
       "\t Pop14\\_APPC0904 & 1                & 8.52             & 3.92             & Pop14            & D26              & S142             & D3:1             &  0.2661737       &  0.3223569       & -0.0112416       &  0.0952506       & -0.0693138       & -0.2309530       &  0.3561321       & -0.1559002       &  0.3075191       & -0.2325585      \\\\\n",
       "\t Pop14\\_APPC0914 & 0                & 2.13             & 4.55             & Pop14            & D26              & S142             & D3:1             &  0.3219126       &  0.3891797       & -0.0136213       &  0.1145544       & -0.0839265       & -0.2794515       &  0.4288236       & -0.1887473       &  0.3699457       & -0.2814713      \\\\\n",
       "\t Pop15\\_APPC0909 & 1                & 8.33             &   NA             & Pop15            & D26              & S142             & D3:1             &  0.3039776       &  0.3681712       & -0.0128435       &  0.1087719       & -0.0791630       & -0.2637056       &  0.4066463       & -0.1780338       &  0.3510784       & -0.2655975      \\\\\n",
       "\t Pop15\\_APPC1502 & 0                & 2.25             & 4.35             & Pop15            & D10              & S156             & B2:5             &  0.3987445       &  0.4829307       & -0.0168496       &  0.1426564       & -0.1038492       & -0.3458662       &  0.5332194       & -0.2335410       &  0.4604721       & -0.3484272      \\\\\n",
       "\t Pop15\\_APPC1521 & 1                & 7.67             & 4.27             & Pop15            & D10              & S156             & B2:5             &  0.3205373       &  0.3882391       & -0.0135386       &  0.1147207       & -0.0834658       & -0.2780414       &  0.4289002       & -0.1877103       &  0.3703461       & -0.2800416      \\\\\n",
       "\t Pop15\\_APPC1522 & 1                & 8.68             & 4.46             & Pop15            & D10              & S156             & B2:5             &  0.3760276       &  0.4555277       & -0.0158827       &  0.1346158       & -0.0979283       & -0.3262181       &  0.5030485       & -0.2202335       &  0.4343906       & -0.3285558      \\\\\n",
       "\t Pop15\\_APPC2201 & 0                & 2.08             & 4.31             & Pop15            & D19              & S175             & A1:4             & -0.0046422       & -0.0056271       &  0.0002029       & -0.0016636       &  0.0012107       &  0.0040164       & -0.0062306       &  0.0027217       & -0.0053727       &  0.0040545      \\\\\n",
       "\t Pop15\\_APPC2212 & 1                & 6.70             & 4.30             & Pop15            & D19              & S175             & A1:4             &  0.4357078       &  0.5266546       & -0.0184317       &  0.1553169       & -0.1135985       & -0.3779328       &  0.5879294       & -0.2554753       &  0.5010295       & -0.3808101      \\\\\n",
       "\t Pop15\\_APPC2901 & 1                & 7.12             & 4.22             & Pop15            & D31              & S79              & C1:1             & -0.3132116       & -0.3790662       &  0.0132072       & -0.1126910       &  0.0815156       &  0.2704757       & -0.4177431       &  0.1831577       & -0.3611962       &  0.2768857      \\\\\n",
       "\t Pop15\\_APPC2914 & 0                & 0.55             & 4.28             & Pop15            & D31              & S79              & C1:1             & -0.2918623       & -0.3534978       &  0.0123196       & -0.1047911       &  0.0759652       &  0.2528204       & -0.3903688       &  0.1708576       & -0.3372366       &  0.2559858      \\\\\n",
       "\t Pop15\\_APPC4401 & 0                & 2.33             &   NA             & Pop15            & D55              & S129             & D2:5             & -0.2366593       & -0.2867662       &  0.0099947       & -0.0848512       &  0.0616119       &  0.2050957       & -0.3168642       &  0.1385532       & -0.2736683       &  0.2067156      \\\\\n",
       "\t Pop15\\_APPC4413 & 0                & 2.28             & 4.04             & Pop15            & D55              & S129             & D2:5             & -0.3076701       & -0.3725389       &  0.0129804       & -0.1109381       &  0.0800525       &  0.2651766       & -0.4108724       &  0.1800015       & -0.3551458       &  0.2685618      \\\\\n",
       "\t Pop16\\_APPC3601 & 0                & 2.53             & 4.31             & Pop16            & D61              & S2               & A1:2             & -0.1148423       & -0.1391699       &  0.0048506       & -0.0411579       &  0.0298987       &  0.0995643       & -0.1537915       &  0.0672378       & -0.1328097       &  0.1003028      \\\\\n",
       "\t Pop16\\_APPC3612 & 1                & 6.22             & 4.24             & Pop16            & D61              & S2               & A1:2             & -0.2858137       & -0.3459328       &  0.0120677       & -0.1031910       &  0.0743544       &  0.2453448       & -0.3807548       &  0.1670524       & -0.3300387       &  0.2490796      \\\\\n",
       "\t Pop16\\_APPC3802 & 0                & 0.38             & 4.18             & Pop16            & D14              & S174             & A3:4             &  0.2896614       &  0.3509004       & -0.0122319       &  0.1037075       & -0.0754242       & -0.2512747       &  0.3876338       & -0.1696397       &  0.3346410       & -0.2530999      \\\\\n",
       "\t Pop16\\_APPC3828 & 1                & 6.88             & 4.33             & Pop16            & D14              & S174             & A3:4             &  0.3269241       &  0.3958668       & -0.0138073       &  0.1169366       & -0.0851352       & -0.2835847       &  0.4372109       & -0.1914815       &  0.3774483       & -0.2856697      \\\\\n",
       "\t Pop16\\_APPC4102 & 0                & 0.23             & 4.15             & Pop16            & D9               & S97              & A2:4             & -0.2589612       & -0.3137049       &  0.0109271       & -0.0932053       &  0.0673722       &  0.2232014       & -0.3463583       &  0.1514641       & -0.2991476       &  0.2257567      \\\\\n",
       "\t Pop16\\_APPC4128 & 1                & 7.30             & 4.15             & Pop16            & D9               & S97              & A2:4             & -0.2517436       & -0.3050379       &  0.0106282       & -0.0903311       &  0.0655393       &  0.2179205       & -0.3370605       &  0.1473542       & -0.2909732       &  0.2198201      \\\\\n",
       "\t Pop16\\_APPC4201 & 0                & 0.23             & 4.06             & Pop16            & D29              & S122             & C3:2             & -0.2458638       & -0.2979042       &  0.0103792       & -0.0882320       &  0.0639933       &  0.2129748       & -0.3290115       &  0.1439134       & -0.2843023       &  0.2146959      \\\\\n",
       "\t Pop16\\_APPC4211 & 1                & 7.45             & 4.33             & Pop16            & D29              & S122             & C3:2             & -0.2341706       & -0.2837050       &  0.0098764       & -0.0839847       &  0.0609266       &  0.2023685       & -0.3133764       &  0.1370442       & -0.2706988       &  0.2043543      \\\\\n",
       "\t Pop16\\_APPC4215 & 1                & 6.60             & 4.19             & Pop16            & D29              & S122             & C3:2             & -0.1857256       & -0.2250776       &  0.0078427       & -0.0666183       &  0.0483445       &  0.1609690       & -0.2487630       &  0.1087400       & -0.2148178       &  0.1621837      \\\\\n",
       "\\end{tabular}\n"
      ],
      "text/markdown": [
       "\n",
       "| gen_id | Group | Ucrit | SL | Capture | dam | sire | tank | V1 | V2 | V3 | V4 | V5 | V6 | V7 | V8 | V9 | V10 |\n",
       "|---|---|---|---|---|---|---|---|---|---|---|---|---|---|---|---|---|---|\n",
       "| Pop01_APPC1611 | 1              | 8.13           | 4.40           | Pop01          | D125           | S144           | C1:4           |  1.3353486     |  0.3883862     | -0.0135418     |  0.1148110     | -0.0834899     | -0.2781414     |  0.4290567     | -0.1877678     |  0.3704657     | -0.2801444     |\n",
       "| Pop01_APPC1917 | 0              | 1.20           | 4.35           | Pop01          | D85            | S173           | C2:2           |  0.3883862     |  1.4457219     | -0.0164109     |  0.1396048     | -0.1011803     | -0.3369562     |  0.5191065     | -0.2275145     |  0.4480954     | -0.3393794     |\n",
       "| Pop01_APPC1921 | 1              | 7.33           | 4.28           | Pop01          | D85            | S173           | C2:2           | -0.0135418     | -0.0164109     |  0.9989417     | -0.0048510     |  0.0035284     |  0.0117386     | -0.0181368     |  0.0079301     | -0.0156596     |  0.0118300     |\n",
       "| Pop01_APPC2029 | 1              | 8.82           | 4.25           | Pop01          | D70            | S98            | A3:1           |  0.1148110     |  0.1396048     | -0.0048510     |  1.0802584     | -0.0298901     | -0.0999669     |  0.1530357     | -0.0673211     |  0.1322171     | -0.1005468     |\n",
       "| Pop01_APPC2030 | 1              | 7.32           | 4.54           | Pop01          | D70            | S98            | A3:1           | -0.0834899     | -0.1011803     |  0.0035284     | -0.0298901     |  0.9720282     |  0.0723817     | -0.1118132     |  0.0488852     | -0.0965492     |  0.0729405     |\n",
       "| Pop01_APPC2101 | 1              | 5.07           | 3.94           | Pop01          | D269           | S94            | D1:2           | -0.2781414     | -0.3369562     |  0.0117386     | -0.0999669     |  0.0723817     |  0.9689472     | -0.3721078     |  0.1627734     | -0.3213479     |  0.2429079     |\n",
       "| Pop01_APPC2215 | 1              | 6.33           | 4.29           | Pop01          | D19            | S175           | A1:4           |  0.4290567     |  0.5191065     | -0.0181368     |  0.1530357     | -0.1118132     | -0.3721078     |  1.5228390     | -0.2514610     |  0.4941109     | -0.3748729     |\n",
       "| Pop01_APPC2517 | 0              | 1.80           | 4.36           | Pop01          | D18            | S111           | B1:1           | -0.1877678     | -0.2275145     |  0.0079301     | -0.0673211     |  0.0488852     |  0.1627734     | -0.2514610     |  0.9523516     | -0.2171268     |  0.1639981     |\n",
       "| Pop01_APPC2817 | 0              | 0.30           | 4.43           | Pop01          | D130           | S152           | D3:2           |  0.3704657     |  0.4480954     | -0.0156596     |  0.1322171     | -0.0965492     | -0.3213479     |  0.4941109     | -0.2171268     |  1.4106041     | -0.3238520     |\n",
       "| Pop01_APPC2907 | 0              | 1.17           | 4.35           | Pop01          | D31            | S79            | C1:1           | -0.2801444     | -0.3393794     |  0.0118300     | -0.1005468     |  0.0729405     |  0.2429079     | -0.3748729     |  0.1639981     | -0.3238520     |  0.9712363     |\n",
       "| Pop02_APPC1006 | 0              | 2.00           | 4.13           | Pop02          | D55            | S129           | D2:4           | -0.3208874     | -0.3876555     |  0.0135163     | -0.1163622     |  0.0833974     |  0.2742976     | -0.4275970     |  0.1874610     | -0.3690688     |  0.2794158     |\n",
       "| Pop02_APPC1008 | 1              | 6.07           | 4.34           | Pop02          | D55            | S129           | D2:4           | -0.2724108     | -0.3300450     |  0.0114980     | -0.0977766     |  0.0709103     |  0.2360407     | -0.3645857     |  0.1594772     | -0.3149110     |  0.2380306     |\n",
       "| Pop02_APPC1010 | 1              | 6.22           |   NA           | Pop02          | D55            | S129           | D2:4           | -0.3086520     | -0.3731033     |  0.0129966     | -0.1114919     |  0.0802416     |  0.2647219     | -0.4114956     |  0.1803319     | -0.3557913     |  0.2689113     |\n",
       "| Pop02_APPC1015 | 0              | 1.92           | 4.25           | Pop02          | D55            | S129           | D2:4           | -0.2930705     | -0.3548719     |  0.0123647     | -0.1053686     |  0.0762507     |  0.2531172     | -0.3917102     |  0.1715180     | -0.3384742     |  0.2559024     |\n",
       "| Pop02_APPC3010 | 1              | 7.40           | 4.26           | Pop02          | D57            | S62            | B3:2           | -0.0506829     | -0.0614302     |  0.0021462     | -0.0181710     |  0.0131980     |  0.0439401     | -0.0678986     |  0.0296801     | -0.0586117     |  0.0442804     |\n",
       "| Pop02_APPC3012 | 0              | 1.75           | 4.35           | Pop02          | D57            | S62            | B3:2           | -0.2731121     | -0.3308683     |  0.0115417     | -0.0980030     |  0.0711061     |  0.2367414     | -0.3654967     |  0.1599029     | -0.3156761     |  0.2386059     |\n",
       "| Pop02_APPC3107 | 0              | 0.13           | 4.24           | Pop02          | D6             | S108           | A2:1           | -0.2268841     | -0.2749280     |  0.0095829     | -0.0813298     |  0.0590566     |  0.1966282     | -0.3037322     |  0.1328192     | -0.2623184     |  0.1981486     |\n",
       "| Pop02_APPC3226 | 0              | 0.47           | 4.14           | Pop02          | D5             | S137           | A1:5           |  0.3049977     |  0.3693660     | -0.0128861     |  0.1091482     | -0.0794350     | -0.2646064     |  0.4078874     | -0.1786281     |  0.3521923     | -0.2665187     |\n",
       "| Pop02_APPC3718 | 0              | 2.25           | 4.36           | Pop02          | D30            | S171           | A3:5           |  0.1070050     |  0.1296154     | -0.0045170     |  0.0382926     | -0.0278652     | -0.0928562     |  0.1431643     | -0.0626646     |  0.1236129     | -0.0935206     |\n",
       "| Pop02_APPC4006 | 0              | 0.37           | 4.48           | Pop02          | D13            | S103           | B3:3           | -0.1637535     | -0.1984733     |  0.0069136     | -0.0587372     |  0.0426289     |  0.1418852     | -0.2193291     |  0.0958627     | -0.1893985     |  0.1430302     |\n",
       "| Pop03_APPC1110 | 1              | 6.50           | 4.27           | Pop03          | D9             | S2             | A3:5           | -0.1970800     | -0.2388223     |  0.0083248     | -0.0706768     |  0.0513009     |  0.1707964     | -0.2638589     |  0.1153596     | -0.2278763     |  0.1721064     |\n",
       "| Pop03_APPC1116 | 0              | 0.90           | 4.33           | Pop03          | D9             | S2             | A3:5           | -0.1772924     | -0.2148458     |  0.0074873     | -0.0635824     |  0.0461578     |  0.1536762     | -0.2373777     |  0.1037987     | -0.2050446     |  0.1548456     |\n",
       "| Pop03_APPC1119 | 0              | 1.28           | 4.33           | Pop03          | D9             | S2             | A3:5           | -0.2348959     | -0.2845633     |  0.0099191     | -0.0842567     |  0.0611481     |  0.2034785     | -0.3144266     |  0.1374920     | -0.2715907     |  0.2051194     |\n",
       "| Pop03_APPC1127 | 1              | 6.57           | 4.37           | Pop03          | D9             | S2             | A3:5           | -0.2495913     | -0.3024122     |  0.0105423     | -0.0895445     |  0.0649704     |  0.2161448     | -0.3341649     |  0.1460642     | -0.2885723     |  0.2179128     |\n",
       "| Pop03_APPC1218 | 0              | 0.42           | 4.25           | Pop03          | D114           | S38            | B2:3           | -0.2611958     | -0.3165083     |  0.0110280     | -0.0936791     |  0.0679950     |  0.2263202     | -0.3495878     |  0.1528853     | -0.3019596     |  0.2281578     |\n",
       "| Pop03_APPC1219 | 0              | 1.00           | 4.27           | Pop03          | D114           | S38            | B2:3           | -0.0245685     | -0.0297679     |  0.0010374     | -0.0088081     |  0.0063960     |  0.0213076     | -0.0329136     |  0.0143800     | -0.0284042     |  0.0214607     |\n",
       "| Pop03_APPC1222 | 1              | 9.22           | 4.01           | Pop03          | D114           | S38            | B2:3           | -0.2050083     | -0.2484234     |  0.0086546     | -0.0735013     |  0.0533689     |  0.1776735     | -0.2744813     |  0.1200088     | -0.2370538     |  0.1790295     |\n",
       "| Pop03_APPC1224 | 1              | 8.68           | 4.19           | Pop03          | D114           | S38            | B2:3           | -0.2336374     | -0.2831350     |  0.0098624     | -0.0837707     |  0.0608272     |  0.2024975     | -0.3128399     |  0.1367829     | -0.2701465     |  0.2040702     |\n",
       "| Pop03_APPC1318 | 0              | 0.30           | 4.23           | Pop03          | D22            | S103           | B3:1           | -0.1631466     | -0.1977221     |  0.0068849     | -0.0585547     |  0.0424580     |  0.1411789     | -0.2184425     |  0.0954673     | -0.1887175     |  0.1424110     |\n",
       "| Pop03_APPC1325 | 1              | 5.65           | 4.11           | Pop03          | D22            | S103           | B3:1           | -0.1970834     | -0.2388275     |  0.0083132     | -0.0707055     |  0.0512843     |  0.1705934     | -0.2638401     |  0.1153337     | -0.2278816     |  0.1720540     |\n",
       "| ... | ... | ... | ... | ... | ... | ... | ... | ... | ... | ... | ... | ... | ... | ... | ... | ... | ... |\n",
       "| Pop13_APPC4407 | 1              | 7.17           | 4.09           | Pop13          | D55            | S129           | D2:5           | -0.2777151     | -0.3364446     |  0.0117264     | -0.0996609     |  0.0723046     |  0.2407603     | -0.3716826     |  0.1625798     | -0.3210287     |  0.2426893     |\n",
       "| Pop14_APPC0704 | 0              |   NA           | 4.13           | Pop14          | DNA            | SNA            |                | -0.0161374     | -0.0195789     |  0.0006847     | -0.0057977     |  0.0041957     |  0.0139550     | -0.0216176     |  0.0094361     | -0.0187186     |  0.0140810     |\n",
       "| Pop14_APPC0706 | 1              |   NA           | 4.07           | Pop14          | DNA            | SNA            |                |  0.1345919     |  0.1619241     | -0.0057183     |  0.0474406     | -0.0352121     | -0.1174116     |  0.1781496     | -0.0791161     |  0.1536798     | -0.1183134     |\n",
       "| Pop14_APPC0707 | 0              |   NA           |   NA           | Pop14          | DNA            | SNA            |                |  0.0455247     |  0.0547641     | -0.0019382     |  0.0159138     | -0.0119113     | -0.0398507     |  0.0594896     | -0.0267655     |  0.0516077     | -0.0401401     |\n",
       "| Pop14_APPC0812 | 0              | 0.60           | 4.56           | Pop14          | D13            | S165           | B3:3           |  0.3780630     |  0.4559949     | -0.0159835     |  0.1340059     | -0.0987077     | -0.3284675     |  0.5015537     | -0.2219075     |  0.4325652     | -0.3308168     |\n",
       "| Pop14_APPC0815 | 1              | 8.00           | 4.52           | Pop14          | D13            | S165           | B3:3           |  0.3929139     |  0.4757343     | -0.0165944     |  0.1405248     | -0.1023329     | -0.3408579     |  0.5253780     | -0.2301294     |  0.4535723     | -0.3433405     |\n",
       "| Pop14_APPC0817 | 0              | 0.57           | 4.19           | Pop14          | D13            | S165           | B3:3           |  0.3873461     |  0.4680081     | -0.0163608     |  0.1376990     | -0.1010314     | -0.3364394     |  0.5154846     | -0.2272164     |  0.4447253     | -0.3388154     |\n",
       "| Pop14_APPC0821 | 1              | 7.48           | 4.42           | Pop14          | D13            | S165           | B3:3           |  0.3805959     |  0.4599310     | -0.0160920     |  0.1353818     | -0.0992966     | -0.3304600     |  0.5066097     | -0.2232843     |  0.4370655     | -0.3328610     |\n",
       "| Pop14_APPC0901 | 0              | 2.93           | 4.28           | Pop14          | D26            | S142           | D3:1           |  0.3261395     |  0.3940118     | -0.0137973     |  0.1160378     | -0.0850347     | -0.2831246     |  0.4343329     | -0.1912328     |  0.3749582     | -0.2851072     |\n",
       "| Pop14_APPC0904 | 1              | 8.52           | 3.92           | Pop14          | D26            | S142           | D3:1           |  0.2661737     |  0.3223569     | -0.0112416     |  0.0952506     | -0.0693138     | -0.2309530     |  0.3561321     | -0.1559002     |  0.3075191     | -0.2325585     |\n",
       "| Pop14_APPC0914 | 0              | 2.13           | 4.55           | Pop14          | D26            | S142           | D3:1           |  0.3219126     |  0.3891797     | -0.0136213     |  0.1145544     | -0.0839265     | -0.2794515     |  0.4288236     | -0.1887473     |  0.3699457     | -0.2814713     |\n",
       "| Pop15_APPC0909 | 1              | 8.33           |   NA           | Pop15          | D26            | S142           | D3:1           |  0.3039776     |  0.3681712     | -0.0128435     |  0.1087719     | -0.0791630     | -0.2637056     |  0.4066463     | -0.1780338     |  0.3510784     | -0.2655975     |\n",
       "| Pop15_APPC1502 | 0              | 2.25           | 4.35           | Pop15          | D10            | S156           | B2:5           |  0.3987445     |  0.4829307     | -0.0168496     |  0.1426564     | -0.1038492     | -0.3458662     |  0.5332194     | -0.2335410     |  0.4604721     | -0.3484272     |\n",
       "| Pop15_APPC1521 | 1              | 7.67           | 4.27           | Pop15          | D10            | S156           | B2:5           |  0.3205373     |  0.3882391     | -0.0135386     |  0.1147207     | -0.0834658     | -0.2780414     |  0.4289002     | -0.1877103     |  0.3703461     | -0.2800416     |\n",
       "| Pop15_APPC1522 | 1              | 8.68           | 4.46           | Pop15          | D10            | S156           | B2:5           |  0.3760276     |  0.4555277     | -0.0158827     |  0.1346158     | -0.0979283     | -0.3262181     |  0.5030485     | -0.2202335     |  0.4343906     | -0.3285558     |\n",
       "| Pop15_APPC2201 | 0              | 2.08           | 4.31           | Pop15          | D19            | S175           | A1:4           | -0.0046422     | -0.0056271     |  0.0002029     | -0.0016636     |  0.0012107     |  0.0040164     | -0.0062306     |  0.0027217     | -0.0053727     |  0.0040545     |\n",
       "| Pop15_APPC2212 | 1              | 6.70           | 4.30           | Pop15          | D19            | S175           | A1:4           |  0.4357078     |  0.5266546     | -0.0184317     |  0.1553169     | -0.1135985     | -0.3779328     |  0.5879294     | -0.2554753     |  0.5010295     | -0.3808101     |\n",
       "| Pop15_APPC2901 | 1              | 7.12           | 4.22           | Pop15          | D31            | S79            | C1:1           | -0.3132116     | -0.3790662     |  0.0132072     | -0.1126910     |  0.0815156     |  0.2704757     | -0.4177431     |  0.1831577     | -0.3611962     |  0.2768857     |\n",
       "| Pop15_APPC2914 | 0              | 0.55           | 4.28           | Pop15          | D31            | S79            | C1:1           | -0.2918623     | -0.3534978     |  0.0123196     | -0.1047911     |  0.0759652     |  0.2528204     | -0.3903688     |  0.1708576     | -0.3372366     |  0.2559858     |\n",
       "| Pop15_APPC4401 | 0              | 2.33           |   NA           | Pop15          | D55            | S129           | D2:5           | -0.2366593     | -0.2867662     |  0.0099947     | -0.0848512     |  0.0616119     |  0.2050957     | -0.3168642     |  0.1385532     | -0.2736683     |  0.2067156     |\n",
       "| Pop15_APPC4413 | 0              | 2.28           | 4.04           | Pop15          | D55            | S129           | D2:5           | -0.3076701     | -0.3725389     |  0.0129804     | -0.1109381     |  0.0800525     |  0.2651766     | -0.4108724     |  0.1800015     | -0.3551458     |  0.2685618     |\n",
       "| Pop16_APPC3601 | 0              | 2.53           | 4.31           | Pop16          | D61            | S2             | A1:2           | -0.1148423     | -0.1391699     |  0.0048506     | -0.0411579     |  0.0298987     |  0.0995643     | -0.1537915     |  0.0672378     | -0.1328097     |  0.1003028     |\n",
       "| Pop16_APPC3612 | 1              | 6.22           | 4.24           | Pop16          | D61            | S2             | A1:2           | -0.2858137     | -0.3459328     |  0.0120677     | -0.1031910     |  0.0743544     |  0.2453448     | -0.3807548     |  0.1670524     | -0.3300387     |  0.2490796     |\n",
       "| Pop16_APPC3802 | 0              | 0.38           | 4.18           | Pop16          | D14            | S174           | A3:4           |  0.2896614     |  0.3509004     | -0.0122319     |  0.1037075     | -0.0754242     | -0.2512747     |  0.3876338     | -0.1696397     |  0.3346410     | -0.2530999     |\n",
       "| Pop16_APPC3828 | 1              | 6.88           | 4.33           | Pop16          | D14            | S174           | A3:4           |  0.3269241     |  0.3958668     | -0.0138073     |  0.1169366     | -0.0851352     | -0.2835847     |  0.4372109     | -0.1914815     |  0.3774483     | -0.2856697     |\n",
       "| Pop16_APPC4102 | 0              | 0.23           | 4.15           | Pop16          | D9             | S97            | A2:4           | -0.2589612     | -0.3137049     |  0.0109271     | -0.0932053     |  0.0673722     |  0.2232014     | -0.3463583     |  0.1514641     | -0.2991476     |  0.2257567     |\n",
       "| Pop16_APPC4128 | 1              | 7.30           | 4.15           | Pop16          | D9             | S97            | A2:4           | -0.2517436     | -0.3050379     |  0.0106282     | -0.0903311     |  0.0655393     |  0.2179205     | -0.3370605     |  0.1473542     | -0.2909732     |  0.2198201     |\n",
       "| Pop16_APPC4201 | 0              | 0.23           | 4.06           | Pop16          | D29            | S122           | C3:2           | -0.2458638     | -0.2979042     |  0.0103792     | -0.0882320     |  0.0639933     |  0.2129748     | -0.3290115     |  0.1439134     | -0.2843023     |  0.2146959     |\n",
       "| Pop16_APPC4211 | 1              | 7.45           | 4.33           | Pop16          | D29            | S122           | C3:2           | -0.2341706     | -0.2837050     |  0.0098764     | -0.0839847     |  0.0609266     |  0.2023685     | -0.3133764     |  0.1370442     | -0.2706988     |  0.2043543     |\n",
       "| Pop16_APPC4215 | 1              | 6.60           | 4.19           | Pop16          | D29            | S122           | C3:2           | -0.1857256     | -0.2250776     |  0.0078427     | -0.0666183     |  0.0483445     |  0.1609690     | -0.2487630     |  0.1087400     | -0.2148178     |  0.1621837     |\n",
       "\n"
      ],
      "text/plain": [
       "    gen_id         Group Ucrit SL   Capture dam  sire tank V1        \n",
       "1   Pop01_APPC1611 1     8.13  4.40 Pop01   D125 S144 C1:4  1.3353486\n",
       "2   Pop01_APPC1917 0     1.20  4.35 Pop01   D85  S173 C2:2  0.3883862\n",
       "3   Pop01_APPC1921 1     7.33  4.28 Pop01   D85  S173 C2:2 -0.0135418\n",
       "4   Pop01_APPC2029 1     8.82  4.25 Pop01   D70  S98  A3:1  0.1148110\n",
       "5   Pop01_APPC2030 1     7.32  4.54 Pop01   D70  S98  A3:1 -0.0834899\n",
       "6   Pop01_APPC2101 1     5.07  3.94 Pop01   D269 S94  D1:2 -0.2781414\n",
       "7   Pop01_APPC2215 1     6.33  4.29 Pop01   D19  S175 A1:4  0.4290567\n",
       "8   Pop01_APPC2517 0     1.80  4.36 Pop01   D18  S111 B1:1 -0.1877678\n",
       "9   Pop01_APPC2817 0     0.30  4.43 Pop01   D130 S152 D3:2  0.3704657\n",
       "10  Pop01_APPC2907 0     1.17  4.35 Pop01   D31  S79  C1:1 -0.2801444\n",
       "11  Pop02_APPC1006 0     2.00  4.13 Pop02   D55  S129 D2:4 -0.3208874\n",
       "12  Pop02_APPC1008 1     6.07  4.34 Pop02   D55  S129 D2:4 -0.2724108\n",
       "13  Pop02_APPC1010 1     6.22    NA Pop02   D55  S129 D2:4 -0.3086520\n",
       "14  Pop02_APPC1015 0     1.92  4.25 Pop02   D55  S129 D2:4 -0.2930705\n",
       "15  Pop02_APPC3010 1     7.40  4.26 Pop02   D57  S62  B3:2 -0.0506829\n",
       "16  Pop02_APPC3012 0     1.75  4.35 Pop02   D57  S62  B3:2 -0.2731121\n",
       "17  Pop02_APPC3107 0     0.13  4.24 Pop02   D6   S108 A2:1 -0.2268841\n",
       "18  Pop02_APPC3226 0     0.47  4.14 Pop02   D5   S137 A1:5  0.3049977\n",
       "19  Pop02_APPC3718 0     2.25  4.36 Pop02   D30  S171 A3:5  0.1070050\n",
       "20  Pop02_APPC4006 0     0.37  4.48 Pop02   D13  S103 B3:3 -0.1637535\n",
       "21  Pop03_APPC1110 1     6.50  4.27 Pop03   D9   S2   A3:5 -0.1970800\n",
       "22  Pop03_APPC1116 0     0.90  4.33 Pop03   D9   S2   A3:5 -0.1772924\n",
       "23  Pop03_APPC1119 0     1.28  4.33 Pop03   D9   S2   A3:5 -0.2348959\n",
       "24  Pop03_APPC1127 1     6.57  4.37 Pop03   D9   S2   A3:5 -0.2495913\n",
       "25  Pop03_APPC1218 0     0.42  4.25 Pop03   D114 S38  B2:3 -0.2611958\n",
       "26  Pop03_APPC1219 0     1.00  4.27 Pop03   D114 S38  B2:3 -0.0245685\n",
       "27  Pop03_APPC1222 1     9.22  4.01 Pop03   D114 S38  B2:3 -0.2050083\n",
       "28  Pop03_APPC1224 1     8.68  4.19 Pop03   D114 S38  B2:3 -0.2336374\n",
       "29  Pop03_APPC1318 0     0.30  4.23 Pop03   D22  S103 B3:1 -0.1631466\n",
       "30  Pop03_APPC1325 1     5.65  4.11 Pop03   D22  S103 B3:1 -0.1970834\n",
       "... ...            ...   ...   ...  ...     ...  ...  ...  ...       \n",
       "130 Pop13_APPC4407 1     7.17  4.09 Pop13   D55  S129 D2:5 -0.2777151\n",
       "131 Pop14_APPC0704 0       NA  4.13 Pop14   DNA  SNA       -0.0161374\n",
       "132 Pop14_APPC0706 1       NA  4.07 Pop14   DNA  SNA        0.1345919\n",
       "133 Pop14_APPC0707 0       NA    NA Pop14   DNA  SNA        0.0455247\n",
       "134 Pop14_APPC0812 0     0.60  4.56 Pop14   D13  S165 B3:3  0.3780630\n",
       "135 Pop14_APPC0815 1     8.00  4.52 Pop14   D13  S165 B3:3  0.3929139\n",
       "136 Pop14_APPC0817 0     0.57  4.19 Pop14   D13  S165 B3:3  0.3873461\n",
       "137 Pop14_APPC0821 1     7.48  4.42 Pop14   D13  S165 B3:3  0.3805959\n",
       "138 Pop14_APPC0901 0     2.93  4.28 Pop14   D26  S142 D3:1  0.3261395\n",
       "139 Pop14_APPC0904 1     8.52  3.92 Pop14   D26  S142 D3:1  0.2661737\n",
       "140 Pop14_APPC0914 0     2.13  4.55 Pop14   D26  S142 D3:1  0.3219126\n",
       "141 Pop15_APPC0909 1     8.33    NA Pop15   D26  S142 D3:1  0.3039776\n",
       "142 Pop15_APPC1502 0     2.25  4.35 Pop15   D10  S156 B2:5  0.3987445\n",
       "143 Pop15_APPC1521 1     7.67  4.27 Pop15   D10  S156 B2:5  0.3205373\n",
       "144 Pop15_APPC1522 1     8.68  4.46 Pop15   D10  S156 B2:5  0.3760276\n",
       "145 Pop15_APPC2201 0     2.08  4.31 Pop15   D19  S175 A1:4 -0.0046422\n",
       "146 Pop15_APPC2212 1     6.70  4.30 Pop15   D19  S175 A1:4  0.4357078\n",
       "147 Pop15_APPC2901 1     7.12  4.22 Pop15   D31  S79  C1:1 -0.3132116\n",
       "148 Pop15_APPC2914 0     0.55  4.28 Pop15   D31  S79  C1:1 -0.2918623\n",
       "149 Pop15_APPC4401 0     2.33    NA Pop15   D55  S129 D2:5 -0.2366593\n",
       "150 Pop15_APPC4413 0     2.28  4.04 Pop15   D55  S129 D2:5 -0.3076701\n",
       "151 Pop16_APPC3601 0     2.53  4.31 Pop16   D61  S2   A1:2 -0.1148423\n",
       "152 Pop16_APPC3612 1     6.22  4.24 Pop16   D61  S2   A1:2 -0.2858137\n",
       "153 Pop16_APPC3802 0     0.38  4.18 Pop16   D14  S174 A3:4  0.2896614\n",
       "154 Pop16_APPC3828 1     6.88  4.33 Pop16   D14  S174 A3:4  0.3269241\n",
       "155 Pop16_APPC4102 0     0.23  4.15 Pop16   D9   S97  A2:4 -0.2589612\n",
       "156 Pop16_APPC4128 1     7.30  4.15 Pop16   D9   S97  A2:4 -0.2517436\n",
       "157 Pop16_APPC4201 0     0.23  4.06 Pop16   D29  S122 C3:2 -0.2458638\n",
       "158 Pop16_APPC4211 1     7.45  4.33 Pop16   D29  S122 C3:2 -0.2341706\n",
       "159 Pop16_APPC4215 1     6.60  4.19 Pop16   D29  S122 C3:2 -0.1857256\n",
       "    V2         V3         V4         V5         V6         V7        \n",
       "1    0.3883862 -0.0135418  0.1148110 -0.0834899 -0.2781414  0.4290567\n",
       "2    1.4457219 -0.0164109  0.1396048 -0.1011803 -0.3369562  0.5191065\n",
       "3   -0.0164109  0.9989417 -0.0048510  0.0035284  0.0117386 -0.0181368\n",
       "4    0.1396048 -0.0048510  1.0802584 -0.0298901 -0.0999669  0.1530357\n",
       "5   -0.1011803  0.0035284 -0.0298901  0.9720282  0.0723817 -0.1118132\n",
       "6   -0.3369562  0.0117386 -0.0999669  0.0723817  0.9689472 -0.3721078\n",
       "7    0.5191065 -0.0181368  0.1530357 -0.1118132 -0.3721078  1.5228390\n",
       "8   -0.2275145  0.0079301 -0.0673211  0.0488852  0.1627734 -0.2514610\n",
       "9    0.4480954 -0.0156596  0.1322171 -0.0965492 -0.3213479  0.4941109\n",
       "10  -0.3393794  0.0118300 -0.1005468  0.0729405  0.2429079 -0.3748729\n",
       "11  -0.3876555  0.0135163 -0.1163622  0.0833974  0.2742976 -0.4275970\n",
       "12  -0.3300450  0.0114980 -0.0977766  0.0709103  0.2360407 -0.3645857\n",
       "13  -0.3731033  0.0129966 -0.1114919  0.0802416  0.2647219 -0.4114956\n",
       "14  -0.3548719  0.0123647 -0.1053686  0.0762507  0.2531172 -0.3917102\n",
       "15  -0.0614302  0.0021462 -0.0181710  0.0131980  0.0439401 -0.0678986\n",
       "16  -0.3308683  0.0115417 -0.0980030  0.0711061  0.2367414 -0.3654967\n",
       "17  -0.2749280  0.0095829 -0.0813298  0.0590566  0.1966282 -0.3037322\n",
       "18   0.3693660 -0.0128861  0.1091482 -0.0794350 -0.2646064  0.4078874\n",
       "19   0.1296154 -0.0045170  0.0382926 -0.0278652 -0.0928562  0.1431643\n",
       "20  -0.1984733  0.0069136 -0.0587372  0.0426289  0.1418852 -0.2193291\n",
       "21  -0.2388223  0.0083248 -0.0706768  0.0513009  0.1707964 -0.2638589\n",
       "22  -0.2148458  0.0074873 -0.0635824  0.0461578  0.1536762 -0.2373777\n",
       "23  -0.2845633  0.0099191 -0.0842567  0.0611481  0.2034785 -0.3144266\n",
       "24  -0.3024122  0.0105423 -0.0895445  0.0649704  0.2161448 -0.3341649\n",
       "25  -0.3165083  0.0110280 -0.0936791  0.0679950  0.2263202 -0.3495878\n",
       "26  -0.0297679  0.0010374 -0.0088081  0.0063960  0.0213076 -0.0329136\n",
       "27  -0.2484234  0.0086546 -0.0735013  0.0533689  0.1776735 -0.2744813\n",
       "28  -0.2831350  0.0098624 -0.0837707  0.0608272  0.2024975 -0.3128399\n",
       "29  -0.1977221  0.0068849 -0.0585547  0.0424580  0.1411789 -0.2184425\n",
       "30  -0.2388275  0.0083132 -0.0707055  0.0512843  0.1705934 -0.2638401\n",
       "... ...        ...        ...        ...        ...        ...       \n",
       "130 -0.3364446  0.0117264 -0.0996609  0.0723046  0.2407603 -0.3716826\n",
       "131 -0.0195789  0.0006847 -0.0057977  0.0041957  0.0139550 -0.0216176\n",
       "132  0.1619241 -0.0057183  0.0474406 -0.0352121 -0.1174116  0.1781496\n",
       "133  0.0547641 -0.0019382  0.0159138 -0.0119113 -0.0398507  0.0594896\n",
       "134  0.4559949 -0.0159835  0.1340059 -0.0987077 -0.3284675  0.5015537\n",
       "135  0.4757343 -0.0165944  0.1405248 -0.1023329 -0.3408579  0.5253780\n",
       "136  0.4680081 -0.0163608  0.1376990 -0.1010314 -0.3364394  0.5154846\n",
       "137  0.4599310 -0.0160920  0.1353818 -0.0992966 -0.3304600  0.5066097\n",
       "138  0.3940118 -0.0137973  0.1160378 -0.0850347 -0.2831246  0.4343329\n",
       "139  0.3223569 -0.0112416  0.0952506 -0.0693138 -0.2309530  0.3561321\n",
       "140  0.3891797 -0.0136213  0.1145544 -0.0839265 -0.2794515  0.4288236\n",
       "141  0.3681712 -0.0128435  0.1087719 -0.0791630 -0.2637056  0.4066463\n",
       "142  0.4829307 -0.0168496  0.1426564 -0.1038492 -0.3458662  0.5332194\n",
       "143  0.3882391 -0.0135386  0.1147207 -0.0834658 -0.2780414  0.4289002\n",
       "144  0.4555277 -0.0158827  0.1346158 -0.0979283 -0.3262181  0.5030485\n",
       "145 -0.0056271  0.0002029 -0.0016636  0.0012107  0.0040164 -0.0062306\n",
       "146  0.5266546 -0.0184317  0.1553169 -0.1135985 -0.3779328  0.5879294\n",
       "147 -0.3790662  0.0132072 -0.1126910  0.0815156  0.2704757 -0.4177431\n",
       "148 -0.3534978  0.0123196 -0.1047911  0.0759652  0.2528204 -0.3903688\n",
       "149 -0.2867662  0.0099947 -0.0848512  0.0616119  0.2050957 -0.3168642\n",
       "150 -0.3725389  0.0129804 -0.1109381  0.0800525  0.2651766 -0.4108724\n",
       "151 -0.1391699  0.0048506 -0.0411579  0.0298987  0.0995643 -0.1537915\n",
       "152 -0.3459328  0.0120677 -0.1031910  0.0743544  0.2453448 -0.3807548\n",
       "153  0.3509004 -0.0122319  0.1037075 -0.0754242 -0.2512747  0.3876338\n",
       "154  0.3958668 -0.0138073  0.1169366 -0.0851352 -0.2835847  0.4372109\n",
       "155 -0.3137049  0.0109271 -0.0932053  0.0673722  0.2232014 -0.3463583\n",
       "156 -0.3050379  0.0106282 -0.0903311  0.0655393  0.2179205 -0.3370605\n",
       "157 -0.2979042  0.0103792 -0.0882320  0.0639933  0.2129748 -0.3290115\n",
       "158 -0.2837050  0.0098764 -0.0839847  0.0609266  0.2023685 -0.3133764\n",
       "159 -0.2250776  0.0078427 -0.0666183  0.0483445  0.1609690 -0.2487630\n",
       "    V8         V9         V10       \n",
       "1   -0.1877678  0.3704657 -0.2801444\n",
       "2   -0.2275145  0.4480954 -0.3393794\n",
       "3    0.0079301 -0.0156596  0.0118300\n",
       "4   -0.0673211  0.1322171 -0.1005468\n",
       "5    0.0488852 -0.0965492  0.0729405\n",
       "6    0.1627734 -0.3213479  0.2429079\n",
       "7   -0.2514610  0.4941109 -0.3748729\n",
       "8    0.9523516 -0.2171268  0.1639981\n",
       "9   -0.2171268  1.4106041 -0.3238520\n",
       "10   0.1639981 -0.3238520  0.9712363\n",
       "11   0.1874610 -0.3690688  0.2794158\n",
       "12   0.1594772 -0.3149110  0.2380306\n",
       "13   0.1803319 -0.3557913  0.2689113\n",
       "14   0.1715180 -0.3384742  0.2559024\n",
       "15   0.0296801 -0.0586117  0.0442804\n",
       "16   0.1599029 -0.3156761  0.2386059\n",
       "17   0.1328192 -0.2623184  0.1981486\n",
       "18  -0.1786281  0.3521923 -0.2665187\n",
       "19  -0.0626646  0.1236129 -0.0935206\n",
       "20   0.0958627 -0.1893985  0.1430302\n",
       "21   0.1153596 -0.2278763  0.1721064\n",
       "22   0.1037987 -0.2050446  0.1548456\n",
       "23   0.1374920 -0.2715907  0.2051194\n",
       "24   0.1460642 -0.2885723  0.2179128\n",
       "25   0.1528853 -0.3019596  0.2281578\n",
       "26   0.0143800 -0.0284042  0.0214607\n",
       "27   0.1200088 -0.2370538  0.1790295\n",
       "28   0.1367829 -0.2701465  0.2040702\n",
       "29   0.0954673 -0.1887175  0.1424110\n",
       "30   0.1153337 -0.2278816  0.1720540\n",
       "... ...        ...        ...       \n",
       "130  0.1625798 -0.3210287  0.2426893\n",
       "131  0.0094361 -0.0187186  0.0140810\n",
       "132 -0.0791161  0.1536798 -0.1183134\n",
       "133 -0.0267655  0.0516077 -0.0401401\n",
       "134 -0.2219075  0.4325652 -0.3308168\n",
       "135 -0.2301294  0.4535723 -0.3433405\n",
       "136 -0.2272164  0.4447253 -0.3388154\n",
       "137 -0.2232843  0.4370655 -0.3328610\n",
       "138 -0.1912328  0.3749582 -0.2851072\n",
       "139 -0.1559002  0.3075191 -0.2325585\n",
       "140 -0.1887473  0.3699457 -0.2814713\n",
       "141 -0.1780338  0.3510784 -0.2655975\n",
       "142 -0.2335410  0.4604721 -0.3484272\n",
       "143 -0.1877103  0.3703461 -0.2800416\n",
       "144 -0.2202335  0.4343906 -0.3285558\n",
       "145  0.0027217 -0.0053727  0.0040545\n",
       "146 -0.2554753  0.5010295 -0.3808101\n",
       "147  0.1831577 -0.3611962  0.2768857\n",
       "148  0.1708576 -0.3372366  0.2559858\n",
       "149  0.1385532 -0.2736683  0.2067156\n",
       "150  0.1800015 -0.3551458  0.2685618\n",
       "151  0.0672378 -0.1328097  0.1003028\n",
       "152  0.1670524 -0.3300387  0.2490796\n",
       "153 -0.1696397  0.3346410 -0.2530999\n",
       "154 -0.1914815  0.3774483 -0.2856697\n",
       "155  0.1514641 -0.2991476  0.2257567\n",
       "156  0.1473542 -0.2909732  0.2198201\n",
       "157  0.1439134 -0.2843023  0.2146959\n",
       "158  0.1370442 -0.2706988  0.2043543\n",
       "159  0.1087400 -0.2148178  0.1621837"
      ]
     },
     "metadata": {},
     "output_type": "display_data"
    }
   ],
   "source": [
    "qc_format"
   ]
  },
  {
   "cell_type": "code",
   "execution_count": 130,
   "id": "e3bb4a10",
   "metadata": {},
   "outputs": [],
   "source": [
    "\n",
    "fwrite(qc_format, \"~/ClownfishGWAS/data/APPC_sequencing/DNA/trimmed_reads/mapping/genotypes/angsd/qc.sample\", quote = F, sep=\" \", na=\"NA\")\n"
   ]
  },
  {
   "cell_type": "code",
   "execution_count": 51,
   "id": "352d8493",
   "metadata": {},
   "outputs": [],
   "source": [
    "ForAngsd <- right_join(WithPhenotypeHighLow, bamlist, by=c(gen_id=\"sample\"))[order(gen_id)][]#[is.na(Group), Group :=-999][Group==\"High\", Group:=1][Group==\"Low\", Group:=0][, \"Group\"]"
   ]
  },
  {
   "cell_type": "code",
   "execution_count": 60,
   "id": "00520587",
   "metadata": {},
   "outputs": [],
   "source": [
    "ForAngsdSLQuant <- right_join(left_join(FamID[, -\"V6\"], FullMeta[,.(gen_id, SL)], by=\"gen_id\"), bamlist, by=c(gen_id=\"sample\"))[order(gen_id)][is.na(SL), SL :=-999][, \"SL\"]#[Group==\"High\", Group:=1][Group==\"Low\", Group:=0][, \"Group\"]"
   ]
  },
  {
   "cell_type": "code",
   "execution_count": 136,
   "id": "36fccf38",
   "metadata": {},
   "outputs": [
    {
     "data": {
      "text/html": [
       "<table>\n",
       "<thead><tr><th scope=col>og_larvalID</th><th scope=col>larvalID</th><th scope=col>Ucrit</th><th scope=col>SL</th><th scope=col>dam</th><th scope=col>sire</th><th scope=col>tank</th><th scope=col>date</th><th scope=col>Send.to.NJ</th><th scope=col>Group</th><th scope=col>Capture</th><th scope=col>gen_id</th></tr></thead>\n",
       "<tbody>\n",
       "\t<tr><td>16.11         </td><td>APPC1611      </td><td>8.13          </td><td>4.40          </td><td>D125          </td><td>S144          </td><td>C1:4          </td><td>6/19/19       </td><td>1             </td><td>1             </td><td>Pop01         </td><td>Pop01_APPC1611</td></tr>\n",
       "\t<tr><td>19.17         </td><td>APPC1917      </td><td>1.20          </td><td>4.35          </td><td>D85           </td><td>S173          </td><td>C2:2          </td><td>6/27/19       </td><td>1             </td><td>0             </td><td>Pop01         </td><td>Pop01_APPC1917</td></tr>\n",
       "\t<tr><td>19.21         </td><td>APPC1921      </td><td>7.33          </td><td>4.28          </td><td>D85           </td><td>S173          </td><td>C2:2          </td><td>6/27/19       </td><td>1             </td><td>1             </td><td>Pop01         </td><td>Pop01_APPC1921</td></tr>\n",
       "\t<tr><td>20.29         </td><td>APPC2029      </td><td>8.82          </td><td>4.25          </td><td>D70           </td><td>S98           </td><td>A3:1          </td><td>6/28/19       </td><td>1             </td><td>1             </td><td>Pop01         </td><td>Pop01_APPC2029</td></tr>\n",
       "\t<tr><td>20.30         </td><td>APPC2030      </td><td>7.32          </td><td>4.54          </td><td>D70           </td><td>S98           </td><td>A3:1          </td><td>6/28/19       </td><td>1             </td><td>1             </td><td>Pop01         </td><td>Pop01_APPC2030</td></tr>\n",
       "\t<tr><td>21.01         </td><td>APPC2101      </td><td>5.07          </td><td>3.94          </td><td>D269          </td><td>S94           </td><td>D1:2          </td><td>7/1/19        </td><td>1             </td><td>1             </td><td>Pop01         </td><td>Pop01_APPC2101</td></tr>\n",
       "</tbody>\n",
       "</table>\n"
      ],
      "text/latex": [
       "\\begin{tabular}{r|llllllllllll}\n",
       " og\\_larvalID & larvalID & Ucrit & SL & dam & sire & tank & date & Send.to.NJ & Group & Capture & gen\\_id\\\\\n",
       "\\hline\n",
       "\t 16.11            & APPC1611         & 8.13             & 4.40             & D125             & S144             & C1:4             & 6/19/19          & 1                & 1                & Pop01            & Pop01\\_APPC1611\\\\\n",
       "\t 19.17            & APPC1917         & 1.20             & 4.35             & D85              & S173             & C2:2             & 6/27/19          & 1                & 0                & Pop01            & Pop01\\_APPC1917\\\\\n",
       "\t 19.21            & APPC1921         & 7.33             & 4.28             & D85              & S173             & C2:2             & 6/27/19          & 1                & 1                & Pop01            & Pop01\\_APPC1921\\\\\n",
       "\t 20.29            & APPC2029         & 8.82             & 4.25             & D70              & S98              & A3:1             & 6/28/19          & 1                & 1                & Pop01            & Pop01\\_APPC2029\\\\\n",
       "\t 20.30            & APPC2030         & 7.32             & 4.54             & D70              & S98              & A3:1             & 6/28/19          & 1                & 1                & Pop01            & Pop01\\_APPC2030\\\\\n",
       "\t 21.01            & APPC2101         & 5.07             & 3.94             & D269             & S94              & D1:2             & 7/1/19           & 1                & 1                & Pop01            & Pop01\\_APPC2101\\\\\n",
       "\\end{tabular}\n"
      ],
      "text/markdown": [
       "\n",
       "| og_larvalID | larvalID | Ucrit | SL | dam | sire | tank | date | Send.to.NJ | Group | Capture | gen_id |\n",
       "|---|---|---|---|---|---|---|---|---|---|---|---|\n",
       "| 16.11          | APPC1611       | 8.13           | 4.40           | D125           | S144           | C1:4           | 6/19/19        | 1              | 1              | Pop01          | Pop01_APPC1611 |\n",
       "| 19.17          | APPC1917       | 1.20           | 4.35           | D85            | S173           | C2:2           | 6/27/19        | 1              | 0              | Pop01          | Pop01_APPC1917 |\n",
       "| 19.21          | APPC1921       | 7.33           | 4.28           | D85            | S173           | C2:2           | 6/27/19        | 1              | 1              | Pop01          | Pop01_APPC1921 |\n",
       "| 20.29          | APPC2029       | 8.82           | 4.25           | D70            | S98            | A3:1           | 6/28/19        | 1              | 1              | Pop01          | Pop01_APPC2029 |\n",
       "| 20.30          | APPC2030       | 7.32           | 4.54           | D70            | S98            | A3:1           | 6/28/19        | 1              | 1              | Pop01          | Pop01_APPC2030 |\n",
       "| 21.01          | APPC2101       | 5.07           | 3.94           | D269           | S94            | D1:2           | 7/1/19         | 1              | 1              | Pop01          | Pop01_APPC2101 |\n",
       "\n"
      ],
      "text/plain": [
       "  og_larvalID larvalID Ucrit SL   dam  sire tank date    Send.to.NJ Group\n",
       "1 16.11       APPC1611 8.13  4.40 D125 S144 C1:4 6/19/19 1          1    \n",
       "2 19.17       APPC1917 1.20  4.35 D85  S173 C2:2 6/27/19 1          0    \n",
       "3 19.21       APPC1921 7.33  4.28 D85  S173 C2:2 6/27/19 1          1    \n",
       "4 20.29       APPC2029 8.82  4.25 D70  S98  A3:1 6/28/19 1          1    \n",
       "5 20.30       APPC2030 7.32  4.54 D70  S98  A3:1 6/28/19 1          1    \n",
       "6 21.01       APPC2101 5.07  3.94 D269 S94  D1:2 7/1/19  1          1    \n",
       "  Capture gen_id        \n",
       "1 Pop01   Pop01_APPC1611\n",
       "2 Pop01   Pop01_APPC1917\n",
       "3 Pop01   Pop01_APPC1921\n",
       "4 Pop01   Pop01_APPC2029\n",
       "5 Pop01   Pop01_APPC2030\n",
       "6 Pop01   Pop01_APPC2101"
      ]
     },
     "metadata": {},
     "output_type": "display_data"
    }
   ],
   "source": [
    "head(ForAngsd)"
   ]
  },
  {
   "cell_type": "code",
   "execution_count": 63,
   "id": "3706a48d",
   "metadata": {
    "scrolled": true
   },
   "outputs": [
    {
     "data": {
      "text/html": [
       "<table>\n",
       "<thead><tr><th scope=col>SL</th></tr></thead>\n",
       "<tbody>\n",
       "\t<tr><td>4.40</td></tr>\n",
       "\t<tr><td>4.35</td></tr>\n",
       "\t<tr><td>4.28</td></tr>\n",
       "\t<tr><td>4.25</td></tr>\n",
       "\t<tr><td>4.54</td></tr>\n",
       "\t<tr><td>3.94</td></tr>\n",
       "</tbody>\n",
       "</table>\n"
      ],
      "text/latex": [
       "\\begin{tabular}{r|l}\n",
       " SL\\\\\n",
       "\\hline\n",
       "\t 4.40\\\\\n",
       "\t 4.35\\\\\n",
       "\t 4.28\\\\\n",
       "\t 4.25\\\\\n",
       "\t 4.54\\\\\n",
       "\t 3.94\\\\\n",
       "\\end{tabular}\n"
      ],
      "text/markdown": [
       "\n",
       "| SL |\n",
       "|---|\n",
       "| 4.40 |\n",
       "| 4.35 |\n",
       "| 4.28 |\n",
       "| 4.25 |\n",
       "| 4.54 |\n",
       "| 3.94 |\n",
       "\n"
      ],
      "text/plain": [
       "  SL  \n",
       "1 4.40\n",
       "2 4.35\n",
       "3 4.28\n",
       "4 4.25\n",
       "5 4.54\n",
       "6 3.94"
      ]
     },
     "metadata": {},
     "output_type": "display_data"
    }
   ],
   "source": [
    "head(ForAngsdSLQuant)\n",
    "fwrite(ForAngsdSLQuant, \"~/ClownfishGWAS/data/APPC_sequencing/DNA/trimmed_reads/mapping/genotypes/angsd/SL_pheno.ybin\")"
   ]
  },
  {
   "cell_type": "code",
   "execution_count": null,
   "id": "ce0ac4d7",
   "metadata": {},
   "outputs": [],
   "source": []
  },
  {
   "cell_type": "code",
   "execution_count": 144,
   "id": "48eae5c7",
   "metadata": {},
   "outputs": [],
   "source": [
    "#for null distribution of pvalues\n",
    "set.seed(77)\n",
    "shuffle <- ForAngsd[sample(.N,nrow(ForAngsd), replace = TRUE)]"
   ]
  },
  {
   "cell_type": "code",
   "execution_count": 145,
   "id": "6d628cc6",
   "metadata": {},
   "outputs": [
    {
     "data": {
      "text/html": [
       "<table>\n",
       "<thead><tr><th scope=col>og_larvalID</th><th scope=col>larvalID</th><th scope=col>Ucrit</th><th scope=col>SL</th><th scope=col>dam</th><th scope=col>sire</th><th scope=col>tank</th><th scope=col>date</th><th scope=col>Send.to.NJ</th><th scope=col>Group</th><th scope=col>Capture</th><th scope=col>gen_id</th></tr></thead>\n",
       "<tbody>\n",
       "\t<tr><td>22.12         </td><td>APPC2212      </td><td>6.70          </td><td>4.30          </td><td>D19           </td><td>S175          </td><td>A1:4          </td><td>7/2/19        </td><td>1             </td><td>1             </td><td>Pop15         </td><td>Pop15_APPC2212</td></tr>\n",
       "\t<tr><td>23.04         </td><td>APPC2304      </td><td>0.13          </td><td>4.37          </td><td>D74           </td><td>S116          </td><td>C1:3          </td><td>7/3/19        </td><td>1             </td><td>0             </td><td>Pop06         </td><td>Pop06_APPC2304</td></tr>\n",
       "\t<tr><td>15.17         </td><td>APPC1517      </td><td>0.88          </td><td>4.36          </td><td>D10           </td><td>S156          </td><td>B2:5          </td><td>6/17/19       </td><td>1             </td><td>0             </td><td>Pop04         </td><td>Pop04_APPC1517</td></tr>\n",
       "\t<tr><td>13.18         </td><td>APPC1318      </td><td>0.30          </td><td>4.23          </td><td>D22           </td><td>S103          </td><td>B3:1          </td><td>6/12/19       </td><td>1             </td><td>0             </td><td>Pop03         </td><td>Pop03_APPC1318</td></tr>\n",
       "\t<tr><td>24.14         </td><td>APPC2414      </td><td>1.03          </td><td>4.30          </td><td>D58           </td><td>S296          </td><td>D3:3          </td><td>7/11/19       </td><td>1             </td><td>0             </td><td>Pop07         </td><td>Pop07_APPC2414</td></tr>\n",
       "\t<tr><td>32.24         </td><td>APPC3224      </td><td>0.72          </td><td>4.52          </td><td>D5            </td><td>S137          </td><td>A1:5          </td><td>7/29/19       </td><td>1             </td><td>0             </td><td>Pop09         </td><td>Pop09_APPC3224</td></tr>\n",
       "</tbody>\n",
       "</table>\n"
      ],
      "text/latex": [
       "\\begin{tabular}{r|llllllllllll}\n",
       " og\\_larvalID & larvalID & Ucrit & SL & dam & sire & tank & date & Send.to.NJ & Group & Capture & gen\\_id\\\\\n",
       "\\hline\n",
       "\t 22.12            & APPC2212         & 6.70             & 4.30             & D19              & S175             & A1:4             & 7/2/19           & 1                & 1                & Pop15            & Pop15\\_APPC2212\\\\\n",
       "\t 23.04            & APPC2304         & 0.13             & 4.37             & D74              & S116             & C1:3             & 7/3/19           & 1                & 0                & Pop06            & Pop06\\_APPC2304\\\\\n",
       "\t 15.17            & APPC1517         & 0.88             & 4.36             & D10              & S156             & B2:5             & 6/17/19          & 1                & 0                & Pop04            & Pop04\\_APPC1517\\\\\n",
       "\t 13.18            & APPC1318         & 0.30             & 4.23             & D22              & S103             & B3:1             & 6/12/19          & 1                & 0                & Pop03            & Pop03\\_APPC1318\\\\\n",
       "\t 24.14            & APPC2414         & 1.03             & 4.30             & D58              & S296             & D3:3             & 7/11/19          & 1                & 0                & Pop07            & Pop07\\_APPC2414\\\\\n",
       "\t 32.24            & APPC3224         & 0.72             & 4.52             & D5               & S137             & A1:5             & 7/29/19          & 1                & 0                & Pop09            & Pop09\\_APPC3224\\\\\n",
       "\\end{tabular}\n"
      ],
      "text/markdown": [
       "\n",
       "| og_larvalID | larvalID | Ucrit | SL | dam | sire | tank | date | Send.to.NJ | Group | Capture | gen_id |\n",
       "|---|---|---|---|---|---|---|---|---|---|---|---|\n",
       "| 22.12          | APPC2212       | 6.70           | 4.30           | D19            | S175           | A1:4           | 7/2/19         | 1              | 1              | Pop15          | Pop15_APPC2212 |\n",
       "| 23.04          | APPC2304       | 0.13           | 4.37           | D74            | S116           | C1:3           | 7/3/19         | 1              | 0              | Pop06          | Pop06_APPC2304 |\n",
       "| 15.17          | APPC1517       | 0.88           | 4.36           | D10            | S156           | B2:5           | 6/17/19        | 1              | 0              | Pop04          | Pop04_APPC1517 |\n",
       "| 13.18          | APPC1318       | 0.30           | 4.23           | D22            | S103           | B3:1           | 6/12/19        | 1              | 0              | Pop03          | Pop03_APPC1318 |\n",
       "| 24.14          | APPC2414       | 1.03           | 4.30           | D58            | S296           | D3:3           | 7/11/19        | 1              | 0              | Pop07          | Pop07_APPC2414 |\n",
       "| 32.24          | APPC3224       | 0.72           | 4.52           | D5             | S137           | A1:5           | 7/29/19        | 1              | 0              | Pop09          | Pop09_APPC3224 |\n",
       "\n"
      ],
      "text/plain": [
       "  og_larvalID larvalID Ucrit SL   dam sire tank date    Send.to.NJ Group\n",
       "1 22.12       APPC2212 6.70  4.30 D19 S175 A1:4 7/2/19  1          1    \n",
       "2 23.04       APPC2304 0.13  4.37 D74 S116 C1:3 7/3/19  1          0    \n",
       "3 15.17       APPC1517 0.88  4.36 D10 S156 B2:5 6/17/19 1          0    \n",
       "4 13.18       APPC1318 0.30  4.23 D22 S103 B3:1 6/12/19 1          0    \n",
       "5 24.14       APPC2414 1.03  4.30 D58 S296 D3:3 7/11/19 1          0    \n",
       "6 32.24       APPC3224 0.72  4.52 D5  S137 A1:5 7/29/19 1          0    \n",
       "  Capture gen_id        \n",
       "1 Pop15   Pop15_APPC2212\n",
       "2 Pop06   Pop06_APPC2304\n",
       "3 Pop04   Pop04_APPC1517\n",
       "4 Pop03   Pop03_APPC1318\n",
       "5 Pop07   Pop07_APPC2414\n",
       "6 Pop09   Pop09_APPC3224"
      ]
     },
     "metadata": {},
     "output_type": "display_data"
    }
   ],
   "source": [
    "head(shuffle)"
   ]
  },
  {
   "cell_type": "code",
   "execution_count": 146,
   "id": "aa61d9bd",
   "metadata": {},
   "outputs": [],
   "source": [
    "fwrite(shuffle[,.(Group)], \"~/ClownfishGWAS/data/APPC_sequencing/DNA/trimmed_reads/mapping/genotypes/angsd/case_control_pheno_NULL.ybin\")"
   ]
  },
  {
   "cell_type": "code",
   "execution_count": 64,
   "id": "d80ca3b9",
   "metadata": {},
   "outputs": [],
   "source": [
    "ForAngsdUcritQuant <- right_join(left_join(FamID[, -\"V6\"], FullMeta[,.(gen_id, Ucrit)], by=\"gen_id\"), bamlist, by=c(gen_id=\"sample\"))[order(gen_id)][is.na(Ucrit), Ucrit :=-999][, \"Ucrit\"]#[Group==\"High\", Group:=1][Group==\"Low\", Group:=0][, \"Group\"]"
   ]
  },
  {
   "cell_type": "code",
   "execution_count": 66,
   "id": "74314e9a",
   "metadata": {},
   "outputs": [
    {
     "data": {
      "text/html": [
       "<table>\n",
       "<thead><tr><th scope=col>Ucrit</th></tr></thead>\n",
       "<tbody>\n",
       "\t<tr><td>8.13</td></tr>\n",
       "\t<tr><td>1.20</td></tr>\n",
       "\t<tr><td>7.33</td></tr>\n",
       "\t<tr><td>8.82</td></tr>\n",
       "\t<tr><td>7.32</td></tr>\n",
       "\t<tr><td>5.07</td></tr>\n",
       "</tbody>\n",
       "</table>\n"
      ],
      "text/latex": [
       "\\begin{tabular}{r|l}\n",
       " Ucrit\\\\\n",
       "\\hline\n",
       "\t 8.13\\\\\n",
       "\t 1.20\\\\\n",
       "\t 7.33\\\\\n",
       "\t 8.82\\\\\n",
       "\t 7.32\\\\\n",
       "\t 5.07\\\\\n",
       "\\end{tabular}\n"
      ],
      "text/markdown": [
       "\n",
       "| Ucrit |\n",
       "|---|\n",
       "| 8.13 |\n",
       "| 1.20 |\n",
       "| 7.33 |\n",
       "| 8.82 |\n",
       "| 7.32 |\n",
       "| 5.07 |\n",
       "\n"
      ],
      "text/plain": [
       "  Ucrit\n",
       "1 8.13 \n",
       "2 1.20 \n",
       "3 7.33 \n",
       "4 8.82 \n",
       "5 7.32 \n",
       "6 5.07 "
      ]
     },
     "metadata": {},
     "output_type": "display_data"
    }
   ],
   "source": [
    "head(ForAngsdUcritQuant)\n",
    "fwrite(ForAngsdUcritQuant, \"~/ClownfishGWAS/data/APPC_sequencing/DNA/trimmed_reads/mapping/genotypes/angsd/Ucrit_pheno.ybin\")"
   ]
  },
  {
   "cell_type": "code",
   "execution_count": null,
   "id": "696d8410",
   "metadata": {},
   "outputs": [],
   "source": []
  }
 ],
 "metadata": {
  "kernelspec": {
   "display_name": "R",
   "language": "R",
   "name": "ir"
  },
  "language_info": {
   "codemirror_mode": "r",
   "file_extension": ".r",
   "mimetype": "text/x-r-source",
   "name": "R",
   "pygments_lexer": "r",
   "version": "3.6.1"
  }
 },
 "nbformat": 4,
 "nbformat_minor": 5
}
