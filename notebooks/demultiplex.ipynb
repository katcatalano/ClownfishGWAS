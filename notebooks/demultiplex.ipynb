{
 "cells": [
  {
   "cell_type": "markdown",
   "metadata": {},
   "source": [
    "__Demultiplexing the two sequencing libraries using barcode splitter and then trimmatic(?). Following Michelle's demultiplexing steps on https://github.com/pinskylab/genomics/blob/df5c254a0e097da18f49532f748a5a2ae5e1299f/Protocols/01_hiseq_workflow.md as a rough guide, and barcode_splitter.py documentation: https://pypi.org/project/barcode-splitter/__"
   ]
  },
  {
   "cell_type": "markdown",
   "metadata": {},
   "source": [
    "__Start with sequencing library 1__"
   ]
  },
  {
   "cell_type": "code",
   "execution_count": 1,
   "metadata": {},
   "outputs": [
    {
     "name": "stdout",
     "output_type": "stream",
     "text": [
      "/local/home/katrinac/ClownfishGWAS/data/APPC_sequencing\n"
     ]
    }
   ],
   "source": [
    "%cd ~/ClownfishGWAS/data/APPC_sequencing/\n"
   ]
  },
  {
   "cell_type": "markdown",
   "metadata": {},
   "source": [
    "__Each capture (1-16) was a PCR pool, first separate out by PCR pool. First, in SP1__"
   ]
  },
  {
   "cell_type": "code",
   "execution_count": 2,
   "metadata": {},
   "outputs": [
    {
     "name": "stdout",
     "output_type": "stream",
     "text": [
      "/local/home/katrinac/ClownfishGWAS/data/APPC_sequencing/novaseq_2021_03_26_SEQ1\n"
     ]
    }
   ],
   "source": [
    "%cd ~/ClownfishGWAS/data/APPC_sequencing/novaseq_2021_03_26_SEQ1/\n"
   ]
  },
  {
   "cell_type": "markdown",
   "metadata": {},
   "source": [
    "__Find which files the barcodes are in, use ATCACG as the example barcode__"
   ]
  },
  {
   "cell_type": "code",
   "execution_count": 6,
   "metadata": {},
   "outputs": [
    {
     "name": "stdout",
     "output_type": "stream",
     "text": [
      "4\r\n"
     ]
    }
   ],
   "source": [
    "!zcat GCF-KC-4172-SP1-for-138-cycles-H55NJDRXY_2_Read_2_Index_Read_passed_filter.fastq.gz | grep -c \"^ATCACG\""
   ]
  },
  {
   "cell_type": "code",
   "execution_count": 8,
   "metadata": {},
   "outputs": [
    {
     "name": "stdout",
     "output_type": "stream",
     "text": [
      "22910439\r\n"
     ]
    }
   ],
   "source": [
    "!zcat GCF-KC-4172-SP1-for-138-cycles-H55NJDRXY_2_Read_1_passed_filter.fastq.gz | grep -c \"^ATCACG\""
   ]
  },
  {
   "cell_type": "markdown",
   "metadata": {},
   "source": [
    "__Look at the head of the compressed file to see where the barcode position is relative to index__"
   ]
  },
  {
   "cell_type": "code",
   "execution_count": 12,
   "metadata": {},
   "outputs": [
    {
     "name": "stdout",
     "output_type": "stream",
     "text": [
      "ATCACGCACATGAGGACATCAACAGGAACTGACTAGTAAGTCACCTCAGGTGCTGAGGATT\r\n",
      "ATCACGTCGCCTGCATAATTAGCATTTTATTGTCAAGTGTGCGAGCTAAGTCAGTTAATGA\r\n",
      "ATCACGAAAACGATTTCAAACTTGGAATAAATGGCTCAGGACTTGTCTAAAATTAATCAAA\r\n",
      "ATCACGACCTGTTTGTCTCTGAGAGATAGAGACACCACCTGGATTGCAAGGTTGTCCTGCA\r\n",
      "ATCACGAACACTACTTGATGTAATTTATTAATTTGCAAAATTTTCAGCAGTTACAAAAAAA\r\n",
      "ATCACGTCCGTTCGCTAATACCTGGAGGCATGCAGAAGAATAATTTACACTAGTGAGATGA\r\n",
      "ATCACGAGTTACATTTTAGGTCTCTTTTTTTCCTTTTTTCAGTGATGAGAAAGAAAACAAA\r\n",
      "ATCACGTAGGAGTCACCTTGTGCAGCGATACACCTCTTCCAGCACTGTTATCAAGCTTGTA\r\n",
      "ATCACGTCTTCAGTCAAAAAAAGAAAAGTAACAAGTGGAAAGAGCAAATGTGAACATCTTT\r\n",
      "ATCACGAGACTTCCAATTCAAACGCTCCCACAGTAGCTCTGCTAATGACCCAGAGGGCTGT\r\n",
      "grep: write error\r\n",
      "\r\n",
      "gzip: stdout: Broken pipe\r\n"
     ]
    }
   ],
   "source": [
    " !gzip -cd GCF-KC-4172-SP1-for-138-cycles-H55NJDRXY_2_Read_1_passed_filter.fastq.gz | grep \"^ATCACG\" | head"
   ]
  },
  {
   "cell_type": "markdown",
   "metadata": {},
   "source": [
    "__Okay it looks like the barcode is to the right of the index, left of the read as expected.__"
   ]
  },
  {
   "cell_type": "markdown",
   "metadata": {},
   "source": [
    "__Where is the PCR index? Should be beginning of index read, use ATTACTCG as example__"
   ]
  },
  {
   "cell_type": "code",
   "execution_count": null,
   "metadata": {},
   "outputs": [],
   "source": [
    " !gzip -cd GCF-KC-4172-SP1-for-138-cycles-H55NJDRXY_2_Read_2_Index_Read_passed_filter.fastq.gz | grep \"^ATTACTCG\" | head"
   ]
  },
  {
   "cell_type": "code",
   "execution_count": 9,
   "metadata": {},
   "outputs": [
    {
     "name": "stdout",
     "output_type": "stream",
     "text": [
      "@A00741:178:H55NJDRXY:2:2101:2211:1000 1:N:0:0\r\n",
      "GATCAGAAACCACCTTCTGATACCTGAAATCTCTGAGTTTTCACACAAAGAACACATGAAC\r\n",
      "+\r\n",
      "FFFFF:FFFFF:FFFF:,:FFF,FFFFFFFF:FFFFFFFF:F:,F,FFF,FFFF,,F,:FF\r\n",
      "@A00741:178:H55NJDRXY:2:2101:2230:1000 1:N:0:0\r\n",
      "CGATGTAGAGATTGATAATGTTTGATATTTTCACCACAGTAAAAGAAAGACAGCAACACCC\r\n",
      "+\r\n",
      "FFFFFFFFFFF:::,:F,:FFF:FFFFF,,,FFFF,FFFFFFFFF::FFFFF:FF:,F:FF\r\n",
      "@A00741:178:H55NJDRXY:2:2101:2266:1000 1:N:0:0\r\n",
      "CAGATCATGTTAGCTTAGCTTAGCCTAGCTTAGCATAAACAAAGAAGGTCACAACTGTTAG\r\n",
      "\r\n",
      "gzip: stdout: Broken pipe\r\n"
     ]
    }
   ],
   "source": [
    " !gzip -cd GCF-KC-4172-SP1-for-138-cycles-H55NJDRXY_2_Read_1_passed_filter.fastq.gz | head"
   ]
  },
  {
   "cell_type": "markdown",
   "metadata": {},
   "source": [
    "__Count the number of reads__"
   ]
  },
  {
   "cell_type": "code",
   "execution_count": 2,
   "metadata": {},
   "outputs": [
    {
     "name": "stdout",
     "output_type": "stream",
     "text": [
      "gzip: GCF-KC-4172-SP1-for-138-cycles-H55NJDRXY_2_Read_1_passed_filter.fastq.gz: No such file or directory\n",
      "0\n",
      "536138868\n"
     ]
    }
   ],
   "source": [
    "!zcat GCF-KC-4172-SP1-for-138-cycles-H55NJDRXY_2_Read_1_passed_filter.fastq.gz | wc -l | awk '{print$1/4}'\n",
    "!zcat /local/home/katrinac/ClownfishGWAS/data/APPC_sequencing/novaseq_2021_04_16_SEQ2/GCF-KC-4172-SP2-for-138-cycles-H5MVVDRXY_1_Read_1_passed_filter.fastq.gz  | wc -l | awk '{print$1/4}'"
   ]
  },
  {
   "cell_type": "markdown",
   "metadata": {},
   "source": [
    "__Run barcode splitter in a screen on annotate__"
   ]
  },
  {
   "cell_type": "code",
   "execution_count": 8,
   "metadata": {},
   "outputs": [],
   "source": [
    "#run within screen annotate\n",
    "!/local/home/katrinac/ClownfishGWAS/bioinformatics_scripts/paired_sequence_utils/barcode_splitter.py --bcfile /local/home/katrinac/ClownfishGWAS/data/APPC_sequencing/multiplexing/PCRCapturePoolsSP1.tsv /local/home/katrinac/ClownfishGWAS/data/APPC_sequencing/novaseq_2021_03_26_SEQ1/GCF-KC-4172-SP1-for-138-cycles-H55NJDRXY_2_Read_1_passed_filter.fastq.gz /local/home/katrinac/ClownfishGWAS/data/APPC_sequencing/novaseq_2021_03_26_SEQ1/GCF-KC-4172-SP1-for-138-cycles-H55NJDRXY_2_Read_2_Index_Read_passed_filter.fastq.gz /local/home/katrinac/ClownfishGWAS/data/APPC_sequencing/novaseq_2021_03_26_SEQ1/GCF-KC-4172-SP1-for-138-cycles-H55NJDRXY_2_Read_4_passed_filter.fastq.gz --idxread 2  "
   ]
  },
  {
   "cell_type": "markdown",
   "metadata": {},
   "source": [
    "__Now for SP2__"
   ]
  },
  {
   "cell_type": "code",
   "execution_count": null,
   "metadata": {},
   "outputs": [],
   "source": [
    "%cd ~/ClownfishGWAS/data/APPC_sequencing/novaseq_2021_04_16_SEQ2/bcsplit\n"
   ]
  },
  {
   "cell_type": "code",
   "execution_count": null,
   "metadata": {},
   "outputs": [],
   "source": [
    "#run within screen annotate\n",
    "!/local/home/katrinac/ClownfishGWAS/bioinformatics_scripts/paired_sequence_utils/barcode_splitter.py --bcfile /local/home/katrinac/ClownfishGWAS/data/APPC_sequencing/multiplexing/PCRCapturePoolsSP2.tsv /local/home/katrinac/ClownfishGWAS/data/APPC_sequencing/novaseq_2021_04_16_SEQ2/GCF-KC-4172-SP2-for-138-cycles-H5MVVDRXY_1_Read_1_passed_filter.fastq.gz /local/home/katrinac/ClownfishGWAS/data/APPC_sequencing/novaseq_2021_04_16_SEQ2/GCF-KC-4172-SP2-for-138-cycles-H5MVVDRXY_1_Read_2_Index_Read_passed_filter.fastq.gz /local/home/katrinac/ClownfishGWAS/data/APPC_sequencing/novaseq_2021_04_16_SEQ2/GCF-KC-4172-SP2-for-138-cycles-H5MVVDRXY_1_Read_4_passed_filter.fastq.gz --idxread 2  "
   ]
  },
  {
   "cell_type": "markdown",
   "metadata": {},
   "source": [
    "__Count the number of reads__"
   ]
  }
 ],
 "metadata": {
  "kernelspec": {
   "display_name": "Python 3",
   "language": "python",
   "name": "python3"
  },
  "language_info": {
   "codemirror_mode": {
    "name": "ipython",
    "version": 3
   },
   "file_extension": ".py",
   "mimetype": "text/x-python",
   "name": "python",
   "nbconvert_exporter": "python",
   "pygments_lexer": "ipython3",
   "version": "3.7.3"
  }
 },
 "nbformat": 4,
 "nbformat_minor": 2
}
