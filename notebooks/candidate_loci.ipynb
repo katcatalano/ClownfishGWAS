{
 "cells": [
  {
   "cell_type": "code",
   "execution_count": 35,
   "id": "9fcaa4ae",
   "metadata": {},
   "outputs": [
    {
     "name": "stdout",
     "output_type": "stream",
     "text": [
      "/data/katrinac/APPC_sequencing/DNA/trimmed_reads/mapping/genotypes\n"
     ]
    }
   ],
   "source": [
    "%cd /data/katrinac/APPC_sequencing/DNA/trimmed_reads/mapping/genotypes/"
   ]
  },
  {
   "cell_type": "markdown",
   "id": "9148d510",
   "metadata": {},
   "source": [
    "__search reference fasta for candidate gene sequences__"
   ]
  },
  {
   "cell_type": "code",
   "execution_count": 2,
   "id": "37249648",
   "metadata": {},
   "outputs": [
    {
     "name": "stdout",
     "output_type": "stream",
     "text": [
      "/data/katrinac/APPC_sequencing/Genome\n"
     ]
    }
   ],
   "source": [
    "%cd /data/katrinac/APPC_sequencing/Genome/"
   ]
  },
  {
   "cell_type": "markdown",
   "id": "c645aa7e",
   "metadata": {},
   "source": [
    "__convert gff to bed to find overlapping regions__"
   ]
  },
  {
   "cell_type": "code",
   "execution_count": 389,
   "id": "82fd5555",
   "metadata": {},
   "outputs": [],
   "source": [
    "!convert2bed --input=gff --output=bed < apercula_gene_annotation_gag.gff >  apercula_gene_annotation_gag.gff.bed"
   ]
  },
  {
   "cell_type": "code",
   "execution_count": 310,
   "id": "2eb878e6",
   "metadata": {},
   "outputs": [],
   "source": [
    "!sort-bed apercula_gene_annotation_gag.gff.bed > sorted_percula_gene_annotation_gag.gff.bed\n",
    "#!sort-bed /data/katrinac/APPC_sequencing/DNA/trimmed_reads/mapping/ensembl/genotypes/angsd/results/candidates_sl_loci.bed > sorted_sl_candidates.bed"
   ]
  },
  {
   "cell_type": "markdown",
   "id": "c952ca50",
   "metadata": {},
   "source": [
    "__get the positions that would be X bp plus/minus the locus for blast__"
   ]
  },
  {
   "cell_type": "code",
   "execution_count": 413,
   "id": "6260a8c9",
   "metadata": {},
   "outputs": [],
   "source": [
    "!sort-bed /data/katrinac/APPC_sequencing/DNA/trimmed_reads/mapping/ensembl/genotypes/angsd/results/candidates_sl_loci3kbp.bed > sorted_sl_candidates3kbp.bed\n",
    "!sort-bed /data/katrinac/APPC_sequencing/DNA/trimmed_reads/mapping/ensembl/genotypes/angsd/results/candidates_ucrit_loci3kbp.bed > sorted_ucrit_candidates3kbp.bed"
   ]
  },
  {
   "cell_type": "markdown",
   "id": "4fc189fd",
   "metadata": {},
   "source": [
    "__extract the regions of interest from the reference fasta, blast that against zebrafish and frenatus__"
   ]
  },
  {
   "cell_type": "code",
   "execution_count": 349,
   "id": "fd0af7ed",
   "metadata": {},
   "outputs": [],
   "source": [
    "!seqtk  subseq ensembl/Amphiprion_percula.Nemo_v1.dna.toplevel.fasta sorted_sl_candidates3kbp.bed  > sl_candidates3kb.fasta\n",
    "!seqtk  subseq ensembl/Amphiprion_percula.Nemo_v1.dna.toplevel.fasta sorted_ucrit_candidates3kbp.bed  > ucrit_candidates3kb.fasta"
   ]
  },
  {
   "cell_type": "markdown",
   "id": "8a36c80c",
   "metadata": {},
   "source": [
    "__blast on amarel, now look up blast results from corresponding gff__"
   ]
  },
  {
   "cell_type": "code",
   "execution_count": 352,
   "id": "7f9dad29",
   "metadata": {},
   "outputs": [],
   "source": [
    "!convert2bed --input=gff --output=bed < afrenatus.all_contigs.onlystandardFiltered.gff3 >  afrenatus.all_contigs.onlystandardFiltered.gff3.bed    \n",
    "!sort-bed /data/katrinac/APPC_sequencing/DNA/trimmed_reads/mapping/ensembl/genotypes/angsd/results/best_blast_ucrit_3kbp_frenatus.bed > best_blast_ucrit_3kbp_frenatus_sort.bed\n",
    "!sort-bed /data/katrinac/APPC_sequencing/DNA/trimmed_reads/mapping/ensembl/genotypes/angsd/results/best_blast_ucrit_3kbp_zebra.bed > best_blast_ucrit_3kbp_zebra_sort.bed\n",
    "!sort-bed /data/katrinac/APPC_sequencing/DNA/trimmed_reads/mapping/ensembl/genotypes/angsd/results/best_blast_sl_3kbp_frenatus.bed > best_blast_sl_3kbp_frenatus_sort.bed\n",
    "!sort-bed /data/katrinac/APPC_sequencing/DNA/trimmed_reads/mapping/ensembl/genotypes/angsd/results/best_blast_sl_3kbp_zebra.bed > best_blast_sl_3kbp_zebra_sort.bed"
   ]
  },
  {
   "cell_type": "code",
   "execution_count": 354,
   "id": "b43cf05b",
   "metadata": {},
   "outputs": [],
   "source": [
    "!bedextract afrenatus.all_contigs.onlystandardFiltered.gff3.bed best_blast_ucrit_3kbp_frenatus_sort.bed > /data/katrinac/APPC_sequencing/DNA/trimmed_reads/mapping/ensembl/genotypes/angsd/results/ucrit_blast_results_candidates_3kbp_frenatus.bed\n",
    "!bedextract Danio_rerio.GRCz11.104.gff3.bed best_blast_ucrit_3kbp_zebra_sort.bed > /data/katrinac/APPC_sequencing/DNA/trimmed_reads/mapping/ensembl/genotypes/angsd/results/ucrit_blast_results_candidates_3kbp_zebra.bed\n"
   ]
  },
  {
   "cell_type": "code",
   "execution_count": 353,
   "id": "77460461",
   "metadata": {},
   "outputs": [],
   "source": [
    "!bedextract afrenatus.all_contigs.onlystandardFiltered.gff3.bed best_blast_sl_3kbp_frenatus_sort.bed > /data/katrinac/APPC_sequencing/DNA/trimmed_reads/mapping/ensembl/genotypes/angsd/results/sl_blast_results_candidates_3kbp_frenatus.bed\n",
    "!bedextract Danio_rerio.GRCz11.104.gff3.bed best_blast_sl_3kbp_zebra_sort.bed > /data/katrinac/APPC_sequencing/DNA/trimmed_reads/mapping/ensembl/genotypes/angsd/results/sl_blast_results_candidates_3kbp_zebra.bed\n"
   ]
  },
  {
   "cell_type": "markdown",
   "id": "13888305",
   "metadata": {},
   "source": [
    "__use bedops to extract the closest feature in the percula genome__"
   ]
  },
  {
   "cell_type": "code",
   "execution_count": 424,
   "id": "095cf52a",
   "metadata": {},
   "outputs": [],
   "source": [
    "!sort-bed /data/katrinac/APPC_sequencing/DNA/trimmed_reads/mapping/ensembl/genotypes/angsd/results/candidates_sl_loci100bp.bed > sorted_sl_candidates100bp.bed\n",
    "!sort-bed /data/katrinac/APPC_sequencing/DNA/trimmed_reads/mapping/ensembl/genotypes/angsd/results/candidates_ucrit_loci100bp.bed > sorted_ucrit_candidates100bp.bed"
   ]
  },
  {
   "cell_type": "code",
   "execution_count": 391,
   "id": "f5c23242",
   "metadata": {},
   "outputs": [],
   "source": [
    "!grep -w \"gene\" apercula_gene_annotation_gag.gff.bed > apercula_gene_annotation_gag_genes.bed "
   ]
  },
  {
   "cell_type": "code",
   "execution_count": 392,
   "id": "af926892",
   "metadata": {},
   "outputs": [],
   "source": [
    "#!convert2bed --input=gff --output=bed < percula_gene_annotation_gag_genes.gff >  percula_gene_annotation_gag_genes.bed\n",
    "!sort-bed apercula_gene_annotation_gag_genes.bed  > sorted_apercula_gene_annotation_gag_genes.bed \n"
   ]
  },
  {
   "cell_type": "code",
   "execution_count": 7,
   "id": "6d352bd3",
   "metadata": {
    "scrolled": false
   },
   "outputs": [],
   "source": [
    "!closest-features --closest --dist sorted_ucrit_candidates100bp.bed sorted_apercula_gene_annotation_gag_genes.bed  > /data/katrinac/APPC_sequencing/DNA/trimmed_reads/mapping/ensembl/genotypes/angsd/results/ucrit_blast_results_candidates_100bp_percula_nearest.bed\n",
    "!closest-features --closest --dist sorted_sl_candidates100bp.bed sorted_apercula_gene_annotation_gag_genes.bed  > /data/katrinac/APPC_sequencing/DNA/trimmed_reads/mapping/ensembl/genotypes/angsd/results/sl_blast_results_candidates_100bp_percula_nearest.bed\n"
   ]
  },
  {
   "cell_type": "code",
   "execution_count": 432,
   "id": "e9f9e4fa",
   "metadata": {},
   "outputs": [
    {
     "name": "stdout",
     "output_type": "stream",
     "text": [
      "PYAM01000025.1\t1942367\t1942567|NA\r\n",
      "PYAM01000025.1\t1942368\t1942568|NA\r\n",
      "PYAM01000100.1\t35557\t35757|NA\r\n",
      "PYAM01000215.1\t33865\t34065|NA\r\n",
      "chr1\t1682628\t1682828|chr1\t1682567\t1690859\tAPERC1_00013980\t.\t+\tmaker\tgene\t.\tID=APERC1_00013980;Dbxref=InterPro:IPR020783,InterPro:IPR020784,Pfam:PF00298,Pfam:PF03946;Ontology_term=GO:0003735,GO:0005840,GO:0006412\r\n",
      "chr1\t14952222\t14952422|chr1\t14928606\t14959022\tAPERC1_00014247\t.\t-\tmaker\tgene\t.\tID=APERC1_00014247;Dbxref=InterPro:IPR001680,InterPro:IPR022052,Pfam:PF00400,Pfam:PF12265;Ontology_term=GO:0005515\r\n",
      "chr1\t18209217\t18209417|chr1\t18184682\t18203688\tAPERC1_00014295\t.\t+\tmaker\tgene\t.\tID=APERC1_00014295;Dbxref=InterPro:IPR013606,Pfam:PF08397;Ontology_term=GO:0007009\r\n",
      "chr1\t30244044\t30244244|chr1\t30244152\t30253938\tAPERC1_00014576\t.\t-\tmaker\tgene\t.\tID=APERC1_00014576;Dbxref=InterPro:IPR008847,Pfam:PF05843;Ontology_term=GO:0005634,GO:0006397\r\n",
      "chr1\t32832075\t32832275|chr1\t32832692\t32853168\tAPERC1_00014632\t.\t-\tmaker\tgene\t.\tID=APERC1_00014632;Dbxref=InterPro:IPR000626,InterPro:IPR001394,Pfam:PF00443,Pfam:PF14560;Ontology_term=GO:0005515,GO:0016579,GO:0036459\r\n",
      "chr1\t34053141\t34053341|chr1\t34052227\t34071566\tAPERC1_00014664\t.\t-\tmaker\tgene\t.\tID=APERC1_00014664;Dbxref=InterPro:IPR033979,Pfam:PF04424;Ontology_term=GO:0004843,GO:1990380\r\n"
     ]
    }
   ],
   "source": [
    "!head /data/katrinac/APPC_sequencing/DNA/trimmed_reads/mapping/ensembl/genotypes/angsd/results/sl_blast_results_candidates_100bp_percula_nearest.bed"
   ]
  },
  {
   "cell_type": "markdown",
   "id": "49902bdf",
   "metadata": {},
   "source": [
    "__get the gene ids and go terms from the nearest gene output in R__"
   ]
  },
  {
   "cell_type": "markdown",
   "id": "04f5cd81",
   "metadata": {},
   "source": [
    "__for all snps analyzed, not just significant__"
   ]
  },
  {
   "cell_type": "code",
   "execution_count": 11,
   "id": "5abae5c0",
   "metadata": {},
   "outputs": [],
   "source": [
    "!sort-bed /data/katrinac/APPC_sequencing/DNA/trimmed_reads/mapping/ensembl/genotypes/angsd/results/all_sl_loci100bp.bed > sorted_all_sl_100bp.bed\n",
    "!sort-bed /data/katrinac/APPC_sequencing/DNA/trimmed_reads/mapping/ensembl/genotypes/angsd/results/all_ucrit_loci100bp.bed > sorted_all_ucrit_100bp.bed"
   ]
  },
  {
   "cell_type": "code",
   "execution_count": 12,
   "id": "3d2a7829",
   "metadata": {},
   "outputs": [],
   "source": [
    "!closest-features --closest --dist sorted_all_sl_100bp.bed sorted_apercula_gene_annotation_gag_genes.bed  > /data/katrinac/APPC_sequencing/DNA/trimmed_reads/mapping/ensembl/genotypes/angsd/results/sorted_all_sl_100bp_percula_nearest.bed\n",
    "!closest-features --closest --dist sorted_all_ucrit_100bp.bed sorted_apercula_gene_annotation_gag_genes.bed  > /data/katrinac/APPC_sequencing/DNA/trimmed_reads/mapping/ensembl/genotypes/angsd/results/sorted_all_ucrit_100bp_percula_nearest.bed\n"
   ]
  },
  {
   "cell_type": "code",
   "execution_count": 13,
   "id": "b92a23d6",
   "metadata": {},
   "outputs": [
    {
     "name": "stdout",
     "output_type": "stream",
     "text": [
      "chr1\t9954\t10054|chr1\t26561\t55859\tAPERC1_00013921\t.\t-\tmaker\tgene\t.\tID=APERC1_00013921;Dbxref=InterPro:IPR001073,InterPro:IPR011489,Pfam:PF00386,Pfam:PF07546;Ontology_term=GO:0005515|16508\r\n",
      "chr1\t32266\t32366|chr1\t26561\t55859\tAPERC1_00013921\t.\t-\tmaker\tgene\t.\tID=APERC1_00013921;Dbxref=InterPro:IPR001073,InterPro:IPR011489,Pfam:PF00386,Pfam:PF07546;Ontology_term=GO:0005515|0\r\n",
      "chr1\t32276\t32376|chr1\t26561\t55859\tAPERC1_00013921\t.\t-\tmaker\tgene\t.\tID=APERC1_00013921;Dbxref=InterPro:IPR001073,InterPro:IPR011489,Pfam:PF00386,Pfam:PF07546;Ontology_term=GO:0005515|0\r\n",
      "chr1\t32300\t32400|chr1\t26561\t55859\tAPERC1_00013921\t.\t-\tmaker\tgene\t.\tID=APERC1_00013921;Dbxref=InterPro:IPR001073,InterPro:IPR011489,Pfam:PF00386,Pfam:PF07546;Ontology_term=GO:0005515|0\r\n",
      "chr1\t32847\t32947|chr1\t26561\t55859\tAPERC1_00013921\t.\t-\tmaker\tgene\t.\tID=APERC1_00013921;Dbxref=InterPro:IPR001073,InterPro:IPR011489,Pfam:PF00386,Pfam:PF07546;Ontology_term=GO:0005515|0\r\n",
      "chr1\t33169\t33269|chr1\t26561\t55859\tAPERC1_00013921\t.\t-\tmaker\tgene\t.\tID=APERC1_00013921;Dbxref=InterPro:IPR001073,InterPro:IPR011489,Pfam:PF00386,Pfam:PF07546;Ontology_term=GO:0005515|0\r\n",
      "chr1\t33219\t33319|chr1\t26561\t55859\tAPERC1_00013921\t.\t-\tmaker\tgene\t.\tID=APERC1_00013921;Dbxref=InterPro:IPR001073,InterPro:IPR011489,Pfam:PF00386,Pfam:PF07546;Ontology_term=GO:0005515|0\r\n",
      "chr1\t33231\t33331|chr1\t26561\t55859\tAPERC1_00013921\t.\t-\tmaker\tgene\t.\tID=APERC1_00013921;Dbxref=InterPro:IPR001073,InterPro:IPR011489,Pfam:PF00386,Pfam:PF07546;Ontology_term=GO:0005515|0\r\n",
      "chr1\t34001\t34101|chr1\t26561\t55859\tAPERC1_00013921\t.\t-\tmaker\tgene\t.\tID=APERC1_00013921;Dbxref=InterPro:IPR001073,InterPro:IPR011489,Pfam:PF00386,Pfam:PF07546;Ontology_term=GO:0005515|0\r\n",
      "chr1\t34137\t34237|chr1\t26561\t55859\tAPERC1_00013921\t.\t-\tmaker\tgene\t.\tID=APERC1_00013921;Dbxref=InterPro:IPR001073,InterPro:IPR011489,Pfam:PF00386,Pfam:PF07546;Ontology_term=GO:0005515|0\r\n"
     ]
    }
   ],
   "source": [
    "!head /data/katrinac/APPC_sequencing/DNA/trimmed_reads/mapping/ensembl/genotypes/angsd/results/sorted_all_sl_100bp_percula_nearest.bed"
   ]
  },
  {
   "cell_type": "code",
   "execution_count": null,
   "id": "723515ae",
   "metadata": {},
   "outputs": [],
   "source": []
  }
 ],
 "metadata": {
  "kernelspec": {
   "display_name": "Python 3 (ipykernel)",
   "language": "python",
   "name": "python3"
  },
  "language_info": {
   "codemirror_mode": {
    "name": "ipython",
    "version": 3
   },
   "file_extension": ".py",
   "mimetype": "text/x-python",
   "name": "python",
   "nbconvert_exporter": "python",
   "pygments_lexer": "ipython3",
   "version": "3.7.3"
  }
 },
 "nbformat": 4,
 "nbformat_minor": 5
}
