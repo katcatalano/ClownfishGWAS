{
 "cells": [
  {
   "cell_type": "code",
   "execution_count": 2,
   "id": "1e11f42d",
   "metadata": {
    "scrolled": true
   },
   "outputs": [
    {
     "name": "stderr",
     "output_type": "stream",
     "text": [
      "Loading required package: BiocGenerics\n",
      "Loading required package: parallel\n",
      "\n",
      "Attaching package: ‘BiocGenerics’\n",
      "\n",
      "The following objects are masked from ‘package:parallel’:\n",
      "\n",
      "    clusterApply, clusterApplyLB, clusterCall, clusterEvalQ,\n",
      "    clusterExport, clusterMap, parApply, parCapply, parLapply,\n",
      "    parLapplyLB, parRapply, parSapply, parSapplyLB\n",
      "\n",
      "The following objects are masked from ‘package:dplyr’:\n",
      "\n",
      "    combine, intersect, setdiff, union\n",
      "\n",
      "The following objects are masked from ‘package:stats’:\n",
      "\n",
      "    IQR, mad, sd, var, xtabs\n",
      "\n",
      "The following objects are masked from ‘package:base’:\n",
      "\n",
      "    anyDuplicated, append, as.data.frame, basename, cbind, colnames,\n",
      "    dirname, do.call, duplicated, eval, evalq, Filter, Find, get, grep,\n",
      "    grepl, intersect, is.unsorted, lapply, Map, mapply, match, mget,\n",
      "    order, paste, pmax, pmax.int, pmin, pmin.int, Position, rank,\n",
      "    rbind, Reduce, rownames, sapply, setdiff, sort, table, tapply,\n",
      "    union, unique, unsplit, which, which.max, which.min\n",
      "\n",
      "Loading required package: graph\n",
      "Loading required package: Biobase\n",
      "Welcome to Bioconductor\n",
      "\n",
      "    Vignettes contain introductory material; view with\n",
      "    'browseVignettes()'. To cite Bioconductor, see\n",
      "    'citation(\"Biobase\")', and for packages 'citation(\"pkgname\")'.\n",
      "\n",
      "Loading required package: GO.db\n",
      "Loading required package: AnnotationDbi\n",
      "Loading required package: stats4\n",
      "Loading required package: IRanges\n",
      "Loading required package: S4Vectors\n",
      "\n",
      "Attaching package: ‘S4Vectors’\n",
      "\n",
      "The following objects are masked from ‘package:dplyr’:\n",
      "\n",
      "    first, rename\n",
      "\n",
      "The following objects are masked from ‘package:data.table’:\n",
      "\n",
      "    first, second\n",
      "\n",
      "The following object is masked from ‘package:base’:\n",
      "\n",
      "    expand.grid\n",
      "\n",
      "\n",
      "Attaching package: ‘IRanges’\n",
      "\n",
      "The following objects are masked from ‘package:dplyr’:\n",
      "\n",
      "    collapse, desc, slice\n",
      "\n",
      "The following object is masked from ‘package:data.table’:\n",
      "\n",
      "    shift\n",
      "\n",
      "\n",
      "Attaching package: ‘AnnotationDbi’\n",
      "\n",
      "The following object is masked from ‘package:dplyr’:\n",
      "\n",
      "    select\n",
      "\n",
      "\n",
      "Loading required package: SparseM\n",
      "\n",
      "Attaching package: ‘SparseM’\n",
      "\n",
      "The following object is masked from ‘package:base’:\n",
      "\n",
      "    backsolve\n",
      "\n",
      "\n",
      "groupGOTerms: \tGOBPTerm, GOMFTerm, GOCCTerm environments built.\n",
      "\n",
      "Attaching package: ‘topGO’\n",
      "\n",
      "The following object is masked from ‘package:IRanges’:\n",
      "\n",
      "    members\n",
      "\n"
     ]
    }
   ],
   "source": [
    "library(data.table)\n",
    "library(ggplot2)\n",
    "library(dplyr)\n",
    "#library(viridis)\n",
    "library(qqman)\n",
    "#library(qvalue)\n",
    "#library(Bioconducter)\n",
    "library(topGO)\n",
    "\"%!in%\" <- function(x,table) match(x,table, nomatch = 0) == 0\n"
   ]
  },
  {
   "cell_type": "code",
   "execution_count": null,
   "id": "0dd0e602",
   "metadata": {},
   "outputs": [],
   "source": []
  },
  {
   "cell_type": "markdown",
   "id": "334a1ffe",
   "metadata": {},
   "source": [
    "__make a sites file to filter out linked loci with pcangsd__"
   ]
  },
  {
   "cell_type": "code",
   "execution_count": null,
   "id": "7b9275c8",
   "metadata": {
    "scrolled": true
   },
   "outputs": [],
   "source": [
    "#how do maf and calls across ind look- also make sites files for angsd and filter sites for pcangsd\n",
    "sites <- fread(\"/data/katrinac/APPC_sequencing/DNA/trimmed_reads/mapping/genotypes/angsd/appc_angsd_probs.hwe.gz\")\n",
    "#head(sites)\n",
    "unlinked <- fread(\"/data/katrinac/APPC_sequencing/DNA/trimmed_reads/mapping/genotypes/angsd/ngsld/appc_unlinked_for_angsd.txt\")\n",
    "setnames(unlinked, 1:2, c(\"Chromo\", \"Position\"))\n",
    "unlinked[, filter := 1] #when ngsld has kept the site, mark with 1 so pcangsd knows to keep it\n",
    "test_filter_sites <- left_join(sites, unlinked) #join with full sites dt and mark linked  sites with 0\n",
    "#head(test_filter_sites)\n",
    "#nrow(test_filter_sites)==nrow(sites) #check that this is true\n",
    "test_filter_sites[is.na(filter), filter := 0]\n",
    "#write out for pcangsd\n",
    "#fwrite(test_filter_sites[,.(filter)], \"/data/katrinac/APPC_sequencing/DNA/trimmed_reads/mapping/genotypes/angsd/ngsld/filter_linked_sites_pcangsd.txt\", col.names = F)"
   ]
  },
  {
   "cell_type": "markdown",
   "id": "faff55cc",
   "metadata": {},
   "source": [
    "__make positions file for angsd to restrict to unlinked sites__"
   ]
  },
  {
   "cell_type": "code",
   "execution_count": null,
   "id": "03c29101",
   "metadata": {},
   "outputs": [],
   "source": [
    "nrow(maf[, .N, by=\"chromo\"])\n",
    "pyam <- unique(maf[chromo %like% \"PYAM\"], by=\"chromo\")[, chromo] #add the PYAM sites together\n",
    "names <- maf[chromo %!in% pyam, .N, by=\"chromo\"][, \"chromo\"] #get a list of chromosome labels\n",
    "names_with_pyam <- rbind(names, matrix(nrow=1, ncol=1, \"PYAM\"), use.names=F)\n",
    "#fwrite(names_with_pyam, \"/data/katrinac/APPC_sequencing/DNA/trimmed_reads/mapping/ensembl/genotypes/angsd/ngsld/chromosomes.txt\", col.names =F)"
   ]
  },
  {
   "cell_type": "markdown",
   "id": "d39d4e39",
   "metadata": {},
   "source": [
    "__plot the pcangsd results, color by phenotypes in the association__"
   ]
  },
  {
   "cell_type": "code",
   "execution_count": 2,
   "id": "e3bc8d1f",
   "metadata": {},
   "outputs": [
    {
     "data": {
      "text/html": [
       "<ol class=list-inline>\n",
       "\t<li>0.2219017695179</li>\n",
       "\t<li>0.00598643294372138</li>\n",
       "\t<li>0.00597199189406873</li>\n",
       "\t<li>0.00597072029345451</li>\n",
       "\t<li>0.0059469609456615</li>\n",
       "\t<li>0.00589712321231381</li>\n",
       "\t<li>0.00588875424674787</li>\n",
       "\t<li>0.00585690834245419</li>\n",
       "\t<li>0.00584988515603053</li>\n",
       "\t<li>0.0058301193404674</li>\n",
       "\t<li>0.00582254249705374</li>\n",
       "\t<li>0.00580427414273047</li>\n",
       "\t<li>0.0057745344014497</li>\n",
       "\t<li>0.00576645064309368</li>\n",
       "\t<li>0.00575611360268721</li>\n",
       "\t<li>0.00575362609736342</li>\n",
       "\t<li>0.00575055426294029</li>\n",
       "\t<li>0.00574620710360046</li>\n",
       "\t<li>0.00574389014874662</li>\n",
       "\t<li>0.00573736591100399</li>\n",
       "\t<li>0.00573687857168569</li>\n",
       "\t<li>0.00573594672277066</li>\n",
       "\t<li>0.00573091868948023</li>\n",
       "\t<li>0.00572453818845193</li>\n",
       "\t<li>0.00572370245071102</li>\n",
       "\t<li>0.00572093756217057</li>\n",
       "\t<li>0.00571556326541689</li>\n",
       "\t<li>0.00570572407483485</li>\n",
       "\t<li>0.0057049178414973</li>\n",
       "\t<li>0.00570096520664236</li>\n",
       "\t<li>0.00569445704856707</li>\n",
       "\t<li>0.00566829911975274</li>\n",
       "\t<li>0.0056633751643583</li>\n",
       "\t<li>0.00565873125062863</li>\n",
       "\t<li>0.0056482166520675</li>\n",
       "\t<li>0.00563982299755724</li>\n",
       "\t<li>0.00562084064883381</li>\n",
       "\t<li>0.00562031159464846</li>\n",
       "\t<li>0.00561364964408478</li>\n",
       "\t<li>0.00560906097332878</li>\n",
       "\t<li>0.00559024997963881</li>\n",
       "\t<li>0.00558876160102687</li>\n",
       "\t<li>0.0055853882855992</li>\n",
       "\t<li>0.00556895816139825</li>\n",
       "\t<li>0.00556120009943787</li>\n",
       "\t<li>0.00553067195633774</li>\n",
       "\t<li>0.00552913830034827</li>\n",
       "\t<li>0.00551327081711969</li>\n",
       "\t<li>0.00550498737410155</li>\n",
       "\t<li>0.00549743853998266</li>\n",
       "\t<li>0.00548714465980134</li>\n",
       "\t<li>0.00546285407343883</li>\n",
       "\t<li>0.00545894122533679</li>\n",
       "\t<li>0.00544796229160954</li>\n",
       "\t<li>0.00543213018551987</li>\n",
       "\t<li>0.00541544446703717</li>\n",
       "\t<li>0.00539794952508097</li>\n",
       "\t<li>0.00537249452573562</li>\n",
       "\t<li>0.00536496986669834</li>\n",
       "\t<li>0.00531060017349873</li>\n",
       "\t<li>0.00528321338333614</li>\n",
       "\t<li>0.00524497267699114</li>\n",
       "\t<li>0.00523080001856643</li>\n",
       "\t<li>0.00521821773060986</li>\n",
       "\t<li>0.00519039138367899</li>\n",
       "\t<li>0.00501249878495543</li>\n",
       "\t<li>0.00499106613890194</li>\n",
       "\t<li>0.00497853129698991</li>\n",
       "\t<li>0.00492965663660731</li>\n",
       "\t<li>0.00491135334161926</li>\n",
       "\t<li>0.00490343924265714</li>\n",
       "\t<li>0.00487834775806923</li>\n",
       "\t<li>0.00486103115692999</li>\n",
       "\t<li>0.00485372541694469</li>\n",
       "\t<li>0.00485029129454262</li>\n",
       "\t<li>0.00483812424081798</li>\n",
       "\t<li>0.00483077604397488</li>\n",
       "\t<li>0.00482525346454652</li>\n",
       "\t<li>0.00481931088722083</li>\n",
       "\t<li>0.00480530406194671</li>\n",
       "\t<li>0.00478851085221983</li>\n",
       "\t<li>0.00477690816313227</li>\n",
       "\t<li>0.00477061533415821</li>\n",
       "\t<li>0.00476030278569617</li>\n",
       "\t<li>0.00475568113351936</li>\n",
       "\t<li>0.00475046302438346</li>\n",
       "\t<li>0.00474122104472431</li>\n",
       "\t<li>0.00471876002307574</li>\n",
       "\t<li>0.00471771584790475</li>\n",
       "\t<li>0.00468673201062256</li>\n",
       "\t<li>0.00467964906860538</li>\n",
       "\t<li>0.00463363335789007</li>\n",
       "\t<li>0.00462444924892779</li>\n",
       "\t<li>0.00461132370286391</li>\n",
       "\t<li>0.00460388979773001</li>\n",
       "\t<li>0.00458363405729129</li>\n",
       "\t<li>0.00457770646872397</li>\n",
       "\t<li>0.00457339300954367</li>\n",
       "\t<li>0.00456689835839456</li>\n",
       "\t<li>0.00456091743131606</li>\n",
       "\t<li>0.00455165496176449</li>\n",
       "\t<li>0.00453598294651011</li>\n",
       "\t<li>0.00452596790608648</li>\n",
       "\t<li>0.00451739942369408</li>\n",
       "\t<li>0.00450783397322223</li>\n",
       "\t<li>0.00449979345136249</li>\n",
       "\t<li>0.00448731238628987</li>\n",
       "\t<li>0.00446183940357879</li>\n",
       "\t<li>0.00444360174344579</li>\n",
       "\t<li>0.00444121969106992</li>\n",
       "\t<li>0.00443650057343618</li>\n",
       "\t<li>0.00443347454780747</li>\n",
       "\t<li>0.00442861402493191</li>\n",
       "\t<li>0.0044259398826462</li>\n",
       "\t<li>0.00440921575825138</li>\n",
       "\t<li>0.00440710931738081</li>\n",
       "\t<li>0.00438707363045596</li>\n",
       "\t<li>0.00437230425768299</li>\n",
       "\t<li>0.00436422058693518</li>\n",
       "\t<li>0.00434857079641986</li>\n",
       "\t<li>0.00434399093289101</li>\n",
       "\t<li>0.00434004184988589</li>\n",
       "\t<li>0.00432283817432848</li>\n",
       "\t<li>0.00431592941781796</li>\n",
       "\t<li>0.00429234859532762</li>\n",
       "\t<li>0.00428913839646823</li>\n",
       "\t<li>0.00427087640697589</li>\n",
       "\t<li>0.00426880376434153</li>\n",
       "\t<li>0.00426286330118597</li>\n",
       "\t<li>0.00425619329105218</li>\n",
       "\t<li>0.00424485087754145</li>\n",
       "\t<li>0.00423882551167906</li>\n",
       "\t<li>0.00423342492781394</li>\n",
       "\t<li>0.00423224256000174</li>\n",
       "\t<li>0.0042242531670514</li>\n",
       "\t<li>0.00422038657078744</li>\n",
       "\t<li>0.0042174912347616</li>\n",
       "\t<li>0.00420935335931273</li>\n",
       "\t<li>0.00420375644024794</li>\n",
       "\t<li>0.00419835234288851</li>\n",
       "\t<li>0.0041943630273725</li>\n",
       "\t<li>0.00418625911027547</li>\n",
       "\t<li>0.00418429754056614</li>\n",
       "\t<li>0.00418221037624314</li>\n",
       "\t<li>0.00417482530316904</li>\n",
       "\t<li>0.00416964320963604</li>\n",
       "\t<li>0.00415890005839815</li>\n",
       "\t<li>0.00413037044648705</li>\n",
       "\t<li>0.00412125448627404</li>\n",
       "\t<li>0.0041157554813396</li>\n",
       "\t<li>0.00407055918640557</li>\n",
       "\t<li>0.00404269060212136</li>\n",
       "\t<li>0.0040197397830961</li>\n",
       "\t<li>0.00395263019803431</li>\n",
       "\t<li>0.0039411302389632</li>\n",
       "\t<li>0.00391297427601929</li>\n",
       "\t<li>0.00387265542488341</li>\n",
       "\t<li>0.00380773302600512</li>\n",
       "\t<li>0.00363806967902092</li>\n",
       "</ol>\n"
      ],
      "text/latex": [
       "\\begin{enumerate*}\n",
       "\\item 0.2219017695179\n",
       "\\item 0.00598643294372138\n",
       "\\item 0.00597199189406873\n",
       "\\item 0.00597072029345451\n",
       "\\item 0.0059469609456615\n",
       "\\item 0.00589712321231381\n",
       "\\item 0.00588875424674787\n",
       "\\item 0.00585690834245419\n",
       "\\item 0.00584988515603053\n",
       "\\item 0.0058301193404674\n",
       "\\item 0.00582254249705374\n",
       "\\item 0.00580427414273047\n",
       "\\item 0.0057745344014497\n",
       "\\item 0.00576645064309368\n",
       "\\item 0.00575611360268721\n",
       "\\item 0.00575362609736342\n",
       "\\item 0.00575055426294029\n",
       "\\item 0.00574620710360046\n",
       "\\item 0.00574389014874662\n",
       "\\item 0.00573736591100399\n",
       "\\item 0.00573687857168569\n",
       "\\item 0.00573594672277066\n",
       "\\item 0.00573091868948023\n",
       "\\item 0.00572453818845193\n",
       "\\item 0.00572370245071102\n",
       "\\item 0.00572093756217057\n",
       "\\item 0.00571556326541689\n",
       "\\item 0.00570572407483485\n",
       "\\item 0.0057049178414973\n",
       "\\item 0.00570096520664236\n",
       "\\item 0.00569445704856707\n",
       "\\item 0.00566829911975274\n",
       "\\item 0.0056633751643583\n",
       "\\item 0.00565873125062863\n",
       "\\item 0.0056482166520675\n",
       "\\item 0.00563982299755724\n",
       "\\item 0.00562084064883381\n",
       "\\item 0.00562031159464846\n",
       "\\item 0.00561364964408478\n",
       "\\item 0.00560906097332878\n",
       "\\item 0.00559024997963881\n",
       "\\item 0.00558876160102687\n",
       "\\item 0.0055853882855992\n",
       "\\item 0.00556895816139825\n",
       "\\item 0.00556120009943787\n",
       "\\item 0.00553067195633774\n",
       "\\item 0.00552913830034827\n",
       "\\item 0.00551327081711969\n",
       "\\item 0.00550498737410155\n",
       "\\item 0.00549743853998266\n",
       "\\item 0.00548714465980134\n",
       "\\item 0.00546285407343883\n",
       "\\item 0.00545894122533679\n",
       "\\item 0.00544796229160954\n",
       "\\item 0.00543213018551987\n",
       "\\item 0.00541544446703717\n",
       "\\item 0.00539794952508097\n",
       "\\item 0.00537249452573562\n",
       "\\item 0.00536496986669834\n",
       "\\item 0.00531060017349873\n",
       "\\item 0.00528321338333614\n",
       "\\item 0.00524497267699114\n",
       "\\item 0.00523080001856643\n",
       "\\item 0.00521821773060986\n",
       "\\item 0.00519039138367899\n",
       "\\item 0.00501249878495543\n",
       "\\item 0.00499106613890194\n",
       "\\item 0.00497853129698991\n",
       "\\item 0.00492965663660731\n",
       "\\item 0.00491135334161926\n",
       "\\item 0.00490343924265714\n",
       "\\item 0.00487834775806923\n",
       "\\item 0.00486103115692999\n",
       "\\item 0.00485372541694469\n",
       "\\item 0.00485029129454262\n",
       "\\item 0.00483812424081798\n",
       "\\item 0.00483077604397488\n",
       "\\item 0.00482525346454652\n",
       "\\item 0.00481931088722083\n",
       "\\item 0.00480530406194671\n",
       "\\item 0.00478851085221983\n",
       "\\item 0.00477690816313227\n",
       "\\item 0.00477061533415821\n",
       "\\item 0.00476030278569617\n",
       "\\item 0.00475568113351936\n",
       "\\item 0.00475046302438346\n",
       "\\item 0.00474122104472431\n",
       "\\item 0.00471876002307574\n",
       "\\item 0.00471771584790475\n",
       "\\item 0.00468673201062256\n",
       "\\item 0.00467964906860538\n",
       "\\item 0.00463363335789007\n",
       "\\item 0.00462444924892779\n",
       "\\item 0.00461132370286391\n",
       "\\item 0.00460388979773001\n",
       "\\item 0.00458363405729129\n",
       "\\item 0.00457770646872397\n",
       "\\item 0.00457339300954367\n",
       "\\item 0.00456689835839456\n",
       "\\item 0.00456091743131606\n",
       "\\item 0.00455165496176449\n",
       "\\item 0.00453598294651011\n",
       "\\item 0.00452596790608648\n",
       "\\item 0.00451739942369408\n",
       "\\item 0.00450783397322223\n",
       "\\item 0.00449979345136249\n",
       "\\item 0.00448731238628987\n",
       "\\item 0.00446183940357879\n",
       "\\item 0.00444360174344579\n",
       "\\item 0.00444121969106992\n",
       "\\item 0.00443650057343618\n",
       "\\item 0.00443347454780747\n",
       "\\item 0.00442861402493191\n",
       "\\item 0.0044259398826462\n",
       "\\item 0.00440921575825138\n",
       "\\item 0.00440710931738081\n",
       "\\item 0.00438707363045596\n",
       "\\item 0.00437230425768299\n",
       "\\item 0.00436422058693518\n",
       "\\item 0.00434857079641986\n",
       "\\item 0.00434399093289101\n",
       "\\item 0.00434004184988589\n",
       "\\item 0.00432283817432848\n",
       "\\item 0.00431592941781796\n",
       "\\item 0.00429234859532762\n",
       "\\item 0.00428913839646823\n",
       "\\item 0.00427087640697589\n",
       "\\item 0.00426880376434153\n",
       "\\item 0.00426286330118597\n",
       "\\item 0.00425619329105218\n",
       "\\item 0.00424485087754145\n",
       "\\item 0.00423882551167906\n",
       "\\item 0.00423342492781394\n",
       "\\item 0.00423224256000174\n",
       "\\item 0.0042242531670514\n",
       "\\item 0.00422038657078744\n",
       "\\item 0.0042174912347616\n",
       "\\item 0.00420935335931273\n",
       "\\item 0.00420375644024794\n",
       "\\item 0.00419835234288851\n",
       "\\item 0.0041943630273725\n",
       "\\item 0.00418625911027547\n",
       "\\item 0.00418429754056614\n",
       "\\item 0.00418221037624314\n",
       "\\item 0.00417482530316904\n",
       "\\item 0.00416964320963604\n",
       "\\item 0.00415890005839815\n",
       "\\item 0.00413037044648705\n",
       "\\item 0.00412125448627404\n",
       "\\item 0.0041157554813396\n",
       "\\item 0.00407055918640557\n",
       "\\item 0.00404269060212136\n",
       "\\item 0.0040197397830961\n",
       "\\item 0.00395263019803431\n",
       "\\item 0.0039411302389632\n",
       "\\item 0.00391297427601929\n",
       "\\item 0.00387265542488341\n",
       "\\item 0.00380773302600512\n",
       "\\item 0.00363806967902092\n",
       "\\end{enumerate*}\n"
      ],
      "text/markdown": [
       "1. 0.2219017695179\n",
       "2. 0.00598643294372138\n",
       "3. 0.00597199189406873\n",
       "4. 0.00597072029345451\n",
       "5. 0.0059469609456615\n",
       "6. 0.00589712321231381\n",
       "7. 0.00588875424674787\n",
       "8. 0.00585690834245419\n",
       "9. 0.00584988515603053\n",
       "10. 0.0058301193404674\n",
       "11. 0.00582254249705374\n",
       "12. 0.00580427414273047\n",
       "13. 0.0057745344014497\n",
       "14. 0.00576645064309368\n",
       "15. 0.00575611360268721\n",
       "16. 0.00575362609736342\n",
       "17. 0.00575055426294029\n",
       "18. 0.00574620710360046\n",
       "19. 0.00574389014874662\n",
       "20. 0.00573736591100399\n",
       "21. 0.00573687857168569\n",
       "22. 0.00573594672277066\n",
       "23. 0.00573091868948023\n",
       "24. 0.00572453818845193\n",
       "25. 0.00572370245071102\n",
       "26. 0.00572093756217057\n",
       "27. 0.00571556326541689\n",
       "28. 0.00570572407483485\n",
       "29. 0.0057049178414973\n",
       "30. 0.00570096520664236\n",
       "31. 0.00569445704856707\n",
       "32. 0.00566829911975274\n",
       "33. 0.0056633751643583\n",
       "34. 0.00565873125062863\n",
       "35. 0.0056482166520675\n",
       "36. 0.00563982299755724\n",
       "37. 0.00562084064883381\n",
       "38. 0.00562031159464846\n",
       "39. 0.00561364964408478\n",
       "40. 0.00560906097332878\n",
       "41. 0.00559024997963881\n",
       "42. 0.00558876160102687\n",
       "43. 0.0055853882855992\n",
       "44. 0.00556895816139825\n",
       "45. 0.00556120009943787\n",
       "46. 0.00553067195633774\n",
       "47. 0.00552913830034827\n",
       "48. 0.00551327081711969\n",
       "49. 0.00550498737410155\n",
       "50. 0.00549743853998266\n",
       "51. 0.00548714465980134\n",
       "52. 0.00546285407343883\n",
       "53. 0.00545894122533679\n",
       "54. 0.00544796229160954\n",
       "55. 0.00543213018551987\n",
       "56. 0.00541544446703717\n",
       "57. 0.00539794952508097\n",
       "58. 0.00537249452573562\n",
       "59. 0.00536496986669834\n",
       "60. 0.00531060017349873\n",
       "61. 0.00528321338333614\n",
       "62. 0.00524497267699114\n",
       "63. 0.00523080001856643\n",
       "64. 0.00521821773060986\n",
       "65. 0.00519039138367899\n",
       "66. 0.00501249878495543\n",
       "67. 0.00499106613890194\n",
       "68. 0.00497853129698991\n",
       "69. 0.00492965663660731\n",
       "70. 0.00491135334161926\n",
       "71. 0.00490343924265714\n",
       "72. 0.00487834775806923\n",
       "73. 0.00486103115692999\n",
       "74. 0.00485372541694469\n",
       "75. 0.00485029129454262\n",
       "76. 0.00483812424081798\n",
       "77. 0.00483077604397488\n",
       "78. 0.00482525346454652\n",
       "79. 0.00481931088722083\n",
       "80. 0.00480530406194671\n",
       "81. 0.00478851085221983\n",
       "82. 0.00477690816313227\n",
       "83. 0.00477061533415821\n",
       "84. 0.00476030278569617\n",
       "85. 0.00475568113351936\n",
       "86. 0.00475046302438346\n",
       "87. 0.00474122104472431\n",
       "88. 0.00471876002307574\n",
       "89. 0.00471771584790475\n",
       "90. 0.00468673201062256\n",
       "91. 0.00467964906860538\n",
       "92. 0.00463363335789007\n",
       "93. 0.00462444924892779\n",
       "94. 0.00461132370286391\n",
       "95. 0.00460388979773001\n",
       "96. 0.00458363405729129\n",
       "97. 0.00457770646872397\n",
       "98. 0.00457339300954367\n",
       "99. 0.00456689835839456\n",
       "100. 0.00456091743131606\n",
       "101. 0.00455165496176449\n",
       "102. 0.00453598294651011\n",
       "103. 0.00452596790608648\n",
       "104. 0.00451739942369408\n",
       "105. 0.00450783397322223\n",
       "106. 0.00449979345136249\n",
       "107. 0.00448731238628987\n",
       "108. 0.00446183940357879\n",
       "109. 0.00444360174344579\n",
       "110. 0.00444121969106992\n",
       "111. 0.00443650057343618\n",
       "112. 0.00443347454780747\n",
       "113. 0.00442861402493191\n",
       "114. 0.0044259398826462\n",
       "115. 0.00440921575825138\n",
       "116. 0.00440710931738081\n",
       "117. 0.00438707363045596\n",
       "118. 0.00437230425768299\n",
       "119. 0.00436422058693518\n",
       "120. 0.00434857079641986\n",
       "121. 0.00434399093289101\n",
       "122. 0.00434004184988589\n",
       "123. 0.00432283817432848\n",
       "124. 0.00431592941781796\n",
       "125. 0.00429234859532762\n",
       "126. 0.00428913839646823\n",
       "127. 0.00427087640697589\n",
       "128. 0.00426880376434153\n",
       "129. 0.00426286330118597\n",
       "130. 0.00425619329105218\n",
       "131. 0.00424485087754145\n",
       "132. 0.00423882551167906\n",
       "133. 0.00423342492781394\n",
       "134. 0.00423224256000174\n",
       "135. 0.0042242531670514\n",
       "136. 0.00422038657078744\n",
       "137. 0.0042174912347616\n",
       "138. 0.00420935335931273\n",
       "139. 0.00420375644024794\n",
       "140. 0.00419835234288851\n",
       "141. 0.0041943630273725\n",
       "142. 0.00418625911027547\n",
       "143. 0.00418429754056614\n",
       "144. 0.00418221037624314\n",
       "145. 0.00417482530316904\n",
       "146. 0.00416964320963604\n",
       "147. 0.00415890005839815\n",
       "148. 0.00413037044648705\n",
       "149. 0.00412125448627404\n",
       "150. 0.0041157554813396\n",
       "151. 0.00407055918640557\n",
       "152. 0.00404269060212136\n",
       "153. 0.0040197397830961\n",
       "154. 0.00395263019803431\n",
       "155. 0.0039411302389632\n",
       "156. 0.00391297427601929\n",
       "157. 0.00387265542488341\n",
       "158. 0.00380773302600512\n",
       "159. 0.00363806967902092\n",
       "\n",
       "\n"
      ],
      "text/plain": [
       "  [1] 0.221901770 0.005986433 0.005971992 0.005970720 0.005946961 0.005897123\n",
       "  [7] 0.005888754 0.005856908 0.005849885 0.005830119 0.005822542 0.005804274\n",
       " [13] 0.005774534 0.005766451 0.005756114 0.005753626 0.005750554 0.005746207\n",
       " [19] 0.005743890 0.005737366 0.005736879 0.005735947 0.005730919 0.005724538\n",
       " [25] 0.005723702 0.005720938 0.005715563 0.005705724 0.005704918 0.005700965\n",
       " [31] 0.005694457 0.005668299 0.005663375 0.005658731 0.005648217 0.005639823\n",
       " [37] 0.005620841 0.005620312 0.005613650 0.005609061 0.005590250 0.005588762\n",
       " [43] 0.005585388 0.005568958 0.005561200 0.005530672 0.005529138 0.005513271\n",
       " [49] 0.005504987 0.005497439 0.005487145 0.005462854 0.005458941 0.005447962\n",
       " [55] 0.005432130 0.005415444 0.005397950 0.005372495 0.005364970 0.005310600\n",
       " [61] 0.005283213 0.005244973 0.005230800 0.005218218 0.005190391 0.005012499\n",
       " [67] 0.004991066 0.004978531 0.004929657 0.004911353 0.004903439 0.004878348\n",
       " [73] 0.004861031 0.004853725 0.004850291 0.004838124 0.004830776 0.004825253\n",
       " [79] 0.004819311 0.004805304 0.004788511 0.004776908 0.004770615 0.004760303\n",
       " [85] 0.004755681 0.004750463 0.004741221 0.004718760 0.004717716 0.004686732\n",
       " [91] 0.004679649 0.004633633 0.004624449 0.004611324 0.004603890 0.004583634\n",
       " [97] 0.004577706 0.004573393 0.004566898 0.004560917 0.004551655 0.004535983\n",
       "[103] 0.004525968 0.004517399 0.004507834 0.004499793 0.004487312 0.004461839\n",
       "[109] 0.004443602 0.004441220 0.004436501 0.004433475 0.004428614 0.004425940\n",
       "[115] 0.004409216 0.004407109 0.004387074 0.004372304 0.004364221 0.004348571\n",
       "[121] 0.004343991 0.004340042 0.004322838 0.004315929 0.004292349 0.004289138\n",
       "[127] 0.004270876 0.004268804 0.004262863 0.004256193 0.004244851 0.004238826\n",
       "[133] 0.004233425 0.004232243 0.004224253 0.004220387 0.004217491 0.004209353\n",
       "[139] 0.004203756 0.004198352 0.004194363 0.004186259 0.004184298 0.004182210\n",
       "[145] 0.004174825 0.004169643 0.004158900 0.004130370 0.004121254 0.004115755\n",
       "[151] 0.004070559 0.004042691 0.004019740 0.003952630 0.003941130 0.003912974\n",
       "[157] 0.003872655 0.003807733 0.003638070"
      ]
     },
     "metadata": {},
     "output_type": "display_data"
    }
   ],
   "source": [
    "pca <- fread(\"/data/katrinac/APPC_sequencing/DNA/trimmed_reads/mapping/genotypes/angsd/output.pcangsd.cov\")\n",
    "#get eigenvalues\n",
    "ev <-eigen(pca)\n",
    "ev_dt <- data.table(ev$vectors[,1:10])\n",
    "setnames(ev_dt, c(\"pc1\", \"pc2\", \"pc3\", \"pc4\", \"pc5\", \"pc6\", \"pc7\", \"pc8\", \"pc9\", \"pc10\"))\n",
    "#variance explained?\n",
    "ev$values/sum(ev$values)"
   ]
  },
  {
   "cell_type": "markdown",
   "id": "42650a12",
   "metadata": {},
   "source": [
    "__join together the metadata with other covariates and phenotypes with the pcs- be sure to check that the samples are ordered the same as bamlist__"
   ]
  },
  {
   "cell_type": "code",
   "execution_count": 3,
   "id": "d79b92c3",
   "metadata": {},
   "outputs": [
    {
     "name": "stderr",
     "output_type": "stream",
     "text": [
      "Warning message in `[.data.table`(fread(\"/data/katrinac/APPC_sequencing/DNA/trimmed_reads/mapping/genotypes/angsd/Sample_Meta.txt\")[is.na(Group), :\n",
      "“Coerced double RHS to character to match the type of the target column (column 10 named 'Group'). If the target column's type character is correct, it's best for efficiency to avoid the coercion and create the RHS as type character. To achieve that consider R's type postfix: typeof(0L) vs typeof(0), and typeof(NA) vs typeof(NA_integer_) vs typeof(NA_real_). You can wrap the RHS with as.character() to avoid this warning, but that will still perform the coercion. If the target column's type is not correct, it's best to revisit where the DT was created and fix the column type there; e.g., by using colClasses= in fread(). Otherwise, you can change the column type now by plonking a new column (of the desired type) over the top of it; e.g. DT[, `Group`:=as.double(`Group`)]. If the RHS of := has nrow(DT) elements then the assignment is called a column plonk and is the way to change a column's type. Column types can be observed with sapply(DT,typeof).”Warning message in `[.data.table`(fread(\"/data/katrinac/APPC_sequencing/DNA/trimmed_reads/mapping/genotypes/angsd/Sample_Meta.txt\")[is.na(Group), :\n",
      "“Coerced double RHS to character to match the type of the target column (column 10 named 'Group'). If the target column's type character is correct, it's best for efficiency to avoid the coercion and create the RHS as type character. To achieve that consider R's type postfix: typeof(0L) vs typeof(0), and typeof(NA) vs typeof(NA_integer_) vs typeof(NA_real_). You can wrap the RHS with as.character() to avoid this warning, but that will still perform the coercion. If the target column's type is not correct, it's best to revisit where the DT was created and fix the column type there; e.g., by using colClasses= in fread(). Otherwise, you can change the column type now by plonking a new column (of the desired type) over the top of it; e.g. DT[, `Group`:=as.double(`Group`)]. If the RHS of := has nrow(DT) elements then the assignment is called a column plonk and is the way to change a column's type. Column types can be observed with sapply(DT,typeof).”"
     ]
    }
   ],
   "source": [
    "bamlist <- fread(\"/data/katrinac/APPC_sequencing/DNA/trimmed_reads/mapping/genotypes/bamlist.list.txt\")\n",
    "meta <- fread(\"/data/katrinac/APPC_sequencing/DNA/trimmed_reads/mapping/genotypes/angsd/Sample_Meta.txt\")[is.na(Group), Group :=-999][Group==\"High\", Group:=1][Group==\"Low\", Group:=0][, .(sample=gen_id, ucrit=Ucrit, sl=SL, dam, sire, case=Group, capture=Capture)]\n",
    "sorted_meta <- left_join(bamlist, meta, by=\"sample\")\n",
    "pca_phenos <- cbind(sorted_meta , ev_dt)[, sequencing_lib := ifelse(capture %in% c(\"Pop01\",\"Pop02\",\"Pop03\", \"Pop04\", \"Pop05\", \"Pop06\", \"Pop07\",\"Pop08\"), 1, 2)]\n",
    "#write out the pcs to use as covariates\n",
    "#fwrite(pca_phenos[, \"capture\"], \"/data/katrinac/APPC_sequencing/DNA/trimmed_reads/mapping/genotypes/angsd/capture.cov\", col.names = F)"
   ]
  },
  {
   "cell_type": "code",
   "execution_count": 56,
   "id": "3fdbb245",
   "metadata": {},
   "outputs": [
    {
     "data": {
      "text/html": [
       "<table>\n",
       "<thead><tr><th scope=col>Estimate</th><th scope=col>Std. Error</th><th scope=col>t value</th><th scope=col>pvalue</th><th scope=col>names</th></tr></thead>\n",
       "<tbody>\n",
       "\t<tr><td>4.077585    </td><td>0.2397162   </td><td>17.01005    </td><td>2.820919e-37</td><td>(Intercept) </td></tr>\n",
       "</tbody>\n",
       "</table>\n"
      ],
      "text/latex": [
       "\\begin{tabular}{r|lllll}\n",
       " Estimate & Std. Error & t value & pvalue & names\\\\\n",
       "\\hline\n",
       "\t 4.077585     & 0.2397162    & 17.01005     & 2.820919e-37 & (Intercept) \\\\\n",
       "\\end{tabular}\n"
      ],
      "text/markdown": [
       "\n",
       "| Estimate | Std. Error | t value | pvalue | names |\n",
       "|---|---|---|---|---|\n",
       "| 4.077585     | 0.2397162    | 17.01005     | 2.820919e-37 | (Intercept)  |\n",
       "\n"
      ],
      "text/plain": [
       "  Estimate Std. Error t value  pvalue       names      \n",
       "1 4.077585 0.2397162  17.01005 2.820919e-37 (Intercept)"
      ]
     },
     "metadata": {},
     "output_type": "display_data"
    }
   ],
   "source": [
    "predictors <- as.data.table(summary(glm(data=pca_pheno_unlinked, ucrit ~ V1+V2+V3))$coeff)\n",
    " \n",
    "predictors$names <- row.names(summary(glm(data=pca_pheno_unlinked, ucrit ~ V1+V2+V3))$coeff)\n",
    "setnames(predictors, 4, \"pvalue\")\n",
    "predictors[pvalue <0.08][order(pvalue)]"
   ]
  },
  {
   "cell_type": "code",
   "execution_count": 54,
   "id": "8de8c577",
   "metadata": {},
   "outputs": [
    {
     "data": {
      "text/html": [
       "<table>\n",
       "<thead><tr><th scope=col>Estimate</th><th scope=col>Std. Error</th><th scope=col>t value</th><th scope=col>pvalue</th><th scope=col>names</th></tr></thead>\n",
       "<tbody>\n",
       "\t<tr><td> 4.2565577   </td><td>0.01110523   </td><td>383.293050   </td><td>2.851757e-217</td><td>(Intercept)  </td></tr>\n",
       "\t<tr><td>-0.2634892   </td><td>0.13867298   </td><td> -1.900076   </td><td> 5.943614e-02</td><td>V1           </td></tr>\n",
       "</tbody>\n",
       "</table>\n"
      ],
      "text/latex": [
       "\\begin{tabular}{r|lllll}\n",
       " Estimate & Std. Error & t value & pvalue & names\\\\\n",
       "\\hline\n",
       "\t  4.2565577    & 0.01110523    & 383.293050    & 2.851757e-217 & (Intercept)  \\\\\n",
       "\t -0.2634892    & 0.13867298    &  -1.900076    &  5.943614e-02 & V1           \\\\\n",
       "\\end{tabular}\n"
      ],
      "text/markdown": [
       "\n",
       "| Estimate | Std. Error | t value | pvalue | names |\n",
       "|---|---|---|---|---|\n",
       "|  4.2565577    | 0.01110523    | 383.293050    | 2.851757e-217 | (Intercept)   |\n",
       "| -0.2634892    | 0.13867298    |  -1.900076    |  5.943614e-02 | V1            |\n",
       "\n"
      ],
      "text/plain": [
       "  Estimate   Std. Error t value    pvalue        names      \n",
       "1  4.2565577 0.01110523 383.293050 2.851757e-217 (Intercept)\n",
       "2 -0.2634892 0.13867298  -1.900076  5.943614e-02 V1         "
      ]
     },
     "metadata": {},
     "output_type": "display_data"
    }
   ],
   "source": [
    "#what pcs/covariates explain the phenotype?\n",
    "predictors <- as.data.table(summary(glm(data=pca_pheno_unlinked, sl ~ V1+V2+V3))$coeff)\n",
    " \n",
    "predictors$names <- row.names(summary(glm(data=pca_pheno_unlinked, sl ~ V1+V2+V3))$coeff)\n",
    "setnames(predictors, 4, \"pvalue\")\n",
    "predictors[pvalue <0.06][order(pvalue)]"
   ]
  },
  {
   "cell_type": "code",
   "execution_count": null,
   "id": "9583f519",
   "metadata": {},
   "outputs": [],
   "source": [
    "#fwrite(pca_phenos[,.(pc1, pc2, pc3)],\"/data/katrinac/APPC_sequencing/DNA/trimmed_reads/mapping/genotypes/angsd/pc1-3_unlinked.cov\", col.names = FALSE )"
   ]
  },
  {
   "cell_type": "code",
   "execution_count": 392,
   "id": "2bb87471",
   "metadata": {},
   "outputs": [
    {
     "name": "stdout",
     "output_type": "stream",
     "text": [
      "Classes ‘data.table’ and 'data.frame':\t159 obs. of  18 variables:\n",
      " $ sample        : chr  \"Pop01_APPC1611\" \"Pop01_APPC1917\" \"Pop01_APPC1921\" \"Pop01_APPC2029\" ...\n",
      " $ ucrit         : num  8.13 1.2 7.33 8.82 7.32 5.07 6.33 1.8 0.3 1.17 ...\n",
      " $ sl            : num  4.4 4.35 4.28 4.25 4.54 3.94 4.29 4.36 4.43 4.35 ...\n",
      " $ dam           : chr  \"D125\" \"D85\" \"D85\" \"D70\" ...\n",
      " $ sire          : chr  \"S144\" \"S173\" \"S173\" \"S98\" ...\n",
      " $ case          : chr  \"1\" \"0\" \"1\" \"1\" ...\n",
      " $ capture       : chr  \"Pop01\" \"Pop01\" \"Pop01\" \"Pop01\" ...\n",
      " $ pc1           : num  -0.0926 -0.11195 0.00391 -0.03316 0.02408 ...\n",
      " $ pc2           : num  -0.006637 -0.013639 -0.000324 -0.119551 -0.000398 ...\n",
      " $ pc3           : num  0.005136 0.008223 -0.000178 0.533403 -0.000211 ...\n",
      " $ pc4           : num  0.01451 -0.003482 -0.000424 -0.833042 -0.001329 ...\n",
      " $ pc5           : num  0.037122 0.013261 -0.000944 -0.056651 -0.002514 ...\n",
      " $ pc6           : num  -0.02155 -0.00495 0.00035 0.005 0.00082 ...\n",
      " $ pc7           : num  -0.09119 -0.0173 0.00176 0.01527 0.00358 ...\n",
      " $ pc8           : num  0.039682 0.003954 -0.000298 -0.003488 -0.000791 ...\n",
      " $ pc9           : num  0.23687 0.01895 -0.00162 -0.01094 -0.00323 ...\n",
      " $ pc10          : num  0.6935328 0.0003581 0.0001005 -0.0013982 0.0000644 ...\n",
      " $ sequencing_lib: num  1 1 1 1 1 1 1 1 1 1 ...\n",
      " - attr(*, \".internal.selfref\")=<externalptr> \n"
     ]
    }
   ],
   "source": [
    "str(pca_phenos)"
   ]
  },
  {
   "cell_type": "code",
   "execution_count": 4,
   "id": "b5923c5e",
   "metadata": {},
   "outputs": [
    {
     "data": {
      "image/png": "[encoded data removed]",
      "text/plain": [
       "plot without title"
      ]
     },
     "metadata": {},
     "output_type": "display_data"
    }
   ],
   "source": [
    "pca_plot <- ggplot(data=pca_phenos, aes(x=pc1, y=pc2))+\n",
    "    geom_point()+\n",
    "    xlab(\"PC1, 22.19% variance explained\")+\n",
    "    ylab(\"PC2, 0.05% variance explained\")\n",
    "pca_plot"
   ]
  },
  {
   "cell_type": "code",
   "execution_count": 5,
   "id": "c1569f32",
   "metadata": {},
   "outputs": [
    {
     "name": "stderr",
     "output_type": "stream",
     "text": [
      "Saving 6.67 x 6.67 in image\n"
     ]
    }
   ],
   "source": [
    "ggsave(plot=pca_plot, filename = \"/data/katrinac/APPC_sequencing/DNA/trimmed_reads/mapping/ensembl/genotypes/angsd/results/pca.pdf\")"
   ]
  },
  {
   "cell_type": "code",
   "execution_count": null,
   "id": "4d1a8fb5",
   "metadata": {},
   "outputs": [],
   "source": [
    "#ggplot()+\n",
    "#    geom_point(data=pca_phenos[], aes(x=pc1, y=pc2, col=sl)) +\n",
    "#    scale_color_viridis(color.palette=magma)"
   ]
  },
  {
   "cell_type": "code",
   "execution_count": null,
   "id": "ec932d46",
   "metadata": {},
   "outputs": [],
   "source": [
    "#ggplot()+\n",
    "#    geom_point(data=pca_phenos, aes(x=pc1, y=pc2, col=ucrit)) +\n",
    "#    scale_color_viridis(option=\"magma\")"
   ]
  },
  {
   "cell_type": "code",
   "execution_count": null,
   "id": "b95e379a",
   "metadata": {},
   "outputs": [],
   "source": [
    "#ggplot()+\n",
    "#    geom_point(data=pca_phenos, aes(x=pc1, y=pc2, col=sequencing_lib)) +\n",
    "#    scale_color_viridis(option=\"magma\")"
   ]
  },
  {
   "cell_type": "code",
   "execution_count": null,
   "id": "a8e84cbb",
   "metadata": {},
   "outputs": [],
   "source": [
    "ggplot(data=pca_phenos, aes(x=pc1, y=pc2, col=dam, label=sample))+\n",
    "    geom_point() #+\n",
    "    #geom_text(nudge_x = 0.02)"
   ]
  },
  {
   "cell_type": "markdown",
   "id": "0b2f3e30",
   "metadata": {},
   "source": [
    "### evaluate model and plot GWAS results for each phenotype"
   ]
  },
  {
   "cell_type": "code",
   "execution_count": 3,
   "id": "3d111f42",
   "metadata": {},
   "outputs": [],
   "source": [
    "lrt_ucrit <- fread(\"/data/katrinac/APPC_sequencing/DNA/trimmed_reads/mapping/ensembl/genotypes/angsd/ucrit_assoc5_maf0.05_noMaxdepth_minQ30_minCount16.lrt0.gz\")\n",
    "lrt_ucrit[, locus := paste(Chromosome, Position, sep=\":\")]\n",
    "setnames(lrt_ucrit, \"LRTscore\", \"LRT\")\n",
    "\n",
    "#filter out loci in hwe and NAN\n",
    "lrt_filt_ucrit <- lrt_ucrit[LRT>0]#[,Chromosome := paste0(\"chr\", Chromosome, sep=\"\")] #uncomment this for the top go analysis\n",
    "#lrt_filt <- lrt[LRT>0]\n",
    "#format for manhattan plot\n",
    "#get pvalues\n",
    "lrt_filt_ucrit$pvalue<-dchisq(lrt_filt_ucrit$LRT, df=1)\n",
    "lrt_filt_ucrit[, Chromosome := gsub(\".\",\"\", Chromosome, fixed = T)][, Chromosome := gsub(\"CM\",\"\", Chromosome, fixed = T)][, Chromosome := gsub(\"PYAM\",\"\", Chromosome, fixed = T)]\n",
    "lrt_filt_ucrit[, Chromosome := as.numeric(Chromosome)]\n",
    "lrt_filt_ucrit$SNP<-paste(\"r\",1:length(lrt_filt_ucrit$Chromosome), sep=\"\")\n",
    "\n",
    "\n",
    "lrt_filt_ucrit <- lrt_filt_ucrit[order(LRT)][,quantile:=1:nrow(lrt_filt_ucrit)/nrow(lrt_filt_ucrit)] #quantiles for observed lrt\n",
    "exp_lrt_ucrit <- data.table( exp_lrt = rchisq(nrow(lrt_filt_ucrit), 1))[order(exp_lrt)]\n",
    "lrt_filt_ucrit$exp_lrt_ucrit <-exp_lrt_ucrit[, exp_lrt]\n"
   ]
  },
  {
   "cell_type": "code",
   "execution_count": 176,
   "id": "05c0c772",
   "metadata": {},
   "outputs": [
    {
     "data": {
      "text/html": [
       "<table>\n",
       "<thead><tr><th scope=col>Chromosome</th><th scope=col>Position</th><th scope=col>Major</th><th scope=col>Minor</th><th scope=col>Frequency</th><th scope=col>N</th><th scope=col>LRT</th><th scope=col>high_WT/HE/HO</th><th scope=col>LRTem</th><th scope=col>beta</th><th scope=col>SE</th><th scope=col>emIter</th><th scope=col>locus</th><th scope=col>pvalue</th><th scope=col>SNP</th><th scope=col>quantile</th><th scope=col>exp_lrt_ucrit</th></tr></thead>\n",
       "<tbody>\n",
       "\t<tr><td>13           </td><td> 1154707     </td><td>C            </td><td>A            </td><td>0.095582     </td><td>159          </td><td>13.45818     </td><td>69/10/0      </td><td>13.54872     </td><td> 3.192640    </td><td>1.335931     </td><td>10           </td><td>13:1154707   </td><td>0.00013001982</td><td>r71919       </td><td>0.9999624    </td><td>16.81349     </td></tr>\n",
       "\t<tr><td>14           </td><td>28287841     </td><td>A            </td><td>T            </td><td>0.152335     </td><td>159          </td><td>13.69013     </td><td>29/12/0      </td><td>93.17074     </td><td> 5.620407    </td><td>0.158527     </td><td>37           </td><td>14:28287841  </td><td>0.00011479753</td><td>r81927       </td><td>0.9999699    </td><td>17.73872     </td></tr>\n",
       "\t<tr><td> 6           </td><td>30026548     </td><td>A            </td><td>G            </td><td>0.182565     </td><td>159          </td><td>14.11957     </td><td>14/12/0      </td><td>15.34243     </td><td>-2.815905    </td><td>0.745015     </td><td>21           </td><td>6:30026548   </td><td>0.00009119550</td><td>r34584       </td><td>0.9999774    </td><td>19.00107     </td></tr>\n",
       "\t<tr><td>13           </td><td>34982957     </td><td>A            </td><td>T            </td><td>0.143409     </td><td>159          </td><td>14.54706     </td><td>30/10/0      </td><td>15.54311     </td><td>-3.400393    </td><td>1.096761     </td><td>28           </td><td>13:34982957  </td><td>0.00007255504</td><td>r75803       </td><td>0.9999849    </td><td>20.37319     </td></tr>\n",
       "\t<tr><td> 5           </td><td>37582791     </td><td>G            </td><td>T            </td><td>0.111491     </td><td>159          </td><td>15.36749     </td><td>55/11/0      </td><td>14.97047     </td><td>-2.777710    </td><td>0.987626     </td><td> 3           </td><td>5:37582791   </td><td>0.00004683829</td><td>r29166       </td><td>0.9999925    </td><td>20.73431     </td></tr>\n",
       "\t<tr><td>24           </td><td> 6021620     </td><td>T            </td><td>C            </td><td>0.139610     </td><td>159          </td><td>18.12104     </td><td>33/13/0      </td><td>19.33754     </td><td>-3.541276    </td><td>1.039912     </td><td>21           </td><td>24:6021620   </td><td>0.00001088639</td><td>r129188      </td><td>1.0000000    </td><td>21.69824     </td></tr>\n",
       "</tbody>\n",
       "</table>\n"
      ],
      "text/latex": [
       "\\begin{tabular}{r|lllllllllllllllll}\n",
       " Chromosome & Position & Major & Minor & Frequency & N & LRT & high\\_WT/HE/HO & LRTem & beta & SE & emIter & locus & pvalue & SNP & quantile & exp\\_lrt\\_ucrit\\\\\n",
       "\\hline\n",
       "\t 13            &  1154707      & C             & A             & 0.095582      & 159           & 13.45818      & 69/10/0       & 13.54872      &  3.192640     & 1.335931      & 10            & 13:1154707    & 0.00013001982 & r71919        & 0.9999624     & 16.81349     \\\\\n",
       "\t 14            & 28287841      & A             & T             & 0.152335      & 159           & 13.69013      & 29/12/0       & 93.17074      &  5.620407     & 0.158527      & 37            & 14:28287841   & 0.00011479753 & r81927        & 0.9999699     & 17.73872     \\\\\n",
       "\t  6            & 30026548      & A             & G             & 0.182565      & 159           & 14.11957      & 14/12/0       & 15.34243      & -2.815905     & 0.745015      & 21            & 6:30026548    & 0.00009119550 & r34584        & 0.9999774     & 19.00107     \\\\\n",
       "\t 13            & 34982957      & A             & T             & 0.143409      & 159           & 14.54706      & 30/10/0       & 15.54311      & -3.400393     & 1.096761      & 28            & 13:34982957   & 0.00007255504 & r75803        & 0.9999849     & 20.37319     \\\\\n",
       "\t  5            & 37582791      & G             & T             & 0.111491      & 159           & 15.36749      & 55/11/0       & 14.97047      & -2.777710     & 0.987626      &  3            & 5:37582791    & 0.00004683829 & r29166        & 0.9999925     & 20.73431     \\\\\n",
       "\t 24            &  6021620      & T             & C             & 0.139610      & 159           & 18.12104      & 33/13/0       & 19.33754      & -3.541276     & 1.039912      & 21            & 24:6021620    & 0.00001088639 & r129188       & 1.0000000     & 21.69824     \\\\\n",
       "\\end{tabular}\n"
      ],
      "text/markdown": [
       "\n",
       "| Chromosome | Position | Major | Minor | Frequency | N | LRT | high_WT/HE/HO | LRTem | beta | SE | emIter | locus | pvalue | SNP | quantile | exp_lrt_ucrit |\n",
       "|---|---|---|---|---|---|---|---|---|---|---|---|---|---|---|---|---|\n",
       "| 13            |  1154707      | C             | A             | 0.095582      | 159           | 13.45818      | 69/10/0       | 13.54872      |  3.192640     | 1.335931      | 10            | 13:1154707    | 0.00013001982 | r71919        | 0.9999624     | 16.81349      |\n",
       "| 14            | 28287841      | A             | T             | 0.152335      | 159           | 13.69013      | 29/12/0       | 93.17074      |  5.620407     | 0.158527      | 37            | 14:28287841   | 0.00011479753 | r81927        | 0.9999699     | 17.73872      |\n",
       "|  6            | 30026548      | A             | G             | 0.182565      | 159           | 14.11957      | 14/12/0       | 15.34243      | -2.815905     | 0.745015      | 21            | 6:30026548    | 0.00009119550 | r34584        | 0.9999774     | 19.00107      |\n",
       "| 13            | 34982957      | A             | T             | 0.143409      | 159           | 14.54706      | 30/10/0       | 15.54311      | -3.400393     | 1.096761      | 28            | 13:34982957   | 0.00007255504 | r75803        | 0.9999849     | 20.37319      |\n",
       "|  5            | 37582791      | G             | T             | 0.111491      | 159           | 15.36749      | 55/11/0       | 14.97047      | -2.777710     | 0.987626      |  3            | 5:37582791    | 0.00004683829 | r29166        | 0.9999925     | 20.73431      |\n",
       "| 24            |  6021620      | T             | C             | 0.139610      | 159           | 18.12104      | 33/13/0       | 19.33754      | -3.541276     | 1.039912      | 21            | 24:6021620    | 0.00001088639 | r129188       | 1.0000000     | 21.69824      |\n",
       "\n"
      ],
      "text/plain": [
       "  Chromosome Position Major Minor Frequency N   LRT      high_WT/HE/HO LRTem   \n",
       "1 13          1154707 C     A     0.095582  159 13.45818 69/10/0       13.54872\n",
       "2 14         28287841 A     T     0.152335  159 13.69013 29/12/0       93.17074\n",
       "3  6         30026548 A     G     0.182565  159 14.11957 14/12/0       15.34243\n",
       "4 13         34982957 A     T     0.143409  159 14.54706 30/10/0       15.54311\n",
       "5  5         37582791 G     T     0.111491  159 15.36749 55/11/0       14.97047\n",
       "6 24          6021620 T     C     0.139610  159 18.12104 33/13/0       19.33754\n",
       "  beta      SE       emIter locus       pvalue        SNP     quantile \n",
       "1  3.192640 1.335931 10     13:1154707  0.00013001982 r71919  0.9999624\n",
       "2  5.620407 0.158527 37     14:28287841 0.00011479753 r81927  0.9999699\n",
       "3 -2.815905 0.745015 21     6:30026548  0.00009119550 r34584  0.9999774\n",
       "4 -3.400393 1.096761 28     13:34982957 0.00007255504 r75803  0.9999849\n",
       "5 -2.777710 0.987626  3     5:37582791  0.00004683829 r29166  0.9999925\n",
       "6 -3.541276 1.039912 21     24:6021620  0.00001088639 r129188 1.0000000\n",
       "  exp_lrt_ucrit\n",
       "1 16.81349     \n",
       "2 17.73872     \n",
       "3 19.00107     \n",
       "4 20.37319     \n",
       "5 20.73431     \n",
       "6 21.69824     "
      ]
     },
     "metadata": {},
     "output_type": "display_data"
    }
   ],
   "source": [
    "tail(lrt_filt_ucrit)"
   ]
  },
  {
   "cell_type": "code",
   "execution_count": 4,
   "id": "41356bc1",
   "metadata": {},
   "outputs": [],
   "source": [
    "lrt_sl <- fread(\"/data/katrinac/APPC_sequencing/DNA/trimmed_reads/mapping/ensembl/genotypes/angsd/sl_assoc5_maf0.05_noMaxdepth_unlinkedPC1cov_minQ30_minCount16.lrt0.gz\")\n",
    "lrt_sl[, locus := paste(Chromosome, Position, sep=\":\")]\n",
    "#for hybrid assoc 5\n",
    "#setnames(lrt_sl, \"LRTscore\", \"LRT\")\n",
    "#filter out loci in hwe and NAN\n",
    "lrt_filt_sl <- lrt_sl[LRT>0]#[,Chromosome := paste0(\"chr\", Chromosome, sep=\"\")]#uncomment this for the top go analysis\n",
    "#lrt_filt <- lrt[LRT>0]\n",
    "#format for manhattan plot\n",
    "#get pvalues\n",
    "lrt_filt_sl$pvalue<-dchisq(lrt_filt_sl$LRT, df=1)\n",
    "lrt_filt_sl[, Chromosome := gsub(\".\",\"\", Chromosome, fixed = T)][, Chromosome := gsub(\"CM\",\"\", Chromosome, fixed = T)][, Chromosome := gsub(\"PYAM\",\"\", Chromosome, fixed = T)]\n",
    "lrt_filt_sl[, Chromosome := as.numeric(Chromosome)]\n",
    "lrt_filt_sl$SNP<-paste(\"r\",1:length(lrt_filt_sl$Chromosome), sep=\"\")\n",
    "\n",
    "\n",
    "lrt_filt_sl <- lrt_filt_sl[order(LRT)][,quantile:=1:nrow(lrt_filt_sl)/nrow(lrt_filt_sl)] #quantiles for observed lrt\n",
    "exp_lrt_sl <- data.table( exp_lrt = rchisq(nrow(lrt_filt_sl), 1))[order(exp_lrt)]\n",
    "lrt_filt_sl$exp_lrt_sl <-exp_lrt_sl[, exp_lrt]\n"
   ]
  },
  {
   "cell_type": "code",
   "execution_count": 146,
   "id": "b58f2ef4",
   "metadata": {
    "scrolled": false
   },
   "outputs": [
    {
     "data": {
      "text/html": [
       "<strong>png:</strong> 2"
      ],
      "text/latex": [
       "\\textbf{png:} 2"
      ],
      "text/markdown": [
       "**png:** 2"
      ],
      "text/plain": [
       "png \n",
       "  2 "
      ]
     },
     "metadata": {},
     "output_type": "display_data"
    },
    {
     "data": {
      "text/html": [
       "<strong>png:</strong> 2"
      ],
      "text/latex": [
       "\\textbf{png:} 2"
      ],
      "text/markdown": [
       "**png:** 2"
      ],
      "text/plain": [
       "png \n",
       "  2 "
      ]
     },
     "metadata": {},
     "output_type": "display_data"
    }
   ],
   "source": [
    "pdf(\"/data/katrinac/APPC_sequencing/DNA/trimmed_reads/mapping/ensembl/genotypes/angsd/results/pval_qq_ucrit.pdf\")\n",
    "qqman::qq(lrt_filt_ucrit$pvalue)\n",
    "dev.off()\n",
    "\n",
    "pdf(\"/data/katrinac/APPC_sequencing/DNA/trimmed_reads/mapping/ensembl/genotypes/angsd/results/pval_qq_sl.pdf\")\n",
    "qqman::qq(lrt_filt_sl$pvalue)\n",
    "dev.off()\n"
   ]
  },
  {
   "cell_type": "code",
   "execution_count": 202,
   "id": "efdecc00",
   "metadata": {},
   "outputs": [
    {
     "data": {
      "text/html": [
       "<strong>png:</strong> 2"
      ],
      "text/latex": [
       "\\textbf{png:} 2"
      ],
      "text/markdown": [
       "**png:** 2"
      ],
      "text/plain": [
       "png \n",
       "  2 "
      ]
     },
     "metadata": {},
     "output_type": "display_data"
    },
    {
     "data": {
      "text/html": [
       "<strong>png:</strong> 2"
      ],
      "text/latex": [
       "\\textbf{png:} 2"
      ],
      "text/markdown": [
       "**png:** 2"
      ],
      "text/plain": [
       "png \n",
       "  2 "
      ]
     },
     "metadata": {},
     "output_type": "display_data"
    }
   ],
   "source": [
    "png(\"/data/katrinac/APPC_sequencing/DNA/trimmed_reads/mapping/ensembl/genotypes/angsd/results/pval_qq_ucrit.png\")\n",
    "qqman::qq(lrt_filt_ucrit$pvalue)\n",
    "dev.off()\n",
    "\n",
    "png(\"/data/katrinac/APPC_sequencing/DNA/trimmed_reads/mapping/ensembl/genotypes/angsd/results/pval_qq_sl.png\")\n",
    "qqman::qq(lrt_filt_sl$pvalue)\n",
    "dev.off()\n"
   ]
  },
  {
   "cell_type": "code",
   "execution_count": 157,
   "id": "aecde043",
   "metadata": {
    "scrolled": false
   },
   "outputs": [
    {
     "data": {
      "text/html": [
       "<strong>png:</strong> 2"
      ],
      "text/latex": [
       "\\textbf{png:} 2"
      ],
      "text/markdown": [
       "**png:** 2"
      ],
      "text/plain": [
       "png \n",
       "  2 "
      ]
     },
     "metadata": {},
     "output_type": "display_data"
    },
    {
     "data": {
      "text/html": [
       "<strong>png:</strong> 2"
      ],
      "text/latex": [
       "\\textbf{png:} 2"
      ],
      "text/markdown": [
       "**png:** 2"
      ],
      "text/plain": [
       "png \n",
       "  2 "
      ]
     },
     "metadata": {},
     "output_type": "display_data"
    }
   ],
   "source": [
    "#compare plots and inflation \n",
    "pdf(\"/data/katrinac/APPC_sequencing/DNA/trimmed_reads/mapping/ensembl/genotypes/angsd/results/lrt_qq_ucrit.pdf\")\n",
    "qqplot(lrt_filt_ucrit$exp_lrt, lrt_filt_ucrit$LRT, xlab = \"Expected LRT\", ylab=\"Observed LRT\")\n",
    "abline(0, 1, col = \"red\")\n",
    "dev.off()\n",
    "#median(lrt_filt_ucrit$LRT) / median(lrt_filt_ucrit$exp_lrt) #GC lambda = ratio at medians\n",
    "#summary(lrt_filt_ucrit$LRT)\n",
    "\n",
    "pdf(\"/data/katrinac/APPC_sequencing/DNA/trimmed_reads/mapping/ensembl/genotypes/angsd/results/lrt_qq_sl.pdf\")\n",
    "qqplot(lrt_filt_sl$exp_lrt, lrt_filt_sl$LRT, xlab = \"Expected LRT\", ylab=\"Observed LRT\")\n",
    "abline(0, 1, col = \"red\")\n",
    "dev.off()\n",
    "#median(lrt_filt_sl$LRT) / median(lrt_filt_sl$exp_lrt) #GC lambda = ratio at medians\n",
    "#summary(lrt_filt_sl$LRT)\n"
   ]
  },
  {
   "cell_type": "code",
   "execution_count": 5,
   "id": "c0645825",
   "metadata": {
    "scrolled": false
   },
   "outputs": [],
   "source": [
    "#compare how each phenotype separates from null\n",
    "lrt_ucrit_null <- fread(\"/data/katrinac/APPC_sequencing/DNA/trimmed_reads/mapping/ensembl/genotypes/angsd/permute/assoc2/cat_permuted_assoc2_ucrit.lrt\")\n",
    "#lrt_ucrit[, locus := paste(Chromosome, Position, sep=\":\")]\n",
    "\n",
    "lrt_sl_null <- fread(\"/data/katrinac/APPC_sequencing/DNA/trimmed_reads/mapping/ensembl/genotypes/angsd/permute/assoc2/cat_permuted_assoc2_sl.lrt\")\n",
    "#lrt_sl[, locus := paste(Chromosome, Position, sep=\":\")]\n",
    "#filter out loci in hwe and NAN\n",
    "\n",
    "\n"
   ]
  },
  {
   "cell_type": "code",
   "execution_count": 372,
   "id": "4f78f0e9",
   "metadata": {},
   "outputs": [
    {
     "data": {
      "text/html": [
       "23.345768"
      ],
      "text/latex": [
       "23.345768"
      ],
      "text/markdown": [
       "23.345768"
      ],
      "text/plain": [
       "[1] 23.34577"
      ]
     },
     "metadata": {},
     "output_type": "display_data"
    },
    {
     "data": {
      "text/html": [
       "26.200201"
      ],
      "text/latex": [
       "26.200201"
      ],
      "text/markdown": [
       "26.200201"
      ],
      "text/plain": [
       "[1] 26.2002"
      ]
     },
     "metadata": {},
     "output_type": "display_data"
    }
   ],
   "source": [
    "max(lrt_ucrit_null$LRT)\n",
    "max(lrt_sl_null$LRT)"
   ]
  },
  {
   "cell_type": "code",
   "execution_count": 281,
   "id": "7bbf4e27",
   "metadata": {
    "scrolled": true
   },
   "outputs": [
    {
     "data": {
      "text/html": [
       "18.121044"
      ],
      "text/latex": [
       "18.121044"
      ],
      "text/markdown": [
       "18.121044"
      ],
      "text/plain": [
       "[1] 18.12104"
      ]
     },
     "metadata": {},
     "output_type": "display_data"
    },
    {
     "data": {
      "text/html": [
       "21.312784"
      ],
      "text/latex": [
       "21.312784"
      ],
      "text/markdown": [
       "21.312784"
      ],
      "text/plain": [
       "[1] 21.31278"
      ]
     },
     "metadata": {},
     "output_type": "display_data"
    }
   ],
   "source": [
    "max(lrt_filt_ucrit$LRT)\n",
    "max(lrt_filt_sl$LRT)"
   ]
  },
  {
   "cell_type": "markdown",
   "id": "909efb59",
   "metadata": {},
   "source": [
    "__try using the permutations as the expected for the qq plot__"
   ]
  },
  {
   "cell_type": "code",
   "execution_count": 159,
   "id": "a59fa859",
   "metadata": {},
   "outputs": [
    {
     "data": {
      "text/html": [
       "<strong>png:</strong> 2"
      ],
      "text/latex": [
       "\\textbf{png:} 2"
      ],
      "text/markdown": [
       "**png:** 2"
      ],
      "text/plain": [
       "png \n",
       "  2 "
      ]
     },
     "metadata": {},
     "output_type": "display_data"
    }
   ],
   "source": [
    "lrt_sl_null <- lrt_sl_null[LRT > 0][order(LRT)][,quantile:=1:nrow(lrt_sl_null[LRT > 0])/nrow(lrt_sl_null[LRT > 0])] #quantiles for observed lrt\n",
    "#pdf(\"/data/katrinac/APPC_sequencing/DNA/trimmed_reads/mapping/ensembl/genotypes/angsd/results/lrt_null_qq_sl.pdf\")\n",
    "qqplot(lrt_sl_null$LRT, lrt_filt_sl$LRT, xlab = \"Expected LRT\", ylab=\"Observed LRT\")\n",
    "abline(0, 1, col = \"red\")\n",
    "#dev.off()"
   ]
  },
  {
   "cell_type": "code",
   "execution_count": 158,
   "id": "88c63f01",
   "metadata": {},
   "outputs": [
    {
     "data": {
      "text/html": [
       "<strong>png:</strong> 2"
      ],
      "text/latex": [
       "\\textbf{png:} 2"
      ],
      "text/markdown": [
       "**png:** 2"
      ],
      "text/plain": [
       "png \n",
       "  2 "
      ]
     },
     "metadata": {},
     "output_type": "display_data"
    }
   ],
   "source": [
    "lrt_ucrit_null <- lrt_ucrit_null[LRT > 0][order(LRT)][,quantile:=1:nrow(lrt_ucrit_null[LRT > 0])/nrow(lrt_ucrit_null[LRT > 0])] #quantiles for observed lrt\n",
    "pdf(\"/data/katrinac/APPC_sequencing/DNA/trimmed_reads/mapping/ensembl/genotypes/angsd/results/lrt_null_qq_ucrit.pdf\")\n",
    "qqplot(lrt_ucrit_null$LRT, lrt_filt_ucrit$LRT, xlab = \"Expected LRT\", ylab=\"Observed LRT\")\n",
    "abline(0, 1, col = \"red\")\n",
    "dev.off()"
   ]
  },
  {
   "cell_type": "markdown",
   "id": "9044f9a9",
   "metadata": {},
   "source": [
    "__Get the top 5% of LRT from the null permutations, find snps above that threshold in true association__"
   ]
  },
  {
   "cell_type": "code",
   "execution_count": 6,
   "id": "9edd490b",
   "metadata": {},
   "outputs": [
    {
     "data": {
      "text/plain": [
       "   Min. 1st Qu.  Median    Mean 3rd Qu.    Max. \n",
       "  6.305   6.782   7.455   7.970   8.612  24.906 "
      ]
     },
     "metadata": {},
     "output_type": "display_data"
    },
    {
     "data": {
      "text/html": [
       "503"
      ],
      "text/latex": [
       "503"
      ],
      "text/markdown": [
       "503"
      ],
      "text/plain": [
       "[1] 503"
      ]
     },
     "metadata": {},
     "output_type": "display_data"
    }
   ],
   "source": [
    "cutoff <- round(0.01 *nrow(lrt_ucrit_null[LRT >0]),0)\n",
    "ucrit_null_top <- lrt_ucrit_null[LRT >0][order(-LRT)][1:cutoff,]\n",
    "summary(ucrit_null_top$LRT)\n",
    "candidates_ucrit <- lrt_filt_ucrit[LRT > min(ucrit_null_top$LRT)]\n",
    "nrow(candidates_ucrit)"
   ]
  },
  {
   "cell_type": "markdown",
   "id": "14259dca",
   "metadata": {},
   "source": [
    "__Also for SL phenotype__"
   ]
  },
  {
   "cell_type": "code",
   "execution_count": 7,
   "id": "bb4c4856",
   "metadata": {},
   "outputs": [
    {
     "data": {
      "text/plain": [
       "   Min. 1st Qu.  Median    Mean 3rd Qu.    Max. \n",
       "  6.445   6.928   7.614   8.139   8.785  26.200 "
      ]
     },
     "metadata": {},
     "output_type": "display_data"
    },
    {
     "data": {
      "text/html": [
       "2676"
      ],
      "text/latex": [
       "2676"
      ],
      "text/markdown": [
       "2676"
      ],
      "text/plain": [
       "[1] 2676"
      ]
     },
     "metadata": {},
     "output_type": "display_data"
    }
   ],
   "source": [
    "cutoff <- round(0.01 *nrow(lrt_sl_null[LRT >0]),0)\n",
    "sl_null_top <- lrt_sl_null[LRT >0][order(-LRT)][1:cutoff,]\n",
    "summary(sl_null_top$LRT)\n",
    "candidates_sl <- lrt_filt_sl[LRT > min(sl_null_top$LRT)]\n",
    "nrow(candidates_sl)"
   ]
  },
  {
   "cell_type": "markdown",
   "id": "155ba1dc",
   "metadata": {},
   "source": [
    "__Calculate the BH critical threshold__"
   ]
  },
  {
   "cell_type": "code",
   "execution_count": 21,
   "id": "5a2778b9",
   "metadata": {},
   "outputs": [
    {
     "name": "stderr",
     "output_type": "stream",
     "text": [
      "Joining, by = \"Chromosome\"Warning message in `[.data.table`(ucrit_threshold, pvalue < bh_critical, by = \"Chromosome\"):\n",
      "“Ignoring by= because j= is not supplied”"
     ]
    },
    {
     "data": {
      "text/html": [
       "1"
      ],
      "text/latex": [
       "1"
      ],
      "text/markdown": [
       "1"
      ],
      "text/plain": [
       "[1] 1"
      ]
     },
     "metadata": {},
     "output_type": "display_data"
    }
   ],
   "source": [
    "#what about a chromosomal level cutoff\n",
    "lrt_filt_ucrit_chrom <- lrt_filt_ucrit[order(pvalue), rank_chrom :=  seq_len(.N), \"Chromosome\"][\n",
    "    , padjbh_chrom := lapply(.SD, function(x){(rank_chrom/.N)*0.05}), by = \"Chromosome\"]\n",
    "lrt_filt_ucrit_chrom_sig=lrt_filt_ucrit_chrom[pvalue<padjbh_chrom][, bh_critical := padjbh_chrom]\n",
    "ucrit_threshold <- left_join(lrt_filt_ucrit_chrom, lrt_filt_ucrit_chrom_sig[, .(Chromosome, bh_critical)])\n",
    "candidate_ucrit_chrom_bh <- ucrit_threshold[pvalue < bh_critical, by=\"Chromosome\"][Chromosome <= 24]\n",
    "nrow(candidate_ucrit_chrom_bh)"
   ]
  },
  {
   "cell_type": "code",
   "execution_count": 256,
   "id": "7ff4f106",
   "metadata": {},
   "outputs": [
    {
     "data": {
      "text/html": [
       "<table>\n",
       "<thead><tr><th scope=col>Chromosome</th><th scope=col>Position</th><th scope=col>Major</th><th scope=col>Minor</th><th scope=col>Frequency</th><th scope=col>N</th><th scope=col>LRT</th><th scope=col>high_WT/HE/HO</th><th scope=col>LRTem</th><th scope=col>beta</th><th scope=col>SE</th><th scope=col>emIter</th><th scope=col>locus</th><th scope=col>pvalue</th><th scope=col>SNP</th><th scope=col>quantile</th><th scope=col>exp_lrt_ucrit</th><th scope=col>rank_chrom</th><th scope=col>padjbh_chrom</th><th scope=col>bh_critical</th></tr></thead>\n",
       "<tbody>\n",
       "\t<tr><td>10001561            </td><td>  22285             </td><td>A                   </td><td>C                   </td><td>0.063897            </td><td>159                 </td><td>10.89105            </td><td>131/15/0            </td><td>10.99775            </td><td> 2.467553           </td><td>0.820137            </td><td> 3                  </td><td>PYAM01000156.1:22285</td><td>0.00052169175       </td><td>r132794             </td><td>0.9998193           </td><td>14.15032            </td><td>1                   </td><td>0.00454545455       </td><td>0.00454545455       </td></tr>\n",
       "\t<tr><td>      24            </td><td>6021620             </td><td>T                   </td><td>C                   </td><td>0.139610            </td><td>159                 </td><td>18.12104            </td><td>33/13/0             </td><td>19.33754            </td><td>-3.541276           </td><td>1.039912            </td><td>21                  </td><td>24:6021620          </td><td>0.00001088639       </td><td>r129188             </td><td>1.0000000           </td><td>20.77526            </td><td>1                   </td><td>0.00001159286       </td><td>0.00001159286       </td></tr>\n",
       "</tbody>\n",
       "</table>\n"
      ],
      "text/latex": [
       "\\begin{tabular}{r|llllllllllllllllllll}\n",
       " Chromosome & Position & Major & Minor & Frequency & N & LRT & high\\_WT/HE/HO & LRTem & beta & SE & emIter & locus & pvalue & SNP & quantile & exp\\_lrt\\_ucrit & rank\\_chrom & padjbh\\_chrom & bh\\_critical\\\\\n",
       "\\hline\n",
       "\t 10001561             &   22285              & A                    & C                    & 0.063897             & 159                  & 10.89105             & 131/15/0             & 10.99775             &  2.467553            & 0.820137             &  3                   & PYAM01000156.1:22285 & 0.00052169175        & r132794              & 0.9998193            & 14.15032             & 1                    & 0.00454545455        & 0.00454545455       \\\\\n",
       "\t       24             & 6021620              & T                    & C                    & 0.139610             & 159                  & 18.12104             & 33/13/0              & 19.33754             & -3.541276            & 1.039912             & 21                   & 24:6021620           & 0.00001088639        & r129188              & 1.0000000            & 20.77526             & 1                    & 0.00001159286        & 0.00001159286       \\\\\n",
       "\\end{tabular}\n"
      ],
      "text/markdown": [
       "\n",
       "| Chromosome | Position | Major | Minor | Frequency | N | LRT | high_WT/HE/HO | LRTem | beta | SE | emIter | locus | pvalue | SNP | quantile | exp_lrt_ucrit | rank_chrom | padjbh_chrom | bh_critical |\n",
       "|---|---|---|---|---|---|---|---|---|---|---|---|---|---|---|---|---|---|---|---|\n",
       "| 10001561             |   22285              | A                    | C                    | 0.063897             | 159                  | 10.89105             | 131/15/0             | 10.99775             |  2.467553            | 0.820137             |  3                   | PYAM01000156.1:22285 | 0.00052169175        | r132794              | 0.9998193            | 14.15032             | 1                    | 0.00454545455        | 0.00454545455        |\n",
       "|       24             | 6021620              | T                    | C                    | 0.139610             | 159                  | 18.12104             | 33/13/0              | 19.33754             | -3.541276            | 1.039912             | 21                   | 24:6021620           | 0.00001088639        | r129188              | 1.0000000            | 20.77526             | 1                    | 0.00001159286        | 0.00001159286        |\n",
       "\n"
      ],
      "text/plain": [
       "  Chromosome Position Major Minor Frequency N   LRT      high_WT/HE/HO LRTem   \n",
       "1 10001561     22285  A     C     0.063897  159 10.89105 131/15/0      10.99775\n",
       "2       24   6021620  T     C     0.139610  159 18.12104 33/13/0       19.33754\n",
       "  beta      SE       emIter locus                pvalue        SNP    \n",
       "1  2.467553 0.820137  3     PYAM01000156.1:22285 0.00052169175 r132794\n",
       "2 -3.541276 1.039912 21     24:6021620           0.00001088639 r129188\n",
       "  quantile  exp_lrt_ucrit rank_chrom padjbh_chrom  bh_critical  \n",
       "1 0.9998193 14.15032      1          0.00454545455 0.00454545455\n",
       "2 1.0000000 20.77526      1          0.00001159286 0.00001159286"
      ]
     },
     "metadata": {},
     "output_type": "display_data"
    }
   ],
   "source": [
    "candidate_ucrit_chrom_bh"
   ]
  },
  {
   "cell_type": "code",
   "execution_count": 9,
   "id": "40dd1d46",
   "metadata": {
    "scrolled": false
   },
   "outputs": [
    {
     "name": "stderr",
     "output_type": "stream",
     "text": [
      "Warning message in cbind(parts$left, ellip_h, parts$right, deparse.level = 0L):\n",
      "“number of rows of result is not a multiple of vector length (arg 2)”Warning message in cbind(parts$left, ellip_h, parts$right, deparse.level = 0L):\n",
      "“number of rows of result is not a multiple of vector length (arg 2)”Warning message in cbind(parts$left, ellip_h, parts$right, deparse.level = 0L):\n",
      "“number of rows of result is not a multiple of vector length (arg 2)”Warning message in cbind(parts$left, ellip_h, parts$right, deparse.level = 0L):\n",
      "“number of rows of result is not a multiple of vector length (arg 2)”"
     ]
    },
    {
     "data": {
      "text/html": [
       "<table>\n",
       "<thead><tr><th scope=col>Chromosome</th><th scope=col>Position</th><th scope=col>Major</th><th scope=col>Minor</th><th scope=col>Frequency</th><th scope=col>N</th><th scope=col>LRT</th><th scope=col>high_WT/HE/HO</th><th scope=col>LRTem</th><th scope=col>beta</th><th scope=col>...</th><th scope=col>emIter</th><th scope=col>locus</th><th scope=col>pvalue</th><th scope=col>SNP</th><th scope=col>quantile</th><th scope=col>exp_lrt_ucrit</th><th scope=col>rank_chrom</th><th scope=col>padjbh_chrom</th><th scope=col>rank</th><th scope=col>padjBH</th></tr></thead>\n",
       "<tbody>\n",
       "</tbody>\n",
       "</table>\n"
      ],
      "text/latex": [
       "\\begin{tabular}{r|lllllllllllllllllllll}\n",
       " Chromosome & Position & Major & Minor & Frequency & N & LRT & high\\_WT/HE/HO & LRTem & beta & ... & emIter & locus & pvalue & SNP & quantile & exp\\_lrt\\_ucrit & rank\\_chrom & padjbh\\_chrom & rank & padjBH\\\\\n",
       "\\hline\n",
       "\\end{tabular}\n"
      ],
      "text/markdown": [
       "\n",
       "| Chromosome | Position | Major | Minor | Frequency | N | LRT | high_WT/HE/HO | LRTem | beta | ... | emIter | locus | pvalue | SNP | quantile | exp_lrt_ucrit | rank_chrom | padjbh_chrom | rank | padjBH |\n",
       "|---|---|---|---|---|---|---|---|---|---|---|---|---|---|---|---|---|---|---|---|---|\n",
       "\n"
      ],
      "text/plain": [
       "     Chromosome Position Major Minor Frequency N LRT high_WT/HE/HO LRTem beta\n",
       "     ... emIter locus pvalue SNP quantile exp_lrt_ucrit rank_chrom padjbh_chrom\n",
       "     rank padjBH"
      ]
     },
     "metadata": {},
     "output_type": "display_data"
    }
   ],
   "source": [
    "lrt_filt_ucrit <- lrt_filt_ucrit[order(pvalue)]\n",
    "lrt_filt_ucrit$rank=1:NROW(lrt_filt_ucrit) #rank snp by order\n",
    "lrt_filt_ucrit$padjBH=(lrt_filt_ucrit$rank/nrow(lrt_filt_ucrit))*.1#then calculate the critical by dividing each rank by the total number of snps, and then multiply by fdr\n",
    "lrt_filt_ucrit_sig=lrt_filt_ucrit[lrt_filt_ucrit$pvalue<lrt_filt_ucrit$padjBH,]\n",
    "lrt_filt_ucrit_sig"
   ]
  },
  {
   "cell_type": "code",
   "execution_count": 260,
   "id": "2b2f4408",
   "metadata": {},
   "outputs": [
    {
     "data": {
      "text/html": [
       "<table>\n",
       "<thead><tr><th scope=col>Chromosome</th><th scope=col>Position</th><th scope=col>Major</th><th scope=col>Minor</th><th scope=col>Frequency</th><th scope=col>N</th><th scope=col>LRT</th><th scope=col>high_WT/HE/HO</th><th scope=col>locus</th><th scope=col>pvalue</th><th scope=col>SNP</th><th scope=col>quantile</th><th scope=col>exp_lrt_sl</th><th scope=col>rank_chrom</th><th scope=col>padjbh_chrom</th><th scope=col>bh_critical</th></tr></thead>\n",
       "<tbody>\n",
       "\t<tr><td>10000591            </td><td>   17920            </td><td>A                   </td><td>G                   </td><td>0.175867            </td><td>147                 </td><td> 3.132857           </td><td>27/10/0             </td><td>PYAM01000059.1:17920</td><td>0.047059631926      </td><td>r105787             </td><td>0.8677748           </td><td> 2.275955           </td><td>1                   </td><td>0.050000000000      </td><td>0.050000000000      </td></tr>\n",
       "\t<tr><td>10000441            </td><td>   35350            </td><td>A                   </td><td>G                   </td><td>0.302674            </td><td>147                 </td><td> 6.180107           </td><td>11/11/2             </td><td>PYAM01000044.1:35350</td><td>0.007301614245      </td><td>r105786             </td><td>0.9713727           </td><td> 4.814287           </td><td>1                   </td><td>0.050000000000      </td><td>0.050000000000      </td></tr>\n",
       "\t<tr><td>10000401            </td><td>   51479            </td><td>T                   </td><td>A                   </td><td>0.083430            </td><td>147                 </td><td> 8.711015           </td><td>96/15/0             </td><td>PYAM01000040.1:51479</td><td>0.001735013314      </td><td>r105777             </td><td>0.9922037           </td><td> 7.067781           </td><td>1                   </td><td>0.002631578947      </td><td>0.002631578947      </td></tr>\n",
       "\t<tr><td>10002151            </td><td>   33965            </td><td>G                   </td><td>C                   </td><td>0.054872            </td><td>147                 </td><td>10.227428           </td><td>111/10/0            </td><td>PYAM01000215.1:33965</td><td>0.000750186213      </td><td>r105932             </td><td>0.9965832           </td><td> 8.454853           </td><td>1                   </td><td>0.025000000000      </td><td>0.025000000000      </td></tr>\n",
       "\t<tr><td>10001001            </td><td>   35657            </td><td>A                   </td><td>G                   </td><td>0.323038            </td><td>147                 </td><td>11.026242           </td><td>12/24/2             </td><td>PYAM01000100.1:35657</td><td>0.000484594273      </td><td>r105886             </td><td>0.9978291           </td><td> 9.195394           </td><td>1                   </td><td>0.000595238095      </td><td>0.000595238095      </td></tr>\n",
       "\t<tr><td>       4            </td><td> 7504287            </td><td>A                   </td><td>G                   </td><td>0.190875            </td><td>147                 </td><td>17.032842           </td><td>33/23/0             </td><td>4:7504287           </td><td>0.000019347812      </td><td>r15367              </td><td>0.9999434           </td><td>18.267630           </td><td>2                   </td><td>0.000019956097      </td><td>0.000019956097      </td></tr>\n",
       "\t<tr><td>      15            </td><td> 4387764            </td><td>C                   </td><td>T                   </td><td>0.264829            </td><td>147                 </td><td>18.680059           </td><td>25/26/1             </td><td>15:4387764          </td><td>0.000008107700      </td><td>r68417              </td><td>0.9999717           </td><td>20.011605           </td><td>1                   </td><td>0.000010076582      </td><td>0.000010076582      </td></tr>\n",
       "\t<tr><td>       4            </td><td> 3491306            </td><td>A                   </td><td>G                   </td><td>0.234541            </td><td>147                 </td><td>19.323208           </td><td>34/23/0             </td><td>4:3491306           </td><td>0.000005779485      </td><td>r14897              </td><td>0.9999811           </td><td>23.281999           </td><td>1                   </td><td>0.000009978048      </td><td>0.000019956097      </td></tr>\n",
       "\t<tr><td>       4            </td><td> 3491306            </td><td>A                   </td><td>G                   </td><td>0.234541            </td><td>147                 </td><td>19.323208           </td><td>34/23/0             </td><td>4:3491306           </td><td>0.000005779485      </td><td>r14897              </td><td>0.9999811           </td><td>23.281999           </td><td>1                   </td><td>0.000009978048      </td><td>0.000009978048      </td></tr>\n",
       "\t<tr><td>      24            </td><td>16962690            </td><td>T                   </td><td>G                   </td><td>0.258409            </td><td>147                 </td><td>20.290888           </td><td>10/13/0             </td><td>24:16962690         </td><td>0.000003476556      </td><td>r104351             </td><td>0.9999906           </td><td>23.282751           </td><td>1                   </td><td>0.000014577259      </td><td>0.000014577259      </td></tr>\n",
       "\t<tr><td>      11            </td><td> 7825612            </td><td>T                   </td><td>G                   </td><td>0.206307            </td><td>147                 </td><td>21.312784           </td><td>24/11/0             </td><td>11:7825612          </td><td>0.000002035062      </td><td>r50869              </td><td>1.0000000           </td><td>27.444645           </td><td>1                   </td><td>0.000010773540      </td><td>0.000010773540      </td></tr>\n",
       "</tbody>\n",
       "</table>\n"
      ],
      "text/latex": [
       "\\begin{tabular}{r|llllllllllllllll}\n",
       " Chromosome & Position & Major & Minor & Frequency & N & LRT & high\\_WT/HE/HO & locus & pvalue & SNP & quantile & exp\\_lrt\\_sl & rank\\_chrom & padjbh\\_chrom & bh\\_critical\\\\\n",
       "\\hline\n",
       "\t 10000591             &    17920             & A                    & G                    & 0.175867             & 147                  &  3.132857            & 27/10/0              & PYAM01000059.1:17920 & 0.047059631926       & r105787              & 0.8677748            &  2.275955            & 1                    & 0.050000000000       & 0.050000000000      \\\\\n",
       "\t 10000441             &    35350             & A                    & G                    & 0.302674             & 147                  &  6.180107            & 11/11/2              & PYAM01000044.1:35350 & 0.007301614245       & r105786              & 0.9713727            &  4.814287            & 1                    & 0.050000000000       & 0.050000000000      \\\\\n",
       "\t 10000401             &    51479             & T                    & A                    & 0.083430             & 147                  &  8.711015            & 96/15/0              & PYAM01000040.1:51479 & 0.001735013314       & r105777              & 0.9922037            &  7.067781            & 1                    & 0.002631578947       & 0.002631578947      \\\\\n",
       "\t 10002151             &    33965             & G                    & C                    & 0.054872             & 147                  & 10.227428            & 111/10/0             & PYAM01000215.1:33965 & 0.000750186213       & r105932              & 0.9965832            &  8.454853            & 1                    & 0.025000000000       & 0.025000000000      \\\\\n",
       "\t 10001001             &    35657             & A                    & G                    & 0.323038             & 147                  & 11.026242            & 12/24/2              & PYAM01000100.1:35657 & 0.000484594273       & r105886              & 0.9978291            &  9.195394            & 1                    & 0.000595238095       & 0.000595238095      \\\\\n",
       "\t        4             &  7504287             & A                    & G                    & 0.190875             & 147                  & 17.032842            & 33/23/0              & 4:7504287            & 0.000019347812       & r15367               & 0.9999434            & 18.267630            & 2                    & 0.000019956097       & 0.000019956097      \\\\\n",
       "\t       15             &  4387764             & C                    & T                    & 0.264829             & 147                  & 18.680059            & 25/26/1              & 15:4387764           & 0.000008107700       & r68417               & 0.9999717            & 20.011605            & 1                    & 0.000010076582       & 0.000010076582      \\\\\n",
       "\t        4             &  3491306             & A                    & G                    & 0.234541             & 147                  & 19.323208            & 34/23/0              & 4:3491306            & 0.000005779485       & r14897               & 0.9999811            & 23.281999            & 1                    & 0.000009978048       & 0.000019956097      \\\\\n",
       "\t        4             &  3491306             & A                    & G                    & 0.234541             & 147                  & 19.323208            & 34/23/0              & 4:3491306            & 0.000005779485       & r14897               & 0.9999811            & 23.281999            & 1                    & 0.000009978048       & 0.000009978048      \\\\\n",
       "\t       24             & 16962690             & T                    & G                    & 0.258409             & 147                  & 20.290888            & 10/13/0              & 24:16962690          & 0.000003476556       & r104351              & 0.9999906            & 23.282751            & 1                    & 0.000014577259       & 0.000014577259      \\\\\n",
       "\t       11             &  7825612             & T                    & G                    & 0.206307             & 147                  & 21.312784            & 24/11/0              & 11:7825612           & 0.000002035062       & r50869               & 1.0000000            & 27.444645            & 1                    & 0.000010773540       & 0.000010773540      \\\\\n",
       "\\end{tabular}\n"
      ],
      "text/markdown": [
       "\n",
       "| Chromosome | Position | Major | Minor | Frequency | N | LRT | high_WT/HE/HO | locus | pvalue | SNP | quantile | exp_lrt_sl | rank_chrom | padjbh_chrom | bh_critical |\n",
       "|---|---|---|---|---|---|---|---|---|---|---|---|---|---|---|---|\n",
       "| 10000591             |    17920             | A                    | G                    | 0.175867             | 147                  |  3.132857            | 27/10/0              | PYAM01000059.1:17920 | 0.047059631926       | r105787              | 0.8677748            |  2.275955            | 1                    | 0.050000000000       | 0.050000000000       |\n",
       "| 10000441             |    35350             | A                    | G                    | 0.302674             | 147                  |  6.180107            | 11/11/2              | PYAM01000044.1:35350 | 0.007301614245       | r105786              | 0.9713727            |  4.814287            | 1                    | 0.050000000000       | 0.050000000000       |\n",
       "| 10000401             |    51479             | T                    | A                    | 0.083430             | 147                  |  8.711015            | 96/15/0              | PYAM01000040.1:51479 | 0.001735013314       | r105777              | 0.9922037            |  7.067781            | 1                    | 0.002631578947       | 0.002631578947       |\n",
       "| 10002151             |    33965             | G                    | C                    | 0.054872             | 147                  | 10.227428            | 111/10/0             | PYAM01000215.1:33965 | 0.000750186213       | r105932              | 0.9965832            |  8.454853            | 1                    | 0.025000000000       | 0.025000000000       |\n",
       "| 10001001             |    35657             | A                    | G                    | 0.323038             | 147                  | 11.026242            | 12/24/2              | PYAM01000100.1:35657 | 0.000484594273       | r105886              | 0.9978291            |  9.195394            | 1                    | 0.000595238095       | 0.000595238095       |\n",
       "|        4             |  7504287             | A                    | G                    | 0.190875             | 147                  | 17.032842            | 33/23/0              | 4:7504287            | 0.000019347812       | r15367               | 0.9999434            | 18.267630            | 2                    | 0.000019956097       | 0.000019956097       |\n",
       "|       15             |  4387764             | C                    | T                    | 0.264829             | 147                  | 18.680059            | 25/26/1              | 15:4387764           | 0.000008107700       | r68417               | 0.9999717            | 20.011605            | 1                    | 0.000010076582       | 0.000010076582       |\n",
       "|        4             |  3491306             | A                    | G                    | 0.234541             | 147                  | 19.323208            | 34/23/0              | 4:3491306            | 0.000005779485       | r14897               | 0.9999811            | 23.281999            | 1                    | 0.000009978048       | 0.000019956097       |\n",
       "|        4             |  3491306             | A                    | G                    | 0.234541             | 147                  | 19.323208            | 34/23/0              | 4:3491306            | 0.000005779485       | r14897               | 0.9999811            | 23.281999            | 1                    | 0.000009978048       | 0.000009978048       |\n",
       "|       24             | 16962690             | T                    | G                    | 0.258409             | 147                  | 20.290888            | 10/13/0              | 24:16962690          | 0.000003476556       | r104351              | 0.9999906            | 23.282751            | 1                    | 0.000014577259       | 0.000014577259       |\n",
       "|       11             |  7825612             | T                    | G                    | 0.206307             | 147                  | 21.312784            | 24/11/0              | 11:7825612           | 0.000002035062       | r50869               | 1.0000000            | 27.444645            | 1                    | 0.000010773540       | 0.000010773540       |\n",
       "\n"
      ],
      "text/plain": [
       "   Chromosome Position Major Minor Frequency N   LRT       high_WT/HE/HO\n",
       "1  10000591      17920 A     G     0.175867  147  3.132857 27/10/0      \n",
       "2  10000441      35350 A     G     0.302674  147  6.180107 11/11/2      \n",
       "3  10000401      51479 T     A     0.083430  147  8.711015 96/15/0      \n",
       "4  10002151      33965 G     C     0.054872  147 10.227428 111/10/0     \n",
       "5  10001001      35657 A     G     0.323038  147 11.026242 12/24/2      \n",
       "6         4    7504287 A     G     0.190875  147 17.032842 33/23/0      \n",
       "7        15    4387764 C     T     0.264829  147 18.680059 25/26/1      \n",
       "8         4    3491306 A     G     0.234541  147 19.323208 34/23/0      \n",
       "9         4    3491306 A     G     0.234541  147 19.323208 34/23/0      \n",
       "10       24   16962690 T     G     0.258409  147 20.290888 10/13/0      \n",
       "11       11    7825612 T     G     0.206307  147 21.312784 24/11/0      \n",
       "   locus                pvalue         SNP     quantile  exp_lrt_sl rank_chrom\n",
       "1  PYAM01000059.1:17920 0.047059631926 r105787 0.8677748  2.275955  1         \n",
       "2  PYAM01000044.1:35350 0.007301614245 r105786 0.9713727  4.814287  1         \n",
       "3  PYAM01000040.1:51479 0.001735013314 r105777 0.9922037  7.067781  1         \n",
       "4  PYAM01000215.1:33965 0.000750186213 r105932 0.9965832  8.454853  1         \n",
       "5  PYAM01000100.1:35657 0.000484594273 r105886 0.9978291  9.195394  1         \n",
       "6  4:7504287            0.000019347812 r15367  0.9999434 18.267630  2         \n",
       "7  15:4387764           0.000008107700 r68417  0.9999717 20.011605  1         \n",
       "8  4:3491306            0.000005779485 r14897  0.9999811 23.281999  1         \n",
       "9  4:3491306            0.000005779485 r14897  0.9999811 23.281999  1         \n",
       "10 24:16962690          0.000003476556 r104351 0.9999906 23.282751  1         \n",
       "11 11:7825612           0.000002035062 r50869  1.0000000 27.444645  1         \n",
       "   padjbh_chrom   bh_critical   \n",
       "1  0.050000000000 0.050000000000\n",
       "2  0.050000000000 0.050000000000\n",
       "3  0.002631578947 0.002631578947\n",
       "4  0.025000000000 0.025000000000\n",
       "5  0.000595238095 0.000595238095\n",
       "6  0.000019956097 0.000019956097\n",
       "7  0.000010076582 0.000010076582\n",
       "8  0.000009978048 0.000019956097\n",
       "9  0.000009978048 0.000009978048\n",
       "10 0.000014577259 0.000014577259\n",
       "11 0.000010773540 0.000010773540"
      ]
     },
     "metadata": {},
     "output_type": "display_data"
    }
   ],
   "source": [
    "candidate_sl_chrom_bh"
   ]
  },
  {
   "cell_type": "code",
   "execution_count": 39,
   "id": "d1b9b716",
   "metadata": {},
   "outputs": [
    {
     "data": {
      "text/html": [
       "<table>\n",
       "<thead><tr><th scope=col>Chromosome</th><th scope=col>Position</th><th scope=col>Major</th><th scope=col>Minor</th><th scope=col>Frequency</th><th scope=col>N</th><th scope=col>LRT</th><th scope=col>high_WT/HE/HO</th><th scope=col>locus</th><th scope=col>pvalue</th><th scope=col>SNP</th><th scope=col>quantile</th><th scope=col>exp_lrt_sl</th><th scope=col>rank</th><th scope=col>padjBH</th><th scope=col>rank_chrom</th><th scope=col>padjbh_chrom</th></tr></thead>\n",
       "<tbody>\n",
       "\t<tr><td>24          </td><td>16962690    </td><td>T           </td><td>G           </td><td>0.258409    </td><td>147         </td><td>20.29089    </td><td>10/13/0     </td><td>24:16962690 </td><td>3.476556e-06</td><td>r104351     </td><td>0.9999906   </td><td>18.59694    </td><td> 2          </td><td>3.775437e-06</td><td>1           </td><td>1.457726e-05</td></tr>\n",
       "\t<tr><td>10          </td><td>  406013    </td><td>C           </td><td>T           </td><td>0.253512    </td><td>147         </td><td>14.06247    </td><td>11/13/0     </td><td>10:406013   </td><td>9.402687e-05</td><td>r42819      </td><td>0.9995375   </td><td>12.53809    </td><td>50          </td><td>9.438593e-05</td><td>5           </td><td>3.713607e-05</td></tr>\n",
       "</tbody>\n",
       "</table>\n"
      ],
      "text/latex": [
       "\\begin{tabular}{r|lllllllllllllllll}\n",
       " Chromosome & Position & Major & Minor & Frequency & N & LRT & high\\_WT/HE/HO & locus & pvalue & SNP & quantile & exp\\_lrt\\_sl & rank & padjBH & rank\\_chrom & padjbh\\_chrom\\\\\n",
       "\\hline\n",
       "\t 24           & 16962690     & T            & G            & 0.258409     & 147          & 20.29089     & 10/13/0      & 24:16962690  & 3.476556e-06 & r104351      & 0.9999906    & 18.59694     &  2           & 3.775437e-06 & 1            & 1.457726e-05\\\\\n",
       "\t 10           &   406013     & C            & T            & 0.253512     & 147          & 14.06247     & 11/13/0      & 10:406013    & 9.402687e-05 & r42819       & 0.9995375    & 12.53809     & 50           & 9.438593e-05 & 5            & 3.713607e-05\\\\\n",
       "\\end{tabular}\n"
      ],
      "text/markdown": [
       "\n",
       "| Chromosome | Position | Major | Minor | Frequency | N | LRT | high_WT/HE/HO | locus | pvalue | SNP | quantile | exp_lrt_sl | rank | padjBH | rank_chrom | padjbh_chrom |\n",
       "|---|---|---|---|---|---|---|---|---|---|---|---|---|---|---|---|---|\n",
       "| 24           | 16962690     | T            | G            | 0.258409     | 147          | 20.29089     | 10/13/0      | 24:16962690  | 3.476556e-06 | r104351      | 0.9999906    | 18.59694     |  2           | 3.775437e-06 | 1            | 1.457726e-05 |\n",
       "| 10           |   406013     | C            | T            | 0.253512     | 147          | 14.06247     | 11/13/0      | 10:406013    | 9.402687e-05 | r42819       | 0.9995375    | 12.53809     | 50           | 9.438593e-05 | 5            | 3.713607e-05 |\n",
       "\n"
      ],
      "text/plain": [
       "  Chromosome Position Major Minor Frequency N   LRT      high_WT/HE/HO\n",
       "1 24         16962690 T     G     0.258409  147 20.29089 10/13/0      \n",
       "2 10           406013 C     T     0.253512  147 14.06247 11/13/0      \n",
       "  locus       pvalue       SNP     quantile  exp_lrt_sl rank padjBH      \n",
       "1 24:16962690 3.476556e-06 r104351 0.9999906 18.59694    2   3.775437e-06\n",
       "2 10:406013   9.402687e-05 r42819  0.9995375 12.53809   50   9.438593e-05\n",
       "  rank_chrom padjbh_chrom\n",
       "1 1          1.457726e-05\n",
       "2 5          3.713607e-05"
      ]
     },
     "metadata": {},
     "output_type": "display_data"
    }
   ],
   "source": [
    "lrt_filt_sl <- lrt_filt_sl[order(pvalue)]\n",
    "lrt_filt_sl$rank=1:NROW(lrt_filt_sl) #rank snp by order\n",
    "lrt_filt_sl$padjBH=(lrt_filt_sl$rank/nrow(lrt_filt_sl))*.2 #then calculate the critical by dividing each rank by the total number of snps, and then multiply by fdr\n",
    "lrt_filt_sl_sig=lrt_filt_sl[lrt_filt_sl$pvalue<lrt_filt_sl$padjBH,]\n",
    "lrt_filt_sl_sig"
   ]
  },
  {
   "cell_type": "code",
   "execution_count": 40,
   "id": "f32cf79b",
   "metadata": {},
   "outputs": [
    {
     "data": {
      "text/html": [
       "49"
      ],
      "text/latex": [
       "49"
      ],
      "text/markdown": [
       "49"
      ],
      "text/plain": [
       "[1] 49"
      ]
     },
     "metadata": {},
     "output_type": "display_data"
    }
   ],
   "source": [
    "candidate_sl_bh <- lrt_filt_sl[pvalue < max(lrt_filt_sl_sig$pvalue)]\n",
    "nrow(candidate_sl_bh[order(Chromosome, Position)] )"
   ]
  },
  {
   "cell_type": "code",
   "execution_count": 41,
   "id": "2902ac97",
   "metadata": {},
   "outputs": [
    {
     "name": "stderr",
     "output_type": "stream",
     "text": [
      "Joining, by = \"Chromosome\"Warning message in `[.data.table`(sl_threshold, pvalue < bh_critical, by = \"Chromosome\"):\n",
      "“Ignoring by= because j= is not supplied”"
     ]
    },
    {
     "data": {
      "text/html": [
       "6"
      ],
      "text/latex": [
       "6"
      ],
      "text/markdown": [
       "6"
      ],
      "text/plain": [
       "[1] 6"
      ]
     },
     "metadata": {},
     "output_type": "display_data"
    }
   ],
   "source": [
    "#chrom level sig for sl\n",
    "lrt_filt_sl_chrom <- lrt_filt_sl[order(pvalue), rank_chrom :=  seq_len(.N), \"Chromosome\"][\n",
    "    , padjbh_chrom := lapply(.SD, function(x){(rank_chrom/.N)*.05}), by = \"Chromosome\"]\n",
    "lrt_filt_sl_chrom_sig=lrt_filt_sl_chrom[pvalue<padjbh_chrom][, bh_critical := padjbh_chrom]\n",
    "sl_threshold <- left_join(lrt_filt_sl_chrom, lrt_filt_sl_chrom_sig[, .(Chromosome, bh_critical)])\n",
    "candidate_sl_chrom_bh <- sl_threshold[pvalue < bh_critical, by=\"Chromosome\"][Chromosome <= 24]\n",
    "nrow(candidate_sl_chrom_bh)"
   ]
  },
  {
   "cell_type": "code",
   "execution_count": 15,
   "id": "ee61731b",
   "metadata": {},
   "outputs": [
    {
     "data": {
      "text/html": [
       "<table>\n",
       "<thead><tr><th scope=col>Chromosome</th><th scope=col>Position</th><th scope=col>Major</th><th scope=col>Minor</th><th scope=col>Frequency</th><th scope=col>N</th><th scope=col>LRT</th><th scope=col>high_WT/HE/HO</th><th scope=col>locus</th><th scope=col>pvalue</th><th scope=col>SNP</th><th scope=col>quantile</th><th scope=col>exp_lrt_sl</th><th scope=col>rank</th><th scope=col>padjBH</th><th scope=col>rank_chrom</th><th scope=col>padjbh_chrom</th><th scope=col>bh_critical</th></tr></thead>\n",
       "<tbody>\n",
       "\t<tr><td>11          </td><td>7825612     </td><td>T           </td><td>G           </td><td>0.206307    </td><td>147         </td><td>21.31278    </td><td>24/11/0     </td><td>11:7825612  </td><td>2.035062e-06</td><td>r50869      </td><td>1.0000000   </td><td>24.75879    </td><td>1           </td><td>1.887719e-06</td><td>1           </td><td>1.077354e-05</td><td>1.077354e-05</td></tr>\n",
       "\t<tr><td> 4          </td><td>3491306     </td><td>A           </td><td>G           </td><td>0.234541    </td><td>147         </td><td>19.32321    </td><td>34/23/0     </td><td>4:3491306   </td><td>5.779485e-06</td><td>r14897      </td><td>0.9999811   </td><td>18.36866    </td><td>3           </td><td>5.663156e-06</td><td>1           </td><td>9.978048e-06</td><td>9.978048e-06</td></tr>\n",
       "\t<tr><td> 4          </td><td>3491306     </td><td>A           </td><td>G           </td><td>0.234541    </td><td>147         </td><td>19.32321    </td><td>34/23/0     </td><td>4:3491306   </td><td>5.779485e-06</td><td>r14897      </td><td>0.9999811   </td><td>18.36866    </td><td>3           </td><td>5.663156e-06</td><td>1           </td><td>9.978048e-06</td><td>1.995610e-05</td></tr>\n",
       "\t<tr><td>15          </td><td>4387764     </td><td>C           </td><td>T           </td><td>0.264829    </td><td>147         </td><td>18.68006    </td><td>25/26/1     </td><td>15:4387764  </td><td>8.107700e-06</td><td>r68417      </td><td>0.9999717   </td><td>17.37043    </td><td>4           </td><td>7.550874e-06</td><td>1           </td><td>1.007658e-05</td><td>1.007658e-05</td></tr>\n",
       "\t<tr><td> 4          </td><td>7504287     </td><td>A           </td><td>G           </td><td>0.190875    </td><td>147         </td><td>17.03284    </td><td>33/23/0     </td><td>4:7504287   </td><td>1.934781e-05</td><td>r15367      </td><td>0.9999434   </td><td>16.63210    </td><td>7           </td><td>1.321403e-05</td><td>2           </td><td>1.995610e-05</td><td>1.995610e-05</td></tr>\n",
       "</tbody>\n",
       "</table>\n"
      ],
      "text/latex": [
       "\\begin{tabular}{r|llllllllllllllllll}\n",
       " Chromosome & Position & Major & Minor & Frequency & N & LRT & high\\_WT/HE/HO & locus & pvalue & SNP & quantile & exp\\_lrt\\_sl & rank & padjBH & rank\\_chrom & padjbh\\_chrom & bh\\_critical\\\\\n",
       "\\hline\n",
       "\t 11           & 7825612      & T            & G            & 0.206307     & 147          & 21.31278     & 24/11/0      & 11:7825612   & 2.035062e-06 & r50869       & 1.0000000    & 24.75879     & 1            & 1.887719e-06 & 1            & 1.077354e-05 & 1.077354e-05\\\\\n",
       "\t  4           & 3491306      & A            & G            & 0.234541     & 147          & 19.32321     & 34/23/0      & 4:3491306    & 5.779485e-06 & r14897       & 0.9999811    & 18.36866     & 3            & 5.663156e-06 & 1            & 9.978048e-06 & 9.978048e-06\\\\\n",
       "\t  4           & 3491306      & A            & G            & 0.234541     & 147          & 19.32321     & 34/23/0      & 4:3491306    & 5.779485e-06 & r14897       & 0.9999811    & 18.36866     & 3            & 5.663156e-06 & 1            & 9.978048e-06 & 1.995610e-05\\\\\n",
       "\t 15           & 4387764      & C            & T            & 0.264829     & 147          & 18.68006     & 25/26/1      & 15:4387764   & 8.107700e-06 & r68417       & 0.9999717    & 17.37043     & 4            & 7.550874e-06 & 1            & 1.007658e-05 & 1.007658e-05\\\\\n",
       "\t  4           & 7504287      & A            & G            & 0.190875     & 147          & 17.03284     & 33/23/0      & 4:7504287    & 1.934781e-05 & r15367       & 0.9999434    & 16.63210     & 7            & 1.321403e-05 & 2            & 1.995610e-05 & 1.995610e-05\\\\\n",
       "\\end{tabular}\n"
      ],
      "text/markdown": [
       "\n",
       "| Chromosome | Position | Major | Minor | Frequency | N | LRT | high_WT/HE/HO | locus | pvalue | SNP | quantile | exp_lrt_sl | rank | padjBH | rank_chrom | padjbh_chrom | bh_critical |\n",
       "|---|---|---|---|---|---|---|---|---|---|---|---|---|---|---|---|---|---|\n",
       "| 11           | 7825612      | T            | G            | 0.206307     | 147          | 21.31278     | 24/11/0      | 11:7825612   | 2.035062e-06 | r50869       | 1.0000000    | 24.75879     | 1            | 1.887719e-06 | 1            | 1.077354e-05 | 1.077354e-05 |\n",
       "|  4           | 3491306      | A            | G            | 0.234541     | 147          | 19.32321     | 34/23/0      | 4:3491306    | 5.779485e-06 | r14897       | 0.9999811    | 18.36866     | 3            | 5.663156e-06 | 1            | 9.978048e-06 | 9.978048e-06 |\n",
       "|  4           | 3491306      | A            | G            | 0.234541     | 147          | 19.32321     | 34/23/0      | 4:3491306    | 5.779485e-06 | r14897       | 0.9999811    | 18.36866     | 3            | 5.663156e-06 | 1            | 9.978048e-06 | 1.995610e-05 |\n",
       "| 15           | 4387764      | C            | T            | 0.264829     | 147          | 18.68006     | 25/26/1      | 15:4387764   | 8.107700e-06 | r68417       | 0.9999717    | 17.37043     | 4            | 7.550874e-06 | 1            | 1.007658e-05 | 1.007658e-05 |\n",
       "|  4           | 7504287      | A            | G            | 0.190875     | 147          | 17.03284     | 33/23/0      | 4:7504287    | 1.934781e-05 | r15367       | 0.9999434    | 16.63210     | 7            | 1.321403e-05 | 2            | 1.995610e-05 | 1.995610e-05 |\n",
       "\n"
      ],
      "text/plain": [
       "  Chromosome Position Major Minor Frequency N   LRT      high_WT/HE/HO\n",
       "1 11         7825612  T     G     0.206307  147 21.31278 24/11/0      \n",
       "2  4         3491306  A     G     0.234541  147 19.32321 34/23/0      \n",
       "3  4         3491306  A     G     0.234541  147 19.32321 34/23/0      \n",
       "4 15         4387764  C     T     0.264829  147 18.68006 25/26/1      \n",
       "5  4         7504287  A     G     0.190875  147 17.03284 33/23/0      \n",
       "  locus      pvalue       SNP    quantile  exp_lrt_sl rank padjBH      \n",
       "1 11:7825612 2.035062e-06 r50869 1.0000000 24.75879   1    1.887719e-06\n",
       "2 4:3491306  5.779485e-06 r14897 0.9999811 18.36866   3    5.663156e-06\n",
       "3 4:3491306  5.779485e-06 r14897 0.9999811 18.36866   3    5.663156e-06\n",
       "4 15:4387764 8.107700e-06 r68417 0.9999717 17.37043   4    7.550874e-06\n",
       "5 4:7504287  1.934781e-05 r15367 0.9999434 16.63210   7    1.321403e-05\n",
       "  rank_chrom padjbh_chrom bh_critical \n",
       "1 1          1.077354e-05 1.077354e-05\n",
       "2 1          9.978048e-06 9.978048e-06\n",
       "3 1          9.978048e-06 1.995610e-05\n",
       "4 1          1.007658e-05 1.007658e-05\n",
       "5 2          1.995610e-05 1.995610e-05"
      ]
     },
     "metadata": {},
     "output_type": "display_data"
    }
   ],
   "source": [
    "candidate_sl_chrom_bh"
   ]
  },
  {
   "cell_type": "code",
   "execution_count": 162,
   "id": "814e5ed3",
   "metadata": {},
   "outputs": [
    {
     "name": "stderr",
     "output_type": "stream",
     "text": [
      "Warning message in eval(jsub, SDenv, parent.frame()):\n",
      "“NAs introduced by coercion”"
     ]
    }
   ],
   "source": [
    "lrt_filt_ucrit[, Chromosome := gsub(\".\",\"\", Chromosome, fixed = T)][, Chromosome := gsub(\"CM\",\"\", Chromosome, fixed = T)][, Chromosome := gsub(\"PYAM\",\"\", Chromosome, fixed = T)]\n",
    "lrt_filt_ucrit[, Chromosome := as.numeric(Chromosome)]"
   ]
  },
  {
   "cell_type": "code",
   "execution_count": 161,
   "id": "17befae0",
   "metadata": {},
   "outputs": [
    {
     "name": "stderr",
     "output_type": "stream",
     "text": [
      "Warning message in eval(jsub, SDenv, parent.frame()):\n",
      "“NAs introduced by coercion”"
     ]
    }
   ],
   "source": [
    "lrt_filt_sl[, Chromosome := gsub(\".\",\"\", Chromosome, fixed = T)][, Chromosome := gsub(\"CM\",\"\", Chromosome, fixed = T)][, Chromosome := gsub(\"PYAM\",\"\", Chromosome, fixed = T)]\n",
    "lrt_filt_sl[, Chromosome := as.numeric(Chromosome)]"
   ]
  },
  {
   "cell_type": "code",
   "execution_count": 17,
   "id": "cc5e1d89",
   "metadata": {},
   "outputs": [
    {
     "data": {
      "text/html": [
       "<strong>png:</strong> 2"
      ],
      "text/latex": [
       "\\textbf{png:} 2"
      ],
      "text/markdown": [
       "**png:** 2"
      ],
      "text/plain": [
       "png \n",
       "  2 "
      ]
     },
     "metadata": {},
     "output_type": "display_data"
    }
   ],
   "source": [
    "gw_sl <- dchisq(min(sl_null_top$LRT), df=1)\n",
    "gw_sl_null <- dchisq(min(sl_null_top$LRT), df=1)\n",
    "png(\"/data/katrinac/APPC_sequencing/DNA/trimmed_reads/mapping/ensembl/genotypes/angsd/results/sl_manhattan_chrom_sig.05.png\")\n",
    "qqman::manhattan(lrt_filt_sl, chr=\"Chromosome\", bp=\"Position\", p=\"pvalue\", genomewideline = -log10(max(lrt_filt_sl_sig$pvalue)), suggestiveline = F, highlight =candidate_sl_chrom_bh[, SNP] )\n",
    "dev.off()"
   ]
  },
  {
   "cell_type": "code",
   "execution_count": 206,
   "id": "87a343f8",
   "metadata": {},
   "outputs": [
    {
     "data": {
      "text/html": [
       "0.00679187037240556"
      ],
      "text/latex": [
       "0.00679187037240556"
      ],
      "text/markdown": [
       "0.00679187037240556"
      ],
      "text/plain": [
       "[1] 0.00679187"
      ]
     },
     "metadata": {},
     "output_type": "display_data"
    },
    {
     "data": {
      "text/html": [
       "0.00626378093992229"
      ],
      "text/latex": [
       "0.00626378093992229"
      ],
      "text/markdown": [
       "0.00626378093992229"
      ],
      "text/plain": [
       "[1] 0.006263781"
      ]
     },
     "metadata": {},
     "output_type": "display_data"
    }
   ],
   "source": [
    "gw_ucrit_null\n",
    "gw_sl_null"
   ]
  },
  {
   "cell_type": "code",
   "execution_count": 22,
   "id": "634541ad",
   "metadata": {},
   "outputs": [
    {
     "data": {
      "text/html": [
       "<strong>png:</strong> 2"
      ],
      "text/latex": [
       "\\textbf{png:} 2"
      ],
      "text/markdown": [
       "**png:** 2"
      ],
      "text/plain": [
       "png \n",
       "  2 "
      ]
     },
     "metadata": {},
     "output_type": "display_data"
    }
   ],
   "source": [
    "gw_ucrit_null <- dchisq(min(ucrit_null_top$LRT), df=1)\n",
    "png(\"/data/katrinac/APPC_sequencing/DNA/trimmed_reads/mapping/ensembl/genotypes/angsd/results/ucrit_manhattan_chrom_sig.05.png\")\n",
    "qqman::manhattan(lrt_filt_ucrit[pvalue <1], chr=\"Chromosome\", bp=\"Position\", p=\"pvalue\", genomewideline = -log10(gw_ucrit_null), suggestiveline = F,  highlight =candidate_ucrit_chrom_bh[, SNP] )\n",
    "dev.off()"
   ]
  },
  {
   "cell_type": "code",
   "execution_count": 23,
   "id": "868d9346",
   "metadata": {},
   "outputs": [
    {
     "data": {
      "text/html": [
       "503"
      ],
      "text/latex": [
       "503"
      ],
      "text/markdown": [
       "503"
      ],
      "text/plain": [
       "[1] 503"
      ]
     },
     "metadata": {},
     "output_type": "display_data"
    },
    {
     "data": {
      "text/html": [
       "2676"
      ],
      "text/latex": [
       "2676"
      ],
      "text/markdown": [
       "2676"
      ],
      "text/plain": [
       "[1] 2676"
      ]
     },
     "metadata": {},
     "output_type": "display_data"
    }
   ],
   "source": [
    "nrow(candidates_ucrit)\n",
    "nrow(candidates_sl)"
   ]
  },
  {
   "cell_type": "markdown",
   "id": "c0a4b36d",
   "metadata": {},
   "source": [
    "__write out the candidate positions to find closest feature in percula genome__"
   ]
  },
  {
   "cell_type": "code",
   "execution_count": 24,
   "id": "b538950d",
   "metadata": {},
   "outputs": [],
   "source": [
    "candidates_sl_bedops <- candidates_sl[,.(locus, Chromosome, start=Position-50, end=Position+50)]#, range=paste0(start, end, sep=\"-\"))]\n",
    "candidates_ucrit_bedops <- candidates_ucrit[,.(locus, Chromosome, start=Position-50, end=Position+50)]#, range=paste0(start, end, sep=\"-\"))]\n",
    "#fwrite(candidates_sl_bedops[,.(Chromosome, start, end)], \"/data/katrinac/APPC_sequencing/DNA/trimmed_reads/mapping/ensembl/genotypes/angsd/results/candidates_sl_loci100bp.bed\", sep=\"\\t\", col.names = F)\n",
    "#fwrite(candidates_ucrit_bedops[,.(Chromosome, start, end)], \"/data/katrinac/APPC_sequencing/DNA/trimmed_reads/mapping/ensembl/genotypes/angsd/results/candidates_ucrit_loci100bp.bed\", sep=\"\\t\", col.names = F)"
   ]
  },
  {
   "cell_type": "code",
   "execution_count": 25,
   "id": "3f1952b8",
   "metadata": {},
   "outputs": [],
   "source": [
    "all_sl_bedops <- lrt_filt_sl[,.(locus, Chromosome, start=Position-50, end=Position+50)][,Chromosome := paste0(\"chr\", Chromosome, sep=\"\")]#, range=paste0(start, end, sep=\"-\"))]\n",
    "all_ucrit_bedops <- lrt_filt_ucrit[,.(locus, Chromosome, start=Position-50, end=Position+50)][,Chromosome := paste0(\"chr\", Chromosome, sep=\"\")]#, range=paste0(start, end, sep=\"-\"))]\n",
    "#fwrite(all_sl_bedops[,.(Chromosome, start, end)], \"/data/katrinac/APPC_sequencing/DNA/trimmed_reads/mapping/ensembl/genotypes/angsd/results/all_sl_loci100bp.bed\", sep=\"\\t\", col.names = F)\n",
    "#fwrite(all_ucrit_bedops[,.(Chromosome, start, end)], \"/data/katrinac/APPC_sequencing/DNA/trimmed_reads/mapping/ensembl/genotypes/angsd/results/all_ucrit_loci100bp.bed\", sep=\"\\t\", col.names = F)"
   ]
  },
  {
   "cell_type": "code",
   "execution_count": 26,
   "id": "9b1c5cab",
   "metadata": {},
   "outputs": [],
   "source": [
    "#load in the gff file from closest-feature\n",
    "gff_names <- c(\"seqid\", \"start\",\"locus\", \"feature_start\", \"feature_end\", \"feature_id\", \"score\", \"strand\", \"unkn\", \"feature_type\", \"phase\", \"attributes\")\n",
    "sl_nearest <- fread(\"/data/katrinac/APPC_sequencing/DNA/trimmed_reads/mapping/ensembl/genotypes/angsd/results/sorted_all_sl_100bp_percula_nearest.bed\", sep=\"\\t\", fill = T)\n",
    "setnames(sl_nearest, gff_names)"
   ]
  },
  {
   "cell_type": "code",
   "execution_count": 27,
   "id": "417ae3d3",
   "metadata": {},
   "outputs": [
    {
     "data": {
      "text/html": [
       "<table>\n",
       "<thead><tr><th scope=col>seqid</th><th scope=col>start</th><th scope=col>locus</th><th scope=col>feature_start</th><th scope=col>feature_end</th><th scope=col>feature_id</th><th scope=col>score</th><th scope=col>strand</th><th scope=col>unkn</th><th scope=col>feature_type</th><th scope=col>phase</th><th scope=col>attributes</th></tr></thead>\n",
       "<tbody>\n",
       "\t<tr><td>chr1                                                                                                                    </td><td> 9954                                                                                                                   </td><td>10054|chr1                                                                                                              </td><td>26561                                                                                                                   </td><td>55859                                                                                                                   </td><td>APERC1_00013921                                                                                                         </td><td>.                                                                                                                       </td><td>-                                                                                                                       </td><td>maker                                                                                                                   </td><td>gene                                                                                                                    </td><td>.                                                                                                                       </td><td>ID=APERC1_00013921;Dbxref=InterPro:IPR001073,InterPro:IPR011489,Pfam:PF00386,Pfam:PF07546;Ontology_term=GO:0005515|16508</td></tr>\n",
       "\t<tr><td>chr1                                                                                                                    </td><td>32266                                                                                                                   </td><td>32366|chr1                                                                                                              </td><td>26561                                                                                                                   </td><td>55859                                                                                                                   </td><td>APERC1_00013921                                                                                                         </td><td>.                                                                                                                       </td><td>-                                                                                                                       </td><td>maker                                                                                                                   </td><td>gene                                                                                                                    </td><td>.                                                                                                                       </td><td>ID=APERC1_00013921;Dbxref=InterPro:IPR001073,InterPro:IPR011489,Pfam:PF00386,Pfam:PF07546;Ontology_term=GO:0005515|0    </td></tr>\n",
       "\t<tr><td>chr1                                                                                                                    </td><td>32276                                                                                                                   </td><td>32376|chr1                                                                                                              </td><td>26561                                                                                                                   </td><td>55859                                                                                                                   </td><td>APERC1_00013921                                                                                                         </td><td>.                                                                                                                       </td><td>-                                                                                                                       </td><td>maker                                                                                                                   </td><td>gene                                                                                                                    </td><td>.                                                                                                                       </td><td>ID=APERC1_00013921;Dbxref=InterPro:IPR001073,InterPro:IPR011489,Pfam:PF00386,Pfam:PF07546;Ontology_term=GO:0005515|0    </td></tr>\n",
       "\t<tr><td>chr1                                                                                                                    </td><td>32300                                                                                                                   </td><td>32400|chr1                                                                                                              </td><td>26561                                                                                                                   </td><td>55859                                                                                                                   </td><td>APERC1_00013921                                                                                                         </td><td>.                                                                                                                       </td><td>-                                                                                                                       </td><td>maker                                                                                                                   </td><td>gene                                                                                                                    </td><td>.                                                                                                                       </td><td>ID=APERC1_00013921;Dbxref=InterPro:IPR001073,InterPro:IPR011489,Pfam:PF00386,Pfam:PF07546;Ontology_term=GO:0005515|0    </td></tr>\n",
       "\t<tr><td>chr1                                                                                                                    </td><td>32847                                                                                                                   </td><td>32947|chr1                                                                                                              </td><td>26561                                                                                                                   </td><td>55859                                                                                                                   </td><td>APERC1_00013921                                                                                                         </td><td>.                                                                                                                       </td><td>-                                                                                                                       </td><td>maker                                                                                                                   </td><td>gene                                                                                                                    </td><td>.                                                                                                                       </td><td>ID=APERC1_00013921;Dbxref=InterPro:IPR001073,InterPro:IPR011489,Pfam:PF00386,Pfam:PF07546;Ontology_term=GO:0005515|0    </td></tr>\n",
       "\t<tr><td>chr1                                                                                                                    </td><td>33169                                                                                                                   </td><td>33269|chr1                                                                                                              </td><td>26561                                                                                                                   </td><td>55859                                                                                                                   </td><td>APERC1_00013921                                                                                                         </td><td>.                                                                                                                       </td><td>-                                                                                                                       </td><td>maker                                                                                                                   </td><td>gene                                                                                                                    </td><td>.                                                                                                                       </td><td>ID=APERC1_00013921;Dbxref=InterPro:IPR001073,InterPro:IPR011489,Pfam:PF00386,Pfam:PF07546;Ontology_term=GO:0005515|0    </td></tr>\n",
       "</tbody>\n",
       "</table>\n"
      ],
      "text/latex": [
       "\\begin{tabular}{r|llllllllllll}\n",
       " seqid & start & locus & feature\\_start & feature\\_end & feature\\_id & score & strand & unkn & feature\\_type & phase & attributes\\\\\n",
       "\\hline\n",
       "\t chr1                                                                                                                                   &  9954                                                                                                                                  & 10054\\textbar{}chr1                                                                                                                   & 26561                                                                                                                                  & 55859                                                                                                                                  & APERC1\\_00013921                                                                                                                      & .                                                                                                                                      & -                                                                                                                                      & maker                                                                                                                                  & gene                                                                                                                                   & .                                                                                                                                      & ID=APERC1\\_00013921;Dbxref=InterPro:IPR001073,InterPro:IPR011489,Pfam:PF00386,Pfam:PF07546;Ontology\\_term=GO:0005515\\textbar{}16508\\\\\n",
       "\t chr1                                                                                                                                   & 32266                                                                                                                                  & 32366\\textbar{}chr1                                                                                                                   & 26561                                                                                                                                  & 55859                                                                                                                                  & APERC1\\_00013921                                                                                                                      & .                                                                                                                                      & -                                                                                                                                      & maker                                                                                                                                  & gene                                                                                                                                   & .                                                                                                                                      & ID=APERC1\\_00013921;Dbxref=InterPro:IPR001073,InterPro:IPR011489,Pfam:PF00386,Pfam:PF07546;Ontology\\_term=GO:0005515\\textbar{}0    \\\\\n",
       "\t chr1                                                                                                                                   & 32276                                                                                                                                  & 32376\\textbar{}chr1                                                                                                                   & 26561                                                                                                                                  & 55859                                                                                                                                  & APERC1\\_00013921                                                                                                                      & .                                                                                                                                      & -                                                                                                                                      & maker                                                                                                                                  & gene                                                                                                                                   & .                                                                                                                                      & ID=APERC1\\_00013921;Dbxref=InterPro:IPR001073,InterPro:IPR011489,Pfam:PF00386,Pfam:PF07546;Ontology\\_term=GO:0005515\\textbar{}0    \\\\\n",
       "\t chr1                                                                                                                                   & 32300                                                                                                                                  & 32400\\textbar{}chr1                                                                                                                   & 26561                                                                                                                                  & 55859                                                                                                                                  & APERC1\\_00013921                                                                                                                      & .                                                                                                                                      & -                                                                                                                                      & maker                                                                                                                                  & gene                                                                                                                                   & .                                                                                                                                      & ID=APERC1\\_00013921;Dbxref=InterPro:IPR001073,InterPro:IPR011489,Pfam:PF00386,Pfam:PF07546;Ontology\\_term=GO:0005515\\textbar{}0    \\\\\n",
       "\t chr1                                                                                                                                   & 32847                                                                                                                                  & 32947\\textbar{}chr1                                                                                                                   & 26561                                                                                                                                  & 55859                                                                                                                                  & APERC1\\_00013921                                                                                                                      & .                                                                                                                                      & -                                                                                                                                      & maker                                                                                                                                  & gene                                                                                                                                   & .                                                                                                                                      & ID=APERC1\\_00013921;Dbxref=InterPro:IPR001073,InterPro:IPR011489,Pfam:PF00386,Pfam:PF07546;Ontology\\_term=GO:0005515\\textbar{}0    \\\\\n",
       "\t chr1                                                                                                                                   & 33169                                                                                                                                  & 33269\\textbar{}chr1                                                                                                                   & 26561                                                                                                                                  & 55859                                                                                                                                  & APERC1\\_00013921                                                                                                                      & .                                                                                                                                      & -                                                                                                                                      & maker                                                                                                                                  & gene                                                                                                                                   & .                                                                                                                                      & ID=APERC1\\_00013921;Dbxref=InterPro:IPR001073,InterPro:IPR011489,Pfam:PF00386,Pfam:PF07546;Ontology\\_term=GO:0005515\\textbar{}0    \\\\\n",
       "\\end{tabular}\n"
      ],
      "text/markdown": [
       "\n",
       "| seqid | start | locus | feature_start | feature_end | feature_id | score | strand | unkn | feature_type | phase | attributes |\n",
       "|---|---|---|---|---|---|---|---|---|---|---|---|\n",
       "| chr1                                                                                                                     |  9954                                                                                                                    | 10054|chr1                                                                                                               | 26561                                                                                                                    | 55859                                                                                                                    | APERC1_00013921                                                                                                          | .                                                                                                                        | -                                                                                                                        | maker                                                                                                                    | gene                                                                                                                     | .                                                                                                                        | ID=APERC1_00013921;Dbxref=InterPro:IPR001073,InterPro:IPR011489,Pfam:PF00386,Pfam:PF07546;Ontology_term=GO:0005515|16508 |\n",
       "| chr1                                                                                                                     | 32266                                                                                                                    | 32366|chr1                                                                                                               | 26561                                                                                                                    | 55859                                                                                                                    | APERC1_00013921                                                                                                          | .                                                                                                                        | -                                                                                                                        | maker                                                                                                                    | gene                                                                                                                     | .                                                                                                                        | ID=APERC1_00013921;Dbxref=InterPro:IPR001073,InterPro:IPR011489,Pfam:PF00386,Pfam:PF07546;Ontology_term=GO:0005515|0     |\n",
       "| chr1                                                                                                                     | 32276                                                                                                                    | 32376|chr1                                                                                                               | 26561                                                                                                                    | 55859                                                                                                                    | APERC1_00013921                                                                                                          | .                                                                                                                        | -                                                                                                                        | maker                                                                                                                    | gene                                                                                                                     | .                                                                                                                        | ID=APERC1_00013921;Dbxref=InterPro:IPR001073,InterPro:IPR011489,Pfam:PF00386,Pfam:PF07546;Ontology_term=GO:0005515|0     |\n",
       "| chr1                                                                                                                     | 32300                                                                                                                    | 32400|chr1                                                                                                               | 26561                                                                                                                    | 55859                                                                                                                    | APERC1_00013921                                                                                                          | .                                                                                                                        | -                                                                                                                        | maker                                                                                                                    | gene                                                                                                                     | .                                                                                                                        | ID=APERC1_00013921;Dbxref=InterPro:IPR001073,InterPro:IPR011489,Pfam:PF00386,Pfam:PF07546;Ontology_term=GO:0005515|0     |\n",
       "| chr1                                                                                                                     | 32847                                                                                                                    | 32947|chr1                                                                                                               | 26561                                                                                                                    | 55859                                                                                                                    | APERC1_00013921                                                                                                          | .                                                                                                                        | -                                                                                                                        | maker                                                                                                                    | gene                                                                                                                     | .                                                                                                                        | ID=APERC1_00013921;Dbxref=InterPro:IPR001073,InterPro:IPR011489,Pfam:PF00386,Pfam:PF07546;Ontology_term=GO:0005515|0     |\n",
       "| chr1                                                                                                                     | 33169                                                                                                                    | 33269|chr1                                                                                                               | 26561                                                                                                                    | 55859                                                                                                                    | APERC1_00013921                                                                                                          | .                                                                                                                        | -                                                                                                                        | maker                                                                                                                    | gene                                                                                                                     | .                                                                                                                        | ID=APERC1_00013921;Dbxref=InterPro:IPR001073,InterPro:IPR011489,Pfam:PF00386,Pfam:PF07546;Ontology_term=GO:0005515|0     |\n",
       "\n"
      ],
      "text/plain": [
       "  seqid start locus      feature_start feature_end feature_id      score strand\n",
       "1 chr1   9954 10054|chr1 26561         55859       APERC1_00013921 .     -     \n",
       "2 chr1  32266 32366|chr1 26561         55859       APERC1_00013921 .     -     \n",
       "3 chr1  32276 32376|chr1 26561         55859       APERC1_00013921 .     -     \n",
       "4 chr1  32300 32400|chr1 26561         55859       APERC1_00013921 .     -     \n",
       "5 chr1  32847 32947|chr1 26561         55859       APERC1_00013921 .     -     \n",
       "6 chr1  33169 33269|chr1 26561         55859       APERC1_00013921 .     -     \n",
       "  unkn  feature_type phase\n",
       "1 maker gene         .    \n",
       "2 maker gene         .    \n",
       "3 maker gene         .    \n",
       "4 maker gene         .    \n",
       "5 maker gene         .    \n",
       "6 maker gene         .    \n",
       "  attributes                                                                                                              \n",
       "1 ID=APERC1_00013921;Dbxref=InterPro:IPR001073,InterPro:IPR011489,Pfam:PF00386,Pfam:PF07546;Ontology_term=GO:0005515|16508\n",
       "2 ID=APERC1_00013921;Dbxref=InterPro:IPR001073,InterPro:IPR011489,Pfam:PF00386,Pfam:PF07546;Ontology_term=GO:0005515|0    \n",
       "3 ID=APERC1_00013921;Dbxref=InterPro:IPR001073,InterPro:IPR011489,Pfam:PF00386,Pfam:PF07546;Ontology_term=GO:0005515|0    \n",
       "4 ID=APERC1_00013921;Dbxref=InterPro:IPR001073,InterPro:IPR011489,Pfam:PF00386,Pfam:PF07546;Ontology_term=GO:0005515|0    \n",
       "5 ID=APERC1_00013921;Dbxref=InterPro:IPR001073,InterPro:IPR011489,Pfam:PF00386,Pfam:PF07546;Ontology_term=GO:0005515|0    \n",
       "6 ID=APERC1_00013921;Dbxref=InterPro:IPR001073,InterPro:IPR011489,Pfam:PF00386,Pfam:PF07546;Ontology_term=GO:0005515|0    "
      ]
     },
     "metadata": {},
     "output_type": "display_data"
    }
   ],
   "source": [
    "head(sl_nearest)"
   ]
  },
  {
   "cell_type": "code",
   "execution_count": 28,
   "id": "e03b25b2",
   "metadata": {},
   "outputs": [],
   "source": [
    "#split the attributs column to get the gene name and the go terms\n",
    "split <- sl_nearest[, c('gene_id', 'protein_family', 'go_term_dist'):= tstrsplit(attributes, \";\")][, c('go_term', 'dist_bp'):= tstrsplit(go_term_dist, \"|\", fixed=T),by=\"gene_id\"]"
   ]
  },
  {
   "cell_type": "code",
   "execution_count": 29,
   "id": "e0bc86ac",
   "metadata": {},
   "outputs": [
    {
     "data": {
      "text/html": [
       "<table>\n",
       "<thead><tr><th scope=col>seqid</th><th scope=col>start</th><th scope=col>locus</th><th scope=col>feature_start</th><th scope=col>feature_end</th><th scope=col>feature_id</th><th scope=col>score</th><th scope=col>strand</th><th scope=col>unkn</th><th scope=col>feature_type</th><th scope=col>phase</th><th scope=col>attributes</th><th scope=col>gene_id</th><th scope=col>protein_family</th><th scope=col>go_term_dist</th><th scope=col>go_term</th><th scope=col>dist_bp</th></tr></thead>\n",
       "<tbody>\n",
       "\t<tr><td>chr1                                                                                                                    </td><td> 9954                                                                                                                   </td><td>10054|chr1                                                                                                              </td><td>26561                                                                                                                   </td><td>55859                                                                                                                   </td><td>APERC1_00013921                                                                                                         </td><td>.                                                                                                                       </td><td>-                                                                                                                       </td><td>maker                                                                                                                   </td><td>gene                                                                                                                    </td><td>.                                                                                                                       </td><td>ID=APERC1_00013921;Dbxref=InterPro:IPR001073,InterPro:IPR011489,Pfam:PF00386,Pfam:PF07546;Ontology_term=GO:0005515|16508</td><td>ID=APERC1_00013921                                                                                                      </td><td>Dbxref=InterPro:IPR001073,InterPro:IPR011489,Pfam:PF00386,Pfam:PF07546                                                  </td><td>Ontology_term=GO:0005515|16508                                                                                          </td><td>Ontology_term=GO:0005515                                                                                                </td><td>16508                                                                                                                   </td></tr>\n",
       "\t<tr><td>chr1                                                                                                                    </td><td>32266                                                                                                                   </td><td>32366|chr1                                                                                                              </td><td>26561                                                                                                                   </td><td>55859                                                                                                                   </td><td>APERC1_00013921                                                                                                         </td><td>.                                                                                                                       </td><td>-                                                                                                                       </td><td>maker                                                                                                                   </td><td>gene                                                                                                                    </td><td>.                                                                                                                       </td><td>ID=APERC1_00013921;Dbxref=InterPro:IPR001073,InterPro:IPR011489,Pfam:PF00386,Pfam:PF07546;Ontology_term=GO:0005515|0    </td><td>ID=APERC1_00013921                                                                                                      </td><td>Dbxref=InterPro:IPR001073,InterPro:IPR011489,Pfam:PF00386,Pfam:PF07546                                                  </td><td>Ontology_term=GO:0005515|0                                                                                              </td><td>Ontology_term=GO:0005515                                                                                                </td><td>0                                                                                                                       </td></tr>\n",
       "\t<tr><td>chr1                                                                                                                    </td><td>32276                                                                                                                   </td><td>32376|chr1                                                                                                              </td><td>26561                                                                                                                   </td><td>55859                                                                                                                   </td><td>APERC1_00013921                                                                                                         </td><td>.                                                                                                                       </td><td>-                                                                                                                       </td><td>maker                                                                                                                   </td><td>gene                                                                                                                    </td><td>.                                                                                                                       </td><td>ID=APERC1_00013921;Dbxref=InterPro:IPR001073,InterPro:IPR011489,Pfam:PF00386,Pfam:PF07546;Ontology_term=GO:0005515|0    </td><td>ID=APERC1_00013921                                                                                                      </td><td>Dbxref=InterPro:IPR001073,InterPro:IPR011489,Pfam:PF00386,Pfam:PF07546                                                  </td><td>Ontology_term=GO:0005515|0                                                                                              </td><td>Ontology_term=GO:0005515                                                                                                </td><td>0                                                                                                                       </td></tr>\n",
       "\t<tr><td>chr1                                                                                                                    </td><td>32300                                                                                                                   </td><td>32400|chr1                                                                                                              </td><td>26561                                                                                                                   </td><td>55859                                                                                                                   </td><td>APERC1_00013921                                                                                                         </td><td>.                                                                                                                       </td><td>-                                                                                                                       </td><td>maker                                                                                                                   </td><td>gene                                                                                                                    </td><td>.                                                                                                                       </td><td>ID=APERC1_00013921;Dbxref=InterPro:IPR001073,InterPro:IPR011489,Pfam:PF00386,Pfam:PF07546;Ontology_term=GO:0005515|0    </td><td>ID=APERC1_00013921                                                                                                      </td><td>Dbxref=InterPro:IPR001073,InterPro:IPR011489,Pfam:PF00386,Pfam:PF07546                                                  </td><td>Ontology_term=GO:0005515|0                                                                                              </td><td>Ontology_term=GO:0005515                                                                                                </td><td>0                                                                                                                       </td></tr>\n",
       "\t<tr><td>chr1                                                                                                                    </td><td>32847                                                                                                                   </td><td>32947|chr1                                                                                                              </td><td>26561                                                                                                                   </td><td>55859                                                                                                                   </td><td>APERC1_00013921                                                                                                         </td><td>.                                                                                                                       </td><td>-                                                                                                                       </td><td>maker                                                                                                                   </td><td>gene                                                                                                                    </td><td>.                                                                                                                       </td><td>ID=APERC1_00013921;Dbxref=InterPro:IPR001073,InterPro:IPR011489,Pfam:PF00386,Pfam:PF07546;Ontology_term=GO:0005515|0    </td><td>ID=APERC1_00013921                                                                                                      </td><td>Dbxref=InterPro:IPR001073,InterPro:IPR011489,Pfam:PF00386,Pfam:PF07546                                                  </td><td>Ontology_term=GO:0005515|0                                                                                              </td><td>Ontology_term=GO:0005515                                                                                                </td><td>0                                                                                                                       </td></tr>\n",
       "\t<tr><td>chr1                                                                                                                    </td><td>33169                                                                                                                   </td><td>33269|chr1                                                                                                              </td><td>26561                                                                                                                   </td><td>55859                                                                                                                   </td><td>APERC1_00013921                                                                                                         </td><td>.                                                                                                                       </td><td>-                                                                                                                       </td><td>maker                                                                                                                   </td><td>gene                                                                                                                    </td><td>.                                                                                                                       </td><td>ID=APERC1_00013921;Dbxref=InterPro:IPR001073,InterPro:IPR011489,Pfam:PF00386,Pfam:PF07546;Ontology_term=GO:0005515|0    </td><td>ID=APERC1_00013921                                                                                                      </td><td>Dbxref=InterPro:IPR001073,InterPro:IPR011489,Pfam:PF00386,Pfam:PF07546                                                  </td><td>Ontology_term=GO:0005515|0                                                                                              </td><td>Ontology_term=GO:0005515                                                                                                </td><td>0                                                                                                                       </td></tr>\n",
       "</tbody>\n",
       "</table>\n"
      ],
      "text/latex": [
       "\\begin{tabular}{r|lllllllllllllllll}\n",
       " seqid & start & locus & feature\\_start & feature\\_end & feature\\_id & score & strand & unkn & feature\\_type & phase & attributes & gene\\_id & protein\\_family & go\\_term\\_dist & go\\_term & dist\\_bp\\\\\n",
       "\\hline\n",
       "\t chr1                                                                                                                                   &  9954                                                                                                                                  & 10054\\textbar{}chr1                                                                                                                   & 26561                                                                                                                                  & 55859                                                                                                                                  & APERC1\\_00013921                                                                                                                      & .                                                                                                                                      & -                                                                                                                                      & maker                                                                                                                                  & gene                                                                                                                                   & .                                                                                                                                      & ID=APERC1\\_00013921;Dbxref=InterPro:IPR001073,InterPro:IPR011489,Pfam:PF00386,Pfam:PF07546;Ontology\\_term=GO:0005515\\textbar{}16508 & ID=APERC1\\_00013921                                                                                                                   & Dbxref=InterPro:IPR001073,InterPro:IPR011489,Pfam:PF00386,Pfam:PF07546                                                                 & Ontology\\_term=GO:0005515\\textbar{}16508                                                                                             & Ontology\\_term=GO:0005515                                                                                                             & 16508                                                                                                                                 \\\\\n",
       "\t chr1                                                                                                                                   & 32266                                                                                                                                  & 32366\\textbar{}chr1                                                                                                                   & 26561                                                                                                                                  & 55859                                                                                                                                  & APERC1\\_00013921                                                                                                                      & .                                                                                                                                      & -                                                                                                                                      & maker                                                                                                                                  & gene                                                                                                                                   & .                                                                                                                                      & ID=APERC1\\_00013921;Dbxref=InterPro:IPR001073,InterPro:IPR011489,Pfam:PF00386,Pfam:PF07546;Ontology\\_term=GO:0005515\\textbar{}0     & ID=APERC1\\_00013921                                                                                                                   & Dbxref=InterPro:IPR001073,InterPro:IPR011489,Pfam:PF00386,Pfam:PF07546                                                                 & Ontology\\_term=GO:0005515\\textbar{}0                                                                                                 & Ontology\\_term=GO:0005515                                                                                                             & 0                                                                                                                                     \\\\\n",
       "\t chr1                                                                                                                                   & 32276                                                                                                                                  & 32376\\textbar{}chr1                                                                                                                   & 26561                                                                                                                                  & 55859                                                                                                                                  & APERC1\\_00013921                                                                                                                      & .                                                                                                                                      & -                                                                                                                                      & maker                                                                                                                                  & gene                                                                                                                                   & .                                                                                                                                      & ID=APERC1\\_00013921;Dbxref=InterPro:IPR001073,InterPro:IPR011489,Pfam:PF00386,Pfam:PF07546;Ontology\\_term=GO:0005515\\textbar{}0     & ID=APERC1\\_00013921                                                                                                                   & Dbxref=InterPro:IPR001073,InterPro:IPR011489,Pfam:PF00386,Pfam:PF07546                                                                 & Ontology\\_term=GO:0005515\\textbar{}0                                                                                                 & Ontology\\_term=GO:0005515                                                                                                             & 0                                                                                                                                     \\\\\n",
       "\t chr1                                                                                                                                   & 32300                                                                                                                                  & 32400\\textbar{}chr1                                                                                                                   & 26561                                                                                                                                  & 55859                                                                                                                                  & APERC1\\_00013921                                                                                                                      & .                                                                                                                                      & -                                                                                                                                      & maker                                                                                                                                  & gene                                                                                                                                   & .                                                                                                                                      & ID=APERC1\\_00013921;Dbxref=InterPro:IPR001073,InterPro:IPR011489,Pfam:PF00386,Pfam:PF07546;Ontology\\_term=GO:0005515\\textbar{}0     & ID=APERC1\\_00013921                                                                                                                   & Dbxref=InterPro:IPR001073,InterPro:IPR011489,Pfam:PF00386,Pfam:PF07546                                                                 & Ontology\\_term=GO:0005515\\textbar{}0                                                                                                 & Ontology\\_term=GO:0005515                                                                                                             & 0                                                                                                                                     \\\\\n",
       "\t chr1                                                                                                                                   & 32847                                                                                                                                  & 32947\\textbar{}chr1                                                                                                                   & 26561                                                                                                                                  & 55859                                                                                                                                  & APERC1\\_00013921                                                                                                                      & .                                                                                                                                      & -                                                                                                                                      & maker                                                                                                                                  & gene                                                                                                                                   & .                                                                                                                                      & ID=APERC1\\_00013921;Dbxref=InterPro:IPR001073,InterPro:IPR011489,Pfam:PF00386,Pfam:PF07546;Ontology\\_term=GO:0005515\\textbar{}0     & ID=APERC1\\_00013921                                                                                                                   & Dbxref=InterPro:IPR001073,InterPro:IPR011489,Pfam:PF00386,Pfam:PF07546                                                                 & Ontology\\_term=GO:0005515\\textbar{}0                                                                                                 & Ontology\\_term=GO:0005515                                                                                                             & 0                                                                                                                                     \\\\\n",
       "\t chr1                                                                                                                                   & 33169                                                                                                                                  & 33269\\textbar{}chr1                                                                                                                   & 26561                                                                                                                                  & 55859                                                                                                                                  & APERC1\\_00013921                                                                                                                      & .                                                                                                                                      & -                                                                                                                                      & maker                                                                                                                                  & gene                                                                                                                                   & .                                                                                                                                      & ID=APERC1\\_00013921;Dbxref=InterPro:IPR001073,InterPro:IPR011489,Pfam:PF00386,Pfam:PF07546;Ontology\\_term=GO:0005515\\textbar{}0     & ID=APERC1\\_00013921                                                                                                                   & Dbxref=InterPro:IPR001073,InterPro:IPR011489,Pfam:PF00386,Pfam:PF07546                                                                 & Ontology\\_term=GO:0005515\\textbar{}0                                                                                                 & Ontology\\_term=GO:0005515                                                                                                             & 0                                                                                                                                     \\\\\n",
       "\\end{tabular}\n"
      ],
      "text/markdown": [
       "\n",
       "| seqid | start | locus | feature_start | feature_end | feature_id | score | strand | unkn | feature_type | phase | attributes | gene_id | protein_family | go_term_dist | go_term | dist_bp |\n",
       "|---|---|---|---|---|---|---|---|---|---|---|---|---|---|---|---|---|\n",
       "| chr1                                                                                                                     |  9954                                                                                                                    | 10054|chr1                                                                                                               | 26561                                                                                                                    | 55859                                                                                                                    | APERC1_00013921                                                                                                          | .                                                                                                                        | -                                                                                                                        | maker                                                                                                                    | gene                                                                                                                     | .                                                                                                                        | ID=APERC1_00013921;Dbxref=InterPro:IPR001073,InterPro:IPR011489,Pfam:PF00386,Pfam:PF07546;Ontology_term=GO:0005515|16508 | ID=APERC1_00013921                                                                                                       | Dbxref=InterPro:IPR001073,InterPro:IPR011489,Pfam:PF00386,Pfam:PF07546                                                   | Ontology_term=GO:0005515|16508                                                                                           | Ontology_term=GO:0005515                                                                                                 | 16508                                                                                                                    |\n",
       "| chr1                                                                                                                     | 32266                                                                                                                    | 32366|chr1                                                                                                               | 26561                                                                                                                    | 55859                                                                                                                    | APERC1_00013921                                                                                                          | .                                                                                                                        | -                                                                                                                        | maker                                                                                                                    | gene                                                                                                                     | .                                                                                                                        | ID=APERC1_00013921;Dbxref=InterPro:IPR001073,InterPro:IPR011489,Pfam:PF00386,Pfam:PF07546;Ontology_term=GO:0005515|0     | ID=APERC1_00013921                                                                                                       | Dbxref=InterPro:IPR001073,InterPro:IPR011489,Pfam:PF00386,Pfam:PF07546                                                   | Ontology_term=GO:0005515|0                                                                                               | Ontology_term=GO:0005515                                                                                                 | 0                                                                                                                        |\n",
       "| chr1                                                                                                                     | 32276                                                                                                                    | 32376|chr1                                                                                                               | 26561                                                                                                                    | 55859                                                                                                                    | APERC1_00013921                                                                                                          | .                                                                                                                        | -                                                                                                                        | maker                                                                                                                    | gene                                                                                                                     | .                                                                                                                        | ID=APERC1_00013921;Dbxref=InterPro:IPR001073,InterPro:IPR011489,Pfam:PF00386,Pfam:PF07546;Ontology_term=GO:0005515|0     | ID=APERC1_00013921                                                                                                       | Dbxref=InterPro:IPR001073,InterPro:IPR011489,Pfam:PF00386,Pfam:PF07546                                                   | Ontology_term=GO:0005515|0                                                                                               | Ontology_term=GO:0005515                                                                                                 | 0                                                                                                                        |\n",
       "| chr1                                                                                                                     | 32300                                                                                                                    | 32400|chr1                                                                                                               | 26561                                                                                                                    | 55859                                                                                                                    | APERC1_00013921                                                                                                          | .                                                                                                                        | -                                                                                                                        | maker                                                                                                                    | gene                                                                                                                     | .                                                                                                                        | ID=APERC1_00013921;Dbxref=InterPro:IPR001073,InterPro:IPR011489,Pfam:PF00386,Pfam:PF07546;Ontology_term=GO:0005515|0     | ID=APERC1_00013921                                                                                                       | Dbxref=InterPro:IPR001073,InterPro:IPR011489,Pfam:PF00386,Pfam:PF07546                                                   | Ontology_term=GO:0005515|0                                                                                               | Ontology_term=GO:0005515                                                                                                 | 0                                                                                                                        |\n",
       "| chr1                                                                                                                     | 32847                                                                                                                    | 32947|chr1                                                                                                               | 26561                                                                                                                    | 55859                                                                                                                    | APERC1_00013921                                                                                                          | .                                                                                                                        | -                                                                                                                        | maker                                                                                                                    | gene                                                                                                                     | .                                                                                                                        | ID=APERC1_00013921;Dbxref=InterPro:IPR001073,InterPro:IPR011489,Pfam:PF00386,Pfam:PF07546;Ontology_term=GO:0005515|0     | ID=APERC1_00013921                                                                                                       | Dbxref=InterPro:IPR001073,InterPro:IPR011489,Pfam:PF00386,Pfam:PF07546                                                   | Ontology_term=GO:0005515|0                                                                                               | Ontology_term=GO:0005515                                                                                                 | 0                                                                                                                        |\n",
       "| chr1                                                                                                                     | 33169                                                                                                                    | 33269|chr1                                                                                                               | 26561                                                                                                                    | 55859                                                                                                                    | APERC1_00013921                                                                                                          | .                                                                                                                        | -                                                                                                                        | maker                                                                                                                    | gene                                                                                                                     | .                                                                                                                        | ID=APERC1_00013921;Dbxref=InterPro:IPR001073,InterPro:IPR011489,Pfam:PF00386,Pfam:PF07546;Ontology_term=GO:0005515|0     | ID=APERC1_00013921                                                                                                       | Dbxref=InterPro:IPR001073,InterPro:IPR011489,Pfam:PF00386,Pfam:PF07546                                                   | Ontology_term=GO:0005515|0                                                                                               | Ontology_term=GO:0005515                                                                                                 | 0                                                                                                                        |\n",
       "\n"
      ],
      "text/plain": [
       "  seqid start locus      feature_start feature_end feature_id      score strand\n",
       "1 chr1   9954 10054|chr1 26561         55859       APERC1_00013921 .     -     \n",
       "2 chr1  32266 32366|chr1 26561         55859       APERC1_00013921 .     -     \n",
       "3 chr1  32276 32376|chr1 26561         55859       APERC1_00013921 .     -     \n",
       "4 chr1  32300 32400|chr1 26561         55859       APERC1_00013921 .     -     \n",
       "5 chr1  32847 32947|chr1 26561         55859       APERC1_00013921 .     -     \n",
       "6 chr1  33169 33269|chr1 26561         55859       APERC1_00013921 .     -     \n",
       "  unkn  feature_type phase\n",
       "1 maker gene         .    \n",
       "2 maker gene         .    \n",
       "3 maker gene         .    \n",
       "4 maker gene         .    \n",
       "5 maker gene         .    \n",
       "6 maker gene         .    \n",
       "  attributes                                                                                                              \n",
       "1 ID=APERC1_00013921;Dbxref=InterPro:IPR001073,InterPro:IPR011489,Pfam:PF00386,Pfam:PF07546;Ontology_term=GO:0005515|16508\n",
       "2 ID=APERC1_00013921;Dbxref=InterPro:IPR001073,InterPro:IPR011489,Pfam:PF00386,Pfam:PF07546;Ontology_term=GO:0005515|0    \n",
       "3 ID=APERC1_00013921;Dbxref=InterPro:IPR001073,InterPro:IPR011489,Pfam:PF00386,Pfam:PF07546;Ontology_term=GO:0005515|0    \n",
       "4 ID=APERC1_00013921;Dbxref=InterPro:IPR001073,InterPro:IPR011489,Pfam:PF00386,Pfam:PF07546;Ontology_term=GO:0005515|0    \n",
       "5 ID=APERC1_00013921;Dbxref=InterPro:IPR001073,InterPro:IPR011489,Pfam:PF00386,Pfam:PF07546;Ontology_term=GO:0005515|0    \n",
       "6 ID=APERC1_00013921;Dbxref=InterPro:IPR001073,InterPro:IPR011489,Pfam:PF00386,Pfam:PF07546;Ontology_term=GO:0005515|0    \n",
       "  gene_id           \n",
       "1 ID=APERC1_00013921\n",
       "2 ID=APERC1_00013921\n",
       "3 ID=APERC1_00013921\n",
       "4 ID=APERC1_00013921\n",
       "5 ID=APERC1_00013921\n",
       "6 ID=APERC1_00013921\n",
       "  protein_family                                                        \n",
       "1 Dbxref=InterPro:IPR001073,InterPro:IPR011489,Pfam:PF00386,Pfam:PF07546\n",
       "2 Dbxref=InterPro:IPR001073,InterPro:IPR011489,Pfam:PF00386,Pfam:PF07546\n",
       "3 Dbxref=InterPro:IPR001073,InterPro:IPR011489,Pfam:PF00386,Pfam:PF07546\n",
       "4 Dbxref=InterPro:IPR001073,InterPro:IPR011489,Pfam:PF00386,Pfam:PF07546\n",
       "5 Dbxref=InterPro:IPR001073,InterPro:IPR011489,Pfam:PF00386,Pfam:PF07546\n",
       "6 Dbxref=InterPro:IPR001073,InterPro:IPR011489,Pfam:PF00386,Pfam:PF07546\n",
       "  go_term_dist                   go_term                  dist_bp\n",
       "1 Ontology_term=GO:0005515|16508 Ontology_term=GO:0005515 16508  \n",
       "2 Ontology_term=GO:0005515|0     Ontology_term=GO:0005515 0      \n",
       "3 Ontology_term=GO:0005515|0     Ontology_term=GO:0005515 0      \n",
       "4 Ontology_term=GO:0005515|0     Ontology_term=GO:0005515 0      \n",
       "5 Ontology_term=GO:0005515|0     Ontology_term=GO:0005515 0      \n",
       "6 Ontology_term=GO:0005515|0     Ontology_term=GO:0005515 0      "
      ]
     },
     "metadata": {},
     "output_type": "display_data"
    }
   ],
   "source": [
    "head(split)"
   ]
  },
  {
   "cell_type": "code",
   "execution_count": 45,
   "id": "601c9e2c",
   "metadata": {},
   "outputs": [
    {
     "data": {
      "text/html": [
       "<table>\n",
       "<thead><tr><th scope=col>gene_id</th><th scope=col>go_term</th></tr></thead>\n",
       "<tbody>\n",
       "\t<tr><td>APERC1_00013921      </td><td>GO:0005515           </td></tr>\n",
       "\t<tr><td>APERC1_00013924      </td><td>GO:0005576 GO:0009755</td></tr>\n",
       "\t<tr><td>APERC1_00013925      </td><td>GO:0004252 GO:0006508</td></tr>\n",
       "\t<tr><td>APERC1_00013926      </td><td>GO:0004252 GO:0006508</td></tr>\n",
       "\t<tr><td>APERC1_00013937      </td><td>GO:0005509           </td></tr>\n",
       "\t<tr><td>APERC1_00013938      </td><td>GO:0016616 GO:0055114</td></tr>\n",
       "</tbody>\n",
       "</table>\n"
      ],
      "text/latex": [
       "\\begin{tabular}{r|ll}\n",
       " gene\\_id & go\\_term\\\\\n",
       "\\hline\n",
       "\t APERC1\\_00013921     & GO:0005515           \\\\\n",
       "\t APERC1\\_00013924     & GO:0005576 GO:0009755\\\\\n",
       "\t APERC1\\_00013925     & GO:0004252 GO:0006508\\\\\n",
       "\t APERC1\\_00013926     & GO:0004252 GO:0006508\\\\\n",
       "\t APERC1\\_00013937     & GO:0005509           \\\\\n",
       "\t APERC1\\_00013938     & GO:0016616 GO:0055114\\\\\n",
       "\\end{tabular}\n"
      ],
      "text/markdown": [
       "\n",
       "| gene_id | go_term |\n",
       "|---|---|\n",
       "| APERC1_00013921       | GO:0005515            |\n",
       "| APERC1_00013924       | GO:0005576 GO:0009755 |\n",
       "| APERC1_00013925       | GO:0004252 GO:0006508 |\n",
       "| APERC1_00013926       | GO:0004252 GO:0006508 |\n",
       "| APERC1_00013937       | GO:0005509            |\n",
       "| APERC1_00013938       | GO:0016616 GO:0055114 |\n",
       "\n"
      ],
      "text/plain": [
       "  gene_id         go_term              \n",
       "1 APERC1_00013921 GO:0005515           \n",
       "2 APERC1_00013924 GO:0005576 GO:0009755\n",
       "3 APERC1_00013925 GO:0004252 GO:0006508\n",
       "4 APERC1_00013926 GO:0004252 GO:0006508\n",
       "5 APERC1_00013937 GO:0005509           \n",
       "6 APERC1_00013938 GO:0016616 GO:0055114"
      ]
     },
     "metadata": {},
     "output_type": "display_data"
    }
   ],
   "source": [
    "go_sl <- split[!is.na(gene_id), .(gene_id=gsub(\"ID=\", \"\", gene_id), go_term=gsub(\"Ontology_term=\", \"\", go_term))][, go_term:=gsub(\",\", \" \", go_term)][!is.na(go_term)]\n",
    "go_sl <- unique(go_sl, by=\"gene_id\")\n",
    "go_terms <- by(go_sl, go_sl$gene_id,function(x) setNames(x$go_term,x$name))\n",
    "head(go_sl)"
   ]
  },
  {
   "cell_type": "code",
   "execution_count": 49,
   "id": "9a627f1d",
   "metadata": {},
   "outputs": [],
   "source": [
    "go_sl <- split[!is.na(gene_id), .(gene_id=gsub(\"ID=\", \"\", gene_id), go_term=gsub(\"Ontology_term=\", \"\", go_term))][, go_term:=gsub(\",\", \" \", go_term)][!is.na(go_term)]\n",
    "go_sl_vec <- go_sl[, setNames(go_term, gene_id)]\n"
   ]
  },
  {
   "cell_type": "code",
   "execution_count": 64,
   "id": "0db8011d",
   "metadata": {},
   "outputs": [
    {
     "name": "stderr",
     "output_type": "stream",
     "text": [
      "Joining, by = c(\"locus\", \"Chromosome\")"
     ]
    }
   ],
   "source": [
    "sl_locus_lrt <- left_join(all_sl_bedops, lrt_filt_sl[pvalue>1, pvalue:=1])[, .(Chromosome, start, end, pvalue)]\n",
    "genes_score <- left_join(sl_locus_lrt, split[, .(seqid, start, feature_id)], by=\"start\")[, .(feature_id, pvalue)][!is.na(feature_id)]\n",
    "genes_score <- unique(genes_score, by=\"feature_id\")\n",
    "genes_score_vec <- genes_score[, setNames(pvalue, feature_id)]"
   ]
  },
  {
   "cell_type": "code",
   "execution_count": 135,
   "id": "f1f6a0e5",
   "metadata": {
    "scrolled": true
   },
   "outputs": [
    {
     "name": "stderr",
     "output_type": "stream",
     "text": [
      "\n",
      "Building most specific GOs .....\n",
      "\t( 83 GO terms found. )\n",
      "\n",
      "Build GO DAG topology ..........\n",
      "\t( 437 GO terms and 830 relations. )\n",
      "\n",
      "Annotating nodes ...............\n",
      "\t( 308 genes annotated to the GO terms. )\n"
     ]
    }
   ],
   "source": [
    "#make the topGo object\n",
    "sig <- max(candidates_sl$pvalue)\n",
    "#sig <- max(lrt_filt_sl_sig$pvalue)\n",
    "GOdata <- new(\"topGOdata\", description=\"go analysis of closest genes for a percula phenotype of sl\", ontology=\"BP\", allGenes=genes_score_vec, geneSel = function(foo) {foo < sig}, annotationFun=annFUN.gene2GO, gene2GO=go_sl_vec)"
   ]
  },
  {
   "cell_type": "code",
   "execution_count": 541,
   "id": "ed16d1de",
   "metadata": {},
   "outputs": [
    {
     "name": "stderr",
     "output_type": "stream",
     "text": [
      "Joining, by = c(\"locus\", \"Chromosome\")"
     ]
    }
   ],
   "source": [
    "sl_locus_lrt <- left_join(candidates_sl_bedops, lrt_filt_sl)[, .(Chromosome, start, end, LRT)]"
   ]
  },
  {
   "cell_type": "code",
   "execution_count": 136,
   "id": "734d4f47",
   "metadata": {},
   "outputs": [
    {
     "name": "stderr",
     "output_type": "stream",
     "text": [
      "\n",
      "\t\t\t -- Classic Algorithm -- \n",
      "\n",
      "\t\t the algorithm is scoring 437 nontrivial nodes\n",
      "\t\t parameters: \n",
      "\t\t\t test statistic: KS tests\n",
      "\t\t\t score order: increasing\n",
      "\n",
      "\t\t\t -- Classic Algorithm -- \n",
      "\n",
      "\t\t the algorithm is scoring 0 nontrivial nodes\n",
      "\t\t parameters: \n",
      "\t\t\t test statistic: Fisher test\n",
      "Warning message in .local(object, test.stat, ...):\n",
      "“No enrichment can pe performed - there are no feasible GO terms!”\n",
      "\t\t\t -- Weight Algorithm -- \n",
      "\n",
      "\t\t The algorithm is scoring 0 nontrivial nodes\n",
      "\t\t parameters: \n",
      "\t\t\t test statistic: Fisher test : ratio\n",
      "Warning message in getSigGroups(GOdata, test.stat):\n",
      "“No enrichment can pe performed - there are no feasible GO terms!”"
     ]
    }
   ],
   "source": [
    "#test.stat <- new(\"classicScore\", testStatistic = GOKSTest, name = \"KS tests\")\n",
    "#resultKS <- getSigGroups(GOdata, test.stat)\n",
    "#\n",
    "#test.stat <- new(\"classicCount\", testStatistic = GOFisherTest, name = \"Fisher test\")\n",
    "#resultFisher <- getSigGroups(GOdata, test.stat)\n",
    "\n",
    "test.stat <- new(\"weightCount\", testStatistic = GOFisherTest, name = \"Fisher test\", sigRatio = \"ratio\")\n",
    "resultWeight <- getSigGroups(GOdata, test.stat)"
   ]
  },
  {
   "cell_type": "code",
   "execution_count": 139,
   "id": "b83fa5f9",
   "metadata": {},
   "outputs": [],
   "source": [
    "allRes <- GenTable(GOdata, classic = resultFisher, KS = resultKS, weight = resultWeight, orderBy = \"KS\", ranksOf = \"classic\", topNodes = 40)"
   ]
  },
  {
   "cell_type": "code",
   "execution_count": 140,
   "id": "9071097c",
   "metadata": {},
   "outputs": [
    {
     "data": {
      "text/html": [
       "<table>\n",
       "<thead><tr><th scope=col>GO.ID</th><th scope=col>Term</th><th scope=col>Annotated</th><th scope=col>Significant</th><th scope=col>Expected</th><th scope=col>Rank in classic</th><th scope=col>classic</th><th scope=col>KS</th><th scope=col>weight</th></tr></thead>\n",
       "<tbody>\n",
       "\t<tr><td>GO:0034622                                 </td><td>cellular protein-containing complex asse...</td><td> 3                                         </td><td>0                                          </td><td>0                                          </td><td>1                                          </td><td>1                                          </td><td>0.052                                      </td><td>1                                          </td></tr>\n",
       "\t<tr><td>GO:0006399                                 </td><td>tRNA metabolic process                     </td><td> 2                                         </td><td>0                                          </td><td>0                                          </td><td>2                                          </td><td>1                                          </td><td>0.068                                      </td><td>1                                          </td></tr>\n",
       "\t<tr><td>GO:0008033                                 </td><td>tRNA processing                            </td><td> 2                                         </td><td>0                                          </td><td>0                                          </td><td>3                                          </td><td>1                                          </td><td>0.068                                      </td><td>1                                          </td></tr>\n",
       "\t<tr><td>GO:0051276                                 </td><td>chromosome organization                    </td><td> 3                                         </td><td>0                                          </td><td>0                                          </td><td>4                                          </td><td>1                                          </td><td>0.131                                      </td><td>1                                          </td></tr>\n",
       "\t<tr><td>GO:0006996                                 </td><td>organelle organization                     </td><td>10                                         </td><td>0                                          </td><td>0                                          </td><td>5                                          </td><td>1                                          </td><td>0.133                                      </td><td>1                                          </td></tr>\n",
       "\t<tr><td>GO:0070071                                 </td><td>proton-transporting two-sector ATPase co...</td><td> 2                                         </td><td>0                                          </td><td>0                                          </td><td>6                                          </td><td>1                                          </td><td>0.141                                      </td><td>1                                          </td></tr>\n",
       "</tbody>\n",
       "</table>\n"
      ],
      "text/latex": [
       "\\begin{tabular}{r|lllllllll}\n",
       " GO.ID & Term & Annotated & Significant & Expected & Rank in classic & classic & KS & weight\\\\\n",
       "\\hline\n",
       "\t GO:0034622                                  & cellular protein-containing complex asse... &  3                                          & 0                                           & 0                                           & 1                                           & 1                                           & 0.052                                       & 1                                          \\\\\n",
       "\t GO:0006399                                  & tRNA metabolic process                      &  2                                          & 0                                           & 0                                           & 2                                           & 1                                           & 0.068                                       & 1                                          \\\\\n",
       "\t GO:0008033                                  & tRNA processing                             &  2                                          & 0                                           & 0                                           & 3                                           & 1                                           & 0.068                                       & 1                                          \\\\\n",
       "\t GO:0051276                                  & chromosome organization                     &  3                                          & 0                                           & 0                                           & 4                                           & 1                                           & 0.131                                       & 1                                          \\\\\n",
       "\t GO:0006996                                  & organelle organization                      & 10                                          & 0                                           & 0                                           & 5                                           & 1                                           & 0.133                                       & 1                                          \\\\\n",
       "\t GO:0070071                                  & proton-transporting two-sector ATPase co... &  2                                          & 0                                           & 0                                           & 6                                           & 1                                           & 0.141                                       & 1                                          \\\\\n",
       "\\end{tabular}\n"
      ],
      "text/markdown": [
       "\n",
       "| GO.ID | Term | Annotated | Significant | Expected | Rank in classic | classic | KS | weight |\n",
       "|---|---|---|---|---|---|---|---|---|\n",
       "| GO:0034622                                  | cellular protein-containing complex asse... |  3                                          | 0                                           | 0                                           | 1                                           | 1                                           | 0.052                                       | 1                                           |\n",
       "| GO:0006399                                  | tRNA metabolic process                      |  2                                          | 0                                           | 0                                           | 2                                           | 1                                           | 0.068                                       | 1                                           |\n",
       "| GO:0008033                                  | tRNA processing                             |  2                                          | 0                                           | 0                                           | 3                                           | 1                                           | 0.068                                       | 1                                           |\n",
       "| GO:0051276                                  | chromosome organization                     |  3                                          | 0                                           | 0                                           | 4                                           | 1                                           | 0.131                                       | 1                                           |\n",
       "| GO:0006996                                  | organelle organization                      | 10                                          | 0                                           | 0                                           | 5                                           | 1                                           | 0.133                                       | 1                                           |\n",
       "| GO:0070071                                  | proton-transporting two-sector ATPase co... |  2                                          | 0                                           | 0                                           | 6                                           | 1                                           | 0.141                                       | 1                                           |\n",
       "\n"
      ],
      "text/plain": [
       "  GO.ID      Term                                        Annotated Significant\n",
       "1 GO:0034622 cellular protein-containing complex asse...  3        0          \n",
       "2 GO:0006399 tRNA metabolic process                       2        0          \n",
       "3 GO:0008033 tRNA processing                              2        0          \n",
       "4 GO:0051276 chromosome organization                      3        0          \n",
       "5 GO:0006996 organelle organization                      10        0          \n",
       "6 GO:0070071 proton-transporting two-sector ATPase co...  2        0          \n",
       "  Expected Rank in classic classic KS    weight\n",
       "1 0        1               1       0.052 1     \n",
       "2 0        2               1       0.068 1     \n",
       "3 0        3               1       0.068 1     \n",
       "4 0        4               1       0.131 1     \n",
       "5 0        5               1       0.133 1     \n",
       "6 0        6               1       0.141 1     "
      ]
     },
     "metadata": {},
     "output_type": "display_data"
    }
   ],
   "source": [
    "head(allRes)"
   ]
  },
  {
   "cell_type": "code",
   "execution_count": 126,
   "id": "5530912f",
   "metadata": {},
   "outputs": [],
   "source": [
    "#fwrite(allRes, \"/data/katrinac/APPC_sequencing/DNA/trimmed_reads/mapping/ensembl/genotypes/angsd/results/GO_table_BH_cutoff_sl.csv\")"
   ]
  },
  {
   "cell_type": "markdown",
   "id": "fdf2644f",
   "metadata": {
    "scrolled": true
   },
   "source": [
    "__make a table of genes and pvalues for results__"
   ]
  },
  {
   "cell_type": "code",
   "execution_count": 66,
   "id": "411304c2",
   "metadata": {},
   "outputs": [
    {
     "data": {
      "text/html": [
       "<table>\n",
       "<thead><tr><th scope=col>Chromosome</th><th scope=col>Position</th><th scope=col>gene_id</th><th scope=col>go_term</th><th scope=col>dist_bp</th></tr></thead>\n",
       "<tbody>\n",
       "\t<tr><td>chr1           </td><td>10004          </td><td>APERC1_00013921</td><td>GO:0005515     </td><td>16508          </td></tr>\n",
       "\t<tr><td>chr1           </td><td>32316          </td><td>APERC1_00013921</td><td>GO:0005515     </td><td>0              </td></tr>\n",
       "\t<tr><td>chr1           </td><td>32326          </td><td>APERC1_00013921</td><td>GO:0005515     </td><td>0              </td></tr>\n",
       "\t<tr><td>chr1           </td><td>32350          </td><td>APERC1_00013921</td><td>GO:0005515     </td><td>0              </td></tr>\n",
       "\t<tr><td>chr1           </td><td>32897          </td><td>APERC1_00013921</td><td>GO:0005515     </td><td>0              </td></tr>\n",
       "\t<tr><td>chr1           </td><td>33219          </td><td>APERC1_00013921</td><td>GO:0005515     </td><td>0              </td></tr>\n",
       "</tbody>\n",
       "</table>\n"
      ],
      "text/latex": [
       "\\begin{tabular}{r|lllll}\n",
       " Chromosome & Position & gene\\_id & go\\_term & dist\\_bp\\\\\n",
       "\\hline\n",
       "\t chr1              & 10004             & APERC1\\_00013921 & GO:0005515        & 16508            \\\\\n",
       "\t chr1              & 32316             & APERC1\\_00013921 & GO:0005515        & 0                \\\\\n",
       "\t chr1              & 32326             & APERC1\\_00013921 & GO:0005515        & 0                \\\\\n",
       "\t chr1              & 32350             & APERC1\\_00013921 & GO:0005515        & 0                \\\\\n",
       "\t chr1              & 32897             & APERC1\\_00013921 & GO:0005515        & 0                \\\\\n",
       "\t chr1              & 33219             & APERC1\\_00013921 & GO:0005515        & 0                \\\\\n",
       "\\end{tabular}\n"
      ],
      "text/markdown": [
       "\n",
       "| Chromosome | Position | gene_id | go_term | dist_bp |\n",
       "|---|---|---|---|---|\n",
       "| chr1            | 10004           | APERC1_00013921 | GO:0005515      | 16508           |\n",
       "| chr1            | 32316           | APERC1_00013921 | GO:0005515      | 0               |\n",
       "| chr1            | 32326           | APERC1_00013921 | GO:0005515      | 0               |\n",
       "| chr1            | 32350           | APERC1_00013921 | GO:0005515      | 0               |\n",
       "| chr1            | 32897           | APERC1_00013921 | GO:0005515      | 0               |\n",
       "| chr1            | 33219           | APERC1_00013921 | GO:0005515      | 0               |\n",
       "\n"
      ],
      "text/plain": [
       "  Chromosome Position gene_id         go_term    dist_bp\n",
       "1 chr1       10004    APERC1_00013921 GO:0005515 16508  \n",
       "2 chr1       32316    APERC1_00013921 GO:0005515 0      \n",
       "3 chr1       32326    APERC1_00013921 GO:0005515 0      \n",
       "4 chr1       32350    APERC1_00013921 GO:0005515 0      \n",
       "5 chr1       32897    APERC1_00013921 GO:0005515 0      \n",
       "6 chr1       33219    APERC1_00013921 GO:0005515 0      "
      ]
     },
     "metadata": {},
     "output_type": "display_data"
    }
   ],
   "source": [
    "sl_gff_join <- split[, .(Chromosome=seqid, Position=start+50, gene_id=gsub(\"ID=\", \"\", gene_id), go_term=gsub(\"Ontology_term=\", \"\", go_term), dist_bp)]\n",
    "sl_gene_join <- candidate_sl_bh[,.(Chromosome =paste0(\"chr\", Chromosome, \"\"), Position, Frequency, pvalue, locus)]\n",
    "sl_gene_ids <- (left_join(sl_gene_join, sl_gff_join))[!is.na(dist_bp)][, chrom_sig_0.05 := ifelse(locus %in% candidate_sl_chrom_bh$locus, \"yes\", \"no\")]\n",
    "#fwrite(sl_gene_ids, \"/data/katrinac/APPC_sequencing/DNA/trimmed_reads/mapping/ensembl/genotypes/angsd/results/genes_table_BH_cutoff_sl.csv\")"
   ]
  },
  {
   "cell_type": "markdown",
   "id": "ef0dddda",
   "metadata": {},
   "source": [
    "__for ucrit__"
   ]
  },
  {
   "cell_type": "code",
   "execution_count": 81,
   "id": "df0abcd7",
   "metadata": {},
   "outputs": [
    {
     "name": "stderr",
     "output_type": "stream",
     "text": [
      "Joining, by = c(\"locus\", \"Chromosome\")\n",
      "Building most specific GOs .....\n",
      "\t( 88 GO terms found. )\n",
      "\n",
      "Build GO DAG topology ..........\n",
      "\t( 454 GO terms and 869 relations. )\n",
      "\n",
      "Annotating nodes ...............\n",
      "\t( 335 genes annotated to the GO terms. )\n",
      "\n",
      "\t\t\t -- Classic Algorithm -- \n",
      "\n",
      "\t\t the algorithm is scoring 454 nontrivial nodes\n",
      "\t\t parameters: \n",
      "\t\t\t test statistic: KS tests\n",
      "\t\t\t score order: increasing\n",
      "\n",
      "\t\t\t -- Classic Algorithm -- \n",
      "\n",
      "\t\t the algorithm is scoring 83 nontrivial nodes\n",
      "\t\t parameters: \n",
      "\t\t\t test statistic: Fisher test\n",
      "\n",
      "\t\t\t -- Weight Algorithm -- \n",
      "\n",
      "\t\t The algorithm is scoring 83 nontrivial nodes\n",
      "\t\t parameters: \n",
      "\t\t\t test statistic: Fisher test : ratio\n",
      "\n",
      "\t Level 9:\t2 nodes to be scored.\n",
      "\n",
      "\t Level 8:\t4 nodes to be scored.\n",
      "\n",
      "\t Level 7:\t6 nodes to be scored.\n",
      "\n",
      "\t Level 6:\t12 nodes to be scored.\n",
      "\n",
      "\t Level 5:\t15 nodes to be scored.\n",
      "\n",
      "\t Level 4:\t19 nodes to be scored.\n",
      "\n",
      "\t Level 3:\t15 nodes to be scored.\n",
      "\n",
      "\t Level 2:\t9 nodes to be scored.\n",
      "\n",
      "\t Level 1:\t1 nodes to be scored.\n"
     ]
    }
   ],
   "source": [
    "#load in the gff file from closest-feature\n",
    "gff_names <- c(\"seqid\", \"start\",\"locus\", \"feature_start\", \"feature_end\", \"feature_id\", \"score\", \"strand\", \"unkn\", \"feature_type\", \"phase\", \"attributes\")\n",
    "ucrit_nearest <- fread(\"/data/katrinac/APPC_sequencing/DNA/trimmed_reads/mapping/ensembl/genotypes/angsd/results/sorted_all_ucrit_100bp_percula_nearest.bed\", sep=\"\\t\", fill = T)\n",
    "setnames(ucrit_nearest, gff_names)\n",
    "\n",
    "split <- ucrit_nearest[, c('gene_id', 'protein_family', 'go_term_dist'):= tstrsplit(attributes, \";\")][, c('go_term', 'dist_bp'):= tstrsplit(go_term_dist, \"|\", fixed=T),by=\"gene_id\"]\n",
    "\n",
    "ucrit_locus_lrt <- left_join(all_ucrit_bedops, lrt_filt_ucrit[,Chromosome := paste0(\"chr\", Chromosome, \"\")][pvalue>1, pvalue:=1])[, .(Chromosome, start, end, pvalue)]\n",
    "genes_score <- left_join(ucrit_locus_lrt, split[, .(seqid, start, feature_id)], by=\"start\")[, .(feature_id, pvalue)][!is.na(feature_id)]\n",
    "genes_score <- unique(genes_score, by=\"feature_id\")\n",
    "genes_score_vec <- genes_score[, setNames(pvalue, feature_id)]\n",
    "\n",
    "go_ucrit <- split[!is.na(gene_id), .(gene_id=gsub(\"ID=\", \"\", gene_id), go_term=gsub(\"Ontology_term=\", \"\", go_term))][, go_term:=gsub(\",\", \" \", go_term)][!is.na(go_term)]\n",
    "go_ucrit_vec <- go_ucrit[, setNames(go_term, gene_id)]\n",
    "\n",
    "sig <- max(candidates_ucrit$pvalue)\n",
    "#sig <- max(lrt_filt_ucrit_sig$pvalue)\n",
    "GOdata <- new(\"topGOdata\", description=\"go analysis of closest genes for a percula phenotype of ucrit\", ontology=\"BP\", allGenes=genes_score_vec, geneSel = function(foo) {foo < sig}, annotationFun=annFUN.gene2GO, gene2GO=go_ucrit_vec)\n",
    "\n",
    "test.stat <- new(\"classicScore\", testStatistic = GOKSTest, name = \"KS tests\")\n",
    "resultKS <- getSigGroups(GOdata, test.stat)\n",
    "\n",
    "test.stat <- new(\"classicCount\", testStatistic = GOFisherTest, name = \"Fisher test\")\n",
    "resultFisher <- getSigGroups(GOdata, test.stat)\n",
    "pValue.classic <- score(resultFisher)\n",
    "\n",
    "test.stat <- new(\"weightCount\", testStatistic = GOFisherTest, name = \"Fisher test\", sigRatio = \"ratio\")\n",
    "resultWeight <- getSigGroups(GOdata, test.stat)\n",
    "\n",
    "allRes <- GenTable(GOdata, classic = resultFisher, KS = resultKS, weight = resultWeight, orderBy = \"classic\", ranksOf = \"classic\", topNodes = 40)"
   ]
  },
  {
   "cell_type": "code",
   "execution_count": 100,
   "id": "998da95e",
   "metadata": {},
   "outputs": [],
   "source": [
    "pValue.classic <- score(resultFisher)\n",
    "allRes <- GenTable(GOdata, classic = resultFisher, KS = resultKS, weight = resultWeight, orderBy = \"classic\", ranksOf = \"classic\", topNodes = 40)"
   ]
  },
  {
   "cell_type": "code",
   "execution_count": 134,
   "id": "9fc3a640",
   "metadata": {},
   "outputs": [],
   "source": [
    "fwrite(allRes, \"/data/katrinac/APPC_sequencing/DNA/trimmed_reads/mapping/ensembl/genotypes/angsd/results/GO_table_null_cutoff_ucrit.csv\")"
   ]
  },
  {
   "cell_type": "markdown",
   "id": "fc4061b3",
   "metadata": {
    "scrolled": true
   },
   "source": [
    "__make a table of genes and pvalues for results__"
   ]
  },
  {
   "cell_type": "code",
   "execution_count": 97,
   "id": "a645937a",
   "metadata": {},
   "outputs": [
    {
     "name": "stderr",
     "output_type": "stream",
     "text": [
      "Joining, by = c(\"Chromosome\", \"Position\")"
     ]
    }
   ],
   "source": [
    "ucrit_gff_join <- split[, .(Chromosome=seqid, Position=start+50, gene_id=gsub(\"ID=\", \"\", gene_id), go_term=gsub(\"Ontology_term=\", \"\", go_term), dist_bp)]\n",
    "ucrit_gene_join <- candidates_ucrit[,.(Chromosome =paste0(\"chr\", Chromosome, \"\"), Position, Frequency, pvalue, locus)]\n",
    "ucrit_gene_ids <- (left_join(ucrit_gene_join, ucrit_gff_join))[!is.na(dist_bp)][, chrom_sig_0.05 := ifelse(locus %in% candidate_ucrit_chrom_bh$locus, \"yes\", \"no\")][order(pvalue)]\n",
    "fwrite(ucrit_gene_ids, \"/data/katrinac/APPC_sequencing/DNA/trimmed_reads/mapping/ensembl/genotypes/angsd/results/genes_table_BH_cutoff_ucrit.csv\")"
   ]
  },
  {
   "cell_type": "code",
   "execution_count": 367,
   "id": "cb3f7274",
   "metadata": {},
   "outputs": [],
   "source": [
    "candidates_ucrit[,prop_var_exp :=  (2*(beta^2)*Frequency*(1-Frequency))/(2*(beta^2)*Frequency*(1-Frequency)+((SE*(beta))^2)*2*N*Frequency*(1-Frequency)), by=locus]"
   ]
  },
  {
   "cell_type": "code",
   "execution_count": 372,
   "id": "f3982c0d",
   "metadata": {},
   "outputs": [
    {
     "data": {
      "text/html": [
       "<table>\n",
       "<thead><tr><th scope=col>Chromosome</th><th scope=col>Position</th><th scope=col>Major</th><th scope=col>Minor</th><th scope=col>Frequency</th><th scope=col>N</th><th scope=col>LRT</th><th scope=col>high_WT/HE/HO</th><th scope=col>LRTem</th><th scope=col>beta</th><th scope=col>SE</th><th scope=col>emIter</th><th scope=col>locus</th><th scope=col>pvalue</th><th scope=col>SNP</th><th scope=col>quantile</th><th scope=col>exp_lrt_ucrit</th><th scope=col>rank</th><th scope=col>padjBH</th><th scope=col>prop_var_exp</th></tr></thead>\n",
       "<tbody>\n",
       "\t<tr><td>3             </td><td>37551804      </td><td>G             </td><td>A             </td><td>0.220549      </td><td>159           </td><td>11.981164     </td><td>11/10/0       </td><td>95.487181     </td><td> 5.624267     </td><td>0.156675      </td><td>21            </td><td>3:37551804    </td><td>0.0002883924  </td><td>r15995        </td><td>0.9998946     </td><td>15.05037      </td><td> 15           </td><td>0.000022584579</td><td>0.20395752    </td></tr>\n",
       "\t<tr><td>14            </td><td>28287841      </td><td>A             </td><td>T             </td><td>0.152335      </td><td>159           </td><td>13.690129     </td><td>29/12/0       </td><td>93.170741     </td><td> 5.620407     </td><td>0.158527      </td><td>37            </td><td>14:28287841   </td><td>0.0001147975  </td><td>r81927        </td><td>0.9999699     </td><td>16.34551      </td><td>  5           </td><td>0.000007528193</td><td>0.20016819    </td></tr>\n",
       "\t<tr><td>21            </td><td>26341056      </td><td>C             </td><td>T             </td><td>0.177783      </td><td>159           </td><td>12.641801     </td><td>20/12/0       </td><td>83.515645     </td><td>-5.570075     </td><td>0.168762      </td><td>37            </td><td>21:26341056   </td><td>0.0002017778  </td><td>r118772       </td><td>0.9999172     </td><td>15.53038      </td><td> 12           </td><td>0.000018067663</td><td>0.18088359    </td></tr>\n",
       "\t<tr><td>16            </td><td>  810564      </td><td>A             </td><td>T             </td><td>0.191451      </td><td>159           </td><td>10.378499     </td><td>10/12/0       </td><td>80.107630     </td><td>-5.563156     </td><td>0.171483      </td><td>27            </td><td>16:810564     </td><td>0.0006905265  </td><td>r90509        </td><td>0.9997666     </td><td>13.95036      </td><td> 32           </td><td>0.000048180436</td><td>0.17619218    </td></tr>\n",
       "\t<tr><td>13            </td><td>36077586      </td><td>C             </td><td>T             </td><td>0.254284      </td><td>159           </td><td> 7.470297     </td><td>10/12/0       </td><td>23.391575     </td><td>-4.419535     </td><td>0.377870      </td><td>40            </td><td>13:36077586   </td><td>0.0034840690  </td><td>r76273        </td><td>0.9984116     </td><td>10.05059      </td><td>212           </td><td>0.000319195387</td><td>0.04218887    </td></tr>\n",
       "\t<tr><td>10            </td><td>28807129      </td><td>A             </td><td>G             </td><td>0.412343      </td><td>159           </td><td> 8.493882     </td><td>24/45/10      </td><td> 8.684625     </td><td>-1.206409     </td><td>0.411977      </td><td> 5            </td><td>10:28807129   </td><td>0.0019585466  </td><td>r59683        </td><td>0.9990740     </td><td>11.15528      </td><td>124           </td><td>0.000186699188</td><td>0.03573179    </td></tr>\n",
       "</tbody>\n",
       "</table>\n"
      ],
      "text/latex": [
       "\\begin{tabular}{r|llllllllllllllllllll}\n",
       " Chromosome & Position & Major & Minor & Frequency & N & LRT & high\\_WT/HE/HO & LRTem & beta & SE & emIter & locus & pvalue & SNP & quantile & exp\\_lrt\\_ucrit & rank & padjBH & prop\\_var\\_exp\\\\\n",
       "\\hline\n",
       "\t 3              & 37551804       & G              & A              & 0.220549       & 159            & 11.981164      & 11/10/0        & 95.487181      &  5.624267      & 0.156675       & 21             & 3:37551804     & 0.0002883924   & r15995         & 0.9998946      & 15.05037       &  15            & 0.000022584579 & 0.20395752    \\\\\n",
       "\t 14             & 28287841       & A              & T              & 0.152335       & 159            & 13.690129      & 29/12/0        & 93.170741      &  5.620407      & 0.158527       & 37             & 14:28287841    & 0.0001147975   & r81927         & 0.9999699      & 16.34551       &   5            & 0.000007528193 & 0.20016819    \\\\\n",
       "\t 21             & 26341056       & C              & T              & 0.177783       & 159            & 12.641801      & 20/12/0        & 83.515645      & -5.570075      & 0.168762       & 37             & 21:26341056    & 0.0002017778   & r118772        & 0.9999172      & 15.53038       &  12            & 0.000018067663 & 0.18088359    \\\\\n",
       "\t 16             &   810564       & A              & T              & 0.191451       & 159            & 10.378499      & 10/12/0        & 80.107630      & -5.563156      & 0.171483       & 27             & 16:810564      & 0.0006905265   & r90509         & 0.9997666      & 13.95036       &  32            & 0.000048180436 & 0.17619218    \\\\\n",
       "\t 13             & 36077586       & C              & T              & 0.254284       & 159            &  7.470297      & 10/12/0        & 23.391575      & -4.419535      & 0.377870       & 40             & 13:36077586    & 0.0034840690   & r76273         & 0.9984116      & 10.05059       & 212            & 0.000319195387 & 0.04218887    \\\\\n",
       "\t 10             & 28807129       & A              & G              & 0.412343       & 159            &  8.493882      & 24/45/10       &  8.684625      & -1.206409      & 0.411977       &  5             & 10:28807129    & 0.0019585466   & r59683         & 0.9990740      & 11.15528       & 124            & 0.000186699188 & 0.03573179    \\\\\n",
       "\\end{tabular}\n"
      ],
      "text/markdown": [
       "\n",
       "| Chromosome | Position | Major | Minor | Frequency | N | LRT | high_WT/HE/HO | LRTem | beta | SE | emIter | locus | pvalue | SNP | quantile | exp_lrt_ucrit | rank | padjBH | prop_var_exp |\n",
       "|---|---|---|---|---|---|---|---|---|---|---|---|---|---|---|---|---|---|---|---|\n",
       "| 3              | 37551804       | G              | A              | 0.220549       | 159            | 11.981164      | 11/10/0        | 95.487181      |  5.624267      | 0.156675       | 21             | 3:37551804     | 0.0002883924   | r15995         | 0.9998946      | 15.05037       |  15            | 0.000022584579 | 0.20395752     |\n",
       "| 14             | 28287841       | A              | T              | 0.152335       | 159            | 13.690129      | 29/12/0        | 93.170741      |  5.620407      | 0.158527       | 37             | 14:28287841    | 0.0001147975   | r81927         | 0.9999699      | 16.34551       |   5            | 0.000007528193 | 0.20016819     |\n",
       "| 21             | 26341056       | C              | T              | 0.177783       | 159            | 12.641801      | 20/12/0        | 83.515645      | -5.570075      | 0.168762       | 37             | 21:26341056    | 0.0002017778   | r118772        | 0.9999172      | 15.53038       |  12            | 0.000018067663 | 0.18088359     |\n",
       "| 16             |   810564       | A              | T              | 0.191451       | 159            | 10.378499      | 10/12/0        | 80.107630      | -5.563156      | 0.171483       | 27             | 16:810564      | 0.0006905265   | r90509         | 0.9997666      | 13.95036       |  32            | 0.000048180436 | 0.17619218     |\n",
       "| 13             | 36077586       | C              | T              | 0.254284       | 159            |  7.470297      | 10/12/0        | 23.391575      | -4.419535      | 0.377870       | 40             | 13:36077586    | 0.0034840690   | r76273         | 0.9984116      | 10.05059       | 212            | 0.000319195387 | 0.04218887     |\n",
       "| 10             | 28807129       | A              | G              | 0.412343       | 159            |  8.493882      | 24/45/10       |  8.684625      | -1.206409      | 0.411977       |  5             | 10:28807129    | 0.0019585466   | r59683         | 0.9990740      | 11.15528       | 124            | 0.000186699188 | 0.03573179     |\n",
       "\n"
      ],
      "text/plain": [
       "  Chromosome Position Major Minor Frequency N   LRT       high_WT/HE/HO\n",
       "1 3          37551804 G     A     0.220549  159 11.981164 11/10/0      \n",
       "2 14         28287841 A     T     0.152335  159 13.690129 29/12/0      \n",
       "3 21         26341056 C     T     0.177783  159 12.641801 20/12/0      \n",
       "4 16           810564 A     T     0.191451  159 10.378499 10/12/0      \n",
       "5 13         36077586 C     T     0.254284  159  7.470297 10/12/0      \n",
       "6 10         28807129 A     G     0.412343  159  8.493882 24/45/10     \n",
       "  LRTem     beta      SE       emIter locus       pvalue       SNP    \n",
       "1 95.487181  5.624267 0.156675 21     3:37551804  0.0002883924 r15995 \n",
       "2 93.170741  5.620407 0.158527 37     14:28287841 0.0001147975 r81927 \n",
       "3 83.515645 -5.570075 0.168762 37     21:26341056 0.0002017778 r118772\n",
       "4 80.107630 -5.563156 0.171483 27     16:810564   0.0006905265 r90509 \n",
       "5 23.391575 -4.419535 0.377870 40     13:36077586 0.0034840690 r76273 \n",
       "6  8.684625 -1.206409 0.411977  5     10:28807129 0.0019585466 r59683 \n",
       "  quantile  exp_lrt_ucrit rank padjBH         prop_var_exp\n",
       "1 0.9998946 15.05037       15  0.000022584579 0.20395752  \n",
       "2 0.9999699 16.34551        5  0.000007528193 0.20016819  \n",
       "3 0.9999172 15.53038       12  0.000018067663 0.18088359  \n",
       "4 0.9997666 13.95036       32  0.000048180436 0.17619218  \n",
       "5 0.9984116 10.05059      212  0.000319195387 0.04218887  \n",
       "6 0.9990740 11.15528      124  0.000186699188 0.03573179  "
      ]
     },
     "metadata": {},
     "output_type": "display_data"
    }
   ],
   "source": [
    "head(candidates_ucrit[order(-prop_var_exp)])"
   ]
  },
  {
   "cell_type": "code",
   "execution_count": null,
   "id": "477d8895",
   "metadata": {},
   "outputs": [],
   "source": [
    "Proportion of variance in phenotype explained by a given SNP (PVE) = [2*(beta^2)*MAF*(1-MAF)]/[2*(beta^2)*MAF(1-MAF)+((se(beta))^2)*2*N*MAF*(1-MAF)]\n",
    "where:\n",
    "N - sample size\n",
    "se(beta) - standard error of effect size for the genetic variant of interest\n",
    "beta - effect size for the genetic variant of interest\n",
    "MAF - minor allele frequency for the genetic variant of interest\n",
    "it is described in:\n",
    "Shim, H., Chasman, D.I., Smith, J.D., Mora, S., Ridker, P.M., Nickerson, D.A., Krauss, R.M., and Stephens, M. (2015). A multivariate genome-wide association analysis of 10 LDL subfractions, and their response to statin treatment, in 1868 Caucasians. PLoS One 10, e0120758.\n",
    "Supplementary Information: S1: Computing proportion of variance in phenotype explained by a given SNP (PVE)."
   ]
  }
 ],
 "metadata": {
  "kernelspec": {
   "display_name": "R",
   "language": "R",
   "name": "ir"
  },
  "language_info": {
   "codemirror_mode": "r",
   "file_extension": ".r",
   "mimetype": "text/x-r-source",
   "name": "R",
   "pygments_lexer": "r",
   "version": "3.6.1"
  }
 },
 "nbformat": 4,
 "nbformat_minor": 5
}
