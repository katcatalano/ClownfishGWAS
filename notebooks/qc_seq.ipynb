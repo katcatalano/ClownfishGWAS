{
 "cells": [
  {
   "cell_type": "markdown",
   "id": "0eba58b3",
   "metadata": {},
   "source": [
    "__Run basic contamination screening and fastqc. perform mapping and alignment, following this tutorial https://www.biostars.org/p/41951/__"
   ]
  },
  {
   "cell_type": "code",
   "execution_count": null,
   "id": "2b4fd2d0",
   "metadata": {},
   "outputs": [],
   "source": [
    "%cd ~/ClownfishGWAS/data/APPC_sequencing/ultraplex_out/fastq_screen/2022-02-07-fastq_screen/\n"
   ]
  },
  {
   "cell_type": "code",
   "execution_count": null,
   "id": "beef1d1e",
   "metadata": {},
   "outputs": [],
   "source": [
    "#make a list of read filenames to use for next loops\n",
    "!ls *R2.fastq.gz > filenames\n",
    "!sed -i'' -e 's/R2.fastq.gz//g' filenames #remove the extension"
   ]
  },
  {
   "cell_type": "code",
   "execution_count": 38,
   "id": "d7e2fbe5",
   "metadata": {},
   "outputs": [
    {
     "name": "stdout",
     "output_type": "stream",
     "text": [
      "/local/home/katrinac/ClownfishGWAS/data/APPC_sequencing/DNA\n"
     ]
    }
   ],
   "source": [
    "#there are some samples fastqc failed for both reads per base seuqence content, use samtools/bamstats to look at how those aligned versus samples that didn't fail\n",
    "%cd ~/ClownfishGWAS/data/APPC_sequencing/DNA\n",
    "!samtools stats Pop01_APPC1921.F.bam > troubleshoot_reads/Pop01_APPC1921.F.stats\n",
    "!samtools stats Pop07_APPC2603.F.bam > troubleshoot_reads/Pop07_APPC2603.F.stats\n"
   ]
  },
  {
   "cell_type": "code",
   "execution_count": null,
   "id": "f80f05cb",
   "metadata": {},
   "outputs": [],
   "source": [
    "#screen for contamination and filter out tagged reads simultaneously, filter 1 means keep only reads that mapped exclusively to the reference for A. percula. since this is already done for the read 1 files, just need to do it for the read 2 files that I cut the barcode from  \n",
    "!for i in /local/home/katrinac/ClownfishGWAS/data/APPC_sequencing/ultraplex_out/fastq_screen/*.cut.fastq.gz; do fastq_screen --tag --filter 1 --threads 32 --outdir /local/home/katrinac/ClownfishGWAS/data/APPC_sequencing/ultraplex_out/fastq_screen/ $i; done"
   ]
  },
  {
   "cell_type": "code",
   "execution_count": null,
   "id": "34d52dc3",
   "metadata": {},
   "outputs": [],
   "source": [
    "#run fastqc \n",
    "!for i in /local/home/katrinac/ClownfishGWAS/data/APPC_sequencing/ultraplex_out/fastq_screen/*tagged_filter.fastq.gz; do fastqc -t 6 *tagged_filter.fastq.gz  $i; done"
   ]
  },
  {
   "cell_type": "code",
   "execution_count": null,
   "id": "f2950abb",
   "metadata": {},
   "outputs": [],
   "source": [
    "#visualize sequencing quality for all samples in trimmed_reads directory. check that all barcode sequences are removed\n",
    "!multiqc ."
   ]
  },
  {
   "cell_type": "code",
   "execution_count": null,
   "id": "3f1d6c9d",
   "metadata": {},
   "outputs": [],
   "source": [
    "!zcat CAP1_APPC_16.11.R1.fastq.gz | head\n",
    "!zcat CAP1_APPC_16.11.R2.fastq.gz | head\n",
    "\n"
   ]
  },
  {
   "cell_type": "code",
   "execution_count": 45,
   "id": "0675d967",
   "metadata": {},
   "outputs": [
    {
     "name": "stdout",
     "output_type": "stream",
     "text": [
      "/local/home/katrinac/ClownfishGWAS/data/APPC_sequencing/DNA\n",
      "[W::sam_read1] Parse error at line 368\n",
      "Failure while decoding file\n"
     ]
    }
   ],
   "source": [
    "#okay, from the fastqc html, looks like the read 2 file needed trimming to about 15bp\n",
    "#get mapping stats for sample\n",
    "%cd ~/ClownfishGWAS/data/APPC_sequencing/DNA/\n",
    "\n",
    "!samtools stats  ~/ClownfishGWAS/data/APPC_sequencing/DNA/Pop01_APPC1611.F.bam > troubleshoot_reads/Pop01_APPC1611.F.stats\n",
    "\n",
    "#trim with cutadapt, and then remap to the reference\n",
    "#get the mapping stats again"
   ]
  },
  {
   "cell_type": "code",
   "execution_count": null,
   "id": "b96afad6",
   "metadata": {},
   "outputs": [],
   "source": [
    "#trim with cutadapt to remove 17 bp 5', and then remap to the reference\n",
    "cutadapt -U 17 -o  /local/home/katrinac/ClownfishGWAS/data/APPC_sequencing/DNA/troubleshoot_reads/Pop01_APPC1611.R1.cut.fastq.gz -p /local/home/katrinac/ClownfishGWAS/data/APPC_sequencing/DNA/troubleshoot_reads/Pop01_APPC1611.R2.cut.fastq.gz  /local/home/katrinac/ClownfishGWAS/data/APPC_sequencing/DNA/trimmed_reads/Pop01_APPC1611.R1.fq.gz  /local/home/katrinac/ClownfishGWAS/data/APPC_sequencing/DNA/trimmed_reads/Pop01_APPC1611.R2.fq.gz"
   ]
  },
  {
   "cell_type": "code",
   "execution_count": 50,
   "id": "ba88ac94",
   "metadata": {},
   "outputs": [],
   "source": [
    "#make bwa index for reference fasta to use in mapping\n",
    "#!bwa index /local/home/katrinac/ClownfishGWAS/data/APPC_sequencing/Genome/reference.fasta\n",
    "\n",
    "#map again\n",
    "!bwa mem -t 34 -M -R \"@RG\\tID:$i\\tSM:$i\\tPL:Illumina\" /local/home/katrinac/ClownfishGWAS/data/APPC_sequencing/DNA/reference.fasta /local/home/katrinac/ClownfishGWAS/data/APPC_sequencing/DNA/troubleshoot_reads/Pop01_APPC1611.R1.cut.fastq.gz /local/home/katrinac/ClownfishGWAS/data/APPC_sequencing/DNA/troubleshoot_reads/Pop01_APPC1611.R2.cut.fastq.gz  2> bwa.$i.log | samtools sort -@ 34 -o /local/home/katrinac/ClownfishGWAS/data/APPC_sequencing/DNA/troubleshoot_reads/Pop01_APPC1611.cut-RG.bam 2> /local/home/katrinac/ClownfishGWAS/data/APPC_sequencing/DNA/troubleshoot_reads/Pop01_APPC1611.cut.bam.log  "
   ]
  },
  {
   "cell_type": "code",
   "execution_count": 51,
   "id": "c2ea83d5",
   "metadata": {},
   "outputs": [],
   "source": [
    "#get mapping stats again\n",
    "!samtools stats  /local/home/katrinac/ClownfishGWAS/data/APPC_sequencing/DNA/troubleshoot_reads/Pop01_APPC1611.cut-RG.bam > troubleshoot_reads/Pop01_APPC1611.cut-RG.stats\n"
   ]
  },
  {
   "cell_type": "code",
   "execution_count": 53,
   "id": "2d4d80ba",
   "metadata": {},
   "outputs": [],
   "source": [
    "!bwa mem -t 34 -M -R \"@RG\\tID:$i\\tSM:$i\\tPL:Illumina\" /local/home/katrinac/ClownfishGWAS/data/APPC_sequencing/DNA/reference.fasta /local/home/katrinac/ClownfishGWAS/data/APPC_sequencing/DNA/trimmed_reads/Pop01_APPC1611.R1.fq.gz /local/home/katrinac/ClownfishGWAS/data/APPC_sequencing/DNA/trimmed_reads/Pop01_APPC1611.R2.fq.gz  2> bwa.$i.log | samtools sort -@ 34 -o /local/home/katrinac/ClownfishGWAS/data/APPC_sequencing/DNA/troubleshoot_reads/Pop01_APPC1611-RG.bam 2> /local/home/katrinac/ClownfishGWAS/data/APPC_sequencing/DNA/troubleshoot_reads/Pop01_APPC1611.bam.log  "
   ]
  },
  {
   "cell_type": "code",
   "execution_count": 54,
   "id": "d6ea034a",
   "metadata": {},
   "outputs": [],
   "source": [
    "!samtools stats  /local/home/katrinac/ClownfishGWAS/data/APPC_sequencing/DNA/troubleshoot_reads/Pop01_APPC1611-RG.bam > troubleshoot_reads/Pop01_APPC1611-RG.stats\n"
   ]
  },
  {
   "cell_type": "code",
   "execution_count": null,
   "id": "ee6d0f3b",
   "metadata": {},
   "outputs": [],
   "source": [
    "#awesome! looks like both cut and uncut map pretty well. Trim the read 2 files that failed super hard with cutadapt, and then remap\n",
    "for i in $(cat filenames); do cutadapt -U 7 -o /local/home/katrinac/ClownfishGWAS/data/APPC_sequencing/DNA/trimmed_reads/mapping/$i\\.R1.cut.fastq.gz -p /local/home/katrinac/ClownfishGWAS/data/APPC_sequencing/DNA/trimmed_reads/mapping/$i\\.R2.cut.fastq.gz /local/home/katrinac/ClownfishGWAS/data/APPC_sequencing/DNA/trimmed_reads/$i\\.R1.fq.gz /local/home/katrinac/ClownfishGWAS/data/APPC_sequencing/DNA/trimmed_reads/$i\\.R2.fq.gz; done"
   ]
  },
  {
   "cell_type": "code",
   "execution_count": null,
   "id": "571c5120",
   "metadata": {},
   "outputs": [],
   "source": [
    "#stopping here 02/08/2022- also the missing file in the DNA directory is the replicate 3601-\n",
    "Pop16_sample_TAGCTT.1.fq.gz"
   ]
  },
  {
   "cell_type": "code",
   "execution_count": 64,
   "id": "2e4f57bf",
   "metadata": {},
   "outputs": [
    {
     "name": "stdout",
     "output_type": "stream",
     "text": [
      "/local/home/katrinac/ClownfishGWAS/data/APPC_sequencing/DNA/trimmed_reads/mapping\r\n"
     ]
    }
   ],
   "source": [
    "!pwd\n"
   ]
  },
  {
   "cell_type": "code",
   "execution_count": 57,
   "id": "3f947b4b",
   "metadata": {},
   "outputs": [],
   "source": [
    "#redo mapping for all samples\n",
    "!for i in $(cat filenames); do bwa mem -t 34 -M -R \"@RG\\tID:$i\\tSM:$i\\tPL:Illumina\" /local/home/katrinac/ClownfishGWAS/data/APPC_sequencing/DNA/reference.fasta /local/home/katrinac/ClownfishGWAS/data/APPC_sequencing/DNA/trimmed_reads/mapping/$i.R1.cut.fastq.gz /local/home/katrinac/ClownfishGWAS/data/APPC_sequencing/DNA/trimmed_reads/mapping/$i.R2.cut.fastq.gz  2> bwa.$i.log | samtools sort -@ 34 -o /local/home/katrinac/ClownfishGWAS/data/APPC_sequencing/DNA/trimmed_reads/mapping/$i-RG.bam 2> /local/home/katrinac/ClownfishGWAS/data/APPC_sequencing/DNA/trimmed_reads/mapping/$i.bam.log; done  \n"
   ]
  },
  {
   "cell_type": "code",
   "execution_count": 58,
   "id": "5b0dcdab",
   "metadata": {},
   "outputs": [],
   "source": [
    "#how did it go?\n",
    "!samtools stats  /local/home/katrinac/ClownfishGWAS/data/APPC_sequencing/DNA/trimmed_reads/mapping/Pop16_APPC4215-RG.bam > trimmed_reads/mapping/Pop16_APPC4215-RG.stats\n",
    "!samtools stats  /local/home/katrinac/ClownfishGWAS/data/APPC_sequencing/DNA/Pop01_APPC2907.F.bam > troubleshoot_reads/Pop01_APPC2907.F.stats\n",
    "#woohoo! almost 3.5x more mapped reads and 95% of reads properly paired\n",
    "113175058/33542679"
   ]
  },
  {
   "cell_type": "code",
   "execution_count": 59,
   "id": "049a4141",
   "metadata": {},
   "outputs": [
    {
     "name": "stdout",
     "output_type": "stream",
     "text": [
      "/local/home/katrinac/ClownfishGWAS/data/APPC_sequencing/DNA/trimmed_reads/mapping\n"
     ]
    }
   ],
   "source": [
    "%cd ~/ClownfishGWAS/data/APPC_sequencing/DNA/trimmed_reads/mapping/\n"
   ]
  },
  {
   "cell_type": "code",
   "execution_count": 82,
   "id": "721e161d",
   "metadata": {},
   "outputs": [
    {
     "name": "stdout",
     "output_type": "stream",
     "text": [
      "Academic tradition requires you to cite works you base your article on.\r\n",
      "When using programs that use GNU Parallel to process data for publication\r\n",
      "please cite:\r\n",
      "\r\n",
      "  O. Tange (2011): GNU Parallel - The Command-Line Power Tool,\r\n",
      "  ;login: The USENIX Magazine, February 2011:42-47.\r\n",
      "\r\n",
      "This helps funding further development; AND IT WON'T COST YOU A CENT.\r\n",
      "If you pay 10000 EUR you should feel free to use GNU Parallel without citing.\r\n",
      "\r\n",
      "To silence the citation notice: run 'parallel --citation'.\r\n",
      "\r\n"
     ]
    }
   ],
   "source": [
    "#mark duplicates, from Jon's script, remember to cite Jon and GNU parallel\n",
    "!cat /local/home/katrinac/ClownfishGWAS/data/APPC_sequencing/DNA/filenames | parallel -j 8 \"java -Xms4g -jar /local/home/katrinac/miniconda3/envs/commandline/bin/picard.jar MarkDuplicates I={}-RG.bam O={}-RGrd.bam M={}_dup_metrics.txt REMOVE_DUPLICATES=true READ_NAME_REGEX=true  OPTICAL_DUPLICATE_PIXEL_DISTANCE=2500 TAGGING_POLICY=OpticalOnly &> md.{}.log\""
   ]
  },
  {
   "cell_type": "code",
   "execution_count": null,
   "id": "5b156e80",
   "metadata": {},
   "outputs": [],
   "source": [
    "#check alignments once more\n",
    "!samtools stats  /local/home/katrinac/ClownfishGWAS/data/APPC_sequencing/DNA/trimmed_reads/mapping/Pop16_APPC4215.F.bam > trimmed_reads/mapping/Pop16_APPC4215.F.stats\n",
    "\n",
    "#call genotypes and calculate GL\n",
    "#use dDocent to call genotypes/snps"
   ]
  },
  {
   "cell_type": "code",
   "execution_count": 83,
   "id": "72ff0d6b",
   "metadata": {},
   "outputs": [],
   "source": [
    "#!mkdir genotypes\n",
    "!for i in $(cat /local/home/katrinac/ClownfishGWAS/data/APPC_sequencing/DNA/filenames); do mv $i-RGrd.bam genotypes/$i.F.bam; done #copy the files with duplicates removed by picard matching the ddocent naming convention"
   ]
  },
  {
   "cell_type": "code",
   "execution_count": 91,
   "id": "2b2848c6",
   "metadata": {},
   "outputs": [],
   "source": [
    "#move reference genome files to the genotype directory\n",
    "!for i in /local/home/katrinac/ClownfishGWAS/data/APPC_sequencing/DNA/reference*; do cp /local/home/katrinac/ClownfishGWAS/data/APPC_sequencing/DNA/reference* /local/home/katrinac/ClownfishGWAS/data/APPC_sequencing/DNA/trimmed_reads/mapping/genotypes/; done #copy the files with duplicates removed by picard matching the ddocent naming convention"
   ]
  },
  {
   "cell_type": "code",
   "execution_count": null,
   "id": "56340856",
   "metadata": {},
   "outputs": [
    {
     "name": "stdout",
     "output_type": "stream",
     "text": [
      "/local/home/katrinac/ClownfishGWAS/data/APPC_sequencing/DNA/trimmed_reads/mapping/genotypes\n",
      "dDocent 2.2.22 \n",
      "\n",
      "Contact jpuritz@gmail.com with any problems \n",
      "\n",
      " \n",
      "Checking for required software\n",
      "\n",
      "All required software is installed!\n",
      "ls: cannot access '*.F.fq.gz': No such file or directory\n",
      "ls: cannot access '*.F.fq.gz': No such file or directory\n",
      "\n",
      "dDocent run started Tue Feb 15 10:38:38 EST 2022 \n",
      "\n",
      "At this point, all configuration information has been entered and dDocent may take several hours to run.\n",
      "It is recommended that you move this script to a background operation and disable terminal input and output.\n",
      "All data and logfiles will still be recorded.\n",
      "To do this:\n",
      "Press control and Z simultaneously\n",
      "Type 'bg' without the quotes and press enter\n",
      "Type 'disown -h' again without the quotes and press enter\n",
      "\n",
      "Now sit back, relax, and wait for your analysis to finish.\n",
      "Using FreeBayes to call SNPs\n",
      "/usr/bin/bash: line 1: 38027 Killed                  freebayes -b split.$1.bam -t mapped.$1.bed -v raw.$1.vcf -f reference.fasta -m 5 -q 5 -E 3 -p 16 -J --min-repeat-entropy 1 -n 20\n",
      "/usr/bin/bash: line 1: 38095 Killed                  freebayes -b split.$1.bam -t mapped.$1.bed -v raw.$1.vcf -f reference.fasta -m 5 -q 5 -E 3 -p 16 -J --min-repeat-entropy 1 -n 20\n",
      "/usr/bin/bash: line 1: 38023 Killed                  freebayes -b split.$1.bam -t mapped.$1.bed -v raw.$1.vcf -f reference.fasta -m 5 -q 5 -E 3 -p 16 -J --min-repeat-entropy 1 -n 20\n",
      "/usr/bin/bash: line 1: 38014 Killed                  freebayes -b split.$1.bam -t mapped.$1.bed -v raw.$1.vcf -f reference.fasta -m 5 -q 5 -E 3 -p 16 -J --min-repeat-entropy 1 -n 20\n",
      "/usr/bin/bash: line 1: 38034 Killed                  freebayes -b split.$1.bam -t mapped.$1.bed -v raw.$1.vcf -f reference.fasta -m 5 -q 5 -E 3 -p 16 -J --min-repeat-entropy 1 -n 20\n",
      "/usr/bin/bash: line 1: 38030 Killed                  freebayes -b split.$1.bam -t mapped.$1.bed -v raw.$1.vcf -f reference.fasta -m 5 -q 5 -E 3 -p 16 -J --min-repeat-entropy 1 -n 20\n",
      "/usr/bin/bash: line 1: 38016 Killed                  freebayes -b split.$1.bam -t mapped.$1.bed -v raw.$1.vcf -f reference.fasta -m 5 -q 5 -E 3 -p 16 -J --min-repeat-entropy 1 -n 20\n"
     ]
    }
   ],
   "source": [
    "#call genotypes with ddocent\n",
    "%cd ~/ClownfishGWAS/data/APPC_sequencing/DNA/trimmed_reads/mapping/genotypes/\n",
    "#!ln -s /local/home/katrinac/ClownfishGWAS/data/APPC_sequencing/Genome/reference.fasta reference.fasta \n",
    "!/local/home/katrinac/ClownfishGWAS/bioinformatics_scripts/dDocent_ngs.sh /local/home/katrinac/ClownfishGWAS/bioinformatics_scripts/config_call_genos"
   ]
  },
  {
   "cell_type": "code",
   "execution_count": 86,
   "id": "fd019ae4",
   "metadata": {},
   "outputs": [
    {
     "name": "stdout",
     "output_type": "stream",
     "text": [
      "/bin/bash: trimmed_reads/mapping/genotypes/filter.merged.stats: No such file or directory\r\n"
     ]
    }
   ],
   "source": [
    "#check stats\n",
    "!samtools stats /local/home/katrinac/ClownfishGWAS/data/APPC_sequencing/DNA/trimmed_reads/mapping/genotypes/filter.merged.bam > trimmed_reads/mapping/genotypes/filter.merged.stats\n"
   ]
  },
  {
   "cell_type": "code",
   "execution_count": null,
   "id": "b727ad4a",
   "metadata": {},
   "outputs": [
    {
     "name": "stdout",
     "output_type": "stream",
     "text": [
      "Note: none of --samples-file, --ploidy or --ploidy-file given, assuming all sites are diploid\n",
      "[mpileup] 159 samples in 1 input files\n",
      "Note: The maximum per-sample depth with -d 250 is 1.6x\n"
     ]
    }
   ],
   "source": [
    "#try variant calling with bcf tools\n",
    "\n",
    "\n",
    "!bcftools mpileup -Ou -f /local/home/katrinac/ClownfishGWAS/data/APPC_sequencing/DNA/trimmed_reads/mapping/genotypes/reference.fasta /local/home/katrinac/ClownfishGWAS/data/APPC_sequencing/DNA/trimmed_reads/mapping/genotypes/filter.merged.bam | bcftools call -mv -Ob -o /local/home/katrinac/ClownfishGWAS/data/APPC_sequencing/DNA/trimmed_reads/mapping/genotypes/calls.bcf\n",
    "\n"
   ]
  },
  {
   "cell_type": "code",
   "execution_count": null,
   "id": "87d8e72c",
   "metadata": {},
   "outputs": [],
   "source": []
  }
 ],
 "metadata": {
  "kernelspec": {
   "display_name": "Python 3 (ipykernel)",
   "language": "python",
   "name": "python3"
  },
  "language_info": {
   "codemirror_mode": {
    "name": "ipython",
    "version": 3
   },
   "file_extension": ".py",
   "mimetype": "text/x-python",
   "name": "python",
   "nbconvert_exporter": "python",
   "pygments_lexer": "ipython3",
   "version": "3.7.3"
  }
 },
 "nbformat": 4,
 "nbformat_minor": 5
}
