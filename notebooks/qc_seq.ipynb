{
 "cells": [
  {
   "cell_type": "markdown",
   "id": "0eba58b3",
   "metadata": {},
   "source": [
    "__Reads have already been trimmed with Trimmomatic with dDocent and adapter sequencings removed with adapter.filter.sh. Next perform mapping and alignment, following this tutorial https://www.biostars.org/p/41951/__"
   ]
  },
  {
   "cell_type": "code",
   "execution_count": null,
   "id": "2b4fd2d0",
   "metadata": {},
   "outputs": [],
   "source": [
    "%cd ~/ClownfishGWAS/data/APPC_sequencing/DNA/\n"
   ]
  },
  {
   "cell_type": "code",
   "execution_count": null,
   "id": "f80f05cb",
   "metadata": {},
   "outputs": [],
   "source": [
    "#move trimmed reads to separate directory\n",
    "!mkdir trimmed_reads \n",
    "!mv *R1.fq.gz trimmed_reads\n",
    "!mv *R2.fq.gz trimmed_reads"
   ]
  },
  {
   "cell_type": "code",
   "execution_count": null,
   "id": "34d52dc3",
   "metadata": {},
   "outputs": [],
   "source": [
    "%cd ~/ClownfishGWAS/data/APPC_sequencing/DNA/trimmed_reads/\n"
   ]
  },
  {
   "cell_type": "code",
   "execution_count": null,
   "id": "f2950abb",
   "metadata": {},
   "outputs": [],
   "source": [
    "#screen for contamination and filter out tagged reads simultaneously\n",
    "screen -S fastq_screen\n",
    "for i in /local/home/katrinac/ClownfishGWAS/data/APPC_sequencing/DNA/trimmed_reads/*.fq.gz; do fastq_screen --tag --filter 1 --outdir fastq_screen/ $i ; \n",
    "    done"
   ]
  },
  {
   "cell_type": "code",
   "execution_count": null,
   "id": "98dcc0d8",
   "metadata": {},
   "outputs": [],
   "source": [
    "#use fastqc and multiqc for basic quality control stats\n",
    "screen -S fastqc\n",
    "for i in /local/home/katrinac/ClownfishGWAS/data/APPC_sequencing/DNA/trimmed_reads/*.fq.gz; do fastqc -t 60 *.fq.gz  $i ; \n",
    "    done"
   ]
  },
  {
   "cell_type": "code",
   "execution_count": null,
   "id": "ef20d4e0",
   "metadata": {},
   "outputs": [],
   "source": [
    "#visualize sequencing quality for all samples in trimmed_reads directory\n",
    "multiqc ."
   ]
  },
  {
   "cell_type": "code",
   "execution_count": null,
   "id": "56340856",
   "metadata": {},
   "outputs": [],
   "source": [
    "#make bwa index for reference fasta to use in mapping\n",
    "#!ln -s /local/home/katrinac/ClownfishGWAS/data/APPC_sequencing/Genome/reference.fasta reference.fasta\n",
    "#!mkdir mapping\n",
    "#!cd ~/ClownfishGWAS/data/APPC_sequencing/DNA/trimmed_reads/mapping\n",
    "!bwa index /local/home/katrinac/ClownfishGWAS/data/APPC_sequencing/Genome/reference.fasta"
   ]
  },
  {
   "cell_type": "code",
   "execution_count": null,
   "id": "c199aff8",
   "metadata": {},
   "outputs": [],
   "source": [
    "#map using default parameters but add -M for picard compatibility\n",
    "!cd ~/ClownfishGWAS/data/APPC_sequencing/DNA/trimmed_reads/mapping"
   ]
  },
  {
   "cell_type": "code",
   "execution_count": null,
   "id": "f59695c5",
   "metadata": {},
   "outputs": [],
   "source": [
    "#map to reference genome\n",
    "#http://seqanswers.com/forums/showthread.php?t=66292\n",
    "screen -S mapping\n",
    "    for i in /local/home/katrinac/ClownfishGWAS/data/APPC_sequencing/DNA/trimmed_reads/*R1.tagged_filter.fastq.gz;\n",
    "    do bwa mem -t 50 -M /local/home/katrinac/ClownfishGWAS/data/APPC_sequencing/DNA/trimmed_reads/reference.fasta $i > ${i%R1.tagged_filter.fastq.gz}read1.sai; done"
   ]
  },
  {
   "cell_type": "code",
   "execution_count": null,
   "id": "e46f3045",
   "metadata": {},
   "outputs": [],
   "source": [
    "for i in /local/home/katrinac/ClownfishGWAS/data/APPC_sequencing/DNA/trimmed_reads/*R2.tagged_filter.fastq.gz;\n",
    "    do bwa mem -M /local/home/katrinac/ClownfishGWAS/data/APPC_sequencing/DNA/trimmed_reads/reference.fasta $i > ${i%R2.tagged_filter.fastq.gz}read2.sai; done"
   ]
  },
  {
   "cell_type": "code",
   "execution_count": null,
   "id": "20455ef8",
   "metadata": {},
   "outputs": [],
   "source": [
    "#copy the filtered and mapped files to mapping directory\n",
    "cd ClownfishGWAS/data/APPC_sequencing/DNA/trimmed_reads/fastq_screen/\n",
    "cp *.sai ~/ClownfishGWAS/data/APPC_sequencing/DNA/trimmed_reads/mapping/\n"
   ]
  },
  {
   "cell_type": "code",
   "execution_count": 1,
   "id": "f57a3809",
   "metadata": {},
   "outputs": [],
   "source": [
    "# I think I should have mapped read one and two at the same time because I'm using bwa mem, redo 11/22/2021\n",
    "screen -S mapping\n",
    "for i in /local/home/katrinac/ClownfishGWAS/data/APPC_sequencing/DNA/trimmed_reads/fastq_screen/*.R1.tagged_filter.fastq.gz;\n",
    "    do bwa mem -t 60 -M -R \"@RG\\tID:$i\\tSM:$i\\tPL:Illumina\" /local/home/katrinac/ClownfishGWAS/data/APPC_sequencing/DNA/trimmed_reads/reference.fasta $i.R1.tagged_filter.fastq.gz $i.R2.tagged_filter.fastq.gz | samtools sort -@60 -o $i-RG.bam; done   "
   ]
  },
  {
   "cell_type": "code",
   "execution_count": null,
   "id": "a3040dc2",
   "metadata": {},
   "outputs": [],
   "source": [
    "# I think I should have mapped read one and two at the same time because I'm using bwa mem, redo 11/22/2021\n",
    "#try with filenames... this is what ended up working 11/22/2021\n",
    "for i in $(cat filenames);\n",
    "    do bwa mem -t 60 -M -R \"@RG\\tID:$i\\tSM:$i\\tPL:Illumina\" /local/home/katrinac/ClownfishGWAS/data/APPC_sequencing/DNA/trimmed_reads/reference.fasta $i.R1.fq.gz $i.R2.fq.gz  2> bwa.$i.log | samtools sort -@$NUMProc -o $i-RG.bam 2>$i.bam.log; done  "
   ]
  },
  {
   "cell_type": "code",
   "execution_count": null,
   "id": "4bd3324d",
   "metadata": {},
   "outputs": [],
   "source": [
    "\n",
    "\n",
    " 2> bwa.$i.log | samtools sort -@$NUMProc -o $i-RG.bam 2>$i.bam.log"
   ]
  },
  {
   "cell_type": "code",
   "execution_count": null,
   "id": "31b41084",
   "metadata": {},
   "outputs": [],
   "source": [
    "#join read 1 and read 2 files for each sample\n",
    "#make a list of file names \n",
    "!awk '{ print $1 }' /local/home/katrinac/ClownfishGWAS/data/APPC_sequencing/DNA/popmap > /local/home/katrinac/ClownfishGWAS/data/APPC_sequencing/DNA/trimmed_reads/filenames\n",
    "\n",
    "#join pairs, convert from sam to bam files in screen -S samsort\n",
    "screen -S samsort\n",
    "for i in $(cat filenames);\n",
    "do bwa sampe /local/home/katrinac/ClownfishGWAS/data/APPC_sequencing/DNA/trimmed_reads/reference.fasta $i\\.read1.sai $i\\.read2.sai $i\\.R1.tagged_filter.fastq.gz $i\\.R2.tagged_filter.fastq.gz | samtools view -bS - >  ~/ClownfishGWAS/data/APPC_sequencing/DNA/trimmed_reads/mapping/$i\\.bam; done\n",
    "\n"
   ]
  },
  {
   "cell_type": "code",
   "execution_count": null,
   "id": "23692e24",
   "metadata": {},
   "outputs": [],
   "source": []
  },
  {
   "cell_type": "code",
   "execution_count": null,
   "id": "dc87a22d",
   "metadata": {},
   "outputs": [],
   "source": [
    "#remove duplicate reads with picard\n",
    "java -Xms4g -jar /local/home/katrinac/miniconda3/envs/commandline/bin/picard.jar MarkDuplicates I={}-R2.tagged_filter.fastq.gz O={}-RGmd.bam M={}_dup_metrics.txt OPTICAL_DUPLICATE_PIXEL_DISTANCE=2500 TAGGING_POLICY=OpticalOnly &> md.{}.lo      g"
   ]
  },
  {
   "cell_type": "code",
   "execution_count": null,
   "id": "91cce2c6",
   "metadata": {},
   "outputs": [],
   "source": []
  }
 ],
 "metadata": {
  "kernelspec": {
   "display_name": "Python 3",
   "language": "python",
   "name": "python3"
  },
  "language_info": {
   "codemirror_mode": {
    "name": "ipython",
    "version": 3
   },
   "file_extension": ".py",
   "mimetype": "text/x-python",
   "name": "python",
   "nbconvert_exporter": "python",
   "pygments_lexer": "ipython3",
   "version": "3.7.3"
  }
 },
 "nbformat": 4,
 "nbformat_minor": 5
}
