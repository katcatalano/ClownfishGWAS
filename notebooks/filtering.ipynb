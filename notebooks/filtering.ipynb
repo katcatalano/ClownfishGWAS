{
 "cells": [
  {
   "cell_type": "markdown",
   "id": "13843632",
   "metadata": {},
   "source": [
    "__Following dDocent filtering, customize filtering parameters for GWAS__"
   ]
  },
  {
   "cell_type": "code",
   "execution_count": 70,
   "id": "33363db8",
   "metadata": {},
   "outputs": [
    {
     "name": "stdout",
     "output_type": "stream",
     "text": [
      "/local/home/katrinac/ClownfishGWAS/data/APPC_sequencing/DNA/trimmed_reads/mapping/genotypes\n"
     ]
    }
   ],
   "source": [
    "%cd ~/ClownfishGWAS/data/APPC_sequencing/DNA/trimmed_reads/mapping/genotypes/\n",
    "\n"
   ]
  },
  {
   "cell_type": "code",
   "execution_count": 83,
   "id": "15522b65",
   "metadata": {},
   "outputs": [
    {
     "name": "stdout",
     "output_type": "stream",
     "text": [
      "[filter.c:2278 filters_init1] Error: the tag \"%MQ\" is not defined in the VCF header\r\n"
     ]
    }
   ],
   "source": [
    "#filter for max depth of 2*mean (2*56.26), max missingness across invidivuals 90%, qual >30, mapping qual mean (53)\n",
    "!bcftools view -i '%QUAL>=30 && %MQ>50 && FMT/DP>10' -f'%POS[\\t%SAMPLE:DP=%DP MQ=%MQ]\\n' /local/home/katrinac/ClownfishGWAS/data/APPC_sequencing/DNA/trimmed_reads/mapping/genotypes/calls.bcf > calls_qual30_mq50_dp10.bcf\n",
    "\n",
    "\n",
    "\n"
   ]
  },
  {
   "cell_type": "code",
   "execution_count": 84,
   "id": "1ea12ce8",
   "metadata": {},
   "outputs": [
    {
     "name": "stdout",
     "output_type": "stream",
     "text": [
      "[filter.c:2278 filters_init1] Error: the tag \"DV\" is not defined in the VCF header\r\n"
     ]
    }
   ],
   "source": [
    "!bcftools filter -sLowQual -g3 -G10 -e'%QUAL<20 || (RPB<0.1 && %QUAL<15) || (AC<2 && %QUAL<15) || %MAX(DV)<=3 || %MAX(DV)/%MAX(DP)<=0.3' /local/home/katrinac/ClownfishGWAS/data/APPC_sequencing/DNA/trimmed_reads/mapping/genotypes/calls.bcf > calls_qual30_mq50_dp10.bcf\n"
   ]
  },
  {
   "cell_type": "code",
   "execution_count": null,
   "id": "cdf10d8f",
   "metadata": {},
   "outputs": [],
   "source": [
    "-i'FMT/DP>10 & FMT/GQ>20' -f'%POS[\\t%SAMPLE:DP=%DP GQ=%GQ]\\n'"
   ]
  },
  {
   "cell_type": "code",
   "execution_count": null,
   "id": "1734e323",
   "metadata": {},
   "outputs": [
    {
     "name": "stdout",
     "output_type": "stream",
     "text": [
      "\u001b7\u001b[?47h\u001b[?1h\u001b=\r",
      "##fileformat=VCFv4.2\r\n",
      "##FILTER=<ID=PASS,Description=\"All filters passed\">\r\n",
      "##bcftoolsVersion=1.9+htslib-1.9\r\n",
      "##bcftoolsCommand=mpileup -Ou -f /local/home/katrinac/ClownfishGWAS/data/APPC_se \bquencing/DNA/trimmed_reads/mapping/genotypes/reference.fasta /local/home/katrina \bc/ClownfishGWAS/data/APPC_sequencing/DNA/trimmed_reads/mapping/genotypes/filter. \bmerged.bam\r\n",
      "##reference=file:///local/home/katrinac/ClownfishGWAS/data/APPC_sequencing/DNA/t \brimmed_reads/mapping/genotypes/reference.fasta\r\n",
      "##contig=<ID=CM009708.1,length=46122984>\r\n",
      "##contig=<ID=CM009709.1,length=43441817>\r\n",
      "##contig=<ID=CM009710.1,length=43424015>\r\n",
      "##contig=<ID=CM009711.1,length=42189036>\r\n",
      "##contig=<ID=CM009712.1,length=40628858>\r\n",
      "##contig=<ID=CM009713.1,length=40564683>\r\n",
      "##contig=<ID=CM009714.1,length=40358139>\r\n",
      "##contig=<ID=CM009715.1,length=39448480>\r\n",
      "##contig=<ID=CM009716.1,length=39156057>\r\n",
      "##contig=<ID=CM009717.1,length=38595198>\r\n",
      "##contig=<ID=CM009718.1,length=38455735>\r\n",
      "##contig=<ID=CM009719.1,length=38416550>\r\n",
      "##contig=<ID=CM009720.1,length=37714444>\r\n",
      "##contig=<ID=CM009721.1,length=37445069>\r\n",
      "\u001b[7mcalls_qual20.vcf\u001b[m\u001b[K"
     ]
    }
   ],
   "source": [
    "!less calls_qual20.vcf"
   ]
  },
  {
   "cell_type": "code",
   "execution_count": 56,
   "id": "674055e0",
   "metadata": {},
   "outputs": [],
   "source": [
    "!bcftools query -f '%CHROM\\t%POS\\t%MQ\\t%QUAL\\t%DP\\n' /local/home/katrinac/ClownfishGWAS/data/APPC_sequencing/DNA/trimmed_reads/mapping/genotypes/calls.bcf> calls_bcf.MQ.QUAL.DP.tsv"
   ]
  },
  {
   "cell_type": "code",
   "execution_count": 57,
   "id": "f36eb20c",
   "metadata": {},
   "outputs": [
    {
     "name": "stdout",
     "output_type": "stream",
     "text": [
      "CM009708.1\t271\t15\t11.4868\t71\r\n",
      "CM009708.1\t529\t16\t99\t164\r\n",
      "CM009708.1\t1492\t19\t121\t242\r\n",
      "CM009708.1\t1493\t18\t19.6143\t245\r\n",
      "CM009708.1\t1623\t8\t23.899\t242\r\n",
      "CM009708.1\t1742\t9\t29.0074\t239\r\n",
      "CM009708.1\t1830\t9\t284\t237\r\n",
      "CM009708.1\t2202\t4\t220\t244\r\n",
      "CM009708.1\t2222\t3\t25.7547\t245\r\n",
      "CM009708.1\t2382\t7\t22.6054\t245\r\n"
     ]
    }
   ],
   "source": [
    "!head calls_bcf.MQ.QUAL.DP.tsv"
   ]
  },
  {
   "cell_type": "code",
   "execution_count": 25,
   "id": "57f0fd63",
   "metadata": {},
   "outputs": [],
   "source": [
    "#get the depth and quality distributions to plot\n",
    "!bcftools query -f '%CHROM\\t%POS\\t%INFO/DP\\t%QUAL\\n' /local/home/katrinac/ClownfishGWAS/data/APPC_sequencing/DNA/trimmed_reads/mapping/genotypes/calls.bcf > query_depth_qual.tsv"
   ]
  },
  {
   "cell_type": "code",
   "execution_count": 26,
   "id": "bc15ea90",
   "metadata": {
    "scrolled": true
   },
   "outputs": [
    {
     "name": "stdout",
     "output_type": "stream",
     "text": [
      "CM009708.1\t271\t71\t11.4868\r\n",
      "CM009708.1\t529\t164\t99\r\n",
      "CM009708.1\t1492\t242\t121\r\n",
      "CM009708.1\t1493\t245\t19.6143\r\n",
      "CM009708.1\t1623\t242\t23.899\r\n",
      "CM009708.1\t1742\t239\t29.0074\r\n",
      "CM009708.1\t1830\t237\t284\r\n",
      "CM009708.1\t2202\t244\t220\r\n",
      "CM009708.1\t2222\t245\t25.7547\r\n",
      "CM009708.1\t2382\t245\t22.6054\r\n"
     ]
    }
   ],
   "source": [
    "!head query_depth_qual.tsv"
   ]
  },
  {
   "cell_type": "code",
   "execution_count": 75,
   "id": "6dd263aa",
   "metadata": {},
   "outputs": [
    {
     "name": "stdout",
     "output_type": "stream",
     "text": [
      "\n",
      "Welcome to qctool\n",
      "(version: 2.2.0, revision: unknown)\n",
      "\n",
      "(C) 2009-2020 University of Oxford\n",
      "\n",
      "Opening genotype files                                      : [******************************] (1/1,0.0s,36.6/s)\n",
      "========================================================================\n",
      "\n",
      "Input SAMPLE file(s):           \"angsd/qc.sample\"\n",
      "Output SAMPLE file:             \"(n/a)\".\n",
      "Sample exclusion output file:   \"(n/a)\".\n",
      "\n",
      "Input GEN file(s):\n",
      "                                                    (not computed)  \"filtering/calls_qual20.vcf\"\n",
      "                                         (total 1 sources, number of snps not computed).\n",
      "                      Number of samples: 159\n",
      "Output GEN file(s):             \"filtering/calls.bgen\"\n",
      "Output SNP position file(s):    (n/a)\n",
      "Sample filter:                  .\n",
      "# of samples in input files:    159.\n",
      "# of samples after filtering:   159 (0 filtered out).\n",
      "\n",
      "========================================================================\n",
      "\n",
      "Processing SNPs                                             :  (8802754/?,1041.1s,8454.9/s)17.2/s)352.2s,8743.6/s)539.3s,8566.0/s)557.3s,8557.3/s)596.4s,8552.7/s),8518.9/s)698.4s,8478.4/s)/s)\n",
      "Total: 8802754SNPs.\n",
      "========================================================================\n",
      "\n",
      "Number of SNPs:\n",
      "                     -- in input file(s):                 (not computed).\n",
      " -- in output file(s):                8802754\n",
      "\n",
      "Number of samples in input file(s):   159.\n",
      "\n",
      "Output GEN files:                     (8802754 snps)  \"filtering/calls.bgen\"\n",
      "                                      (total 8802754 snps).\n",
      "========================================================================\n",
      "\n",
      "\n",
      "Thank you for using qctool.\n"
     ]
    }
   ],
   "source": [
    "#check data with qctools\n",
    "!/local/home/katrinac/miniconda3/envs/commandline/bin/qctool/build/release/apps/qctool_v2.2.0 -g filtering/calls_qual20.vcf -og filtering/calls.bgen -s angsd/qc.sample  #convert to bgen format"
   ]
  },
  {
   "cell_type": "code",
   "execution_count": 76,
   "id": "fba26dd0",
   "metadata": {},
   "outputs": [
    {
     "name": "stdout",
     "output_type": "stream",
     "text": [
      "\n",
      "Welcome to qctool\n",
      "(version: 2.2.0, revision: unknown)\n",
      "\n",
      "(C) 2009-2020 University of Oxford\n",
      "\n",
      "Opening genotype files                                      : [******************************] (1/1,0.0s,185.9/s)\n",
      "========================================================================\n",
      "\n",
      "Input SAMPLE file(s):         Output SAMPLE file:             \"(n/a)\".\n",
      "Sample exclusion output file:   \"(n/a)\".\n",
      "\n",
      "Input GEN file(s):\n",
      "                                                    (8802754 snps)  \"filtering/calls.bgen (bgen v1.2; 159 named samples; zlib compression)\"\n",
      "                                         (total 8802754 snps in 1 sources).\n",
      "                      Number of samples: 159\n",
      "Output GEN file(s):             (n/a)\n",
      "Output SNP position file(s):    (n/a)\n",
      "Sample filter:                  .\n",
      "# of samples in input files:    159.\n",
      "# of samples after filtering:   159 (0 filtered out).\n",
      "\n",
      "========================================================================\n",
      "\n",
      "SNPSummaryComponent: the following components are in place:\n",
      "  HWEComputation\n",
      "  AlleleFrequencyComputation\n",
      "  InfoComputation\n",
      "  MissingnessComputation\n",
      "\n",
      "Processing SNPs                                             :  (8802754/?,594.6s,14804.5/s),14575.6/s)\n",
      "Total: 8802754SNPs.\n",
      "========================================================================\n",
      "\n",
      "Number of SNPs:\n",
      "                     -- in input file(s):                 8802754.\n",
      " -- in output file(s):                0\n",
      "\n",
      "Number of samples in input file(s):   159.\n",
      "\n",
      "========================================================================\n",
      "\n",
      "\n",
      "Thank you for using qctool.\n"
     ]
    }
   ],
   "source": [
    "!/local/home/katrinac/miniconda3/envs/commandline/bin/qctool/build/release/apps/qctool_v2.2.0 -g filtering/calls.bgen -snp-stats -osnp filtering/snp-stats.txt "
   ]
  },
  {
   "cell_type": "code",
   "execution_count": null,
   "id": "78b5d8bd",
   "metadata": {},
   "outputs": [],
   "source": [
    " $ qctool -g example.bgen -s example.sample -sample-stats -osample sample-stats.txt "
   ]
  },
  {
   "cell_type": "code",
   "execution_count": 78,
   "id": "65d8e9d9",
   "metadata": {},
   "outputs": [
    {
     "name": "stdout",
     "output_type": "stream",
     "text": [
      "\r\n",
      "Welcome to qctool\r\n",
      "(version: 2.2.0, revision: unknown)\r\n",
      "\r\n",
      "(C) 2009-2020 University of Oxford\r\n",
      "\r\n",
      "\r",
      "Opening genotype files                                      : [                              ] (0/1,0.0s,0.0/s)\r",
      "Opening genotype files                                      : [******************************] (1/1,0.0s,200.8/s)\r",
      "Opening genotype files                                      : [******************************] (1/1,0.0s,142.9/s)\r\n",
      "========================================================================\r\n",
      "\r\n",
      "Input SAMPLE file(s):           \"angsd/qc.sample\"\r\n",
      "Output SAMPLE file:             \"(n/a)\".\r\n",
      "Sample statistic output file:   \"filtering/sample-stats.txt\".\r\n",
      "Sample exclusion output file:   \"(n/a)\".\r\n",
      "\r\n",
      "Input GEN file(s):\r\n",
      "                                                    (8802754 snps)  \"filtering/calls.bgen (bgen v1.2; 159 named samples; zlib compression)\"\r\n",
      "                                         (total 8802754 snps in 1 sources).\r\n",
      "                      Number of samples: 159\r\n",
      "Output GEN file(s):             (n/a)\r\n",
      "Output SNP position file(s):    (n/a)\r\n",
      "Sample filter:                  .\r\n",
      "# of samples in input files:    159.\r\n",
      "# of samples after filtering:   159 (0 filtered out).\r\n",
      "\r\n",
      "========================================================================\r\n",
      "\r\n",
      "SampleSummaryComponent: the following components are in place:\r\n",
      "  IntensityDistributionComputation\r\n",
      "  MissingnessHeterozygosityComputation\r\n",
      "\r\n",
      "\r",
      "Processing SNPs                                             :  (0/?,0.0s,0.0/s)qctool_v2.2.0: ../../genfile/include/genfile/vcf/get_set_eigen.hpp:26: void genfile::vcf::GenotypeSetter<Eigen::MatrixBase<Derived> >::initialise(std::size_t, std::size_t) [with Derived = Eigen::Matrix<double, -1, -1>; std::size_t = long unsigned int]: Assertion `nAlleles == 2' failed.\r\n"
     ]
    }
   ],
   "source": [
    "!/local/home/katrinac/miniconda3/envs/commandline/bin/qctool/build/release/apps/qctool_v2.2.0 -g filtering/calls.bgen -s angsd/qc.sample -sample-stats -osample filtering/sample-stats.txt "
   ]
  },
  {
   "cell_type": "code",
   "execution_count": null,
   "id": "a5f8ff6c",
   "metadata": {},
   "outputs": [],
   "source": []
  },
  {
   "cell_type": "code",
   "execution_count": null,
   "id": "3b2071e5",
   "metadata": {},
   "outputs": [],
   "source": [
    "#filter for max depth of 2*mean (2*56.26), max missingness across invidivuals 90%, qual >30, mapping qual mean (53)"
   ]
  },
  {
   "cell_type": "code",
   "execution_count": null,
   "id": "fbb32d64",
   "metadata": {},
   "outputs": [],
   "source": [
    "\tvcftools --vcf TotalRawSNPs.vcf $VCFGTFLAG 0.9 --out Final --recode --non-ref-af 0.001 --max-non-ref-af 0.9999 --mac 1 --minQ 30 --recode-INFO-all &>VCFtools.log"
   ]
  },
  {
   "cell_type": "code",
   "execution_count": null,
   "id": "bf6a2abf",
   "metadata": {},
   "outputs": [],
   "source": [
    "#02/22/2021--non-ref-af 0.001 --max-non-ref-af 0.9999\n",
    "!vcftools --vcf /local/home/katrinac/ClownfishGWAS/data/APPC_sequencing/DNA/trimmed_reads/mapping/genotypes/filtering/calls_qual20.vcf --non-ref-af 0.001 --max-non-ref-af 0.9999 --out /local/home/katrinac/ClownfishGWAS/data/APPC_sequencing/DNA/trimmed_reads/mapping/genotypes/filtering/max_missing09_minQ20 --recode --recode-INFO-all #&>/local/home/katrinac/ClownfishGWAS/data/APPC_sequencing/DNA/filtering/VCFtools.log"
   ]
  },
  {
   "cell_type": "code",
   "execution_count": null,
   "id": "7bb18eee",
   "metadata": {},
   "outputs": [],
   "source": [
    "#allele frequencies for sites with max 2 alleles\n",
    "!vcftools --vcf /local/home/katrinac/ClownfishGWAS/data/APPC_sequencing/DNA/filtering/max_missing05_minQ20.recode.vcf.gz --freq2 --out /local/home/katrinac/ClownfishGWAS/data/APPC_sequencing/DNA/filtering/max_missing05_minQ20 --max-alleles 2\n",
    "\n",
    "#mean depth per individual\n",
    "!vcftools --gzvcf /local/home/katrinac/ClownfishGWAS/data/APPC_sequencing/DNA/filtering/max_missing05_minQ20.recode.vcf.gz --depth --out /local/home/katrinac/ClownfishGWAS/data/APPC_sequencing/DNA/filtering/max_missing05_minQ20\n",
    "\n",
    "#mean depth per site\n",
    "!vcftools --gzvcf /local/home/katrinac/ClownfishGWAS/data/APPC_sequencing/DNA/filtering/max_missing05_minQ20.recode.vcf.gz --site-mean-depth --out /local/home/katrinac/ClownfishGWAS/data/APPC_sequencing/DNA/filtering/max_missing05_minQ20\n"
   ]
  },
  {
   "cell_type": "markdown",
   "id": "90658527",
   "metadata": {},
   "source": [
    "__For GWAS, need to account for following in filtering- The seven QC steps consist of filtering out of SNPs and individuals based on the following: (1) individual and SNP missingness, (3) minor allele frequency (MAF), (4) deviations from Hardy–Weinberg equilibrium (HWE), (5) heterozygosity rate, (6) relatedness, and (7) population stratification). https://www.ncbi.nlm.nih.gov/pmc/articles/PMC6001694/__"
   ]
  },
  {
   "cell_type": "markdown",
   "id": "3266f745",
   "metadata": {},
   "source": [
    "__SNP filtering before individual filtering__"
   ]
  },
  {
   "cell_type": "code",
   "execution_count": 13,
   "id": "64a4429d",
   "metadata": {},
   "outputs": [
    {
     "name": "stdout",
     "output_type": "stream",
     "text": [
      "Nothing to merge\r\n",
      " at /local/home/katrinac/miniconda3/envs/commandline/bin/plot-vcfstats line 99.\r\n",
      "\tmain::error(\"Nothing to merge\\x{a}\") called at /local/home/katrinac/miniconda3/envs/commandline/bin/plot-vcfstats line 269\r\n",
      "\tmain::parse_params() called at /local/home/katrinac/miniconda3/envs/commandline/bin/plot-vcfstats line 46\r\n"
     ]
    }
   ],
   "source": [
    "!bcftools stats -s\n",
    "!plot-vcfstats -m /local/home/katrinac/ClownfishGWAS/data/APPC_sequencing/DNA/trimmed_reads/mapping/genotypes/Final.recode.vcf > FinalRecode.vchk"
   ]
  },
  {
   "cell_type": "code",
   "execution_count": 18,
   "id": "a12d97ff",
   "metadata": {},
   "outputs": [],
   "source": [
    "!bgzip /local/home/katrinac/ClownfishGWAS/data/APPC_sequencing/DNA/filtering/max_missing05_minQ20.recode.vcf\n"
   ]
  },
  {
   "cell_type": "code",
   "execution_count": 19,
   "id": "94988f55",
   "metadata": {},
   "outputs": [],
   "source": [
    "!bcftools index /local/home/katrinac/ClownfishGWAS/data/APPC_sequencing/DNA/filtering/max_missing05_minQ20.recode.vcf.gz"
   ]
  },
  {
   "cell_type": "code",
   "execution_count": 22,
   "id": "331a1e3d",
   "metadata": {},
   "outputs": [
    {
     "name": "stdout",
     "output_type": "stream",
     "text": [
      "/local/home/katrinac/ClownfishGWAS/data/APPC_sequencing/DNA/filtering\n",
      "/bin/bash: /local/home/katrinac/ClownfishGWAS/data/APPC_sequencing/DNA/filtering/max_missing05_minQ20.recode.vcf.gz: Permission denied\n",
      "/bin/bash: /local/home/katrinac/ClownfishGWAS/data/APPC_sequencing/DNA/filtering/max_missing05_minQ20: No such file or directory\n"
     ]
    }
   ],
   "source": [
    "%cd ~/ClownfishGWAS/data/APPC_sequencing/DNA/filtering/\n"
   ]
  },
  {
   "cell_type": "code",
   "execution_count": 25,
   "id": "603c221b",
   "metadata": {},
   "outputs": [
    {
     "name": "stdout",
     "output_type": "stream",
     "text": [
      "\n",
      "VCFtools - 0.1.16\n",
      "(C) Adam Auton and Anthony Marcketta 2009\n",
      "\n",
      "Parameters as interpreted:\n",
      "\t--gzvcf /local/home/katrinac/ClownfishGWAS/data/APPC_sequencing/DNA/filtering/max_missing05_minQ20.recode.vcf.gz\n",
      "\t--max-alleles 2\n",
      "\t--freq2\n",
      "\t--out /local/home/katrinac/ClownfishGWAS/data/APPC_sequencing/DNA/filtering/max_missing05_minQ20\n",
      "\n",
      "Using zlib version: 1.2.11\n",
      "Warning: Expected at least 2 parts in INFO entry: ID=AF,Number=A,Type=Float,Description=\"Estimated allele frequency in the range (0,1]\">\n",
      "Warning: Expected at least 2 parts in INFO entry: ID=PRO,Number=1,Type=Float,Description=\"Reference allele observation count, with partial observations recorded fractionally\">\n",
      "Warning: Expected at least 2 parts in INFO entry: ID=PAO,Number=A,Type=Float,Description=\"Alternate allele observations, with partial observations recorded fractionally\">\n",
      "Warning: Expected at least 2 parts in INFO entry: ID=SRP,Number=1,Type=Float,Description=\"Strand balance probability for the reference allele: Phred-scaled upper-bounds estimate of the probability of observing the deviation between SRF and SRR given E(SRF/SRR) ~ 0.5, derived using Hoeffding's inequality\">\n",
      "Warning: Expected at least 2 parts in INFO entry: ID=SAP,Number=A,Type=Float,Description=\"Strand balance probability for the alternate allele: Phred-scaled upper-bounds estimate of the probability of observing the deviation between SAF and SAR given E(SAF/SAR) ~ 0.5, derived using Hoeffding's inequality\">\n",
      "Warning: Expected at least 2 parts in INFO entry: ID=AB,Number=A,Type=Float,Description=\"Allele balance at heterozygous sites: a number between 0 and 1 representing the ratio of reads showing the reference allele to all reads, considering only reads from individuals called as heterozygous\">\n",
      "Warning: Expected at least 2 parts in INFO entry: ID=ABP,Number=A,Type=Float,Description=\"Allele balance probability at heterozygous sites: Phred-scaled upper-bounds estimate of the probability of observing the deviation between ABR and ABA given E(ABR/ABA) ~ 0.5, derived using Hoeffding's inequality\">\n",
      "Warning: Expected at least 2 parts in INFO entry: ID=RPP,Number=A,Type=Float,Description=\"Read Placement Probability: Phred-scaled upper-bounds estimate of the probability of observing the deviation between RPL and RPR given E(RPL/RPR) ~ 0.5, derived using Hoeffding's inequality\">\n",
      "Warning: Expected at least 2 parts in INFO entry: ID=RPPR,Number=1,Type=Float,Description=\"Read Placement Probability for reference observations: Phred-scaled upper-bounds estimate of the probability of observing the deviation between RPL and RPR given E(RPL/RPR) ~ 0.5, derived using Hoeffding's inequality\">\n",
      "Warning: Expected at least 2 parts in INFO entry: ID=EPP,Number=A,Type=Float,Description=\"End Placement Probability: Phred-scaled upper-bounds estimate of the probability of observing the deviation between EL and ER given E(EL/ER) ~ 0.5, derived using Hoeffding's inequality\">\n",
      "Warning: Expected at least 2 parts in INFO entry: ID=EPPR,Number=1,Type=Float,Description=\"End Placement Probability for reference observations: Phred-scaled upper-bounds estimate of the probability of observing the deviation between EL and ER given E(EL/ER) ~ 0.5, derived using Hoeffding's inequality\">\n",
      "Warning: Expected at least 2 parts in INFO entry: ID=TYPE,Number=A,Type=String,Description=\"The type of allele, either snp, mnp, ins, del, or complex.\">\n",
      "Warning: Expected at least 2 parts in INFO entry: ID=TYPE,Number=A,Type=String,Description=\"The type of allele, either snp, mnp, ins, del, or complex.\">\n",
      "Warning: Expected at least 2 parts in INFO entry: ID=TYPE,Number=A,Type=String,Description=\"The type of allele, either snp, mnp, ins, del, or complex.\">\n",
      "Warning: Expected at least 2 parts in INFO entry: ID=TYPE,Number=A,Type=String,Description=\"The type of allele, either snp, mnp, ins, del, or complex.\">\n",
      "Warning: Expected at least 2 parts in INFO entry: ID=TYPE,Number=A,Type=String,Description=\"The type of allele, either snp, mnp, ins, del, or complex.\">\n",
      "Warning: Expected at least 2 parts in INFO entry: ID=CIGAR,Number=A,Type=String,Description=\"The extended CIGAR representation of each alternate allele, with the exception that '=' is replaced by 'M' to ease VCF parsing.  Note that INDEL alleles do not have the first matched base (which is provided by default, per the spec) referred to by the CIGAR.\">\n",
      "Warning: Expected at least 2 parts in FORMAT entry: ID=GQ,Number=1,Type=Float,Description=\"Genotype Quality, the Phred-scaled marginal (or unconditional) probability of the called genotype\">\n",
      "Warning: Expected at least 2 parts in FORMAT entry: ID=GL,Number=G,Type=Float,Description=\"Genotype Likelihood, log10-scaled likelihoods of the data given the called genotype for each possible genotype generated from the reference and alternate alleles given the sample ploidy\">\n",
      "After filtering, kept 159 out of 159 Individuals\n",
      "Outputting Frequency Statistics...\n",
      "After filtering, kept 314592 out of a possible 329152 Sites\n",
      "Run Time = 13.00 seconds\n",
      "\n",
      "VCFtools - 0.1.16\n",
      "(C) Adam Auton and Anthony Marcketta 2009\n",
      "\n",
      "Parameters as interpreted:\n",
      "\t--gzvcf /local/home/katrinac/ClownfishGWAS/data/APPC_sequencing/DNA/filtering/max_missing05_minQ20.recode.vcf.gz\n",
      "\t--depth\n",
      "\t--out /local/home/katrinac/ClownfishGWAS/data/APPC_sequencing/DNA/filtering/max_missing05_minQ20\n",
      "\n",
      "Using zlib version: 1.2.11\n",
      "Warning: Expected at least 2 parts in INFO entry: ID=AF,Number=A,Type=Float,Description=\"Estimated allele frequency in the range (0,1]\">\n",
      "Warning: Expected at least 2 parts in INFO entry: ID=PRO,Number=1,Type=Float,Description=\"Reference allele observation count, with partial observations recorded fractionally\">\n",
      "Warning: Expected at least 2 parts in INFO entry: ID=PAO,Number=A,Type=Float,Description=\"Alternate allele observations, with partial observations recorded fractionally\">\n",
      "Warning: Expected at least 2 parts in INFO entry: ID=SRP,Number=1,Type=Float,Description=\"Strand balance probability for the reference allele: Phred-scaled upper-bounds estimate of the probability of observing the deviation between SRF and SRR given E(SRF/SRR) ~ 0.5, derived using Hoeffding's inequality\">\n",
      "Warning: Expected at least 2 parts in INFO entry: ID=SAP,Number=A,Type=Float,Description=\"Strand balance probability for the alternate allele: Phred-scaled upper-bounds estimate of the probability of observing the deviation between SAF and SAR given E(SAF/SAR) ~ 0.5, derived using Hoeffding's inequality\">\n",
      "Warning: Expected at least 2 parts in INFO entry: ID=AB,Number=A,Type=Float,Description=\"Allele balance at heterozygous sites: a number between 0 and 1 representing the ratio of reads showing the reference allele to all reads, considering only reads from individuals called as heterozygous\">\n",
      "Warning: Expected at least 2 parts in INFO entry: ID=ABP,Number=A,Type=Float,Description=\"Allele balance probability at heterozygous sites: Phred-scaled upper-bounds estimate of the probability of observing the deviation between ABR and ABA given E(ABR/ABA) ~ 0.5, derived using Hoeffding's inequality\">\n",
      "Warning: Expected at least 2 parts in INFO entry: ID=RPP,Number=A,Type=Float,Description=\"Read Placement Probability: Phred-scaled upper-bounds estimate of the probability of observing the deviation between RPL and RPR given E(RPL/RPR) ~ 0.5, derived using Hoeffding's inequality\">\n",
      "Warning: Expected at least 2 parts in INFO entry: ID=RPPR,Number=1,Type=Float,Description=\"Read Placement Probability for reference observations: Phred-scaled upper-bounds estimate of the probability of observing the deviation between RPL and RPR given E(RPL/RPR) ~ 0.5, derived using Hoeffding's inequality\">\n",
      "Warning: Expected at least 2 parts in INFO entry: ID=EPP,Number=A,Type=Float,Description=\"End Placement Probability: Phred-scaled upper-bounds estimate of the probability of observing the deviation between EL and ER given E(EL/ER) ~ 0.5, derived using Hoeffding's inequality\">\n",
      "Warning: Expected at least 2 parts in INFO entry: ID=EPPR,Number=1,Type=Float,Description=\"End Placement Probability for reference observations: Phred-scaled upper-bounds estimate of the probability of observing the deviation between EL and ER given E(EL/ER) ~ 0.5, derived using Hoeffding's inequality\">\n",
      "Warning: Expected at least 2 parts in INFO entry: ID=TYPE,Number=A,Type=String,Description=\"The type of allele, either snp, mnp, ins, del, or complex.\">\n",
      "Warning: Expected at least 2 parts in INFO entry: ID=TYPE,Number=A,Type=String,Description=\"The type of allele, either snp, mnp, ins, del, or complex.\">\n",
      "Warning: Expected at least 2 parts in INFO entry: ID=TYPE,Number=A,Type=String,Description=\"The type of allele, either snp, mnp, ins, del, or complex.\">\n",
      "Warning: Expected at least 2 parts in INFO entry: ID=TYPE,Number=A,Type=String,Description=\"The type of allele, either snp, mnp, ins, del, or complex.\">\n",
      "Warning: Expected at least 2 parts in INFO entry: ID=TYPE,Number=A,Type=String,Description=\"The type of allele, either snp, mnp, ins, del, or complex.\">\n",
      "Warning: Expected at least 2 parts in INFO entry: ID=CIGAR,Number=A,Type=String,Description=\"The extended CIGAR representation of each alternate allele, with the exception that '=' is replaced by 'M' to ease VCF parsing.  Note that INDEL alleles do not have the first matched base (which is provided by default, per the spec) referred to by the CIGAR.\">\n",
      "Warning: Expected at least 2 parts in FORMAT entry: ID=GQ,Number=1,Type=Float,Description=\"Genotype Quality, the Phred-scaled marginal (or unconditional) probability of the called genotype\">\n",
      "Warning: Expected at least 2 parts in FORMAT entry: ID=GL,Number=G,Type=Float,Description=\"Genotype Likelihood, log10-scaled likelihoods of the data given the called genotype for each possible genotype generated from the reference and alternate alleles given the sample ploidy\">\n",
      "After filtering, kept 159 out of 159 Individuals\n",
      "Outputting Mean Depth by Individual\n"
     ]
    },
    {
     "name": "stdout",
     "output_type": "stream",
     "text": [
      "After filtering, kept 329152 out of a possible 329152 Sites\n",
      "Run Time = 11.00 seconds\n",
      "\n",
      "VCFtools - 0.1.16\n",
      "(C) Adam Auton and Anthony Marcketta 2009\n",
      "\n",
      "Parameters as interpreted:\n",
      "\t--gzvcf /local/home/katrinac/ClownfishGWAS/data/APPC_sequencing/DNA/filtering/max_missing05_minQ20.recode.vcf.gz\n",
      "\t--out /local/home/katrinac/ClownfishGWAS/data/APPC_sequencing/DNA/filtering/max_missing05_minQ20\n",
      "\t--site-mean-depth\n",
      "\n",
      "Using zlib version: 1.2.11\n",
      "Warning: Expected at least 2 parts in INFO entry: ID=AF,Number=A,Type=Float,Description=\"Estimated allele frequency in the range (0,1]\">\n",
      "Warning: Expected at least 2 parts in INFO entry: ID=PRO,Number=1,Type=Float,Description=\"Reference allele observation count, with partial observations recorded fractionally\">\n",
      "Warning: Expected at least 2 parts in INFO entry: ID=PAO,Number=A,Type=Float,Description=\"Alternate allele observations, with partial observations recorded fractionally\">\n",
      "Warning: Expected at least 2 parts in INFO entry: ID=SRP,Number=1,Type=Float,Description=\"Strand balance probability for the reference allele: Phred-scaled upper-bounds estimate of the probability of observing the deviation between SRF and SRR given E(SRF/SRR) ~ 0.5, derived using Hoeffding's inequality\">\n",
      "Warning: Expected at least 2 parts in INFO entry: ID=SAP,Number=A,Type=Float,Description=\"Strand balance probability for the alternate allele: Phred-scaled upper-bounds estimate of the probability of observing the deviation between SAF and SAR given E(SAF/SAR) ~ 0.5, derived using Hoeffding's inequality\">\n",
      "Warning: Expected at least 2 parts in INFO entry: ID=AB,Number=A,Type=Float,Description=\"Allele balance at heterozygous sites: a number between 0 and 1 representing the ratio of reads showing the reference allele to all reads, considering only reads from individuals called as heterozygous\">\n",
      "Warning: Expected at least 2 parts in INFO entry: ID=ABP,Number=A,Type=Float,Description=\"Allele balance probability at heterozygous sites: Phred-scaled upper-bounds estimate of the probability of observing the deviation between ABR and ABA given E(ABR/ABA) ~ 0.5, derived using Hoeffding's inequality\">\n",
      "Warning: Expected at least 2 parts in INFO entry: ID=RPP,Number=A,Type=Float,Description=\"Read Placement Probability: Phred-scaled upper-bounds estimate of the probability of observing the deviation between RPL and RPR given E(RPL/RPR) ~ 0.5, derived using Hoeffding's inequality\">\n",
      "Warning: Expected at least 2 parts in INFO entry: ID=RPPR,Number=1,Type=Float,Description=\"Read Placement Probability for reference observations: Phred-scaled upper-bounds estimate of the probability of observing the deviation between RPL and RPR given E(RPL/RPR) ~ 0.5, derived using Hoeffding's inequality\">\n",
      "Warning: Expected at least 2 parts in INFO entry: ID=EPP,Number=A,Type=Float,Description=\"End Placement Probability: Phred-scaled upper-bounds estimate of the probability of observing the deviation between EL and ER given E(EL/ER) ~ 0.5, derived using Hoeffding's inequality\">\n",
      "Warning: Expected at least 2 parts in INFO entry: ID=EPPR,Number=1,Type=Float,Description=\"End Placement Probability for reference observations: Phred-scaled upper-bounds estimate of the probability of observing the deviation between EL and ER given E(EL/ER) ~ 0.5, derived using Hoeffding's inequality\">\n",
      "Warning: Expected at least 2 parts in INFO entry: ID=TYPE,Number=A,Type=String,Description=\"The type of allele, either snp, mnp, ins, del, or complex.\">\n",
      "Warning: Expected at least 2 parts in INFO entry: ID=TYPE,Number=A,Type=String,Description=\"The type of allele, either snp, mnp, ins, del, or complex.\">\n",
      "Warning: Expected at least 2 parts in INFO entry: ID=TYPE,Number=A,Type=String,Description=\"The type of allele, either snp, mnp, ins, del, or complex.\">\n",
      "Warning: Expected at least 2 parts in INFO entry: ID=TYPE,Number=A,Type=String,Description=\"The type of allele, either snp, mnp, ins, del, or complex.\">\n",
      "Warning: Expected at least 2 parts in INFO entry: ID=TYPE,Number=A,Type=String,Description=\"The type of allele, either snp, mnp, ins, del, or complex.\">\n",
      "Warning: Expected at least 2 parts in INFO entry: ID=CIGAR,Number=A,Type=String,Description=\"The extended CIGAR representation of each alternate allele, with the exception that '=' is replaced by 'M' to ease VCF parsing.  Note that INDEL alleles do not have the first matched base (which is provided by default, per the spec) referred to by the CIGAR.\">\n",
      "Warning: Expected at least 2 parts in FORMAT entry: ID=GQ,Number=1,Type=Float,Description=\"Genotype Quality, the Phred-scaled marginal (or unconditional) probability of the called genotype\">\n",
      "Warning: Expected at least 2 parts in FORMAT entry: ID=GL,Number=G,Type=Float,Description=\"Genotype Likelihood, log10-scaled likelihoods of the data given the called genotype for each possible genotype generated from the reference and alternate alleles given the sample ploidy\">\n",
      "After filtering, kept 159 out of 159 Individuals\n",
      "Outputting Depth for Each Site\n",
      "After filtering, kept 329152 out of a possible 329152 Sites\n",
      "Run Time = 14.00 seconds\n",
      "\n",
      "VCFtools - 0.1.16\n",
      "(C) Adam Auton and Anthony Marcketta 2009\n",
      "\n",
      "Parameters as interpreted:\n",
      "\t--gzvcf /local/home/katrinac/ClownfishGWAS/data/APPC_sequencing/DNA/filtering/max_missing05_minQ20.recode.vcf.gz\n",
      "\t--out /local/home/katrinac/ClownfishGWAS/data/APPC_sequencing/DNA/filtering/max_missing05_minQ20\n",
      "\t--site-quality\n",
      "\n",
      "Using zlib version: 1.2.11\n",
      "Warning: Expected at least 2 parts in INFO entry: ID=AF,Number=A,Type=Float,Description=\"Estimated allele frequency in the range (0,1]\">\n",
      "Warning: Expected at least 2 parts in INFO entry: ID=PRO,Number=1,Type=Float,Description=\"Reference allele observation count, with partial observations recorded fractionally\">\n",
      "Warning: Expected at least 2 parts in INFO entry: ID=PAO,Number=A,Type=Float,Description=\"Alternate allele observations, with partial observations recorded fractionally\">\n",
      "Warning: Expected at least 2 parts in INFO entry: ID=SRP,Number=1,Type=Float,Description=\"Strand balance probability for the reference allele: Phred-scaled upper-bounds estimate of the probability of observing the deviation between SRF and SRR given E(SRF/SRR) ~ 0.5, derived using Hoeffding's inequality\">\n",
      "Warning: Expected at least 2 parts in INFO entry: ID=SAP,Number=A,Type=Float,Description=\"Strand balance probability for the alternate allele: Phred-scaled upper-bounds estimate of the probability of observing the deviation between SAF and SAR given E(SAF/SAR) ~ 0.5, derived using Hoeffding's inequality\">\n",
      "Warning: Expected at least 2 parts in INFO entry: ID=AB,Number=A,Type=Float,Description=\"Allele balance at heterozygous sites: a number between 0 and 1 representing the ratio of reads showing the reference allele to all reads, considering only reads from individuals called as heterozygous\">\n",
      "Warning: Expected at least 2 parts in INFO entry: ID=ABP,Number=A,Type=Float,Description=\"Allele balance probability at heterozygous sites: Phred-scaled upper-bounds estimate of the probability of observing the deviation between ABR and ABA given E(ABR/ABA) ~ 0.5, derived using Hoeffding's inequality\">\n",
      "Warning: Expected at least 2 parts in INFO entry: ID=RPP,Number=A,Type=Float,Description=\"Read Placement Probability: Phred-scaled upper-bounds estimate of the probability of observing the deviation between RPL and RPR given E(RPL/RPR) ~ 0.5, derived using Hoeffding's inequality\">\n",
      "Warning: Expected at least 2 parts in INFO entry: ID=RPPR,Number=1,Type=Float,Description=\"Read Placement Probability for reference observations: Phred-scaled upper-bounds estimate of the probability of observing the deviation between RPL and RPR given E(RPL/RPR) ~ 0.5, derived using Hoeffding's inequality\">\n",
      "Warning: Expected at least 2 parts in INFO entry: ID=EPP,Number=A,Type=Float,Description=\"End Placement Probability: Phred-scaled upper-bounds estimate of the probability of observing the deviation between EL and ER given E(EL/ER) ~ 0.5, derived using Hoeffding's inequality\">\n",
      "Warning: Expected at least 2 parts in INFO entry: ID=EPPR,Number=1,Type=Float,Description=\"End Placement Probability for reference observations: Phred-scaled upper-bounds estimate of the probability of observing the deviation between EL and ER given E(EL/ER) ~ 0.5, derived using Hoeffding's inequality\">\n",
      "Warning: Expected at least 2 parts in INFO entry: ID=TYPE,Number=A,Type=String,Description=\"The type of allele, either snp, mnp, ins, del, or complex.\">\n",
      "Warning: Expected at least 2 parts in INFO entry: ID=TYPE,Number=A,Type=String,Description=\"The type of allele, either snp, mnp, ins, del, or complex.\">\n",
      "Warning: Expected at least 2 parts in INFO entry: ID=TYPE,Number=A,Type=String,Description=\"The type of allele, either snp, mnp, ins, del, or complex.\">\n",
      "Warning: Expected at least 2 parts in INFO entry: ID=TYPE,Number=A,Type=String,Description=\"The type of allele, either snp, mnp, ins, del, or complex.\">\n",
      "Warning: Expected at least 2 parts in INFO entry: ID=TYPE,Number=A,Type=String,Description=\"The type of allele, either snp, mnp, ins, del, or complex.\">\n",
      "Warning: Expected at least 2 parts in INFO entry: ID=CIGAR,Number=A,Type=String,Description=\"The extended CIGAR representation of each alternate allele, with the exception that '=' is replaced by 'M' to ease VCF parsing.  Note that INDEL alleles do not have the first matched base (which is provided by default, per the spec) referred to by the CIGAR.\">\n",
      "Warning: Expected at least 2 parts in FORMAT entry: ID=GQ,Number=1,Type=Float,Description=\"Genotype Quality, the Phred-scaled marginal (or unconditional) probability of the called genotype\">\n",
      "Warning: Expected at least 2 parts in FORMAT entry: ID=GL,Number=G,Type=Float,Description=\"Genotype Likelihood, log10-scaled likelihoods of the data given the called genotype for each possible genotype generated from the reference and alternate alleles given the sample ploidy\">\n",
      "After filtering, kept 159 out of 159 Individuals\n",
      "Outputting Quality for Each Site\n"
     ]
    },
    {
     "name": "stdout",
     "output_type": "stream",
     "text": [
      "After filtering, kept 329152 out of a possible 329152 Sites\n",
      "Run Time = 6.00 seconds\n",
      "\n",
      "VCFtools - 0.1.16\n",
      "(C) Adam Auton and Anthony Marcketta 2009\n",
      "\n",
      "Parameters as interpreted:\n",
      "\t--gzvcf /local/home/katrinac/ClownfishGWAS/data/APPC_sequencing/DNA/filtering/max_missing05_minQ20.recode.vcf.gz\n",
      "\t--missing-indv\n",
      "\t--out /local/home/katrinac/ClownfishGWAS/data/APPC_sequencing/DNA/filtering/max_missing05_minQ20\n",
      "\n",
      "Using zlib version: 1.2.11\n",
      "Warning: Expected at least 2 parts in INFO entry: ID=AF,Number=A,Type=Float,Description=\"Estimated allele frequency in the range (0,1]\">\n",
      "Warning: Expected at least 2 parts in INFO entry: ID=PRO,Number=1,Type=Float,Description=\"Reference allele observation count, with partial observations recorded fractionally\">\n",
      "Warning: Expected at least 2 parts in INFO entry: ID=PAO,Number=A,Type=Float,Description=\"Alternate allele observations, with partial observations recorded fractionally\">\n",
      "Warning: Expected at least 2 parts in INFO entry: ID=SRP,Number=1,Type=Float,Description=\"Strand balance probability for the reference allele: Phred-scaled upper-bounds estimate of the probability of observing the deviation between SRF and SRR given E(SRF/SRR) ~ 0.5, derived using Hoeffding's inequality\">\n",
      "Warning: Expected at least 2 parts in INFO entry: ID=SAP,Number=A,Type=Float,Description=\"Strand balance probability for the alternate allele: Phred-scaled upper-bounds estimate of the probability of observing the deviation between SAF and SAR given E(SAF/SAR) ~ 0.5, derived using Hoeffding's inequality\">\n",
      "Warning: Expected at least 2 parts in INFO entry: ID=AB,Number=A,Type=Float,Description=\"Allele balance at heterozygous sites: a number between 0 and 1 representing the ratio of reads showing the reference allele to all reads, considering only reads from individuals called as heterozygous\">\n",
      "Warning: Expected at least 2 parts in INFO entry: ID=ABP,Number=A,Type=Float,Description=\"Allele balance probability at heterozygous sites: Phred-scaled upper-bounds estimate of the probability of observing the deviation between ABR and ABA given E(ABR/ABA) ~ 0.5, derived using Hoeffding's inequality\">\n",
      "Warning: Expected at least 2 parts in INFO entry: ID=RPP,Number=A,Type=Float,Description=\"Read Placement Probability: Phred-scaled upper-bounds estimate of the probability of observing the deviation between RPL and RPR given E(RPL/RPR) ~ 0.5, derived using Hoeffding's inequality\">\n",
      "Warning: Expected at least 2 parts in INFO entry: ID=RPPR,Number=1,Type=Float,Description=\"Read Placement Probability for reference observations: Phred-scaled upper-bounds estimate of the probability of observing the deviation between RPL and RPR given E(RPL/RPR) ~ 0.5, derived using Hoeffding's inequality\">\n",
      "Warning: Expected at least 2 parts in INFO entry: ID=EPP,Number=A,Type=Float,Description=\"End Placement Probability: Phred-scaled upper-bounds estimate of the probability of observing the deviation between EL and ER given E(EL/ER) ~ 0.5, derived using Hoeffding's inequality\">\n",
      "Warning: Expected at least 2 parts in INFO entry: ID=EPPR,Number=1,Type=Float,Description=\"End Placement Probability for reference observations: Phred-scaled upper-bounds estimate of the probability of observing the deviation between EL and ER given E(EL/ER) ~ 0.5, derived using Hoeffding's inequality\">\n",
      "Warning: Expected at least 2 parts in INFO entry: ID=TYPE,Number=A,Type=String,Description=\"The type of allele, either snp, mnp, ins, del, or complex.\">\n",
      "Warning: Expected at least 2 parts in INFO entry: ID=TYPE,Number=A,Type=String,Description=\"The type of allele, either snp, mnp, ins, del, or complex.\">\n",
      "Warning: Expected at least 2 parts in INFO entry: ID=TYPE,Number=A,Type=String,Description=\"The type of allele, either snp, mnp, ins, del, or complex.\">\n",
      "Warning: Expected at least 2 parts in INFO entry: ID=TYPE,Number=A,Type=String,Description=\"The type of allele, either snp, mnp, ins, del, or complex.\">\n",
      "Warning: Expected at least 2 parts in INFO entry: ID=TYPE,Number=A,Type=String,Description=\"The type of allele, either snp, mnp, ins, del, or complex.\">\n",
      "Warning: Expected at least 2 parts in INFO entry: ID=CIGAR,Number=A,Type=String,Description=\"The extended CIGAR representation of each alternate allele, with the exception that '=' is replaced by 'M' to ease VCF parsing.  Note that INDEL alleles do not have the first matched base (which is provided by default, per the spec) referred to by the CIGAR.\">\n",
      "Warning: Expected at least 2 parts in FORMAT entry: ID=GQ,Number=1,Type=Float,Description=\"Genotype Quality, the Phred-scaled marginal (or unconditional) probability of the called genotype\">\n",
      "Warning: Expected at least 2 parts in FORMAT entry: ID=GL,Number=G,Type=Float,Description=\"Genotype Likelihood, log10-scaled likelihoods of the data given the called genotype for each possible genotype generated from the reference and alternate alleles given the sample ploidy\">\n",
      "After filtering, kept 159 out of 159 Individuals\n",
      "Outputting Individual Missingness\n",
      "After filtering, kept 329152 out of a possible 329152 Sites\n",
      "Run Time = 11.00 seconds\n",
      "\n",
      "VCFtools - 0.1.16\n",
      "(C) Adam Auton and Anthony Marcketta 2009\n",
      "\n",
      "Parameters as interpreted:\n",
      "\t--gzvcf /local/home/katrinac/ClownfishGWAS/data/APPC_sequencing/DNA/filtering/max_missing05_minQ20.recode.vcf.gz\n",
      "\t--out /local/home/katrinac/ClownfishGWAS/data/APPC_sequencing/DNA/filtering/max_missing05_minQ20\n",
      "\t--missing-site\n",
      "\n",
      "Using zlib version: 1.2.11\n",
      "Warning: Expected at least 2 parts in INFO entry: ID=AF,Number=A,Type=Float,Description=\"Estimated allele frequency in the range (0,1]\">\n",
      "Warning: Expected at least 2 parts in INFO entry: ID=PRO,Number=1,Type=Float,Description=\"Reference allele observation count, with partial observations recorded fractionally\">\n",
      "Warning: Expected at least 2 parts in INFO entry: ID=PAO,Number=A,Type=Float,Description=\"Alternate allele observations, with partial observations recorded fractionally\">\n",
      "Warning: Expected at least 2 parts in INFO entry: ID=SRP,Number=1,Type=Float,Description=\"Strand balance probability for the reference allele: Phred-scaled upper-bounds estimate of the probability of observing the deviation between SRF and SRR given E(SRF/SRR) ~ 0.5, derived using Hoeffding's inequality\">\n",
      "Warning: Expected at least 2 parts in INFO entry: ID=SAP,Number=A,Type=Float,Description=\"Strand balance probability for the alternate allele: Phred-scaled upper-bounds estimate of the probability of observing the deviation between SAF and SAR given E(SAF/SAR) ~ 0.5, derived using Hoeffding's inequality\">\n",
      "Warning: Expected at least 2 parts in INFO entry: ID=AB,Number=A,Type=Float,Description=\"Allele balance at heterozygous sites: a number between 0 and 1 representing the ratio of reads showing the reference allele to all reads, considering only reads from individuals called as heterozygous\">\n",
      "Warning: Expected at least 2 parts in INFO entry: ID=ABP,Number=A,Type=Float,Description=\"Allele balance probability at heterozygous sites: Phred-scaled upper-bounds estimate of the probability of observing the deviation between ABR and ABA given E(ABR/ABA) ~ 0.5, derived using Hoeffding's inequality\">\n",
      "Warning: Expected at least 2 parts in INFO entry: ID=RPP,Number=A,Type=Float,Description=\"Read Placement Probability: Phred-scaled upper-bounds estimate of the probability of observing the deviation between RPL and RPR given E(RPL/RPR) ~ 0.5, derived using Hoeffding's inequality\">\n",
      "Warning: Expected at least 2 parts in INFO entry: ID=RPPR,Number=1,Type=Float,Description=\"Read Placement Probability for reference observations: Phred-scaled upper-bounds estimate of the probability of observing the deviation between RPL and RPR given E(RPL/RPR) ~ 0.5, derived using Hoeffding's inequality\">\n",
      "Warning: Expected at least 2 parts in INFO entry: ID=EPP,Number=A,Type=Float,Description=\"End Placement Probability: Phred-scaled upper-bounds estimate of the probability of observing the deviation between EL and ER given E(EL/ER) ~ 0.5, derived using Hoeffding's inequality\">\n",
      "Warning: Expected at least 2 parts in INFO entry: ID=EPPR,Number=1,Type=Float,Description=\"End Placement Probability for reference observations: Phred-scaled upper-bounds estimate of the probability of observing the deviation between EL and ER given E(EL/ER) ~ 0.5, derived using Hoeffding's inequality\">\n",
      "Warning: Expected at least 2 parts in INFO entry: ID=TYPE,Number=A,Type=String,Description=\"The type of allele, either snp, mnp, ins, del, or complex.\">\n",
      "Warning: Expected at least 2 parts in INFO entry: ID=TYPE,Number=A,Type=String,Description=\"The type of allele, either snp, mnp, ins, del, or complex.\">\n",
      "Warning: Expected at least 2 parts in INFO entry: ID=TYPE,Number=A,Type=String,Description=\"The type of allele, either snp, mnp, ins, del, or complex.\">\n",
      "Warning: Expected at least 2 parts in INFO entry: ID=TYPE,Number=A,Type=String,Description=\"The type of allele, either snp, mnp, ins, del, or complex.\">\n",
      "Warning: Expected at least 2 parts in INFO entry: ID=TYPE,Number=A,Type=String,Description=\"The type of allele, either snp, mnp, ins, del, or complex.\">\n",
      "Warning: Expected at least 2 parts in INFO entry: ID=CIGAR,Number=A,Type=String,Description=\"The extended CIGAR representation of each alternate allele, with the exception that '=' is replaced by 'M' to ease VCF parsing.  Note that INDEL alleles do not have the first matched base (which is provided by default, per the spec) referred to by the CIGAR.\">\n",
      "Warning: Expected at least 2 parts in FORMAT entry: ID=GQ,Number=1,Type=Float,Description=\"Genotype Quality, the Phred-scaled marginal (or unconditional) probability of the called genotype\">\n",
      "Warning: Expected at least 2 parts in FORMAT entry: ID=GL,Number=G,Type=Float,Description=\"Genotype Likelihood, log10-scaled likelihoods of the data given the called genotype for each possible genotype generated from the reference and alternate alleles given the sample ploidy\">\n",
      "After filtering, kept 159 out of 159 Individuals\n",
      "Outputting Site Missingness\n"
     ]
    },
    {
     "name": "stdout",
     "output_type": "stream",
     "text": [
      "After filtering, kept 329152 out of a possible 329152 Sites\n",
      "Run Time = 14.00 seconds\n",
      "\n",
      "VCFtools - 0.1.16\n",
      "(C) Adam Auton and Anthony Marcketta 2009\n",
      "\n",
      "Parameters as interpreted:\n",
      "\t--gzvcf /local/home/katrinac/ClownfishGWAS/data/APPC_sequencing/DNA/filtering/max_missing05_minQ20.recode.vcf.gz\n",
      "\t--het\n",
      "\t--out /local/home/katrinac/ClownfishGWAS/data/APPC_sequencing/DNA/filtering/max_missing05_minQ20\n",
      "\n",
      "Using zlib version: 1.2.11\n",
      "Warning: Expected at least 2 parts in INFO entry: ID=AF,Number=A,Type=Float,Description=\"Estimated allele frequency in the range (0,1]\">\n",
      "Warning: Expected at least 2 parts in INFO entry: ID=PRO,Number=1,Type=Float,Description=\"Reference allele observation count, with partial observations recorded fractionally\">\n",
      "Warning: Expected at least 2 parts in INFO entry: ID=PAO,Number=A,Type=Float,Description=\"Alternate allele observations, with partial observations recorded fractionally\">\n",
      "Warning: Expected at least 2 parts in INFO entry: ID=SRP,Number=1,Type=Float,Description=\"Strand balance probability for the reference allele: Phred-scaled upper-bounds estimate of the probability of observing the deviation between SRF and SRR given E(SRF/SRR) ~ 0.5, derived using Hoeffding's inequality\">\n",
      "Warning: Expected at least 2 parts in INFO entry: ID=SAP,Number=A,Type=Float,Description=\"Strand balance probability for the alternate allele: Phred-scaled upper-bounds estimate of the probability of observing the deviation between SAF and SAR given E(SAF/SAR) ~ 0.5, derived using Hoeffding's inequality\">\n",
      "Warning: Expected at least 2 parts in INFO entry: ID=AB,Number=A,Type=Float,Description=\"Allele balance at heterozygous sites: a number between 0 and 1 representing the ratio of reads showing the reference allele to all reads, considering only reads from individuals called as heterozygous\">\n",
      "Warning: Expected at least 2 parts in INFO entry: ID=ABP,Number=A,Type=Float,Description=\"Allele balance probability at heterozygous sites: Phred-scaled upper-bounds estimate of the probability of observing the deviation between ABR and ABA given E(ABR/ABA) ~ 0.5, derived using Hoeffding's inequality\">\n",
      "Warning: Expected at least 2 parts in INFO entry: ID=RPP,Number=A,Type=Float,Description=\"Read Placement Probability: Phred-scaled upper-bounds estimate of the probability of observing the deviation between RPL and RPR given E(RPL/RPR) ~ 0.5, derived using Hoeffding's inequality\">\n",
      "Warning: Expected at least 2 parts in INFO entry: ID=RPPR,Number=1,Type=Float,Description=\"Read Placement Probability for reference observations: Phred-scaled upper-bounds estimate of the probability of observing the deviation between RPL and RPR given E(RPL/RPR) ~ 0.5, derived using Hoeffding's inequality\">\n",
      "Warning: Expected at least 2 parts in INFO entry: ID=EPP,Number=A,Type=Float,Description=\"End Placement Probability: Phred-scaled upper-bounds estimate of the probability of observing the deviation between EL and ER given E(EL/ER) ~ 0.5, derived using Hoeffding's inequality\">\n",
      "Warning: Expected at least 2 parts in INFO entry: ID=EPPR,Number=1,Type=Float,Description=\"End Placement Probability for reference observations: Phred-scaled upper-bounds estimate of the probability of observing the deviation between EL and ER given E(EL/ER) ~ 0.5, derived using Hoeffding's inequality\">\n",
      "Warning: Expected at least 2 parts in INFO entry: ID=TYPE,Number=A,Type=String,Description=\"The type of allele, either snp, mnp, ins, del, or complex.\">\n",
      "Warning: Expected at least 2 parts in INFO entry: ID=TYPE,Number=A,Type=String,Description=\"The type of allele, either snp, mnp, ins, del, or complex.\">\n",
      "Warning: Expected at least 2 parts in INFO entry: ID=TYPE,Number=A,Type=String,Description=\"The type of allele, either snp, mnp, ins, del, or complex.\">\n",
      "Warning: Expected at least 2 parts in INFO entry: ID=TYPE,Number=A,Type=String,Description=\"The type of allele, either snp, mnp, ins, del, or complex.\">\n",
      "Warning: Expected at least 2 parts in INFO entry: ID=TYPE,Number=A,Type=String,Description=\"The type of allele, either snp, mnp, ins, del, or complex.\">\n",
      "Warning: Expected at least 2 parts in INFO entry: ID=CIGAR,Number=A,Type=String,Description=\"The extended CIGAR representation of each alternate allele, with the exception that '=' is replaced by 'M' to ease VCF parsing.  Note that INDEL alleles do not have the first matched base (which is provided by default, per the spec) referred to by the CIGAR.\">\n",
      "Warning: Expected at least 2 parts in FORMAT entry: ID=GQ,Number=1,Type=Float,Description=\"Genotype Quality, the Phred-scaled marginal (or unconditional) probability of the called genotype\">\n",
      "Warning: Expected at least 2 parts in FORMAT entry: ID=GL,Number=G,Type=Float,Description=\"Genotype Likelihood, log10-scaled likelihoods of the data given the called genotype for each possible genotype generated from the reference and alternate alleles given the sample ploidy\">\n",
      "After filtering, kept 159 out of 159 Individuals\n",
      "Outputting Individual Heterozygosity\n",
      "\tIndividual Heterozygosity: Only using fully diploid SNPs.\n",
      "\tIndividual Heterozygosity: Only using biallelic SNPs.\n",
      "After filtering, kept 329152 out of a possible 329152 Sites\n",
      "Run Time = 12.00 seconds\n"
     ]
    }
   ],
   "source": [
    "#allele frequencies for sites with max 2 alleles\n",
    "!vcftools --gzvcf /local/home/katrinac/ClownfishGWAS/data/APPC_sequencing/DNA/filtering/max_missing05_minQ20.recode.vcf.gz --freq2 --out /local/home/katrinac/ClownfishGWAS/data/APPC_sequencing/DNA/filtering/max_missing05_minQ20 --max-alleles 2\n",
    "\n",
    "#mean depth per individual\n",
    "!vcftools --gzvcf /local/home/katrinac/ClownfishGWAS/data/APPC_sequencing/DNA/filtering/max_missing05_minQ20.recode.vcf.gz --depth --out /local/home/katrinac/ClownfishGWAS/data/APPC_sequencing/DNA/filtering/max_missing05_minQ20\n",
    "\n",
    "#mean depth per site\n",
    "!vcftools --gzvcf /local/home/katrinac/ClownfishGWAS/data/APPC_sequencing/DNA/filtering/max_missing05_minQ20.recode.vcf.gz --site-mean-depth --out /local/home/katrinac/ClownfishGWAS/data/APPC_sequencing/DNA/filtering/max_missing05_minQ20\n",
    "\n",
    "#site quality\n",
    "!vcftools --gzvcf /local/home/katrinac/ClownfishGWAS/data/APPC_sequencing/DNA/filtering/max_missing05_minQ20.recode.vcf.gz --site-quality --out /local/home/katrinac/ClownfishGWAS/data/APPC_sequencing/DNA/filtering/max_missing05_minQ20\n",
    "\n",
    "#missing data per individual\n",
    "!vcftools --gzvcf /local/home/katrinac/ClownfishGWAS/data/APPC_sequencing/DNA/filtering/max_missing05_minQ20.recode.vcf.gz --missing-indv --out /local/home/katrinac/ClownfishGWAS/data/APPC_sequencing/DNA/filtering/max_missing05_minQ20\n",
    "\n",
    "#missing data per site\n",
    "!vcftools --gzvcf /local/home/katrinac/ClownfishGWAS/data/APPC_sequencing/DNA/filtering/max_missing05_minQ20.recode.vcf.gz --missing-site --out /local/home/katrinac/ClownfishGWAS/data/APPC_sequencing/DNA/filtering/max_missing05_minQ20\n",
    "\n",
    "#heterozygosity per individual\n",
    "!vcftools --gzvcf /local/home/katrinac/ClownfishGWAS/data/APPC_sequencing/DNA/filtering/max_missing05_minQ20.recode.vcf.gz --het --out /local/home/katrinac/ClownfishGWAS/data/APPC_sequencing/DNA/filtering/max_missing05_minQ20"
   ]
  },
  {
   "cell_type": "markdown",
   "id": "9b38152d",
   "metadata": {},
   "source": [
    "__Now read data into R and check out the plots to guide further filtering__"
   ]
  },
  {
   "cell_type": "markdown",
   "id": "ea8849dc",
   "metadata": {},
   "source": [
    "__Looks like these warnings pertain to the VCF header. Here's some of the help pages I found saying it isn't a problem\n",
    "https://www.biostars.org/p/381639/ and https://github.com/vcftools/vcftools/issues/134__"
   ]
  },
  {
   "cell_type": "code",
   "execution_count": null,
   "id": "f884a32b",
   "metadata": {},
   "outputs": [],
   "source": []
  }
 ],
 "metadata": {
  "kernelspec": {
   "display_name": "Python 3 (ipykernel)",
   "language": "python",
   "name": "python3"
  },
  "language_info": {
   "codemirror_mode": {
    "name": "ipython",
    "version": 3
   },
   "file_extension": ".py",
   "mimetype": "text/x-python",
   "name": "python",
   "nbconvert_exporter": "python",
   "pygments_lexer": "ipython3",
   "version": "3.7.3"
  }
 },
 "nbformat": 4,
 "nbformat_minor": 5
}
