{
 "cells": [
  {
   "cell_type": "code",
   "execution_count": 1,
   "id": "1e11f42d",
   "metadata": {
    "scrolled": true
   },
   "outputs": [
    {
     "name": "stderr",
     "output_type": "stream",
     "text": [
      "\n",
      "Attaching package: ‘dplyr’\n",
      "\n",
      "The following objects are masked from ‘package:data.table’:\n",
      "\n",
      "    between, first, last\n",
      "\n",
      "The following objects are masked from ‘package:stats’:\n",
      "\n",
      "    filter, lag\n",
      "\n",
      "The following objects are masked from ‘package:base’:\n",
      "\n",
      "    intersect, setdiff, setequal, union\n",
      "\n",
      "\n",
      "For example usage please run: vignette('qqman')\n",
      "\n",
      "Citation appreciated but not required:\n",
      "Turner, (2018). qqman: an R package for visualizing GWAS results using Q-Q and manhattan plots. Journal of Open Source Software, 3(25), 731, https://doi.org/10.21105/joss.00731.\n",
      "\n",
      "Loading required package: BiocGenerics\n",
      "Loading required package: parallel\n",
      "\n",
      "Attaching package: ‘BiocGenerics’\n",
      "\n",
      "The following objects are masked from ‘package:parallel’:\n",
      "\n",
      "    clusterApply, clusterApplyLB, clusterCall, clusterEvalQ,\n",
      "    clusterExport, clusterMap, parApply, parCapply, parLapply,\n",
      "    parLapplyLB, parRapply, parSapply, parSapplyLB\n",
      "\n",
      "The following objects are masked from ‘package:dplyr’:\n",
      "\n",
      "    combine, intersect, setdiff, union\n",
      "\n",
      "The following objects are masked from ‘package:stats’:\n",
      "\n",
      "    IQR, mad, sd, var, xtabs\n",
      "\n",
      "The following objects are masked from ‘package:base’:\n",
      "\n",
      "    anyDuplicated, append, as.data.frame, basename, cbind, colnames,\n",
      "    dirname, do.call, duplicated, eval, evalq, Filter, Find, get, grep,\n",
      "    grepl, intersect, is.unsorted, lapply, Map, mapply, match, mget,\n",
      "    order, paste, pmax, pmax.int, pmin, pmin.int, Position, rank,\n",
      "    rbind, Reduce, rownames, sapply, setdiff, sort, table, tapply,\n",
      "    union, unique, unsplit, which, which.max, which.min\n",
      "\n",
      "Loading required package: graph\n",
      "Loading required package: Biobase\n",
      "Welcome to Bioconductor\n",
      "\n",
      "    Vignettes contain introductory material; view with\n",
      "    'browseVignettes()'. To cite Bioconductor, see\n",
      "    'citation(\"Biobase\")', and for packages 'citation(\"pkgname\")'.\n",
      "\n",
      "Loading required package: GO.db\n",
      "Loading required package: AnnotationDbi\n",
      "Loading required package: stats4\n",
      "Loading required package: IRanges\n",
      "Loading required package: S4Vectors\n",
      "\n",
      "Attaching package: ‘S4Vectors’\n",
      "\n",
      "The following objects are masked from ‘package:dplyr’:\n",
      "\n",
      "    first, rename\n",
      "\n",
      "The following objects are masked from ‘package:data.table’:\n",
      "\n",
      "    first, second\n",
      "\n",
      "The following object is masked from ‘package:base’:\n",
      "\n",
      "    expand.grid\n",
      "\n",
      "\n",
      "Attaching package: ‘IRanges’\n",
      "\n",
      "The following objects are masked from ‘package:dplyr’:\n",
      "\n",
      "    collapse, desc, slice\n",
      "\n",
      "The following object is masked from ‘package:data.table’:\n",
      "\n",
      "    shift\n",
      "\n",
      "\n",
      "Attaching package: ‘AnnotationDbi’\n",
      "\n",
      "The following object is masked from ‘package:dplyr’:\n",
      "\n",
      "    select\n",
      "\n",
      "\n",
      "Loading required package: SparseM\n",
      "\n",
      "Attaching package: ‘SparseM’\n",
      "\n",
      "The following object is masked from ‘package:base’:\n",
      "\n",
      "    backsolve\n",
      "\n",
      "\n",
      "groupGOTerms: \tGOBPTerm, GOMFTerm, GOCCTerm environments built.\n",
      "\n",
      "Attaching package: ‘topGO’\n",
      "\n",
      "The following object is masked from ‘package:IRanges’:\n",
      "\n",
      "    members\n",
      "\n"
     ]
    }
   ],
   "source": [
    "library(data.table)\n",
    "library(ggplot2)\n",
    "library(dplyr)\n",
    "#library(viridis)\n",
    "library(qqman)\n",
    "#library(qvalue)\n",
    "#library(Bioconducter)\n",
    "library(topGO)\n",
    "\"%!in%\" <- function(x,table) match(x,table, nomatch = 0) == 0\n",
    "options(repr.plot.width=20, repr.plot.height=15)"
   ]
  },
  {
   "cell_type": "markdown",
   "id": "334a1ffe",
   "metadata": {},
   "source": [
    "__make a sites file to filter out linked loci with pcangsd__"
   ]
  },
  {
   "cell_type": "code",
   "execution_count": null,
   "id": "7b9275c8",
   "metadata": {
    "scrolled": true
   },
   "outputs": [],
   "source": [
    "#how do maf and calls across ind look- also make sites files for angsd and filter sites for pcangsd\n",
    "sites <- fread(\"/data/katrinac/APPC_sequencing/DNA/trimmed_reads/mapping/genotypes/angsd/appc_angsd_probs.hwe.gz\")\n",
    "#head(sites)\n",
    "unlinked <- fread(\"/data/katrinac/APPC_sequencing/DNA/trimmed_reads/mapping/genotypes/angsd/ngsld/appc_unlinked_for_angsd.txt\")\n",
    "setnames(unlinked, 1:2, c(\"Chromo\", \"Position\"))\n",
    "unlinked[, filter := 1] #when ngsld has kept the site, mark with 1 so pcangsd knows to keep it\n",
    "test_filter_sites <- left_join(sites, unlinked) #join with full sites dt and mark linked  sites with 0\n",
    "#head(test_filter_sites)\n",
    "#nrow(test_filter_sites)==nrow(sites) #check that this is true\n",
    "test_filter_sites[is.na(filter), filter := 0]\n",
    "#write out for pcangsd\n",
    "#fwrite(test_filter_sites[,.(filter)], \"/data/katrinac/APPC_sequencing/DNA/trimmed_reads/mapping/genotypes/angsd/ngsld/filter_linked_sites_pcangsd.txt\", col.names = F)"
   ]
  },
  {
   "cell_type": "markdown",
   "id": "faff55cc",
   "metadata": {},
   "source": [
    "__make positions file for angsd to restrict to unlinked sites__"
   ]
  },
  {
   "cell_type": "code",
   "execution_count": null,
   "id": "03c29101",
   "metadata": {},
   "outputs": [],
   "source": [
    "nrow(maf[, .N, by=\"chromo\"])\n",
    "pyam <- unique(maf[chromo %like% \"PYAM\"], by=\"chromo\")[, chromo] #add the PYAM sites together\n",
    "names <- maf[chromo %!in% pyam, .N, by=\"chromo\"][, \"chromo\"] #get a list of chromosome labels\n",
    "names_with_pyam <- rbind(names, matrix(nrow=1, ncol=1, \"PYAM\"), use.names=F)\n",
    "#fwrite(names_with_pyam, \"/data/katrinac/APPC_sequencing/DNA/trimmed_reads/mapping/ensembl/genotypes/angsd/ngsld/chromosomes.txt\", col.names =F)"
   ]
  },
  {
   "cell_type": "markdown",
   "id": "d39d4e39",
   "metadata": {},
   "source": [
    "__plot the pcangsd results, color by phenotypes in the association__"
   ]
  },
  {
   "cell_type": "code",
   "execution_count": null,
   "id": "e3bc8d1f",
   "metadata": {},
   "outputs": [],
   "source": [
    "pca <- fread(\"/data/katrinac/APPC_sequencing/DNA/trimmed_reads/mapping/genotypes/angsd/output.pcangsd.cov\")\n",
    "#get eigenvalues\n",
    "ev <-eigen(pca)\n",
    "ev_dt <- data.table(ev$vectors[,1:10])\n",
    "setnames(ev_dt, c(\"pc1\", \"pc2\", \"pc3\", \"pc4\", \"pc5\", \"pc6\", \"pc7\", \"pc8\", \"pc9\", \"pc10\"))\n",
    "#variance explained?\n",
    "ev$values/sum(ev$values)"
   ]
  },
  {
   "cell_type": "markdown",
   "id": "42650a12",
   "metadata": {},
   "source": [
    "__join together the metadata with other covariates and phenotypes with the pcs- be sure to check that the samples are ordered the same as bamlist__"
   ]
  },
  {
   "cell_type": "code",
   "execution_count": 18,
   "id": "d79b92c3",
   "metadata": {},
   "outputs": [
    {
     "name": "stderr",
     "output_type": "stream",
     "text": [
      "Warning message in `[.data.table`(fread(\"/data/katrinac/APPC_sequencing/DNA/trimmed_reads/mapping/genotypes/angsd/Sample_Meta.txt\")[is.na(Group), :\n",
      "“Coerced double RHS to character to match the type of the target column (column 10 named 'Group'). If the target column's type character is correct, it's best for efficiency to avoid the coercion and create the RHS as type character. To achieve that consider R's type postfix: typeof(0L) vs typeof(0), and typeof(NA) vs typeof(NA_integer_) vs typeof(NA_real_). You can wrap the RHS with as.character() to avoid this warning, but that will still perform the coercion. If the target column's type is not correct, it's best to revisit where the DT was created and fix the column type there; e.g., by using colClasses= in fread(). Otherwise, you can change the column type now by plonking a new column (of the desired type) over the top of it; e.g. DT[, `Group`:=as.double(`Group`)]. If the RHS of := has nrow(DT) elements then the assignment is called a column plonk and is the way to change a column's type. Column types can be observed with sapply(DT,typeof).”Warning message in `[.data.table`(fread(\"/data/katrinac/APPC_sequencing/DNA/trimmed_reads/mapping/genotypes/angsd/Sample_Meta.txt\")[is.na(Group), :\n",
      "“Coerced double RHS to character to match the type of the target column (column 10 named 'Group'). If the target column's type character is correct, it's best for efficiency to avoid the coercion and create the RHS as type character. To achieve that consider R's type postfix: typeof(0L) vs typeof(0), and typeof(NA) vs typeof(NA_integer_) vs typeof(NA_real_). You can wrap the RHS with as.character() to avoid this warning, but that will still perform the coercion. If the target column's type is not correct, it's best to revisit where the DT was created and fix the column type there; e.g., by using colClasses= in fread(). Otherwise, you can change the column type now by plonking a new column (of the desired type) over the top of it; e.g. DT[, `Group`:=as.double(`Group`)]. If the RHS of := has nrow(DT) elements then the assignment is called a column plonk and is the way to change a column's type. Column types can be observed with sapply(DT,typeof).”"
     ]
    }
   ],
   "source": [
    "bamlist <- fread(\"/data/katrinac/APPC_sequencing/DNA/trimmed_reads/mapping/genotypes/bamlist.list.txt\")\n",
    "meta <- fread(\"/data/katrinac/APPC_sequencing/DNA/trimmed_reads/mapping/genotypes/angsd/Sample_Meta.txt\")[is.na(Group), Group :=-999][Group==\"High\", Group:=1][Group==\"Low\", Group:=0][, .(sample=gen_id, ucrit=Ucrit, sl=SL, dam, sire, case=Group, capture=Capture)]\n",
    "sorted_meta <- left_join(bamlist, meta, by=\"sample\")\n",
    "#pca_phenos <- cbind(sorted_meta , ev_dt)[, sequencing_lib := ifelse(capture %in% c(\"Pop01\",\"Pop02\",\"Pop03\", \"Pop04\", \"Pop05\", \"Pop06\", \"Pop07\",\"Pop08\"), 1, 2)]\n",
    "#write out the pcs to use as covariates\n",
    "#fwrite(sorted_meta[, \"sl\"], \"/data/katrinac/APPC_sequencing/DNA/trimmed_reads/mapping/ensembl/genotypes/angsd/SL_pheno_test.yquant\", col.names = F)"
   ]
  },
  {
   "cell_type": "code",
   "execution_count": 19,
   "id": "4957bd0f",
   "metadata": {},
   "outputs": [
    {
     "data": {
      "text/plain": [
       "    sample              ucrit             sl            dam           \n",
       " Length:159         Min.   :0.130   Min.   :3.920   Length:159        \n",
       " Class :character   1st Qu.:1.015   1st Qu.:4.160   Class :character  \n",
       " Mode  :character   Median :3.780   Median :4.270   Mode  :character  \n",
       "                    Mean   :4.098   Mean   :4.254                     \n",
       "                    3rd Qu.:6.775   3rd Qu.:4.350                     \n",
       "                    Max.   :9.450   Max.   :4.560                     \n",
       "                                    NA's   :12                        \n",
       "     sire               case             capture         \n",
       " Length:159         Length:159         Length:159        \n",
       " Class :character   Class :character   Class :character  \n",
       " Mode  :character   Mode  :character   Mode  :character  \n",
       "                                                         \n",
       "                                                         \n",
       "                                                         \n",
       "                                                         "
      ]
     },
     "metadata": {},
     "output_type": "display_data"
    }
   ],
   "source": [
    "summary(sorted_meta)"
   ]
  },
  {
   "cell_type": "code",
   "execution_count": null,
   "id": "0b61153b",
   "metadata": {},
   "outputs": [],
   "source": [
    "cor.test(pca_phenos$ucrit, pca_phenos$sl)"
   ]
  },
  {
   "cell_type": "code",
   "execution_count": null,
   "id": "69d4274f",
   "metadata": {},
   "outputs": [],
   "source": [
    "ucrit_fam <- ggplot()+\n",
    "geom_histogram(data=pca_phenos, aes(x=ucrit), color=\"black\", fill=\"gray\")+\n",
    " ylab(\"Frequency\") +\n",
    "    xlab(\"Ucrit\")+\n",
    "    theme(strip.text.x = element_text(size = 14),\n",
    "    legend.position = \"bottom\",\n",
    "    legend.key=element_blank(),\n",
    "    panel.grid.major = element_blank(),\n",
    "    panel.grid.minor = element_blank(), \n",
    "    panel.background = element_blank(), #,\n",
    "    axis.line = element_line(colour = \"black\"),axis.text.x =  element_text(size=18, color=\"black\"),#15 for publication, 20 for presentation #element_text(size=15, color=\"black\", family=\"Helvetica\"),\n",
    "    axis.title.y =  element_text(size=18, color=\"black\"),\n",
    "    axis.title.x =  element_text(size=18, color=\"black\"),#15 for publication, 20 for presentation #element_text(size=15, color=\"black\", family=\"Helvetica\"),\n",
    "    axis.text.y =  element_text(size=18, color=\"black\"))+\n",
    "    scale_x_continuous(limits = c(0,9), expand = c(0, 0), breaks=c(seq(0, 9, 1))) +    \n",
    "    scale_y_continuous(expand = c(0,0), limits = c(0,18)) \n",
    "\n",
    "ucrit_fam\n",
    "ggsave(plot=ucrit_fam, filename = \"/data/katrinac/APPC_sequencing/DNA/trimmed_reads/mapping/ensembl/genotypes/angsd/results/ucrit_dist_pres.pdf\")"
   ]
  },
  {
   "cell_type": "code",
   "execution_count": null,
   "id": "cf53d824",
   "metadata": {},
   "outputs": [],
   "source": [
    "sl_fam <- ggplot()+\n",
    "geom_histogram(data=pca_phenos, aes(x=sl), color=\"black\", fill=\"gray\")+\n",
    " ylab(\"Frequency\") +\n",
    "    xlab(\"Body size (mm)\")+\n",
    "    theme(strip.text.x = element_text(size = 14),\n",
    "    legend.position = \"bottom\",\n",
    "    legend.key=element_blank(),\n",
    "    panel.grid.major = element_blank(),\n",
    "    panel.grid.minor = element_blank(), \n",
    "    panel.background = element_blank(), #,\n",
    "    axis.line = element_line(colour = \"black\"),axis.text.x =  element_text(size=18, color=\"black\"),#15 for publication, 20 for presentation #element_text(size=15, color=\"black\", family=\"Helvetica\"),\n",
    "    axis.title.y =  element_text(size=18, color=\"black\"),\n",
    "    axis.title.x =  element_text(size=18, color=\"black\"),#15 for publication, 20 for presentation #element_text(size=15, color=\"black\", family=\"Helvetica\"),\n",
    "    axis.text.y =  element_text(size=18, color=\"black\"))+\n",
    "    scale_x_continuous(limits = c(3.9,4.7), expand = c(0, 0), breaks=c(seq(3.9, 4.6, .1))) +    \n",
    "    scale_y_continuous(expand = c(0,0), limits = c(0,18)) \n",
    "\n",
    "sl_fam\n",
    "ggsave(plot=sl_fam, filename = \"/data/katrinac/APPC_sequencing/DNA/trimmed_reads/mapping/ensembl/genotypes/angsd/results/sl_dist_pres.pdf\")"
   ]
  },
  {
   "cell_type": "code",
   "execution_count": null,
   "id": "6336c891",
   "metadata": {},
   "outputs": [],
   "source": [
    "summary(pca_phenos$sl)"
   ]
  },
  {
   "cell_type": "code",
   "execution_count": null,
   "id": "3fdbb245",
   "metadata": {},
   "outputs": [],
   "source": [
    "predictors <- as.data.table(summary(glm(data=pca_phenos, ucrit ~ pc1+pc2+pc3))$coeff)\n",
    " \n",
    "predictors$names <- row.names(summary(glm(data=pca_phenos, ucrit ~ pc1+pc2+pc3))$coeff)\n",
    "setnames(predictors, 4, \"pvalue\")\n",
    "predictors[pvalue <0.08][order(pvalue)]"
   ]
  },
  {
   "cell_type": "code",
   "execution_count": null,
   "id": "efe3221f",
   "metadata": {},
   "outputs": [],
   "source": [
    "summary(lm(data=pca_phenos, sl ~pc1+pc2+pc3))"
   ]
  },
  {
   "cell_type": "code",
   "execution_count": null,
   "id": "8de8c577",
   "metadata": {},
   "outputs": [],
   "source": [
    "#what pcs/covariates explain the phenotype?\n",
    "predictors <- as.data.table(summary(glm(data=pca_phenos, sl ~pc1+pc2+pc3))$coeff)\n",
    " \n",
    "predictors$names <- row.names(summary(glm(data=pca_phenos, sl ~ pc1+pc2+pc3))$coeff)\n",
    "setnames(predictors, 4, \"pvalue\")\n",
    "predictors[pvalue <0.06][order(pvalue)]"
   ]
  },
  {
   "cell_type": "code",
   "execution_count": null,
   "id": "de6ae6f2",
   "metadata": {},
   "outputs": [],
   "source": [
    "library(broom)"
   ]
  },
  {
   "cell_type": "code",
   "execution_count": null,
   "id": "754eb58e",
   "metadata": {},
   "outputs": [],
   "source": [
    "summary(glm(data=pca_phenos, sl ~pc1+pc2+pc3))\n",
    "sl_results <- tidy(glm(data=pca_phenos, sl ~pc1+pc2+pc3))\n",
    "fwrite(sl_results, \"/data/katrinac/APPC_sequencing/DNA/trimmed_reads/mapping/ensembl/genotypes/angsd/results/sl_pca_glm.csv\" )\n",
    "ucrit_results <- tidy(glm(data=pca_phenos, ucrit ~pc1+pc2+pc3))\n",
    "fwrite(ucrit_results, \"/data/katrinac/APPC_sequencing/DNA/trimmed_reads/mapping/ensembl/genotypes/angsd/results/ucrit_pca_glm.csv\" )\n"
   ]
  },
  {
   "cell_type": "code",
   "execution_count": null,
   "id": "9583f519",
   "metadata": {},
   "outputs": [],
   "source": [
    "#fwrite(pca_phenos[,.(pc1, pc2, pc3)],\"/data/katrinac/APPC_sequencing/DNA/trimmed_reads/mapping/genotypes/angsd/pc1-3_unlinked.cov\", col.names = FALSE )"
   ]
  },
  {
   "cell_type": "code",
   "execution_count": null,
   "id": "2bb87471",
   "metadata": {},
   "outputs": [],
   "source": [
    "str(pca_phenos)"
   ]
  },
  {
   "cell_type": "code",
   "execution_count": null,
   "id": "b5923c5e",
   "metadata": {},
   "outputs": [],
   "source": [
    "pca_plot <- ggplot(data=pca_phenos, aes(x=pc1, y=pc2, color=sire))+\n",
    "    geom_point()+\n",
    "    xlab(\"PC1, 22.19% variance explained\")+\n",
    "    ylab(\"PC2, 0.05% variance explained\")\n",
    "pca_plot"
   ]
  },
  {
   "cell_type": "code",
   "execution_count": null,
   "id": "de84479e",
   "metadata": {},
   "outputs": [],
   "source": [
    "pca_plot <- ggplot(data=pca_phenos, aes(x=pc1, y=pc2, color=sire))+\n",
    "    geom_point()+\n",
    "    xlab(\"PC1, 22.19% variance explained\")+\n",
    "    ylab(\"PC2, 0.05% variance explained\") +\n",
    "    theme(strip.text.x = element_text(size = 14),\n",
    "    axis.text.x =  element_text(size=14, color=\"black\"),#15 for publication, 20 for presentation #element_text(size=15, color=\"black\", family=\"Helvetica\"),\n",
    "    axis.title.y =  element_text(size=18, color=\"black\"),\n",
    "    axis.title.x =  element_text(size=18, color=\"black\"),#15 for publication, 20 for presentation #element_text(size=15, color=\"black\", family=\"Helvetica\"),\n",
    "    axis.text.y =  element_text(size=18, color=\"black\"))\n",
    "pca_plot"
   ]
  },
  {
   "cell_type": "code",
   "execution_count": null,
   "id": "c1569f32",
   "metadata": {},
   "outputs": [],
   "source": [
    "ggsave(plot=pca_plot, filename = \"/data/katrinac/APPC_sequencing/DNA/trimmed_reads/mapping/ensembl/genotypes/angsd/results/pca_sire_color_pres.pdf\")"
   ]
  },
  {
   "cell_type": "code",
   "execution_count": null,
   "id": "4d1a8fb5",
   "metadata": {},
   "outputs": [],
   "source": [
    "#ggplot()+\n",
    "#    geom_point(data=pca_phenos[], aes(x=pc1, y=pc2, col=sl)) +\n",
    "#    scale_color_viridis(color.palette=magma)"
   ]
  },
  {
   "cell_type": "code",
   "execution_count": null,
   "id": "ec932d46",
   "metadata": {},
   "outputs": [],
   "source": [
    "#ggplot()+\n",
    "#    geom_point(data=pca_phenos, aes(x=pc1, y=pc2, col=ucrit)) +\n",
    "#    scale_color_viridis(option=\"magma\")"
   ]
  },
  {
   "cell_type": "code",
   "execution_count": null,
   "id": "b95e379a",
   "metadata": {},
   "outputs": [],
   "source": [
    "#ggplot()+\n",
    "#    geom_point(data=pca_phenos, aes(x=pc1, y=pc2, col=sequencing_lib)) +\n",
    "#    scale_color_viridis(option=\"magma\")"
   ]
  },
  {
   "cell_type": "code",
   "execution_count": null,
   "id": "a8e84cbb",
   "metadata": {},
   "outputs": [],
   "source": [
    "ggplot(data=pca_phenos, aes(x=pc1, y=pc2, col=dam, label=sample))+\n",
    "    geom_point() #+\n",
    "    #geom_text(nudge_x = 0.02)"
   ]
  },
  {
   "cell_type": "code",
   "execution_count": 5,
   "id": "be493eb6",
   "metadata": {},
   "outputs": [
    {
     "data": {
      "text/html": [
       "'/tmp/Rtmp9bJiGF'"
      ],
      "text/latex": [
       "'/tmp/Rtmp9bJiGF'"
      ],
      "text/markdown": [
       "'/tmp/Rtmp9bJiGF'"
      ],
      "text/plain": [
       "[1] \"/tmp/Rtmp9bJiGF\""
      ]
     },
     "metadata": {},
     "output_type": "display_data"
    }
   ],
   "source": [
    "tempdir()"
   ]
  },
  {
   "cell_type": "markdown",
   "id": "0b2f3e30",
   "metadata": {},
   "source": [
    "### evaluate model and plot GWAS results for each phenotype"
   ]
  },
  {
   "cell_type": "code",
   "execution_count": 18,
   "id": "3d111f42",
   "metadata": {},
   "outputs": [],
   "source": [
    "lrt_ucrit <- fread(file=\"/data/katrinac/APPC_sequencing/DNA/trimmed_reads/mapping/ensembl/genotypes/angsd/ucrit_assoc2_maf0.05_noMaxdepth_unlinkedPC1cov_minQ30_minCount16.lrt0\")\n",
    "lrt_ucrit[, locus := paste(Chromosome, Position, sep=\":\")]\n",
    "#setnames(lrt_ucrit, \"LRTscore\", \"LRT\")\n",
    "\n",
    "#filter out loci in hwe and NAN\n",
    "lrt_filt_ucrit <- lrt_ucrit[LRT>0][Chromosome %in% as.character(seq(1,24,1))]#[, Chromosome := paste0(\"chr\", Chromosome, sep=\"\")] \n",
    "#format for manhattan plot\n",
    "#get pvalues\n",
    "lrt_filt_ucrit$pvalue<-pchisq(lrt_filt_ucrit$LRT, df=1, lower=F)\n",
    "#lrt_filt_ucrit[, Chromosome := gsub(\"CM\",\"\", Chromosome, fixed = T)][, Chromosome := gsub(\"PYAM\",\"\", Chromosome, fixed = T)]#[, Chromosome := gsub(\".\",\"\", Chromosome, fixed = T)]\n",
    "lrt_filt_ucrit[, Chromosome_man := as.numeric(Chromosome)]\n",
    "lrt_filt_ucrit$SNP<-paste(\"r\",1:length(lrt_filt_ucrit$Chromosome), sep=\"\")\n"
   ]
  },
  {
   "cell_type": "code",
   "execution_count": 13,
   "id": "05c0c772",
   "metadata": {},
   "outputs": [
    {
     "data": {
      "text/html": [
       "132106"
      ],
      "text/latex": [
       "132106"
      ],
      "text/markdown": [
       "132106"
      ],
      "text/plain": [
       "[1] 132106"
      ]
     },
     "metadata": {},
     "output_type": "display_data"
    }
   ],
   "source": [
    "nrow(lrt_filt_ucrit)\n",
    "#summary(lrt_filt_sl)"
   ]
  },
  {
   "cell_type": "code",
   "execution_count": 19,
   "id": "41356bc1",
   "metadata": {},
   "outputs": [
    {
     "data": {
      "text/html": [
       "105379"
      ],
      "text/latex": [
       "105379"
      ],
      "text/markdown": [
       "105379"
      ],
      "text/plain": [
       "[1] 105379"
      ]
     },
     "metadata": {},
     "output_type": "display_data"
    },
    {
     "data": {
      "text/html": [
       "<table>\n",
       "<thead><tr><th scope=col>Chromosome</th><th scope=col>Position</th><th scope=col>Major</th><th scope=col>Minor</th><th scope=col>Frequency</th><th scope=col>N</th><th scope=col>LRT</th><th scope=col>high_WT/HE/HO</th><th scope=col>locus</th><th scope=col>pvalue</th><th scope=col>Chromosome_man</th><th scope=col>SNP</th></tr></thead>\n",
       "<tbody>\n",
       "\t<tr><td>1        </td><td>10004    </td><td>A        </td><td>G        </td><td>0.109734 </td><td>147      </td><td>0.096277 </td><td>42/14/0  </td><td>1:10004  </td><td>0.7563440</td><td>1        </td><td>r1       </td></tr>\n",
       "\t<tr><td>1        </td><td>32316    </td><td>T        </td><td>G        </td><td>0.339790 </td><td>147      </td><td>0.843309 </td><td>11/20/0  </td><td>1:32316  </td><td>0.3584521</td><td>1        </td><td>r2       </td></tr>\n",
       "\t<tr><td>1        </td><td>32326    </td><td>T        </td><td>C        </td><td>0.206107 </td><td>147      </td><td>0.842760 </td><td>20/11/0  </td><td>1:32326  </td><td>0.3586086</td><td>1        </td><td>r3       </td></tr>\n",
       "\t<tr><td>1        </td><td>32350    </td><td>A        </td><td>G        </td><td>0.299364 </td><td>147      </td><td>0.125366 </td><td>10/10/1  </td><td>1:32350  </td><td>0.7232860</td><td>1        </td><td>r4       </td></tr>\n",
       "\t<tr><td>1        </td><td>32897    </td><td>C        </td><td>T        </td><td>0.198828 </td><td>147      </td><td>1.057497 </td><td>13/11/0  </td><td>1:32897  </td><td>0.3037868</td><td>1        </td><td>r5       </td></tr>\n",
       "\t<tr><td>1        </td><td>33219    </td><td>A        </td><td>G        </td><td>0.245286 </td><td>147      </td><td>0.272930 </td><td>13/12/0  </td><td>1:33219  </td><td>0.6013730</td><td>1        </td><td>r6       </td></tr>\n",
       "</tbody>\n",
       "</table>\n"
      ],
      "text/latex": [
       "\\begin{tabular}{r|llllllllllll}\n",
       " Chromosome & Position & Major & Minor & Frequency & N & LRT & high\\_WT/HE/HO & locus & pvalue & Chromosome\\_man & SNP\\\\\n",
       "\\hline\n",
       "\t 1         & 10004     & A         & G         & 0.109734  & 147       & 0.096277  & 42/14/0   & 1:10004   & 0.7563440 & 1         & r1       \\\\\n",
       "\t 1         & 32316     & T         & G         & 0.339790  & 147       & 0.843309  & 11/20/0   & 1:32316   & 0.3584521 & 1         & r2       \\\\\n",
       "\t 1         & 32326     & T         & C         & 0.206107  & 147       & 0.842760  & 20/11/0   & 1:32326   & 0.3586086 & 1         & r3       \\\\\n",
       "\t 1         & 32350     & A         & G         & 0.299364  & 147       & 0.125366  & 10/10/1   & 1:32350   & 0.7232860 & 1         & r4       \\\\\n",
       "\t 1         & 32897     & C         & T         & 0.198828  & 147       & 1.057497  & 13/11/0   & 1:32897   & 0.3037868 & 1         & r5       \\\\\n",
       "\t 1         & 33219     & A         & G         & 0.245286  & 147       & 0.272930  & 13/12/0   & 1:33219   & 0.6013730 & 1         & r6       \\\\\n",
       "\\end{tabular}\n"
      ],
      "text/markdown": [
       "\n",
       "| Chromosome | Position | Major | Minor | Frequency | N | LRT | high_WT/HE/HO | locus | pvalue | Chromosome_man | SNP |\n",
       "|---|---|---|---|---|---|---|---|---|---|---|---|\n",
       "| 1         | 10004     | A         | G         | 0.109734  | 147       | 0.096277  | 42/14/0   | 1:10004   | 0.7563440 | 1         | r1        |\n",
       "| 1         | 32316     | T         | G         | 0.339790  | 147       | 0.843309  | 11/20/0   | 1:32316   | 0.3584521 | 1         | r2        |\n",
       "| 1         | 32326     | T         | C         | 0.206107  | 147       | 0.842760  | 20/11/0   | 1:32326   | 0.3586086 | 1         | r3        |\n",
       "| 1         | 32350     | A         | G         | 0.299364  | 147       | 0.125366  | 10/10/1   | 1:32350   | 0.7232860 | 1         | r4        |\n",
       "| 1         | 32897     | C         | T         | 0.198828  | 147       | 1.057497  | 13/11/0   | 1:32897   | 0.3037868 | 1         | r5        |\n",
       "| 1         | 33219     | A         | G         | 0.245286  | 147       | 0.272930  | 13/12/0   | 1:33219   | 0.6013730 | 1         | r6        |\n",
       "\n"
      ],
      "text/plain": [
       "  Chromosome Position Major Minor Frequency N   LRT      high_WT/HE/HO locus  \n",
       "1 1          10004    A     G     0.109734  147 0.096277 42/14/0       1:10004\n",
       "2 1          32316    T     G     0.339790  147 0.843309 11/20/0       1:32316\n",
       "3 1          32326    T     C     0.206107  147 0.842760 20/11/0       1:32326\n",
       "4 1          32350    A     G     0.299364  147 0.125366 10/10/1       1:32350\n",
       "5 1          32897    C     T     0.198828  147 1.057497 13/11/0       1:32897\n",
       "6 1          33219    A     G     0.245286  147 0.272930 13/12/0       1:33219\n",
       "  pvalue    Chromosome_man SNP\n",
       "1 0.7563440 1              r1 \n",
       "2 0.3584521 1              r2 \n",
       "3 0.3586086 1              r3 \n",
       "4 0.7232860 1              r4 \n",
       "5 0.3037868 1              r5 \n",
       "6 0.6013730 1              r6 "
      ]
     },
     "metadata": {},
     "output_type": "display_data"
    }
   ],
   "source": [
    "lrt_sl <- fread(\"/data/katrinac/APPC_sequencing/DNA/trimmed_reads/mapping/ensembl/genotypes/angsd/sl_assoc2_maf0.05_noMaxdepth_unlinkedPC1cov_minQ30_minCount16.lrt0\")\n",
    "lrt_sl[, locus := paste(Chromosome, Position, sep=\":\")]\n",
    "#for hybrid assoc 5\n",
    "#setnames(lrt_sl, \"LRTscore\", \"LRT\")\n",
    "#filter out loci in hwe and NAN\n",
    "lrt_filt_sl <- lrt_sl[LRT>0][Chromosome %in% as.character(seq(1,24,1))]#[, Chromosome := paste0(\"chr\", Chromosome, sep=\"\")] \n",
    "#lrt_filt <- lrt[LRT>0]\n",
    "#format for manhattan plot\n",
    "#get pvalues\n",
    "lrt_filt_sl$pvalue<-pchisq(lrt_filt_sl$LRT, df=1, lower=F)\n",
    "#lrt_filt_sl[, Chromosome := gsub(\".\",\"\", Chromosome, fixed = T)][, Chromosome := gsub(\"CM\",\"\", Chromosome, fixed = T)][, Chromosome := gsub(\"PYAM\",\"\", Chromosome, fixed = T)]\n",
    "lrt_filt_sl[, Chromosome_man := as.numeric(Chromosome)]\n",
    "lrt_filt_sl$SNP<-paste(\"r\",1:length(lrt_filt_sl$Chromosome), sep=\"\")\n",
    "nrow(lrt_filt_sl)\n",
    "head(lrt_filt_sl)"
   ]
  },
  {
   "cell_type": "code",
   "execution_count": null,
   "id": "b58f2ef4",
   "metadata": {
    "scrolled": false
   },
   "outputs": [],
   "source": [
    "#png(\"/data/katrinac/APPC_sequencing/DNA/trimmed_reads/mapping/ensembl/genotypes/angsd/results/pval_qq_ucrit_uniform.png\")\n",
    "qqman::qq(lrt_filt_ucrit$pvalue)\n",
    "#dev.off()\n",
    "\n",
    "#png(\"/data/katrinac/APPC_sequencing/DNA/trimmed_reads/mapping/ensembl/genotypes/angsd/results/pval_qq_sl_uniform.png\")\n",
    "qqman::qq(lrt_filt_sl$pvalue)\n",
    "#dev.off()\n"
   ]
  },
  {
   "cell_type": "code",
   "execution_count": null,
   "id": "aecde043",
   "metadata": {
    "scrolled": false
   },
   "outputs": [],
   "source": [
    "#compare plots and inflation \n",
    "#pdf(\"/data/katrinac/APPC_sequencing/DNA/trimmed_reads/mapping/ensembl/genotypes/angsd/results/lrt_qq_ucrit.pdf\")\n",
    "qqplot(lrt_filt_ucrit$exp_lrt, lrt_filt_ucrit$LRT, xlab = \"Expected LRT\", ylab=\"Observed LRT\")\n",
    "abline(0, 1, col = \"red\")\n",
    "#dev.off()\n",
    "#median(lrt_filt_ucrit$LRT) / median(lrt_filt_ucrit$exp_lrt) #GC lambda = ratio at medians\n",
    "#summary(lrt_filt_ucrit$LRT)\n",
    "\n",
    "#pdf(\"/data/katrinac/APPC_sequencing/DNA/trimmed_reads/mapping/ensembl/genotypes/angsd/results/lrt_qq_sl.pdf\")\n",
    "qqplot(lrt_filt_sl$exp_lrt, lrt_filt_sl$LRT, xlab = \"Expected LRT\", ylab=\"Observed LRT\")\n",
    "abline(0, 1, col = \"red\")\n",
    "#dev.off()\n",
    "#median(lrt_filt_sl$LRT) / median(lrt_filt_sl$exp_lrt) #GC lambda = ratio at medians\n",
    "#summary(lrt_filt_sl$LRT)\n"
   ]
  },
  {
   "cell_type": "code",
   "execution_count": null,
   "id": "0895c7d1",
   "metadata": {},
   "outputs": [],
   "source": [
    "#are the pvalues correlated for phenotypes?\n",
    "for_corr_plot <- (left_join(lrt_filt_sl, lrt_filt_ucrit, by=\"locus\"))[, .(sl_neg_log_pvalue=-log10(pvalue.x), ucrit_neg_log_pvalue=-log10(pvalue.y), locus)]\n"
   ]
  },
  {
   "cell_type": "code",
   "execution_count": null,
   "id": "d4b51403",
   "metadata": {
    "scrolled": true
   },
   "outputs": [],
   "source": [
    "cor.test(for_corr_plot$sl_neg_log_pvalue, for_corr_plot$ucrit_neg_log_pvalue)\n",
    "#png(\"/data/katrinac/APPC_sequencing/DNA/trimmed_reads/mapping/ensembl/genotypes/angsd/results/pval_correalation.png\")\n",
    "plot(for_corr_plot$sl_neg_log_pvalue, for_corr_plot$ucrit_neg_log_pvalue, xlab = \"SL -log10(pvalue)\", ylab = \"Ucrit -log10(pvalue)\")\n",
    "#dev.off()"
   ]
  },
  {
   "cell_type": "markdown",
   "id": "abef98e5",
   "metadata": {},
   "source": [
    "__BH correction__"
   ]
  },
  {
   "cell_type": "code",
   "execution_count": 58,
   "id": "7f7bf368",
   "metadata": {},
   "outputs": [
    {
     "data": {
      "text/html": [
       "<table>\n",
       "<thead><tr><th scope=col>Chromosome</th><th scope=col>Position</th><th scope=col>Major</th><th scope=col>Minor</th><th scope=col>Frequency</th><th scope=col>N</th><th scope=col>LRT</th><th scope=col>high_WT/HE/HO</th><th scope=col>locus</th><th scope=col>pvalue</th><th scope=col>Chromosome_man</th><th scope=col>SNP</th><th scope=col>rank</th><th scope=col>padjBH</th></tr></thead>\n",
       "<tbody>\n",
       "</tbody>\n",
       "</table>\n"
      ],
      "text/latex": [
       "\\begin{tabular}{r|llllllllllllll}\n",
       " Chromosome & Position & Major & Minor & Frequency & N & LRT & high\\_WT/HE/HO & locus & pvalue & Chromosome\\_man & SNP & rank & padjBH\\\\\n",
       "\\hline\n",
       "\\end{tabular}\n"
      ],
      "text/markdown": [
       "\n",
       "| Chromosome | Position | Major | Minor | Frequency | N | LRT | high_WT/HE/HO | locus | pvalue | Chromosome_man | SNP | rank | padjBH |\n",
       "|---|---|---|---|---|---|---|---|---|---|---|---|---|---|\n",
       "\n"
      ],
      "text/plain": [
       "     Chromosome Position Major Minor Frequency N LRT high_WT/HE/HO locus pvalue\n",
       "     Chromosome_man SNP rank padjBH"
      ]
     },
     "metadata": {},
     "output_type": "display_data"
    }
   ],
   "source": [
    "lrt_filt_sl <- lrt_filt_sl[order(pvalue)]\n",
    "lrt_filt_sl$rank=1:NROW(lrt_filt_sl) #rank snp by order\n",
    "lrt_filt_sl$padjBH=(lrt_filt_sl$rank/nrow(lrt_filt_sl))*.2 #then calculate the critical by dividing each rank by the total number of snps, and then multiply by fdr\n",
    "lrt_filt_sl_sig=lrt_filt_sl[lrt_filt_sl$pvalue<lrt_filt_sl$padjBH,]\n",
    "lrt_filt_sl_sig\n",
    "\n"
   ]
  },
  {
   "cell_type": "code",
   "execution_count": 59,
   "id": "89593eb1",
   "metadata": {},
   "outputs": [
    {
     "data": {
      "text/html": [
       "<table>\n",
       "<thead><tr><th scope=col>Chromosome</th><th scope=col>Position</th><th scope=col>Major</th><th scope=col>Minor</th><th scope=col>Frequency</th><th scope=col>N</th><th scope=col>LRT</th><th scope=col>high_WT/HE/HO</th><th scope=col>locus</th><th scope=col>pvalue</th><th scope=col>Chromosome_man</th><th scope=col>SNP</th><th scope=col>rank</th><th scope=col>padjBH</th></tr></thead>\n",
       "<tbody>\n",
       "</tbody>\n",
       "</table>\n"
      ],
      "text/latex": [
       "\\begin{tabular}{r|llllllllllllll}\n",
       " Chromosome & Position & Major & Minor & Frequency & N & LRT & high\\_WT/HE/HO & locus & pvalue & Chromosome\\_man & SNP & rank & padjBH\\\\\n",
       "\\hline\n",
       "\\end{tabular}\n"
      ],
      "text/markdown": [
       "\n",
       "| Chromosome | Position | Major | Minor | Frequency | N | LRT | high_WT/HE/HO | locus | pvalue | Chromosome_man | SNP | rank | padjBH |\n",
       "|---|---|---|---|---|---|---|---|---|---|---|---|---|---|\n",
       "\n"
      ],
      "text/plain": [
       "     Chromosome Position Major Minor Frequency N LRT high_WT/HE/HO locus pvalue\n",
       "     Chromosome_man SNP rank padjBH"
      ]
     },
     "metadata": {},
     "output_type": "display_data"
    }
   ],
   "source": [
    "lrt_filt_ucrit <- lrt_filt_ucrit[order(pvalue)]\n",
    "lrt_filt_ucrit$rank=1:NROW(lrt_filt_ucrit) #rank snp by order\n",
    "lrt_filt_ucrit$padjBH=(lrt_filt_ucrit$rank/nrow(lrt_filt_ucrit))*.2 #then calculate the critical by dividing each rank by the total number of snps, and then multiply by fdr\n",
    "lrt_filt_ucrit_sig=lrt_filt_ucrit[lrt_filt_ucrit$pvalue<lrt_filt_ucrit$padjBH,]\n",
    "lrt_filt_ucrit_sig\n",
    "\n"
   ]
  },
  {
   "cell_type": "code",
   "execution_count": null,
   "id": "0e077f68",
   "metadata": {},
   "outputs": [],
   "source": []
  },
  {
   "cell_type": "markdown",
   "id": "7802c38b",
   "metadata": {},
   "source": [
    "__Stricter pvalue cutoff from Malin__"
   ]
  },
  {
   "cell_type": "code",
   "execution_count": 2,
   "id": "2b8d60b9",
   "metadata": {},
   "outputs": [],
   "source": [
    "ucrit_files <- list.files(path = \"/data/katrinac/APPC_sequencing/DNA/trimmed_reads/mapping/ensembl/genotypes/angsd/permute/increase_n/\", pattern = glob2rx(\"^ucrit*.lrt0\"))\n",
    "\n",
    "null_int <- as.data.frame(matrix(nrow=0, ncol=10))\n",
    "setDT(null_int)\n",
    "setnames(null_int, c(\"Chromosome\", \"Position\", \"Major\", \"Minor\", \"Frequency\", \"N\", \"LRT\",\"high_WT/HE/HO\", \"pvalue\", \"iteration\"))\n",
    "\n",
    "for(i in 1:length(ucrit_files)){\n",
    "    null <- fread(paste(\"/data/katrinac/APPC_sequencing/DNA/trimmed_reads/mapping/ensembl/genotypes/angsd/permute/increase_n/\", ucrit_files[i], sep=\"\"))[LRT >0 & Chromosome <=24][, pvalue:=pchisq(LRT, df=1, lower=F)][, iteration := i]\n",
    "    null_int <- rbind(null_int, null)\n",
    "}\n",
    "lrt_null_ucrit <- null_int\n",
    "#ucrit_null_chrom <- null_int\n",
    "#ucrit_null_chrom_lowest <- ucrit_null_chrom[, .(lower.25=quantile(min_pvalue, .025)[[1]]), by=Chromosome][,Chromosome:=paste0(\"chr\", Chromosome, sep=\"\")]\n",
    "#ucrit_null.25 <- left_join(ucrit_null_chrom_lowest, lrt_filt_ucrit[Chromosome %like%\"chr\"])[pvalue <=lower.25]\n",
    "#ucrit_null.25"
   ]
  },
  {
   "cell_type": "code",
   "execution_count": 14,
   "id": "c03372e0",
   "metadata": {},
   "outputs": [
    {
     "data": {
      "text/html": [
       "500"
      ],
      "text/latex": [
       "500"
      ],
      "text/markdown": [
       "500"
      ],
      "text/plain": [
       "[1] 500"
      ]
     },
     "metadata": {},
     "output_type": "display_data"
    }
   ],
   "source": [
    "ucrit_files <- list.files(path = \"/data/katrinac/APPC_sequencing/DNA/trimmed_reads/mapping/ensembl/genotypes/angsd/permute/increase_n/\", pattern = glob2rx(\"^ucrit*.lrt0\"))\n",
    "length(ucrit_files)"
   ]
  },
  {
   "cell_type": "code",
   "execution_count": 3,
   "id": "1386c1dd",
   "metadata": {},
   "outputs": [],
   "source": [
    "sl_files <- list.files(path = \"/data/katrinac/APPC_sequencing/DNA/trimmed_reads/mapping/ensembl/genotypes/angsd/permute/increase_n/\", pattern = glob2rx(\"^sl*.lrt0\"))\n",
    "\n",
    "null_int <- as.data.frame(matrix(nrow=0, ncol=10))\n",
    "setDT(null_int)\n",
    "setnames(null_int, c(\"Chromosome\", \"Position\", \"Major\", \"Minor\", \"Frequency\", \"N\", \"LRT\",\"high_WT/HE/HO\", \"pvalue\", \"iteration\"))\n",
    "for(i in 1:length(sl_files)){\n",
    "    null <- fread(paste(\"/data/katrinac/APPC_sequencing/DNA/trimmed_reads/mapping/ensembl/genotypes/angsd/permute/increase_n/\", sl_files[i], sep=\"\"))[LRT >0 & Chromosome <=24][, pvalue:=pchisq(LRT, df=1, lower.tail = F)][, iteration := i]\n",
    "    null_int <- rbind(null_int, null)\n",
    "}\n",
    "lrt_null_sl <- null_int\n",
    "#sl_null_chrom_lowest <- sl_null_chrom[, .(lower.25=quantile(min_pvalue, .025)[[1]]), by=Chromosome][,Chromosome:=paste0(\"chr\", Chromosome, sep=\"\")]\n",
    "#sl_null.25 <- left_join(sl_null_chrom_lowest, lrt_filt_sl[Chromosome %like%\"chr\"])[pvalue <=lower.25]\n",
    "#sl_null.25"
   ]
  },
  {
   "cell_type": "code",
   "execution_count": 4,
   "id": "cfa93c70",
   "metadata": {},
   "outputs": [
    {
     "data": {
      "text/html": [
       "<table>\n",
       "<thead><tr><th scope=col>Chromosome</th><th scope=col>Position</th><th scope=col>Major</th><th scope=col>Minor</th><th scope=col>Frequency</th><th scope=col>N</th><th scope=col>LRT</th><th scope=col>high_WT/HE/HO</th><th scope=col>pvalue</th><th scope=col>iteration</th></tr></thead>\n",
       "<tbody>\n",
       "\t<tr><td>1        </td><td>10004    </td><td>A        </td><td>G        </td><td>0.109734 </td><td>147      </td><td>0.253607 </td><td>43/15/0  </td><td>0.6145467</td><td>1        </td></tr>\n",
       "\t<tr><td>1        </td><td>32316    </td><td>T        </td><td>G        </td><td>0.339790 </td><td>147      </td><td>0.108990 </td><td>11/24/0  </td><td>0.7412969</td><td>1        </td></tr>\n",
       "\t<tr><td>1        </td><td>32326    </td><td>T        </td><td>C        </td><td>0.206107 </td><td>147      </td><td>0.567159 </td><td>20/14/0  </td><td>0.4513901</td><td>1        </td></tr>\n",
       "\t<tr><td>1        </td><td>32350    </td><td>A        </td><td>G        </td><td>0.299364 </td><td>147      </td><td>0.340653 </td><td>12/10/2  </td><td>0.5594525</td><td>1        </td></tr>\n",
       "\t<tr><td>1        </td><td>32897    </td><td>C        </td><td>T        </td><td>0.198828 </td><td>147      </td><td>0.098019 </td><td>14/11/0  </td><td>0.7542200</td><td>1        </td></tr>\n",
       "\t<tr><td>1        </td><td>33219    </td><td>A        </td><td>G        </td><td>0.245286 </td><td>147      </td><td>0.010661 </td><td>14/12/0  </td><td>0.9177629</td><td>1        </td></tr>\n",
       "</tbody>\n",
       "</table>\n"
      ],
      "text/latex": [
       "\\begin{tabular}{r|llllllllll}\n",
       " Chromosome & Position & Major & Minor & Frequency & N & LRT & high\\_WT/HE/HO & pvalue & iteration\\\\\n",
       "\\hline\n",
       "\t 1         & 10004     & A         & G         & 0.109734  & 147       & 0.253607  & 43/15/0   & 0.6145467 & 1        \\\\\n",
       "\t 1         & 32316     & T         & G         & 0.339790  & 147       & 0.108990  & 11/24/0   & 0.7412969 & 1        \\\\\n",
       "\t 1         & 32326     & T         & C         & 0.206107  & 147       & 0.567159  & 20/14/0   & 0.4513901 & 1        \\\\\n",
       "\t 1         & 32350     & A         & G         & 0.299364  & 147       & 0.340653  & 12/10/2   & 0.5594525 & 1        \\\\\n",
       "\t 1         & 32897     & C         & T         & 0.198828  & 147       & 0.098019  & 14/11/0   & 0.7542200 & 1        \\\\\n",
       "\t 1         & 33219     & A         & G         & 0.245286  & 147       & 0.010661  & 14/12/0   & 0.9177629 & 1        \\\\\n",
       "\\end{tabular}\n"
      ],
      "text/markdown": [
       "\n",
       "| Chromosome | Position | Major | Minor | Frequency | N | LRT | high_WT/HE/HO | pvalue | iteration |\n",
       "|---|---|---|---|---|---|---|---|---|---|\n",
       "| 1         | 10004     | A         | G         | 0.109734  | 147       | 0.253607  | 43/15/0   | 0.6145467 | 1         |\n",
       "| 1         | 32316     | T         | G         | 0.339790  | 147       | 0.108990  | 11/24/0   | 0.7412969 | 1         |\n",
       "| 1         | 32326     | T         | C         | 0.206107  | 147       | 0.567159  | 20/14/0   | 0.4513901 | 1         |\n",
       "| 1         | 32350     | A         | G         | 0.299364  | 147       | 0.340653  | 12/10/2   | 0.5594525 | 1         |\n",
       "| 1         | 32897     | C         | T         | 0.198828  | 147       | 0.098019  | 14/11/0   | 0.7542200 | 1         |\n",
       "| 1         | 33219     | A         | G         | 0.245286  | 147       | 0.010661  | 14/12/0   | 0.9177629 | 1         |\n",
       "\n"
      ],
      "text/plain": [
       "  Chromosome Position Major Minor Frequency N   LRT      high_WT/HE/HO\n",
       "1 1          10004    A     G     0.109734  147 0.253607 43/15/0      \n",
       "2 1          32316    T     G     0.339790  147 0.108990 11/24/0      \n",
       "3 1          32326    T     C     0.206107  147 0.567159 20/14/0      \n",
       "4 1          32350    A     G     0.299364  147 0.340653 12/10/2      \n",
       "5 1          32897    C     T     0.198828  147 0.098019 14/11/0      \n",
       "6 1          33219    A     G     0.245286  147 0.010661 14/12/0      \n",
       "  pvalue    iteration\n",
       "1 0.6145467 1        \n",
       "2 0.7412969 1        \n",
       "3 0.4513901 1        \n",
       "4 0.5594525 1        \n",
       "5 0.7542200 1        \n",
       "6 0.9177629 1        "
      ]
     },
     "metadata": {},
     "output_type": "display_data"
    }
   ],
   "source": [
    "head(lrt_null_sl)"
   ]
  },
  {
   "cell_type": "code",
   "execution_count": 5,
   "id": "dba62d3f",
   "metadata": {},
   "outputs": [],
   "source": [
    "#make a summary table with all relevant info so I don't have to read in all of the raw results from each simulation\n",
    "lrt_sl_null_summary <- lrt_null_sl[, .(min_pvalue=min(pvalue), min_lrt=min(LRT), pval_0.01=quantile(pvalue, .01)[[1]], pval_0.025=quantile(pvalue, .025)[[1]], pval_0.05=quantile(pvalue, .05)[[1]]), by=c(\"Chromosome\", \"Position\")]\n",
    "lrt_ucrit_null_summary <- lrt_null_ucrit[, .(min_pvalue=min(pvalue), min_lrt=min(LRT), pval_0.01=quantile(pvalue, .01)[[1]], pval_0.025=quantile(pvalue, .025)[[1]], pval_0.05=quantile(pvalue, .05)[[1]]), by=c(\"Chromosome\", \"Position\")]\n",
    "\n",
    "#and then a table for genome wide values\n",
    "lrt_sl_null_summary_gw <- lrt_null_sl[, .(min_pvalue=min(pvalue), min_lrt=min(LRT), pval_0.01=quantile(pvalue, .01)[[1]], pval_0.025=quantile(pvalue, .025)[[1]], pval_0.05=quantile(pvalue, .05)[[1]]), by=iteration] \n",
    "lrt_ucrit_null_summary_gw <- lrt_null_ucrit[, .(min_pvalue=min(pvalue), min_lrt=min(LRT), pval_0.01=quantile(pvalue, .01)[[1]], pval_0.025=quantile(pvalue, .025)[[1]], pval_0.05=quantile(pvalue, .05)[[1]]), by=iteration] \n",
    "\n"
   ]
  },
  {
   "cell_type": "code",
   "execution_count": 13,
   "id": "d7d1c0a4",
   "metadata": {},
   "outputs": [],
   "source": [
    "#write out these summaries for future use\n",
    "fwrite(lrt_ucrit_null_summary, file=\"/data/katrinac/APPC_sequencing/DNA/trimmed_reads/mapping/ensembl/genotypes/angsd/results/ucrit_null_SNP_summary_500perm.csv\")\n",
    "fwrite(lrt_sl_null_summary, file=\"/data/katrinac/APPC_sequencing/DNA/trimmed_reads/mapping/ensembl/genotypes/angsd/results/sl_null_SNP_summary_500perm.csv\")\n",
    "\n",
    "fwrite(lrt_ucrit_null_summary_gw, file=\"/data/katrinac/APPC_sequencing/DNA/trimmed_reads/mapping/ensembl/genotypes/angsd/results/ucrit_null_SNP_summary_500perm_gw.csv\")\n",
    "fwrite(lrt_sl_null_summary_gw, file=\"/data/katrinac/APPC_sequencing/DNA/trimmed_reads/mapping/ensembl/genotypes/angsd/results/sl_null_SNP_summary_500perm_gw.csv\")"
   ]
  },
  {
   "cell_type": "code",
   "execution_count": 4,
   "id": "8665701f",
   "metadata": {},
   "outputs": [],
   "source": [
    "#read back in the results for plotting\n",
    "ucrit_gw_null <- fread(file=\"/data/katrinac/APPC_sequencing/DNA/trimmed_reads/mapping/ensembl/genotypes/angsd/results/ucrit_null_SNP_summary_500perm_gw.csv\")\n",
    "sl_gw_null <- fread(file=\"/data/katrinac/APPC_sequencing/DNA/trimmed_reads/mapping/ensembl/genotypes/angsd/results/sl_null_SNP_summary_500perm_gw.csv\")"
   ]
  },
  {
   "cell_type": "code",
   "execution_count": 40,
   "id": "efb1107d",
   "metadata": {},
   "outputs": [],
   "source": [
    "ucrit_snp_null <- fread(file=\"/data/katrinac/APPC_sequencing/DNA/trimmed_reads/mapping/ensembl/genotypes/angsd/results/ucrit_null_SNP_summary_500perm.csv\")[, Chromosome:=as.numeric(Chromosome)]\n",
    "sl_snp_null <- fread(file=\"/data/katrinac/APPC_sequencing/DNA/trimmed_reads/mapping/ensembl/genotypes/angsd/results/sl_null_SNP_summary_500perm.csv\")[, Chromosome:=as.numeric(Chromosome)]"
   ]
  },
  {
   "cell_type": "code",
   "execution_count": 41,
   "id": "f2cf2b58",
   "metadata": {},
   "outputs": [
    {
     "data": {
      "text/html": [
       "<table>\n",
       "<thead><tr><th scope=col>Chromosome</th><th scope=col>Position</th><th scope=col>min_pvalue</th><th scope=col>min_lrt</th><th scope=col>pval_0.01</th><th scope=col>pval_0.025</th><th scope=col>pval_0.05</th></tr></thead>\n",
       "<tbody>\n",
       "\t<tr><td>1          </td><td>10004      </td><td>0.005052284</td><td>3.8e-05    </td><td>0.010441082</td><td>0.02428581 </td><td>0.05281940 </td></tr>\n",
       "\t<tr><td>1          </td><td>32316      </td><td>0.001111583</td><td>9.0e-06    </td><td>0.005078951</td><td>0.02536276 </td><td>0.05324121 </td></tr>\n",
       "\t<tr><td>1          </td><td>32326      </td><td>0.002335550</td><td>1.0e-06    </td><td>0.009626446</td><td>0.02060651 </td><td>0.05394256 </td></tr>\n",
       "\t<tr><td>1          </td><td>32350      </td><td>0.001492978</td><td>1.0e-06    </td><td>0.015603733</td><td>0.02515098 </td><td>0.05103984 </td></tr>\n",
       "\t<tr><td>1          </td><td>32897      </td><td>0.004311850</td><td>3.0e-06    </td><td>0.019411956</td><td>0.03399851 </td><td>0.04809844 </td></tr>\n",
       "\t<tr><td>1          </td><td>33219      </td><td>0.002035361</td><td>1.2e-05    </td><td>0.009326496</td><td>0.02574312 </td><td>0.04780894 </td></tr>\n",
       "</tbody>\n",
       "</table>\n"
      ],
      "text/latex": [
       "\\begin{tabular}{r|lllllll}\n",
       " Chromosome & Position & min\\_pvalue & min\\_lrt & pval\\_0.01 & pval\\_0.025 & pval\\_0.05\\\\\n",
       "\\hline\n",
       "\t 1           & 10004       & 0.005052284 & 3.8e-05     & 0.010441082 & 0.02428581  & 0.05281940 \\\\\n",
       "\t 1           & 32316       & 0.001111583 & 9.0e-06     & 0.005078951 & 0.02536276  & 0.05324121 \\\\\n",
       "\t 1           & 32326       & 0.002335550 & 1.0e-06     & 0.009626446 & 0.02060651  & 0.05394256 \\\\\n",
       "\t 1           & 32350       & 0.001492978 & 1.0e-06     & 0.015603733 & 0.02515098  & 0.05103984 \\\\\n",
       "\t 1           & 32897       & 0.004311850 & 3.0e-06     & 0.019411956 & 0.03399851  & 0.04809844 \\\\\n",
       "\t 1           & 33219       & 0.002035361 & 1.2e-05     & 0.009326496 & 0.02574312  & 0.04780894 \\\\\n",
       "\\end{tabular}\n"
      ],
      "text/markdown": [
       "\n",
       "| Chromosome | Position | min_pvalue | min_lrt | pval_0.01 | pval_0.025 | pval_0.05 |\n",
       "|---|---|---|---|---|---|---|\n",
       "| 1           | 10004       | 0.005052284 | 3.8e-05     | 0.010441082 | 0.02428581  | 0.05281940  |\n",
       "| 1           | 32316       | 0.001111583 | 9.0e-06     | 0.005078951 | 0.02536276  | 0.05324121  |\n",
       "| 1           | 32326       | 0.002335550 | 1.0e-06     | 0.009626446 | 0.02060651  | 0.05394256  |\n",
       "| 1           | 32350       | 0.001492978 | 1.0e-06     | 0.015603733 | 0.02515098  | 0.05103984  |\n",
       "| 1           | 32897       | 0.004311850 | 3.0e-06     | 0.019411956 | 0.03399851  | 0.04809844  |\n",
       "| 1           | 33219       | 0.002035361 | 1.2e-05     | 0.009326496 | 0.02574312  | 0.04780894  |\n",
       "\n"
      ],
      "text/plain": [
       "  Chromosome Position min_pvalue  min_lrt pval_0.01   pval_0.025 pval_0.05 \n",
       "1 1          10004    0.005052284 3.8e-05 0.010441082 0.02428581 0.05281940\n",
       "2 1          32316    0.001111583 9.0e-06 0.005078951 0.02536276 0.05324121\n",
       "3 1          32326    0.002335550 1.0e-06 0.009626446 0.02060651 0.05394256\n",
       "4 1          32350    0.001492978 1.0e-06 0.015603733 0.02515098 0.05103984\n",
       "5 1          32897    0.004311850 3.0e-06 0.019411956 0.03399851 0.04809844\n",
       "6 1          33219    0.002035361 1.2e-05 0.009326496 0.02574312 0.04780894"
      ]
     },
     "metadata": {},
     "output_type": "display_data"
    }
   ],
   "source": [
    "head(ucrit_snp_null)"
   ]
  },
  {
   "cell_type": "code",
   "execution_count": 54,
   "id": "34304e57",
   "metadata": {},
   "outputs": [
    {
     "data": {
      "text/html": [
       "1.6152136284914e-06"
      ],
      "text/latex": [
       "1.6152136284914e-06"
      ],
      "text/markdown": [
       "1.6152136284914e-06"
      ],
      "text/plain": [
       "[1] 1.615214e-06"
      ]
     },
     "metadata": {},
     "output_type": "display_data"
    },
    {
     "data": {
      "text/html": [
       "1.77306646835555e-06"
      ],
      "text/latex": [
       "1.77306646835555e-06"
      ],
      "text/markdown": [
       "1.77306646835555e-06"
      ],
      "text/plain": [
       "[1] 1.773066e-06"
      ]
     },
     "metadata": {},
     "output_type": "display_data"
    }
   ],
   "source": [
    "ucrit_gw_cutoff <- quantile(ucrit_gw_null$min_pvalue, 0.025)[[1]]\n",
    "ucrit_gw_cutoff\n",
    "sl_gw_cutoff <-quantile(sl_gw_null$min_pvalue, 0.025)[[1]]\n",
    "sl_gw_cutoff"
   ]
  },
  {
   "cell_type": "code",
   "execution_count": 20,
   "id": "8a8ad291",
   "metadata": {},
   "outputs": [
    {
     "name": "stdout",
     "output_type": "stream",
     "text": [
      "Classes ‘data.table’ and 'data.frame':\t105379 obs. of  12 variables:\n",
      " $ Chromosome    : chr  \"1\" \"1\" \"1\" \"1\" ...\n",
      " $ Position      : int  10004 32316 32326 32350 32897 33219 33269 33281 34051 34187 ...\n",
      " $ Major         : chr  \"A\" \"T\" \"T\" \"A\" ...\n",
      " $ Minor         : chr  \"G\" \"G\" \"C\" \"G\" ...\n",
      " $ Frequency     : num  0.11 0.34 0.206 0.299 0.199 ...\n",
      " $ N             : int  147 147 147 147 147 147 147 147 147 147 ...\n",
      " $ LRT           : num  0.0963 0.8433 0.8428 0.1254 1.0575 ...\n",
      " $ high_WT/HE/HO : chr  \"42/14/0\" \"11/20/0\" \"20/11/0\" \"10/10/1\" ...\n",
      " $ locus         : chr  \"1:10004\" \"1:32316\" \"1:32326\" \"1:32350\" ...\n",
      " $ pvalue        : num  0.756 0.358 0.359 0.723 0.304 ...\n",
      " $ Chromosome_man: num  1 1 1 1 1 1 1 1 1 1 ...\n",
      " $ SNP           : chr  \"r1\" \"r2\" \"r3\" \"r4\" ...\n",
      " - attr(*, \".internal.selfref\")=<externalptr> \n"
     ]
    }
   ],
   "source": [
    "str(lrt_filt_sl)"
   ]
  },
  {
   "cell_type": "code",
   "execution_count": 56,
   "id": "cc5e1d89",
   "metadata": {},
   "outputs": [
    {
     "data": {
      "text/html": [
       "<strong>png:</strong> 2"
      ],
      "text/latex": [
       "\\textbf{png:} 2"
      ],
      "text/markdown": [
       "**png:** 2"
      ],
      "text/plain": [
       "png \n",
       "  2 "
      ]
     },
     "metadata": {},
     "output_type": "display_data"
    }
   ],
   "source": [
    "#gw_sl <- quantile(sl_null_lowest$null_min_pvalue, .025)[[1]]\n",
    "#gw_sl_null <- dchisq(min(sl_null_top$LRT), df=1)\n",
    "png(\"/data/katrinac/APPC_sequencing/DNA/trimmed_reads/mapping/ensembl/genotypes/angsd/results/sl_manhattan_chrom_null_sig_minq_0.025.png\")\n",
    "qqman::manhattan(lrt_filt_sl, chr=\"Chromosome_man\", bp=\"Position\", p=\"pvalue\", genomewideline = -log10(sl_gw_cutoff), ylim = c(0, 7), suggestiveline = F)#, highlight =lrt_filt_sl[locus %in% sl_perm_pvalues_int[pvalue < min_pvalue, locus], SNP])\n",
    "dev.off()\n",
    "#gw_sl"
   ]
  },
  {
   "cell_type": "code",
   "execution_count": 57,
   "id": "cba4ef51",
   "metadata": {},
   "outputs": [
    {
     "data": {
      "text/html": [
       "<strong>png:</strong> 2"
      ],
      "text/latex": [
       "\\textbf{png:} 2"
      ],
      "text/markdown": [
       "**png:** 2"
      ],
      "text/plain": [
       "png \n",
       "  2 "
      ]
     },
     "metadata": {},
     "output_type": "display_data"
    }
   ],
   "source": [
    "#gw_ucrit <- quantile(ucrit_null_lowest$null_min_pvalue, .025)[[1]]\n",
    "#gw_ucrit_null <- dchisq(min(ucrit_null_top$LRT), df=1)\n",
    "png(\"/data/katrinac/APPC_sequencing/DNA/trimmed_reads/mapping/ensembl/genotypes/angsd/results/ucrit_manhattan_chrom_null_sig_minq_0.025.png\")\n",
    "qqman::manhattan(lrt_filt_ucrit, chr=\"Chromosome_man\", bp=\"Position\", p=\"pvalue\", genomewideline = -log10(ucrit_gw_cutoff), ylim = c(0, 7), suggestiveline = F)#, highlight =lrt_filt_ucrit[locus %in% ucrit_perm_pvalues_int[pvalue < min_pvalue, locus], SNP])\n",
    "dev.off()\n",
    "#gw_ucrit"
   ]
  },
  {
   "cell_type": "code",
   "execution_count": 42,
   "id": "f001e6c5",
   "metadata": {},
   "outputs": [
    {
     "name": "stdout",
     "output_type": "stream",
     "text": [
      "Classes ‘data.table’ and 'data.frame':\t105379 obs. of  12 variables:\n",
      " $ Chromosome    : chr  \"1\" \"1\" \"1\" \"1\" ...\n",
      " $ Position      : int  10004 32316 32326 32350 32897 33219 33269 33281 34051 34187 ...\n",
      " $ Major         : chr  \"A\" \"T\" \"T\" \"A\" ...\n",
      " $ Minor         : chr  \"G\" \"G\" \"C\" \"G\" ...\n",
      " $ Frequency     : num  0.11 0.34 0.206 0.299 0.199 ...\n",
      " $ N             : int  147 147 147 147 147 147 147 147 147 147 ...\n",
      " $ LRT           : num  0.0963 0.8433 0.8428 0.1254 1.0575 ...\n",
      " $ high_WT/HE/HO : chr  \"42/14/0\" \"11/20/0\" \"20/11/0\" \"10/10/1\" ...\n",
      " $ locus         : chr  \"1:10004\" \"1:32316\" \"1:32326\" \"1:32350\" ...\n",
      " $ pvalue        : num  0.756 0.358 0.359 0.723 0.304 ...\n",
      " $ Chromosome_man: num  1 1 1 1 1 1 1 1 1 1 ...\n",
      " $ SNP           : chr  \"r1\" \"r2\" \"r3\" \"r4\" ...\n",
      " - attr(*, \".internal.selfref\")=<externalptr> \n",
      "Classes ‘data.table’ and 'data.frame':\t89247 obs. of  7 variables:\n",
      " $ Chromosome: num  1 1 1 1 1 1 1 1 1 1 ...\n",
      " $ Position  : int  10004 32316 32326 32350 32897 33219 33269 33281 33475 34051 ...\n",
      " $ min_pvalue: num  0.00505 0.00111 0.00234 0.00149 0.00431 ...\n",
      " $ min_lrt   : num  3.8e-05 9.0e-06 1.0e-06 1.0e-06 3.0e-06 1.2e-05 3.0e-06 1.4e-05 1.0e-06 2.0e-06 ...\n",
      " $ pval_0.01 : num  0.01044 0.00508 0.00963 0.0156 0.01941 ...\n",
      " $ pval_0.025: num  0.0243 0.0254 0.0206 0.0252 0.034 ...\n",
      " $ pval_0.05 : num  0.0528 0.0532 0.0539 0.051 0.0481 ...\n",
      " - attr(*, \".internal.selfref\")=<externalptr> \n"
     ]
    }
   ],
   "source": [
    "str(lrt_filt_sl)\n",
    "str(ucrit_snp_null)"
   ]
  },
  {
   "cell_type": "code",
   "execution_count": 44,
   "id": "fdf49e31",
   "metadata": {},
   "outputs": [],
   "source": [
    "#join with the GWAS results \n",
    "sl_perm_pvalues_int <- left_join(sl_snp_null, lrt_filt_sl, by=c(Chromosome=\"Chromosome_man\", \"Position\"))\n",
    "ucrit_perm_pvalues_int <- left_join(ucrit_snp_null, lrt_filt_ucrit, by=c(Chromosome=\"Chromosome_man\", \"Position\"))\n"
   ]
  },
  {
   "cell_type": "code",
   "execution_count": 45,
   "id": "4be31b7a",
   "metadata": {},
   "outputs": [
    {
     "data": {
      "text/html": [
       "512"
      ],
      "text/latex": [
       "512"
      ],
      "text/markdown": [
       "512"
      ],
      "text/plain": [
       "[1] 512"
      ]
     },
     "metadata": {},
     "output_type": "display_data"
    },
    {
     "data": {
      "text/html": [
       "137"
      ],
      "text/latex": [
       "137"
      ],
      "text/markdown": [
       "137"
      ],
      "text/plain": [
       "[1] 137"
      ]
     },
     "metadata": {},
     "output_type": "display_data"
    }
   ],
   "source": [
    "nrow(sl_perm_pvalues_int[pvalue < min_pvalue])\n",
    "nrow(ucrit_perm_pvalues_int[pvalue < min_pvalue])"
   ]
  },
  {
   "cell_type": "code",
   "execution_count": 53,
   "id": "4c28d15b",
   "metadata": {},
   "outputs": [
    {
     "data": {
      "text/html": [
       "<table>\n",
       "<thead><tr><th scope=col>Chromosome</th><th scope=col>Position</th><th scope=col>min_pvalue</th><th scope=col>min_lrt</th><th scope=col>pval_0.01</th><th scope=col>pval_0.025</th><th scope=col>pval_0.05</th><th scope=col>Chromosome.y</th><th scope=col>Major</th><th scope=col>Minor</th><th scope=col>Frequency</th><th scope=col>N</th><th scope=col>LRT</th><th scope=col>high_WT/HE/HO</th><th scope=col>locus</th><th scope=col>pvalue</th><th scope=col>SNP</th></tr></thead>\n",
       "<tbody>\n",
       "\t<tr><td>11          </td><td> 7825612    </td><td>0.0005286381</td><td>8.0e-06     </td><td>0.01800149  </td><td>0.03179125  </td><td>0.05641703  </td><td>11          </td><td>T           </td><td>G           </td><td>0.206307    </td><td>147         </td><td>21.31278    </td><td>24/11/0     </td><td>11:7825612  </td><td>3.901212e-06</td><td>r50869      </td></tr>\n",
       "\t<tr><td>24          </td><td>16962690    </td><td>0.0015995173</td><td>5.0e-06     </td><td>0.01340923  </td><td>0.04080663  </td><td>0.07955424  </td><td>24          </td><td>T           </td><td>G           </td><td>0.258409    </td><td>147         </td><td>20.29089    </td><td>10/13/0     </td><td>24:16962690 </td><td>6.651661e-06</td><td>r104351     </td></tr>\n",
       "\t<tr><td>15          </td><td> 4387764    </td><td>0.0048389039</td><td>2.8e-05     </td><td>0.01728886  </td><td>0.03122583  </td><td>0.05219009  </td><td>15          </td><td>C           </td><td>T           </td><td>0.264829    </td><td>147         </td><td>18.68006    </td><td>25/26/1     </td><td>15:4387764  </td><td>1.545908e-05</td><td>r68417      </td></tr>\n",
       "\t<tr><td>21          </td><td>10182978    </td><td>0.0028740559</td><td>3.0e-06     </td><td>0.01115796  </td><td>0.03154684  </td><td>0.05387469  </td><td>21          </td><td>G           </td><td>A           </td><td>0.275357    </td><td>147         </td><td>17.30666    </td><td>33/31/3     </td><td>21:10182978 </td><td>3.180698e-05</td><td>r93760      </td></tr>\n",
       "\t<tr><td>10          </td><td>13433683    </td><td>0.0107621608</td><td>1.0e-06     </td><td>0.02398058  </td><td>0.03305408  </td><td>0.06720693  </td><td>10          </td><td>G           </td><td>A           </td><td>0.232027    </td><td>147         </td><td>16.86947    </td><td>11/14/0     </td><td>10:13433683 </td><td>4.004047e-05</td><td>r44565      </td></tr>\n",
       "\t<tr><td>12          </td><td>  993809    </td><td>0.0039601880</td><td>2.0e-06     </td><td>0.02228757  </td><td>0.03757691  </td><td>0.07792556  </td><td>12          </td><td>C           </td><td>T           </td><td>0.236088    </td><td>147         </td><td>16.79673    </td><td>10/11/0     </td><td>12:993809   </td><td>4.160487e-05</td><td>r54294      </td></tr>\n",
       "</tbody>\n",
       "</table>\n"
      ],
      "text/latex": [
       "\\begin{tabular}{r|lllllllllllllllll}\n",
       " Chromosome & Position & min\\_pvalue & min\\_lrt & pval\\_0.01 & pval\\_0.025 & pval\\_0.05 & Chromosome.y & Major & Minor & Frequency & N & LRT & high\\_WT/HE/HO & locus & pvalue & SNP\\\\\n",
       "\\hline\n",
       "\t 11           &  7825612     & 0.0005286381 & 8.0e-06      & 0.01800149   & 0.03179125   & 0.05641703   & 11           & T            & G            & 0.206307     & 147          & 21.31278     & 24/11/0      & 11:7825612   & 3.901212e-06 & r50869      \\\\\n",
       "\t 24           & 16962690     & 0.0015995173 & 5.0e-06      & 0.01340923   & 0.04080663   & 0.07955424   & 24           & T            & G            & 0.258409     & 147          & 20.29089     & 10/13/0      & 24:16962690  & 6.651661e-06 & r104351     \\\\\n",
       "\t 15           &  4387764     & 0.0048389039 & 2.8e-05      & 0.01728886   & 0.03122583   & 0.05219009   & 15           & C            & T            & 0.264829     & 147          & 18.68006     & 25/26/1      & 15:4387764   & 1.545908e-05 & r68417      \\\\\n",
       "\t 21           & 10182978     & 0.0028740559 & 3.0e-06      & 0.01115796   & 0.03154684   & 0.05387469   & 21           & G            & A            & 0.275357     & 147          & 17.30666     & 33/31/3      & 21:10182978  & 3.180698e-05 & r93760      \\\\\n",
       "\t 10           & 13433683     & 0.0107621608 & 1.0e-06      & 0.02398058   & 0.03305408   & 0.06720693   & 10           & G            & A            & 0.232027     & 147          & 16.86947     & 11/14/0      & 10:13433683  & 4.004047e-05 & r44565      \\\\\n",
       "\t 12           &   993809     & 0.0039601880 & 2.0e-06      & 0.02228757   & 0.03757691   & 0.07792556   & 12           & C            & T            & 0.236088     & 147          & 16.79673     & 10/11/0      & 12:993809    & 4.160487e-05 & r54294      \\\\\n",
       "\\end{tabular}\n"
      ],
      "text/markdown": [
       "\n",
       "| Chromosome | Position | min_pvalue | min_lrt | pval_0.01 | pval_0.025 | pval_0.05 | Chromosome.y | Major | Minor | Frequency | N | LRT | high_WT/HE/HO | locus | pvalue | SNP |\n",
       "|---|---|---|---|---|---|---|---|---|---|---|---|---|---|---|---|---|\n",
       "| 11           |  7825612     | 0.0005286381 | 8.0e-06      | 0.01800149   | 0.03179125   | 0.05641703   | 11           | T            | G            | 0.206307     | 147          | 21.31278     | 24/11/0      | 11:7825612   | 3.901212e-06 | r50869       |\n",
       "| 24           | 16962690     | 0.0015995173 | 5.0e-06      | 0.01340923   | 0.04080663   | 0.07955424   | 24           | T            | G            | 0.258409     | 147          | 20.29089     | 10/13/0      | 24:16962690  | 6.651661e-06 | r104351      |\n",
       "| 15           |  4387764     | 0.0048389039 | 2.8e-05      | 0.01728886   | 0.03122583   | 0.05219009   | 15           | C            | T            | 0.264829     | 147          | 18.68006     | 25/26/1      | 15:4387764   | 1.545908e-05 | r68417       |\n",
       "| 21           | 10182978     | 0.0028740559 | 3.0e-06      | 0.01115796   | 0.03154684   | 0.05387469   | 21           | G            | A            | 0.275357     | 147          | 17.30666     | 33/31/3      | 21:10182978  | 3.180698e-05 | r93760       |\n",
       "| 10           | 13433683     | 0.0107621608 | 1.0e-06      | 0.02398058   | 0.03305408   | 0.06720693   | 10           | G            | A            | 0.232027     | 147          | 16.86947     | 11/14/0      | 10:13433683  | 4.004047e-05 | r44565       |\n",
       "| 12           |   993809     | 0.0039601880 | 2.0e-06      | 0.02228757   | 0.03757691   | 0.07792556   | 12           | C            | T            | 0.236088     | 147          | 16.79673     | 10/11/0      | 12:993809    | 4.160487e-05 | r54294       |\n",
       "\n"
      ],
      "text/plain": [
       "  Chromosome Position min_pvalue   min_lrt pval_0.01  pval_0.025 pval_0.05 \n",
       "1 11          7825612 0.0005286381 8.0e-06 0.01800149 0.03179125 0.05641703\n",
       "2 24         16962690 0.0015995173 5.0e-06 0.01340923 0.04080663 0.07955424\n",
       "3 15          4387764 0.0048389039 2.8e-05 0.01728886 0.03122583 0.05219009\n",
       "4 21         10182978 0.0028740559 3.0e-06 0.01115796 0.03154684 0.05387469\n",
       "5 10         13433683 0.0107621608 1.0e-06 0.02398058 0.03305408 0.06720693\n",
       "6 12           993809 0.0039601880 2.0e-06 0.02228757 0.03757691 0.07792556\n",
       "  Chromosome.y Major Minor Frequency N   LRT      high_WT/HE/HO locus      \n",
       "1 11           T     G     0.206307  147 21.31278 24/11/0       11:7825612 \n",
       "2 24           T     G     0.258409  147 20.29089 10/13/0       24:16962690\n",
       "3 15           C     T     0.264829  147 18.68006 25/26/1       15:4387764 \n",
       "4 21           G     A     0.275357  147 17.30666 33/31/3       21:10182978\n",
       "5 10           G     A     0.232027  147 16.86947 11/14/0       10:13433683\n",
       "6 12           C     T     0.236088  147 16.79673 10/11/0       12:993809  \n",
       "  pvalue       SNP    \n",
       "1 3.901212e-06 r50869 \n",
       "2 6.651661e-06 r104351\n",
       "3 1.545908e-05 r68417 \n",
       "4 3.180698e-05 r93760 \n",
       "5 4.004047e-05 r44565 \n",
       "6 4.160487e-05 r54294 "
      ]
     },
     "metadata": {},
     "output_type": "display_data"
    },
    {
     "data": {
      "text/html": [
       "<table>\n",
       "<thead><tr><th scope=col>Chromosome</th><th scope=col>Position</th><th scope=col>min_pvalue</th><th scope=col>min_lrt</th><th scope=col>pval_0.01</th><th scope=col>pval_0.025</th><th scope=col>pval_0.05</th><th scope=col>Chromosome.y</th><th scope=col>Major</th><th scope=col>Minor</th><th scope=col>Frequency</th><th scope=col>N</th><th scope=col>LRT</th><th scope=col>high_WT/HE/HO</th><th scope=col>locus</th><th scope=col>pvalue</th><th scope=col>SNP</th></tr></thead>\n",
       "<tbody>\n",
       "\t<tr><td>24          </td><td> 6021620    </td><td>0.0038163988</td><td>2.1e-05     </td><td>0.011458385 </td><td>0.02324762  </td><td>0.04942466  </td><td>24          </td><td>T           </td><td>C           </td><td>0.139610    </td><td>159         </td><td>17.56558    </td><td>33/13/0     </td><td>24:6021620  </td><td>2.775673e-05</td><td>r129193     </td></tr>\n",
       "\t<tr><td>14          </td><td>11396158    </td><td>0.0016473497</td><td>5.0e-06     </td><td>0.011356611 </td><td>0.02491698  </td><td>0.04005150  </td><td>14          </td><td>A           </td><td>G           </td><td>0.283847    </td><td>159         </td><td>16.83758    </td><td>12/12/0     </td><td>14:11396158 </td><td>4.071885e-05</td><td>r78921      </td></tr>\n",
       "\t<tr><td>15          </td><td>22742928    </td><td>0.0005726666</td><td>1.9e-05     </td><td>0.006983935 </td><td>0.02032165  </td><td>0.04411765  </td><td>15          </td><td>G           </td><td>A           </td><td>0.212140    </td><td>159         </td><td>15.77261    </td><td>21/15/1     </td><td>15:22742928 </td><td>7.142914e-05</td><td>r88604      </td></tr>\n",
       "\t<tr><td>14          </td><td>28287841    </td><td>0.0010785913</td><td>2.0e-06     </td><td>0.007543192 </td><td>0.02994416  </td><td>0.04565220  </td><td>14          </td><td>A           </td><td>T           </td><td>0.152335    </td><td>159         </td><td>15.17031    </td><td>29/12/0     </td><td>14:28287841 </td><td>9.823603e-05</td><td>r81931      </td></tr>\n",
       "\t<tr><td>17          </td><td> 2650542    </td><td>0.0019869418</td><td>3.0e-06     </td><td>0.016016768 </td><td>0.03588978  </td><td>0.06843622  </td><td>17          </td><td>A           </td><td>G           </td><td>0.296772    </td><td>159         </td><td>14.95967    </td><td>10/11/0     </td><td>17:2650542  </td><td>1.098339e-04</td><td>r96437      </td></tr>\n",
       "\t<tr><td>24          </td><td> 2283885    </td><td>0.0058697019</td><td>2.3e-05     </td><td>0.020793483 </td><td>0.03354431  </td><td>0.06400635  </td><td>24          </td><td>T           </td><td>G           </td><td>0.214089    </td><td>159         </td><td>13.97894    </td><td>10/11/0     </td><td>24:2283885  </td><td>1.848702e-04</td><td>r128220     </td></tr>\n",
       "</tbody>\n",
       "</table>\n"
      ],
      "text/latex": [
       "\\begin{tabular}{r|lllllllllllllllll}\n",
       " Chromosome & Position & min\\_pvalue & min\\_lrt & pval\\_0.01 & pval\\_0.025 & pval\\_0.05 & Chromosome.y & Major & Minor & Frequency & N & LRT & high\\_WT/HE/HO & locus & pvalue & SNP\\\\\n",
       "\\hline\n",
       "\t 24           &  6021620     & 0.0038163988 & 2.1e-05      & 0.011458385  & 0.02324762   & 0.04942466   & 24           & T            & C            & 0.139610     & 159          & 17.56558     & 33/13/0      & 24:6021620   & 2.775673e-05 & r129193     \\\\\n",
       "\t 14           & 11396158     & 0.0016473497 & 5.0e-06      & 0.011356611  & 0.02491698   & 0.04005150   & 14           & A            & G            & 0.283847     & 159          & 16.83758     & 12/12/0      & 14:11396158  & 4.071885e-05 & r78921      \\\\\n",
       "\t 15           & 22742928     & 0.0005726666 & 1.9e-05      & 0.006983935  & 0.02032165   & 0.04411765   & 15           & G            & A            & 0.212140     & 159          & 15.77261     & 21/15/1      & 15:22742928  & 7.142914e-05 & r88604      \\\\\n",
       "\t 14           & 28287841     & 0.0010785913 & 2.0e-06      & 0.007543192  & 0.02994416   & 0.04565220   & 14           & A            & T            & 0.152335     & 159          & 15.17031     & 29/12/0      & 14:28287841  & 9.823603e-05 & r81931      \\\\\n",
       "\t 17           &  2650542     & 0.0019869418 & 3.0e-06      & 0.016016768  & 0.03588978   & 0.06843622   & 17           & A            & G            & 0.296772     & 159          & 14.95967     & 10/11/0      & 17:2650542   & 1.098339e-04 & r96437      \\\\\n",
       "\t 24           &  2283885     & 0.0058697019 & 2.3e-05      & 0.020793483  & 0.03354431   & 0.06400635   & 24           & T            & G            & 0.214089     & 159          & 13.97894     & 10/11/0      & 24:2283885   & 1.848702e-04 & r128220     \\\\\n",
       "\\end{tabular}\n"
      ],
      "text/markdown": [
       "\n",
       "| Chromosome | Position | min_pvalue | min_lrt | pval_0.01 | pval_0.025 | pval_0.05 | Chromosome.y | Major | Minor | Frequency | N | LRT | high_WT/HE/HO | locus | pvalue | SNP |\n",
       "|---|---|---|---|---|---|---|---|---|---|---|---|---|---|---|---|---|\n",
       "| 24           |  6021620     | 0.0038163988 | 2.1e-05      | 0.011458385  | 0.02324762   | 0.04942466   | 24           | T            | C            | 0.139610     | 159          | 17.56558     | 33/13/0      | 24:6021620   | 2.775673e-05 | r129193      |\n",
       "| 14           | 11396158     | 0.0016473497 | 5.0e-06      | 0.011356611  | 0.02491698   | 0.04005150   | 14           | A            | G            | 0.283847     | 159          | 16.83758     | 12/12/0      | 14:11396158  | 4.071885e-05 | r78921       |\n",
       "| 15           | 22742928     | 0.0005726666 | 1.9e-05      | 0.006983935  | 0.02032165   | 0.04411765   | 15           | G            | A            | 0.212140     | 159          | 15.77261     | 21/15/1      | 15:22742928  | 7.142914e-05 | r88604       |\n",
       "| 14           | 28287841     | 0.0010785913 | 2.0e-06      | 0.007543192  | 0.02994416   | 0.04565220   | 14           | A            | T            | 0.152335     | 159          | 15.17031     | 29/12/0      | 14:28287841  | 9.823603e-05 | r81931       |\n",
       "| 17           |  2650542     | 0.0019869418 | 3.0e-06      | 0.016016768  | 0.03588978   | 0.06843622   | 17           | A            | G            | 0.296772     | 159          | 14.95967     | 10/11/0      | 17:2650542   | 1.098339e-04 | r96437       |\n",
       "| 24           |  2283885     | 0.0058697019 | 2.3e-05      | 0.020793483  | 0.03354431   | 0.06400635   | 24           | T            | G            | 0.214089     | 159          | 13.97894     | 10/11/0      | 24:2283885   | 1.848702e-04 | r128220      |\n",
       "\n"
      ],
      "text/plain": [
       "  Chromosome Position min_pvalue   min_lrt pval_0.01   pval_0.025 pval_0.05 \n",
       "1 24          6021620 0.0038163988 2.1e-05 0.011458385 0.02324762 0.04942466\n",
       "2 14         11396158 0.0016473497 5.0e-06 0.011356611 0.02491698 0.04005150\n",
       "3 15         22742928 0.0005726666 1.9e-05 0.006983935 0.02032165 0.04411765\n",
       "4 14         28287841 0.0010785913 2.0e-06 0.007543192 0.02994416 0.04565220\n",
       "5 17          2650542 0.0019869418 3.0e-06 0.016016768 0.03588978 0.06843622\n",
       "6 24          2283885 0.0058697019 2.3e-05 0.020793483 0.03354431 0.06400635\n",
       "  Chromosome.y Major Minor Frequency N   LRT      high_WT/HE/HO locus      \n",
       "1 24           T     C     0.139610  159 17.56558 33/13/0       24:6021620 \n",
       "2 14           A     G     0.283847  159 16.83758 12/12/0       14:11396158\n",
       "3 15           G     A     0.212140  159 15.77261 21/15/1       15:22742928\n",
       "4 14           A     T     0.152335  159 15.17031 29/12/0       14:28287841\n",
       "5 17           A     G     0.296772  159 14.95967 10/11/0       17:2650542 \n",
       "6 24           T     G     0.214089  159 13.97894 10/11/0       24:2283885 \n",
       "  pvalue       SNP    \n",
       "1 2.775673e-05 r129193\n",
       "2 4.071885e-05 r78921 \n",
       "3 7.142914e-05 r88604 \n",
       "4 9.823603e-05 r81931 \n",
       "5 1.098339e-04 r96437 \n",
       "6 1.848702e-04 r128220"
      ]
     },
     "metadata": {},
     "output_type": "display_data"
    }
   ],
   "source": [
    "head(sl_perm_pvalues_int[pvalue < min_pvalue][order(pvalue)])\n",
    "head(ucrit_perm_pvalues_int[pvalue < min_pvalue][order(pvalue)])"
   ]
  },
  {
   "cell_type": "markdown",
   "id": "6a73b07a",
   "metadata": {},
   "source": [
    "__given the power analysis results, do these candidates make sense? If not, no use in the enrichment__"
   ]
  },
  {
   "cell_type": "code",
   "execution_count": null,
   "id": "5005064f",
   "metadata": {},
   "outputs": [],
   "source": [
    "#hist(sl_null.05$Frequency, breaks = 40)\n",
    "#hist(ucrit_null.05$Frequency, breaks = 40)\n",
    "#hist(sl_candidates$Frequency, breaks = 40)\n",
    "#hist(abs(ucrit_candidates$beta), breaks = 40)\n",
    "#hist(abs(ucrit_candidates[pvalue >=gw_ucrit, beta]), breaks = 40)"
   ]
  },
  {
   "cell_type": "markdown",
   "id": "909efb59",
   "metadata": {},
   "source": [
    "__try using the permutations as the expected for the qq plot__"
   ]
  },
  {
   "cell_type": "code",
   "execution_count": null,
   "id": "a59fa859",
   "metadata": {},
   "outputs": [],
   "source": [
    "#lrt_sl_null <- lrt_sl_null[LRT > 0][order(LRT)][,quantile:=1:nrow(lrt_sl_null[LRT > 0])/nrow(lrt_sl_null[LRT > 0])] #quantiles for observed lrt\n",
    "#lrt_sl_null_filt <- lrt_sl_null[LRT >0][Chromosome %in% as.character(seq(1,24,1))][, pvalue:=pchisq(LRT, df=1, lower=F)]\n",
    "png(\"/data/katrinac/APPC_sequencing/DNA/trimmed_reads/mapping/ensembl/genotypes/angsd/results/lrt_null_qq_sl.png\")\n",
    "\n",
    "qqplot(-log10(lrt_null_sl$pvalue), -log10(lrt_filt_sl$pvalue), xlab = \"Expected -log10(p)\", ylab=\"Observed -log10(p)\")\n",
    "abline(0, 1, col = \"red\")\n",
    "dev.off()"
   ]
  },
  {
   "cell_type": "code",
   "execution_count": null,
   "id": "88c63f01",
   "metadata": {},
   "outputs": [],
   "source": [
    "#lrt_ucrit_null <- lrt_ucrit_null[LRT > 0][order(LRT)][,quantile:=1:nrow(lrt_ucrit_null[LRT > 0])/nrow(lrt_ucrit_null[LRT > 0])] #quantiles for observed lrt\n",
    "#lrt_ucrit_null_filt <- lrt_ucrit_null[LRT >0][Chromosome %in% as.character(seq(1,24,1))][, pvalue:=pchisq(LRT, df=1, lower=F)]\n",
    "png(\"/data/katrinac/APPC_sequencing/DNA/trimmed_reads/mapping/ensembl/genotypes/angsd/results/lrt_null_qq_ucrit.png\")\n",
    "qqplot(-log10(lrt_null_ucrit$pvalue), -log10(lrt_filt_ucrit$pvalue), xlab = \"Expected -log10(p)\", ylab=\"Observed -log10(p)\")\n",
    "abline(0, 1, col = \"red\")\n",
    "dev.off()"
   ]
  },
  {
   "cell_type": "code",
   "execution_count": null,
   "id": "e78b5ce8",
   "metadata": {},
   "outputs": [],
   "source": [
    "head(lrt_filt_ucrit)"
   ]
  },
  {
   "cell_type": "code",
   "execution_count": 81,
   "id": "1ad446aa",
   "metadata": {},
   "outputs": [],
   "source": [
    "#only for manhattan plot\n",
    "lrt_filt_ucrit[,Chromosome_man := gsub(\"chr\", \"\", Chromosome)][, Chromosome_man:=as.numeric(Chromosome_man)]\n",
    "lrt_filt_sl[,Chromosome_man := gsub(\"chr\", \"\", Chromosome)][, Chromosome_man:=as.numeric(Chromosome_man)]\n"
   ]
  },
  {
   "cell_type": "code",
   "execution_count": 82,
   "id": "0d15095f",
   "metadata": {},
   "outputs": [
    {
     "data": {
      "text/html": [
       "<table>\n",
       "<thead><tr><th scope=col>Chromosome</th><th scope=col>Position</th><th scope=col>Major</th><th scope=col>Minor</th><th scope=col>Frequency</th><th scope=col>N</th><th scope=col>LRT</th><th scope=col>high_WT/HE/HO</th><th scope=col>locus</th><th scope=col>pvalue</th><th scope=col>SNP</th><th scope=col>Chromosome_man</th></tr></thead>\n",
       "<tbody>\n",
       "\t<tr><td>chr1     </td><td>10004    </td><td>A        </td><td>G        </td><td>0.109734 </td><td>147      </td><td>0.096277 </td><td>42/14/0  </td><td>1:10004  </td><td>0.7563440</td><td>r1       </td><td>1        </td></tr>\n",
       "\t<tr><td>chr1     </td><td>32316    </td><td>T        </td><td>G        </td><td>0.339790 </td><td>147      </td><td>0.843309 </td><td>11/20/0  </td><td>1:32316  </td><td>0.3584521</td><td>r2       </td><td>1        </td></tr>\n",
       "\t<tr><td>chr1     </td><td>32326    </td><td>T        </td><td>C        </td><td>0.206107 </td><td>147      </td><td>0.842760 </td><td>20/11/0  </td><td>1:32326  </td><td>0.3586086</td><td>r3       </td><td>1        </td></tr>\n",
       "\t<tr><td>chr1     </td><td>32350    </td><td>A        </td><td>G        </td><td>0.299364 </td><td>147      </td><td>0.125366 </td><td>10/10/1  </td><td>1:32350  </td><td>0.7232860</td><td>r4       </td><td>1        </td></tr>\n",
       "\t<tr><td>chr1     </td><td>32897    </td><td>C        </td><td>T        </td><td>0.198828 </td><td>147      </td><td>1.057497 </td><td>13/11/0  </td><td>1:32897  </td><td>0.3037868</td><td>r5       </td><td>1        </td></tr>\n",
       "\t<tr><td>chr1     </td><td>33219    </td><td>A        </td><td>G        </td><td>0.245286 </td><td>147      </td><td>0.272930 </td><td>13/12/0  </td><td>1:33219  </td><td>0.6013730</td><td>r6       </td><td>1        </td></tr>\n",
       "</tbody>\n",
       "</table>\n"
      ],
      "text/latex": [
       "\\begin{tabular}{r|llllllllllll}\n",
       " Chromosome & Position & Major & Minor & Frequency & N & LRT & high\\_WT/HE/HO & locus & pvalue & SNP & Chromosome\\_man\\\\\n",
       "\\hline\n",
       "\t chr1      & 10004     & A         & G         & 0.109734  & 147       & 0.096277  & 42/14/0   & 1:10004   & 0.7563440 & r1        & 1        \\\\\n",
       "\t chr1      & 32316     & T         & G         & 0.339790  & 147       & 0.843309  & 11/20/0   & 1:32316   & 0.3584521 & r2        & 1        \\\\\n",
       "\t chr1      & 32326     & T         & C         & 0.206107  & 147       & 0.842760  & 20/11/0   & 1:32326   & 0.3586086 & r3        & 1        \\\\\n",
       "\t chr1      & 32350     & A         & G         & 0.299364  & 147       & 0.125366  & 10/10/1   & 1:32350   & 0.7232860 & r4        & 1        \\\\\n",
       "\t chr1      & 32897     & C         & T         & 0.198828  & 147       & 1.057497  & 13/11/0   & 1:32897   & 0.3037868 & r5        & 1        \\\\\n",
       "\t chr1      & 33219     & A         & G         & 0.245286  & 147       & 0.272930  & 13/12/0   & 1:33219   & 0.6013730 & r6        & 1        \\\\\n",
       "\\end{tabular}\n"
      ],
      "text/markdown": [
       "\n",
       "| Chromosome | Position | Major | Minor | Frequency | N | LRT | high_WT/HE/HO | locus | pvalue | SNP | Chromosome_man |\n",
       "|---|---|---|---|---|---|---|---|---|---|---|---|\n",
       "| chr1      | 10004     | A         | G         | 0.109734  | 147       | 0.096277  | 42/14/0   | 1:10004   | 0.7563440 | r1        | 1         |\n",
       "| chr1      | 32316     | T         | G         | 0.339790  | 147       | 0.843309  | 11/20/0   | 1:32316   | 0.3584521 | r2        | 1         |\n",
       "| chr1      | 32326     | T         | C         | 0.206107  | 147       | 0.842760  | 20/11/0   | 1:32326   | 0.3586086 | r3        | 1         |\n",
       "| chr1      | 32350     | A         | G         | 0.299364  | 147       | 0.125366  | 10/10/1   | 1:32350   | 0.7232860 | r4        | 1         |\n",
       "| chr1      | 32897     | C         | T         | 0.198828  | 147       | 1.057497  | 13/11/0   | 1:32897   | 0.3037868 | r5        | 1         |\n",
       "| chr1      | 33219     | A         | G         | 0.245286  | 147       | 0.272930  | 13/12/0   | 1:33219   | 0.6013730 | r6        | 1         |\n",
       "\n"
      ],
      "text/plain": [
       "  Chromosome Position Major Minor Frequency N   LRT      high_WT/HE/HO locus  \n",
       "1 chr1       10004    A     G     0.109734  147 0.096277 42/14/0       1:10004\n",
       "2 chr1       32316    T     G     0.339790  147 0.843309 11/20/0       1:32316\n",
       "3 chr1       32326    T     C     0.206107  147 0.842760 20/11/0       1:32326\n",
       "4 chr1       32350    A     G     0.299364  147 0.125366 10/10/1       1:32350\n",
       "5 chr1       32897    C     T     0.198828  147 1.057497 13/11/0       1:32897\n",
       "6 chr1       33219    A     G     0.245286  147 0.272930 13/12/0       1:33219\n",
       "  pvalue    SNP Chromosome_man\n",
       "1 0.7563440 r1  1             \n",
       "2 0.3584521 r2  1             \n",
       "3 0.3586086 r3  1             \n",
       "4 0.7232860 r4  1             \n",
       "5 0.3037868 r5  1             \n",
       "6 0.6013730 r6  1             "
      ]
     },
     "metadata": {},
     "output_type": "display_data"
    }
   ],
   "source": [
    "head(lrt_filt_sl)"
   ]
  },
  {
   "cell_type": "code",
   "execution_count": 127,
   "id": "086bded9",
   "metadata": {},
   "outputs": [
    {
     "data": {
      "text/html": [
       "<strong>png:</strong> 2"
      ],
      "text/latex": [
       "\\textbf{png:} 2"
      ],
      "text/markdown": [
       "**png:** 2"
      ],
      "text/plain": [
       "png \n",
       "  2 "
      ]
     },
     "metadata": {},
     "output_type": "display_data"
    }
   ],
   "source": [
    "#gw_sl <- quantile(sl_null_lowest$null_min_pvalue, .025)[[1]]\n",
    "#gw_sl_null <- dchisq(min(sl_null_top$LRT), df=1)\n",
    "#png(\"/data/katrinac/APPC_sequencing/DNA/trimmed_reads/mapping/ensembl/genotypes/angsd/results/sl_manhattan_chrom_null_sig_top0.0001.png\")\n",
    "qqman::manhattan(lrt_filt_sl, chr=\"Chromosome_man\", bp=\"Position\", p=\"pvalue\", genomewideline = -log10(max(sl_null_top$null_pvalue)), suggestiveline = F, highlight =lrt_filt_sl[locus %in% sl_candidates[, locus], SNP])\n",
    "#dev.off()\n",
    "#gw_sl"
   ]
  },
  {
   "cell_type": "code",
   "execution_count": 136,
   "id": "2be24cf2",
   "metadata": {},
   "outputs": [
    {
     "data": {
      "text/html": [
       "<strong>png:</strong> 2"
      ],
      "text/latex": [
       "\\textbf{png:} 2"
      ],
      "text/markdown": [
       "**png:** 2"
      ],
      "text/plain": [
       "png \n",
       "  2 "
      ]
     },
     "metadata": {},
     "output_type": "display_data"
    }
   ],
   "source": [
    "#gw_ucrit <- quantile(ucrit_null_lowest$null_min_pvalue, .025)[[1]]\n",
    "#gw_ucrit_null <- dchisq(min(ucrit_null_top$LRT), df=1)\n",
    "png(\"/data/katrinac/APPC_sequencing/DNA/trimmed_reads/mapping/ensembl/genotypes/angsd/results/ucrit_manhattan_chrom_null_sig_top0.0001.png\")\n",
    "qqman::manhattan(lrt_filt_ucrit, chr=\"Chromosome_man\", bp=\"Position\", p=\"pvalue\", genomewideline = -log10(max(ucrit_null_top$null_pvalue)), suggestiveline = F, highlight =lrt_filt_ucrit[locus %in% ucrit_candidates[, locus], SNP])\n",
    "dev.off()\n",
    "#gw_ucrit"
   ]
  },
  {
   "cell_type": "code",
   "execution_count": 141,
   "id": "093a2c31",
   "metadata": {},
   "outputs": [],
   "source": [
    "fwrite(ucrit_candidates[,.(Chromosome=gsub(\"chr\", \"\", Chromosome), start=Position-3000, end=Position+3000)], \"/data/katrinac/APPC_sequencing/DNA/trimmed_reads/mapping/ensembl/genotypes/angsd/results/null_candidates_ucrit_loci3kbp_NullWay.bed\", sep=\"\\t\", col.names = F)"
   ]
  },
  {
   "cell_type": "code",
   "execution_count": null,
   "id": "e958395e",
   "metadata": {},
   "outputs": [],
   "source": [
    "ucrit_cand[,.(Chromosome=gsub(\"chr\", \"\", Chromosome), start=Position-3000, end=Position+3000)]"
   ]
  },
  {
   "cell_type": "code",
   "execution_count": 142,
   "id": "1d32acbb",
   "metadata": {},
   "outputs": [],
   "source": [
    "fwrite(sl_candidates[,.(Chromosome=gsub(\"chr\", \"\", Chromosome), start=Position-3000, end=Position+3000)], \"/data/katrinac/APPC_sequencing/DNA/trimmed_reads/mapping/ensembl/genotypes/angsd/results/null_candidates_sl_loci3kbp_NullWay.bed\", sep=\"\\t\", col.names = F)"
   ]
  },
  {
   "cell_type": "markdown",
   "id": "c0a4b36d",
   "metadata": {},
   "source": [
    "__write out the candidate positions to find closest feature in percula genome and blast against ocellaris for gene names__"
   ]
  },
  {
   "cell_type": "code",
   "execution_count": 143,
   "id": "b538950d",
   "metadata": {},
   "outputs": [],
   "source": [
    "candidates_sl_bedops <- sl_candidates[,.( Chromosome, start=Position-50, end=Position+50)]#, range=paste0(start, end, sep=\"-\"))]\n",
    "candidates_ucrit_bedops <- ucrit_candidates[,.( Chromosome, start=Position-50, end=Position+50)]#, range=paste0(start, end, sep=\"-\"))]\n",
    "fwrite(candidates_sl_bedops[,.(Chromosome, start, end)], \"/data/katrinac/APPC_sequencing/DNA/trimmed_reads/mapping/ensembl/genotypes/angsd/results/candidates_sl_loci50bpNullWay.bed\", sep=\"\\t\", col.names = F)\n",
    "fwrite(candidates_ucrit_bedops[,.(Chromosome, start, end)], \"/data/katrinac/APPC_sequencing/DNA/trimmed_reads/mapping/ensembl/genotypes/angsd/results/candidates_ucrit_loci50bpNullWay.bed\", sep=\"\\t\", col.names = F)"
   ]
  },
  {
   "cell_type": "markdown",
   "id": "47357596",
   "metadata": {},
   "source": [
    "__read in and sort the blast results__"
   ]
  },
  {
   "cell_type": "markdown",
   "id": "b28bca3f",
   "metadata": {},
   "source": [
    "__read in the results for the nearest gene and join with blast results__"
   ]
  },
  {
   "cell_type": "code",
   "execution_count": 148,
   "id": "586b90b6",
   "metadata": {},
   "outputs": [
    {
     "data": {
      "text/html": [
       "<table>\n",
       "<thead><tr><th scope=col>seqid</th><th scope=col>accession</th><th scope=col>per_id</th><th scope=col>evalue</th></tr></thead>\n",
       "<tbody>\n",
       "\t<tr><td>2:5429895-5435894   </td><td>XM_023283859.2      </td><td>98.559              </td><td> 0.00e+00           </td></tr>\n",
       "\t<tr><td>10:23408451-23414450</td><td>XM_023298591.2      </td><td>83.424              </td><td>6.05e-108           </td></tr>\n",
       "\t<tr><td>16:29991949-29997948</td><td>XM_023290920.2      </td><td>77.202              </td><td> 1.43e-33           </td></tr>\n",
       "\t<tr><td>17:32870422-32876421</td><td>XM_023269367.2      </td><td>83.529              </td><td> 4.99e-14           </td></tr>\n",
       "\t<tr><td>21:10179979-10185978</td><td>XM_023290920.2      </td><td>78.947              </td><td> 1.00e-03           </td></tr>\n",
       "\t<tr><td>21:10179993-10185992</td><td>XM_023290920.2      </td><td>78.947              </td><td> 1.00e-03           </td></tr>\n",
       "\t<tr><td>23:25796411-25802410</td><td>XM_023273293.2      </td><td>67.596              </td><td> 2.27e-18           </td></tr>\n",
       "\t<tr><td>24:2561033-2567032  </td><td>XM_035956426.1      </td><td>84.553              </td><td> 1.10e-28           </td></tr>\n",
       "</tbody>\n",
       "</table>\n"
      ],
      "text/latex": [
       "\\begin{tabular}{r|llll}\n",
       " seqid & accession & per\\_id & evalue\\\\\n",
       "\\hline\n",
       "\t 2:5429895-5435894    & XM\\_023283859.2     & 98.559               &  0.00e+00           \\\\\n",
       "\t 10:23408451-23414450 & XM\\_023298591.2     & 83.424               & 6.05e-108           \\\\\n",
       "\t 16:29991949-29997948 & XM\\_023290920.2     & 77.202               &  1.43e-33           \\\\\n",
       "\t 17:32870422-32876421 & XM\\_023269367.2     & 83.529               &  4.99e-14           \\\\\n",
       "\t 21:10179979-10185978 & XM\\_023290920.2     & 78.947               &  1.00e-03           \\\\\n",
       "\t 21:10179993-10185992 & XM\\_023290920.2     & 78.947               &  1.00e-03           \\\\\n",
       "\t 23:25796411-25802410 & XM\\_023273293.2     & 67.596               &  2.27e-18           \\\\\n",
       "\t 24:2561033-2567032   & XM\\_035956426.1     & 84.553               &  1.10e-28           \\\\\n",
       "\\end{tabular}\n"
      ],
      "text/markdown": [
       "\n",
       "| seqid | accession | per_id | evalue |\n",
       "|---|---|---|---|\n",
       "| 2:5429895-5435894    | XM_023283859.2       | 98.559               |  0.00e+00            |\n",
       "| 10:23408451-23414450 | XM_023298591.2       | 83.424               | 6.05e-108            |\n",
       "| 16:29991949-29997948 | XM_023290920.2       | 77.202               |  1.43e-33            |\n",
       "| 17:32870422-32876421 | XM_023269367.2       | 83.529               |  4.99e-14            |\n",
       "| 21:10179979-10185978 | XM_023290920.2       | 78.947               |  1.00e-03            |\n",
       "| 21:10179993-10185992 | XM_023290920.2       | 78.947               |  1.00e-03            |\n",
       "| 23:25796411-25802410 | XM_023273293.2       | 67.596               |  2.27e-18            |\n",
       "| 24:2561033-2567032   | XM_035956426.1       | 84.553               |  1.10e-28            |\n",
       "\n"
      ],
      "text/plain": [
       "  seqid                accession      per_id evalue   \n",
       "1 2:5429895-5435894    XM_023283859.2 98.559  0.00e+00\n",
       "2 10:23408451-23414450 XM_023298591.2 83.424 6.05e-108\n",
       "3 16:29991949-29997948 XM_023290920.2 77.202  1.43e-33\n",
       "4 17:32870422-32876421 XM_023269367.2 83.529  4.99e-14\n",
       "5 21:10179979-10185978 XM_023290920.2 78.947  1.00e-03\n",
       "6 21:10179993-10185992 XM_023290920.2 78.947  1.00e-03\n",
       "7 23:25796411-25802410 XM_023273293.2 67.596  2.27e-18\n",
       "8 24:2561033-2567032   XM_035956426.1 84.553  1.10e-28"
      ]
     },
     "metadata": {},
     "output_type": "display_data"
    },
    {
     "name": "stderr",
     "output_type": "stream",
     "text": [
      "Warning message in `[.data.table`(sl_split[sl_oce_best, roll = \"nearest\", on = c(\"Chromosome\", :\n",
      "“Coerced double RHS to character to match the type of the target column (column 8 named 'dist_bp'). If the target column's type character is correct, it's best for efficiency to avoid the coercion and create the RHS as type character. To achieve that consider R's type postfix: typeof(0L) vs typeof(0), and typeof(NA) vs typeof(NA_integer_) vs typeof(NA_real_). You can wrap the RHS with as.character() to avoid this warning, but that will still perform the coercion. If the target column's type is not correct, it's best to revisit where the DT was created and fix the column type there; e.g., by using colClasses= in fread(). Otherwise, you can change the column type now by plonking a new column (of the desired type) over the top of it; e.g. DT[, `dist_bp`:=as.double(`dist_bp`)]. If the RHS of := has nrow(DT) elements then the assignment is called a column plonk and is the way to change a column's type. Column types can be observed with sapply(DT,typeof).”"
     ]
    }
   ],
   "source": [
    "sl_oce <- fread(\"/data/katrinac/APPC_sequencing/DNA/trimmed_reads/mapping/ensembl/genotypes/angsd/results/sl_ATZPJ1PB013-Alignment-HitTable3kbp_null.csv\")\n",
    "sl_oce_best <- unique(sl_oce[, .(seqid=V1, accession=V2, per_id=V3, evalue=V11)][, .SD[which.min(evalue)], by=seqid][ ,.(seqid, accession, per_id, evalue)], by=\"seqid\")\n",
    "(sl_oce_best)\n",
    "fwrite(sl_oce_best, \"/data/katrinac/APPC_sequencing/DNA/trimmed_reads/mapping/ensembl/genotypes/angsd/results/sl_oce_best_3kbp_null.csv\")\n",
    "\n",
    "gff_names <- c(\"seqid\", \"start\",\"locus\", \"feature_start\", \"feature_end\", \"feature_id\", \"score\", \"strand\", \"unkn\", \"feature_type\", \"phase\", \"attributes\")\n",
    "sl_nearest <- fread(\"/data/katrinac/APPC_sequencing/DNA/trimmed_reads/mapping/ensembl/genotypes/angsd/results/sl_results_candidates_50bp_percula_nearestNullWay.bed\", sep=\"\\t\", fill = T)\n",
    "setnames(sl_nearest, gff_names)\n",
    "\n",
    "#split the attributs column to get the gene name and the go terms\n",
    "sl_split <- sl_nearest[, c('gene_id', 'protein_family', 'go_term_dist'):= tstrsplit(attributes, \";\")][, c('go_term', 'dist_bp'):= tstrsplit(go_term_dist, \"|\", fixed=T),by=\"gene_id\"]#[dist_bp ==0]\n",
    "sl_split[, gene_id:=gsub(\"ID=\", \"\", gene_id)][, go_term:=gsub(\"Ontology_term=\", \"\", go_term)][, go_term:=gsub(\",\", \" \", go_term)]\n",
    "sl_split <- sl_split[, .(seqid, start, locus, feature_start, feature_end, gene_id, go_term, dist_bp)]\n",
    "\n",
    "sl_oce_best[, c(\"Chromosome\", \"start_end\"):= tstrsplit(seqid, \":\")][,c(\"start\", \"end\"):= tstrsplit(start_end, \"-\")][, start:=as.numeric(start)]\n",
    "sl_split <- sl_split[, Chromosome:=gsub(\"chr\", \"\", seqid)][, start:=as.numeric(start)]\n",
    "\n",
    "sl_blast_and_nearest <- sl_split[sl_oce_best, roll = \"nearest\", on = c(\"Chromosome\", \"start\")][is.na(dist_bp), dist_bp:=0][, .(Chromosome=as.numeric(Chromosome), feature_start=start, feature_id=gene_id, go_term, dist_bp, A.ocellaris_acession=accession, evalue, per_id)]  "
   ]
  },
  {
   "cell_type": "code",
   "execution_count": 149,
   "id": "63d456cf",
   "metadata": {},
   "outputs": [
    {
     "data": {
      "text/html": [
       "<table>\n",
       "<thead><tr><th scope=col>Chromosome</th><th scope=col>feature_start</th><th scope=col>feature_id</th><th scope=col>go_term</th><th scope=col>dist_bp</th><th scope=col>A.ocellaris_acession</th><th scope=col>evalue</th><th scope=col>per_id</th></tr></thead>\n",
       "<tbody>\n",
       "\t<tr><td> 2                                                    </td><td> 5429895                                              </td><td>APERC1_00005239                                       </td><td>GO:0005164 GO:0006955 GO:0016020                      </td><td>0                                                     </td><td>XM_023283859.2                                        </td><td> 0.00e+00                                             </td><td>98.559                                                </td></tr>\n",
       "\t<tr><td>10                                                    </td><td>23408451                                              </td><td>APERC1_00008302                                       </td><td>GO:0003676                                            </td><td>0                                                     </td><td>XM_023298591.2                                        </td><td>6.05e-108                                             </td><td>83.424                                                </td></tr>\n",
       "\t<tr><td>16                                                    </td><td>29991949                                              </td><td>APERC1_00016898                                       </td><td>GO:0005515 GO:0005634 GO:0008270 GO:0018024 GO:0034968</td><td>-7512                                                 </td><td>XM_023290920.2                                        </td><td> 1.43e-33                                             </td><td>77.202                                                </td></tr>\n",
       "\t<tr><td>17                                                    </td><td>32870422                                              </td><td>APERC1_00022076|-7061                                 </td><td>NA                                                    </td><td>0                                                     </td><td>XM_023269367.2                                        </td><td> 4.99e-14                                             </td><td>83.529                                                </td></tr>\n",
       "\t<tr><td>21                                                    </td><td>10179979                                              </td><td>APERC1_00025071                                       </td><td>NA                                                    </td><td>0                                                     </td><td>XM_023290920.2                                        </td><td> 1.00e-03                                             </td><td>78.947                                                </td></tr>\n",
       "\t<tr><td>21                                                    </td><td>10179993                                              </td><td>APERC1_00025071                                       </td><td>NA                                                    </td><td>0                                                     </td><td>XM_023290920.2                                        </td><td> 1.00e-03                                             </td><td>78.947                                                </td></tr>\n",
       "\t<tr><td>23                                                    </td><td>25796411                                              </td><td>APERC1_00022962                                       </td><td>NA                                                    </td><td>0                                                     </td><td>XM_023273293.2                                        </td><td> 2.27e-18                                             </td><td>67.596                                                </td></tr>\n",
       "\t<tr><td>24                                                    </td><td> 2561033                                              </td><td>APERC1_00025668                                       </td><td>GO:0003700 GO:0005634 GO:0006355 GO:0043565           </td><td>0                                                     </td><td>XM_035956426.1                                        </td><td> 1.10e-28                                             </td><td>84.553                                                </td></tr>\n",
       "</tbody>\n",
       "</table>\n"
      ],
      "text/latex": [
       "\\begin{tabular}{r|llllllll}\n",
       " Chromosome & feature\\_start & feature\\_id & go\\_term & dist\\_bp & A.ocellaris\\_acession & evalue & per\\_id\\\\\n",
       "\\hline\n",
       "\t  2                                                     &  5429895                                               & APERC1\\_00005239                                      & GO:0005164 GO:0006955 GO:0016020                       & 0                                                      & XM\\_023283859.2                                       &  0.00e+00                                              & 98.559                                                \\\\\n",
       "\t 10                                                     & 23408451                                               & APERC1\\_00008302                                      & GO:0003676                                             & 0                                                      & XM\\_023298591.2                                       & 6.05e-108                                              & 83.424                                                \\\\\n",
       "\t 16                                                     & 29991949                                               & APERC1\\_00016898                                      & GO:0005515 GO:0005634 GO:0008270 GO:0018024 GO:0034968 & -7512                                                  & XM\\_023290920.2                                       &  1.43e-33                                              & 77.202                                                \\\\\n",
       "\t 17                                                     & 32870422                                               & APERC1\\_00022076\\textbar{}-7061                      & NA                                                     & 0                                                      & XM\\_023269367.2                                       &  4.99e-14                                              & 83.529                                                \\\\\n",
       "\t 21                                                     & 10179979                                               & APERC1\\_00025071                                      & NA                                                     & 0                                                      & XM\\_023290920.2                                       &  1.00e-03                                              & 78.947                                                \\\\\n",
       "\t 21                                                     & 10179993                                               & APERC1\\_00025071                                      & NA                                                     & 0                                                      & XM\\_023290920.2                                       &  1.00e-03                                              & 78.947                                                \\\\\n",
       "\t 23                                                     & 25796411                                               & APERC1\\_00022962                                      & NA                                                     & 0                                                      & XM\\_023273293.2                                       &  2.27e-18                                              & 67.596                                                \\\\\n",
       "\t 24                                                     &  2561033                                               & APERC1\\_00025668                                      & GO:0003700 GO:0005634 GO:0006355 GO:0043565            & 0                                                      & XM\\_035956426.1                                       &  1.10e-28                                              & 84.553                                                \\\\\n",
       "\\end{tabular}\n"
      ],
      "text/markdown": [
       "\n",
       "| Chromosome | feature_start | feature_id | go_term | dist_bp | A.ocellaris_acession | evalue | per_id |\n",
       "|---|---|---|---|---|---|---|---|\n",
       "|  2                                                     |  5429895                                               | APERC1_00005239                                        | GO:0005164 GO:0006955 GO:0016020                       | 0                                                      | XM_023283859.2                                         |  0.00e+00                                              | 98.559                                                 |\n",
       "| 10                                                     | 23408451                                               | APERC1_00008302                                        | GO:0003676                                             | 0                                                      | XM_023298591.2                                         | 6.05e-108                                              | 83.424                                                 |\n",
       "| 16                                                     | 29991949                                               | APERC1_00016898                                        | GO:0005515 GO:0005634 GO:0008270 GO:0018024 GO:0034968 | -7512                                                  | XM_023290920.2                                         |  1.43e-33                                              | 77.202                                                 |\n",
       "| 17                                                     | 32870422                                               | APERC1_00022076|-7061                                  | NA                                                     | 0                                                      | XM_023269367.2                                         |  4.99e-14                                              | 83.529                                                 |\n",
       "| 21                                                     | 10179979                                               | APERC1_00025071                                        | NA                                                     | 0                                                      | XM_023290920.2                                         |  1.00e-03                                              | 78.947                                                 |\n",
       "| 21                                                     | 10179993                                               | APERC1_00025071                                        | NA                                                     | 0                                                      | XM_023290920.2                                         |  1.00e-03                                              | 78.947                                                 |\n",
       "| 23                                                     | 25796411                                               | APERC1_00022962                                        | NA                                                     | 0                                                      | XM_023273293.2                                         |  2.27e-18                                              | 67.596                                                 |\n",
       "| 24                                                     |  2561033                                               | APERC1_00025668                                        | GO:0003700 GO:0005634 GO:0006355 GO:0043565            | 0                                                      | XM_035956426.1                                         |  1.10e-28                                              | 84.553                                                 |\n",
       "\n"
      ],
      "text/plain": [
       "  Chromosome feature_start feature_id           \n",
       "1  2          5429895      APERC1_00005239      \n",
       "2 10         23408451      APERC1_00008302      \n",
       "3 16         29991949      APERC1_00016898      \n",
       "4 17         32870422      APERC1_00022076|-7061\n",
       "5 21         10179979      APERC1_00025071      \n",
       "6 21         10179993      APERC1_00025071      \n",
       "7 23         25796411      APERC1_00022962      \n",
       "8 24          2561033      APERC1_00025668      \n",
       "  go_term                                                dist_bp\n",
       "1 GO:0005164 GO:0006955 GO:0016020                       0      \n",
       "2 GO:0003676                                             0      \n",
       "3 GO:0005515 GO:0005634 GO:0008270 GO:0018024 GO:0034968 -7512  \n",
       "4 NA                                                     0      \n",
       "5 NA                                                     0      \n",
       "6 NA                                                     0      \n",
       "7 NA                                                     0      \n",
       "8 GO:0003700 GO:0005634 GO:0006355 GO:0043565            0      \n",
       "  A.ocellaris_acession evalue    per_id\n",
       "1 XM_023283859.2        0.00e+00 98.559\n",
       "2 XM_023298591.2       6.05e-108 83.424\n",
       "3 XM_023290920.2        1.43e-33 77.202\n",
       "4 XM_023269367.2        4.99e-14 83.529\n",
       "5 XM_023290920.2        1.00e-03 78.947\n",
       "6 XM_023290920.2        1.00e-03 78.947\n",
       "7 XM_023273293.2        2.27e-18 67.596\n",
       "8 XM_035956426.1        1.10e-28 84.553"
      ]
     },
     "metadata": {},
     "output_type": "display_data"
    }
   ],
   "source": [
    "sl_blast_and_nearest"
   ]
  },
  {
   "cell_type": "code",
   "execution_count": 144,
   "id": "f4230d14",
   "metadata": {},
   "outputs": [
    {
     "data": {
      "text/html": [
       "<table>\n",
       "<thead><tr><th scope=col>seqid</th><th scope=col>accession</th><th scope=col>per_id</th><th scope=col>evalue</th></tr></thead>\n",
       "<tbody>\n",
       "\t<tr><td>14:28284842-28290841</td><td>XR_004846148.1      </td><td>99.086              </td><td>0.00e+00            </td></tr>\n",
       "\t<tr><td>24:3609439-3615438  </td><td>XM_035948710.1      </td><td>68.391              </td><td>8.45e-05            </td></tr>\n",
       "</tbody>\n",
       "</table>\n"
      ],
      "text/latex": [
       "\\begin{tabular}{r|llll}\n",
       " seqid & accession & per\\_id & evalue\\\\\n",
       "\\hline\n",
       "\t 14:28284842-28290841 & XR\\_004846148.1     & 99.086               & 0.00e+00            \\\\\n",
       "\t 24:3609439-3615438   & XM\\_035948710.1     & 68.391               & 8.45e-05            \\\\\n",
       "\\end{tabular}\n"
      ],
      "text/markdown": [
       "\n",
       "| seqid | accession | per_id | evalue |\n",
       "|---|---|---|---|\n",
       "| 14:28284842-28290841 | XR_004846148.1       | 99.086               | 0.00e+00             |\n",
       "| 24:3609439-3615438   | XM_035948710.1       | 68.391               | 8.45e-05             |\n",
       "\n"
      ],
      "text/plain": [
       "  seqid                accession      per_id evalue  \n",
       "1 14:28284842-28290841 XR_004846148.1 99.086 0.00e+00\n",
       "2 24:3609439-3615438   XM_035948710.1 68.391 8.45e-05"
      ]
     },
     "metadata": {},
     "output_type": "display_data"
    }
   ],
   "source": [
    "#for ucrit\n",
    "ucrit_oce <- fread(\"/data/katrinac/APPC_sequencing/DNA/trimmed_reads/mapping/ensembl/genotypes/angsd/results/ucrit_ATZK8VZP013-Alignment-HitTable3kbp_null.csv\")\n",
    "ucrit_oce_best <- unique(ucrit_oce[, .(seqid=V1, accession=V2, per_id=V3, evalue=V11)][, .SD[which.min(evalue)], by=seqid][ ,.(seqid, accession, per_id, evalue)], by=\"seqid\")\n",
    "ucrit_oce_best\n",
    "\n",
    "gff_names <- c(\"seqid\", \"start\",\"locus\", \"feature_start\", \"feature_end\", \"feature_id\", \"score\", \"strand\", \"unkn\", \"feature_type\", \"phase\", \"attributes\")\n",
    "ucrit_nearest <- fread(\"/data/katrinac/APPC_sequencing/DNA/trimmed_reads/mapping/ensembl/genotypes/angsd/results/ucrit_results_candidates_50bp_percula_nearestNullWay.bed\", sep=\"\\t\", fill = T)\n",
    "setnames(ucrit_nearest, gff_names)\n",
    "\n",
    "#split the attributs column to get the gene name and the go terms\n",
    "ucrit_split <- ucrit_nearest[, c('gene_id', 'protein_family', 'go_term_dist'):= tstrsplit(attributes, \";\")][, c('go_term', 'dist_bp'):= tstrsplit(go_term_dist, \"|\", fixed=T),by=\"gene_id\"]#[dist_bp ==0]\n",
    "ucrit_split[, gene_id:=gsub(\"ID=\", \"\", gene_id)][, go_term:=gsub(\"Ontology_term=\", \"\", go_term)][, go_term:=gsub(\",\", \" \", go_term)]\n",
    "ucrit_split <- ucrit_split[, .(seqid, start, locus, feature_start, feature_end, gene_id, go_term, dist_bp)]\n",
    "\n",
    "ucrit_oce_best[, c(\"Chromosome\", \"start_end\"):= tstrsplit(seqid, \":\")][,c(\"start\", \"end\"):= tstrsplit(start_end, \"-\")][, start:=as.numeric(start)]\n",
    "ucrit_split <- ucrit_split[, Chromosome:=gsub(\"chr\", \"\", seqid)][, start:=as.numeric(start)]\n",
    "\n",
    "ucrit_blast_and_nearest <- ucrit_split[ucrit_oce_best, roll = \"nearest\", on = c(\"Chromosome\", \"start\")][is.na(dist_bp), dist_bp:=0][, .(Chromosome=as.numeric(Chromosome), feature_start=start, feature_id=gene_id, go_term, dist_bp, A.ocellaris_acession=accession, evalue, per_id)]  \n",
    "\n",
    "#fwrite(ucrit_blast_and_nearest, \"/data/katrinac/APPC_sequencing/DNA/trimmed_reads/mapping/ensembl/genotypes/angsd/results/ucrit_oce_best_3kbpNull.csv\")\n"
   ]
  },
  {
   "cell_type": "code",
   "execution_count": 151,
   "id": "c18d166c",
   "metadata": {},
   "outputs": [],
   "source": [
    "fwrite(ucrit_blast_and_nearest, \"/data/katrinac/APPC_sequencing/DNA/trimmed_reads/mapping/ensembl/genotypes/angsd/results/ucrit_oce_best_3kbpNull.csv\")\n"
   ]
  },
  {
   "cell_type": "code",
   "execution_count": 150,
   "id": "af50dc85",
   "metadata": {},
   "outputs": [],
   "source": [
    "fwrite(sl_blast_and_nearest, \"/data/katrinac/APPC_sequencing/DNA/trimmed_reads/mapping/ensembl/genotypes/angsd/results/sl_oce_best_3kbpNull.csv\")\n"
   ]
  },
  {
   "cell_type": "code",
   "execution_count": null,
   "id": "7df542c7",
   "metadata": {},
   "outputs": [],
   "source": []
  },
  {
   "cell_type": "code",
   "execution_count": null,
   "id": "66f7667e",
   "metadata": {},
   "outputs": [],
   "source": []
  },
  {
   "cell_type": "markdown",
   "id": "6d6bb4ad",
   "metadata": {},
   "source": [
    "## Look for enriched go terms with topgo"
   ]
  },
  {
   "cell_type": "code",
   "execution_count": null,
   "id": "3f1952b8",
   "metadata": {},
   "outputs": [],
   "source": [
    "all_sl_bedops <- lrt_filt_sl[,.(locus, Chromosome, start=Position-50, end=Position+50)][Chromosome %like% \"chr\"]#[,Chromosome := paste0(\"chr\", Chromosome, sep=\"\")]#, range=paste0(start, end, sep=\"-\"))]\n",
    "all_ucrit_bedops <- lrt_filt_ucrit[,.(locus, Chromosome, start=Position-50, end=Position+50)][Chromosome %like% \"chr\"]#[,Chromosome := paste0(\"chr\", Chromosome, sep=\"\")]#, range=paste0(start, end, sep=\"-\"))]\n",
    "#fwrite(all_sl_bedops[,.(Chromosome, start, end)], \"/data/katrinac/APPC_sequencing/DNA/trimmed_reads/mapping/ensembl/genotypes/angsd/results/all_sl_loci50bp.bed\", sep=\"\\t\", col.names = F)\n",
    "#fwrite(all_ucrit_bedops[,.(Chromosome, start, end)], \"/data/katrinac/APPC_sequencing/DNA/trimmed_reads/mapping/ensembl/genotypes/angsd/results/all_ucrit_loci50bp.bed\", sep=\"\\t\", col.names = F)#"
   ]
  },
  {
   "cell_type": "code",
   "execution_count": null,
   "id": "b8d0c96b",
   "metadata": {},
   "outputs": [],
   "source": [
    "head(sl_nearest)"
   ]
  },
  {
   "cell_type": "code",
   "execution_count": null,
   "id": "9b1c5cab",
   "metadata": {},
   "outputs": [],
   "source": [
    "#load in the gff file from closest-feature\n",
    "gff_names <- c(\"seqid\", \"start\",\"locus\", \"feature_start\", \"feature_end\", \"feature_id\", \"score\", \"strand\", \"unkn\", \"feature_type\", \"phase\", \"attributes\")\n",
    "sl_nearest <- fread(\"/data/katrinac/APPC_sequencing/DNA/trimmed_reads/mapping/ensembl/genotypes/angsd/results/sorted_all_sl_50bp_percula_nearest.bed\", sep=\"\\t\", fill = T)\n",
    "setnames(sl_nearest, gff_names)\n",
    "\n",
    "#split the attributs column to get the gene name and the go terms\n",
    "split <- sl_nearest[, c('gene_id', 'protein_family', 'go_term_dist'):= tstrsplit(attributes, \";\")][, c('go_term', 'dist_bp'):= tstrsplit(go_term_dist, \"|\", fixed=T),by=\"gene_id\"][dist_bp ==0]\n",
    "\n",
    "go_sl <- split[!is.na(gene_id), .(gene_id=gsub(\"ID=\", \"\", gene_id), go_term=gsub(\"Ontology_term=\", \"\", go_term))][, go_term:=gsub(\",\", \" \", go_term)][!is.na(go_term)]\n",
    "go_sl <- unique(go_sl, by=\"gene_id\")\n",
    "go_terms <- by(go_sl, go_sl$gene_id,function(x) setNames(x$go_term,x$name))\n",
    "\n",
    "go_sl <- split[!is.na(gene_id), .(gene_id=gsub(\"ID=\", \"\", gene_id), go_term=gsub(\"Ontology_term=\", \"\", go_term))][, go_term:=gsub(\",\", \" \", go_term)][!is.na(go_term)]\n",
    "go_sl_vec <- go_sl[, setNames(go_term, gene_id)]\n",
    "\n",
    "               #sl_cand[, locus := paste(Chromosome, Position, sep=\":\")][,locus := gsub(\"chr\", \"\", locus)]\n",
    "           \n",
    "          \n",
    "sl_locus_lrt <- left_join(all_sl_bedops, lrt_filt_sl)[, sig:= pvalue][, .(Chromosome, start, end, sig)]#[, sig:=ifelse(locus %in% sl_candidates$locus, 1, 0)]\n",
    "genes_score <- left_join(sl_locus_lrt, split[, .(seqid, start, feature_id)], by=\"start\")[, .(feature_id, sig)][!is.na(feature_id)]\n",
    "genes_score <- unique(genes_score[order(-sig)], by=\"feature_id\")\n",
    "genes_score_vec <- genes_score[, setNames(sig, feature_id)]\n",
    "               \n",
    "#sig <- max(candidates_sl$pvalue)\n",
    "#sig <- max(lrt_filt_sl_sig$pvalue)\n",
    "GOdata <- new(\"topGOdata\", description=\"go analysis of closest genes for a percula phenotype of sl\", ontology=\"BP\", allGenes=genes_score_vec, geneSel = function(sig) {sig < 1},  annotationFun=annFUN.gene2GO, gene2GO=go_sl_vec, nodeSize=50)  \n",
    "\n",
    "test.stat <- new(\"classicScore\", testStatistic = GOKSTest, name = \"KS test\")\n",
    "resultClassic <- getSigGroups(GOdata, test.stat)\n",
    "##pValue.classic <- score(resultFisher)\n",
    "\n",
    "#test.stat <- new(\"weightCount\", testStatistic = GOFisherTest, name = \"Fisher test\", sigRatio = \"ratio\")\n",
    "#resultWeight <- getSigGroups(GOdata, test.stat)\n",
    "\n",
    "test.stat <- new(\"elimScore\", testStatistic = GOKSTest, name = \"KS test\")\n",
    "resultElim <- getSigGroups(GOdata, test.stat)\n",
    "\n",
    "allRes <- GenTable(GOdata, classic = resultClassic, elim= resultElim)\n",
    "               allRes"
   ]
  },
  {
   "cell_type": "code",
   "execution_count": null,
   "id": "9b4fa997",
   "metadata": {},
   "outputs": [],
   "source": [
    "GOdata <- new(\"topGOdata\", description=\"go analysis of closest genes for a percula phenotype of sl\", ontology=\"BP\", allGenes=genes_score_vec, geneSel = function(sig) {sig < gw_sl},  annotationFun=annFUN.gene2GO, gene2GO=go_sl_vec, nodeSize=5)  \n",
    "\n",
    "resultClassic <- runTest(GOdata, algorithm=\"classic\", statistic=\"ks\")\n",
    "##pValue.classic <- score(resultFisher)\n",
    "\n",
    "#test.stat <- new(\"weightCount\", testStatistic = GOFisherTest, name = \"Fisher test\", sigRatio = \"ratio\")\n",
    "#resultWeight <- getSigGroups(GOdata, test.stat)\n",
    "\n",
    "resultElim <- runTest(GOdata, algorithm=\"elim\", statistic=\"ks\")\n",
    "\n",
    "allRes <- GenTable(GOdata, classic = resultClassic, elim= resultElim, orderBy=\"classic\")\n",
    "setDT(allRes)\n",
    "               allRes#[Significant>0]"
   ]
  },
  {
   "cell_type": "code",
   "execution_count": null,
   "id": "a8df12ae",
   "metadata": {},
   "outputs": [],
   "source": [
    "           \n",
    "sl_locus_lrt <- left_join(all_sl_bedops, lrt_filt_sl)[, sig:=ifelse(locus %in% sl_cand$locus, 1, 0)][, .(Chromosome, start, end, sig)]\n",
    "genes_score <- left_join(sl_locus_lrt, split[, .(seqid, start, feature_id)], by=\"start\")[, .(feature_id, sig)][!is.na(feature_id)]\n",
    "#genes_score <- unique(genes_score[order(-sig)], by=\"feature_id\")\n",
    "genes_score_vec <- genes_score[, setNames(sig, feature_id)]"
   ]
  },
  {
   "cell_type": "code",
   "execution_count": null,
   "id": "6c4213ad",
   "metadata": {},
   "outputs": [],
   "source": [
    "nrow(ucrit_candidates)"
   ]
  },
  {
   "cell_type": "markdown",
   "id": "06571fb7",
   "metadata": {},
   "source": [
    "## perform enrichment test on gene score distribution with topGo https://montilab.github.io/BS831/articles/docs/KS_Enrichment.html"
   ]
  },
  {
   "cell_type": "code",
   "execution_count": null,
   "id": "e0174f97",
   "metadata": {
    "scrolled": true
   },
   "outputs": [],
   "source": [
    "#load in the gff file from closest-feature\n",
    "gff_names <- c(\"seqid\", \"start\",\"locus\", \"feature_start\", \"feature_end\", \"feature_id\", \"score\", \"strand\", \"unkn\", \"feature_type\", \"phase\", \"attributes\")\n",
    "ucrit_nearest <- fread(\"/data/katrinac/APPC_sequencing/DNA/trimmed_reads/mapping/ensembl/genotypes/angsd/results/sorted_all_ucrit_50bp_percula_nearest.bed\", sep=\"\\t\", fill = T)\n",
    "setnames(ucrit_nearest, gff_names)\n",
    "\n",
    "#split the attributs column to get the gene name and the go terms\n",
    "split <- ucrit_nearest[, c('gene_id', 'protein_family', 'go_term_dist'):= tstrsplit(attributes, \";\")][, c('go_term', 'dist_bp'):= tstrsplit(go_term_dist, \"|\", fixed=T),by=\"gene_id\"][dist_bp <=5000]\n",
    "\n",
    "go_ucrit <- split[!is.na(gene_id), .(gene_id=gsub(\"ID=\", \"\", gene_id), go_term=gsub(\"Ontology_term=\", \"\", go_term))][, go_term:=gsub(\",\", \" \", go_term)][!is.na(go_term)]\n",
    "go_ucrit <- unique(go_ucrit, by=\"gene_id\")\n",
    "go_terms <- by(go_ucrit, go_ucrit$gene_id,function(x) setNames(x$go_term,x$name))\n",
    "\n",
    "go_ucrit <- split[!is.na(gene_id), .(gene_id=gsub(\"ID=\", \"\", gene_id), go_term=gsub(\"Ontology_term=\", \"\", go_term))][, go_term:=gsub(\",\", \" \", go_term)][!is.na(go_term)]\n",
    "go_ucrit_vec <- go_ucrit[, setNames(go_term, gene_id)]\n",
    "\n",
    "               #ucrit_cand[, locus := paste(Chromosome, Position, sep=\":\")][,locus := gsub(\"chr\", \"\", locus)]\n",
    "           \n",
    "ucrit_locus_lrt <- left_join(all_ucrit_bedops, lrt_filt_ucrit)[, sig:=ifelse(locus %in% ucrit_candidates_power.9$locus, 1, 0)][, .(Chromosome, start, end, sig)]#\n",
    "genes_score <- left_join(ucrit_locus_lrt, split[, .(seqid, start, feature_id)], by=\"start\")[, .(feature_id, sig)][!is.na(feature_id)]\n",
    "#genes_score <- unique(genes_score[order(-sig)], by=\"feature_id\")\n",
    "genes_score_vec <- genes_score[, setNames(sig, feature_id)]\n",
    "               \n",
    "#sig <- max(candidates_ucrit$pvalue)\n",
    "#sig <- max(lrt_filt_ucrit_sig$pvalue)\n",
    "GOdata <- new(\"topGOdata\", description=\"go analysis of closest genes for a percula phenotype of ucrit\", ontology=\"BP\", allGenes=genes_score_vec, geneSel = function(sig) {sig <= gw_ucrit}, annotationFun=annFUN.gene2GO, gene2GO=go_ucrit_vec, nodeSize=10)  \n",
    "\n",
    "resultKS <- runTest(GOdata, algorithm=\"classic\", statistic=\"ks\")\n",
    "\n",
    "resultCount_elim <- runTest(GOdata, algorithm=\"elim\", statistic=\"fisher\")\n",
    "               \n",
    "\n",
    "#allRes <- GenTable(GOdata, classic = pValue.classic, elim= resultElim, weight=resultWeight, orderBy=\"elim\",ranksOf = \"classic\", topNodes = 40)\n",
    "#allRes"
   ]
  },
  {
   "cell_type": "code",
   "execution_count": null,
   "id": "816e205a",
   "metadata": {},
   "outputs": [],
   "source": [
    "allRes <- GenTable(GOdata, classic_KS=resultKS, orderBy=\"classic_KS\", topNodes = 40) #,ranksOf = \"elim_KS\",\n",
    "allRes\n",
    "setDT(allRes)\n",
    "#allRes[Significant >0]"
   ]
  },
  {
   "cell_type": "code",
   "execution_count": null,
   "id": "c432696f",
   "metadata": {},
   "outputs": [],
   "source": [
    "gw_ucrit\n",
    "nrow(ucrit_locus_lrt[sig <= gw_ucrit])"
   ]
  },
  {
   "cell_type": "code",
   "execution_count": null,
   "id": "ebac5795",
   "metadata": {},
   "outputs": [],
   "source": [
    "genes_score <- left_join(ucrit_locus_lrt, split[, .(seqid, start, feature_id, go_term)], by=\"start\")[, go_term:=gsub(\"Ontology_term=\", \"\", go_term)][, Position := start+50]#[, .(feature_id, sig)][!is.na(feature_id)]\n"
   ]
  },
  {
   "cell_type": "code",
   "execution_count": null,
   "id": "d886f99b",
   "metadata": {},
   "outputs": [],
   "source": [
    "head(genes_score[sig==1])"
   ]
  },
  {
   "cell_type": "code",
   "execution_count": null,
   "id": "6df87ee9",
   "metadata": {},
   "outputs": [],
   "source": [
    "head(genes_score)"
   ]
  },
  {
   "cell_type": "markdown",
   "id": "0a8644d7",
   "metadata": {},
   "source": [
    "__Pull out the significant features, write out the positions to blast zebra with seqk__"
   ]
  },
  {
   "cell_type": "code",
   "execution_count": null,
   "id": "734d4f47",
   "metadata": {
    "scrolled": false
   },
   "outputs": [],
   "source": [
    "#test.stat <- new(\"classicScore\", testStatistic = GOKSTest, name = \"KS tests\")\n",
    "#resultKS <- getSigGroups(GOdata, test.stat)\n",
    "\n",
    "test.stat <- new(\"classicCount\", testStatistic = GOFisherTest, name = \"Fisher test\")\n",
    "resultFisher <- getSigGroups(GOdata, test.stat)\n",
    "#pValue.classic <- score(resultFisher)\n",
    "\n",
    "#test.stat <- new(\"weightCount\", testStatistic = GOFisherTest, name = \"Fisher test\", sigRatio = \"ratio\")\n",
    "#resultWeight <- getSigGroups(GOdata, test.stat)\n",
    "\n",
    "test.stat <- new(\"elimScore\", testStatistic = GOKSTest, name = \"Fisher test\", cutOff = 0.01)\n",
    "resultElim <- getSigGroups(GOdata, test.stat)\n",
    "\n",
    "allRes <- GenTable(GOdata, classic = resultFisher, elim= resultElim)"
   ]
  },
  {
   "cell_type": "code",
   "execution_count": null,
   "id": "e17a0f30",
   "metadata": {},
   "outputs": [],
   "source": [
    "(allRes)"
   ]
  },
  {
   "cell_type": "code",
   "execution_count": null,
   "id": "b83fa5f9",
   "metadata": {},
   "outputs": [],
   "source": [
    "allRes <- GenTable(GOdata,  elim = resultKS.elim, orderBy = \"elim\")"
   ]
  },
  {
   "cell_type": "code",
   "execution_count": null,
   "id": "304e82e3",
   "metadata": {
    "scrolled": true
   },
   "outputs": [],
   "source": [
    "allRes"
   ]
  },
  {
   "cell_type": "code",
   "execution_count": null,
   "id": "9071097c",
   "metadata": {},
   "outputs": [],
   "source": [
    "fwrite(allRes, \"/data/katrinac/APPC_sequencing/DNA/trimmed_reads/mapping/ensembl/genotypes/angsd/results/GO_table_null_cutoff_sl.csv\")"
   ]
  },
  {
   "cell_type": "code",
   "execution_count": null,
   "id": "5530912f",
   "metadata": {},
   "outputs": [],
   "source": [
    "#fwrite(allRes, \"/data/katrinac/APPC_sequencing/DNA/trimmed_reads/mapping/ensembl/genotypes/angsd/results/GO_table_BH_cutoff_sl.csv\")"
   ]
  },
  {
   "cell_type": "markdown",
   "id": "fdf2644f",
   "metadata": {
    "scrolled": true
   },
   "source": [
    "__make a table of genes and pvalues for results__"
   ]
  },
  {
   "cell_type": "code",
   "execution_count": null,
   "id": "411304c2",
   "metadata": {},
   "outputs": [],
   "source": [
    "sl_gff_join <- split[, .(Chromosome=seqid, Position=start+50, gene_id=gsub(\"ID=\", \"\", gene_id), go_term=gsub(\"Ontology_term=\", \"\", go_term), dist_bp)]\n",
    "sl_gene_join <- candidate_sl_bh[,.(Chromosome =paste0(\"chr\", Chromosome, \"\"), Position, Frequency, pvalue, locus)]\n",
    "sl_gene_ids <- (left_join(sl_gene_join, sl_gff_join))[!is.na(dist_bp)][, chrom_sig_0.05 := ifelse(locus %in% candidate_sl_chrom_bh$locus, \"yes\", \"no\")]\n",
    "#fwrite(sl_gene_ids, \"/data/katrinac/APPC_sequencing/DNA/trimmed_reads/mapping/ensembl/genotypes/angsd/results/genes_table_BH_cutoff_sl.csv\")"
   ]
  },
  {
   "cell_type": "markdown",
   "id": "ef0dddda",
   "metadata": {},
   "source": [
    "__for ucrit__"
   ]
  },
  {
   "cell_type": "code",
   "execution_count": null,
   "id": "df0abcd7",
   "metadata": {},
   "outputs": [],
   "source": [
    "#load in the gff file from closest-feature\n",
    "gff_names <- c(\"seqid\", \"start\",\"locus\", \"feature_start\", \"feature_end\", \"feature_id\", \"score\", \"strand\", \"unkn\", \"feature_type\", \"phase\", \"attributes\")\n",
    "ucrit_nearest <- fread(\"/data/katrinac/APPC_sequencing/DNA/trimmed_reads/mapping/ensembl/genotypes/angsd/results/sorted_all_ucrit_50bp_percula_nearest.bed\", sep=\"\\t\", fill = T)\n",
    "setnames(ucrit_nearest, gff_names)\n",
    "\n",
    "split <- ucrit_nearest[, c('gene_id', 'protein_family', 'go_term_dist'):= tstrsplit(attributes, \";\")][, c('go_term', 'dist_bp'):= tstrsplit(go_term_dist, \"|\", fixed=T),by=\"gene_id\"]\n",
    "\n",
    "ucrit_locus_lrt <- left_join(all_ucrit_bedops, lrt_filt_ucrit[,Chromosome := paste0(\"chr\", Chromosome, \"\")][pvalue>1, pvalue:=1])[, .(Chromosome, start, end, pvalue)]\n",
    "genes_score <- left_join(ucrit_locus_lrt, split[, .(seqid, start, feature_id)], by=\"start\")[, .(feature_id, pvalue)][!is.na(feature_id)]\n",
    "genes_score <- unique(genes_score, by=\"feature_id\")\n",
    "genes_score_vec <- genes_score[, setNames(pvalue, feature_id)]\n",
    "\n",
    "go_ucrit <- split[!is.na(gene_id), .(gene_id=gsub(\"ID=\", \"\", gene_id), go_term=gsub(\"Ontology_term=\", \"\", go_term))][, go_term:=gsub(\",\", \" \", go_term)][!is.na(go_term)]\n",
    "go_ucrit_vec <- go_ucrit[, setNames(go_term, gene_id)]\n",
    "\n",
    "sig <- max(candidates_ucrit$pvalue)\n",
    "#sig <- max(lrt_filt_ucrit_sig$pvalue)\n",
    "GOdata <- new(\"topGOdata\", description=\"go analysis of closest genes for a percula phenotype of ucrit\", ontology=\"BP\", allGenes=genes_score_vec, geneSel = function(foo) {foo < sig}, annotationFun=annFUN.gene2GO, gene2GO=go_ucrit_vec)\n",
    "\n",
    "test.stat <- new(\"classicScore\", testStatistic = GOKSTest, name = \"KS tests\")\n",
    "resultKS <- getSigGroups(GOdata, test.stat)\n",
    "\n",
    "test.stat <- new(\"classicCount\", testStatistic = GOFisherTest, name = \"Fisher test\")\n",
    "resultFisher <- getSigGroups(GOdata, test.stat)\n",
    "pValue.classic <- score(resultFisher)\n",
    "\n",
    "test.stat <- new(\"weightCount\", testStatistic = GOFisherTest, name = \"Fisher test\", sigRatio = \"ratio\")\n",
    "resultWeight <- getSigGroups(GOdata, test.stat)\n",
    "\n",
    "test.stat <- new(\"elimScore\", testStatistic = GOKSTest, name = \"Fisher test\", cutOff = 0.01)\n",
    "resultElim <- getSigGroups(GOdata, test.stat)\n",
    "\n",
    "allRes <- GenTable(GOdata, classic = resultFisher, elim= resultElim, orderBy = \"classic\", ranksOf = \"classic\", topNodes = 40)"
   ]
  },
  {
   "cell_type": "code",
   "execution_count": null,
   "id": "ba898335",
   "metadata": {},
   "outputs": [],
   "source": [
    "ucrit_nearest[seqid==\"chr24\" & start==6021620-50]"
   ]
  },
  {
   "cell_type": "code",
   "execution_count": null,
   "id": "35500cd8",
   "metadata": {},
   "outputs": [],
   "source": [
    "head(ucrit_nearest)"
   ]
  },
  {
   "cell_type": "code",
   "execution_count": null,
   "id": "ce987868",
   "metadata": {},
   "outputs": [],
   "source": [
    "candidates_ucrit"
   ]
  },
  {
   "cell_type": "code",
   "execution_count": null,
   "id": "998da95e",
   "metadata": {},
   "outputs": [],
   "source": [
    "pValue.classic <- score(resultFisher)\n",
    "allRes <- GenTable(GOdata, raw.p.value = resultFisher, KS = resultKS, weight = resultWeight, orderBy = \"raw.p.value\", ranksOf = \"raw.p.value\")"
   ]
  },
  {
   "cell_type": "code",
   "execution_count": null,
   "id": "08cb941c",
   "metadata": {},
   "outputs": [],
   "source": [
    "raw.p.value = resultFisher,"
   ]
  },
  {
   "cell_type": "code",
   "execution_count": null,
   "id": "66db1129",
   "metadata": {},
   "outputs": [],
   "source": [
    "allRes"
   ]
  },
  {
   "cell_type": "code",
   "execution_count": null,
   "id": "9fc3a640",
   "metadata": {},
   "outputs": [],
   "source": [
    "fwrite(allRes, \"/data/katrinac/APPC_sequencing/DNA/trimmed_reads/mapping/ensembl/genotypes/angsd/results/GO_table_null_cutoff_ucrit.csv\")"
   ]
  },
  {
   "cell_type": "markdown",
   "id": "fc4061b3",
   "metadata": {
    "scrolled": true
   },
   "source": [
    "__make a table of genes and pvalues for results__"
   ]
  },
  {
   "cell_type": "code",
   "execution_count": null,
   "id": "a645937a",
   "metadata": {},
   "outputs": [],
   "source": [
    "ucrit_gff_join <- split[, .(Chromosome=seqid, Position=start+50, gene_id=gsub(\"ID=\", \"\", gene_id), go_term=gsub(\"Ontology_term=\", \"\", go_term), dist_bp)]\n",
    "ucrit_gene_join <- candidates_ucrit[,.(Chromosome =paste0(\"chr\", Chromosome, \"\"), Position, Frequency, pvalue, locus)]\n",
    "ucrit_gene_ids <- (left_join(ucrit_gene_join, ucrit_gff_join))[!is.na(dist_bp)][, chrom_sig_0.05 := ifelse(locus %in% candidate_ucrit_chrom_bh$locus, \"yes\", \"no\")][order(pvalue)]\n",
    "fwrite(ucrit_gene_ids, \"/data/katrinac/APPC_sequencing/DNA/trimmed_reads/mapping/ensembl/genotypes/angsd/results/genes_table_BH_cutoff_ucrit.csv\")"
   ]
  },
  {
   "cell_type": "code",
   "execution_count": null,
   "id": "cb3f7274",
   "metadata": {},
   "outputs": [],
   "source": [
    "candidates_ucrit[,prop_var_exp :=  (2*(beta^2)*Frequency*(1-Frequency))/(2*(beta^2)*Frequency*(1-Frequency)+((SE*(beta))^2)*2*N*Frequency*(1-Frequency)), by=locus]"
   ]
  },
  {
   "cell_type": "code",
   "execution_count": null,
   "id": "f3982c0d",
   "metadata": {},
   "outputs": [],
   "source": [
    "head(candidates_ucrit[order(-prop_var_exp)])"
   ]
  },
  {
   "cell_type": "markdown",
   "id": "1390d104",
   "metadata": {},
   "source": [
    "__Plot the ucrit distributions for each genotype of the significant locus__"
   ]
  },
  {
   "cell_type": "code",
   "execution_count": null,
   "id": "066bcf6a",
   "metadata": {},
   "outputs": [],
   "source": [
    "genos <- fread(\"/data/katrinac/APPC_sequencing/Genome/candidates/ucrit_cand_genos.gprobs\")\n",
    "long_genos <- melt(genos, id.vars = c(\"V1\", \"V2\", \"V3\"))\n",
    "samples <- pca_phenos[, .(sample)][rep(seq_len(nrow(pca_phenos)), 3), ][order(sample)]\n",
    "samples$genotype <- rep(seq(1, 3, 1), 159)\n",
    "setnames(long_genos, c(\"marker\", \"allele1\", \"allele2\", \"sample\", \"gprob\"))\n",
    "long_genos$sample <- samples$sample\n",
    "long_genos$geno <- samples$genotype"
   ]
  },
  {
   "cell_type": "code",
   "execution_count": null,
   "id": "3215a5e2",
   "metadata": {},
   "outputs": [],
   "source": [
    "#restrict to grpob > .9\n",
    "nrow(long_genos[gprob>=0.9])"
   ]
  },
  {
   "cell_type": "code",
   "execution_count": null,
   "id": "28806bc7",
   "metadata": {},
   "outputs": [],
   "source": [
    "#join with ucrit data\n",
    "ucrit_genos <- left_join(long_genos[gprob>=0.9], pca_phenos[, .(sample, ucrit)])\n",
    "#from angsd the major allele codes as 0=A, 1=C, 2=G, 3=T \n",
    "#the minor allele codes as 0=A, 1=C, 2=G, 3=T \n",
    "#row 1- grpob for major/major, row2 major/minor, row3 minor/minor\n",
    "#for this locus major is T and minor is C.\n",
    "ucrit_genos[, genotype:=ifelse(geno==1, \"TT\", ifelse(geno==2, \"TC\", \"CC\"))]"
   ]
  },
  {
   "cell_type": "code",
   "execution_count": null,
   "id": "3a1cabc1",
   "metadata": {},
   "outputs": [],
   "source": [
    "#join with ucrit data\n",
    "head(ucrit_genos)"
   ]
  },
  {
   "cell_type": "code",
   "execution_count": null,
   "id": "ec5219d5",
   "metadata": {},
   "outputs": [],
   "source": [
    "ucrit_plot <- ggplot()+\n",
    "geom_boxplot(data=ucrit_genos, aes(x=genotype, y=ucrit))+\n",
    " ylab(\"Ucrit\") +\n",
    "    xlab(\"Genotype\")+\n",
    "    theme(strip.text.x = element_text(size = 14),\n",
    "    legend.position = \"bottom\",\n",
    "    legend.key=element_blank(),\n",
    "    panel.grid.major = element_blank(),\n",
    "    panel.grid.minor = element_blank(), \n",
    "    panel.background = element_blank(), #,\n",
    "    axis.line = element_line(colour = \"black\"),axis.text.x =  element_text(size=14, color=\"black\"),#15 for publication, 20 for presentation #element_text(size=15, color=\"black\", family=\"Helvetica\"),\n",
    "    axis.title.y =  element_text(size=18, color=\"black\"),\n",
    "    axis.title.x =  element_text(size=18, color=\"black\"),#15 for publication, 20 for presentation #element_text(size=15, color=\"black\", family=\"Helvetica\"),\n",
    "    axis.text.y =  element_text(size=18, color=\"black\"))\n"
   ]
  },
  {
   "cell_type": "code",
   "execution_count": null,
   "id": "25f582b3",
   "metadata": {},
   "outputs": [],
   "source": [
    "ucrit_plot\n",
    "ggsave(ucrit_plot, file=\"/data/katrinac/APPC_sequencing/DNA/trimmed_reads/mapping/ensembl/genotypes/angsd/results/ucrit_genotypes.pdf\")"
   ]
  },
  {
   "cell_type": "code",
   "execution_count": null,
   "id": "1695c894",
   "metadata": {},
   "outputs": [],
   "source": [
    "tail(genos)"
   ]
  },
  {
   "cell_type": "code",
   "execution_count": null,
   "id": "477d8895",
   "metadata": {},
   "outputs": [],
   "source": [
    "Proportion of variance in phenotype explained by a given SNP (PVE) = [2*(beta^2)*MAF*(1-MAF)]/[2*(beta^2)*MAF(1-MAF)+((se(beta))^2)*2*N*MAF*(1-MAF)]\n",
    "where:\n",
    "N - sample size\n",
    "se(beta) - standard error of effect size for the genetic variant of interest\n",
    "beta - effect size for the genetic variant of interest\n",
    "MAF - minor allele frequency for the genetic variant of interest\n",
    "it is described in:\n",
    "Shim, H., Chasman, D.I., Smith, J.D., Mora, S., Ridker, P.M., Nickerson, D.A., Krauss, R.M., and Stephens, M. (2015). A multivariate genome-wide association analysis of 10 LDL subfractions, and their response to statin treatment, in 1868 Caucasians. PLoS One 10, e0120758.\n",
    "Supplementary Information: S1: Computing proportion of variance in phenotype explained by a given SNP (PVE)."
   ]
  }
 ],
 "metadata": {
  "kernelspec": {
   "display_name": "R",
   "language": "R",
   "name": "ir"
  },
  "language_info": {
   "codemirror_mode": "r",
   "file_extension": ".r",
   "mimetype": "text/x-r-source",
   "name": "R",
   "pygments_lexer": "r",
   "version": "3.6.1"
  }
 },
 "nbformat": 4,
 "nbformat_minor": 5
}
