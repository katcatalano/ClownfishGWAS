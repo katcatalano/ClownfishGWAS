{
 "cells": [
  {
   "cell_type": "markdown",
   "id": "398933e4",
   "metadata": {},
   "source": [
    "__In ngsLD conda env__"
   ]
  },
  {
   "cell_type": "code",
   "execution_count": null,
   "id": "aa0485b0",
   "metadata": {},
   "outputs": [],
   "source": [
    "conda create --name ngsld"
   ]
  },
  {
   "cell_type": "markdown",
   "id": "a1716b52",
   "metadata": {},
   "source": [
    "__follow install instructions https://github.com/fgvieira/ngsLD__"
   ]
  },
  {
   "cell_type": "code",
   "execution_count": 20,
   "id": "d09ed416",
   "metadata": {},
   "outputs": [
    {
     "name": "stdout",
     "output_type": "stream",
     "text": [
      "/data/katrinac/APPC_sequencing/DNA/trimmed_reads/mapping/ensembl/genotypes/angsd\n"
     ]
    }
   ],
   "source": [
    "%cd /data/katrinac/APPC_sequencing/DNA/trimmed_reads/mapping/ensembl/genotypes/angsd/"
   ]
  },
  {
   "cell_type": "markdown",
   "id": "f671dfad",
   "metadata": {},
   "source": [
    "__check number of positions- subtract 1 for header row__"
   ]
  },
  {
   "cell_type": "code",
   "execution_count": 21,
   "id": "d84507de",
   "metadata": {},
   "outputs": [
    {
     "name": "stdout",
     "output_type": "stream",
     "text": [
      "6295268\r\n"
     ]
    }
   ],
   "source": [
    "!zcat ensembl_appc_angsd_probs_doGeno8.beagle.gz | wc -l\n",
    "#!cat appc_angsd_pos.txt | wc -l"
   ]
  },
  {
   "cell_type": "code",
   "execution_count": 28,
   "id": "6ef13ffb",
   "metadata": {},
   "outputs": [
    {
     "name": "stdout",
     "output_type": "stream",
     "text": [
      "/data/katrinac/APPC_sequencing/DNA/trimmed_reads/mapping/ensembl/genotypes/angsd\n"
     ]
    }
   ],
   "source": [
    "%cd /data/katrinac/APPC_sequencing/DNA/trimmed_reads/mapping/ensembl/genotypes/angsd"
   ]
  },
  {
   "cell_type": "markdown",
   "id": "6c46d14e",
   "metadata": {},
   "source": [
    "__make a positions file for ngsld__\n"
   ]
  },
  {
   "cell_type": "code",
   "execution_count": 41,
   "id": "e5107820",
   "metadata": {},
   "outputs": [],
   "source": [
    "!zcat angsd/ensembl_appc_angsd_probs.maf.gz | awk '{print $1\"\\t\"$2}' > angsd/ngsld/ensembl_appc_angsd_probs_doGeno8_forngsLD_pos.txt #needs to be tab separated"
   ]
  },
  {
   "cell_type": "code",
   "execution_count": 42,
   "id": "a010d48d",
   "metadata": {},
   "outputs": [
    {
     "name": "stdout",
     "output_type": "stream",
     "text": [
      "Chromo\tPosition\r\n",
      "1\t164\r\n",
      "1\t479\r\n",
      "1\t480\r\n",
      "1\t787\r\n",
      "1\t1492\r\n",
      "1\t2973\r\n",
      "1\t3230\r\n",
      "1\t3234\r\n",
      "1\t3335\r\n"
     ]
    }
   ],
   "source": [
    "!head angsd/ngsld/ensembl_appc_angsd_probs_doGeno8_forngsLD_pos.txt "
   ]
  },
  {
   "cell_type": "markdown",
   "id": "82f4089a",
   "metadata": {},
   "source": [
    "__this works, from ~/ in base environment or ngsld in terminal__ \n"
   ]
  },
  {
   "cell_type": "code",
   "execution_count": null,
   "id": "cbcbf512",
   "metadata": {},
   "outputs": [],
   "source": [
    "nohup /local/home/katrinac/ngsLD/ngsLD --geno /data/katrinac/APPC_sequencing/DNA/trimmed_reads/mapping/ensembl/genotypes/angsd/ensembl_appc_angsd_probs_doGeno8.beagle.gz --probs --n_ind 159 --n_threads 40 --n_sites 6295267 --posH /data/katrinac/APPC_sequencing/DNA/trimmed_reads/mapping/ensembl/genotypes/angsd/ngsld/ensembl_appc_angsd_probs_doGeno8_forngsLD_pos.txt --outH /data/katrinac/APPC_sequencing/DNA/trimmed_reads/mapping/ensembl/genotypes/angsd/ngsld/ensembl_appc_angsd_probs_doGeno8_ngsLD.tsv >> nohup_ngsld.out &"
   ]
  },
  {
   "cell_type": "markdown",
   "id": "437b6266",
   "metadata": {},
   "source": [
    "__fit LD decay model- in terminal, be sure to move to background__"
   ]
  },
  {
   "cell_type": "code",
   "execution_count": 37,
   "id": "caa39726",
   "metadata": {},
   "outputs": [
    {
     "name": "stderr",
     "output_type": "stream",
     "text": [
      "UsageError: Line magic function `%` not found.\n"
     ]
    }
   ],
   "source": [
    "% Rscript --vanilla --slave scripts/fit_LDdecay.R --ld_files /data/katrinac/APPC_sequencing/DNA/trimmed_reads/mapping/genotypes/angsd/ngsld/appc_ngsLD.tsv --out /data/katrinac/APPC_sequencing/DNA/trimmed_reads/mapping/genotypes/angsd/ngsld/LD_plot.pdf"
   ]
  },
  {
   "cell_type": "markdown",
   "id": "b26e6b90",
   "metadata": {},
   "source": [
    "__the pruning perl script takes a long time and is not possible to multi thread so split file by chromosome- use R to create a chromosomes file from the maf with a data.table summary, but group PYAM together so there aren't hundreds of files because those are contigs__"
   ]
  },
  {
   "cell_type": "code",
   "execution_count": null,
   "id": "f35f998b",
   "metadata": {},
   "outputs": [],
   "source": [
    "!for i in $(cat /data/katrinac/APPC_sequencing/DNA/trimmed_reads/mapping/ensembl/genotypes/angsd/ngsld/chromosomes.txt ); do echo -e \"#site1\\tsite2\\tdist\\tr^2_ExpG\\tD\\tD'\\tr^2\" > /data/katrinac/APPC_sequencing/DNA/trimmed_reads/mapping/genotypes/angsd/ngsld/$i\\_appc_ngsLD.tsv; grep \"^$i\" /data/katrinac/APPC_sequencing/DNA/trimmed_reads/mapping/ensembl/genotypes/angsd/ngsld/appc_ngsLD.tsv >> /data/katrinac/APPC_sequencing/DNA/trimmed_reads/mapping/ensembl/genotypes/angsd/ngsld/$i\\_appc_ngsLD.tsv; done"
   ]
  },
  {
   "cell_type": "markdown",
   "id": "05405bdf",
   "metadata": {},
   "source": [
    "__execute the perl script below for each chrom ld file made above__"
   ]
  },
  {
   "cell_type": "code",
   "execution_count": null,
   "id": "a1b0f5f9",
   "metadata": {},
   "outputs": [],
   "source": [
    "nohup perl /local/home/katrinac/ngsLD/scripts/prune_graph.pl --in_file /data/katrinac/APPC_sequencing/DNA/trimmed_reads/mapping/genotypes/angsd/ngsld/appc_ngsLD.tsv --max_kb_dist 5 --min_weight 0.5 --out /data/katrinac/APPC_sequencing/DNA/trimmed_reads/mapping/genotypes/angsd/ngsld/appc_unlinked.id >> nohup_perl_ld.out &"
   ]
  },
  {
   "cell_type": "markdown",
   "id": "2a7afc16",
   "metadata": {},
   "source": [
    "__cat the files together for one unlinked text file for angsd__"
   ]
  },
  {
   "cell_type": "markdown",
   "id": "66588a3b",
   "metadata": {},
   "source": [
    "### move back to ANGSD_genolike.ipynb to restrict to the unlinked sites"
   ]
  },
  {
   "cell_type": "code",
   "execution_count": null,
   "id": "286f2b81",
   "metadata": {},
   "outputs": [],
   "source": []
  }
 ],
 "metadata": {
  "kernelspec": {
   "display_name": "Python 3 (ipykernel)",
   "language": "python",
   "name": "python3"
  },
  "language_info": {
   "codemirror_mode": {
    "name": "ipython",
    "version": 3
   },
   "file_extension": ".py",
   "mimetype": "text/x-python",
   "name": "python",
   "nbconvert_exporter": "python",
   "pygments_lexer": "ipython3",
   "version": "3.7.3"
  }
 },
 "nbformat": 4,
 "nbformat_minor": 5
}
