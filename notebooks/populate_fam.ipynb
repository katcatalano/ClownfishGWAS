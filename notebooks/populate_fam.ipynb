{
 "cells": [
  {
   "cell_type": "code",
   "execution_count": 33,
   "id": "97cf08ad",
   "metadata": {},
   "outputs": [],
   "source": [
    "library(data.table)\n",
    "library(stringr)\n",
    "library(dplyr)\n",
    "library(ggplot2)\n",
    "\"%!in%\" <- function(x,table) match(x,table, nomatch = 0) == 0\n"
   ]
  },
  {
   "cell_type": "code",
   "execution_count": 17,
   "id": "63e41756",
   "metadata": {},
   "outputs": [],
   "source": [
    "#read in the metadata provided by E and use it to fill in the .fam file\n",
    "\n",
    "Meta <- fread(\"~/ClownfishGWAS/data/APPC_sequencing/metadata/Larvalh2-1.csv\", colClasses=c(larvalID=\"character\"))[Send.to.NJ==1][\n",
    "    , larvalID := paste0(\"APPC\", larvalID)][ #modify sample name to match genomics IDs\n",
    "    , larvalID := gsub(\".\", \"\", larvalID ,fixed = TRUE)][\n",
    "    , dam := paste0(\"D\", dam)][\n",
    "    , sire := paste0(\"S\", sire)][\n",
    "    larvalID==\"APPC1012\", larvalID :=\"APPC1010\"]#correct my sample id error          \n",
    "\n",
    "Fam <- fread(\"/data/katrinac/APPC_sequencing/DNA/filtering/imputation/max_missing90_minQ20_maf01_hwe.fam\")\n",
    "\n",
    "LibPrep <- fread(\"~/ClownfishGWAS/data/APPC_sequencing/metadata/APercula_gDNALIbraryPrep.csv\")[, .(SampleID, Capture)][, SampleID := gsub(\".\", \"\", SampleID ,fixed = TRUE)][, gen_id := paste(Capture, SampleID, sep=\"_\")]"
   ]
  },
  {
   "cell_type": "code",
   "execution_count": 18,
   "id": "0da72814",
   "metadata": {},
   "outputs": [
    {
     "data": {
      "text/html": [
       "<table>\n",
       "<thead><tr><th scope=col>SampleID</th><th scope=col>Capture</th><th scope=col>gen_id</th></tr></thead>\n",
       "<tbody>\n",
       "\t<tr><td>APPC1611      </td><td>Pop01         </td><td>Pop01_APPC1611</td></tr>\n",
       "\t<tr><td>APPC1917      </td><td>Pop01         </td><td>Pop01_APPC1917</td></tr>\n",
       "\t<tr><td>APPC1921      </td><td>Pop01         </td><td>Pop01_APPC1921</td></tr>\n",
       "\t<tr><td>APPC2029      </td><td>Pop01         </td><td>Pop01_APPC2029</td></tr>\n",
       "\t<tr><td>APPC2030      </td><td>Pop01         </td><td>Pop01_APPC2030</td></tr>\n",
       "\t<tr><td>APPC2101      </td><td>Pop01         </td><td>Pop01_APPC2101</td></tr>\n",
       "</tbody>\n",
       "</table>\n"
      ],
      "text/latex": [
       "\\begin{tabular}{r|lll}\n",
       " SampleID & Capture & gen\\_id\\\\\n",
       "\\hline\n",
       "\t APPC1611         & Pop01            & Pop01\\_APPC1611\\\\\n",
       "\t APPC1917         & Pop01            & Pop01\\_APPC1917\\\\\n",
       "\t APPC1921         & Pop01            & Pop01\\_APPC1921\\\\\n",
       "\t APPC2029         & Pop01            & Pop01\\_APPC2029\\\\\n",
       "\t APPC2030         & Pop01            & Pop01\\_APPC2030\\\\\n",
       "\t APPC2101         & Pop01            & Pop01\\_APPC2101\\\\\n",
       "\\end{tabular}\n"
      ],
      "text/markdown": [
       "\n",
       "| SampleID | Capture | gen_id |\n",
       "|---|---|---|\n",
       "| APPC1611       | Pop01          | Pop01_APPC1611 |\n",
       "| APPC1917       | Pop01          | Pop01_APPC1917 |\n",
       "| APPC1921       | Pop01          | Pop01_APPC1921 |\n",
       "| APPC2029       | Pop01          | Pop01_APPC2029 |\n",
       "| APPC2030       | Pop01          | Pop01_APPC2030 |\n",
       "| APPC2101       | Pop01          | Pop01_APPC2101 |\n",
       "\n"
      ],
      "text/plain": [
       "  SampleID Capture gen_id        \n",
       "1 APPC1611 Pop01   Pop01_APPC1611\n",
       "2 APPC1917 Pop01   Pop01_APPC1917\n",
       "3 APPC1921 Pop01   Pop01_APPC1921\n",
       "4 APPC2029 Pop01   Pop01_APPC2029\n",
       "5 APPC2030 Pop01   Pop01_APPC2030\n",
       "6 APPC2101 Pop01   Pop01_APPC2101"
      ]
     },
     "metadata": {},
     "output_type": "display_data"
    },
    {
     "data": {
      "text/html": [
       "<table>\n",
       "<thead><tr><th scope=col>og_larvalID</th><th scope=col>larvalID</th><th scope=col>Ucrit</th><th scope=col>SL</th><th scope=col>dam</th><th scope=col>sire</th><th scope=col>tank</th><th scope=col>date</th><th scope=col>Send.to.NJ</th><th scope=col>Group</th></tr></thead>\n",
       "<tbody>\n",
       "\t<tr><td>5.06    </td><td>APPC0506</td><td>8.17    </td><td>4.34    </td><td>D119    </td><td>S162    </td><td>C2:4    </td><td>5/28/19 </td><td>1       </td><td>High    </td></tr>\n",
       "\t<tr><td>5.08    </td><td>APPC0508</td><td>1.10    </td><td>  NA    </td><td>D119    </td><td>S162    </td><td>C2:4    </td><td>5/28/19 </td><td>1       </td><td>Low     </td></tr>\n",
       "\t<tr><td>5.15    </td><td>APPC0515</td><td>2.27    </td><td>4.32    </td><td>D119    </td><td>S162    </td><td>C2:4    </td><td>5/28/19 </td><td>1       </td><td>Low     </td></tr>\n",
       "\t<tr><td>5.23    </td><td>APPC0523</td><td>8.33    </td><td>4.32    </td><td>D119    </td><td>S162    </td><td>C2:4    </td><td>5/28/19 </td><td>1       </td><td>High    </td></tr>\n",
       "\t<tr><td>6.01    </td><td>APPC0601</td><td>2.57    </td><td>4.24    </td><td>D32     </td><td>S101    </td><td>D1:3    </td><td>5/29/19 </td><td>1       </td><td>Low     </td></tr>\n",
       "\t<tr><td>6.07    </td><td>APPC0607</td><td>2.38    </td><td>3.94    </td><td>D32     </td><td>S101    </td><td>D1:3    </td><td>5/29/19 </td><td>1       </td><td>Low     </td></tr>\n",
       "</tbody>\n",
       "</table>\n"
      ],
      "text/latex": [
       "\\begin{tabular}{r|llllllllll}\n",
       " og\\_larvalID & larvalID & Ucrit & SL & dam & sire & tank & date & Send.to.NJ & Group\\\\\n",
       "\\hline\n",
       "\t 5.06     & APPC0506 & 8.17     & 4.34     & D119     & S162     & C2:4     & 5/28/19  & 1        & High    \\\\\n",
       "\t 5.08     & APPC0508 & 1.10     &   NA     & D119     & S162     & C2:4     & 5/28/19  & 1        & Low     \\\\\n",
       "\t 5.15     & APPC0515 & 2.27     & 4.32     & D119     & S162     & C2:4     & 5/28/19  & 1        & Low     \\\\\n",
       "\t 5.23     & APPC0523 & 8.33     & 4.32     & D119     & S162     & C2:4     & 5/28/19  & 1        & High    \\\\\n",
       "\t 6.01     & APPC0601 & 2.57     & 4.24     & D32      & S101     & D1:3     & 5/29/19  & 1        & Low     \\\\\n",
       "\t 6.07     & APPC0607 & 2.38     & 3.94     & D32      & S101     & D1:3     & 5/29/19  & 1        & Low     \\\\\n",
       "\\end{tabular}\n"
      ],
      "text/markdown": [
       "\n",
       "| og_larvalID | larvalID | Ucrit | SL | dam | sire | tank | date | Send.to.NJ | Group |\n",
       "|---|---|---|---|---|---|---|---|---|---|\n",
       "| 5.06     | APPC0506 | 8.17     | 4.34     | D119     | S162     | C2:4     | 5/28/19  | 1        | High     |\n",
       "| 5.08     | APPC0508 | 1.10     |   NA     | D119     | S162     | C2:4     | 5/28/19  | 1        | Low      |\n",
       "| 5.15     | APPC0515 | 2.27     | 4.32     | D119     | S162     | C2:4     | 5/28/19  | 1        | Low      |\n",
       "| 5.23     | APPC0523 | 8.33     | 4.32     | D119     | S162     | C2:4     | 5/28/19  | 1        | High     |\n",
       "| 6.01     | APPC0601 | 2.57     | 4.24     | D32      | S101     | D1:3     | 5/29/19  | 1        | Low      |\n",
       "| 6.07     | APPC0607 | 2.38     | 3.94     | D32      | S101     | D1:3     | 5/29/19  | 1        | Low      |\n",
       "\n"
      ],
      "text/plain": [
       "  og_larvalID larvalID Ucrit SL   dam  sire tank date    Send.to.NJ Group\n",
       "1 5.06        APPC0506 8.17  4.34 D119 S162 C2:4 5/28/19 1          High \n",
       "2 5.08        APPC0508 1.10    NA D119 S162 C2:4 5/28/19 1          Low  \n",
       "3 5.15        APPC0515 2.27  4.32 D119 S162 C2:4 5/28/19 1          Low  \n",
       "4 5.23        APPC0523 8.33  4.32 D119 S162 C2:4 5/28/19 1          High \n",
       "5 6.01        APPC0601 2.57  4.24 D32  S101 D1:3 5/29/19 1          Low  \n",
       "6 6.07        APPC0607 2.38  3.94 D32  S101 D1:3 5/29/19 1          Low  "
      ]
     },
     "metadata": {},
     "output_type": "display_data"
    }
   ],
   "source": [
    "head(LibPrep)\n",
    "head(Meta)"
   ]
  },
  {
   "cell_type": "code",
   "execution_count": 19,
   "id": "e8b543d5",
   "metadata": {},
   "outputs": [
    {
     "data": {
      "text/html": [
       "<table>\n",
       "<thead><tr><th scope=col>og_larvalID</th><th scope=col>larvalID</th><th scope=col>Ucrit</th><th scope=col>SL</th><th scope=col>dam</th><th scope=col>sire</th><th scope=col>tank</th><th scope=col>date</th><th scope=col>Send.to.NJ</th><th scope=col>Group</th><th scope=col>Capture</th><th scope=col>gen_id</th></tr></thead>\n",
       "<tbody>\n",
       "\t<tr><td>5.06          </td><td>APPC0506      </td><td>8.17          </td><td>4.34          </td><td>D119          </td><td>S162          </td><td>C2:4          </td><td>5/28/19       </td><td>1             </td><td>High          </td><td>Pop13         </td><td>Pop13_APPC0506</td></tr>\n",
       "\t<tr><td>5.08          </td><td>APPC0508      </td><td>1.10          </td><td>  NA          </td><td>D119          </td><td>S162          </td><td>C2:4          </td><td>5/28/19       </td><td>1             </td><td>Low           </td><td>Pop13         </td><td>Pop13_APPC0508</td></tr>\n",
       "\t<tr><td>5.15          </td><td>APPC0515      </td><td>2.27          </td><td>4.32          </td><td>D119          </td><td>S162          </td><td>C2:4          </td><td>5/28/19       </td><td>1             </td><td>Low           </td><td>Pop13         </td><td>Pop13_APPC0515</td></tr>\n",
       "\t<tr><td>5.23          </td><td>APPC0523      </td><td>8.33          </td><td>4.32          </td><td>D119          </td><td>S162          </td><td>C2:4          </td><td>5/28/19       </td><td>1             </td><td>High          </td><td>Pop13         </td><td>Pop13_APPC0523</td></tr>\n",
       "\t<tr><td>6.01          </td><td>APPC0601      </td><td>2.57          </td><td>4.24          </td><td>D32           </td><td>S101          </td><td>D1:3          </td><td>5/29/19       </td><td>1             </td><td>Low           </td><td>Pop13         </td><td>Pop13_APPC0601</td></tr>\n",
       "\t<tr><td>6.07          </td><td>APPC0607      </td><td>2.38          </td><td>3.94          </td><td>D32           </td><td>S101          </td><td>D1:3          </td><td>5/29/19       </td><td>1             </td><td>Low           </td><td>Pop13         </td><td>Pop13_APPC0607</td></tr>\n",
       "</tbody>\n",
       "</table>\n"
      ],
      "text/latex": [
       "\\begin{tabular}{r|llllllllllll}\n",
       " og\\_larvalID & larvalID & Ucrit & SL & dam & sire & tank & date & Send.to.NJ & Group & Capture & gen\\_id\\\\\n",
       "\\hline\n",
       "\t 5.06             & APPC0506         & 8.17             & 4.34             & D119             & S162             & C2:4             & 5/28/19          & 1                & High             & Pop13            & Pop13\\_APPC0506\\\\\n",
       "\t 5.08             & APPC0508         & 1.10             &   NA             & D119             & S162             & C2:4             & 5/28/19          & 1                & Low              & Pop13            & Pop13\\_APPC0508\\\\\n",
       "\t 5.15             & APPC0515         & 2.27             & 4.32             & D119             & S162             & C2:4             & 5/28/19          & 1                & Low              & Pop13            & Pop13\\_APPC0515\\\\\n",
       "\t 5.23             & APPC0523         & 8.33             & 4.32             & D119             & S162             & C2:4             & 5/28/19          & 1                & High             & Pop13            & Pop13\\_APPC0523\\\\\n",
       "\t 6.01             & APPC0601         & 2.57             & 4.24             & D32              & S101             & D1:3             & 5/29/19          & 1                & Low              & Pop13            & Pop13\\_APPC0601\\\\\n",
       "\t 6.07             & APPC0607         & 2.38             & 3.94             & D32              & S101             & D1:3             & 5/29/19          & 1                & Low              & Pop13            & Pop13\\_APPC0607\\\\\n",
       "\\end{tabular}\n"
      ],
      "text/markdown": [
       "\n",
       "| og_larvalID | larvalID | Ucrit | SL | dam | sire | tank | date | Send.to.NJ | Group | Capture | gen_id |\n",
       "|---|---|---|---|---|---|---|---|---|---|---|---|\n",
       "| 5.06           | APPC0506       | 8.17           | 4.34           | D119           | S162           | C2:4           | 5/28/19        | 1              | High           | Pop13          | Pop13_APPC0506 |\n",
       "| 5.08           | APPC0508       | 1.10           |   NA           | D119           | S162           | C2:4           | 5/28/19        | 1              | Low            | Pop13          | Pop13_APPC0508 |\n",
       "| 5.15           | APPC0515       | 2.27           | 4.32           | D119           | S162           | C2:4           | 5/28/19        | 1              | Low            | Pop13          | Pop13_APPC0515 |\n",
       "| 5.23           | APPC0523       | 8.33           | 4.32           | D119           | S162           | C2:4           | 5/28/19        | 1              | High           | Pop13          | Pop13_APPC0523 |\n",
       "| 6.01           | APPC0601       | 2.57           | 4.24           | D32            | S101           | D1:3           | 5/29/19        | 1              | Low            | Pop13          | Pop13_APPC0601 |\n",
       "| 6.07           | APPC0607       | 2.38           | 3.94           | D32            | S101           | D1:3           | 5/29/19        | 1              | Low            | Pop13          | Pop13_APPC0607 |\n",
       "\n"
      ],
      "text/plain": [
       "  og_larvalID larvalID Ucrit SL   dam  sire tank date    Send.to.NJ Group\n",
       "1 5.06        APPC0506 8.17  4.34 D119 S162 C2:4 5/28/19 1          High \n",
       "2 5.08        APPC0508 1.10    NA D119 S162 C2:4 5/28/19 1          Low  \n",
       "3 5.15        APPC0515 2.27  4.32 D119 S162 C2:4 5/28/19 1          Low  \n",
       "4 5.23        APPC0523 8.33  4.32 D119 S162 C2:4 5/28/19 1          High \n",
       "5 6.01        APPC0601 2.57  4.24 D32  S101 D1:3 5/29/19 1          Low  \n",
       "6 6.07        APPC0607 2.38  3.94 D32  S101 D1:3 5/29/19 1          Low  \n",
       "  Capture gen_id        \n",
       "1 Pop13   Pop13_APPC0506\n",
       "2 Pop13   Pop13_APPC0508\n",
       "3 Pop13   Pop13_APPC0515\n",
       "4 Pop13   Pop13_APPC0523\n",
       "5 Pop13   Pop13_APPC0601\n",
       "6 Pop13   Pop13_APPC0607"
      ]
     },
     "metadata": {},
     "output_type": "display_data"
    }
   ],
   "source": [
    "#join laboratory and genetic metadata\n",
    "FullMeta <- left_join(Meta, LibPrep, by=c(larvalID=\"SampleID\"))\n",
    "head(FullMeta)"
   ]
  },
  {
   "cell_type": "code",
   "execution_count": 27,
   "id": "e8dea2c5",
   "metadata": {},
   "outputs": [
    {
     "data": {
      "text/html": [
       "160"
      ],
      "text/latex": [
       "160"
      ],
      "text/markdown": [
       "160"
      ],
      "text/plain": [
       "[1] 160"
      ]
     },
     "metadata": {},
     "output_type": "display_data"
    }
   ],
   "source": [
    "nrow(FullMeta[Send.to.NJ==1])"
   ]
  },
  {
   "cell_type": "code",
   "execution_count": 161,
   "id": "29f20f91",
   "metadata": {},
   "outputs": [
    {
     "data": {
      "text/html": [
       "<table>\n",
       "<thead><tr><th scope=col>og_larvalID</th><th scope=col>larvalID</th><th scope=col>Ucrit</th><th scope=col>SL</th><th scope=col>dam</th><th scope=col>sire</th><th scope=col>tank</th><th scope=col>date</th><th scope=col>Send.to.NJ</th><th scope=col>Group</th></tr></thead>\n",
       "<tbody>\n",
       "\t<tr><td>31.24   </td><td>APPC3124</td><td>0.2     </td><td>4.26    </td><td>D6      </td><td>S108    </td><td>A2:1    </td><td>7/26/19 </td><td>1       </td><td>Low     </td></tr>\n",
       "</tbody>\n",
       "</table>\n"
      ],
      "text/latex": [
       "\\begin{tabular}{r|llllllllll}\n",
       " og\\_larvalID & larvalID & Ucrit & SL & dam & sire & tank & date & Send.to.NJ & Group\\\\\n",
       "\\hline\n",
       "\t 31.24    & APPC3124 & 0.2      & 4.26     & D6       & S108     & A2:1     & 7/26/19  & 1        & Low     \\\\\n",
       "\\end{tabular}\n"
      ],
      "text/markdown": [
       "\n",
       "| og_larvalID | larvalID | Ucrit | SL | dam | sire | tank | date | Send.to.NJ | Group |\n",
       "|---|---|---|---|---|---|---|---|---|---|\n",
       "| 31.24    | APPC3124 | 0.2      | 4.26     | D6       | S108     | A2:1     | 7/26/19  | 1        | Low      |\n",
       "\n"
      ],
      "text/plain": [
       "  og_larvalID larvalID Ucrit SL   dam sire tank date    Send.to.NJ Group\n",
       "1 31.24       APPC3124 0.2   4.26 D6  S108 A2:1 7/26/19 1          Low  "
      ]
     },
     "metadata": {},
     "output_type": "display_data"
    },
    {
     "data": {
      "text/html": [
       "<table>\n",
       "<thead><tr><th scope=col>SampleID</th><th scope=col>Capture</th><th scope=col>gen_id</th></tr></thead>\n",
       "<tbody>\n",
       "</tbody>\n",
       "</table>\n"
      ],
      "text/latex": [
       "\\begin{tabular}{r|lll}\n",
       " SampleID & Capture & gen\\_id\\\\\n",
       "\\hline\n",
       "\\end{tabular}\n"
      ],
      "text/markdown": [
       "\n",
       "| SampleID | Capture | gen_id |\n",
       "|---|---|---|\n",
       "\n"
      ],
      "text/plain": [
       "     SampleID Capture gen_id"
      ]
     },
     "metadata": {},
     "output_type": "display_data"
    }
   ],
   "source": [
    "Meta[Send.to.NJ==1 & larvalID %!in% LibPrep$SampleID] #okay maybe 10.12 in gdna is 10.10 in h2 metadata, 31.24 dropped out in extraction\n",
    "LibPrep[SampleID %!in% Meta$larvalID]"
   ]
  },
  {
   "cell_type": "code",
   "execution_count": 102,
   "id": "bac680c3",
   "metadata": {},
   "outputs": [],
   "source": [
    "#fwrite(FullMeta, \"~/ClownfishGWAS/data/APPC_sequencing/DNA/trimmed_reads/mapping/genotypes/angsd/Sample_Meta.txt\")"
   ]
  },
  {
   "cell_type": "code",
   "execution_count": 73,
   "id": "9b92ae4a",
   "metadata": {},
   "outputs": [
    {
     "data": {
      "text/html": [
       "160"
      ],
      "text/latex": [
       "160"
      ],
      "text/markdown": [
       "160"
      ],
      "text/plain": [
       "[1] 160"
      ]
     },
     "metadata": {},
     "output_type": "display_data"
    }
   ],
   "source": [
    "nrow(FullMeta) #hmmm looks like sample IDs were written down wrong by me from the tube writing... look back at this later"
   ]
  },
  {
   "cell_type": "code",
   "execution_count": 13,
   "id": "b943ea96",
   "metadata": {},
   "outputs": [
    {
     "data": {
      "text/plain": [
       "             Df Sum Sq Mean Sq F value Pr(>F)    \n",
       "Group         1 1271.0    1271    1320 <2e-16 ***\n",
       "Residuals   158  152.1       1                   \n",
       "---\n",
       "Signif. codes:  0 ‘***’ 0.001 ‘**’ 0.01 ‘*’ 0.05 ‘.’ 0.1 ‘ ’ 1"
      ]
     },
     "metadata": {},
     "output_type": "display_data"
    },
    {
     "data": {
      "text/plain": [
       "             Df Sum Sq Mean Sq F value Pr(>F)\n",
       "Group         1 0.0014  0.0014   0.079   0.78\n",
       "Residuals   146 2.5994  0.0178               \n",
       "12 observations deleted due to missingness"
      ]
     },
     "metadata": {},
     "output_type": "display_data"
    }
   ],
   "source": [
    "summary(aov(data=FullMeta, Ucrit~Group))\n",
    "summary(aov(data=FullMeta, SL~Group))"
   ]
  },
  {
   "cell_type": "code",
   "execution_count": 36,
   "id": "bc0ae586",
   "metadata": {},
   "outputs": [
    {
     "name": "stderr",
     "output_type": "stream",
     "text": [
      "Warning message:\n",
      "“Removed 12 rows containing non-finite values (stat_boxplot).”"
     ]
    },
    {
     "data": {
      "image/png": "[encoded data removed]",
      "text/plain": [
       "plot without title"
      ]
     },
     "metadata": {},
     "output_type": "display_data"
    },
    {
     "data": {
      "image/png": "[encoded data removed]",
      "text/plain": [
       "plot without title"
      ]
     },
     "metadata": {},
     "output_type": "display_data"
    }
   ],
   "source": [
    "ggplot()+\n",
    "    geom_boxplot(data=FullMeta, aes(x=Group, y=SL))\n",
    "ggplot()+\n",
    "    geom_boxplot(data=FullMeta, aes(x=Group, y=Ucrit))"
   ]
  },
  {
   "cell_type": "code",
   "execution_count": 41,
   "id": "c60b95f0",
   "metadata": {
    "scrolled": false
   },
   "outputs": [
    {
     "data": {
      "text/plain": [
       "\n",
       "\tShapiro-Wilk normality test\n",
       "\n",
       "data:  FullMeta$Ucrit\n",
       "W = 0.87378, p-value = 2.217e-10\n"
      ]
     },
     "metadata": {},
     "output_type": "display_data"
    },
    {
     "data": {
      "image/png": "[encoded data removed]",
      "text/plain": [
       "Plot with title “Histogram of FullMeta$Ucrit”"
      ]
     },
     "metadata": {},
     "output_type": "display_data"
    }
   ],
   "source": [
    "hist(FullMeta$Ucrit)\n",
    "shapiro.test(FullMeta$Ucrit)\n",
    "\n",
    "#hist(FullMeta$SL)"
   ]
  },
  {
   "cell_type": "code",
   "execution_count": 45,
   "id": "c17074fe",
   "metadata": {},
   "outputs": [],
   "source": [
    "#transform ucrit\n",
    "FullMeta[, trans := (abs(Ucrit)-mean(Ucrit))]"
   ]
  },
  {
   "cell_type": "code",
   "execution_count": 46,
   "id": "36520a6e",
   "metadata": {},
   "outputs": [
    {
     "data": {
      "image/png": "[encoded data removed]",
      "text/plain": [
       "Plot with title “Histogram of FullMeta$trans”"
      ]
     },
     "metadata": {},
     "output_type": "display_data"
    }
   ],
   "source": [
    "hist(FullMeta$trans)"
   ]
  },
  {
   "cell_type": "code",
   "execution_count": 135,
   "id": "842b850d",
   "metadata": {},
   "outputs": [],
   "source": [
    "#for plink\n",
    "#the two columns we need to fill are Family ID (column 1) and the phenotype, which will be Ucrit (quant), group (case/control), or SL (quant)\n",
    "#for this, we will make FamilyID the mother's ID\n",
    "#FamID <- left_join(FullMeta[!is.na(Capture), .(dam, gen_id)], Fam[,-\"V1\"], by=c(gen_id=\"V2\"))\n",
    "##join the phenotype data\n",
    "#WithPhenotypeSL <- left_join(FamID[, -\"V6\"], FullMeta[,.(gen_id, SL)], by=\"gen_id\")[\n",
    "#    is.na(SL), SL := -9]\n",
    "#fwrite(rbind(WithPhenotypeSL, Fam[V2 %!in% WithPhenotypeSL[, gen_id]], use.names=F), \"~/ClownfishGWAS/data/APPC_sequencing/DNA/filtering/imputation/plink_gwas/max_missing90_minQ20_maf01_hwe.fam\", col.names = FALSE, sep = \"\\t\")"
   ]
  },
  {
   "cell_type": "code",
   "execution_count": null,
   "id": "dcbec2cd",
   "metadata": {},
   "outputs": [],
   "source": []
  },
  {
   "cell_type": "code",
   "execution_count": null,
   "id": "092a2855",
   "metadata": {},
   "outputs": [],
   "source": []
  },
  {
   "cell_type": "code",
   "execution_count": 19,
   "id": "ae8835f1",
   "metadata": {},
   "outputs": [],
   "source": []
  },
  {
   "cell_type": "code",
   "execution_count": 20,
   "id": "b349bdbf",
   "metadata": {},
   "outputs": [],
   "source": [
    "#forangsd\n",
    "bamlist <- fread(\"/data/katrinac/APPC_sequencing/DNA/trimmed_reads/mapping/genotypes/bamlist.list.txt\", header=TRUE)"
   ]
  },
  {
   "cell_type": "code",
   "execution_count": 21,
   "id": "93a0abcb",
   "metadata": {},
   "outputs": [
    {
     "data": {
      "text/html": [
       "<table>\n",
       "<thead><tr><th scope=col>og_larvalID</th><th scope=col>larvalID</th><th scope=col>Ucrit</th><th scope=col>SL</th><th scope=col>dam</th><th scope=col>sire</th><th scope=col>tank</th><th scope=col>date</th><th scope=col>Send.to.NJ</th><th scope=col>Group</th><th scope=col>Capture</th><th scope=col>gen_id</th></tr></thead>\n",
       "<tbody>\n",
       "\t<tr><td>5.06          </td><td>APPC0506      </td><td>8.17          </td><td>4.34          </td><td>D119          </td><td>S162          </td><td>C2:4          </td><td>5/28/19       </td><td>1             </td><td>High          </td><td>Pop13         </td><td>Pop13_APPC0506</td></tr>\n",
       "\t<tr><td>5.08          </td><td>APPC0508      </td><td>1.10          </td><td>  NA          </td><td>D119          </td><td>S162          </td><td>C2:4          </td><td>5/28/19       </td><td>1             </td><td>Low           </td><td>Pop13         </td><td>Pop13_APPC0508</td></tr>\n",
       "\t<tr><td>5.15          </td><td>APPC0515      </td><td>2.27          </td><td>4.32          </td><td>D119          </td><td>S162          </td><td>C2:4          </td><td>5/28/19       </td><td>1             </td><td>Low           </td><td>Pop13         </td><td>Pop13_APPC0515</td></tr>\n",
       "\t<tr><td>5.23          </td><td>APPC0523      </td><td>8.33          </td><td>4.32          </td><td>D119          </td><td>S162          </td><td>C2:4          </td><td>5/28/19       </td><td>1             </td><td>High          </td><td>Pop13         </td><td>Pop13_APPC0523</td></tr>\n",
       "\t<tr><td>6.01          </td><td>APPC0601      </td><td>2.57          </td><td>4.24          </td><td>D32           </td><td>S101          </td><td>D1:3          </td><td>5/29/19       </td><td>1             </td><td>Low           </td><td>Pop13         </td><td>Pop13_APPC0601</td></tr>\n",
       "\t<tr><td>6.07          </td><td>APPC0607      </td><td>2.38          </td><td>3.94          </td><td>D32           </td><td>S101          </td><td>D1:3          </td><td>5/29/19       </td><td>1             </td><td>Low           </td><td>Pop13         </td><td>Pop13_APPC0607</td></tr>\n",
       "</tbody>\n",
       "</table>\n"
      ],
      "text/latex": [
       "\\begin{tabular}{r|llllllllllll}\n",
       " og\\_larvalID & larvalID & Ucrit & SL & dam & sire & tank & date & Send.to.NJ & Group & Capture & gen\\_id\\\\\n",
       "\\hline\n",
       "\t 5.06             & APPC0506         & 8.17             & 4.34             & D119             & S162             & C2:4             & 5/28/19          & 1                & High             & Pop13            & Pop13\\_APPC0506\\\\\n",
       "\t 5.08             & APPC0508         & 1.10             &   NA             & D119             & S162             & C2:4             & 5/28/19          & 1                & Low              & Pop13            & Pop13\\_APPC0508\\\\\n",
       "\t 5.15             & APPC0515         & 2.27             & 4.32             & D119             & S162             & C2:4             & 5/28/19          & 1                & Low              & Pop13            & Pop13\\_APPC0515\\\\\n",
       "\t 5.23             & APPC0523         & 8.33             & 4.32             & D119             & S162             & C2:4             & 5/28/19          & 1                & High             & Pop13            & Pop13\\_APPC0523\\\\\n",
       "\t 6.01             & APPC0601         & 2.57             & 4.24             & D32              & S101             & D1:3             & 5/29/19          & 1                & Low              & Pop13            & Pop13\\_APPC0601\\\\\n",
       "\t 6.07             & APPC0607         & 2.38             & 3.94             & D32              & S101             & D1:3             & 5/29/19          & 1                & Low              & Pop13            & Pop13\\_APPC0607\\\\\n",
       "\\end{tabular}\n"
      ],
      "text/markdown": [
       "\n",
       "| og_larvalID | larvalID | Ucrit | SL | dam | sire | tank | date | Send.to.NJ | Group | Capture | gen_id |\n",
       "|---|---|---|---|---|---|---|---|---|---|---|---|\n",
       "| 5.06           | APPC0506       | 8.17           | 4.34           | D119           | S162           | C2:4           | 5/28/19        | 1              | High           | Pop13          | Pop13_APPC0506 |\n",
       "| 5.08           | APPC0508       | 1.10           |   NA           | D119           | S162           | C2:4           | 5/28/19        | 1              | Low            | Pop13          | Pop13_APPC0508 |\n",
       "| 5.15           | APPC0515       | 2.27           | 4.32           | D119           | S162           | C2:4           | 5/28/19        | 1              | Low            | Pop13          | Pop13_APPC0515 |\n",
       "| 5.23           | APPC0523       | 8.33           | 4.32           | D119           | S162           | C2:4           | 5/28/19        | 1              | High           | Pop13          | Pop13_APPC0523 |\n",
       "| 6.01           | APPC0601       | 2.57           | 4.24           | D32            | S101           | D1:3           | 5/29/19        | 1              | Low            | Pop13          | Pop13_APPC0601 |\n",
       "| 6.07           | APPC0607       | 2.38           | 3.94           | D32            | S101           | D1:3           | 5/29/19        | 1              | Low            | Pop13          | Pop13_APPC0607 |\n",
       "\n"
      ],
      "text/plain": [
       "  og_larvalID larvalID Ucrit SL   dam  sire tank date    Send.to.NJ Group\n",
       "1 5.06        APPC0506 8.17  4.34 D119 S162 C2:4 5/28/19 1          High \n",
       "2 5.08        APPC0508 1.10    NA D119 S162 C2:4 5/28/19 1          Low  \n",
       "3 5.15        APPC0515 2.27  4.32 D119 S162 C2:4 5/28/19 1          Low  \n",
       "4 5.23        APPC0523 8.33  4.32 D119 S162 C2:4 5/28/19 1          High \n",
       "5 6.01        APPC0601 2.57  4.24 D32  S101 D1:3 5/29/19 1          Low  \n",
       "6 6.07        APPC0607 2.38  3.94 D32  S101 D1:3 5/29/19 1          Low  \n",
       "  Capture gen_id        \n",
       "1 Pop13   Pop13_APPC0506\n",
       "2 Pop13   Pop13_APPC0508\n",
       "3 Pop13   Pop13_APPC0515\n",
       "4 Pop13   Pop13_APPC0523\n",
       "5 Pop13   Pop13_APPC0601\n",
       "6 Pop13   Pop13_APPC0607"
      ]
     },
     "metadata": {},
     "output_type": "display_data"
    },
    {
     "data": {
      "text/html": [
       "<table>\n",
       "<thead><tr><th scope=col>sample</th></tr></thead>\n",
       "<tbody>\n",
       "\t<tr><td>Pop01_APPC1611</td></tr>\n",
       "\t<tr><td>Pop01_APPC1917</td></tr>\n",
       "\t<tr><td>Pop01_APPC1921</td></tr>\n",
       "\t<tr><td>Pop01_APPC2029</td></tr>\n",
       "\t<tr><td>Pop01_APPC2030</td></tr>\n",
       "\t<tr><td>Pop01_APPC2101</td></tr>\n",
       "</tbody>\n",
       "</table>\n"
      ],
      "text/latex": [
       "\\begin{tabular}{r|l}\n",
       " sample\\\\\n",
       "\\hline\n",
       "\t Pop01\\_APPC1611\\\\\n",
       "\t Pop01\\_APPC1917\\\\\n",
       "\t Pop01\\_APPC1921\\\\\n",
       "\t Pop01\\_APPC2029\\\\\n",
       "\t Pop01\\_APPC2030\\\\\n",
       "\t Pop01\\_APPC2101\\\\\n",
       "\\end{tabular}\n"
      ],
      "text/markdown": [
       "\n",
       "| sample |\n",
       "|---|\n",
       "| Pop01_APPC1611 |\n",
       "| Pop01_APPC1917 |\n",
       "| Pop01_APPC1921 |\n",
       "| Pop01_APPC2029 |\n",
       "| Pop01_APPC2030 |\n",
       "| Pop01_APPC2101 |\n",
       "\n"
      ],
      "text/plain": [
       "  sample        \n",
       "1 Pop01_APPC1611\n",
       "2 Pop01_APPC1917\n",
       "3 Pop01_APPC1921\n",
       "4 Pop01_APPC2029\n",
       "5 Pop01_APPC2030\n",
       "6 Pop01_APPC2101"
      ]
     },
     "metadata": {},
     "output_type": "display_data"
    }
   ],
   "source": [
    "head(FullMeta)\n",
    "head(bamlist)"
   ]
  },
  {
   "cell_type": "code",
   "execution_count": 22,
   "id": "c1cc5873",
   "metadata": {},
   "outputs": [
    {
     "name": "stderr",
     "output_type": "stream",
     "text": [
      "Warning message in `[.data.table`(right_join(FullMeta, bamlist, by = c(gen_id = \"sample\"))[order(gen_id)][is.na(Group), :\n",
      "“Coerced double RHS to character to match the type of the target column (column 10 named 'Group'). If the target column's type character is correct, it's best for efficiency to avoid the coercion and create the RHS as type character. To achieve that consider R's type postfix: typeof(0L) vs typeof(0), and typeof(NA) vs typeof(NA_integer_) vs typeof(NA_real_). You can wrap the RHS with as.character() to avoid this warning, but that will still perform the coercion. If the target column's type is not correct, it's best to revisit where the DT was created and fix the column type there; e.g., by using colClasses= in fread(). Otherwise, you can change the column type now by plonking a new column (of the desired type) over the top of it; e.g. DT[, `Group`:=as.double(`Group`)]. If the RHS of := has nrow(DT) elements then the assignment is called a column plonk and is the way to change a column's type. Column types can be observed with sapply(DT,typeof).”Warning message in `[.data.table`(right_join(FullMeta, bamlist, by = c(gen_id = \"sample\"))[order(gen_id)][is.na(Group), :\n",
      "“Coerced double RHS to character to match the type of the target column (column 10 named 'Group'). If the target column's type character is correct, it's best for efficiency to avoid the coercion and create the RHS as type character. To achieve that consider R's type postfix: typeof(0L) vs typeof(0), and typeof(NA) vs typeof(NA_integer_) vs typeof(NA_real_). You can wrap the RHS with as.character() to avoid this warning, but that will still perform the coercion. If the target column's type is not correct, it's best to revisit where the DT was created and fix the column type there; e.g., by using colClasses= in fread(). Otherwise, you can change the column type now by plonking a new column (of the desired type) over the top of it; e.g. DT[, `Group`:=as.double(`Group`)]. If the RHS of := has nrow(DT) elements then the assignment is called a column plonk and is the way to change a column's type. Column types can be observed with sapply(DT,typeof).”"
     ]
    }
   ],
   "source": [
    "ForAngsd <- right_join(FullMeta, bamlist, by=c(gen_id=\"sample\"))[order(gen_id)][is.na(Group), Group :=-999][Group==\"High\", Group:=1][Group==\"Low\", Group:=0]#[, \"Group\"]"
   ]
  },
  {
   "cell_type": "code",
   "execution_count": 23,
   "id": "5bf0513b",
   "metadata": {},
   "outputs": [
    {
     "data": {
      "text/html": [
       "<table>\n",
       "<thead><tr><th scope=col>og_larvalID</th><th scope=col>larvalID</th><th scope=col>Ucrit</th><th scope=col>SL</th><th scope=col>dam</th><th scope=col>sire</th><th scope=col>tank</th><th scope=col>date</th><th scope=col>Send.to.NJ</th><th scope=col>Group</th><th scope=col>Capture</th><th scope=col>gen_id</th></tr></thead>\n",
       "<tbody>\n",
       "</tbody>\n",
       "</table>\n"
      ],
      "text/latex": [
       "\\begin{tabular}{r|llllllllllll}\n",
       " og\\_larvalID & larvalID & Ucrit & SL & dam & sire & tank & date & Send.to.NJ & Group & Capture & gen\\_id\\\\\n",
       "\\hline\n",
       "\\end{tabular}\n"
      ],
      "text/markdown": [
       "\n",
       "| og_larvalID | larvalID | Ucrit | SL | dam | sire | tank | date | Send.to.NJ | Group | Capture | gen_id |\n",
       "|---|---|---|---|---|---|---|---|---|---|---|---|\n",
       "\n"
      ],
      "text/plain": [
       "     og_larvalID larvalID Ucrit SL dam sire tank date Send.to.NJ Group Capture\n",
       "     gen_id"
      ]
     },
     "metadata": {},
     "output_type": "display_data"
    }
   ],
   "source": [
    "(ForAngsd[is.na(Ucrit)])\n",
    "#fwrite(ForAngsd, \"~/ClownfishGWAS/data/APPC_sequencing/DNA/trimmed_reads/mapping/genotypes/angsd/Sample_Meta.txt\")"
   ]
  },
  {
   "cell_type": "code",
   "execution_count": 24,
   "id": "8a150f73",
   "metadata": {},
   "outputs": [],
   "source": [
    "#ForAngsd"
   ]
  },
  {
   "cell_type": "code",
   "execution_count": 108,
   "id": "f139e8d4",
   "metadata": {},
   "outputs": [],
   "source": [
    "#fwrite(ForAngsd[,.(Group)], \"~/ClownfishGWAS/data/APPC_sequencing/DNA/trimmed_reads/mapping/genotypes/angsd/case_control_pheno.ybin\")\n",
    "#once I get the phenos from E\n",
    "#fwrite(ForAngsd[,.(SL)], \"~/ClownfishGWAS/data/APPC_sequencing/DNA/trimmed_reads/mapping/genotypes/angsd/SL_pheno.ybin\")\n",
    "#fwrite(ForAngsd[,.(Ucrit)], \"~/ClownfishGWAS/data/APPC_sequencing/DNA/trimmed_reads/mapping/genotypes/angsd/Ucrit_pheno.ybin\")"
   ]
  },
  {
   "cell_type": "code",
   "execution_count": 167,
   "id": "d8aa6278",
   "metadata": {},
   "outputs": [],
   "source": [
    "#fwrite(ForAngsd[,.(Ucrit)], \"~/ClownfishGWAS/data/APPC_sequencing/DNA/trimmed_reads/mapping/genotypes/angsd/Ucrit_pheno.ybin\")\n"
   ]
  },
  {
   "cell_type": "code",
   "execution_count": 25,
   "id": "0dfd8ba1",
   "metadata": {},
   "outputs": [
    {
     "data": {
      "text/html": [
       "<table>\n",
       "<thead><tr><th scope=col>og_larvalID</th><th scope=col>larvalID</th><th scope=col>Ucrit</th><th scope=col>SL</th><th scope=col>dam</th><th scope=col>sire</th><th scope=col>tank</th><th scope=col>date</th><th scope=col>Send.to.NJ</th><th scope=col>Group</th><th scope=col>Capture</th><th scope=col>gen_id</th></tr></thead>\n",
       "<tbody>\n",
       "\t<tr><td>16.11         </td><td>APPC1611      </td><td>8.13          </td><td>4.40          </td><td>D125          </td><td>S144          </td><td>C1:4          </td><td>6/19/19       </td><td>1             </td><td>1             </td><td>Pop01         </td><td>Pop01_APPC1611</td></tr>\n",
       "\t<tr><td>19.17         </td><td>APPC1917      </td><td>1.20          </td><td>4.35          </td><td>D85           </td><td>S173          </td><td>C2:2          </td><td>6/27/19       </td><td>1             </td><td>0             </td><td>Pop01         </td><td>Pop01_APPC1917</td></tr>\n",
       "\t<tr><td>19.21         </td><td>APPC1921      </td><td>7.33          </td><td>4.28          </td><td>D85           </td><td>S173          </td><td>C2:2          </td><td>6/27/19       </td><td>1             </td><td>1             </td><td>Pop01         </td><td>Pop01_APPC1921</td></tr>\n",
       "\t<tr><td>20.29         </td><td>APPC2029      </td><td>8.82          </td><td>4.25          </td><td>D70           </td><td>S98           </td><td>A3:1          </td><td>6/28/19       </td><td>1             </td><td>1             </td><td>Pop01         </td><td>Pop01_APPC2029</td></tr>\n",
       "\t<tr><td>20.30         </td><td>APPC2030      </td><td>7.32          </td><td>4.54          </td><td>D70           </td><td>S98           </td><td>A3:1          </td><td>6/28/19       </td><td>1             </td><td>1             </td><td>Pop01         </td><td>Pop01_APPC2030</td></tr>\n",
       "\t<tr><td>21.01         </td><td>APPC2101      </td><td>5.07          </td><td>3.94          </td><td>D269          </td><td>S94           </td><td>D1:2          </td><td>7/1/19        </td><td>1             </td><td>1             </td><td>Pop01         </td><td>Pop01_APPC2101</td></tr>\n",
       "</tbody>\n",
       "</table>\n"
      ],
      "text/latex": [
       "\\begin{tabular}{r|llllllllllll}\n",
       " og\\_larvalID & larvalID & Ucrit & SL & dam & sire & tank & date & Send.to.NJ & Group & Capture & gen\\_id\\\\\n",
       "\\hline\n",
       "\t 16.11            & APPC1611         & 8.13             & 4.40             & D125             & S144             & C1:4             & 6/19/19          & 1                & 1                & Pop01            & Pop01\\_APPC1611\\\\\n",
       "\t 19.17            & APPC1917         & 1.20             & 4.35             & D85              & S173             & C2:2             & 6/27/19          & 1                & 0                & Pop01            & Pop01\\_APPC1917\\\\\n",
       "\t 19.21            & APPC1921         & 7.33             & 4.28             & D85              & S173             & C2:2             & 6/27/19          & 1                & 1                & Pop01            & Pop01\\_APPC1921\\\\\n",
       "\t 20.29            & APPC2029         & 8.82             & 4.25             & D70              & S98              & A3:1             & 6/28/19          & 1                & 1                & Pop01            & Pop01\\_APPC2029\\\\\n",
       "\t 20.30            & APPC2030         & 7.32             & 4.54             & D70              & S98              & A3:1             & 6/28/19          & 1                & 1                & Pop01            & Pop01\\_APPC2030\\\\\n",
       "\t 21.01            & APPC2101         & 5.07             & 3.94             & D269             & S94              & D1:2             & 7/1/19           & 1                & 1                & Pop01            & Pop01\\_APPC2101\\\\\n",
       "\\end{tabular}\n"
      ],
      "text/markdown": [
       "\n",
       "| og_larvalID | larvalID | Ucrit | SL | dam | sire | tank | date | Send.to.NJ | Group | Capture | gen_id |\n",
       "|---|---|---|---|---|---|---|---|---|---|---|---|\n",
       "| 16.11          | APPC1611       | 8.13           | 4.40           | D125           | S144           | C1:4           | 6/19/19        | 1              | 1              | Pop01          | Pop01_APPC1611 |\n",
       "| 19.17          | APPC1917       | 1.20           | 4.35           | D85            | S173           | C2:2           | 6/27/19        | 1              | 0              | Pop01          | Pop01_APPC1917 |\n",
       "| 19.21          | APPC1921       | 7.33           | 4.28           | D85            | S173           | C2:2           | 6/27/19        | 1              | 1              | Pop01          | Pop01_APPC1921 |\n",
       "| 20.29          | APPC2029       | 8.82           | 4.25           | D70            | S98            | A3:1           | 6/28/19        | 1              | 1              | Pop01          | Pop01_APPC2029 |\n",
       "| 20.30          | APPC2030       | 7.32           | 4.54           | D70            | S98            | A3:1           | 6/28/19        | 1              | 1              | Pop01          | Pop01_APPC2030 |\n",
       "| 21.01          | APPC2101       | 5.07           | 3.94           | D269           | S94            | D1:2           | 7/1/19         | 1              | 1              | Pop01          | Pop01_APPC2101 |\n",
       "\n"
      ],
      "text/plain": [
       "  og_larvalID larvalID Ucrit SL   dam  sire tank date    Send.to.NJ Group\n",
       "1 16.11       APPC1611 8.13  4.40 D125 S144 C1:4 6/19/19 1          1    \n",
       "2 19.17       APPC1917 1.20  4.35 D85  S173 C2:2 6/27/19 1          0    \n",
       "3 19.21       APPC1921 7.33  4.28 D85  S173 C2:2 6/27/19 1          1    \n",
       "4 20.29       APPC2029 8.82  4.25 D70  S98  A3:1 6/28/19 1          1    \n",
       "5 20.30       APPC2030 7.32  4.54 D70  S98  A3:1 6/28/19 1          1    \n",
       "6 21.01       APPC2101 5.07  3.94 D269 S94  D1:2 7/1/19  1          1    \n",
       "  Capture gen_id        \n",
       "1 Pop01   Pop01_APPC1611\n",
       "2 Pop01   Pop01_APPC1917\n",
       "3 Pop01   Pop01_APPC1921\n",
       "4 Pop01   Pop01_APPC2029\n",
       "5 Pop01   Pop01_APPC2030\n",
       "6 Pop01   Pop01_APPC2101"
      ]
     },
     "metadata": {},
     "output_type": "display_data"
    },
    {
     "data": {
      "text/html": [
       "<table>\n",
       "<thead><tr><th scope=col>V1</th><th scope=col>V2</th><th scope=col>V3</th><th scope=col>V4</th><th scope=col>V5</th><th scope=col>V6</th><th scope=col>V7</th><th scope=col>V8</th><th scope=col>V9</th><th scope=col>V10</th><th scope=col>...</th><th scope=col>V150</th><th scope=col>V151</th><th scope=col>V152</th><th scope=col>V153</th><th scope=col>V154</th><th scope=col>V155</th><th scope=col>V156</th><th scope=col>V157</th><th scope=col>V158</th><th scope=col>V159</th></tr></thead>\n",
       "<tbody>\n",
       "\t<tr><td> 1.3353486</td><td> 0.3883862</td><td>-0.0135418</td><td> 0.1148110</td><td>-0.0834899</td><td>-0.2781414</td><td> 0.4290567</td><td>-0.1877678</td><td> 0.3704657</td><td>-0.2801444</td><td>...       </td><td>-0.3076701</td><td>-0.1148423</td><td>-0.2858137</td><td> 0.2896614</td><td> 0.3269241</td><td>-0.2589612</td><td>-0.2517436</td><td>-0.2458638</td><td>-0.2341706</td><td>-0.1857256</td></tr>\n",
       "\t<tr><td> 0.3883862</td><td> 1.4457219</td><td>-0.0164109</td><td> 0.1396048</td><td>-0.1011803</td><td>-0.3369562</td><td> 0.5191065</td><td>-0.2275145</td><td> 0.4480954</td><td>-0.3393794</td><td>...       </td><td>-0.3725389</td><td>-0.1391699</td><td>-0.3459328</td><td> 0.3509004</td><td> 0.3958668</td><td>-0.3137049</td><td>-0.3050379</td><td>-0.2979042</td><td>-0.2837050</td><td>-0.2250776</td></tr>\n",
       "\t<tr><td>-0.0135418</td><td>-0.0164109</td><td> 0.9989417</td><td>-0.0048510</td><td> 0.0035284</td><td> 0.0117386</td><td>-0.0181368</td><td> 0.0079301</td><td>-0.0156596</td><td> 0.0118300</td><td>...       </td><td> 0.0129804</td><td> 0.0048506</td><td> 0.0120677</td><td>-0.0122319</td><td>-0.0138073</td><td> 0.0109271</td><td> 0.0106282</td><td> 0.0103792</td><td> 0.0098764</td><td> 0.0078427</td></tr>\n",
       "\t<tr><td> 0.1148110</td><td> 0.1396048</td><td>-0.0048510</td><td> 1.0802584</td><td>-0.0298901</td><td>-0.0999669</td><td> 0.1530357</td><td>-0.0673211</td><td> 0.1322171</td><td>-0.1005468</td><td>...       </td><td>-0.1109381</td><td>-0.0411579</td><td>-0.1031910</td><td> 0.1037075</td><td> 0.1169366</td><td>-0.0932053</td><td>-0.0903311</td><td>-0.0882320</td><td>-0.0839847</td><td>-0.0666183</td></tr>\n",
       "\t<tr><td>-0.0834899</td><td>-0.1011803</td><td> 0.0035284</td><td>-0.0298901</td><td> 0.9720282</td><td> 0.0723817</td><td>-0.1118132</td><td> 0.0488852</td><td>-0.0965492</td><td> 0.0729405</td><td>...       </td><td> 0.0800525</td><td> 0.0298987</td><td> 0.0743544</td><td>-0.0754242</td><td>-0.0851352</td><td> 0.0673722</td><td> 0.0655393</td><td> 0.0639933</td><td> 0.0609266</td><td> 0.0483445</td></tr>\n",
       "\t<tr><td>-0.2781414</td><td>-0.3369562</td><td> 0.0117386</td><td>-0.0999669</td><td> 0.0723817</td><td> 0.9689472</td><td>-0.3721078</td><td> 0.1627734</td><td>-0.3213479</td><td> 0.2429079</td><td>...       </td><td> 0.2651766</td><td> 0.0995643</td><td> 0.2453448</td><td>-0.2512747</td><td>-0.2835847</td><td> 0.2232014</td><td> 0.2179205</td><td> 0.2129748</td><td> 0.2023685</td><td> 0.1609690</td></tr>\n",
       "</tbody>\n",
       "</table>\n"
      ],
      "text/latex": [
       "\\begin{tabular}{r|lllllllllllllllllllllllllllllllllllllllllllllllllllllllllllllllllllllllllllllllllllllllllllllllllllllllllllllllllllllllllllllllllllllllllllllllllllllllllllllll}\n",
       " V1 & V2 & V3 & V4 & V5 & V6 & V7 & V8 & V9 & V10 & ... & V150 & V151 & V152 & V153 & V154 & V155 & V156 & V157 & V158 & V159\\\\\n",
       "\\hline\n",
       "\t  1.3353486 &  0.3883862 & -0.0135418 &  0.1148110 & -0.0834899 & -0.2781414 &  0.4290567 & -0.1877678 &  0.3704657 & -0.2801444 & ...        & -0.3076701 & -0.1148423 & -0.2858137 &  0.2896614 &  0.3269241 & -0.2589612 & -0.2517436 & -0.2458638 & -0.2341706 & -0.1857256\\\\\n",
       "\t  0.3883862 &  1.4457219 & -0.0164109 &  0.1396048 & -0.1011803 & -0.3369562 &  0.5191065 & -0.2275145 &  0.4480954 & -0.3393794 & ...        & -0.3725389 & -0.1391699 & -0.3459328 &  0.3509004 &  0.3958668 & -0.3137049 & -0.3050379 & -0.2979042 & -0.2837050 & -0.2250776\\\\\n",
       "\t -0.0135418 & -0.0164109 &  0.9989417 & -0.0048510 &  0.0035284 &  0.0117386 & -0.0181368 &  0.0079301 & -0.0156596 &  0.0118300 & ...        &  0.0129804 &  0.0048506 &  0.0120677 & -0.0122319 & -0.0138073 &  0.0109271 &  0.0106282 &  0.0103792 &  0.0098764 &  0.0078427\\\\\n",
       "\t  0.1148110 &  0.1396048 & -0.0048510 &  1.0802584 & -0.0298901 & -0.0999669 &  0.1530357 & -0.0673211 &  0.1322171 & -0.1005468 & ...        & -0.1109381 & -0.0411579 & -0.1031910 &  0.1037075 &  0.1169366 & -0.0932053 & -0.0903311 & -0.0882320 & -0.0839847 & -0.0666183\\\\\n",
       "\t -0.0834899 & -0.1011803 &  0.0035284 & -0.0298901 &  0.9720282 &  0.0723817 & -0.1118132 &  0.0488852 & -0.0965492 &  0.0729405 & ...        &  0.0800525 &  0.0298987 &  0.0743544 & -0.0754242 & -0.0851352 &  0.0673722 &  0.0655393 &  0.0639933 &  0.0609266 &  0.0483445\\\\\n",
       "\t -0.2781414 & -0.3369562 &  0.0117386 & -0.0999669 &  0.0723817 &  0.9689472 & -0.3721078 &  0.1627734 & -0.3213479 &  0.2429079 & ...        &  0.2651766 &  0.0995643 &  0.2453448 & -0.2512747 & -0.2835847 &  0.2232014 &  0.2179205 &  0.2129748 &  0.2023685 &  0.1609690\\\\\n",
       "\\end{tabular}\n"
      ],
      "text/markdown": [
       "\n",
       "| V1 | V2 | V3 | V4 | V5 | V6 | V7 | V8 | V9 | V10 | ... | V150 | V151 | V152 | V153 | V154 | V155 | V156 | V157 | V158 | V159 |\n",
       "|---|---|---|---|---|---|---|---|---|---|---|---|---|---|---|---|---|---|---|---|---|\n",
       "|  1.3353486 |  0.3883862 | -0.0135418 |  0.1148110 | -0.0834899 | -0.2781414 |  0.4290567 | -0.1877678 |  0.3704657 | -0.2801444 | ...        | -0.3076701 | -0.1148423 | -0.2858137 |  0.2896614 |  0.3269241 | -0.2589612 | -0.2517436 | -0.2458638 | -0.2341706 | -0.1857256 |\n",
       "|  0.3883862 |  1.4457219 | -0.0164109 |  0.1396048 | -0.1011803 | -0.3369562 |  0.5191065 | -0.2275145 |  0.4480954 | -0.3393794 | ...        | -0.3725389 | -0.1391699 | -0.3459328 |  0.3509004 |  0.3958668 | -0.3137049 | -0.3050379 | -0.2979042 | -0.2837050 | -0.2250776 |\n",
       "| -0.0135418 | -0.0164109 |  0.9989417 | -0.0048510 |  0.0035284 |  0.0117386 | -0.0181368 |  0.0079301 | -0.0156596 |  0.0118300 | ...        |  0.0129804 |  0.0048506 |  0.0120677 | -0.0122319 | -0.0138073 |  0.0109271 |  0.0106282 |  0.0103792 |  0.0098764 |  0.0078427 |\n",
       "|  0.1148110 |  0.1396048 | -0.0048510 |  1.0802584 | -0.0298901 | -0.0999669 |  0.1530357 | -0.0673211 |  0.1322171 | -0.1005468 | ...        | -0.1109381 | -0.0411579 | -0.1031910 |  0.1037075 |  0.1169366 | -0.0932053 | -0.0903311 | -0.0882320 | -0.0839847 | -0.0666183 |\n",
       "| -0.0834899 | -0.1011803 |  0.0035284 | -0.0298901 |  0.9720282 |  0.0723817 | -0.1118132 |  0.0488852 | -0.0965492 |  0.0729405 | ...        |  0.0800525 |  0.0298987 |  0.0743544 | -0.0754242 | -0.0851352 |  0.0673722 |  0.0655393 |  0.0639933 |  0.0609266 |  0.0483445 |\n",
       "| -0.2781414 | -0.3369562 |  0.0117386 | -0.0999669 |  0.0723817 |  0.9689472 | -0.3721078 |  0.1627734 | -0.3213479 |  0.2429079 | ...        |  0.2651766 |  0.0995643 |  0.2453448 | -0.2512747 | -0.2835847 |  0.2232014 |  0.2179205 |  0.2129748 |  0.2023685 |  0.1609690 |\n",
       "\n"
      ],
      "text/plain": [
       "  V1         V2         V3         V4         V5         V6         V7        \n",
       "1  1.3353486  0.3883862 -0.0135418  0.1148110 -0.0834899 -0.2781414  0.4290567\n",
       "2  0.3883862  1.4457219 -0.0164109  0.1396048 -0.1011803 -0.3369562  0.5191065\n",
       "3 -0.0135418 -0.0164109  0.9989417 -0.0048510  0.0035284  0.0117386 -0.0181368\n",
       "4  0.1148110  0.1396048 -0.0048510  1.0802584 -0.0298901 -0.0999669  0.1530357\n",
       "5 -0.0834899 -0.1011803  0.0035284 -0.0298901  0.9720282  0.0723817 -0.1118132\n",
       "6 -0.2781414 -0.3369562  0.0117386 -0.0999669  0.0723817  0.9689472 -0.3721078\n",
       "  V8         V9         V10        ... V150       V151       V152      \n",
       "1 -0.1877678  0.3704657 -0.2801444 ... -0.3076701 -0.1148423 -0.2858137\n",
       "2 -0.2275145  0.4480954 -0.3393794 ... -0.3725389 -0.1391699 -0.3459328\n",
       "3  0.0079301 -0.0156596  0.0118300 ...  0.0129804  0.0048506  0.0120677\n",
       "4 -0.0673211  0.1322171 -0.1005468 ... -0.1109381 -0.0411579 -0.1031910\n",
       "5  0.0488852 -0.0965492  0.0729405 ...  0.0800525  0.0298987  0.0743544\n",
       "6  0.1627734 -0.3213479  0.2429079 ...  0.2651766  0.0995643  0.2453448\n",
       "  V153       V154       V155       V156       V157       V158       V159      \n",
       "1  0.2896614  0.3269241 -0.2589612 -0.2517436 -0.2458638 -0.2341706 -0.1857256\n",
       "2  0.3509004  0.3958668 -0.3137049 -0.3050379 -0.2979042 -0.2837050 -0.2250776\n",
       "3 -0.0122319 -0.0138073  0.0109271  0.0106282  0.0103792  0.0098764  0.0078427\n",
       "4  0.1037075  0.1169366 -0.0932053 -0.0903311 -0.0882320 -0.0839847 -0.0666183\n",
       "5 -0.0754242 -0.0851352  0.0673722  0.0655393  0.0639933  0.0609266  0.0483445\n",
       "6 -0.2512747 -0.2835847  0.2232014  0.2179205  0.2129748  0.2023685  0.1609690"
      ]
     },
     "metadata": {},
     "output_type": "display_data"
    }
   ],
   "source": [
    "head(ForAngsd)\n",
    "pca <- fread(\"/data/katrinac/APPC_sequencing/DNA/trimmed_reads/mapping/genotypes/angsd/output.pcangsd.cov\") \n",
    "head(pca)\n",
    "qc_format <- cbind(ForAngsd[, .(gen_id, Group, Ucrit, SL, Capture, dam, sire, tank)], pca[, 1:10])"
   ]
  },
  {
   "cell_type": "code",
   "execution_count": 30,
   "id": "7ebf23d4",
   "metadata": {},
   "outputs": [],
   "source": [
    "fwrite(qc_format[,.(dam, sire)], \"/data/katrinac/APPC_sequencing/DNA/trimmed_reads/mapping/genotypes/angsd/parent_id.cov\")\n"
   ]
  },
  {
   "cell_type": "code",
   "execution_count": 26,
   "id": "e3bb4a10",
   "metadata": {},
   "outputs": [],
   "source": [
    "\n",
    "#fwrite(qc_format, \"/data/katrinac/APPC_sequencing/DNA/trimmed_reads/mapping/genotypes/angsd/qc.sample\", quote = F, sep=\" \", na=\"NA\")\n"
   ]
  },
  {
   "cell_type": "code",
   "execution_count": 51,
   "id": "352d8493",
   "metadata": {},
   "outputs": [],
   "source": [
    "ForAngsd <- right_join(WithPhenotypeHighLow, bamlist, by=c(gen_id=\"sample\"))[order(gen_id)][]#[is.na(Group), Group :=-999][Group==\"High\", Group:=1][Group==\"Low\", Group:=0][, \"Group\"]"
   ]
  },
  {
   "cell_type": "code",
   "execution_count": 60,
   "id": "00520587",
   "metadata": {},
   "outputs": [],
   "source": [
    "ForAngsdSLQuant <- right_join(left_join(FamID[, -\"V6\"], FullMeta[,.(gen_id, SL)], by=\"gen_id\"), bamlist, by=c(gen_id=\"sample\"))[order(gen_id)][is.na(SL), SL :=-999][, \"SL\"]#[Group==\"High\", Group:=1][Group==\"Low\", Group:=0][, \"Group\"]"
   ]
  },
  {
   "cell_type": "code",
   "execution_count": 1,
   "id": "36fccf38",
   "metadata": {},
   "outputs": [
    {
     "ename": "ERROR",
     "evalue": "Error in head(ForAngsd): object 'ForAngsd' not found\n",
     "output_type": "error",
     "traceback": [
      "Error in head(ForAngsd): object 'ForAngsd' not found\nTraceback:\n",
      "1. head(ForAngsd)"
     ]
    }
   ],
   "source": [
    "head(ForAngsd)"
   ]
  },
  {
   "cell_type": "code",
   "execution_count": 63,
   "id": "3706a48d",
   "metadata": {
    "scrolled": true
   },
   "outputs": [
    {
     "data": {
      "text/html": [
       "<table>\n",
       "<thead><tr><th scope=col>SL</th></tr></thead>\n",
       "<tbody>\n",
       "\t<tr><td>4.40</td></tr>\n",
       "\t<tr><td>4.35</td></tr>\n",
       "\t<tr><td>4.28</td></tr>\n",
       "\t<tr><td>4.25</td></tr>\n",
       "\t<tr><td>4.54</td></tr>\n",
       "\t<tr><td>3.94</td></tr>\n",
       "</tbody>\n",
       "</table>\n"
      ],
      "text/latex": [
       "\\begin{tabular}{r|l}\n",
       " SL\\\\\n",
       "\\hline\n",
       "\t 4.40\\\\\n",
       "\t 4.35\\\\\n",
       "\t 4.28\\\\\n",
       "\t 4.25\\\\\n",
       "\t 4.54\\\\\n",
       "\t 3.94\\\\\n",
       "\\end{tabular}\n"
      ],
      "text/markdown": [
       "\n",
       "| SL |\n",
       "|---|\n",
       "| 4.40 |\n",
       "| 4.35 |\n",
       "| 4.28 |\n",
       "| 4.25 |\n",
       "| 4.54 |\n",
       "| 3.94 |\n",
       "\n"
      ],
      "text/plain": [
       "  SL  \n",
       "1 4.40\n",
       "2 4.35\n",
       "3 4.28\n",
       "4 4.25\n",
       "5 4.54\n",
       "6 3.94"
      ]
     },
     "metadata": {},
     "output_type": "display_data"
    }
   ],
   "source": [
    "head(ForAngsdSLQuant)\n",
    "fwrite(ForAngsdSLQuant, \"~/ClownfishGWAS/data/APPC_sequencing/DNA/trimmed_reads/mapping/genotypes/angsd/SL_pheno.ybin\")"
   ]
  },
  {
   "cell_type": "code",
   "execution_count": null,
   "id": "ce0ac4d7",
   "metadata": {},
   "outputs": [],
   "source": []
  },
  {
   "cell_type": "code",
   "execution_count": 144,
   "id": "48eae5c7",
   "metadata": {},
   "outputs": [],
   "source": [
    "#for null distribution of pvalues\n",
    "set.seed(77)\n",
    "shuffle <- ForAngsd[sample(.N,nrow(ForAngsd), replace = TRUE)]"
   ]
  },
  {
   "cell_type": "code",
   "execution_count": 145,
   "id": "6d628cc6",
   "metadata": {},
   "outputs": [
    {
     "data": {
      "text/html": [
       "<table>\n",
       "<thead><tr><th scope=col>og_larvalID</th><th scope=col>larvalID</th><th scope=col>Ucrit</th><th scope=col>SL</th><th scope=col>dam</th><th scope=col>sire</th><th scope=col>tank</th><th scope=col>date</th><th scope=col>Send.to.NJ</th><th scope=col>Group</th><th scope=col>Capture</th><th scope=col>gen_id</th></tr></thead>\n",
       "<tbody>\n",
       "\t<tr><td>22.12         </td><td>APPC2212      </td><td>6.70          </td><td>4.30          </td><td>D19           </td><td>S175          </td><td>A1:4          </td><td>7/2/19        </td><td>1             </td><td>1             </td><td>Pop15         </td><td>Pop15_APPC2212</td></tr>\n",
       "\t<tr><td>23.04         </td><td>APPC2304      </td><td>0.13          </td><td>4.37          </td><td>D74           </td><td>S116          </td><td>C1:3          </td><td>7/3/19        </td><td>1             </td><td>0             </td><td>Pop06         </td><td>Pop06_APPC2304</td></tr>\n",
       "\t<tr><td>15.17         </td><td>APPC1517      </td><td>0.88          </td><td>4.36          </td><td>D10           </td><td>S156          </td><td>B2:5          </td><td>6/17/19       </td><td>1             </td><td>0             </td><td>Pop04         </td><td>Pop04_APPC1517</td></tr>\n",
       "\t<tr><td>13.18         </td><td>APPC1318      </td><td>0.30          </td><td>4.23          </td><td>D22           </td><td>S103          </td><td>B3:1          </td><td>6/12/19       </td><td>1             </td><td>0             </td><td>Pop03         </td><td>Pop03_APPC1318</td></tr>\n",
       "\t<tr><td>24.14         </td><td>APPC2414      </td><td>1.03          </td><td>4.30          </td><td>D58           </td><td>S296          </td><td>D3:3          </td><td>7/11/19       </td><td>1             </td><td>0             </td><td>Pop07         </td><td>Pop07_APPC2414</td></tr>\n",
       "\t<tr><td>32.24         </td><td>APPC3224      </td><td>0.72          </td><td>4.52          </td><td>D5            </td><td>S137          </td><td>A1:5          </td><td>7/29/19       </td><td>1             </td><td>0             </td><td>Pop09         </td><td>Pop09_APPC3224</td></tr>\n",
       "</tbody>\n",
       "</table>\n"
      ],
      "text/latex": [
       "\\begin{tabular}{r|llllllllllll}\n",
       " og\\_larvalID & larvalID & Ucrit & SL & dam & sire & tank & date & Send.to.NJ & Group & Capture & gen\\_id\\\\\n",
       "\\hline\n",
       "\t 22.12            & APPC2212         & 6.70             & 4.30             & D19              & S175             & A1:4             & 7/2/19           & 1                & 1                & Pop15            & Pop15\\_APPC2212\\\\\n",
       "\t 23.04            & APPC2304         & 0.13             & 4.37             & D74              & S116             & C1:3             & 7/3/19           & 1                & 0                & Pop06            & Pop06\\_APPC2304\\\\\n",
       "\t 15.17            & APPC1517         & 0.88             & 4.36             & D10              & S156             & B2:5             & 6/17/19          & 1                & 0                & Pop04            & Pop04\\_APPC1517\\\\\n",
       "\t 13.18            & APPC1318         & 0.30             & 4.23             & D22              & S103             & B3:1             & 6/12/19          & 1                & 0                & Pop03            & Pop03\\_APPC1318\\\\\n",
       "\t 24.14            & APPC2414         & 1.03             & 4.30             & D58              & S296             & D3:3             & 7/11/19          & 1                & 0                & Pop07            & Pop07\\_APPC2414\\\\\n",
       "\t 32.24            & APPC3224         & 0.72             & 4.52             & D5               & S137             & A1:5             & 7/29/19          & 1                & 0                & Pop09            & Pop09\\_APPC3224\\\\\n",
       "\\end{tabular}\n"
      ],
      "text/markdown": [
       "\n",
       "| og_larvalID | larvalID | Ucrit | SL | dam | sire | tank | date | Send.to.NJ | Group | Capture | gen_id |\n",
       "|---|---|---|---|---|---|---|---|---|---|---|---|\n",
       "| 22.12          | APPC2212       | 6.70           | 4.30           | D19            | S175           | A1:4           | 7/2/19         | 1              | 1              | Pop15          | Pop15_APPC2212 |\n",
       "| 23.04          | APPC2304       | 0.13           | 4.37           | D74            | S116           | C1:3           | 7/3/19         | 1              | 0              | Pop06          | Pop06_APPC2304 |\n",
       "| 15.17          | APPC1517       | 0.88           | 4.36           | D10            | S156           | B2:5           | 6/17/19        | 1              | 0              | Pop04          | Pop04_APPC1517 |\n",
       "| 13.18          | APPC1318       | 0.30           | 4.23           | D22            | S103           | B3:1           | 6/12/19        | 1              | 0              | Pop03          | Pop03_APPC1318 |\n",
       "| 24.14          | APPC2414       | 1.03           | 4.30           | D58            | S296           | D3:3           | 7/11/19        | 1              | 0              | Pop07          | Pop07_APPC2414 |\n",
       "| 32.24          | APPC3224       | 0.72           | 4.52           | D5             | S137           | A1:5           | 7/29/19        | 1              | 0              | Pop09          | Pop09_APPC3224 |\n",
       "\n"
      ],
      "text/plain": [
       "  og_larvalID larvalID Ucrit SL   dam sire tank date    Send.to.NJ Group\n",
       "1 22.12       APPC2212 6.70  4.30 D19 S175 A1:4 7/2/19  1          1    \n",
       "2 23.04       APPC2304 0.13  4.37 D74 S116 C1:3 7/3/19  1          0    \n",
       "3 15.17       APPC1517 0.88  4.36 D10 S156 B2:5 6/17/19 1          0    \n",
       "4 13.18       APPC1318 0.30  4.23 D22 S103 B3:1 6/12/19 1          0    \n",
       "5 24.14       APPC2414 1.03  4.30 D58 S296 D3:3 7/11/19 1          0    \n",
       "6 32.24       APPC3224 0.72  4.52 D5  S137 A1:5 7/29/19 1          0    \n",
       "  Capture gen_id        \n",
       "1 Pop15   Pop15_APPC2212\n",
       "2 Pop06   Pop06_APPC2304\n",
       "3 Pop04   Pop04_APPC1517\n",
       "4 Pop03   Pop03_APPC1318\n",
       "5 Pop07   Pop07_APPC2414\n",
       "6 Pop09   Pop09_APPC3224"
      ]
     },
     "metadata": {},
     "output_type": "display_data"
    }
   ],
   "source": [
    "head(shuffle)"
   ]
  },
  {
   "cell_type": "code",
   "execution_count": 146,
   "id": "aa61d9bd",
   "metadata": {},
   "outputs": [],
   "source": [
    "fwrite(shuffle[,.(Group)], \"~/ClownfishGWAS/data/APPC_sequencing/DNA/trimmed_reads/mapping/genotypes/angsd/case_control_pheno_NULL.ybin\")"
   ]
  },
  {
   "cell_type": "code",
   "execution_count": 64,
   "id": "d80ca3b9",
   "metadata": {},
   "outputs": [],
   "source": [
    "ForAngsdUcritQuant <- right_join(left_join(FamID[, -\"V6\"], FullMeta[,.(gen_id, Ucrit)], by=\"gen_id\"), bamlist, by=c(gen_id=\"sample\"))[order(gen_id)][is.na(Ucrit), Ucrit :=-999][, \"Ucrit\"]#[Group==\"High\", Group:=1][Group==\"Low\", Group:=0][, \"Group\"]"
   ]
  },
  {
   "cell_type": "code",
   "execution_count": 66,
   "id": "74314e9a",
   "metadata": {},
   "outputs": [
    {
     "data": {
      "text/html": [
       "<table>\n",
       "<thead><tr><th scope=col>Ucrit</th></tr></thead>\n",
       "<tbody>\n",
       "\t<tr><td>8.13</td></tr>\n",
       "\t<tr><td>1.20</td></tr>\n",
       "\t<tr><td>7.33</td></tr>\n",
       "\t<tr><td>8.82</td></tr>\n",
       "\t<tr><td>7.32</td></tr>\n",
       "\t<tr><td>5.07</td></tr>\n",
       "</tbody>\n",
       "</table>\n"
      ],
      "text/latex": [
       "\\begin{tabular}{r|l}\n",
       " Ucrit\\\\\n",
       "\\hline\n",
       "\t 8.13\\\\\n",
       "\t 1.20\\\\\n",
       "\t 7.33\\\\\n",
       "\t 8.82\\\\\n",
       "\t 7.32\\\\\n",
       "\t 5.07\\\\\n",
       "\\end{tabular}\n"
      ],
      "text/markdown": [
       "\n",
       "| Ucrit |\n",
       "|---|\n",
       "| 8.13 |\n",
       "| 1.20 |\n",
       "| 7.33 |\n",
       "| 8.82 |\n",
       "| 7.32 |\n",
       "| 5.07 |\n",
       "\n"
      ],
      "text/plain": [
       "  Ucrit\n",
       "1 8.13 \n",
       "2 1.20 \n",
       "3 7.33 \n",
       "4 8.82 \n",
       "5 7.32 \n",
       "6 5.07 "
      ]
     },
     "metadata": {},
     "output_type": "display_data"
    }
   ],
   "source": [
    "head(ForAngsdUcritQuant)\n",
    "fwrite(ForAngsdUcritQuant, \"~/ClownfishGWAS/data/APPC_sequencing/DNA/trimmed_reads/mapping/genotypes/angsd/Ucrit_pheno.ybin\")"
   ]
  },
  {
   "cell_type": "code",
   "execution_count": null,
   "id": "696d8410",
   "metadata": {},
   "outputs": [],
   "source": []
  }
 ],
 "metadata": {
  "kernelspec": {
   "display_name": "R",
   "language": "R",
   "name": "ir"
  },
  "language_info": {
   "codemirror_mode": "r",
   "file_extension": ".r",
   "mimetype": "text/x-r-source",
   "name": "R",
   "pygments_lexer": "r",
   "version": "3.6.1"
  }
 },
 "nbformat": 4,
 "nbformat_minor": 5
}
