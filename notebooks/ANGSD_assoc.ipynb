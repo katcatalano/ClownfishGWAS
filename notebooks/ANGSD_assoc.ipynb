{
 "cells": [
  {
   "cell_type": "markdown",
   "id": "f65b3faa",
   "metadata": {},
   "source": [
    "__First use the score test to evalute model with qq plot in plot_pcangsd_assoc.ipynb, then use the EM model to get effect sizes__"
   ]
  },
  {
   "cell_type": "markdown",
   "id": "f08be12c",
   "metadata": {},
   "source": [
    "__make an index for the reference fasta__"
   ]
  },
  {
   "cell_type": "code",
   "execution_count": 50,
   "id": "1a002b57",
   "metadata": {},
   "outputs": [
    {
     "name": "stdout",
     "output_type": "stream",
     "text": [
      "/data/katrinac/APPC_sequencing/DNA/trimmed_reads/mapping/genotypes/angsd\n"
     ]
    }
   ],
   "source": [
    "%cd /data/katrinac/APPC_sequencing/Genome/ensembl/\n",
    "#!mv /data/katrinac/APPC_sequencing/Genome/ensembl/Amphiprion_percula.Nemo_v1.dna.toplevel.fa /data/katrinac/APPC_sequencing/Genome/ensembl/Amphiprion_percula.Nemo_v1.dna.toplevel.fasta #just to rename so samtools recognizes\n",
    "!samtools faidx /data/katrinac/APPC_sequencing/Genome/ensembl/Amphiprion_percula.Nemo_v1.dna.toplevel.fasta"
   ]
  },
  {
   "cell_type": "code",
   "execution_count": 20,
   "id": "da7499d1",
   "metadata": {
    "scrolled": true
   },
   "outputs": [
    {
     "name": "stdout",
     "output_type": "stream",
     "text": [
      "/data/katrinac/APPC_sequencing/DNA/trimmed_reads/mapping/genotypes\n"
     ]
    }
   ],
   "source": [
    "%cd /data/katrinac/APPC_sequencing/DNA/trimmed_reads/mapping/ensembl/genotypes/"
   ]
  },
  {
   "cell_type": "code",
   "execution_count": 84,
   "id": "2b27ecb6",
   "metadata": {},
   "outputs": [
    {
     "name": "stdout",
     "output_type": "stream",
     "text": [
      "\t-> angsd version: 0.933 (htslib: 1.9) build(May  6 2020 21:25:11)\n",
      "\t-> Printing at chr: PYAM01000223.1 pos:31843 chunknumber 126000 contains 2 sitessesDone reading beagle\n",
      "\t-> Done reading data waiting for calculations to finish\n",
      "\t-> Waiting for nThreads:2\n",
      "\t-> Done waiting for threads\n",
      "\t-> Output filenames:\n",
      "\t\t->\"angsd/ucrit_doAssoc4.arg\"\n",
      "\t\t->\"angsd/ucrit_doAssoc4.mafs.gz\"\n",
      "\t\t->\"angsd/ucrit_doAssoc4.lrt0.gz\"\n",
      "\t-> Mon Mar 28 16:02:54 2022\n",
      "\t-> Arguments and parameters for all analysis are located in .arg file\n",
      "\t-> Total number of sites analyzed: 6295267\n",
      "\t-> Number of sites retained after filtering: 6295267 \n",
      "\t[ALL done] cpu-time used =  614.41 sec\n",
      "\t[ALL done] walltime used =  513.00 sec\n"
     ]
    }
   ],
   "source": [
    "!angsd -doAsso 4 -yQuant angsd/Ucrit_pheno.yquant -doMaf 4 -nThreads 40 -assoThres 0.001 -beagle angsd/ensembl_appc_angsd_probs_doGeno8.beagle.gz -fai /data/katrinac/APPC_sequencing/Genome/ensembl/Amphiprion_percula.Nemo_v1.dna.toplevel.fasta.fai -out angsd/ucrit_doAssoc4      "
   ]
  },
  {
   "cell_type": "code",
   "execution_count": 85,
   "id": "3bd53e03",
   "metadata": {
    "scrolled": true
   },
   "outputs": [
    {
     "name": "stdout",
     "output_type": "stream",
     "text": [
      "\t-> angsd version: 0.933 (htslib: 1.9) build(May  6 2020 21:25:11)\n",
      "\t-> SNP-filter using a pvalue: 1.000000e-06 correspond to 23.928127 likelihood units\n",
      "[bammer_main] 159 samples in 159 input files\n",
      "\t-> Parsing 159 number of samples \n",
      "\n",
      "\t-> Allocated ~ 10 million nodes to the nodepool, this is not an estimate of the memory usage\n",
      "\n",
      "\t-> Allocated ~ 20 million nodes to the nodepool, this is not an estimate of the memory usage\n",
      "\n",
      "\t-> Allocated ~ 30 million nodes to the nodepool, this is not an estimate of the memory usage\n",
      "\n",
      "\t-> Allocated ~ 40 million nodes to the nodepool, this is not an estimate of the memory usage\n",
      "\n",
      "\t-> Allocated ~ 50 million nodes to the nodepool, this is not an estimate of the memory usage\n",
      "\n",
      "\t-> Allocated ~ 60 million nodes to the nodepool, this is not an estimate of the memory usage\n",
      "\n",
      "\t-> Allocated ~ 70 million nodes to the nodepool, this is not an estimate of the memory usage\n",
      "\t-> Printing at chr: 1 pos:45978 chunknumber 100 contains 251 sites\n",
      "\t-> Allocated ~ 80 million nodes to the nodepool, this is not an estimate of the memory usage\n",
      "\n",
      "\t-> Allocated ~ 90 million nodes to the nodepool, this is not an estimate of the memory usage\n",
      "\n",
      "\t-> Allocated ~ 100 million nodes to the nodepool, this is not an estimate of the memory usage\n",
      "\n",
      "\t-> Allocated ~ 110 million nodes to the nodepool, this is not an estimate of the memory usage\n",
      "\n",
      "\t-> Allocated ~ 120 million nodes to the nodepool, this is not an estimate of the memory usage\n",
      "\n",
      "\t-> Allocated ~ 130 million nodes to the nodepool, this is not an estimate of the memory usage\n",
      "\n",
      "\t-> Allocated ~ 140 million nodes to the nodepool, this is not an estimate of the memory usage\n",
      "\n",
      "\t-> Allocated ~ 150 million nodes to the nodepool, this is not an estimate of the memory usage\n",
      "\n",
      "\t-> Allocated ~ 160 million nodes to the nodepool, this is not an estimate of the memory usage\n",
      "\n",
      "\t-> Allocated ~ 170 million nodes to the nodepool, this is not an estimate of the memory usage\n",
      "\t-> Printing at chr: 1 pos:944048 chunknumber 1400 contains 344 sites\n",
      "\t-> Allocated ~ 180 million nodes to the nodepool, this is not an estimate of the memory usage\n",
      "\n",
      "\t-> Allocated ~ 190 million nodes to the nodepool, this is not an estimate of the memory usage\n",
      "\t-> Printing at chr: 1 pos:2504968 chunknumber 2900 contains 267 sitess\n",
      "\t-> Allocated ~ 200 million nodes to the nodepool, this is not an estimate of the memory usage\n",
      "\t-> Printing at chr: 1 pos:5209045 chunknumber 4700 contains 714 sitess\n",
      "\t-> Allocated ~ 210 million nodes to the nodepool, this is not an estimate of the memory usage\n",
      "\n",
      "\t-> Allocated ~ 220 million nodes to the nodepool, this is not an estimate of the memory usage\n",
      "\n",
      "\t-> Allocated ~ 230 million nodes to the nodepool, this is not an estimate of the memory usage\n",
      "\n",
      "\t-> Allocated ~ 240 million nodes to the nodepool, this is not an estimate of the memory usage\n",
      "\t-> Printing at chr: 1 pos:10531048 chunknumber 7800 contains 510 sitess\n",
      "\t-> Allocated ~ 250 million nodes to the nodepool, this is not an estimate of the memory usage\n",
      "\t-> Printing at chr: 1 pos:16571248 chunknumber 12100 contains 2022 sites\n",
      "\t-> Allocated ~ 260 million nodes to the nodepool, this is not an estimate of the memory usage\n",
      "\n",
      "\t-> Allocated ~ 270 million nodes to the nodepool, this is not an estimate of the memory usage\n",
      "\t-> Printing at chr: 1 pos:16947108 chunknumber 12300 contains 3951 sites\n",
      "\t-> Allocated ~ 280 million nodes to the nodepool, this is not an estimate of the memory usage\n",
      "\t-> Printing at chr: 1 pos:21621177 chunknumber 14700 contains 406 sitess\n",
      "\t-> Allocated ~ 290 million nodes to the nodepool, this is not an estimate of the memory usage\n",
      "\t-> Printing at chr: 1 pos:40562062 chunknumber 26600 contains 1505 sites\n",
      "\t-> Allocated ~ 300 million nodes to the nodepool, this is not an estimate of the memory usage\n",
      "\n",
      "\t-> Allocated ~ 310 million nodes to the nodepool, this is not an estimate of the memory usage\n",
      "\n",
      "\t-> Allocated ~ 320 million nodes to the nodepool, this is not an estimate of the memory usage\n",
      "\n",
      "\t-> Allocated ~ 330 million nodes to the nodepool, this is not an estimate of the memory usage\n",
      "\n",
      "\t-> Allocated ~ 340 million nodes to the nodepool, this is not an estimate of the memory usage\n",
      "\n",
      "\t-> Allocated ~ 350 million nodes to the nodepool, this is not an estimate of the memory usage\n",
      "\n",
      "\t-> Allocated ~ 360 million nodes to the nodepool, this is not an estimate of the memory usage\n",
      "\n",
      "\t-> Allocated ~ 370 million nodes to the nodepool, this is not an estimate of the memory usage\n",
      "\n",
      "\t-> Allocated ~ 380 million nodes to the nodepool, this is not an estimate of the memory usage\n",
      "\n",
      "\t-> Allocated ~ 390 million nodes to the nodepool, this is not an estimate of the memory usage\n",
      "\n",
      "\t-> Allocated ~ 400 million nodes to the nodepool, this is not an estimate of the memory usage\n",
      "\n",
      "\t-> Allocated ~ 410 million nodes to the nodepool, this is not an estimate of the memory usage\n",
      "\n",
      "\t-> Allocated ~ 420 million nodes to the nodepool, this is not an estimate of the memory usage\n",
      "\n",
      "\t-> Allocated ~ 430 million nodes to the nodepool, this is not an estimate of the memory usage\n",
      "\n",
      "\t-> Allocated ~ 440 million nodes to the nodepool, this is not an estimate of the memory usage\n",
      "\n",
      "\t-> Allocated ~ 450 million nodes to the nodepool, this is not an estimate of the memory usage\n",
      "\t-> Printing at chr: 2 pos:8617331 chunknumber 37700 contains 653 sitesss\n",
      "\t-> Allocated ~ 460 million nodes to the nodepool, this is not an estimate of the memory usage\n",
      "\t-> Printing at chr: 7 pos:3499109 chunknumber 185600 contains 1151 sitess\n",
      "\t-> Allocated ~ 470 million nodes to the nodepool, this is not an estimate of the memory usage\n",
      "\n",
      "\t-> Allocated ~ 480 million nodes to the nodepool, this is not an estimate of the memory usage\n",
      "\n",
      "\t-> Allocated ~ 490 million nodes to the nodepool, this is not an estimate of the memory usage\n",
      "\n",
      "\t-> Allocated ~ 500 million nodes to the nodepool, this is not an estimate of the memory usage\n",
      "\n",
      "\t-> Allocated ~ 510 million nodes to the nodepool, this is not an estimate of the memory usage\n",
      "\t-> Printing at chr: PYAM01000365.1 pos:14532 chunknumber 659700 contains 1022 sitesss\n",
      "\t-> Done reading data waiting for calculations to finish\n",
      "\t-> Done waiting for threads\n",
      "\t-> Output filenames:\n",
      "\t\t->\"angsd/bin_doAssoc2.arg\"\n",
      "\t\t->\"angsd/bin_doAssoc2.mafs.gz\"\n",
      "\t\t->\"angsd/bin_doAssoc2.lrt0.gz\"\n",
      "\t-> Mon Mar 28 22:32:55 2022\n",
      "\t-> Arguments and parameters for all analysis are located in .arg file\n",
      "\t-> Total number of sites analyzed: 903223669\n",
      "\t-> Number of sites retained after filtering: 7596265 \n",
      "\t[ALL done] cpu-time used =  214931.05 sec\n",
      "\t[ALL done] walltime used =  22545.00 sec\n"
     ]
    }
   ],
   "source": [
    "#test with score because hybrid shows nothing significant (maybe wrong gprobs input file?) and doAssoc1 doesn't include covariates\n",
    "!angsd -doAsso 2 -yBin /data/katrinac/APPC_sequencing/DNA/trimmed_reads/mapping/ensembl/genotypes/angsd/case_control_pheno.ybin -GL 1 -doPost 1 -doMajorMinor 1 -SNP_pval 1e-6 -doMaf 1 -bam bamlist.list -P 40 -out angsd/bin_doAssoc2 "
   ]
  }
 ],
 "metadata": {
  "kernelspec": {
   "display_name": "Python 3 (ipykernel)",
   "language": "python",
   "name": "python3"
  },
  "language_info": {
   "codemirror_mode": {
    "name": "ipython",
    "version": 3
   },
   "file_extension": ".py",
   "mimetype": "text/x-python",
   "name": "python",
   "nbconvert_exporter": "python",
   "pygments_lexer": "ipython3",
   "version": "3.7.3"
  }
 },
 "nbformat": 4,
 "nbformat_minor": 5
}
