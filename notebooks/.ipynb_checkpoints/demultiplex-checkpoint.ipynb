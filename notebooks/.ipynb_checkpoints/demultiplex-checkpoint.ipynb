{
 "cells": [
  {
   "cell_type": "markdown",
   "metadata": {},
   "source": [
    "__Demultiplexing the two sequencing libraries using barcode splitter and then trimmatic(?). Following Michelle's demultiplexing steps on https://github.com/pinskylab/genomics/blob/df5c254a0e097da18f49532f748a5a2ae5e1299f/Protocols/01_hiseq_workflow.md as a rough guide, and barcode_splitter.py documentation: https://pypi.org/project/barcode-splitter/__"
   ]
  },
  {
   "cell_type": "markdown",
   "metadata": {},
   "source": [
    "__Start with sequencing library 1__"
   ]
  },
  {
   "cell_type": "code",
   "execution_count": 1,
   "metadata": {},
   "outputs": [
    {
     "name": "stdout",
     "output_type": "stream",
     "text": [
      "/local/home/katrinac/ClownfishGWAS/data/APPC_sequencing\n"
     ]
    }
   ],
   "source": [
    "%cd ~/ClownfishGWAS/data/APPC_sequencing/\n"
   ]
  },
  {
   "cell_type": "markdown",
   "metadata": {},
   "source": [
    "__Each capture (1-16) was a PCR pool, first separate out by PCR pool. First, in SP1__"
   ]
  },
  {
   "cell_type": "code",
   "execution_count": 2,
   "metadata": {},
   "outputs": [
    {
     "name": "stdout",
     "output_type": "stream",
     "text": [
      "/local/home/katrinac/ClownfishGWAS/data/APPC_sequencing/novaseq_2021_03_26_SEQ1\n"
     ]
    }
   ],
   "source": [
    "%cd ~/ClownfishGWAS/data/APPC_sequencing/novaseq_2021_03_26_SEQ1/\n"
   ]
  },
  {
   "cell_type": "markdown",
   "metadata": {},
   "source": [
    "__Find which files the barcodes are in, use ATCACG as the example barcode__"
   ]
  },
  {
   "cell_type": "code",
   "execution_count": 6,
   "metadata": {},
   "outputs": [
    {
     "name": "stdout",
     "output_type": "stream",
     "text": [
      "4\r\n"
     ]
    }
   ],
   "source": [
    "!zcat GCF-KC-4172-SP1-for-138-cycles-H55NJDRXY_2_Read_2_Index_Read_passed_filter.fastq.gz | grep -c \"^ATCACG\""
   ]
  },
  {
   "cell_type": "code",
   "execution_count": 8,
   "metadata": {},
   "outputs": [
    {
     "name": "stdout",
     "output_type": "stream",
     "text": [
      "22910439\r\n"
     ]
    }
   ],
   "source": [
    "!zcat GCF-KC-4172-SP1-for-138-cycles-H55NJDRXY_2_Read_1_passed_filter.fastq.gz | grep -c \"^ATCACG\""
   ]
  },
  {
   "cell_type": "markdown",
   "metadata": {},
   "source": [
    "__Look at the head of the compressed file to see where the barcode position is relative to index__"
   ]
  },
  {
   "cell_type": "code",
   "execution_count": 12,
   "metadata": {},
   "outputs": [
    {
     "name": "stdout",
     "output_type": "stream",
     "text": [
      "ATCACGCACATGAGGACATCAACAGGAACTGACTAGTAAGTCACCTCAGGTGCTGAGGATT\r\n",
      "ATCACGTCGCCTGCATAATTAGCATTTTATTGTCAAGTGTGCGAGCTAAGTCAGTTAATGA\r\n",
      "ATCACGAAAACGATTTCAAACTTGGAATAAATGGCTCAGGACTTGTCTAAAATTAATCAAA\r\n",
      "ATCACGACCTGTTTGTCTCTGAGAGATAGAGACACCACCTGGATTGCAAGGTTGTCCTGCA\r\n",
      "ATCACGAACACTACTTGATGTAATTTATTAATTTGCAAAATTTTCAGCAGTTACAAAAAAA\r\n",
      "ATCACGTCCGTTCGCTAATACCTGGAGGCATGCAGAAGAATAATTTACACTAGTGAGATGA\r\n",
      "ATCACGAGTTACATTTTAGGTCTCTTTTTTTCCTTTTTTCAGTGATGAGAAAGAAAACAAA\r\n",
      "ATCACGTAGGAGTCACCTTGTGCAGCGATACACCTCTTCCAGCACTGTTATCAAGCTTGTA\r\n",
      "ATCACGTCTTCAGTCAAAAAAAGAAAAGTAACAAGTGGAAAGAGCAAATGTGAACATCTTT\r\n",
      "ATCACGAGACTTCCAATTCAAACGCTCCCACAGTAGCTCTGCTAATGACCCAGAGGGCTGT\r\n",
      "grep: write error\r\n",
      "\r\n",
      "gzip: stdout: Broken pipe\r\n"
     ]
    }
   ],
   "source": [
    " !gzip -cd GCF-KC-4172-SP1-for-138-cycles-H55NJDRXY_2_Read_1_passed_filter.fastq.gz | grep \"^ATCACG\" | head"
   ]
  },
  {
   "cell_type": "code",
   "execution_count": 5,
   "metadata": {},
   "outputs": [
    {
     "name": "stdout",
     "output_type": "stream",
     "text": [
      "CATCGAGTCGACTTGCGTAAAGAATACCTTCTAAGAATAGTAGTCAGAATCCTCCACAAAT\n",
      "CATCGACTCGACTTCAGCAGTTCAGACAGCACTGGCTCCACTTCCCCTGCCACCACACCAA\n",
      "CATCGAGTCGACTTCATCTCTGGATGGCATGGAGACAACATGCTGGAGACCAGTGAAAAGA\n",
      "CATCGAGTCGACTTCAGGACTTCACCCACCTTCCGTCGCCCTAAAACCCTCCGTCTCCGCA\n",
      "CATCGAGTCGACTTCAACTTCTACAAGAACTGGCTGGGGCTCGGCCTCTACGAGCGCGACC\n",
      "CATCGAGTCGACTTGTGCAGATCACTGACCCAGACGGGAAGCCGAAGAAGGCCAACATCCG\n",
      "CATCGAGTCGACTTGAAACATCCACAGTACACTCTGGTGGTACAAGCAGCAGACATGGTAG\n",
      "CATCGAGTCGACTTCGGACGGAGTCGCCGTGCTCAAGGTGGGAGGAACCAGTGATGTGGAG\n",
      "CATCGAGTCGACTTATCCTCTCCTGCCTCGCCTTCGCCGGCGCCGCCTACGGTTGCGGTAA\n",
      "CATCGACTCGACTTTTTTTCTATGATGATTTGTACGTTGCTTGTGTGGAAAAATTTAGGGT\n",
      "grep: write error\n",
      "\n",
      "gzip: stdout: Broken pipe\n"
     ]
    }
   ],
   "source": [
    "!gzip -cd GCF-KC-4172-SP1-for-138-cycles-H55NJDRXY_2_Read_4_passed_filter.fastq.gz | grep \"^CATCGA\" | head #reverse compliment of the read one barcode"
   ]
  },
  {
   "cell_type": "code",
   "execution_count": null,
   "metadata": {},
   "outputs": [],
   "source": []
  },
  {
   "cell_type": "markdown",
   "metadata": {},
   "source": [
    "__Okay it looks like the barcode is to the right of the index, left of the read as expected for the forward and reverse reads, and in reverse read the sequence is reversed__"
   ]
  },
  {
   "cell_type": "markdown",
   "metadata": {},
   "source": [
    "__Where is the PCR index? Should be beginning of index read, use ATTACTCG as example__"
   ]
  },
  {
   "cell_type": "code",
   "execution_count": null,
   "metadata": {},
   "outputs": [],
   "source": [
    " !gzip -cd GCF-KC-4172-SP1-for-138-cycles-H55NJDRXY_2_Read_2_Index_Read_passed_filter.fastq.gz | grep \"^ATTACTCG\" | head"
   ]
  },
  {
   "cell_type": "code",
   "execution_count": 9,
   "metadata": {},
   "outputs": [
    {
     "name": "stdout",
     "output_type": "stream",
     "text": [
      "@A00741:178:H55NJDRXY:2:2101:2211:1000 1:N:0:0\r\n",
      "GATCAGAAACCACCTTCTGATACCTGAAATCTCTGAGTTTTCACACAAAGAACACATGAAC\r\n",
      "+\r\n",
      "FFFFF:FFFFF:FFFF:,:FFF,FFFFFFFF:FFFFFFFF:F:,F,FFF,FFFF,,F,:FF\r\n",
      "@A00741:178:H55NJDRXY:2:2101:2230:1000 1:N:0:0\r\n",
      "CGATGTAGAGATTGATAATGTTTGATATTTTCACCACAGTAAAAGAAAGACAGCAACACCC\r\n",
      "+\r\n",
      "FFFFFFFFFFF:::,:F,:FFF:FFFFF,,,FFFF,FFFFFFFFF::FFFFF:FF:,F:FF\r\n",
      "@A00741:178:H55NJDRXY:2:2101:2266:1000 1:N:0:0\r\n",
      "CAGATCATGTTAGCTTAGCTTAGCCTAGCTTAGCATAAACAAAGAAGGTCACAACTGTTAG\r\n",
      "\r\n",
      "gzip: stdout: Broken pipe\r\n"
     ]
    }
   ],
   "source": [
    " !gzip -cd GCF-KC-4172-SP1-for-138-cycles-H55NJDRXY_2_Read_1_passed_filter.fastq.gz | head"
   ]
  },
  {
   "cell_type": "code",
   "execution_count": 6,
   "metadata": {},
   "outputs": [
    {
     "name": "stdout",
     "output_type": "stream",
     "text": [
      "@A00741:178:H55NJDRXY:2:2101:2211:1000 4:N:0:0\r\n",
      "GNTCAGATATAAAATGTGAACTACTTGTTGGGTTCTCTCTGTTCTCATGTATCTTACATGT\r\n",
      "+\r\n",
      "F#FF,:,,FFFF,FFF:::,,:,F:,FF:,,F,,FFF:FFFF,FFFF,F,,F,FFF,FF,:\r\n",
      "@A00741:178:H55NJDRXY:2:2101:2230:1000 4:N:0:0\r\n",
      "CGATGTTAATGGCATTTTTATAGCAAGTATTTAATTGAGTTTCAATAAGAAAAGGAAATAT\r\n",
      "+\r\n",
      "FFFFFF,:FFF,FFFF:F,FFFFFF,FFFFFFFFFFFFFFF::FF,FF:F:FF,FFF::FF\r\n",
      "@A00741:178:H55NJDRXY:2:2101:2266:1000 4:N:0:0\r\n",
      "CAGATCAAGCTAGGCTAAGCTAAGCTAACAGTTCTGACCTTTTCTCCGTCTTTATGCTAAG\r\n",
      "\r\n",
      "gzip: stdout: Broken pipe\r\n"
     ]
    }
   ],
   "source": [
    " !gzip -cd GCF-KC-4172-SP1-for-138-cycles-H55NJDRXY_2_Read_4_passed_filter.fastq.gz | head"
   ]
  },
  {
   "cell_type": "markdown",
   "metadata": {},
   "source": [
    "__Count the number of reads__"
   ]
  },
  {
   "cell_type": "code",
   "execution_count": 2,
   "metadata": {},
   "outputs": [
    {
     "name": "stdout",
     "output_type": "stream",
     "text": [
      "gzip: GCF-KC-4172-SP1-for-138-cycles-H55NJDRXY_2_Read_1_passed_filter.fastq.gz: No such file or directory\n",
      "0\n",
      "536138868\n"
     ]
    }
   ],
   "source": [
    "!zcat GCF-KC-4172-SP1-for-138-cycles-H55NJDRXY_2_Read_1_passed_filter.fastq.gz | wc -l | awk '{print$1/4}'\n",
    "!zcat /local/home/katrinac/ClownfishGWAS/data/APPC_sequencing/novaseq_2021_04_16_SEQ2/GCF-KC-4172-SP2-for-138-cycles-H5MVVDRXY_1_Read_1_passed_filter.fastq.gz  | wc -l | awk '{print$1/4}'"
   ]
  },
  {
   "cell_type": "markdown",
   "metadata": {},
   "source": [
    "__Run barcode splitter in a screen on annotate__"
   ]
  },
  {
   "cell_type": "code",
   "execution_count": 8,
   "metadata": {},
   "outputs": [],
   "source": [
    "#run within screen annotate\n",
    "!/local/home/katrinac/ClownfishGWAS/bioinformatics_scripts/paired_sequence_utils/barcode_splitter.py --bcfile /local/home/katrinac/ClownfishGWAS/data/APPC_sequencing/multiplexing/PCRCapturePoolsSP1.tsv /local/home/katrinac/ClownfishGWAS/data/APPC_sequencing/novaseq_2021_03_26_SEQ1/GCF-KC-4172-SP1-for-138-cycles-H55NJDRXY_2_Read_1_passed_filter.fastq.gz /local/home/katrinac/ClownfishGWAS/data/APPC_sequencing/novaseq_2021_03_26_SEQ1/GCF-KC-4172-SP1-for-138-cycles-H55NJDRXY_2_Read_2_Index_Read_passed_filter.fastq.gz /local/home/katrinac/ClownfishGWAS/data/APPC_sequencing/novaseq_2021_03_26_SEQ1/GCF-KC-4172-SP1-for-138-cycles-H55NJDRXY_2_Read_4_passed_filter.fastq.gz --idxread 2  "
   ]
  },
  {
   "cell_type": "markdown",
   "metadata": {},
   "source": [
    "__Now for SP2__"
   ]
  },
  {
   "cell_type": "code",
   "execution_count": null,
   "metadata": {},
   "outputs": [],
   "source": [
    "%cd ~/ClownfishGWAS/data/APPC_sequencing/novaseq_2021_04_16_SEQ2/bcsplit\n"
   ]
  },
  {
   "cell_type": "code",
   "execution_count": null,
   "metadata": {},
   "outputs": [],
   "source": [
    "#run within screen annotate\n",
    "!/local/home/katrinac/ClownfishGWAS/bioinformatics_scripts/paired_sequence_utils/barcode_splitter.py --bcfile /local/home/katrinac/ClownfishGWAS/data/APPC_sequencing/multiplexing/PCRCapturePoolsSP2.tsv /local/home/katrinac/ClownfishGWAS/data/APPC_sequencing/novaseq_2021_04_16_SEQ2/GCF-KC-4172-SP2-for-138-cycles-H5MVVDRXY_1_Read_1_passed_filter.fastq.gz /local/home/katrinac/ClownfishGWAS/data/APPC_sequencing/novaseq_2021_04_16_SEQ2/GCF-KC-4172-SP2-for-138-cycles-H5MVVDRXY_1_Read_2_Index_Read_passed_filter.fastq.gz /local/home/katrinac/ClownfishGWAS/data/APPC_sequencing/novaseq_2021_04_16_SEQ2/GCF-KC-4172-SP2-for-138-cycles-H5MVVDRXY_1_Read_4_passed_filter.fastq.gz --idxread 2  "
   ]
  },
  {
   "cell_type": "markdown",
   "metadata": {},
   "source": [
    "__Count the number of reads__"
   ]
  },
  {
   "cell_type": "markdown",
   "metadata": {},
   "source": [
    "__Now split out by barcoded adapter sequence using process_shortreads in stacks__"
   ]
  },
  {
   "cell_type": "code",
   "execution_count": 1,
   "metadata": {},
   "outputs": [
    {
     "name": "stdout",
     "output_type": "stream",
     "text": [
      "/local/home/katrinac/ClownfishGWAS/data/APPC_sequencing/novaseq_2021_03_26_SEQ1/bcsplit/adapter_split\n"
     ]
    }
   ],
   "source": [
    "#move to subdirectory\n",
    "%cd ~/ClownfishGWAS/data/APPC_sequencing/novaseq_2021_03_26_SEQ1/bcsplit/adapter_split\n"
   ]
  },
  {
   "cell_type": "code",
   "execution_count": null,
   "metadata": {},
   "outputs": [],
   "source": [
    "!/local/home/katrinac/ClownfishGWAS/bioinformatics_scripts/paired_sequence_utils/barcode_splitter.py \n",
    "--bcfile /local/home/katrinac/ClownfishGWAS/data/APPC_sequencing/multiplexing/PCRCapturePoolsSP2.tsv \n",
    "/local/home/katrinac/ClownfishGWAS/data/APPC_sequencing/novaseq_2021_04_16_SEQ2/GCF-KC-4172-SP2-for-138-cycles-H5MVVDRXY_1_Read_1_passed_filter.fastq.gz \n",
    "/local/home/katrinac/ClownfishGWAS/data/APPC_sequencing/novaseq_2021_04_16_SEQ2/GCF-KC-4172-SP2-for-138-cycles-H5MVVDRXY_1_Read_2_Index_Read_passed_filter.fastq.gz \n",
    "/local/home/katrinac/ClownfishGWAS/data/APPC_sequencing/novaseq_2021_04_16_SEQ2/GCF-KC-4172-SP2-for-138-cycles-H5MVVDRXY_1_Read_4_passed_filter.fastq.gz --idxread 2  "
   ]
  },
  {
   "cell_type": "code",
   "execution_count": 1,
   "metadata": {},
   "outputs": [
    {
     "name": "stdout",
     "output_type": "stream",
     "text": [
      "Using Phred+33 encoding for quality scores.\n",
      "Reads trimmed shorter than 31 nucleotides will be discarded.\n",
      "Found 1 paired input file(s).\n",
      "Searching for single-end, inlined barcodes.\n",
      "Loaded 80 barcodes (6bp).\n",
      "Will attempt to recover barcodes with at most 1 mismatches.\n",
      "Processing file 1 of 1 [CAP1-read-1.fastq.gz]\n",
      "  Reading data from:\n",
      "  /local/home/katrinac/ClownfishGWAS/data/APPC_sequencing/novaseq_2021_03_26_SEQ1/bcsplit/CAP1-read-1.fastq.gz and\n",
      "  /local/home/katrinac/ClownfishGWAS/data/APPC_sequencing/novaseq_2021_03_26_SEQ1/bcsplit/CAP1-read-3.fastq.gz\n",
      "  70969556 total reads; -25601940 ambiguous barcodes; +1360566 recovered; -1159 low quality reads; 45366457 retained reads.\n",
      "    0 trimmed reads; 0 orphaned paired-ends.\n",
      "Closing files, flushing buffers...\n",
      "Outputing details to log: '/local/home/katrinac/ClownfishGWAS/data/APPC_sequencing/novaseq_2021_03_26_SEQ1/bcsplit/adapter_split/process_shortreads.log'\n",
      "\n",
      "70969556 total sequences;\n",
      "  25601940 ambiguous barcode drops;\n",
      "  1159 low quality read drops;\n",
      "  0 trimmed reads;\n",
      "  0 orphaned paired-end reads;\n",
      "45366457 retained reads.\n"
     ]
    }
   ],
   "source": [
    "!process_shortreads -P -o /local/home/katrinac/ClownfishGWAS/data/APPC_sequencing/novaseq_2021_03_26_SEQ1/bcsplit/adapter_split/ -1 /local/home/katrinac/ClownfishGWAS/data/APPC_sequencing/novaseq_2021_03_26_SEQ1/bcsplit/CAP1-read-1.fastq.gz -2 /local/home/katrinac/ClownfishGWAS/data/APPC_sequencing/novaseq_2021_03_26_SEQ1/bcsplit/CAP1-read-3.fastq.gz -b /local/home/katrinac/ClownfishGWAS/data/APPC_sequencing/multiplexing/APPCBarcodesSP1.txt -i gzfastq -r -c -q\n"
   ]
  },
  {
   "cell_type": "code",
   "execution_count": 4,
   "metadata": {
    "scrolled": false
   },
   "outputs": [
    {
     "name": "stdout",
     "output_type": "stream",
     "text": [
      "Using Phred+33 encoding for quality scores.\n",
      "Reads trimmed shorter than 31 nucleotides will be discarded.\n",
      "Found 1 paired input file(s).\n",
      "Searching for single-end, inlined barcodes.\n",
      "Loaded 80 barcodes (6bp).\n",
      "Will attempt to recover barcodes with at most 1 mismatches.\n",
      "Processing file 1 of 1 [CAP2-read-1.fastq.gz]\n",
      "  Reading data from:\n",
      "  /local/home/katrinac/ClownfishGWAS/data/APPC_sequencing/novaseq_2021_03_26_SEQ1/bcsplit/CAP2-read-1.fastq.gz and\n",
      "  /local/home/katrinac/ClownfishGWAS/data/APPC_sequencing/novaseq_2021_03_26_SEQ1/bcsplit/CAP2-read-3.fastq.gz\n",
      "  150796560 total reads; -37816610 ambiguous barcodes; +2271238 recovered; -3017 low quality reads; 112976933 retained reads.\n",
      "    0 trimmed reads; 0 orphaned paired-ends.\n",
      "Closing files, flushing buffers...\n",
      "Outputing details to log: '/local/home/katrinac/ClownfishGWAS/data/APPC_sequencing/novaseq_2021_03_26_SEQ1/bcsplit/adapter_split/Pop02/process_shortreads.log'\n",
      "\n",
      "150796560 total sequences;\n",
      "  37816610 ambiguous barcode drops;\n",
      "  3017 low quality read drops;\n",
      "  0 trimmed reads;\n",
      "  0 orphaned paired-end reads;\n",
      "112976933 retained reads.\n",
      "Using Phred+33 encoding for quality scores.\n",
      "Reads trimmed shorter than 31 nucleotides will be discarded.\n",
      "Found 1 paired input file(s).\n",
      "Searching for single-end, inlined barcodes.\n",
      "Loaded 80 barcodes (6bp).\n",
      "Will attempt to recover barcodes with at most 1 mismatches.\n",
      "Processing file 1 of 1 [CAP3-read-1.fastq.gz]\n",
      "  Reading data from:\n",
      "  /local/home/katrinac/ClownfishGWAS/data/APPC_sequencing/novaseq_2021_03_26_SEQ1/bcsplit/CAP3-read-1.fastq.gz and\n",
      "  /local/home/katrinac/ClownfishGWAS/data/APPC_sequencing/novaseq_2021_03_26_SEQ1/bcsplit/CAP3-read-3.fastq.gz\n",
      "  23549162 total reads; -5524336 ambiguous barcodes; +333960 recovered; -484 low quality reads; 18024342 retained reads.\n",
      "    0 trimmed reads; 0 orphaned paired-ends.\n",
      "Closing files, flushing buffers...\n",
      "Outputing details to log: '/local/home/katrinac/ClownfishGWAS/data/APPC_sequencing/novaseq_2021_03_26_SEQ1/bcsplit/adapter_split/Pop03/process_shortreads.log'\n",
      "\n",
      "23549162 total sequences;\n",
      "  5524336 ambiguous barcode drops;\n",
      "  484 low quality read drops;\n",
      "  0 trimmed reads;\n",
      "  0 orphaned paired-end reads;\n",
      "18024342 retained reads.\n",
      "Using Phred+33 encoding for quality scores.\n",
      "Reads trimmed shorter than 31 nucleotides will be discarded.\n",
      "Found 1 paired input file(s).\n",
      "Searching for single-end, inlined barcodes.\n",
      "Loaded 80 barcodes (6bp).\n",
      "Will attempt to recover barcodes with at most 1 mismatches.\n",
      "Processing file 1 of 1 [CAP4-read-1.fastq.gz]\n",
      "  Reading data from:\n",
      "  /local/home/katrinac/ClownfishGWAS/data/APPC_sequencing/novaseq_2021_03_26_SEQ1/bcsplit/CAP4-read-1.fastq.gz and\n",
      "  /local/home/katrinac/ClownfishGWAS/data/APPC_sequencing/novaseq_2021_03_26_SEQ1/bcsplit/CAP4-read-3.fastq.gz\n",
      "  193297268 total reads; -40779412 ambiguous barcodes; +2654968 recovered; -4254 low quality reads; 152513602 retained reads.\n",
      "    0 trimmed reads; 0 orphaned paired-ends.\n",
      "Closing files, flushing buffers...\n",
      "Outputing details to log: '/local/home/katrinac/ClownfishGWAS/data/APPC_sequencing/novaseq_2021_03_26_SEQ1/bcsplit/adapter_split/Pop04/process_shortreads.log'\n",
      "\n",
      "193297268 total sequences;\n",
      "  40779412 ambiguous barcode drops;\n",
      "  4254 low quality read drops;\n",
      "  0 trimmed reads;\n",
      "  0 orphaned paired-end reads;\n",
      "152513602 retained reads.\n",
      "Using Phred+33 encoding for quality scores.\n",
      "Reads trimmed shorter than 31 nucleotides will be discarded.\n",
      "Found 1 paired input file(s).\n",
      "Searching for single-end, inlined barcodes.\n",
      "Loaded 80 barcodes (6bp).\n",
      "Will attempt to recover barcodes with at most 1 mismatches.\n",
      "Processing file 1 of 1 [CAP5-read-1.fastq.gz]\n",
      "  Reading data from:\n",
      "  /local/home/katrinac/ClownfishGWAS/data/APPC_sequencing/novaseq_2021_03_26_SEQ1/bcsplit/CAP5-read-1.fastq.gz and\n",
      "  /local/home/katrinac/ClownfishGWAS/data/APPC_sequencing/novaseq_2021_03_26_SEQ1/bcsplit/CAP5-read-3.fastq.gz\n",
      "  162187432 total reads; -31503218 ambiguous barcodes; +2101446 recovered; -3391 low quality reads; 130680823 retained reads.\n",
      "    0 trimmed reads; 0 orphaned paired-ends.\n",
      "Closing files, flushing buffers...\n",
      "Outputing details to log: '/local/home/katrinac/ClownfishGWAS/data/APPC_sequencing/novaseq_2021_03_26_SEQ1/bcsplit/adapter_split/Pop05/process_shortreads.log'\n",
      "\n",
      "162187432 total sequences;\n",
      "  31503218 ambiguous barcode drops;\n",
      "  3391 low quality read drops;\n",
      "  0 trimmed reads;\n",
      "  0 orphaned paired-end reads;\n",
      "130680823 retained reads.\n",
      "Using Phred+33 encoding for quality scores.\n",
      "Reads trimmed shorter than 31 nucleotides will be discarded.\n",
      "Found 1 paired input file(s).\n",
      "Searching for single-end, inlined barcodes.\n",
      "Loaded 80 barcodes (6bp).\n",
      "Will attempt to recover barcodes with at most 1 mismatches.\n",
      "Processing file 1 of 1 [CAP6-read-1.fastq.gz]\n",
      "  Reading data from:\n",
      "  /local/home/katrinac/ClownfishGWAS/data/APPC_sequencing/novaseq_2021_03_26_SEQ1/bcsplit/CAP6-read-1.fastq.gz and\n",
      "  /local/home/katrinac/ClownfishGWAS/data/APPC_sequencing/novaseq_2021_03_26_SEQ1/bcsplit/CAP6-read-3.fastq.gz\n",
      "  156355252 total reads; -38523358 ambiguous barcodes; +2331824 recovered; -3112 low quality reads; 117828782 retained reads.\n",
      "    0 trimmed reads; 0 orphaned paired-ends.\n",
      "Closing files, flushing buffers...\n",
      "Outputing details to log: '/local/home/katrinac/ClownfishGWAS/data/APPC_sequencing/novaseq_2021_03_26_SEQ1/bcsplit/adapter_split/Pop06/process_shortreads.log'\n",
      "\n",
      "156355252 total sequences;\n",
      "  38523358 ambiguous barcode drops;\n",
      "  3112 low quality read drops;\n",
      "  0 trimmed reads;\n",
      "  0 orphaned paired-end reads;\n",
      "117828782 retained reads.\n",
      "Using Phred+33 encoding for quality scores.\n",
      "Reads trimmed shorter than 31 nucleotides will be discarded.\n",
      "Found 1 paired input file(s).\n",
      "Searching for single-end, inlined barcodes.\n",
      "Loaded 80 barcodes (6bp).\n",
      "Will attempt to recover barcodes with at most 1 mismatches.\n",
      "Processing file 1 of 1 [CAP7-read-1.fastq.gz]\n",
      "  Reading data from:\n",
      "  /local/home/katrinac/ClownfishGWAS/data/APPC_sequencing/novaseq_2021_03_26_SEQ1/bcsplit/CAP7-read-1.fastq.gz and\n",
      "  /local/home/katrinac/ClownfishGWAS/data/APPC_sequencing/novaseq_2021_03_26_SEQ1/bcsplit/CAP7-read-3.fastq.gz\n",
      "  100791938 total reads; -24177280 ambiguous barcodes; +1499424 recovered; -2131 low quality reads; 76612527 retained reads.\n",
      "    0 trimmed reads; 0 orphaned paired-ends.\n",
      "Closing files, flushing buffers...\n",
      "Outputing details to log: '/local/home/katrinac/ClownfishGWAS/data/APPC_sequencing/novaseq_2021_03_26_SEQ1/bcsplit/adapter_split/Pop07/process_shortreads.log'\n",
      "\n",
      "100791938 total sequences;\n",
      "  24177280 ambiguous barcode drops;\n",
      "  2131 low quality read drops;\n",
      "  0 trimmed reads;\n",
      "  0 orphaned paired-end reads;\n",
      "76612527 retained reads.\n",
      "Using Phred+33 encoding for quality scores.\n",
      "Reads trimmed shorter than 31 nucleotides will be discarded.\n",
      "Found 1 paired input file(s).\n",
      "Searching for single-end, inlined barcodes.\n",
      "Loaded 80 barcodes (6bp).\n",
      "Will attempt to recover barcodes with at most 1 mismatches.\n",
      "Processing file 1 of 1 [CAP8-read-1.fastq.gz]\n",
      "  Reading data from:\n",
      "  /local/home/katrinac/ClownfishGWAS/data/APPC_sequencing/novaseq_2021_03_26_SEQ1/bcsplit/CAP8-read-1.fastq.gz and\n",
      "  /local/home/katrinac/ClownfishGWAS/data/APPC_sequencing/novaseq_2021_03_26_SEQ1/bcsplit/CAP8-read-3.fastq.gz\n",
      "  171623374 total reads; -36203400 ambiguous barcodes; +2213836 recovered; -3589 low quality reads; 135416385 retained reads.\n",
      "    0 trimmed reads; 0 orphaned paired-ends.\n",
      "Closing files, flushing buffers...\n",
      "Outputing details to log: '/local/home/katrinac/ClownfishGWAS/data/APPC_sequencing/novaseq_2021_03_26_SEQ1/bcsplit/adapter_split/Pop08/process_shortreads.log'\n",
      "\n",
      "171623374 total sequences;\n",
      "  36203400 ambiguous barcode drops;\n",
      "  3589 low quality read drops;\n",
      "  0 trimmed reads;\n",
      "  0 orphaned paired-end reads;\n",
      "135416385 retained reads.\n"
     ]
    }
   ],
   "source": [
    "!process_shortreads -P -o /local/home/katrinac/ClownfishGWAS/data/APPC_sequencing/novaseq_2021_03_26_SEQ1/bcsplit/adapter_split/Pop02 -1 /local/home/katrinac/ClownfishGWAS/data/APPC_sequencing/novaseq_2021_03_26_SEQ1/bcsplit/CAP2-read-1.fastq.gz -2 /local/home/katrinac/ClownfishGWAS/data/APPC_sequencing/novaseq_2021_03_26_SEQ1/bcsplit/CAP2-read-3.fastq.gz -b /local/home/katrinac/ClownfishGWAS/data/APPC_sequencing/multiplexing/APPCBarcodesSP1.txt -i gzfastq -r -c -q\n",
    "!process_shortreads -P -o /local/home/katrinac/ClownfishGWAS/data/APPC_sequencing/novaseq_2021_03_26_SEQ1/bcsplit/adapter_split/Pop03 -1 /local/home/katrinac/ClownfishGWAS/data/APPC_sequencing/novaseq_2021_03_26_SEQ1/bcsplit/CAP3-read-1.fastq.gz -2 /local/home/katrinac/ClownfishGWAS/data/APPC_sequencing/novaseq_2021_03_26_SEQ1/bcsplit/CAP3-read-3.fastq.gz -b /local/home/katrinac/ClownfishGWAS/data/APPC_sequencing/multiplexing/APPCBarcodesSP1.txt -i gzfastq -r -c -q\n",
    "!process_shortreads -P -o /local/home/katrinac/ClownfishGWAS/data/APPC_sequencing/novaseq_2021_03_26_SEQ1/bcsplit/adapter_split/Pop04 -1 /local/home/katrinac/ClownfishGWAS/data/APPC_sequencing/novaseq_2021_03_26_SEQ1/bcsplit/CAP4-read-1.fastq.gz -2 /local/home/katrinac/ClownfishGWAS/data/APPC_sequencing/novaseq_2021_03_26_SEQ1/bcsplit/CAP4-read-3.fastq.gz -b /local/home/katrinac/ClownfishGWAS/data/APPC_sequencing/multiplexing/APPCBarcodesSP1.txt -i gzfastq -r -c -q\n",
    "!process_shortreads -P -o /local/home/katrinac/ClownfishGWAS/data/APPC_sequencing/novaseq_2021_03_26_SEQ1/bcsplit/adapter_split/Pop05 -1 /local/home/katrinac/ClownfishGWAS/data/APPC_sequencing/novaseq_2021_03_26_SEQ1/bcsplit/CAP5-read-1.fastq.gz -2 /local/home/katrinac/ClownfishGWAS/data/APPC_sequencing/novaseq_2021_03_26_SEQ1/bcsplit/CAP5-read-3.fastq.gz -b /local/home/katrinac/ClownfishGWAS/data/APPC_sequencing/multiplexing/APPCBarcodesSP1.txt -i gzfastq -r -c -q\n",
    "!process_shortreads -P -o /local/home/katrinac/ClownfishGWAS/data/APPC_sequencing/novaseq_2021_03_26_SEQ1/bcsplit/adapter_split/Pop06 -1 /local/home/katrinac/ClownfishGWAS/data/APPC_sequencing/novaseq_2021_03_26_SEQ1/bcsplit/CAP6-read-1.fastq.gz -2 /local/home/katrinac/ClownfishGWAS/data/APPC_sequencing/novaseq_2021_03_26_SEQ1/bcsplit/CAP6-read-3.fastq.gz -b /local/home/katrinac/ClownfishGWAS/data/APPC_sequencing/multiplexing/APPCBarcodesSP1.txt -i gzfastq -r -c -q\n",
    "!process_shortreads -P -o /local/home/katrinac/ClownfishGWAS/data/APPC_sequencing/novaseq_2021_03_26_SEQ1/bcsplit/adapter_split/Pop07 -1 /local/home/katrinac/ClownfishGWAS/data/APPC_sequencing/novaseq_2021_03_26_SEQ1/bcsplit/CAP7-read-1.fastq.gz -2 /local/home/katrinac/ClownfishGWAS/data/APPC_sequencing/novaseq_2021_03_26_SEQ1/bcsplit/CAP7-read-3.fastq.gz -b /local/home/katrinac/ClownfishGWAS/data/APPC_sequencing/multiplexing/APPCBarcodesSP1.txt -i gzfastq -r -c -q\n",
    "!process_shortreads -P -o /local/home/katrinac/ClownfishGWAS/data/APPC_sequencing/novaseq_2021_03_26_SEQ1/bcsplit/adapter_split/Pop08 -1 /local/home/katrinac/ClownfishGWAS/data/APPC_sequencing/novaseq_2021_03_26_SEQ1/bcsplit/CAP8-read-1.fastq.gz -2 /local/home/katrinac/ClownfishGWAS/data/APPC_sequencing/novaseq_2021_03_26_SEQ1/bcsplit/CAP8-read-3.fastq.gz -b /local/home/katrinac/ClownfishGWAS/data/APPC_sequencing/multiplexing/APPCBarcodesSP1.txt -i gzfastq -r -c -q\n"
   ]
  },
  {
   "cell_type": "code",
   "execution_count": 3,
   "metadata": {},
   "outputs": [
    {
     "name": "stdout",
     "output_type": "stream",
     "text": [
      "Using Phred+33 encoding for quality scores.\n",
      "Reads trimmed shorter than 31 nucleotides will be discarded.\n",
      "Found 1 paired input file(s).\n",
      "Searching for single-end, inlined barcodes.\n",
      "Loaded 79 barcodes (6bp).\n",
      "Will attempt to recover barcodes with at most 1 mismatches.\n",
      "Processing file 1 of 1 [CAP9-read-1.fastq.gz]\n",
      "  Reading data from:\n",
      "  /local/home/katrinac/ClownfishGWAS/data/APPC_sequencing/novaseq_2021_04_16_SEQ2/bcsplit/CAP9-read-1.fastq.gz and\n",
      "  /local/home/katrinac/ClownfishGWAS/data/APPC_sequencing/novaseq_2021_04_16_SEQ2/bcsplit/CAP9-read-3.fastq.gz\n",
      "  102226984 total reads; -19396756 ambiguous barcodes; +1442176 recovered; -3331 low quality reads; 82826897 retained reads.\n",
      "    0 trimmed reads; 0 orphaned paired-ends.\n",
      "Closing files, flushing buffers...\n",
      "Outputing details to log: '/local/home/katrinac/ClownfishGWAS/data/APPC_sequencing/novaseq_2021_04_16_SEQ2/bcsplit/adapter_split/Pop09/process_shortreads.log'\n",
      "\n",
      "102226984 total sequences;\n",
      "  19396756 ambiguous barcode drops;\n",
      "  3331 low quality read drops;\n",
      "  0 trimmed reads;\n",
      "  0 orphaned paired-end reads;\n",
      "82826897 retained reads.\n",
      "Using Phred+33 encoding for quality scores.\n",
      "Reads trimmed shorter than 31 nucleotides will be discarded.\n",
      "Found 1 paired input file(s).\n",
      "Searching for single-end, inlined barcodes.\n",
      "Loaded 79 barcodes (6bp).\n",
      "Will attempt to recover barcodes with at most 1 mismatches.\n",
      "Processing file 1 of 1 [CAP10-read-1.fastq.gz]\n",
      "  Reading data from:\n",
      "  /local/home/katrinac/ClownfishGWAS/data/APPC_sequencing/novaseq_2021_04_16_SEQ2/bcsplit/CAP10-read-1.fastq.gz and\n",
      "  /local/home/katrinac/ClownfishGWAS/data/APPC_sequencing/novaseq_2021_04_16_SEQ2/bcsplit/CAP10-read-3.fastq.gz\n",
      "  121683042 total reads; -19850448 ambiguous barcodes; +1411136 recovered; -4353 low quality reads; 101828241 retained reads.\n",
      "    0 trimmed reads; 0 orphaned paired-ends.\n",
      "Closing files, flushing buffers...\n",
      "Outputing details to log: '/local/home/katrinac/ClownfishGWAS/data/APPC_sequencing/novaseq_2021_04_16_SEQ2/bcsplit/adapter_split/Pop10/process_shortreads.log'\n",
      "\n",
      "121683042 total sequences;\n",
      "  19850448 ambiguous barcode drops;\n",
      "  4353 low quality read drops;\n",
      "  0 trimmed reads;\n",
      "  0 orphaned paired-end reads;\n",
      "101828241 retained reads.\n",
      "Using Phred+33 encoding for quality scores.\n",
      "Reads trimmed shorter than 31 nucleotides will be discarded.\n",
      "Found 1 paired input file(s).\n",
      "Searching for single-end, inlined barcodes.\n",
      "Loaded 79 barcodes (6bp).\n",
      "Will attempt to recover barcodes with at most 1 mismatches.\n",
      "Processing file 1 of 1 [CAP11-read-1.fastq.gz]\n",
      "  Reading data from:\n",
      "  /local/home/katrinac/ClownfishGWAS/data/APPC_sequencing/novaseq_2021_04_16_SEQ2/bcsplit/CAP11-read-1.fastq.gz and\n",
      "  /local/home/katrinac/ClownfishGWAS/data/APPC_sequencing/novaseq_2021_04_16_SEQ2/bcsplit/CAP11-read-3.fastq.gz\n",
      "  154359232 total reads; -32701216 ambiguous barcodes; +2138102 recovered; -5048 low quality reads; 121652968 retained reads.\n",
      "    0 trimmed reads; 0 orphaned paired-ends.\n",
      "Closing files, flushing buffers...\n",
      "Outputing details to log: '/local/home/katrinac/ClownfishGWAS/data/APPC_sequencing/novaseq_2021_04_16_SEQ2/bcsplit/adapter_split/Pop11/process_shortreads.log'\n",
      "\n",
      "154359232 total sequences;\n",
      "  32701216 ambiguous barcode drops;\n",
      "  5048 low quality read drops;\n",
      "  0 trimmed reads;\n",
      "  0 orphaned paired-end reads;\n",
      "121652968 retained reads.\n",
      "Using Phred+33 encoding for quality scores.\n",
      "Reads trimmed shorter than 31 nucleotides will be discarded.\n",
      "Found 1 paired input file(s).\n",
      "Searching for single-end, inlined barcodes.\n",
      "Loaded 79 barcodes (6bp).\n",
      "Will attempt to recover barcodes with at most 1 mismatches.\n",
      "Processing file 1 of 1 [CAP12-read-1.fastq.gz]\n",
      "  Reading data from:\n",
      "  /local/home/katrinac/ClownfishGWAS/data/APPC_sequencing/novaseq_2021_04_16_SEQ2/bcsplit/CAP12-read-1.fastq.gz and\n",
      "  /local/home/katrinac/ClownfishGWAS/data/APPC_sequencing/novaseq_2021_04_16_SEQ2/bcsplit/CAP12-read-3.fastq.gz\n",
      "  126780830 total reads; -21369668 ambiguous barcodes; +1578100 recovered; -4416 low quality reads; 105406746 retained reads.\n",
      "    0 trimmed reads; 0 orphaned paired-ends.\n",
      "Closing files, flushing buffers...\n",
      "Outputing details to log: '/local/home/katrinac/ClownfishGWAS/data/APPC_sequencing/novaseq_2021_04_16_SEQ2/bcsplit/adapter_split/Pop12/process_shortreads.log'\n",
      "\n",
      "126780830 total sequences;\n",
      "  21369668 ambiguous barcode drops;\n",
      "  4416 low quality read drops;\n",
      "  0 trimmed reads;\n",
      "  0 orphaned paired-end reads;\n",
      "105406746 retained reads.\n",
      "Using Phred+33 encoding for quality scores.\n",
      "Reads trimmed shorter than 31 nucleotides will be discarded.\n",
      "Found 1 paired input file(s).\n",
      "Searching for single-end, inlined barcodes.\n",
      "Loaded 79 barcodes (6bp).\n",
      "Will attempt to recover barcodes with at most 1 mismatches.\n",
      "Processing file 1 of 1 [CAP13-read-1.fastq.gz]\n",
      "  Reading data from:\n",
      "  /local/home/katrinac/ClownfishGWAS/data/APPC_sequencing/novaseq_2021_04_16_SEQ2/bcsplit/CAP13-read-1.fastq.gz and\n",
      "  /local/home/katrinac/ClownfishGWAS/data/APPC_sequencing/novaseq_2021_04_16_SEQ2/bcsplit/CAP13-read-3.fastq.gz\n",
      "  154045442 total reads; -22222414 ambiguous barcodes; +1970814 recovered; -5414 low quality reads; 131817614 retained reads.\n",
      "    0 trimmed reads; 0 orphaned paired-ends.\n",
      "Closing files, flushing buffers...\n",
      "Outputing details to log: '/local/home/katrinac/ClownfishGWAS/data/APPC_sequencing/novaseq_2021_04_16_SEQ2/bcsplit/adapter_split/Pop13/process_shortreads.log'\n",
      "\n",
      "154045442 total sequences;\n",
      "  22222414 ambiguous barcode drops;\n",
      "  5414 low quality read drops;\n",
      "  0 trimmed reads;\n",
      "  0 orphaned paired-end reads;\n",
      "131817614 retained reads.\n",
      "Using Phred+33 encoding for quality scores.\n",
      "Reads trimmed shorter than 31 nucleotides will be discarded.\n",
      "Found 1 paired input file(s).\n",
      "Searching for single-end, inlined barcodes.\n",
      "Loaded 79 barcodes (6bp).\n",
      "Will attempt to recover barcodes with at most 1 mismatches.\n",
      "Processing file 1 of 1 [CAP14-read-1.fastq.gz]\n",
      "  Reading data from:\n",
      "  /local/home/katrinac/ClownfishGWAS/data/APPC_sequencing/novaseq_2021_04_16_SEQ2/bcsplit/CAP14-read-1.fastq.gz and\n",
      "  /local/home/katrinac/ClownfishGWAS/data/APPC_sequencing/novaseq_2021_04_16_SEQ2/bcsplit/CAP14-read-3.fastq.gz\n",
      "  199061192 total reads; -36543022 ambiguous barcodes; +2553646 recovered; -6662 low quality reads; 162511508 retained reads.\n",
      "    0 trimmed reads; 0 orphaned paired-ends.\n",
      "Closing files, flushing buffers...\n",
      "Outputing details to log: '/local/home/katrinac/ClownfishGWAS/data/APPC_sequencing/novaseq_2021_04_16_SEQ2/bcsplit/adapter_split/Pop14/process_shortreads.log'\n",
      "\n",
      "199061192 total sequences;\n",
      "  36543022 ambiguous barcode drops;\n",
      "  6662 low quality read drops;\n",
      "  0 trimmed reads;\n",
      "  0 orphaned paired-end reads;\n",
      "162511508 retained reads.\n",
      "Using Phred+33 encoding for quality scores.\n",
      "Reads trimmed shorter than 31 nucleotides will be discarded.\n",
      "Found 1 paired input file(s).\n",
      "Searching for single-end, inlined barcodes.\n",
      "Loaded 79 barcodes (6bp).\n",
      "Will attempt to recover barcodes with at most 1 mismatches.\n",
      "Processing file 1 of 1 [CAP15-read-1.fastq.gz]\n",
      "  Reading data from:\n",
      "  /local/home/katrinac/ClownfishGWAS/data/APPC_sequencing/novaseq_2021_04_16_SEQ2/bcsplit/CAP15-read-1.fastq.gz and\n",
      "  /local/home/katrinac/ClownfishGWAS/data/APPC_sequencing/novaseq_2021_04_16_SEQ2/bcsplit/CAP15-read-3.fastq.gz\n",
      "  102603150 total reads; -24705754 ambiguous barcodes; +1560380 recovered; -3020 low quality reads; 77894376 retained reads.\n",
      "    0 trimmed reads; 0 orphaned paired-ends.\n",
      "Closing files, flushing buffers...\n",
      "Outputing details to log: '/local/home/katrinac/ClownfishGWAS/data/APPC_sequencing/novaseq_2021_04_16_SEQ2/bcsplit/adapter_split/Pop15/process_shortreads.log'\n",
      "\n",
      "102603150 total sequences;\n",
      "  24705754 ambiguous barcode drops;\n",
      "  3020 low quality read drops;\n",
      "  0 trimmed reads;\n",
      "  0 orphaned paired-end reads;\n",
      "77894376 retained reads.\n",
      "Using Phred+33 encoding for quality scores.\n",
      "Reads trimmed shorter than 31 nucleotides will be discarded.\n",
      "Found 1 paired input file(s).\n",
      "Searching for single-end, inlined barcodes.\n",
      "Loaded 79 barcodes (6bp).\n",
      "Will attempt to recover barcodes with at most 1 mismatches.\n",
      "Processing file 1 of 1 [CAP16-read-1.fastq.gz]\n",
      "  Reading data from:\n",
      "  /local/home/katrinac/ClownfishGWAS/data/APPC_sequencing/novaseq_2021_04_16_SEQ2/bcsplit/CAP16-read-1.fastq.gz and\n",
      "  /local/home/katrinac/ClownfishGWAS/data/APPC_sequencing/novaseq_2021_04_16_SEQ2/bcsplit/CAP16-read-3.fastq.gz\n"
     ]
    },
    {
     "name": "stdout",
     "output_type": "stream",
     "text": [
      "  98426718 total reads; -25737598 ambiguous barcodes; +1543504 recovered; -2931 low quality reads; 72686189 retained reads.\n",
      "    0 trimmed reads; 0 orphaned paired-ends.\n",
      "Closing files, flushing buffers...\n",
      "Outputing details to log: '/local/home/katrinac/ClownfishGWAS/data/APPC_sequencing/novaseq_2021_04_16_SEQ2/bcsplit/adapter_split/Pop16/process_shortreads.log'\n",
      "\n",
      "98426718 total sequences;\n",
      "  25737598 ambiguous barcode drops;\n",
      "  2931 low quality read drops;\n",
      "  0 trimmed reads;\n",
      "  0 orphaned paired-end reads;\n",
      "72686189 retained reads.\n"
     ]
    }
   ],
   "source": [
    "!process_shortreads -P -o /local/home/katrinac/ClownfishGWAS/data/APPC_sequencing/novaseq_2021_04_16_SEQ2/bcsplit/adapter_split/Pop09 -1 /local/home/katrinac/ClownfishGWAS/data/APPC_sequencing/novaseq_2021_04_16_SEQ2/bcsplit/CAP9-read-1.fastq.gz -2 /local/home/katrinac/ClownfishGWAS/data/APPC_sequencing/novaseq_2021_04_16_SEQ2/bcsplit/CAP9-read-3.fastq.gz -b /local/home/katrinac/ClownfishGWAS/data/APPC_sequencing/multiplexing/APPCBarcodesSP2.txt -i gzfastq -r -c -q\n",
    "!process_shortreads -P -o /local/home/katrinac/ClownfishGWAS/data/APPC_sequencing/novaseq_2021_04_16_SEQ2/bcsplit/adapter_split/Pop10 -1 /local/home/katrinac/ClownfishGWAS/data/APPC_sequencing/novaseq_2021_04_16_SEQ2/bcsplit/CAP10-read-1.fastq.gz -2 /local/home/katrinac/ClownfishGWAS/data/APPC_sequencing/novaseq_2021_04_16_SEQ2/bcsplit/CAP10-read-3.fastq.gz -b /local/home/katrinac/ClownfishGWAS/data/APPC_sequencing/multiplexing/APPCBarcodesSP2.txt -i gzfastq -r -c -q\n",
    "!process_shortreads -P -o /local/home/katrinac/ClownfishGWAS/data/APPC_sequencing/novaseq_2021_04_16_SEQ2/bcsplit/adapter_split/Pop11 -1 /local/home/katrinac/ClownfishGWAS/data/APPC_sequencing/novaseq_2021_04_16_SEQ2/bcsplit/CAP11-read-1.fastq.gz -2 /local/home/katrinac/ClownfishGWAS/data/APPC_sequencing/novaseq_2021_04_16_SEQ2/bcsplit/CAP11-read-3.fastq.gz -b /local/home/katrinac/ClownfishGWAS/data/APPC_sequencing/multiplexing/APPCBarcodesSP2.txt -i gzfastq -r -c -q\n",
    "!process_shortreads -P -o /local/home/katrinac/ClownfishGWAS/data/APPC_sequencing/novaseq_2021_04_16_SEQ2/bcsplit/adapter_split/Pop12 -1 /local/home/katrinac/ClownfishGWAS/data/APPC_sequencing/novaseq_2021_04_16_SEQ2/bcsplit/CAP12-read-1.fastq.gz -2 /local/home/katrinac/ClownfishGWAS/data/APPC_sequencing/novaseq_2021_04_16_SEQ2/bcsplit/CAP12-read-3.fastq.gz -b /local/home/katrinac/ClownfishGWAS/data/APPC_sequencing/multiplexing/APPCBarcodesSP2.txt -i gzfastq -r -c -q\n",
    "!process_shortreads -P -o /local/home/katrinac/ClownfishGWAS/data/APPC_sequencing/novaseq_2021_04_16_SEQ2/bcsplit/adapter_split/Pop13 -1 /local/home/katrinac/ClownfishGWAS/data/APPC_sequencing/novaseq_2021_04_16_SEQ2/bcsplit/CAP13-read-1.fastq.gz -2 /local/home/katrinac/ClownfishGWAS/data/APPC_sequencing/novaseq_2021_04_16_SEQ2/bcsplit/CAP13-read-3.fastq.gz -b /local/home/katrinac/ClownfishGWAS/data/APPC_sequencing/multiplexing/APPCBarcodesSP2.txt -i gzfastq -r -c -q\n",
    "!process_shortreads -P -o /local/home/katrinac/ClownfishGWAS/data/APPC_sequencing/novaseq_2021_04_16_SEQ2/bcsplit/adapter_split/Pop14 -1 /local/home/katrinac/ClownfishGWAS/data/APPC_sequencing/novaseq_2021_04_16_SEQ2/bcsplit/CAP14-read-1.fastq.gz -2 /local/home/katrinac/ClownfishGWAS/data/APPC_sequencing/novaseq_2021_04_16_SEQ2/bcsplit/CAP14-read-3.fastq.gz -b /local/home/katrinac/ClownfishGWAS/data/APPC_sequencing/multiplexing/APPCBarcodesSP2.txt -i gzfastq -r -c -q\n",
    "!process_shortreads -P -o /local/home/katrinac/ClownfishGWAS/data/APPC_sequencing/novaseq_2021_04_16_SEQ2/bcsplit/adapter_split/Pop15 -1 /local/home/katrinac/ClownfishGWAS/data/APPC_sequencing/novaseq_2021_04_16_SEQ2/bcsplit/CAP15-read-1.fastq.gz -2 /local/home/katrinac/ClownfishGWAS/data/APPC_sequencing/novaseq_2021_04_16_SEQ2/bcsplit/CAP15-read-3.fastq.gz -b /local/home/katrinac/ClownfishGWAS/data/APPC_sequencing/multiplexing/APPCBarcodesSP2.txt -i gzfastq -r -c -q\n",
    "!process_shortreads -P -o /local/home/katrinac/ClownfishGWAS/data/APPC_sequencing/novaseq_2021_04_16_SEQ2/bcsplit/adapter_split/Pop16 -1 /local/home/katrinac/ClownfishGWAS/data/APPC_sequencing/novaseq_2021_04_16_SEQ2/bcsplit/CAP16-read-1.fastq.gz -2 /local/home/katrinac/ClownfishGWAS/data/APPC_sequencing/novaseq_2021_04_16_SEQ2/bcsplit/CAP16-read-3.fastq.gz -b /local/home/katrinac/ClownfishGWAS/data/APPC_sequencing/multiplexing/APPCBarcodesSP2.txt -i gzfastq -r -c -q\n"
   ]
  },
  {
   "cell_type": "markdown",
   "metadata": {},
   "source": [
    "__CAP12-16 got cutoff when server disconnected, start again__"
   ]
  },
  {
   "cell_type": "code",
   "execution_count": 1,
   "metadata": {},
   "outputs": [
    {
     "name": "stdout",
     "output_type": "stream",
     "text": [
      "Using Phred+33 encoding for quality scores.\n",
      "Reads trimmed shorter than 31 nucleotides will be discarded.\n",
      "Found 1 paired input file(s).\n",
      "Searching for single-end, inlined barcodes.\n",
      "Loaded 79 barcodes (6bp).\n",
      "Will attempt to recover barcodes with at most 1 mismatches.\n",
      "Processing file 1 of 1 [CAP12-read-1.fastq.gz]\n",
      "  Reading data from:\n",
      "  /local/home/katrinac/ClownfishGWAS/data/APPC_sequencing/novaseq_2021_04_16_SEQ2/bcsplit/CAP12-read-1.fastq.gz and\n",
      "  /local/home/katrinac/ClownfishGWAS/data/APPC_sequencing/novaseq_2021_04_16_SEQ2/bcsplit/CAP12-read-3.fastq.gz\n",
      "  126780830 total reads; -21369668 ambiguous barcodes; +1578100 recovered; -4416 low quality reads; 105406746 retained reads.\n",
      "    0 trimmed reads; 0 orphaned paired-ends.\n",
      "Closing files, flushing buffers...\n",
      "Outputing details to log: '/local/home/katrinac/ClownfishGWAS/data/APPC_sequencing/novaseq_2021_04_16_SEQ2/bcsplit/adapter_split/CAP12/process_shortreads.log'\n",
      "\n",
      "126780830 total sequences;\n",
      "  21369668 ambiguous barcode drops;\n",
      "  4416 low quality read drops;\n",
      "  0 trimmed reads;\n",
      "  0 orphaned paired-end reads;\n",
      "105406746 retained reads.\n",
      "Using Phred+33 encoding for quality scores.\n",
      "Reads trimmed shorter than 31 nucleotides will be discarded.\n",
      "Found 1 paired input file(s).\n",
      "Searching for single-end, inlined barcodes.\n",
      "Loaded 79 barcodes (6bp).\n",
      "Will attempt to recover barcodes with at most 1 mismatches.\n",
      "Processing file 1 of 1 [CAP13-read-1.fastq.gz]\n",
      "  Reading data from:\n",
      "  /local/home/katrinac/ClownfishGWAS/data/APPC_sequencing/novaseq_2021_04_16_SEQ2/bcsplit/CAP13-read-1.fastq.gz and\n",
      "  /local/home/katrinac/ClownfishGWAS/data/APPC_sequencing/novaseq_2021_04_16_SEQ2/bcsplit/CAP13-read-3.fastq.gz\n",
      "  154045442 total reads; -22222414 ambiguous barcodes; +1970814 recovered; -5414 low quality reads; 131817614 retained reads.\n",
      "    0 trimmed reads; 0 orphaned paired-ends.\n",
      "Closing files, flushing buffers...\n",
      "Outputing details to log: '/local/home/katrinac/ClownfishGWAS/data/APPC_sequencing/novaseq_2021_04_16_SEQ2/bcsplit/adapter_split/CAP13/process_shortreads.log'\n",
      "\n",
      "154045442 total sequences;\n",
      "  22222414 ambiguous barcode drops;\n",
      "  5414 low quality read drops;\n",
      "  0 trimmed reads;\n",
      "  0 orphaned paired-end reads;\n",
      "131817614 retained reads.\n",
      "Using Phred+33 encoding for quality scores.\n",
      "Reads trimmed shorter than 31 nucleotides will be discarded.\n",
      "Found 1 paired input file(s).\n",
      "Searching for single-end, inlined barcodes.\n",
      "Loaded 79 barcodes (6bp).\n",
      "Will attempt to recover barcodes with at most 1 mismatches.\n",
      "Processing file 1 of 1 [CAP14-read-1.fastq.gz]\n",
      "  Reading data from:\n",
      "  /local/home/katrinac/ClownfishGWAS/data/APPC_sequencing/novaseq_2021_04_16_SEQ2/bcsplit/CAP14-read-1.fastq.gz and\n",
      "  /local/home/katrinac/ClownfishGWAS/data/APPC_sequencing/novaseq_2021_04_16_SEQ2/bcsplit/CAP14-read-3.fastq.gz\n",
      "  199061192 total reads; -36543022 ambiguous barcodes; +2553646 recovered; -6662 low quality reads; 162511508 retained reads.\n",
      "    0 trimmed reads; 0 orphaned paired-ends.\n",
      "Closing files, flushing buffers...\n",
      "Outputing details to log: '/local/home/katrinac/ClownfishGWAS/data/APPC_sequencing/novaseq_2021_04_16_SEQ2/bcsplit/adapter_split/CAP14/process_shortreads.log'\n",
      "\n",
      "199061192 total sequences;\n",
      "  36543022 ambiguous barcode drops;\n",
      "  6662 low quality read drops;\n",
      "  0 trimmed reads;\n",
      "  0 orphaned paired-end reads;\n",
      "162511508 retained reads.\n",
      "Using Phred+33 encoding for quality scores.\n",
      "Reads trimmed shorter than 31 nucleotides will be discarded.\n",
      "Found 1 paired input file(s).\n",
      "Searching for single-end, inlined barcodes.\n",
      "Loaded 79 barcodes (6bp).\n",
      "Will attempt to recover barcodes with at most 1 mismatches.\n",
      "Processing file 1 of 1 [CAP15-read-1.fastq.gz]\n",
      "  Reading data from:\n",
      "  /local/home/katrinac/ClownfishGWAS/data/APPC_sequencing/novaseq_2021_04_16_SEQ2/bcsplit/CAP15-read-1.fastq.gz and\n",
      "  /local/home/katrinac/ClownfishGWAS/data/APPC_sequencing/novaseq_2021_04_16_SEQ2/bcsplit/CAP15-read-3.fastq.gz\n",
      "  102603150 total reads; -24705754 ambiguous barcodes; +1560380 recovered; -3020 low quality reads; 77894376 retained reads.\n",
      "    0 trimmed reads; 0 orphaned paired-ends.\n",
      "Closing files, flushing buffers...\n",
      "Outputing details to log: '/local/home/katrinac/ClownfishGWAS/data/APPC_sequencing/novaseq_2021_04_16_SEQ2/bcsplit/adapter_split/CAP15/process_shortreads.log'\n",
      "\n",
      "102603150 total sequences;\n",
      "  24705754 ambiguous barcode drops;\n",
      "  3020 low quality read drops;\n",
      "  0 trimmed reads;\n",
      "  0 orphaned paired-end reads;\n",
      "77894376 retained reads.\n",
      "Using Phred+33 encoding for quality scores.\n",
      "Reads trimmed shorter than 31 nucleotides will be discarded.\n",
      "Found 1 paired input file(s).\n",
      "Searching for single-end, inlined barcodes.\n",
      "Loaded 79 barcodes (6bp).\n",
      "Will attempt to recover barcodes with at most 1 mismatches.\n",
      "Processing file 1 of 1 [CAP16-read-1.fastq.gz]\n",
      "  Reading data from:\n",
      "  /local/home/katrinac/ClownfishGWAS/data/APPC_sequencing/novaseq_2021_04_16_SEQ2/bcsplit/CAP16-read-1.fastq.gz and\n",
      "  /local/home/katrinac/ClownfishGWAS/data/APPC_sequencing/novaseq_2021_04_16_SEQ2/bcsplit/CAP16-read-3.fastq.gz\n",
      "  98426718 total reads; -25737598 ambiguous barcodes; +1543504 recovered; -2931 low quality reads; 72686189 retained reads.\n",
      "    0 trimmed reads; 0 orphaned paired-ends.\n",
      "Closing files, flushing buffers...\n",
      "Outputing details to log: '/local/home/katrinac/ClownfishGWAS/data/APPC_sequencing/novaseq_2021_04_16_SEQ2/bcsplit/adapter_split/CAP16/process_shortreads.log'\n",
      "\n",
      "98426718 total sequences;\n",
      "  25737598 ambiguous barcode drops;\n",
      "  2931 low quality read drops;\n",
      "  0 trimmed reads;\n",
      "  0 orphaned paired-end reads;\n",
      "72686189 retained reads.\n"
     ]
    }
   ],
   "source": [
    "!process_shortreads -P -o /local/home/katrinac/ClownfishGWAS/data/APPC_sequencing/novaseq_2021_04_16_SEQ2/bcsplit/adapter_split/CAP12 -1 /local/home/katrinac/ClownfishGWAS/data/APPC_sequencing/novaseq_2021_04_16_SEQ2/bcsplit/CAP12-read-1.fastq.gz -2 /local/home/katrinac/ClownfishGWAS/data/APPC_sequencing/novaseq_2021_04_16_SEQ2/bcsplit/CAP12-read-3.fastq.gz -b /local/home/katrinac/ClownfishGWAS/data/APPC_sequencing/multiplexing/APPCBarcodesSP2.txt -i gzfastq -r -c -q\n",
    "!process_shortreads -P -o /local/home/katrinac/ClownfishGWAS/data/APPC_sequencing/novaseq_2021_04_16_SEQ2/bcsplit/adapter_split/CAP13 -1 /local/home/katrinac/ClownfishGWAS/data/APPC_sequencing/novaseq_2021_04_16_SEQ2/bcsplit/CAP13-read-1.fastq.gz -2 /local/home/katrinac/ClownfishGWAS/data/APPC_sequencing/novaseq_2021_04_16_SEQ2/bcsplit/CAP13-read-3.fastq.gz -b /local/home/katrinac/ClownfishGWAS/data/APPC_sequencing/multiplexing/APPCBarcodesSP2.txt -i gzfastq -r -c -q\n",
    "!process_shortreads -P -o /local/home/katrinac/ClownfishGWAS/data/APPC_sequencing/novaseq_2021_04_16_SEQ2/bcsplit/adapter_split/CAP14 -1 /local/home/katrinac/ClownfishGWAS/data/APPC_sequencing/novaseq_2021_04_16_SEQ2/bcsplit/CAP14-read-1.fastq.gz -2 /local/home/katrinac/ClownfishGWAS/data/APPC_sequencing/novaseq_2021_04_16_SEQ2/bcsplit/CAP14-read-3.fastq.gz -b /local/home/katrinac/ClownfishGWAS/data/APPC_sequencing/multiplexing/APPCBarcodesSP2.txt -i gzfastq -r -c -q\n",
    "!process_shortreads -P -o /local/home/katrinac/ClownfishGWAS/data/APPC_sequencing/novaseq_2021_04_16_SEQ2/bcsplit/adapter_split/CAP15 -1 /local/home/katrinac/ClownfishGWAS/data/APPC_sequencing/novaseq_2021_04_16_SEQ2/bcsplit/CAP15-read-1.fastq.gz -2 /local/home/katrinac/ClownfishGWAS/data/APPC_sequencing/novaseq_2021_04_16_SEQ2/bcsplit/CAP15-read-3.fastq.gz -b /local/home/katrinac/ClownfishGWAS/data/APPC_sequencing/multiplexing/APPCBarcodesSP2.txt -i gzfastq -r -c -q\n",
    "!process_shortreads -P -o /local/home/katrinac/ClownfishGWAS/data/APPC_sequencing/novaseq_2021_04_16_SEQ2/bcsplit/adapter_split/CAP16 -1 /local/home/katrinac/ClownfishGWAS/data/APPC_sequencing/novaseq_2021_04_16_SEQ2/bcsplit/CAP16-read-1.fastq.gz -2 /local/home/katrinac/ClownfishGWAS/data/APPC_sequencing/novaseq_2021_04_16_SEQ2/bcsplit/CAP16-read-3.fastq.gz -b /local/home/katrinac/ClownfishGWAS/data/APPC_sequencing/multiplexing/APPCBarcodesSP2.txt -i gzfastq -r -c -q\n"
   ]
  },
  {
   "cell_type": "markdown",
   "metadata": {},
   "source": [
    "__Follow the EecSeq Bioinformatics pipeline: https://github.com/jpuritz/EecSeq/tree/master/Bioinformatics__"
   ]
  },
  {
   "cell_type": "markdown",
   "metadata": {},
   "source": [
    "__copy the de-multiplexed data to the ddocent DNA directory__"
   ]
  },
  {
   "cell_type": "code",
   "execution_count": null,
   "metadata": {},
   "outputs": [],
   "source": [
    "!cp -r ~/ClownfishGWAS/data/APPC_sequencing/novaseq_2021_03_26_SEQ1/bcsplit/adapter_split/ ~/ClownfishGWAS/data/APPC_sequencing/DNA/adapter_split_seq1\n",
    "!cp -r  ~/ClownfishGWAS/data/APPC_sequencing/novaseq_2021_04_16_SEQ2/bcsplit/adapter_split/ ~/ClownfishGWAS/data/APPC_sequencing/DNA/adapter_split_seq2\n"
   ]
  },
  {
   "cell_type": "code",
   "execution_count": 3,
   "metadata": {},
   "outputs": [
    {
     "name": "stdout",
     "output_type": "stream",
     "text": [
      "/local/home/katrinac/ClownfishGWAS/notebooks\r\n"
     ]
    }
   ],
   "source": []
  },
  {
   "cell_type": "code",
   "execution_count": 5,
   "metadata": {},
   "outputs": [
    {
     "name": "stdout",
     "output_type": "stream",
     "text": [
      "/usr/bin/sh: ./dDocent_ngs.sh: No such file or directory\r\n"
     ]
    }
   ],
   "source": []
  },
  {
   "cell_type": "code",
   "execution_count": null,
   "metadata": {},
   "outputs": [],
   "source": [
    "!mv ~/ClownfishGWAS/data/APPC_sequencing/novaseq_2021_04_16_SEQ2/bcsplit/adapter_split/ ~/ClownfishGWAS/data/APPC_sequencing/DNA/\n",
    "!mv ~/ClownfishGWAS/data/APPC_sequencing/novaseq_2021_03_26_SEQ1/bcsplit/adapter_split/ ~/ClownfishGWAS/data/APPC_sequencing/DNA/\n"
   ]
  },
  {
   "cell_type": "code",
   "execution_count": 7,
   "metadata": {},
   "outputs": [
    {
     "name": "stdout",
     "output_type": "stream",
     "text": [
      "/usr/bin/rename\r\n"
     ]
    }
   ],
   "source": [
    "!cd ~/ClownfishGWAS/data/APPC_sequencing/DNA/adapter_split_seq1/adapter_split/Pop01 | sh ~/ClownfishGWAS/bioinformatics_scripts/rename.for.dDocent ~/ClownfishGWAS/data/APPC_sequencing/DNA/adapter_split_seq1/SP1names.tsv "
   ]
  },
  {
   "cell_type": "code",
   "execution_count": null,
   "metadata": {},
   "outputs": [],
   "source": [
    "!cd ~/ClownfishGWAS/data/APPC_sequencing/DNA/adapter_split_seq1/adapter_split/Pop02 \n",
    "!sh ~/ClownfishGWAS/bioinformatics_scripts/rename.for.dDocent ~/ClownfishGWAS/data/APPC_sequencing/DNA/adapter_split_seq1/SP1names.tsv\n",
    "!cd ~/ClownfishGWAS/data/APPC_sequencing/DNA/adapter_split_seq1/adapter_split/Pop03 \n",
    "!sh ~/ClownfishGWAS/bioinformatics_scripts/rename.for.dDocent ~/ClownfishGWAS/data/APPC_sequencing/DNA/adapter_split_seq1/SP1names.tsv \n",
    "!cd ~/ClownfishGWAS/data/APPC_sequencing/DNA/adapter_split_seq1/adapter_split/Pop04 \n",
    "!sh ~/ClownfishGWAS/bioinformatics_scripts/rename.for.dDocent ~/ClownfishGWAS/data/APPC_sequencing/DNA/adapter_split_seq1/SP1names.tsv\n",
    "!cd ~/ClownfishGWAS/data/APPC_sequencing/DNA/adapter_split_seq1/adapter_split/Pop05 \n",
    "!sh ~/ClownfishGWAS/bioinformatics_scripts/rename.for.dDocent ~/ClownfishGWAS/data/APPC_sequencing/DNA/adapter_split_seq1/SP1names.tsv\n",
    "!cd ~/ClownfishGWAS/data/APPC_sequencing/DNA/adapter_split_seq1/adapter_split/Pop06 \n",
    "!sh ~/ClownfishGWAS/bioinformatics_scripts/rename.for.dDocent ~/ClownfishGWAS/data/APPC_sequencing/DNA/adapter_split_seq1/SP1names.tsv\n",
    "!cd ~/ClownfishGWAS/data/APPC_sequencing/DNA/adapter_split_seq1/adapter_split/Pop07 \n",
    "!sh ~/ClownfishGWAS/bioinformatics_scripts/rename.for.dDocent ~/ClownfishGWAS/data/APPC_sequencing/DNA/adapter_split_seq1/SP1names.tsv\n",
    "!cd ~/ClownfishGWAS/data/APPC_sequencing/DNA/adapter_split_seq1/adapter_split/Pop08 \n",
    "!sh ~/ClownfishGWAS/bioinformatics_scripts/rename.for.dDocent ~/ClownfishGWAS/data/APPC_sequencing/DNA/adapter_split_seq1/SP1names.tsv "
   ]
  },
  {
   "cell_type": "code",
   "execution_count": 13,
   "metadata": {},
   "outputs": [
    {
     "name": "stdout",
     "output_type": "stream",
     "text": [
      "/local/home/katrinac/ClownfishGWAS/notebooks\r\n"
     ]
    }
   ],
   "source": [
    "!cd ~/ClownfishGWAS/data/APPC_sequencing/DNA/adapter_split_seq2/adapter_split/Pop09 \n",
    "!sh ~/ClownfishGWAS/bioinformatics_scripts/rename.for.dDocent ~/ClownfishGWAS/data/APPC_sequencing/DNA/adapter_split_seq2/SP2names.tsv !cd ~/ClownfishGWAS/data/APPC_sequencing/DNA/adapter_split_seq1/adapter_split/Pop02 !sh ~/ClownfishGWAS/bioinformatics_scripts/rename.for.dDocent ~/ClownfishGWAS/data/APPC_sequencing/DNA/adapter_split_seq1/SP1names.tsv\n",
    "!cd ~/ClownfishGWAS/data/APPC_sequencing/DNA/adapter_split_seq2/adapter_split/Pop10 \n",
    "!sh ~/ClownfishGWAS/bioinformatics_scripts/rename.for.dDocent ~/ClownfishGWAS/data/APPC_sequencing/DNA/adapter_split_seq2/SP2names.tsv \n",
    "!cd ~/ClownfishGWAS/data/APPC_sequencing/DNA/adapter_split_seq2/adapter_split/Pop11 \n",
    "!sh ~/ClownfishGWAS/bioinformatics_scripts/rename.for.dDocent ~/ClownfishGWAS/data/APPC_sequencing/DNA/adapter_split_seq2/SP2names.tsv\n",
    "!cd ~/ClownfishGWAS/data/APPC_sequencing/DNA/adapter_split_seq2/adapter_split/Pop12 \n",
    "!sh ~/ClownfishGWAS/bioinformatics_scripts/rename.for.dDocent ~/ClownfishGWAS/data/APPC_sequencing/DNA/adapter_split_seq2/SP2names.tsv\n",
    "!cd ~/ClownfishGWAS/data/APPC_sequencing/DNA/adapter_split_seq2/adapter_split/Pop13 \n",
    "!sh ~/ClownfishGWAS/bioinformatics_scripts/rename.for.dDocent ~/ClownfishGWAS/data/APPC_sequencing/DNA/adapter_split_seq2/SP2names.tsv\n",
    "!cd ~/ClownfishGWAS/data/APPC_sequencing/DNA/adapter_split_seq2/adapter_split/Pop14 \n",
    "!sh ~/ClownfishGWAS/bioinformatics_scripts/rename.for.dDocent ~/ClownfishGWAS/data/APPC_sequencing/DNA/adapter_split_seq2/SP2names.tsv\n",
    "!cd ~/ClownfishGWAS/data/APPC_sequencing/DNA/adapter_split_seq2/adapter_split/Pop15 \n",
    "!sh ~/ClownfishGWAS/bioinformatics_scripts/rename.for.dDocent ~/ClownfishGWAS/data/APPC_sequencing/DNA/adapter_split_seq2/SP2names.tsv \n",
    "!cd ~/ClownfishGWAS/data/APPC_sequencing/DNA/adapter_split_seq2/adapter_split/Pop16 \n",
    "!sh ~/ClownfishGWAS/bioinformatics_scripts/rename.for.dDocent ~/ClownfishGWAS/data/APPC_sequencing/DNA/adapter_split_seq2/SP2names.tsv "
   ]
  },
  {
   "cell_type": "code",
   "execution_count": null,
   "metadata": {},
   "outputs": [],
   "source": [
    "!cd ~/ClownfishGWAS/data/APPC_sequencing/DNA/adapter_split_seq1/\n",
    "!find */ -type f -exec bash -c 'file=${1#./}; echo mv \"$file\" \"${file//\\//_}\"' _ '{}' \\; #remove echo when it looks right"
   ]
  },
  {
   "cell_type": "code",
   "execution_count": null,
   "metadata": {},
   "outputs": [],
   "source": []
  }
 ],
 "metadata": {
  "kernelspec": {
   "display_name": "Python 3",
   "language": "python",
   "name": "python3"
  },
  "language_info": {
   "codemirror_mode": {
    "name": "ipython",
    "version": 3
   },
   "file_extension": ".py",
   "mimetype": "text/x-python",
   "name": "python",
   "nbconvert_exporter": "python",
   "pygments_lexer": "ipython3",
   "version": "3.7.3"
  }
 },
 "nbformat": 4,
 "nbformat_minor": 2
}
