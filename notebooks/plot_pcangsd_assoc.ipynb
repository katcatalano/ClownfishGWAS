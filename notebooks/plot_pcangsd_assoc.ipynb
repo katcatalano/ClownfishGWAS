{
 "cells": [
  {
   "cell_type": "code",
   "execution_count": 375,
   "id": "1e11f42d",
   "metadata": {
    "scrolled": true
   },
   "outputs": [
    {
     "name": "stderr",
     "output_type": "stream",
     "text": [
      "Loading required package: BiocGenerics\n",
      "Loading required package: parallel\n",
      "\n",
      "Attaching package: ‘BiocGenerics’\n",
      "\n",
      "The following objects are masked from ‘package:parallel’:\n",
      "\n",
      "    clusterApply, clusterApplyLB, clusterCall, clusterEvalQ,\n",
      "    clusterExport, clusterMap, parApply, parCapply, parLapply,\n",
      "    parLapplyLB, parRapply, parSapply, parSapplyLB\n",
      "\n",
      "The following objects are masked from ‘package:dplyr’:\n",
      "\n",
      "    combine, intersect, setdiff, union\n",
      "\n",
      "The following objects are masked from ‘package:stats’:\n",
      "\n",
      "    IQR, mad, sd, var, xtabs\n",
      "\n",
      "The following objects are masked from ‘package:base’:\n",
      "\n",
      "    anyDuplicated, append, as.data.frame, basename, cbind, colnames,\n",
      "    dirname, do.call, duplicated, eval, evalq, Filter, Find, get, grep,\n",
      "    grepl, intersect, is.unsorted, lapply, Map, mapply, match, mget,\n",
      "    order, paste, pmax, pmax.int, pmin, pmin.int, Position, rank,\n",
      "    rbind, Reduce, rownames, sapply, setdiff, sort, table, tapply,\n",
      "    union, unique, unsplit, which, which.max, which.min\n",
      "\n",
      "Loading required package: graph\n",
      "Loading required package: Biobase\n",
      "Welcome to Bioconductor\n",
      "\n",
      "    Vignettes contain introductory material; view with\n",
      "    'browseVignettes()'. To cite Bioconductor, see\n",
      "    'citation(\"Biobase\")', and for packages 'citation(\"pkgname\")'.\n",
      "\n",
      "Loading required package: GO.db\n",
      "Loading required package: AnnotationDbi\n",
      "Loading required package: stats4\n",
      "Loading required package: IRanges\n",
      "Loading required package: S4Vectors\n",
      "\n",
      "Attaching package: ‘S4Vectors’\n",
      "\n",
      "The following objects are masked from ‘package:dplyr’:\n",
      "\n",
      "    first, rename\n",
      "\n",
      "The following objects are masked from ‘package:data.table’:\n",
      "\n",
      "    first, second\n",
      "\n",
      "The following object is masked from ‘package:base’:\n",
      "\n",
      "    expand.grid\n",
      "\n",
      "\n",
      "Attaching package: ‘IRanges’\n",
      "\n",
      "The following objects are masked from ‘package:dplyr’:\n",
      "\n",
      "    collapse, desc, slice\n",
      "\n",
      "The following object is masked from ‘package:data.table’:\n",
      "\n",
      "    shift\n",
      "\n",
      "\n",
      "Attaching package: ‘AnnotationDbi’\n",
      "\n",
      "The following object is masked from ‘package:dplyr’:\n",
      "\n",
      "    select\n",
      "\n",
      "\n",
      "Loading required package: SparseM\n",
      "\n",
      "Attaching package: ‘SparseM’\n",
      "\n",
      "The following object is masked from ‘package:base’:\n",
      "\n",
      "    backsolve\n",
      "\n",
      "\n",
      "groupGOTerms: \tGOBPTerm, GOMFTerm, GOCCTerm environments built.\n",
      "\n",
      "Attaching package: ‘topGO’\n",
      "\n",
      "The following object is masked from ‘package:IRanges’:\n",
      "\n",
      "    members\n",
      "\n"
     ]
    }
   ],
   "source": [
    "library(data.table)\n",
    "library(ggplot2)\n",
    "library(dplyr)\n",
    "library(viridis)\n",
    "library(qqman)\n",
    "library(qvalue)\n",
    "library(topGO)\n",
    "\"%!in%\" <- function(x,table) match(x,table, nomatch = 0) == 0\n"
   ]
  },
  {
   "cell_type": "code",
   "execution_count": null,
   "id": "22ebb7a2",
   "metadata": {
    "scrolled": true
   },
   "outputs": [],
   "source": []
  },
  {
   "cell_type": "code",
   "execution_count": null,
   "id": "f63d7bf0",
   "metadata": {},
   "outputs": [],
   "source": []
  },
  {
   "cell_type": "code",
   "execution_count": null,
   "id": "700e592a",
   "metadata": {},
   "outputs": [],
   "source": [
    "#check out angsd results\n",
    "#hwe <- fread(\"~/ClownfishGWAS/data/APPC_sequencing/DNA/trimmed_reads/mapping/genotypes/angsd/appc_angsd.hwe.gz\")\n",
    "#setnames(hwe, 9, \"p\")\n",
    "#nrow(hwe)"
   ]
  },
  {
   "cell_type": "code",
   "execution_count": null,
   "id": "29b34647",
   "metadata": {
    "scrolled": false
   },
   "outputs": [],
   "source": [
    "#plot(hwe$hweFreq, hwe$Freq) #no super obvious het problems"
   ]
  },
  {
   "cell_type": "markdown",
   "id": "4cf61414",
   "metadata": {},
   "source": [
    "__make a sites file to filter out linked loci with pcangsd__"
   ]
  },
  {
   "cell_type": "code",
   "execution_count": null,
   "id": "7b9275c8",
   "metadata": {
    "scrolled": true
   },
   "outputs": [],
   "source": [
    "#how do maf and calls across ind look- also make sites files for angsd and filter sites for pcangsd\n",
    "sites <- fread(\"/data/katrinac/APPC_sequencing/DNA/trimmed_reads/mapping/genotypes/angsd/appc_angsd_probs.hwe.gz\")\n",
    "#head(sites)\n",
    "unlinked <- fread(\"/data/katrinac/APPC_sequencing/DNA/trimmed_reads/mapping/genotypes/angsd/ngsld/appc_unlinked_for_angsd.txt\")\n",
    "setnames(unlinked, 1:2, c(\"Chromo\", \"Position\"))\n",
    "unlinked[, filter := 1] #when ngsld has kept the site, mark with 1 so pcangsd knows to keep it\n",
    "test_filter_sites <- left_join(sites, unlinked) #join with full sites dt and mark linked  sites with 0\n",
    "#head(test_filter_sites)\n",
    "#nrow(test_filter_sites)==nrow(sites) #check that this is true\n",
    "test_filter_sites[is.na(filter), filter := 0]\n",
    "#write out for pcangsd\n",
    "#fwrite(test_filter_sites[,.(filter)], \"/data/katrinac/APPC_sequencing/DNA/trimmed_reads/mapping/genotypes/angsd/ngsld/filter_linked_sites_pcangsd.txt\", col.names = F)"
   ]
  },
  {
   "cell_type": "markdown",
   "id": "faff55cc",
   "metadata": {},
   "source": [
    "__make positions file for angsd to restrict to unlinked sites__"
   ]
  },
  {
   "cell_type": "code",
   "execution_count": null,
   "id": "03c29101",
   "metadata": {},
   "outputs": [],
   "source": [
    "nrow(maf[, .N, by=\"chromo\"])\n",
    "pyam <- unique(maf[chromo %like% \"PYAM\"], by=\"chromo\")[, chromo] #add the PYAM sites together\n",
    "names <- maf[chromo %!in% pyam, .N, by=\"chromo\"][, \"chromo\"] #get a list of chromosome labels\n",
    "names_with_pyam <- rbind(names, matrix(nrow=1, ncol=1, \"PYAM\"), use.names=F)\n",
    "#fwrite(names_with_pyam, \"/data/katrinac/APPC_sequencing/DNA/trimmed_reads/mapping/ensembl/genotypes/angsd/ngsld/chromosomes.txt\", col.names =F)"
   ]
  },
  {
   "cell_type": "markdown",
   "id": "d39d4e39",
   "metadata": {},
   "source": [
    "__plot the pcangsd results, color by phenotypes in the association__"
   ]
  },
  {
   "cell_type": "code",
   "execution_count": 23,
   "id": "3d38b2f3",
   "metadata": {},
   "outputs": [],
   "source": [
    "pca <- fread(\"/data/katrinac/APPC_sequencing/DNA/trimmed_reads/mapping/genotypes/angsd/output.pcangsd.cov\")"
   ]
  },
  {
   "cell_type": "code",
   "execution_count": null,
   "id": "db040d81",
   "metadata": {},
   "outputs": [],
   "source": [
    "dim(pca)"
   ]
  },
  {
   "cell_type": "code",
   "execution_count": 24,
   "id": "e3bc8d1f",
   "metadata": {},
   "outputs": [],
   "source": [
    "#get eigenvalues\n",
    "ev <-eigen(pca)\n",
    "ev_dt <- data.table(ev$vectors[,1:10])\n",
    "setnames(ev_dt, c(\"pc1\", \"pc2\", \"pc3\", \"pc4\", \"pc5\", \"pc6\", \"pc7\", \"pc8\", \"pc9\", \"pc10\"))"
   ]
  },
  {
   "cell_type": "code",
   "execution_count": 25,
   "id": "8f363c8f",
   "metadata": {},
   "outputs": [
    {
     "data": {
      "text/html": [
       "<ol class=list-inline>\n",
       "\t<li>0.210885555983261</li>\n",
       "\t<li>0.0062272850025134</li>\n",
       "\t<li>0.0061880268434476</li>\n",
       "\t<li>0.00617843139528632</li>\n",
       "\t<li>0.00617028084762233</li>\n",
       "\t<li>0.00615620961315134</li>\n",
       "\t<li>0.00613652519868877</li>\n",
       "\t<li>0.0061207494145299</li>\n",
       "\t<li>0.00610014282352716</li>\n",
       "\t<li>0.00609207127211212</li>\n",
       "\t<li>0.00608862103628452</li>\n",
       "\t<li>0.0060857328154089</li>\n",
       "\t<li>0.00606717708141316</li>\n",
       "\t<li>0.00605735377700024</li>\n",
       "\t<li>0.00605104157316021</li>\n",
       "\t<li>0.00604675873750819</li>\n",
       "\t<li>0.00603827756503153</li>\n",
       "\t<li>0.00603619972402579</li>\n",
       "\t<li>0.00603443634919234</li>\n",
       "\t<li>0.00600957428843795</li>\n",
       "\t<li>0.0060090735521044</li>\n",
       "\t<li>0.00600779991823812</li>\n",
       "\t<li>0.0060069943088819</li>\n",
       "\t<li>0.00600241161636914</li>\n",
       "\t<li>0.00600106220817111</li>\n",
       "\t<li>0.0060005027595733</li>\n",
       "\t<li>0.00599583742308851</li>\n",
       "\t<li>0.00599365808209856</li>\n",
       "\t<li>0.00598898246912506</li>\n",
       "\t<li>0.0059795819609146</li>\n",
       "\t<li>0.00596275197464306</li>\n",
       "\t<li>0.00593417141812291</li>\n",
       "\t<li>0.00593203871738206</li>\n",
       "\t<li>0.00593160071479929</li>\n",
       "\t<li>0.00592338856543094</li>\n",
       "\t<li>0.00592036889354947</li>\n",
       "\t<li>0.00591352918932012</li>\n",
       "\t<li>0.00590204635852608</li>\n",
       "\t<li>0.00589832077582578</li>\n",
       "\t<li>0.00588804348796275</li>\n",
       "\t<li>0.00586633194729835</li>\n",
       "\t<li>0.00585403106847233</li>\n",
       "\t<li>0.00584179884469748</li>\n",
       "\t<li>0.00583467396814637</li>\n",
       "\t<li>0.00583230812978959</li>\n",
       "\t<li>0.00582737605532556</li>\n",
       "\t<li>0.00582639065900812</li>\n",
       "\t<li>0.00580109332984263</li>\n",
       "\t<li>0.00579549532049876</li>\n",
       "\t<li>0.0057881461260117</li>\n",
       "\t<li>0.00576356467589811</li>\n",
       "\t<li>0.00574413663017336</li>\n",
       "\t<li>0.00572428255917123</li>\n",
       "\t<li>0.00572111100347443</li>\n",
       "\t<li>0.00570416878639326</li>\n",
       "\t<li>0.00566877266450665</li>\n",
       "\t<li>0.00560340161942666</li>\n",
       "\t<li>0.00557592291809459</li>\n",
       "\t<li>0.00552062617383041</li>\n",
       "\t<li>0.00549049556986997</li>\n",
       "\t<li>0.00529295367324234</li>\n",
       "\t<li>0.00527381736665775</li>\n",
       "\t<li>0.00525034525786744</li>\n",
       "\t<li>0.00521506729167872</li>\n",
       "\t<li>0.00520773152745189</li>\n",
       "\t<li>0.00518335238520729</li>\n",
       "\t<li>0.00515601808561377</li>\n",
       "\t<li>0.00514699387226041</li>\n",
       "\t<li>0.00514229986290026</li>\n",
       "\t<li>0.00513488324868375</li>\n",
       "\t<li>0.00512562359146838</li>\n",
       "\t<li>0.00511790360285285</li>\n",
       "\t<li>0.00511140890722657</li>\n",
       "\t<li>0.00510517792025069</li>\n",
       "\t<li>0.00509074180332589</li>\n",
       "\t<li>0.00508528146617085</li>\n",
       "\t<li>0.00507949399073829</li>\n",
       "\t<li>0.00505287981850822</li>\n",
       "\t<li>0.00504332380967658</li>\n",
       "\t<li>0.00503212885966697</li>\n",
       "\t<li>0.0050182887707962</li>\n",
       "\t<li>0.00500253987512075</li>\n",
       "\t<li>0.00498066949861997</li>\n",
       "\t<li>0.00496147923346959</li>\n",
       "\t<li>0.00493895854683961</li>\n",
       "\t<li>0.00492943945771026</li>\n",
       "\t<li>0.00490174400331403</li>\n",
       "\t<li>0.0048886601187499</li>\n",
       "\t<li>0.00488674696600496</li>\n",
       "\t<li>0.00488283321376924</li>\n",
       "\t<li>0.00487867708771251</li>\n",
       "\t<li>0.00487581624056905</li>\n",
       "\t<li>0.00487097577176866</li>\n",
       "\t<li>0.00483888177972855</li>\n",
       "\t<li>0.00483071530438222</li>\n",
       "\t<li>0.00482481197524167</li>\n",
       "\t<li>0.00481884605123957</li>\n",
       "\t<li>0.00481049517343393</li>\n",
       "\t<li>0.00480120960285597</li>\n",
       "\t<li>0.00479596646667222</li>\n",
       "\t<li>0.00478955554064603</li>\n",
       "\t<li>0.00475899636935147</li>\n",
       "\t<li>0.00475087641954138</li>\n",
       "\t<li>0.0047258131621988</li>\n",
       "\t<li>0.00470507812512392</li>\n",
       "\t<li>0.0046979403163945</li>\n",
       "\t<li>0.00469617250549335</li>\n",
       "\t<li>0.00469062317062408</li>\n",
       "\t<li>0.00468048768406738</li>\n",
       "\t<li>0.00467078279456379</li>\n",
       "\t<li>0.00464823941821402</li>\n",
       "\t<li>0.00463666134559295</li>\n",
       "\t<li>0.00462263735942739</li>\n",
       "\t<li>0.00461362954472109</li>\n",
       "\t<li>0.00460575305408378</li>\n",
       "\t<li>0.00460098552911393</li>\n",
       "\t<li>0.00459023047573497</li>\n",
       "\t<li>0.00456919057578921</li>\n",
       "\t<li>0.00456180915937467</li>\n",
       "\t<li>0.00455868544042671</li>\n",
       "\t<li>0.00454361942987352</li>\n",
       "\t<li>0.00453701428209036</li>\n",
       "\t<li>0.00453433421038555</li>\n",
       "\t<li>0.00452693681544681</li>\n",
       "\t<li>0.00452242691625407</li>\n",
       "\t<li>0.00451276907854976</li>\n",
       "\t<li>0.00450965495780768</li>\n",
       "\t<li>0.00450777072321498</li>\n",
       "\t<li>0.00450282595646025</li>\n",
       "\t<li>0.00449484989323009</li>\n",
       "\t<li>0.0044895768382905</li>\n",
       "\t<li>0.00448640179527685</li>\n",
       "\t<li>0.00448330806825036</li>\n",
       "\t<li>0.00448007158267512</li>\n",
       "\t<li>0.00447196256213054</li>\n",
       "\t<li>0.00447148485609072</li>\n",
       "\t<li>0.00446367377439007</li>\n",
       "\t<li>0.00446123981769677</li>\n",
       "\t<li>0.00444813245842748</li>\n",
       "\t<li>0.00444430048161997</li>\n",
       "\t<li>0.0044420196254952</li>\n",
       "\t<li>0.00441280159686899</li>\n",
       "\t<li>0.00440424060151698</li>\n",
       "\t<li>0.00439802318524898</li>\n",
       "\t<li>0.00435556067463559</li>\n",
       "\t<li>0.00433549918709965</li>\n",
       "\t<li>0.00431610358559899</li>\n",
       "\t<li>0.00425584926423624</li>\n",
       "\t<li>0.00424553112889334</li>\n",
       "\t<li>0.00421390176100895</li>\n",
       "\t<li>0.00417632266826973</li>\n",
       "\t<li>0.00409169560578064</li>\n",
       "\t<li>0.00395402336159419</li>\n",
       "</ol>\n"
      ],
      "text/latex": [
       "\\begin{enumerate*}\n",
       "\\item 0.210885555983261\n",
       "\\item 0.0062272850025134\n",
       "\\item 0.0061880268434476\n",
       "\\item 0.00617843139528632\n",
       "\\item 0.00617028084762233\n",
       "\\item 0.00615620961315134\n",
       "\\item 0.00613652519868877\n",
       "\\item 0.0061207494145299\n",
       "\\item 0.00610014282352716\n",
       "\\item 0.00609207127211212\n",
       "\\item 0.00608862103628452\n",
       "\\item 0.0060857328154089\n",
       "\\item 0.00606717708141316\n",
       "\\item 0.00605735377700024\n",
       "\\item 0.00605104157316021\n",
       "\\item 0.00604675873750819\n",
       "\\item 0.00603827756503153\n",
       "\\item 0.00603619972402579\n",
       "\\item 0.00603443634919234\n",
       "\\item 0.00600957428843795\n",
       "\\item 0.0060090735521044\n",
       "\\item 0.00600779991823812\n",
       "\\item 0.0060069943088819\n",
       "\\item 0.00600241161636914\n",
       "\\item 0.00600106220817111\n",
       "\\item 0.0060005027595733\n",
       "\\item 0.00599583742308851\n",
       "\\item 0.00599365808209856\n",
       "\\item 0.00598898246912506\n",
       "\\item 0.0059795819609146\n",
       "\\item 0.00596275197464306\n",
       "\\item 0.00593417141812291\n",
       "\\item 0.00593203871738206\n",
       "\\item 0.00593160071479929\n",
       "\\item 0.00592338856543094\n",
       "\\item 0.00592036889354947\n",
       "\\item 0.00591352918932012\n",
       "\\item 0.00590204635852608\n",
       "\\item 0.00589832077582578\n",
       "\\item 0.00588804348796275\n",
       "\\item 0.00586633194729835\n",
       "\\item 0.00585403106847233\n",
       "\\item 0.00584179884469748\n",
       "\\item 0.00583467396814637\n",
       "\\item 0.00583230812978959\n",
       "\\item 0.00582737605532556\n",
       "\\item 0.00582639065900812\n",
       "\\item 0.00580109332984263\n",
       "\\item 0.00579549532049876\n",
       "\\item 0.0057881461260117\n",
       "\\item 0.00576356467589811\n",
       "\\item 0.00574413663017336\n",
       "\\item 0.00572428255917123\n",
       "\\item 0.00572111100347443\n",
       "\\item 0.00570416878639326\n",
       "\\item 0.00566877266450665\n",
       "\\item 0.00560340161942666\n",
       "\\item 0.00557592291809459\n",
       "\\item 0.00552062617383041\n",
       "\\item 0.00549049556986997\n",
       "\\item 0.00529295367324234\n",
       "\\item 0.00527381736665775\n",
       "\\item 0.00525034525786744\n",
       "\\item 0.00521506729167872\n",
       "\\item 0.00520773152745189\n",
       "\\item 0.00518335238520729\n",
       "\\item 0.00515601808561377\n",
       "\\item 0.00514699387226041\n",
       "\\item 0.00514229986290026\n",
       "\\item 0.00513488324868375\n",
       "\\item 0.00512562359146838\n",
       "\\item 0.00511790360285285\n",
       "\\item 0.00511140890722657\n",
       "\\item 0.00510517792025069\n",
       "\\item 0.00509074180332589\n",
       "\\item 0.00508528146617085\n",
       "\\item 0.00507949399073829\n",
       "\\item 0.00505287981850822\n",
       "\\item 0.00504332380967658\n",
       "\\item 0.00503212885966697\n",
       "\\item 0.0050182887707962\n",
       "\\item 0.00500253987512075\n",
       "\\item 0.00498066949861997\n",
       "\\item 0.00496147923346959\n",
       "\\item 0.00493895854683961\n",
       "\\item 0.00492943945771026\n",
       "\\item 0.00490174400331403\n",
       "\\item 0.0048886601187499\n",
       "\\item 0.00488674696600496\n",
       "\\item 0.00488283321376924\n",
       "\\item 0.00487867708771251\n",
       "\\item 0.00487581624056905\n",
       "\\item 0.00487097577176866\n",
       "\\item 0.00483888177972855\n",
       "\\item 0.00483071530438222\n",
       "\\item 0.00482481197524167\n",
       "\\item 0.00481884605123957\n",
       "\\item 0.00481049517343393\n",
       "\\item 0.00480120960285597\n",
       "\\item 0.00479596646667222\n",
       "\\item 0.00478955554064603\n",
       "\\item 0.00475899636935147\n",
       "\\item 0.00475087641954138\n",
       "\\item 0.0047258131621988\n",
       "\\item 0.00470507812512392\n",
       "\\item 0.0046979403163945\n",
       "\\item 0.00469617250549335\n",
       "\\item 0.00469062317062408\n",
       "\\item 0.00468048768406738\n",
       "\\item 0.00467078279456379\n",
       "\\item 0.00464823941821402\n",
       "\\item 0.00463666134559295\n",
       "\\item 0.00462263735942739\n",
       "\\item 0.00461362954472109\n",
       "\\item 0.00460575305408378\n",
       "\\item 0.00460098552911393\n",
       "\\item 0.00459023047573497\n",
       "\\item 0.00456919057578921\n",
       "\\item 0.00456180915937467\n",
       "\\item 0.00455868544042671\n",
       "\\item 0.00454361942987352\n",
       "\\item 0.00453701428209036\n",
       "\\item 0.00453433421038555\n",
       "\\item 0.00452693681544681\n",
       "\\item 0.00452242691625407\n",
       "\\item 0.00451276907854976\n",
       "\\item 0.00450965495780768\n",
       "\\item 0.00450777072321498\n",
       "\\item 0.00450282595646025\n",
       "\\item 0.00449484989323009\n",
       "\\item 0.0044895768382905\n",
       "\\item 0.00448640179527685\n",
       "\\item 0.00448330806825036\n",
       "\\item 0.00448007158267512\n",
       "\\item 0.00447196256213054\n",
       "\\item 0.00447148485609072\n",
       "\\item 0.00446367377439007\n",
       "\\item 0.00446123981769677\n",
       "\\item 0.00444813245842748\n",
       "\\item 0.00444430048161997\n",
       "\\item 0.0044420196254952\n",
       "\\item 0.00441280159686899\n",
       "\\item 0.00440424060151698\n",
       "\\item 0.00439802318524898\n",
       "\\item 0.00435556067463559\n",
       "\\item 0.00433549918709965\n",
       "\\item 0.00431610358559899\n",
       "\\item 0.00425584926423624\n",
       "\\item 0.00424553112889334\n",
       "\\item 0.00421390176100895\n",
       "\\item 0.00417632266826973\n",
       "\\item 0.00409169560578064\n",
       "\\item 0.00395402336159419\n",
       "\\end{enumerate*}\n"
      ],
      "text/markdown": [
       "1. 0.210885555983261\n",
       "2. 0.0062272850025134\n",
       "3. 0.0061880268434476\n",
       "4. 0.00617843139528632\n",
       "5. 0.00617028084762233\n",
       "6. 0.00615620961315134\n",
       "7. 0.00613652519868877\n",
       "8. 0.0061207494145299\n",
       "9. 0.00610014282352716\n",
       "10. 0.00609207127211212\n",
       "11. 0.00608862103628452\n",
       "12. 0.0060857328154089\n",
       "13. 0.00606717708141316\n",
       "14. 0.00605735377700024\n",
       "15. 0.00605104157316021\n",
       "16. 0.00604675873750819\n",
       "17. 0.00603827756503153\n",
       "18. 0.00603619972402579\n",
       "19. 0.00603443634919234\n",
       "20. 0.00600957428843795\n",
       "21. 0.0060090735521044\n",
       "22. 0.00600779991823812\n",
       "23. 0.0060069943088819\n",
       "24. 0.00600241161636914\n",
       "25. 0.00600106220817111\n",
       "26. 0.0060005027595733\n",
       "27. 0.00599583742308851\n",
       "28. 0.00599365808209856\n",
       "29. 0.00598898246912506\n",
       "30. 0.0059795819609146\n",
       "31. 0.00596275197464306\n",
       "32. 0.00593417141812291\n",
       "33. 0.00593203871738206\n",
       "34. 0.00593160071479929\n",
       "35. 0.00592338856543094\n",
       "36. 0.00592036889354947\n",
       "37. 0.00591352918932012\n",
       "38. 0.00590204635852608\n",
       "39. 0.00589832077582578\n",
       "40. 0.00588804348796275\n",
       "41. 0.00586633194729835\n",
       "42. 0.00585403106847233\n",
       "43. 0.00584179884469748\n",
       "44. 0.00583467396814637\n",
       "45. 0.00583230812978959\n",
       "46. 0.00582737605532556\n",
       "47. 0.00582639065900812\n",
       "48. 0.00580109332984263\n",
       "49. 0.00579549532049876\n",
       "50. 0.0057881461260117\n",
       "51. 0.00576356467589811\n",
       "52. 0.00574413663017336\n",
       "53. 0.00572428255917123\n",
       "54. 0.00572111100347443\n",
       "55. 0.00570416878639326\n",
       "56. 0.00566877266450665\n",
       "57. 0.00560340161942666\n",
       "58. 0.00557592291809459\n",
       "59. 0.00552062617383041\n",
       "60. 0.00549049556986997\n",
       "61. 0.00529295367324234\n",
       "62. 0.00527381736665775\n",
       "63. 0.00525034525786744\n",
       "64. 0.00521506729167872\n",
       "65. 0.00520773152745189\n",
       "66. 0.00518335238520729\n",
       "67. 0.00515601808561377\n",
       "68. 0.00514699387226041\n",
       "69. 0.00514229986290026\n",
       "70. 0.00513488324868375\n",
       "71. 0.00512562359146838\n",
       "72. 0.00511790360285285\n",
       "73. 0.00511140890722657\n",
       "74. 0.00510517792025069\n",
       "75. 0.00509074180332589\n",
       "76. 0.00508528146617085\n",
       "77. 0.00507949399073829\n",
       "78. 0.00505287981850822\n",
       "79. 0.00504332380967658\n",
       "80. 0.00503212885966697\n",
       "81. 0.0050182887707962\n",
       "82. 0.00500253987512075\n",
       "83. 0.00498066949861997\n",
       "84. 0.00496147923346959\n",
       "85. 0.00493895854683961\n",
       "86. 0.00492943945771026\n",
       "87. 0.00490174400331403\n",
       "88. 0.0048886601187499\n",
       "89. 0.00488674696600496\n",
       "90. 0.00488283321376924\n",
       "91. 0.00487867708771251\n",
       "92. 0.00487581624056905\n",
       "93. 0.00487097577176866\n",
       "94. 0.00483888177972855\n",
       "95. 0.00483071530438222\n",
       "96. 0.00482481197524167\n",
       "97. 0.00481884605123957\n",
       "98. 0.00481049517343393\n",
       "99. 0.00480120960285597\n",
       "100. 0.00479596646667222\n",
       "101. 0.00478955554064603\n",
       "102. 0.00475899636935147\n",
       "103. 0.00475087641954138\n",
       "104. 0.0047258131621988\n",
       "105. 0.00470507812512392\n",
       "106. 0.0046979403163945\n",
       "107. 0.00469617250549335\n",
       "108. 0.00469062317062408\n",
       "109. 0.00468048768406738\n",
       "110. 0.00467078279456379\n",
       "111. 0.00464823941821402\n",
       "112. 0.00463666134559295\n",
       "113. 0.00462263735942739\n",
       "114. 0.00461362954472109\n",
       "115. 0.00460575305408378\n",
       "116. 0.00460098552911393\n",
       "117. 0.00459023047573497\n",
       "118. 0.00456919057578921\n",
       "119. 0.00456180915937467\n",
       "120. 0.00455868544042671\n",
       "121. 0.00454361942987352\n",
       "122. 0.00453701428209036\n",
       "123. 0.00453433421038555\n",
       "124. 0.00452693681544681\n",
       "125. 0.00452242691625407\n",
       "126. 0.00451276907854976\n",
       "127. 0.00450965495780768\n",
       "128. 0.00450777072321498\n",
       "129. 0.00450282595646025\n",
       "130. 0.00449484989323009\n",
       "131. 0.0044895768382905\n",
       "132. 0.00448640179527685\n",
       "133. 0.00448330806825036\n",
       "134. 0.00448007158267512\n",
       "135. 0.00447196256213054\n",
       "136. 0.00447148485609072\n",
       "137. 0.00446367377439007\n",
       "138. 0.00446123981769677\n",
       "139. 0.00444813245842748\n",
       "140. 0.00444430048161997\n",
       "141. 0.0044420196254952\n",
       "142. 0.00441280159686899\n",
       "143. 0.00440424060151698\n",
       "144. 0.00439802318524898\n",
       "145. 0.00435556067463559\n",
       "146. 0.00433549918709965\n",
       "147. 0.00431610358559899\n",
       "148. 0.00425584926423624\n",
       "149. 0.00424553112889334\n",
       "150. 0.00421390176100895\n",
       "151. 0.00417632266826973\n",
       "152. 0.00409169560578064\n",
       "153. 0.00395402336159419\n",
       "\n",
       "\n"
      ],
      "text/plain": [
       "  [1] 0.210885556 0.006227285 0.006188027 0.006178431 0.006170281 0.006156210\n",
       "  [7] 0.006136525 0.006120749 0.006100143 0.006092071 0.006088621 0.006085733\n",
       " [13] 0.006067177 0.006057354 0.006051042 0.006046759 0.006038278 0.006036200\n",
       " [19] 0.006034436 0.006009574 0.006009074 0.006007800 0.006006994 0.006002412\n",
       " [25] 0.006001062 0.006000503 0.005995837 0.005993658 0.005988982 0.005979582\n",
       " [31] 0.005962752 0.005934171 0.005932039 0.005931601 0.005923389 0.005920369\n",
       " [37] 0.005913529 0.005902046 0.005898321 0.005888043 0.005866332 0.005854031\n",
       " [43] 0.005841799 0.005834674 0.005832308 0.005827376 0.005826391 0.005801093\n",
       " [49] 0.005795495 0.005788146 0.005763565 0.005744137 0.005724283 0.005721111\n",
       " [55] 0.005704169 0.005668773 0.005603402 0.005575923 0.005520626 0.005490496\n",
       " [61] 0.005292954 0.005273817 0.005250345 0.005215067 0.005207732 0.005183352\n",
       " [67] 0.005156018 0.005146994 0.005142300 0.005134883 0.005125624 0.005117904\n",
       " [73] 0.005111409 0.005105178 0.005090742 0.005085281 0.005079494 0.005052880\n",
       " [79] 0.005043324 0.005032129 0.005018289 0.005002540 0.004980669 0.004961479\n",
       " [85] 0.004938959 0.004929439 0.004901744 0.004888660 0.004886747 0.004882833\n",
       " [91] 0.004878677 0.004875816 0.004870976 0.004838882 0.004830715 0.004824812\n",
       " [97] 0.004818846 0.004810495 0.004801210 0.004795966 0.004789556 0.004758996\n",
       "[103] 0.004750876 0.004725813 0.004705078 0.004697940 0.004696173 0.004690623\n",
       "[109] 0.004680488 0.004670783 0.004648239 0.004636661 0.004622637 0.004613630\n",
       "[115] 0.004605753 0.004600986 0.004590230 0.004569191 0.004561809 0.004558685\n",
       "[121] 0.004543619 0.004537014 0.004534334 0.004526937 0.004522427 0.004512769\n",
       "[127] 0.004509655 0.004507771 0.004502826 0.004494850 0.004489577 0.004486402\n",
       "[133] 0.004483308 0.004480072 0.004471963 0.004471485 0.004463674 0.004461240\n",
       "[139] 0.004448132 0.004444300 0.004442020 0.004412802 0.004404241 0.004398023\n",
       "[145] 0.004355561 0.004335499 0.004316104 0.004255849 0.004245531 0.004213902\n",
       "[151] 0.004176323 0.004091696 0.003954023"
      ]
     },
     "metadata": {},
     "output_type": "display_data"
    }
   ],
   "source": [
    "#variance explained?\n",
    "ev$values/sum(ev$values)"
   ]
  },
  {
   "cell_type": "markdown",
   "id": "42650a12",
   "metadata": {},
   "source": [
    "__join together the metadata with other covariates and phenotypes with the pcs- be sure to check that the samples are ordered the same as bamlist__"
   ]
  },
  {
   "cell_type": "code",
   "execution_count": 26,
   "id": "d79b92c3",
   "metadata": {},
   "outputs": [
    {
     "name": "stderr",
     "output_type": "stream",
     "text": [
      "Warning message in `[.data.table`(fread(\"/data/katrinac/APPC_sequencing/DNA/trimmed_reads/mapping/genotypes/angsd/Sample_Meta.txt\")[is.na(Group), :\n",
      "“Coerced double RHS to character to match the type of the target column (column 10 named 'Group'). If the target column's type character is correct, it's best for efficiency to avoid the coercion and create the RHS as type character. To achieve that consider R's type postfix: typeof(0L) vs typeof(0), and typeof(NA) vs typeof(NA_integer_) vs typeof(NA_real_). You can wrap the RHS with as.character() to avoid this warning, but that will still perform the coercion. If the target column's type is not correct, it's best to revisit where the DT was created and fix the column type there; e.g., by using colClasses= in fread(). Otherwise, you can change the column type now by plonking a new column (of the desired type) over the top of it; e.g. DT[, `Group`:=as.double(`Group`)]. If the RHS of := has nrow(DT) elements then the assignment is called a column plonk and is the way to change a column's type. Column types can be observed with sapply(DT,typeof).”Warning message in `[.data.table`(fread(\"/data/katrinac/APPC_sequencing/DNA/trimmed_reads/mapping/genotypes/angsd/Sample_Meta.txt\")[is.na(Group), :\n",
      "“Coerced double RHS to character to match the type of the target column (column 10 named 'Group'). If the target column's type character is correct, it's best for efficiency to avoid the coercion and create the RHS as type character. To achieve that consider R's type postfix: typeof(0L) vs typeof(0), and typeof(NA) vs typeof(NA_integer_) vs typeof(NA_real_). You can wrap the RHS with as.character() to avoid this warning, but that will still perform the coercion. If the target column's type is not correct, it's best to revisit where the DT was created and fix the column type there; e.g., by using colClasses= in fread(). Otherwise, you can change the column type now by plonking a new column (of the desired type) over the top of it; e.g. DT[, `Group`:=as.double(`Group`)]. If the RHS of := has nrow(DT) elements then the assignment is called a column plonk and is the way to change a column's type. Column types can be observed with sapply(DT,typeof).”Warning message in data.table::data.table(...):\n",
      "“Item 2 is of size 153 but maximum size is 159 (recycled leaving remainder of 6 items)”"
     ]
    }
   ],
   "source": [
    "bamlist <- fread(\"/data/katrinac/APPC_sequencing/DNA/trimmed_reads/mapping/genotypes/bamlist.list.txt\")\n",
    "meta <- fread(\"/data/katrinac/APPC_sequencing/DNA/trimmed_reads/mapping/genotypes/angsd/Sample_Meta.txt\")[is.na(Group), Group :=-999][Group==\"High\", Group:=1][Group==\"Low\", Group:=0][, .(sample=gen_id, ucrit=Ucrit, sl=SL, dam, sire, case=Group, capture=Capture)]\n",
    "sorted_meta <- left_join(bamlist, meta, by=\"sample\")\n",
    "pca_phenos <- cbind(sorted_meta , ev_dt)[, sequencing_lib := ifelse(capture %in% c(\"Pop01\",\"Pop02\",\"Pop03\", \"Pop04\", \"Pop05\", \"Pop06\", \"Pop07\",\"Pop08\"), 1, 2)]\n",
    "#write out the pcs to use as covariates\n",
    "#fwrite(pca_phenos[, \"capture\"], \"/data/katrinac/APPC_sequencing/DNA/trimmed_reads/mapping/genotypes/angsd/capture.cov\", col.names = F)"
   ]
  },
  {
   "cell_type": "code",
   "execution_count": 47,
   "id": "ee17c5ef",
   "metadata": {},
   "outputs": [],
   "source": [
    "pca_unlinked <- fread(\"/data/katrinac/APPC_sequencing/DNA/trimmed_reads/mapping/genotypes/angsd/pc1-3_unlinked.cov\")"
   ]
  },
  {
   "cell_type": "code",
   "execution_count": 50,
   "id": "01f2ac61",
   "metadata": {},
   "outputs": [],
   "source": [
    "#pca_unlinked$sample <- bamlist$sample\n",
    "pca_pheno_unlinked <- cbind(pca_unlinked, pca_phenos[,1:3])"
   ]
  },
  {
   "cell_type": "code",
   "execution_count": 51,
   "id": "5b055e01",
   "metadata": {},
   "outputs": [
    {
     "data": {
      "text/html": [
       "<table>\n",
       "<thead><tr><th scope=col>V1</th><th scope=col>V2</th><th scope=col>V3</th><th scope=col>sample</th><th scope=col>ucrit</th><th scope=col>sl</th></tr></thead>\n",
       "<tbody>\n",
       "\t<tr><td>-0.092607712  </td><td> 0.0174850921 </td><td>-0.0244912829 </td><td>Pop01_APPC1611</td><td>8.13          </td><td>4.40          </td></tr>\n",
       "\t<tr><td>-0.114829109  </td><td>-0.0122763883 </td><td>-0.0045606441 </td><td>Pop01_APPC1917</td><td>1.20          </td><td>4.35          </td></tr>\n",
       "\t<tr><td> 0.003392844  </td><td>-0.0002162177 </td><td> 0.0002983512 </td><td>Pop01_APPC1921</td><td>7.33          </td><td>4.28          </td></tr>\n",
       "\t<tr><td>-0.034442932  </td><td>-0.9970604955 </td><td> 0.0148471171 </td><td>Pop01_APPC2029</td><td>8.82          </td><td>4.25          </td></tr>\n",
       "\t<tr><td> 0.022761767  </td><td>-0.0009952023 </td><td> 0.0006811659 </td><td>Pop01_APPC2030</td><td>7.32          </td><td>4.54          </td></tr>\n",
       "\t<tr><td> 0.079684748  </td><td> 0.0003954962 </td><td> 0.0004661896 </td><td>Pop01_APPC2101</td><td>5.07          </td><td>3.94          </td></tr>\n",
       "</tbody>\n",
       "</table>\n"
      ],
      "text/latex": [
       "\\begin{tabular}{r|llllll}\n",
       " V1 & V2 & V3 & sample & ucrit & sl\\\\\n",
       "\\hline\n",
       "\t -0.092607712     &  0.0174850921    & -0.0244912829    & Pop01\\_APPC1611 & 8.13             & 4.40            \\\\\n",
       "\t -0.114829109     & -0.0122763883    & -0.0045606441    & Pop01\\_APPC1917 & 1.20             & 4.35            \\\\\n",
       "\t  0.003392844     & -0.0002162177    &  0.0002983512    & Pop01\\_APPC1921 & 7.33             & 4.28            \\\\\n",
       "\t -0.034442932     & -0.9970604955    &  0.0148471171    & Pop01\\_APPC2029 & 8.82             & 4.25            \\\\\n",
       "\t  0.022761767     & -0.0009952023    &  0.0006811659    & Pop01\\_APPC2030 & 7.32             & 4.54            \\\\\n",
       "\t  0.079684748     &  0.0003954962    &  0.0004661896    & Pop01\\_APPC2101 & 5.07             & 3.94            \\\\\n",
       "\\end{tabular}\n"
      ],
      "text/markdown": [
       "\n",
       "| V1 | V2 | V3 | sample | ucrit | sl |\n",
       "|---|---|---|---|---|---|\n",
       "| -0.092607712   |  0.0174850921  | -0.0244912829  | Pop01_APPC1611 | 8.13           | 4.40           |\n",
       "| -0.114829109   | -0.0122763883  | -0.0045606441  | Pop01_APPC1917 | 1.20           | 4.35           |\n",
       "|  0.003392844   | -0.0002162177  |  0.0002983512  | Pop01_APPC1921 | 7.33           | 4.28           |\n",
       "| -0.034442932   | -0.9970604955  |  0.0148471171  | Pop01_APPC2029 | 8.82           | 4.25           |\n",
       "|  0.022761767   | -0.0009952023  |  0.0006811659  | Pop01_APPC2030 | 7.32           | 4.54           |\n",
       "|  0.079684748   |  0.0003954962  |  0.0004661896  | Pop01_APPC2101 | 5.07           | 3.94           |\n",
       "\n"
      ],
      "text/plain": [
       "  V1           V2            V3            sample         ucrit sl  \n",
       "1 -0.092607712  0.0174850921 -0.0244912829 Pop01_APPC1611 8.13  4.40\n",
       "2 -0.114829109 -0.0122763883 -0.0045606441 Pop01_APPC1917 1.20  4.35\n",
       "3  0.003392844 -0.0002162177  0.0002983512 Pop01_APPC1921 7.33  4.28\n",
       "4 -0.034442932 -0.9970604955  0.0148471171 Pop01_APPC2029 8.82  4.25\n",
       "5  0.022761767 -0.0009952023  0.0006811659 Pop01_APPC2030 7.32  4.54\n",
       "6  0.079684748  0.0003954962  0.0004661896 Pop01_APPC2101 5.07  3.94"
      ]
     },
     "metadata": {},
     "output_type": "display_data"
    }
   ],
   "source": [
    "head(pca_pheno_unlinked)"
   ]
  },
  {
   "cell_type": "code",
   "execution_count": null,
   "id": "cdbc3515",
   "metadata": {},
   "outputs": [],
   "source": [
    "filter <- fread(\"/data/katrinac/APPC_sequencing/DNA/trimmed_reads/mapping/genotypes/angsd/PCAngsd_Filter2.txt\")"
   ]
  },
  {
   "cell_type": "code",
   "execution_count": null,
   "id": "154d8e3f",
   "metadata": {},
   "outputs": [],
   "source": [
    "pca_phenos$pcangsd_filter <- filter[,1]"
   ]
  },
  {
   "cell_type": "code",
   "execution_count": null,
   "id": "e53ccdea",
   "metadata": {},
   "outputs": [],
   "source": [
    "pca_phenos[, pcangsd_filter :=ifelse(sample %in% pca_phenos[pc2 < -0.75, sample],0, pcangsd_filter)]"
   ]
  },
  {
   "cell_type": "code",
   "execution_count": 48,
   "id": "05be5a30",
   "metadata": {},
   "outputs": [
    {
     "data": {
      "text/html": [
       "<table>\n",
       "<thead><tr><th scope=col>sample</th><th scope=col>ucrit</th><th scope=col>sl</th><th scope=col>dam</th><th scope=col>sire</th><th scope=col>case</th><th scope=col>capture</th><th scope=col>pc1</th><th scope=col>pc2</th><th scope=col>pc3</th><th scope=col>pc4</th><th scope=col>pc5</th><th scope=col>pc6</th><th scope=col>pc7</th><th scope=col>pc8</th><th scope=col>pc9</th><th scope=col>pc10</th><th scope=col>sequencing_lib</th></tr></thead>\n",
       "<tbody>\n",
       "\t<tr><td>Pop01_APPC1611</td><td>8.13          </td><td>4.40          </td><td>D125          </td><td>S144          </td><td>1             </td><td>Pop01         </td><td>-0.092670635  </td><td>-0.0217683252 </td><td>-0.0823144410 </td><td>-0.1177519963 </td><td> 0.4325507351 </td><td> 0.815169472  </td><td> 0.304143123  </td><td> 6.085239e-02 </td><td>-0.0479891950 </td><td>-0.0103735832 </td><td>1             </td></tr>\n",
       "\t<tr><td>Pop01_APPC1917</td><td>1.20          </td><td>4.35          </td><td>D85           </td><td>S173          </td><td>0             </td><td>Pop01         </td><td>-0.114995555  </td><td>-0.0049404088 </td><td>-0.0084712579 </td><td>-0.0073748237 </td><td> 0.0151975141 </td><td>-0.018869047  </td><td>-0.036858803  </td><td>-1.936825e-02 </td><td> 0.0220150535 </td><td>-0.0045099847 </td><td>1             </td></tr>\n",
       "\t<tr><td>Pop01_APPC1921</td><td>7.33          </td><td>4.28          </td><td>D85           </td><td>S173          </td><td>1             </td><td>Pop01         </td><td> 0.003367341  </td><td> 0.0003246282 </td><td> 0.0004035543 </td><td> 0.0004142743 </td><td>-0.0008168261 </td><td> 0.001172834  </td><td> 0.002222074  </td><td>-2.361056e-05 </td><td>-0.0006646217 </td><td> 0.0004675780 </td><td>1             </td></tr>\n",
       "\t<tr><td>Pop01_APPC2029</td><td>8.82          </td><td>4.25          </td><td>D70           </td><td>S98           </td><td>1             </td><td>Pop01         </td><td> 0.022773539  </td><td> 0.0007730465 </td><td> 0.0013156391 </td><td> 0.0010744393 </td><td>-0.0022055729 </td><td> 0.002976713  </td><td> 0.005192988  </td><td> 2.428480e-03 </td><td>-0.0018301433 </td><td> 0.0007796293 </td><td>1             </td></tr>\n",
       "\t<tr><td>Pop01_APPC2030</td><td>7.32          </td><td>4.54          </td><td>D70           </td><td>S98           </td><td>1             </td><td>Pop01         </td><td> 0.079804091  </td><td> 0.0005373194 </td><td> 0.0009161695 </td><td> 0.0008095938 </td><td>-0.0014722499 </td><td> 0.001812070  </td><td> 0.003008333  </td><td> 3.132228e-03 </td><td>-0.0029753554 </td><td> 0.0003094787 </td><td>1             </td></tr>\n",
       "\t<tr><td>Pop01_APPC2101</td><td>5.07          </td><td>3.94          </td><td>D269          </td><td>S94           </td><td>1             </td><td>Pop01         </td><td>-0.126313695  </td><td>-0.0035292362 </td><td>-0.0047799108 </td><td>-0.0066165296 </td><td> 0.0102512081 </td><td>-0.012732940  </td><td>-0.026813842  </td><td>-8.009059e-03 </td><td> 0.0123313716 </td><td>-0.0502423383 </td><td>1             </td></tr>\n",
       "</tbody>\n",
       "</table>\n"
      ],
      "text/latex": [
       "\\begin{tabular}{r|llllllllllllllllll}\n",
       " sample & ucrit & sl & dam & sire & case & capture & pc1 & pc2 & pc3 & pc4 & pc5 & pc6 & pc7 & pc8 & pc9 & pc10 & sequencing\\_lib\\\\\n",
       "\\hline\n",
       "\t Pop01\\_APPC1611 & 8.13             & 4.40             & D125             & S144             & 1                & Pop01            & -0.092670635     & -0.0217683252    & -0.0823144410    & -0.1177519963    &  0.4325507351    &  0.815169472     &  0.304143123     &  6.085239e-02    & -0.0479891950    & -0.0103735832    & 1               \\\\\n",
       "\t Pop01\\_APPC1917 & 1.20             & 4.35             & D85              & S173             & 0                & Pop01            & -0.114995555     & -0.0049404088    & -0.0084712579    & -0.0073748237    &  0.0151975141    & -0.018869047     & -0.036858803     & -1.936825e-02    &  0.0220150535    & -0.0045099847    & 1               \\\\\n",
       "\t Pop01\\_APPC1921 & 7.33             & 4.28             & D85              & S173             & 1                & Pop01            &  0.003367341     &  0.0003246282    &  0.0004035543    &  0.0004142743    & -0.0008168261    &  0.001172834     &  0.002222074     & -2.361056e-05    & -0.0006646217    &  0.0004675780    & 1               \\\\\n",
       "\t Pop01\\_APPC2029 & 8.82             & 4.25             & D70              & S98              & 1                & Pop01            &  0.022773539     &  0.0007730465    &  0.0013156391    &  0.0010744393    & -0.0022055729    &  0.002976713     &  0.005192988     &  2.428480e-03    & -0.0018301433    &  0.0007796293    & 1               \\\\\n",
       "\t Pop01\\_APPC2030 & 7.32             & 4.54             & D70              & S98              & 1                & Pop01            &  0.079804091     &  0.0005373194    &  0.0009161695    &  0.0008095938    & -0.0014722499    &  0.001812070     &  0.003008333     &  3.132228e-03    & -0.0029753554    &  0.0003094787    & 1               \\\\\n",
       "\t Pop01\\_APPC2101 & 5.07             & 3.94             & D269             & S94              & 1                & Pop01            & -0.126313695     & -0.0035292362    & -0.0047799108    & -0.0066165296    &  0.0102512081    & -0.012732940     & -0.026813842     & -8.009059e-03    &  0.0123313716    & -0.0502423383    & 1               \\\\\n",
       "\\end{tabular}\n"
      ],
      "text/markdown": [
       "\n",
       "| sample | ucrit | sl | dam | sire | case | capture | pc1 | pc2 | pc3 | pc4 | pc5 | pc6 | pc7 | pc8 | pc9 | pc10 | sequencing_lib |\n",
       "|---|---|---|---|---|---|---|---|---|---|---|---|---|---|---|---|---|---|\n",
       "| Pop01_APPC1611 | 8.13           | 4.40           | D125           | S144           | 1              | Pop01          | -0.092670635   | -0.0217683252  | -0.0823144410  | -0.1177519963  |  0.4325507351  |  0.815169472   |  0.304143123   |  6.085239e-02  | -0.0479891950  | -0.0103735832  | 1              |\n",
       "| Pop01_APPC1917 | 1.20           | 4.35           | D85            | S173           | 0              | Pop01          | -0.114995555   | -0.0049404088  | -0.0084712579  | -0.0073748237  |  0.0151975141  | -0.018869047   | -0.036858803   | -1.936825e-02  |  0.0220150535  | -0.0045099847  | 1              |\n",
       "| Pop01_APPC1921 | 7.33           | 4.28           | D85            | S173           | 1              | Pop01          |  0.003367341   |  0.0003246282  |  0.0004035543  |  0.0004142743  | -0.0008168261  |  0.001172834   |  0.002222074   | -2.361056e-05  | -0.0006646217  |  0.0004675780  | 1              |\n",
       "| Pop01_APPC2029 | 8.82           | 4.25           | D70            | S98            | 1              | Pop01          |  0.022773539   |  0.0007730465  |  0.0013156391  |  0.0010744393  | -0.0022055729  |  0.002976713   |  0.005192988   |  2.428480e-03  | -0.0018301433  |  0.0007796293  | 1              |\n",
       "| Pop01_APPC2030 | 7.32           | 4.54           | D70            | S98            | 1              | Pop01          |  0.079804091   |  0.0005373194  |  0.0009161695  |  0.0008095938  | -0.0014722499  |  0.001812070   |  0.003008333   |  3.132228e-03  | -0.0029753554  |  0.0003094787  | 1              |\n",
       "| Pop01_APPC2101 | 5.07           | 3.94           | D269           | S94            | 1              | Pop01          | -0.126313695   | -0.0035292362  | -0.0047799108  | -0.0066165296  |  0.0102512081  | -0.012732940   | -0.026813842   | -8.009059e-03  |  0.0123313716  | -0.0502423383  | 1              |\n",
       "\n"
      ],
      "text/plain": [
       "  sample         ucrit sl   dam  sire case capture pc1          pc2          \n",
       "1 Pop01_APPC1611 8.13  4.40 D125 S144 1    Pop01   -0.092670635 -0.0217683252\n",
       "2 Pop01_APPC1917 1.20  4.35 D85  S173 0    Pop01   -0.114995555 -0.0049404088\n",
       "3 Pop01_APPC1921 7.33  4.28 D85  S173 1    Pop01    0.003367341  0.0003246282\n",
       "4 Pop01_APPC2029 8.82  4.25 D70  S98  1    Pop01    0.022773539  0.0007730465\n",
       "5 Pop01_APPC2030 7.32  4.54 D70  S98  1    Pop01    0.079804091  0.0005373194\n",
       "6 Pop01_APPC2101 5.07  3.94 D269 S94  1    Pop01   -0.126313695 -0.0035292362\n",
       "  pc3           pc4           pc5           pc6          pc7         \n",
       "1 -0.0823144410 -0.1177519963  0.4325507351  0.815169472  0.304143123\n",
       "2 -0.0084712579 -0.0073748237  0.0151975141 -0.018869047 -0.036858803\n",
       "3  0.0004035543  0.0004142743 -0.0008168261  0.001172834  0.002222074\n",
       "4  0.0013156391  0.0010744393 -0.0022055729  0.002976713  0.005192988\n",
       "5  0.0009161695  0.0008095938 -0.0014722499  0.001812070  0.003008333\n",
       "6 -0.0047799108 -0.0066165296  0.0102512081 -0.012732940 -0.026813842\n",
       "  pc8           pc9           pc10          sequencing_lib\n",
       "1  6.085239e-02 -0.0479891950 -0.0103735832 1             \n",
       "2 -1.936825e-02  0.0220150535 -0.0045099847 1             \n",
       "3 -2.361056e-05 -0.0006646217  0.0004675780 1             \n",
       "4  2.428480e-03 -0.0018301433  0.0007796293 1             \n",
       "5  3.132228e-03 -0.0029753554  0.0003094787 1             \n",
       "6 -8.009059e-03  0.0123313716 -0.0502423383 1             "
      ]
     },
     "metadata": {},
     "output_type": "display_data"
    }
   ],
   "source": [
    "head(pca_phenos)"
   ]
  },
  {
   "cell_type": "code",
   "execution_count": null,
   "id": "f9cc4a11",
   "metadata": {},
   "outputs": [],
   "source": [
    "nrow(pca_phenos[pcangsd_filter==0])\n",
    "#pca_phenos$capture <- gsub(pca_phenos$capture, \"Pop\", \"\", fixed = T)"
   ]
  },
  {
   "cell_type": "code",
   "execution_count": null,
   "id": "1ef1b14e",
   "metadata": {},
   "outputs": [],
   "source": [
    "fwrite(pca_phenos[,.(pcangsd_filter)],\"/data/katrinac/APPC_sequencing/DNA/trimmed_reads/mapping/genotypes/angsd/PCAngsd_Filter3.txt\", col.names = FALSE )"
   ]
  },
  {
   "cell_type": "code",
   "execution_count": null,
   "id": "9583f519",
   "metadata": {},
   "outputs": [],
   "source": [
    "fwrite(pca_phenos[,.(pc1, pc2, pc3)],\"/data/katrinac/APPC_sequencing/DNA/trimmed_reads/mapping/genotypes/angsd/pc1-3_unlinked.cov\", col.names = FALSE )"
   ]
  },
  {
   "cell_type": "code",
   "execution_count": 54,
   "id": "8de8c577",
   "metadata": {},
   "outputs": [
    {
     "data": {
      "text/html": [
       "<table>\n",
       "<thead><tr><th scope=col>Estimate</th><th scope=col>Std. Error</th><th scope=col>t value</th><th scope=col>pvalue</th><th scope=col>names</th></tr></thead>\n",
       "<tbody>\n",
       "\t<tr><td> 4.2565577   </td><td>0.01110523   </td><td>383.293050   </td><td>2.851757e-217</td><td>(Intercept)  </td></tr>\n",
       "\t<tr><td>-0.2634892   </td><td>0.13867298   </td><td> -1.900076   </td><td> 5.943614e-02</td><td>V1           </td></tr>\n",
       "</tbody>\n",
       "</table>\n"
      ],
      "text/latex": [
       "\\begin{tabular}{r|lllll}\n",
       " Estimate & Std. Error & t value & pvalue & names\\\\\n",
       "\\hline\n",
       "\t  4.2565577    & 0.01110523    & 383.293050    & 2.851757e-217 & (Intercept)  \\\\\n",
       "\t -0.2634892    & 0.13867298    &  -1.900076    &  5.943614e-02 & V1           \\\\\n",
       "\\end{tabular}\n"
      ],
      "text/markdown": [
       "\n",
       "| Estimate | Std. Error | t value | pvalue | names |\n",
       "|---|---|---|---|---|\n",
       "|  4.2565577    | 0.01110523    | 383.293050    | 2.851757e-217 | (Intercept)   |\n",
       "| -0.2634892    | 0.13867298    |  -1.900076    |  5.943614e-02 | V1            |\n",
       "\n"
      ],
      "text/plain": [
       "  Estimate   Std. Error t value    pvalue        names      \n",
       "1  4.2565577 0.01110523 383.293050 2.851757e-217 (Intercept)\n",
       "2 -0.2634892 0.13867298  -1.900076  5.943614e-02 V1         "
      ]
     },
     "metadata": {},
     "output_type": "display_data"
    }
   ],
   "source": [
    "#what pcs/covariates explain the phenotype?\n",
    "predictors <- as.data.table(summary(glm(data=pca_pheno_unlinked, sl ~ V1+V2+V3))$coeff)\n",
    " \n",
    "predictors$names <- row.names(summary(glm(data=pca_pheno_unlinked, sl ~ V1+V2+V3))$coeff)\n",
    "setnames(predictors, 4, \"pvalue\")\n",
    "predictors[pvalue <0.06][order(pvalue)]"
   ]
  },
  {
   "cell_type": "code",
   "execution_count": 56,
   "id": "3fdbb245",
   "metadata": {},
   "outputs": [
    {
     "data": {
      "text/html": [
       "<table>\n",
       "<thead><tr><th scope=col>Estimate</th><th scope=col>Std. Error</th><th scope=col>t value</th><th scope=col>pvalue</th><th scope=col>names</th></tr></thead>\n",
       "<tbody>\n",
       "\t<tr><td>4.077585    </td><td>0.2397162   </td><td>17.01005    </td><td>2.820919e-37</td><td>(Intercept) </td></tr>\n",
       "</tbody>\n",
       "</table>\n"
      ],
      "text/latex": [
       "\\begin{tabular}{r|lllll}\n",
       " Estimate & Std. Error & t value & pvalue & names\\\\\n",
       "\\hline\n",
       "\t 4.077585     & 0.2397162    & 17.01005     & 2.820919e-37 & (Intercept) \\\\\n",
       "\\end{tabular}\n"
      ],
      "text/markdown": [
       "\n",
       "| Estimate | Std. Error | t value | pvalue | names |\n",
       "|---|---|---|---|---|\n",
       "| 4.077585     | 0.2397162    | 17.01005     | 2.820919e-37 | (Intercept)  |\n",
       "\n"
      ],
      "text/plain": [
       "  Estimate Std. Error t value  pvalue       names      \n",
       "1 4.077585 0.2397162  17.01005 2.820919e-37 (Intercept)"
      ]
     },
     "metadata": {},
     "output_type": "display_data"
    }
   ],
   "source": [
    "predictors <- as.data.table(summary(glm(data=pca_pheno_unlinked, ucrit ~ V1+V2+V3))$coeff)\n",
    " \n",
    "predictors$names <- row.names(summary(glm(data=pca_pheno_unlinked, ucrit ~ V1+V2+V3))$coeff)\n",
    "setnames(predictors, 4, \"pvalue\")\n",
    "predictors[pvalue <0.08][order(pvalue)]"
   ]
  },
  {
   "cell_type": "code",
   "execution_count": null,
   "id": "bd3c91ca",
   "metadata": {},
   "outputs": [],
   "source": [
    "summary(aov(data=pca_phenos, pc2~dam))\n",
    "summary(aov(data=pca_phenos, pc2~sire))\n",
    "summary(aov(data=pca_phenos, pc2~sl))"
   ]
  },
  {
   "cell_type": "code",
   "execution_count": null,
   "id": "27d91515",
   "metadata": {},
   "outputs": [],
   "source": [
    "ggplot()+\n",
    "    geom_boxplot(data=pca_phenos, aes(x=dam, y=pc1))+\n",
    "    theme(axis.text.x=element_text(angle=90,hjust=1))"
   ]
  },
  {
   "cell_type": "code",
   "execution_count": null,
   "id": "2b327aa3",
   "metadata": {},
   "outputs": [],
   "source": [
    "ggplot()+\n",
    "    geom_boxplot(data=pca_phenos, aes(x=dam, y=ucrit))+\n",
    "    theme(axis.text.x=element_text(angle=90,hjust=1))"
   ]
  },
  {
   "cell_type": "code",
   "execution_count": null,
   "id": "b5923c5e",
   "metadata": {},
   "outputs": [],
   "source": [
    "#ggplot()+\n",
    "#    geom_point(data=pca_phenos, aes(x=pc1, y=pc2, col=as.factor(case)))"
   ]
  },
  {
   "cell_type": "code",
   "execution_count": null,
   "id": "4d1a8fb5",
   "metadata": {},
   "outputs": [],
   "source": [
    "#ggplot()+\n",
    "#    geom_point(data=pca_phenos[], aes(x=pc1, y=pc2, col=sl)) +\n",
    "#    scale_color_viridis(color.palette=magma)"
   ]
  },
  {
   "cell_type": "code",
   "execution_count": null,
   "id": "ec932d46",
   "metadata": {},
   "outputs": [],
   "source": [
    "#ggplot()+\n",
    "#    geom_point(data=pca_phenos, aes(x=pc1, y=pc2, col=ucrit)) +\n",
    "#    scale_color_viridis(option=\"magma\")"
   ]
  },
  {
   "cell_type": "code",
   "execution_count": null,
   "id": "b95e379a",
   "metadata": {},
   "outputs": [],
   "source": [
    "#ggplot()+\n",
    "#    geom_point(data=pca_phenos, aes(x=pc1, y=pc2, col=sequencing_lib)) +\n",
    "#    scale_color_viridis(option=\"magma\")"
   ]
  },
  {
   "cell_type": "code",
   "execution_count": null,
   "id": "a8e84cbb",
   "metadata": {},
   "outputs": [],
   "source": [
    "ggplot(data=pca_phenos, aes(x=pc1, y=pc2, col=dam, label=sample))+\n",
    "    geom_point() #+\n",
    "    #geom_text(nudge_x = 0.02)"
   ]
  },
  {
   "cell_type": "markdown",
   "id": "0b2f3e30",
   "metadata": {},
   "source": [
    "### evaluate model and plot GWAS results for each phenotype"
   ]
  },
  {
   "cell_type": "code",
   "execution_count": 370,
   "id": "3d111f42",
   "metadata": {},
   "outputs": [],
   "source": [
    "lrt_ucrit <- fread(\"/data/katrinac/APPC_sequencing/DNA/trimmed_reads/mapping/ensembl/genotypes/angsd/ucrit_assoc5_maf0.05_noMaxdepth_minQ30_minCount16.lrt0.gz\")\n",
    "lrt_ucrit[, locus := paste(Chromosome, Position, sep=\":\")]\n",
    "setnames(lrt_ucrit, \"LRTscore\", \"LRT\")\n",
    "\n",
    "#filter out loci in hwe and NAN\n",
    "lrt_filt_ucrit <- lrt_ucrit[LRT>0]\n",
    "#lrt_filt <- lrt[LRT>0]\n",
    "#format for manhattan plot\n",
    "#get pvalues\n",
    "lrt_filt_ucrit$pvalue<-dchisq(lrt_filt_ucrit$LRT, df=1)\n",
    "#lrt_filt_ucrit[, Chromosome := gsub(\".\",\"\", Chromosome, fixed = T)][, Chromosome := gsub(\"CM\",\"\", Chromosome, fixed = T)][, Chromosome := gsub(\"PYAM\",\"\", Chromosome, fixed = T)]\n",
    "#lrt_filt_ucrit[, Chromosome := as.numeric(Chromosome)]\n",
    "lrt_filt_ucrit$SNP<-paste(\"r\",1:length(lrt_filt_ucrit$Chromosome), sep=\"\")\n",
    "\n",
    "\n",
    "lrt_filt_ucrit <- lrt_filt_ucrit[order(LRT)][,quantile:=1:nrow(lrt_filt_ucrit)/nrow(lrt_filt_ucrit)] #quantiles for observed lrt\n",
    "exp_lrt_ucrit <- data.table( exp_lrt = rchisq(nrow(lrt_filt_ucrit), 1))[order(exp_lrt)]\n",
    "lrt_filt_ucrit$exp_lrt_ucrit <-exp_lrt_ucrit[, exp_lrt]\n"
   ]
  },
  {
   "cell_type": "code",
   "execution_count": 358,
   "id": "41356bc1",
   "metadata": {},
   "outputs": [],
   "source": [
    "lrt_sl <- fread(\"/data/katrinac/APPC_sequencing/DNA/trimmed_reads/mapping/ensembl/genotypes/angsd/sl_assoc5_maf0.05_noMaxdepth_unlinkedPC1cov_minQ30_minCount16.lrt0.gz\")\n",
    "lrt_sl[, locus := paste(Chromosome, Position, sep=\":\")]\n",
    "#for hybrid assoc 5\n",
    "#setnames(lrt_sl, \"LRTscore\", \"LRT\")\n",
    "#filter out loci in hwe and NAN\n",
    "lrt_filt_sl <- lrt_sl[LRT>0]\n",
    "#lrt_filt <- lrt[LRT>0]\n",
    "#format for manhattan plot\n",
    "#get pvalues\n",
    "lrt_filt_sl$pvalue<-dchisq(lrt_filt_sl$LRT, df=1)\n",
    "#lrt_filt_sl[, Chromosome := gsub(\".\",\"\", Chromosome, fixed = T)][, Chromosome := gsub(\"CM\",\"\", Chromosome, fixed = T)][, Chromosome := gsub(\"PYAM\",\"\", Chromosome, fixed = T)]\n",
    "#lrt_filt_sl[, Chromosome := as.numeric(Chromosome)]\n",
    "lrt_filt_sl$SNP<-paste(\"r\",1:length(lrt_filt_sl$Chromosome), sep=\"\")\n",
    "\n",
    "\n",
    "lrt_filt_sl <- lrt_filt_sl[order(LRT)][,quantile:=1:nrow(lrt_filt_sl)/nrow(lrt_filt_sl)] #quantiles for observed lrt\n",
    "exp_lrt_sl <- data.table( exp_lrt = rchisq(nrow(lrt_filt_sl), 1))[order(exp_lrt)]\n",
    "lrt_filt_sl$exp_lrt_sl <-exp_lrt_sl[, exp_lrt]\n"
   ]
  },
  {
   "cell_type": "code",
   "execution_count": 261,
   "id": "b92cb16b",
   "metadata": {},
   "outputs": [
    {
     "data": {
      "text/plain": [
       "     Min.   1st Qu.    Median      Mean   3rd Qu.      Max. \n",
       " 0.000001  0.558519  2.259545  3.371162  5.220612 27.188659 "
      ]
     },
     "metadata": {},
     "output_type": "display_data"
    }
   ],
   "source": [
    "summary(lrt_filt_sl$LRT)\n"
   ]
  },
  {
   "cell_type": "code",
   "execution_count": 368,
   "id": "aecde043",
   "metadata": {
    "scrolled": false
   },
   "outputs": [
    {
     "data": {
      "text/html": [
       "0.74382631886411"
      ],
      "text/latex": [
       "0.74382631886411"
      ],
      "text/markdown": [
       "0.74382631886411"
      ],
      "text/plain": [
       "[1] 0.7438263"
      ]
     },
     "metadata": {},
     "output_type": "display_data"
    },
    {
     "data": {
      "text/plain": [
       "     Min.   1st Qu.    Median      Mean   3rd Qu.      Max. \n",
       " 0.000001  0.075038  0.337829  0.751227  0.991546 15.517314 "
      ]
     },
     "metadata": {},
     "output_type": "display_data"
    },
    {
     "data": {
      "image/png": "[encoded data removed]",
      "text/plain": [
       "plot without title"
      ]
     },
     "metadata": {},
     "output_type": "display_data"
    },
    {
     "data": {
      "text/html": [
       "1.48229994163214"
      ],
      "text/latex": [
       "1.48229994163214"
      ],
      "text/markdown": [
       "1.48229994163214"
      ],
      "text/plain": [
       "[1] 1.4823"
      ]
     },
     "metadata": {},
     "output_type": "display_data"
    },
    {
     "data": {
      "text/plain": [
       "     Min.   1st Qu.    Median      Mean   3rd Qu.      Max. \n",
       " 0.000001  0.151434  0.672920  1.366583  1.892780 21.312784 "
      ]
     },
     "metadata": {},
     "output_type": "display_data"
    },
    {
     "data": {
      "image/png": "[encoded data removed]",
      "text/plain": [
       "plot without title"
      ]
     },
     "metadata": {},
     "output_type": "display_data"
    }
   ],
   "source": [
    "#compare plots and inflation \n",
    "qqplot(lrt_filt_ucrit$exp_lrt, lrt_filt_ucrit$LRT)\n",
    "abline(0, 1, col = \"red\")\n",
    "median(lrt_filt_ucrit$LRT) / median(lrt_filt_ucrit$exp_lrt) #GC lambda = ratio at medians\n",
    "summary(lrt_filt_ucrit$LRT)\n",
    "\n",
    "\n",
    "qqplot(lrt_filt_sl$exp_lrt, lrt_filt_sl$LRT)\n",
    "abline(0, 1, col = \"red\")\n",
    "median(lrt_filt_sl$LRT) / median(lrt_filt_sl$exp_lrt) #GC lambda = ratio at medians\n",
    "summary(lrt_filt_sl$LRT)\n"
   ]
  },
  {
   "cell_type": "code",
   "execution_count": 364,
   "id": "0187cfb2",
   "metadata": {},
   "outputs": [
    {
     "data": {
      "text/html": [
       "<table>\n",
       "<thead><tr><th scope=col>Chromosome</th><th scope=col>Position</th><th scope=col>Major</th><th scope=col>Minor</th><th scope=col>Frequency</th><th scope=col>N</th><th scope=col>LRT</th><th scope=col>high_WT/HE/HO</th><th scope=col>LRTem</th><th scope=col>beta</th><th scope=col>SE</th><th scope=col>emIter</th><th scope=col>locus</th><th scope=col>pvalue</th><th scope=col>SNP</th><th scope=col>quantile</th><th scope=col>exp_lrt_ucrit</th></tr></thead>\n",
       "<tbody>\n",
       "\t<tr><td>1           </td><td>11203219    </td><td>T           </td><td>C           </td><td>0.299552    </td><td>159         </td><td>1e-06       </td><td>35/35/1     </td><td>NaN         </td><td>NaN         </td><td>NaN         </td><td>0           </td><td>1:11203219  </td><td>398.9421    </td><td>r1530       </td><td>7.528193e-06</td><td>3.184246e-11</td></tr>\n",
       "\t<tr><td>1           </td><td>27701448    </td><td>C           </td><td>A           </td><td>0.217886    </td><td>159         </td><td>1e-06       </td><td>10/14/0     </td><td>NaN         </td><td>NaN         </td><td>NaN         </td><td>0           </td><td>1:27701448  </td><td>398.9421    </td><td>r2790       </td><td>1.505639e-05</td><td>1.177899e-10</td></tr>\n",
       "\t<tr><td>1           </td><td>41412714    </td><td>T           </td><td>A           </td><td>0.228360    </td><td>159         </td><td>1e-06       </td><td>11/10/1     </td><td>NaN         </td><td>NaN         </td><td>NaN         </td><td>0           </td><td>1:41412714  </td><td>398.9421    </td><td>r4303       </td><td>2.258458e-05</td><td>1.361573e-10</td></tr>\n",
       "\t<tr><td>1           </td><td>42839370    </td><td>C           </td><td>T           </td><td>0.252014    </td><td>159         </td><td>1e-06       </td><td>14/17/0     </td><td>NaN         </td><td>NaN         </td><td>NaN         </td><td>0           </td><td>1:42839370  </td><td>398.9421    </td><td>r4728       </td><td>3.011277e-05</td><td>2.984269e-09</td></tr>\n",
       "\t<tr><td>2           </td><td>38211704    </td><td>C           </td><td>G           </td><td>0.364653    </td><td>159         </td><td>1e-06       </td><td>13/20/2     </td><td>NaN         </td><td>NaN         </td><td>NaN         </td><td>0           </td><td>2:38211704  </td><td>398.9421    </td><td>r8876       </td><td>3.764097e-05</td><td>3.830128e-09</td></tr>\n",
       "\t<tr><td>4           </td><td> 3107432    </td><td>A           </td><td>G           </td><td>0.206735    </td><td>159         </td><td>1e-06       </td><td>39/30/1     </td><td>NaN         </td><td>NaN         </td><td>NaN         </td><td>0           </td><td>4:3107432   </td><td>398.9421    </td><td>r18814      </td><td>4.516916e-05</td><td>3.885042e-09</td></tr>\n",
       "</tbody>\n",
       "</table>\n"
      ],
      "text/latex": [
       "\\begin{tabular}{r|lllllllllllllllll}\n",
       " Chromosome & Position & Major & Minor & Frequency & N & LRT & high\\_WT/HE/HO & LRTem & beta & SE & emIter & locus & pvalue & SNP & quantile & exp\\_lrt\\_ucrit\\\\\n",
       "\\hline\n",
       "\t 1            & 11203219     & T            & C            & 0.299552     & 159          & 1e-06        & 35/35/1      & NaN          & NaN          & NaN          & 0            & 1:11203219   & 398.9421     & r1530        & 7.528193e-06 & 3.184246e-11\\\\\n",
       "\t 1            & 27701448     & C            & A            & 0.217886     & 159          & 1e-06        & 10/14/0      & NaN          & NaN          & NaN          & 0            & 1:27701448   & 398.9421     & r2790        & 1.505639e-05 & 1.177899e-10\\\\\n",
       "\t 1            & 41412714     & T            & A            & 0.228360     & 159          & 1e-06        & 11/10/1      & NaN          & NaN          & NaN          & 0            & 1:41412714   & 398.9421     & r4303        & 2.258458e-05 & 1.361573e-10\\\\\n",
       "\t 1            & 42839370     & C            & T            & 0.252014     & 159          & 1e-06        & 14/17/0      & NaN          & NaN          & NaN          & 0            & 1:42839370   & 398.9421     & r4728        & 3.011277e-05 & 2.984269e-09\\\\\n",
       "\t 2            & 38211704     & C            & G            & 0.364653     & 159          & 1e-06        & 13/20/2      & NaN          & NaN          & NaN          & 0            & 2:38211704   & 398.9421     & r8876        & 3.764097e-05 & 3.830128e-09\\\\\n",
       "\t 4            &  3107432     & A            & G            & 0.206735     & 159          & 1e-06        & 39/30/1      & NaN          & NaN          & NaN          & 0            & 4:3107432    & 398.9421     & r18814       & 4.516916e-05 & 3.885042e-09\\\\\n",
       "\\end{tabular}\n"
      ],
      "text/markdown": [
       "\n",
       "| Chromosome | Position | Major | Minor | Frequency | N | LRT | high_WT/HE/HO | LRTem | beta | SE | emIter | locus | pvalue | SNP | quantile | exp_lrt_ucrit |\n",
       "|---|---|---|---|---|---|---|---|---|---|---|---|---|---|---|---|---|\n",
       "| 1            | 11203219     | T            | C            | 0.299552     | 159          | 1e-06        | 35/35/1      | NaN          | NaN          | NaN          | 0            | 1:11203219   | 398.9421     | r1530        | 7.528193e-06 | 3.184246e-11 |\n",
       "| 1            | 27701448     | C            | A            | 0.217886     | 159          | 1e-06        | 10/14/0      | NaN          | NaN          | NaN          | 0            | 1:27701448   | 398.9421     | r2790        | 1.505639e-05 | 1.177899e-10 |\n",
       "| 1            | 41412714     | T            | A            | 0.228360     | 159          | 1e-06        | 11/10/1      | NaN          | NaN          | NaN          | 0            | 1:41412714   | 398.9421     | r4303        | 2.258458e-05 | 1.361573e-10 |\n",
       "| 1            | 42839370     | C            | T            | 0.252014     | 159          | 1e-06        | 14/17/0      | NaN          | NaN          | NaN          | 0            | 1:42839370   | 398.9421     | r4728        | 3.011277e-05 | 2.984269e-09 |\n",
       "| 2            | 38211704     | C            | G            | 0.364653     | 159          | 1e-06        | 13/20/2      | NaN          | NaN          | NaN          | 0            | 2:38211704   | 398.9421     | r8876        | 3.764097e-05 | 3.830128e-09 |\n",
       "| 4            |  3107432     | A            | G            | 0.206735     | 159          | 1e-06        | 39/30/1      | NaN          | NaN          | NaN          | 0            | 4:3107432    | 398.9421     | r18814       | 4.516916e-05 | 3.885042e-09 |\n",
       "\n"
      ],
      "text/plain": [
       "  Chromosome Position Major Minor Frequency N   LRT   high_WT/HE/HO LRTem beta\n",
       "1 1          11203219 T     C     0.299552  159 1e-06 35/35/1       NaN   NaN \n",
       "2 1          27701448 C     A     0.217886  159 1e-06 10/14/0       NaN   NaN \n",
       "3 1          41412714 T     A     0.228360  159 1e-06 11/10/1       NaN   NaN \n",
       "4 1          42839370 C     T     0.252014  159 1e-06 14/17/0       NaN   NaN \n",
       "5 2          38211704 C     G     0.364653  159 1e-06 13/20/2       NaN   NaN \n",
       "6 4           3107432 A     G     0.206735  159 1e-06 39/30/1       NaN   NaN \n",
       "  SE  emIter locus      pvalue   SNP    quantile     exp_lrt_ucrit\n",
       "1 NaN 0      1:11203219 398.9421 r1530  7.528193e-06 3.184246e-11 \n",
       "2 NaN 0      1:27701448 398.9421 r2790  1.505639e-05 1.177899e-10 \n",
       "3 NaN 0      1:41412714 398.9421 r4303  2.258458e-05 1.361573e-10 \n",
       "4 NaN 0      1:42839370 398.9421 r4728  3.011277e-05 2.984269e-09 \n",
       "5 NaN 0      2:38211704 398.9421 r8876  3.764097e-05 3.830128e-09 \n",
       "6 NaN 0      4:3107432  398.9421 r18814 4.516916e-05 3.885042e-09 "
      ]
     },
     "metadata": {},
     "output_type": "display_data"
    }
   ],
   "source": [
    "head(lrt_filt_ucrit)"
   ]
  },
  {
   "cell_type": "code",
   "execution_count": 263,
   "id": "1c12bc01",
   "metadata": {},
   "outputs": [
    {
     "data": {
      "image/png": "[encoded data removed]",
      "text/plain": [
       "plot without title"
      ]
     },
     "metadata": {},
     "output_type": "display_data"
    }
   ],
   "source": [
    "qqman::qq(lrt_filt_sl$pvalue) "
   ]
  },
  {
   "cell_type": "code",
   "execution_count": 371,
   "id": "c0645825",
   "metadata": {
    "scrolled": false
   },
   "outputs": [],
   "source": [
    "#compare how each phenotype separates from null\n",
    "lrt_ucrit_null <- fread(\"/data/katrinac/APPC_sequencing/DNA/trimmed_reads/mapping/ensembl/genotypes/angsd/permute/assoc2/cat_permuted_assoc2_ucrit.lrt\")\n",
    "#lrt_ucrit[, locus := paste(Chromosome, Position, sep=\":\")]\n",
    "\n",
    "lrt_sl_null <- fread(\"/data/katrinac/APPC_sequencing/DNA/trimmed_reads/mapping/ensembl/genotypes/angsd/permute/assoc2/cat_permuted_assoc2_sl.lrt\")\n",
    "#lrt_sl[, locus := paste(Chromosome, Position, sep=\":\")]\n",
    "#filter out loci in hwe and NAN\n",
    "\n",
    "\n"
   ]
  },
  {
   "cell_type": "code",
   "execution_count": 372,
   "id": "4f78f0e9",
   "metadata": {},
   "outputs": [
    {
     "data": {
      "text/html": [
       "23.345768"
      ],
      "text/latex": [
       "23.345768"
      ],
      "text/markdown": [
       "23.345768"
      ],
      "text/plain": [
       "[1] 23.34577"
      ]
     },
     "metadata": {},
     "output_type": "display_data"
    },
    {
     "data": {
      "text/html": [
       "26.200201"
      ],
      "text/latex": [
       "26.200201"
      ],
      "text/markdown": [
       "26.200201"
      ],
      "text/plain": [
       "[1] 26.2002"
      ]
     },
     "metadata": {},
     "output_type": "display_data"
    }
   ],
   "source": [
    "max(lrt_ucrit_null$LRT)\n",
    "max(lrt_sl_null$LRT)"
   ]
  },
  {
   "cell_type": "code",
   "execution_count": 281,
   "id": "7bbf4e27",
   "metadata": {
    "scrolled": true
   },
   "outputs": [
    {
     "data": {
      "text/html": [
       "18.121044"
      ],
      "text/latex": [
       "18.121044"
      ],
      "text/markdown": [
       "18.121044"
      ],
      "text/plain": [
       "[1] 18.12104"
      ]
     },
     "metadata": {},
     "output_type": "display_data"
    },
    {
     "data": {
      "text/html": [
       "21.312784"
      ],
      "text/latex": [
       "21.312784"
      ],
      "text/markdown": [
       "21.312784"
      ],
      "text/plain": [
       "[1] 21.31278"
      ]
     },
     "metadata": {},
     "output_type": "display_data"
    }
   ],
   "source": [
    "max(lrt_filt_ucrit$LRT)\n",
    "max(lrt_filt_sl$LRT)"
   ]
  },
  {
   "cell_type": "markdown",
   "id": "909efb59",
   "metadata": {},
   "source": [
    "__try using the permutations as the expected for the qq plot__"
   ]
  },
  {
   "cell_type": "code",
   "execution_count": 282,
   "id": "a59fa859",
   "metadata": {},
   "outputs": [
    {
     "data": {
      "image/png": "[encoded data removed]",
      "text/plain": [
       "plot without title"
      ]
     },
     "metadata": {},
     "output_type": "display_data"
    }
   ],
   "source": [
    "lrt_sl_null <- lrt_sl_null[LRT > 0][order(LRT)][,quantile:=1:nrow(lrt_sl_null[LRT > 0])/nrow(lrt_sl_null[LRT > 0])] #quantiles for observed lrt\n",
    "qqplot(lrt_sl_null$LRT, lrt_filt_sl$LRT)\n",
    "abline(0, 1, col = \"red\")"
   ]
  },
  {
   "cell_type": "code",
   "execution_count": 369,
   "id": "88c63f01",
   "metadata": {},
   "outputs": [
    {
     "data": {
      "image/png": "[encoded data removed]",
      "text/plain": [
       "plot without title"
      ]
     },
     "metadata": {},
     "output_type": "display_data"
    }
   ],
   "source": [
    "lrt_ucrit_null <- lrt_ucrit_null[LRT > 0][order(LRT)][,quantile:=1:nrow(lrt_ucrit_null[LRT > 0])/nrow(lrt_ucrit_null[LRT > 0])] #quantiles for observed lrt\n",
    "qqplot(lrt_ucrit_null$LRT, lrt_filt_ucrit$LRT)\n",
    "abline(0, 1, col = \"red\")"
   ]
  },
  {
   "cell_type": "markdown",
   "id": "9044f9a9",
   "metadata": {},
   "source": [
    "__Get the top 5% of LRT from the null permutations, find snps above that threshold in true association__"
   ]
  },
  {
   "cell_type": "code",
   "execution_count": 300,
   "id": "5e4cd35a",
   "metadata": {},
   "outputs": [
    {
     "data": {
      "text/html": [
       "531.419"
      ],
      "text/latex": [
       "531.419"
      ],
      "text/markdown": [
       "531.419"
      ],
      "text/plain": [
       "[1] 531.419"
      ]
     },
     "metadata": {},
     "output_type": "display_data"
    }
   ],
   "source": [
    "0.001 *nrow(lrt_ucrit_null[LRT >0])"
   ]
  },
  {
   "cell_type": "code",
   "execution_count": 301,
   "id": "9edd490b",
   "metadata": {},
   "outputs": [],
   "source": [
    "ucrit_null_top <- lrt_ucrit_null[LRT >0][order(-LRT)][1:531,]"
   ]
  },
  {
   "cell_type": "code",
   "execution_count": 360,
   "id": "2ba3e5bc",
   "metadata": {},
   "outputs": [
    {
     "data": {
      "text/plain": [
       "   Min. 1st Qu.  Median    Mean 3rd Qu.    Max. \n",
       "  10.31   10.72   11.41   11.99   12.64   23.35 "
      ]
     },
     "metadata": {},
     "output_type": "display_data"
    },
    {
     "data": {
      "text/html": [
       "34"
      ],
      "text/latex": [
       "34"
      ],
      "text/markdown": [
       "34"
      ],
      "text/plain": [
       "[1] 34"
      ]
     },
     "metadata": {},
     "output_type": "display_data"
    }
   ],
   "source": [
    "summary(ucrit_null_top$LRT)\n",
    "candidates_ucrit <- lrt_filt_ucrit[LRT > min(ucrit_null_top$LRT)]\n",
    "nrow(candidates_ucrit)"
   ]
  },
  {
   "cell_type": "code",
   "execution_count": null,
   "id": "0adb5cba",
   "metadata": {},
   "outputs": [],
   "source": []
  },
  {
   "cell_type": "markdown",
   "id": "14259dca",
   "metadata": {},
   "source": [
    "__Also for SL phenotype__"
   ]
  },
  {
   "cell_type": "code",
   "execution_count": 297,
   "id": "b08b5e07",
   "metadata": {},
   "outputs": [
    {
     "data": {
      "text/plain": [
       "     Min.   1st Qu.    Median      Mean   3rd Qu.      Max. \n",
       " 0.000001  0.151434  0.672920  1.366583  1.892780 21.312784 "
      ]
     },
     "metadata": {},
     "output_type": "display_data"
    }
   ],
   "source": [
    "summary(lrt_filt_sl$LRT)"
   ]
  },
  {
   "cell_type": "code",
   "execution_count": 298,
   "id": "36771124",
   "metadata": {},
   "outputs": [
    {
     "data": {
      "text/plain": [
       "     Min.   1st Qu.    Median      Mean   3rd Qu.      Max. \n",
       " 0.000001  0.092041  0.409936  0.899869  1.193869 23.074246 "
      ]
     },
     "metadata": {},
     "output_type": "display_data"
    }
   ],
   "source": [
    "summary(lrt_sl_null[LRT>0, LRT])"
   ]
  },
  {
   "cell_type": "code",
   "execution_count": 303,
   "id": "bb4c4856",
   "metadata": {},
   "outputs": [
    {
     "data": {
      "text/html": [
       "437.177"
      ],
      "text/latex": [
       "437.177"
      ],
      "text/markdown": [
       "437.177"
      ],
      "text/plain": [
       "[1] 437.177"
      ]
     },
     "metadata": {},
     "output_type": "display_data"
    }
   ],
   "source": [
    "0.001 *nrow(lrt_sl_null[LRT >0])"
   ]
  },
  {
   "cell_type": "code",
   "execution_count": 361,
   "id": "a6178dda",
   "metadata": {},
   "outputs": [
    {
     "data": {
      "text/plain": [
       "   Min. 1st Qu.  Median    Mean 3rd Qu.    Max. \n",
       "  9.593  10.094  10.776  11.316  11.966  23.074 "
      ]
     },
     "metadata": {},
     "output_type": "display_data"
    },
    {
     "data": {
      "text/html": [
       "508"
      ],
      "text/latex": [
       "508"
      ],
      "text/markdown": [
       "508"
      ],
      "text/plain": [
       "[1] 508"
      ]
     },
     "metadata": {},
     "output_type": "display_data"
    },
    {
     "data": {
      "text/plain": [
       "     Min.   1st Qu.    Median      Mean   3rd Qu.      Max. \n",
       "2.035e-06 2.610e-04 5.170e-04 5.318e-04 7.869e-04 1.064e-03 "
      ]
     },
     "metadata": {},
     "output_type": "display_data"
    }
   ],
   "source": [
    "sl_null_top <- lrt_sl_null[LRT >0][order(-LRT)][1:437,]\n",
    "summary(sl_null_top$LRT)\n",
    "candidates_sl <- lrt_filt_sl[LRT > min(sl_null_top$LRT)]\n",
    "nrow(candidates_sl)\n",
    "summary(candidates_sl$pvalue)"
   ]
  },
  {
   "cell_type": "code",
   "execution_count": null,
   "id": "78a4bafb",
   "metadata": {},
   "outputs": [],
   "source": []
  },
  {
   "cell_type": "code",
   "execution_count": 305,
   "id": "735eda13",
   "metadata": {},
   "outputs": [
    {
     "data": {
      "text/html": [
       "<table>\n",
       "<thead><tr><th scope=col>Chromosome</th><th scope=col>Position</th><th scope=col>Major</th><th scope=col>Minor</th><th scope=col>Frequency</th><th scope=col>N</th><th scope=col>LRT</th><th scope=col>high_WT/HE/HO</th><th scope=col>locus</th><th scope=col>pvalue</th><th scope=col>SNP</th><th scope=col>quantile</th><th scope=col>exp_lrt_sl</th><th scope=col>rank</th><th scope=col>padjBH</th></tr></thead>\n",
       "<tbody>\n",
       "</tbody>\n",
       "</table>\n"
      ],
      "text/latex": [
       "\\begin{tabular}{r|lllllllllllllll}\n",
       " Chromosome & Position & Major & Minor & Frequency & N & LRT & high\\_WT/HE/HO & locus & pvalue & SNP & quantile & exp\\_lrt\\_sl & rank & padjBH\\\\\n",
       "\\hline\n",
       "\\end{tabular}\n"
      ],
      "text/markdown": [
       "\n",
       "| Chromosome | Position | Major | Minor | Frequency | N | LRT | high_WT/HE/HO | locus | pvalue | SNP | quantile | exp_lrt_sl | rank | padjBH |\n",
       "|---|---|---|---|---|---|---|---|---|---|---|---|---|---|---|\n",
       "\n"
      ],
      "text/plain": [
       "     Chromosome Position Major Minor Frequency N LRT high_WT/HE/HO locus pvalue\n",
       "     SNP quantile exp_lrt_sl rank padjBH"
      ]
     },
     "metadata": {},
     "output_type": "display_data"
    }
   ],
   "source": [
    "\n",
    "candidates_sl[locus %in% candidates_ucrit$locus]"
   ]
  },
  {
   "cell_type": "code",
   "execution_count": 306,
   "id": "bd51dc6a",
   "metadata": {},
   "outputs": [
    {
     "data": {
      "text/html": [
       "1.08863865395809e-05"
      ],
      "text/latex": [
       "1.08863865395809e-05"
      ],
      "text/markdown": [
       "1.08863865395809e-05"
      ],
      "text/plain": [
       "[1] 1.088639e-05"
      ]
     },
     "metadata": {},
     "output_type": "display_data"
    }
   ],
   "source": [
    "min(lrt_filt_ucrit$pvalue)"
   ]
  },
  {
   "cell_type": "markdown",
   "id": "155ba1dc",
   "metadata": {},
   "source": [
    "__Calculate the BH critical threshold__"
   ]
  },
  {
   "cell_type": "code",
   "execution_count": null,
   "id": "184c62ec",
   "metadata": {},
   "outputs": [],
   "source": []
  },
  {
   "cell_type": "code",
   "execution_count": 284,
   "id": "40dd1d46",
   "metadata": {
    "scrolled": false
   },
   "outputs": [
    {
     "data": {
      "text/html": [
       "<table>\n",
       "<thead><tr><th scope=col>Chromosome</th><th scope=col>Position</th><th scope=col>Major</th><th scope=col>Minor</th><th scope=col>Frequency</th><th scope=col>N</th><th scope=col>LRT</th><th scope=col>high_WT/HE/HO</th><th scope=col>LRTem</th><th scope=col>beta</th><th scope=col>SE</th><th scope=col>emIter</th><th scope=col>locus</th><th scope=col>pvalue</th><th scope=col>SNP</th><th scope=col>quantile</th><th scope=col>exp_lrt_ucrit</th><th scope=col>rank</th><th scope=col>padjBH</th></tr></thead>\n",
       "<tbody>\n",
       "</tbody>\n",
       "</table>\n"
      ],
      "text/latex": [
       "\\begin{tabular}{r|lllllllllllllllllll}\n",
       " Chromosome & Position & Major & Minor & Frequency & N & LRT & high\\_WT/HE/HO & LRTem & beta & SE & emIter & locus & pvalue & SNP & quantile & exp\\_lrt\\_ucrit & rank & padjBH\\\\\n",
       "\\hline\n",
       "\\end{tabular}\n"
      ],
      "text/markdown": [
       "\n",
       "| Chromosome | Position | Major | Minor | Frequency | N | LRT | high_WT/HE/HO | LRTem | beta | SE | emIter | locus | pvalue | SNP | quantile | exp_lrt_ucrit | rank | padjBH |\n",
       "|---|---|---|---|---|---|---|---|---|---|---|---|---|---|---|---|---|---|---|\n",
       "\n"
      ],
      "text/plain": [
       "     Chromosome Position Major Minor Frequency N LRT high_WT/HE/HO LRTem beta\n",
       "     SE emIter locus pvalue SNP quantile exp_lrt_ucrit rank padjBH"
      ]
     },
     "metadata": {},
     "output_type": "display_data"
    }
   ],
   "source": [
    "lrt_filt_ucrit <- lrt_filt_ucrit[order(pvalue)]\n",
    "lrt_filt_ucrit$rank=1:NROW(lrt_filt_ucrit) #rank snp by order\n",
    "lrt_filt_ucrit$padjBH=(lrt_filt_ucrit$rank/nrow(lrt_filt_ucrit))*.2 #then calculate the critical by dividing each rank by the total number of snps, and then multiply by fdr\n",
    "lrt_filt_ucrit_sig=lrt_filt_ucrit[lrt_filt_ucrit$pvalue<lrt_filt_ucrit$padjBH,]\n",
    "lrt_filt_ucrit_sig"
   ]
  },
  {
   "cell_type": "code",
   "execution_count": 285,
   "id": "d1b9b716",
   "metadata": {},
   "outputs": [
    {
     "data": {
      "text/html": [
       "<table>\n",
       "<thead><tr><th scope=col>Chromosome</th><th scope=col>Position</th><th scope=col>Major</th><th scope=col>Minor</th><th scope=col>Frequency</th><th scope=col>N</th><th scope=col>LRT</th><th scope=col>high_WT/HE/HO</th><th scope=col>locus</th><th scope=col>pvalue</th><th scope=col>SNP</th><th scope=col>quantile</th><th scope=col>exp_lrt_sl</th><th scope=col>rank</th><th scope=col>padjBH</th></tr></thead>\n",
       "<tbody>\n",
       "\t<tr><td>24          </td><td>16962690    </td><td>T           </td><td>G           </td><td>0.258409    </td><td>147         </td><td>20.29089    </td><td>10/13/0     </td><td>24:16962690 </td><td>3.476556e-06</td><td>r104351     </td><td>0.9999906   </td><td>16.15693    </td><td> 2          </td><td>3.775437e-06</td></tr>\n",
       "\t<tr><td>10          </td><td>  406013    </td><td>C           </td><td>T           </td><td>0.253512    </td><td>147         </td><td>14.06247    </td><td>11/13/0     </td><td>10:406013   </td><td>9.402687e-05</td><td>r42819      </td><td>0.9995375   </td><td>12.57565    </td><td>50          </td><td>9.438593e-05</td></tr>\n",
       "</tbody>\n",
       "</table>\n"
      ],
      "text/latex": [
       "\\begin{tabular}{r|lllllllllllllll}\n",
       " Chromosome & Position & Major & Minor & Frequency & N & LRT & high\\_WT/HE/HO & locus & pvalue & SNP & quantile & exp\\_lrt\\_sl & rank & padjBH\\\\\n",
       "\\hline\n",
       "\t 24           & 16962690     & T            & G            & 0.258409     & 147          & 20.29089     & 10/13/0      & 24:16962690  & 3.476556e-06 & r104351      & 0.9999906    & 16.15693     &  2           & 3.775437e-06\\\\\n",
       "\t 10           &   406013     & C            & T            & 0.253512     & 147          & 14.06247     & 11/13/0      & 10:406013    & 9.402687e-05 & r42819       & 0.9995375    & 12.57565     & 50           & 9.438593e-05\\\\\n",
       "\\end{tabular}\n"
      ],
      "text/markdown": [
       "\n",
       "| Chromosome | Position | Major | Minor | Frequency | N | LRT | high_WT/HE/HO | locus | pvalue | SNP | quantile | exp_lrt_sl | rank | padjBH |\n",
       "|---|---|---|---|---|---|---|---|---|---|---|---|---|---|---|\n",
       "| 24           | 16962690     | T            | G            | 0.258409     | 147          | 20.29089     | 10/13/0      | 24:16962690  | 3.476556e-06 | r104351      | 0.9999906    | 16.15693     |  2           | 3.775437e-06 |\n",
       "| 10           |   406013     | C            | T            | 0.253512     | 147          | 14.06247     | 11/13/0      | 10:406013    | 9.402687e-05 | r42819       | 0.9995375    | 12.57565     | 50           | 9.438593e-05 |\n",
       "\n"
      ],
      "text/plain": [
       "  Chromosome Position Major Minor Frequency N   LRT      high_WT/HE/HO\n",
       "1 24         16962690 T     G     0.258409  147 20.29089 10/13/0      \n",
       "2 10           406013 C     T     0.253512  147 14.06247 11/13/0      \n",
       "  locus       pvalue       SNP     quantile  exp_lrt_sl rank padjBH      \n",
       "1 24:16962690 3.476556e-06 r104351 0.9999906 16.15693    2   3.775437e-06\n",
       "2 10:406013   9.402687e-05 r42819  0.9995375 12.57565   50   9.438593e-05"
      ]
     },
     "metadata": {},
     "output_type": "display_data"
    }
   ],
   "source": [
    "lrt_filt_sl <- lrt_filt_sl[order(pvalue)]\n",
    "lrt_filt_sl$rank=1:NROW(lrt_filt_sl) #rank snp by order\n",
    "lrt_filt_sl$padjBH=(lrt_filt_sl$rank/nrow(lrt_filt_sl))*.2 #then calculate the critical by dividing each rank by the total number of snps, and then multiply by fdr\n",
    "lrt_filt_sl_sig=lrt_filt_sl[lrt_filt_sl$pvalue<lrt_filt_sl$padjBH,]\n",
    "lrt_filt_sl_sig"
   ]
  },
  {
   "cell_type": "code",
   "execution_count": 286,
   "id": "f32cf79b",
   "metadata": {},
   "outputs": [
    {
     "data": {
      "text/html": [
       "49"
      ],
      "text/latex": [
       "49"
      ],
      "text/markdown": [
       "49"
      ],
      "text/plain": [
       "[1] 49"
      ]
     },
     "metadata": {},
     "output_type": "display_data"
    }
   ],
   "source": [
    "candidate_sl_bh <- lrt_filt_sl[pvalue < max(lrt_filt_sl_sig$pvalue)]\n",
    "nrow(candidate_sl_bh[order(Chromosome, Position)] )"
   ]
  },
  {
   "cell_type": "code",
   "execution_count": 232,
   "id": "cc5e1d89",
   "metadata": {},
   "outputs": [
    {
     "data": {
      "text/html": [
       "<strong>png:</strong> 2"
      ],
      "text/latex": [
       "\\textbf{png:} 2"
      ],
      "text/markdown": [
       "**png:** 2"
      ],
      "text/plain": [
       "png \n",
       "  2 "
      ]
     },
     "metadata": {},
     "output_type": "display_data"
    }
   ],
   "source": [
    "gw_sl <- dchisq(min(sl_null_top$LRT), df=1)\n",
    "gw_sl_null <- dchisq(min(ucrit_null_top$LRT), df=1)\n",
    "pdf(\"/data/katrinac/APPC_sequencing/DNA/trimmed_reads/mapping/ensembl/genotypes/angsd/results/sl_manhattan.pdf\")\n",
    "qqman::manhattan(lrt_filt_sl, chr=\"Chromosome\", bp=\"Position\", p=\"pvalue\", genomewideline = -log10(max(lrt_filt_sl_sig$pvalue)), suggestiveline = F)\n",
    "dev.off()"
   ]
  },
  {
   "cell_type": "code",
   "execution_count": 186,
   "id": "634541ad",
   "metadata": {},
   "outputs": [
    {
     "data": {
      "text/html": [
       "<strong>png:</strong> 2"
      ],
      "text/latex": [
       "\\textbf{png:} 2"
      ],
      "text/markdown": [
       "**png:** 2"
      ],
      "text/plain": [
       "png \n",
       "  2 "
      ]
     },
     "metadata": {},
     "output_type": "display_data"
    }
   ],
   "source": [
    "gw_ucrit_null <- dchisq(min(ucrit_null_top$LRT), df=1)\n",
    "pdf(\"/data/katrinac/APPC_sequencing/DNA/trimmed_reads/mapping/ensembl/genotypes/angsd/results/ucrit_manhattan.pdf\")\n",
    "qqman::manhattan(lrt_filt_ucrit, chr=\"Chromosome\", bp=\"Position\", p=\"pvalue\", genomewideline = -log10(gw_ucrit_null), suggestiveline = F)\n",
    "dev.off()"
   ]
  },
  {
   "cell_type": "markdown",
   "id": "003d0c03",
   "metadata": {},
   "source": [
    "__write out a list of candidate loci for blast__"
   ]
  },
  {
   "cell_type": "code",
   "execution_count": 309,
   "id": "638a24c1",
   "metadata": {},
   "outputs": [],
   "source": [
    "candidates_sl_blast <- candidates_sl[,.(locus, Chromosome, start=Position-3000, end=Position+3000)]#, range=paste0(start, end, sep=\"-\"))]"
   ]
  },
  {
   "cell_type": "code",
   "execution_count": 311,
   "id": "30903991",
   "metadata": {},
   "outputs": [],
   "source": [
    "candidates_ucrit_blast <- candidates_ucrit[,.(locus, Chromosome, start=Position-3000, end=Position+3000)]#, range=paste0(start, end, sep=\"-\"))]"
   ]
  },
  {
   "cell_type": "code",
   "execution_count": 312,
   "id": "a7a5b347",
   "metadata": {},
   "outputs": [],
   "source": [
    "candidates_sl_blast[, range:=paste(start, end, sep=\"-\")]"
   ]
  },
  {
   "cell_type": "code",
   "execution_count": 313,
   "id": "8231eb0f",
   "metadata": {},
   "outputs": [],
   "source": [
    "candidates_ucrit_blast[, range:=paste(start, end, sep=\"-\")]"
   ]
  },
  {
   "cell_type": "code",
   "execution_count": 314,
   "id": "6bb309dc",
   "metadata": {},
   "outputs": [],
   "source": [
    "fwrite(candidates_sl_blast[,.(Chromosome, start, end)], \"/data/katrinac/APPC_sequencing/DNA/trimmed_reads/mapping/ensembl/genotypes/angsd/results/candidates_sl_loci3kbp.bed\", sep=\"\\t\", col.names = F)\n",
    "fwrite(candidates_sl_bh[,.(Chromosome, start, end)], \"/data/katrinac/APPC_sequencing/DNA/trimmed_reads/mapping/ensembl/genotypes/angsd/results/candidates_sl_loci3kbp.bed\", sep=\"\\t\", col.names = F)"
   ]
  },
  {
   "cell_type": "code",
   "execution_count": 315,
   "id": "0ca61c02",
   "metadata": {},
   "outputs": [],
   "source": [
    "fwrite(candidates_ucrit_blast[,.(Chromosome, start, end)], \"/data/katrinac/APPC_sequencing/DNA/trimmed_reads/mapping/ensembl/genotypes/angsd/results/candidates_ucrit_loci3kbp.bed\", sep=\"\\t\", col.names = F)"
   ]
  },
  {
   "cell_type": "markdown",
   "id": "b5eb4538",
   "metadata": {},
   "source": [
    "__write out the candidate positions to find closest feature in percula genome__"
   ]
  },
  {
   "cell_type": "code",
   "execution_count": 362,
   "id": "b538950d",
   "metadata": {},
   "outputs": [],
   "source": [
    "candidates_sl_bedops <- candidates_sl[,.(locus, Chromosome, start=Position-100, end=Position+100)]#, range=paste0(start, end, sep=\"-\"))]\n",
    "candidates_ucrit_bedops <- candidates_ucrit[,.(locus, Chromosome, start=Position-100, end=Position+100)]#, range=paste0(start, end, sep=\"-\"))]\n",
    "fwrite(candidates_sl_bedops[,.(Chromosome, start, end)], \"/data/katrinac/APPC_sequencing/DNA/trimmed_reads/mapping/ensembl/genotypes/angsd/results/candidates_sl_loci100bp.bed\", sep=\"\\t\", col.names = F)\n",
    "fwrite(candidates_ucrit_bedops[,.(Chromosome, start, end)], \"/data/katrinac/APPC_sequencing/DNA/trimmed_reads/mapping/ensembl/genotypes/angsd/results/candidates_ucrit_loci100bp.bed\", sep=\"\\t\", col.names = F)"
   ]
  },
  {
   "cell_type": "markdown",
   "id": "8d92569a",
   "metadata": {},
   "source": [
    "## blast and bedops in candidate_loci.pynb."
   ]
  },
  {
   "cell_type": "markdown",
   "id": "0b11215c",
   "metadata": {},
   "source": [
    "__read in blast results from amarel__"
   ]
  },
  {
   "cell_type": "code",
   "execution_count": 344,
   "id": "7837a5a4",
   "metadata": {},
   "outputs": [],
   "source": [
    "blast_ucrit_zebra <- fread(\"/data/katrinac/APPC_sequencing/DNA/trimmed_reads/mapping/ensembl/genotypes/angsd/results/zebra_ucrit_candidates_results3kb.out\")\n",
    "blast_header <- c(\"qseqid\", \"sseqid\", \"sstart\", \"send\", \"pident\", \"length\", \"mismatch\", \"gapopen\", \"qstart\", \"qend\", \"evalue\", \"bitscore\")\n",
    "setnames(blast_ucrit_zebra, blast_header)\n",
    "blast_ucrit_zebra[, db :=\"zebra\"]\n",
    "\n",
    "blast_ucrit_frenatus <- fread(\"/data/katrinac/APPC_sequencing/DNA/trimmed_reads/mapping/ensembl/genotypes/angsd/results/afrenatus_ucrit_candidates_results3kb.out\")\n",
    "blast_header <- c(\"qseqid\", \"sseqid\", \"sstart\", \"send\", \"pident\", \"length\", \"mismatch\", \"gapopen\", \"qstart\", \"qend\", \"evalue\", \"bitscore\")\n",
    "setnames(blast_ucrit_frenatus, blast_header)\n",
    "blast_ucrit_frenatus[, db :=\"frenatus\"]\n",
    "\n",
    "blast_ucrit <- rbind(blast_ucrit_frenatus, blast_ucrit_zebra)"
   ]
  },
  {
   "cell_type": "code",
   "execution_count": 340,
   "id": "388f120a",
   "metadata": {},
   "outputs": [],
   "source": [
    "blast_sl_zebra <- fread(\"/data/katrinac/APPC_sequencing/DNA/trimmed_reads/mapping/ensembl/genotypes/angsd/results/zebra_sl_candidates_results3kb.out\")\n",
    "blast_header <- c(\"qseqid\", \"sseqid\", \"sstart\", \"send\", \"pident\", \"length\", \"mismatch\", \"gapopen\", \"qstart\", \"qend\", \"evalue\", \"bitscore\")\n",
    "setnames(blast_sl_zebra, blast_header)\n",
    "blast_sl_zebra[, db :=\"zebra\"]\n",
    "\n",
    "blast_sl_frenatus <- fread(\"/data/katrinac/APPC_sequencing/DNA/trimmed_reads/mapping/ensembl/genotypes/angsd/results/afrenatus_sl_candidates_results3kb.out\")\n",
    "blast_header <- c(\"qseqid\", \"sseqid\", \"sstart\", \"send\", \"pident\", \"length\", \"mismatch\", \"gapopen\", \"qstart\", \"qend\", \"evalue\", \"bitscore\")\n",
    "setnames(blast_sl_frenatus, blast_header)\n",
    "blast_sl_frenatus[, db :=\"frenatus\"]\n",
    "\n",
    "blast_sl <- rbind(blast_sl_frenatus, blast_sl_zebra)"
   ]
  },
  {
   "cell_type": "code",
   "execution_count": 349,
   "id": "8f78503f",
   "metadata": {},
   "outputs": [],
   "source": [
    "best_blast_sl <- blast_sl[, .SD[which.max(bitscore)], by =c(\"qseqid\", \"db\")] #sort by best evalue for each locus\n",
    "best_blast_sl[, `:=`(sstart=ifelse(sstart > send, send, sstart), send=ifelse(sstart > send, sstart, send))]"
   ]
  },
  {
   "cell_type": "code",
   "execution_count": 350,
   "id": "8e454f53",
   "metadata": {},
   "outputs": [],
   "source": [
    "best_blast_ucrit <- blast_ucrit[, .SD[which.max(bitscore)], by =c(\"qseqid\", \"db\")] #sort by best evalue for each locus\n",
    "best_blast_ucrit[, `:=`(sstart=ifelse(sstart > send, send, sstart), send=ifelse(sstart > send, sstart, send))]"
   ]
  },
  {
   "cell_type": "markdown",
   "id": "bf6ddd61",
   "metadata": {},
   "source": [
    "__print out the best and then extract those regions from the corresponding gff in candidate_loci.ipynb__"
   ]
  },
  {
   "cell_type": "code",
   "execution_count": 355,
   "id": "23074d58",
   "metadata": {},
   "outputs": [],
   "source": [
    "fwrite(best_blast_sl[db==\"frenatus\",.(sseqid, sstart, send)],\"/data/katrinac/APPC_sequencing/DNA/trimmed_reads/mapping/ensembl/genotypes/angsd/results/best_blast_sl_3kbp_frenatus.bed\", col.names = F, sep=\"\\t\")\n",
    "fwrite(best_blast_sl[db==\"zebra\",.(sseqid, sstart, send)],\"/data/katrinac/APPC_sequencing/DNA/trimmed_reads/mapping/ensembl/genotypes/angsd/results/best_blast_sl_3kbp_zebra.bed\", col.names = F, sep=\"\\t\")"
   ]
  },
  {
   "cell_type": "code",
   "execution_count": 356,
   "id": "04ddaffd",
   "metadata": {},
   "outputs": [],
   "source": [
    "fwrite(best_blast_ucrit[db==\"frenatus\",.(sseqid, sstart, send)],\"/data/katrinac/APPC_sequencing/DNA/trimmed_reads/mapping/ensembl/genotypes/angsd/results/best_blast_ucrit_3kbp_frenatus.bed\", col.names = F, sep=\"\\t\")\n",
    "fwrite(best_blast_ucrit[db==\"zebra\",.(sseqid, sstart, send)],\"/data/katrinac/APPC_sequencing/DNA/trimmed_reads/mapping/ensembl/genotypes/angsd/results/best_blast_ucrit_3kbp_zebra.bed\", col.names = F, sep=\"\\t\")"
   ]
  },
  {
   "cell_type": "markdown",
   "id": "266a12ea",
   "metadata": {},
   "source": [
    "__read the extracted gff files back in to narrow down on the best and get the go annotations for enrichment__"
   ]
  },
  {
   "cell_type": "code",
   "execution_count": 211,
   "id": "b80896c2",
   "metadata": {},
   "outputs": [
    {
     "data": {
      "text/html": [
       "<table>\n",
       "<thead><tr><th scope=col>qseqid</th><th scope=col>sseqid</th><th scope=col>sstart</th><th scope=col>send</th><th scope=col>pident</th><th scope=col>length</th><th scope=col>mismatch</th><th scope=col>gapopen</th><th scope=col>qstart</th><th scope=col>qend</th><th scope=col>evalue</th><th scope=col>bitscore</th></tr></thead>\n",
       "<tbody>\n",
       "\t<tr><td>2:5427895-5437894  </td><td>CHR_ALT_CTG8_1_11  </td><td>26631634           </td><td>26631715           </td><td> 86.747            </td><td> 83                </td><td>10                 </td><td>1                  </td><td>7448               </td><td>7530               </td><td>1.39e-13           </td><td> 91.6              </td></tr>\n",
       "\t<tr><td>2:23958024-23968023</td><td>16                 </td><td>20607110           </td><td>20607141           </td><td>100.000            </td><td> 32                </td><td> 0                 </td><td>0                  </td><td> 835               </td><td> 866               </td><td>3.92e-04           </td><td> 60.2              </td></tr>\n",
       "\t<tr><td>3:14330725-14340724</td><td>3                  </td><td>56308670           </td><td>56308830           </td><td> 87.654            </td><td>162                </td><td>19                 </td><td>1                  </td><td>5019               </td><td>5180               </td><td>1.73e-42           </td><td>187.0              </td></tr>\n",
       "\t<tr><td>5:26591316-26601315</td><td>16                 </td><td>55120665           </td><td>55120876           </td><td> 78.605            </td><td>215                </td><td>39                 </td><td>4                  </td><td> 883               </td><td>1093               </td><td>6.34e-27           </td><td>135.0              </td></tr>\n",
       "\t<tr><td>6:1316877-1326876  </td><td>6                  </td><td>55332457           </td><td>55332555           </td><td> 84.158            </td><td>101                </td><td>12                 </td><td>4                  </td><td>7111               </td><td>7209               </td><td>1.08e-14           </td><td> 95.3              </td></tr>\n",
       "\t<tr><td>7:5223068-5233067  </td><td>16                 </td><td>52608493           </td><td>52608671           </td><td> 82.123            </td><td>179                </td><td>32                 </td><td>0                  </td><td>8236               </td><td>8414               </td><td>1.75e-32           </td><td>154.0              </td></tr>\n",
       "</tbody>\n",
       "</table>\n"
      ],
      "text/latex": [
       "\\begin{tabular}{r|llllllllllll}\n",
       " qseqid & sseqid & sstart & send & pident & length & mismatch & gapopen & qstart & qend & evalue & bitscore\\\\\n",
       "\\hline\n",
       "\t 2:5427895-5437894         & CHR\\_ALT\\_CTG8\\_1\\_11 & 26631634                  & 26631715                  &  86.747                   &  83                       & 10                        & 1                         & 7448                      & 7530                      & 1.39e-13                  &  91.6                    \\\\\n",
       "\t 2:23958024-23968023 & 16                  & 20607110            & 20607141            & 100.000             &  32                 &  0                  & 0                   &  835                &  866                & 3.92e-04            &  60.2              \\\\\n",
       "\t 3:14330725-14340724 & 3                   & 56308670            & 56308830            &  87.654             & 162                 & 19                  & 1                   & 5019                & 5180                & 1.73e-42            & 187.0              \\\\\n",
       "\t 5:26591316-26601315 & 16                  & 55120665            & 55120876            &  78.605             & 215                 & 39                  & 4                   &  883                & 1093                & 6.34e-27            & 135.0              \\\\\n",
       "\t 6:1316877-1326876   & 6                   & 55332457            & 55332555            &  84.158             & 101                 & 12                  & 4                   & 7111                & 7209                & 1.08e-14            &  95.3              \\\\\n",
       "\t 7:5223068-5233067   & 16                  & 52608493            & 52608671            &  82.123             & 179                 & 32                  & 0                   & 8236                & 8414                & 1.75e-32            & 154.0              \\\\\n",
       "\\end{tabular}\n"
      ],
      "text/markdown": [
       "\n",
       "| qseqid | sseqid | sstart | send | pident | length | mismatch | gapopen | qstart | qend | evalue | bitscore |\n",
       "|---|---|---|---|---|---|---|---|---|---|---|---|\n",
       "| 2:5427895-5437894   | CHR_ALT_CTG8_1_11   | 26631634            | 26631715            |  86.747             |  83                 | 10                  | 1                   | 7448                | 7530                | 1.39e-13            |  91.6               |\n",
       "| 2:23958024-23968023 | 16                  | 20607110            | 20607141            | 100.000             |  32                 |  0                  | 0                   |  835                |  866                | 3.92e-04            |  60.2               |\n",
       "| 3:14330725-14340724 | 3                   | 56308670            | 56308830            |  87.654             | 162                 | 19                  | 1                   | 5019                | 5180                | 1.73e-42            | 187.0               |\n",
       "| 5:26591316-26601315 | 16                  | 55120665            | 55120876            |  78.605             | 215                 | 39                  | 4                   |  883                | 1093                | 6.34e-27            | 135.0               |\n",
       "| 6:1316877-1326876   | 6                   | 55332457            | 55332555            |  84.158             | 101                 | 12                  | 4                   | 7111                | 7209                | 1.08e-14            |  95.3               |\n",
       "| 7:5223068-5233067   | 16                  | 52608493            | 52608671            |  82.123             | 179                 | 32                  | 0                   | 8236                | 8414                | 1.75e-32            | 154.0               |\n",
       "\n"
      ],
      "text/plain": [
       "  qseqid              sseqid            sstart   send     pident  length\n",
       "1 2:5427895-5437894   CHR_ALT_CTG8_1_11 26631634 26631715  86.747  83   \n",
       "2 2:23958024-23968023 16                20607110 20607141 100.000  32   \n",
       "3 3:14330725-14340724 3                 56308670 56308830  87.654 162   \n",
       "4 5:26591316-26601315 16                55120665 55120876  78.605 215   \n",
       "5 6:1316877-1326876   6                 55332457 55332555  84.158 101   \n",
       "6 7:5223068-5233067   16                52608493 52608671  82.123 179   \n",
       "  mismatch gapopen qstart qend evalue   bitscore\n",
       "1 10       1       7448   7530 1.39e-13  91.6   \n",
       "2  0       0        835    866 3.92e-04  60.2   \n",
       "3 19       1       5019   5180 1.73e-42 187.0   \n",
       "4 39       4        883   1093 6.34e-27 135.0   \n",
       "5 12       4       7111   7209 1.08e-14  95.3   \n",
       "6 32       0       8236   8414 1.75e-32 154.0   "
      ]
     },
     "metadata": {},
     "output_type": "display_data"
    },
    {
     "data": {
      "text/html": [
       "24"
      ],
      "text/latex": [
       "24"
      ],
      "text/markdown": [
       "24"
      ],
      "text/plain": [
       "[1] 24"
      ]
     },
     "metadata": {},
     "output_type": "display_data"
    }
   ],
   "source": [
    "blast_sl <- fread(\"/data/katrinac/APPC_sequencing/DNA/trimmed_reads/mapping/ensembl/genotypes/angsd/results/zebra_sl_candidates_results.out\")\n",
    "best_blast_sl <- blast_sl[, .SD[which.min(evalue)], by =\"qseqid\"] #sort by best evalue for each locus\n",
    "best_blast_sl[, `:=`(sstart=ifelse(sstart > send, send, sstart), send=ifelse(sstart > send, sstart, send))]\n",
    "head(best_blast_sl)\n",
    "nrow(best_blast_sl)"
   ]
  },
  {
   "cell_type": "code",
   "execution_count": null,
   "id": "163421b9",
   "metadata": {},
   "outputs": [],
   "source": []
  },
  {
   "cell_type": "code",
   "execution_count": null,
   "id": "7590cee8",
   "metadata": {},
   "outputs": [],
   "source": []
  },
  {
   "cell_type": "code",
   "execution_count": null,
   "id": "563bcec6",
   "metadata": {},
   "outputs": [],
   "source": []
  },
  {
   "cell_type": "code",
   "execution_count": null,
   "id": "9b1c5cab",
   "metadata": {},
   "outputs": [],
   "source": []
  },
  {
   "cell_type": "code",
   "execution_count": null,
   "id": "e03b25b2",
   "metadata": {},
   "outputs": [],
   "source": []
  },
  {
   "cell_type": "code",
   "execution_count": null,
   "id": "477d8895",
   "metadata": {},
   "outputs": [],
   "source": [
    "Proportion of variance in phenotype explained by a given SNP (PVE) = [2*(beta^2)*MAF*(1-MAF)]/[2*(beta^2)*MAF(1-MAF)+((se(beta))^2)*2*N*MAF*(1-MAF)]\n",
    "where:\n",
    "N - sample size\n",
    "se(beta) - standard error of effect size for the genetic variant of interest\n",
    "beta - effect size for the genetic variant of interest\n",
    "MAF - minor allele frequency for the genetic variant of interest\n",
    "it is described in:\n",
    "Shim, H., Chasman, D.I., Smith, J.D., Mora, S., Ridker, P.M., Nickerson, D.A., Krauss, R.M., and Stephens, M. (2015). A multivariate genome-wide association analysis of 10 LDL subfractions, and their response to statin treatment, in 1868 Caucasians. PLoS One 10, e0120758.\n",
    "Supplementary Information: S1: Computing proportion of variance in phenotype explained by a given SNP (PVE)."
   ]
  }
 ],
 "metadata": {
  "kernelspec": {
   "display_name": "R",
   "language": "R",
   "name": "ir"
  },
  "language_info": {
   "codemirror_mode": "r",
   "file_extension": ".r",
   "mimetype": "text/x-r-source",
   "name": "R",
   "pygments_lexer": "r",
   "version": "3.6.1"
  }
 },
 "nbformat": 4,
 "nbformat_minor": 5
}
