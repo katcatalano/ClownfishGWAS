{
 "cells": [
  {
   "cell_type": "markdown",
   "id": "398933e4",
   "metadata": {},
   "source": [
    "__In ngsLD conda env__"
   ]
  },
  {
   "cell_type": "code",
   "execution_count": null,
   "id": "aa0485b0",
   "metadata": {},
   "outputs": [],
   "source": [
    "conda create --name ngsld"
   ]
  },
  {
   "cell_type": "markdown",
   "id": "a1716b52",
   "metadata": {},
   "source": [
    "__follow install instructions https://github.com/fgvieira/ngsLD__"
   ]
  },
  {
   "cell_type": "code",
   "execution_count": 44,
   "id": "d09ed416",
   "metadata": {},
   "outputs": [
    {
     "name": "stdout",
     "output_type": "stream",
     "text": [
      "/data/katrinac/APPC_sequencing/DNA/trimmed_reads/mapping/ensembl/genotypes/angsd/ngsld\n"
     ]
    }
   ],
   "source": [
    "%cd /data/katrinac/APPC_sequencing/DNA/trimmed_reads/mapping/ensembl/genotypes/angsd/ngsld/"
   ]
  },
  {
   "cell_type": "markdown",
   "id": "f671dfad",
   "metadata": {},
   "source": [
    "__check number of positions- subtract 1 for header row__"
   ]
  },
  {
   "cell_type": "code",
   "execution_count": 21,
   "id": "d84507de",
   "metadata": {},
   "outputs": [
    {
     "name": "stdout",
     "output_type": "stream",
     "text": [
      "6295268\r\n"
     ]
    }
   ],
   "source": [
    "!zcat ensembl_appc_angsd_probs_doGeno8.beagle.gz | wc -l\n",
    "#!cat appc_angsd_pos.txt | wc -l"
   ]
  },
  {
   "cell_type": "code",
   "execution_count": 28,
   "id": "6ef13ffb",
   "metadata": {},
   "outputs": [
    {
     "name": "stdout",
     "output_type": "stream",
     "text": [
      "/data/katrinac/APPC_sequencing/DNA/trimmed_reads/mapping/ensembl/genotypes/angsd\n"
     ]
    }
   ],
   "source": [
    "%cd /data/katrinac/APPC_sequencing/DNA/trimmed_reads/mapping/ensembl/genotypes/angsd"
   ]
  },
  {
   "cell_type": "markdown",
   "id": "6c46d14e",
   "metadata": {},
   "source": [
    "__make a positions file for ngsld__\n"
   ]
  },
  {
   "cell_type": "code",
   "execution_count": 41,
   "id": "e5107820",
   "metadata": {},
   "outputs": [],
   "source": [
    "!zcat angsd/ensembl_appc_angsd_probs.maf.gz | awk '{print $1\"\\t\"$2}' > angsd/ngsld/ensembl_appc_angsd_probs_doGeno8_forngsLD_pos.txt #needs to be tab separated"
   ]
  },
  {
   "cell_type": "code",
   "execution_count": 42,
   "id": "a010d48d",
   "metadata": {},
   "outputs": [
    {
     "name": "stdout",
     "output_type": "stream",
     "text": [
      "Chromo\tPosition\r\n",
      "1\t164\r\n",
      "1\t479\r\n",
      "1\t480\r\n",
      "1\t787\r\n",
      "1\t1492\r\n",
      "1\t2973\r\n",
      "1\t3230\r\n",
      "1\t3234\r\n",
      "1\t3335\r\n"
     ]
    }
   ],
   "source": [
    "!head angsd/ngsld/ensembl_appc_angsd_probs_doGeno8_forngsLD_pos.txt "
   ]
  },
  {
   "cell_type": "markdown",
   "id": "82f4089a",
   "metadata": {},
   "source": [
    "__this works, from ~/ in base environment or ngsld in terminal__ \n"
   ]
  },
  {
   "cell_type": "code",
   "execution_count": null,
   "id": "cbcbf512",
   "metadata": {},
   "outputs": [],
   "source": [
    "nohup /local/home/katrinac/ngsLD/ngsLD --geno /data/katrinac/APPC_sequencing/DNA/trimmed_reads/mapping/ensembl/genotypes/angsd/ensembl_appc_angsd_probs_doGeno8.beagle.gz --probs --n_ind 159 --n_threads 40 --n_sites 6295267 --posH /data/katrinac/APPC_sequencing/DNA/trimmed_reads/mapping/ensembl/genotypes/angsd/ngsld/ensembl_appc_angsd_probs_doGeno8_forngsLD_pos.txt --outH /data/katrinac/APPC_sequencing/DNA/trimmed_reads/mapping/ensembl/genotypes/angsd/ngsld/ensembl_appc_angsd_probs_doGeno8_ngsLD.tsv >> nohup_ngsld.out &"
   ]
  },
  {
   "cell_type": "markdown",
   "id": "437b6266",
   "metadata": {},
   "source": [
    "__fit LD decay model- in terminal, be sure to move to background__"
   ]
  },
  {
   "cell_type": "markdown",
   "id": "7dc3534c",
   "metadata": {},
   "source": [
    "__file is too big, need to randomly sample first__"
   ]
  },
  {
   "cell_type": "code",
   "execution_count": 45,
   "id": "a584826e",
   "metadata": {},
   "outputs": [],
   "source": [
    "!shuf -n 10000 /data/katrinac/APPC_sequencing/DNA/trimmed_reads/mapping/genotypes/angsd/ngsld/appc_ngsLD.tsv > /data/katrinac/APPC_sequencing/DNA/trimmed_reads/mapping/genotypes/angsd/ngsld/appc_ngsLD_sample.tsv"
   ]
  },
  {
   "cell_type": "code",
   "execution_count": null,
   "id": "ff831aa3",
   "metadata": {},
   "outputs": [],
   "source": [
    "#add the header line\n",
    "!sed -i '1 i #site1\\tsite2\\tdist\\tr^2_ExpG\\tD\\tD'\\tr^2' /data/katrinac/APPC_sequencing/DNA/trimmed_reads/mapping/genotypes/angsd/ngsld/appc_ngsLD_sample.ld"
   ]
  },
  {
   "cell_type": "code",
   "execution_count": 49,
   "id": "e88bc159",
   "metadata": {},
   "outputs": [
    {
     "name": "stdout",
     "output_type": "stream",
     "text": [
      "PYAM01000117.1:3846\tPYAM01000117.1:10455\t6609\t0.009559\t0.067509\t0.481028\t0.190643\n",
      "PYAM01000117.1:4443\tPYAM01000117.1:22287\t17844\t0.000683\t-0.039773\t0.576455\t0.049491\n",
      "PYAM01000117.1:3854\tPYAM01000117.1:22287\t18433\t0.008007\t-0.047751\t0.957737\t0.079045\n",
      "PYAM01000117.1:3882\tPYAM01000117.1:22287\t18405\t0.022576\t-0.023291\t0.753534\t0.026008\n",
      "PYAM01000117.1:2580\tPYAM01000117.1:10445\t7865\t0.021801\t-0.008679\t0.976184\t0.011390\n",
      "PYAM01000117.1:3846\tPYAM01000117.1:20475\t16629\t0.000472\t0.020349\t0.185111\t0.009956\n",
      "PYAM01000117.1:2580\tPYAM01000117.1:10455\t7875\t0.016249\t-0.006922\t0.978035\t0.008570\n",
      "PYAM01000117.1:3846\tPYAM01000117.1:22287\t18441\t0.005994\t-0.021501\t0.669912\t0.021539\n",
      "PYAM01000117.1:2580\tPYAM01000117.1:20475\t17895\t0.027384\t-0.015047\t0.764707\t0.022975\n",
      "PYAM01000117.1:2580\tPYAM01000117.1:22287\t19707\t0.013888\t0.023868\t0.722273\t0.124846\n",
      "CM009719.1:7049360\tCM009719.1:7077477\t28117\t0.047725\t0.122486\t0.742718\t0.458564\n",
      "CM009730.1:4527358\tCM009730.1:4578672\t51314\t0.000020\t-0.016891\t0.762993\t0.018267\n",
      "CM009709.1:19238573\tCM009709.1:19238666\t93\t0.031530\t-0.152535\t0.894044\t0.426077\n",
      "CM009730.1:17688856\tCM009730.1:17767107\t78251\t0.016375\t0.068120\t0.488064\t0.103028\n",
      "CM009722.1:4889640\tCM009722.1:4974448\t84808\t0.000004\t-0.043930\t0.868594\t0.072199\n",
      "CM009709.1:42091764\tCM009709.1:42115629\t23865\t0.000840\t-0.023252\t0.675192\t0.025496\n",
      "CM009729.1:13170595\tCM009729.1:13191239\t20644\t0.004501\t-0.028012\t0.469917\t0.026911\n",
      "CM009709.1:2167738\tCM009709.1:2173823\t6085\t0.035866\t0.143127\t0.930042\t0.822501\n",
      "CM009714.1:18924460\tCM009714.1:19000160\t75700\t0.014440\t-0.088480\t0.652782\t0.145278\n",
      "CM009711.1:10663468\tCM009711.1:10700154\t36686\t0.018878\t-0.090315\t0.576609\t0.144650\n"
     ]
    }
   ],
   "source": [
    "!tail /data/katrinac/APPC_sequencing/DNA/trimmed_reads/mapping/genotypes/angsd/ngsld/appc_ngsLD.tsv\n",
    "!tail /data/katrinac/APPC_sequencing/DNA/trimmed_reads/mapping/genotypes/angsd/ngsld/appc_ngsLD_sample.tsv"
   ]
  },
  {
   "cell_type": "code",
   "execution_count": 37,
   "id": "caa39726",
   "metadata": {},
   "outputs": [
    {
     "name": "stderr",
     "output_type": "stream",
     "text": [
      "UsageError: Line magic function `%` not found.\n"
     ]
    }
   ],
   "source": [
    "Rscript --vanilla --slave scripts/fit_LDdecay.R --ld_files /data/katrinac/APPC_sequencing/DNA/trimmed_reads/mapping/genotypes/angsd/ngsld/infiles.ld --plot_x_lim 14 --n_ind 159 --ld r2 --max_kb_dist 200 --fit_boot 100 --fit_bin_size 1000 --fit_level 100 --plot_data --plot_scale 3 --out /data/katrinac/APPC_sequencing/DNA/trimmed_reads/mapping/genotypes/angsd/ngsld/LD_plot_CI.pdf"
   ]
  },
  {
   "cell_type": "markdown",
   "id": "b26e6b90",
   "metadata": {},
   "source": [
    "__the pruning perl script takes a long time and is not possible to multi thread so split file by chromosome- use R to create a chromosomes file from the maf with a data.table summary, but group PYAM together so there aren't hundreds of files because those are contigs__"
   ]
  },
  {
   "cell_type": "code",
   "execution_count": null,
   "id": "f35f998b",
   "metadata": {},
   "outputs": [],
   "source": [
    "!for i in $(cat /data/katrinac/APPC_sequencing/DNA/trimmed_reads/mapping/ensembl/genotypes/angsd/ngsld/chromosomes.txt ); do echo -e \"#site1\\tsite2\\tdist\\tr^2_ExpG\\tD\\tD'\\tr^2\" > /data/katrinac/APPC_sequencing/DNA/trimmed_reads/mapping/genotypes/angsd/ngsld/$i\\_appc_ngsLD.tsv; grep \"^$i\" /data/katrinac/APPC_sequencing/DNA/trimmed_reads/mapping/ensembl/genotypes/angsd/ngsld/appc_ngsLD.tsv >> /data/katrinac/APPC_sequencing/DNA/trimmed_reads/mapping/ensembl/genotypes/angsd/ngsld/$i\\_appc_ngsLD.tsv; done"
   ]
  },
  {
   "cell_type": "markdown",
   "id": "05405bdf",
   "metadata": {},
   "source": [
    "__execute the perl script below for each chrom ld file made above__"
   ]
  },
  {
   "cell_type": "code",
   "execution_count": null,
   "id": "a1b0f5f9",
   "metadata": {},
   "outputs": [],
   "source": [
    "nohup perl /local/home/katrinac/ngsLD/scripts/prune_graph.pl --in_file /data/katrinac/APPC_sequencing/DNA/trimmed_reads/mapping/genotypes/angsd/ngsld/appc_ngsLD.tsv --max_kb_dist 5 --min_weight 0.5 --out /data/katrinac/APPC_sequencing/DNA/trimmed_reads/mapping/genotypes/angsd/ngsld/appc_unlinked.id >> nohup_perl_ld.out &"
   ]
  },
  {
   "cell_type": "markdown",
   "id": "2a7afc16",
   "metadata": {},
   "source": [
    "__cat the files together for one unlinked text file for angsd__"
   ]
  },
  {
   "cell_type": "markdown",
   "id": "66588a3b",
   "metadata": {},
   "source": [
    "### move back to ANGSD_genolike.ipynb to restrict to the unlinked sites"
   ]
  },
  {
   "cell_type": "code",
   "execution_count": null,
   "id": "286f2b81",
   "metadata": {},
   "outputs": [],
   "source": []
  }
 ],
 "metadata": {
  "kernelspec": {
   "display_name": "Python 3 (ipykernel)",
   "language": "python",
   "name": "python3"
  },
  "language_info": {
   "codemirror_mode": {
    "name": "ipython",
    "version": 3
   },
   "file_extension": ".py",
   "mimetype": "text/x-python",
   "name": "python",
   "nbconvert_exporter": "python",
   "pygments_lexer": "ipython3",
   "version": "3.7.3"
  }
 },
 "nbformat": 4,
 "nbformat_minor": 5
}
