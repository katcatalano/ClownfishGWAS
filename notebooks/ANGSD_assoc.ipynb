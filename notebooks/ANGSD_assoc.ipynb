{
 "cells": [
  {
   "cell_type": "code",
   "execution_count": 1,
   "id": "da7499d1",
   "metadata": {},
   "outputs": [
    {
     "name": "stdout",
     "output_type": "stream",
     "text": [
      "/local/home/katrinac/ClownfishGWAS/data/APPC_sequencing/DNA/trimmed_reads/mapping/genotypes\n"
     ]
    }
   ],
   "source": [
    "%cd ~/ClownfishGWAS/data/APPC_sequencing/DNA/trimmed_reads/mapping/genotypes/"
   ]
  },
  {
   "cell_type": "code",
   "execution_count": null,
   "id": "ecb63fe5",
   "metadata": {
    "scrolled": false
   },
   "outputs": [],
   "source": []
  },
  {
   "cell_type": "code",
   "execution_count": null,
   "id": "bd2bc3ce",
   "metadata": {},
   "outputs": [],
   "source": []
  },
  {
   "cell_type": "code",
   "execution_count": null,
   "id": "4094d5cd",
   "metadata": {
    "scrolled": true
   },
   "outputs": [
    {
     "name": "stdout",
     "output_type": "stream",
     "text": [
      "\t-> angsd version: 0.918 (htslib: 1.5) build(Jul  5 2017 14:48:45)\n",
      "\t-> SNP-filter using a pvalue: 1.000000e-06 correspond to 23.928127 likelihood units\n",
      "\t-> Parsing 159 number of samples \n",
      "\n",
      "\t-> Allocated ~ 10 million nodes to the nodepool, this is not an estimate of the memory usage\n",
      "\n",
      "\t-> Allocated ~ 20 million nodes to the nodepool, this is not an estimate of the memory usage\n",
      "\n",
      "\t-> Allocated ~ 30 million nodes to the nodepool, this is not an estimate of the memory usage\n",
      "\n",
      "\t-> Allocated ~ 40 million nodes to the nodepool, this is not an estimate of the memory usage\n",
      "\n",
      "\t-> Allocated ~ 50 million nodes to the nodepool, this is not an estimate of the memory usage\n",
      "\n",
      "\t-> Allocated ~ 60 million nodes to the nodepool, this is not an estimate of the memory usage\n",
      "\n",
      "\t-> Allocated ~ 70 million nodes to the nodepool, this is not an estimate of the memory usage\n",
      "\n",
      "\t-> Allocated ~ 80 million nodes to the nodepool, this is not an estimate of the memory usage\n",
      "\t-> Printing at chr: CM009708.1 pos:76549 chunknumber 100 contains 1382 sites\n",
      "\t-> Allocated ~ 90 million nodes to the nodepool, this is not an estimate of the memory usage\n",
      "\n",
      "\t-> Allocated ~ 100 million nodes to the nodepool, this is not an estimate of the memory usage\n",
      "\n",
      "\t-> Allocated ~ 110 million nodes to the nodepool, this is not an estimate of the memory usage\n",
      "\n",
      "\t-> Allocated ~ 120 million nodes to the nodepool, this is not an estimate of the memory usage\n",
      "\n",
      "\t-> Allocated ~ 130 million nodes to the nodepool, this is not an estimate of the memory usage\n",
      "\n",
      "\t-> Allocated ~ 140 million nodes to the nodepool, this is not an estimate of the memory usage\n",
      "\n",
      "\t-> Allocated ~ 150 million nodes to the nodepool, this is not an estimate of the memory usage\n",
      "\t-> Printing at chr: CM009708.1 pos:332584 chunknumber 400 contains 254 sitess\n",
      "\t-> Allocated ~ 160 million nodes to the nodepool, this is not an estimate of the memory usage\n",
      "\n",
      "\t-> Allocated ~ 170 million nodes to the nodepool, this is not an estimate of the memory usage\n",
      "\t-> Printing at chr: CM009708.1 pos:1766076 chunknumber 1500 contains 253 sites\n",
      "\t-> Allocated ~ 180 million nodes to the nodepool, this is not an estimate of the memory usage\n",
      "\n",
      "\t-> Allocated ~ 190 million nodes to the nodepool, this is not an estimate of the memory usage\n",
      "\n",
      "\t-> Allocated ~ 200 million nodes to the nodepool, this is not an estimate of the memory usage\n",
      "\n",
      "\t-> Allocated ~ 210 million nodes to the nodepool, this is not an estimate of the memory usage\n",
      "\n",
      "\t-> Allocated ~ 220 million nodes to the nodepool, this is not an estimate of the memory usage\n",
      "\n",
      "\t-> Allocated ~ 230 million nodes to the nodepool, this is not an estimate of the memory usage\n",
      "\t-> Printing at chr: CM009708.1 pos:5250640 chunknumber 3500 contains 2999 sites\n",
      "\t-> Allocated ~ 240 million nodes to the nodepool, this is not an estimate of the memory usage\n",
      "\n",
      "\t-> Allocated ~ 250 million nodes to the nodepool, this is not an estimate of the memory usage\n",
      "\n",
      "\t-> Allocated ~ 260 million nodes to the nodepool, this is not an estimate of the memory usage\n",
      "\n",
      "\t-> Allocated ~ 270 million nodes to the nodepool, this is not an estimate of the memory usage\n",
      "\t-> Printing at chr: CM009708.1 pos:9540825 chunknumber 5600 contains 4036 sites\n",
      "\t-> Allocated ~ 280 million nodes to the nodepool, this is not an estimate of the memory usage\n",
      "\t-> Printing at chr: CM009708.1 pos:17481174 chunknumber 10000 contains 2445 sites\n",
      "\t-> Allocated ~ 290 million nodes to the nodepool, this is not an estimate of the memory usage\n",
      "\n",
      "\t-> Allocated ~ 300 million nodes to the nodepool, this is not an estimate of the memory usage\n",
      "\n",
      "\t-> Allocated ~ 310 million nodes to the nodepool, this is not an estimate of the memory usage\n",
      "\n",
      "\t-> Allocated ~ 320 million nodes to the nodepool, this is not an estimate of the memory usage\n",
      "\n",
      "\t-> Allocated ~ 330 million nodes to the nodepool, this is not an estimate of the memory usage\n",
      "\n",
      "\t-> Allocated ~ 340 million nodes to the nodepool, this is not an estimate of the memory usage\n",
      "\t-> Printing at chr: CM009708.1 pos:22198230 chunknumber 12100 contains 251 sitess\n",
      "\t-> Allocated ~ 350 million nodes to the nodepool, this is not an estimate of the memory usage\n",
      "\t-> Printing at chr: CM009709.1 pos:28371664 chunknumber 40500 contains 2754 sites\n",
      "\t-> Allocated ~ 360 million nodes to the nodepool, this is not an estimate of the memory usage\n",
      "\n",
      "\t-> Allocated ~ 370 million nodes to the nodepool, this is not an estimate of the memory usage\n",
      "\n",
      "\t-> Allocated ~ 380 million nodes to the nodepool, this is not an estimate of the memory usage\n",
      "\n",
      "\t-> Allocated ~ 390 million nodes to the nodepool, this is not an estimate of the memory usage\n",
      "\n",
      "\t-> Allocated ~ 400 million nodes to the nodepool, this is not an estimate of the memory usage\n",
      "\t-> Printing at chr: CM009714.1 pos:29001015 chunknumber 168700 contains 338 sitess"
     ]
    }
   ],
   "source": [
    "#case control swimming speed, ran this in screen so didn't have to wait for what's already running in the nb \n",
    "#- -do HWE1, -minHWEpval 0.05 / total number of loci(7596774)=\n",
    "!angsd -yBin angsd/case_control_pheno.ybin -doAsso 1 -doPost 1 -cov angsd/pc1.cov -GL 1 -doMajorMinor 1 -doMaf 1 -nThreads 20 -minQ 20 -minMapQ 20 -SNP_pval 1e-6 -minInd 16 -minMAF 0.01  -fai /local/home/katrinac/ClownfishGWAS/data/APPC_sequencing/DNA/trimmed_reads/mapping/genotypes/reference.fasta.fai -out angsd/case_control_assoc_out -bam bamlist.list "
   ]
  },
  {
   "cell_type": "code",
   "execution_count": null,
   "id": "d8f69870",
   "metadata": {},
   "outputs": [],
   "source": [
    "!angsd -beagle angsd/appc_angsd_probs.beagle.gz -yQuant angsd/case_control_pheno.ybin -fai /local/home/katrinac/ClownfishGWAS/data/APPC_sequencing/DNA/trimmed_reads/mapping/genotypes/reference.fasta.fai -doAsso 5 -cov angsd/output.pcangsd.cov -doMaf 4 -nThreads 20  -out angsd/case_control_assoc_out2 "
   ]
  },
  {
   "cell_type": "code",
   "execution_count": 23,
   "id": "04fc354a",
   "metadata": {
    "scrolled": true
   },
   "outputs": [
    {
     "name": "stdout",
     "output_type": "stream",
     "text": [
      "\t-> angsd version: 0.933 (htslib: 1.9) build(May  6 2020 21:25:11)\n",
      "\t-> SNP-filter using a pvalue: 1.000000e-06 correspond to 23.928127 likelihood units\n",
      "[bammer_main] 159 samples in 159 input files\n",
      "\t-> Parsing 159 number of samples \n",
      "\n",
      "\t-> Allocated ~ 10 million nodes to the nodepool, this is not an estimate of the memory usage\n",
      "\n",
      "\t-> Allocated ~ 20 million nodes to the nodepool, this is not an estimate of the memory usage\n",
      "\n",
      "\t-> Allocated ~ 30 million nodes to the nodepool, this is not an estimate of the memory usage\n",
      "\n",
      "\t-> Allocated ~ 40 million nodes to the nodepool, this is not an estimate of the memory usage\n",
      "\n",
      "\t-> Allocated ~ 50 million nodes to the nodepool, this is not an estimate of the memory usage\n",
      "\n",
      "\t-> Allocated ~ 60 million nodes to the nodepool, this is not an estimate of the memory usage\n",
      "\n",
      "\t-> Allocated ~ 70 million nodes to the nodepool, this is not an estimate of the memory usage\n",
      "\n",
      "\t-> Allocated ~ 80 million nodes to the nodepool, this is not an estimate of the memory usage\n",
      "\n",
      "\t-> Allocated ~ 90 million nodes to the nodepool, this is not an estimate of the memory usage\n",
      "\n",
      "\t-> Allocated ~ 100 million nodes to the nodepool, this is not an estimate of the memory usage\n",
      "\t-> Printing at chr: CM009708.1 pos:76549 chunknumber 100 contains 1382 sites\n",
      "\t-> Allocated ~ 110 million nodes to the nodepool, this is not an estimate of the memory usage\n",
      "\n",
      "\t-> Allocated ~ 120 million nodes to the nodepool, this is not an estimate of the memory usage\n",
      "\n",
      "\t-> Allocated ~ 130 million nodes to the nodepool, this is not an estimate of the memory usage\n",
      "\n",
      "\t-> Allocated ~ 140 million nodes to the nodepool, this is not an estimate of the memory usage\n",
      "\n",
      "\t-> Allocated ~ 150 million nodes to the nodepool, this is not an estimate of the memory usage\n",
      "\n",
      "\t-> Allocated ~ 160 million nodes to the nodepool, this is not an estimate of the memory usage\n",
      "\n",
      "\t-> Allocated ~ 170 million nodes to the nodepool, this is not an estimate of the memory usage\n",
      "\t-> Printing at chr: CM009708.1 pos:877956 chunknumber 1000 contains 261 sites\n",
      "\t-> Allocated ~ 180 million nodes to the nodepool, this is not an estimate of the memory usage\n",
      "\n",
      "\t-> Allocated ~ 190 million nodes to the nodepool, this is not an estimate of the memory usage\n",
      "\n",
      "\t-> Allocated ~ 200 million nodes to the nodepool, this is not an estimate of the memory usage\n",
      "\t-> Printing at chr: CM009708.1 pos:1766076 chunknumber 1500 contains 253 sites\n",
      "\t-> Allocated ~ 210 million nodes to the nodepool, this is not an estimate of the memory usage\n",
      "\t-> Printing at chr: CM009708.1 pos:2443568 chunknumber 1900 contains 461 sitess\n",
      "\t-> Allocated ~ 220 million nodes to the nodepool, this is not an estimate of the memory usage\n",
      "\n",
      "\t-> Allocated ~ 230 million nodes to the nodepool, this is not an estimate of the memory usage\n",
      "\n",
      "\t-> Allocated ~ 240 million nodes to the nodepool, this is not an estimate of the memory usage\n",
      "\t-> Printing at chr: CM009708.1 pos:3710283 chunknumber 2700 contains 1155 sites\n",
      "\t-> Allocated ~ 250 million nodes to the nodepool, this is not an estimate of the memory usage\n",
      "\n",
      "\t-> Allocated ~ 260 million nodes to the nodepool, this is not an estimate of the memory usage\n",
      "\n",
      "\t-> Allocated ~ 270 million nodes to the nodepool, this is not an estimate of the memory usage\n",
      "\n",
      "\t-> Allocated ~ 280 million nodes to the nodepool, this is not an estimate of the memory usage\n",
      "\n",
      "\t-> Allocated ~ 290 million nodes to the nodepool, this is not an estimate of the memory usage\n",
      "\t-> Printing at chr: CM009708.1 pos:9254160 chunknumber 5500 contains 314 sitess\n",
      "\t-> Allocated ~ 300 million nodes to the nodepool, this is not an estimate of the memory usage\n",
      "\n",
      "\t-> Allocated ~ 310 million nodes to the nodepool, this is not an estimate of the memory usage\n",
      "\t-> Printing at chr: CM009708.1 pos:9540825 chunknumber 5600 contains 4036 sites\n",
      "\t-> Allocated ~ 320 million nodes to the nodepool, this is not an estimate of the memory usage\n",
      "\n",
      "\t-> Allocated ~ 330 million nodes to the nodepool, this is not an estimate of the memory usage\n",
      "\t-> Printing at chr: CM009708.1 pos:11504259 chunknumber 6700 contains 3657 sites\n",
      "\t-> Allocated ~ 340 million nodes to the nodepool, this is not an estimate of the memory usage\n",
      "\n",
      "\t-> Allocated ~ 350 million nodes to the nodepool, this is not an estimate of the memory usage\n",
      "\t-> Printing at chr: CM009709.1 pos:8612566 chunknumber 31200 contains 394 sitesss\n",
      "\t-> Allocated ~ 360 million nodes to the nodepool, this is not an estimate of the memory usage\n",
      "\n",
      "\t-> Allocated ~ 370 million nodes to the nodepool, this is not an estimate of the memory usage\n",
      "\n",
      "\t-> Allocated ~ 380 million nodes to the nodepool, this is not an estimate of the memory usage\n",
      "\n",
      "\t-> Allocated ~ 390 million nodes to the nodepool, this is not an estimate of the memory usage\n",
      "\n",
      "\t-> Allocated ~ 400 million nodes to the nodepool, this is not an estimate of the memory usage\n",
      "\n",
      "\t-> Allocated ~ 410 million nodes to the nodepool, this is not an estimate of the memory usage\n",
      "\n",
      "\t-> Allocated ~ 420 million nodes to the nodepool, this is not an estimate of the memory usage\n",
      "\n",
      "\t-> Allocated ~ 430 million nodes to the nodepool, this is not an estimate of the memory usage\n",
      "\n",
      "\t-> Allocated ~ 440 million nodes to the nodepool, this is not an estimate of the memory usage\n",
      "\n",
      "\t-> Allocated ~ 450 million nodes to the nodepool, this is not an estimate of the memory usage\n",
      "\n",
      "\t-> Allocated ~ 460 million nodes to the nodepool, this is not an estimate of the memory usage\n",
      "\n",
      "\t-> Allocated ~ 470 million nodes to the nodepool, this is not an estimate of the memory usage\n",
      "\t-> Printing at chr: PYAM01000122.1 pos:48136 chunknumber 534600 contains 473 sitesses\n",
      "\t-> Done reading data waiting for calculations to finish\n",
      "\t-> Done waiting for threads\n",
      "\t-> Output filenames:\n",
      "\t\t->\"angsd/case_control_assoc_out_NULL.arg\"\n",
      "\t\t->\"angsd/case_control_assoc_out_NULL.mafs.gz\"\n",
      "\t\t->\"angsd/case_control_assoc_out_NULL.lrt0.gz\"\n",
      "\t\t->\"angsd/case_control_assoc_out_NULL.hwe.gz\"\n",
      "\t-> Mon Feb 28 18:46:00 2022\n",
      "\t-> Arguments and parameters for all analysis are located in .arg file\n",
      "\t-> Total number of sites analyzed: 844192754\n",
      "\t-> Number of sites retained after filtering: 7080853 \n",
      "\t[ALL done] cpu-time used =  272445.31 sec\n",
      "\t[ALL done] walltime used =  29638.00 sec\n"
     ]
    }
   ],
   "source": [
    "#case control swimming speed NULL \n",
    "!angsd -yBin angsd/case_control_pheno_NULL.ybin -doAsso 1 -doPost 1 -cov angsd/pc1.cov -GL 1 -doMajorMinor 1 -doMaf 1 -nThreads 20 -minQ 20 -minMapQ 20 -SNP_pval 1e-6 -minInd 16 -minMAF 0.01  -fai /local/home/katrinac/ClownfishGWAS/data/APPC_sequencing/DNA/trimmed_reads/mapping/genotypes/reference.fasta.fai -out angsd/case_control_assoc_out_NULL -bam bamlist.list "
   ]
  },
  {
   "cell_type": "code",
   "execution_count": null,
   "id": "fb9b0538",
   "metadata": {},
   "outputs": [],
   "source": [
    "#once I get the probabilities as output from do post, then use those for the hybrid quant model so I can get effect size estimates. in the mean time use qctools to look at stratification"
   ]
  },
  {
   "cell_type": "code",
   "execution_count": 26,
   "id": "32fa3080",
   "metadata": {},
   "outputs": [
    {
     "name": "stdout",
     "output_type": "stream",
     "text": [
      "/local/home/katrinac/ClownfishGWAS/data/APPC_sequencing/DNA/trimmed_reads/mapping/genotypes\r\n"
     ]
    }
   ],
   "source": [
    "!pwd"
   ]
  },
  {
   "cell_type": "code",
   "execution_count": 31,
   "id": "d4b5d9de",
   "metadata": {},
   "outputs": [
    {
     "name": "stdout",
     "output_type": "stream",
     "text": [
      "\t-> angsd version: 0.933 (htslib: 1.9) build(May  6 2020 21:25:11)\n",
      "\t-> Printing at chr: PYAM01000272.1 pos:14094 chunknumber 135200 contains 3 sitestesDone reading beagle\n",
      "\t-> Done reading data waiting for calculations to finish\n",
      "\t-> Waiting for nThreads:39\n",
      "\t-> Printing at chr: PYAM01000096.1 pos:10177 chunknumber 135300 contains 50 sites\t-> Done waiting for threads\n",
      "\t-> Output filenames:\n",
      "\t\t->\"angsd/SL_quant_assoc_out.arg\"\n",
      "\t\t->\"angsd/SL_quant_assoc_out.mafs.gz\"\n",
      "\t\t->\"angsd/SL_quant_assoc_out.lrt0.gz\"\n",
      "\t-> Tue Mar  1 11:02:24 2022\n",
      "\t-> Arguments and parameters for all analysis are located in .arg file\n",
      "\t-> Total number of sites analyzed: 6758560\n",
      "\t-> Number of sites retained after filtering: 6758560 \n",
      "\t[ALL done] cpu-time used =  122802.43 sec\n",
      "\t[ALL done] walltime used =  3143.00 sec\n"
     ]
    }
   ],
   "source": [
    "#quant SL\n",
    "!angsd -beagle angsd/appc_angsd_probs.beagle.gz -yQuant angsd/SL_pheno.ybin -fai /local/home/katrinac/ClownfishGWAS/data/APPC_sequencing/DNA/trimmed_reads/mapping/genotypes/reference.fasta.fai -doAsso 5 -cov angsd/output.pcangsd.cov -doMaf 4 -nThreads 40  -out angsd/SL_quant_assoc_out "
   ]
  },
  {
   "cell_type": "code",
   "execution_count": 33,
   "id": "a585eb52",
   "metadata": {
    "scrolled": false
   },
   "outputs": [
    {
     "name": "stdout",
     "output_type": "stream",
     "text": [
      "\t-> angsd version: 0.933 (htslib: 1.9) build(May  6 2020 21:25:11)\n",
      "\t-> Printing at chr: PYAM01000272.1 pos:14094 chunknumber 135200 contains 3 sitestesDone reading beagle\n",
      "\t-> Done reading data waiting for calculations to finish\n",
      "\t-> Waiting for nThreads:39\n",
      "\t-> Printing at chr: PYAM01000096.1 pos:10177 chunknumber 135300 contains 50 sites\t-> Done waiting for threads\n",
      "\t-> Output filenames:\n",
      "\t\t->\"angsd/Ucrit_quant_assoc_out.arg\"\n",
      "\t\t->\"angsd/Ucrit_quant_assoc_out.mafs.gz\"\n",
      "\t\t->\"angsd/Ucrit_quant_assoc_out.lrt0.gz\"\n",
      "\t-> Tue Mar  1 14:04:08 2022\n",
      "\t-> Arguments and parameters for all analysis are located in .arg file\n",
      "\t-> Total number of sites analyzed: 6758560\n",
      "\t-> Number of sites retained after filtering: 6758560 \n",
      "\t[ALL done] cpu-time used =  128992.64 sec\n",
      "\t[ALL done] walltime used =  3293.00 sec\n"
     ]
    }
   ],
   "source": [
    "#quant Ucrit\n",
    "!angsd -beagle angsd/appc_angsd_probs.beagle.gz -yQuant angsd/Ucrit_pheno.ybin -fai /local/home/katrinac/ClownfishGWAS/data/APPC_sequencing/DNA/trimmed_reads/mapping/genotypes/reference.fasta.fai -doAsso 5 -minHigh 20 -cov angsd/output.pcangsd.cov -doMaf 4 -nThreads 40  -out angsd/Ucrit_quant_assoc_out "
   ]
  },
  {
   "cell_type": "code",
   "execution_count": null,
   "id": "46bae1e8",
   "metadata": {},
   "outputs": [],
   "source": []
  }
 ],
 "metadata": {
  "kernelspec": {
   "display_name": "Python 3 (ipykernel)",
   "language": "python",
   "name": "python3"
  },
  "language_info": {
   "codemirror_mode": {
    "name": "ipython",
    "version": 3
   },
   "file_extension": ".py",
   "mimetype": "text/x-python",
   "name": "python",
   "nbconvert_exporter": "python",
   "pygments_lexer": "ipython3",
   "version": "3.7.3"
  }
 },
 "nbformat": 4,
 "nbformat_minor": 5
}
