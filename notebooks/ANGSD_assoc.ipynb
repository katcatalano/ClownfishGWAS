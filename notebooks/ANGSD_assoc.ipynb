{
 "cells": [
  {
   "cell_type": "markdown",
   "id": "f65b3faa",
   "metadata": {},
   "source": [
    "__First use the score test to evalute model with qq plot in plot_pcangsd_assoc.ipynb, then use the EM model to get effect sizes__"
   ]
  },
  {
   "cell_type": "markdown",
   "id": "f08be12c",
   "metadata": {},
   "source": [
    "__make an index for the reference fasta__"
   ]
  },
  {
   "cell_type": "code",
   "execution_count": null,
   "id": "1a002b57",
   "metadata": {},
   "outputs": [],
   "source": [
    "%cd /data/katrinac/APPC_sequencing/Genome/ensembl/\n",
    "#!mv /data/katrinac/APPC_sequencing/Genome/ensembl/Amphiprion_percula.Nemo_v1.dna.toplevel.fa /data/katrinac/APPC_sequencing/Genome/ensembl/Amphiprion_percula.Nemo_v1.dna.toplevel.fasta #just to rename so samtools recognizes\n",
    "!samtools faidx /data/katrinac/APPC_sequencing/Genome/ensembl/Amphiprion_percula.Nemo_v1.dna.toplevel.fasta"
   ]
  },
  {
   "cell_type": "code",
   "execution_count": null,
   "id": "da7499d1",
   "metadata": {
    "scrolled": true
   },
   "outputs": [],
   "source": [
    "%cd /data/katrinac/APPC_sequencing/DNA/trimmed_reads/mapping/ensembl/genotypes/"
   ]
  },
  {
   "cell_type": "code",
   "execution_count": null,
   "id": "17ede72f",
   "metadata": {
    "scrolled": true
   },
   "outputs": [],
   "source": [
    "!angsd -yBin angsd/case_control_pheno.ybin -doAsso 1 -doPost 1 -GL 1 -doMajorMinor 1 -doMaf 1 -nThreads 30 -minQ 30 -minMapQ 30 -SNP_pval 1e-6 -minInd 16 -doHWE 1 -minHWEpval 0.05 -minMAF 0.1  -fai /data/katrinac/APPC_sequencing/Genome/ensembl/Amphiprion_percula.Nemo_v1.dna.toplevel.fasta.fai -out angsd/bin_assoc1_maf0.1 -bam bamlist.list "
   ]
  },
  {
   "cell_type": "markdown",
   "id": "bda31572",
   "metadata": {},
   "source": [
    "__permute phenotypes for significance testing and concatenate the permuted output__"
   ]
  },
  {
   "cell_type": "code",
   "execution_count": null,
   "id": "52a59233",
   "metadata": {},
   "outputs": [],
   "source": [
    "%cd angsd/permute/"
   ]
  },
  {
   "cell_type": "code",
   "execution_count": null,
   "id": "4846dd23",
   "metadata": {},
   "outputs": [],
   "source": [
    "!pwd"
   ]
  },
  {
   "cell_type": "code",
   "execution_count": null,
   "id": "a6ff0c0f",
   "metadata": {},
   "outputs": [],
   "source": [
    "!seq 100 > permute.txt"
   ]
  },
  {
   "cell_type": "code",
   "execution_count": null,
   "id": "73e9b215",
   "metadata": {},
   "outputs": [],
   "source": [
    "%cd /data/katrinac/APPC_sequencing/DNA/trimmed_reads/mapping/ensembl/genotypes/"
   ]
  },
  {
   "cell_type": "markdown",
   "id": "530c95ae",
   "metadata": {},
   "source": [
    "__make a file with the header to concatenate results to__"
   ]
  },
  {
   "cell_type": "code",
   "execution_count": null,
   "id": "959e40c3",
   "metadata": {},
   "outputs": [],
   "source": [
    "!echo -e \"Chromosome\\tPosition\\tMajor\\tMinor\\tFrequency\\tN\\tLRT\\thigh_WT/HE/HO\" > angsd/permute/assoc2/cat_permuted_assoc2_bin.lrt"
   ]
  },
  {
   "cell_type": "markdown",
   "id": "c0b3810b",
   "metadata": {},
   "source": [
    "__Do the gwas 100 times, resampling the phenotype with replacement__"
   ]
  },
  {
   "cell_type": "code",
   "execution_count": null,
   "id": "6afc1d7b",
   "metadata": {
    "scrolled": true
   },
   "outputs": [],
   "source": [
    "#in the permute_angsd env\n",
    "#conda activate permute_angsd\n",
    "for i in $(cat angsd/permute/permute.txt); do Rscript ~/ClownfishGWAS/bioinformatics_scripts/perm_phenotype.R; angsd -yBin angsd/permute/case_control_pheno_NULL.ybin -doAsso 2 -doMaf 4 -nThreads 10 -minCount 16  -beagle angsd/ensembl_appc_angsd_probs_minQ30_maf.5.beagle.gprobs.gz -fai /data/katrinac/APPC_sequencing/Genome/ensembl/Amphiprion_percula.Nemo_v1.dna.toplevel.fasta.fai -out angsd/permute/assoc2/bin_assoc2_null$i; gunzip angsd/permute/assoc2/bin_assoc2_null$i.lrt0.gz; sed  -e '1d' angsd/permute/assoc2/bin_assoc2_null$i.lrt0 >> angsd/permute/assoc2/cat_permuted_assoc2_bin.lrt; gzip angsd/permute/assoc2/bin_assoc2_null$i.lrt0; done \n",
    "\n",
    "#gunzip angsd/permute/assoc2/bin_assoc1_null$i.lrt0.gz; sed  -e '1d' angsd/permute/assoc2/bin_assoc1_null$i.lrt0 >> angsd/permute/assoc2/cat_permuted_assoc2_bin.lrt; gzip angsd/permute/assoc2/bin_assoc1_null$i.lrt0\n",
    "#gzip angsd/permute/*lrt0\n",
    "##angsd -yBin angsd/permute/case_control_pheno_null.ybin -doAsso 1 -doPost 1 -GL 1 -doMajorMinor 1 -doMaf 1 -nThreads 40 -minQ 30 -minMapQ 30 -SNP_pval 1e-6 -minInd 16 -minMAF 0.05  -fai /data/katrinac/APPC_sequencing/Genome/ensembl/Amphiprion_percula.Nemo_v1.dna.toplevel.fasta.fai -out angsd/permute/bin_assoc1_null$i -bam bamlist.list | \n"
   ]
  },
  {
   "cell_type": "markdown",
   "id": "39efe3b2",
   "metadata": {},
   "source": [
    "__Get the GWAS assoc2 results for the true association__"
   ]
  },
  {
   "cell_type": "markdown",
   "id": "33822f28",
   "metadata": {},
   "source": [
    "__Same for ucrit as a quantitative phenotype__"
   ]
  },
  {
   "cell_type": "code",
   "execution_count": 254,
   "id": "029b0076",
   "metadata": {},
   "outputs": [],
   "source": [
    "!echo -e \"Chromosome\\tPosition\\tMajor\\tMinor\\tFrequency\\tN\\tLRT\\thigh_WT/HE/HO\" > angsd/permute/assoc2/cat_permuted_assoc2_ucrit.lrt"
   ]
  },
  {
   "cell_type": "code",
   "execution_count": null,
   "id": "272d7188",
   "metadata": {},
   "outputs": [],
   "source": [
    "\n",
    " for i in $(cat angsd/permute/permute.txt); do Rscript ~/ClownfishGWAS/bioinformatics_scripts/perm_phenotype_ucrit.R; angsd -yQuant angsd/permute/ucrit_pheno_NULL.yquant -doAsso 2 -doMaf 4 -nThreads 30 -minCount 16 -beagle angsd/ensembl_appc_angsd_probs_noMaxdepth_maf0.05_minQ30.beagle.gprobs.gz -fai /data/katrinac/APPC_sequencing/Genome/ensembl/Amphiprion_percula.Nemo_v1.dna.toplevel.fasta.fai -out angsd/permute/assoc2/ucrit_assoc2_null$i; gunzip angsd/permute/assoc2/ucrit_assoc2_null$i.lrt0.gz; sed  -e '1d' angsd/permute/assoc2/ucrit_assoc2_null$i.lrt0 >> angsd/permute/assoc2/cat_permuted_assoc2_ucrit.lrt; gzip angsd/permute/assoc2/ucrit_assoc2_null$i.lrt0; done \n"
   ]
  },
  {
   "cell_type": "code",
   "execution_count": 2,
   "id": "43e3f730",
   "metadata": {},
   "outputs": [
    {
     "ename": "SyntaxError",
     "evalue": "invalid syntax (888356630.py, line 3)",
     "output_type": "error",
     "traceback": [
      "\u001b[0;36m  File \u001b[0;32m\"/tmp/ipykernel_165386/888356630.py\"\u001b[0;36m, line \u001b[0;32m3\u001b[0m\n\u001b[0;31m    for i in $(cat angsd/permute/permute.txt); do Rscript ~/ClownfishGWAS/bioinformatics_scripts/perm_phenotype_ucrit.R; angsd -yQuant angsd/permute/ucrit_pheno_NULL.yquant -doAsso 2 -doMaf 4 -nThreads 30 -minCount 16 -beagle angsd/ensembl_appc_angsd_probs_noMaxdepth_maf0.05_minQ30.beagle.gprobs.gz -fai /data/katrinac/APPC_sequencing/Genome/ensembl/Amphiprion_percula.Nemo_v1.dna.toplevel.fasta.fai -out angsd/permute/ucrit_PC1/ucrit_assoc2_null$i; gunzip angsd/permute/assoc2/ucrit_assoc2_null$i.lrt0.gz; sed  -e '1d' angsd/permute/ucrit_PC1/ucrit_assoc2_null$i.lrt0 >> angsd/permute/ucrit_PC1/cat_permuted_assoc2_ucrit.lrt; gzip angsd/permute/ucrit_PC1/ucrit_assoc2_null$i.lrt0; done\u001b[0m\n\u001b[0m             ^\u001b[0m\n\u001b[0;31mSyntaxError\u001b[0m\u001b[0;31m:\u001b[0m invalid syntax\n"
     ]
    }
   ],
   "source": [
    "#05/18/2022 try Ucrit again with PC1 as a covariate\n",
    "!echo -e \"Chromosome\\tPosition\\tMajor\\tMinor\\tFrequency\\tN\\tLRT\\thigh_WT/HE/HO\" > angsd/permute/ucrit_PC1/cat_permuted_assoc2_ucrit.lrt\n",
    "for i in $(cat angsd/permute/permute.txt); do Rscript ~/ClownfishGWAS/bioinformatics_scripts/perm_phenotype_ucrit.R; angsd -yQuant angsd/permute/ucrit_pheno_NULL.yquant -cov angsd/pc1_unlinked.cov -doAsso 2 -doMaf 4 -nThreads 30 -minCount 16 -beagle angsd/ensembl_appc_angsd_probs_noMaxdepth_maf0.05_minQ30.beagle.gprobs.gz -fai /data/katrinac/APPC_sequencing/Genome/ensembl/Amphiprion_percula.Nemo_v1.dna.toplevel.fasta.fai -out angsd/permute/ucrit_PC1/ucrit_assoc2_null$i; gunzip angsd/permute/assoc2/ucrit_assoc2_null$i.lrt0.gz; sed  -e '1d' angsd/permute/ucrit_PC1/ucrit_assoc2_null$i.lrt0 >> angsd/permute/ucrit_PC1/cat_permuted_assoc2_ucrit.lrt; gzip angsd/permute/ucrit_PC1/ucrit_assoc2_null$i.lrt0; done \n"
   ]
  },
  {
   "cell_type": "code",
   "execution_count": 252,
   "id": "2c43c716",
   "metadata": {},
   "outputs": [
    {
     "name": "stdout",
     "output_type": "stream",
     "text": [
      "\t-> angsd version: 0.933 (htslib: 1.9) build(May  6 2020 21:25:11)\n",
      "\t-> Printing at chr: PYAM01000342.1 pos:13712 chunknumber 142500 contains 2 sitessesDone reading beagle\n",
      "\t-> Done reading data waiting for calculations to finish\n",
      "\t-> Waiting for nThreads:3\n",
      "\t-> Done waiting for threads\n",
      "\t-> Output filenames:\n",
      "\t\t->\"angsd/ucrit_assoc2_maf0.05_noMaxdepth_minCount16.arg\"\n",
      "\t\t->\"angsd/ucrit_assoc2_maf0.05_noMaxdepth_minCount16.mafs.gz\"\n",
      "\t\t->\"angsd/ucrit_assoc2_maf0.05_noMaxdepth_minCount16.lrt0.gz\"\n",
      "\t-> Thu Apr  7 09:45:52 2022\n",
      "\t-> Arguments and parameters for all analysis are located in .arg file\n",
      "\t-> Total number of sites analyzed: 7116048\n",
      "\t-> Number of sites retained after filtering: 7116048 \n",
      "\t[ALL done] cpu-time used =  562.07 sec\n",
      "\t[ALL done] walltime used =  501.00 sec\n"
     ]
    }
   ],
   "source": [
    "!angsd -yQuant angsd/Ucrit_pheno.yquant -doAsso 2 -doMaf 4 -nThreads 30 -minCount 16 -beagle angsd/ensembl_appc_angsd_probs_noMaxdepth_maf0.05_minQ30.beagle.gprobs.gz -fai /data/katrinac/APPC_sequencing/Genome/ensembl/Amphiprion_percula.Nemo_v1.dna.toplevel.fasta.fai -out angsd/ucrit_assoc2_maf0.05_noMaxdepth   "
   ]
  },
  {
   "cell_type": "code",
   "execution_count": 261,
   "id": "13245ed2",
   "metadata": {},
   "outputs": [
    {
     "name": "stdout",
     "output_type": "stream",
     "text": [
      "\t-> angsd version: 0.933 (htslib: 1.9) build(May  6 2020 21:25:11)\n",
      "\t-> Printing at chr: PYAM01000348.1 pos:7715 chunknumber 139600 contains 6 sitesDone reading beagle\n",
      "\t-> Done reading data waiting for calculations to finish\n",
      "\t-> Waiting for nThreads:3\n",
      "\t-> Done waiting for threads\n",
      "\t-> Output filenames:\n",
      "\t\t->\"angsd/ucrit_assoc5_maf0.05_noMaxdepth_minQ30_minCount16.arg\"\n",
      "\t\t->\"angsd/ucrit_assoc5_maf0.05_noMaxdepth_minQ30_minCount16.mafs.gz\"\n",
      "\t\t->\"angsd/ucrit_assoc5_maf0.05_noMaxdepth_minQ30_minCount16.lrt0.gz\"\n",
      "\t-> Tue Apr 12 10:01:00 2022\n",
      "\t-> Arguments and parameters for all analysis are located in .arg file\n",
      "\t-> Total number of sites analyzed: 6971649\n",
      "\t-> Number of sites retained after filtering: 6971649 \n",
      "\t[ALL done] cpu-time used =  609.52 sec\n",
      "\t[ALL done] walltime used =  514.00 sec\n"
     ]
    }
   ],
   "source": [
    "!angsd -yQuant angsd/Ucrit_pheno.yquant -doAsso 5 -doMaf 4 -minCount 16 -nThreads 5 -beagle angsd/ensembl_appc_angsd_probs_noMaxdepth_maf0.05_minQ30.beagle.gprobs.gz -fai /data/katrinac/APPC_sequencing/Genome/ensembl/Amphiprion_percula.Nemo_v1.dna.toplevel.fasta.fai -out angsd/ucrit_assoc5_maf0.05_noMaxdepth_minQ30_minCount16   "
   ]
  },
  {
   "cell_type": "code",
   "execution_count": 263,
   "id": "0f93eb6c",
   "metadata": {},
   "outputs": [
    {
     "name": "stdout",
     "output_type": "stream",
     "text": [
      "\t-> angsd version: 0.933 (htslib: 1.9) build(May  6 2020 21:25:11)\n",
      "\t-> Printing at chr: PYAM01000348.1 pos:7715 chunknumber 139600 contains 6 sitesDone reading beagle\n",
      "\t-> Done reading data waiting for calculations to finish\n",
      "\t-> Waiting for nThreads:3\n",
      "\t-> Done waiting for threads\n",
      "\t-> Output filenames:\n",
      "\t\t->\"angsd/bin_assoc5_maf0.05_noMaxdepth_minQ30_minCount16.arg\"\n",
      "\t\t->\"angsd/bin_assoc5_maf0.05_noMaxdepth_minQ30_minCount16.mafs.gz\"\n",
      "\t\t->\"angsd/bin_assoc5_maf0.05_noMaxdepth_minQ30_minCount16.lrt0.gz\"\n",
      "\t-> Tue Apr 12 10:25:34 2022\n",
      "\t-> Arguments and parameters for all analysis are located in .arg file\n",
      "\t-> Total number of sites analyzed: 6971649\n",
      "\t-> Number of sites retained after filtering: 6971649 \n",
      "\t[ALL done] cpu-time used =  605.68 sec\n",
      "\t[ALL done] walltime used =  518.00 sec\n"
     ]
    }
   ],
   "source": [
    "!angsd -yBin angsd/case_control_pheno.ybin -doAsso 5 -doMaf 4 -minCount 16 -nThreads 5 -beagle angsd/ensembl_appc_angsd_probs_noMaxdepth_maf0.05_minQ30.beagle.gprobs.gz -fai /data/katrinac/APPC_sequencing/Genome/ensembl/Amphiprion_percula.Nemo_v1.dna.toplevel.fasta.fai -out angsd/bin_assoc5_maf0.05_noMaxdepth_minQ30_minCount16   "
   ]
  },
  {
   "cell_type": "markdown",
   "id": "1746c288",
   "metadata": {},
   "source": [
    "__Finally with SL as a quantitative phenotype__"
   ]
  },
  {
   "cell_type": "code",
   "execution_count": 255,
   "id": "7b58a638",
   "metadata": {},
   "outputs": [],
   "source": [
    "!echo -e \"Chromosome\\tPosition\\tMajor\\tMinor\\tFrequency\\tN\\tLRT\\thigh_WT/HE/HO\" > angsd/permute/assoc2/cat_permuted_assoc2_sl.lrt"
   ]
  },
  {
   "cell_type": "code",
   "execution_count": null,
   "id": "d98edcf4",
   "metadata": {},
   "outputs": [],
   "source": [
    "for i in $(cat angsd/permute/permute.txt); do Rscript ~/ClownfishGWAS/bioinformatics_scripts/perm_phenotype_sl.R; angsd -yQuant angsd/permute/sl_pheno_NULL.yquant -doAsso 2 -doMaf 4 -minCount 16 -cov angsd/pc1_unlinked.cov -nThreads 30 -beagle angsd/ensembl_appc_angsd_probs_noMaxdepth_maf0.05_minQ30.beagle.gprobs.gz -fai /data/katrinac/APPC_sequencing/Genome/ensembl/Amphiprion_percula.Nemo_v1.dna.toplevel.fasta.fai -out angsd/permute/assoc2/sl_assoc2_null$i; gunzip angsd/permute/assoc2/sl_assoc2_null$i.lrt0.gz; sed  -e '1d' angsd/permute/assoc2/sl_assoc2_null$i.lrt0 >> angsd/permute/assoc2/cat_permuted_assoc2_sl.lrt; gzip angsd/permute/assoc2/sl_assoc2_null$i.lrt0; done \n"
   ]
  },
  {
   "cell_type": "code",
   "execution_count": 262,
   "id": "8c5e01bc",
   "metadata": {},
   "outputs": [
    {
     "name": "stdout",
     "output_type": "stream",
     "text": [
      "\t-> angsd version: 0.933 (htslib: 1.9) build(May  6 2020 21:25:11)\n",
      "\t-> Printing at chr: PYAM01000348.1 pos:7715 chunknumber 139600 contains 6 sitesDone reading beagle\n",
      "\t-> Done reading data waiting for calculations to finish\n",
      "\t-> Waiting for nThreads:1\n",
      "\t-> Done waiting for threads\n",
      "\t-> Output filenames:\n",
      "\t\t->\"angsd/sl_assoc5_maf0.05_noMaxdepth_unlinkedPC1cov_minQ30_minCount16.arg\"\n",
      "\t\t->\"angsd/sl_assoc5_maf0.05_noMaxdepth_unlinkedPC1cov_minQ30_minCount16.mafs.gz\"\n",
      "\t\t->\"angsd/sl_assoc5_maf0.05_noMaxdepth_unlinkedPC1cov_minQ30_minCount16.lrt0.gz\"\n",
      "\t-> Tue Apr 12 10:09:36 2022\n",
      "\t-> Arguments and parameters for all analysis are located in .arg file\n",
      "\t-> Total number of sites analyzed: 6971649\n",
      "\t-> Number of sites retained after filtering: 6971649 \n",
      "\t[ALL done] cpu-time used =  617.11 sec\n",
      "\t[ALL done] walltime used =  516.00 sec\n"
     ]
    }
   ],
   "source": [
    "!angsd -yQuant angsd/SL_pheno.yquant -doAsso 2 -doMaf 4 -nThreads 5 -minCount 16 -cov angsd/pc1_unlinked.cov -beagle angsd/ensembl_appc_angsd_probs_noMaxdepth_maf0.05_minQ30.beagle.gprobs.gz -fai /data/katrinac/APPC_sequencing/Genome/ensembl/Amphiprion_percula.Nemo_v1.dna.toplevel.fasta.fai -out angsd/sl_assoc5_maf0.05_noMaxdepth_unlinkedPC1cov_minQ30_minCount16  "
   ]
  },
  {
   "cell_type": "markdown",
   "id": "a6ca8a64",
   "metadata": {},
   "source": [
    "__use the bam files to get the true phenotypes model fit- NO UNHELPFUL__"
   ]
  },
  {
   "cell_type": "code",
   "execution_count": null,
   "id": "b1fee491",
   "metadata": {},
   "outputs": [],
   "source": []
  }
 ],
 "metadata": {
  "kernelspec": {
   "display_name": "Python 3 (ipykernel)",
   "language": "python",
   "name": "python3"
  },
  "language_info": {
   "codemirror_mode": {
    "name": "ipython",
    "version": 3
   },
   "file_extension": ".py",
   "mimetype": "text/x-python",
   "name": "python",
   "nbconvert_exporter": "python",
   "pygments_lexer": "ipython3",
   "version": "3.7.3"
  }
 },
 "nbformat": 4,
 "nbformat_minor": 5
}
