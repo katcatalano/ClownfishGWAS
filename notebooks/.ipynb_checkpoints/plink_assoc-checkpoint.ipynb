{
 "cells": [
  {
   "cell_type": "code",
   "execution_count": null,
   "id": "f01042eb",
   "metadata": {},
   "outputs": [],
   "source": [
    "#just a quick try for association with SL for plink\n"
   ]
  },
  {
   "cell_type": "code",
   "execution_count": 6,
   "id": "cdb0f1fa",
   "metadata": {},
   "outputs": [
    {
     "name": "stdout",
     "output_type": "stream",
     "text": [
      "PLINK v1.90b6.21 64-bit (19 Oct 2020)          www.cog-genomics.org/plink/1.9/\n",
      "(C) 2005-2020 Shaun Purcell, Christopher Chang   GNU General Public License v3\n",
      "Logging to /local/home/katrinac/ClownfishGWAS/data/APPC_sequencing/DNA/filtering/imputation/plink_gwas/max_missing90_minQ20_maf01_hwe.log.\n",
      "Options in effect:\n",
      "  --allow-extra-chr\n",
      "  --bfile /local/home/katrinac/ClownfishGWAS/data/APPC_sequencing/DNA/filtering/imputation/plink_gwas/max_missing90_minQ20_maf01_hwe\n",
      "  --out /local/home/katrinac/ClownfishGWAS/data/APPC_sequencing/DNA/filtering/imputation/plink_gwas/max_missing90_minQ20_maf01_hwe\n",
      "  --pca 4\n",
      "\n",
      "515706 MB RAM detected; reserving 257853 MB for main workspace.\n",
      "1740 variants loaded from .bim file.\n",
      "159 people (0 males, 0 females, 159 ambiguous) loaded from .fam.\n",
      "Ambiguous sex IDs written to\n",
      "/local/home/katrinac/ClownfishGWAS/data/APPC_sequencing/DNA/filtering/imputation/plink_gwas/max_missing90_minQ20_maf01_hwe.nosex\n",
      ".\n",
      "144 phenotype values loaded from .fam.\n",
      "Warning: Ignoring phenotypes of missing-sex samples.  If you don't want those\n",
      "phenotypes to be ignored, use the --allow-no-sex flag.\n",
      "Using up to 71 threads (change this with --threads).\n",
      "Before main variant filters, 159 founders and 0 nonfounders present.\n",
      "Calculating allele frequencies... 10111213141516171819202122232425262728293031323334353637383940414243444546474849505152535455565758596061626364656667686970717273747576777879808182838485868788899091929394959697989 done.\n",
      "Total genotyping rate is 0.880319.\n",
      "1740 variants and 159 people pass filters and QC.\n",
      "Note: No phenotypes present.\n",
      "Relationship matrix calculation complete.\n",
      "--pca: Results saved to and eigenvectors]\n",
      "/local/home/katrinac/ClownfishGWAS/data/APPC_sequencing/DNA/filtering/imputation/plink_gwas/max_missing90_minQ20_maf01_hwe.eigenval\n",
      "and\n",
      "/local/home/katrinac/ClownfishGWAS/data/APPC_sequencing/DNA/filtering/imputation/plink_gwas/max_missing90_minQ20_maf01_hwe.eigenvec\n",
      ".\n"
     ]
    }
   ],
   "source": [
    "#pca to use as covariate with regression\n",
    "!plink --bfile /local/home/katrinac/ClownfishGWAS/data/APPC_sequencing/DNA/filtering/imputation/plink_gwas/max_missing90_minQ20_maf01_hwe --pca 4 --allow-extra-chr --out /local/home/katrinac/ClownfishGWAS/data/APPC_sequencing/DNA/filtering/imputation/plink_gwas/max_missing90_minQ20_maf01_hwe"
   ]
  },
  {
   "cell_type": "code",
   "execution_count": 11,
   "id": "971abcb2",
   "metadata": {},
   "outputs": [
    {
     "name": "stdout",
     "output_type": "stream",
     "text": [
      "PLINK v2.00a2.3LM 64-bit Intel (24 Jan 2020)   www.cog-genomics.org/plink/2.0/\n",
      "(C) 2005-2020 Shaun Purcell, Christopher Chang   GNU General Public License v3\n",
      "Logging to /local/home/katrinac/ClownfishGWAS/data/APPC_sequencing/DNA/filtering/imputation/plink_gwas/test_glm_with_covar_SL.log.\n",
      "Options in effect:\n",
      "  --allow-extra-chr\n",
      "  --bfile /local/home/katrinac/ClownfishGWAS/data/APPC_sequencing/DNA/filtering/imputation/plink_gwas/max_missing90_minQ20_maf01_hwe\n",
      "  --covar /local/home/katrinac/ClownfishGWAS/data/APPC_sequencing/DNA/filtering/imputation/plink_gwas/max_missing90_minQ20_maf01_hwe.eigenvec\n",
      "  --glm\n",
      "  --out /local/home/katrinac/ClownfishGWAS/data/APPC_sequencing/DNA/filtering/imputation/plink_gwas/test_glm_with_covar_SL\n",
      "\n",
      "Start time: Thu Dec  9 11:33:09 2021\n",
      "515706 MiB RAM detected; reserving 257853 MiB for main workspace.\n",
      "Using up to 72 threads (change this with --threads).\n",
      "159 samples (0 females, 0 males, 159 ambiguous; 159 founders) loaded from\n",
      "/local/home/katrinac/ClownfishGWAS/data/APPC_sequencing/DNA/filtering/imputation/plink_gwas/max_missing90_minQ20_maf01_hwe.fam.\n",
      "1740 variants loaded from\n",
      "/local/home/katrinac/ClownfishGWAS/data/APPC_sequencing/DNA/filtering/imputation/plink_gwas/max_missing90_minQ20_maf01_hwe.bim.\n",
      "1 quantitative phenotype loaded (144 values).\n",
      "4 covariates loaded from /local/home/katrinac/ClownfishGWAS/data/APPC_sequencing/DNA/filtering/imputation/plink_gwas/max_missing90_minQ20_maf01_hwe.eigenvec.\n",
      "Calculating allele frequencies... done.\n",
      "--glm linear regression on phenotype 'PHENO1': done.\n",
      "Results written to /local/home/katrinac/ClownfishGWAS/data/APPC_sequencing/DNA/filtering/imputation/plink_gwas/test_glm_with_covar_SL.PHENO1.glm.linear .\n",
      "End time: Thu Dec  9 11:33:10 2021\n"
     ]
    }
   ],
   "source": [
    "!plink2 --bfile /local/home/katrinac/ClownfishGWAS/data/APPC_sequencing/DNA/filtering/imputation/plink_gwas/max_missing90_minQ20_maf01_hwe --glm --covar /local/home/katrinac/ClownfishGWAS/data/APPC_sequencing/DNA/filtering/imputation/plink_gwas/max_missing90_minQ20_maf01_hwe.eigenvec --allow-extra-chr --out /local/home/katrinac/ClownfishGWAS/data/APPC_sequencing/DNA/filtering/imputation/plink_gwas/test_glm_with_covar_SL"
   ]
  },
  {
   "cell_type": "code",
   "execution_count": 12,
   "id": "f57e501f",
   "metadata": {},
   "outputs": [
    {
     "name": "stdout",
     "output_type": "stream",
     "text": [
      "/bin/bash: -c: line 0: unexpected EOF while looking for matching `''\r\n",
      "/bin/bash: -c: line 1: syntax error: unexpected end of file\r\n"
     ]
    }
   ],
   "source": [
    "#clean the file for use in r plotting\n"
   ]
  },
  {
   "cell_type": "code",
   "execution_count": null,
   "id": "db4859ce",
   "metadata": {},
   "outputs": [],
   "source": []
  }
 ],
 "metadata": {
  "kernelspec": {
   "display_name": "Python 3",
   "language": "python",
   "name": "python3"
  },
  "language_info": {
   "codemirror_mode": {
    "name": "ipython",
    "version": 3
   },
   "file_extension": ".py",
   "mimetype": "text/x-python",
   "name": "python",
   "nbconvert_exporter": "python",
   "pygments_lexer": "ipython3",
   "version": "3.7.3"
  }
 },
 "nbformat": 4,
 "nbformat_minor": 5
}
