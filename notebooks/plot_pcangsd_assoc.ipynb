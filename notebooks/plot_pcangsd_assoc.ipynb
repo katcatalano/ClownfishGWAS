{
 "cells": [
  {
   "cell_type": "code",
   "execution_count": 1,
   "id": "1e11f42d",
   "metadata": {
    "scrolled": true
   },
   "outputs": [
    {
     "name": "stderr",
     "output_type": "stream",
     "text": [
      "\n",
      "Attaching package: ‘dplyr’\n",
      "\n",
      "The following objects are masked from ‘package:data.table’:\n",
      "\n",
      "    between, first, last\n",
      "\n",
      "The following objects are masked from ‘package:stats’:\n",
      "\n",
      "    filter, lag\n",
      "\n",
      "The following objects are masked from ‘package:base’:\n",
      "\n",
      "    intersect, setdiff, setequal, union\n",
      "\n",
      "\n",
      "For example usage please run: vignette('qqman')\n",
      "\n",
      "Citation appreciated but not required:\n",
      "Turner, (2018). qqman: an R package for visualizing GWAS results using Q-Q and manhattan plots. Journal of Open Source Software, 3(25), 731, https://doi.org/10.21105/joss.00731.\n",
      "\n",
      "Loading required package: BiocGenerics\n",
      "Loading required package: parallel\n",
      "\n",
      "Attaching package: ‘BiocGenerics’\n",
      "\n",
      "The following objects are masked from ‘package:parallel’:\n",
      "\n",
      "    clusterApply, clusterApplyLB, clusterCall, clusterEvalQ,\n",
      "    clusterExport, clusterMap, parApply, parCapply, parLapply,\n",
      "    parLapplyLB, parRapply, parSapply, parSapplyLB\n",
      "\n",
      "The following objects are masked from ‘package:dplyr’:\n",
      "\n",
      "    combine, intersect, setdiff, union\n",
      "\n",
      "The following objects are masked from ‘package:stats’:\n",
      "\n",
      "    IQR, mad, sd, var, xtabs\n",
      "\n",
      "The following objects are masked from ‘package:base’:\n",
      "\n",
      "    anyDuplicated, append, as.data.frame, basename, cbind, colnames,\n",
      "    dirname, do.call, duplicated, eval, evalq, Filter, Find, get, grep,\n",
      "    grepl, intersect, is.unsorted, lapply, Map, mapply, match, mget,\n",
      "    order, paste, pmax, pmax.int, pmin, pmin.int, Position, rank,\n",
      "    rbind, Reduce, rownames, sapply, setdiff, sort, table, tapply,\n",
      "    union, unique, unsplit, which, which.max, which.min\n",
      "\n",
      "Loading required package: graph\n",
      "Loading required package: Biobase\n",
      "Welcome to Bioconductor\n",
      "\n",
      "    Vignettes contain introductory material; view with\n",
      "    'browseVignettes()'. To cite Bioconductor, see\n",
      "    'citation(\"Biobase\")', and for packages 'citation(\"pkgname\")'.\n",
      "\n",
      "Loading required package: GO.db\n",
      "Loading required package: AnnotationDbi\n",
      "Loading required package: stats4\n",
      "Loading required package: IRanges\n",
      "Loading required package: S4Vectors\n",
      "\n",
      "Attaching package: ‘S4Vectors’\n",
      "\n",
      "The following objects are masked from ‘package:dplyr’:\n",
      "\n",
      "    first, rename\n",
      "\n",
      "The following objects are masked from ‘package:data.table’:\n",
      "\n",
      "    first, second\n",
      "\n",
      "The following object is masked from ‘package:base’:\n",
      "\n",
      "    expand.grid\n",
      "\n",
      "\n",
      "Attaching package: ‘IRanges’\n",
      "\n",
      "The following objects are masked from ‘package:dplyr’:\n",
      "\n",
      "    collapse, desc, slice\n",
      "\n",
      "The following object is masked from ‘package:data.table’:\n",
      "\n",
      "    shift\n",
      "\n",
      "\n",
      "Attaching package: ‘AnnotationDbi’\n",
      "\n",
      "The following object is masked from ‘package:dplyr’:\n",
      "\n",
      "    select\n",
      "\n",
      "\n",
      "Loading required package: SparseM\n",
      "\n",
      "Attaching package: ‘SparseM’\n",
      "\n",
      "The following object is masked from ‘package:base’:\n",
      "\n",
      "    backsolve\n",
      "\n",
      "\n",
      "groupGOTerms: \tGOBPTerm, GOMFTerm, GOCCTerm environments built.\n",
      "\n",
      "Attaching package: ‘topGO’\n",
      "\n",
      "The following object is masked from ‘package:IRanges’:\n",
      "\n",
      "    members\n",
      "\n"
     ]
    }
   ],
   "source": [
    "library(data.table)\n",
    "library(ggplot2)\n",
    "library(dplyr)\n",
    "#library(viridis)\n",
    "library(qqman)\n",
    "#library(qvalue)\n",
    "#library(Bioconducter)\n",
    "library(topGO)\n",
    "\"%!in%\" <- function(x,table) match(x,table, nomatch = 0) == 0\n"
   ]
  },
  {
   "cell_type": "code",
   "execution_count": null,
   "id": "0dd0e602",
   "metadata": {},
   "outputs": [],
   "source": []
  },
  {
   "cell_type": "markdown",
   "id": "334a1ffe",
   "metadata": {},
   "source": [
    "__make a sites file to filter out linked loci with pcangsd__"
   ]
  },
  {
   "cell_type": "code",
   "execution_count": 233,
   "id": "7b9275c8",
   "metadata": {
    "scrolled": true
   },
   "outputs": [
    {
     "name": "stderr",
     "output_type": "stream",
     "text": [
      "Joining, by = c(\"Chromo\", \"Position\")"
     ]
    }
   ],
   "source": [
    "#how do maf and calls across ind look- also make sites files for angsd and filter sites for pcangsd\n",
    "sites <- fread(\"/data/katrinac/APPC_sequencing/DNA/trimmed_reads/mapping/genotypes/angsd/appc_angsd_probs.hwe.gz\")\n",
    "#head(sites)\n",
    "unlinked <- fread(\"/data/katrinac/APPC_sequencing/DNA/trimmed_reads/mapping/genotypes/angsd/ngsld/appc_unlinked_for_angsd.txt\")\n",
    "setnames(unlinked, 1:2, c(\"Chromo\", \"Position\"))\n",
    "unlinked[, filter := 1] #when ngsld has kept the site, mark with 1 so pcangsd knows to keep it\n",
    "test_filter_sites <- left_join(sites, unlinked) #join with full sites dt and mark linked  sites with 0\n",
    "#head(test_filter_sites)\n",
    "#nrow(test_filter_sites)==nrow(sites) #check that this is true\n",
    "test_filter_sites[is.na(filter), filter := 0]\n",
    "#write out for pcangsd\n",
    "#fwrite(test_filter_sites[,.(filter)], \"/data/katrinac/APPC_sequencing/DNA/trimmed_reads/mapping/genotypes/angsd/ngsld/filter_linked_sites_pcangsd.txt\", col.names = F)"
   ]
  },
  {
   "cell_type": "markdown",
   "id": "faff55cc",
   "metadata": {},
   "source": [
    "__make positions file for angsd to restrict to unlinked sites__"
   ]
  },
  {
   "cell_type": "code",
   "execution_count": null,
   "id": "03c29101",
   "metadata": {},
   "outputs": [],
   "source": [
    "nrow(maf[, .N, by=\"chromo\"])\n",
    "pyam <- unique(maf[chromo %like% \"PYAM\"], by=\"chromo\")[, chromo] #add the PYAM sites together\n",
    "names <- maf[chromo %!in% pyam, .N, by=\"chromo\"][, \"chromo\"] #get a list of chromosome labels\n",
    "names_with_pyam <- rbind(names, matrix(nrow=1, ncol=1, \"PYAM\"), use.names=F)\n",
    "#fwrite(names_with_pyam, \"/data/katrinac/APPC_sequencing/DNA/trimmed_reads/mapping/ensembl/genotypes/angsd/ngsld/chromosomes.txt\", col.names =F)"
   ]
  },
  {
   "cell_type": "markdown",
   "id": "d39d4e39",
   "metadata": {},
   "source": [
    "__plot the pcangsd results, color by phenotypes in the association__"
   ]
  },
  {
   "cell_type": "code",
   "execution_count": 201,
   "id": "e3bc8d1f",
   "metadata": {},
   "outputs": [
    {
     "data": {
      "text/html": [
       "<ol class=list-inline>\n",
       "\t<li>0.2219017695179</li>\n",
       "\t<li>0.00598643294372138</li>\n",
       "\t<li>0.00597199189406873</li>\n",
       "\t<li>0.00597072029345451</li>\n",
       "\t<li>0.0059469609456615</li>\n",
       "\t<li>0.00589712321231381</li>\n",
       "\t<li>0.00588875424674787</li>\n",
       "\t<li>0.00585690834245419</li>\n",
       "\t<li>0.00584988515603053</li>\n",
       "\t<li>0.0058301193404674</li>\n",
       "\t<li>0.00582254249705374</li>\n",
       "\t<li>0.00580427414273047</li>\n",
       "\t<li>0.0057745344014497</li>\n",
       "\t<li>0.00576645064309368</li>\n",
       "\t<li>0.00575611360268721</li>\n",
       "\t<li>0.00575362609736342</li>\n",
       "\t<li>0.00575055426294029</li>\n",
       "\t<li>0.00574620710360046</li>\n",
       "\t<li>0.00574389014874662</li>\n",
       "\t<li>0.00573736591100399</li>\n",
       "\t<li>0.00573687857168569</li>\n",
       "\t<li>0.00573594672277066</li>\n",
       "\t<li>0.00573091868948023</li>\n",
       "\t<li>0.00572453818845193</li>\n",
       "\t<li>0.00572370245071102</li>\n",
       "\t<li>0.00572093756217057</li>\n",
       "\t<li>0.00571556326541689</li>\n",
       "\t<li>0.00570572407483485</li>\n",
       "\t<li>0.0057049178414973</li>\n",
       "\t<li>0.00570096520664236</li>\n",
       "\t<li>0.00569445704856707</li>\n",
       "\t<li>0.00566829911975274</li>\n",
       "\t<li>0.0056633751643583</li>\n",
       "\t<li>0.00565873125062863</li>\n",
       "\t<li>0.0056482166520675</li>\n",
       "\t<li>0.00563982299755724</li>\n",
       "\t<li>0.00562084064883381</li>\n",
       "\t<li>0.00562031159464846</li>\n",
       "\t<li>0.00561364964408478</li>\n",
       "\t<li>0.00560906097332878</li>\n",
       "\t<li>0.00559024997963881</li>\n",
       "\t<li>0.00558876160102687</li>\n",
       "\t<li>0.0055853882855992</li>\n",
       "\t<li>0.00556895816139825</li>\n",
       "\t<li>0.00556120009943787</li>\n",
       "\t<li>0.00553067195633774</li>\n",
       "\t<li>0.00552913830034827</li>\n",
       "\t<li>0.00551327081711969</li>\n",
       "\t<li>0.00550498737410155</li>\n",
       "\t<li>0.00549743853998266</li>\n",
       "\t<li>0.00548714465980134</li>\n",
       "\t<li>0.00546285407343883</li>\n",
       "\t<li>0.00545894122533679</li>\n",
       "\t<li>0.00544796229160954</li>\n",
       "\t<li>0.00543213018551987</li>\n",
       "\t<li>0.00541544446703717</li>\n",
       "\t<li>0.00539794952508097</li>\n",
       "\t<li>0.00537249452573562</li>\n",
       "\t<li>0.00536496986669834</li>\n",
       "\t<li>0.00531060017349873</li>\n",
       "\t<li>0.00528321338333614</li>\n",
       "\t<li>0.00524497267699114</li>\n",
       "\t<li>0.00523080001856643</li>\n",
       "\t<li>0.00521821773060986</li>\n",
       "\t<li>0.00519039138367899</li>\n",
       "\t<li>0.00501249878495543</li>\n",
       "\t<li>0.00499106613890194</li>\n",
       "\t<li>0.00497853129698991</li>\n",
       "\t<li>0.00492965663660731</li>\n",
       "\t<li>0.00491135334161926</li>\n",
       "\t<li>0.00490343924265714</li>\n",
       "\t<li>0.00487834775806923</li>\n",
       "\t<li>0.00486103115692999</li>\n",
       "\t<li>0.00485372541694469</li>\n",
       "\t<li>0.00485029129454262</li>\n",
       "\t<li>0.00483812424081798</li>\n",
       "\t<li>0.00483077604397488</li>\n",
       "\t<li>0.00482525346454652</li>\n",
       "\t<li>0.00481931088722083</li>\n",
       "\t<li>0.00480530406194671</li>\n",
       "\t<li>0.00478851085221983</li>\n",
       "\t<li>0.00477690816313227</li>\n",
       "\t<li>0.00477061533415821</li>\n",
       "\t<li>0.00476030278569617</li>\n",
       "\t<li>0.00475568113351936</li>\n",
       "\t<li>0.00475046302438346</li>\n",
       "\t<li>0.00474122104472431</li>\n",
       "\t<li>0.00471876002307574</li>\n",
       "\t<li>0.00471771584790475</li>\n",
       "\t<li>0.00468673201062256</li>\n",
       "\t<li>0.00467964906860538</li>\n",
       "\t<li>0.00463363335789007</li>\n",
       "\t<li>0.00462444924892779</li>\n",
       "\t<li>0.00461132370286391</li>\n",
       "\t<li>0.00460388979773001</li>\n",
       "\t<li>0.00458363405729129</li>\n",
       "\t<li>0.00457770646872397</li>\n",
       "\t<li>0.00457339300954367</li>\n",
       "\t<li>0.00456689835839456</li>\n",
       "\t<li>0.00456091743131606</li>\n",
       "\t<li>0.00455165496176449</li>\n",
       "\t<li>0.00453598294651011</li>\n",
       "\t<li>0.00452596790608648</li>\n",
       "\t<li>0.00451739942369408</li>\n",
       "\t<li>0.00450783397322223</li>\n",
       "\t<li>0.00449979345136249</li>\n",
       "\t<li>0.00448731238628987</li>\n",
       "\t<li>0.00446183940357879</li>\n",
       "\t<li>0.00444360174344579</li>\n",
       "\t<li>0.00444121969106992</li>\n",
       "\t<li>0.00443650057343618</li>\n",
       "\t<li>0.00443347454780747</li>\n",
       "\t<li>0.00442861402493191</li>\n",
       "\t<li>0.0044259398826462</li>\n",
       "\t<li>0.00440921575825138</li>\n",
       "\t<li>0.00440710931738081</li>\n",
       "\t<li>0.00438707363045596</li>\n",
       "\t<li>0.00437230425768299</li>\n",
       "\t<li>0.00436422058693518</li>\n",
       "\t<li>0.00434857079641986</li>\n",
       "\t<li>0.00434399093289101</li>\n",
       "\t<li>0.00434004184988589</li>\n",
       "\t<li>0.00432283817432848</li>\n",
       "\t<li>0.00431592941781796</li>\n",
       "\t<li>0.00429234859532762</li>\n",
       "\t<li>0.00428913839646823</li>\n",
       "\t<li>0.00427087640697589</li>\n",
       "\t<li>0.00426880376434153</li>\n",
       "\t<li>0.00426286330118597</li>\n",
       "\t<li>0.00425619329105218</li>\n",
       "\t<li>0.00424485087754145</li>\n",
       "\t<li>0.00423882551167906</li>\n",
       "\t<li>0.00423342492781394</li>\n",
       "\t<li>0.00423224256000174</li>\n",
       "\t<li>0.0042242531670514</li>\n",
       "\t<li>0.00422038657078744</li>\n",
       "\t<li>0.0042174912347616</li>\n",
       "\t<li>0.00420935335931273</li>\n",
       "\t<li>0.00420375644024794</li>\n",
       "\t<li>0.00419835234288851</li>\n",
       "\t<li>0.0041943630273725</li>\n",
       "\t<li>0.00418625911027547</li>\n",
       "\t<li>0.00418429754056614</li>\n",
       "\t<li>0.00418221037624314</li>\n",
       "\t<li>0.00417482530316904</li>\n",
       "\t<li>0.00416964320963604</li>\n",
       "\t<li>0.00415890005839815</li>\n",
       "\t<li>0.00413037044648705</li>\n",
       "\t<li>0.00412125448627404</li>\n",
       "\t<li>0.0041157554813396</li>\n",
       "\t<li>0.00407055918640557</li>\n",
       "\t<li>0.00404269060212136</li>\n",
       "\t<li>0.0040197397830961</li>\n",
       "\t<li>0.00395263019803431</li>\n",
       "\t<li>0.0039411302389632</li>\n",
       "\t<li>0.00391297427601929</li>\n",
       "\t<li>0.00387265542488341</li>\n",
       "\t<li>0.00380773302600512</li>\n",
       "\t<li>0.00363806967902092</li>\n",
       "</ol>\n"
      ],
      "text/latex": [
       "\\begin{enumerate*}\n",
       "\\item 0.2219017695179\n",
       "\\item 0.00598643294372138\n",
       "\\item 0.00597199189406873\n",
       "\\item 0.00597072029345451\n",
       "\\item 0.0059469609456615\n",
       "\\item 0.00589712321231381\n",
       "\\item 0.00588875424674787\n",
       "\\item 0.00585690834245419\n",
       "\\item 0.00584988515603053\n",
       "\\item 0.0058301193404674\n",
       "\\item 0.00582254249705374\n",
       "\\item 0.00580427414273047\n",
       "\\item 0.0057745344014497\n",
       "\\item 0.00576645064309368\n",
       "\\item 0.00575611360268721\n",
       "\\item 0.00575362609736342\n",
       "\\item 0.00575055426294029\n",
       "\\item 0.00574620710360046\n",
       "\\item 0.00574389014874662\n",
       "\\item 0.00573736591100399\n",
       "\\item 0.00573687857168569\n",
       "\\item 0.00573594672277066\n",
       "\\item 0.00573091868948023\n",
       "\\item 0.00572453818845193\n",
       "\\item 0.00572370245071102\n",
       "\\item 0.00572093756217057\n",
       "\\item 0.00571556326541689\n",
       "\\item 0.00570572407483485\n",
       "\\item 0.0057049178414973\n",
       "\\item 0.00570096520664236\n",
       "\\item 0.00569445704856707\n",
       "\\item 0.00566829911975274\n",
       "\\item 0.0056633751643583\n",
       "\\item 0.00565873125062863\n",
       "\\item 0.0056482166520675\n",
       "\\item 0.00563982299755724\n",
       "\\item 0.00562084064883381\n",
       "\\item 0.00562031159464846\n",
       "\\item 0.00561364964408478\n",
       "\\item 0.00560906097332878\n",
       "\\item 0.00559024997963881\n",
       "\\item 0.00558876160102687\n",
       "\\item 0.0055853882855992\n",
       "\\item 0.00556895816139825\n",
       "\\item 0.00556120009943787\n",
       "\\item 0.00553067195633774\n",
       "\\item 0.00552913830034827\n",
       "\\item 0.00551327081711969\n",
       "\\item 0.00550498737410155\n",
       "\\item 0.00549743853998266\n",
       "\\item 0.00548714465980134\n",
       "\\item 0.00546285407343883\n",
       "\\item 0.00545894122533679\n",
       "\\item 0.00544796229160954\n",
       "\\item 0.00543213018551987\n",
       "\\item 0.00541544446703717\n",
       "\\item 0.00539794952508097\n",
       "\\item 0.00537249452573562\n",
       "\\item 0.00536496986669834\n",
       "\\item 0.00531060017349873\n",
       "\\item 0.00528321338333614\n",
       "\\item 0.00524497267699114\n",
       "\\item 0.00523080001856643\n",
       "\\item 0.00521821773060986\n",
       "\\item 0.00519039138367899\n",
       "\\item 0.00501249878495543\n",
       "\\item 0.00499106613890194\n",
       "\\item 0.00497853129698991\n",
       "\\item 0.00492965663660731\n",
       "\\item 0.00491135334161926\n",
       "\\item 0.00490343924265714\n",
       "\\item 0.00487834775806923\n",
       "\\item 0.00486103115692999\n",
       "\\item 0.00485372541694469\n",
       "\\item 0.00485029129454262\n",
       "\\item 0.00483812424081798\n",
       "\\item 0.00483077604397488\n",
       "\\item 0.00482525346454652\n",
       "\\item 0.00481931088722083\n",
       "\\item 0.00480530406194671\n",
       "\\item 0.00478851085221983\n",
       "\\item 0.00477690816313227\n",
       "\\item 0.00477061533415821\n",
       "\\item 0.00476030278569617\n",
       "\\item 0.00475568113351936\n",
       "\\item 0.00475046302438346\n",
       "\\item 0.00474122104472431\n",
       "\\item 0.00471876002307574\n",
       "\\item 0.00471771584790475\n",
       "\\item 0.00468673201062256\n",
       "\\item 0.00467964906860538\n",
       "\\item 0.00463363335789007\n",
       "\\item 0.00462444924892779\n",
       "\\item 0.00461132370286391\n",
       "\\item 0.00460388979773001\n",
       "\\item 0.00458363405729129\n",
       "\\item 0.00457770646872397\n",
       "\\item 0.00457339300954367\n",
       "\\item 0.00456689835839456\n",
       "\\item 0.00456091743131606\n",
       "\\item 0.00455165496176449\n",
       "\\item 0.00453598294651011\n",
       "\\item 0.00452596790608648\n",
       "\\item 0.00451739942369408\n",
       "\\item 0.00450783397322223\n",
       "\\item 0.00449979345136249\n",
       "\\item 0.00448731238628987\n",
       "\\item 0.00446183940357879\n",
       "\\item 0.00444360174344579\n",
       "\\item 0.00444121969106992\n",
       "\\item 0.00443650057343618\n",
       "\\item 0.00443347454780747\n",
       "\\item 0.00442861402493191\n",
       "\\item 0.0044259398826462\n",
       "\\item 0.00440921575825138\n",
       "\\item 0.00440710931738081\n",
       "\\item 0.00438707363045596\n",
       "\\item 0.00437230425768299\n",
       "\\item 0.00436422058693518\n",
       "\\item 0.00434857079641986\n",
       "\\item 0.00434399093289101\n",
       "\\item 0.00434004184988589\n",
       "\\item 0.00432283817432848\n",
       "\\item 0.00431592941781796\n",
       "\\item 0.00429234859532762\n",
       "\\item 0.00428913839646823\n",
       "\\item 0.00427087640697589\n",
       "\\item 0.00426880376434153\n",
       "\\item 0.00426286330118597\n",
       "\\item 0.00425619329105218\n",
       "\\item 0.00424485087754145\n",
       "\\item 0.00423882551167906\n",
       "\\item 0.00423342492781394\n",
       "\\item 0.00423224256000174\n",
       "\\item 0.0042242531670514\n",
       "\\item 0.00422038657078744\n",
       "\\item 0.0042174912347616\n",
       "\\item 0.00420935335931273\n",
       "\\item 0.00420375644024794\n",
       "\\item 0.00419835234288851\n",
       "\\item 0.0041943630273725\n",
       "\\item 0.00418625911027547\n",
       "\\item 0.00418429754056614\n",
       "\\item 0.00418221037624314\n",
       "\\item 0.00417482530316904\n",
       "\\item 0.00416964320963604\n",
       "\\item 0.00415890005839815\n",
       "\\item 0.00413037044648705\n",
       "\\item 0.00412125448627404\n",
       "\\item 0.0041157554813396\n",
       "\\item 0.00407055918640557\n",
       "\\item 0.00404269060212136\n",
       "\\item 0.0040197397830961\n",
       "\\item 0.00395263019803431\n",
       "\\item 0.0039411302389632\n",
       "\\item 0.00391297427601929\n",
       "\\item 0.00387265542488341\n",
       "\\item 0.00380773302600512\n",
       "\\item 0.00363806967902092\n",
       "\\end{enumerate*}\n"
      ],
      "text/markdown": [
       "1. 0.2219017695179\n",
       "2. 0.00598643294372138\n",
       "3. 0.00597199189406873\n",
       "4. 0.00597072029345451\n",
       "5. 0.0059469609456615\n",
       "6. 0.00589712321231381\n",
       "7. 0.00588875424674787\n",
       "8. 0.00585690834245419\n",
       "9. 0.00584988515603053\n",
       "10. 0.0058301193404674\n",
       "11. 0.00582254249705374\n",
       "12. 0.00580427414273047\n",
       "13. 0.0057745344014497\n",
       "14. 0.00576645064309368\n",
       "15. 0.00575611360268721\n",
       "16. 0.00575362609736342\n",
       "17. 0.00575055426294029\n",
       "18. 0.00574620710360046\n",
       "19. 0.00574389014874662\n",
       "20. 0.00573736591100399\n",
       "21. 0.00573687857168569\n",
       "22. 0.00573594672277066\n",
       "23. 0.00573091868948023\n",
       "24. 0.00572453818845193\n",
       "25. 0.00572370245071102\n",
       "26. 0.00572093756217057\n",
       "27. 0.00571556326541689\n",
       "28. 0.00570572407483485\n",
       "29. 0.0057049178414973\n",
       "30. 0.00570096520664236\n",
       "31. 0.00569445704856707\n",
       "32. 0.00566829911975274\n",
       "33. 0.0056633751643583\n",
       "34. 0.00565873125062863\n",
       "35. 0.0056482166520675\n",
       "36. 0.00563982299755724\n",
       "37. 0.00562084064883381\n",
       "38. 0.00562031159464846\n",
       "39. 0.00561364964408478\n",
       "40. 0.00560906097332878\n",
       "41. 0.00559024997963881\n",
       "42. 0.00558876160102687\n",
       "43. 0.0055853882855992\n",
       "44. 0.00556895816139825\n",
       "45. 0.00556120009943787\n",
       "46. 0.00553067195633774\n",
       "47. 0.00552913830034827\n",
       "48. 0.00551327081711969\n",
       "49. 0.00550498737410155\n",
       "50. 0.00549743853998266\n",
       "51. 0.00548714465980134\n",
       "52. 0.00546285407343883\n",
       "53. 0.00545894122533679\n",
       "54. 0.00544796229160954\n",
       "55. 0.00543213018551987\n",
       "56. 0.00541544446703717\n",
       "57. 0.00539794952508097\n",
       "58. 0.00537249452573562\n",
       "59. 0.00536496986669834\n",
       "60. 0.00531060017349873\n",
       "61. 0.00528321338333614\n",
       "62. 0.00524497267699114\n",
       "63. 0.00523080001856643\n",
       "64. 0.00521821773060986\n",
       "65. 0.00519039138367899\n",
       "66. 0.00501249878495543\n",
       "67. 0.00499106613890194\n",
       "68. 0.00497853129698991\n",
       "69. 0.00492965663660731\n",
       "70. 0.00491135334161926\n",
       "71. 0.00490343924265714\n",
       "72. 0.00487834775806923\n",
       "73. 0.00486103115692999\n",
       "74. 0.00485372541694469\n",
       "75. 0.00485029129454262\n",
       "76. 0.00483812424081798\n",
       "77. 0.00483077604397488\n",
       "78. 0.00482525346454652\n",
       "79. 0.00481931088722083\n",
       "80. 0.00480530406194671\n",
       "81. 0.00478851085221983\n",
       "82. 0.00477690816313227\n",
       "83. 0.00477061533415821\n",
       "84. 0.00476030278569617\n",
       "85. 0.00475568113351936\n",
       "86. 0.00475046302438346\n",
       "87. 0.00474122104472431\n",
       "88. 0.00471876002307574\n",
       "89. 0.00471771584790475\n",
       "90. 0.00468673201062256\n",
       "91. 0.00467964906860538\n",
       "92. 0.00463363335789007\n",
       "93. 0.00462444924892779\n",
       "94. 0.00461132370286391\n",
       "95. 0.00460388979773001\n",
       "96. 0.00458363405729129\n",
       "97. 0.00457770646872397\n",
       "98. 0.00457339300954367\n",
       "99. 0.00456689835839456\n",
       "100. 0.00456091743131606\n",
       "101. 0.00455165496176449\n",
       "102. 0.00453598294651011\n",
       "103. 0.00452596790608648\n",
       "104. 0.00451739942369408\n",
       "105. 0.00450783397322223\n",
       "106. 0.00449979345136249\n",
       "107. 0.00448731238628987\n",
       "108. 0.00446183940357879\n",
       "109. 0.00444360174344579\n",
       "110. 0.00444121969106992\n",
       "111. 0.00443650057343618\n",
       "112. 0.00443347454780747\n",
       "113. 0.00442861402493191\n",
       "114. 0.0044259398826462\n",
       "115. 0.00440921575825138\n",
       "116. 0.00440710931738081\n",
       "117. 0.00438707363045596\n",
       "118. 0.00437230425768299\n",
       "119. 0.00436422058693518\n",
       "120. 0.00434857079641986\n",
       "121. 0.00434399093289101\n",
       "122. 0.00434004184988589\n",
       "123. 0.00432283817432848\n",
       "124. 0.00431592941781796\n",
       "125. 0.00429234859532762\n",
       "126. 0.00428913839646823\n",
       "127. 0.00427087640697589\n",
       "128. 0.00426880376434153\n",
       "129. 0.00426286330118597\n",
       "130. 0.00425619329105218\n",
       "131. 0.00424485087754145\n",
       "132. 0.00423882551167906\n",
       "133. 0.00423342492781394\n",
       "134. 0.00423224256000174\n",
       "135. 0.0042242531670514\n",
       "136. 0.00422038657078744\n",
       "137. 0.0042174912347616\n",
       "138. 0.00420935335931273\n",
       "139. 0.00420375644024794\n",
       "140. 0.00419835234288851\n",
       "141. 0.0041943630273725\n",
       "142. 0.00418625911027547\n",
       "143. 0.00418429754056614\n",
       "144. 0.00418221037624314\n",
       "145. 0.00417482530316904\n",
       "146. 0.00416964320963604\n",
       "147. 0.00415890005839815\n",
       "148. 0.00413037044648705\n",
       "149. 0.00412125448627404\n",
       "150. 0.0041157554813396\n",
       "151. 0.00407055918640557\n",
       "152. 0.00404269060212136\n",
       "153. 0.0040197397830961\n",
       "154. 0.00395263019803431\n",
       "155. 0.0039411302389632\n",
       "156. 0.00391297427601929\n",
       "157. 0.00387265542488341\n",
       "158. 0.00380773302600512\n",
       "159. 0.00363806967902092\n",
       "\n",
       "\n"
      ],
      "text/plain": [
       "  [1] 0.221901770 0.005986433 0.005971992 0.005970720 0.005946961 0.005897123\n",
       "  [7] 0.005888754 0.005856908 0.005849885 0.005830119 0.005822542 0.005804274\n",
       " [13] 0.005774534 0.005766451 0.005756114 0.005753626 0.005750554 0.005746207\n",
       " [19] 0.005743890 0.005737366 0.005736879 0.005735947 0.005730919 0.005724538\n",
       " [25] 0.005723702 0.005720938 0.005715563 0.005705724 0.005704918 0.005700965\n",
       " [31] 0.005694457 0.005668299 0.005663375 0.005658731 0.005648217 0.005639823\n",
       " [37] 0.005620841 0.005620312 0.005613650 0.005609061 0.005590250 0.005588762\n",
       " [43] 0.005585388 0.005568958 0.005561200 0.005530672 0.005529138 0.005513271\n",
       " [49] 0.005504987 0.005497439 0.005487145 0.005462854 0.005458941 0.005447962\n",
       " [55] 0.005432130 0.005415444 0.005397950 0.005372495 0.005364970 0.005310600\n",
       " [61] 0.005283213 0.005244973 0.005230800 0.005218218 0.005190391 0.005012499\n",
       " [67] 0.004991066 0.004978531 0.004929657 0.004911353 0.004903439 0.004878348\n",
       " [73] 0.004861031 0.004853725 0.004850291 0.004838124 0.004830776 0.004825253\n",
       " [79] 0.004819311 0.004805304 0.004788511 0.004776908 0.004770615 0.004760303\n",
       " [85] 0.004755681 0.004750463 0.004741221 0.004718760 0.004717716 0.004686732\n",
       " [91] 0.004679649 0.004633633 0.004624449 0.004611324 0.004603890 0.004583634\n",
       " [97] 0.004577706 0.004573393 0.004566898 0.004560917 0.004551655 0.004535983\n",
       "[103] 0.004525968 0.004517399 0.004507834 0.004499793 0.004487312 0.004461839\n",
       "[109] 0.004443602 0.004441220 0.004436501 0.004433475 0.004428614 0.004425940\n",
       "[115] 0.004409216 0.004407109 0.004387074 0.004372304 0.004364221 0.004348571\n",
       "[121] 0.004343991 0.004340042 0.004322838 0.004315929 0.004292349 0.004289138\n",
       "[127] 0.004270876 0.004268804 0.004262863 0.004256193 0.004244851 0.004238826\n",
       "[133] 0.004233425 0.004232243 0.004224253 0.004220387 0.004217491 0.004209353\n",
       "[139] 0.004203756 0.004198352 0.004194363 0.004186259 0.004184298 0.004182210\n",
       "[145] 0.004174825 0.004169643 0.004158900 0.004130370 0.004121254 0.004115755\n",
       "[151] 0.004070559 0.004042691 0.004019740 0.003952630 0.003941130 0.003912974\n",
       "[157] 0.003872655 0.003807733 0.003638070"
      ]
     },
     "metadata": {},
     "output_type": "display_data"
    }
   ],
   "source": [
    "pca <- fread(\"/data/katrinac/APPC_sequencing/DNA/trimmed_reads/mapping/genotypes/angsd/output.pcangsd.cov\")\n",
    "#get eigenvalues\n",
    "ev <-eigen(pca)\n",
    "ev_dt <- data.table(ev$vectors[,1:10])\n",
    "setnames(ev_dt, c(\"pc1\", \"pc2\", \"pc3\", \"pc4\", \"pc5\", \"pc6\", \"pc7\", \"pc8\", \"pc9\", \"pc10\"))\n",
    "#variance explained?\n",
    "ev$values/sum(ev$values)"
   ]
  },
  {
   "cell_type": "markdown",
   "id": "42650a12",
   "metadata": {},
   "source": [
    "__join together the metadata with other covariates and phenotypes with the pcs- be sure to check that the samples are ordered the same as bamlist__"
   ]
  },
  {
   "cell_type": "code",
   "execution_count": 202,
   "id": "d79b92c3",
   "metadata": {},
   "outputs": [
    {
     "name": "stderr",
     "output_type": "stream",
     "text": [
      "Warning message in `[.data.table`(fread(\"/data/katrinac/APPC_sequencing/DNA/trimmed_reads/mapping/genotypes/angsd/Sample_Meta.txt\")[is.na(Group), :\n",
      "“Coerced double RHS to character to match the type of the target column (column 10 named 'Group'). If the target column's type character is correct, it's best for efficiency to avoid the coercion and create the RHS as type character. To achieve that consider R's type postfix: typeof(0L) vs typeof(0), and typeof(NA) vs typeof(NA_integer_) vs typeof(NA_real_). You can wrap the RHS with as.character() to avoid this warning, but that will still perform the coercion. If the target column's type is not correct, it's best to revisit where the DT was created and fix the column type there; e.g., by using colClasses= in fread(). Otherwise, you can change the column type now by plonking a new column (of the desired type) over the top of it; e.g. DT[, `Group`:=as.double(`Group`)]. If the RHS of := has nrow(DT) elements then the assignment is called a column plonk and is the way to change a column's type. Column types can be observed with sapply(DT,typeof).”Warning message in `[.data.table`(fread(\"/data/katrinac/APPC_sequencing/DNA/trimmed_reads/mapping/genotypes/angsd/Sample_Meta.txt\")[is.na(Group), :\n",
      "“Coerced double RHS to character to match the type of the target column (column 10 named 'Group'). If the target column's type character is correct, it's best for efficiency to avoid the coercion and create the RHS as type character. To achieve that consider R's type postfix: typeof(0L) vs typeof(0), and typeof(NA) vs typeof(NA_integer_) vs typeof(NA_real_). You can wrap the RHS with as.character() to avoid this warning, but that will still perform the coercion. If the target column's type is not correct, it's best to revisit where the DT was created and fix the column type there; e.g., by using colClasses= in fread(). Otherwise, you can change the column type now by plonking a new column (of the desired type) over the top of it; e.g. DT[, `Group`:=as.double(`Group`)]. If the RHS of := has nrow(DT) elements then the assignment is called a column plonk and is the way to change a column's type. Column types can be observed with sapply(DT,typeof).”"
     ]
    }
   ],
   "source": [
    "bamlist <- fread(\"/data/katrinac/APPC_sequencing/DNA/trimmed_reads/mapping/genotypes/bamlist.list.txt\")\n",
    "meta <- fread(\"/data/katrinac/APPC_sequencing/DNA/trimmed_reads/mapping/genotypes/angsd/Sample_Meta.txt\")[is.na(Group), Group :=-999][Group==\"High\", Group:=1][Group==\"Low\", Group:=0][, .(sample=gen_id, ucrit=Ucrit, sl=SL, dam, sire, case=Group, capture=Capture)]\n",
    "sorted_meta <- left_join(bamlist, meta, by=\"sample\")\n",
    "pca_phenos <- cbind(sorted_meta , ev_dt)[, sequencing_lib := ifelse(capture %in% c(\"Pop01\",\"Pop02\",\"Pop03\", \"Pop04\", \"Pop05\", \"Pop06\", \"Pop07\",\"Pop08\"), 1, 2)]\n",
    "#write out the pcs to use as covariates\n",
    "#fwrite(pca_phenos[, \"capture\"], \"/data/katrinac/APPC_sequencing/DNA/trimmed_reads/mapping/genotypes/angsd/capture.cov\", col.names = F)"
   ]
  },
  {
   "cell_type": "code",
   "execution_count": 377,
   "id": "0b61153b",
   "metadata": {},
   "outputs": [
    {
     "data": {
      "text/plain": [
       "\n",
       "\tPearson's product-moment correlation\n",
       "\n",
       "data:  pca_phenos$ucrit and pca_phenos$sl\n",
       "t = 0.49775, df = 145, p-value = 0.6194\n",
       "alternative hypothesis: true correlation is not equal to 0\n",
       "95 percent confidence interval:\n",
       " -0.1214045  0.2018443\n",
       "sample estimates:\n",
       "       cor \n",
       "0.04130056 \n"
      ]
     },
     "metadata": {},
     "output_type": "display_data"
    }
   ],
   "source": [
    "cor.test(pca_phenos$ucrit, pca_phenos$sl)"
   ]
  },
  {
   "cell_type": "code",
   "execution_count": 289,
   "id": "69d4274f",
   "metadata": {},
   "outputs": [
    {
     "name": "stderr",
     "output_type": "stream",
     "text": [
      "`stat_bin()` using `bins = 30`. Pick better value with `binwidth`.\n",
      "Warning message:\n",
      "“Removed 3 rows containing non-finite values (stat_bin).”Warning message:\n",
      "“Removed 2 rows containing missing values (geom_bar).”Saving 6.67 x 6.67 in image\n",
      "`stat_bin()` using `bins = 30`. Pick better value with `binwidth`.\n",
      "Warning message:\n",
      "“Removed 3 rows containing non-finite values (stat_bin).”Warning message:\n",
      "“Removed 2 rows containing missing values (geom_bar).”"
     ]
    },
    {
     "data": {
      "image/png": "[encoded data removed]",
      "text/plain": [
       "plot without title"
      ]
     },
     "metadata": {},
     "output_type": "display_data"
    }
   ],
   "source": [
    "ucrit_fam <- ggplot()+\n",
    "geom_histogram(data=pca_phenos, aes(x=ucrit), color=\"black\", fill=\"gray\")+\n",
    " ylab(\"Frequency\") +\n",
    "    xlab(\"Ucrit\")+\n",
    "    theme(strip.text.x = element_text(size = 14),\n",
    "    legend.position = \"bottom\",\n",
    "    legend.key=element_blank(),\n",
    "    panel.grid.major = element_blank(),\n",
    "    panel.grid.minor = element_blank(), \n",
    "    panel.background = element_blank(), #,\n",
    "    axis.line = element_line(colour = \"black\"),axis.text.x =  element_text(size=18, color=\"black\"),#15 for publication, 20 for presentation #element_text(size=15, color=\"black\", family=\"Helvetica\"),\n",
    "    axis.title.y =  element_text(size=18, color=\"black\"),\n",
    "    axis.title.x =  element_text(size=18, color=\"black\"),#15 for publication, 20 for presentation #element_text(size=15, color=\"black\", family=\"Helvetica\"),\n",
    "    axis.text.y =  element_text(size=18, color=\"black\"))+\n",
    "    scale_x_continuous(limits = c(0,9), expand = c(0, 0), breaks=c(seq(0, 9, 1))) +    \n",
    "    scale_y_continuous(expand = c(0,0), limits = c(0,18)) \n",
    "\n",
    "ucrit_fam\n",
    "ggsave(plot=ucrit_fam, filename = \"/data/katrinac/APPC_sequencing/DNA/trimmed_reads/mapping/ensembl/genotypes/angsd/results/ucrit_dist_pres.pdf\")"
   ]
  },
  {
   "cell_type": "code",
   "execution_count": 288,
   "id": "cf53d824",
   "metadata": {},
   "outputs": [
    {
     "name": "stderr",
     "output_type": "stream",
     "text": [
      "`stat_bin()` using `bins = 30`. Pick better value with `binwidth`.\n",
      "Warning message:\n",
      "“Removed 12 rows containing non-finite values (stat_bin).”Warning message:\n",
      "“Removed 2 rows containing missing values (geom_bar).”Saving 6.67 x 6.67 in image\n",
      "`stat_bin()` using `bins = 30`. Pick better value with `binwidth`.\n",
      "Warning message:\n",
      "“Removed 12 rows containing non-finite values (stat_bin).”Warning message:\n",
      "“Removed 2 rows containing missing values (geom_bar).”"
     ]
    },
    {
     "data": {
      "image/png": "[encoded data removed]",
      "text/plain": [
       "plot without title"
      ]
     },
     "metadata": {},
     "output_type": "display_data"
    }
   ],
   "source": [
    "sl_fam <- ggplot()+\n",
    "geom_histogram(data=pca_phenos, aes(x=sl), color=\"black\", fill=\"gray\")+\n",
    " ylab(\"Frequency\") +\n",
    "    xlab(\"Body size (mm)\")+\n",
    "    theme(strip.text.x = element_text(size = 14),\n",
    "    legend.position = \"bottom\",\n",
    "    legend.key=element_blank(),\n",
    "    panel.grid.major = element_blank(),\n",
    "    panel.grid.minor = element_blank(), \n",
    "    panel.background = element_blank(), #,\n",
    "    axis.line = element_line(colour = \"black\"),axis.text.x =  element_text(size=18, color=\"black\"),#15 for publication, 20 for presentation #element_text(size=15, color=\"black\", family=\"Helvetica\"),\n",
    "    axis.title.y =  element_text(size=18, color=\"black\"),\n",
    "    axis.title.x =  element_text(size=18, color=\"black\"),#15 for publication, 20 for presentation #element_text(size=15, color=\"black\", family=\"Helvetica\"),\n",
    "    axis.text.y =  element_text(size=18, color=\"black\"))+\n",
    "    scale_x_continuous(limits = c(3.9,4.7), expand = c(0, 0), breaks=c(seq(3.9, 4.6, .1))) +    \n",
    "    scale_y_continuous(expand = c(0,0), limits = c(0,18)) \n",
    "\n",
    "sl_fam\n",
    "ggsave(plot=sl_fam, filename = \"/data/katrinac/APPC_sequencing/DNA/trimmed_reads/mapping/ensembl/genotypes/angsd/results/sl_dist_pres.pdf\")"
   ]
  },
  {
   "cell_type": "code",
   "execution_count": 269,
   "id": "6336c891",
   "metadata": {},
   "outputs": [
    {
     "data": {
      "text/plain": [
       "   Min. 1st Qu.  Median    Mean 3rd Qu.    Max.    NA's \n",
       "  3.920   4.160   4.270   4.254   4.350   4.560      12 "
      ]
     },
     "metadata": {},
     "output_type": "display_data"
    }
   ],
   "source": [
    "summary(pca_phenos$sl)"
   ]
  },
  {
   "cell_type": "code",
   "execution_count": 240,
   "id": "3fdbb245",
   "metadata": {},
   "outputs": [
    {
     "data": {
      "text/html": [
       "<table>\n",
       "<thead><tr><th scope=col>Estimate</th><th scope=col>Std. Error</th><th scope=col>t value</th><th scope=col>pvalue</th><th scope=col>names</th></tr></thead>\n",
       "<tbody>\n",
       "\t<tr><td>4.134696    </td><td>0.2389598   </td><td>17.30289    </td><td>4.956978e-38</td><td>(Intercept) </td></tr>\n",
       "</tbody>\n",
       "</table>\n"
      ],
      "text/latex": [
       "\\begin{tabular}{r|lllll}\n",
       " Estimate & Std. Error & t value & pvalue & names\\\\\n",
       "\\hline\n",
       "\t 4.134696     & 0.2389598    & 17.30289     & 4.956978e-38 & (Intercept) \\\\\n",
       "\\end{tabular}\n"
      ],
      "text/markdown": [
       "\n",
       "| Estimate | Std. Error | t value | pvalue | names |\n",
       "|---|---|---|---|---|\n",
       "| 4.134696     | 0.2389598    | 17.30289     | 4.956978e-38 | (Intercept)  |\n",
       "\n"
      ],
      "text/plain": [
       "  Estimate Std. Error t value  pvalue       names      \n",
       "1 4.134696 0.2389598  17.30289 4.956978e-38 (Intercept)"
      ]
     },
     "metadata": {},
     "output_type": "display_data"
    }
   ],
   "source": [
    "predictors <- as.data.table(summary(glm(data=pca_phenos, ucrit ~ pc1+pc2+pc3))$coeff)\n",
    " \n",
    "predictors$names <- row.names(summary(glm(data=pca_phenos, ucrit ~ pc1+pc2+pc3))$coeff)\n",
    "setnames(predictors, 4, \"pvalue\")\n",
    "predictors[pvalue <0.08][order(pvalue)]"
   ]
  },
  {
   "cell_type": "code",
   "execution_count": 265,
   "id": "efe3221f",
   "metadata": {},
   "outputs": [
    {
     "data": {
      "text/plain": [
       "\n",
       "Call:\n",
       "lm(formula = sl ~ pc1 + pc2 + pc3, data = pca_phenos)\n",
       "\n",
       "Residuals:\n",
       "     Min       1Q   Median       3Q      Max \n",
       "-0.37741 -0.08883  0.02049  0.09169  0.29336 \n",
       "\n",
       "Coefficients:\n",
       "            Estimate Std. Error t value Pr(>|t|)    \n",
       "(Intercept)  4.25853    0.01065 399.963  < 2e-16 ***\n",
       "pc1         -0.49653    0.13391  -3.708 0.000298 ***\n",
       "pc2         -0.12181    0.13587  -0.897 0.371479    \n",
       "pc3         -0.10257    0.12827  -0.800 0.425265    \n",
       "---\n",
       "Signif. codes:  0 ‘***’ 0.001 ‘**’ 0.01 ‘*’ 0.05 ‘.’ 0.1 ‘ ’ 1\n",
       "\n",
       "Residual standard error: 0.1282 on 143 degrees of freedom\n",
       "  (12 observations deleted due to missingness)\n",
       "Multiple R-squared:  0.09615,\tAdjusted R-squared:  0.07719 \n",
       "F-statistic: 5.071 on 3 and 143 DF,  p-value: 0.002291\n"
      ]
     },
     "metadata": {},
     "output_type": "display_data"
    }
   ],
   "source": [
    "summary(lm(data=pca_phenos, sl ~pc1+pc2+pc3))"
   ]
  },
  {
   "cell_type": "code",
   "execution_count": 261,
   "id": "8de8c577",
   "metadata": {},
   "outputs": [
    {
     "data": {
      "text/html": [
       "<table>\n",
       "<thead><tr><th scope=col>Estimate</th><th scope=col>Std. Error</th><th scope=col>t value</th><th scope=col>pvalue</th><th scope=col>names</th></tr></thead>\n",
       "<tbody>\n",
       "\t<tr><td> 4.2585276   </td><td>0.01064732   </td><td>399.962566   </td><td>6.512067e-220</td><td>(Intercept)  </td></tr>\n",
       "\t<tr><td>-0.4965271   </td><td>0.13391083   </td><td> -3.707894   </td><td> 2.982073e-04</td><td>pc1          </td></tr>\n",
       "</tbody>\n",
       "</table>\n"
      ],
      "text/latex": [
       "\\begin{tabular}{r|lllll}\n",
       " Estimate & Std. Error & t value & pvalue & names\\\\\n",
       "\\hline\n",
       "\t  4.2585276    & 0.01064732    & 399.962566    & 6.512067e-220 & (Intercept)  \\\\\n",
       "\t -0.4965271    & 0.13391083    &  -3.707894    &  2.982073e-04 & pc1          \\\\\n",
       "\\end{tabular}\n"
      ],
      "text/markdown": [
       "\n",
       "| Estimate | Std. Error | t value | pvalue | names |\n",
       "|---|---|---|---|---|\n",
       "|  4.2585276    | 0.01064732    | 399.962566    | 6.512067e-220 | (Intercept)   |\n",
       "| -0.4965271    | 0.13391083    |  -3.707894    |  2.982073e-04 | pc1           |\n",
       "\n"
      ],
      "text/plain": [
       "  Estimate   Std. Error t value    pvalue        names      \n",
       "1  4.2585276 0.01064732 399.962566 6.512067e-220 (Intercept)\n",
       "2 -0.4965271 0.13391083  -3.707894  2.982073e-04 pc1        "
      ]
     },
     "metadata": {},
     "output_type": "display_data"
    }
   ],
   "source": [
    "#what pcs/covariates explain the phenotype?\n",
    "predictors <- as.data.table(summary(glm(data=pca_phenos, sl ~pc1+pc2+pc3))$coeff)\n",
    " \n",
    "predictors$names <- row.names(summary(glm(data=pca_phenos, sl ~ pc1+pc2+pc3))$coeff)\n",
    "setnames(predictors, 4, \"pvalue\")\n",
    "predictors[pvalue <0.06][order(pvalue)]"
   ]
  },
  {
   "cell_type": "code",
   "execution_count": 248,
   "id": "de6ae6f2",
   "metadata": {},
   "outputs": [],
   "source": [
    "library(broom)"
   ]
  },
  {
   "cell_type": "code",
   "execution_count": 255,
   "id": "754eb58e",
   "metadata": {},
   "outputs": [
    {
     "data": {
      "text/plain": [
       "\n",
       "Call:\n",
       "glm(formula = sl ~ pc1 + pc2 + pc3, data = pca_phenos)\n",
       "\n",
       "Deviance Residuals: \n",
       "     Min        1Q    Median        3Q       Max  \n",
       "-0.37741  -0.08883   0.02049   0.09169   0.29336  \n",
       "\n",
       "Coefficients:\n",
       "            Estimate Std. Error t value Pr(>|t|)    \n",
       "(Intercept)  4.25853    0.01065 399.963  < 2e-16 ***\n",
       "pc1         -0.49653    0.13391  -3.708 0.000298 ***\n",
       "pc2         -0.12181    0.13587  -0.897 0.371479    \n",
       "pc3         -0.10257    0.12827  -0.800 0.425265    \n",
       "---\n",
       "Signif. codes:  0 ‘***’ 0.001 ‘**’ 0.01 ‘*’ 0.05 ‘.’ 0.1 ‘ ’ 1\n",
       "\n",
       "(Dispersion parameter for gaussian family taken to be 0.01643846)\n",
       "\n",
       "    Null deviance: 2.6008  on 146  degrees of freedom\n",
       "Residual deviance: 2.3507  on 143  degrees of freedom\n",
       "  (12 observations deleted due to missingness)\n",
       "AIC: -180.78\n",
       "\n",
       "Number of Fisher Scoring iterations: 2\n"
      ]
     },
     "metadata": {},
     "output_type": "display_data"
    }
   ],
   "source": [
    "summary(glm(data=pca_phenos, sl ~pc1+pc2+pc3))\n",
    "sl_results <- tidy(glm(data=pca_phenos, sl ~pc1+pc2+pc3))\n",
    "fwrite(sl_results, \"/data/katrinac/APPC_sequencing/DNA/trimmed_reads/mapping/ensembl/genotypes/angsd/results/sl_pca_glm.csv\" )\n",
    "ucrit_results <- tidy(glm(data=pca_phenos, ucrit ~pc1+pc2+pc3))\n",
    "fwrite(ucrit_results, \"/data/katrinac/APPC_sequencing/DNA/trimmed_reads/mapping/ensembl/genotypes/angsd/results/ucrit_pca_glm.csv\" )\n"
   ]
  },
  {
   "cell_type": "code",
   "execution_count": null,
   "id": "9583f519",
   "metadata": {},
   "outputs": [],
   "source": [
    "#fwrite(pca_phenos[,.(pc1, pc2, pc3)],\"/data/katrinac/APPC_sequencing/DNA/trimmed_reads/mapping/genotypes/angsd/pc1-3_unlinked.cov\", col.names = FALSE )"
   ]
  },
  {
   "cell_type": "code",
   "execution_count": 232,
   "id": "2bb87471",
   "metadata": {},
   "outputs": [
    {
     "ename": "ERROR",
     "evalue": "Error in str(pca_phenos): object 'pca_phenos' not found\n",
     "output_type": "error",
     "traceback": [
      "Error in str(pca_phenos): object 'pca_phenos' not found\nTraceback:\n",
      "1. str(pca_phenos)"
     ]
    }
   ],
   "source": [
    "str(pca_phenos)"
   ]
  },
  {
   "cell_type": "code",
   "execution_count": 254,
   "id": "b5923c5e",
   "metadata": {},
   "outputs": [
    {
     "data": {
      "image/png": "[encoded data removed]",
      "text/plain": [
       "plot without title"
      ]
     },
     "metadata": {},
     "output_type": "display_data"
    }
   ],
   "source": [
    "pca_plot <- ggplot(data=pca_phenos, aes(x=pc1, y=pc2, color=sire))+\n",
    "    geom_point()+\n",
    "    xlab(\"PC1, 22.19% variance explained\")+\n",
    "    ylab(\"PC2, 0.05% variance explained\")\n",
    "pca_plot"
   ]
  },
  {
   "cell_type": "code",
   "execution_count": 252,
   "id": "de84479e",
   "metadata": {},
   "outputs": [
    {
     "data": {
      "image/png": "[encoded data removed]",
      "text/plain": [
       "plot without title"
      ]
     },
     "metadata": {},
     "output_type": "display_data"
    }
   ],
   "source": [
    "pca_plot <- ggplot(data=pca_phenos, aes(x=pc1, y=pc2, color=sire))+\n",
    "    geom_point()+\n",
    "    xlab(\"PC1, 22.19% variance explained\")+\n",
    "    ylab(\"PC2, 0.05% variance explained\") +\n",
    "    theme(strip.text.x = element_text(size = 14),\n",
    "    axis.text.x =  element_text(size=14, color=\"black\"),#15 for publication, 20 for presentation #element_text(size=15, color=\"black\", family=\"Helvetica\"),\n",
    "    axis.title.y =  element_text(size=18, color=\"black\"),\n",
    "    axis.title.x =  element_text(size=18, color=\"black\"),#15 for publication, 20 for presentation #element_text(size=15, color=\"black\", family=\"Helvetica\"),\n",
    "    axis.text.y =  element_text(size=18, color=\"black\"))\n",
    "pca_plot"
   ]
  },
  {
   "cell_type": "code",
   "execution_count": 253,
   "id": "c1569f32",
   "metadata": {},
   "outputs": [
    {
     "name": "stderr",
     "output_type": "stream",
     "text": [
      "Saving 6.67 x 6.67 in image\n"
     ]
    }
   ],
   "source": [
    "ggsave(plot=pca_plot, filename = \"/data/katrinac/APPC_sequencing/DNA/trimmed_reads/mapping/ensembl/genotypes/angsd/results/pca_sire_color_pres.pdf\")"
   ]
  },
  {
   "cell_type": "code",
   "execution_count": null,
   "id": "4d1a8fb5",
   "metadata": {},
   "outputs": [],
   "source": [
    "#ggplot()+\n",
    "#    geom_point(data=pca_phenos[], aes(x=pc1, y=pc2, col=sl)) +\n",
    "#    scale_color_viridis(color.palette=magma)"
   ]
  },
  {
   "cell_type": "code",
   "execution_count": null,
   "id": "ec932d46",
   "metadata": {},
   "outputs": [],
   "source": [
    "#ggplot()+\n",
    "#    geom_point(data=pca_phenos, aes(x=pc1, y=pc2, col=ucrit)) +\n",
    "#    scale_color_viridis(option=\"magma\")"
   ]
  },
  {
   "cell_type": "code",
   "execution_count": null,
   "id": "b95e379a",
   "metadata": {},
   "outputs": [],
   "source": [
    "#ggplot()+\n",
    "#    geom_point(data=pca_phenos, aes(x=pc1, y=pc2, col=sequencing_lib)) +\n",
    "#    scale_color_viridis(option=\"magma\")"
   ]
  },
  {
   "cell_type": "code",
   "execution_count": null,
   "id": "a8e84cbb",
   "metadata": {},
   "outputs": [],
   "source": [
    "ggplot(data=pca_phenos, aes(x=pc1, y=pc2, col=dam, label=sample))+\n",
    "    geom_point() #+\n",
    "    #geom_text(nudge_x = 0.02)"
   ]
  },
  {
   "cell_type": "markdown",
   "id": "0b2f3e30",
   "metadata": {},
   "source": [
    "### evaluate model and plot GWAS results for each phenotype"
   ]
  },
  {
   "cell_type": "code",
   "execution_count": 5,
   "id": "3d111f42",
   "metadata": {},
   "outputs": [],
   "source": [
    "lrt_ucrit <- fread(\"/data/katrinac/APPC_sequencing/DNA/trimmed_reads/mapping/ensembl/genotypes/angsd/ucrit_assoc5_maf0.05_noMaxdepth_minQ30_minCount16.lrt0.gz\")\n",
    "lrt_ucrit[, locus := paste(Chromosome, Position, sep=\":\")]\n",
    "setnames(lrt_ucrit, \"LRTscore\", \"LRT\")\n",
    "\n",
    "#filter out loci in hwe and NAN\n",
    "lrt_filt_ucrit <- lrt_ucrit[LRT>0][Chromosome %in% as.character(seq(1,24,1))][, Chromosome := paste0(\"chr\", Chromosome, sep=\"\")] \n",
    "#format for manhattan plot\n",
    "#get pvalues\n",
    "lrt_filt_ucrit$pvalue<-pchisq(lrt_filt_ucrit$LRT, df=1, lower=F)\n",
    "#lrt_filt_ucrit[, Chromosome := gsub(\"CM\",\"\", Chromosome, fixed = T)][, Chromosome := gsub(\"PYAM\",\"\", Chromosome, fixed = T)]#[, Chromosome := gsub(\".\",\"\", Chromosome, fixed = T)]\n",
    "#lrt_filt_ucrit[, Chromosome := as.numeric(Chromosome)]\n",
    "lrt_filt_ucrit$SNP<-paste(\"r\",1:length(lrt_filt_ucrit$Chromosome), sep=\"\")\n"
   ]
  },
  {
   "cell_type": "code",
   "execution_count": 13,
   "id": "05c0c772",
   "metadata": {},
   "outputs": [
    {
     "data": {
      "text/plain": [
       "  Chromosome           Position           Major              Minor          \n",
       " Length:132100      Min.   :     991   Length:132100      Length:132100     \n",
       " Class :character   1st Qu.: 8227103   Class :character   Class :character  \n",
       " Mode  :character   Median :19695074   Mode  :character   Mode  :character  \n",
       "                    Mean   :19899771                                        \n",
       "                    3rd Qu.:30900435                                        \n",
       "                    Max.   :46122757                                        \n",
       "                                                                            \n",
       "   Frequency             N            LRT            high_WT/HE/HO     \n",
       " Min.   :0.05034   Min.   :159   Min.   : 0.000001   Length:132100     \n",
       " 1st Qu.:0.14459   1st Qu.:159   1st Qu.: 0.074907   Class :character  \n",
       " Median :0.22166   Median :159   Median : 0.335976   Mode  :character  \n",
       " Mean   :0.21649   Mean   :159   Mean   : 0.743430                     \n",
       " 3rd Qu.:0.27479   3rd Qu.:159   3rd Qu.: 0.979028                     \n",
       " Max.   :0.49998   Max.   :159   Max.   :18.121044                     \n",
       "                                                                       \n",
       "     LRTem             beta              SE             emIter       \n",
       " Min.   : 3.66    Min.   :-5.57    Min.   :0.16     Min.   : 0.0000  \n",
       " 1st Qu.: 4.33    1st Qu.:-1.69    1st Qu.:0.66     1st Qu.: 0.0000  \n",
       " Median : 4.90    Median :-1.05    Median :0.77     Median : 0.0000  \n",
       " Mean   : 5.46    Mean   :-0.08    Mean   :0.81     Mean   : 0.2276  \n",
       " 3rd Qu.: 5.89    3rd Qu.: 1.58    3rd Qu.:0.93     3rd Qu.: 0.0000  \n",
       " Max.   :95.49    Max.   : 5.62    Max.   :2.45     Max.   :40.0000  \n",
       " NA's   :128992   NA's   :128992   NA's   :128992                    \n",
       "    locus               pvalue              SNP           \n",
       " Length:132100      Min.   :0.0000207   Length:132100     \n",
       " Class :character   1st Qu.:0.3224388   Class :character  \n",
       " Mode  :character   Median :0.5621609   Mode  :character  \n",
       "                    Mean   :0.5477370                     \n",
       "                    3rd Qu.:0.7843221                     \n",
       "                    Max.   :0.9992021                     \n",
       "                                                          "
      ]
     },
     "metadata": {},
     "output_type": "display_data"
    }
   ],
   "source": [
    "summary(lrt_filt_ucrit)"
   ]
  },
  {
   "cell_type": "code",
   "execution_count": 7,
   "id": "41356bc1",
   "metadata": {},
   "outputs": [],
   "source": [
    "lrt_sl <- fread(\"/data/katrinac/APPC_sequencing/DNA/trimmed_reads/mapping/ensembl/genotypes/angsd/sl_assoc5_maf0.05_noMaxdepth_unlinkedPC1cov_minQ30_minCount16.lrt0.gz\")\n",
    "lrt_sl[, locus := paste(Chromosome, Position, sep=\":\")]\n",
    "#for hybrid assoc 5\n",
    "#setnames(lrt_sl, \"LRTscore\", \"LRT\")\n",
    "#filter out loci in hwe and NAN\n",
    "lrt_filt_sl <- lrt_sl[LRT>0][Chromosome %in% as.character(seq(1,24,1))][, Chromosome := paste0(\"chr\", Chromosome, sep=\"\")] \n",
    "#lrt_filt <- lrt[LRT>0]\n",
    "#format for manhattan plot\n",
    "#get pvalues\n",
    "lrt_filt_sl$pvalue<-pchisq(lrt_filt_sl$LRT, df=1, lower=F)\n",
    "#lrt_filt_sl[, Chromosome := gsub(\".\",\"\", Chromosome, fixed = T)][, Chromosome := gsub(\"CM\",\"\", Chromosome, fixed = T)][, Chromosome := gsub(\"PYAM\",\"\", Chromosome, fixed = T)]\n",
    "#lrt_filt_sl[, Chromosome := as.numeric(Chromosome)]\n",
    "lrt_filt_sl$SNP<-paste(\"r\",1:length(lrt_filt_sl$Chromosome), sep=\"\")\n",
    "\n"
   ]
  },
  {
   "cell_type": "code",
   "execution_count": 8,
   "id": "b58f2ef4",
   "metadata": {
    "scrolled": false
   },
   "outputs": [
    {
     "data": {
      "image/png": "[encoded data removed]",
      "text/plain": [
       "plot without title"
      ]
     },
     "metadata": {},
     "output_type": "display_data"
    },
    {
     "data": {
      "image/png": "[encoded data removed]",
      "text/plain": [
       "plot without title"
      ]
     },
     "metadata": {},
     "output_type": "display_data"
    }
   ],
   "source": [
    "#pdf(\"/data/katrinac/APPC_sequencing/DNA/trimmed_reads/mapping/ensembl/genotypes/angsd/results/pval_qq_ucrit.pdf\")\n",
    "qqman::qq(lrt_filt_ucrit$pvalue)\n",
    "#dev.off()\n",
    "\n",
    "#pdf(\"/data/katrinac/APPC_sequencing/DNA/trimmed_reads/mapping/ensembl/genotypes/angsd/results/pval_qq_sl.pdf\")\n",
    "qqman::qq(lrt_filt_sl$pvalue)\n",
    "#dev.off()\n"
   ]
  },
  {
   "cell_type": "code",
   "execution_count": 202,
   "id": "efdecc00",
   "metadata": {},
   "outputs": [
    {
     "data": {
      "text/html": [
       "<strong>png:</strong> 2"
      ],
      "text/latex": [
       "\\textbf{png:} 2"
      ],
      "text/markdown": [
       "**png:** 2"
      ],
      "text/plain": [
       "png \n",
       "  2 "
      ]
     },
     "metadata": {},
     "output_type": "display_data"
    },
    {
     "data": {
      "text/html": [
       "<strong>png:</strong> 2"
      ],
      "text/latex": [
       "\\textbf{png:} 2"
      ],
      "text/markdown": [
       "**png:** 2"
      ],
      "text/plain": [
       "png \n",
       "  2 "
      ]
     },
     "metadata": {},
     "output_type": "display_data"
    }
   ],
   "source": [
    "#png(\"/data/katrinac/APPC_sequencing/DNA/trimmed_reads/mapping/ensembl/genotypes/angsd/results/pval_qq_ucrit.png\")\n",
    "qqman::qq(lrt_filt_ucrit$pvalue)\n",
    "#dev.off()\n",
    "\n",
    "#png(\"/data/katrinac/APPC_sequencing/DNA/trimmed_reads/mapping/ensembl/genotypes/angsd/results/pval_qq_sl.png\")\n",
    "qqman::qq(lrt_filt_sl$pvalue)\n",
    "#dev.off()\n"
   ]
  },
  {
   "cell_type": "code",
   "execution_count": 157,
   "id": "aecde043",
   "metadata": {
    "scrolled": false
   },
   "outputs": [
    {
     "data": {
      "text/html": [
       "<strong>png:</strong> 2"
      ],
      "text/latex": [
       "\\textbf{png:} 2"
      ],
      "text/markdown": [
       "**png:** 2"
      ],
      "text/plain": [
       "png \n",
       "  2 "
      ]
     },
     "metadata": {},
     "output_type": "display_data"
    },
    {
     "data": {
      "text/html": [
       "<strong>png:</strong> 2"
      ],
      "text/latex": [
       "\\textbf{png:} 2"
      ],
      "text/markdown": [
       "**png:** 2"
      ],
      "text/plain": [
       "png \n",
       "  2 "
      ]
     },
     "metadata": {},
     "output_type": "display_data"
    }
   ],
   "source": [
    "#compare plots and inflation \n",
    "#pdf(\"/data/katrinac/APPC_sequencing/DNA/trimmed_reads/mapping/ensembl/genotypes/angsd/results/lrt_qq_ucrit.pdf\")\n",
    "qqplot(lrt_filt_ucrit$exp_lrt, lrt_filt_ucrit$LRT, xlab = \"Expected LRT\", ylab=\"Observed LRT\")\n",
    "abline(0, 1, col = \"red\")\n",
    "#dev.off()\n",
    "#median(lrt_filt_ucrit$LRT) / median(lrt_filt_ucrit$exp_lrt) #GC lambda = ratio at medians\n",
    "#summary(lrt_filt_ucrit$LRT)\n",
    "\n",
    "#pdf(\"/data/katrinac/APPC_sequencing/DNA/trimmed_reads/mapping/ensembl/genotypes/angsd/results/lrt_qq_sl.pdf\")\n",
    "qqplot(lrt_filt_sl$exp_lrt, lrt_filt_sl$LRT, xlab = \"Expected LRT\", ylab=\"Observed LRT\")\n",
    "abline(0, 1, col = \"red\")\n",
    "#dev.off()\n",
    "#median(lrt_filt_sl$LRT) / median(lrt_filt_sl$exp_lrt) #GC lambda = ratio at medians\n",
    "#summary(lrt_filt_sl$LRT)\n"
   ]
  },
  {
   "cell_type": "markdown",
   "id": "7802c38b",
   "metadata": {},
   "source": [
    "__Stricter pvalue cutoff from Malin__"
   ]
  },
  {
   "cell_type": "code",
   "execution_count": 20,
   "id": "2b8d60b9",
   "metadata": {},
   "outputs": [
    {
     "name": "stderr",
     "output_type": "stream",
     "text": [
      "Joining, by = \"Chromosome\""
     ]
    },
    {
     "data": {
      "text/html": [
       "<table>\n",
       "<thead><tr><th scope=col>Chromosome</th><th scope=col>lower.25</th><th scope=col>Position</th><th scope=col>Major</th><th scope=col>Minor</th><th scope=col>Frequency</th><th scope=col>N</th><th scope=col>LRT</th><th scope=col>high_WT/HE/HO</th><th scope=col>LRTem</th><th scope=col>beta</th><th scope=col>SE</th><th scope=col>emIter</th><th scope=col>locus</th><th scope=col>pvalue</th><th scope=col>SNP</th></tr></thead>\n",
       "<tbody>\n",
       "\t<tr><td>chr24       </td><td>5.322387e-05</td><td>6021620     </td><td>T           </td><td>C           </td><td>0.13961     </td><td>159         </td><td>18.12104    </td><td>33/13/0     </td><td>19.33754    </td><td>-3.541276   </td><td>1.039912    </td><td>21          </td><td>24:6021620  </td><td>2.072977e-05</td><td>r129188     </td></tr>\n",
       "</tbody>\n",
       "</table>\n"
      ],
      "text/latex": [
       "\\begin{tabular}{r|llllllllllllllll}\n",
       " Chromosome & lower.25 & Position & Major & Minor & Frequency & N & LRT & high\\_WT/HE/HO & LRTem & beta & SE & emIter & locus & pvalue & SNP\\\\\n",
       "\\hline\n",
       "\t chr24        & 5.322387e-05 & 6021620      & T            & C            & 0.13961      & 159          & 18.12104     & 33/13/0      & 19.33754     & -3.541276    & 1.039912     & 21           & 24:6021620   & 2.072977e-05 & r129188     \\\\\n",
       "\\end{tabular}\n"
      ],
      "text/markdown": [
       "\n",
       "| Chromosome | lower.25 | Position | Major | Minor | Frequency | N | LRT | high_WT/HE/HO | LRTem | beta | SE | emIter | locus | pvalue | SNP |\n",
       "|---|---|---|---|---|---|---|---|---|---|---|---|---|---|---|---|\n",
       "| chr24        | 5.322387e-05 | 6021620      | T            | C            | 0.13961      | 159          | 18.12104     | 33/13/0      | 19.33754     | -3.541276    | 1.039912     | 21           | 24:6021620   | 2.072977e-05 | r129188      |\n",
       "\n"
      ],
      "text/plain": [
       "  Chromosome lower.25     Position Major Minor Frequency N   LRT     \n",
       "1 chr24      5.322387e-05 6021620  T     C     0.13961   159 18.12104\n",
       "  high_WT/HE/HO LRTem    beta      SE       emIter locus      pvalue      \n",
       "1 33/13/0       19.33754 -3.541276 1.039912 21     24:6021620 2.072977e-05\n",
       "  SNP    \n",
       "1 r129188"
      ]
     },
     "metadata": {},
     "output_type": "display_data"
    }
   ],
   "source": [
    "ucrit_files <- list.files(path = \"/data/katrinac/APPC_sequencing/DNA/trimmed_reads/mapping/ensembl/genotypes/angsd/permute/assoc2/\", pattern = glob2rx(\"^ucrit*.lrt0\"))\n",
    "\n",
    "null_int <- as.data.frame(matrix(nrow=0, ncol=3))\n",
    "setDT(null_int)\n",
    "setnames(null_int, c(\"Chromosome\", \"min_pvalue\", \"iteration\"))\n",
    "\n",
    "for(i in 1:length(ucrit_files)){\n",
    "    null <- fread(paste(\"/data/katrinac/APPC_sequencing/DNA/trimmed_reads/mapping/ensembl/genotypes/angsd/permute/assoc2/\", ucrit_files[i], sep=\"\"))[LRT >0 & Chromosome <=24][, pvalue:=pchisq(LRT, df=1, lower=F)]\n",
    "    null_int <- rbind(null_int, null[,.(min_pvalue=min(pvalue)), by=\"Chromosome\"][, iteration := i])\n",
    "}\n",
    "ucrit_null_chrom <- null_int\n",
    "ucrit_null_chrom_lowest <- ucrit_null_chrom[, .(lower.25=quantile(min_pvalue, .025)[[1]]), by=Chromosome][,Chromosome:=paste0(\"chr\", Chromosome, sep=\"\")]\n",
    "ucrit_null.25 <- left_join(ucrit_null_chrom_lowest, lrt_filt_ucrit[Chromosome %like%\"chr\"])[pvalue <=lower.25]\n",
    "ucrit_null.25"
   ]
  },
  {
   "cell_type": "code",
   "execution_count": 21,
   "id": "5f6a88d1",
   "metadata": {},
   "outputs": [
    {
     "data": {
      "text/html": [
       "<table>\n",
       "<thead><tr><th scope=col>Chromosome</th><th scope=col>min_pvalue</th><th scope=col>iteration</th></tr></thead>\n",
       "<tbody>\n",
       "\t<tr><td>1           </td><td>6.603285e-05</td><td>1           </td></tr>\n",
       "\t<tr><td>2           </td><td>1.250076e-04</td><td>1           </td></tr>\n",
       "\t<tr><td>10          </td><td>3.633106e-04</td><td>1           </td></tr>\n",
       "\t<tr><td>11          </td><td>9.306148e-05</td><td>1           </td></tr>\n",
       "\t<tr><td>12          </td><td>5.301038e-04</td><td>1           </td></tr>\n",
       "\t<tr><td>13          </td><td>5.703414e-04</td><td>1           </td></tr>\n",
       "</tbody>\n",
       "</table>\n"
      ],
      "text/latex": [
       "\\begin{tabular}{r|lll}\n",
       " Chromosome & min\\_pvalue & iteration\\\\\n",
       "\\hline\n",
       "\t 1            & 6.603285e-05 & 1           \\\\\n",
       "\t 2            & 1.250076e-04 & 1           \\\\\n",
       "\t 10           & 3.633106e-04 & 1           \\\\\n",
       "\t 11           & 9.306148e-05 & 1           \\\\\n",
       "\t 12           & 5.301038e-04 & 1           \\\\\n",
       "\t 13           & 5.703414e-04 & 1           \\\\\n",
       "\\end{tabular}\n"
      ],
      "text/markdown": [
       "\n",
       "| Chromosome | min_pvalue | iteration |\n",
       "|---|---|---|\n",
       "| 1            | 6.603285e-05 | 1            |\n",
       "| 2            | 1.250076e-04 | 1            |\n",
       "| 10           | 3.633106e-04 | 1            |\n",
       "| 11           | 9.306148e-05 | 1            |\n",
       "| 12           | 5.301038e-04 | 1            |\n",
       "| 13           | 5.703414e-04 | 1            |\n",
       "\n"
      ],
      "text/plain": [
       "  Chromosome min_pvalue   iteration\n",
       "1 1          6.603285e-05 1        \n",
       "2 2          1.250076e-04 1        \n",
       "3 10         3.633106e-04 1        \n",
       "4 11         9.306148e-05 1        \n",
       "5 12         5.301038e-04 1        \n",
       "6 13         5.703414e-04 1        "
      ]
     },
     "metadata": {},
     "output_type": "display_data"
    }
   ],
   "source": [
    "head(null_int)"
   ]
  },
  {
   "cell_type": "code",
   "execution_count": 24,
   "id": "2b63a4eb",
   "metadata": {},
   "outputs": [
    {
     "data": {
      "text/html": [
       "FALSE"
      ],
      "text/latex": [
       "FALSE"
      ],
      "text/markdown": [
       "FALSE"
      ],
      "text/plain": [
       "[1] FALSE"
      ]
     },
     "metadata": {},
     "output_type": "display_data"
    }
   ],
   "source": [
    "2.072977e-05<1.74241e-05"
   ]
  },
  {
   "cell_type": "code",
   "execution_count": 22,
   "id": "6708819e",
   "metadata": {},
   "outputs": [
    {
     "data": {
      "text/html": [
       "<table>\n",
       "<thead><tr><th scope=col>lower.25</th></tr></thead>\n",
       "<tbody>\n",
       "\t<tr><td>1.74241e-05</td></tr>\n",
       "</tbody>\n",
       "</table>\n"
      ],
      "text/latex": [
       "\\begin{tabular}{r|l}\n",
       " lower.25\\\\\n",
       "\\hline\n",
       "\t 1.74241e-05\\\\\n",
       "\\end{tabular}\n"
      ],
      "text/markdown": [
       "\n",
       "| lower.25 |\n",
       "|---|\n",
       "| 1.74241e-05 |\n",
       "\n"
      ],
      "text/plain": [
       "  lower.25   \n",
       "1 1.74241e-05"
      ]
     },
     "metadata": {},
     "output_type": "display_data"
    }
   ],
   "source": [
    "ucrit_null_chrom[, .(lower.25=quantile(min_pvalue, .025)[[1]])]"
   ]
  },
  {
   "cell_type": "code",
   "execution_count": 8,
   "id": "a0d76889",
   "metadata": {},
   "outputs": [
    {
     "name": "stderr",
     "output_type": "stream",
     "text": [
      "Joining, by = \"Chromosome\""
     ]
    },
    {
     "data": {
      "text/html": [
       "<table>\n",
       "<thead><tr><th scope=col>Chromosome</th><th scope=col>lower.2</th><th scope=col>Position</th><th scope=col>Major</th><th scope=col>Minor</th><th scope=col>Frequency</th><th scope=col>N</th><th scope=col>LRT</th><th scope=col>high_WT/HE/HO</th><th scope=col>LRTem</th><th scope=col>beta</th><th scope=col>SE</th><th scope=col>emIter</th><th scope=col>locus</th><th scope=col>pvalue</th><th scope=col>SNP</th></tr></thead>\n",
       "<tbody>\n",
       "\t<tr><td>chr13       </td><td>8.740379e-05</td><td>34982957    </td><td>A           </td><td>T           </td><td>0.143409    </td><td>159         </td><td>14.54706    </td><td>30/10/0     </td><td>15.54311    </td><td>-3.400393   </td><td>1.096761    </td><td>28          </td><td>13:34982957 </td><td>7.255504e-05</td><td>r75803      </td></tr>\n",
       "\t<tr><td>chr24       </td><td>9.140866e-05</td><td> 6021620    </td><td>T           </td><td>C           </td><td>0.139610    </td><td>159         </td><td>18.12104    </td><td>33/13/0     </td><td>19.33754    </td><td>-3.541276   </td><td>1.039912    </td><td>21          </td><td>24:6021620  </td><td>1.088639e-05</td><td>r129188     </td></tr>\n",
       "</tbody>\n",
       "</table>\n"
      ],
      "text/latex": [
       "\\begin{tabular}{r|llllllllllllllll}\n",
       " Chromosome & lower.2 & Position & Major & Minor & Frequency & N & LRT & high\\_WT/HE/HO & LRTem & beta & SE & emIter & locus & pvalue & SNP\\\\\n",
       "\\hline\n",
       "\t chr13        & 8.740379e-05 & 34982957     & A            & T            & 0.143409     & 159          & 14.54706     & 30/10/0      & 15.54311     & -3.400393    & 1.096761     & 28           & 13:34982957  & 7.255504e-05 & r75803      \\\\\n",
       "\t chr24        & 9.140866e-05 &  6021620     & T            & C            & 0.139610     & 159          & 18.12104     & 33/13/0      & 19.33754     & -3.541276    & 1.039912     & 21           & 24:6021620   & 1.088639e-05 & r129188     \\\\\n",
       "\\end{tabular}\n"
      ],
      "text/markdown": [
       "\n",
       "| Chromosome | lower.2 | Position | Major | Minor | Frequency | N | LRT | high_WT/HE/HO | LRTem | beta | SE | emIter | locus | pvalue | SNP |\n",
       "|---|---|---|---|---|---|---|---|---|---|---|---|---|---|---|---|\n",
       "| chr13        | 8.740379e-05 | 34982957     | A            | T            | 0.143409     | 159          | 14.54706     | 30/10/0      | 15.54311     | -3.400393    | 1.096761     | 28           | 13:34982957  | 7.255504e-05 | r75803       |\n",
       "| chr24        | 9.140866e-05 |  6021620     | T            | C            | 0.139610     | 159          | 18.12104     | 33/13/0      | 19.33754     | -3.541276    | 1.039912     | 21           | 24:6021620   | 1.088639e-05 | r129188      |\n",
       "\n"
      ],
      "text/plain": [
       "  Chromosome lower.2      Position Major Minor Frequency N   LRT     \n",
       "1 chr13      8.740379e-05 34982957 A     T     0.143409  159 14.54706\n",
       "2 chr24      9.140866e-05  6021620 T     C     0.139610  159 18.12104\n",
       "  high_WT/HE/HO LRTem    beta      SE       emIter locus       pvalue      \n",
       "1 30/10/0       15.54311 -3.400393 1.096761 28     13:34982957 7.255504e-05\n",
       "2 33/13/0       19.33754 -3.541276 1.039912 21     24:6021620  1.088639e-05\n",
       "  SNP    \n",
       "1 r75803 \n",
       "2 r129188"
      ]
     },
     "metadata": {},
     "output_type": "display_data"
    }
   ],
   "source": [
    "ucrit_null_chrom_lowest <- ucrit_null_chrom[, .(lower.2=quantile(min_pvalue, .2)[[1]]), by=Chromosome][,Chromosome:=paste0(\"chr\", Chromosome, sep=\"\")]\n",
    "ucrit_null.2 <- left_join(ucrit_null_chrom_lowest, lrt_filt_ucrit[Chromosome %like%\"chr\"])[pvalue <=lower.2]\n",
    "ucrit_null.2"
   ]
  },
  {
   "cell_type": "code",
   "execution_count": 25,
   "id": "1386c1dd",
   "metadata": {},
   "outputs": [
    {
     "name": "stderr",
     "output_type": "stream",
     "text": [
      "Joining, by = \"Chromosome\""
     ]
    },
    {
     "data": {
      "text/html": [
       "<table>\n",
       "<thead><tr><th scope=col>Chromosome</th><th scope=col>lower.25</th><th scope=col>Position</th><th scope=col>Major</th><th scope=col>Minor</th><th scope=col>Frequency</th><th scope=col>N</th><th scope=col>LRT</th><th scope=col>high_WT/HE/HO</th><th scope=col>locus</th><th scope=col>pvalue</th><th scope=col>SNP</th></tr></thead>\n",
       "<tbody>\n",
       "\t<tr><td>chr11       </td><td>7.294568e-06</td><td> 7825612    </td><td>T           </td><td>G           </td><td>0.206307    </td><td>147         </td><td>21.31278    </td><td>24/11/0     </td><td>11:7825612  </td><td>3.901212e-06</td><td>r50869      </td></tr>\n",
       "\t<tr><td>chr24       </td><td>1.585924e-05</td><td>16962690    </td><td>T           </td><td>G           </td><td>0.258409    </td><td>147         </td><td>20.29089    </td><td>10/13/0     </td><td>24:16962690 </td><td>6.651661e-06</td><td>r104351     </td></tr>\n",
       "</tbody>\n",
       "</table>\n"
      ],
      "text/latex": [
       "\\begin{tabular}{r|llllllllllll}\n",
       " Chromosome & lower.25 & Position & Major & Minor & Frequency & N & LRT & high\\_WT/HE/HO & locus & pvalue & SNP\\\\\n",
       "\\hline\n",
       "\t chr11        & 7.294568e-06 &  7825612     & T            & G            & 0.206307     & 147          & 21.31278     & 24/11/0      & 11:7825612   & 3.901212e-06 & r50869      \\\\\n",
       "\t chr24        & 1.585924e-05 & 16962690     & T            & G            & 0.258409     & 147          & 20.29089     & 10/13/0      & 24:16962690  & 6.651661e-06 & r104351     \\\\\n",
       "\\end{tabular}\n"
      ],
      "text/markdown": [
       "\n",
       "| Chromosome | lower.25 | Position | Major | Minor | Frequency | N | LRT | high_WT/HE/HO | locus | pvalue | SNP |\n",
       "|---|---|---|---|---|---|---|---|---|---|---|---|\n",
       "| chr11        | 7.294568e-06 |  7825612     | T            | G            | 0.206307     | 147          | 21.31278     | 24/11/0      | 11:7825612   | 3.901212e-06 | r50869       |\n",
       "| chr24        | 1.585924e-05 | 16962690     | T            | G            | 0.258409     | 147          | 20.29089     | 10/13/0      | 24:16962690  | 6.651661e-06 | r104351      |\n",
       "\n"
      ],
      "text/plain": [
       "  Chromosome lower.25     Position Major Minor Frequency N   LRT     \n",
       "1 chr11      7.294568e-06  7825612 T     G     0.206307  147 21.31278\n",
       "2 chr24      1.585924e-05 16962690 T     G     0.258409  147 20.29089\n",
       "  high_WT/HE/HO locus       pvalue       SNP    \n",
       "1 24/11/0       11:7825612  3.901212e-06 r50869 \n",
       "2 10/13/0       24:16962690 6.651661e-06 r104351"
      ]
     },
     "metadata": {},
     "output_type": "display_data"
    }
   ],
   "source": [
    "sl_files <- list.files(path = \"/data/katrinac/APPC_sequencing/DNA/trimmed_reads/mapping/ensembl/genotypes/angsd/permute/assoc2/\", pattern = glob2rx(\"^sl*.lrt0.gz\"))\n",
    "\n",
    "null_int <- as.data.frame(matrix(nrow=0, ncol=3))\n",
    "setDT(null_int)\n",
    "setnames(null_int, c(\"Chromosome\", \"min_pvalue\", \"iteration\"))\n",
    "\n",
    "for(i in 1:length(sl_files)){\n",
    "    null <- fread(paste(\"/data/katrinac/APPC_sequencing/DNA/trimmed_reads/mapping/ensembl/genotypes/angsd/permute/assoc2/\", sl_files[i], sep=\"\"))[LRT >0 & Chromosome <=24][, pvalue:=dchisq(LRT, df=1)]\n",
    "    null_int <- rbind(null_int, null[,.(min_pvalue=min(pvalue)), by=\"Chromosome\"][, iteration := i])\n",
    "}\n",
    "sl_null_chrom <- null_int\n",
    "sl_null_chrom_lowest <- sl_null_chrom[, .(lower.25=quantile(min_pvalue, .025)[[1]]), by=Chromosome][,Chromosome:=paste0(\"chr\", Chromosome, sep=\"\")]\n",
    "sl_null.25 <- left_join(sl_null_chrom_lowest, lrt_filt_sl[Chromosome %like%\"chr\"])[pvalue <=lower.25]\n",
    "sl_null.25"
   ]
  },
  {
   "cell_type": "code",
   "execution_count": 26,
   "id": "b25e897e",
   "metadata": {},
   "outputs": [
    {
     "data": {
      "text/html": [
       "<table>\n",
       "<thead><tr><th scope=col>lower.25</th></tr></thead>\n",
       "<tbody>\n",
       "\t<tr><td>7.336669e-06</td></tr>\n",
       "</tbody>\n",
       "</table>\n"
      ],
      "text/latex": [
       "\\begin{tabular}{r|l}\n",
       " lower.25\\\\\n",
       "\\hline\n",
       "\t 7.336669e-06\\\\\n",
       "\\end{tabular}\n"
      ],
      "text/markdown": [
       "\n",
       "| lower.25 |\n",
       "|---|\n",
       "| 7.336669e-06 |\n",
       "\n"
      ],
      "text/plain": [
       "  lower.25    \n",
       "1 7.336669e-06"
      ]
     },
     "metadata": {},
     "output_type": "display_data"
    }
   ],
   "source": [
    "sl_null_chrom[, .(lower.25=quantile(min_pvalue, .025)[[1]])]"
   ]
  },
  {
   "cell_type": "code",
   "execution_count": 10,
   "id": "71b8784d",
   "metadata": {},
   "outputs": [
    {
     "name": "stderr",
     "output_type": "stream",
     "text": [
      "Joining, by = \"Chromosome\""
     ]
    },
    {
     "data": {
      "text/html": [
       "14"
      ],
      "text/latex": [
       "14"
      ],
      "text/markdown": [
       "14"
      ],
      "text/plain": [
       "[1] 14"
      ]
     },
     "metadata": {},
     "output_type": "display_data"
    }
   ],
   "source": [
    "sl_null_chrom_lowest <- sl_null_chrom[, .(lower.2=quantile(min_pvalue, .2)[[1]]), by=Chromosome][,Chromosome:=paste0(\"chr\", Chromosome, sep=\"\")]\n",
    "sl_null.2 <- left_join(sl_null_chrom_lowest, lrt_filt_sl[Chromosome %like%\"chr\"])[pvalue <=lower.2]\n",
    "nrow(sl_null.2)"
   ]
  },
  {
   "cell_type": "code",
   "execution_count": 177,
   "id": "b9cc8cf9",
   "metadata": {},
   "outputs": [
    {
     "name": "stderr",
     "output_type": "stream",
     "text": [
      "Joining, by = \"Chromosome\""
     ]
    },
    {
     "data": {
      "text/html": [
       "<table>\n",
       "<thead><tr><th scope=col>Chromosome</th><th scope=col>lower.1</th><th scope=col>Position</th><th scope=col>Major</th><th scope=col>Minor</th><th scope=col>Frequency</th><th scope=col>N</th><th scope=col>LRT</th><th scope=col>high_WT/HE/HO</th><th scope=col>LRTem</th><th scope=col>beta</th><th scope=col>SE</th><th scope=col>emIter</th><th scope=col>locus</th><th scope=col>pvalue</th><th scope=col>SNP</th><th scope=col>Chromosome_man</th></tr></thead>\n",
       "<tbody>\n",
       "\t<tr><td>chr24       </td><td>5.480801e-05</td><td>6021620     </td><td>T           </td><td>C           </td><td>0.13961     </td><td>159         </td><td>18.12104    </td><td>33/13/0     </td><td>19.33754    </td><td>-3.541276   </td><td>1.039912    </td><td>21          </td><td>24:6021620  </td><td>1.088639e-05</td><td>r129188     </td><td>24          </td></tr>\n",
       "</tbody>\n",
       "</table>\n"
      ],
      "text/latex": [
       "\\begin{tabular}{r|lllllllllllllllll}\n",
       " Chromosome & lower.1 & Position & Major & Minor & Frequency & N & LRT & high\\_WT/HE/HO & LRTem & beta & SE & emIter & locus & pvalue & SNP & Chromosome\\_man\\\\\n",
       "\\hline\n",
       "\t chr24        & 5.480801e-05 & 6021620      & T            & C            & 0.13961      & 159          & 18.12104     & 33/13/0      & 19.33754     & -3.541276    & 1.039912     & 21           & 24:6021620   & 1.088639e-05 & r129188      & 24          \\\\\n",
       "\\end{tabular}\n"
      ],
      "text/markdown": [
       "\n",
       "| Chromosome | lower.1 | Position | Major | Minor | Frequency | N | LRT | high_WT/HE/HO | LRTem | beta | SE | emIter | locus | pvalue | SNP | Chromosome_man |\n",
       "|---|---|---|---|---|---|---|---|---|---|---|---|---|---|---|---|---|\n",
       "| chr24        | 5.480801e-05 | 6021620      | T            | C            | 0.13961      | 159          | 18.12104     | 33/13/0      | 19.33754     | -3.541276    | 1.039912     | 21           | 24:6021620   | 1.088639e-05 | r129188      | 24           |\n",
       "\n"
      ],
      "text/plain": [
       "  Chromosome lower.1      Position Major Minor Frequency N   LRT     \n",
       "1 chr24      5.480801e-05 6021620  T     C     0.13961   159 18.12104\n",
       "  high_WT/HE/HO LRTem    beta      SE       emIter locus      pvalue      \n",
       "1 33/13/0       19.33754 -3.541276 1.039912 21     24:6021620 1.088639e-05\n",
       "  SNP     Chromosome_man\n",
       "1 r129188 24            "
      ]
     },
     "metadata": {},
     "output_type": "display_data"
    }
   ],
   "source": [
    "ucrit_null_chrom_lowest <- ucrit_null_chrom[, .(lower.1=quantile(min_pvalue, .1)[[1]]), by=Chromosome][,Chromosome:=paste0(\"chr\", Chromosome, sep=\"\")]\n",
    "\n",
    "ucrit_null.1 <- left_join(ucrit_null_chrom_lowest, lrt_filt_ucrit[Chromosome %like%\"chr\"])[pvalue <=lower.1]\n",
    "ucrit_null.1"
   ]
  },
  {
   "cell_type": "code",
   "execution_count": 176,
   "id": "9f00ab96",
   "metadata": {},
   "outputs": [
    {
     "data": {
      "text/html": [
       "<table>\n",
       "<thead><tr><th scope=col>Chromosome</th><th scope=col>Position</th><th scope=col>Major</th><th scope=col>Minor</th><th scope=col>Frequency</th><th scope=col>N</th><th scope=col>LRT</th><th scope=col>high_WT/HE/HO</th><th scope=col>locus</th><th scope=col>pvalue</th><th scope=col>SNP</th><th scope=col>Chromosome_man</th></tr></thead>\n",
       "<tbody>\n",
       "\t<tr><td>chr4        </td><td> 3491306    </td><td>A           </td><td>G           </td><td>0.234541    </td><td>147         </td><td>19.32321    </td><td>34/23/0     </td><td>4:3491306   </td><td>5.779485e-06</td><td>r14897      </td><td> 4          </td></tr>\n",
       "\t<tr><td>chr11       </td><td> 7825612    </td><td>T           </td><td>G           </td><td>0.206307    </td><td>147         </td><td>21.31278    </td><td>24/11/0     </td><td>11:7825612  </td><td>2.035062e-06</td><td>r50869      </td><td>11          </td></tr>\n",
       "\t<tr><td>chr24       </td><td>16962690    </td><td>T           </td><td>G           </td><td>0.258409    </td><td>147         </td><td>20.29089    </td><td>10/13/0     </td><td>24:16962690 </td><td>3.476556e-06</td><td>r104351     </td><td>24          </td></tr>\n",
       "</tbody>\n",
       "</table>\n"
      ],
      "text/latex": [
       "\\begin{tabular}{r|llllllllllll}\n",
       " Chromosome & Position & Major & Minor & Frequency & N & LRT & high\\_WT/HE/HO & locus & pvalue & SNP & Chromosome\\_man\\\\\n",
       "\\hline\n",
       "\t chr4         &  3491306     & A            & G            & 0.234541     & 147          & 19.32321     & 34/23/0      & 4:3491306    & 5.779485e-06 & r14897       &  4          \\\\\n",
       "\t chr11        &  7825612     & T            & G            & 0.206307     & 147          & 21.31278     & 24/11/0      & 11:7825612   & 2.035062e-06 & r50869       & 11          \\\\\n",
       "\t chr24        & 16962690     & T            & G            & 0.258409     & 147          & 20.29089     & 10/13/0      & 24:16962690  & 3.476556e-06 & r104351      & 24          \\\\\n",
       "\\end{tabular}\n"
      ],
      "text/markdown": [
       "\n",
       "| Chromosome | Position | Major | Minor | Frequency | N | LRT | high_WT/HE/HO | locus | pvalue | SNP | Chromosome_man |\n",
       "|---|---|---|---|---|---|---|---|---|---|---|---|\n",
       "| chr4         |  3491306     | A            | G            | 0.234541     | 147          | 19.32321     | 34/23/0      | 4:3491306    | 5.779485e-06 | r14897       |  4           |\n",
       "| chr11        |  7825612     | T            | G            | 0.206307     | 147          | 21.31278     | 24/11/0      | 11:7825612   | 2.035062e-06 | r50869       | 11           |\n",
       "| chr24        | 16962690     | T            | G            | 0.258409     | 147          | 20.29089     | 10/13/0      | 24:16962690  | 3.476556e-06 | r104351      | 24           |\n",
       "\n"
      ],
      "text/plain": [
       "  Chromosome Position Major Minor Frequency N   LRT      high_WT/HE/HO\n",
       "1 chr4        3491306 A     G     0.234541  147 19.32321 34/23/0      \n",
       "2 chr11       7825612 T     G     0.206307  147 21.31278 24/11/0      \n",
       "3 chr24      16962690 T     G     0.258409  147 20.29089 10/13/0      \n",
       "  locus       pvalue       SNP     Chromosome_man\n",
       "1 4:3491306   5.779485e-06 r14897   4            \n",
       "2 11:7825612  2.035062e-06 r50869  11            \n",
       "3 24:16962690 3.476556e-06 r104351 24            "
      ]
     },
     "metadata": {},
     "output_type": "display_data"
    }
   ],
   "source": [
    "gw_sl <- quantile(sl_null_chrom$min_pvalue, .025)[[1]]\n",
    "sl_cand_0.025 <- lrt_filt_sl[pvalue <=gw_sl]\n",
    "sl_cand_0.025\n"
   ]
  },
  {
   "cell_type": "code",
   "execution_count": 172,
   "id": "bb54723a",
   "metadata": {},
   "outputs": [],
   "source": [
    "gw_ucrit <- quantile(ucrit_null_chrom$min_pvalue, .05)[[1]]\n",
    "gw_sl <- quantile(sl_null_chrom$min_pvalue, .05)[[1]]\n",
    "ucrit_cand_0.05 <- lrt_filt_ucrit[pvalue <=gw_ucrit]\n",
    "sl_cand_0.05 <- lrt_filt_sl[pvalue <=gw_sl]\n",
    "fwrite(sl_cand_0.05[,.(Chromosome=gsub(\"chr\", \"\", Chromosome), start=Position-3000, end=Position+3000)], \"/data/katrinac/APPC_sequencing/DNA/trimmed_reads/mapping/ensembl/genotypes/angsd/results/null0.05_candidates_sl_loci3kbp.bed\", sep=\"\\t\", col.names = F)\n",
    "fwrite(ucrit_cand_0.05[,.(Chromosome=gsub(\"chr\", \"\", Chromosome), start=Position-3000, end=Position+3000)], \"/data/katrinac/APPC_sequencing/DNA/trimmed_reads/mapping/ensembl/genotypes/angsd/results/null0.05_candidates_ucrit_loci3kbp.bed\", sep=\"\\t\", col.names = F)"
   ]
  },
  {
   "cell_type": "code",
   "execution_count": null,
   "id": "6fc2b06c",
   "metadata": {},
   "outputs": [],
   "source": [
    "#text(\"Vertical Line\", x = v, y = max(y), srt = -90, pos = 4) # near top"
   ]
  },
  {
   "cell_type": "code",
   "execution_count": 544,
   "id": "5005064f",
   "metadata": {},
   "outputs": [],
   "source": [
    "hist(sl_null_chrom, breaks=100, xlab=\"min pvalue\")\n",
    "abline(v=c(quantile_null,quantila_observed,quantile_of_quantiles_null), col=c(\"blue\", \"red\", \"green\"))\n",
    "nrow(lrt_filt_ucrit[pvalue <=quantile_of_quantiles_null])"
   ]
  },
  {
   "cell_type": "code",
   "execution_count": null,
   "id": "8eef154c",
   "metadata": {},
   "outputs": [],
   "source": []
  },
  {
   "cell_type": "code",
   "execution_count": 1,
   "id": "7c42c13b",
   "metadata": {},
   "outputs": [
    {
     "ename": "ERROR",
     "evalue": "Error in quantile(lrt_ucrit_null_filt$pvalue, 0.05): object 'lrt_ucrit_null_filt' not found\n",
     "output_type": "error",
     "traceback": [
      "Error in quantile(lrt_ucrit_null_filt$pvalue, 0.05): object 'lrt_ucrit_null_filt' not found\nTraceback:\n",
      "1. quantile(lrt_ucrit_null_filt$pvalue, 0.05)"
     ]
    }
   ],
   "source": [
    "quantile_null <- quantile(lrt_ucrit_null_filt$pvalue, .05)[[1]]\n",
    "quantila_observed <- quantile(lrt_filt_ucrit$pvalue, .05)[[1]]\n",
    "quantile_of_quantiles_null <- quantile(lowest5, 0.05)[[1]]\n",
    "hist(lowest5, breaks=100, xlab=\"0.05 quantile of null pvalue by permutation\")\n",
    "abline(v=c(quantile_null,quantila_observed,quantile_of_quantiles_null), col=c(\"blue\", \"red\", \"green\"))\n",
    "nrow(lrt_filt_ucrit[pvalue <=quantile_of_quantiles_null])"
   ]
  },
  {
   "cell_type": "code",
   "execution_count": 490,
   "id": "af7055f2",
   "metadata": {},
   "outputs": [
    {
     "name": "stderr",
     "output_type": "stream",
     "text": [
      "Joining, by = c(\"Chromosome\", \"Position\", \"Major\", \"Minor\", \"Frequency\", \"N\", \"LRT\", \"high_WT/HE/HO\", \"LRTem\", \"beta\", \"SE\", \"emIter\", \"locus\", \"pvalue\", \"SNP\", \"quantile\", \"exp_lrt_ucrit\")"
     ]
    },
    {
     "data": {
      "text/html": [
       "<table>\n",
       "<thead><tr><th scope=col>Chromosome</th><th scope=col>Position</th><th scope=col>Major</th><th scope=col>Minor</th><th scope=col>Frequency</th><th scope=col>N</th><th scope=col>LRT</th><th scope=col>high_WT/HE/HO</th><th scope=col>LRTem</th><th scope=col>beta</th><th scope=col>SE</th><th scope=col>emIter</th><th scope=col>locus</th><th scope=col>pvalue</th><th scope=col>SNP</th><th scope=col>quantile</th><th scope=col>exp_lrt_ucrit</th></tr></thead>\n",
       "<tbody>\n",
       "</tbody>\n",
       "</table>\n"
      ],
      "text/latex": [
       "\\begin{tabular}{r|lllllllllllllllll}\n",
       " Chromosome & Position & Major & Minor & Frequency & N & LRT & high\\_WT/HE/HO & LRTem & beta & SE & emIter & locus & pvalue & SNP & quantile & exp\\_lrt\\_ucrit\\\\\n",
       "\\hline\n",
       "\\end{tabular}\n"
      ],
      "text/markdown": [
       "\n",
       "| Chromosome | Position | Major | Minor | Frequency | N | LRT | high_WT/HE/HO | LRTem | beta | SE | emIter | locus | pvalue | SNP | quantile | exp_lrt_ucrit |\n",
       "|---|---|---|---|---|---|---|---|---|---|---|---|---|---|---|---|---|\n",
       "\n"
      ],
      "text/plain": [
       "     Chromosome Position Major Minor Frequency N LRT high_WT/HE/HO LRTem beta\n",
       "     SE emIter locus pvalue SNP quantile exp_lrt_ucrit"
      ]
     },
     "metadata": {},
     "output_type": "display_data"
    }
   ],
   "source": [
    "semi_join(candidates_ucrit, lrt_filt_ucrit[pvalue <=quantile_of_quantiles_null])"
   ]
  },
  {
   "cell_type": "code",
   "execution_count": null,
   "id": "e7735ff2",
   "metadata": {},
   "outputs": [],
   "source": []
  },
  {
   "cell_type": "code",
   "execution_count": 169,
   "id": "82cd7238",
   "metadata": {},
   "outputs": [
    {
     "data": {
      "text/html": [
       "1"
      ],
      "text/latex": [
       "1"
      ],
      "text/markdown": [
       "1"
      ],
      "text/plain": [
       "[1] 1"
      ]
     },
     "metadata": {},
     "output_type": "display_data"
    }
   ],
   "source": [
    "nrow(ucrit_cand_0.05)"
   ]
  },
  {
   "cell_type": "code",
   "execution_count": 281,
   "id": "7bbf4e27",
   "metadata": {
    "scrolled": true
   },
   "outputs": [
    {
     "data": {
      "text/html": [
       "18.121044"
      ],
      "text/latex": [
       "18.121044"
      ],
      "text/markdown": [
       "18.121044"
      ],
      "text/plain": [
       "[1] 18.12104"
      ]
     },
     "metadata": {},
     "output_type": "display_data"
    },
    {
     "data": {
      "text/html": [
       "21.312784"
      ],
      "text/latex": [
       "21.312784"
      ],
      "text/markdown": [
       "21.312784"
      ],
      "text/plain": [
       "[1] 21.31278"
      ]
     },
     "metadata": {},
     "output_type": "display_data"
    }
   ],
   "source": [
    "max(lrt_filt_ucrit$LRT)\n",
    "max(lrt_filt_sl$LRT)"
   ]
  },
  {
   "cell_type": "code",
   "execution_count": 797,
   "id": "3d154441",
   "metadata": {},
   "outputs": [
    {
     "data": {
      "text/html": [
       "<table>\n",
       "<thead><tr><th scope=col>Chromosome</th><th scope=col>Position</th><th scope=col>Major</th><th scope=col>Minor</th><th scope=col>Frequency</th><th scope=col>N</th><th scope=col>LRT</th><th scope=col>high_WT/HE/HO</th><th scope=col>pvalue</th><th scope=col>iteration</th></tr></thead>\n",
       "<tbody>\n",
       "\t<tr><td>1         </td><td>10004     </td><td>A         </td><td>G         </td><td>0.109734  </td><td>147       </td><td>2.426261  </td><td>43/12/0   </td><td>0.07613519</td><td>1         </td></tr>\n",
       "\t<tr><td>1         </td><td>32316     </td><td>T         </td><td>G         </td><td>0.339790  </td><td>147       </td><td>3.391646  </td><td>11/20/0   </td><td>0.03973912</td><td>2         </td></tr>\n",
       "\t<tr><td>1         </td><td>32326     </td><td>T         </td><td>C         </td><td>0.206107  </td><td>147       </td><td>0.154062  </td><td>20/12/0   </td><td>0.94104017</td><td>2         </td></tr>\n",
       "\t<tr><td>1         </td><td>32350     </td><td>A         </td><td>G         </td><td>0.299364  </td><td>147       </td><td>1.590518  </td><td>12/10/2   </td><td>0.14281183</td><td>2         </td></tr>\n",
       "\t<tr><td>1         </td><td>32897     </td><td>C         </td><td>T         </td><td>0.198828  </td><td>147       </td><td>1.015273  </td><td>13/11/0   </td><td>0.23831694</td><td>2         </td></tr>\n",
       "\t<tr><td>1         </td><td>33475     </td><td>G         </td><td>C         </td><td>0.167852  </td><td>147       </td><td>1.704094  </td><td>29/10/0   </td><td>0.13035389</td><td>2         </td></tr>\n",
       "</tbody>\n",
       "</table>\n"
      ],
      "text/latex": [
       "\\begin{tabular}{r|llllllllll}\n",
       " Chromosome & Position & Major & Minor & Frequency & N & LRT & high\\_WT/HE/HO & pvalue & iteration\\\\\n",
       "\\hline\n",
       "\t 1          & 10004      & A          & G          & 0.109734   & 147        & 2.426261   & 43/12/0    & 0.07613519 & 1         \\\\\n",
       "\t 1          & 32316      & T          & G          & 0.339790   & 147        & 3.391646   & 11/20/0    & 0.03973912 & 2         \\\\\n",
       "\t 1          & 32326      & T          & C          & 0.206107   & 147        & 0.154062   & 20/12/0    & 0.94104017 & 2         \\\\\n",
       "\t 1          & 32350      & A          & G          & 0.299364   & 147        & 1.590518   & 12/10/2    & 0.14281183 & 2         \\\\\n",
       "\t 1          & 32897      & C          & T          & 0.198828   & 147        & 1.015273   & 13/11/0    & 0.23831694 & 2         \\\\\n",
       "\t 1          & 33475      & G          & C          & 0.167852   & 147        & 1.704094   & 29/10/0    & 0.13035389 & 2         \\\\\n",
       "\\end{tabular}\n"
      ],
      "text/markdown": [
       "\n",
       "| Chromosome | Position | Major | Minor | Frequency | N | LRT | high_WT/HE/HO | pvalue | iteration |\n",
       "|---|---|---|---|---|---|---|---|---|---|\n",
       "| 1          | 10004      | A          | G          | 0.109734   | 147        | 2.426261   | 43/12/0    | 0.07613519 | 1          |\n",
       "| 1          | 32316      | T          | G          | 0.339790   | 147        | 3.391646   | 11/20/0    | 0.03973912 | 2          |\n",
       "| 1          | 32326      | T          | C          | 0.206107   | 147        | 0.154062   | 20/12/0    | 0.94104017 | 2          |\n",
       "| 1          | 32350      | A          | G          | 0.299364   | 147        | 1.590518   | 12/10/2    | 0.14281183 | 2          |\n",
       "| 1          | 32897      | C          | T          | 0.198828   | 147        | 1.015273   | 13/11/0    | 0.23831694 | 2          |\n",
       "| 1          | 33475      | G          | C          | 0.167852   | 147        | 1.704094   | 29/10/0    | 0.13035389 | 2          |\n",
       "\n"
      ],
      "text/plain": [
       "  Chromosome Position Major Minor Frequency N   LRT      high_WT/HE/HO\n",
       "1 1          10004    A     G     0.109734  147 2.426261 43/12/0      \n",
       "2 1          32316    T     G     0.339790  147 3.391646 11/20/0      \n",
       "3 1          32326    T     C     0.206107  147 0.154062 20/12/0      \n",
       "4 1          32350    A     G     0.299364  147 1.590518 12/10/2      \n",
       "5 1          32897    C     T     0.198828  147 1.015273 13/11/0      \n",
       "6 1          33475    G     C     0.167852  147 1.704094 29/10/0      \n",
       "  pvalue     iteration\n",
       "1 0.07613519 1        \n",
       "2 0.03973912 2        \n",
       "3 0.94104017 2        \n",
       "4 0.14281183 2        \n",
       "5 0.23831694 2        \n",
       "6 0.13035389 2        "
      ]
     },
     "metadata": {},
     "output_type": "display_data"
    }
   ],
   "source": [
    "head(lrt_sl_null_filt)"
   ]
  },
  {
   "cell_type": "markdown",
   "id": "909efb59",
   "metadata": {},
   "source": [
    "__try using the permutations as the expected for the qq plot__"
   ]
  },
  {
   "cell_type": "code",
   "execution_count": 9,
   "id": "c0645825",
   "metadata": {
    "scrolled": false
   },
   "outputs": [],
   "source": [
    "#compare how each phenotype separates from null\n",
    "lrt_ucrit_null <- fread(\"/data/katrinac/APPC_sequencing/DNA/trimmed_reads/mapping/ensembl/genotypes/angsd/permute/assoc2/cat_permuted_assoc2_ucrit.lrt\")\n",
    "#lrt_ucrit[, locus := paste(Chromosome, Position, sep=\":\")]\n",
    "\n",
    "lrt_sl_null <- fread(\"/data/katrinac/APPC_sequencing/DNA/trimmed_reads/mapping/ensembl/genotypes/angsd/permute/assoc2/cat_permuted_assoc2_sl.lrt\")\n",
    "#lrt_sl[, locus := paste(Chromosome, Position, sep=\":\")]\n",
    "#filter out loci in hwe and NAN\n",
    "\n",
    "\n"
   ]
  },
  {
   "cell_type": "code",
   "execution_count": 11,
   "id": "a59fa859",
   "metadata": {},
   "outputs": [
    {
     "data": {
      "image/png": "[encoded data removed]",
      "text/plain": [
       "plot without title"
      ]
     },
     "metadata": {},
     "output_type": "display_data"
    }
   ],
   "source": [
    "#lrt_sl_null <- lrt_sl_null[LRT > 0][order(LRT)][,quantile:=1:nrow(lrt_sl_null[LRT > 0])/nrow(lrt_sl_null[LRT > 0])] #quantiles for observed lrt\n",
    "#lrt_sl_null_filt <- lrt_sl_null[LRT >0][Chromosome %in% as.character(seq(1,24,1))][, pvalue:=pchisq(LRT, df=1, lower=F)]\n",
    "#png(\"/data/katrinac/APPC_sequencing/DNA/trimmed_reads/mapping/ensembl/genotypes/angsd/results/lrt_null_qq_sl.png\")\n",
    "\n",
    "qqplot(-log10(lrt_sl_null_filt$pvalue), -log10(lrt_filt_sl$pvalue), xlab = \"Expected -log10(p)\", ylab=\"Observed -log10(p)\")\n",
    "abline(0, 1, col = \"red\")\n",
    "#dev.off()"
   ]
  },
  {
   "cell_type": "code",
   "execution_count": null,
   "id": "88c63f01",
   "metadata": {},
   "outputs": [],
   "source": [
    "#lrt_ucrit_null <- lrt_ucrit_null[LRT > 0][order(LRT)][,quantile:=1:nrow(lrt_ucrit_null[LRT > 0])/nrow(lrt_ucrit_null[LRT > 0])] #quantiles for observed lrt\n",
    "lrt_ucrit_null_filt <- lrt_ucrit_null[LRT >0][Chromosome %in% as.character(seq(1,24,1))][, pvalue:=pchisq(LRT, df=1, lower=F)]\n",
    "#png(\"/data/katrinac/APPC_sequencing/DNA/trimmed_reads/mapping/ensembl/genotypes/angsd/results/lrt_null_qq_ucrit.png\")\n",
    "qqplot(-log10(lrt_ucrit_null$pvalue), -log10(lrt_filt_ucrit$pvalue), xlab = \"Expected -log10(p)\", ylab=\"Observed -log10(p)\")\n",
    "abline(0, 1, col = \"red\")\n",
    "#dev.off()"
   ]
  },
  {
   "cell_type": "code",
   "execution_count": 786,
   "id": "b95c17f1",
   "metadata": {},
   "outputs": [
    {
     "name": "stdout",
     "output_type": "stream",
     "text": [
      "Classes ‘data.table’ and 'data.frame':\t697164900 obs. of  11 variables:\n",
      " $ Chromosome   : chr  \"1\" \"1\" \"1\" \"1\" ...\n",
      " $ Position     : int  327 479 480 529 787 1492 1830 2177 2202 2382 ...\n",
      " $ Major        : chr  \"G\" \"T\" \"T\" \"C\" ...\n",
      " $ Minor        : chr  \"T\" \"A\" \"G\" \"T\" ...\n",
      " $ Frequency    : num  0.147 0.098 0.281 0.07 0.453 ...\n",
      " $ N            : int  159 159 159 159 159 159 159 159 159 159 ...\n",
      " $ LRT          : num  -999 -999 -999 -999 -999 -999 -999 -999 -999 -999 ...\n",
      " $ high_WT/HE/HO: chr  \"4/1/0\" \"15/0/0\" \"0/3/0\" \"47/4/0\" ...\n",
      " $ pvalue       : num  NA NA NA NA NA NA NA NA NA NA ...\n",
      " $ iteration    : num  1 1 1 1 1 1 1 1 1 1 ...\n",
      " $ cutoff       : num  NA NA NA NA NA NA NA NA NA NA ...\n",
      " - attr(*, \".internal.selfref\")=<externalptr> \n"
     ]
    }
   ],
   "source": [
    "str(lrt_ucrit_null)"
   ]
  },
  {
   "cell_type": "markdown",
   "id": "9044f9a9",
   "metadata": {},
   "source": [
    "__Get the top 5% of LRT from the null permutations, find snps above that threshold in true association__"
   ]
  },
  {
   "cell_type": "code",
   "execution_count": 792,
   "id": "9edd490b",
   "metadata": {},
   "outputs": [
    {
     "name": "stderr",
     "output_type": "stream",
     "text": [
      "Warning message in 1:cutoff:\n",
      "“numerical expression has 13211441 elements: only the first used”"
     ]
    },
    {
     "data": {
      "text/plain": [
       "   Min. 1st Qu.  Median    Mean 3rd Qu.    Max. \n",
       "  24.91   24.91   24.91   24.91   24.91   24.91 "
      ]
     },
     "metadata": {},
     "output_type": "display_data"
    },
    {
     "data": {
      "text/html": [
       "0"
      ],
      "text/latex": [
       "0"
      ],
      "text/markdown": [
       "0"
      ],
      "text/plain": [
       "[1] 0"
      ]
     },
     "metadata": {},
     "output_type": "display_data"
    }
   ],
   "source": [
    "cutoff <- round(0.01 *nrow(lrt_ucrit_null_filt[LRT >0]),0)\n",
    "ucrit_null_top <- lrt_ucrit_null_filt[order(pvalue)][1:cutoff,]\n",
    "summary(ucrit_null_top$LRT)\n",
    "candidates_ucrit <- lrt_filt_ucrit[LRT > min(ucrit_null_top$LRT)]\n",
    "nrow(candidates_ucrit)"
   ]
  },
  {
   "cell_type": "code",
   "execution_count": 794,
   "id": "8666e35c",
   "metadata": {},
   "outputs": [
    {
     "data": {
      "text/html": [
       "13211441"
      ],
      "text/latex": [
       "13211441"
      ],
      "text/markdown": [
       "13211441"
      ],
      "text/plain": [
       "[1] 13211441"
      ]
     },
     "metadata": {},
     "output_type": "display_data"
    }
   ],
   "source": [
    "nrow(lrt_ucrit_null_filt[LRT >0])"
   ]
  },
  {
   "cell_type": "code",
   "execution_count": 791,
   "id": "fc1e7214",
   "metadata": {},
   "outputs": [
    {
     "data": {
      "text/html": [
       "132848"
      ],
      "text/latex": [
       "132848"
      ],
      "text/markdown": [
       "132848"
      ],
      "text/plain": [
       "[1] 132848"
      ]
     },
     "metadata": {},
     "output_type": "display_data"
    }
   ],
   "source": [
    "cutoff"
   ]
  },
  {
   "cell_type": "code",
   "execution_count": 468,
   "id": "7eb8904f",
   "metadata": {},
   "outputs": [
    {
     "data": {
      "text/html": [
       "0.0330596976512626"
      ],
      "text/latex": [
       "0.0330596976512626"
      ],
      "text/markdown": [
       "0.0330596976512626"
      ],
      "text/plain": [
       "[1] 0.0330597"
      ]
     },
     "metadata": {},
     "output_type": "display_data"
    }
   ],
   "source": [
    "quantile(lrt_ucrit_null_filt$pvalue, .05, na.rm=T)[[1]]"
   ]
  },
  {
   "cell_type": "markdown",
   "id": "14259dca",
   "metadata": {},
   "source": [
    "__Also for SL phenotype__"
   ]
  },
  {
   "cell_type": "code",
   "execution_count": 274,
   "id": "bb4c4856",
   "metadata": {},
   "outputs": [
    {
     "data": {
      "text/plain": [
       "   Min. 1st Qu.  Median    Mean 3rd Qu.    Max. \n",
       "  6.445   6.928   7.614   8.139   8.785  26.200 "
      ]
     },
     "metadata": {},
     "output_type": "display_data"
    },
    {
     "data": {
      "text/html": [
       "2676"
      ],
      "text/latex": [
       "2676"
      ],
      "text/markdown": [
       "2676"
      ],
      "text/plain": [
       "[1] 2676"
      ]
     },
     "metadata": {},
     "output_type": "display_data"
    }
   ],
   "source": [
    "cutoff <- round(0.01 *nrow(lrt_sl_null[LRT >0]),0)\n",
    "sl_null_top <- lrt_sl_null[LRT >0][order(-LRT)][1:cutoff,]\n",
    "summary(sl_null_top$LRT)\n",
    "candidates_sl <- lrt_filt_sl[LRT > min(sl_null_top$LRT)]\n",
    "nrow(candidates_sl)"
   ]
  },
  {
   "cell_type": "markdown",
   "id": "155ba1dc",
   "metadata": {},
   "source": [
    "__Calculate the BH critical threshold__"
   ]
  },
  {
   "cell_type": "code",
   "execution_count": 569,
   "id": "5a2778b9",
   "metadata": {},
   "outputs": [
    {
     "name": "stderr",
     "output_type": "stream",
     "text": [
      "Joining, by = \"Chromosome\""
     ]
    },
    {
     "data": {
      "text/html": [
       "1"
      ],
      "text/latex": [
       "1"
      ],
      "text/markdown": [
       "1"
      ],
      "text/plain": [
       "[1] 1"
      ]
     },
     "metadata": {},
     "output_type": "display_data"
    }
   ],
   "source": [
    "#what about a chromosomal level cutoff\n",
    "lrt_filt_ucrit_chrom <- lrt_filt_ucrit[Chromosome %like% \"chr\"][order(pvalue), rank_chrom :=  seq_len(.N), \"Chromosome\"][\n",
    "    , padjbh_chrom := lapply(.SD, function(x){(rank_chrom/.N)*0.05}), by = \"Chromosome\"]\n",
    "lrt_filt_ucrit_chrom_sig=lrt_filt_ucrit_chrom[pvalue<padjbh_chrom][, bh_critical := padjbh_chrom]\n",
    "ucrit_threshold <- left_join(lrt_filt_ucrit_chrom, lrt_filt_ucrit_chrom_sig[, .(Chromosome, bh_critical)])\n",
    "candidate_ucrit_chrom_bh <- ucrit_threshold[pvalue < bh_critical][Chromosome %like% \"chr\"]\n",
    "nrow(candidate_ucrit_chrom_bh)"
   ]
  },
  {
   "cell_type": "code",
   "execution_count": null,
   "id": "008d46b1",
   "metadata": {},
   "outputs": [],
   "source": []
  },
  {
   "cell_type": "code",
   "execution_count": 561,
   "id": "7ff4f106",
   "metadata": {},
   "outputs": [
    {
     "name": "stderr",
     "output_type": "stream",
     "text": [
      "Warning message in cbind(parts$left, ellip_h, parts$right, deparse.level = 0L):\n",
      "“number of rows of result is not a multiple of vector length (arg 2)”Warning message in cbind(parts$left, ellip_h, parts$right, deparse.level = 0L):\n",
      "“number of rows of result is not a multiple of vector length (arg 2)”Warning message in cbind(parts$left, ellip_h, parts$right, deparse.level = 0L):\n",
      "“number of rows of result is not a multiple of vector length (arg 2)”Warning message in cbind(parts$left, ellip_h, parts$right, deparse.level = 0L):\n",
      "“number of rows of result is not a multiple of vector length (arg 2)”"
     ]
    },
    {
     "data": {
      "text/html": [
       "<table>\n",
       "<thead><tr><th scope=col>Chromosome</th><th scope=col>Position</th><th scope=col>Major</th><th scope=col>Minor</th><th scope=col>Frequency</th><th scope=col>N</th><th scope=col>LRT</th><th scope=col>high_WT/HE/HO</th><th scope=col>LRTem</th><th scope=col>beta</th><th scope=col>...</th><th scope=col>emIter</th><th scope=col>locus</th><th scope=col>pvalue</th><th scope=col>SNP</th><th scope=col>quantile</th><th scope=col>exp_lrt_ucrit</th><th scope=col>min_pvalue</th><th scope=col>rank_chrom</th><th scope=col>padjbh_chrom</th><th scope=col>bh_critical</th></tr></thead>\n",
       "<tbody>\n",
       "</tbody>\n",
       "</table>\n"
      ],
      "text/latex": [
       "\\begin{tabular}{r|lllllllllllllllllllll}\n",
       " Chromosome & Position & Major & Minor & Frequency & N & LRT & high\\_WT/HE/HO & LRTem & beta & ... & emIter & locus & pvalue & SNP & quantile & exp\\_lrt\\_ucrit & min\\_pvalue & rank\\_chrom & padjbh\\_chrom & bh\\_critical\\\\\n",
       "\\hline\n",
       "\\end{tabular}\n"
      ],
      "text/markdown": [
       "\n",
       "| Chromosome | Position | Major | Minor | Frequency | N | LRT | high_WT/HE/HO | LRTem | beta | ... | emIter | locus | pvalue | SNP | quantile | exp_lrt_ucrit | min_pvalue | rank_chrom | padjbh_chrom | bh_critical |\n",
       "|---|---|---|---|---|---|---|---|---|---|---|---|---|---|---|---|---|---|---|---|---|\n",
       "\n"
      ],
      "text/plain": [
       "     Chromosome Position Major Minor Frequency N LRT high_WT/HE/HO LRTem beta\n",
       "     ... emIter locus pvalue SNP quantile exp_lrt_ucrit min_pvalue rank_chrom\n",
       "     padjbh_chrom bh_critical"
      ]
     },
     "metadata": {},
     "output_type": "display_data"
    },
    {
     "data": {
      "text/html": [
       "<table>\n",
       "<thead><tr><th scope=col>Chromosome</th><th scope=col>Position</th><th scope=col>Major</th><th scope=col>Minor</th><th scope=col>Frequency</th><th scope=col>N</th><th scope=col>LRT</th><th scope=col>high_WT/HE/HO</th><th scope=col>LRTem</th><th scope=col>beta</th><th scope=col>SE</th><th scope=col>emIter</th><th scope=col>locus</th><th scope=col>pvalue</th><th scope=col>SNP</th><th scope=col>quantile</th><th scope=col>exp_lrt_ucrit</th><th scope=col>min_pvalue</th><th scope=col>rank_chrom</th><th scope=col>padjbh_chrom</th></tr></thead>\n",
       "<tbody>\n",
       "</tbody>\n",
       "</table>\n"
      ],
      "text/latex": [
       "\\begin{tabular}{r|llllllllllllllllllll}\n",
       " Chromosome & Position & Major & Minor & Frequency & N & LRT & high\\_WT/HE/HO & LRTem & beta & SE & emIter & locus & pvalue & SNP & quantile & exp\\_lrt\\_ucrit & min\\_pvalue & rank\\_chrom & padjbh\\_chrom\\\\\n",
       "\\hline\n",
       "\\end{tabular}\n"
      ],
      "text/markdown": [
       "\n",
       "| Chromosome | Position | Major | Minor | Frequency | N | LRT | high_WT/HE/HO | LRTem | beta | SE | emIter | locus | pvalue | SNP | quantile | exp_lrt_ucrit | min_pvalue | rank_chrom | padjbh_chrom |\n",
       "|---|---|---|---|---|---|---|---|---|---|---|---|---|---|---|---|---|---|---|---|\n",
       "\n"
      ],
      "text/plain": [
       "     Chromosome Position Major Minor Frequency N LRT high_WT/HE/HO LRTem beta\n",
       "     SE emIter locus pvalue SNP quantile exp_lrt_ucrit min_pvalue rank_chrom\n",
       "     padjbh_chrom"
      ]
     },
     "metadata": {},
     "output_type": "display_data"
    },
    {
     "name": "stderr",
     "output_type": "stream",
     "text": [
      "Warning message in cbind(parts$left, ellip_h, parts$right, deparse.level = 0L):\n",
      "“number of rows of result is not a multiple of vector length (arg 2)”Warning message in cbind(parts$left, ellip_h, parts$right, deparse.level = 0L):\n",
      "“number of rows of result is not a multiple of vector length (arg 2)”Warning message in cbind(parts$left, ellip_h, parts$right, deparse.level = 0L):\n",
      "“number of rows of result is not a multiple of vector length (arg 2)”Warning message in cbind(parts$left, ellip_h, parts$right, deparse.level = 0L):\n",
      "“number of rows of result is not a multiple of vector length (arg 2)”"
     ]
    },
    {
     "data": {
      "text/html": [
       "<table>\n",
       "<thead><tr><th scope=col>Chromosome</th><th scope=col>Position</th><th scope=col>Major</th><th scope=col>Minor</th><th scope=col>Frequency</th><th scope=col>N</th><th scope=col>LRT</th><th scope=col>high_WT/HE/HO</th><th scope=col>LRTem</th><th scope=col>beta</th><th scope=col>...</th><th scope=col>emIter</th><th scope=col>locus</th><th scope=col>pvalue</th><th scope=col>SNP</th><th scope=col>quantile</th><th scope=col>exp_lrt_ucrit</th><th scope=col>min_pvalue</th><th scope=col>rank_chrom</th><th scope=col>padjbh_chrom</th><th scope=col>bh_critical</th></tr></thead>\n",
       "<tbody>\n",
       "</tbody>\n",
       "</table>\n"
      ],
      "text/latex": [
       "\\begin{tabular}{r|lllllllllllllllllllll}\n",
       " Chromosome & Position & Major & Minor & Frequency & N & LRT & high\\_WT/HE/HO & LRTem & beta & ... & emIter & locus & pvalue & SNP & quantile & exp\\_lrt\\_ucrit & min\\_pvalue & rank\\_chrom & padjbh\\_chrom & bh\\_critical\\\\\n",
       "\\hline\n",
       "\\end{tabular}\n"
      ],
      "text/markdown": [
       "\n",
       "| Chromosome | Position | Major | Minor | Frequency | N | LRT | high_WT/HE/HO | LRTem | beta | ... | emIter | locus | pvalue | SNP | quantile | exp_lrt_ucrit | min_pvalue | rank_chrom | padjbh_chrom | bh_critical |\n",
       "|---|---|---|---|---|---|---|---|---|---|---|---|---|---|---|---|---|---|---|---|---|\n",
       "\n"
      ],
      "text/plain": [
       "     Chromosome Position Major Minor Frequency N LRT high_WT/HE/HO LRTem beta\n",
       "     ... emIter locus pvalue SNP quantile exp_lrt_ucrit min_pvalue rank_chrom\n",
       "     padjbh_chrom bh_critical"
      ]
     },
     "metadata": {},
     "output_type": "display_data"
    }
   ],
   "source": [
    "head(lrt_filt_ucrit_chrom_sig)\n",
    "head(lrt_filt_ucrit_chrom)\n",
    "head(ucrit_threshold)"
   ]
  },
  {
   "cell_type": "code",
   "execution_count": 178,
   "id": "40dd1d46",
   "metadata": {
    "scrolled": false
   },
   "outputs": [
    {
     "data": {
      "text/html": [
       "<table>\n",
       "<thead><tr><th scope=col>Chromosome</th><th scope=col>Position</th><th scope=col>Major</th><th scope=col>Minor</th><th scope=col>Frequency</th><th scope=col>N</th><th scope=col>LRT</th><th scope=col>high_WT/HE/HO</th><th scope=col>LRTem</th><th scope=col>beta</th><th scope=col>SE</th><th scope=col>emIter</th><th scope=col>locus</th><th scope=col>pvalue</th><th scope=col>SNP</th><th scope=col>Chromosome_man</th><th scope=col>rank</th><th scope=col>padjBH</th></tr></thead>\n",
       "<tbody>\n",
       "</tbody>\n",
       "</table>\n"
      ],
      "text/latex": [
       "\\begin{tabular}{r|llllllllllllllllll}\n",
       " Chromosome & Position & Major & Minor & Frequency & N & LRT & high\\_WT/HE/HO & LRTem & beta & SE & emIter & locus & pvalue & SNP & Chromosome\\_man & rank & padjBH\\\\\n",
       "\\hline\n",
       "\\end{tabular}\n"
      ],
      "text/markdown": [
       "\n",
       "| Chromosome | Position | Major | Minor | Frequency | N | LRT | high_WT/HE/HO | LRTem | beta | SE | emIter | locus | pvalue | SNP | Chromosome_man | rank | padjBH |\n",
       "|---|---|---|---|---|---|---|---|---|---|---|---|---|---|---|---|---|---|\n",
       "\n"
      ],
      "text/plain": [
       "     Chromosome Position Major Minor Frequency N LRT high_WT/HE/HO LRTem beta\n",
       "     SE emIter locus pvalue SNP Chromosome_man rank padjBH"
      ]
     },
     "metadata": {},
     "output_type": "display_data"
    }
   ],
   "source": [
    "lrt_filt_ucrit <- lrt_filt_ucrit[order(pvalue)]\n",
    "lrt_filt_ucrit$rank=1:NROW(lrt_filt_ucrit) #rank snp by order\n",
    "lrt_filt_ucrit$padjBH=(lrt_filt_ucrit$rank/nrow(lrt_filt_ucrit))*.2#then calculate the critical by dividing each rank by the total number of snps, and then multiply by fdr\n",
    "lrt_filt_ucrit_sig=lrt_filt_ucrit[lrt_filt_ucrit$pvalue<lrt_filt_ucrit$padjBH,]\n",
    "lrt_filt_ucrit_sig"
   ]
  },
  {
   "cell_type": "code",
   "execution_count": 260,
   "id": "2b2f4408",
   "metadata": {},
   "outputs": [
    {
     "data": {
      "text/html": [
       "<table>\n",
       "<thead><tr><th scope=col>Chromosome</th><th scope=col>Position</th><th scope=col>Major</th><th scope=col>Minor</th><th scope=col>Frequency</th><th scope=col>N</th><th scope=col>LRT</th><th scope=col>high_WT/HE/HO</th><th scope=col>locus</th><th scope=col>pvalue</th><th scope=col>SNP</th><th scope=col>quantile</th><th scope=col>exp_lrt_sl</th><th scope=col>rank_chrom</th><th scope=col>padjbh_chrom</th><th scope=col>bh_critical</th></tr></thead>\n",
       "<tbody>\n",
       "\t<tr><td>10000591            </td><td>   17920            </td><td>A                   </td><td>G                   </td><td>0.175867            </td><td>147                 </td><td> 3.132857           </td><td>27/10/0             </td><td>PYAM01000059.1:17920</td><td>0.047059631926      </td><td>r105787             </td><td>0.8677748           </td><td> 2.275955           </td><td>1                   </td><td>0.050000000000      </td><td>0.050000000000      </td></tr>\n",
       "\t<tr><td>10000441            </td><td>   35350            </td><td>A                   </td><td>G                   </td><td>0.302674            </td><td>147                 </td><td> 6.180107           </td><td>11/11/2             </td><td>PYAM01000044.1:35350</td><td>0.007301614245      </td><td>r105786             </td><td>0.9713727           </td><td> 4.814287           </td><td>1                   </td><td>0.050000000000      </td><td>0.050000000000      </td></tr>\n",
       "\t<tr><td>10000401            </td><td>   51479            </td><td>T                   </td><td>A                   </td><td>0.083430            </td><td>147                 </td><td> 8.711015           </td><td>96/15/0             </td><td>PYAM01000040.1:51479</td><td>0.001735013314      </td><td>r105777             </td><td>0.9922037           </td><td> 7.067781           </td><td>1                   </td><td>0.002631578947      </td><td>0.002631578947      </td></tr>\n",
       "\t<tr><td>10002151            </td><td>   33965            </td><td>G                   </td><td>C                   </td><td>0.054872            </td><td>147                 </td><td>10.227428           </td><td>111/10/0            </td><td>PYAM01000215.1:33965</td><td>0.000750186213      </td><td>r105932             </td><td>0.9965832           </td><td> 8.454853           </td><td>1                   </td><td>0.025000000000      </td><td>0.025000000000      </td></tr>\n",
       "\t<tr><td>10001001            </td><td>   35657            </td><td>A                   </td><td>G                   </td><td>0.323038            </td><td>147                 </td><td>11.026242           </td><td>12/24/2             </td><td>PYAM01000100.1:35657</td><td>0.000484594273      </td><td>r105886             </td><td>0.9978291           </td><td> 9.195394           </td><td>1                   </td><td>0.000595238095      </td><td>0.000595238095      </td></tr>\n",
       "\t<tr><td>       4            </td><td> 7504287            </td><td>A                   </td><td>G                   </td><td>0.190875            </td><td>147                 </td><td>17.032842           </td><td>33/23/0             </td><td>4:7504287           </td><td>0.000019347812      </td><td>r15367              </td><td>0.9999434           </td><td>18.267630           </td><td>2                   </td><td>0.000019956097      </td><td>0.000019956097      </td></tr>\n",
       "\t<tr><td>      15            </td><td> 4387764            </td><td>C                   </td><td>T                   </td><td>0.264829            </td><td>147                 </td><td>18.680059           </td><td>25/26/1             </td><td>15:4387764          </td><td>0.000008107700      </td><td>r68417              </td><td>0.9999717           </td><td>20.011605           </td><td>1                   </td><td>0.000010076582      </td><td>0.000010076582      </td></tr>\n",
       "\t<tr><td>       4            </td><td> 3491306            </td><td>A                   </td><td>G                   </td><td>0.234541            </td><td>147                 </td><td>19.323208           </td><td>34/23/0             </td><td>4:3491306           </td><td>0.000005779485      </td><td>r14897              </td><td>0.9999811           </td><td>23.281999           </td><td>1                   </td><td>0.000009978048      </td><td>0.000019956097      </td></tr>\n",
       "\t<tr><td>       4            </td><td> 3491306            </td><td>A                   </td><td>G                   </td><td>0.234541            </td><td>147                 </td><td>19.323208           </td><td>34/23/0             </td><td>4:3491306           </td><td>0.000005779485      </td><td>r14897              </td><td>0.9999811           </td><td>23.281999           </td><td>1                   </td><td>0.000009978048      </td><td>0.000009978048      </td></tr>\n",
       "\t<tr><td>      24            </td><td>16962690            </td><td>T                   </td><td>G                   </td><td>0.258409            </td><td>147                 </td><td>20.290888           </td><td>10/13/0             </td><td>24:16962690         </td><td>0.000003476556      </td><td>r104351             </td><td>0.9999906           </td><td>23.282751           </td><td>1                   </td><td>0.000014577259      </td><td>0.000014577259      </td></tr>\n",
       "\t<tr><td>      11            </td><td> 7825612            </td><td>T                   </td><td>G                   </td><td>0.206307            </td><td>147                 </td><td>21.312784           </td><td>24/11/0             </td><td>11:7825612          </td><td>0.000002035062      </td><td>r50869              </td><td>1.0000000           </td><td>27.444645           </td><td>1                   </td><td>0.000010773540      </td><td>0.000010773540      </td></tr>\n",
       "</tbody>\n",
       "</table>\n"
      ],
      "text/latex": [
       "\\begin{tabular}{r|llllllllllllllll}\n",
       " Chromosome & Position & Major & Minor & Frequency & N & LRT & high\\_WT/HE/HO & locus & pvalue & SNP & quantile & exp\\_lrt\\_sl & rank\\_chrom & padjbh\\_chrom & bh\\_critical\\\\\n",
       "\\hline\n",
       "\t 10000591             &    17920             & A                    & G                    & 0.175867             & 147                  &  3.132857            & 27/10/0              & PYAM01000059.1:17920 & 0.047059631926       & r105787              & 0.8677748            &  2.275955            & 1                    & 0.050000000000       & 0.050000000000      \\\\\n",
       "\t 10000441             &    35350             & A                    & G                    & 0.302674             & 147                  &  6.180107            & 11/11/2              & PYAM01000044.1:35350 & 0.007301614245       & r105786              & 0.9713727            &  4.814287            & 1                    & 0.050000000000       & 0.050000000000      \\\\\n",
       "\t 10000401             &    51479             & T                    & A                    & 0.083430             & 147                  &  8.711015            & 96/15/0              & PYAM01000040.1:51479 & 0.001735013314       & r105777              & 0.9922037            &  7.067781            & 1                    & 0.002631578947       & 0.002631578947      \\\\\n",
       "\t 10002151             &    33965             & G                    & C                    & 0.054872             & 147                  & 10.227428            & 111/10/0             & PYAM01000215.1:33965 & 0.000750186213       & r105932              & 0.9965832            &  8.454853            & 1                    & 0.025000000000       & 0.025000000000      \\\\\n",
       "\t 10001001             &    35657             & A                    & G                    & 0.323038             & 147                  & 11.026242            & 12/24/2              & PYAM01000100.1:35657 & 0.000484594273       & r105886              & 0.9978291            &  9.195394            & 1                    & 0.000595238095       & 0.000595238095      \\\\\n",
       "\t        4             &  7504287             & A                    & G                    & 0.190875             & 147                  & 17.032842            & 33/23/0              & 4:7504287            & 0.000019347812       & r15367               & 0.9999434            & 18.267630            & 2                    & 0.000019956097       & 0.000019956097      \\\\\n",
       "\t       15             &  4387764             & C                    & T                    & 0.264829             & 147                  & 18.680059            & 25/26/1              & 15:4387764           & 0.000008107700       & r68417               & 0.9999717            & 20.011605            & 1                    & 0.000010076582       & 0.000010076582      \\\\\n",
       "\t        4             &  3491306             & A                    & G                    & 0.234541             & 147                  & 19.323208            & 34/23/0              & 4:3491306            & 0.000005779485       & r14897               & 0.9999811            & 23.281999            & 1                    & 0.000009978048       & 0.000019956097      \\\\\n",
       "\t        4             &  3491306             & A                    & G                    & 0.234541             & 147                  & 19.323208            & 34/23/0              & 4:3491306            & 0.000005779485       & r14897               & 0.9999811            & 23.281999            & 1                    & 0.000009978048       & 0.000009978048      \\\\\n",
       "\t       24             & 16962690             & T                    & G                    & 0.258409             & 147                  & 20.290888            & 10/13/0              & 24:16962690          & 0.000003476556       & r104351              & 0.9999906            & 23.282751            & 1                    & 0.000014577259       & 0.000014577259      \\\\\n",
       "\t       11             &  7825612             & T                    & G                    & 0.206307             & 147                  & 21.312784            & 24/11/0              & 11:7825612           & 0.000002035062       & r50869               & 1.0000000            & 27.444645            & 1                    & 0.000010773540       & 0.000010773540      \\\\\n",
       "\\end{tabular}\n"
      ],
      "text/markdown": [
       "\n",
       "| Chromosome | Position | Major | Minor | Frequency | N | LRT | high_WT/HE/HO | locus | pvalue | SNP | quantile | exp_lrt_sl | rank_chrom | padjbh_chrom | bh_critical |\n",
       "|---|---|---|---|---|---|---|---|---|---|---|---|---|---|---|---|\n",
       "| 10000591             |    17920             | A                    | G                    | 0.175867             | 147                  |  3.132857            | 27/10/0              | PYAM01000059.1:17920 | 0.047059631926       | r105787              | 0.8677748            |  2.275955            | 1                    | 0.050000000000       | 0.050000000000       |\n",
       "| 10000441             |    35350             | A                    | G                    | 0.302674             | 147                  |  6.180107            | 11/11/2              | PYAM01000044.1:35350 | 0.007301614245       | r105786              | 0.9713727            |  4.814287            | 1                    | 0.050000000000       | 0.050000000000       |\n",
       "| 10000401             |    51479             | T                    | A                    | 0.083430             | 147                  |  8.711015            | 96/15/0              | PYAM01000040.1:51479 | 0.001735013314       | r105777              | 0.9922037            |  7.067781            | 1                    | 0.002631578947       | 0.002631578947       |\n",
       "| 10002151             |    33965             | G                    | C                    | 0.054872             | 147                  | 10.227428            | 111/10/0             | PYAM01000215.1:33965 | 0.000750186213       | r105932              | 0.9965832            |  8.454853            | 1                    | 0.025000000000       | 0.025000000000       |\n",
       "| 10001001             |    35657             | A                    | G                    | 0.323038             | 147                  | 11.026242            | 12/24/2              | PYAM01000100.1:35657 | 0.000484594273       | r105886              | 0.9978291            |  9.195394            | 1                    | 0.000595238095       | 0.000595238095       |\n",
       "|        4             |  7504287             | A                    | G                    | 0.190875             | 147                  | 17.032842            | 33/23/0              | 4:7504287            | 0.000019347812       | r15367               | 0.9999434            | 18.267630            | 2                    | 0.000019956097       | 0.000019956097       |\n",
       "|       15             |  4387764             | C                    | T                    | 0.264829             | 147                  | 18.680059            | 25/26/1              | 15:4387764           | 0.000008107700       | r68417               | 0.9999717            | 20.011605            | 1                    | 0.000010076582       | 0.000010076582       |\n",
       "|        4             |  3491306             | A                    | G                    | 0.234541             | 147                  | 19.323208            | 34/23/0              | 4:3491306            | 0.000005779485       | r14897               | 0.9999811            | 23.281999            | 1                    | 0.000009978048       | 0.000019956097       |\n",
       "|        4             |  3491306             | A                    | G                    | 0.234541             | 147                  | 19.323208            | 34/23/0              | 4:3491306            | 0.000005779485       | r14897               | 0.9999811            | 23.281999            | 1                    | 0.000009978048       | 0.000009978048       |\n",
       "|       24             | 16962690             | T                    | G                    | 0.258409             | 147                  | 20.290888            | 10/13/0              | 24:16962690          | 0.000003476556       | r104351              | 0.9999906            | 23.282751            | 1                    | 0.000014577259       | 0.000014577259       |\n",
       "|       11             |  7825612             | T                    | G                    | 0.206307             | 147                  | 21.312784            | 24/11/0              | 11:7825612           | 0.000002035062       | r50869               | 1.0000000            | 27.444645            | 1                    | 0.000010773540       | 0.000010773540       |\n",
       "\n"
      ],
      "text/plain": [
       "   Chromosome Position Major Minor Frequency N   LRT       high_WT/HE/HO\n",
       "1  10000591      17920 A     G     0.175867  147  3.132857 27/10/0      \n",
       "2  10000441      35350 A     G     0.302674  147  6.180107 11/11/2      \n",
       "3  10000401      51479 T     A     0.083430  147  8.711015 96/15/0      \n",
       "4  10002151      33965 G     C     0.054872  147 10.227428 111/10/0     \n",
       "5  10001001      35657 A     G     0.323038  147 11.026242 12/24/2      \n",
       "6         4    7504287 A     G     0.190875  147 17.032842 33/23/0      \n",
       "7        15    4387764 C     T     0.264829  147 18.680059 25/26/1      \n",
       "8         4    3491306 A     G     0.234541  147 19.323208 34/23/0      \n",
       "9         4    3491306 A     G     0.234541  147 19.323208 34/23/0      \n",
       "10       24   16962690 T     G     0.258409  147 20.290888 10/13/0      \n",
       "11       11    7825612 T     G     0.206307  147 21.312784 24/11/0      \n",
       "   locus                pvalue         SNP     quantile  exp_lrt_sl rank_chrom\n",
       "1  PYAM01000059.1:17920 0.047059631926 r105787 0.8677748  2.275955  1         \n",
       "2  PYAM01000044.1:35350 0.007301614245 r105786 0.9713727  4.814287  1         \n",
       "3  PYAM01000040.1:51479 0.001735013314 r105777 0.9922037  7.067781  1         \n",
       "4  PYAM01000215.1:33965 0.000750186213 r105932 0.9965832  8.454853  1         \n",
       "5  PYAM01000100.1:35657 0.000484594273 r105886 0.9978291  9.195394  1         \n",
       "6  4:7504287            0.000019347812 r15367  0.9999434 18.267630  2         \n",
       "7  15:4387764           0.000008107700 r68417  0.9999717 20.011605  1         \n",
       "8  4:3491306            0.000005779485 r14897  0.9999811 23.281999  1         \n",
       "9  4:3491306            0.000005779485 r14897  0.9999811 23.281999  1         \n",
       "10 24:16962690          0.000003476556 r104351 0.9999906 23.282751  1         \n",
       "11 11:7825612           0.000002035062 r50869  1.0000000 27.444645  1         \n",
       "   padjbh_chrom   bh_critical   \n",
       "1  0.050000000000 0.050000000000\n",
       "2  0.050000000000 0.050000000000\n",
       "3  0.002631578947 0.002631578947\n",
       "4  0.025000000000 0.025000000000\n",
       "5  0.000595238095 0.000595238095\n",
       "6  0.000019956097 0.000019956097\n",
       "7  0.000010076582 0.000010076582\n",
       "8  0.000009978048 0.000019956097\n",
       "9  0.000009978048 0.000009978048\n",
       "10 0.000014577259 0.000014577259\n",
       "11 0.000010773540 0.000010773540"
      ]
     },
     "metadata": {},
     "output_type": "display_data"
    }
   ],
   "source": [
    "candidate_sl_chrom_bh"
   ]
  },
  {
   "cell_type": "code",
   "execution_count": 565,
   "id": "d1b9b716",
   "metadata": {},
   "outputs": [
    {
     "data": {
      "text/html": [
       "<table>\n",
       "<thead><tr><th scope=col>Chromosome</th><th scope=col>Position</th><th scope=col>Major</th><th scope=col>Minor</th><th scope=col>Frequency</th><th scope=col>N</th><th scope=col>LRT</th><th scope=col>high_WT/HE/HO</th><th scope=col>locus</th><th scope=col>pvalue</th><th scope=col>SNP</th><th scope=col>quantile</th><th scope=col>exp_lrt_sl</th><th scope=col>rank</th><th scope=col>padjBH</th></tr></thead>\n",
       "<tbody>\n",
       "\t<tr><td>chr24       </td><td>16962690    </td><td>T           </td><td>G           </td><td>0.258409    </td><td>147         </td><td>20.29089    </td><td>10/13/0     </td><td>24:16962690 </td><td>3.476556e-06</td><td>r104351     </td><td>0.9999906   </td><td>17.56290    </td><td> 2          </td><td>3.795823e-06</td></tr>\n",
       "\t<tr><td>chr10       </td><td>  406013    </td><td>C           </td><td>T           </td><td>0.253512    </td><td>147         </td><td>14.06247    </td><td>11/13/0     </td><td>10:406013   </td><td>9.402687e-05</td><td>r42819      </td><td>0.9995375   </td><td>12.29891    </td><td>50          </td><td>9.489557e-05</td></tr>\n",
       "</tbody>\n",
       "</table>\n"
      ],
      "text/latex": [
       "\\begin{tabular}{r|lllllllllllllll}\n",
       " Chromosome & Position & Major & Minor & Frequency & N & LRT & high\\_WT/HE/HO & locus & pvalue & SNP & quantile & exp\\_lrt\\_sl & rank & padjBH\\\\\n",
       "\\hline\n",
       "\t chr24        & 16962690     & T            & G            & 0.258409     & 147          & 20.29089     & 10/13/0      & 24:16962690  & 3.476556e-06 & r104351      & 0.9999906    & 17.56290     &  2           & 3.795823e-06\\\\\n",
       "\t chr10        &   406013     & C            & T            & 0.253512     & 147          & 14.06247     & 11/13/0      & 10:406013    & 9.402687e-05 & r42819       & 0.9995375    & 12.29891     & 50           & 9.489557e-05\\\\\n",
       "\\end{tabular}\n"
      ],
      "text/markdown": [
       "\n",
       "| Chromosome | Position | Major | Minor | Frequency | N | LRT | high_WT/HE/HO | locus | pvalue | SNP | quantile | exp_lrt_sl | rank | padjBH |\n",
       "|---|---|---|---|---|---|---|---|---|---|---|---|---|---|---|\n",
       "| chr24        | 16962690     | T            | G            | 0.258409     | 147          | 20.29089     | 10/13/0      | 24:16962690  | 3.476556e-06 | r104351      | 0.9999906    | 17.56290     |  2           | 3.795823e-06 |\n",
       "| chr10        |   406013     | C            | T            | 0.253512     | 147          | 14.06247     | 11/13/0      | 10:406013    | 9.402687e-05 | r42819       | 0.9995375    | 12.29891     | 50           | 9.489557e-05 |\n",
       "\n"
      ],
      "text/plain": [
       "  Chromosome Position Major Minor Frequency N   LRT      high_WT/HE/HO\n",
       "1 chr24      16962690 T     G     0.258409  147 20.29089 10/13/0      \n",
       "2 chr10        406013 C     T     0.253512  147 14.06247 11/13/0      \n",
       "  locus       pvalue       SNP     quantile  exp_lrt_sl rank padjBH      \n",
       "1 24:16962690 3.476556e-06 r104351 0.9999906 17.56290    2   3.795823e-06\n",
       "2 10:406013   9.402687e-05 r42819  0.9995375 12.29891   50   9.489557e-05"
      ]
     },
     "metadata": {},
     "output_type": "display_data"
    }
   ],
   "source": [
    "lrt_filt_sl <- lrt_filt_sl[Chromosome %like% \"chr\"][order(pvalue)]\n",
    "lrt_filt_sl$rank=1:NROW(lrt_filt_sl) #rank snp by order\n",
    "lrt_filt_sl$padjBH=(lrt_filt_sl$rank/nrow(lrt_filt_sl))*.2 #then calculate the critical by dividing each rank by the total number of snps, and then multiply by fdr\n",
    "lrt_filt_sl_sig=lrt_filt_sl[lrt_filt_sl$pvalue<lrt_filt_sl$padjBH,]\n",
    "lrt_filt_sl_sig"
   ]
  },
  {
   "cell_type": "code",
   "execution_count": 566,
   "id": "f32cf79b",
   "metadata": {},
   "outputs": [
    {
     "data": {
      "text/html": [
       "49"
      ],
      "text/latex": [
       "49"
      ],
      "text/markdown": [
       "49"
      ],
      "text/plain": [
       "[1] 49"
      ]
     },
     "metadata": {},
     "output_type": "display_data"
    }
   ],
   "source": [
    "candidate_sl_bh <- lrt_filt_sl[Chromosome %like% \"chr\"][pvalue < max(lrt_filt_sl_sig$pvalue)]\n",
    "nrow(candidate_sl_bh[order(Chromosome, Position)] )"
   ]
  },
  {
   "cell_type": "code",
   "execution_count": 568,
   "id": "2902ac97",
   "metadata": {},
   "outputs": [
    {
     "name": "stderr",
     "output_type": "stream",
     "text": [
      "Joining, by = \"Chromosome\"Warning message in `[.data.table`(sl_threshold, pvalue < bh_critical, by = \"Chromosome\"):\n",
      "“Ignoring by= because j= is not supplied”"
     ]
    },
    {
     "data": {
      "text/html": [
       "6"
      ],
      "text/latex": [
       "6"
      ],
      "text/markdown": [
       "6"
      ],
      "text/plain": [
       "[1] 6"
      ]
     },
     "metadata": {},
     "output_type": "display_data"
    }
   ],
   "source": [
    "#chrom level sig for sl\n",
    "lrt_filt_sl_chrom <- lrt_filt_sl[Chromosome %like% \"chr\"][order(pvalue), rank_chrom :=  seq_len(.N), \"Chromosome\"][\n",
    "    , padjbh_chrom := lapply(.SD, function(x){(rank_chrom/.N)*.05}), by = \"Chromosome\"]\n",
    "lrt_filt_sl_chrom_sig=lrt_filt_sl_chrom[pvalue<padjbh_chrom][, bh_critical := padjbh_chrom]\n",
    "sl_threshold <- left_join(lrt_filt_sl_chrom, lrt_filt_sl_chrom_sig[, .(Chromosome, bh_critical)])\n",
    "candidate_sl_chrom_bh <- sl_threshold[pvalue < bh_critical, by=\"Chromosome\"][Chromosome %like% \"chr\"]\n",
    "nrow(candidate_sl_chrom_bh)"
   ]
  },
  {
   "cell_type": "code",
   "execution_count": 181,
   "id": "ee61731b",
   "metadata": {},
   "outputs": [
    {
     "name": "stderr",
     "output_type": "stream",
     "text": [
      "Joining, by = \"Chromosome\"Warning message in `[.data.table`(ucrit_threshold, pvalue < bh_critical, by = \"Chromosome\"):\n",
      "“Ignoring by= because j= is not supplied”"
     ]
    },
    {
     "data": {
      "text/html": [
       "<table>\n",
       "<thead><tr><th scope=col>Chromosome</th><th scope=col>Position</th><th scope=col>Major</th><th scope=col>Minor</th><th scope=col>Frequency</th><th scope=col>N</th><th scope=col>LRT</th><th scope=col>high_WT/HE/HO</th><th scope=col>LRTem</th><th scope=col>beta</th><th scope=col>...</th><th scope=col>emIter</th><th scope=col>locus</th><th scope=col>pvalue</th><th scope=col>SNP</th><th scope=col>Chromosome_man</th><th scope=col>rank</th><th scope=col>padjBH</th><th scope=col>rank_chrom</th><th scope=col>padjbh_chrom</th><th scope=col>bh_critical</th></tr></thead>\n",
       "<tbody>\n",
       "\t<tr><td>chr24       </td><td>6021620     </td><td>T           </td><td>C           </td><td>0.13961     </td><td>159         </td><td>18.12104    </td><td>33/13/0     </td><td>19.33754    </td><td>-3.541276   </td><td>...         </td><td>21          </td><td>24:6021620  </td><td>1.088639e-05</td><td>r129188     </td><td>24          </td><td>1           </td><td>1.514005e-06</td><td>1           </td><td>4.637144e-05</td><td>4.637144e-05</td></tr>\n",
       "</tbody>\n",
       "</table>\n"
      ],
      "text/latex": [
       "\\begin{tabular}{r|lllllllllllllllllllll}\n",
       " Chromosome & Position & Major & Minor & Frequency & N & LRT & high\\_WT/HE/HO & LRTem & beta & ... & emIter & locus & pvalue & SNP & Chromosome\\_man & rank & padjBH & rank\\_chrom & padjbh\\_chrom & bh\\_critical\\\\\n",
       "\\hline\n",
       "\t chr24        & 6021620      & T            & C            & 0.13961      & 159          & 18.12104     & 33/13/0      & 19.33754     & -3.541276    & ...          & 21           & 24:6021620   & 1.088639e-05 & r129188      & 24           & 1            & 1.514005e-06 & 1            & 4.637144e-05 & 4.637144e-05\\\\\n",
       "\\end{tabular}\n"
      ],
      "text/markdown": [
       "\n",
       "| Chromosome | Position | Major | Minor | Frequency | N | LRT | high_WT/HE/HO | LRTem | beta | ... | emIter | locus | pvalue | SNP | Chromosome_man | rank | padjBH | rank_chrom | padjbh_chrom | bh_critical |\n",
       "|---|---|---|---|---|---|---|---|---|---|---|---|---|---|---|---|---|---|---|---|---|\n",
       "| chr24        | 6021620      | T            | C            | 0.13961      | 159          | 18.12104     | 33/13/0      | 19.33754     | -3.541276    | ...          | 21           | 24:6021620   | 1.088639e-05 | r129188      | 24           | 1            | 1.514005e-06 | 1            | 4.637144e-05 | 4.637144e-05 |\n",
       "\n"
      ],
      "text/plain": [
       "  Chromosome Position Major Minor Frequency N   LRT      high_WT/HE/HO LRTem   \n",
       "1 chr24      6021620  T     C     0.13961   159 18.12104 33/13/0       19.33754\n",
       "  beta      ... emIter locus      pvalue       SNP     Chromosome_man rank\n",
       "1 -3.541276 ... 21     24:6021620 1.088639e-05 r129188 24             1   \n",
       "  padjBH       rank_chrom padjbh_chrom bh_critical \n",
       "1 1.514005e-06 1          4.637144e-05 4.637144e-05"
      ]
     },
     "metadata": {},
     "output_type": "display_data"
    }
   ],
   "source": [
    "lrt_filt_ucrit_chrom <- lrt_filt_ucrit[Chromosome %like% \"chr\"][order(pvalue), rank_chrom :=  seq_len(.N), \"Chromosome\"][\n",
    "    , padjbh_chrom := lapply(.SD, function(x){(rank_chrom/.N)*.2}), by = \"Chromosome\"]\n",
    "lrt_filt_ucrit_chrom_sig=lrt_filt_ucrit_chrom[pvalue<padjbh_chrom][, bh_critical := padjbh_chrom]\n",
    "ucrit_threshold <- left_join(lrt_filt_ucrit_chrom, lrt_filt_ucrit_chrom_sig[, .(Chromosome, bh_critical)])\n",
    "candidate_ucrit_chrom_bh <- ucrit_threshold[pvalue < bh_critical, by=\"Chromosome\"][Chromosome %like% \"chr\"]\n",
    "(candidate_ucrit_chrom_bh)"
   ]
  },
  {
   "cell_type": "code",
   "execution_count": 280,
   "id": "814e5ed3",
   "metadata": {},
   "outputs": [
    {
     "name": "stderr",
     "output_type": "stream",
     "text": [
      "Warning message in eval(jsub, SDenv, parent.frame()):\n",
      "“NAs introduced by coercion”"
     ]
    }
   ],
   "source": [
    "#only for manhattan plot\n",
    "lrt_filt_ucrit[, Chromosome := gsub(\".\",\"\", Chromosome, fixed = T)][, Chromosome := gsub(\"CM\",\"\", Chromosome, fixed = T)][, Chromosome := gsub(\"PYAM\",\"\", Chromosome, fixed = T)]\n",
    "lrt_filt_ucrit[, Chromosome := as.numeric(Chromosome)]"
   ]
  },
  {
   "cell_type": "code",
   "execution_count": 622,
   "id": "17befae0",
   "metadata": {},
   "outputs": [
    {
     "name": "stderr",
     "output_type": "stream",
     "text": [
      "Warning message in eval(jsub, SDenv, parent.frame()):\n",
      "“NAs introduced by coercion”"
     ]
    }
   ],
   "source": [
    "#only for manhattan plot\n",
    "\n",
    "lrt_filt_sl[, Chromosome := gsub(\".\",\"\", Chromosome, fixed = T)][, Chromosome := gsub(\"CM\",\"\", Chromosome, fixed = T)][, Chromosome := gsub(\"PYAM\",\"\", Chromosome, fixed = T)]\n",
    "lrt_filt_sl[, Chromosome := as.numeric(Chromosome)]"
   ]
  },
  {
   "cell_type": "code",
   "execution_count": 64,
   "id": "1ad446aa",
   "metadata": {},
   "outputs": [],
   "source": [
    "lrt_filt_sl[,Chromosome_man := gsub(\"chr\", \"\", Chromosome)][, Chromosome_man:=as.numeric(Chromosome_man)]\n"
   ]
  },
  {
   "cell_type": "code",
   "execution_count": 185,
   "id": "cc5e1d89",
   "metadata": {},
   "outputs": [
    {
     "data": {
      "text/html": [
       "<strong>png:</strong> 2"
      ],
      "text/latex": [
       "\\textbf{png:} 2"
      ],
      "text/markdown": [
       "**png:** 2"
      ],
      "text/plain": [
       "png \n",
       "  2 "
      ]
     },
     "metadata": {},
     "output_type": "display_data"
    }
   ],
   "source": [
    "gw_sl <- quantile(sl_null_chrom$min_pvalue, .05)[[1]]\n",
    "#gw_sl_null <- dchisq(min(sl_null_top$LRT), df=1)\n",
    "png(\"/data/katrinac/APPC_sequencing/DNA/trimmed_reads/mapping/ensembl/genotypes/angsd/results/sl_manhattan_chrom_null_sig.05.png\")\n",
    "qqman::manhattan(lrt_filt_sl, chr=\"Chromosome_man\", bp=\"Position\", p=\"pvalue\", genomewideline = -log10(gw_sl), suggestiveline = F)#highlight =lrt_filt_sl[locus %in% sl_null.2[,locus], SNP]\n",
    "dev.off()\n",
    "#gw_sl"
   ]
  },
  {
   "cell_type": "code",
   "execution_count": 782,
   "id": "bfff6104",
   "metadata": {},
   "outputs": [
    {
     "data": {
      "text/html": [
       "<table>\n",
       "<thead><tr><th scope=col>Chromosome</th><th scope=col>Position</th><th scope=col>Major</th><th scope=col>Minor</th><th scope=col>Frequency</th><th scope=col>N</th><th scope=col>LRT</th><th scope=col>high_WT/HE/HO</th><th scope=col>locus</th><th scope=col>pvalue</th><th scope=col>SNP</th><th scope=col>quantile</th><th scope=col>exp_lrt_sl</th></tr></thead>\n",
       "<tbody>\n",
       "\t<tr><td> 9          </td><td>16335704    </td><td>G           </td><td>A           </td><td>0.194742    </td><td>147         </td><td>17.23837    </td><td>22/12/0     </td><td>9:16335704  </td><td>1.735388e-05</td><td>r40181      </td><td>0.9999528   </td><td>16.72810    </td></tr>\n",
       "\t<tr><td>21          </td><td>10182978    </td><td>G           </td><td>A           </td><td>0.275357    </td><td>147         </td><td>17.30666    </td><td>33/31/3     </td><td>21:10182978 </td><td>1.673823e-05</td><td>r93760      </td><td>0.9999622   </td><td>17.16735    </td></tr>\n",
       "\t<tr><td>15          </td><td> 4387764    </td><td>C           </td><td>T           </td><td>0.264829    </td><td>147         </td><td>18.68006    </td><td>25/26/1     </td><td>15:4387764  </td><td>8.107700e-06</td><td>r68417      </td><td>0.9999717   </td><td>17.42766    </td></tr>\n",
       "\t<tr><td> 4          </td><td> 3491306    </td><td>A           </td><td>G           </td><td>0.234541    </td><td>147         </td><td>19.32321    </td><td>34/23/0     </td><td>4:3491306   </td><td>5.779485e-06</td><td>r14897      </td><td>0.9999811   </td><td>18.41576    </td></tr>\n",
       "\t<tr><td>24          </td><td>16962690    </td><td>T           </td><td>G           </td><td>0.258409    </td><td>147         </td><td>20.29089    </td><td>10/13/0     </td><td>24:16962690 </td><td>3.476556e-06</td><td>r104351     </td><td>0.9999906   </td><td>18.76090    </td></tr>\n",
       "\t<tr><td>11          </td><td> 7825612    </td><td>T           </td><td>G           </td><td>0.206307    </td><td>147         </td><td>21.31278    </td><td>24/11/0     </td><td>11:7825612  </td><td>2.035062e-06</td><td>r50869      </td><td>1.0000000   </td><td>19.86230    </td></tr>\n",
       "</tbody>\n",
       "</table>\n"
      ],
      "text/latex": [
       "\\begin{tabular}{r|lllllllllllll}\n",
       " Chromosome & Position & Major & Minor & Frequency & N & LRT & high\\_WT/HE/HO & locus & pvalue & SNP & quantile & exp\\_lrt\\_sl\\\\\n",
       "\\hline\n",
       "\t  9           & 16335704     & G            & A            & 0.194742     & 147          & 17.23837     & 22/12/0      & 9:16335704   & 1.735388e-05 & r40181       & 0.9999528    & 16.72810    \\\\\n",
       "\t 21           & 10182978     & G            & A            & 0.275357     & 147          & 17.30666     & 33/31/3      & 21:10182978  & 1.673823e-05 & r93760       & 0.9999622    & 17.16735    \\\\\n",
       "\t 15           &  4387764     & C            & T            & 0.264829     & 147          & 18.68006     & 25/26/1      & 15:4387764   & 8.107700e-06 & r68417       & 0.9999717    & 17.42766    \\\\\n",
       "\t  4           &  3491306     & A            & G            & 0.234541     & 147          & 19.32321     & 34/23/0      & 4:3491306    & 5.779485e-06 & r14897       & 0.9999811    & 18.41576    \\\\\n",
       "\t 24           & 16962690     & T            & G            & 0.258409     & 147          & 20.29089     & 10/13/0      & 24:16962690  & 3.476556e-06 & r104351      & 0.9999906    & 18.76090    \\\\\n",
       "\t 11           &  7825612     & T            & G            & 0.206307     & 147          & 21.31278     & 24/11/0      & 11:7825612   & 2.035062e-06 & r50869       & 1.0000000    & 19.86230    \\\\\n",
       "\\end{tabular}\n"
      ],
      "text/markdown": [
       "\n",
       "| Chromosome | Position | Major | Minor | Frequency | N | LRT | high_WT/HE/HO | locus | pvalue | SNP | quantile | exp_lrt_sl |\n",
       "|---|---|---|---|---|---|---|---|---|---|---|---|---|\n",
       "|  9           | 16335704     | G            | A            | 0.194742     | 147          | 17.23837     | 22/12/0      | 9:16335704   | 1.735388e-05 | r40181       | 0.9999528    | 16.72810     |\n",
       "| 21           | 10182978     | G            | A            | 0.275357     | 147          | 17.30666     | 33/31/3      | 21:10182978  | 1.673823e-05 | r93760       | 0.9999622    | 17.16735     |\n",
       "| 15           |  4387764     | C            | T            | 0.264829     | 147          | 18.68006     | 25/26/1      | 15:4387764   | 8.107700e-06 | r68417       | 0.9999717    | 17.42766     |\n",
       "|  4           |  3491306     | A            | G            | 0.234541     | 147          | 19.32321     | 34/23/0      | 4:3491306    | 5.779485e-06 | r14897       | 0.9999811    | 18.41576     |\n",
       "| 24           | 16962690     | T            | G            | 0.258409     | 147          | 20.29089     | 10/13/0      | 24:16962690  | 3.476556e-06 | r104351      | 0.9999906    | 18.76090     |\n",
       "| 11           |  7825612     | T            | G            | 0.206307     | 147          | 21.31278     | 24/11/0      | 11:7825612   | 2.035062e-06 | r50869       | 1.0000000    | 19.86230     |\n",
       "\n"
      ],
      "text/plain": [
       "  Chromosome Position Major Minor Frequency N   LRT      high_WT/HE/HO\n",
       "1  9         16335704 G     A     0.194742  147 17.23837 22/12/0      \n",
       "2 21         10182978 G     A     0.275357  147 17.30666 33/31/3      \n",
       "3 15          4387764 C     T     0.264829  147 18.68006 25/26/1      \n",
       "4  4          3491306 A     G     0.234541  147 19.32321 34/23/0      \n",
       "5 24         16962690 T     G     0.258409  147 20.29089 10/13/0      \n",
       "6 11          7825612 T     G     0.206307  147 21.31278 24/11/0      \n",
       "  locus       pvalue       SNP     quantile  exp_lrt_sl\n",
       "1 9:16335704  1.735388e-05 r40181  0.9999528 16.72810  \n",
       "2 21:10182978 1.673823e-05 r93760  0.9999622 17.16735  \n",
       "3 15:4387764  8.107700e-06 r68417  0.9999717 17.42766  \n",
       "4 4:3491306   5.779485e-06 r14897  0.9999811 18.41576  \n",
       "5 24:16962690 3.476556e-06 r104351 0.9999906 18.76090  \n",
       "6 11:7825612  2.035062e-06 r50869  1.0000000 19.86230  "
      ]
     },
     "metadata": {},
     "output_type": "display_data"
    }
   ],
   "source": [
    "tail(lrt_filt_sl[Chromosome %in% as.character(seq(1,24,1)), Chromosome:= as.numeric(Chromosome)])"
   ]
  },
  {
   "cell_type": "code",
   "execution_count": 644,
   "id": "87a343f8",
   "metadata": {},
   "outputs": [],
   "source": [
    "candidates_ucrit[, num_chrom:=gsub(\"chr\",\"\", Chromosome)][, locus := paste(num_chrom, Position, sep=\":\")]"
   ]
  },
  {
   "cell_type": "code",
   "execution_count": 31,
   "id": "8010ec5b",
   "metadata": {},
   "outputs": [
    {
     "data": {
      "text/html": [
       "<table>\n",
       "<thead><tr><th scope=col>Chromosome</th><th scope=col>lower.2</th><th scope=col>Position</th><th scope=col>Major</th><th scope=col>Minor</th><th scope=col>Frequency</th><th scope=col>N</th><th scope=col>LRT</th><th scope=col>high_WT/HE/HO</th><th scope=col>LRTem</th><th scope=col>beta</th><th scope=col>SE</th><th scope=col>emIter</th><th scope=col>locus</th><th scope=col>pvalue</th><th scope=col>SNP</th></tr></thead>\n",
       "<tbody>\n",
       "\t<tr><td>chr13       </td><td>8.740379e-05</td><td>34982957    </td><td>A           </td><td>T           </td><td>0.143409    </td><td>159         </td><td>14.54706    </td><td>30/10/0     </td><td>15.54311    </td><td>-3.400393   </td><td>1.096761    </td><td>28          </td><td>13:34982957 </td><td>7.255504e-05</td><td>r75803      </td></tr>\n",
       "\t<tr><td>chr24       </td><td>9.140866e-05</td><td> 6021620    </td><td>T           </td><td>C           </td><td>0.139610    </td><td>159         </td><td>18.12104    </td><td>33/13/0     </td><td>19.33754    </td><td>-3.541276   </td><td>1.039912    </td><td>21          </td><td>24:6021620  </td><td>1.088639e-05</td><td>r129188     </td></tr>\n",
       "</tbody>\n",
       "</table>\n"
      ],
      "text/latex": [
       "\\begin{tabular}{r|llllllllllllllll}\n",
       " Chromosome & lower.2 & Position & Major & Minor & Frequency & N & LRT & high\\_WT/HE/HO & LRTem & beta & SE & emIter & locus & pvalue & SNP\\\\\n",
       "\\hline\n",
       "\t chr13        & 8.740379e-05 & 34982957     & A            & T            & 0.143409     & 159          & 14.54706     & 30/10/0      & 15.54311     & -3.400393    & 1.096761     & 28           & 13:34982957  & 7.255504e-05 & r75803      \\\\\n",
       "\t chr24        & 9.140866e-05 &  6021620     & T            & C            & 0.139610     & 159          & 18.12104     & 33/13/0      & 19.33754     & -3.541276    & 1.039912     & 21           & 24:6021620   & 1.088639e-05 & r129188     \\\\\n",
       "\\end{tabular}\n"
      ],
      "text/markdown": [
       "\n",
       "| Chromosome | lower.2 | Position | Major | Minor | Frequency | N | LRT | high_WT/HE/HO | LRTem | beta | SE | emIter | locus | pvalue | SNP |\n",
       "|---|---|---|---|---|---|---|---|---|---|---|---|---|---|---|---|\n",
       "| chr13        | 8.740379e-05 | 34982957     | A            | T            | 0.143409     | 159          | 14.54706     | 30/10/0      | 15.54311     | -3.400393    | 1.096761     | 28           | 13:34982957  | 7.255504e-05 | r75803       |\n",
       "| chr24        | 9.140866e-05 |  6021620     | T            | C            | 0.139610     | 159          | 18.12104     | 33/13/0      | 19.33754     | -3.541276    | 1.039912     | 21           | 24:6021620   | 1.088639e-05 | r129188      |\n",
       "\n"
      ],
      "text/plain": [
       "  Chromosome lower.2      Position Major Minor Frequency N   LRT     \n",
       "1 chr13      8.740379e-05 34982957 A     T     0.143409  159 14.54706\n",
       "2 chr24      9.140866e-05  6021620 T     C     0.139610  159 18.12104\n",
       "  high_WT/HE/HO LRTem    beta      SE       emIter locus       pvalue      \n",
       "1 30/10/0       15.54311 -3.400393 1.096761 28     13:34982957 7.255504e-05\n",
       "2 33/13/0       19.33754 -3.541276 1.039912 21     24:6021620  1.088639e-05\n",
       "  SNP    \n",
       "1 r75803 \n",
       "2 r129188"
      ]
     },
     "metadata": {},
     "output_type": "display_data"
    },
    {
     "data": {
      "text/html": [
       "<table>\n",
       "<thead><tr><th scope=col>Chromosome</th><th scope=col>lower.2</th><th scope=col>Position</th><th scope=col>Major</th><th scope=col>Minor</th><th scope=col>Frequency</th><th scope=col>N</th><th scope=col>LRT</th><th scope=col>high_WT/HE/HO</th><th scope=col>locus</th><th scope=col>pvalue</th><th scope=col>SNP</th></tr></thead>\n",
       "<tbody>\n",
       "\t<tr><td>chr1        </td><td>6.355368e-05</td><td>41916980    </td><td>A           </td><td>G           </td><td>0.227216    </td><td>147         </td><td>15.21617    </td><td>13/12/0     </td><td>1:41916980  </td><td>5.077024e-05</td><td>r3455       </td></tr>\n",
       "\t<tr><td>chr10       </td><td>4.399612e-05</td><td>13433683    </td><td>G           </td><td>A           </td><td>0.232027    </td><td>147         </td><td>16.86947    </td><td>11/14/0     </td><td>10:13433683 </td><td>2.109602e-05</td><td>r44565      </td></tr>\n",
       "\t<tr><td>chr11       </td><td>6.412735e-05</td><td>  424270    </td><td>C           </td><td>T           </td><td>0.194103    </td><td>147         </td><td>15.15145    </td><td>13/11/0     </td><td>11:424270   </td><td>5.255172e-05</td><td>r49516      </td></tr>\n",
       "\t<tr><td>chr11       </td><td>6.412735e-05</td><td> 7825612    </td><td>T           </td><td>G           </td><td>0.206307    </td><td>147         </td><td>21.31278    </td><td>24/11/0     </td><td>11:7825612  </td><td>2.035062e-06</td><td>r50869      </td></tr>\n",
       "\t<tr><td>chr12       </td><td>7.824067e-05</td><td>  993809    </td><td>C           </td><td>T           </td><td>0.236088    </td><td>147         </td><td>16.79673    </td><td>10/11/0     </td><td>12:993809   </td><td>2.192469e-05</td><td>r54294      </td></tr>\n",
       "\t<tr><td>chr13       </td><td>7.046379e-05</td><td>20903430    </td><td>C           </td><td>T           </td><td>0.224606    </td><td>147         </td><td>15.30296    </td><td>13/14/1     </td><td>13:20903430 </td><td>4.847598e-05</td><td>r58882      </td></tr>\n",
       "</tbody>\n",
       "</table>\n"
      ],
      "text/latex": [
       "\\begin{tabular}{r|llllllllllll}\n",
       " Chromosome & lower.2 & Position & Major & Minor & Frequency & N & LRT & high\\_WT/HE/HO & locus & pvalue & SNP\\\\\n",
       "\\hline\n",
       "\t chr1         & 6.355368e-05 & 41916980     & A            & G            & 0.227216     & 147          & 15.21617     & 13/12/0      & 1:41916980   & 5.077024e-05 & r3455       \\\\\n",
       "\t chr10        & 4.399612e-05 & 13433683     & G            & A            & 0.232027     & 147          & 16.86947     & 11/14/0      & 10:13433683  & 2.109602e-05 & r44565      \\\\\n",
       "\t chr11        & 6.412735e-05 &   424270     & C            & T            & 0.194103     & 147          & 15.15145     & 13/11/0      & 11:424270    & 5.255172e-05 & r49516      \\\\\n",
       "\t chr11        & 6.412735e-05 &  7825612     & T            & G            & 0.206307     & 147          & 21.31278     & 24/11/0      & 11:7825612   & 2.035062e-06 & r50869      \\\\\n",
       "\t chr12        & 7.824067e-05 &   993809     & C            & T            & 0.236088     & 147          & 16.79673     & 10/11/0      & 12:993809    & 2.192469e-05 & r54294      \\\\\n",
       "\t chr13        & 7.046379e-05 & 20903430     & C            & T            & 0.224606     & 147          & 15.30296     & 13/14/1      & 13:20903430  & 4.847598e-05 & r58882      \\\\\n",
       "\\end{tabular}\n"
      ],
      "text/markdown": [
       "\n",
       "| Chromosome | lower.2 | Position | Major | Minor | Frequency | N | LRT | high_WT/HE/HO | locus | pvalue | SNP |\n",
       "|---|---|---|---|---|---|---|---|---|---|---|---|\n",
       "| chr1         | 6.355368e-05 | 41916980     | A            | G            | 0.227216     | 147          | 15.21617     | 13/12/0      | 1:41916980   | 5.077024e-05 | r3455        |\n",
       "| chr10        | 4.399612e-05 | 13433683     | G            | A            | 0.232027     | 147          | 16.86947     | 11/14/0      | 10:13433683  | 2.109602e-05 | r44565       |\n",
       "| chr11        | 6.412735e-05 |   424270     | C            | T            | 0.194103     | 147          | 15.15145     | 13/11/0      | 11:424270    | 5.255172e-05 | r49516       |\n",
       "| chr11        | 6.412735e-05 |  7825612     | T            | G            | 0.206307     | 147          | 21.31278     | 24/11/0      | 11:7825612   | 2.035062e-06 | r50869       |\n",
       "| chr12        | 7.824067e-05 |   993809     | C            | T            | 0.236088     | 147          | 16.79673     | 10/11/0      | 12:993809    | 2.192469e-05 | r54294       |\n",
       "| chr13        | 7.046379e-05 | 20903430     | C            | T            | 0.224606     | 147          | 15.30296     | 13/14/1      | 13:20903430  | 4.847598e-05 | r58882       |\n",
       "\n"
      ],
      "text/plain": [
       "  Chromosome lower.2      Position Major Minor Frequency N   LRT     \n",
       "1 chr1       6.355368e-05 41916980 A     G     0.227216  147 15.21617\n",
       "2 chr10      4.399612e-05 13433683 G     A     0.232027  147 16.86947\n",
       "3 chr11      6.412735e-05   424270 C     T     0.194103  147 15.15145\n",
       "4 chr11      6.412735e-05  7825612 T     G     0.206307  147 21.31278\n",
       "5 chr12      7.824067e-05   993809 C     T     0.236088  147 16.79673\n",
       "6 chr13      7.046379e-05 20903430 C     T     0.224606  147 15.30296\n",
       "  high_WT/HE/HO locus       pvalue       SNP   \n",
       "1 13/12/0       1:41916980  5.077024e-05 r3455 \n",
       "2 11/14/0       10:13433683 2.109602e-05 r44565\n",
       "3 13/11/0       11:424270   5.255172e-05 r49516\n",
       "4 24/11/0       11:7825612  2.035062e-06 r50869\n",
       "5 10/11/0       12:993809   2.192469e-05 r54294\n",
       "6 13/14/1       13:20903430 4.847598e-05 r58882"
      ]
     },
     "metadata": {},
     "output_type": "display_data"
    }
   ],
   "source": [
    "head(ucrit_null.2)\n",
    "head(sl_null.2)"
   ]
  },
  {
   "cell_type": "code",
   "execution_count": 29,
   "id": "e5a0d4ba",
   "metadata": {},
   "outputs": [
    {
     "data": {
      "text/html": [
       "<strong>20%:</strong> 6.88871062944131e-05"
      ],
      "text/latex": [
       "\\textbf{20\\textbackslash{}\\%:} 6.88871062944131e-05"
      ],
      "text/markdown": [
       "**20%:** 6.88871062944131e-05"
      ],
      "text/plain": [
       "         20% \n",
       "6.888711e-05 "
      ]
     },
     "metadata": {},
     "output_type": "display_data"
    },
    {
     "data": {
      "text/html": [
       "<strong>20%:</strong> 6.09507619529606e-05"
      ],
      "text/latex": [
       "\\textbf{20\\textbackslash{}\\%:} 6.09507619529606e-05"
      ],
      "text/markdown": [
       "**20%:** 6.09507619529606e-05"
      ],
      "text/plain": [
       "         20% \n",
       "6.095076e-05 "
      ]
     },
     "metadata": {},
     "output_type": "display_data"
    }
   ],
   "source": [
    "quantile(ucrit_null_chrom$min_pvalue, 0.2)\n",
    "quantile(sl_null_chrom$min_pvalue, 0.2)"
   ]
  },
  {
   "cell_type": "code",
   "execution_count": 66,
   "id": "47fcd5ac",
   "metadata": {},
   "outputs": [
    {
     "data": {
      "text/html": [
       "<table>\n",
       "<thead><tr><th scope=col>Chromosome</th><th scope=col>Position</th><th scope=col>Major</th><th scope=col>Minor</th><th scope=col>Frequency</th><th scope=col>N</th><th scope=col>LRT</th><th scope=col>high_WT/HE/HO</th><th scope=col>LRTem</th><th scope=col>beta</th><th scope=col>SE</th><th scope=col>emIter</th><th scope=col>locus</th><th scope=col>pvalue</th><th scope=col>SNP</th><th scope=col>Chromosome_man</th></tr></thead>\n",
       "<tbody>\n",
       "\t<tr><td>chr24      </td><td>23705403   </td><td>G          </td><td>A          </td><td>0.160159   </td><td>159        </td><td>1.962843   </td><td>25/10/0    </td><td>NaN        </td><td>NaN        </td><td>NaN        </td><td>0          </td><td>24:23705403</td><td>0.1067189  </td><td>r132095    </td><td>24         </td></tr>\n",
       "\t<tr><td>chr24      </td><td>23705578   </td><td>G          </td><td>C          </td><td>0.126338   </td><td>159        </td><td>1.006288   </td><td>33/11/0    </td><td>NaN        </td><td>NaN        </td><td>NaN        </td><td>0          </td><td>24:23705578</td><td>0.2404564  </td><td>r132096    </td><td>24         </td></tr>\n",
       "\t<tr><td>chr24      </td><td>23705615   </td><td>G          </td><td>A          </td><td>0.057987   </td><td>159        </td><td>0.079244   </td><td>105/10/0   </td><td>NaN        </td><td>NaN        </td><td>NaN        </td><td>0          </td><td>24:23705615</td><td>1.3621322  </td><td>r132097    </td><td>24         </td></tr>\n",
       "\t<tr><td>chr24      </td><td>23705639   </td><td>A          </td><td>C          </td><td>0.090435   </td><td>159        </td><td>0.025419   </td><td>98/14/0    </td><td>NaN        </td><td>NaN        </td><td>NaN        </td><td>0          </td><td>24:23705639</td><td>2.4706497  </td><td>r132098    </td><td>24         </td></tr>\n",
       "\t<tr><td>chr24      </td><td>23705661   </td><td>T          </td><td>A          </td><td>0.132220   </td><td>159        </td><td>0.025550   </td><td>50/11/0    </td><td>NaN        </td><td>NaN        </td><td>NaN        </td><td>0          </td><td>24:23705661</td><td>2.4641464  </td><td>r132099    </td><td>24         </td></tr>\n",
       "\t<tr><td>chr24      </td><td>23722269   </td><td>A          </td><td>G          </td><td>0.099589   </td><td>159        </td><td>0.554008   </td><td>95/12/0    </td><td>NaN        </td><td>NaN        </td><td>NaN        </td><td>0          </td><td>24:23722269</td><td>0.4063037  </td><td>r132100    </td><td>24         </td></tr>\n",
       "</tbody>\n",
       "</table>\n"
      ],
      "text/latex": [
       "\\begin{tabular}{r|llllllllllllllll}\n",
       " Chromosome & Position & Major & Minor & Frequency & N & LRT & high\\_WT/HE/HO & LRTem & beta & SE & emIter & locus & pvalue & SNP & Chromosome\\_man\\\\\n",
       "\\hline\n",
       "\t chr24       & 23705403    & G           & A           & 0.160159    & 159         & 1.962843    & 25/10/0     & NaN         & NaN         & NaN         & 0           & 24:23705403 & 0.1067189   & r132095     & 24         \\\\\n",
       "\t chr24       & 23705578    & G           & C           & 0.126338    & 159         & 1.006288    & 33/11/0     & NaN         & NaN         & NaN         & 0           & 24:23705578 & 0.2404564   & r132096     & 24         \\\\\n",
       "\t chr24       & 23705615    & G           & A           & 0.057987    & 159         & 0.079244    & 105/10/0    & NaN         & NaN         & NaN         & 0           & 24:23705615 & 1.3621322   & r132097     & 24         \\\\\n",
       "\t chr24       & 23705639    & A           & C           & 0.090435    & 159         & 0.025419    & 98/14/0     & NaN         & NaN         & NaN         & 0           & 24:23705639 & 2.4706497   & r132098     & 24         \\\\\n",
       "\t chr24       & 23705661    & T           & A           & 0.132220    & 159         & 0.025550    & 50/11/0     & NaN         & NaN         & NaN         & 0           & 24:23705661 & 2.4641464   & r132099     & 24         \\\\\n",
       "\t chr24       & 23722269    & A           & G           & 0.099589    & 159         & 0.554008    & 95/12/0     & NaN         & NaN         & NaN         & 0           & 24:23722269 & 0.4063037   & r132100     & 24         \\\\\n",
       "\\end{tabular}\n"
      ],
      "text/markdown": [
       "\n",
       "| Chromosome | Position | Major | Minor | Frequency | N | LRT | high_WT/HE/HO | LRTem | beta | SE | emIter | locus | pvalue | SNP | Chromosome_man |\n",
       "|---|---|---|---|---|---|---|---|---|---|---|---|---|---|---|---|\n",
       "| chr24       | 23705403    | G           | A           | 0.160159    | 159         | 1.962843    | 25/10/0     | NaN         | NaN         | NaN         | 0           | 24:23705403 | 0.1067189   | r132095     | 24          |\n",
       "| chr24       | 23705578    | G           | C           | 0.126338    | 159         | 1.006288    | 33/11/0     | NaN         | NaN         | NaN         | 0           | 24:23705578 | 0.2404564   | r132096     | 24          |\n",
       "| chr24       | 23705615    | G           | A           | 0.057987    | 159         | 0.079244    | 105/10/0    | NaN         | NaN         | NaN         | 0           | 24:23705615 | 1.3621322   | r132097     | 24          |\n",
       "| chr24       | 23705639    | A           | C           | 0.090435    | 159         | 0.025419    | 98/14/0     | NaN         | NaN         | NaN         | 0           | 24:23705639 | 2.4706497   | r132098     | 24          |\n",
       "| chr24       | 23705661    | T           | A           | 0.132220    | 159         | 0.025550    | 50/11/0     | NaN         | NaN         | NaN         | 0           | 24:23705661 | 2.4641464   | r132099     | 24          |\n",
       "| chr24       | 23722269    | A           | G           | 0.099589    | 159         | 0.554008    | 95/12/0     | NaN         | NaN         | NaN         | 0           | 24:23722269 | 0.4063037   | r132100     | 24          |\n",
       "\n"
      ],
      "text/plain": [
       "  Chromosome Position Major Minor Frequency N   LRT      high_WT/HE/HO LRTem\n",
       "1 chr24      23705403 G     A     0.160159  159 1.962843 25/10/0       NaN  \n",
       "2 chr24      23705578 G     C     0.126338  159 1.006288 33/11/0       NaN  \n",
       "3 chr24      23705615 G     A     0.057987  159 0.079244 105/10/0      NaN  \n",
       "4 chr24      23705639 A     C     0.090435  159 0.025419 98/14/0       NaN  \n",
       "5 chr24      23705661 T     A     0.132220  159 0.025550 50/11/0       NaN  \n",
       "6 chr24      23722269 A     G     0.099589  159 0.554008 95/12/0       NaN  \n",
       "  beta SE  emIter locus       pvalue    SNP     Chromosome_man\n",
       "1 NaN  NaN 0      24:23705403 0.1067189 r132095 24            \n",
       "2 NaN  NaN 0      24:23705578 0.2404564 r132096 24            \n",
       "3 NaN  NaN 0      24:23705615 1.3621322 r132097 24            \n",
       "4 NaN  NaN 0      24:23705639 2.4706497 r132098 24            \n",
       "5 NaN  NaN 0      24:23705661 2.4641464 r132099 24            \n",
       "6 NaN  NaN 0      24:23722269 0.4063037 r132100 24            "
      ]
     },
     "metadata": {},
     "output_type": "display_data"
    }
   ],
   "source": [
    "lrt_filt_ucrit[,Chromosome_man := gsub(\"chr\", \"\", Chromosome)][, Chromosome_man:=as.numeric(Chromosome_man)]\n",
    "tail(lrt_filt_ucrit)#[Chromosome %like% \"chr\"][,Chromosome_man := gsub(\"chr\", \"\", Chromosome)][, Chromosome_man:=as.numeric(Chromosome_man)])"
   ]
  },
  {
   "cell_type": "code",
   "execution_count": 184,
   "id": "634541ad",
   "metadata": {},
   "outputs": [
    {
     "data": {
      "text/html": [
       "<strong>png:</strong> 2"
      ],
      "text/latex": [
       "\\textbf{png:} 2"
      ],
      "text/markdown": [
       "**png:** 2"
      ],
      "text/plain": [
       "png \n",
       "  2 "
      ]
     },
     "metadata": {},
     "output_type": "display_data"
    }
   ],
   "source": [
    "gw_ucrit <- quantile(ucrit_null_chrom$min_pvalue, .05)[[1]]\n",
    "png(\"/data/katrinac/APPC_sequencing/DNA/trimmed_reads/mapping/ensembl/genotypes/angsd/results/ucrit_manhattan_chrom_null_sig.05.png\")\n",
    "qqman::manhattan(lrt_filt_ucrit, chr=\"Chromosome_man\", bp=\"Position\", p=\"pvalue\", genomewideline = -log10(gw_ucrit), suggestiveline = F,ylim = c(0, 6)) #, highlight =lrt_filt_ucrit[locus %in% ucrit_null.2[,locus], SNP]\n",
    "dev.off()\n",
    "#gw_ucrit"
   ]
  },
  {
   "cell_type": "code",
   "execution_count": null,
   "id": "ddc09a08",
   "metadata": {},
   "outputs": [],
   "source": []
  },
  {
   "cell_type": "code",
   "execution_count": 577,
   "id": "9b532198",
   "metadata": {
    "scrolled": true
   },
   "outputs": [
    {
     "data": {
      "text/html": [
       "<table>\n",
       "<thead><tr><th scope=col>Chromosome</th><th scope=col>Position</th></tr></thead>\n",
       "<tbody>\n",
       "\t<tr><td>chr24  </td><td>6021620</td></tr>\n",
       "</tbody>\n",
       "</table>\n"
      ],
      "text/latex": [
       "\\begin{tabular}{r|ll}\n",
       " Chromosome & Position\\\\\n",
       "\\hline\n",
       "\t chr24   & 6021620\\\\\n",
       "\\end{tabular}\n"
      ],
      "text/markdown": [
       "\n",
       "| Chromosome | Position |\n",
       "|---|---|\n",
       "| chr24   | 6021620 |\n",
       "\n"
      ],
      "text/plain": [
       "  Chromosome Position\n",
       "1 chr24      6021620 "
      ]
     },
     "metadata": {},
     "output_type": "display_data"
    },
    {
     "data": {
      "text/html": [
       "<table>\n",
       "<thead><tr><th scope=col>Chromosome</th><th scope=col>Position</th></tr></thead>\n",
       "<tbody>\n",
       "\t<tr><td>chr24  </td><td>6021620</td></tr>\n",
       "</tbody>\n",
       "</table>\n"
      ],
      "text/latex": [
       "\\begin{tabular}{r|ll}\n",
       " Chromosome & Position\\\\\n",
       "\\hline\n",
       "\t chr24   & 6021620\\\\\n",
       "\\end{tabular}\n"
      ],
      "text/markdown": [
       "\n",
       "| Chromosome | Position |\n",
       "|---|---|\n",
       "| chr24   | 6021620 |\n",
       "\n"
      ],
      "text/plain": [
       "  Chromosome Position\n",
       "1 chr24      6021620 "
      ]
     },
     "metadata": {},
     "output_type": "display_data"
    },
    {
     "data": {
      "text/html": [
       "<table>\n",
       "<thead><tr><th scope=col>Chromosome</th><th scope=col>Position</th></tr></thead>\n",
       "<tbody>\n",
       "\t<tr><td>chr11   </td><td> 7825612</td></tr>\n",
       "\t<tr><td>chr24   </td><td>16962690</td></tr>\n",
       "\t<tr><td>chr4    </td><td> 3491306</td></tr>\n",
       "\t<tr><td>chr4    </td><td> 3491306</td></tr>\n",
       "\t<tr><td>chr15   </td><td> 4387764</td></tr>\n",
       "\t<tr><td>chr4    </td><td> 7504287</td></tr>\n",
       "</tbody>\n",
       "</table>\n"
      ],
      "text/latex": [
       "\\begin{tabular}{r|ll}\n",
       " Chromosome & Position\\\\\n",
       "\\hline\n",
       "\t chr11    &  7825612\\\\\n",
       "\t chr24    & 16962690\\\\\n",
       "\t chr4     &  3491306\\\\\n",
       "\t chr4     &  3491306\\\\\n",
       "\t chr15    &  4387764\\\\\n",
       "\t chr4     &  7504287\\\\\n",
       "\\end{tabular}\n"
      ],
      "text/markdown": [
       "\n",
       "| Chromosome | Position |\n",
       "|---|---|\n",
       "| chr11    |  7825612 |\n",
       "| chr24    | 16962690 |\n",
       "| chr4     |  3491306 |\n",
       "| chr4     |  3491306 |\n",
       "| chr15    |  4387764 |\n",
       "| chr4     |  7504287 |\n",
       "\n"
      ],
      "text/plain": [
       "  Chromosome Position\n",
       "1 chr11       7825612\n",
       "2 chr24      16962690\n",
       "3 chr4        3491306\n",
       "4 chr4        3491306\n",
       "5 chr15       4387764\n",
       "6 chr4        7504287"
      ]
     },
     "metadata": {},
     "output_type": "display_data"
    }
   ],
   "source": [
    "head(candidate_ucrit_chrom_bh[, .(Chromosome, Position)])\n",
    "head(ucrit_null.25[, .(Chromosome, Position)])\n",
    "head(candidate_sl_chrom_bh[, .(Chromosome, Position)])"
   ]
  },
  {
   "cell_type": "code",
   "execution_count": 157,
   "id": "0f25d03e",
   "metadata": {},
   "outputs": [
    {
     "data": {
      "text/html": [
       "<table>\n",
       "<thead><tr><th scope=col>Chromosome</th><th scope=col>Position</th></tr></thead>\n",
       "<tbody>\n",
       "\t<tr><td>chr13   </td><td>34982957</td></tr>\n",
       "\t<tr><td>chr24   </td><td> 6021620</td></tr>\n",
       "\t<tr><td>chr5    </td><td>37582791</td></tr>\n",
       "</tbody>\n",
       "</table>\n"
      ],
      "text/latex": [
       "\\begin{tabular}{r|ll}\n",
       " Chromosome & Position\\\\\n",
       "\\hline\n",
       "\t chr13    & 34982957\\\\\n",
       "\t chr24    &  6021620\\\\\n",
       "\t chr5     & 37582791\\\\\n",
       "\\end{tabular}\n"
      ],
      "text/markdown": [
       "\n",
       "| Chromosome | Position |\n",
       "|---|---|\n",
       "| chr13    | 34982957 |\n",
       "| chr24    |  6021620 |\n",
       "| chr5     | 37582791 |\n",
       "\n"
      ],
      "text/plain": [
       "  Chromosome Position\n",
       "1 chr13      34982957\n",
       "2 chr24       6021620\n",
       "3 chr5       37582791"
      ]
     },
     "metadata": {},
     "output_type": "display_data"
    },
    {
     "data": {
      "text/html": [
       "6.88871062944131e-05"
      ],
      "text/latex": [
       "6.88871062944131e-05"
      ],
      "text/markdown": [
       "6.88871062944131e-05"
      ],
      "text/plain": [
       "[1] 6.888711e-05"
      ]
     },
     "metadata": {},
     "output_type": "display_data"
    }
   ],
   "source": [
    "ucrit_cand <- rbind(ucrit_null.2[, .(Chromosome, Position)], lrt_filt_ucrit[pvalue <=gw_ucrit, .(Chromosome, Position)])\n",
    "ucrit_cand <- unique(ucrit_cand)\n",
    "(ucrit_cand)\n",
    "gw_ucrit"
   ]
  },
  {
   "cell_type": "code",
   "execution_count": 158,
   "id": "318aa72b",
   "metadata": {},
   "outputs": [
    {
     "data": {
      "text/html": [
       "<table>\n",
       "<thead><tr><th scope=col>Chromosome</th><th scope=col>Position</th><th scope=col>Major</th><th scope=col>Minor</th><th scope=col>Frequency</th><th scope=col>N</th><th scope=col>LRT</th><th scope=col>high_WT/HE/HO</th><th scope=col>LRTem</th><th scope=col>beta</th><th scope=col>SE</th><th scope=col>emIter</th><th scope=col>locus</th><th scope=col>pvalue</th><th scope=col>SNP</th><th scope=col>Chromosome_man</th></tr></thead>\n",
       "<tbody>\n",
       "\t<tr><td>chr13       </td><td>34982957    </td><td>A           </td><td>T           </td><td>0.143409    </td><td>159         </td><td>14.54706    </td><td>30/10/0     </td><td>15.54311    </td><td>-3.400393   </td><td>1.096761    </td><td>28          </td><td>13:34982957 </td><td>7.255504e-05</td><td>r75803      </td><td>13          </td></tr>\n",
       "</tbody>\n",
       "</table>\n"
      ],
      "text/latex": [
       "\\begin{tabular}{r|llllllllllllllll}\n",
       " Chromosome & Position & Major & Minor & Frequency & N & LRT & high\\_WT/HE/HO & LRTem & beta & SE & emIter & locus & pvalue & SNP & Chromosome\\_man\\\\\n",
       "\\hline\n",
       "\t chr13        & 34982957     & A            & T            & 0.143409     & 159          & 14.54706     & 30/10/0      & 15.54311     & -3.400393    & 1.096761     & 28           & 13:34982957  & 7.255504e-05 & r75803       & 13          \\\\\n",
       "\\end{tabular}\n"
      ],
      "text/markdown": [
       "\n",
       "| Chromosome | Position | Major | Minor | Frequency | N | LRT | high_WT/HE/HO | LRTem | beta | SE | emIter | locus | pvalue | SNP | Chromosome_man |\n",
       "|---|---|---|---|---|---|---|---|---|---|---|---|---|---|---|---|\n",
       "| chr13        | 34982957     | A            | T            | 0.143409     | 159          | 14.54706     | 30/10/0      | 15.54311     | -3.400393    | 1.096761     | 28           | 13:34982957  | 7.255504e-05 | r75803       | 13           |\n",
       "\n"
      ],
      "text/plain": [
       "  Chromosome Position Major Minor Frequency N   LRT      high_WT/HE/HO LRTem   \n",
       "1 chr13      34982957 A     T     0.143409  159 14.54706 30/10/0       15.54311\n",
       "  beta      SE       emIter locus       pvalue       SNP    Chromosome_man\n",
       "1 -3.400393 1.096761 28     13:34982957 7.255504e-05 r75803 13            "
      ]
     },
     "metadata": {},
     "output_type": "display_data"
    }
   ],
   "source": [
    "lrt_filt_ucrit[Chromosome==\"chr13\" & Position==\"34982957\"]"
   ]
  },
  {
   "cell_type": "code",
   "execution_count": 159,
   "id": "51bb6a3d",
   "metadata": {},
   "outputs": [
    {
     "data": {
      "text/html": [
       "<table>\n",
       "<thead><tr><th scope=col>Chromosome</th><th scope=col>Position</th></tr></thead>\n",
       "<tbody>\n",
       "\t<tr><td>chr1    </td><td>41916980</td></tr>\n",
       "\t<tr><td>chr10   </td><td>13433683</td></tr>\n",
       "\t<tr><td>chr11   </td><td>  424270</td></tr>\n",
       "\t<tr><td>chr11   </td><td> 7825612</td></tr>\n",
       "\t<tr><td>chr12   </td><td>  993809</td></tr>\n",
       "\t<tr><td>chr13   </td><td>20903430</td></tr>\n",
       "\t<tr><td>chr15   </td><td> 4387764</td></tr>\n",
       "\t<tr><td>chr17   </td><td>32662287</td></tr>\n",
       "\t<tr><td>chr20   </td><td>16885735</td></tr>\n",
       "\t<tr><td>chr20   </td><td>32392972</td></tr>\n",
       "\t<tr><td>chr20   </td><td>32944403</td></tr>\n",
       "\t<tr><td>chr21   </td><td>10182978</td></tr>\n",
       "\t<tr><td>chr22   </td><td>  584368</td></tr>\n",
       "\t<tr><td>chr24   </td><td>16962690</td></tr>\n",
       "\t<tr><td>chr4    </td><td> 3491306</td></tr>\n",
       "\t<tr><td>chr4    </td><td> 7504287</td></tr>\n",
       "\t<tr><td>chr5    </td><td>26596315</td></tr>\n",
       "\t<tr><td>chr7    </td><td> 5228067</td></tr>\n",
       "\t<tr><td>chr7    </td><td> 5427397</td></tr>\n",
       "\t<tr><td>chr7    </td><td>27881403</td></tr>\n",
       "\t<tr><td>chr9    </td><td> 4203954</td></tr>\n",
       "\t<tr><td>chr9    </td><td>16335704</td></tr>\n",
       "\t<tr><td>chr17   </td><td>17030428</td></tr>\n",
       "\t<tr><td>chr17   </td><td>32873421</td></tr>\n",
       "\t<tr><td>chr17   </td><td>33036607</td></tr>\n",
       "</tbody>\n",
       "</table>\n"
      ],
      "text/latex": [
       "\\begin{tabular}{r|ll}\n",
       " Chromosome & Position\\\\\n",
       "\\hline\n",
       "\t chr1     & 41916980\\\\\n",
       "\t chr10    & 13433683\\\\\n",
       "\t chr11    &   424270\\\\\n",
       "\t chr11    &  7825612\\\\\n",
       "\t chr12    &   993809\\\\\n",
       "\t chr13    & 20903430\\\\\n",
       "\t chr15    &  4387764\\\\\n",
       "\t chr17    & 32662287\\\\\n",
       "\t chr20    & 16885735\\\\\n",
       "\t chr20    & 32392972\\\\\n",
       "\t chr20    & 32944403\\\\\n",
       "\t chr21    & 10182978\\\\\n",
       "\t chr22    &   584368\\\\\n",
       "\t chr24    & 16962690\\\\\n",
       "\t chr4     &  3491306\\\\\n",
       "\t chr4     &  7504287\\\\\n",
       "\t chr5     & 26596315\\\\\n",
       "\t chr7     &  5228067\\\\\n",
       "\t chr7     &  5427397\\\\\n",
       "\t chr7     & 27881403\\\\\n",
       "\t chr9     &  4203954\\\\\n",
       "\t chr9     & 16335704\\\\\n",
       "\t chr17    & 17030428\\\\\n",
       "\t chr17    & 32873421\\\\\n",
       "\t chr17    & 33036607\\\\\n",
       "\\end{tabular}\n"
      ],
      "text/markdown": [
       "\n",
       "| Chromosome | Position |\n",
       "|---|---|\n",
       "| chr1     | 41916980 |\n",
       "| chr10    | 13433683 |\n",
       "| chr11    |   424270 |\n",
       "| chr11    |  7825612 |\n",
       "| chr12    |   993809 |\n",
       "| chr13    | 20903430 |\n",
       "| chr15    |  4387764 |\n",
       "| chr17    | 32662287 |\n",
       "| chr20    | 16885735 |\n",
       "| chr20    | 32392972 |\n",
       "| chr20    | 32944403 |\n",
       "| chr21    | 10182978 |\n",
       "| chr22    |   584368 |\n",
       "| chr24    | 16962690 |\n",
       "| chr4     |  3491306 |\n",
       "| chr4     |  7504287 |\n",
       "| chr5     | 26596315 |\n",
       "| chr7     |  5228067 |\n",
       "| chr7     |  5427397 |\n",
       "| chr7     | 27881403 |\n",
       "| chr9     |  4203954 |\n",
       "| chr9     | 16335704 |\n",
       "| chr17    | 17030428 |\n",
       "| chr17    | 32873421 |\n",
       "| chr17    | 33036607 |\n",
       "\n"
      ],
      "text/plain": [
       "   Chromosome Position\n",
       "1  chr1       41916980\n",
       "2  chr10      13433683\n",
       "3  chr11        424270\n",
       "4  chr11       7825612\n",
       "5  chr12        993809\n",
       "6  chr13      20903430\n",
       "7  chr15       4387764\n",
       "8  chr17      32662287\n",
       "9  chr20      16885735\n",
       "10 chr20      32392972\n",
       "11 chr20      32944403\n",
       "12 chr21      10182978\n",
       "13 chr22        584368\n",
       "14 chr24      16962690\n",
       "15 chr4        3491306\n",
       "16 chr4        7504287\n",
       "17 chr5       26596315\n",
       "18 chr7        5228067\n",
       "19 chr7        5427397\n",
       "20 chr7       27881403\n",
       "21 chr9        4203954\n",
       "22 chr9       16335704\n",
       "23 chr17      17030428\n",
       "24 chr17      32873421\n",
       "25 chr17      33036607"
      ]
     },
     "metadata": {},
     "output_type": "display_data"
    }
   ],
   "source": [
    "sl_cand <- rbind(sl_null.2[, .(Chromosome, Position)], lrt_filt_sl[pvalue <=gw_sl, .(Chromosome, Position)])\n",
    "sl_cand <- unique(sl_cand)\n",
    "(sl_cand)"
   ]
  },
  {
   "cell_type": "code",
   "execution_count": 62,
   "id": "093a2c31",
   "metadata": {},
   "outputs": [],
   "source": [
    "fwrite(ucrit_cand[,.(Chromosome=gsub(\"chr\", \"\", Chromosome), start=Position-2000, end=Position+2000)], \"/data/katrinac/APPC_sequencing/DNA/trimmed_reads/mapping/ensembl/genotypes/angsd/results/null_candidates_ucrit_loci2kbp.bed\", sep=\"\\t\", col.names = F)"
   ]
  },
  {
   "cell_type": "code",
   "execution_count": 77,
   "id": "e958395e",
   "metadata": {},
   "outputs": [
    {
     "data": {
      "text/html": [
       "<table>\n",
       "<thead><tr><th scope=col>Chromosome</th><th scope=col>start</th><th scope=col>end</th></tr></thead>\n",
       "<tbody>\n",
       "\t<tr><td>13      </td><td>34979957</td><td>34985957</td></tr>\n",
       "\t<tr><td>24      </td><td> 6018620</td><td> 6024620</td></tr>\n",
       "\t<tr><td>5       </td><td>37579791</td><td>37585791</td></tr>\n",
       "</tbody>\n",
       "</table>\n"
      ],
      "text/latex": [
       "\\begin{tabular}{r|lll}\n",
       " Chromosome & start & end\\\\\n",
       "\\hline\n",
       "\t 13       & 34979957 & 34985957\\\\\n",
       "\t 24       &  6018620 &  6024620\\\\\n",
       "\t 5        & 37579791 & 37585791\\\\\n",
       "\\end{tabular}\n"
      ],
      "text/markdown": [
       "\n",
       "| Chromosome | start | end |\n",
       "|---|---|---|\n",
       "| 13       | 34979957 | 34985957 |\n",
       "| 24       |  6018620 |  6024620 |\n",
       "| 5        | 37579791 | 37585791 |\n",
       "\n"
      ],
      "text/plain": [
       "  Chromosome start    end     \n",
       "1 13         34979957 34985957\n",
       "2 24          6018620  6024620\n",
       "3 5          37579791 37585791"
      ]
     },
     "metadata": {},
     "output_type": "display_data"
    }
   ],
   "source": [
    "ucrit_cand[,.(Chromosome=gsub(\"chr\", \"\", Chromosome), start=Position-3000, end=Position+3000)]"
   ]
  },
  {
   "cell_type": "code",
   "execution_count": 68,
   "id": "1d32acbb",
   "metadata": {},
   "outputs": [],
   "source": [
    "fwrite(sl_cand[,.(Chromosome=gsub(\"chr\", \"\", Chromosome), start=Position-2000, end=Position+2000)], \"/data/katrinac/APPC_sequencing/DNA/trimmed_reads/mapping/ensembl/genotypes/angsd/results/null_candidates_sl_loci2kbp.bed\", sep=\"\\t\", col.names = F)"
   ]
  },
  {
   "cell_type": "markdown",
   "id": "c0a4b36d",
   "metadata": {},
   "source": [
    "__write out the candidate positions to find closest feature in percula genome or blast__"
   ]
  },
  {
   "cell_type": "code",
   "execution_count": 601,
   "id": "b538950d",
   "metadata": {},
   "outputs": [],
   "source": [
    "candidates_sl_bedops <- candidates_sl[,.( Chromosome, start=Position-50, end=Position+50)]#, range=paste0(start, end, sep=\"-\"))]\n",
    "candidates_ucrit_bedops <- candidates_ucrit[,.( Chromosome, start=Position-50, end=Position+50)]#, range=paste0(start, end, sep=\"-\"))]\n",
    "#fwrite(candidates_sl_bedops[,.(Chromosome, start, end)], \"/data/katrinac/APPC_sequencing/DNA/trimmed_reads/mapping/ensembl/genotypes/angsd/results/candidates_sl_loci50bp.bed\", sep=\"\\t\", col.names = F)\n",
    "#fwrite(candidates_ucrit_bedops[,.(Chromosome, start, end)], \"/data/katrinac/APPC_sequencing/DNA/trimmed_reads/mapping/ensembl/genotypes/angsd/results/candidates_ucrit_loci50bp.bed\", sep=\"\\t\", col.names = F)"
   ]
  },
  {
   "cell_type": "markdown",
   "id": "47357596",
   "metadata": {},
   "source": [
    "__read in and sort the blast results__"
   ]
  },
  {
   "cell_type": "code",
   "execution_count": 144,
   "id": "586b90b6",
   "metadata": {},
   "outputs": [],
   "source": [
    "sl_oce <- fread(\"/data/katrinac/APPC_sequencing/DNA/trimmed_reads/mapping/ensembl/genotypes/angsd/results/sl_null_7U1U4RGP016-Alignment-HitTable.csv\")"
   ]
  },
  {
   "cell_type": "code",
   "execution_count": 148,
   "id": "816497b5",
   "metadata": {},
   "outputs": [],
   "source": [
    "sl_oce_best <- unique(sl_oce[, .(seqid=V1, accession=V2, per_id=V3)][per_id==max(per_id), .(accession, per_id), by=\"seqid\"], by=\"seqid\")"
   ]
  },
  {
   "cell_type": "code",
   "execution_count": 152,
   "id": "0abf5e81",
   "metadata": {},
   "outputs": [
    {
     "data": {
      "text/html": [
       "<table>\n",
       "<thead><tr><th scope=col>seqid</th><th scope=col>accession</th><th scope=col>per_id</th></tr></thead>\n",
       "<tbody>\n",
       "\t<tr><td>1:41913981-41919980 </td><td>XM_035954527.1      </td><td>100                 </td></tr>\n",
       "\t<tr><td>4:3488307-3494306   </td><td>XM_023271958.2      </td><td>100                 </td></tr>\n",
       "\t<tr><td>5:26593316-26599315 </td><td>XM_023282415.2      </td><td>100                 </td></tr>\n",
       "\t<tr><td>7:5225068-5231067   </td><td>XM_023271457.2      </td><td>100                 </td></tr>\n",
       "\t<tr><td>7:5424398-5430397   </td><td>XR_004848333.1      </td><td>100                 </td></tr>\n",
       "\t<tr><td>7:27878404-27884403 </td><td>XM_023281584.2      </td><td>100                 </td></tr>\n",
       "\t<tr><td>9:4200955-4206954   </td><td>XM_023272690.2      </td><td>100                 </td></tr>\n",
       "\t<tr><td>9:16332705-16338704 </td><td>XM_023285552.2      </td><td>100                 </td></tr>\n",
       "\t<tr><td>10:13430684-13436683</td><td>XM_023282991.2      </td><td>100                 </td></tr>\n",
       "\t<tr><td>11:7822613-7828612  </td><td>XM_023267040.2      </td><td>100                 </td></tr>\n",
       "\t<tr><td>12:990810-996809    </td><td>XM_023293069.2      </td><td>100                 </td></tr>\n",
       "\t<tr><td>13:20900431-20906430</td><td>XM_023287203.2      </td><td>100                 </td></tr>\n",
       "\t<tr><td>15:4384765-4390764  </td><td>XM_023265270.2      </td><td>100                 </td></tr>\n",
       "\t<tr><td>17:32659288-32665287</td><td>XR_004847555.1      </td><td>100                 </td></tr>\n",
       "\t<tr><td>17:32870422-32876421</td><td>XR_004846287.1      </td><td>100                 </td></tr>\n",
       "\t<tr><td>17:33033608-33039607</td><td>XM_035944614.1      </td><td>100                 </td></tr>\n",
       "\t<tr><td>20:16882736-16888735</td><td>XM_023277046.2      </td><td>100                 </td></tr>\n",
       "\t<tr><td>20:32941404-32947403</td><td>XM_023295727.2      </td><td>100                 </td></tr>\n",
       "\t<tr><td>21:10179979-10185978</td><td>XM_023277704.2      </td><td>100                 </td></tr>\n",
       "\t<tr><td>22:581369-587368    </td><td>XR_004846212.1      </td><td>100                 </td></tr>\n",
       "</tbody>\n",
       "</table>\n"
      ],
      "text/latex": [
       "\\begin{tabular}{r|lll}\n",
       " seqid & accession & per\\_id\\\\\n",
       "\\hline\n",
       "\t 1:41913981-41919980  & XM\\_035954527.1     & 100                 \\\\\n",
       "\t 4:3488307-3494306    & XM\\_023271958.2     & 100                 \\\\\n",
       "\t 5:26593316-26599315  & XM\\_023282415.2     & 100                 \\\\\n",
       "\t 7:5225068-5231067    & XM\\_023271457.2     & 100                 \\\\\n",
       "\t 7:5424398-5430397    & XR\\_004848333.1     & 100                 \\\\\n",
       "\t 7:27878404-27884403  & XM\\_023281584.2     & 100                 \\\\\n",
       "\t 9:4200955-4206954    & XM\\_023272690.2     & 100                 \\\\\n",
       "\t 9:16332705-16338704  & XM\\_023285552.2     & 100                 \\\\\n",
       "\t 10:13430684-13436683 & XM\\_023282991.2     & 100                 \\\\\n",
       "\t 11:7822613-7828612   & XM\\_023267040.2     & 100                 \\\\\n",
       "\t 12:990810-996809     & XM\\_023293069.2     & 100                 \\\\\n",
       "\t 13:20900431-20906430 & XM\\_023287203.2     & 100                 \\\\\n",
       "\t 15:4384765-4390764   & XM\\_023265270.2     & 100                 \\\\\n",
       "\t 17:32659288-32665287 & XR\\_004847555.1     & 100                 \\\\\n",
       "\t 17:32870422-32876421 & XR\\_004846287.1     & 100                 \\\\\n",
       "\t 17:33033608-33039607 & XM\\_035944614.1     & 100                 \\\\\n",
       "\t 20:16882736-16888735 & XM\\_023277046.2     & 100                 \\\\\n",
       "\t 20:32941404-32947403 & XM\\_023295727.2     & 100                 \\\\\n",
       "\t 21:10179979-10185978 & XM\\_023277704.2     & 100                 \\\\\n",
       "\t 22:581369-587368     & XR\\_004846212.1     & 100                 \\\\\n",
       "\\end{tabular}\n"
      ],
      "text/markdown": [
       "\n",
       "| seqid | accession | per_id |\n",
       "|---|---|---|\n",
       "| 1:41913981-41919980  | XM_035954527.1       | 100                  |\n",
       "| 4:3488307-3494306    | XM_023271958.2       | 100                  |\n",
       "| 5:26593316-26599315  | XM_023282415.2       | 100                  |\n",
       "| 7:5225068-5231067    | XM_023271457.2       | 100                  |\n",
       "| 7:5424398-5430397    | XR_004848333.1       | 100                  |\n",
       "| 7:27878404-27884403  | XM_023281584.2       | 100                  |\n",
       "| 9:4200955-4206954    | XM_023272690.2       | 100                  |\n",
       "| 9:16332705-16338704  | XM_023285552.2       | 100                  |\n",
       "| 10:13430684-13436683 | XM_023282991.2       | 100                  |\n",
       "| 11:7822613-7828612   | XM_023267040.2       | 100                  |\n",
       "| 12:990810-996809     | XM_023293069.2       | 100                  |\n",
       "| 13:20900431-20906430 | XM_023287203.2       | 100                  |\n",
       "| 15:4384765-4390764   | XM_023265270.2       | 100                  |\n",
       "| 17:32659288-32665287 | XR_004847555.1       | 100                  |\n",
       "| 17:32870422-32876421 | XR_004846287.1       | 100                  |\n",
       "| 17:33033608-33039607 | XM_035944614.1       | 100                  |\n",
       "| 20:16882736-16888735 | XM_023277046.2       | 100                  |\n",
       "| 20:32941404-32947403 | XM_023295727.2       | 100                  |\n",
       "| 21:10179979-10185978 | XM_023277704.2       | 100                  |\n",
       "| 22:581369-587368     | XR_004846212.1       | 100                  |\n",
       "\n"
      ],
      "text/plain": [
       "   seqid                accession      per_id\n",
       "1  1:41913981-41919980  XM_035954527.1 100   \n",
       "2  4:3488307-3494306    XM_023271958.2 100   \n",
       "3  5:26593316-26599315  XM_023282415.2 100   \n",
       "4  7:5225068-5231067    XM_023271457.2 100   \n",
       "5  7:5424398-5430397    XR_004848333.1 100   \n",
       "6  7:27878404-27884403  XM_023281584.2 100   \n",
       "7  9:4200955-4206954    XM_023272690.2 100   \n",
       "8  9:16332705-16338704  XM_023285552.2 100   \n",
       "9  10:13430684-13436683 XM_023282991.2 100   \n",
       "10 11:7822613-7828612   XM_023267040.2 100   \n",
       "11 12:990810-996809     XM_023293069.2 100   \n",
       "12 13:20900431-20906430 XM_023287203.2 100   \n",
       "13 15:4384765-4390764   XM_023265270.2 100   \n",
       "14 17:32659288-32665287 XR_004847555.1 100   \n",
       "15 17:32870422-32876421 XR_004846287.1 100   \n",
       "16 17:33033608-33039607 XM_035944614.1 100   \n",
       "17 20:16882736-16888735 XM_023277046.2 100   \n",
       "18 20:32941404-32947403 XM_023295727.2 100   \n",
       "19 21:10179979-10185978 XM_023277704.2 100   \n",
       "20 22:581369-587368     XR_004846212.1 100   "
      ]
     },
     "metadata": {},
     "output_type": "display_data"
    }
   ],
   "source": [
    "(sl_oce_best)"
   ]
  },
  {
   "cell_type": "code",
   "execution_count": null,
   "id": "ec30c6c5",
   "metadata": {},
   "outputs": [],
   "source": []
  },
  {
   "cell_type": "code",
   "execution_count": 122,
   "id": "81f636d2",
   "metadata": {},
   "outputs": [
    {
     "data": {
      "text/html": [
       "<table>\n",
       "<thead><tr><th scope=col>qseqid</th><th scope=col>sseqid</th><th scope=col>sstart</th><th scope=col>send</th><th scope=col>pident</th><th scope=col>length</th><th scope=col>mismatch</th><th scope=col>gapopen</th><th scope=col>qstart</th><th scope=col>qend</th><th scope=col>evalue</th><th scope=col>bitscore</th></tr></thead>\n",
       "<tbody>\n",
       "\t<tr><td>7:5426398-5428397 </td><td>20                </td><td>35263083          </td><td>35263056          </td><td>100.000           </td><td>28                </td><td>0                 </td><td>0                 </td><td>1420              </td><td>1447              </td><td>0.013000          </td><td>52.8              </td></tr>\n",
       "\t<tr><td>15:4386765-4388764</td><td>CHR_ALT_CTG17_1_27</td><td>48769077          </td><td>48769044          </td><td> 97.059           </td><td>34                </td><td>1                 </td><td>0                 </td><td> 322              </td><td> 355              </td><td>0.000278          </td><td>58.4              </td></tr>\n",
       "\t<tr><td>15:4386765-4388764</td><td>17                </td><td>48764527          </td><td>48764494          </td><td> 97.059           </td><td>34                </td><td>1                 </td><td>0                 </td><td> 322              </td><td> 355              </td><td>0.000278          </td><td>58.4              </td></tr>\n",
       "\t<tr><td>15:4386765-4388764</td><td>17                </td><td>48907783          </td><td>48907756          </td><td>100.000           </td><td>28                </td><td>0                 </td><td>0                 </td><td> 737              </td><td> 764              </td><td>0.013000          </td><td>52.8              </td></tr>\n",
       "\t<tr><td>15:4386765-4388764</td><td>CHR_ALT_CTG23_1_27</td><td>25778949          </td><td>25778914          </td><td> 94.444           </td><td>36                </td><td>2                 </td><td>0                 </td><td> 322              </td><td> 357              </td><td>0.001000          </td><td>56.5              </td></tr>\n",
       "\t<tr><td>15:4386765-4388764</td><td>23                </td><td>25781804          </td><td>25781769          </td><td> 94.444           </td><td>36                </td><td>2                 </td><td>0                 </td><td> 322              </td><td> 357              </td><td>0.001000          </td><td>56.5              </td></tr>\n",
       "</tbody>\n",
       "</table>\n"
      ],
      "text/latex": [
       "\\begin{tabular}{r|llllllllllll}\n",
       " qseqid & sseqid & sstart & send & pident & length & mismatch & gapopen & qstart & qend & evalue & bitscore\\\\\n",
       "\\hline\n",
       "\t 7:5426398-5428397  & 20                 & 35263083           & 35263056           & 100.000            & 28                 & 0                  & 0                  & 1420               & 1447               & 0.013000           & 52.8              \\\\\n",
       "\t 15:4386765-4388764         & CHR\\_ALT\\_CTG17\\_1\\_27 & 48769077                   & 48769044                   &  97.059                    & 34                         & 1                          & 0                          &  322                       &  355                       & 0.000278                   & 58.4                      \\\\\n",
       "\t 15:4386765-4388764 & 17                 & 48764527           & 48764494           &  97.059            & 34                 & 1                  & 0                  &  322               &  355               & 0.000278           & 58.4              \\\\\n",
       "\t 15:4386765-4388764 & 17                 & 48907783           & 48907756           & 100.000            & 28                 & 0                  & 0                  &  737               &  764               & 0.013000           & 52.8              \\\\\n",
       "\t 15:4386765-4388764         & CHR\\_ALT\\_CTG23\\_1\\_27 & 25778949                   & 25778914                   &  94.444                    & 36                         & 2                          & 0                          &  322                       &  357                       & 0.001000                   & 56.5                      \\\\\n",
       "\t 15:4386765-4388764 & 23                 & 25781804           & 25781769           &  94.444            & 36                 & 2                  & 0                  &  322               &  357               & 0.001000           & 56.5              \\\\\n",
       "\\end{tabular}\n"
      ],
      "text/markdown": [
       "\n",
       "| qseqid | sseqid | sstart | send | pident | length | mismatch | gapopen | qstart | qend | evalue | bitscore |\n",
       "|---|---|---|---|---|---|---|---|---|---|---|---|\n",
       "| 7:5426398-5428397  | 20                 | 35263083           | 35263056           | 100.000            | 28                 | 0                  | 0                  | 1420               | 1447               | 0.013000           | 52.8               |\n",
       "| 15:4386765-4388764 | CHR_ALT_CTG17_1_27 | 48769077           | 48769044           |  97.059            | 34                 | 1                  | 0                  |  322               |  355               | 0.000278           | 58.4               |\n",
       "| 15:4386765-4388764 | 17                 | 48764527           | 48764494           |  97.059            | 34                 | 1                  | 0                  |  322               |  355               | 0.000278           | 58.4               |\n",
       "| 15:4386765-4388764 | 17                 | 48907783           | 48907756           | 100.000            | 28                 | 0                  | 0                  |  737               |  764               | 0.013000           | 52.8               |\n",
       "| 15:4386765-4388764 | CHR_ALT_CTG23_1_27 | 25778949           | 25778914           |  94.444            | 36                 | 2                  | 0                  |  322               |  357               | 0.001000           | 56.5               |\n",
       "| 15:4386765-4388764 | 23                 | 25781804           | 25781769           |  94.444            | 36                 | 2                  | 0                  |  322               |  357               | 0.001000           | 56.5               |\n",
       "\n"
      ],
      "text/plain": [
       "  qseqid             sseqid             sstart   send     pident  length\n",
       "1 7:5426398-5428397  20                 35263083 35263056 100.000 28    \n",
       "2 15:4386765-4388764 CHR_ALT_CTG17_1_27 48769077 48769044  97.059 34    \n",
       "3 15:4386765-4388764 17                 48764527 48764494  97.059 34    \n",
       "4 15:4386765-4388764 17                 48907783 48907756 100.000 28    \n",
       "5 15:4386765-4388764 CHR_ALT_CTG23_1_27 25778949 25778914  94.444 36    \n",
       "6 15:4386765-4388764 23                 25781804 25781769  94.444 36    \n",
       "  mismatch gapopen qstart qend evalue   bitscore\n",
       "1 0        0       1420   1447 0.013000 52.8    \n",
       "2 1        0        322    355 0.000278 58.4    \n",
       "3 1        0        322    355 0.000278 58.4    \n",
       "4 0        0        737    764 0.013000 52.8    \n",
       "5 2        0        322    357 0.001000 56.5    \n",
       "6 2        0        322    357 0.001000 56.5    "
      ]
     },
     "metadata": {},
     "output_type": "display_data"
    }
   ],
   "source": [
    "zebra_sl <- fread(\"/data/katrinac/APPC_sequencing/DNA/trimmed_reads/mapping/ensembl/genotypes/angsd/results/zebra_sl_candidates_results_null_1kbp.out\")\n",
    "blast_header <- c(\"qseqid\", \"sseqid\", \"sstart\", \"send\", \"pident\", \"length\", \"mismatch\", \"gapopen\", \"qstart\", \"qend\", \"evalue\", \"bitscore\")\n",
    "setnames(zebra_sl, blast_header)\n",
    "head(zebra_sl)\n",
    "best_blast_sl <- zebra_sl[, .SD[which.max(bitscore)], by =qseqid] #sort by best evalue for each locus\n",
    "best_blast_sl[, `:=`(sstart=ifelse(sstart > send, send, sstart), send=ifelse(sstart > send, sstart, send))]\n",
    "fwrite(best_blast_sl[,.(sseqid, sstart, send)],\"/data/katrinac/APPC_sequencing/DNA/trimmed_reads/mapping/ensembl/genotypes/angsd/results/best_blast_sl_null_1kbp_zebra.bed\", col.names = F, sep=\"\\t\")\n"
   ]
  },
  {
   "cell_type": "code",
   "execution_count": 121,
   "id": "1d7635e8",
   "metadata": {},
   "outputs": [
    {
     "data": {
      "text/html": [
       "<table>\n",
       "<thead><tr><th scope=col>qseqid</th><th scope=col>sseqid</th><th scope=col>sstart</th><th scope=col>send</th><th scope=col>pident</th><th scope=col>length</th><th scope=col>mismatch</th><th scope=col>gapopen</th><th scope=col>qstart</th><th scope=col>qend</th><th scope=col>evalue</th><th scope=col>bitscore</th></tr></thead>\n",
       "<tbody>\n",
       "\t<tr><td>7:5426398-5428397   </td><td>20                  </td><td>35263056            </td><td>35263083            </td><td>100.000             </td><td>28                  </td><td>0                   </td><td>0                   </td><td>1420                </td><td>1447                </td><td>1.30e-02            </td><td>52.8                </td></tr>\n",
       "\t<tr><td>15:4386765-4388764  </td><td>CHR_ALT_CTG17_1_27  </td><td>48769044            </td><td>48769077            </td><td> 97.059             </td><td>34                  </td><td>1                   </td><td>0                   </td><td> 322                </td><td> 355                </td><td>2.78e-04            </td><td>58.4                </td></tr>\n",
       "\t<tr><td>17:17029429-17031428</td><td>16                  </td><td> 8355504            </td><td> 8355553            </td><td> 96.000             </td><td>50                  </td><td>2                   </td><td>0                   </td><td>1695                </td><td>1744                </td><td>1.65e-11            </td><td>82.4                </td></tr>\n",
       "</tbody>\n",
       "</table>\n"
      ],
      "text/latex": [
       "\\begin{tabular}{r|llllllllllll}\n",
       " qseqid & sseqid & sstart & send & pident & length & mismatch & gapopen & qstart & qend & evalue & bitscore\\\\\n",
       "\\hline\n",
       "\t 7:5426398-5428397    & 20                   & 35263056             & 35263083             & 100.000              & 28                   & 0                    & 0                    & 1420                 & 1447                 & 1.30e-02             & 52.8                \\\\\n",
       "\t 15:4386765-4388764         & CHR\\_ALT\\_CTG17\\_1\\_27 & 48769044                   & 48769077                   &  97.059                    & 34                         & 1                          & 0                          &  322                       &  355                       & 2.78e-04                   & 58.4                      \\\\\n",
       "\t 17:17029429-17031428 & 16                   &  8355504             &  8355553             &  96.000              & 50                   & 2                    & 0                    & 1695                 & 1744                 & 1.65e-11             & 82.4                \\\\\n",
       "\\end{tabular}\n"
      ],
      "text/markdown": [
       "\n",
       "| qseqid | sseqid | sstart | send | pident | length | mismatch | gapopen | qstart | qend | evalue | bitscore |\n",
       "|---|---|---|---|---|---|---|---|---|---|---|---|\n",
       "| 7:5426398-5428397    | 20                   | 35263056             | 35263083             | 100.000              | 28                   | 0                    | 0                    | 1420                 | 1447                 | 1.30e-02             | 52.8                 |\n",
       "| 15:4386765-4388764   | CHR_ALT_CTG17_1_27   | 48769044             | 48769077             |  97.059              | 34                   | 1                    | 0                    |  322                 |  355                 | 2.78e-04             | 58.4                 |\n",
       "| 17:17029429-17031428 | 16                   |  8355504             |  8355553             |  96.000              | 50                   | 2                    | 0                    | 1695                 | 1744                 | 1.65e-11             | 82.4                 |\n",
       "\n"
      ],
      "text/plain": [
       "  qseqid               sseqid             sstart   send     pident  length\n",
       "1 7:5426398-5428397    20                 35263056 35263083 100.000 28    \n",
       "2 15:4386765-4388764   CHR_ALT_CTG17_1_27 48769044 48769077  97.059 34    \n",
       "3 17:17029429-17031428 16                  8355504  8355553  96.000 50    \n",
       "  mismatch gapopen qstart qend evalue   bitscore\n",
       "1 0        0       1420   1447 1.30e-02 52.8    \n",
       "2 1        0        322    355 2.78e-04 58.4    \n",
       "3 2        0       1695   1744 1.65e-11 82.4    "
      ]
     },
     "metadata": {},
     "output_type": "display_data"
    }
   ],
   "source": [
    "head(best_blast_sl)"
   ]
  },
  {
   "cell_type": "code",
   "execution_count": 89,
   "id": "b6791706",
   "metadata": {},
   "outputs": [
    {
     "data": {
      "text/html": [
       "<table>\n",
       "<thead><tr><th scope=col>qseqid</th><th scope=col>sseqid</th><th scope=col>sstart</th><th scope=col>send</th><th scope=col>pident</th><th scope=col>length</th><th scope=col>mismatch</th><th scope=col>gapopen</th><th scope=col>qstart</th><th scope=col>qend</th><th scope=col>evalue</th><th scope=col>bitscore</th></tr></thead>\n",
       "<tbody>\n",
       "\t<tr><td>5:37579792-37585791</td><td>2                  </td><td> 1834880           </td><td> 1834703           </td><td> 77.778            </td><td>180                </td><td>31                 </td><td>9                  </td><td> 927               </td><td>1099               </td><td>3.85e-17           </td><td>102.0              </td></tr>\n",
       "\t<tr><td>5:37579792-37585791</td><td>2                  </td><td>30141776           </td><td>30141631           </td><td> 79.592            </td><td>147                </td><td>27                 </td><td>2                  </td><td> 988               </td><td>1132               </td><td>3.85e-17           </td><td>102.0              </td></tr>\n",
       "\t<tr><td>5:37579792-37585791</td><td>2                  </td><td>10759695           </td><td>10759610           </td><td> 85.393            </td><td> 89                </td><td> 8                 </td><td>3                  </td><td> 981               </td><td>1067               </td><td>1.08e-12           </td><td> 87.9              </td></tr>\n",
       "\t<tr><td>5:37579792-37585791</td><td>2                  </td><td> 6092430           </td><td> 6092457           </td><td>100.000            </td><td> 28                </td><td> 0                 </td><td>0                  </td><td>3150               </td><td>3177               </td><td>3.90e-02           </td><td> 52.8              </td></tr>\n",
       "\t<tr><td>5:37579792-37585791</td><td>1                  </td><td>57318093           </td><td>57318181           </td><td> 88.043            </td><td> 92                </td><td> 4                 </td><td>5                  </td><td> 980               </td><td>1067               </td><td>3.85e-17           </td><td>102.0              </td></tr>\n",
       "\t<tr><td>5:37579792-37585791</td><td>1                  </td><td> 5343508           </td><td> 5343363           </td><td> 78.912            </td><td>147                </td><td>28                 </td><td>3                  </td><td> 988               </td><td>1132               </td><td>1.79e-15           </td><td> 97.1              </td></tr>\n",
       "</tbody>\n",
       "</table>\n"
      ],
      "text/latex": [
       "\\begin{tabular}{r|llllllllllll}\n",
       " qseqid & sseqid & sstart & send & pident & length & mismatch & gapopen & qstart & qend & evalue & bitscore\\\\\n",
       "\\hline\n",
       "\t 5:37579792-37585791 & 2                   &  1834880            &  1834703            &  77.778             & 180                 & 31                  & 9                   &  927                & 1099                & 3.85e-17            & 102.0              \\\\\n",
       "\t 5:37579792-37585791 & 2                   & 30141776            & 30141631            &  79.592             & 147                 & 27                  & 2                   &  988                & 1132                & 3.85e-17            & 102.0              \\\\\n",
       "\t 5:37579792-37585791 & 2                   & 10759695            & 10759610            &  85.393             &  89                 &  8                  & 3                   &  981                & 1067                & 1.08e-12            &  87.9              \\\\\n",
       "\t 5:37579792-37585791 & 2                   &  6092430            &  6092457            & 100.000             &  28                 &  0                  & 0                   & 3150                & 3177                & 3.90e-02            &  52.8              \\\\\n",
       "\t 5:37579792-37585791 & 1                   & 57318093            & 57318181            &  88.043             &  92                 &  4                  & 5                   &  980                & 1067                & 3.85e-17            & 102.0              \\\\\n",
       "\t 5:37579792-37585791 & 1                   &  5343508            &  5343363            &  78.912             & 147                 & 28                  & 3                   &  988                & 1132                & 1.79e-15            &  97.1              \\\\\n",
       "\\end{tabular}\n"
      ],
      "text/markdown": [
       "\n",
       "| qseqid | sseqid | sstart | send | pident | length | mismatch | gapopen | qstart | qend | evalue | bitscore |\n",
       "|---|---|---|---|---|---|---|---|---|---|---|---|\n",
       "| 5:37579792-37585791 | 2                   |  1834880            |  1834703            |  77.778             | 180                 | 31                  | 9                   |  927                | 1099                | 3.85e-17            | 102.0               |\n",
       "| 5:37579792-37585791 | 2                   | 30141776            | 30141631            |  79.592             | 147                 | 27                  | 2                   |  988                | 1132                | 3.85e-17            | 102.0               |\n",
       "| 5:37579792-37585791 | 2                   | 10759695            | 10759610            |  85.393             |  89                 |  8                  | 3                   |  981                | 1067                | 1.08e-12            |  87.9               |\n",
       "| 5:37579792-37585791 | 2                   |  6092430            |  6092457            | 100.000             |  28                 |  0                  | 0                   | 3150                | 3177                | 3.90e-02            |  52.8               |\n",
       "| 5:37579792-37585791 | 1                   | 57318093            | 57318181            |  88.043             |  92                 |  4                  | 5                   |  980                | 1067                | 3.85e-17            | 102.0               |\n",
       "| 5:37579792-37585791 | 1                   |  5343508            |  5343363            |  78.912             | 147                 | 28                  | 3                   |  988                | 1132                | 1.79e-15            |  97.1               |\n",
       "\n"
      ],
      "text/plain": [
       "  qseqid              sseqid sstart   send     pident  length mismatch gapopen\n",
       "1 5:37579792-37585791 2       1834880  1834703  77.778 180    31       9      \n",
       "2 5:37579792-37585791 2      30141776 30141631  79.592 147    27       2      \n",
       "3 5:37579792-37585791 2      10759695 10759610  85.393  89     8       3      \n",
       "4 5:37579792-37585791 2       6092430  6092457 100.000  28     0       0      \n",
       "5 5:37579792-37585791 1      57318093 57318181  88.043  92     4       5      \n",
       "6 5:37579792-37585791 1       5343508  5343363  78.912 147    28       3      \n",
       "  qstart qend evalue   bitscore\n",
       "1  927   1099 3.85e-17 102.0   \n",
       "2  988   1132 3.85e-17 102.0   \n",
       "3  981   1067 1.08e-12  87.9   \n",
       "4 3150   3177 3.90e-02  52.8   \n",
       "5  980   1067 3.85e-17 102.0   \n",
       "6  988   1132 1.79e-15  97.1   "
      ]
     },
     "metadata": {},
     "output_type": "display_data"
    }
   ],
   "source": [
    "zebra_ucrit <- fread(\"/data/katrinac/APPC_sequencing/DNA/trimmed_reads/mapping/ensembl/genotypes/angsd/results/zebra_ucrit_candidates_results_null3kbp.out\")\n",
    "blast_header <- c(\"qseqid\", \"sseqid\", \"sstart\", \"send\", \"pident\", \"length\", \"mismatch\", \"gapopen\", \"qstart\", \"qend\", \"evalue\", \"bitscore\")\n",
    "setnames(zebra_ucrit, blast_header)\n",
    "head(zebra_ucrit)\n",
    "best_blast_ucrit <- zebra_ucrit[, .SD[which.max(bitscore)], by =qseqid] #sort by best evalue for each locus\n",
    "best_blast_ucrit[, `:=`(sstart=ifelse(sstart > send, send, sstart), send=ifelse(sstart > send, sstart, send))]\n",
    "fwrite(best_blast_ucrit[,.(sseqid, sstart, send)],\"/data/katrinac/APPC_sequencing/DNA/trimmed_reads/mapping/ensembl/genotypes/angsd/results/best_blast_ucrit_null_3kbp_zebra.bed\", col.names = F, sep=\"\\t\")\n"
   ]
  },
  {
   "cell_type": "markdown",
   "id": "c522b81e",
   "metadata": {},
   "source": [
    "__read in the corresponding genes__"
   ]
  },
  {
   "cell_type": "code",
   "execution_count": 123,
   "id": "3d3030f3",
   "metadata": {},
   "outputs": [
    {
     "name": "stderr",
     "output_type": "stream",
     "text": [
      "Warning message in fread(\"/data/katrinac/APPC_sequencing/DNA/trimmed_reads/mapping/ensembl/genotypes/angsd/results/sl_blast_results_null1kbp_candidates_closest_zebra.bed\", :\n",
      "“Stopped early on line 41209. Expected 10 fields but found 12. Consider fill=TRUE and comment.char=. First discarded non-empty line: <<20\t9603\t16852\ttranscript:ENSDART00000129277\t.\t-\tensembl\tmRNA\t.\tID=transcript:ENSDART00000129277;Parent=gene:ENSDARG00000087933;Name=zgc:174972-201;biotype=protein_coding;transcript_id=ENSDART00000129277;version=3|20\t35263056\t35263083>>”"
     ]
    },
    {
     "data": {
      "text/html": [
       "<table>\n",
       "<thead><tr><th scope=col>seqid</th><th scope=col>feature_start</th><th scope=col>feature_end</th><th scope=col>feature_id</th><th scope=col>score</th><th scope=col>strand</th><th scope=col>unkn</th><th scope=col>feature_type</th><th scope=col>phase</th><th scope=col>attributes</th></tr></thead>\n",
       "<tbody>\n",
       "\t<tr><td>1                                                                                                                                                                                                                                                             </td><td> 6407                                                                                                                                                                                                                                                         </td><td>12027                                                                                                                                                                                                                                                         </td><td>gene:ENSDARG00000099104                                                                                                                                                                                                                                       </td><td>.                                                                                                                                                                                                                                                             </td><td>-                                                                                                                                                                                                                                                             </td><td>ensembl_havana                                                                                                                                                                                                                                                </td><td>gene                                                                                                                                                                                                                                                          </td><td>.                                                                                                                                                                                                                                                             </td><td>ID=gene:ENSDARG00000099104;Name=rpl24;biotype=protein_coding;description=ribosomal protein L24 [Source:NCBI gene%3BAcc:192301];gene_id=ENSDARG00000099104;logic_name=ensembl_havana_gene;version=1|NA                                                         </td></tr>\n",
       "\t<tr><td>1                                                                                                                                                                                                                                                             </td><td>11821                                                                                                                                                                                                                                                         </td><td>16373                                                                                                                                                                                                                                                         </td><td>gene:ENSDARG00000102407                                                                                                                                                                                                                                       </td><td>.                                                                                                                                                                                                                                                             </td><td>+                                                                                                                                                                                                                                                             </td><td>ensembl_havana                                                                                                                                                                                                                                                </td><td>gene                                                                                                                                                                                                                                                          </td><td>.                                                                                                                                                                                                                                                             </td><td>ID=gene:ENSDARG00000102407;Name=cep97;biotype=protein_coding;description=centrosomal protein 97 [Source:ZFIN%3BAcc:ZDB-GENE-031030-11];gene_id=ENSDARG00000102407;logic_name=ensembl_havana_gene;version=2|NA                                                 </td></tr>\n",
       "\t<tr><td>1                                                                                                                                                                                                                                                             </td><td>18715                                                                                                                                                                                                                                                         </td><td>23389                                                                                                                                                                                                                                                         </td><td>gene:ENSDARG00000102097                                                                                                                                                                                                                                       </td><td>.                                                                                                                                                                                                                                                             </td><td>+                                                                                                                                                                                                                                                             </td><td>havana                                                                                                                                                                                                                                                        </td><td>gene                                                                                                                                                                                                                                                          </td><td>.                                                                                                                                                                                                                                                             </td><td>ID=gene:ENSDARG00000102097;Name=nfkbiz;biotype=protein_coding;description=nuclear factor of kappa light polypeptide gene enhancer in B-cells inhibitor%2C zeta [Source:ZFIN%3BAcc:ZDB-GENE-071024-1];gene_id=ENSDARG00000102097;logic_name=havana;version=2|NA</td></tr>\n",
       "\t<tr><td>1                                                                                                                                                                                                                                                             </td><td>25584                                                                                                                                                                                                                                                         </td><td>27255                                                                                                                                                                                                                                                         </td><td>gene:ENSDARG00000099319                                                                                                                                                                                                                                       </td><td>.                                                                                                                                                                                                                                                             </td><td>+                                                                                                                                                                                                                                                             </td><td>ensembl                                                                                                                                                                                                                                                       </td><td>gene                                                                                                                                                                                                                                                          </td><td>.                                                                                                                                                                                                                                                             </td><td>ID=gene:ENSDARG00000099319;Name=CU651657.1;biotype=protein_coding;gene_id=ENSDARG00000099319;logic_name=ensembl_danio_rerio;version=1|NA                                                                                                                      </td></tr>\n",
       "\t<tr><td>1                                                                                                                                                                                                                                                             </td><td>27689                                                                                                                                                                                                                                                         </td><td>34330                                                                                                                                                                                                                                                         </td><td>gene:ENSDARG00000099640                                                                                                                                                                                                                                       </td><td>.                                                                                                                                                                                                                                                             </td><td>+                                                                                                                                                                                                                                                             </td><td>ensembl_havana                                                                                                                                                                                                                                                </td><td>gene                                                                                                                                                                                                                                                          </td><td>.                                                                                                                                                                                                                                                             </td><td>ID=gene:ENSDARG00000099640;Name=eed;biotype=protein_coding;description=embryonic ectoderm development [Source:NCBI gene%3BAcc:550463];gene_id=ENSDARG00000099640;logic_name=ensembl_havana_gene;version=1|NA                                                  </td></tr>\n",
       "\t<tr><td>1                                                                                                                                                                                                                                                             </td><td>36551                                                                                                                                                                                                                                                         </td><td>39191                                                                                                                                                                                                                                                         </td><td>gene:ENSDARG00000104071                                                                                                                                                                                                                                       </td><td>.                                                                                                                                                                                                                                                             </td><td>+                                                                                                                                                                                                                                                             </td><td>ensembl_havana                                                                                                                                                                                                                                                </td><td>gene                                                                                                                                                                                                                                                          </td><td>.                                                                                                                                                                                                                                                             </td><td>ID=gene:ENSDARG00000104071;Name=hikeshi;biotype=protein_coding;description=heat shock protein nuclear import factor hikeshi [Source:NCBI gene%3BAcc:550239];gene_id=ENSDARG00000104071;logic_name=ensembl_havana_gene;version=1|NA                            </td></tr>\n",
       "</tbody>\n",
       "</table>\n"
      ],
      "text/latex": [
       "\\begin{tabular}{r|llllllllll}\n",
       " seqid & feature\\_start & feature\\_end & feature\\_id & score & strand & unkn & feature\\_type & phase & attributes\\\\\n",
       "\\hline\n",
       "\t 1                                                                                                                                                                                                                                                                                        &  6407                                                                                                                                                                                                                                                                                    & 12027                                                                                                                                                                                                                                                                                    & gene:ENSDARG00000099104                                                                                                                                                                                                                                                                  & .                                                                                                                                                                                                                                                                                        & -                                                                                                                                                                                                                                                                                        & ensembl\\_havana                                                                                                                                                                                                                                                                         & gene                                                                                                                                                                                                                                                                                     & .                                                                                                                                                                                                                                                                                        & ID=gene:ENSDARG00000099104;Name=rpl24;biotype=protein\\_coding;description=ribosomal protein L24 {[}Source:NCBI gene\\%3BAcc:192301{]};gene\\_id=ENSDARG00000099104;logic\\_name=ensembl\\_havana\\_gene;version=1\\textbar{}NA                                                         \\\\\n",
       "\t 1                                                                                                                                                                                                                                                                                        & 11821                                                                                                                                                                                                                                                                                    & 16373                                                                                                                                                                                                                                                                                    & gene:ENSDARG00000102407                                                                                                                                                                                                                                                                  & .                                                                                                                                                                                                                                                                                        & +                                                                                                                                                                                                                                                                                        & ensembl\\_havana                                                                                                                                                                                                                                                                         & gene                                                                                                                                                                                                                                                                                     & .                                                                                                                                                                                                                                                                                        & ID=gene:ENSDARG00000102407;Name=cep97;biotype=protein\\_coding;description=centrosomal protein 97 {[}Source:ZFIN\\%3BAcc:ZDB-GENE-031030-11{]};gene\\_id=ENSDARG00000102407;logic\\_name=ensembl\\_havana\\_gene;version=2\\textbar{}NA                                                 \\\\\n",
       "\t 1                                                                                                                                                                                                                                                                                      & 18715                                                                                                                                                                                                                                                                                  & 23389                                                                                                                                                                                                                                                                                  & gene:ENSDARG00000102097                                                                                                                                                                                                                                                                & .                                                                                                                                                                                                                                                                                      & +                                                                                                                                                                                                                                                                                      & havana                                                                                                                                                                                                                                                                                 & gene                                                                                                                                                                                                                                                                                   & .                                                                                                                                                                                                                                                                                      & ID=gene:ENSDARG00000102097;Name=nfkbiz;biotype=protein\\_coding;description=nuclear factor of kappa light polypeptide gene enhancer in B-cells inhibitor\\%2C zeta {[}Source:ZFIN\\%3BAcc:ZDB-GENE-071024-1{]};gene\\_id=ENSDARG00000102097;logic\\_name=havana;version=2\\textbar{}NA\\\\\n",
       "\t 1                                                                                                                                                                                                                                                                                  & 25584                                                                                                                                                                                                                                                                              & 27255                                                                                                                                                                                                                                                                              & gene:ENSDARG00000099319                                                                                                                                                                                                                                                            & .                                                                                                                                                                                                                                                                                  & +                                                                                                                                                                                                                                                                                  & ensembl                                                                                                                                                                                                                                                                            & gene                                                                                                                                                                                                                                                                               & .                                                                                                                                                                                                                                                                                  & ID=gene:ENSDARG00000099319;Name=CU651657.1;biotype=protein\\_coding;gene\\_id=ENSDARG00000099319;logic\\_name=ensembl\\_danio\\_rerio;version=1\\textbar{}NA                                                                                                                      \\\\\n",
       "\t 1                                                                                                                                                                                                                                                                                        & 27689                                                                                                                                                                                                                                                                                    & 34330                                                                                                                                                                                                                                                                                    & gene:ENSDARG00000099640                                                                                                                                                                                                                                                                  & .                                                                                                                                                                                                                                                                                        & +                                                                                                                                                                                                                                                                                        & ensembl\\_havana                                                                                                                                                                                                                                                                         & gene                                                                                                                                                                                                                                                                                     & .                                                                                                                                                                                                                                                                                        & ID=gene:ENSDARG00000099640;Name=eed;biotype=protein\\_coding;description=embryonic ectoderm development {[}Source:NCBI gene\\%3BAcc:550463{]};gene\\_id=ENSDARG00000099640;logic\\_name=ensembl\\_havana\\_gene;version=1\\textbar{}NA                                                  \\\\\n",
       "\t 1                                                                                                                                                                                                                                                                                        & 36551                                                                                                                                                                                                                                                                                    & 39191                                                                                                                                                                                                                                                                                    & gene:ENSDARG00000104071                                                                                                                                                                                                                                                                  & .                                                                                                                                                                                                                                                                                        & +                                                                                                                                                                                                                                                                                        & ensembl\\_havana                                                                                                                                                                                                                                                                         & gene                                                                                                                                                                                                                                                                                     & .                                                                                                                                                                                                                                                                                        & ID=gene:ENSDARG00000104071;Name=hikeshi;biotype=protein\\_coding;description=heat shock protein nuclear import factor hikeshi {[}Source:NCBI gene\\%3BAcc:550239{]};gene\\_id=ENSDARG00000104071;logic\\_name=ensembl\\_havana\\_gene;version=1\\textbar{}NA                            \\\\\n",
       "\\end{tabular}\n"
      ],
      "text/markdown": [
       "\n",
       "| seqid | feature_start | feature_end | feature_id | score | strand | unkn | feature_type | phase | attributes |\n",
       "|---|---|---|---|---|---|---|---|---|---|\n",
       "| 1                                                                                                                                                                                                                                                              |  6407                                                                                                                                                                                                                                                          | 12027                                                                                                                                                                                                                                                          | gene:ENSDARG00000099104                                                                                                                                                                                                                                        | .                                                                                                                                                                                                                                                              | -                                                                                                                                                                                                                                                              | ensembl_havana                                                                                                                                                                                                                                                 | gene                                                                                                                                                                                                                                                           | .                                                                                                                                                                                                                                                              | ID=gene:ENSDARG00000099104;Name=rpl24;biotype=protein_coding;description=ribosomal protein L24 [Source:NCBI gene%3BAcc:192301];gene_id=ENSDARG00000099104;logic_name=ensembl_havana_gene;version=1|NA                                                          |\n",
       "| 1                                                                                                                                                                                                                                                              | 11821                                                                                                                                                                                                                                                          | 16373                                                                                                                                                                                                                                                          | gene:ENSDARG00000102407                                                                                                                                                                                                                                        | .                                                                                                                                                                                                                                                              | +                                                                                                                                                                                                                                                              | ensembl_havana                                                                                                                                                                                                                                                 | gene                                                                                                                                                                                                                                                           | .                                                                                                                                                                                                                                                              | ID=gene:ENSDARG00000102407;Name=cep97;biotype=protein_coding;description=centrosomal protein 97 [Source:ZFIN%3BAcc:ZDB-GENE-031030-11];gene_id=ENSDARG00000102407;logic_name=ensembl_havana_gene;version=2|NA                                                  |\n",
       "| 1                                                                                                                                                                                                                                                              | 18715                                                                                                                                                                                                                                                          | 23389                                                                                                                                                                                                                                                          | gene:ENSDARG00000102097                                                                                                                                                                                                                                        | .                                                                                                                                                                                                                                                              | +                                                                                                                                                                                                                                                              | havana                                                                                                                                                                                                                                                         | gene                                                                                                                                                                                                                                                           | .                                                                                                                                                                                                                                                              | ID=gene:ENSDARG00000102097;Name=nfkbiz;biotype=protein_coding;description=nuclear factor of kappa light polypeptide gene enhancer in B-cells inhibitor%2C zeta [Source:ZFIN%3BAcc:ZDB-GENE-071024-1];gene_id=ENSDARG00000102097;logic_name=havana;version=2|NA |\n",
       "| 1                                                                                                                                                                                                                                                              | 25584                                                                                                                                                                                                                                                          | 27255                                                                                                                                                                                                                                                          | gene:ENSDARG00000099319                                                                                                                                                                                                                                        | .                                                                                                                                                                                                                                                              | +                                                                                                                                                                                                                                                              | ensembl                                                                                                                                                                                                                                                        | gene                                                                                                                                                                                                                                                           | .                                                                                                                                                                                                                                                              | ID=gene:ENSDARG00000099319;Name=CU651657.1;biotype=protein_coding;gene_id=ENSDARG00000099319;logic_name=ensembl_danio_rerio;version=1|NA                                                                                                                       |\n",
       "| 1                                                                                                                                                                                                                                                              | 27689                                                                                                                                                                                                                                                          | 34330                                                                                                                                                                                                                                                          | gene:ENSDARG00000099640                                                                                                                                                                                                                                        | .                                                                                                                                                                                                                                                              | +                                                                                                                                                                                                                                                              | ensembl_havana                                                                                                                                                                                                                                                 | gene                                                                                                                                                                                                                                                           | .                                                                                                                                                                                                                                                              | ID=gene:ENSDARG00000099640;Name=eed;biotype=protein_coding;description=embryonic ectoderm development [Source:NCBI gene%3BAcc:550463];gene_id=ENSDARG00000099640;logic_name=ensembl_havana_gene;version=1|NA                                                   |\n",
       "| 1                                                                                                                                                                                                                                                              | 36551                                                                                                                                                                                                                                                          | 39191                                                                                                                                                                                                                                                          | gene:ENSDARG00000104071                                                                                                                                                                                                                                        | .                                                                                                                                                                                                                                                              | +                                                                                                                                                                                                                                                              | ensembl_havana                                                                                                                                                                                                                                                 | gene                                                                                                                                                                                                                                                           | .                                                                                                                                                                                                                                                              | ID=gene:ENSDARG00000104071;Name=hikeshi;biotype=protein_coding;description=heat shock protein nuclear import factor hikeshi [Source:NCBI gene%3BAcc:550239];gene_id=ENSDARG00000104071;logic_name=ensembl_havana_gene;version=1|NA                             |\n",
       "\n"
      ],
      "text/plain": [
       "  seqid feature_start feature_end feature_id              score strand\n",
       "1 1      6407         12027       gene:ENSDARG00000099104 .     -     \n",
       "2 1     11821         16373       gene:ENSDARG00000102407 .     +     \n",
       "3 1     18715         23389       gene:ENSDARG00000102097 .     +     \n",
       "4 1     25584         27255       gene:ENSDARG00000099319 .     +     \n",
       "5 1     27689         34330       gene:ENSDARG00000099640 .     +     \n",
       "6 1     36551         39191       gene:ENSDARG00000104071 .     +     \n",
       "  unkn           feature_type phase\n",
       "1 ensembl_havana gene         .    \n",
       "2 ensembl_havana gene         .    \n",
       "3 havana         gene         .    \n",
       "4 ensembl        gene         .    \n",
       "5 ensembl_havana gene         .    \n",
       "6 ensembl_havana gene         .    \n",
       "  attributes                                                                                                                                                                                                                                                    \n",
       "1 ID=gene:ENSDARG00000099104;Name=rpl24;biotype=protein_coding;description=ribosomal protein L24 [Source:NCBI gene%3BAcc:192301];gene_id=ENSDARG00000099104;logic_name=ensembl_havana_gene;version=1|NA                                                         \n",
       "2 ID=gene:ENSDARG00000102407;Name=cep97;biotype=protein_coding;description=centrosomal protein 97 [Source:ZFIN%3BAcc:ZDB-GENE-031030-11];gene_id=ENSDARG00000102407;logic_name=ensembl_havana_gene;version=2|NA                                                 \n",
       "3 ID=gene:ENSDARG00000102097;Name=nfkbiz;biotype=protein_coding;description=nuclear factor of kappa light polypeptide gene enhancer in B-cells inhibitor%2C zeta [Source:ZFIN%3BAcc:ZDB-GENE-071024-1];gene_id=ENSDARG00000102097;logic_name=havana;version=2|NA\n",
       "4 ID=gene:ENSDARG00000099319;Name=CU651657.1;biotype=protein_coding;gene_id=ENSDARG00000099319;logic_name=ensembl_danio_rerio;version=1|NA                                                                                                                      \n",
       "5 ID=gene:ENSDARG00000099640;Name=eed;biotype=protein_coding;description=embryonic ectoderm development [Source:NCBI gene%3BAcc:550463];gene_id=ENSDARG00000099640;logic_name=ensembl_havana_gene;version=1|NA                                                  \n",
       "6 ID=gene:ENSDARG00000104071;Name=hikeshi;biotype=protein_coding;description=heat shock protein nuclear import factor hikeshi [Source:NCBI gene%3BAcc:550239];gene_id=ENSDARG00000104071;logic_name=ensembl_havana_gene;version=1|NA                            "
      ]
     },
     "metadata": {},
     "output_type": "display_data"
    }
   ],
   "source": [
    "zebra_sl_genes <- fread(\"/data/katrinac/APPC_sequencing/DNA/trimmed_reads/mapping/ensembl/genotypes/angsd/results/sl_blast_results_null1kbp_candidates_closest_zebra.bed\", sep=\"\\t\", fill=T)  \n",
    "gff_names <- c(\"seqid\", \"feature_start\", \"feature_end\", \"feature_id\", \"score\", \"strand\", \"unkn\", \"feature_type\", \"phase\", \"attributes\")\n",
    "setnames(zebra_sl_genes, gff_names)\n",
    "head(zebra_sl_genes[feature_type==\"gene\"])"
   ]
  },
  {
   "cell_type": "code",
   "execution_count": 124,
   "id": "512020e0",
   "metadata": {},
   "outputs": [
    {
     "data": {
      "text/html": [
       "41208"
      ],
      "text/latex": [
       "41208"
      ],
      "text/markdown": [
       "41208"
      ],
      "text/plain": [
       "[1] 41208"
      ]
     },
     "metadata": {},
     "output_type": "display_data"
    }
   ],
   "source": [
    "nrow(zebra_sl_genes)"
   ]
  },
  {
   "cell_type": "code",
   "execution_count": 114,
   "id": "182a1bd6",
   "metadata": {},
   "outputs": [
    {
     "name": "stderr",
     "output_type": "stream",
     "text": [
      "Warning message in fread(\"/data/katrinac/APPC_sequencing/DNA/trimmed_reads/mapping/ensembl/genotypes/angsd/results/ucrit_blast_results_null3kbp_candidates_closest_zebra.bed\", :\n",
      "“Stopped early on line 36715. Expected 10 fields but found 12. Consider fill=TRUE and comment.char=. First discarded non-empty line: <<2\t18865\t22535\tgene:ENSDARG00000100145\t.\t-\tensembl\tgene\t.\tID=gene:ENSDARG00000100145;Name=CABZ01092282.1;biotype=protein_coding;gene_id=ENSDARG00000100145;logic_name=ensembl_danio_rerio;version=2|2\t1834703\t1834880>>”"
     ]
    },
    {
     "data": {
      "text/html": [
       "<table>\n",
       "<thead><tr><th scope=col>seqid</th><th scope=col>feature_start</th><th scope=col>feature_end</th><th scope=col>feature_id</th><th scope=col>score</th><th scope=col>strand</th><th scope=col>unkn</th><th scope=col>feature_type</th><th scope=col>phase</th><th scope=col>attributes</th></tr></thead>\n",
       "<tbody>\n",
       "\t<tr><td>1                                                                                                                                                                                                                                                             </td><td> 6407                                                                                                                                                                                                                                                         </td><td>12027                                                                                                                                                                                                                                                         </td><td>gene:ENSDARG00000099104                                                                                                                                                                                                                                       </td><td>.                                                                                                                                                                                                                                                             </td><td>-                                                                                                                                                                                                                                                             </td><td>ensembl_havana                                                                                                                                                                                                                                                </td><td>gene                                                                                                                                                                                                                                                          </td><td>.                                                                                                                                                                                                                                                             </td><td>ID=gene:ENSDARG00000099104;Name=rpl24;biotype=protein_coding;description=ribosomal protein L24 [Source:NCBI gene%3BAcc:192301];gene_id=ENSDARG00000099104;logic_name=ensembl_havana_gene;version=1|NA                                                         </td></tr>\n",
       "\t<tr><td>1                                                                                                                                                                                                                                                             </td><td>11821                                                                                                                                                                                                                                                         </td><td>16373                                                                                                                                                                                                                                                         </td><td>gene:ENSDARG00000102407                                                                                                                                                                                                                                       </td><td>.                                                                                                                                                                                                                                                             </td><td>+                                                                                                                                                                                                                                                             </td><td>ensembl_havana                                                                                                                                                                                                                                                </td><td>gene                                                                                                                                                                                                                                                          </td><td>.                                                                                                                                                                                                                                                             </td><td>ID=gene:ENSDARG00000102407;Name=cep97;biotype=protein_coding;description=centrosomal protein 97 [Source:ZFIN%3BAcc:ZDB-GENE-031030-11];gene_id=ENSDARG00000102407;logic_name=ensembl_havana_gene;version=2|NA                                                 </td></tr>\n",
       "\t<tr><td>1                                                                                                                                                                                                                                                             </td><td>18715                                                                                                                                                                                                                                                         </td><td>23389                                                                                                                                                                                                                                                         </td><td>gene:ENSDARG00000102097                                                                                                                                                                                                                                       </td><td>.                                                                                                                                                                                                                                                             </td><td>+                                                                                                                                                                                                                                                             </td><td>havana                                                                                                                                                                                                                                                        </td><td>gene                                                                                                                                                                                                                                                          </td><td>.                                                                                                                                                                                                                                                             </td><td>ID=gene:ENSDARG00000102097;Name=nfkbiz;biotype=protein_coding;description=nuclear factor of kappa light polypeptide gene enhancer in B-cells inhibitor%2C zeta [Source:ZFIN%3BAcc:ZDB-GENE-071024-1];gene_id=ENSDARG00000102097;logic_name=havana;version=2|NA</td></tr>\n",
       "\t<tr><td>1                                                                                                                                                                                                                                                             </td><td>25584                                                                                                                                                                                                                                                         </td><td>27255                                                                                                                                                                                                                                                         </td><td>gene:ENSDARG00000099319                                                                                                                                                                                                                                       </td><td>.                                                                                                                                                                                                                                                             </td><td>+                                                                                                                                                                                                                                                             </td><td>ensembl                                                                                                                                                                                                                                                       </td><td>gene                                                                                                                                                                                                                                                          </td><td>.                                                                                                                                                                                                                                                             </td><td>ID=gene:ENSDARG00000099319;Name=CU651657.1;biotype=protein_coding;gene_id=ENSDARG00000099319;logic_name=ensembl_danio_rerio;version=1|NA                                                                                                                      </td></tr>\n",
       "\t<tr><td>1                                                                                                                                                                                                                                                             </td><td>27689                                                                                                                                                                                                                                                         </td><td>34330                                                                                                                                                                                                                                                         </td><td>gene:ENSDARG00000099640                                                                                                                                                                                                                                       </td><td>.                                                                                                                                                                                                                                                             </td><td>+                                                                                                                                                                                                                                                             </td><td>ensembl_havana                                                                                                                                                                                                                                                </td><td>gene                                                                                                                                                                                                                                                          </td><td>.                                                                                                                                                                                                                                                             </td><td>ID=gene:ENSDARG00000099640;Name=eed;biotype=protein_coding;description=embryonic ectoderm development [Source:NCBI gene%3BAcc:550463];gene_id=ENSDARG00000099640;logic_name=ensembl_havana_gene;version=1|NA                                                  </td></tr>\n",
       "\t<tr><td>1                                                                                                                                                                                                                                                             </td><td>36551                                                                                                                                                                                                                                                         </td><td>39191                                                                                                                                                                                                                                                         </td><td>gene:ENSDARG00000104071                                                                                                                                                                                                                                       </td><td>.                                                                                                                                                                                                                                                             </td><td>+                                                                                                                                                                                                                                                             </td><td>ensembl_havana                                                                                                                                                                                                                                                </td><td>gene                                                                                                                                                                                                                                                          </td><td>.                                                                                                                                                                                                                                                             </td><td>ID=gene:ENSDARG00000104071;Name=hikeshi;biotype=protein_coding;description=heat shock protein nuclear import factor hikeshi [Source:NCBI gene%3BAcc:550239];gene_id=ENSDARG00000104071;logic_name=ensembl_havana_gene;version=1|NA                            </td></tr>\n",
       "</tbody>\n",
       "</table>\n"
      ],
      "text/latex": [
       "\\begin{tabular}{r|llllllllll}\n",
       " seqid & feature\\_start & feature\\_end & feature\\_id & score & strand & unkn & feature\\_type & phase & attributes\\\\\n",
       "\\hline\n",
       "\t 1                                                                                                                                                                                                                                                                                        &  6407                                                                                                                                                                                                                                                                                    & 12027                                                                                                                                                                                                                                                                                    & gene:ENSDARG00000099104                                                                                                                                                                                                                                                                  & .                                                                                                                                                                                                                                                                                        & -                                                                                                                                                                                                                                                                                        & ensembl\\_havana                                                                                                                                                                                                                                                                         & gene                                                                                                                                                                                                                                                                                     & .                                                                                                                                                                                                                                                                                        & ID=gene:ENSDARG00000099104;Name=rpl24;biotype=protein\\_coding;description=ribosomal protein L24 {[}Source:NCBI gene\\%3BAcc:192301{]};gene\\_id=ENSDARG00000099104;logic\\_name=ensembl\\_havana\\_gene;version=1\\textbar{}NA                                                         \\\\\n",
       "\t 1                                                                                                                                                                                                                                                                                        & 11821                                                                                                                                                                                                                                                                                    & 16373                                                                                                                                                                                                                                                                                    & gene:ENSDARG00000102407                                                                                                                                                                                                                                                                  & .                                                                                                                                                                                                                                                                                        & +                                                                                                                                                                                                                                                                                        & ensembl\\_havana                                                                                                                                                                                                                                                                         & gene                                                                                                                                                                                                                                                                                     & .                                                                                                                                                                                                                                                                                        & ID=gene:ENSDARG00000102407;Name=cep97;biotype=protein\\_coding;description=centrosomal protein 97 {[}Source:ZFIN\\%3BAcc:ZDB-GENE-031030-11{]};gene\\_id=ENSDARG00000102407;logic\\_name=ensembl\\_havana\\_gene;version=2\\textbar{}NA                                                 \\\\\n",
       "\t 1                                                                                                                                                                                                                                                                                      & 18715                                                                                                                                                                                                                                                                                  & 23389                                                                                                                                                                                                                                                                                  & gene:ENSDARG00000102097                                                                                                                                                                                                                                                                & .                                                                                                                                                                                                                                                                                      & +                                                                                                                                                                                                                                                                                      & havana                                                                                                                                                                                                                                                                                 & gene                                                                                                                                                                                                                                                                                   & .                                                                                                                                                                                                                                                                                      & ID=gene:ENSDARG00000102097;Name=nfkbiz;biotype=protein\\_coding;description=nuclear factor of kappa light polypeptide gene enhancer in B-cells inhibitor\\%2C zeta {[}Source:ZFIN\\%3BAcc:ZDB-GENE-071024-1{]};gene\\_id=ENSDARG00000102097;logic\\_name=havana;version=2\\textbar{}NA\\\\\n",
       "\t 1                                                                                                                                                                                                                                                                                  & 25584                                                                                                                                                                                                                                                                              & 27255                                                                                                                                                                                                                                                                              & gene:ENSDARG00000099319                                                                                                                                                                                                                                                            & .                                                                                                                                                                                                                                                                                  & +                                                                                                                                                                                                                                                                                  & ensembl                                                                                                                                                                                                                                                                            & gene                                                                                                                                                                                                                                                                               & .                                                                                                                                                                                                                                                                                  & ID=gene:ENSDARG00000099319;Name=CU651657.1;biotype=protein\\_coding;gene\\_id=ENSDARG00000099319;logic\\_name=ensembl\\_danio\\_rerio;version=1\\textbar{}NA                                                                                                                      \\\\\n",
       "\t 1                                                                                                                                                                                                                                                                                        & 27689                                                                                                                                                                                                                                                                                    & 34330                                                                                                                                                                                                                                                                                    & gene:ENSDARG00000099640                                                                                                                                                                                                                                                                  & .                                                                                                                                                                                                                                                                                        & +                                                                                                                                                                                                                                                                                        & ensembl\\_havana                                                                                                                                                                                                                                                                         & gene                                                                                                                                                                                                                                                                                     & .                                                                                                                                                                                                                                                                                        & ID=gene:ENSDARG00000099640;Name=eed;biotype=protein\\_coding;description=embryonic ectoderm development {[}Source:NCBI gene\\%3BAcc:550463{]};gene\\_id=ENSDARG00000099640;logic\\_name=ensembl\\_havana\\_gene;version=1\\textbar{}NA                                                  \\\\\n",
       "\t 1                                                                                                                                                                                                                                                                                        & 36551                                                                                                                                                                                                                                                                                    & 39191                                                                                                                                                                                                                                                                                    & gene:ENSDARG00000104071                                                                                                                                                                                                                                                                  & .                                                                                                                                                                                                                                                                                        & +                                                                                                                                                                                                                                                                                        & ensembl\\_havana                                                                                                                                                                                                                                                                         & gene                                                                                                                                                                                                                                                                                     & .                                                                                                                                                                                                                                                                                        & ID=gene:ENSDARG00000104071;Name=hikeshi;biotype=protein\\_coding;description=heat shock protein nuclear import factor hikeshi {[}Source:NCBI gene\\%3BAcc:550239{]};gene\\_id=ENSDARG00000104071;logic\\_name=ensembl\\_havana\\_gene;version=1\\textbar{}NA                            \\\\\n",
       "\\end{tabular}\n"
      ],
      "text/markdown": [
       "\n",
       "| seqid | feature_start | feature_end | feature_id | score | strand | unkn | feature_type | phase | attributes |\n",
       "|---|---|---|---|---|---|---|---|---|---|\n",
       "| 1                                                                                                                                                                                                                                                              |  6407                                                                                                                                                                                                                                                          | 12027                                                                                                                                                                                                                                                          | gene:ENSDARG00000099104                                                                                                                                                                                                                                        | .                                                                                                                                                                                                                                                              | -                                                                                                                                                                                                                                                              | ensembl_havana                                                                                                                                                                                                                                                 | gene                                                                                                                                                                                                                                                           | .                                                                                                                                                                                                                                                              | ID=gene:ENSDARG00000099104;Name=rpl24;biotype=protein_coding;description=ribosomal protein L24 [Source:NCBI gene%3BAcc:192301];gene_id=ENSDARG00000099104;logic_name=ensembl_havana_gene;version=1|NA                                                          |\n",
       "| 1                                                                                                                                                                                                                                                              | 11821                                                                                                                                                                                                                                                          | 16373                                                                                                                                                                                                                                                          | gene:ENSDARG00000102407                                                                                                                                                                                                                                        | .                                                                                                                                                                                                                                                              | +                                                                                                                                                                                                                                                              | ensembl_havana                                                                                                                                                                                                                                                 | gene                                                                                                                                                                                                                                                           | .                                                                                                                                                                                                                                                              | ID=gene:ENSDARG00000102407;Name=cep97;biotype=protein_coding;description=centrosomal protein 97 [Source:ZFIN%3BAcc:ZDB-GENE-031030-11];gene_id=ENSDARG00000102407;logic_name=ensembl_havana_gene;version=2|NA                                                  |\n",
       "| 1                                                                                                                                                                                                                                                              | 18715                                                                                                                                                                                                                                                          | 23389                                                                                                                                                                                                                                                          | gene:ENSDARG00000102097                                                                                                                                                                                                                                        | .                                                                                                                                                                                                                                                              | +                                                                                                                                                                                                                                                              | havana                                                                                                                                                                                                                                                         | gene                                                                                                                                                                                                                                                           | .                                                                                                                                                                                                                                                              | ID=gene:ENSDARG00000102097;Name=nfkbiz;biotype=protein_coding;description=nuclear factor of kappa light polypeptide gene enhancer in B-cells inhibitor%2C zeta [Source:ZFIN%3BAcc:ZDB-GENE-071024-1];gene_id=ENSDARG00000102097;logic_name=havana;version=2|NA |\n",
       "| 1                                                                                                                                                                                                                                                              | 25584                                                                                                                                                                                                                                                          | 27255                                                                                                                                                                                                                                                          | gene:ENSDARG00000099319                                                                                                                                                                                                                                        | .                                                                                                                                                                                                                                                              | +                                                                                                                                                                                                                                                              | ensembl                                                                                                                                                                                                                                                        | gene                                                                                                                                                                                                                                                           | .                                                                                                                                                                                                                                                              | ID=gene:ENSDARG00000099319;Name=CU651657.1;biotype=protein_coding;gene_id=ENSDARG00000099319;logic_name=ensembl_danio_rerio;version=1|NA                                                                                                                       |\n",
       "| 1                                                                                                                                                                                                                                                              | 27689                                                                                                                                                                                                                                                          | 34330                                                                                                                                                                                                                                                          | gene:ENSDARG00000099640                                                                                                                                                                                                                                        | .                                                                                                                                                                                                                                                              | +                                                                                                                                                                                                                                                              | ensembl_havana                                                                                                                                                                                                                                                 | gene                                                                                                                                                                                                                                                           | .                                                                                                                                                                                                                                                              | ID=gene:ENSDARG00000099640;Name=eed;biotype=protein_coding;description=embryonic ectoderm development [Source:NCBI gene%3BAcc:550463];gene_id=ENSDARG00000099640;logic_name=ensembl_havana_gene;version=1|NA                                                   |\n",
       "| 1                                                                                                                                                                                                                                                              | 36551                                                                                                                                                                                                                                                          | 39191                                                                                                                                                                                                                                                          | gene:ENSDARG00000104071                                                                                                                                                                                                                                        | .                                                                                                                                                                                                                                                              | +                                                                                                                                                                                                                                                              | ensembl_havana                                                                                                                                                                                                                                                 | gene                                                                                                                                                                                                                                                           | .                                                                                                                                                                                                                                                              | ID=gene:ENSDARG00000104071;Name=hikeshi;biotype=protein_coding;description=heat shock protein nuclear import factor hikeshi [Source:NCBI gene%3BAcc:550239];gene_id=ENSDARG00000104071;logic_name=ensembl_havana_gene;version=1|NA                             |\n",
       "\n"
      ],
      "text/plain": [
       "  seqid feature_start feature_end feature_id              score strand\n",
       "1 1      6407         12027       gene:ENSDARG00000099104 .     -     \n",
       "2 1     11821         16373       gene:ENSDARG00000102407 .     +     \n",
       "3 1     18715         23389       gene:ENSDARG00000102097 .     +     \n",
       "4 1     25584         27255       gene:ENSDARG00000099319 .     +     \n",
       "5 1     27689         34330       gene:ENSDARG00000099640 .     +     \n",
       "6 1     36551         39191       gene:ENSDARG00000104071 .     +     \n",
       "  unkn           feature_type phase\n",
       "1 ensembl_havana gene         .    \n",
       "2 ensembl_havana gene         .    \n",
       "3 havana         gene         .    \n",
       "4 ensembl        gene         .    \n",
       "5 ensembl_havana gene         .    \n",
       "6 ensembl_havana gene         .    \n",
       "  attributes                                                                                                                                                                                                                                                    \n",
       "1 ID=gene:ENSDARG00000099104;Name=rpl24;biotype=protein_coding;description=ribosomal protein L24 [Source:NCBI gene%3BAcc:192301];gene_id=ENSDARG00000099104;logic_name=ensembl_havana_gene;version=1|NA                                                         \n",
       "2 ID=gene:ENSDARG00000102407;Name=cep97;biotype=protein_coding;description=centrosomal protein 97 [Source:ZFIN%3BAcc:ZDB-GENE-031030-11];gene_id=ENSDARG00000102407;logic_name=ensembl_havana_gene;version=2|NA                                                 \n",
       "3 ID=gene:ENSDARG00000102097;Name=nfkbiz;biotype=protein_coding;description=nuclear factor of kappa light polypeptide gene enhancer in B-cells inhibitor%2C zeta [Source:ZFIN%3BAcc:ZDB-GENE-071024-1];gene_id=ENSDARG00000102097;logic_name=havana;version=2|NA\n",
       "4 ID=gene:ENSDARG00000099319;Name=CU651657.1;biotype=protein_coding;gene_id=ENSDARG00000099319;logic_name=ensembl_danio_rerio;version=1|NA                                                                                                                      \n",
       "5 ID=gene:ENSDARG00000099640;Name=eed;biotype=protein_coding;description=embryonic ectoderm development [Source:NCBI gene%3BAcc:550463];gene_id=ENSDARG00000099640;logic_name=ensembl_havana_gene;version=1|NA                                                  \n",
       "6 ID=gene:ENSDARG00000104071;Name=hikeshi;biotype=protein_coding;description=heat shock protein nuclear import factor hikeshi [Source:NCBI gene%3BAcc:550239];gene_id=ENSDARG00000104071;logic_name=ensembl_havana_gene;version=1|NA                            "
      ]
     },
     "metadata": {},
     "output_type": "display_data"
    }
   ],
   "source": [
    "zebra_ucrit_genes <- fread(\"/data/katrinac/APPC_sequencing/DNA/trimmed_reads/mapping/ensembl/genotypes/angsd/results/ucrit_blast_results_null3kbp_candidates_closest_zebra.bed\", sep=\"\\t\", fill=T)  \n",
    "gff_names <- c(\"seqid\", \"feature_start\", \"feature_end\", \"feature_id\", \"score\", \"strand\", \"unkn\", \"feature_type\", \"phase\", \"attributes\")\n",
    "setnames(zebra_ucrit_genes, gff_names)\n",
    "head(zebra_ucrit_genes[feature_type==\"gene\"])"
   ]
  },
  {
   "cell_type": "code",
   "execution_count": 115,
   "id": "091da998",
   "metadata": {},
   "outputs": [
    {
     "data": {
      "text/html": [
       "159"
      ],
      "text/latex": [
       "159"
      ],
      "text/markdown": [
       "159"
      ],
      "text/plain": [
       "[1] 159"
      ]
     },
     "metadata": {},
     "output_type": "display_data"
    }
   ],
   "source": [
    "nrow(zebra_ucrit)"
   ]
  },
  {
   "cell_type": "markdown",
   "id": "1b8a6d81",
   "metadata": {},
   "source": [
    "__with the nearest features results, write out the regions to extract from fafsa and blast against zebra__"
   ]
  },
  {
   "cell_type": "code",
   "execution_count": 603,
   "id": "37e31348",
   "metadata": {},
   "outputs": [],
   "source": [
    "gff_names <- c(\"seqid\", \"start\",\"locus\", \"feature_start\", \"feature_end\", \"feature_id\", \"score\", \"strand\", \"unkn\", \"feature_type\", \"phase\", \"attributes\")\n",
    "sl_nearest <- fread(\"/data/katrinac/APPC_sequencing/DNA/trimmed_reads/mapping/ensembl/genotypes/angsd/results/sl_results_candidates_50bp_percula_nearest.bed\", sep=\"\\t\", fill = T)\n",
    "setnames(sl_nearest, gff_names)"
   ]
  },
  {
   "cell_type": "code",
   "execution_count": 615,
   "id": "c462cada",
   "metadata": {},
   "outputs": [
    {
     "data": {
      "text/html": [
       "<table>\n",
       "<thead><tr><th scope=col>seqid</th><th scope=col>feature_start</th><th scope=col>feature_end</th></tr></thead>\n",
       "<tbody>\n",
       "\t<tr><td>24     </td><td>6018402</td><td>6019755</td></tr>\n",
       "\t<tr><td>24     </td><td>6018402</td><td>6019755</td></tr>\n",
       "</tbody>\n",
       "</table>\n"
      ],
      "text/latex": [
       "\\begin{tabular}{r|lll}\n",
       " seqid & feature\\_start & feature\\_end\\\\\n",
       "\\hline\n",
       "\t 24      & 6018402 & 6019755\\\\\n",
       "\t 24      & 6018402 & 6019755\\\\\n",
       "\\end{tabular}\n"
      ],
      "text/markdown": [
       "\n",
       "| seqid | feature_start | feature_end |\n",
       "|---|---|---|\n",
       "| 24      | 6018402 | 6019755 |\n",
       "| 24      | 6018402 | 6019755 |\n",
       "\n"
      ],
      "text/plain": [
       "  seqid feature_start feature_end\n",
       "1 24    6018402       6019755    \n",
       "2 24    6018402       6019755    "
      ]
     },
     "metadata": {},
     "output_type": "display_data"
    }
   ],
   "source": [
    "ucrit_nearest[,.(seqid=gsub(\"chr\",\"\", seqid, fixed=T), feature_start, feature_end)][]"
   ]
  },
  {
   "cell_type": "code",
   "execution_count": 616,
   "id": "2794d816",
   "metadata": {},
   "outputs": [
    {
     "data": {
      "text/html": [
       "<table>\n",
       "<thead><tr><th scope=col>seqid</th><th scope=col>start</th><th scope=col>locus</th><th scope=col>feature_start</th><th scope=col>feature_end</th><th scope=col>feature_id</th><th scope=col>score</th><th scope=col>strand</th><th scope=col>unkn</th><th scope=col>feature_type</th><th scope=col>phase</th><th scope=col>attributes</th></tr></thead>\n",
       "<tbody>\n",
       "\t<tr><td>chr24                   </td><td>6021570                 </td><td>6021670|chr24           </td><td>6018402                 </td><td>6019755                 </td><td>APERC1_00025852         </td><td>.                       </td><td>-                       </td><td>maker                   </td><td>gene                    </td><td>.                       </td><td>ID=APERC1_00025852|-1816</td></tr>\n",
       "\t<tr><td>chr24                   </td><td>6021570                 </td><td>6021670|chr24           </td><td>6018402                 </td><td>6019755                 </td><td>APERC1_00025852         </td><td>.                       </td><td>-                       </td><td>maker                   </td><td>gene                    </td><td>.                       </td><td>ID=APERC1_00025852|-1816</td></tr>\n",
       "</tbody>\n",
       "</table>\n"
      ],
      "text/latex": [
       "\\begin{tabular}{r|llllllllllll}\n",
       " seqid & start & locus & feature\\_start & feature\\_end & feature\\_id & score & strand & unkn & feature\\_type & phase & attributes\\\\\n",
       "\\hline\n",
       "\t chr24                                & 6021570                              & 6021670\\textbar{}chr24              & 6018402                              & 6019755                              & APERC1\\_00025852                    & .                                    & -                                    & maker                                & gene                                 & .                                    & ID=APERC1\\_00025852\\textbar{}-1816\\\\\n",
       "\t chr24                                & 6021570                              & 6021670\\textbar{}chr24              & 6018402                              & 6019755                              & APERC1\\_00025852                    & .                                    & -                                    & maker                                & gene                                 & .                                    & ID=APERC1\\_00025852\\textbar{}-1816\\\\\n",
       "\\end{tabular}\n"
      ],
      "text/markdown": [
       "\n",
       "| seqid | start | locus | feature_start | feature_end | feature_id | score | strand | unkn | feature_type | phase | attributes |\n",
       "|---|---|---|---|---|---|---|---|---|---|---|---|\n",
       "| chr24                    | 6021570                  | 6021670|chr24            | 6018402                  | 6019755                  | APERC1_00025852          | .                        | -                        | maker                    | gene                     | .                        | ID=APERC1_00025852|-1816 |\n",
       "| chr24                    | 6021570                  | 6021670|chr24            | 6018402                  | 6019755                  | APERC1_00025852          | .                        | -                        | maker                    | gene                     | .                        | ID=APERC1_00025852|-1816 |\n",
       "\n"
      ],
      "text/plain": [
       "  seqid start   locus         feature_start feature_end feature_id      score\n",
       "1 chr24 6021570 6021670|chr24 6018402       6019755     APERC1_00025852 .    \n",
       "2 chr24 6021570 6021670|chr24 6018402       6019755     APERC1_00025852 .    \n",
       "  strand unkn  feature_type phase attributes              \n",
       "1 -      maker gene         .     ID=APERC1_00025852|-1816\n",
       "2 -      maker gene         .     ID=APERC1_00025852|-1816"
      ]
     },
     "metadata": {},
     "output_type": "display_data"
    }
   ],
   "source": [
    "head(ucrit_nearest)\n",
    "fwrite(ucrit_nearest[,.(seqid=gsub(\"chr\",\"\", seqid, fixed=T), feature_start, feature_end)],\"/data/katrinac/APPC_sequencing/DNA/trimmed_reads/mapping/ensembl/genotypes/angsd/results/candidates_ucrit_nearest.bed\", sep=\"\\t\",col.names = F)"
   ]
  },
  {
   "cell_type": "code",
   "execution_count": 617,
   "id": "a3431a91",
   "metadata": {},
   "outputs": [],
   "source": [
    "fwrite(sl_nearest[,.(seqid=gsub(\"chr\",\"\", seqid, fixed=T), feature_start, feature_end)],\"/data/katrinac/APPC_sequencing/DNA/trimmed_reads/mapping/ensembl/genotypes/angsd/results/candidates_sl_nearest.bed\", sep=\"\\t\",col.names = F)"
   ]
  },
  {
   "cell_type": "code",
   "execution_count": 12,
   "id": "3f1952b8",
   "metadata": {},
   "outputs": [],
   "source": [
    "all_sl_bedops <- lrt_filt_sl[,.(locus, Chromosome, start=Position-50, end=Position+50)][Chromosome %like% \"chr\"]#[,Chromosome := paste0(\"chr\", Chromosome, sep=\"\")]#, range=paste0(start, end, sep=\"-\"))]\n",
    "all_ucrit_bedops <- lrt_filt_ucrit[,.(locus, Chromosome, start=Position-50, end=Position+50)][Chromosome %like% \"chr\"]#[,Chromosome := paste0(\"chr\", Chromosome, sep=\"\")]#, range=paste0(start, end, sep=\"-\"))]\n",
    "#fwrite(all_sl_bedops[,.(Chromosome, start, end)], \"/data/katrinac/APPC_sequencing/DNA/trimmed_reads/mapping/ensembl/genotypes/angsd/results/all_sl_loci50bp.bed\", sep=\"\\t\", col.names = F)\n",
    "#fwrite(all_ucrit_bedops[,.(Chromosome, start, end)], \"/data/katrinac/APPC_sequencing/DNA/trimmed_reads/mapping/ensembl/genotypes/angsd/results/all_ucrit_loci50bp.bed\", sep=\"\\t\", col.names = F)#"
   ]
  },
  {
   "cell_type": "markdown",
   "id": "4c51213e",
   "metadata": {},
   "source": [
    "__once you get the closest feature from apercula, read in here to get the feature start and end position, use seqk to extract the regions from the reference fasta and blast against the zebrafish genome. Join that with the__"
   ]
  },
  {
   "cell_type": "code",
   "execution_count": 343,
   "id": "681e901e",
   "metadata": {},
   "outputs": [],
   "source": [
    "#were any of the genes annotate in frenatus or zebra?\n",
    "blast_sl <- fread(\"/data/katrinac/APPC_sequencing/DNA/trimmed_reads/mapping/ensembl/genotypes/angsd/results/zebra_sl_candidates_results.out\")\n",
    "best_blast_sl <- blast_sl[, .SD[which.min(evalue)], by =\"qseqid\"] #sort by best evalue for each locus\n",
    "best_blast_sl[, `:=`(sstart=ifelse(sstart > send, send, sstart), send=ifelse(sstart > send, sstart, send))]\n",
    "zebra_sl <- fread(\"/data/katrinac/APPC_sequencing/DNA/trimmed_reads/mapping/ensembl/genotypes/angsd/results/sl_blast_results_candidates_closest_zebra.bed\", fill=T)\n"
   ]
  },
  {
   "cell_type": "code",
   "execution_count": 347,
   "id": "3f9b68ab",
   "metadata": {},
   "outputs": [
    {
     "data": {
      "text/html": [
       "<table>\n",
       "<thead><tr><th scope=col>V1</th><th scope=col>V2</th><th scope=col>V3</th></tr></thead>\n",
       "<tbody>\n",
       "\t<tr><td>1       </td><td> 5343363</td><td> 5343508</td></tr>\n",
       "\t<tr><td>1       </td><td>32243461</td><td>32243590</td></tr>\n",
       "\t<tr><td>1       </td><td>47633402</td><td>47633450</td></tr>\n",
       "\t<tr><td>10      </td><td> 6755484</td><td> 6755528</td></tr>\n",
       "\t<tr><td>10      </td><td>38037735</td><td>38037839</td></tr>\n",
       "\t<tr><td>11      </td><td> 7194604</td><td> 7194759</td></tr>\n",
       "</tbody>\n",
       "</table>\n"
      ],
      "text/latex": [
       "\\begin{tabular}{r|lll}\n",
       " V1 & V2 & V3\\\\\n",
       "\\hline\n",
       "\t 1        &  5343363 &  5343508\\\\\n",
       "\t 1        & 32243461 & 32243590\\\\\n",
       "\t 1        & 47633402 & 47633450\\\\\n",
       "\t 10       &  6755484 &  6755528\\\\\n",
       "\t 10       & 38037735 & 38037839\\\\\n",
       "\t 11       &  7194604 &  7194759\\\\\n",
       "\\end{tabular}\n"
      ],
      "text/markdown": [
       "\n",
       "| V1 | V2 | V3 |\n",
       "|---|---|---|\n",
       "| 1        |  5343363 |  5343508 |\n",
       "| 1        | 32243461 | 32243590 |\n",
       "| 1        | 47633402 | 47633450 |\n",
       "| 10       |  6755484 |  6755528 |\n",
       "| 10       | 38037735 | 38037839 |\n",
       "| 11       |  7194604 |  7194759 |\n",
       "\n"
      ],
      "text/plain": [
       "  V1 V2       V3      \n",
       "1 1   5343363  5343508\n",
       "2 1  32243461 32243590\n",
       "3 1  47633402 47633450\n",
       "4 10  6755484  6755528\n",
       "5 10 38037735 38037839\n",
       "6 11  7194604  7194759"
      ]
     },
     "metadata": {},
     "output_type": "display_data"
    }
   ],
   "source": [
    "head(fread(\"/data/katrinac/APPC_sequencing/Genome/best_blast_sl_3kbp_zebra_sort.bed\"))"
   ]
  },
  {
   "cell_type": "code",
   "execution_count": 348,
   "id": "a51826cc",
   "metadata": {},
   "outputs": [],
   "source": [
    "gff_names <- c(\"sseqid\", \"feature_start\",\"feature_end\", \"feature_id\", \"phase\", \"strand\", \"source\", \"feature_type\", \"unkn\", \"attributes\", \"qstart\", \"qend\")\n",
    "setnames(zebra_sl, gff_names)\n",
    "zebra_sl[, sseqid:=as.character(sseqid)]"
   ]
  },
  {
   "cell_type": "code",
   "execution_count": 349,
   "id": "27f957c6",
   "metadata": {},
   "outputs": [
    {
     "data": {
      "text/html": [
       "<table>\n",
       "<thead><tr><th scope=col>sseqid</th><th scope=col>feature_start</th><th scope=col>feature_end</th><th scope=col>feature_id</th><th scope=col>phase</th><th scope=col>strand</th><th scope=col>source</th><th scope=col>feature_type</th><th scope=col>unkn</th><th scope=col>attributes</th><th scope=col>qstart</th><th scope=col>qend</th></tr></thead>\n",
       "<tbody>\n",
       "\t<tr><td>1                                                                                                                                                                                                   </td><td>   0                                                                                                                                                                                                </td><td>59578282                                                                                                                                                                                            </td><td>chromosome:1                                                                                                                                                                                        </td><td>.                                                                                                                                                                                                   </td><td>.                                                                                                                                                                                                   </td><td>GRCz11                                                                                                                                                                                              </td><td>chromosome                                                                                                                                                                                          </td><td>.                                                                                                                                                                                                   </td><td>ID=chromosome:1;Alias=CM002885.2,NC_007112.7|1                                                                                                                                                      </td><td>5343363                                                                                                                                                                                             </td><td>5343508                                                                                                                                                                                             </td></tr>\n",
       "\t<tr><td>1                                                                                                                                                                                                   </td><td>6407                                                                                                                                                                                                </td><td>    6679                                                                                                                                                                                            </td><td>.                                                                                                                                                                                                   </td><td>.                                                                                                                                                                                                   </td><td>-                                                                                                                                                                                                   </td><td>ensembl_havana                                                                                                                                                                                      </td><td>three_prime_UTR                                                                                                                                                                                     </td><td>.                                                                                                                                                                                                   </td><td>Parent=transcript:ENSDART00000164359|1                                                                                                                                                              </td><td>5343363                                                                                                                                                                                             </td><td>5343508                                                                                                                                                                                             </td></tr>\n",
       "\t<tr><td>1                                                                                                                                                                                                   </td><td>6407                                                                                                                                                                                                </td><td>    6760                                                                                                                                                                                            </td><td>.                                                                                                                                                                                                   </td><td>.                                                                                                                                                                                                   </td><td>-                                                                                                                                                                                                   </td><td>ensembl_havana                                                                                                                                                                                      </td><td>exon                                                                                                                                                                                                </td><td>.                                                                                                                                                                                                   </td><td>Parent=transcript:ENSDART00000164359;Name=ENSDARE00001184741;constitutive=0;ensembl_end_phase=-1;ensembl_phase=0;exon_id=ENSDARE00001184741;rank=6;version=1|1                                      </td><td>5343363                                                                                                                                                                                             </td><td>5343508                                                                                                                                                                                             </td></tr>\n",
       "\t<tr><td>1                                                                                                                                                                                                   </td><td>6407                                                                                                                                                                                                </td><td>   12027                                                                                                                                                                                            </td><td>gene:ENSDARG00000099104                                                                                                                                                                             </td><td>.                                                                                                                                                                                                   </td><td>-                                                                                                                                                                                                   </td><td>ensembl_havana                                                                                                                                                                                      </td><td>gene                                                                                                                                                                                                </td><td>.                                                                                                                                                                                                   </td><td>ID=gene:ENSDARG00000099104;Name=rpl24;biotype=protein_coding;description=ribosomal protein L24 [Source:NCBI gene%3BAcc:192301];gene_id=ENSDARG00000099104;logic_name=ensembl_havana_gene;version=1|1</td><td>5343363                                                                                                                                                                                             </td><td>5343508                                                                                                                                                                                             </td></tr>\n",
       "\t<tr><td>1                                                                                                                                                                                                   </td><td>6407                                                                                                                                                                                                </td><td>   12027                                                                                                                                                                                            </td><td>transcript:ENSDART00000164359                                                                                                                                                                       </td><td>.                                                                                                                                                                                                   </td><td>-                                                                                                                                                                                                   </td><td>ensembl_havana                                                                                                                                                                                      </td><td>mRNA                                                                                                                                                                                                </td><td>.                                                                                                                                                                                                   </td><td>ID=transcript:ENSDART00000164359;Parent=gene:ENSDARG00000099104;Name=rpl24-203;biotype=protein_coding;transcript_id=ENSDART00000164359;version=1|1                                                  </td><td>5343363                                                                                                                                                                                             </td><td>5343508                                                                                                                                                                                             </td></tr>\n",
       "\t<tr><td>1                                                                                                                                                                                                   </td><td>6641                                                                                                                                                                                                </td><td>    6760                                                                                                                                                                                            </td><td>.                                                                                                                                                                                                   </td><td>.                                                                                                                                                                                                   </td><td>-                                                                                                                                                                                                   </td><td>havana                                                                                                                                                                                              </td><td>exon                                                                                                                                                                                                </td><td>.                                                                                                                                                                                                   </td><td>Parent=transcript:ENSDART00000157701;Name=ENSDARE00001177024;constitutive=0;ensembl_end_phase=-1;ensembl_phase=-1;exon_id=ENSDARE00001177024;rank=3;version=1|1                                     </td><td>5343363                                                                                                                                                                                             </td><td>5343508                                                                                                                                                                                             </td></tr>\n",
       "</tbody>\n",
       "</table>\n"
      ],
      "text/latex": [
       "\\begin{tabular}{r|llllllllllll}\n",
       " sseqid & feature\\_start & feature\\_end & feature\\_id & phase & strand & source & feature\\_type & unkn & attributes & qstart & qend\\\\\n",
       "\\hline\n",
       "\t 1                                                                                                                                                                                                                &    0                                                                                                                                                                                                             & 59578282                                                                                                                                                                                                         & chromosome:1                                                                                                                                                                                                     & .                                                                                                                                                                                                                & .                                                                                                                                                                                                                & GRCz11                                                                                                                                                                                                           & chromosome                                                                                                                                                                                                       & .                                                                                                                                                                                                                & ID=chromosome:1;Alias=CM002885.2,NC\\_007112.7\\textbar{}1                                                                                                                                                       & 5343363                                                                                                                                                                                                          & 5343508                                                                                                                                                                                                         \\\\\n",
       "\t 1                                                                                                                                                                                                              & 6407                                                                                                                                                                                                           &     6679                                                                                                                                                                                                       & .                                                                                                                                                                                                              & .                                                                                                                                                                                                              & -                                                                                                                                                                                                              & ensembl\\_havana                                                                                                                                                                                               & three\\_prime\\_UTR                                                                                                                                                                                            & .                                                                                                                                                                                                              & Parent=transcript:ENSDART00000164359\\textbar{}1                                                                                                                                                               & 5343363                                                                                                                                                                                                        & 5343508                                                                                                                                                                                                       \\\\\n",
       "\t 1                                                                                                                                                                                                                      & 6407                                                                                                                                                                                                                   &     6760                                                                                                                                                                                                               & .                                                                                                                                                                                                                      & .                                                                                                                                                                                                                      & -                                                                                                                                                                                                                      & ensembl\\_havana                                                                                                                                                                                                       & exon                                                                                                                                                                                                                   & .                                                                                                                                                                                                                      & Parent=transcript:ENSDART00000164359;Name=ENSDARE00001184741;constitutive=0;ensembl\\_end\\_phase=-1;ensembl\\_phase=0;exon\\_id=ENSDARE00001184741;rank=6;version=1\\textbar{}1                                       & 5343363                                                                                                                                                                                                                & 5343508                                                                                                                                                                                                               \\\\\n",
       "\t 1                                                                                                                                                                                                                              & 6407                                                                                                                                                                                                                           &    12027                                                                                                                                                                                                                       & gene:ENSDARG00000099104                                                                                                                                                                                                        & .                                                                                                                                                                                                                              & -                                                                                                                                                                                                                              & ensembl\\_havana                                                                                                                                                                                                               & gene                                                                                                                                                                                                                           & .                                                                                                                                                                                                                              & ID=gene:ENSDARG00000099104;Name=rpl24;biotype=protein\\_coding;description=ribosomal protein L24 {[}Source:NCBI gene\\%3BAcc:192301{]};gene\\_id=ENSDARG00000099104;logic\\_name=ensembl\\_havana\\_gene;version=1\\textbar{}1 & 5343363                                                                                                                                                                                                                        & 5343508                                                                                                                                                                                                                       \\\\\n",
       "\t 1                                                                                                                                                                                                                  & 6407                                                                                                                                                                                                               &    12027                                                                                                                                                                                                           & transcript:ENSDART00000164359                                                                                                                                                                                      & .                                                                                                                                                                                                                  & -                                                                                                                                                                                                                  & ensembl\\_havana                                                                                                                                                                                                   & mRNA                                                                                                                                                                                                               & .                                                                                                                                                                                                                  & ID=transcript:ENSDART00000164359;Parent=gene:ENSDARG00000099104;Name=rpl24-203;biotype=protein\\_coding;transcript\\_id=ENSDART00000164359;version=1\\textbar{}1                                                   & 5343363                                                                                                                                                                                                            & 5343508                                                                                                                                                                                                           \\\\\n",
       "\t 1                                                                                                                                                                                                                      & 6641                                                                                                                                                                                                                   &     6760                                                                                                                                                                                                               & .                                                                                                                                                                                                                      & .                                                                                                                                                                                                                      & -                                                                                                                                                                                                                      & havana                                                                                                                                                                                                                 & exon                                                                                                                                                                                                                   & .                                                                                                                                                                                                                      & Parent=transcript:ENSDART00000157701;Name=ENSDARE00001177024;constitutive=0;ensembl\\_end\\_phase=-1;ensembl\\_phase=-1;exon\\_id=ENSDARE00001177024;rank=3;version=1\\textbar{}1                                      & 5343363                                                                                                                                                                                                                & 5343508                                                                                                                                                                                                               \\\\\n",
       "\\end{tabular}\n"
      ],
      "text/markdown": [
       "\n",
       "| sseqid | feature_start | feature_end | feature_id | phase | strand | source | feature_type | unkn | attributes | qstart | qend |\n",
       "|---|---|---|---|---|---|---|---|---|---|---|---|\n",
       "| 1                                                                                                                                                                                                    |    0                                                                                                                                                                                                 | 59578282                                                                                                                                                                                             | chromosome:1                                                                                                                                                                                         | .                                                                                                                                                                                                    | .                                                                                                                                                                                                    | GRCz11                                                                                                                                                                                               | chromosome                                                                                                                                                                                           | .                                                                                                                                                                                                    | ID=chromosome:1;Alias=CM002885.2,NC_007112.7|1                                                                                                                                                       | 5343363                                                                                                                                                                                              | 5343508                                                                                                                                                                                              |\n",
       "| 1                                                                                                                                                                                                    | 6407                                                                                                                                                                                                 |     6679                                                                                                                                                                                             | .                                                                                                                                                                                                    | .                                                                                                                                                                                                    | -                                                                                                                                                                                                    | ensembl_havana                                                                                                                                                                                       | three_prime_UTR                                                                                                                                                                                      | .                                                                                                                                                                                                    | Parent=transcript:ENSDART00000164359|1                                                                                                                                                               | 5343363                                                                                                                                                                                              | 5343508                                                                                                                                                                                              |\n",
       "| 1                                                                                                                                                                                                    | 6407                                                                                                                                                                                                 |     6760                                                                                                                                                                                             | .                                                                                                                                                                                                    | .                                                                                                                                                                                                    | -                                                                                                                                                                                                    | ensembl_havana                                                                                                                                                                                       | exon                                                                                                                                                                                                 | .                                                                                                                                                                                                    | Parent=transcript:ENSDART00000164359;Name=ENSDARE00001184741;constitutive=0;ensembl_end_phase=-1;ensembl_phase=0;exon_id=ENSDARE00001184741;rank=6;version=1|1                                       | 5343363                                                                                                                                                                                              | 5343508                                                                                                                                                                                              |\n",
       "| 1                                                                                                                                                                                                    | 6407                                                                                                                                                                                                 |    12027                                                                                                                                                                                             | gene:ENSDARG00000099104                                                                                                                                                                              | .                                                                                                                                                                                                    | -                                                                                                                                                                                                    | ensembl_havana                                                                                                                                                                                       | gene                                                                                                                                                                                                 | .                                                                                                                                                                                                    | ID=gene:ENSDARG00000099104;Name=rpl24;biotype=protein_coding;description=ribosomal protein L24 [Source:NCBI gene%3BAcc:192301];gene_id=ENSDARG00000099104;logic_name=ensembl_havana_gene;version=1|1 | 5343363                                                                                                                                                                                              | 5343508                                                                                                                                                                                              |\n",
       "| 1                                                                                                                                                                                                    | 6407                                                                                                                                                                                                 |    12027                                                                                                                                                                                             | transcript:ENSDART00000164359                                                                                                                                                                        | .                                                                                                                                                                                                    | -                                                                                                                                                                                                    | ensembl_havana                                                                                                                                                                                       | mRNA                                                                                                                                                                                                 | .                                                                                                                                                                                                    | ID=transcript:ENSDART00000164359;Parent=gene:ENSDARG00000099104;Name=rpl24-203;biotype=protein_coding;transcript_id=ENSDART00000164359;version=1|1                                                   | 5343363                                                                                                                                                                                              | 5343508                                                                                                                                                                                              |\n",
       "| 1                                                                                                                                                                                                    | 6641                                                                                                                                                                                                 |     6760                                                                                                                                                                                             | .                                                                                                                                                                                                    | .                                                                                                                                                                                                    | -                                                                                                                                                                                                    | havana                                                                                                                                                                                               | exon                                                                                                                                                                                                 | .                                                                                                                                                                                                    | Parent=transcript:ENSDART00000157701;Name=ENSDARE00001177024;constitutive=0;ensembl_end_phase=-1;ensembl_phase=-1;exon_id=ENSDARE00001177024;rank=3;version=1|1                                      | 5343363                                                                                                                                                                                              | 5343508                                                                                                                                                                                              |\n",
       "\n"
      ],
      "text/plain": [
       "  sseqid feature_start feature_end feature_id                    phase strand\n",
       "1 1         0          59578282    chromosome:1                  .     .     \n",
       "2 1      6407              6679    .                             .     -     \n",
       "3 1      6407              6760    .                             .     -     \n",
       "4 1      6407             12027    gene:ENSDARG00000099104       .     -     \n",
       "5 1      6407             12027    transcript:ENSDART00000164359 .     -     \n",
       "6 1      6641              6760    .                             .     -     \n",
       "  source         feature_type    unkn\n",
       "1 GRCz11         chromosome      .   \n",
       "2 ensembl_havana three_prime_UTR .   \n",
       "3 ensembl_havana exon            .   \n",
       "4 ensembl_havana gene            .   \n",
       "5 ensembl_havana mRNA            .   \n",
       "6 havana         exon            .   \n",
       "  attributes                                                                                                                                                                                          \n",
       "1 ID=chromosome:1;Alias=CM002885.2,NC_007112.7|1                                                                                                                                                      \n",
       "2 Parent=transcript:ENSDART00000164359|1                                                                                                                                                              \n",
       "3 Parent=transcript:ENSDART00000164359;Name=ENSDARE00001184741;constitutive=0;ensembl_end_phase=-1;ensembl_phase=0;exon_id=ENSDARE00001184741;rank=6;version=1|1                                      \n",
       "4 ID=gene:ENSDARG00000099104;Name=rpl24;biotype=protein_coding;description=ribosomal protein L24 [Source:NCBI gene%3BAcc:192301];gene_id=ENSDARG00000099104;logic_name=ensembl_havana_gene;version=1|1\n",
       "5 ID=transcript:ENSDART00000164359;Parent=gene:ENSDARG00000099104;Name=rpl24-203;biotype=protein_coding;transcript_id=ENSDART00000164359;version=1|1                                                  \n",
       "6 Parent=transcript:ENSDART00000157701;Name=ENSDARE00001177024;constitutive=0;ensembl_end_phase=-1;ensembl_phase=-1;exon_id=ENSDARE00001177024;rank=3;version=1|1                                     \n",
       "  qstart  qend   \n",
       "1 5343363 5343508\n",
       "2 5343363 5343508\n",
       "3 5343363 5343508\n",
       "4 5343363 5343508\n",
       "5 5343363 5343508\n",
       "6 5343363 5343508"
      ]
     },
     "metadata": {},
     "output_type": "display_data"
    }
   ],
   "source": [
    "head(zebra_sl)"
   ]
  },
  {
   "cell_type": "code",
   "execution_count": 342,
   "id": "12f4dd0e",
   "metadata": {},
   "outputs": [
    {
     "data": {
      "text/html": [
       "<table>\n",
       "<thead><tr><th scope=col>sseqid</th><th scope=col>sstart</th><th scope=col>locus</th><th scope=col>feature_start</th><th scope=col>feature_end</th><th scope=col>feature_id</th><th scope=col>score</th><th scope=col>strand</th><th scope=col>unkn</th><th scope=col>feature_type</th><th scope=col>phase</th><th scope=col>attributes</th></tr></thead>\n",
       "<tbody>\n",
       "\t<tr><td>1                                                                                                                                                                                                   </td><td>   0                                                                                                                                                                                                </td><td>59578282                                                                                                                                                                                            </td><td>chromosome:1                                                                                                                                                                                        </td><td>.                                                                                                                                                                                                   </td><td>.                                                                                                                                                                                                   </td><td>GRCz11                                                                                                                                                                                              </td><td>chromosome                                                                                                                                                                                          </td><td>.                                                                                                                                                                                                   </td><td>ID=chromosome:1;Alias=CM002885.2,NC_007112.7|1                                                                                                                                                      </td><td>5343363                                                                                                                                                                                             </td><td>5343508                                                                                                                                                                                             </td></tr>\n",
       "\t<tr><td>1                                                                                                                                                                                                   </td><td>6407                                                                                                                                                                                                </td><td>    6679                                                                                                                                                                                            </td><td>.                                                                                                                                                                                                   </td><td>.                                                                                                                                                                                                   </td><td>-                                                                                                                                                                                                   </td><td>ensembl_havana                                                                                                                                                                                      </td><td>three_prime_UTR                                                                                                                                                                                     </td><td>.                                                                                                                                                                                                   </td><td>Parent=transcript:ENSDART00000164359|1                                                                                                                                                              </td><td>5343363                                                                                                                                                                                             </td><td>5343508                                                                                                                                                                                             </td></tr>\n",
       "\t<tr><td>1                                                                                                                                                                                                   </td><td>6407                                                                                                                                                                                                </td><td>    6760                                                                                                                                                                                            </td><td>.                                                                                                                                                                                                   </td><td>.                                                                                                                                                                                                   </td><td>-                                                                                                                                                                                                   </td><td>ensembl_havana                                                                                                                                                                                      </td><td>exon                                                                                                                                                                                                </td><td>.                                                                                                                                                                                                   </td><td>Parent=transcript:ENSDART00000164359;Name=ENSDARE00001184741;constitutive=0;ensembl_end_phase=-1;ensembl_phase=0;exon_id=ENSDARE00001184741;rank=6;version=1|1                                      </td><td>5343363                                                                                                                                                                                             </td><td>5343508                                                                                                                                                                                             </td></tr>\n",
       "\t<tr><td>1                                                                                                                                                                                                   </td><td>6407                                                                                                                                                                                                </td><td>   12027                                                                                                                                                                                            </td><td>gene:ENSDARG00000099104                                                                                                                                                                             </td><td>.                                                                                                                                                                                                   </td><td>-                                                                                                                                                                                                   </td><td>ensembl_havana                                                                                                                                                                                      </td><td>gene                                                                                                                                                                                                </td><td>.                                                                                                                                                                                                   </td><td>ID=gene:ENSDARG00000099104;Name=rpl24;biotype=protein_coding;description=ribosomal protein L24 [Source:NCBI gene%3BAcc:192301];gene_id=ENSDARG00000099104;logic_name=ensembl_havana_gene;version=1|1</td><td>5343363                                                                                                                                                                                             </td><td>5343508                                                                                                                                                                                             </td></tr>\n",
       "\t<tr><td>1                                                                                                                                                                                                   </td><td>6407                                                                                                                                                                                                </td><td>   12027                                                                                                                                                                                            </td><td>transcript:ENSDART00000164359                                                                                                                                                                       </td><td>.                                                                                                                                                                                                   </td><td>-                                                                                                                                                                                                   </td><td>ensembl_havana                                                                                                                                                                                      </td><td>mRNA                                                                                                                                                                                                </td><td>.                                                                                                                                                                                                   </td><td>ID=transcript:ENSDART00000164359;Parent=gene:ENSDARG00000099104;Name=rpl24-203;biotype=protein_coding;transcript_id=ENSDART00000164359;version=1|1                                                  </td><td>5343363                                                                                                                                                                                             </td><td>5343508                                                                                                                                                                                             </td></tr>\n",
       "\t<tr><td>1                                                                                                                                                                                                   </td><td>6641                                                                                                                                                                                                </td><td>    6760                                                                                                                                                                                            </td><td>.                                                                                                                                                                                                   </td><td>.                                                                                                                                                                                                   </td><td>-                                                                                                                                                                                                   </td><td>havana                                                                                                                                                                                              </td><td>exon                                                                                                                                                                                                </td><td>.                                                                                                                                                                                                   </td><td>Parent=transcript:ENSDART00000157701;Name=ENSDARE00001177024;constitutive=0;ensembl_end_phase=-1;ensembl_phase=-1;exon_id=ENSDARE00001177024;rank=3;version=1|1                                     </td><td>5343363                                                                                                                                                                                             </td><td>5343508                                                                                                                                                                                             </td></tr>\n",
       "</tbody>\n",
       "</table>\n"
      ],
      "text/latex": [
       "\\begin{tabular}{r|llllllllllll}\n",
       " sseqid & sstart & locus & feature\\_start & feature\\_end & feature\\_id & score & strand & unkn & feature\\_type & phase & attributes\\\\\n",
       "\\hline\n",
       "\t 1                                                                                                                                                                                                                &    0                                                                                                                                                                                                             & 59578282                                                                                                                                                                                                         & chromosome:1                                                                                                                                                                                                     & .                                                                                                                                                                                                                & .                                                                                                                                                                                                                & GRCz11                                                                                                                                                                                                           & chromosome                                                                                                                                                                                                       & .                                                                                                                                                                                                                & ID=chromosome:1;Alias=CM002885.2,NC\\_007112.7\\textbar{}1                                                                                                                                                       & 5343363                                                                                                                                                                                                          & 5343508                                                                                                                                                                                                         \\\\\n",
       "\t 1                                                                                                                                                                                                              & 6407                                                                                                                                                                                                           &     6679                                                                                                                                                                                                       & .                                                                                                                                                                                                              & .                                                                                                                                                                                                              & -                                                                                                                                                                                                              & ensembl\\_havana                                                                                                                                                                                               & three\\_prime\\_UTR                                                                                                                                                                                            & .                                                                                                                                                                                                              & Parent=transcript:ENSDART00000164359\\textbar{}1                                                                                                                                                               & 5343363                                                                                                                                                                                                        & 5343508                                                                                                                                                                                                       \\\\\n",
       "\t 1                                                                                                                                                                                                                      & 6407                                                                                                                                                                                                                   &     6760                                                                                                                                                                                                               & .                                                                                                                                                                                                                      & .                                                                                                                                                                                                                      & -                                                                                                                                                                                                                      & ensembl\\_havana                                                                                                                                                                                                       & exon                                                                                                                                                                                                                   & .                                                                                                                                                                                                                      & Parent=transcript:ENSDART00000164359;Name=ENSDARE00001184741;constitutive=0;ensembl\\_end\\_phase=-1;ensembl\\_phase=0;exon\\_id=ENSDARE00001184741;rank=6;version=1\\textbar{}1                                       & 5343363                                                                                                                                                                                                                & 5343508                                                                                                                                                                                                               \\\\\n",
       "\t 1                                                                                                                                                                                                                              & 6407                                                                                                                                                                                                                           &    12027                                                                                                                                                                                                                       & gene:ENSDARG00000099104                                                                                                                                                                                                        & .                                                                                                                                                                                                                              & -                                                                                                                                                                                                                              & ensembl\\_havana                                                                                                                                                                                                               & gene                                                                                                                                                                                                                           & .                                                                                                                                                                                                                              & ID=gene:ENSDARG00000099104;Name=rpl24;biotype=protein\\_coding;description=ribosomal protein L24 {[}Source:NCBI gene\\%3BAcc:192301{]};gene\\_id=ENSDARG00000099104;logic\\_name=ensembl\\_havana\\_gene;version=1\\textbar{}1 & 5343363                                                                                                                                                                                                                        & 5343508                                                                                                                                                                                                                       \\\\\n",
       "\t 1                                                                                                                                                                                                                  & 6407                                                                                                                                                                                                               &    12027                                                                                                                                                                                                           & transcript:ENSDART00000164359                                                                                                                                                                                      & .                                                                                                                                                                                                                  & -                                                                                                                                                                                                                  & ensembl\\_havana                                                                                                                                                                                                   & mRNA                                                                                                                                                                                                               & .                                                                                                                                                                                                                  & ID=transcript:ENSDART00000164359;Parent=gene:ENSDARG00000099104;Name=rpl24-203;biotype=protein\\_coding;transcript\\_id=ENSDART00000164359;version=1\\textbar{}1                                                   & 5343363                                                                                                                                                                                                            & 5343508                                                                                                                                                                                                           \\\\\n",
       "\t 1                                                                                                                                                                                                                      & 6641                                                                                                                                                                                                                   &     6760                                                                                                                                                                                                               & .                                                                                                                                                                                                                      & .                                                                                                                                                                                                                      & -                                                                                                                                                                                                                      & havana                                                                                                                                                                                                                 & exon                                                                                                                                                                                                                   & .                                                                                                                                                                                                                      & Parent=transcript:ENSDART00000157701;Name=ENSDARE00001177024;constitutive=0;ensembl\\_end\\_phase=-1;ensembl\\_phase=-1;exon\\_id=ENSDARE00001177024;rank=3;version=1\\textbar{}1                                      & 5343363                                                                                                                                                                                                                & 5343508                                                                                                                                                                                                               \\\\\n",
       "\\end{tabular}\n"
      ],
      "text/markdown": [
       "\n",
       "| sseqid | sstart | locus | feature_start | feature_end | feature_id | score | strand | unkn | feature_type | phase | attributes |\n",
       "|---|---|---|---|---|---|---|---|---|---|---|---|\n",
       "| 1                                                                                                                                                                                                    |    0                                                                                                                                                                                                 | 59578282                                                                                                                                                                                             | chromosome:1                                                                                                                                                                                         | .                                                                                                                                                                                                    | .                                                                                                                                                                                                    | GRCz11                                                                                                                                                                                               | chromosome                                                                                                                                                                                           | .                                                                                                                                                                                                    | ID=chromosome:1;Alias=CM002885.2,NC_007112.7|1                                                                                                                                                       | 5343363                                                                                                                                                                                              | 5343508                                                                                                                                                                                              |\n",
       "| 1                                                                                                                                                                                                    | 6407                                                                                                                                                                                                 |     6679                                                                                                                                                                                             | .                                                                                                                                                                                                    | .                                                                                                                                                                                                    | -                                                                                                                                                                                                    | ensembl_havana                                                                                                                                                                                       | three_prime_UTR                                                                                                                                                                                      | .                                                                                                                                                                                                    | Parent=transcript:ENSDART00000164359|1                                                                                                                                                               | 5343363                                                                                                                                                                                              | 5343508                                                                                                                                                                                              |\n",
       "| 1                                                                                                                                                                                                    | 6407                                                                                                                                                                                                 |     6760                                                                                                                                                                                             | .                                                                                                                                                                                                    | .                                                                                                                                                                                                    | -                                                                                                                                                                                                    | ensembl_havana                                                                                                                                                                                       | exon                                                                                                                                                                                                 | .                                                                                                                                                                                                    | Parent=transcript:ENSDART00000164359;Name=ENSDARE00001184741;constitutive=0;ensembl_end_phase=-1;ensembl_phase=0;exon_id=ENSDARE00001184741;rank=6;version=1|1                                       | 5343363                                                                                                                                                                                              | 5343508                                                                                                                                                                                              |\n",
       "| 1                                                                                                                                                                                                    | 6407                                                                                                                                                                                                 |    12027                                                                                                                                                                                             | gene:ENSDARG00000099104                                                                                                                                                                              | .                                                                                                                                                                                                    | -                                                                                                                                                                                                    | ensembl_havana                                                                                                                                                                                       | gene                                                                                                                                                                                                 | .                                                                                                                                                                                                    | ID=gene:ENSDARG00000099104;Name=rpl24;biotype=protein_coding;description=ribosomal protein L24 [Source:NCBI gene%3BAcc:192301];gene_id=ENSDARG00000099104;logic_name=ensembl_havana_gene;version=1|1 | 5343363                                                                                                                                                                                              | 5343508                                                                                                                                                                                              |\n",
       "| 1                                                                                                                                                                                                    | 6407                                                                                                                                                                                                 |    12027                                                                                                                                                                                             | transcript:ENSDART00000164359                                                                                                                                                                        | .                                                                                                                                                                                                    | -                                                                                                                                                                                                    | ensembl_havana                                                                                                                                                                                       | mRNA                                                                                                                                                                                                 | .                                                                                                                                                                                                    | ID=transcript:ENSDART00000164359;Parent=gene:ENSDARG00000099104;Name=rpl24-203;biotype=protein_coding;transcript_id=ENSDART00000164359;version=1|1                                                   | 5343363                                                                                                                                                                                              | 5343508                                                                                                                                                                                              |\n",
       "| 1                                                                                                                                                                                                    | 6641                                                                                                                                                                                                 |     6760                                                                                                                                                                                             | .                                                                                                                                                                                                    | .                                                                                                                                                                                                    | -                                                                                                                                                                                                    | havana                                                                                                                                                                                               | exon                                                                                                                                                                                                 | .                                                                                                                                                                                                    | Parent=transcript:ENSDART00000157701;Name=ENSDARE00001177024;constitutive=0;ensembl_end_phase=-1;ensembl_phase=-1;exon_id=ENSDARE00001177024;rank=3;version=1|1                                      | 5343363                                                                                                                                                                                              | 5343508                                                                                                                                                                                              |\n",
       "\n"
      ],
      "text/plain": [
       "  sseqid sstart locus    feature_start                 feature_end feature_id\n",
       "1 1         0   59578282 chromosome:1                  .           .         \n",
       "2 1      6407       6679 .                             .           -         \n",
       "3 1      6407       6760 .                             .           -         \n",
       "4 1      6407      12027 gene:ENSDARG00000099104       .           -         \n",
       "5 1      6407      12027 transcript:ENSDART00000164359 .           -         \n",
       "6 1      6641       6760 .                             .           -         \n",
       "  score          strand          unkn\n",
       "1 GRCz11         chromosome      .   \n",
       "2 ensembl_havana three_prime_UTR .   \n",
       "3 ensembl_havana exon            .   \n",
       "4 ensembl_havana gene            .   \n",
       "5 ensembl_havana mRNA            .   \n",
       "6 havana         exon            .   \n",
       "  feature_type                                                                                                                                                                                        \n",
       "1 ID=chromosome:1;Alias=CM002885.2,NC_007112.7|1                                                                                                                                                      \n",
       "2 Parent=transcript:ENSDART00000164359|1                                                                                                                                                              \n",
       "3 Parent=transcript:ENSDART00000164359;Name=ENSDARE00001184741;constitutive=0;ensembl_end_phase=-1;ensembl_phase=0;exon_id=ENSDARE00001184741;rank=6;version=1|1                                      \n",
       "4 ID=gene:ENSDARG00000099104;Name=rpl24;biotype=protein_coding;description=ribosomal protein L24 [Source:NCBI gene%3BAcc:192301];gene_id=ENSDARG00000099104;logic_name=ensembl_havana_gene;version=1|1\n",
       "5 ID=transcript:ENSDART00000164359;Parent=gene:ENSDARG00000099104;Name=rpl24-203;biotype=protein_coding;transcript_id=ENSDART00000164359;version=1|1                                                  \n",
       "6 Parent=transcript:ENSDART00000157701;Name=ENSDARE00001177024;constitutive=0;ensembl_end_phase=-1;ensembl_phase=-1;exon_id=ENSDARE00001177024;rank=3;version=1|1                                     \n",
       "  phase   attributes\n",
       "1 5343363 5343508   \n",
       "2 5343363 5343508   \n",
       "3 5343363 5343508   \n",
       "4 5343363 5343508   \n",
       "5 5343363 5343508   \n",
       "6 5343363 5343508   "
      ]
     },
     "metadata": {},
     "output_type": "display_data"
    },
    {
     "data": {
      "text/html": [
       "<table>\n",
       "<thead><tr><th scope=col>qseqid</th><th scope=col>sseqid</th><th scope=col>sstart</th><th scope=col>send</th></tr></thead>\n",
       "<tbody>\n",
       "\t<tr><td>2:5427895-5437894  </td><td>CHR_ALT_CTG8_1_11  </td><td>26631634           </td><td>26631715           </td></tr>\n",
       "\t<tr><td>2:23958024-23968023</td><td>16                 </td><td>20607110           </td><td>20607141           </td></tr>\n",
       "\t<tr><td>3:14330725-14340724</td><td>3                  </td><td>56308670           </td><td>56308830           </td></tr>\n",
       "\t<tr><td>5:26591316-26601315</td><td>16                 </td><td>55120665           </td><td>55120876           </td></tr>\n",
       "\t<tr><td>6:1316877-1326876  </td><td>6                  </td><td>55332457           </td><td>55332555           </td></tr>\n",
       "\t<tr><td>7:5223068-5233067  </td><td>16                 </td><td>52608493           </td><td>52608671           </td></tr>\n",
       "</tbody>\n",
       "</table>\n"
      ],
      "text/latex": [
       "\\begin{tabular}{r|llll}\n",
       " qseqid & sseqid & sstart & send\\\\\n",
       "\\hline\n",
       "\t 2:5427895-5437894         & CHR\\_ALT\\_CTG8\\_1\\_11 & 26631634                  & 26631715                 \\\\\n",
       "\t 2:23958024-23968023 & 16                  & 20607110            & 20607141           \\\\\n",
       "\t 3:14330725-14340724 & 3                   & 56308670            & 56308830           \\\\\n",
       "\t 5:26591316-26601315 & 16                  & 55120665            & 55120876           \\\\\n",
       "\t 6:1316877-1326876   & 6                   & 55332457            & 55332555           \\\\\n",
       "\t 7:5223068-5233067   & 16                  & 52608493            & 52608671           \\\\\n",
       "\\end{tabular}\n"
      ],
      "text/markdown": [
       "\n",
       "| qseqid | sseqid | sstart | send |\n",
       "|---|---|---|---|\n",
       "| 2:5427895-5437894   | CHR_ALT_CTG8_1_11   | 26631634            | 26631715            |\n",
       "| 2:23958024-23968023 | 16                  | 20607110            | 20607141            |\n",
       "| 3:14330725-14340724 | 3                   | 56308670            | 56308830            |\n",
       "| 5:26591316-26601315 | 16                  | 55120665            | 55120876            |\n",
       "| 6:1316877-1326876   | 6                   | 55332457            | 55332555            |\n",
       "| 7:5223068-5233067   | 16                  | 52608493            | 52608671            |\n",
       "\n"
      ],
      "text/plain": [
       "  qseqid              sseqid            sstart   send    \n",
       "1 2:5427895-5437894   CHR_ALT_CTG8_1_11 26631634 26631715\n",
       "2 2:23958024-23968023 16                20607110 20607141\n",
       "3 3:14330725-14340724 3                 56308670 56308830\n",
       "4 5:26591316-26601315 16                55120665 55120876\n",
       "5 6:1316877-1326876   6                 55332457 55332555\n",
       "6 7:5223068-5233067   16                52608493 52608671"
      ]
     },
     "metadata": {},
     "output_type": "display_data"
    }
   ],
   "source": [
    "head(zebra_sl)\n",
    "head(best_blast_sl[,.(qseqid, sseqid, sstart, send)])"
   ]
  },
  {
   "cell_type": "code",
   "execution_count": 371,
   "id": "6dc26539",
   "metadata": {},
   "outputs": [],
   "source": [
    "#join the gene ids for zebra with the query sequence position\n",
    "test <- left_join(zebra_sl, best_blast_sl[,.(qseqid, sseqid, sstart, send)], by=c(qstart=\"sstart\", \"sseqid\"))"
   ]
  },
  {
   "cell_type": "code",
   "execution_count": 1,
   "id": "d868fa5b",
   "metadata": {
    "scrolled": false
   },
   "outputs": [],
   "source": [
    "#test[!is.na(qseqid)&feature_type==\"gene\"]"
   ]
  },
  {
   "cell_type": "code",
   "execution_count": 125,
   "id": "b8d0c96b",
   "metadata": {},
   "outputs": [
    {
     "data": {
      "text/html": [
       "<table>\n",
       "<thead><tr><th scope=col>Chromosome</th><th scope=col>Position</th><th scope=col>Major</th><th scope=col>Minor</th><th scope=col>Frequency</th><th scope=col>N</th><th scope=col>LRT</th><th scope=col>high_WT/HE/HO</th><th scope=col>locus</th><th scope=col>pvalue</th><th scope=col>SNP</th><th scope=col>Chromosome_man</th></tr></thead>\n",
       "<tbody>\n",
       "\t<tr><td>chr1     </td><td>10004    </td><td>A        </td><td>G        </td><td>0.109734 </td><td>147      </td><td>0.096277 </td><td>42/14/0  </td><td>1:10004  </td><td>1.2253002</td><td>r1       </td><td>1        </td></tr>\n",
       "\t<tr><td>chr1     </td><td>32316    </td><td>T        </td><td>G        </td><td>0.339790 </td><td>147      </td><td>0.843309 </td><td>11/20/0  </td><td>1:32316  </td><td>0.2849669</td><td>r2       </td><td>1        </td></tr>\n",
       "\t<tr><td>chr1     </td><td>32326    </td><td>T        </td><td>C        </td><td>0.206107 </td><td>147      </td><td>0.842760 </td><td>20/11/0  </td><td>1:32326  </td><td>0.2851380</td><td>r3       </td><td>1        </td></tr>\n",
       "\t<tr><td>chr1     </td><td>32350    </td><td>A        </td><td>G        </td><td>0.299364 </td><td>147      </td><td>0.125366 </td><td>10/10/1  </td><td>1:32350  </td><td>1.0582720</td><td>r4       </td><td>1        </td></tr>\n",
       "\t<tr><td>chr1     </td><td>32897    </td><td>C        </td><td>T        </td><td>0.198828 </td><td>147      </td><td>1.057497 </td><td>13/11/0  </td><td>1:32897  </td><td>0.2286325</td><td>r5       </td><td>1        </td></tr>\n",
       "\t<tr><td>chr1     </td><td>33219    </td><td>A        </td><td>G        </td><td>0.245286 </td><td>147      </td><td>0.272930 </td><td>13/12/0  </td><td>1:33219  </td><td>0.6662212</td><td>r6       </td><td>1        </td></tr>\n",
       "</tbody>\n",
       "</table>\n"
      ],
      "text/latex": [
       "\\begin{tabular}{r|llllllllllll}\n",
       " Chromosome & Position & Major & Minor & Frequency & N & LRT & high\\_WT/HE/HO & locus & pvalue & SNP & Chromosome\\_man\\\\\n",
       "\\hline\n",
       "\t chr1      & 10004     & A         & G         & 0.109734  & 147       & 0.096277  & 42/14/0   & 1:10004   & 1.2253002 & r1        & 1        \\\\\n",
       "\t chr1      & 32316     & T         & G         & 0.339790  & 147       & 0.843309  & 11/20/0   & 1:32316   & 0.2849669 & r2        & 1        \\\\\n",
       "\t chr1      & 32326     & T         & C         & 0.206107  & 147       & 0.842760  & 20/11/0   & 1:32326   & 0.2851380 & r3        & 1        \\\\\n",
       "\t chr1      & 32350     & A         & G         & 0.299364  & 147       & 0.125366  & 10/10/1   & 1:32350   & 1.0582720 & r4        & 1        \\\\\n",
       "\t chr1      & 32897     & C         & T         & 0.198828  & 147       & 1.057497  & 13/11/0   & 1:32897   & 0.2286325 & r5        & 1        \\\\\n",
       "\t chr1      & 33219     & A         & G         & 0.245286  & 147       & 0.272930  & 13/12/0   & 1:33219   & 0.6662212 & r6        & 1        \\\\\n",
       "\\end{tabular}\n"
      ],
      "text/markdown": [
       "\n",
       "| Chromosome | Position | Major | Minor | Frequency | N | LRT | high_WT/HE/HO | locus | pvalue | SNP | Chromosome_man |\n",
       "|---|---|---|---|---|---|---|---|---|---|---|---|\n",
       "| chr1      | 10004     | A         | G         | 0.109734  | 147       | 0.096277  | 42/14/0   | 1:10004   | 1.2253002 | r1        | 1         |\n",
       "| chr1      | 32316     | T         | G         | 0.339790  | 147       | 0.843309  | 11/20/0   | 1:32316   | 0.2849669 | r2        | 1         |\n",
       "| chr1      | 32326     | T         | C         | 0.206107  | 147       | 0.842760  | 20/11/0   | 1:32326   | 0.2851380 | r3        | 1         |\n",
       "| chr1      | 32350     | A         | G         | 0.299364  | 147       | 0.125366  | 10/10/1   | 1:32350   | 1.0582720 | r4        | 1         |\n",
       "| chr1      | 32897     | C         | T         | 0.198828  | 147       | 1.057497  | 13/11/0   | 1:32897   | 0.2286325 | r5        | 1         |\n",
       "| chr1      | 33219     | A         | G         | 0.245286  | 147       | 0.272930  | 13/12/0   | 1:33219   | 0.6662212 | r6        | 1         |\n",
       "\n"
      ],
      "text/plain": [
       "  Chromosome Position Major Minor Frequency N   LRT      high_WT/HE/HO locus  \n",
       "1 chr1       10004    A     G     0.109734  147 0.096277 42/14/0       1:10004\n",
       "2 chr1       32316    T     G     0.339790  147 0.843309 11/20/0       1:32316\n",
       "3 chr1       32326    T     C     0.206107  147 0.842760 20/11/0       1:32326\n",
       "4 chr1       32350    A     G     0.299364  147 0.125366 10/10/1       1:32350\n",
       "5 chr1       32897    C     T     0.198828  147 1.057497 13/11/0       1:32897\n",
       "6 chr1       33219    A     G     0.245286  147 0.272930 13/12/0       1:33219\n",
       "  pvalue    SNP Chromosome_man\n",
       "1 1.2253002 r1  1             \n",
       "2 0.2849669 r2  1             \n",
       "3 0.2851380 r3  1             \n",
       "4 1.0582720 r4  1             \n",
       "5 0.2286325 r5  1             \n",
       "6 0.6662212 r6  1             "
      ]
     },
     "metadata": {},
     "output_type": "display_data"
    }
   ],
   "source": [
    "head(lrt_filt_sl)"
   ]
  },
  {
   "cell_type": "code",
   "execution_count": 38,
   "id": "9b1c5cab",
   "metadata": {},
   "outputs": [
    {
     "name": "stderr",
     "output_type": "stream",
     "text": [
      "Joining, by = c(\"locus\", \"Chromosome\")Warning message in `[.data.table`(left_join(all_sl_bedops, lrt_filt_sl), , `:=`(sig, :\n",
      "“Invalid .internal.selfref detected and fixed by taking a (shallow) copy of the data.table so that := can add this new column by reference. At an earlier point, this data.table has been copied by R (or was created manually using structure() or similar). Avoid names<- and attr<- which in R currently (and oddly) may copy the whole data.table. Use set* syntax instead to avoid copying: ?set, ?setnames and ?setattr. If this message doesn't help, please report your use case to the data.table issue tracker so the root cause can be fixed or this message improved.”\n",
      "Building most specific GOs .....\n",
      "\t( 80 GO terms found. )\n",
      "\n",
      "Build GO DAG topology ..........\n",
      "\t( 424 GO terms and 810 relations. )\n",
      "\n",
      "Annotating nodes ...............\n",
      "\t( 300 genes annotated to the GO terms. )\n",
      "\n",
      "\t\t\t -- Classic Algorithm -- \n",
      "\n",
      "\t\t the algorithm is scoring 10 nontrivial nodes\n",
      "\t\t parameters: \n",
      "\t\t\t test statistic: Fisher test\n",
      "\n",
      "\t\t\t -- Elim Algorithm -- \n",
      "\n",
      "\t\t the algorithm is scoring 424 nontrivial nodes\n",
      "\t\t parameters: \n",
      "\t\t\t test statistic: Fisher test\n",
      "\t\t\t cutOff: 0.01\n",
      "\t\t\t score order: increasing\n",
      "\n",
      "\t Level 13:\t3 nodes to be scored\t(0 eliminated genes)\n",
      "\n",
      "\t Level 12:\t7 nodes to be scored\t(0 eliminated genes)\n",
      "\n",
      "\t Level 11:\t14 nodes to be scored\t(0 eliminated genes)\n",
      "\n",
      "\t Level 10:\t25 nodes to be scored\t(0 eliminated genes)\n",
      "\n",
      "\t Level 9:\t33 nodes to be scored\t(0 eliminated genes)\n",
      "\n",
      "\t Level 8:\t38 nodes to be scored\t(0 eliminated genes)\n",
      "\n",
      "\t Level 7:\t50 nodes to be scored\t(0 eliminated genes)\n",
      "\n",
      "\t Level 6:\t65 nodes to be scored\t(0 eliminated genes)\n",
      "\n",
      "\t Level 5:\t86 nodes to be scored\t(0 eliminated genes)\n",
      "\n",
      "\t Level 4:\t57 nodes to be scored\t(0 eliminated genes)\n",
      "\n",
      "\t Level 3:\t33 nodes to be scored\t(0 eliminated genes)\n",
      "\n",
      "\t Level 2:\t12 nodes to be scored\t(0 eliminated genes)\n",
      "\n",
      "\t Level 1:\t1 nodes to be scored\t(0 eliminated genes)\n"
     ]
    }
   ],
   "source": [
    "#load in the gff file from closest-feature\n",
    "gff_names <- c(\"seqid\", \"start\",\"locus\", \"feature_start\", \"feature_end\", \"feature_id\", \"score\", \"strand\", \"unkn\", \"feature_type\", \"phase\", \"attributes\")\n",
    "sl_nearest <- fread(\"/data/katrinac/APPC_sequencing/DNA/trimmed_reads/mapping/ensembl/genotypes/angsd/results/sorted_all_sl_50bp_percula_nearest.bed\", sep=\"\\t\", fill = T)\n",
    "setnames(sl_nearest, gff_names)\n",
    "\n",
    "#split the attributs column to get the gene name and the go terms\n",
    "split <- sl_nearest[, c('gene_id', 'protein_family', 'go_term_dist'):= tstrsplit(attributes, \";\")][, c('go_term', 'dist_bp'):= tstrsplit(go_term_dist, \"|\", fixed=T),by=\"gene_id\"][dist_bp <=5000]\n",
    "\n",
    "go_sl <- split[!is.na(gene_id), .(gene_id=gsub(\"ID=\", \"\", gene_id), go_term=gsub(\"Ontology_term=\", \"\", go_term))][, go_term:=gsub(\",\", \" \", go_term)][!is.na(go_term)]\n",
    "go_sl <- unique(go_sl, by=\"gene_id\")\n",
    "go_terms <- by(go_sl, go_sl$gene_id,function(x) setNames(x$go_term,x$name))\n",
    "\n",
    "go_sl <- split[!is.na(gene_id), .(gene_id=gsub(\"ID=\", \"\", gene_id), go_term=gsub(\"Ontology_term=\", \"\", go_term))][, go_term:=gsub(\",\", \" \", go_term)][!is.na(go_term)]\n",
    "go_sl_vec <- go_sl[, setNames(go_term, gene_id)]\n",
    "\n",
    "               sl_cand[, locus := paste(Chromosome, Position, sep=\":\")][,locus := gsub(\"chr\", \"\", locus)]\n",
    "           \n",
    "sl_locus_lrt <- left_join(all_sl_bedops, lrt_filt_sl)[, sig:=ifelse(locus %in% sl_cand$locus, 1, 0)][, .(Chromosome, start, end, sig)]\n",
    "genes_score <- left_join(sl_locus_lrt, split[, .(seqid, start, feature_id)], by=\"start\")[, .(feature_id, sig)][!is.na(feature_id)]\n",
    "genes_score <- unique(genes_score[order(-sig)], by=\"feature_id\")\n",
    "genes_score_vec <- genes_score[, setNames(sig, feature_id)]\n",
    "               \n",
    "#sig <- max(candidates_sl$pvalue)\n",
    "#sig <- max(lrt_filt_sl_sig$pvalue)\n",
    "GOdata <- new(\"topGOdata\", description=\"go analysis of closest genes for a percula phenotype of sl\", ontology=\"BP\", allGenes=genes_score_vec, geneSel = function(sig) {sig == 1}, annotationFun=annFUN.gene2GO, gene2GO=go_sl_vec)  \n",
    "\n",
    "test.stat <- new(\"classicCount\", testStatistic = GOFisherTest, name = \"Fisher test\")\n",
    "resultFisher <- getSigGroups(GOdata, test.stat)\n",
    "#pValue.classic <- score(resultFisher)\n",
    "\n",
    "#test.stat <- new(\"weightCount\", testStatistic = GOFisherTest, name = \"Fisher test\", sigRatio = \"ratio\")\n",
    "#resultWeight <- getSigGroups(GOdata, test.stat)\n",
    "\n",
    "test.stat <- new(\"elimScore\", testStatistic = GOKSTest, name = \"Fisher test\", cutOff = 0.01)\n",
    "resultElim <- getSigGroups(GOdata, test.stat)\n",
    "\n",
    "allRes <- GenTable(GOdata, classic = resultFisher, elim= resultElim)"
   ]
  },
  {
   "cell_type": "code",
   "execution_count": 39,
   "id": "a8df12ae",
   "metadata": {},
   "outputs": [
    {
     "data": {
      "text/html": [
       "10"
      ],
      "text/latex": [
       "10"
      ],
      "text/markdown": [
       "10"
      ],
      "text/plain": [
       "[1] 10"
      ]
     },
     "metadata": {},
     "output_type": "display_data"
    }
   ],
   "source": [
    "nrow(genes_score[sig==1])"
   ]
  },
  {
   "cell_type": "code",
   "execution_count": 40,
   "id": "6c4213ad",
   "metadata": {},
   "outputs": [
    {
     "data": {
      "text/html": [
       "25"
      ],
      "text/latex": [
       "25"
      ],
      "text/markdown": [
       "25"
      ],
      "text/plain": [
       "[1] 25"
      ]
     },
     "metadata": {},
     "output_type": "display_data"
    }
   ],
   "source": [
    "nrow(all_sl_bedops[locus %in% sl_cand$locus])"
   ]
  },
  {
   "cell_type": "code",
   "execution_count": 42,
   "id": "e0174f97",
   "metadata": {},
   "outputs": [
    {
     "name": "stderr",
     "output_type": "stream",
     "text": [
      "Joining, by = c(\"locus\", \"Chromosome\")Warning message in `[.data.table`(left_join(all_ucrit_bedops, lrt_filt_ucrit), , :\n",
      "“Invalid .internal.selfref detected and fixed by taking a (shallow) copy of the data.table so that := can add this new column by reference. At an earlier point, this data.table has been copied by R (or was created manually using structure() or similar). Avoid names<- and attr<- which in R currently (and oddly) may copy the whole data.table. Use set* syntax instead to avoid copying: ?set, ?setnames and ?setattr. If this message doesn't help, please report your use case to the data.table issue tracker so the root cause can be fixed or this message improved.”\n",
      "Building most specific GOs .....\n",
      "\t( 85 GO terms found. )\n",
      "\n",
      "Build GO DAG topology ..........\n",
      "\t( 441 GO terms and 849 relations. )\n",
      "\n",
      "Annotating nodes ...............\n",
      "\t( 328 genes annotated to the GO terms. )\n",
      "\n",
      "\t\t\t -- Classic Algorithm -- \n",
      "\n",
      "\t\t the algorithm is scoring 0 nontrivial nodes\n",
      "\t\t parameters: \n",
      "\t\t\t test statistic: Fisher test\n",
      "Warning message in .local(object, test.stat, ...):\n",
      "“No enrichment can pe performed - there are no feasible GO terms!”\n",
      "\t\t\t -- Elim Algorithm -- \n",
      "\n",
      "\t\t the algorithm is scoring 441 nontrivial nodes\n",
      "\t\t parameters: \n",
      "\t\t\t test statistic: Fisher test\n",
      "\t\t\t cutOff: 0.01\n",
      "\t\t\t score order: increasing\n",
      "\n",
      "\t Level 13:\t3 nodes to be scored\t(0 eliminated genes)\n",
      "\n",
      "\t Level 12:\t7 nodes to be scored\t(0 eliminated genes)\n",
      "\n",
      "\t Level 11:\t14 nodes to be scored\t(0 eliminated genes)\n",
      "\n",
      "\t Level 10:\t26 nodes to be scored\t(0 eliminated genes)\n",
      "\n",
      "\t Level 9:\t35 nodes to be scored\t(0 eliminated genes)\n",
      "\n",
      "\t Level 8:\t41 nodes to be scored\t(0 eliminated genes)\n",
      "\n",
      "\t Level 7:\t54 nodes to be scored\t(0 eliminated genes)\n",
      "\n",
      "\t Level 6:\t68 nodes to be scored\t(0 eliminated genes)\n",
      "\n",
      "\t Level 5:\t88 nodes to be scored\t(0 eliminated genes)\n",
      "\n",
      "\t Level 4:\t58 nodes to be scored\t(0 eliminated genes)\n",
      "\n",
      "\t Level 3:\t34 nodes to be scored\t(0 eliminated genes)\n",
      "\n",
      "\t Level 2:\t12 nodes to be scored\t(0 eliminated genes)\n",
      "\n",
      "\t Level 1:\t1 nodes to be scored\t(0 eliminated genes)\n"
     ]
    }
   ],
   "source": [
    "#load in the gff file from closest-feature\n",
    "gff_names <- c(\"seqid\", \"start\",\"locus\", \"feature_start\", \"feature_end\", \"feature_id\", \"score\", \"strand\", \"unkn\", \"feature_type\", \"phase\", \"attributes\")\n",
    "ucrit_nearest <- fread(\"/data/katrinac/APPC_sequencing/DNA/trimmed_reads/mapping/ensembl/genotypes/angsd/results/sorted_all_ucrit_50bp_percula_nearest.bed\", sep=\"\\t\", fill = T)\n",
    "setnames(ucrit_nearest, gff_names)\n",
    "\n",
    "#split the attributs column to get the gene name and the go terms\n",
    "split <- ucrit_nearest[, c('gene_id', 'protein_family', 'go_term_dist'):= tstrsplit(attributes, \";\")][, c('go_term', 'dist_bp'):= tstrsplit(go_term_dist, \"|\", fixed=T),by=\"gene_id\"][dist_bp <=5000]\n",
    "\n",
    "go_ucrit <- split[!is.na(gene_id), .(gene_id=gsub(\"ID=\", \"\", gene_id), go_term=gsub(\"Ontology_term=\", \"\", go_term))][, go_term:=gsub(\",\", \" \", go_term)][!is.na(go_term)]\n",
    "go_ucrit <- unique(go_ucrit, by=\"gene_id\")\n",
    "go_terms <- by(go_ucrit, go_ucrit$gene_id,function(x) setNames(x$go_term,x$name))\n",
    "\n",
    "go_ucrit <- split[!is.na(gene_id), .(gene_id=gsub(\"ID=\", \"\", gene_id), go_term=gsub(\"Ontology_term=\", \"\", go_term))][, go_term:=gsub(\",\", \" \", go_term)][!is.na(go_term)]\n",
    "go_ucrit_vec <- go_ucrit[, setNames(go_term, gene_id)]\n",
    "\n",
    "               ucrit_cand[, locus := paste(Chromosome, Position, sep=\":\")][,locus := gsub(\"chr\", \"\", locus)]\n",
    "           \n",
    "ucrit_locus_lrt <- left_join(all_ucrit_bedops, lrt_filt_ucrit)[, sig:=ifelse(locus %in% ucrit_cand$locus, 1, 0)][, .(Chromosome, start, end, sig)]\n",
    "genes_score <- left_join(ucrit_locus_lrt, split[, .(seqid, start, feature_id)], by=\"start\")[, .(feature_id, sig)][!is.na(feature_id)]\n",
    "#genes_score <- unique(genes_score[order(-sig)], by=\"feature_id\")\n",
    "genes_score_vec <- genes_score[, setNames(sig, feature_id)]\n",
    "               \n",
    "#sig <- max(candidates_ucrit$pvalue)\n",
    "#sig <- max(lrt_filt_ucrit_sig$pvalue)\n",
    "GOdata <- new(\"topGOdata\", description=\"go analysis of closest genes for a percula phenotype of ucrit\", ontology=\"BP\", allGenes=genes_score_vec, geneSel = function(sig) {sig == 1}, annotationFun=annFUN.gene2GO, gene2GO=go_ucrit_vec)  \n",
    "\n",
    "test.stat <- new(\"classicCount\", testStatistic = GOFisherTest, name = \"Fisher test\")\n",
    "resultFisher <- getSigGroups(GOdata, test.stat)\n",
    "#pValue.classic <- score(resultFisher)\n",
    "\n",
    "#test.stat <- new(\"weightCount\", testStatistic = GOFisherTest, name = \"Fisher test\", sigRatio = \"ratio\")\n",
    "#resultWeight <- getSigGroups(GOdata, test.stat)\n",
    "\n",
    "test.stat <- new(\"elimScore\", testStatistic = GOKSTest, name = \"Fisher test\", cutOff = 0.01)\n",
    "resultElim <- getSigGroups(GOdata, test.stat)\n",
    "\n",
    "allRes <- GenTable(GOdata, classic = resultFisher, elim= resultElim)"
   ]
  },
  {
   "cell_type": "code",
   "execution_count": 59,
   "id": "ebac5795",
   "metadata": {},
   "outputs": [
    {
     "name": "stderr",
     "output_type": "stream",
     "text": [
      "Warning message in `[.data.table`(left_join(ucrit_locus_lrt, split[, .(seqid, start, :\n",
      "“Invalid .internal.selfref detected and fixed by taking a (shallow) copy of the data.table so that := can add this new column by reference. At an earlier point, this data.table has been copied by R (or was created manually using structure() or similar). Avoid names<- and attr<- which in R currently (and oddly) may copy the whole data.table. Use set* syntax instead to avoid copying: ?set, ?setnames and ?setattr. If this message doesn't help, please report your use case to the data.table issue tracker so the root cause can be fixed or this message improved.”"
     ]
    }
   ],
   "source": [
    "genes_score <- left_join(ucrit_locus_lrt, split[, .(seqid, start, feature_id, go_term)], by=\"start\")[, go_term:=gsub(\"Ontology_term=\", \"\", go_term)][, Position := start+50]#[, .(feature_id, sig)][!is.na(feature_id)]\n"
   ]
  },
  {
   "cell_type": "code",
   "execution_count": 61,
   "id": "d886f99b",
   "metadata": {},
   "outputs": [
    {
     "data": {
      "text/html": [
       "<table>\n",
       "<thead><tr><th scope=col>Chromosome</th><th scope=col>start</th><th scope=col>end</th><th scope=col>sig</th><th scope=col>seqid</th><th scope=col>feature_id</th><th scope=col>go_term</th><th scope=col>Position</th></tr></thead>\n",
       "<tbody>\n",
       "\t<tr><td>chr5                                                             </td><td>37582741                                                         </td><td>37582841                                                         </td><td>1                                                                </td><td>chr5                                                             </td><td>APERC1_00007364                                                  </td><td>GO:0000166,GO:0004812,GO:0005524,GO:0006418,GO:0016876,GO:0043039</td><td>37582791                                                         </td></tr>\n",
       "\t<tr><td>chr13                                                            </td><td>34982907                                                         </td><td>34983007                                                         </td><td>1                                                                </td><td>NA                                                               </td><td>NA                                                               </td><td>NA                                                               </td><td>34982957                                                         </td></tr>\n",
       "\t<tr><td>chr24                                                            </td><td> 6021570                                                         </td><td> 6021670                                                         </td><td>1                                                                </td><td>NA                                                               </td><td>NA                                                               </td><td>NA                                                               </td><td> 6021620                                                         </td></tr>\n",
       "</tbody>\n",
       "</table>\n"
      ],
      "text/latex": [
       "\\begin{tabular}{r|llllllll}\n",
       " Chromosome & start & end & sig & seqid & feature\\_id & go\\_term & Position\\\\\n",
       "\\hline\n",
       "\t chr5                                                              & 37582741                                                          & 37582841                                                          & 1                                                                 & chr5                                                              & APERC1\\_00007364                                                 & GO:0000166,GO:0004812,GO:0005524,GO:0006418,GO:0016876,GO:0043039 & 37582791                                                         \\\\\n",
       "\t chr13                                                             & 34982907                                                          & 34983007                                                          & 1                                                                 & NA                                                                & NA                                                                & NA                                                                & 34982957                                                         \\\\\n",
       "\t chr24                                                             &  6021570                                                          &  6021670                                                          & 1                                                                 & NA                                                                & NA                                                                & NA                                                                &  6021620                                                         \\\\\n",
       "\\end{tabular}\n"
      ],
      "text/markdown": [
       "\n",
       "| Chromosome | start | end | sig | seqid | feature_id | go_term | Position |\n",
       "|---|---|---|---|---|---|---|---|\n",
       "| chr5                                                              | 37582741                                                          | 37582841                                                          | 1                                                                 | chr5                                                              | APERC1_00007364                                                   | GO:0000166,GO:0004812,GO:0005524,GO:0006418,GO:0016876,GO:0043039 | 37582791                                                          |\n",
       "| chr13                                                             | 34982907                                                          | 34983007                                                          | 1                                                                 | NA                                                                | NA                                                                | NA                                                                | 34982957                                                          |\n",
       "| chr24                                                             |  6021570                                                          |  6021670                                                          | 1                                                                 | NA                                                                | NA                                                                | NA                                                                |  6021620                                                          |\n",
       "\n"
      ],
      "text/plain": [
       "  Chromosome start    end      sig seqid feature_id     \n",
       "1 chr5       37582741 37582841 1   chr5  APERC1_00007364\n",
       "2 chr13      34982907 34983007 1   NA    NA             \n",
       "3 chr24       6021570  6021670 1   NA    NA             \n",
       "  go_term                                                           Position\n",
       "1 GO:0000166,GO:0004812,GO:0005524,GO:0006418,GO:0016876,GO:0043039 37582791\n",
       "2 NA                                                                34982957\n",
       "3 NA                                                                 6021620"
      ]
     },
     "metadata": {},
     "output_type": "display_data"
    }
   ],
   "source": [
    "head(genes_score[sig==1])"
   ]
  },
  {
   "cell_type": "code",
   "execution_count": 49,
   "id": "6df87ee9",
   "metadata": {},
   "outputs": [
    {
     "data": {
      "text/html": [
       "<table>\n",
       "<thead><tr><th scope=col>Chromosome</th><th scope=col>start</th><th scope=col>end</th><th scope=col>sig</th><th scope=col>seqid</th><th scope=col>feature_id</th></tr></thead>\n",
       "<tbody>\n",
       "\t<tr><td>chr1           </td><td> 9954          </td><td>10054          </td><td>0              </td><td>chr1           </td><td>APERC1_00013921</td></tr>\n",
       "\t<tr><td>chr1           </td><td>32266          </td><td>32366          </td><td>0              </td><td>chr1           </td><td>APERC1_00013921</td></tr>\n",
       "\t<tr><td>chr1           </td><td>32276          </td><td>32376          </td><td>0              </td><td>chr1           </td><td>APERC1_00013921</td></tr>\n",
       "\t<tr><td>chr1           </td><td>32300          </td><td>32400          </td><td>0              </td><td>chr1           </td><td>APERC1_00013921</td></tr>\n",
       "\t<tr><td>chr1           </td><td>32847          </td><td>32947          </td><td>0              </td><td>chr1           </td><td>APERC1_00013921</td></tr>\n",
       "\t<tr><td>chr1           </td><td>33169          </td><td>33269          </td><td>0              </td><td>chr1           </td><td>APERC1_00013921</td></tr>\n",
       "</tbody>\n",
       "</table>\n"
      ],
      "text/latex": [
       "\\begin{tabular}{r|llllll}\n",
       " Chromosome & start & end & sig & seqid & feature\\_id\\\\\n",
       "\\hline\n",
       "\t chr1              &  9954             & 10054             & 0                 & chr1              & APERC1\\_00013921\\\\\n",
       "\t chr1              & 32266             & 32366             & 0                 & chr1              & APERC1\\_00013921\\\\\n",
       "\t chr1              & 32276             & 32376             & 0                 & chr1              & APERC1\\_00013921\\\\\n",
       "\t chr1              & 32300             & 32400             & 0                 & chr1              & APERC1\\_00013921\\\\\n",
       "\t chr1              & 32847             & 32947             & 0                 & chr1              & APERC1\\_00013921\\\\\n",
       "\t chr1              & 33169             & 33269             & 0                 & chr1              & APERC1\\_00013921\\\\\n",
       "\\end{tabular}\n"
      ],
      "text/markdown": [
       "\n",
       "| Chromosome | start | end | sig | seqid | feature_id |\n",
       "|---|---|---|---|---|---|\n",
       "| chr1            |  9954           | 10054           | 0               | chr1            | APERC1_00013921 |\n",
       "| chr1            | 32266           | 32366           | 0               | chr1            | APERC1_00013921 |\n",
       "| chr1            | 32276           | 32376           | 0               | chr1            | APERC1_00013921 |\n",
       "| chr1            | 32300           | 32400           | 0               | chr1            | APERC1_00013921 |\n",
       "| chr1            | 32847           | 32947           | 0               | chr1            | APERC1_00013921 |\n",
       "| chr1            | 33169           | 33269           | 0               | chr1            | APERC1_00013921 |\n",
       "\n"
      ],
      "text/plain": [
       "  Chromosome start end   sig seqid feature_id     \n",
       "1 chr1        9954 10054 0   chr1  APERC1_00013921\n",
       "2 chr1       32266 32366 0   chr1  APERC1_00013921\n",
       "3 chr1       32276 32376 0   chr1  APERC1_00013921\n",
       "4 chr1       32300 32400 0   chr1  APERC1_00013921\n",
       "5 chr1       32847 32947 0   chr1  APERC1_00013921\n",
       "6 chr1       33169 33269 0   chr1  APERC1_00013921"
      ]
     },
     "metadata": {},
     "output_type": "display_data"
    }
   ],
   "source": [
    "head(genes_score)"
   ]
  },
  {
   "cell_type": "markdown",
   "id": "0a8644d7",
   "metadata": {},
   "source": [
    "__Pull out the significant features, write out the positions to blast zebra with seqk__"
   ]
  },
  {
   "cell_type": "code",
   "execution_count": 34,
   "id": "734d4f47",
   "metadata": {
    "scrolled": false
   },
   "outputs": [
    {
     "name": "stderr",
     "output_type": "stream",
     "text": [
      "\n",
      "\t\t\t -- Classic Algorithm -- \n",
      "\n",
      "\t\t the algorithm is scoring 10 nontrivial nodes\n",
      "\t\t parameters: \n",
      "\t\t\t test statistic: Fisher test\n",
      "\n",
      "\t\t\t -- Elim Algorithm -- \n",
      "\n",
      "\t\t the algorithm is scoring 424 nontrivial nodes\n",
      "\t\t parameters: \n",
      "\t\t\t test statistic: Fisher test\n",
      "\t\t\t cutOff: 0.01\n",
      "\t\t\t score order: increasing\n",
      "\n",
      "\t Level 13:\t3 nodes to be scored\t(0 eliminated genes)\n",
      "\n",
      "\t Level 12:\t7 nodes to be scored\t(0 eliminated genes)\n",
      "\n",
      "\t Level 11:\t14 nodes to be scored\t(0 eliminated genes)\n",
      "\n",
      "\t Level 10:\t25 nodes to be scored\t(0 eliminated genes)\n",
      "\n",
      "\t Level 9:\t33 nodes to be scored\t(0 eliminated genes)\n",
      "\n",
      "\t Level 8:\t38 nodes to be scored\t(0 eliminated genes)\n",
      "\n",
      "\t Level 7:\t50 nodes to be scored\t(0 eliminated genes)\n",
      "\n",
      "\t Level 6:\t65 nodes to be scored\t(0 eliminated genes)\n",
      "\n",
      "\t Level 5:\t86 nodes to be scored\t(0 eliminated genes)\n",
      "\n",
      "\t Level 4:\t57 nodes to be scored\t(0 eliminated genes)\n",
      "\n",
      "\t Level 3:\t33 nodes to be scored\t(0 eliminated genes)\n",
      "\n",
      "\t Level 2:\t12 nodes to be scored\t(0 eliminated genes)\n",
      "\n",
      "\t Level 1:\t1 nodes to be scored\t(0 eliminated genes)\n"
     ]
    }
   ],
   "source": [
    "#test.stat <- new(\"classicScore\", testStatistic = GOKSTest, name = \"KS tests\")\n",
    "#resultKS <- getSigGroups(GOdata, test.stat)\n",
    "\n",
    "test.stat <- new(\"classicCount\", testStatistic = GOFisherTest, name = \"Fisher test\")\n",
    "resultFisher <- getSigGroups(GOdata, test.stat)\n",
    "#pValue.classic <- score(resultFisher)\n",
    "\n",
    "#test.stat <- new(\"weightCount\", testStatistic = GOFisherTest, name = \"Fisher test\", sigRatio = \"ratio\")\n",
    "#resultWeight <- getSigGroups(GOdata, test.stat)\n",
    "\n",
    "test.stat <- new(\"elimScore\", testStatistic = GOKSTest, name = \"Fisher test\", cutOff = 0.01)\n",
    "resultElim <- getSigGroups(GOdata, test.stat)\n",
    "\n",
    "allRes <- GenTable(GOdata, classic = resultFisher, elim= resultElim)"
   ]
  },
  {
   "cell_type": "code",
   "execution_count": 41,
   "id": "e17a0f30",
   "metadata": {},
   "outputs": [
    {
     "data": {
      "text/html": [
       "<table>\n",
       "<thead><tr><th scope=col>GO.ID</th><th scope=col>Term</th><th scope=col>Annotated</th><th scope=col>Significant</th><th scope=col>Expected</th><th scope=col>Rank in elim</th><th scope=col>classic</th><th scope=col>elim</th></tr></thead>\n",
       "<tbody>\n",
       "\t<tr><td>GO:0007154                      </td><td>cell communication              </td><td> 75                             </td><td>1                               </td><td>0.25                            </td><td>295                             </td><td>0.25                            </td><td>0.73                            </td></tr>\n",
       "\t<tr><td>GO:0007165                      </td><td>signal transduction             </td><td> 75                             </td><td>1                               </td><td>0.25                            </td><td>296                             </td><td>0.25                            </td><td>0.73                            </td></tr>\n",
       "\t<tr><td>GO:0051716                      </td><td>cellular response to stimulus   </td><td> 75                             </td><td>1                               </td><td>0.25                            </td><td>297                             </td><td>0.25                            </td><td>0.73                            </td></tr>\n",
       "\t<tr><td>GO:0050896                      </td><td>response to stimulus            </td><td> 76                             </td><td>1                               </td><td>0.25                            </td><td>262                             </td><td>0.25                            </td><td>0.64                            </td></tr>\n",
       "\t<tr><td>GO:0023052                      </td><td>signaling                       </td><td> 79                             </td><td>1                               </td><td>0.26                            </td><td>333                             </td><td>0.26                            </td><td>0.83                            </td></tr>\n",
       "\t<tr><td>GO:0050794                      </td><td>regulation of cellular process  </td><td>135                             </td><td>1                               </td><td>0.45                            </td><td>218                             </td><td>0.45                            </td><td>0.50                            </td></tr>\n",
       "\t<tr><td>GO:0050789                      </td><td>regulation of biological process</td><td>137                             </td><td>1                               </td><td>0.46                            </td><td>261                             </td><td>0.46                            </td><td>0.63                            </td></tr>\n",
       "\t<tr><td>GO:0065007                      </td><td>biological regulation           </td><td>141                             </td><td>1                               </td><td>0.47                            </td><td>215                             </td><td>0.47                            </td><td>0.48                            </td></tr>\n",
       "\t<tr><td>GO:0009987                      </td><td>cellular process                </td><td>224                             </td><td>1                               </td><td>0.75                            </td><td>300                             </td><td>0.75                            </td><td>0.73                            </td></tr>\n",
       "\t<tr><td>GO:0008150                      </td><td>biological_process              </td><td>300                             </td><td>1                               </td><td>1.00                            </td><td>424                             </td><td>1.00                            </td><td>1.00                            </td></tr>\n",
       "</tbody>\n",
       "</table>\n"
      ],
      "text/latex": [
       "\\begin{tabular}{r|llllllll}\n",
       " GO.ID & Term & Annotated & Significant & Expected & Rank in elim & classic & elim\\\\\n",
       "\\hline\n",
       "\t GO:0007154                       & cell communication               &  75                              & 1                                & 0.25                             & 295                              & 0.25                             & 0.73                            \\\\\n",
       "\t GO:0007165                       & signal transduction              &  75                              & 1                                & 0.25                             & 296                              & 0.25                             & 0.73                            \\\\\n",
       "\t GO:0051716                       & cellular response to stimulus    &  75                              & 1                                & 0.25                             & 297                              & 0.25                             & 0.73                            \\\\\n",
       "\t GO:0050896                       & response to stimulus             &  76                              & 1                                & 0.25                             & 262                              & 0.25                             & 0.64                            \\\\\n",
       "\t GO:0023052                       & signaling                        &  79                              & 1                                & 0.26                             & 333                              & 0.26                             & 0.83                            \\\\\n",
       "\t GO:0050794                       & regulation of cellular process   & 135                              & 1                                & 0.45                             & 218                              & 0.45                             & 0.50                            \\\\\n",
       "\t GO:0050789                       & regulation of biological process & 137                              & 1                                & 0.46                             & 261                              & 0.46                             & 0.63                            \\\\\n",
       "\t GO:0065007                       & biological regulation            & 141                              & 1                                & 0.47                             & 215                              & 0.47                             & 0.48                            \\\\\n",
       "\t GO:0009987                       & cellular process                 & 224                              & 1                                & 0.75                             & 300                              & 0.75                             & 0.73                            \\\\\n",
       "\t GO:0008150                         & biological\\_process               & 300                                & 1                                  & 1.00                               & 424                                & 1.00                               & 1.00                              \\\\\n",
       "\\end{tabular}\n"
      ],
      "text/markdown": [
       "\n",
       "| GO.ID | Term | Annotated | Significant | Expected | Rank in elim | classic | elim |\n",
       "|---|---|---|---|---|---|---|---|\n",
       "| GO:0007154                       | cell communication               |  75                              | 1                                | 0.25                             | 295                              | 0.25                             | 0.73                             |\n",
       "| GO:0007165                       | signal transduction              |  75                              | 1                                | 0.25                             | 296                              | 0.25                             | 0.73                             |\n",
       "| GO:0051716                       | cellular response to stimulus    |  75                              | 1                                | 0.25                             | 297                              | 0.25                             | 0.73                             |\n",
       "| GO:0050896                       | response to stimulus             |  76                              | 1                                | 0.25                             | 262                              | 0.25                             | 0.64                             |\n",
       "| GO:0023052                       | signaling                        |  79                              | 1                                | 0.26                             | 333                              | 0.26                             | 0.83                             |\n",
       "| GO:0050794                       | regulation of cellular process   | 135                              | 1                                | 0.45                             | 218                              | 0.45                             | 0.50                             |\n",
       "| GO:0050789                       | regulation of biological process | 137                              | 1                                | 0.46                             | 261                              | 0.46                             | 0.63                             |\n",
       "| GO:0065007                       | biological regulation            | 141                              | 1                                | 0.47                             | 215                              | 0.47                             | 0.48                             |\n",
       "| GO:0009987                       | cellular process                 | 224                              | 1                                | 0.75                             | 300                              | 0.75                             | 0.73                             |\n",
       "| GO:0008150                       | biological_process               | 300                              | 1                                | 1.00                             | 424                              | 1.00                             | 1.00                             |\n",
       "\n"
      ],
      "text/plain": [
       "   GO.ID      Term                             Annotated Significant Expected\n",
       "1  GO:0007154 cell communication                75       1           0.25    \n",
       "2  GO:0007165 signal transduction               75       1           0.25    \n",
       "3  GO:0051716 cellular response to stimulus     75       1           0.25    \n",
       "4  GO:0050896 response to stimulus              76       1           0.25    \n",
       "5  GO:0023052 signaling                         79       1           0.26    \n",
       "6  GO:0050794 regulation of cellular process   135       1           0.45    \n",
       "7  GO:0050789 regulation of biological process 137       1           0.46    \n",
       "8  GO:0065007 biological regulation            141       1           0.47    \n",
       "9  GO:0009987 cellular process                 224       1           0.75    \n",
       "10 GO:0008150 biological_process               300       1           1.00    \n",
       "   Rank in elim classic elim\n",
       "1  295          0.25    0.73\n",
       "2  296          0.25    0.73\n",
       "3  297          0.25    0.73\n",
       "4  262          0.25    0.64\n",
       "5  333          0.26    0.83\n",
       "6  218          0.45    0.50\n",
       "7  261          0.46    0.63\n",
       "8  215          0.47    0.48\n",
       "9  300          0.75    0.73\n",
       "10 424          1.00    1.00"
      ]
     },
     "metadata": {},
     "output_type": "display_data"
    }
   ],
   "source": [
    "(allRes)"
   ]
  },
  {
   "cell_type": "code",
   "execution_count": 35,
   "id": "b83fa5f9",
   "metadata": {},
   "outputs": [
    {
     "ename": "ERROR",
     "evalue": "Error in .local(object, ...): object 'resultKS.elim' not found\n",
     "output_type": "error",
     "traceback": [
      "Error in .local(object, ...): object 'resultKS.elim' not found\nTraceback:\n",
      "1. GenTable(GOdata, elim = resultKS.elim, orderBy = \"elim\")",
      "2. GenTable(GOdata, elim = resultKS.elim, orderBy = \"elim\")",
      "3. .local(object, ...)"
     ]
    }
   ],
   "source": [
    "allRes <- GenTable(GOdata,  elim = resultKS.elim, orderBy = \"elim\")"
   ]
  },
  {
   "cell_type": "code",
   "execution_count": 36,
   "id": "304e82e3",
   "metadata": {
    "scrolled": true
   },
   "outputs": [
    {
     "data": {
      "text/html": [
       "<table>\n",
       "<thead><tr><th scope=col>GO.ID</th><th scope=col>Term</th><th scope=col>Annotated</th><th scope=col>Significant</th><th scope=col>Expected</th><th scope=col>Rank in elim</th><th scope=col>classic</th><th scope=col>elim</th></tr></thead>\n",
       "<tbody>\n",
       "\t<tr><td>GO:0007154                      </td><td>cell communication              </td><td> 75                             </td><td>1                               </td><td>0.25                            </td><td>295                             </td><td>0.25                            </td><td>0.73                            </td></tr>\n",
       "\t<tr><td>GO:0007165                      </td><td>signal transduction             </td><td> 75                             </td><td>1                               </td><td>0.25                            </td><td>296                             </td><td>0.25                            </td><td>0.73                            </td></tr>\n",
       "\t<tr><td>GO:0051716                      </td><td>cellular response to stimulus   </td><td> 75                             </td><td>1                               </td><td>0.25                            </td><td>297                             </td><td>0.25                            </td><td>0.73                            </td></tr>\n",
       "\t<tr><td>GO:0050896                      </td><td>response to stimulus            </td><td> 76                             </td><td>1                               </td><td>0.25                            </td><td>262                             </td><td>0.25                            </td><td>0.64                            </td></tr>\n",
       "\t<tr><td>GO:0023052                      </td><td>signaling                       </td><td> 79                             </td><td>1                               </td><td>0.26                            </td><td>333                             </td><td>0.26                            </td><td>0.83                            </td></tr>\n",
       "\t<tr><td>GO:0050794                      </td><td>regulation of cellular process  </td><td>135                             </td><td>1                               </td><td>0.45                            </td><td>218                             </td><td>0.45                            </td><td>0.50                            </td></tr>\n",
       "\t<tr><td>GO:0050789                      </td><td>regulation of biological process</td><td>137                             </td><td>1                               </td><td>0.46                            </td><td>261                             </td><td>0.46                            </td><td>0.63                            </td></tr>\n",
       "\t<tr><td>GO:0065007                      </td><td>biological regulation           </td><td>141                             </td><td>1                               </td><td>0.47                            </td><td>215                             </td><td>0.47                            </td><td>0.48                            </td></tr>\n",
       "\t<tr><td>GO:0009987                      </td><td>cellular process                </td><td>224                             </td><td>1                               </td><td>0.75                            </td><td>300                             </td><td>0.75                            </td><td>0.73                            </td></tr>\n",
       "\t<tr><td>GO:0008150                      </td><td>biological_process              </td><td>300                             </td><td>1                               </td><td>1.00                            </td><td>424                             </td><td>1.00                            </td><td>1.00                            </td></tr>\n",
       "</tbody>\n",
       "</table>\n"
      ],
      "text/latex": [
       "\\begin{tabular}{r|llllllll}\n",
       " GO.ID & Term & Annotated & Significant & Expected & Rank in elim & classic & elim\\\\\n",
       "\\hline\n",
       "\t GO:0007154                       & cell communication               &  75                              & 1                                & 0.25                             & 295                              & 0.25                             & 0.73                            \\\\\n",
       "\t GO:0007165                       & signal transduction              &  75                              & 1                                & 0.25                             & 296                              & 0.25                             & 0.73                            \\\\\n",
       "\t GO:0051716                       & cellular response to stimulus    &  75                              & 1                                & 0.25                             & 297                              & 0.25                             & 0.73                            \\\\\n",
       "\t GO:0050896                       & response to stimulus             &  76                              & 1                                & 0.25                             & 262                              & 0.25                             & 0.64                            \\\\\n",
       "\t GO:0023052                       & signaling                        &  79                              & 1                                & 0.26                             & 333                              & 0.26                             & 0.83                            \\\\\n",
       "\t GO:0050794                       & regulation of cellular process   & 135                              & 1                                & 0.45                             & 218                              & 0.45                             & 0.50                            \\\\\n",
       "\t GO:0050789                       & regulation of biological process & 137                              & 1                                & 0.46                             & 261                              & 0.46                             & 0.63                            \\\\\n",
       "\t GO:0065007                       & biological regulation            & 141                              & 1                                & 0.47                             & 215                              & 0.47                             & 0.48                            \\\\\n",
       "\t GO:0009987                       & cellular process                 & 224                              & 1                                & 0.75                             & 300                              & 0.75                             & 0.73                            \\\\\n",
       "\t GO:0008150                         & biological\\_process               & 300                                & 1                                  & 1.00                               & 424                                & 1.00                               & 1.00                              \\\\\n",
       "\\end{tabular}\n"
      ],
      "text/markdown": [
       "\n",
       "| GO.ID | Term | Annotated | Significant | Expected | Rank in elim | classic | elim |\n",
       "|---|---|---|---|---|---|---|---|\n",
       "| GO:0007154                       | cell communication               |  75                              | 1                                | 0.25                             | 295                              | 0.25                             | 0.73                             |\n",
       "| GO:0007165                       | signal transduction              |  75                              | 1                                | 0.25                             | 296                              | 0.25                             | 0.73                             |\n",
       "| GO:0051716                       | cellular response to stimulus    |  75                              | 1                                | 0.25                             | 297                              | 0.25                             | 0.73                             |\n",
       "| GO:0050896                       | response to stimulus             |  76                              | 1                                | 0.25                             | 262                              | 0.25                             | 0.64                             |\n",
       "| GO:0023052                       | signaling                        |  79                              | 1                                | 0.26                             | 333                              | 0.26                             | 0.83                             |\n",
       "| GO:0050794                       | regulation of cellular process   | 135                              | 1                                | 0.45                             | 218                              | 0.45                             | 0.50                             |\n",
       "| GO:0050789                       | regulation of biological process | 137                              | 1                                | 0.46                             | 261                              | 0.46                             | 0.63                             |\n",
       "| GO:0065007                       | biological regulation            | 141                              | 1                                | 0.47                             | 215                              | 0.47                             | 0.48                             |\n",
       "| GO:0009987                       | cellular process                 | 224                              | 1                                | 0.75                             | 300                              | 0.75                             | 0.73                             |\n",
       "| GO:0008150                       | biological_process               | 300                              | 1                                | 1.00                             | 424                              | 1.00                             | 1.00                             |\n",
       "\n"
      ],
      "text/plain": [
       "   GO.ID      Term                             Annotated Significant Expected\n",
       "1  GO:0007154 cell communication                75       1           0.25    \n",
       "2  GO:0007165 signal transduction               75       1           0.25    \n",
       "3  GO:0051716 cellular response to stimulus     75       1           0.25    \n",
       "4  GO:0050896 response to stimulus              76       1           0.25    \n",
       "5  GO:0023052 signaling                         79       1           0.26    \n",
       "6  GO:0050794 regulation of cellular process   135       1           0.45    \n",
       "7  GO:0050789 regulation of biological process 137       1           0.46    \n",
       "8  GO:0065007 biological regulation            141       1           0.47    \n",
       "9  GO:0009987 cellular process                 224       1           0.75    \n",
       "10 GO:0008150 biological_process               300       1           1.00    \n",
       "   Rank in elim classic elim\n",
       "1  295          0.25    0.73\n",
       "2  296          0.25    0.73\n",
       "3  297          0.25    0.73\n",
       "4  262          0.25    0.64\n",
       "5  333          0.26    0.83\n",
       "6  218          0.45    0.50\n",
       "7  261          0.46    0.63\n",
       "8  215          0.47    0.48\n",
       "9  300          0.75    0.73\n",
       "10 424          1.00    1.00"
      ]
     },
     "metadata": {},
     "output_type": "display_data"
    }
   ],
   "source": [
    "allRes"
   ]
  },
  {
   "cell_type": "code",
   "execution_count": 229,
   "id": "9071097c",
   "metadata": {},
   "outputs": [],
   "source": [
    "fwrite(allRes, \"/data/katrinac/APPC_sequencing/DNA/trimmed_reads/mapping/ensembl/genotypes/angsd/results/GO_table_null_cutoff_sl.csv\")"
   ]
  },
  {
   "cell_type": "code",
   "execution_count": 126,
   "id": "5530912f",
   "metadata": {},
   "outputs": [],
   "source": [
    "#fwrite(allRes, \"/data/katrinac/APPC_sequencing/DNA/trimmed_reads/mapping/ensembl/genotypes/angsd/results/GO_table_BH_cutoff_sl.csv\")"
   ]
  },
  {
   "cell_type": "markdown",
   "id": "fdf2644f",
   "metadata": {
    "scrolled": true
   },
   "source": [
    "__make a table of genes and pvalues for results__"
   ]
  },
  {
   "cell_type": "code",
   "execution_count": 66,
   "id": "411304c2",
   "metadata": {},
   "outputs": [
    {
     "data": {
      "text/html": [
       "<table>\n",
       "<thead><tr><th scope=col>Chromosome</th><th scope=col>Position</th><th scope=col>gene_id</th><th scope=col>go_term</th><th scope=col>dist_bp</th></tr></thead>\n",
       "<tbody>\n",
       "\t<tr><td>chr1           </td><td>10004          </td><td>APERC1_00013921</td><td>GO:0005515     </td><td>16508          </td></tr>\n",
       "\t<tr><td>chr1           </td><td>32316          </td><td>APERC1_00013921</td><td>GO:0005515     </td><td>0              </td></tr>\n",
       "\t<tr><td>chr1           </td><td>32326          </td><td>APERC1_00013921</td><td>GO:0005515     </td><td>0              </td></tr>\n",
       "\t<tr><td>chr1           </td><td>32350          </td><td>APERC1_00013921</td><td>GO:0005515     </td><td>0              </td></tr>\n",
       "\t<tr><td>chr1           </td><td>32897          </td><td>APERC1_00013921</td><td>GO:0005515     </td><td>0              </td></tr>\n",
       "\t<tr><td>chr1           </td><td>33219          </td><td>APERC1_00013921</td><td>GO:0005515     </td><td>0              </td></tr>\n",
       "</tbody>\n",
       "</table>\n"
      ],
      "text/latex": [
       "\\begin{tabular}{r|lllll}\n",
       " Chromosome & Position & gene\\_id & go\\_term & dist\\_bp\\\\\n",
       "\\hline\n",
       "\t chr1              & 10004             & APERC1\\_00013921 & GO:0005515        & 16508            \\\\\n",
       "\t chr1              & 32316             & APERC1\\_00013921 & GO:0005515        & 0                \\\\\n",
       "\t chr1              & 32326             & APERC1\\_00013921 & GO:0005515        & 0                \\\\\n",
       "\t chr1              & 32350             & APERC1\\_00013921 & GO:0005515        & 0                \\\\\n",
       "\t chr1              & 32897             & APERC1\\_00013921 & GO:0005515        & 0                \\\\\n",
       "\t chr1              & 33219             & APERC1\\_00013921 & GO:0005515        & 0                \\\\\n",
       "\\end{tabular}\n"
      ],
      "text/markdown": [
       "\n",
       "| Chromosome | Position | gene_id | go_term | dist_bp |\n",
       "|---|---|---|---|---|\n",
       "| chr1            | 10004           | APERC1_00013921 | GO:0005515      | 16508           |\n",
       "| chr1            | 32316           | APERC1_00013921 | GO:0005515      | 0               |\n",
       "| chr1            | 32326           | APERC1_00013921 | GO:0005515      | 0               |\n",
       "| chr1            | 32350           | APERC1_00013921 | GO:0005515      | 0               |\n",
       "| chr1            | 32897           | APERC1_00013921 | GO:0005515      | 0               |\n",
       "| chr1            | 33219           | APERC1_00013921 | GO:0005515      | 0               |\n",
       "\n"
      ],
      "text/plain": [
       "  Chromosome Position gene_id         go_term    dist_bp\n",
       "1 chr1       10004    APERC1_00013921 GO:0005515 16508  \n",
       "2 chr1       32316    APERC1_00013921 GO:0005515 0      \n",
       "3 chr1       32326    APERC1_00013921 GO:0005515 0      \n",
       "4 chr1       32350    APERC1_00013921 GO:0005515 0      \n",
       "5 chr1       32897    APERC1_00013921 GO:0005515 0      \n",
       "6 chr1       33219    APERC1_00013921 GO:0005515 0      "
      ]
     },
     "metadata": {},
     "output_type": "display_data"
    }
   ],
   "source": [
    "sl_gff_join <- split[, .(Chromosome=seqid, Position=start+50, gene_id=gsub(\"ID=\", \"\", gene_id), go_term=gsub(\"Ontology_term=\", \"\", go_term), dist_bp)]\n",
    "sl_gene_join <- candidate_sl_bh[,.(Chromosome =paste0(\"chr\", Chromosome, \"\"), Position, Frequency, pvalue, locus)]\n",
    "sl_gene_ids <- (left_join(sl_gene_join, sl_gff_join))[!is.na(dist_bp)][, chrom_sig_0.05 := ifelse(locus %in% candidate_sl_chrom_bh$locus, \"yes\", \"no\")]\n",
    "#fwrite(sl_gene_ids, \"/data/katrinac/APPC_sequencing/DNA/trimmed_reads/mapping/ensembl/genotypes/angsd/results/genes_table_BH_cutoff_sl.csv\")"
   ]
  },
  {
   "cell_type": "markdown",
   "id": "ef0dddda",
   "metadata": {},
   "source": [
    "__for ucrit__"
   ]
  },
  {
   "cell_type": "code",
   "execution_count": 758,
   "id": "df0abcd7",
   "metadata": {},
   "outputs": [
    {
     "name": "stderr",
     "output_type": "stream",
     "text": [
      "Joining, by = c(\"locus\", \"Chromosome\")\n",
      "Building most specific GOs .....\n",
      "\t( 88 GO terms found. )\n",
      "\n",
      "Build GO DAG topology ..........\n",
      "\t( 454 GO terms and 869 relations. )\n",
      "\n",
      "Annotating nodes ...............\n",
      "\t( 335 genes annotated to the GO terms. )\n",
      "\n",
      "\t\t\t -- Classic Algorithm -- \n",
      "\n",
      "\t\t the algorithm is scoring 454 nontrivial nodes\n",
      "\t\t parameters: \n",
      "\t\t\t test statistic: KS tests\n",
      "\t\t\t score order: increasing\n",
      "\n",
      "\t\t\t -- Classic Algorithm -- \n",
      "\n",
      "\t\t the algorithm is scoring 0 nontrivial nodes\n",
      "\t\t parameters: \n",
      "\t\t\t test statistic: Fisher test\n",
      "Warning message in .local(object, test.stat, ...):\n",
      "“No enrichment can pe performed - there are no feasible GO terms!”\n",
      "\t\t\t -- Weight Algorithm -- \n",
      "\n",
      "\t\t The algorithm is scoring 0 nontrivial nodes\n",
      "\t\t parameters: \n",
      "\t\t\t test statistic: Fisher test : ratio\n",
      "Warning message in getSigGroups(GOdata, test.stat):\n",
      "“No enrichment can pe performed - there are no feasible GO terms!”\n",
      "\t\t\t -- Elim Algorithm -- \n",
      "\n",
      "\t\t the algorithm is scoring 454 nontrivial nodes\n",
      "\t\t parameters: \n",
      "\t\t\t test statistic: Fisher test\n",
      "\t\t\t cutOff: 0.01\n",
      "\t\t\t score order: increasing\n",
      "\n",
      "\t Level 13:\t3 nodes to be scored\t(0 eliminated genes)\n",
      "\n",
      "\t Level 12:\t7 nodes to be scored\t(0 eliminated genes)\n",
      "\n",
      "\t Level 11:\t14 nodes to be scored\t(0 eliminated genes)\n",
      "\n",
      "\t Level 10:\t26 nodes to be scored\t(0 eliminated genes)\n",
      "\n",
      "\t Level 9:\t35 nodes to be scored\t(0 eliminated genes)\n",
      "\n",
      "\t Level 8:\t42 nodes to be scored\t(0 eliminated genes)\n",
      "\n",
      "\t Level 7:\t57 nodes to be scored\t(0 eliminated genes)\n",
      "\n",
      "\t Level 6:\t70 nodes to be scored\t(0 eliminated genes)\n",
      "\n",
      "\t Level 5:\t89 nodes to be scored\t(0 eliminated genes)\n",
      "\n",
      "\t Level 4:\t61 nodes to be scored\t(0 eliminated genes)\n",
      "\n",
      "\t Level 3:\t37 nodes to be scored\t(0 eliminated genes)\n",
      "\n",
      "\t Level 2:\t12 nodes to be scored\t(0 eliminated genes)\n",
      "\n",
      "\t Level 1:\t1 nodes to be scored\t(0 eliminated genes)\n"
     ]
    }
   ],
   "source": [
    "#load in the gff file from closest-feature\n",
    "gff_names <- c(\"seqid\", \"start\",\"locus\", \"feature_start\", \"feature_end\", \"feature_id\", \"score\", \"strand\", \"unkn\", \"feature_type\", \"phase\", \"attributes\")\n",
    "ucrit_nearest <- fread(\"/data/katrinac/APPC_sequencing/DNA/trimmed_reads/mapping/ensembl/genotypes/angsd/results/sorted_all_ucrit_50bp_percula_nearest.bed\", sep=\"\\t\", fill = T)\n",
    "setnames(ucrit_nearest, gff_names)\n",
    "\n",
    "split <- ucrit_nearest[, c('gene_id', 'protein_family', 'go_term_dist'):= tstrsplit(attributes, \";\")][, c('go_term', 'dist_bp'):= tstrsplit(go_term_dist, \"|\", fixed=T),by=\"gene_id\"]\n",
    "\n",
    "ucrit_locus_lrt <- left_join(all_ucrit_bedops, lrt_filt_ucrit[,Chromosome := paste0(\"chr\", Chromosome, \"\")][pvalue>1, pvalue:=1])[, .(Chromosome, start, end, pvalue)]\n",
    "genes_score <- left_join(ucrit_locus_lrt, split[, .(seqid, start, feature_id)], by=\"start\")[, .(feature_id, pvalue)][!is.na(feature_id)]\n",
    "genes_score <- unique(genes_score, by=\"feature_id\")\n",
    "genes_score_vec <- genes_score[, setNames(pvalue, feature_id)]\n",
    "\n",
    "go_ucrit <- split[!is.na(gene_id), .(gene_id=gsub(\"ID=\", \"\", gene_id), go_term=gsub(\"Ontology_term=\", \"\", go_term))][, go_term:=gsub(\",\", \" \", go_term)][!is.na(go_term)]\n",
    "go_ucrit_vec <- go_ucrit[, setNames(go_term, gene_id)]\n",
    "\n",
    "sig <- max(candidates_ucrit$pvalue)\n",
    "#sig <- max(lrt_filt_ucrit_sig$pvalue)\n",
    "GOdata <- new(\"topGOdata\", description=\"go analysis of closest genes for a percula phenotype of ucrit\", ontology=\"BP\", allGenes=genes_score_vec, geneSel = function(foo) {foo < sig}, annotationFun=annFUN.gene2GO, gene2GO=go_ucrit_vec)\n",
    "\n",
    "test.stat <- new(\"classicScore\", testStatistic = GOKSTest, name = \"KS tests\")\n",
    "resultKS <- getSigGroups(GOdata, test.stat)\n",
    "\n",
    "test.stat <- new(\"classicCount\", testStatistic = GOFisherTest, name = \"Fisher test\")\n",
    "resultFisher <- getSigGroups(GOdata, test.stat)\n",
    "pValue.classic <- score(resultFisher)\n",
    "\n",
    "test.stat <- new(\"weightCount\", testStatistic = GOFisherTest, name = \"Fisher test\", sigRatio = \"ratio\")\n",
    "resultWeight <- getSigGroups(GOdata, test.stat)\n",
    "\n",
    "test.stat <- new(\"elimScore\", testStatistic = GOKSTest, name = \"Fisher test\", cutOff = 0.01)\n",
    "resultElim <- getSigGroups(GOdata, test.stat)\n",
    "\n",
    "allRes <- GenTable(GOdata, classic = resultFisher, elim= resultElim, orderBy = \"classic\", ranksOf = \"classic\", topNodes = 40)"
   ]
  },
  {
   "cell_type": "code",
   "execution_count": 768,
   "id": "ba898335",
   "metadata": {},
   "outputs": [
    {
     "data": {
      "text/html": [
       "<table>\n",
       "<thead><tr><th scope=col>seqid</th><th scope=col>start</th><th scope=col>locus</th><th scope=col>feature_start</th><th scope=col>feature_end</th><th scope=col>feature_id</th><th scope=col>score</th><th scope=col>strand</th><th scope=col>unkn</th><th scope=col>feature_type</th><th scope=col>phase</th><th scope=col>attributes</th><th scope=col>gene_id</th><th scope=col>protein_family</th><th scope=col>go_term_dist</th><th scope=col>go_term</th><th scope=col>dist_bp</th></tr></thead>\n",
       "<tbody>\n",
       "\t<tr><td>chr24                   </td><td>6021570                 </td><td>6021670|chr24           </td><td>6018402                 </td><td>6019755                 </td><td>APERC1_00025852         </td><td>.                       </td><td>-                       </td><td>maker                   </td><td>gene                    </td><td>.                       </td><td>ID=APERC1_00025852|-1816</td><td>ID=APERC1_00025852|-1816</td><td>NA                      </td><td>NA                      </td><td>NA                      </td><td>NA                      </td></tr>\n",
       "</tbody>\n",
       "</table>\n"
      ],
      "text/latex": [
       "\\begin{tabular}{r|lllllllllllllllll}\n",
       " seqid & start & locus & feature\\_start & feature\\_end & feature\\_id & score & strand & unkn & feature\\_type & phase & attributes & gene\\_id & protein\\_family & go\\_term\\_dist & go\\_term & dist\\_bp\\\\\n",
       "\\hline\n",
       "\t chr24                                & 6021570                              & 6021670\\textbar{}chr24              & 6018402                              & 6019755                              & APERC1\\_00025852                    & .                                    & -                                    & maker                                & gene                                 & .                                    & ID=APERC1\\_00025852\\textbar{}-1816 & ID=APERC1\\_00025852\\textbar{}-1816 & NA                                   & NA                                   & NA                                   & NA                                  \\\\\n",
       "\\end{tabular}\n"
      ],
      "text/markdown": [
       "\n",
       "| seqid | start | locus | feature_start | feature_end | feature_id | score | strand | unkn | feature_type | phase | attributes | gene_id | protein_family | go_term_dist | go_term | dist_bp |\n",
       "|---|---|---|---|---|---|---|---|---|---|---|---|---|---|---|---|---|\n",
       "| chr24                    | 6021570                  | 6021670|chr24            | 6018402                  | 6019755                  | APERC1_00025852          | .                        | -                        | maker                    | gene                     | .                        | ID=APERC1_00025852|-1816 | ID=APERC1_00025852|-1816 | NA                       | NA                       | NA                       | NA                       |\n",
       "\n"
      ],
      "text/plain": [
       "  seqid start   locus         feature_start feature_end feature_id      score\n",
       "1 chr24 6021570 6021670|chr24 6018402       6019755     APERC1_00025852 .    \n",
       "  strand unkn  feature_type phase attributes              \n",
       "1 -      maker gene         .     ID=APERC1_00025852|-1816\n",
       "  gene_id                  protein_family go_term_dist go_term dist_bp\n",
       "1 ID=APERC1_00025852|-1816 NA             NA           NA      NA     "
      ]
     },
     "metadata": {},
     "output_type": "display_data"
    }
   ],
   "source": [
    "ucrit_nearest[seqid==\"chr24\" & start==6021620-50]"
   ]
  },
  {
   "cell_type": "code",
   "execution_count": 765,
   "id": "35500cd8",
   "metadata": {},
   "outputs": [
    {
     "data": {
      "text/html": [
       "<table>\n",
       "<thead><tr><th scope=col>seqid</th><th scope=col>start</th><th scope=col>locus</th><th scope=col>feature_start</th><th scope=col>feature_end</th><th scope=col>feature_id</th><th scope=col>score</th><th scope=col>strand</th><th scope=col>unkn</th><th scope=col>feature_type</th><th scope=col>phase</th><th scope=col>attributes</th><th scope=col>gene_id</th><th scope=col>protein_family</th><th scope=col>go_term_dist</th><th scope=col>go_term</th><th scope=col>dist_bp</th></tr></thead>\n",
       "<tbody>\n",
       "\t<tr><td>chr1                                                                                                                    </td><td> 9954                                                                                                                   </td><td>10054|chr1                                                                                                              </td><td>26561                                                                                                                   </td><td>55859                                                                                                                   </td><td>APERC1_00013921                                                                                                         </td><td>.                                                                                                                       </td><td>-                                                                                                                       </td><td>maker                                                                                                                   </td><td>gene                                                                                                                    </td><td>.                                                                                                                       </td><td>ID=APERC1_00013921;Dbxref=InterPro:IPR001073,InterPro:IPR011489,Pfam:PF00386,Pfam:PF07546;Ontology_term=GO:0005515|16508</td><td>ID=APERC1_00013921                                                                                                      </td><td>Dbxref=InterPro:IPR001073,InterPro:IPR011489,Pfam:PF00386,Pfam:PF07546                                                  </td><td>Ontology_term=GO:0005515|16508                                                                                          </td><td>Ontology_term=GO:0005515                                                                                                </td><td>16508                                                                                                                   </td></tr>\n",
       "\t<tr><td>chr1                                                                                                                    </td><td>32266                                                                                                                   </td><td>32366|chr1                                                                                                              </td><td>26561                                                                                                                   </td><td>55859                                                                                                                   </td><td>APERC1_00013921                                                                                                         </td><td>.                                                                                                                       </td><td>-                                                                                                                       </td><td>maker                                                                                                                   </td><td>gene                                                                                                                    </td><td>.                                                                                                                       </td><td>ID=APERC1_00013921;Dbxref=InterPro:IPR001073,InterPro:IPR011489,Pfam:PF00386,Pfam:PF07546;Ontology_term=GO:0005515|0    </td><td>ID=APERC1_00013921                                                                                                      </td><td>Dbxref=InterPro:IPR001073,InterPro:IPR011489,Pfam:PF00386,Pfam:PF07546                                                  </td><td>Ontology_term=GO:0005515|0                                                                                              </td><td>Ontology_term=GO:0005515                                                                                                </td><td>0                                                                                                                       </td></tr>\n",
       "\t<tr><td>chr1                                                                                                                    </td><td>32276                                                                                                                   </td><td>32376|chr1                                                                                                              </td><td>26561                                                                                                                   </td><td>55859                                                                                                                   </td><td>APERC1_00013921                                                                                                         </td><td>.                                                                                                                       </td><td>-                                                                                                                       </td><td>maker                                                                                                                   </td><td>gene                                                                                                                    </td><td>.                                                                                                                       </td><td>ID=APERC1_00013921;Dbxref=InterPro:IPR001073,InterPro:IPR011489,Pfam:PF00386,Pfam:PF07546;Ontology_term=GO:0005515|0    </td><td>ID=APERC1_00013921                                                                                                      </td><td>Dbxref=InterPro:IPR001073,InterPro:IPR011489,Pfam:PF00386,Pfam:PF07546                                                  </td><td>Ontology_term=GO:0005515|0                                                                                              </td><td>Ontology_term=GO:0005515                                                                                                </td><td>0                                                                                                                       </td></tr>\n",
       "\t<tr><td>chr1                                                                                                                    </td><td>32300                                                                                                                   </td><td>32400|chr1                                                                                                              </td><td>26561                                                                                                                   </td><td>55859                                                                                                                   </td><td>APERC1_00013921                                                                                                         </td><td>.                                                                                                                       </td><td>-                                                                                                                       </td><td>maker                                                                                                                   </td><td>gene                                                                                                                    </td><td>.                                                                                                                       </td><td>ID=APERC1_00013921;Dbxref=InterPro:IPR001073,InterPro:IPR011489,Pfam:PF00386,Pfam:PF07546;Ontology_term=GO:0005515|0    </td><td>ID=APERC1_00013921                                                                                                      </td><td>Dbxref=InterPro:IPR001073,InterPro:IPR011489,Pfam:PF00386,Pfam:PF07546                                                  </td><td>Ontology_term=GO:0005515|0                                                                                              </td><td>Ontology_term=GO:0005515                                                                                                </td><td>0                                                                                                                       </td></tr>\n",
       "\t<tr><td>chr1                                                                                                                    </td><td>32847                                                                                                                   </td><td>32947|chr1                                                                                                              </td><td>26561                                                                                                                   </td><td>55859                                                                                                                   </td><td>APERC1_00013921                                                                                                         </td><td>.                                                                                                                       </td><td>-                                                                                                                       </td><td>maker                                                                                                                   </td><td>gene                                                                                                                    </td><td>.                                                                                                                       </td><td>ID=APERC1_00013921;Dbxref=InterPro:IPR001073,InterPro:IPR011489,Pfam:PF00386,Pfam:PF07546;Ontology_term=GO:0005515|0    </td><td>ID=APERC1_00013921                                                                                                      </td><td>Dbxref=InterPro:IPR001073,InterPro:IPR011489,Pfam:PF00386,Pfam:PF07546                                                  </td><td>Ontology_term=GO:0005515|0                                                                                              </td><td>Ontology_term=GO:0005515                                                                                                </td><td>0                                                                                                                       </td></tr>\n",
       "\t<tr><td>chr1                                                                                                                    </td><td>33169                                                                                                                   </td><td>33269|chr1                                                                                                              </td><td>26561                                                                                                                   </td><td>55859                                                                                                                   </td><td>APERC1_00013921                                                                                                         </td><td>.                                                                                                                       </td><td>-                                                                                                                       </td><td>maker                                                                                                                   </td><td>gene                                                                                                                    </td><td>.                                                                                                                       </td><td>ID=APERC1_00013921;Dbxref=InterPro:IPR001073,InterPro:IPR011489,Pfam:PF00386,Pfam:PF07546;Ontology_term=GO:0005515|0    </td><td>ID=APERC1_00013921                                                                                                      </td><td>Dbxref=InterPro:IPR001073,InterPro:IPR011489,Pfam:PF00386,Pfam:PF07546                                                  </td><td>Ontology_term=GO:0005515|0                                                                                              </td><td>Ontology_term=GO:0005515                                                                                                </td><td>0                                                                                                                       </td></tr>\n",
       "</tbody>\n",
       "</table>\n"
      ],
      "text/latex": [
       "\\begin{tabular}{r|lllllllllllllllll}\n",
       " seqid & start & locus & feature\\_start & feature\\_end & feature\\_id & score & strand & unkn & feature\\_type & phase & attributes & gene\\_id & protein\\_family & go\\_term\\_dist & go\\_term & dist\\_bp\\\\\n",
       "\\hline\n",
       "\t chr1                                                                                                                                   &  9954                                                                                                                                  & 10054\\textbar{}chr1                                                                                                                   & 26561                                                                                                                                  & 55859                                                                                                                                  & APERC1\\_00013921                                                                                                                      & .                                                                                                                                      & -                                                                                                                                      & maker                                                                                                                                  & gene                                                                                                                                   & .                                                                                                                                      & ID=APERC1\\_00013921;Dbxref=InterPro:IPR001073,InterPro:IPR011489,Pfam:PF00386,Pfam:PF07546;Ontology\\_term=GO:0005515\\textbar{}16508 & ID=APERC1\\_00013921                                                                                                                   & Dbxref=InterPro:IPR001073,InterPro:IPR011489,Pfam:PF00386,Pfam:PF07546                                                                 & Ontology\\_term=GO:0005515\\textbar{}16508                                                                                             & Ontology\\_term=GO:0005515                                                                                                             & 16508                                                                                                                                 \\\\\n",
       "\t chr1                                                                                                                                   & 32266                                                                                                                                  & 32366\\textbar{}chr1                                                                                                                   & 26561                                                                                                                                  & 55859                                                                                                                                  & APERC1\\_00013921                                                                                                                      & .                                                                                                                                      & -                                                                                                                                      & maker                                                                                                                                  & gene                                                                                                                                   & .                                                                                                                                      & ID=APERC1\\_00013921;Dbxref=InterPro:IPR001073,InterPro:IPR011489,Pfam:PF00386,Pfam:PF07546;Ontology\\_term=GO:0005515\\textbar{}0     & ID=APERC1\\_00013921                                                                                                                   & Dbxref=InterPro:IPR001073,InterPro:IPR011489,Pfam:PF00386,Pfam:PF07546                                                                 & Ontology\\_term=GO:0005515\\textbar{}0                                                                                                 & Ontology\\_term=GO:0005515                                                                                                             & 0                                                                                                                                     \\\\\n",
       "\t chr1                                                                                                                                   & 32276                                                                                                                                  & 32376\\textbar{}chr1                                                                                                                   & 26561                                                                                                                                  & 55859                                                                                                                                  & APERC1\\_00013921                                                                                                                      & .                                                                                                                                      & -                                                                                                                                      & maker                                                                                                                                  & gene                                                                                                                                   & .                                                                                                                                      & ID=APERC1\\_00013921;Dbxref=InterPro:IPR001073,InterPro:IPR011489,Pfam:PF00386,Pfam:PF07546;Ontology\\_term=GO:0005515\\textbar{}0     & ID=APERC1\\_00013921                                                                                                                   & Dbxref=InterPro:IPR001073,InterPro:IPR011489,Pfam:PF00386,Pfam:PF07546                                                                 & Ontology\\_term=GO:0005515\\textbar{}0                                                                                                 & Ontology\\_term=GO:0005515                                                                                                             & 0                                                                                                                                     \\\\\n",
       "\t chr1                                                                                                                                   & 32300                                                                                                                                  & 32400\\textbar{}chr1                                                                                                                   & 26561                                                                                                                                  & 55859                                                                                                                                  & APERC1\\_00013921                                                                                                                      & .                                                                                                                                      & -                                                                                                                                      & maker                                                                                                                                  & gene                                                                                                                                   & .                                                                                                                                      & ID=APERC1\\_00013921;Dbxref=InterPro:IPR001073,InterPro:IPR011489,Pfam:PF00386,Pfam:PF07546;Ontology\\_term=GO:0005515\\textbar{}0     & ID=APERC1\\_00013921                                                                                                                   & Dbxref=InterPro:IPR001073,InterPro:IPR011489,Pfam:PF00386,Pfam:PF07546                                                                 & Ontology\\_term=GO:0005515\\textbar{}0                                                                                                 & Ontology\\_term=GO:0005515                                                                                                             & 0                                                                                                                                     \\\\\n",
       "\t chr1                                                                                                                                   & 32847                                                                                                                                  & 32947\\textbar{}chr1                                                                                                                   & 26561                                                                                                                                  & 55859                                                                                                                                  & APERC1\\_00013921                                                                                                                      & .                                                                                                                                      & -                                                                                                                                      & maker                                                                                                                                  & gene                                                                                                                                   & .                                                                                                                                      & ID=APERC1\\_00013921;Dbxref=InterPro:IPR001073,InterPro:IPR011489,Pfam:PF00386,Pfam:PF07546;Ontology\\_term=GO:0005515\\textbar{}0     & ID=APERC1\\_00013921                                                                                                                   & Dbxref=InterPro:IPR001073,InterPro:IPR011489,Pfam:PF00386,Pfam:PF07546                                                                 & Ontology\\_term=GO:0005515\\textbar{}0                                                                                                 & Ontology\\_term=GO:0005515                                                                                                             & 0                                                                                                                                     \\\\\n",
       "\t chr1                                                                                                                                   & 33169                                                                                                                                  & 33269\\textbar{}chr1                                                                                                                   & 26561                                                                                                                                  & 55859                                                                                                                                  & APERC1\\_00013921                                                                                                                      & .                                                                                                                                      & -                                                                                                                                      & maker                                                                                                                                  & gene                                                                                                                                   & .                                                                                                                                      & ID=APERC1\\_00013921;Dbxref=InterPro:IPR001073,InterPro:IPR011489,Pfam:PF00386,Pfam:PF07546;Ontology\\_term=GO:0005515\\textbar{}0     & ID=APERC1\\_00013921                                                                                                                   & Dbxref=InterPro:IPR001073,InterPro:IPR011489,Pfam:PF00386,Pfam:PF07546                                                                 & Ontology\\_term=GO:0005515\\textbar{}0                                                                                                 & Ontology\\_term=GO:0005515                                                                                                             & 0                                                                                                                                     \\\\\n",
       "\\end{tabular}\n"
      ],
      "text/markdown": [
       "\n",
       "| seqid | start | locus | feature_start | feature_end | feature_id | score | strand | unkn | feature_type | phase | attributes | gene_id | protein_family | go_term_dist | go_term | dist_bp |\n",
       "|---|---|---|---|---|---|---|---|---|---|---|---|---|---|---|---|---|\n",
       "| chr1                                                                                                                     |  9954                                                                                                                    | 10054|chr1                                                                                                               | 26561                                                                                                                    | 55859                                                                                                                    | APERC1_00013921                                                                                                          | .                                                                                                                        | -                                                                                                                        | maker                                                                                                                    | gene                                                                                                                     | .                                                                                                                        | ID=APERC1_00013921;Dbxref=InterPro:IPR001073,InterPro:IPR011489,Pfam:PF00386,Pfam:PF07546;Ontology_term=GO:0005515|16508 | ID=APERC1_00013921                                                                                                       | Dbxref=InterPro:IPR001073,InterPro:IPR011489,Pfam:PF00386,Pfam:PF07546                                                   | Ontology_term=GO:0005515|16508                                                                                           | Ontology_term=GO:0005515                                                                                                 | 16508                                                                                                                    |\n",
       "| chr1                                                                                                                     | 32266                                                                                                                    | 32366|chr1                                                                                                               | 26561                                                                                                                    | 55859                                                                                                                    | APERC1_00013921                                                                                                          | .                                                                                                                        | -                                                                                                                        | maker                                                                                                                    | gene                                                                                                                     | .                                                                                                                        | ID=APERC1_00013921;Dbxref=InterPro:IPR001073,InterPro:IPR011489,Pfam:PF00386,Pfam:PF07546;Ontology_term=GO:0005515|0     | ID=APERC1_00013921                                                                                                       | Dbxref=InterPro:IPR001073,InterPro:IPR011489,Pfam:PF00386,Pfam:PF07546                                                   | Ontology_term=GO:0005515|0                                                                                               | Ontology_term=GO:0005515                                                                                                 | 0                                                                                                                        |\n",
       "| chr1                                                                                                                     | 32276                                                                                                                    | 32376|chr1                                                                                                               | 26561                                                                                                                    | 55859                                                                                                                    | APERC1_00013921                                                                                                          | .                                                                                                                        | -                                                                                                                        | maker                                                                                                                    | gene                                                                                                                     | .                                                                                                                        | ID=APERC1_00013921;Dbxref=InterPro:IPR001073,InterPro:IPR011489,Pfam:PF00386,Pfam:PF07546;Ontology_term=GO:0005515|0     | ID=APERC1_00013921                                                                                                       | Dbxref=InterPro:IPR001073,InterPro:IPR011489,Pfam:PF00386,Pfam:PF07546                                                   | Ontology_term=GO:0005515|0                                                                                               | Ontology_term=GO:0005515                                                                                                 | 0                                                                                                                        |\n",
       "| chr1                                                                                                                     | 32300                                                                                                                    | 32400|chr1                                                                                                               | 26561                                                                                                                    | 55859                                                                                                                    | APERC1_00013921                                                                                                          | .                                                                                                                        | -                                                                                                                        | maker                                                                                                                    | gene                                                                                                                     | .                                                                                                                        | ID=APERC1_00013921;Dbxref=InterPro:IPR001073,InterPro:IPR011489,Pfam:PF00386,Pfam:PF07546;Ontology_term=GO:0005515|0     | ID=APERC1_00013921                                                                                                       | Dbxref=InterPro:IPR001073,InterPro:IPR011489,Pfam:PF00386,Pfam:PF07546                                                   | Ontology_term=GO:0005515|0                                                                                               | Ontology_term=GO:0005515                                                                                                 | 0                                                                                                                        |\n",
       "| chr1                                                                                                                     | 32847                                                                                                                    | 32947|chr1                                                                                                               | 26561                                                                                                                    | 55859                                                                                                                    | APERC1_00013921                                                                                                          | .                                                                                                                        | -                                                                                                                        | maker                                                                                                                    | gene                                                                                                                     | .                                                                                                                        | ID=APERC1_00013921;Dbxref=InterPro:IPR001073,InterPro:IPR011489,Pfam:PF00386,Pfam:PF07546;Ontology_term=GO:0005515|0     | ID=APERC1_00013921                                                                                                       | Dbxref=InterPro:IPR001073,InterPro:IPR011489,Pfam:PF00386,Pfam:PF07546                                                   | Ontology_term=GO:0005515|0                                                                                               | Ontology_term=GO:0005515                                                                                                 | 0                                                                                                                        |\n",
       "| chr1                                                                                                                     | 33169                                                                                                                    | 33269|chr1                                                                                                               | 26561                                                                                                                    | 55859                                                                                                                    | APERC1_00013921                                                                                                          | .                                                                                                                        | -                                                                                                                        | maker                                                                                                                    | gene                                                                                                                     | .                                                                                                                        | ID=APERC1_00013921;Dbxref=InterPro:IPR001073,InterPro:IPR011489,Pfam:PF00386,Pfam:PF07546;Ontology_term=GO:0005515|0     | ID=APERC1_00013921                                                                                                       | Dbxref=InterPro:IPR001073,InterPro:IPR011489,Pfam:PF00386,Pfam:PF07546                                                   | Ontology_term=GO:0005515|0                                                                                               | Ontology_term=GO:0005515                                                                                                 | 0                                                                                                                        |\n",
       "\n"
      ],
      "text/plain": [
       "  seqid start locus      feature_start feature_end feature_id      score strand\n",
       "1 chr1   9954 10054|chr1 26561         55859       APERC1_00013921 .     -     \n",
       "2 chr1  32266 32366|chr1 26561         55859       APERC1_00013921 .     -     \n",
       "3 chr1  32276 32376|chr1 26561         55859       APERC1_00013921 .     -     \n",
       "4 chr1  32300 32400|chr1 26561         55859       APERC1_00013921 .     -     \n",
       "5 chr1  32847 32947|chr1 26561         55859       APERC1_00013921 .     -     \n",
       "6 chr1  33169 33269|chr1 26561         55859       APERC1_00013921 .     -     \n",
       "  unkn  feature_type phase\n",
       "1 maker gene         .    \n",
       "2 maker gene         .    \n",
       "3 maker gene         .    \n",
       "4 maker gene         .    \n",
       "5 maker gene         .    \n",
       "6 maker gene         .    \n",
       "  attributes                                                                                                              \n",
       "1 ID=APERC1_00013921;Dbxref=InterPro:IPR001073,InterPro:IPR011489,Pfam:PF00386,Pfam:PF07546;Ontology_term=GO:0005515|16508\n",
       "2 ID=APERC1_00013921;Dbxref=InterPro:IPR001073,InterPro:IPR011489,Pfam:PF00386,Pfam:PF07546;Ontology_term=GO:0005515|0    \n",
       "3 ID=APERC1_00013921;Dbxref=InterPro:IPR001073,InterPro:IPR011489,Pfam:PF00386,Pfam:PF07546;Ontology_term=GO:0005515|0    \n",
       "4 ID=APERC1_00013921;Dbxref=InterPro:IPR001073,InterPro:IPR011489,Pfam:PF00386,Pfam:PF07546;Ontology_term=GO:0005515|0    \n",
       "5 ID=APERC1_00013921;Dbxref=InterPro:IPR001073,InterPro:IPR011489,Pfam:PF00386,Pfam:PF07546;Ontology_term=GO:0005515|0    \n",
       "6 ID=APERC1_00013921;Dbxref=InterPro:IPR001073,InterPro:IPR011489,Pfam:PF00386,Pfam:PF07546;Ontology_term=GO:0005515|0    \n",
       "  gene_id           \n",
       "1 ID=APERC1_00013921\n",
       "2 ID=APERC1_00013921\n",
       "3 ID=APERC1_00013921\n",
       "4 ID=APERC1_00013921\n",
       "5 ID=APERC1_00013921\n",
       "6 ID=APERC1_00013921\n",
       "  protein_family                                                        \n",
       "1 Dbxref=InterPro:IPR001073,InterPro:IPR011489,Pfam:PF00386,Pfam:PF07546\n",
       "2 Dbxref=InterPro:IPR001073,InterPro:IPR011489,Pfam:PF00386,Pfam:PF07546\n",
       "3 Dbxref=InterPro:IPR001073,InterPro:IPR011489,Pfam:PF00386,Pfam:PF07546\n",
       "4 Dbxref=InterPro:IPR001073,InterPro:IPR011489,Pfam:PF00386,Pfam:PF07546\n",
       "5 Dbxref=InterPro:IPR001073,InterPro:IPR011489,Pfam:PF00386,Pfam:PF07546\n",
       "6 Dbxref=InterPro:IPR001073,InterPro:IPR011489,Pfam:PF00386,Pfam:PF07546\n",
       "  go_term_dist                   go_term                  dist_bp\n",
       "1 Ontology_term=GO:0005515|16508 Ontology_term=GO:0005515 16508  \n",
       "2 Ontology_term=GO:0005515|0     Ontology_term=GO:0005515 0      \n",
       "3 Ontology_term=GO:0005515|0     Ontology_term=GO:0005515 0      \n",
       "4 Ontology_term=GO:0005515|0     Ontology_term=GO:0005515 0      \n",
       "5 Ontology_term=GO:0005515|0     Ontology_term=GO:0005515 0      \n",
       "6 Ontology_term=GO:0005515|0     Ontology_term=GO:0005515 0      "
      ]
     },
     "metadata": {},
     "output_type": "display_data"
    }
   ],
   "source": [
    "head(ucrit_nearest)"
   ]
  },
  {
   "cell_type": "code",
   "execution_count": 762,
   "id": "ce987868",
   "metadata": {},
   "outputs": [
    {
     "data": {
      "text/html": [
       "<table>\n",
       "<thead><tr><th scope=col>Chromosome</th><th scope=col>Position</th><th scope=col>pvalue</th><th scope=col>test</th><th scope=col>num_chrom</th><th scope=col>locus</th></tr></thead>\n",
       "<tbody>\n",
       "\t<tr><td>chr24       </td><td>6021620     </td><td>1.088639e-05</td><td>chrom_bh    </td><td>24          </td><td>24:6021620  </td></tr>\n",
       "\t<tr><td>chr24       </td><td>6021620     </td><td>1.088639e-05</td><td>null.025    </td><td>24          </td><td>24:6021620  </td></tr>\n",
       "</tbody>\n",
       "</table>\n"
      ],
      "text/latex": [
       "\\begin{tabular}{r|llllll}\n",
       " Chromosome & Position & pvalue & test & num\\_chrom & locus\\\\\n",
       "\\hline\n",
       "\t chr24        & 6021620      & 1.088639e-05 & chrom\\_bh   & 24           & 24:6021620  \\\\\n",
       "\t chr24        & 6021620      & 1.088639e-05 & null.025     & 24           & 24:6021620  \\\\\n",
       "\\end{tabular}\n"
      ],
      "text/markdown": [
       "\n",
       "| Chromosome | Position | pvalue | test | num_chrom | locus |\n",
       "|---|---|---|---|---|---|\n",
       "| chr24        | 6021620      | 1.088639e-05 | chrom_bh     | 24           | 24:6021620   |\n",
       "| chr24        | 6021620      | 1.088639e-05 | null.025     | 24           | 24:6021620   |\n",
       "\n"
      ],
      "text/plain": [
       "  Chromosome Position pvalue       test     num_chrom locus     \n",
       "1 chr24      6021620  1.088639e-05 chrom_bh 24        24:6021620\n",
       "2 chr24      6021620  1.088639e-05 null.025 24        24:6021620"
      ]
     },
     "metadata": {},
     "output_type": "display_data"
    }
   ],
   "source": [
    "candidates_ucrit"
   ]
  },
  {
   "cell_type": "code",
   "execution_count": 158,
   "id": "998da95e",
   "metadata": {},
   "outputs": [],
   "source": [
    "pValue.classic <- score(resultFisher)\n",
    "allRes <- GenTable(GOdata, raw.p.value = resultFisher, KS = resultKS, weight = resultWeight, orderBy = \"raw.p.value\", ranksOf = \"raw.p.value\")"
   ]
  },
  {
   "cell_type": "code",
   "execution_count": null,
   "id": "08cb941c",
   "metadata": {},
   "outputs": [],
   "source": [
    "raw.p.value = resultFisher,"
   ]
  },
  {
   "cell_type": "code",
   "execution_count": 159,
   "id": "66db1129",
   "metadata": {},
   "outputs": [
    {
     "data": {
      "text/html": [
       "<table>\n",
       "<thead><tr><th scope=col>GO.ID</th><th scope=col>Term</th><th scope=col>Annotated</th><th scope=col>Significant</th><th scope=col>Expected</th><th scope=col>raw.p.value</th><th scope=col>KS</th><th scope=col>weight</th></tr></thead>\n",
       "<tbody>\n",
       "\t<tr><td>GO:2001141                                 </td><td>regulation of RNA biosynthetic process     </td><td>19                                         </td><td>1                                          </td><td>0.06                                       </td><td>0.062                                      </td><td>1.00                                       </td><td>1.000                                      </td></tr>\n",
       "\t<tr><td>GO:0051171                                 </td><td>regulation of nitrogen compound metaboli...</td><td>19                                         </td><td>1                                          </td><td>0.06                                       </td><td>0.062                                      </td><td>1.00                                       </td><td>1.000                                      </td></tr>\n",
       "\t<tr><td>GO:2000112                                 </td><td>regulation of cellular macromolecule bio...</td><td>19                                         </td><td>1                                          </td><td>0.06                                       </td><td>0.062                                      </td><td>1.00                                       </td><td>1.000                                      </td></tr>\n",
       "\t<tr><td>GO:0006355                                 </td><td>regulation of transcription, DNA-templat...</td><td>19                                         </td><td>1                                          </td><td>0.06                                       </td><td>0.062                                      </td><td>0.37                                       </td><td>0.062                                      </td></tr>\n",
       "\t<tr><td>GO:1903506                                 </td><td>regulation of nucleic acid-templated tra...</td><td>19                                         </td><td>1                                          </td><td>0.06                                       </td><td>0.062                                      </td><td>1.00                                       </td><td>1.000                                      </td></tr>\n",
       "\t<tr><td>GO:0010556                                 </td><td>regulation of macromolecule biosynthetic...</td><td>19                                         </td><td>1                                          </td><td>0.06                                       </td><td>0.062                                      </td><td>1.00                                       </td><td>1.000                                      </td></tr>\n",
       "\t<tr><td>GO:0031326                                 </td><td>regulation of cellular biosynthetic proc...</td><td>19                                         </td><td>1                                          </td><td>0.06                                       </td><td>0.062                                      </td><td>1.00                                       </td><td>1.000                                      </td></tr>\n",
       "\t<tr><td>GO:0019219                                 </td><td>regulation of nucleobase-containing comp...</td><td>19                                         </td><td>1                                          </td><td>0.06                                       </td><td>0.062                                      </td><td>1.00                                       </td><td>1.000                                      </td></tr>\n",
       "\t<tr><td>GO:0080090                                 </td><td>regulation of primary metabolic process    </td><td>19                                         </td><td>1                                          </td><td>0.06                                       </td><td>0.062                                      </td><td>1.00                                       </td><td>1.000                                      </td></tr>\n",
       "\t<tr><td>GO:0051252                                 </td><td>regulation of RNA metabolic process        </td><td>19                                         </td><td>1                                          </td><td>0.06                                       </td><td>0.062                                      </td><td>1.00                                       </td><td>1.000                                      </td></tr>\n",
       "</tbody>\n",
       "</table>\n"
      ],
      "text/latex": [
       "\\begin{tabular}{r|llllllll}\n",
       " GO.ID & Term & Annotated & Significant & Expected & raw.p.value & KS & weight\\\\\n",
       "\\hline\n",
       "\t GO:2001141                                  & regulation of RNA biosynthetic process      & 19                                          & 1                                           & 0.06                                        & 0.062                                       & 1.00                                        & 1.000                                      \\\\\n",
       "\t GO:0051171                                  & regulation of nitrogen compound metaboli... & 19                                          & 1                                           & 0.06                                        & 0.062                                       & 1.00                                        & 1.000                                      \\\\\n",
       "\t GO:2000112                                  & regulation of cellular macromolecule bio... & 19                                          & 1                                           & 0.06                                        & 0.062                                       & 1.00                                        & 1.000                                      \\\\\n",
       "\t GO:0006355                                  & regulation of transcription, DNA-templat... & 19                                          & 1                                           & 0.06                                        & 0.062                                       & 0.37                                        & 0.062                                      \\\\\n",
       "\t GO:1903506                                  & regulation of nucleic acid-templated tra... & 19                                          & 1                                           & 0.06                                        & 0.062                                       & 1.00                                        & 1.000                                      \\\\\n",
       "\t GO:0010556                                  & regulation of macromolecule biosynthetic... & 19                                          & 1                                           & 0.06                                        & 0.062                                       & 1.00                                        & 1.000                                      \\\\\n",
       "\t GO:0031326                                  & regulation of cellular biosynthetic proc... & 19                                          & 1                                           & 0.06                                        & 0.062                                       & 1.00                                        & 1.000                                      \\\\\n",
       "\t GO:0019219                                  & regulation of nucleobase-containing comp... & 19                                          & 1                                           & 0.06                                        & 0.062                                       & 1.00                                        & 1.000                                      \\\\\n",
       "\t GO:0080090                                  & regulation of primary metabolic process     & 19                                          & 1                                           & 0.06                                        & 0.062                                       & 1.00                                        & 1.000                                      \\\\\n",
       "\t GO:0051252                                  & regulation of RNA metabolic process         & 19                                          & 1                                           & 0.06                                        & 0.062                                       & 1.00                                        & 1.000                                      \\\\\n",
       "\\end{tabular}\n"
      ],
      "text/markdown": [
       "\n",
       "| GO.ID | Term | Annotated | Significant | Expected | raw.p.value | KS | weight |\n",
       "|---|---|---|---|---|---|---|---|\n",
       "| GO:2001141                                  | regulation of RNA biosynthetic process      | 19                                          | 1                                           | 0.06                                        | 0.062                                       | 1.00                                        | 1.000                                       |\n",
       "| GO:0051171                                  | regulation of nitrogen compound metaboli... | 19                                          | 1                                           | 0.06                                        | 0.062                                       | 1.00                                        | 1.000                                       |\n",
       "| GO:2000112                                  | regulation of cellular macromolecule bio... | 19                                          | 1                                           | 0.06                                        | 0.062                                       | 1.00                                        | 1.000                                       |\n",
       "| GO:0006355                                  | regulation of transcription, DNA-templat... | 19                                          | 1                                           | 0.06                                        | 0.062                                       | 0.37                                        | 0.062                                       |\n",
       "| GO:1903506                                  | regulation of nucleic acid-templated tra... | 19                                          | 1                                           | 0.06                                        | 0.062                                       | 1.00                                        | 1.000                                       |\n",
       "| GO:0010556                                  | regulation of macromolecule biosynthetic... | 19                                          | 1                                           | 0.06                                        | 0.062                                       | 1.00                                        | 1.000                                       |\n",
       "| GO:0031326                                  | regulation of cellular biosynthetic proc... | 19                                          | 1                                           | 0.06                                        | 0.062                                       | 1.00                                        | 1.000                                       |\n",
       "| GO:0019219                                  | regulation of nucleobase-containing comp... | 19                                          | 1                                           | 0.06                                        | 0.062                                       | 1.00                                        | 1.000                                       |\n",
       "| GO:0080090                                  | regulation of primary metabolic process     | 19                                          | 1                                           | 0.06                                        | 0.062                                       | 1.00                                        | 1.000                                       |\n",
       "| GO:0051252                                  | regulation of RNA metabolic process         | 19                                          | 1                                           | 0.06                                        | 0.062                                       | 1.00                                        | 1.000                                       |\n",
       "\n"
      ],
      "text/plain": [
       "   GO.ID      Term                                        Annotated Significant\n",
       "1  GO:2001141 regulation of RNA biosynthetic process      19        1          \n",
       "2  GO:0051171 regulation of nitrogen compound metaboli... 19        1          \n",
       "3  GO:2000112 regulation of cellular macromolecule bio... 19        1          \n",
       "4  GO:0006355 regulation of transcription, DNA-templat... 19        1          \n",
       "5  GO:1903506 regulation of nucleic acid-templated tra... 19        1          \n",
       "6  GO:0010556 regulation of macromolecule biosynthetic... 19        1          \n",
       "7  GO:0031326 regulation of cellular biosynthetic proc... 19        1          \n",
       "8  GO:0019219 regulation of nucleobase-containing comp... 19        1          \n",
       "9  GO:0080090 regulation of primary metabolic process     19        1          \n",
       "10 GO:0051252 regulation of RNA metabolic process         19        1          \n",
       "   Expected raw.p.value KS   weight\n",
       "1  0.06     0.062       1.00 1.000 \n",
       "2  0.06     0.062       1.00 1.000 \n",
       "3  0.06     0.062       1.00 1.000 \n",
       "4  0.06     0.062       0.37 0.062 \n",
       "5  0.06     0.062       1.00 1.000 \n",
       "6  0.06     0.062       1.00 1.000 \n",
       "7  0.06     0.062       1.00 1.000 \n",
       "8  0.06     0.062       1.00 1.000 \n",
       "9  0.06     0.062       1.00 1.000 \n",
       "10 0.06     0.062       1.00 1.000 "
      ]
     },
     "metadata": {},
     "output_type": "display_data"
    }
   ],
   "source": [
    "allRes"
   ]
  },
  {
   "cell_type": "code",
   "execution_count": 134,
   "id": "9fc3a640",
   "metadata": {},
   "outputs": [],
   "source": [
    "fwrite(allRes, \"/data/katrinac/APPC_sequencing/DNA/trimmed_reads/mapping/ensembl/genotypes/angsd/results/GO_table_null_cutoff_ucrit.csv\")"
   ]
  },
  {
   "cell_type": "markdown",
   "id": "fc4061b3",
   "metadata": {
    "scrolled": true
   },
   "source": [
    "__make a table of genes and pvalues for results__"
   ]
  },
  {
   "cell_type": "code",
   "execution_count": 97,
   "id": "a645937a",
   "metadata": {},
   "outputs": [
    {
     "name": "stderr",
     "output_type": "stream",
     "text": [
      "Joining, by = c(\"Chromosome\", \"Position\")"
     ]
    }
   ],
   "source": [
    "ucrit_gff_join <- split[, .(Chromosome=seqid, Position=start+50, gene_id=gsub(\"ID=\", \"\", gene_id), go_term=gsub(\"Ontology_term=\", \"\", go_term), dist_bp)]\n",
    "ucrit_gene_join <- candidates_ucrit[,.(Chromosome =paste0(\"chr\", Chromosome, \"\"), Position, Frequency, pvalue, locus)]\n",
    "ucrit_gene_ids <- (left_join(ucrit_gene_join, ucrit_gff_join))[!is.na(dist_bp)][, chrom_sig_0.05 := ifelse(locus %in% candidate_ucrit_chrom_bh$locus, \"yes\", \"no\")][order(pvalue)]\n",
    "fwrite(ucrit_gene_ids, \"/data/katrinac/APPC_sequencing/DNA/trimmed_reads/mapping/ensembl/genotypes/angsd/results/genes_table_BH_cutoff_ucrit.csv\")"
   ]
  },
  {
   "cell_type": "code",
   "execution_count": 367,
   "id": "cb3f7274",
   "metadata": {},
   "outputs": [],
   "source": [
    "candidates_ucrit[,prop_var_exp :=  (2*(beta^2)*Frequency*(1-Frequency))/(2*(beta^2)*Frequency*(1-Frequency)+((SE*(beta))^2)*2*N*Frequency*(1-Frequency)), by=locus]"
   ]
  },
  {
   "cell_type": "code",
   "execution_count": 372,
   "id": "f3982c0d",
   "metadata": {},
   "outputs": [
    {
     "data": {
      "text/html": [
       "<table>\n",
       "<thead><tr><th scope=col>Chromosome</th><th scope=col>Position</th><th scope=col>Major</th><th scope=col>Minor</th><th scope=col>Frequency</th><th scope=col>N</th><th scope=col>LRT</th><th scope=col>high_WT/HE/HO</th><th scope=col>LRTem</th><th scope=col>beta</th><th scope=col>SE</th><th scope=col>emIter</th><th scope=col>locus</th><th scope=col>pvalue</th><th scope=col>SNP</th><th scope=col>quantile</th><th scope=col>exp_lrt_ucrit</th><th scope=col>rank</th><th scope=col>padjBH</th><th scope=col>prop_var_exp</th></tr></thead>\n",
       "<tbody>\n",
       "\t<tr><td>3             </td><td>37551804      </td><td>G             </td><td>A             </td><td>0.220549      </td><td>159           </td><td>11.981164     </td><td>11/10/0       </td><td>95.487181     </td><td> 5.624267     </td><td>0.156675      </td><td>21            </td><td>3:37551804    </td><td>0.0002883924  </td><td>r15995        </td><td>0.9998946     </td><td>15.05037      </td><td> 15           </td><td>0.000022584579</td><td>0.20395752    </td></tr>\n",
       "\t<tr><td>14            </td><td>28287841      </td><td>A             </td><td>T             </td><td>0.152335      </td><td>159           </td><td>13.690129     </td><td>29/12/0       </td><td>93.170741     </td><td> 5.620407     </td><td>0.158527      </td><td>37            </td><td>14:28287841   </td><td>0.0001147975  </td><td>r81927        </td><td>0.9999699     </td><td>16.34551      </td><td>  5           </td><td>0.000007528193</td><td>0.20016819    </td></tr>\n",
       "\t<tr><td>21            </td><td>26341056      </td><td>C             </td><td>T             </td><td>0.177783      </td><td>159           </td><td>12.641801     </td><td>20/12/0       </td><td>83.515645     </td><td>-5.570075     </td><td>0.168762      </td><td>37            </td><td>21:26341056   </td><td>0.0002017778  </td><td>r118772       </td><td>0.9999172     </td><td>15.53038      </td><td> 12           </td><td>0.000018067663</td><td>0.18088359    </td></tr>\n",
       "\t<tr><td>16            </td><td>  810564      </td><td>A             </td><td>T             </td><td>0.191451      </td><td>159           </td><td>10.378499     </td><td>10/12/0       </td><td>80.107630     </td><td>-5.563156     </td><td>0.171483      </td><td>27            </td><td>16:810564     </td><td>0.0006905265  </td><td>r90509        </td><td>0.9997666     </td><td>13.95036      </td><td> 32           </td><td>0.000048180436</td><td>0.17619218    </td></tr>\n",
       "\t<tr><td>13            </td><td>36077586      </td><td>C             </td><td>T             </td><td>0.254284      </td><td>159           </td><td> 7.470297     </td><td>10/12/0       </td><td>23.391575     </td><td>-4.419535     </td><td>0.377870      </td><td>40            </td><td>13:36077586   </td><td>0.0034840690  </td><td>r76273        </td><td>0.9984116     </td><td>10.05059      </td><td>212           </td><td>0.000319195387</td><td>0.04218887    </td></tr>\n",
       "\t<tr><td>10            </td><td>28807129      </td><td>A             </td><td>G             </td><td>0.412343      </td><td>159           </td><td> 8.493882     </td><td>24/45/10      </td><td> 8.684625     </td><td>-1.206409     </td><td>0.411977      </td><td> 5            </td><td>10:28807129   </td><td>0.0019585466  </td><td>r59683        </td><td>0.9990740     </td><td>11.15528      </td><td>124           </td><td>0.000186699188</td><td>0.03573179    </td></tr>\n",
       "</tbody>\n",
       "</table>\n"
      ],
      "text/latex": [
       "\\begin{tabular}{r|llllllllllllllllllll}\n",
       " Chromosome & Position & Major & Minor & Frequency & N & LRT & high\\_WT/HE/HO & LRTem & beta & SE & emIter & locus & pvalue & SNP & quantile & exp\\_lrt\\_ucrit & rank & padjBH & prop\\_var\\_exp\\\\\n",
       "\\hline\n",
       "\t 3              & 37551804       & G              & A              & 0.220549       & 159            & 11.981164      & 11/10/0        & 95.487181      &  5.624267      & 0.156675       & 21             & 3:37551804     & 0.0002883924   & r15995         & 0.9998946      & 15.05037       &  15            & 0.000022584579 & 0.20395752    \\\\\n",
       "\t 14             & 28287841       & A              & T              & 0.152335       & 159            & 13.690129      & 29/12/0        & 93.170741      &  5.620407      & 0.158527       & 37             & 14:28287841    & 0.0001147975   & r81927         & 0.9999699      & 16.34551       &   5            & 0.000007528193 & 0.20016819    \\\\\n",
       "\t 21             & 26341056       & C              & T              & 0.177783       & 159            & 12.641801      & 20/12/0        & 83.515645      & -5.570075      & 0.168762       & 37             & 21:26341056    & 0.0002017778   & r118772        & 0.9999172      & 15.53038       &  12            & 0.000018067663 & 0.18088359    \\\\\n",
       "\t 16             &   810564       & A              & T              & 0.191451       & 159            & 10.378499      & 10/12/0        & 80.107630      & -5.563156      & 0.171483       & 27             & 16:810564      & 0.0006905265   & r90509         & 0.9997666      & 13.95036       &  32            & 0.000048180436 & 0.17619218    \\\\\n",
       "\t 13             & 36077586       & C              & T              & 0.254284       & 159            &  7.470297      & 10/12/0        & 23.391575      & -4.419535      & 0.377870       & 40             & 13:36077586    & 0.0034840690   & r76273         & 0.9984116      & 10.05059       & 212            & 0.000319195387 & 0.04218887    \\\\\n",
       "\t 10             & 28807129       & A              & G              & 0.412343       & 159            &  8.493882      & 24/45/10       &  8.684625      & -1.206409      & 0.411977       &  5             & 10:28807129    & 0.0019585466   & r59683         & 0.9990740      & 11.15528       & 124            & 0.000186699188 & 0.03573179    \\\\\n",
       "\\end{tabular}\n"
      ],
      "text/markdown": [
       "\n",
       "| Chromosome | Position | Major | Minor | Frequency | N | LRT | high_WT/HE/HO | LRTem | beta | SE | emIter | locus | pvalue | SNP | quantile | exp_lrt_ucrit | rank | padjBH | prop_var_exp |\n",
       "|---|---|---|---|---|---|---|---|---|---|---|---|---|---|---|---|---|---|---|---|\n",
       "| 3              | 37551804       | G              | A              | 0.220549       | 159            | 11.981164      | 11/10/0        | 95.487181      |  5.624267      | 0.156675       | 21             | 3:37551804     | 0.0002883924   | r15995         | 0.9998946      | 15.05037       |  15            | 0.000022584579 | 0.20395752     |\n",
       "| 14             | 28287841       | A              | T              | 0.152335       | 159            | 13.690129      | 29/12/0        | 93.170741      |  5.620407      | 0.158527       | 37             | 14:28287841    | 0.0001147975   | r81927         | 0.9999699      | 16.34551       |   5            | 0.000007528193 | 0.20016819     |\n",
       "| 21             | 26341056       | C              | T              | 0.177783       | 159            | 12.641801      | 20/12/0        | 83.515645      | -5.570075      | 0.168762       | 37             | 21:26341056    | 0.0002017778   | r118772        | 0.9999172      | 15.53038       |  12            | 0.000018067663 | 0.18088359     |\n",
       "| 16             |   810564       | A              | T              | 0.191451       | 159            | 10.378499      | 10/12/0        | 80.107630      | -5.563156      | 0.171483       | 27             | 16:810564      | 0.0006905265   | r90509         | 0.9997666      | 13.95036       |  32            | 0.000048180436 | 0.17619218     |\n",
       "| 13             | 36077586       | C              | T              | 0.254284       | 159            |  7.470297      | 10/12/0        | 23.391575      | -4.419535      | 0.377870       | 40             | 13:36077586    | 0.0034840690   | r76273         | 0.9984116      | 10.05059       | 212            | 0.000319195387 | 0.04218887     |\n",
       "| 10             | 28807129       | A              | G              | 0.412343       | 159            |  8.493882      | 24/45/10       |  8.684625      | -1.206409      | 0.411977       |  5             | 10:28807129    | 0.0019585466   | r59683         | 0.9990740      | 11.15528       | 124            | 0.000186699188 | 0.03573179     |\n",
       "\n"
      ],
      "text/plain": [
       "  Chromosome Position Major Minor Frequency N   LRT       high_WT/HE/HO\n",
       "1 3          37551804 G     A     0.220549  159 11.981164 11/10/0      \n",
       "2 14         28287841 A     T     0.152335  159 13.690129 29/12/0      \n",
       "3 21         26341056 C     T     0.177783  159 12.641801 20/12/0      \n",
       "4 16           810564 A     T     0.191451  159 10.378499 10/12/0      \n",
       "5 13         36077586 C     T     0.254284  159  7.470297 10/12/0      \n",
       "6 10         28807129 A     G     0.412343  159  8.493882 24/45/10     \n",
       "  LRTem     beta      SE       emIter locus       pvalue       SNP    \n",
       "1 95.487181  5.624267 0.156675 21     3:37551804  0.0002883924 r15995 \n",
       "2 93.170741  5.620407 0.158527 37     14:28287841 0.0001147975 r81927 \n",
       "3 83.515645 -5.570075 0.168762 37     21:26341056 0.0002017778 r118772\n",
       "4 80.107630 -5.563156 0.171483 27     16:810564   0.0006905265 r90509 \n",
       "5 23.391575 -4.419535 0.377870 40     13:36077586 0.0034840690 r76273 \n",
       "6  8.684625 -1.206409 0.411977  5     10:28807129 0.0019585466 r59683 \n",
       "  quantile  exp_lrt_ucrit rank padjBH         prop_var_exp\n",
       "1 0.9998946 15.05037       15  0.000022584579 0.20395752  \n",
       "2 0.9999699 16.34551        5  0.000007528193 0.20016819  \n",
       "3 0.9999172 15.53038       12  0.000018067663 0.18088359  \n",
       "4 0.9997666 13.95036       32  0.000048180436 0.17619218  \n",
       "5 0.9984116 10.05059      212  0.000319195387 0.04218887  \n",
       "6 0.9990740 11.15528      124  0.000186699188 0.03573179  "
      ]
     },
     "metadata": {},
     "output_type": "display_data"
    }
   ],
   "source": [
    "head(candidates_ucrit[order(-prop_var_exp)])"
   ]
  },
  {
   "cell_type": "markdown",
   "id": "1390d104",
   "metadata": {},
   "source": [
    "__Plot the ucrit distributions for each genotype of the significant locus__"
   ]
  },
  {
   "cell_type": "code",
   "execution_count": 235,
   "id": "066bcf6a",
   "metadata": {},
   "outputs": [],
   "source": [
    "genos <- fread(\"/data/katrinac/APPC_sequencing/Genome/candidates/ucrit_cand_genos.gprobs\")\n",
    "long_genos <- melt(genos, id.vars = c(\"V1\", \"V2\", \"V3\"))\n",
    "samples <- pca_phenos[, .(sample)][rep(seq_len(nrow(pca_phenos)), 3), ][order(sample)]\n",
    "samples$genotype <- rep(seq(1, 3, 1), 159)\n",
    "setnames(long_genos, c(\"marker\", \"allele1\", \"allele2\", \"sample\", \"gprob\"))\n",
    "long_genos$sample <- samples$sample\n",
    "long_genos$geno <- samples$genotype"
   ]
  },
  {
   "cell_type": "code",
   "execution_count": 236,
   "id": "3215a5e2",
   "metadata": {},
   "outputs": [
    {
     "data": {
      "text/html": [
       "46"
      ],
      "text/latex": [
       "46"
      ],
      "text/markdown": [
       "46"
      ],
      "text/plain": [
       "[1] 46"
      ]
     },
     "metadata": {},
     "output_type": "display_data"
    }
   ],
   "source": [
    "#restrict to grpob > .9\n",
    "nrow(long_genos[gprob>=0.9])"
   ]
  },
  {
   "cell_type": "code",
   "execution_count": 239,
   "id": "28806bc7",
   "metadata": {},
   "outputs": [
    {
     "name": "stderr",
     "output_type": "stream",
     "text": [
      "Joining, by = \"sample\"Warning message in `[.data.table`(ucrit_genos, , `:=`(genotype, ifelse(geno == 1, :\n",
      "“Invalid .internal.selfref detected and fixed by taking a (shallow) copy of the data.table so that := can add this new column by reference. At an earlier point, this data.table has been copied by R (or was created manually using structure() or similar). Avoid names<- and attr<- which in R currently (and oddly) may copy the whole data.table. Use set* syntax instead to avoid copying: ?set, ?setnames and ?setattr. If this message doesn't help, please report your use case to the data.table issue tracker so the root cause can be fixed or this message improved.”"
     ]
    }
   ],
   "source": [
    "#join with ucrit data\n",
    "ucrit_genos <- left_join(long_genos[gprob>=0.9], pca_phenos[, .(sample, ucrit)])\n",
    "#from angsd the major allele codes as 0=A, 1=C, 2=G, 3=T \n",
    "#the minor allele codes as 0=A, 1=C, 2=G, 3=T \n",
    "#row 1- grpob for major/major, row2 major/minor, row3 minor/minor\n",
    "#for this locus major is T and minor is C.\n",
    "ucrit_genos[, genotype:=ifelse(geno==1, \"TT\", ifelse(geno==2, \"TC\", \"CC\"))]"
   ]
  },
  {
   "cell_type": "code",
   "execution_count": 240,
   "id": "3a1cabc1",
   "metadata": {},
   "outputs": [
    {
     "data": {
      "text/html": [
       "<table>\n",
       "<thead><tr><th scope=col>marker</th><th scope=col>allele1</th><th scope=col>allele2</th><th scope=col>sample</th><th scope=col>gprob</th><th scope=col>geno</th><th scope=col>ucrit</th><th scope=col>genotype</th></tr></thead>\n",
       "<tbody>\n",
       "\t<tr><td>24_6021620    </td><td>3             </td><td>1             </td><td>Pop01_APPC1917</td><td>0.924959      </td><td>1             </td><td>1.20          </td><td>TT            </td></tr>\n",
       "\t<tr><td>24_6021620    </td><td>3             </td><td>1             </td><td>Pop02_APPC1006</td><td>0.999960      </td><td>1             </td><td>2.00          </td><td>TT            </td></tr>\n",
       "\t<tr><td>24_6021620    </td><td>3             </td><td>1             </td><td>Pop02_APPC1010</td><td>0.994955      </td><td>1             </td><td>6.22          </td><td>TT            </td></tr>\n",
       "\t<tr><td>24_6021620    </td><td>3             </td><td>1             </td><td>Pop02_APPC1015</td><td>0.995106      </td><td>2             </td><td>1.92          </td><td>TC            </td></tr>\n",
       "\t<tr><td>24_6021620    </td><td>3             </td><td>1             </td><td>Pop02_APPC3012</td><td>0.924959      </td><td>1             </td><td>1.75          </td><td>TT            </td></tr>\n",
       "\t<tr><td>24_6021620    </td><td>3             </td><td>1             </td><td>Pop04_APPC1308</td><td>0.995106      </td><td>2             </td><td>0.27          </td><td>TC            </td></tr>\n",
       "</tbody>\n",
       "</table>\n"
      ],
      "text/latex": [
       "\\begin{tabular}{r|llllllll}\n",
       " marker & allele1 & allele2 & sample & gprob & geno & ucrit & genotype\\\\\n",
       "\\hline\n",
       "\t 24\\_6021620     & 3                & 1                & Pop01\\_APPC1917 & 0.924959         & 1                & 1.20             & TT              \\\\\n",
       "\t 24\\_6021620     & 3                & 1                & Pop02\\_APPC1006 & 0.999960         & 1                & 2.00             & TT              \\\\\n",
       "\t 24\\_6021620     & 3                & 1                & Pop02\\_APPC1010 & 0.994955         & 1                & 6.22             & TT              \\\\\n",
       "\t 24\\_6021620     & 3                & 1                & Pop02\\_APPC1015 & 0.995106         & 2                & 1.92             & TC              \\\\\n",
       "\t 24\\_6021620     & 3                & 1                & Pop02\\_APPC3012 & 0.924959         & 1                & 1.75             & TT              \\\\\n",
       "\t 24\\_6021620     & 3                & 1                & Pop04\\_APPC1308 & 0.995106         & 2                & 0.27             & TC              \\\\\n",
       "\\end{tabular}\n"
      ],
      "text/markdown": [
       "\n",
       "| marker | allele1 | allele2 | sample | gprob | geno | ucrit | genotype |\n",
       "|---|---|---|---|---|---|---|---|\n",
       "| 24_6021620     | 3              | 1              | Pop01_APPC1917 | 0.924959       | 1              | 1.20           | TT             |\n",
       "| 24_6021620     | 3              | 1              | Pop02_APPC1006 | 0.999960       | 1              | 2.00           | TT             |\n",
       "| 24_6021620     | 3              | 1              | Pop02_APPC1010 | 0.994955       | 1              | 6.22           | TT             |\n",
       "| 24_6021620     | 3              | 1              | Pop02_APPC1015 | 0.995106       | 2              | 1.92           | TC             |\n",
       "| 24_6021620     | 3              | 1              | Pop02_APPC3012 | 0.924959       | 1              | 1.75           | TT             |\n",
       "| 24_6021620     | 3              | 1              | Pop04_APPC1308 | 0.995106       | 2              | 0.27           | TC             |\n",
       "\n"
      ],
      "text/plain": [
       "  marker     allele1 allele2 sample         gprob    geno ucrit genotype\n",
       "1 24_6021620 3       1       Pop01_APPC1917 0.924959 1    1.20  TT      \n",
       "2 24_6021620 3       1       Pop02_APPC1006 0.999960 1    2.00  TT      \n",
       "3 24_6021620 3       1       Pop02_APPC1010 0.994955 1    6.22  TT      \n",
       "4 24_6021620 3       1       Pop02_APPC1015 0.995106 2    1.92  TC      \n",
       "5 24_6021620 3       1       Pop02_APPC3012 0.924959 1    1.75  TT      \n",
       "6 24_6021620 3       1       Pop04_APPC1308 0.995106 2    0.27  TC      "
      ]
     },
     "metadata": {},
     "output_type": "display_data"
    }
   ],
   "source": [
    "#join with ucrit data\n",
    "head(ucrit_genos)"
   ]
  },
  {
   "cell_type": "code",
   "execution_count": 244,
   "id": "ec5219d5",
   "metadata": {},
   "outputs": [],
   "source": [
    "ucrit_plot <- ggplot()+\n",
    "geom_boxplot(data=ucrit_genos, aes(x=genotype, y=ucrit))+\n",
    " ylab(\"Ucrit\") +\n",
    "    xlab(\"Genotype\")+\n",
    "    theme(strip.text.x = element_text(size = 14),\n",
    "    legend.position = \"bottom\",\n",
    "    legend.key=element_blank(),\n",
    "    panel.grid.major = element_blank(),\n",
    "    panel.grid.minor = element_blank(), \n",
    "    panel.background = element_blank(), #,\n",
    "    axis.line = element_line(colour = \"black\"),axis.text.x =  element_text(size=14, color=\"black\"),#15 for publication, 20 for presentation #element_text(size=15, color=\"black\", family=\"Helvetica\"),\n",
    "    axis.title.y =  element_text(size=18, color=\"black\"),\n",
    "    axis.title.x =  element_text(size=18, color=\"black\"),#15 for publication, 20 for presentation #element_text(size=15, color=\"black\", family=\"Helvetica\"),\n",
    "    axis.text.y =  element_text(size=18, color=\"black\"))\n"
   ]
  },
  {
   "cell_type": "code",
   "execution_count": 247,
   "id": "25f582b3",
   "metadata": {},
   "outputs": [
    {
     "name": "stderr",
     "output_type": "stream",
     "text": [
      "Saving 6.67 x 6.67 in image\n"
     ]
    },
    {
     "data": {
      "image/png": "[encoded data removed]",
      "text/plain": [
       "plot without title"
      ]
     },
     "metadata": {},
     "output_type": "display_data"
    }
   ],
   "source": [
    "ucrit_plot\n",
    "ggsave(ucrit_plot, file=\"/data/katrinac/APPC_sequencing/DNA/trimmed_reads/mapping/ensembl/genotypes/angsd/results/ucrit_genotypes.pdf\")"
   ]
  },
  {
   "cell_type": "code",
   "execution_count": 196,
   "id": "1695c894",
   "metadata": {},
   "outputs": [
    {
     "data": {
      "text/html": [
       "<table>\n",
       "<thead><tr><th scope=col>marker</th><th scope=col>allele1</th><th scope=col>allele2</th><th scope=col>Ind0</th><th scope=col>Ind0.1</th><th scope=col>Ind0.2</th><th scope=col>Ind1</th><th scope=col>Ind1.1</th><th scope=col>Ind1.2</th><th scope=col>Ind2</th><th scope=col>...</th><th scope=col>Ind155</th><th scope=col>Ind156</th><th scope=col>Ind156.1</th><th scope=col>Ind156.2</th><th scope=col>Ind157</th><th scope=col>Ind157.1</th><th scope=col>Ind157.2</th><th scope=col>Ind158</th><th scope=col>Ind158.1</th><th scope=col>Ind158.2</th></tr></thead>\n",
       "<tbody>\n",
       "\t<tr><td>10_31930973</td><td>0          </td><td>2          </td><td>0.688254   </td><td>0.282714   </td><td>0.029033   </td><td>0.688254   </td><td>0.282714   </td><td>0.029033   </td><td>0.688254   </td><td>...        </td><td>0.029033   </td><td>0.688254   </td><td>0.282714   </td><td>0.029033   </td><td>0.688254   </td><td>0.282714   </td><td>0.029033   </td><td>0.688254   </td><td>0.282714   </td><td>0.029033   </td></tr>\n",
       "\t<tr><td>10_31931015</td><td>1          </td><td>2          </td><td>0.739721   </td><td>0.240699   </td><td>0.019580   </td><td>0.739721   </td><td>0.240699   </td><td>0.019580   </td><td>0.739721   </td><td>...        </td><td>0.019580   </td><td>0.739721   </td><td>0.240699   </td><td>0.019580   </td><td>0.739721   </td><td>0.240699   </td><td>0.019580   </td><td>0.739721   </td><td>0.240699   </td><td>0.019580   </td></tr>\n",
       "\t<tr><td>10_31931089</td><td>0          </td><td>2          </td><td>0.515885   </td><td>0.404733   </td><td>0.079382   </td><td>0.515885   </td><td>0.404733   </td><td>0.079382   </td><td>0.515885   </td><td>...        </td><td>0.079382   </td><td>0.515885   </td><td>0.404733   </td><td>0.079382   </td><td>0.718238   </td><td>0.281740   </td><td>0.000022   </td><td>0.515885   </td><td>0.404733   </td><td>0.079382   </td></tr>\n",
       "\t<tr><td>10_31931309</td><td>1          </td><td>0          </td><td>0.299277   </td><td>0.495570   </td><td>0.205153   </td><td>0.299277   </td><td>0.495570   </td><td>0.205153   </td><td>0.299277   </td><td>...        </td><td>0.205153   </td><td>0.299277   </td><td>0.495570   </td><td>0.205153   </td><td>0.299277   </td><td>0.495570   </td><td>0.205153   </td><td>0.299277   </td><td>0.495570   </td><td>0.205153   </td></tr>\n",
       "\t<tr><td>10_31931317</td><td>3          </td><td>1          </td><td>0.261782   </td><td>0.499729   </td><td>0.238490   </td><td>0.261782   </td><td>0.499729   </td><td>0.238490   </td><td>0.261782   </td><td>...        </td><td>0.238490   </td><td>0.261782   </td><td>0.499729   </td><td>0.238490   </td><td>0.261782   </td><td>0.499729   </td><td>0.238490   </td><td>0.261782   </td><td>0.499729   </td><td>0.238490   </td></tr>\n",
       "\t<tr><td>10_31931339</td><td>2          </td><td>0          </td><td>0.338481   </td><td>0.486620   </td><td>0.174898   </td><td>0.338481   </td><td>0.486620   </td><td>0.174898   </td><td>0.338481   </td><td>...        </td><td>0.174898   </td><td>0.338481   </td><td>0.486620   </td><td>0.174898   </td><td>0.338481   </td><td>0.486620   </td><td>0.174898   </td><td>0.338481   </td><td>0.486620   </td><td>0.174898   </td></tr>\n",
       "</tbody>\n",
       "</table>\n"
      ],
      "text/latex": [
       "\\begin{tabular}{r|llllllllllllllllllllllllllllllllllllllllllllllllllllllllllllllllllllllllllllllllllllllllllllllllllllllllllllllllllllllllllllllllllllllllllllllllllllllllllllllllllllllllllllllllllllllllllllllllllllllllllllllllllllllllllllllllllllllllllllllllllllllllllllllllllllllllllllllllllllllllllllllllllllllllllllllllllllllllllllllllllllllllllllllllllllllllllllllllllllllllllllllllllllllllllllllllllllllllllllllllllllllllllllllllllllllllllllllllllllllllllllllllllllllllllllllllllllllllllllllll}\n",
       " marker & allele1 & allele2 & Ind0 & Ind0.1 & Ind0.2 & Ind1 & Ind1.1 & Ind1.2 & Ind2 & ... & Ind155 & Ind156 & Ind156.1 & Ind156.2 & Ind157 & Ind157.1 & Ind157.2 & Ind158 & Ind158.1 & Ind158.2\\\\\n",
       "\\hline\n",
       "\t 10\\_31930973 & 0             & 2             & 0.688254      & 0.282714      & 0.029033      & 0.688254      & 0.282714      & 0.029033      & 0.688254      & ...           & 0.029033      & 0.688254      & 0.282714      & 0.029033      & 0.688254      & 0.282714      & 0.029033      & 0.688254      & 0.282714      & 0.029033     \\\\\n",
       "\t 10\\_31931015 & 1             & 2             & 0.739721      & 0.240699      & 0.019580      & 0.739721      & 0.240699      & 0.019580      & 0.739721      & ...           & 0.019580      & 0.739721      & 0.240699      & 0.019580      & 0.739721      & 0.240699      & 0.019580      & 0.739721      & 0.240699      & 0.019580     \\\\\n",
       "\t 10\\_31931089 & 0             & 2             & 0.515885      & 0.404733      & 0.079382      & 0.515885      & 0.404733      & 0.079382      & 0.515885      & ...           & 0.079382      & 0.515885      & 0.404733      & 0.079382      & 0.718238      & 0.281740      & 0.000022      & 0.515885      & 0.404733      & 0.079382     \\\\\n",
       "\t 10\\_31931309 & 1             & 0             & 0.299277      & 0.495570      & 0.205153      & 0.299277      & 0.495570      & 0.205153      & 0.299277      & ...           & 0.205153      & 0.299277      & 0.495570      & 0.205153      & 0.299277      & 0.495570      & 0.205153      & 0.299277      & 0.495570      & 0.205153     \\\\\n",
       "\t 10\\_31931317 & 3             & 1             & 0.261782      & 0.499729      & 0.238490      & 0.261782      & 0.499729      & 0.238490      & 0.261782      & ...           & 0.238490      & 0.261782      & 0.499729      & 0.238490      & 0.261782      & 0.499729      & 0.238490      & 0.261782      & 0.499729      & 0.238490     \\\\\n",
       "\t 10\\_31931339 & 2             & 0             & 0.338481      & 0.486620      & 0.174898      & 0.338481      & 0.486620      & 0.174898      & 0.338481      & ...           & 0.174898      & 0.338481      & 0.486620      & 0.174898      & 0.338481      & 0.486620      & 0.174898      & 0.338481      & 0.486620      & 0.174898     \\\\\n",
       "\\end{tabular}\n"
      ],
      "text/markdown": [
       "\n",
       "| marker | allele1 | allele2 | Ind0 | Ind0.1 | Ind0.2 | Ind1 | Ind1.1 | Ind1.2 | Ind2 | ... | Ind155 | Ind156 | Ind156.1 | Ind156.2 | Ind157 | Ind157.1 | Ind157.2 | Ind158 | Ind158.1 | Ind158.2 |\n",
       "|---|---|---|---|---|---|---|---|---|---|---|---|---|---|---|---|---|---|---|---|---|\n",
       "| 10_31930973 | 0           | 2           | 0.688254    | 0.282714    | 0.029033    | 0.688254    | 0.282714    | 0.029033    | 0.688254    | ...         | 0.029033    | 0.688254    | 0.282714    | 0.029033    | 0.688254    | 0.282714    | 0.029033    | 0.688254    | 0.282714    | 0.029033    |\n",
       "| 10_31931015 | 1           | 2           | 0.739721    | 0.240699    | 0.019580    | 0.739721    | 0.240699    | 0.019580    | 0.739721    | ...         | 0.019580    | 0.739721    | 0.240699    | 0.019580    | 0.739721    | 0.240699    | 0.019580    | 0.739721    | 0.240699    | 0.019580    |\n",
       "| 10_31931089 | 0           | 2           | 0.515885    | 0.404733    | 0.079382    | 0.515885    | 0.404733    | 0.079382    | 0.515885    | ...         | 0.079382    | 0.515885    | 0.404733    | 0.079382    | 0.718238    | 0.281740    | 0.000022    | 0.515885    | 0.404733    | 0.079382    |\n",
       "| 10_31931309 | 1           | 0           | 0.299277    | 0.495570    | 0.205153    | 0.299277    | 0.495570    | 0.205153    | 0.299277    | ...         | 0.205153    | 0.299277    | 0.495570    | 0.205153    | 0.299277    | 0.495570    | 0.205153    | 0.299277    | 0.495570    | 0.205153    |\n",
       "| 10_31931317 | 3           | 1           | 0.261782    | 0.499729    | 0.238490    | 0.261782    | 0.499729    | 0.238490    | 0.261782    | ...         | 0.238490    | 0.261782    | 0.499729    | 0.238490    | 0.261782    | 0.499729    | 0.238490    | 0.261782    | 0.499729    | 0.238490    |\n",
       "| 10_31931339 | 2           | 0           | 0.338481    | 0.486620    | 0.174898    | 0.338481    | 0.486620    | 0.174898    | 0.338481    | ...         | 0.174898    | 0.338481    | 0.486620    | 0.174898    | 0.338481    | 0.486620    | 0.174898    | 0.338481    | 0.486620    | 0.174898    |\n",
       "\n"
      ],
      "text/plain": [
       "  marker      allele1 allele2 Ind0     Ind0.1   Ind0.2   Ind1     Ind1.1  \n",
       "1 10_31930973 0       2       0.688254 0.282714 0.029033 0.688254 0.282714\n",
       "2 10_31931015 1       2       0.739721 0.240699 0.019580 0.739721 0.240699\n",
       "3 10_31931089 0       2       0.515885 0.404733 0.079382 0.515885 0.404733\n",
       "4 10_31931309 1       0       0.299277 0.495570 0.205153 0.299277 0.495570\n",
       "5 10_31931317 3       1       0.261782 0.499729 0.238490 0.261782 0.499729\n",
       "6 10_31931339 2       0       0.338481 0.486620 0.174898 0.338481 0.486620\n",
       "  Ind1.2   Ind2     ... Ind155   Ind156   Ind156.1 Ind156.2 Ind157   Ind157.1\n",
       "1 0.029033 0.688254 ... 0.029033 0.688254 0.282714 0.029033 0.688254 0.282714\n",
       "2 0.019580 0.739721 ... 0.019580 0.739721 0.240699 0.019580 0.739721 0.240699\n",
       "3 0.079382 0.515885 ... 0.079382 0.515885 0.404733 0.079382 0.718238 0.281740\n",
       "4 0.205153 0.299277 ... 0.205153 0.299277 0.495570 0.205153 0.299277 0.495570\n",
       "5 0.238490 0.261782 ... 0.238490 0.261782 0.499729 0.238490 0.261782 0.499729\n",
       "6 0.174898 0.338481 ... 0.174898 0.338481 0.486620 0.174898 0.338481 0.486620\n",
       "  Ind157.2 Ind158   Ind158.1 Ind158.2\n",
       "1 0.029033 0.688254 0.282714 0.029033\n",
       "2 0.019580 0.739721 0.240699 0.019580\n",
       "3 0.000022 0.515885 0.404733 0.079382\n",
       "4 0.205153 0.299277 0.495570 0.205153\n",
       "5 0.238490 0.261782 0.499729 0.238490\n",
       "6 0.174898 0.338481 0.486620 0.174898"
      ]
     },
     "metadata": {},
     "output_type": "display_data"
    }
   ],
   "source": [
    "tail(genos)"
   ]
  },
  {
   "cell_type": "code",
   "execution_count": null,
   "id": "477d8895",
   "metadata": {},
   "outputs": [],
   "source": [
    "Proportion of variance in phenotype explained by a given SNP (PVE) = [2*(beta^2)*MAF*(1-MAF)]/[2*(beta^2)*MAF(1-MAF)+((se(beta))^2)*2*N*MAF*(1-MAF)]\n",
    "where:\n",
    "N - sample size\n",
    "se(beta) - standard error of effect size for the genetic variant of interest\n",
    "beta - effect size for the genetic variant of interest\n",
    "MAF - minor allele frequency for the genetic variant of interest\n",
    "it is described in:\n",
    "Shim, H., Chasman, D.I., Smith, J.D., Mora, S., Ridker, P.M., Nickerson, D.A., Krauss, R.M., and Stephens, M. (2015). A multivariate genome-wide association analysis of 10 LDL subfractions, and their response to statin treatment, in 1868 Caucasians. PLoS One 10, e0120758.\n",
    "Supplementary Information: S1: Computing proportion of variance in phenotype explained by a given SNP (PVE)."
   ]
  }
 ],
 "metadata": {
  "kernelspec": {
   "display_name": "R",
   "language": "R",
   "name": "ir"
  },
  "language_info": {
   "codemirror_mode": "r",
   "file_extension": ".r",
   "mimetype": "text/x-r-source",
   "name": "R",
   "pygments_lexer": "r",
   "version": "3.6.1"
  }
 },
 "nbformat": 4,
 "nbformat_minor": 5
}
