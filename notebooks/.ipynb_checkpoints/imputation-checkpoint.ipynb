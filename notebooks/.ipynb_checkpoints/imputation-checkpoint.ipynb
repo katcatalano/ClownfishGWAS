{
 "cells": [
  {
   "cell_type": "markdown",
   "id": "b54a5b26",
   "metadata": {},
   "source": [
    "__Low depths in sequencing libraries, seen in filtering.ipynb. Impute genotypes with Beagle and use genotype probabilities for GWAS__"
   ]
  },
  {
   "cell_type": "code",
   "execution_count": null,
   "id": "b79262f4",
   "metadata": {},
   "outputs": [],
   "source": [
    "#start with a vcf filtered for MAF >1%, loci in HWE, and genotyping calls in >90% of the samples\n",
    "\n",
    "#make a .ped and .map file for use in plink\n",
    "\n",
    "#use the metadata supplied by E to populated .ped file IDs\n",
    "\n",
    "#use plink to check for mendelian errors\n",
    "\n",
    "#impute with beagle"
   ]
  },
  {
   "cell_type": "code",
   "execution_count": 9,
   "id": "4cbae583",
   "metadata": {},
   "outputs": [
    {
     "name": "stdout",
     "output_type": "stream",
     "text": [
      "\n",
      "VCFtools - 0.1.16\n",
      "(C) Adam Auton and Anthony Marcketta 2009\n",
      "\n",
      "Parameters as interpreted:\n",
      "\t--gzvcf /local/home/katrinac/ClownfishGWAS/data/APPC_sequencing/DNA/TotalRawSNPs.vcf.gz\n",
      "\t--recode-INFO-all\n",
      "\t--mac 1\n",
      "\t--maf 0.1\n",
      "\t--max-alleles 2\n",
      "\t--max-non-ref-af 1\n",
      "\t--hwe 1e-06\n",
      "\t--minQ 20\n",
      "\t--max-missing 0.9\n",
      "\t--non-ref-af 0.001\n",
      "\t--out /local/home/katrinac/ClownfishGWAS/data/APPC_sequencing/DNA/filtering/imputation/max_missing90_minQ20_maf01_hwe\n",
      "\t--recode\n",
      "\n",
      "Using zlib version: 1.2.11\n",
      "Warning: Expected at least 2 parts in INFO entry: ID=AF,Number=A,Type=Float,Description=\"Estimated allele frequency in the range (0,1]\">\n",
      "Warning: Expected at least 2 parts in INFO entry: ID=PRO,Number=1,Type=Float,Description=\"Reference allele observation count, with partial observations recorded fractionally\">\n",
      "Warning: Expected at least 2 parts in INFO entry: ID=PAO,Number=A,Type=Float,Description=\"Alternate allele observations, with partial observations recorded fractionally\">\n",
      "Warning: Expected at least 2 parts in INFO entry: ID=SRP,Number=1,Type=Float,Description=\"Strand balance probability for the reference allele: Phred-scaled upper-bounds estimate of the probability of observing the deviation between SRF and SRR given E(SRF/SRR) ~ 0.5, derived using Hoeffding's inequality\">\n",
      "Warning: Expected at least 2 parts in INFO entry: ID=SAP,Number=A,Type=Float,Description=\"Strand balance probability for the alternate allele: Phred-scaled upper-bounds estimate of the probability of observing the deviation between SAF and SAR given E(SAF/SAR) ~ 0.5, derived using Hoeffding's inequality\">\n",
      "Warning: Expected at least 2 parts in INFO entry: ID=AB,Number=A,Type=Float,Description=\"Allele balance at heterozygous sites: a number between 0 and 1 representing the ratio of reads showing the reference allele to all reads, considering only reads from individuals called as heterozygous\">\n",
      "Warning: Expected at least 2 parts in INFO entry: ID=ABP,Number=A,Type=Float,Description=\"Allele balance probability at heterozygous sites: Phred-scaled upper-bounds estimate of the probability of observing the deviation between ABR and ABA given E(ABR/ABA) ~ 0.5, derived using Hoeffding's inequality\">\n",
      "Warning: Expected at least 2 parts in INFO entry: ID=RPP,Number=A,Type=Float,Description=\"Read Placement Probability: Phred-scaled upper-bounds estimate of the probability of observing the deviation between RPL and RPR given E(RPL/RPR) ~ 0.5, derived using Hoeffding's inequality\">\n",
      "Warning: Expected at least 2 parts in INFO entry: ID=RPPR,Number=1,Type=Float,Description=\"Read Placement Probability for reference observations: Phred-scaled upper-bounds estimate of the probability of observing the deviation between RPL and RPR given E(RPL/RPR) ~ 0.5, derived using Hoeffding's inequality\">\n",
      "Warning: Expected at least 2 parts in INFO entry: ID=EPP,Number=A,Type=Float,Description=\"End Placement Probability: Phred-scaled upper-bounds estimate of the probability of observing the deviation between EL and ER given E(EL/ER) ~ 0.5, derived using Hoeffding's inequality\">\n",
      "Warning: Expected at least 2 parts in INFO entry: ID=EPPR,Number=1,Type=Float,Description=\"End Placement Probability for reference observations: Phred-scaled upper-bounds estimate of the probability of observing the deviation between EL and ER given E(EL/ER) ~ 0.5, derived using Hoeffding's inequality\">\n",
      "Warning: Expected at least 2 parts in INFO entry: ID=TYPE,Number=A,Type=String,Description=\"The type of allele, either snp, mnp, ins, del, or complex.\">\n",
      "Warning: Expected at least 2 parts in INFO entry: ID=TYPE,Number=A,Type=String,Description=\"The type of allele, either snp, mnp, ins, del, or complex.\">\n",
      "Warning: Expected at least 2 parts in INFO entry: ID=TYPE,Number=A,Type=String,Description=\"The type of allele, either snp, mnp, ins, del, or complex.\">\n",
      "Warning: Expected at least 2 parts in INFO entry: ID=TYPE,Number=A,Type=String,Description=\"The type of allele, either snp, mnp, ins, del, or complex.\">\n",
      "Warning: Expected at least 2 parts in INFO entry: ID=TYPE,Number=A,Type=String,Description=\"The type of allele, either snp, mnp, ins, del, or complex.\">\n",
      "Warning: Expected at least 2 parts in INFO entry: ID=CIGAR,Number=A,Type=String,Description=\"The extended CIGAR representation of each alternate allele, with the exception that '=' is replaced by 'M' to ease VCF parsing.  Note that INDEL alleles do not have the first matched base (which is provided by default, per the spec) referred to by the CIGAR.\">\n",
      "Warning: Expected at least 2 parts in FORMAT entry: ID=GQ,Number=1,Type=Float,Description=\"Genotype Quality, the Phred-scaled marginal (or unconditional) probability of the called genotype\">\n",
      "Warning: Expected at least 2 parts in FORMAT entry: ID=GL,Number=G,Type=Float,Description=\"Genotype Likelihood, log10-scaled likelihoods of the data given the called genotype for each possible genotype generated from the reference and alternate alleles given the sample ploidy\">\n",
      "After filtering, kept 159 out of 159 Individuals\n",
      "Outputting VCF file...\n",
      "After filtering, kept 1740 out of a possible 4144406 Sites\n",
      "Run Time = 141.00 seconds\n"
     ]
    }
   ],
   "source": [
    "#filter VCF appropriately\n",
    "\n",
    "!vcftools --gzvcf /local/home/katrinac/ClownfishGWAS/data/APPC_sequencing/DNA/TotalRawSNPs.vcf.gz --out /local/home/katrinac/ClownfishGWAS/data/APPC_sequencing/DNA/filtering/imputation/max_missing90_minQ20_maf01_hwe --max-missing 0.9 --non-ref-af 0.001 --max-non-ref-af 0.9999 --mac 1 --minQ 20 --maf 0.1 --hwe 0.000001 --recode --recode-INFO-all       "
   ]
  },
  {
   "cell_type": "code",
   "execution_count": 13,
   "id": "fc77d13d",
   "metadata": {},
   "outputs": [],
   "source": [
    "#make a chromosome map so the conversion doesn't change chromosome IDs https://www.biostars.org/p/109690/ \n",
    "!bcftools view -H /local/home/katrinac/ClownfishGWAS/data/APPC_sequencing/DNA/filtering/imputation/max_missing90_minQ20_maf01_hwe.recode.vcf | cut -f 1 | uniq | awk '{print $0\"\\t\"$0}' > /local/home/katrinac/ClownfishGWAS/data/APPC_sequencing/DNA/filtering/imputation/max_missing90_minQ20_maf01_hwe.recode.chrom-map.txt"
   ]
  },
  {
   "cell_type": "code",
   "execution_count": 14,
   "id": "205bacf2",
   "metadata": {
    "scrolled": false
   },
   "outputs": [
    {
     "name": "stdout",
     "output_type": "stream",
     "text": [
      "\n",
      "VCFtools - 0.1.16\n",
      "(C) Adam Auton and Anthony Marcketta 2009\n",
      "\n",
      "Parameters as interpreted:\n",
      "\t--vcf /local/home/katrinac/ClownfishGWAS/data/APPC_sequencing/DNA/filtering/imputation/max_missing90_minQ20_maf01_hwe.recode.vcf\n",
      "\t--chrom-map /local/home/katrinac/ClownfishGWAS/data/APPC_sequencing/DNA/filtering/imputation/max_missing90_minQ20_maf01_hwe.recode.chrom-map.txt\n",
      "\t--out /local/home/katrinac/ClownfishGWAS/data/APPC_sequencing/DNA/filtering/imputation/max_missing90_minQ20_maf01_hwe\n",
      "\t--plink\n",
      "\n",
      "Warning: Expected at least 2 parts in INFO entry: ID=AF,Number=A,Type=Float,Description=\"Estimated allele frequency in the range (0,1]\">\n",
      "Warning: Expected at least 2 parts in INFO entry: ID=PRO,Number=1,Type=Float,Description=\"Reference allele observation count, with partial observations recorded fractionally\">\n",
      "Warning: Expected at least 2 parts in INFO entry: ID=PAO,Number=A,Type=Float,Description=\"Alternate allele observations, with partial observations recorded fractionally\">\n",
      "Warning: Expected at least 2 parts in INFO entry: ID=SRP,Number=1,Type=Float,Description=\"Strand balance probability for the reference allele: Phred-scaled upper-bounds estimate of the probability of observing the deviation between SRF and SRR given E(SRF/SRR) ~ 0.5, derived using Hoeffding's inequality\">\n",
      "Warning: Expected at least 2 parts in INFO entry: ID=SAP,Number=A,Type=Float,Description=\"Strand balance probability for the alternate allele: Phred-scaled upper-bounds estimate of the probability of observing the deviation between SAF and SAR given E(SAF/SAR) ~ 0.5, derived using Hoeffding's inequality\">\n",
      "Warning: Expected at least 2 parts in INFO entry: ID=AB,Number=A,Type=Float,Description=\"Allele balance at heterozygous sites: a number between 0 and 1 representing the ratio of reads showing the reference allele to all reads, considering only reads from individuals called as heterozygous\">\n",
      "Warning: Expected at least 2 parts in INFO entry: ID=ABP,Number=A,Type=Float,Description=\"Allele balance probability at heterozygous sites: Phred-scaled upper-bounds estimate of the probability of observing the deviation between ABR and ABA given E(ABR/ABA) ~ 0.5, derived using Hoeffding's inequality\">\n",
      "Warning: Expected at least 2 parts in INFO entry: ID=RPP,Number=A,Type=Float,Description=\"Read Placement Probability: Phred-scaled upper-bounds estimate of the probability of observing the deviation between RPL and RPR given E(RPL/RPR) ~ 0.5, derived using Hoeffding's inequality\">\n",
      "Warning: Expected at least 2 parts in INFO entry: ID=RPPR,Number=1,Type=Float,Description=\"Read Placement Probability for reference observations: Phred-scaled upper-bounds estimate of the probability of observing the deviation between RPL and RPR given E(RPL/RPR) ~ 0.5, derived using Hoeffding's inequality\">\n",
      "Warning: Expected at least 2 parts in INFO entry: ID=EPP,Number=A,Type=Float,Description=\"End Placement Probability: Phred-scaled upper-bounds estimate of the probability of observing the deviation between EL and ER given E(EL/ER) ~ 0.5, derived using Hoeffding's inequality\">\n",
      "Warning: Expected at least 2 parts in INFO entry: ID=EPPR,Number=1,Type=Float,Description=\"End Placement Probability for reference observations: Phred-scaled upper-bounds estimate of the probability of observing the deviation between EL and ER given E(EL/ER) ~ 0.5, derived using Hoeffding's inequality\">\n",
      "Warning: Expected at least 2 parts in INFO entry: ID=TYPE,Number=A,Type=String,Description=\"The type of allele, either snp, mnp, ins, del, or complex.\">\n",
      "Warning: Expected at least 2 parts in INFO entry: ID=TYPE,Number=A,Type=String,Description=\"The type of allele, either snp, mnp, ins, del, or complex.\">\n",
      "Warning: Expected at least 2 parts in INFO entry: ID=TYPE,Number=A,Type=String,Description=\"The type of allele, either snp, mnp, ins, del, or complex.\">\n",
      "Warning: Expected at least 2 parts in INFO entry: ID=TYPE,Number=A,Type=String,Description=\"The type of allele, either snp, mnp, ins, del, or complex.\">\n",
      "Warning: Expected at least 2 parts in INFO entry: ID=TYPE,Number=A,Type=String,Description=\"The type of allele, either snp, mnp, ins, del, or complex.\">\n",
      "Warning: Expected at least 2 parts in INFO entry: ID=CIGAR,Number=A,Type=String,Description=\"The extended CIGAR representation of each alternate allele, with the exception that '=' is replaced by 'M' to ease VCF parsing.  Note that INDEL alleles do not have the first matched base (which is provided by default, per the spec) referred to by the CIGAR.\">\n",
      "Warning: Expected at least 2 parts in FORMAT entry: ID=GQ,Number=1,Type=Float,Description=\"Genotype Quality, the Phred-scaled marginal (or unconditional) probability of the called genotype\">\n",
      "Warning: Expected at least 2 parts in FORMAT entry: ID=GL,Number=G,Type=Float,Description=\"Genotype Likelihood, log10-scaled likelihoods of the data given the called genotype for each possible genotype generated from the reference and alternate alleles given the sample ploidy\">\n",
      "After filtering, kept 159 out of 159 Individuals\n",
      "Writing PLINK PED and MAP files ... \n",
      "\tRead 41 chromosome mapping file entries.\n",
      "Done.\n",
      "After filtering, kept 1740 out of a possible 1740 Sites\n",
      "Run Time = 0.00 seconds\n"
     ]
    }
   ],
   "source": [
    "#get into plink format\n",
    "!vcftools --vcf /local/home/katrinac/ClownfishGWAS/data/APPC_sequencing/DNA/filtering/imputation/max_missing90_minQ20_maf01_hwe.recode.vcf --plink --chrom-map /local/home/katrinac/ClownfishGWAS/data/APPC_sequencing/DNA/filtering/imputation/max_missing90_minQ20_maf01_hwe.recode.chrom-map.txt --out /local/home/katrinac/ClownfishGWAS/data/APPC_sequencing/DNA/filtering/imputation/max_missing90_minQ20_maf01_hwe       "
   ]
  },
  {
   "cell_type": "code",
   "execution_count": 16,
   "id": "2ec3e9ab",
   "metadata": {},
   "outputs": [
    {
     "name": "stdout",
     "output_type": "stream",
     "text": [
      "PLINK v1.90b6.21 64-bit (19 Oct 2020)          www.cog-genomics.org/plink/1.9/\n",
      "(C) 2005-2020 Shaun Purcell, Christopher Chang   GNU General Public License v3\n",
      "Logging to /local/home/katrinac/ClownfishGWAS/data/APPC_sequencing/DNA/filtering/imputation/max_missing90_minQ20_maf01_hwe.log.\n",
      "Options in effect:\n",
      "  --allow-extra-chr\n",
      "  --file /local/home/katrinac/ClownfishGWAS/data/APPC_sequencing/DNA/filtering/imputation/max_missing90_minQ20_maf01_hwe\n",
      "  --make-bed\n",
      "  --out /local/home/katrinac/ClownfishGWAS/data/APPC_sequencing/DNA/filtering/imputation/max_missing90_minQ20_maf01_hwe\n",
      "\n",
      "515706 MB RAM detected; reserving 257853 MB for main workspace.\n",
      "Possibly irregular .ped line.  Restarting scan, assuming multichar alleles.\n",
      ".ped scan complete (for binary autoconversion).617181819202021222223232425252627272829293030313232333434353636373738393940414142434344444546464748484950505151525353545555565657585859606061616263636465656666676868697070717272737474757576777778797980808182828384848586868787888989909191929393949495969697989899100%\n",
      "Performing single-pass .bed write (1740 variants, 159 people).\n",
      "--file:3141516171819202122232425262728293031323334353637383940414243444546474849505152535455565758596061626364656667686970717273747576777879808182838485868788899091929394%\n",
      "/local/home/katrinac/ClownfishGWAS/data/APPC_sequencing/DNA/filtering/imputation/max_missing90_minQ20_maf01_hwe-temporary.bed\n",
      "+\n",
      "/local/home/katrinac/ClownfishGWAS/data/APPC_sequencing/DNA/filtering/imputation/max_missing90_minQ20_maf01_hwe-temporary.bim\n",
      "+\n",
      "/local/home/katrinac/ClownfishGWAS/data/APPC_sequencing/DNA/filtering/imputation/max_missing90_minQ20_maf01_hwe-temporary.fam\n",
      "written.\n",
      "1740 variants loaded from .bim file.\n",
      "159 people (0 males, 0 females, 159 ambiguous) loaded from .fam.\n",
      "Ambiguous sex IDs written to\n",
      "/local/home/katrinac/ClownfishGWAS/data/APPC_sequencing/DNA/filtering/imputation/max_missing90_minQ20_maf01_hwe.nosex\n",
      ".\n",
      "Using 1 thread (no multithreaded calculations invoked).\n",
      "Before main variant filters, 159 founders and 0 nonfounders present.\n",
      "Calculating allele frequencies... 10111213141516171819202122232425262728293031323334353637383940414243444546474849505152535455565758596061626364656667686970717273747576777879808182838485868788899091929394959697989 done.\n",
      "Total genotyping rate is 0.880319.\n",
      "1740 variants and 159 people pass filters and QC.\n",
      "Note: No phenotypes present.\n",
      "--make-bed to\n",
      "/local/home/katrinac/ClownfishGWAS/data/APPC_sequencing/DNA/filtering/imputation/max_missing90_minQ20_maf01_hwe.bed\n",
      "+\n",
      "/local/home/katrinac/ClownfishGWAS/data/APPC_sequencing/DNA/filtering/imputation/max_missing90_minQ20_maf01_hwe.bim\n",
      "+\n",
      "/local/home/katrinac/ClownfishGWAS/data/APPC_sequencing/DNA/filtering/imputation/max_missing90_minQ20_maf01_hwe.fam\n",
      "... 101112131415161718192021222324252627282930313233343536373839404142434445464748495051525354555657585960616263646566676869707172737475767778798081828384858687888990919293949596979899done.\n"
     ]
    }
   ],
   "source": [
    "!plink --file /local/home/katrinac/ClownfishGWAS/data/APPC_sequencing/DNA/filtering/imputation/max_missing90_minQ20_maf01_hwe --make-bed --allow-extra-chr --out /local/home/katrinac/ClownfishGWAS/data/APPC_sequencing/DNA/filtering/imputation/max_missing90_minQ20_maf01_hwe"
   ]
  },
  {
   "cell_type": "code",
   "execution_count": null,
   "id": "8f4b4317",
   "metadata": {},
   "outputs": [],
   "source": []
  },
  {
   "cell_type": "code",
   "execution_count": null,
   "id": "17540fb7",
   "metadata": {},
   "outputs": [],
   "source": []
  },
  {
   "cell_type": "code",
   "execution_count": null,
   "id": "1d732ee7",
   "metadata": {},
   "outputs": [],
   "source": []
  },
  {
   "cell_type": "code",
   "execution_count": null,
   "id": "39a642a5",
   "metadata": {},
   "outputs": [],
   "source": []
  },
  {
   "cell_type": "code",
   "execution_count": null,
   "id": "3f828847",
   "metadata": {},
   "outputs": [],
   "source": []
  }
 ],
 "metadata": {
  "kernelspec": {
   "display_name": "Python 3",
   "language": "python",
   "name": "python3"
  },
  "language_info": {
   "codemirror_mode": {
    "name": "ipython",
    "version": 3
   },
   "file_extension": ".py",
   "mimetype": "text/x-python",
   "name": "python",
   "nbconvert_exporter": "python",
   "pygments_lexer": "ipython3",
   "version": "3.7.3"
  }
 },
 "nbformat": 4,
 "nbformat_minor": 5
}
